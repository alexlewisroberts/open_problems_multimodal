{
 "cells": [
  {
   "cell_type": "code",
   "execution_count": 24,
   "id": "7df41a18-513b-4143-9b64-3f4142b86fd4",
   "metadata": {
    "execution": {
     "iopub.execute_input": "2022-11-07T18:21:28.951697Z",
     "iopub.status.busy": "2022-11-07T18:21:28.951321Z",
     "iopub.status.idle": "2022-11-07T18:21:28.955453Z",
     "shell.execute_reply": "2022-11-07T18:21:28.954903Z",
     "shell.execute_reply.started": "2022-11-07T18:21:28.951669Z"
    }
   },
   "outputs": [],
   "source": [
    "def correlation_score(y_true, y_pred):\n",
    "    corrsum = 0\n",
    "    for i in range(y_true.shape[0]):\n",
    "        corrsum += np.corrcoef(y_true[i], y_pred[i])[1, 0]\n",
    "    return corrsum / len(y_true)"
   ]
  },
  {
   "cell_type": "code",
   "execution_count": 2,
   "id": "0d80e091-9efe-46aa-b030-930e37513d6d",
   "metadata": {
    "execution": {
     "iopub.execute_input": "2022-11-07T18:12:17.039454Z",
     "iopub.status.busy": "2022-11-07T18:12:17.039041Z",
     "iopub.status.idle": "2022-11-07T18:12:17.045677Z",
     "shell.execute_reply": "2022-11-07T18:12:17.045179Z",
     "shell.execute_reply.started": "2022-11-07T18:12:17.039431Z"
    },
    "tags": []
   },
   "outputs": [],
   "source": [
    "LR_START = 0.01\n",
    "BATCH_SIZE = 512\n",
    "\n",
    "def create_model():\n",
    "    \n",
    "    reg1 = 9.613e-06\n",
    "    reg2 = 1e-07\n",
    "    REG1 = tf.keras.regularizers.l2(reg1)\n",
    "    REG2 = tf.keras.regularizers.l2(reg2)\n",
    "    DROP = 0.1\n",
    "\n",
    "    activation = 'selu'\n",
    "    inputs = Input(shape =(X.shape[1],))\n",
    "\n",
    "    x0 = Dense(512, \n",
    "              kernel_regularizer = REG1,\n",
    "              activation = activation,\n",
    "             )(inputs)\n",
    "    x0 = Dropout(DROP)(x0)\n",
    "    \n",
    "    \n",
    "    x1 = Dense(1024, \n",
    "               kernel_regularizer = REG1,\n",
    "               activation = activation,\n",
    "             )(x0)\n",
    "    x1 = Dropout(DROP)(x1)\n",
    "    \n",
    "    \n",
    "    x2 = Dense(1024, \n",
    "               kernel_regularizer = REG1,\n",
    "               activation = activation,\n",
    "             )(x1) \n",
    "    x2= Dropout(DROP)(x2)\n",
    "    \n",
    "    x3 = Dense(Y.shape[1],\n",
    "               kernel_regularizer = REG1,\n",
    "               activation = activation,\n",
    "             )(x2)\n",
    "    x3 = Dropout(DROP)(x3)\n",
    "\n",
    "         \n",
    "    x = Concatenate()([\n",
    "                x0, \n",
    "                x1, \n",
    "                x2, \n",
    "                x3\n",
    "                ])\n",
    "    \n",
    "    x = Dense(Y.shape[1], \n",
    "                kernel_regularizer = REG2,\n",
    "                activation='linear',\n",
    "                )(x)\n",
    "    \n",
    "    \n",
    "    model = Model(inputs, x)\n",
    "    \n",
    "\n",
    "    return model"
   ]
  },
  {
   "cell_type": "code",
   "execution_count": 10,
   "id": "6b08534f-a29d-4173-aefc-f96c55d10bb0",
   "metadata": {
    "execution": {
     "iopub.execute_input": "2022-11-06T23:31:14.492729Z",
     "iopub.status.busy": "2022-11-06T23:31:14.492319Z",
     "iopub.status.idle": "2022-11-06T23:31:41.730337Z",
     "shell.execute_reply": "2022-11-06T23:31:41.729709Z",
     "shell.execute_reply.started": "2022-11-06T23:31:14.492704Z"
    },
    "tags": []
   },
   "outputs": [],
   "source": [
    "X = scipy.sparse.load_npz('../sparse/train_cite_inputs_values.sparse.npz')\n",
    "X[X != 0] = 1"
   ]
  },
  {
   "cell_type": "code",
   "execution_count": 13,
   "id": "b4467a90-d8d3-40b3-9878-26fe744b2d12",
   "metadata": {
    "execution": {
     "iopub.execute_input": "2022-11-06T23:33:20.875408Z",
     "iopub.status.busy": "2022-11-06T23:33:20.875015Z",
     "iopub.status.idle": "2022-11-06T23:37:13.181932Z",
     "shell.execute_reply": "2022-11-06T23:37:13.181300Z",
     "shell.execute_reply.started": "2022-11-06T23:33:20.875383Z"
    }
   },
   "outputs": [],
   "source": [
    "svd_x = TruncatedSVD(n_components = 128)\n",
    "X = svd_x.fit_transform(X)"
   ]
  },
  {
   "cell_type": "code",
   "execution_count": 14,
   "id": "8f493911-2bb9-4cb4-b94f-29be60b460d8",
   "metadata": {
    "execution": {
     "iopub.execute_input": "2022-11-06T23:39:29.544964Z",
     "iopub.status.busy": "2022-11-06T23:39:29.544566Z",
     "iopub.status.idle": "2022-11-06T23:39:29.547979Z",
     "shell.execute_reply": "2022-11-06T23:39:29.547449Z",
     "shell.execute_reply.started": "2022-11-06T23:39:29.544939Z"
    }
   },
   "outputs": [],
   "source": [
    "X_copy = X"
   ]
  },
  {
   "cell_type": "code",
   "execution_count": 25,
   "id": "3e6121af-ebd7-4a9a-99c4-17163bf5c12a",
   "metadata": {
    "execution": {
     "iopub.execute_input": "2022-11-07T00:34:48.800017Z",
     "iopub.status.busy": "2022-11-07T00:34:48.799635Z",
     "iopub.status.idle": "2022-11-07T00:34:57.921451Z",
     "shell.execute_reply": "2022-11-07T00:34:57.920596Z",
     "shell.execute_reply.started": "2022-11-07T00:34:48.799988Z"
    },
    "tags": []
   },
   "outputs": [
    {
     "ename": "KeyboardInterrupt",
     "evalue": "",
     "output_type": "error",
     "traceback": [
      "\u001b[0;31m---------------------------------------------------------------------------\u001b[0m",
      "\u001b[0;31mKeyboardInterrupt\u001b[0m                         Traceback (most recent call last)",
      "Input \u001b[0;32mIn [25]\u001b[0m, in \u001b[0;36m<cell line: 1>\u001b[0;34m()\u001b[0m\n\u001b[0;32m----> 1\u001b[0m targets \u001b[38;5;241m=\u001b[39m \u001b[43mscipy\u001b[49m\u001b[38;5;241;43m.\u001b[39;49m\u001b[43msparse\u001b[49m\u001b[38;5;241;43m.\u001b[39;49m\u001b[43mload_npz\u001b[49m\u001b[43m(\u001b[49m\u001b[38;5;124;43m\"\u001b[39;49m\u001b[38;5;124;43m../sparse/train_multi_targets_values.sparse.npz\u001b[39;49m\u001b[38;5;124;43m\"\u001b[39;49m\u001b[43m)\u001b[49m\n\u001b[1;32m      2\u001b[0m targets \u001b[38;5;241m=\u001b[39m targets\n\u001b[1;32m      3\u001b[0m targets \u001b[38;5;241m=\u001b[39m scprep\u001b[38;5;241m.\u001b[39mfilter\u001b[38;5;241m.\u001b[39mremove_empty_genes(targets)\n",
      "File \u001b[0;32m/srv/conda/envs/saturn/lib/python3.9/site-packages/scipy/sparse/_matrix_io.py:142\u001b[0m, in \u001b[0;36mload_npz\u001b[0;34m(file)\u001b[0m\n\u001b[1;32m    139\u001b[0m     \u001b[38;5;28;01mraise\u001b[39;00m \u001b[38;5;167;01mValueError\u001b[39;00m(\u001b[38;5;124m'\u001b[39m\u001b[38;5;124mUnknown matrix format \u001b[39m\u001b[38;5;124m\"\u001b[39m\u001b[38;5;132;01m{}\u001b[39;00m\u001b[38;5;124m\"\u001b[39m\u001b[38;5;124m'\u001b[39m\u001b[38;5;241m.\u001b[39mformat(matrix_format)) \u001b[38;5;28;01mfrom\u001b[39;00m \u001b[38;5;21;01me\u001b[39;00m\n\u001b[1;32m    141\u001b[0m \u001b[38;5;28;01mif\u001b[39;00m matrix_format \u001b[38;5;129;01min\u001b[39;00m (\u001b[38;5;124m'\u001b[39m\u001b[38;5;124mcsc\u001b[39m\u001b[38;5;124m'\u001b[39m, \u001b[38;5;124m'\u001b[39m\u001b[38;5;124mcsr\u001b[39m\u001b[38;5;124m'\u001b[39m, \u001b[38;5;124m'\u001b[39m\u001b[38;5;124mbsr\u001b[39m\u001b[38;5;124m'\u001b[39m):\n\u001b[0;32m--> 142\u001b[0m     \u001b[38;5;28;01mreturn\u001b[39;00m \u001b[38;5;28mcls\u001b[39m((loaded[\u001b[38;5;124m'\u001b[39m\u001b[38;5;124mdata\u001b[39m\u001b[38;5;124m'\u001b[39m], \u001b[43mloaded\u001b[49m\u001b[43m[\u001b[49m\u001b[38;5;124;43m'\u001b[39;49m\u001b[38;5;124;43mindices\u001b[39;49m\u001b[38;5;124;43m'\u001b[39;49m\u001b[43m]\u001b[49m, loaded[\u001b[38;5;124m'\u001b[39m\u001b[38;5;124mindptr\u001b[39m\u001b[38;5;124m'\u001b[39m]), shape\u001b[38;5;241m=\u001b[39mloaded[\u001b[38;5;124m'\u001b[39m\u001b[38;5;124mshape\u001b[39m\u001b[38;5;124m'\u001b[39m])\n\u001b[1;32m    143\u001b[0m \u001b[38;5;28;01melif\u001b[39;00m matrix_format \u001b[38;5;241m==\u001b[39m \u001b[38;5;124m'\u001b[39m\u001b[38;5;124mdia\u001b[39m\u001b[38;5;124m'\u001b[39m:\n\u001b[1;32m    144\u001b[0m     \u001b[38;5;28;01mreturn\u001b[39;00m \u001b[38;5;28mcls\u001b[39m((loaded[\u001b[38;5;124m'\u001b[39m\u001b[38;5;124mdata\u001b[39m\u001b[38;5;124m'\u001b[39m], loaded[\u001b[38;5;124m'\u001b[39m\u001b[38;5;124moffsets\u001b[39m\u001b[38;5;124m'\u001b[39m]), shape\u001b[38;5;241m=\u001b[39mloaded[\u001b[38;5;124m'\u001b[39m\u001b[38;5;124mshape\u001b[39m\u001b[38;5;124m'\u001b[39m])\n",
      "File \u001b[0;32m/srv/conda/envs/saturn/lib/python3.9/site-packages/numpy/lib/npyio.py:245\u001b[0m, in \u001b[0;36mNpzFile.__getitem__\u001b[0;34m(self, key)\u001b[0m\n\u001b[1;32m    243\u001b[0m \u001b[38;5;28;01mif\u001b[39;00m magic \u001b[38;5;241m==\u001b[39m \u001b[38;5;28mformat\u001b[39m\u001b[38;5;241m.\u001b[39mMAGIC_PREFIX:\n\u001b[1;32m    244\u001b[0m     \u001b[38;5;28mbytes\u001b[39m \u001b[38;5;241m=\u001b[39m \u001b[38;5;28mself\u001b[39m\u001b[38;5;241m.\u001b[39mzip\u001b[38;5;241m.\u001b[39mopen(key)\n\u001b[0;32m--> 245\u001b[0m     \u001b[38;5;28;01mreturn\u001b[39;00m \u001b[38;5;28;43mformat\u001b[39;49m\u001b[38;5;241;43m.\u001b[39;49m\u001b[43mread_array\u001b[49m\u001b[43m(\u001b[49m\u001b[38;5;28;43mbytes\u001b[39;49m\u001b[43m,\u001b[49m\n\u001b[1;32m    246\u001b[0m \u001b[43m                             \u001b[49m\u001b[43mallow_pickle\u001b[49m\u001b[38;5;241;43m=\u001b[39;49m\u001b[38;5;28;43mself\u001b[39;49m\u001b[38;5;241;43m.\u001b[39;49m\u001b[43mallow_pickle\u001b[49m\u001b[43m,\u001b[49m\n\u001b[1;32m    247\u001b[0m \u001b[43m                             \u001b[49m\u001b[43mpickle_kwargs\u001b[49m\u001b[38;5;241;43m=\u001b[39;49m\u001b[38;5;28;43mself\u001b[39;49m\u001b[38;5;241;43m.\u001b[39;49m\u001b[43mpickle_kwargs\u001b[49m\u001b[43m)\u001b[49m\n\u001b[1;32m    248\u001b[0m \u001b[38;5;28;01melse\u001b[39;00m:\n\u001b[1;32m    249\u001b[0m     \u001b[38;5;28;01mreturn\u001b[39;00m \u001b[38;5;28mself\u001b[39m\u001b[38;5;241m.\u001b[39mzip\u001b[38;5;241m.\u001b[39mread(key)\n",
      "File \u001b[0;32m/srv/conda/envs/saturn/lib/python3.9/site-packages/numpy/lib/format.py:777\u001b[0m, in \u001b[0;36mread_array\u001b[0;34m(fp, allow_pickle, pickle_kwargs)\u001b[0m\n\u001b[1;32m    775\u001b[0m             read_count \u001b[38;5;241m=\u001b[39m \u001b[38;5;28mmin\u001b[39m(max_read_count, count \u001b[38;5;241m-\u001b[39m i)\n\u001b[1;32m    776\u001b[0m             read_size \u001b[38;5;241m=\u001b[39m \u001b[38;5;28mint\u001b[39m(read_count \u001b[38;5;241m*\u001b[39m dtype\u001b[38;5;241m.\u001b[39mitemsize)\n\u001b[0;32m--> 777\u001b[0m             data \u001b[38;5;241m=\u001b[39m \u001b[43m_read_bytes\u001b[49m\u001b[43m(\u001b[49m\u001b[43mfp\u001b[49m\u001b[43m,\u001b[49m\u001b[43m \u001b[49m\u001b[43mread_size\u001b[49m\u001b[43m,\u001b[49m\u001b[43m \u001b[49m\u001b[38;5;124;43m\"\u001b[39;49m\u001b[38;5;124;43marray data\u001b[39;49m\u001b[38;5;124;43m\"\u001b[39;49m\u001b[43m)\u001b[49m\n\u001b[1;32m    778\u001b[0m             array[i:i\u001b[38;5;241m+\u001b[39mread_count] \u001b[38;5;241m=\u001b[39m numpy\u001b[38;5;241m.\u001b[39mfrombuffer(data, dtype\u001b[38;5;241m=\u001b[39mdtype,\n\u001b[1;32m    779\u001b[0m                                                      count\u001b[38;5;241m=\u001b[39mread_count)\n\u001b[1;32m    781\u001b[0m \u001b[38;5;28;01mif\u001b[39;00m fortran_order:\n",
      "File \u001b[0;32m/srv/conda/envs/saturn/lib/python3.9/site-packages/numpy/lib/format.py:906\u001b[0m, in \u001b[0;36m_read_bytes\u001b[0;34m(fp, size, error_template)\u001b[0m\n\u001b[1;32m    901\u001b[0m \u001b[38;5;28;01mwhile\u001b[39;00m \u001b[38;5;28;01mTrue\u001b[39;00m:\n\u001b[1;32m    902\u001b[0m     \u001b[38;5;66;03m# io files (default in python3) return None or raise on\u001b[39;00m\n\u001b[1;32m    903\u001b[0m     \u001b[38;5;66;03m# would-block, python2 file will truncate, probably nothing can be\u001b[39;00m\n\u001b[1;32m    904\u001b[0m     \u001b[38;5;66;03m# done about that.  note that regular files can't be non-blocking\u001b[39;00m\n\u001b[1;32m    905\u001b[0m     \u001b[38;5;28;01mtry\u001b[39;00m:\n\u001b[0;32m--> 906\u001b[0m         r \u001b[38;5;241m=\u001b[39m \u001b[43mfp\u001b[49m\u001b[38;5;241;43m.\u001b[39;49m\u001b[43mread\u001b[49m\u001b[43m(\u001b[49m\u001b[43msize\u001b[49m\u001b[43m \u001b[49m\u001b[38;5;241;43m-\u001b[39;49m\u001b[43m \u001b[49m\u001b[38;5;28;43mlen\u001b[39;49m\u001b[43m(\u001b[49m\u001b[43mdata\u001b[49m\u001b[43m)\u001b[49m\u001b[43m)\u001b[49m\n\u001b[1;32m    907\u001b[0m         data \u001b[38;5;241m+\u001b[39m\u001b[38;5;241m=\u001b[39m r\n\u001b[1;32m    908\u001b[0m         \u001b[38;5;28;01mif\u001b[39;00m \u001b[38;5;28mlen\u001b[39m(r) \u001b[38;5;241m==\u001b[39m \u001b[38;5;241m0\u001b[39m \u001b[38;5;129;01mor\u001b[39;00m \u001b[38;5;28mlen\u001b[39m(data) \u001b[38;5;241m==\u001b[39m size:\n",
      "File \u001b[0;32m/srv/conda/envs/saturn/lib/python3.9/zipfile.py:924\u001b[0m, in \u001b[0;36mZipExtFile.read\u001b[0;34m(self, n)\u001b[0m\n\u001b[1;32m    922\u001b[0m \u001b[38;5;28mself\u001b[39m\u001b[38;5;241m.\u001b[39m_offset \u001b[38;5;241m=\u001b[39m \u001b[38;5;241m0\u001b[39m\n\u001b[1;32m    923\u001b[0m \u001b[38;5;28;01mwhile\u001b[39;00m n \u001b[38;5;241m>\u001b[39m \u001b[38;5;241m0\u001b[39m \u001b[38;5;129;01mand\u001b[39;00m \u001b[38;5;129;01mnot\u001b[39;00m \u001b[38;5;28mself\u001b[39m\u001b[38;5;241m.\u001b[39m_eof:\n\u001b[0;32m--> 924\u001b[0m     data \u001b[38;5;241m=\u001b[39m \u001b[38;5;28;43mself\u001b[39;49m\u001b[38;5;241;43m.\u001b[39;49m\u001b[43m_read1\u001b[49m\u001b[43m(\u001b[49m\u001b[43mn\u001b[49m\u001b[43m)\u001b[49m\n\u001b[1;32m    925\u001b[0m     \u001b[38;5;28;01mif\u001b[39;00m n \u001b[38;5;241m<\u001b[39m \u001b[38;5;28mlen\u001b[39m(data):\n\u001b[1;32m    926\u001b[0m         \u001b[38;5;28mself\u001b[39m\u001b[38;5;241m.\u001b[39m_readbuffer \u001b[38;5;241m=\u001b[39m data\n",
      "File \u001b[0;32m/srv/conda/envs/saturn/lib/python3.9/zipfile.py:1014\u001b[0m, in \u001b[0;36mZipExtFile._read1\u001b[0;34m(self, n)\u001b[0m\n\u001b[1;32m   1012\u001b[0m \u001b[38;5;28;01mif\u001b[39;00m \u001b[38;5;28mself\u001b[39m\u001b[38;5;241m.\u001b[39m_left \u001b[38;5;241m<\u001b[39m\u001b[38;5;241m=\u001b[39m \u001b[38;5;241m0\u001b[39m:\n\u001b[1;32m   1013\u001b[0m     \u001b[38;5;28mself\u001b[39m\u001b[38;5;241m.\u001b[39m_eof \u001b[38;5;241m=\u001b[39m \u001b[38;5;28;01mTrue\u001b[39;00m\n\u001b[0;32m-> 1014\u001b[0m \u001b[38;5;28;43mself\u001b[39;49m\u001b[38;5;241;43m.\u001b[39;49m\u001b[43m_update_crc\u001b[49m\u001b[43m(\u001b[49m\u001b[43mdata\u001b[49m\u001b[43m)\u001b[49m\n\u001b[1;32m   1015\u001b[0m \u001b[38;5;28;01mreturn\u001b[39;00m data\n",
      "File \u001b[0;32m/srv/conda/envs/saturn/lib/python3.9/zipfile.py:939\u001b[0m, in \u001b[0;36mZipExtFile._update_crc\u001b[0;34m(self, newdata)\u001b[0m\n\u001b[1;32m    936\u001b[0m \u001b[38;5;28;01mif\u001b[39;00m \u001b[38;5;28mself\u001b[39m\u001b[38;5;241m.\u001b[39m_expected_crc \u001b[38;5;129;01mis\u001b[39;00m \u001b[38;5;28;01mNone\u001b[39;00m:\n\u001b[1;32m    937\u001b[0m     \u001b[38;5;66;03m# No need to compute the CRC if we don't have a reference value\u001b[39;00m\n\u001b[1;32m    938\u001b[0m     \u001b[38;5;28;01mreturn\u001b[39;00m\n\u001b[0;32m--> 939\u001b[0m \u001b[38;5;28mself\u001b[39m\u001b[38;5;241m.\u001b[39m_running_crc \u001b[38;5;241m=\u001b[39m \u001b[43mcrc32\u001b[49m\u001b[43m(\u001b[49m\u001b[43mnewdata\u001b[49m\u001b[43m,\u001b[49m\u001b[43m \u001b[49m\u001b[38;5;28;43mself\u001b[39;49m\u001b[38;5;241;43m.\u001b[39;49m\u001b[43m_running_crc\u001b[49m\u001b[43m)\u001b[49m\n\u001b[1;32m    940\u001b[0m \u001b[38;5;66;03m# Check the CRC if we're at the end of the file\u001b[39;00m\n\u001b[1;32m    941\u001b[0m \u001b[38;5;28;01mif\u001b[39;00m \u001b[38;5;28mself\u001b[39m\u001b[38;5;241m.\u001b[39m_eof \u001b[38;5;129;01mand\u001b[39;00m \u001b[38;5;28mself\u001b[39m\u001b[38;5;241m.\u001b[39m_running_crc \u001b[38;5;241m!=\u001b[39m \u001b[38;5;28mself\u001b[39m\u001b[38;5;241m.\u001b[39m_expected_crc:\n",
      "\u001b[0;31mKeyboardInterrupt\u001b[0m: "
     ]
    }
   ],
   "source": [
    "targets = scipy.sparse.load_npz(\"../sparse/train_multi_targets_values.sparse.npz\")\n",
    "targets = targets\n",
    "targets = scprep.filter.remove_empty_genes(targets)\n",
    "# Normalize the targets row-wise: This doesn't change the correlations,\n",
    "# and negative_correlation_loss depends on it\n",
    "targets -= targets.mean(axis=1).reshape(-1, 1)\n",
    "targets /= targets.std(axis=1).reshape(-1, 1)\n",
    "targets = np.array(targets)\n",
    "svd = TruncatedSVD(n_components = 512,random_state = 1)\n",
    "Y = svd.fit_transform(targets)\n",
    "with np.load('../sparse/train_multi_inputs_idxcol.npz',allow_pickle=True) as data:\n",
    "    cell_index = data['index']\n",
    "with np.load('../sparse/test_multi_inputs_idxcol.npz',allow_pickle=True) as data:\n",
    "    cell_index_t = data['index']\n",
    "metadata_df = pd.read_csv('../../input/open-problems-multimodal/metadata.csv', index_col='cell_id')\n",
    "metadata_df = metadata_df[metadata_df.technology==\"multiome\"]\n",
    "meta = metadata_df.reindex(cell_index)"
   ]
  },
  {
   "cell_type": "code",
   "execution_count": 8,
   "id": "366dde3d-692f-43b4-9b49-29c8d73167e2",
   "metadata": {
    "execution": {
     "iopub.execute_input": "2022-11-07T18:14:37.436179Z",
     "iopub.status.busy": "2022-11-07T18:14:37.435796Z",
     "iopub.status.idle": "2022-11-07T18:14:37.496361Z",
     "shell.execute_reply": "2022-11-07T18:14:37.495738Z",
     "shell.execute_reply.started": "2022-11-07T18:14:37.436155Z"
    },
    "tags": []
   },
   "outputs": [],
   "source": [
    "inputs_both_128 = np.load(\"../multi_pca/inputs_both_128.npy\")\n",
    "X = inputs_both_128[:targets_copy.shape[0],:40]"
   ]
  },
  {
   "cell_type": "code",
   "execution_count": 16,
   "id": "c03ae096-9836-4b86-8781-760ff6ff80e3",
   "metadata": {
    "execution": {
     "iopub.execute_input": "2022-11-06T23:41:03.017964Z",
     "iopub.status.busy": "2022-11-06T23:41:03.017565Z",
     "iopub.status.idle": "2022-11-06T23:41:03.021110Z",
     "shell.execute_reply": "2022-11-06T23:41:03.020558Z",
     "shell.execute_reply.started": "2022-11-06T23:41:03.017939Z"
    }
   },
   "outputs": [],
   "source": [
    "targets_copy = targets"
   ]
  },
  {
   "cell_type": "code",
   "execution_count": 10,
   "id": "29a8ca97-8c68-49c0-9cfb-757426476230",
   "metadata": {
    "execution": {
     "iopub.execute_input": "2022-11-07T18:15:26.040905Z",
     "iopub.status.busy": "2022-11-07T18:15:26.040525Z",
     "iopub.status.idle": "2022-11-07T18:16:13.214680Z",
     "shell.execute_reply": "2022-11-07T18:16:13.213928Z",
     "shell.execute_reply.started": "2022-11-07T18:15:26.040881Z"
    },
    "tags": []
   },
   "outputs": [
    {
     "name": "stdout",
     "output_type": "stream",
     "text": [
      "(1000, 40)\n",
      "(1000, 64)\n",
      "(1000, 23418)\n"
     ]
    }
   ],
   "source": [
    "meta['range'] = range(len(meta))\n",
    "day7_donor1 = meta.loc[(meta.day == 7)&(meta.donor == 32606)].range.values\n",
    "day4_donor1 = meta.loc[(meta.day == 4)&(meta.donor == 32606)].range.values\n",
    "X_tr = X[day4_donor1][:1000,:40]\n",
    "X_va = X[day7_donor1][:1000,:40]\n",
    "svd = TruncatedSVD(n_components = 512,random_state = 1)\n",
    "svd.fit(targets_copy[day7_donor1])\n",
    "y_tr = svd.transform(targets_copy[day4_donor1][:1000])[:,:64]\n",
    "y_va = svd.transform(targets_copy[day7_donor1][:1000])[:,:64]\n",
    "targets = targets_copy[day7_donor1][:1000]\n",
    "print(X_tr.shape)\n",
    "print(y_va.shape)\n",
    "print(targets.shape)\n",
    "Y = y_tr\n",
    "X = X_tr"
   ]
  },
  {
   "cell_type": "code",
   "execution_count": 14,
   "id": "03ec4af6-f0a6-4222-bee5-4701dd607f1a",
   "metadata": {
    "execution": {
     "iopub.execute_input": "2022-11-07T18:17:17.421225Z",
     "iopub.status.busy": "2022-11-07T18:17:17.420823Z",
     "iopub.status.idle": "2022-11-07T18:17:17.425332Z",
     "shell.execute_reply": "2022-11-07T18:17:17.424816Z",
     "shell.execute_reply.started": "2022-11-07T18:17:17.421198Z"
    },
    "tags": []
   },
   "outputs": [
    {
     "data": {
      "text/plain": [
       "(1000, 23418)"
      ]
     },
     "execution_count": 14,
     "metadata": {},
     "output_type": "execute_result"
    }
   ],
   "source": [
    "(targets).shape"
   ]
  },
  {
   "cell_type": "code",
   "execution_count": 25,
   "id": "c6775dcf-b2d9-4b3f-9f3e-14ac2beadc37",
   "metadata": {
    "execution": {
     "iopub.execute_input": "2022-11-07T18:21:34.901074Z",
     "iopub.status.busy": "2022-11-07T18:21:34.900701Z",
     "iopub.status.idle": "2022-11-07T18:21:35.451683Z",
     "shell.execute_reply": "2022-11-07T18:21:35.451096Z",
     "shell.execute_reply.started": "2022-11-07T18:21:34.901045Z"
    },
    "tags": []
   },
   "outputs": [
    {
     "name": "stdout",
     "output_type": "stream",
     "text": [
      "32/32 [==============================] - 0s 2ms/step\n"
     ]
    },
    {
     "data": {
      "text/plain": [
       "0.6115472329332223"
      ]
     },
     "execution_count": 25,
     "metadata": {},
     "output_type": "execute_result"
    }
   ],
   "source": [
    "y_va_pred = model.predict(X_va)\n",
    "correlation_score(targets.toarray(),y_va_pred@svd.components_[:64])"
   ]
  },
  {
   "cell_type": "code",
   "execution_count": 11,
   "id": "8406a7aa-0e8c-4ea2-9e5d-8014cfdaceec",
   "metadata": {
    "execution": {
     "iopub.execute_input": "2022-11-07T18:16:18.864757Z",
     "iopub.status.busy": "2022-11-07T18:16:18.864381Z",
     "iopub.status.idle": "2022-11-07T18:16:26.821110Z",
     "shell.execute_reply": "2022-11-07T18:16:26.820364Z",
     "shell.execute_reply.started": "2022-11-07T18:16:18.864733Z"
    },
    "tags": []
   },
   "outputs": [
    {
     "name": "stdout",
     "output_type": "stream",
     "text": [
      "32/32 [==============================] - 0s 2ms/step\n"
     ]
    },
    {
     "ename": "ValueError",
     "evalue": "all the input array dimensions for the concatenation axis must match exactly, but along dimension 1, the array at index 0 has size 1 and the array at index 1 has size 23418",
     "output_type": "error",
     "traceback": [
      "\u001b[0;31m---------------------------------------------------------------------------\u001b[0m",
      "\u001b[0;31mValueError\u001b[0m                                Traceback (most recent call last)",
      "Input \u001b[0;32mIn [11]\u001b[0m, in \u001b[0;36m<cell line: 40>\u001b[0;34m()\u001b[0m\n\u001b[1;32m     31\u001b[0m model\u001b[38;5;241m.\u001b[39mfit(X_tr,\n\u001b[1;32m     32\u001b[0m           y_tr,\n\u001b[1;32m     33\u001b[0m           validation_data\u001b[38;5;241m=\u001b[39m(X_va,y_va),\n\u001b[0;32m   (...)\u001b[0m\n\u001b[1;32m     37\u001b[0m           callbacks \u001b[38;5;241m=\u001b[39m [es,lr]\n\u001b[1;32m     38\u001b[0m          )\n\u001b[1;32m     39\u001b[0m y_va_pred \u001b[38;5;241m=\u001b[39m model\u001b[38;5;241m.\u001b[39mpredict(X_va)\n\u001b[0;32m---> 40\u001b[0m corrscore \u001b[38;5;241m=\u001b[39m \u001b[43mcorrelation_score\u001b[49m\u001b[43m(\u001b[49m\u001b[43mtargets\u001b[49m\u001b[43m,\u001b[49m\u001b[43m \u001b[49m\u001b[43my_va_pred\u001b[49m\u001b[38;5;129;43m@svd\u001b[39;49m\u001b[38;5;241;43m.\u001b[39;49m\u001b[43mcomponents_\u001b[49m\u001b[43m[\u001b[49m\u001b[43m:\u001b[49m\u001b[38;5;241;43m64\u001b[39;49m\u001b[43m]\u001b[49m\u001b[43m)\u001b[49m\n\u001b[1;32m     41\u001b[0m scores\u001b[38;5;241m.\u001b[39mappend(corrscore)\n\u001b[1;32m     42\u001b[0m pca_corrscore \u001b[38;5;241m=\u001b[39m correlation_score(y_va[:,:\u001b[38;5;241m64\u001b[39m], y_va_pred[:,:\u001b[38;5;241m64\u001b[39m])\n",
      "Input \u001b[0;32mIn [1]\u001b[0m, in \u001b[0;36mcorrelation_score\u001b[0;34m(y_true, y_pred)\u001b[0m\n\u001b[1;32m     26\u001b[0m corrsum \u001b[38;5;241m=\u001b[39m \u001b[38;5;241m0\u001b[39m\n\u001b[1;32m     27\u001b[0m \u001b[38;5;28;01mfor\u001b[39;00m i \u001b[38;5;129;01min\u001b[39;00m \u001b[38;5;28mrange\u001b[39m(y_true\u001b[38;5;241m.\u001b[39mshape[\u001b[38;5;241m0\u001b[39m]):\n\u001b[0;32m---> 28\u001b[0m     corrsum \u001b[38;5;241m+\u001b[39m\u001b[38;5;241m=\u001b[39m \u001b[43mnp\u001b[49m\u001b[38;5;241;43m.\u001b[39;49m\u001b[43mcorrcoef\u001b[49m\u001b[43m(\u001b[49m\u001b[43my_true\u001b[49m\u001b[43m[\u001b[49m\u001b[43mi\u001b[49m\u001b[43m]\u001b[49m\u001b[43m,\u001b[49m\u001b[43m \u001b[49m\u001b[43my_pred\u001b[49m\u001b[43m[\u001b[49m\u001b[43mi\u001b[49m\u001b[43m]\u001b[49m\u001b[43m)\u001b[49m[\u001b[38;5;241m1\u001b[39m, \u001b[38;5;241m0\u001b[39m]\n\u001b[1;32m     29\u001b[0m \u001b[38;5;28;01mreturn\u001b[39;00m corrsum \u001b[38;5;241m/\u001b[39m \u001b[38;5;28mlen\u001b[39m(y_true)\n",
      "File \u001b[0;32m<__array_function__ internals>:180\u001b[0m, in \u001b[0;36mcorrcoef\u001b[0;34m(*args, **kwargs)\u001b[0m\n",
      "File \u001b[0;32m/srv/conda/envs/saturn/lib/python3.9/site-packages/numpy/lib/function_base.py:2845\u001b[0m, in \u001b[0;36mcorrcoef\u001b[0;34m(x, y, rowvar, bias, ddof, dtype)\u001b[0m\n\u001b[1;32m   2841\u001b[0m \u001b[38;5;28;01mif\u001b[39;00m bias \u001b[38;5;129;01mis\u001b[39;00m \u001b[38;5;129;01mnot\u001b[39;00m np\u001b[38;5;241m.\u001b[39m_NoValue \u001b[38;5;129;01mor\u001b[39;00m ddof \u001b[38;5;129;01mis\u001b[39;00m \u001b[38;5;129;01mnot\u001b[39;00m np\u001b[38;5;241m.\u001b[39m_NoValue:\n\u001b[1;32m   2842\u001b[0m     \u001b[38;5;66;03m# 2015-03-15, 1.10\u001b[39;00m\n\u001b[1;32m   2843\u001b[0m     warnings\u001b[38;5;241m.\u001b[39mwarn(\u001b[38;5;124m'\u001b[39m\u001b[38;5;124mbias and ddof have no effect and are deprecated\u001b[39m\u001b[38;5;124m'\u001b[39m,\n\u001b[1;32m   2844\u001b[0m                   \u001b[38;5;167;01mDeprecationWarning\u001b[39;00m, stacklevel\u001b[38;5;241m=\u001b[39m\u001b[38;5;241m3\u001b[39m)\n\u001b[0;32m-> 2845\u001b[0m c \u001b[38;5;241m=\u001b[39m \u001b[43mcov\u001b[49m\u001b[43m(\u001b[49m\u001b[43mx\u001b[49m\u001b[43m,\u001b[49m\u001b[43m \u001b[49m\u001b[43my\u001b[49m\u001b[43m,\u001b[49m\u001b[43m \u001b[49m\u001b[43mrowvar\u001b[49m\u001b[43m,\u001b[49m\u001b[43m \u001b[49m\u001b[43mdtype\u001b[49m\u001b[38;5;241;43m=\u001b[39;49m\u001b[43mdtype\u001b[49m\u001b[43m)\u001b[49m\n\u001b[1;32m   2846\u001b[0m \u001b[38;5;28;01mtry\u001b[39;00m:\n\u001b[1;32m   2847\u001b[0m     d \u001b[38;5;241m=\u001b[39m diag(c)\n",
      "File \u001b[0;32m<__array_function__ internals>:180\u001b[0m, in \u001b[0;36mcov\u001b[0;34m(*args, **kwargs)\u001b[0m\n",
      "File \u001b[0;32m/srv/conda/envs/saturn/lib/python3.9/site-packages/numpy/lib/function_base.py:2639\u001b[0m, in \u001b[0;36mcov\u001b[0;34m(m, y, rowvar, bias, ddof, fweights, aweights, dtype)\u001b[0m\n\u001b[1;32m   2637\u001b[0m     \u001b[38;5;28;01mif\u001b[39;00m \u001b[38;5;129;01mnot\u001b[39;00m rowvar \u001b[38;5;129;01mand\u001b[39;00m y\u001b[38;5;241m.\u001b[39mshape[\u001b[38;5;241m0\u001b[39m] \u001b[38;5;241m!=\u001b[39m \u001b[38;5;241m1\u001b[39m:\n\u001b[1;32m   2638\u001b[0m         y \u001b[38;5;241m=\u001b[39m y\u001b[38;5;241m.\u001b[39mT\n\u001b[0;32m-> 2639\u001b[0m     X \u001b[38;5;241m=\u001b[39m \u001b[43mnp\u001b[49m\u001b[38;5;241;43m.\u001b[39;49m\u001b[43mconcatenate\u001b[49m\u001b[43m(\u001b[49m\u001b[43m(\u001b[49m\u001b[43mX\u001b[49m\u001b[43m,\u001b[49m\u001b[43m \u001b[49m\u001b[43my\u001b[49m\u001b[43m)\u001b[49m\u001b[43m,\u001b[49m\u001b[43m \u001b[49m\u001b[43maxis\u001b[49m\u001b[38;5;241;43m=\u001b[39;49m\u001b[38;5;241;43m0\u001b[39;49m\u001b[43m)\u001b[49m\n\u001b[1;32m   2641\u001b[0m \u001b[38;5;28;01mif\u001b[39;00m ddof \u001b[38;5;129;01mis\u001b[39;00m \u001b[38;5;28;01mNone\u001b[39;00m:\n\u001b[1;32m   2642\u001b[0m     \u001b[38;5;28;01mif\u001b[39;00m bias \u001b[38;5;241m==\u001b[39m \u001b[38;5;241m0\u001b[39m:\n",
      "File \u001b[0;32m<__array_function__ internals>:180\u001b[0m, in \u001b[0;36mconcatenate\u001b[0;34m(*args, **kwargs)\u001b[0m\n",
      "\u001b[0;31mValueError\u001b[0m: all the input array dimensions for the concatenation axis must match exactly, but along dimension 1, the array at index 0 has size 1 and the array at index 1 has size 23418"
     ]
    }
   ],
   "source": [
    "import warnings\n",
    "warnings.filterwarnings(\"ignore\")\n",
    "\n",
    "VERBOSE = 0\n",
    "N_SPLIT = 3\n",
    "#kf = KFold(n_splits=N_SPLIT, shuffle=True, random_state=42)\n",
    "kf = KFold(n_splits = N_SPLIT)\n",
    "\n",
    "scores = []\n",
    "pca_scores = []\n",
    "pred_train = np.zeros_like(Y)\n",
    "\n",
    "model = create_model()\n",
    "\n",
    "lr = ReduceLROnPlateau(\n",
    "            monitor = \"val_loss\",\n",
    "            factor = 0.9, \n",
    "            patience = 4, \n",
    "            verbose = VERBOSE)\n",
    "\n",
    "es = EarlyStopping(\n",
    "            monitor = \"val_loss\",\n",
    "            patience = 30, \n",
    "            verbose = VERBOSE,\n",
    "            mode = \"min\", \n",
    "            restore_best_weights = True)\n",
    "\n",
    "model.compile(optimizer=tf.keras.optimizers.Adam(learning_rate=1e-3),\n",
    "              loss = 'mse',\n",
    "              metrics=None)\n",
    "model.fit(X_tr,\n",
    "          y_tr,\n",
    "          validation_data=(X_va,y_va),\n",
    "          epochs =500,\n",
    "          verbose = VERBOSE,\n",
    "          batch_size=256,\n",
    "          callbacks = [es,lr]\n",
    "         )\n",
    "y_va_pred = model.predict(X_va)\n",
    "corrscore = correlation_score(targets, y_va_pred@svd.components_[:64])\n",
    "scores.append(corrscore)\n",
    "pca_corrscore = correlation_score(y_va[:,:64], y_va_pred[:,:64])\n",
    "pca_scores.append(pca_corrscore)\n",
    "\n",
    "print(f'Mean squared error = {np.round(mean_squared_error(y_va,y_va_pred),2)}')\n",
    "print(f'Correlation = {corrscore:.5f}')\n",
    "print(f'PCA Correlation = {pca_corrscore:.5f}')\n",
    "\n",
    "del X_tr,X_va,y_tr,y_va\n",
    "gc.collect()\n",
    "\n",
    "# Show overall score\n",
    "print(f\"{Fore.GREEN}{Style.BRIGHT}Mean corr = {np.array(scores).mean():.5f}{Style.RESET_ALL}\")\n",
    "print(f\"{Fore.RED}{Style.BRIGHT}Mean pca corr = {np.array(pca_scores).mean():.5f}{Style.RESET_ALL}\")\n",
    "# score_total = correlation_score(targets, pred_train@svd.components_)#pred_train@pca_target_comps)\n",
    "# print(f\"{Fore.BLUE}{Style.BRIGHT}Oof corr   = {score_total:.5f}{Style.RESET_ALL}\")"
   ]
  },
  {
   "cell_type": "code",
   "execution_count": 12,
   "id": "7f104fdf-0348-4f0d-91da-706005e43e1a",
   "metadata": {
    "execution": {
     "iopub.execute_input": "2022-11-07T01:19:46.131500Z",
     "iopub.status.busy": "2022-11-07T01:19:46.131089Z",
     "iopub.status.idle": "2022-11-07T01:20:00.577127Z",
     "shell.execute_reply": "2022-11-07T01:20:00.576501Z",
     "shell.execute_reply.started": "2022-11-07T01:19:46.131474Z"
    },
    "tags": []
   },
   "outputs": [],
   "source": [
    "with np.load('../sparse/train_cite_inputs_idxcol.npz',allow_pickle=True) as data:\n",
    "    cell_columns_cite = data['columns']\n",
    "cell_columns_cite = [i.split('_')[0] for i in cell_columns_cite]\n",
    "with np.load('../sparse/train_multi_targets_idxcol.npz',allow_pickle=True) as data:\n",
    "    cell_columns_multi = data['columns']\n",
    "mask_cite = [i for i,x in enumerate(cell_columns_cite) if x in cell_columns_multi]\n",
    "mask_multi = [i for i,x in enumerate(cell_columns_multi) if x in cell_columns_cite]"
   ]
  },
  {
   "cell_type": "code",
   "execution_count": 44,
   "id": "d0f60d9c-92bc-43f2-928f-cd7954b27445",
   "metadata": {
    "execution": {
     "iopub.execute_input": "2022-11-06T23:59:01.657631Z",
     "iopub.status.busy": "2022-11-06T23:59:01.657247Z",
     "iopub.status.idle": "2022-11-06T23:59:01.661630Z",
     "shell.execute_reply": "2022-11-06T23:59:01.661115Z",
     "shell.execute_reply.started": "2022-11-06T23:59:01.657606Z"
    },
    "tags": []
   },
   "outputs": [
    {
     "data": {
      "text/plain": [
       "18386"
      ]
     },
     "execution_count": 44,
     "metadata": {},
     "output_type": "execute_result"
    }
   ],
   "source": [
    "len(mask_cite)"
   ]
  },
  {
   "cell_type": "code",
   "execution_count": 41,
   "id": "64ff88c5-3c3d-49f6-9c58-36abf8df8461",
   "metadata": {
    "execution": {
     "iopub.execute_input": "2022-11-06T23:58:19.945418Z",
     "iopub.status.busy": "2022-11-06T23:58:19.945026Z",
     "iopub.status.idle": "2022-11-06T23:58:19.949433Z",
     "shell.execute_reply": "2022-11-06T23:58:19.948911Z",
     "shell.execute_reply.started": "2022-11-06T23:58:19.945392Z"
    },
    "tags": []
   },
   "outputs": [
    {
     "data": {
      "text/plain": [
       "18386"
      ]
     },
     "execution_count": 41,
     "metadata": {},
     "output_type": "execute_result"
    }
   ],
   "source": [
    "len(mask_cite)"
   ]
  },
  {
   "cell_type": "code",
   "execution_count": 42,
   "id": "c6d4a129-99eb-49d0-9a5f-45fb59eb71a0",
   "metadata": {
    "execution": {
     "iopub.execute_input": "2022-11-06T23:58:25.857317Z",
     "iopub.status.busy": "2022-11-06T23:58:25.856922Z",
     "iopub.status.idle": "2022-11-06T23:58:25.861315Z",
     "shell.execute_reply": "2022-11-06T23:58:25.860805Z",
     "shell.execute_reply.started": "2022-11-06T23:58:25.857293Z"
    },
    "tags": []
   },
   "outputs": [
    {
     "data": {
      "text/plain": [
       "18386"
      ]
     },
     "execution_count": 42,
     "metadata": {},
     "output_type": "execute_result"
    }
   ],
   "source": [
    "len(mask_multi)"
   ]
  },
  {
   "cell_type": "code",
   "execution_count": 4,
   "id": "e574c70b-a475-4335-b413-e5674db5a5a6",
   "metadata": {
    "execution": {
     "iopub.execute_input": "2022-11-07T00:14:37.158603Z",
     "iopub.status.busy": "2022-11-07T00:14:37.158296Z",
     "iopub.status.idle": "2022-11-07T00:14:50.563961Z",
     "shell.execute_reply": "2022-11-07T00:14:50.563405Z",
     "shell.execute_reply.started": "2022-11-07T00:14:37.158580Z"
    },
    "tags": []
   },
   "outputs": [
    {
     "data": {
      "text/plain": [
       "(70988, 18386)"
      ]
     },
     "execution_count": 4,
     "metadata": {},
     "output_type": "execute_result"
    }
   ],
   "source": [
    "X = scipy.sparse.load_npz('../sparse/train_cite_inputs_values.sparse.npz')\n",
    "X = X[:,mask_cite]\n",
    "X.shape"
   ]
  },
  {
   "cell_type": "code",
   "execution_count": 5,
   "id": "f04be822-0906-4897-a8bb-e36422759ccf",
   "metadata": {
    "execution": {
     "iopub.execute_input": "2022-11-07T00:14:50.565058Z",
     "iopub.status.busy": "2022-11-07T00:14:50.564760Z",
     "iopub.status.idle": "2022-11-07T00:14:50.773482Z",
     "shell.execute_reply": "2022-11-07T00:14:50.772927Z",
     "shell.execute_reply.started": "2022-11-07T00:14:50.565036Z"
    },
    "tags": []
   },
   "outputs": [
    {
     "data": {
      "text/plain": [
       "(70988, 140)"
      ]
     },
     "execution_count": 5,
     "metadata": {},
     "output_type": "execute_result"
    }
   ],
   "source": [
    "Y = pd.read_hdf(\"../../input/open-problems-multimodal/train_cite_targets.h5\")\n",
    "#Y = Y.loc[meta.day == 3]\n",
    "Y = Y.values\n",
    "Y -= Y.mean(axis=1).reshape(-1, 1)\n",
    "Y /= Y.std(axis=1).reshape(-1, 1)\n",
    "Y.shape"
   ]
  },
  {
   "cell_type": "code",
   "execution_count": 13,
   "id": "f50c9b78-dd83-4976-a938-f2831d607ec4",
   "metadata": {
    "execution": {
     "iopub.execute_input": "2022-11-07T00:22:14.706292Z",
     "iopub.status.busy": "2022-11-07T00:22:14.705892Z",
     "iopub.status.idle": "2022-11-07T00:22:14.726423Z",
     "shell.execute_reply": "2022-11-07T00:22:14.725784Z",
     "shell.execute_reply.started": "2022-11-07T00:22:14.706266Z"
    },
    "tags": []
   },
   "outputs": [],
   "source": [
    "Y = Y[:700]\n",
    "X = X[:700]"
   ]
  },
  {
   "cell_type": "code",
   "execution_count": 14,
   "id": "21530afb-5861-4ae2-8886-1b70ce15a5e9",
   "metadata": {
    "execution": {
     "iopub.execute_input": "2022-11-07T00:22:16.596329Z",
     "iopub.status.busy": "2022-11-07T00:22:16.595930Z",
     "iopub.status.idle": "2022-11-07T00:22:16.600760Z",
     "shell.execute_reply": "2022-11-07T00:22:16.600043Z",
     "shell.execute_reply.started": "2022-11-07T00:22:16.596303Z"
    },
    "tags": []
   },
   "outputs": [
    {
     "data": {
      "text/plain": [
       "(700, 140)"
      ]
     },
     "execution_count": 14,
     "metadata": {},
     "output_type": "execute_result"
    }
   ],
   "source": [
    "Y.shape"
   ]
  },
  {
   "cell_type": "code",
   "execution_count": 18,
   "id": "c10b423e-3028-4a5f-be41-a12d4c0d7819",
   "metadata": {
    "execution": {
     "iopub.execute_input": "2022-11-07T00:26:20.078996Z",
     "iopub.status.busy": "2022-11-07T00:26:20.078607Z",
     "iopub.status.idle": "2022-11-07T00:26:20.085224Z",
     "shell.execute_reply": "2022-11-07T00:26:20.084669Z",
     "shell.execute_reply.started": "2022-11-07T00:26:20.078970Z"
    },
    "tags": []
   },
   "outputs": [],
   "source": [
    "LR_START = 0.01\n",
    "BATCH_SIZE = 512\n",
    "\n",
    "def create_model(input_shape, output_shape):\n",
    "    \n",
    "    reg1 = 9.613e-06\n",
    "    reg2 = 1e-07\n",
    "    REG1 = tf.keras.regularizers.l2(reg1)\n",
    "    REG2 = tf.keras.regularizers.l2(reg2)\n",
    "    DROP = 0.1\n",
    "\n",
    "    activation = 'selu'\n",
    "    inputs = Input(shape =(input_shape,))\n",
    "\n",
    "    x0 = Dense(256, \n",
    "              kernel_regularizer = REG1,\n",
    "              activation = activation,\n",
    "             )(inputs)\n",
    "    x0 = Dropout(DROP)(x0)\n",
    "    \n",
    "    \n",
    "    x1 = Dense(512, \n",
    "               kernel_regularizer = REG1,\n",
    "               activation = activation,\n",
    "             )(x0)\n",
    "    x1 = Dropout(DROP)(x1)\n",
    "    \n",
    "    \n",
    "    x2 = Dense(512, \n",
    "               kernel_regularizer = REG1,\n",
    "               activation = activation,\n",
    "             )(x1) \n",
    "    x2= Dropout(DROP)(x2)\n",
    "    \n",
    "    x3 = Dense(output_shape,\n",
    "               kernel_regularizer = REG1,\n",
    "               activation = activation,\n",
    "             )(x2)\n",
    "    x3 = Dropout(DROP)(x3)\n",
    "\n",
    "         \n",
    "    x = Concatenate()([\n",
    "                x0, \n",
    "                x1, \n",
    "                x2, \n",
    "                x3\n",
    "                ])\n",
    "    \n",
    "    x = Dense(output_shape, \n",
    "                kernel_regularizer = REG2,\n",
    "                activation='linear',\n",
    "                )(x)\n",
    "    \n",
    "    \n",
    "    model = Model(inputs, x)\n",
    "    \n",
    "\n",
    "    return model"
   ]
  },
  {
   "cell_type": "code",
   "execution_count": 2,
   "id": "dc6c2a3e-2ff2-4df6-8316-6160f53f8750",
   "metadata": {
    "execution": {
     "iopub.execute_input": "2022-11-08T22:29:35.847897Z",
     "iopub.status.busy": "2022-11-08T22:29:35.847353Z",
     "iopub.status.idle": "2022-11-08T22:29:36.912466Z",
     "shell.execute_reply": "2022-11-08T22:29:36.911430Z",
     "shell.execute_reply.started": "2022-11-08T22:29:35.847861Z"
    },
    "tags": []
   },
   "outputs": [
    {
     "name": "stdout",
     "output_type": "stream",
     "text": [
      "\u001b[0m\u001b[01;34mmodel_2_13176_0\u001b[0m/        \u001b[01;34mmodel_3_13176_2\u001b[0m/  \u001b[01;34mmodel_4_32606_0\u001b[0m/\n",
      "\u001b[01;34mmodel_2_13176_1\u001b[0m/        \u001b[01;34mmodel_3_31800_0\u001b[0m/  \u001b[01;34mmodel_4_32606_1\u001b[0m/\n",
      "\u001b[01;34mmodel_2_13176_2\u001b[0m/        \u001b[01;34mmodel_3_31800_1\u001b[0m/  \u001b[01;34mmodel_4_32606_2\u001b[0m/\n",
      "model_2_13176_svds.npy  \u001b[01;34mmodel_3_31800_2\u001b[0m/  \u001b[01;34mmodel_7_13176_0\u001b[0m/\n",
      "\u001b[01;34mmodel_2_31800_0\u001b[0m/        \u001b[01;34mmodel_3_32606_0\u001b[0m/  \u001b[01;34mmodel_7_13176_1\u001b[0m/\n",
      "\u001b[01;34mmodel_2_31800_1\u001b[0m/        \u001b[01;34mmodel_3_32606_1\u001b[0m/  \u001b[01;34mmodel_7_13176_2\u001b[0m/\n",
      "\u001b[01;34mmodel_2_31800_2\u001b[0m/        \u001b[01;34mmodel_3_32606_2\u001b[0m/  \u001b[01;34mmodel_7_31800_0\u001b[0m/\n",
      "\u001b[01;34mmodel_2_32606_0\u001b[0m/        \u001b[01;34mmodel_4_13176_0\u001b[0m/  \u001b[01;34mmodel_7_31800_1\u001b[0m/\n",
      "\u001b[01;34mmodel_2_32606_1\u001b[0m/        \u001b[01;34mmodel_4_13176_1\u001b[0m/  \u001b[01;34mmodel_7_31800_2\u001b[0m/\n",
      "\u001b[01;34mmodel_2_32606_2\u001b[0m/        \u001b[01;34mmodel_4_13176_2\u001b[0m/  \u001b[01;34mmodel_7_32606_0\u001b[0m/\n",
      "model_2_32606_svds.npy  \u001b[01;34mmodel_4_31800_0\u001b[0m/  \u001b[01;34mmodel_7_32606_1\u001b[0m/\n",
      "\u001b[01;34mmodel_3_13176_0\u001b[0m/        \u001b[01;34mmodel_4_31800_1\u001b[0m/  \u001b[01;34mmodel_7_32606_2\u001b[0m/\n",
      "\u001b[01;34mmodel_3_13176_1\u001b[0m/        \u001b[01;34mmodel_4_31800_2\u001b[0m/\n"
     ]
    }
   ],
   "source": [
    "%ls ../multi_model_saves"
   ]
  },
  {
   "cell_type": "code",
   "execution_count": 22,
   "id": "07d11492-7ad5-4021-b1c2-8bbaa017f2c9",
   "metadata": {
    "execution": {
     "iopub.execute_input": "2022-11-07T00:30:43.877804Z",
     "iopub.status.busy": "2022-11-07T00:30:43.877186Z",
     "iopub.status.idle": "2022-11-07T00:31:39.453465Z",
     "shell.execute_reply": "2022-11-07T00:31:39.452807Z",
     "shell.execute_reply.started": "2022-11-07T00:30:43.877776Z"
    },
    "tags": []
   },
   "outputs": [
    {
     "name": "stdout",
     "output_type": "stream",
     "text": [
      "model saved\n",
      "73/73 [==============================] - 0s 2ms/step\n",
      "Fold 0, correlation =  0.89362\n"
     ]
    }
   ],
   "source": [
    "# Overall baseline\n",
    "\n",
    "N_SPLITS = 3\n",
    "\n",
    "X = scipy.sparse.load_npz('../sparse/train_cite_inputs_values.sparse.npz')\n",
    "X = X[:7000]\n",
    "X = X[:,mask_cite]\n",
    "svd_cite = TruncatedSVD(n_components = 128)\n",
    "X = svd_cite.fit_transform(X)\n",
    "X = X[:,:64]\n",
    "\n",
    "Y = pd.read_hdf(\"../../input/open-problems-multimodal/train_cite_targets.h5\")\n",
    "Y = Y.values\n",
    "Y -= Y.mean(axis=1).reshape(-1, 1)\n",
    "Y /= Y.std(axis=1).reshape(-1, 1)\n",
    "\n",
    "Y = Y[:7000]\n",
    "\n",
    "import warnings\n",
    "warnings.filterwarnings(\"ignore\")\n",
    "\n",
    "EPOCHS = 300 \n",
    "\n",
    "pred_train = np.zeros((Y.shape[0],Y.shape[1]))\n",
    "\n",
    "np.random.seed(1)\n",
    "tf.random.set_seed(1)\n",
    "score_list = []\n",
    "kf = KFold(n_splits=N_SPLITS)\n",
    "\n",
    "for fold, (idx_tr, idx_va) in enumerate(kf.split(X)):\n",
    "    start_time = datetime.datetime.now()\n",
    "    model_cite = None\n",
    "    gc.collect()\n",
    "    \n",
    "    X_tr = X[idx_tr]\n",
    "    y_tr = Y[idx_tr]\n",
    "    X_va = X[idx_va]\n",
    "    y_va = Y[idx_va]\n",
    "\n",
    "    lr = ReduceLROnPlateau(\n",
    "                    monitor = \"val_loss\",\n",
    "                    factor = 0.9, \n",
    "                    patience = 4, \n",
    "                    verbose = VERBOSE)\n",
    "\n",
    "    es = EarlyStopping(\n",
    "                    monitor = \"val_loss\",\n",
    "                    patience = 40, \n",
    "                    verbose = VERBOSE,\n",
    "                    mode = \"min\", \n",
    "                    restore_best_weights = True)\n",
    "\n",
    "    model_checkpoint_callback = tf.keras.callbacks.ModelCheckpoint(\n",
    "                    filepath = './citeseq',\n",
    "                    save_weights_only = True,\n",
    "                    monitor = 'val_loss',\n",
    "                    mode = 'min',\n",
    "                    save_best_only = True)\n",
    "\n",
    "    callbacks = [\n",
    "                    lr, \n",
    "                    es, \n",
    "                    model_checkpoint_callback\n",
    "                    ]\n",
    "    \n",
    "    model_cite = create_model(X.shape[1],Y.shape[1])\n",
    "    \n",
    "    model_cite.compile(\n",
    "                optimizer = tf.keras.optimizers.Adam(learning_rate=LR_START),\n",
    "                metrics = [negative_correlation_loss],\n",
    "                loss = negative_correlation_loss\n",
    "                 )\n",
    "    # Training\n",
    "    model_cite.fit(\n",
    "                X_tr,\n",
    "                y_tr, \n",
    "                validation_data=(\n",
    "                                X_va,\n",
    "                                y_va), \n",
    "                epochs = EPOCHS,\n",
    "                verbose = VERBOSE,\n",
    "                batch_size = BATCH_SIZE,\n",
    "                shuffle = True,\n",
    "                callbacks = callbacks)\n",
    "\n",
    "    del X_tr, y_tr \n",
    "    gc.collect()\n",
    "    \n",
    "    model_cite.save(f\"./submissions/model_donor1_day1\")\n",
    "    print('model saved')\n",
    "    \n",
    "    #  Model validation\n",
    "    y_va_pred = model_cite.predict(X_va)\n",
    "    corrscore = correlation_score(y_va, y_va_pred)\n",
    "    pred_train[idx_va] = y_va_pred\n",
    "    \n",
    "    print(f\"Fold {fold}, correlation =  {corrscore:.5f}\")\n",
    "    del X_va, y_va, y_va_pred\n",
    "    gc.collect()\n",
    "    score_list.append(corrscore)\n",
    "    break"
   ]
  },
  {
   "cell_type": "code",
   "execution_count": 4,
   "id": "bb6a4ac1-34d8-4318-a035-39cbb27627f6",
   "metadata": {
    "execution": {
     "iopub.execute_input": "2022-11-07T18:12:17.396014Z",
     "iopub.status.busy": "2022-11-07T18:12:17.395622Z",
     "iopub.status.idle": "2022-11-07T18:12:18.123379Z",
     "shell.execute_reply": "2022-11-07T18:12:18.122768Z",
     "shell.execute_reply.started": "2022-11-07T18:12:17.395993Z"
    },
    "tags": []
   },
   "outputs": [
    {
     "name": "stderr",
     "output_type": "stream",
     "text": [
      "2022-11-07 18:12:17.492561: I tensorflow/stream_executor/cuda/cuda_gpu_executor.cc:980] successful NUMA node read from SysFS had negative value (-1), but there must be at least one NUMA node, so returning NUMA node zero\n",
      "2022-11-07 18:12:17.499318: W tensorflow/stream_executor/platform/default/dso_loader.cc:64] Could not load dynamic library 'libcudnn.so.8'; dlerror: libcudnn.so.8: cannot open shared object file: No such file or directory; LD_LIBRARY_PATH: /usr/local/nvidia/lib:/usr/local/nvidia/lib64\n",
      "2022-11-07 18:12:17.499338: W tensorflow/core/common_runtime/gpu/gpu_device.cc:1934] Cannot dlopen some GPU libraries. Please make sure the missing libraries mentioned above are installed properly if you would like to use GPU. Follow the guide at https://www.tensorflow.org/install/gpu for how to download and setup the required libraries for your platform.\n",
      "Skipping registering GPU devices...\n",
      "2022-11-07 18:12:17.499701: I tensorflow/core/platform/cpu_feature_guard.cc:193] This TensorFlow binary is optimized with oneAPI Deep Neural Network Library (oneDNN) to use the following CPU instructions in performance-critical operations:  AVX2 AVX512F AVX512_VNNI FMA\n",
      "To enable them in other operations, rebuild TensorFlow with the appropriate compiler flags.\n"
     ]
    }
   ],
   "source": [
    "model_cite = load_model(f\"./submissions/model_donor1_day1\",\n",
    "                        custom_objects={'negative_correlation_loss': negative_correlation_loss})"
   ]
  },
  {
   "cell_type": "code",
   "execution_count": 5,
   "id": "90ffe890-18fe-4f16-a406-1b685a9116a4",
   "metadata": {
    "execution": {
     "iopub.execute_input": "2022-11-07T18:12:18.125709Z",
     "iopub.status.busy": "2022-11-07T18:12:18.125416Z",
     "iopub.status.idle": "2022-11-07T18:12:31.627647Z",
     "shell.execute_reply": "2022-11-07T18:12:31.627050Z",
     "shell.execute_reply.started": "2022-11-07T18:12:18.125688Z"
    },
    "tags": []
   },
   "outputs": [],
   "source": [
    "targets_copy = scipy.sparse.load_npz(\"../sparse/train_multi_targets_values.sparse.npz\")"
   ]
  },
  {
   "cell_type": "code",
   "execution_count": 3,
   "id": "3d5c8429-e12c-438d-9596-60e4fa303489",
   "metadata": {
    "execution": {
     "iopub.execute_input": "2022-11-07T18:12:17.046573Z",
     "iopub.status.busy": "2022-11-07T18:12:17.046383Z",
     "iopub.status.idle": "2022-11-07T18:12:17.394404Z",
     "shell.execute_reply": "2022-11-07T18:12:17.393765Z",
     "shell.execute_reply.started": "2022-11-07T18:12:17.046555Z"
    },
    "tags": []
   },
   "outputs": [],
   "source": [
    "with np.load('../sparse/train_multi_inputs_idxcol.npz',allow_pickle=True) as data:\n",
    "    cell_index = data['index']\n",
    "with np.load('../sparse/test_multi_inputs_idxcol.npz',allow_pickle=True) as data:\n",
    "    cell_index_t = data['index']\n",
    "metadata_df = pd.read_csv('../../input/open-problems-multimodal/metadata.csv', index_col='cell_id')\n",
    "metadata_df = metadata_df[metadata_df.technology==\"multiome\"]\n",
    "meta = metadata_df.reindex(cell_index)\n",
    "meta['range'] = range(len(meta))\n",
    "day7_donor1 = meta.loc[(meta.day == 7)&(meta.donor == 32606)].range.values"
   ]
  },
  {
   "cell_type": "code",
   "execution_count": 62,
   "id": "a213ed80-59c7-411d-8d07-ada7fac090ff",
   "metadata": {
    "execution": {
     "iopub.execute_input": "2022-11-07T01:32:39.012516Z",
     "iopub.status.busy": "2022-11-07T01:32:39.012131Z",
     "iopub.status.idle": "2022-11-07T01:32:43.489319Z",
     "shell.execute_reply": "2022-11-07T01:32:43.488670Z",
     "shell.execute_reply.started": "2022-11-07T01:32:39.012492Z"
    },
    "tags": []
   },
   "outputs": [],
   "source": [
    "targets_copy = targets_copy[:,mask_multi]\n",
    "targets_copy = scprep.filter.remove_empty_genes(targets_copy)"
   ]
  },
  {
   "cell_type": "code",
   "execution_count": 63,
   "id": "83aff8a0-312d-4c7c-80e8-601e894081df",
   "metadata": {
    "execution": {
     "iopub.execute_input": "2022-11-07T01:32:47.408572Z",
     "iopub.status.busy": "2022-11-07T01:32:47.408187Z",
     "iopub.status.idle": "2022-11-07T01:32:54.671025Z",
     "shell.execute_reply": "2022-11-07T01:32:54.669946Z",
     "shell.execute_reply.started": "2022-11-07T01:32:47.408548Z"
    },
    "tags": []
   },
   "outputs": [],
   "source": [
    "targets = targets_copy.copy()\n",
    "targets = targets_copy[day7_donor1]\n",
    "# Normalize the targets row-wise: This doesn't change the correlations,\n",
    "# and negative_correlation_loss depends on it\n",
    "targets -= targets.mean(axis=1).reshape(-1, 1)\n",
    "targets /= targets.std(axis=1).reshape(-1, 1)\n",
    "targets = np.array(targets)\n",
    "svd = TruncatedSVD(n_components = 512,random_state = 1)\n",
    "svd.fit(targets)\n",
    "Y = svd.transform(targets)"
   ]
  },
  {
   "cell_type": "code",
   "execution_count": 31,
   "id": "878294c6-40c6-4ae3-9ae8-cfac5a793f12",
   "metadata": {
    "execution": {
     "iopub.execute_input": "2022-11-07T19:53:37.460674Z",
     "iopub.status.busy": "2022-11-07T19:53:37.460294Z",
     "iopub.status.idle": "2022-11-07T19:53:37.516016Z",
     "shell.execute_reply": "2022-11-07T19:53:37.515394Z",
     "shell.execute_reply.started": "2022-11-07T19:53:37.460650Z"
    },
    "tags": []
   },
   "outputs": [],
   "source": [
    "inputs_both_128 = np.load(\"../multi_pca/inputs_both_128.npy\")\n",
    "X = inputs_both_128[:targets_copy.shape[0],:40]"
   ]
  },
  {
   "cell_type": "code",
   "execution_count": 32,
   "id": "20387e16-d651-40cd-b07c-838ef690457d",
   "metadata": {
    "execution": {
     "iopub.execute_input": "2022-11-07T19:53:38.134546Z",
     "iopub.status.busy": "2022-11-07T19:53:38.134174Z",
     "iopub.status.idle": "2022-11-07T19:53:38.151352Z",
     "shell.execute_reply": "2022-11-07T19:53:38.150742Z",
     "shell.execute_reply.started": "2022-11-07T19:53:38.134521Z"
    },
    "tags": []
   },
   "outputs": [],
   "source": [
    "X_copy = X.copy()"
   ]
  },
  {
   "cell_type": "code",
   "execution_count": 33,
   "id": "0ef3a15e-0fb4-4c9c-a9c4-7131d0ca5371",
   "metadata": {
    "execution": {
     "iopub.execute_input": "2022-11-07T19:53:38.799946Z",
     "iopub.status.busy": "2022-11-07T19:53:38.799595Z",
     "iopub.status.idle": "2022-11-07T19:53:39.296526Z",
     "shell.execute_reply": "2022-11-07T19:53:39.295864Z",
     "shell.execute_reply.started": "2022-11-07T19:53:38.799923Z"
    },
    "tags": []
   },
   "outputs": [
    {
     "name": "stdout",
     "output_type": "stream",
     "text": [
      "(1000, 40)\n",
      "(1000, 64)\n",
      "(1000, 23418)\n"
     ]
    }
   ],
   "source": [
    "X = X_copy[day7_donor1][:1000,:40]\n",
    "Y = svd.transform(targets[:1000])[:,:64]\n",
    "targets = targets[:1000]\n",
    "print(X.shape)\n",
    "print(Y.shape)\n",
    "print(targets.shape)"
   ]
  },
  {
   "cell_type": "code",
   "execution_count": 75,
   "id": "02919597-29ee-4184-a28e-0f1901a1ae41",
   "metadata": {
    "execution": {
     "iopub.execute_input": "2022-11-07T01:35:57.876988Z",
     "iopub.status.busy": "2022-11-07T01:35:57.876588Z",
     "iopub.status.idle": "2022-11-07T01:36:27.528905Z",
     "shell.execute_reply": "2022-11-07T01:36:27.528280Z",
     "shell.execute_reply.started": "2022-11-07T01:35:57.876965Z"
    },
    "tags": []
   },
   "outputs": [
    {
     "name": "stdout",
     "output_type": "stream",
     "text": [
      "11/11 [==============================] - 0s 2ms/step\n",
      "\n",
      " --------- FOLD 0 -----------\n",
      "Mean squared error = 7.489999771118164\n",
      "Correlation = 0.61171\n",
      "PCA Correlation = 0.96735\n",
      "model saved : model_0\n",
      "11/11 [==============================] - 0s 2ms/step\n",
      "\n",
      " --------- FOLD 1 -----------\n",
      "Mean squared error = 7.079999923706055\n",
      "Correlation = 0.61946\n",
      "PCA Correlation = 0.96936\n",
      "model saved : model_1\n",
      "11/11 [==============================] - 0s 2ms/step\n",
      "\n",
      " --------- FOLD 2 -----------\n",
      "Mean squared error = 7.239999771118164\n",
      "Correlation = 0.61784\n",
      "PCA Correlation = 0.96855\n",
      "model saved : model_2\n",
      "\u001b[32m\u001b[1mMean corr = 0.61634\u001b[0m\n",
      "\u001b[31m\u001b[1mMean pca corr = 0.96842\u001b[0m\n"
     ]
    }
   ],
   "source": [
    "import warnings\n",
    "warnings.filterwarnings(\"ignore\")\n",
    "\n",
    "VERBOSE = 0\n",
    "N_SPLIT = 3\n",
    "#kf = KFold(n_splits=N_SPLIT, shuffle=True, random_state=42)\n",
    "kf = KFold(n_splits = N_SPLIT)\n",
    "\n",
    "scores = []\n",
    "pca_scores = []\n",
    "Y_pred = np.zeros_like(Y)\n",
    "\n",
    "for fold,(idx_tr, idx_va) in enumerate(kf.split(X)):\n",
    "    \n",
    "    X_tr = X[idx_tr]\n",
    "    y_tr = Y[idx_tr]\n",
    "    \n",
    "    X_va = X[idx_va]\n",
    "    y_va = Y[idx_va] \n",
    "\n",
    "    model = create_model()\n",
    "\n",
    "    lr = ReduceLROnPlateau(\n",
    "                monitor = \"val_loss\",\n",
    "                factor = 0.9, \n",
    "                patience = 4, \n",
    "                verbose = VERBOSE)\n",
    "\n",
    "    es = EarlyStopping(\n",
    "                monitor = \"val_loss\",\n",
    "                patience = 30, \n",
    "                verbose = VERBOSE,\n",
    "                mode = \"min\", \n",
    "                restore_best_weights = True)\n",
    "\n",
    "    model.compile(optimizer=tf.keras.optimizers.Adam(learning_rate=1e-3),\n",
    "                  loss = 'mse',\n",
    "                  metrics=None)\n",
    "    model.fit(X_tr,\n",
    "              y_tr,\n",
    "              validation_data=(X_va,y_va),\n",
    "              epochs =500,\n",
    "              verbose = VERBOSE,\n",
    "              batch_size=256,\n",
    "              callbacks = [es,lr]\n",
    "             )\n",
    "    y_va_pred = model.predict(X_va)\n",
    "    Y_pred[idx_va] = y_va_pred\n",
    "    corrscore = correlation_score(targets[idx_va], y_va_pred@svd.components_[:64])\n",
    "    scores.append(corrscore)\n",
    "    pca_corrscore = correlation_score(y_va[:,:64], y_va_pred[:,:64])\n",
    "    pca_scores.append(pca_corrscore)\n",
    "\n",
    "    print(f'\\n --------- FOLD {fold} -----------')\n",
    "    print(f'Mean squared error = {np.round(mean_squared_error(y_va,y_va_pred),2)}')\n",
    "    print(f'Correlation = {corrscore:.5f}')\n",
    "    print(f'PCA Correlation = {pca_corrscore:.5f}')\n",
    "\n",
    "    filename = f\"model_{fold}\"\n",
    "    model.save(filename)\n",
    "    print('model saved :',filename)\n",
    "\n",
    "    del X_tr,X_va,y_tr,y_va\n",
    "    gc.collect()\n",
    "\n",
    "# Show overall score\n",
    "print(f\"{Fore.GREEN}{Style.BRIGHT}Mean corr = {np.array(scores).mean():.5f}{Style.RESET_ALL}\")\n",
    "print(f\"{Fore.RED}{Style.BRIGHT}Mean pca corr = {np.array(pca_scores).mean():.5f}{Style.RESET_ALL}\")\n",
    "# score_total = correlation_score(targets, pred_train@svd.components_)#pred_train@pca_target_comps)\n",
    "# print(f\"{Fore.BLUE}{Style.BRIGHT}Oof corr   = {score_total:.5f}{Style.RESET_ALL}\")"
   ]
  },
  {
   "cell_type": "code",
   "execution_count": 76,
   "id": "8c63aa09-76e9-42f9-8f4b-e8a481dbd747",
   "metadata": {
    "execution": {
     "iopub.execute_input": "2022-11-07T01:36:45.301411Z",
     "iopub.status.busy": "2022-11-07T01:36:45.301009Z",
     "iopub.status.idle": "2022-11-07T01:36:45.869495Z",
     "shell.execute_reply": "2022-11-07T01:36:45.868910Z",
     "shell.execute_reply.started": "2022-11-07T01:36:45.301387Z"
    },
    "tags": []
   },
   "outputs": [
    {
     "name": "stdout",
     "output_type": "stream",
     "text": [
      "32/32 [==============================] - 0s 2ms/step\n"
     ]
    }
   ],
   "source": [
    "model_cite = load_model(f\"./submissions/model_donor1_day1\",\n",
    "                        custom_objects={'negative_correlation_loss': negative_correlation_loss})\n",
    "prot = model_cite.predict(Y_pred)"
   ]
  },
  {
   "cell_type": "code",
   "execution_count": 77,
   "id": "43d66390-e5b8-4d32-80d4-526abda3deb7",
   "metadata": {
    "execution": {
     "iopub.execute_input": "2022-11-07T01:37:14.858829Z",
     "iopub.status.busy": "2022-11-07T01:37:14.857935Z",
     "iopub.status.idle": "2022-11-07T01:37:39.108396Z",
     "shell.execute_reply": "2022-11-07T01:37:39.107357Z",
     "shell.execute_reply.started": "2022-11-07T01:37:14.858785Z"
    },
    "tags": []
   },
   "outputs": [],
   "source": [
    "targets_copy = scipy.sparse.load_npz(\"../sparse/train_multi_targets_values.sparse.npz\")\n",
    "targets_copy = scprep.filter.remove_empty_genes(targets_copy)\n",
    "targets = targets_copy.copy()\n",
    "targets = targets_copy[day7_donor1]\n",
    "# Normalize the targets row-wise: This doesn't change the correlations,\n",
    "# and negative_correlation_loss depends on it\n",
    "targets -= targets.mean(axis=1).reshape(-1, 1)\n",
    "targets /= targets.std(axis=1).reshape(-1, 1)\n",
    "targets = np.array(targets)\n",
    "svd = TruncatedSVD(n_components = 512,random_state = 1)\n",
    "svd.fit(targets)\n",
    "Y = svd.transform(targets)"
   ]
  },
  {
   "cell_type": "code",
   "execution_count": 79,
   "id": "62f7e1b3-d866-4f09-988c-2d3bef571495",
   "metadata": {
    "execution": {
     "iopub.execute_input": "2022-11-07T01:38:18.531443Z",
     "iopub.status.busy": "2022-11-07T01:38:18.531047Z",
     "iopub.status.idle": "2022-11-07T01:38:18.637303Z",
     "shell.execute_reply": "2022-11-07T01:38:18.636277Z",
     "shell.execute_reply.started": "2022-11-07T01:38:18.531419Z"
    },
    "tags": []
   },
   "outputs": [
    {
     "name": "stdout",
     "output_type": "stream",
     "text": [
      "(1000, 180)\n",
      "(1000, 64)\n",
      "(1000, 22858)\n"
     ]
    }
   ],
   "source": [
    "inputs_both_128 = np.load(\"../multi_pca/inputs_both_128.npy\")\n",
    "X = inputs_both_128[:targets_copy.shape[0],:40]\n",
    "X = X[day7_donor1][:1000,:40]\n",
    "Y = svd.transform(targets[:1000])[:,:64]\n",
    "targets = targets[:1000]\n",
    "X = np.hstack([X,prot])\n",
    "print(X.shape)\n",
    "print(Y.shape)\n",
    "print(targets.shape)"
   ]
  },
  {
   "cell_type": "code",
   "execution_count": 80,
   "id": "0eff1315-e2bc-4f33-856a-472737768e3c",
   "metadata": {
    "execution": {
     "iopub.execute_input": "2022-11-07T01:38:45.314082Z",
     "iopub.status.busy": "2022-11-07T01:38:45.313480Z",
     "iopub.status.idle": "2022-11-07T01:39:30.927158Z",
     "shell.execute_reply": "2022-11-07T01:39:30.926520Z",
     "shell.execute_reply.started": "2022-11-07T01:38:45.314056Z"
    }
   },
   "outputs": [
    {
     "name": "stdout",
     "output_type": "stream",
     "text": [
      "11/11 [==============================] - 0s 2ms/step\n",
      "\n",
      " --------- FOLD 0 -----------\n",
      "Mean squared error = 10.470000267028809\n",
      "Correlation = 0.61938\n",
      "PCA Correlation = 0.96431\n",
      "model saved : model_0\n",
      "11/11 [==============================] - 0s 2ms/step\n",
      "\n",
      " --------- FOLD 1 -----------\n",
      "Mean squared error = 10.239999771118164\n",
      "Correlation = 0.62692\n",
      "PCA Correlation = 0.96559\n",
      "model saved : model_1\n",
      "11/11 [==============================] - 0s 2ms/step\n",
      "\n",
      " --------- FOLD 2 -----------\n",
      "Mean squared error = 10.640000343322754\n",
      "Correlation = 0.62486\n",
      "PCA Correlation = 0.96431\n",
      "model saved : model_2\n",
      "\u001b[32m\u001b[1mMean corr = 0.62372\u001b[0m\n",
      "\u001b[31m\u001b[1mMean pca corr = 0.96474\u001b[0m\n"
     ]
    }
   ],
   "source": [
    "import warnings\n",
    "warnings.filterwarnings(\"ignore\")\n",
    "\n",
    "VERBOSE = 0\n",
    "N_SPLIT = 3\n",
    "#kf = KFold(n_splits=N_SPLIT, shuffle=True, random_state=42)\n",
    "kf = KFold(n_splits = N_SPLIT)\n",
    "\n",
    "scores = []\n",
    "pca_scores = []\n",
    "Y_pred = np.zeros_like(Y)\n",
    "\n",
    "for fold,(idx_tr, idx_va) in enumerate(kf.split(X)):\n",
    "    \n",
    "    X_tr = X[idx_tr]\n",
    "    y_tr = Y[idx_tr]\n",
    "    \n",
    "    X_va = X[idx_va]\n",
    "    y_va = Y[idx_va] \n",
    "\n",
    "    model = create_model()\n",
    "\n",
    "    lr = ReduceLROnPlateau(\n",
    "                monitor = \"val_loss\",\n",
    "                factor = 0.9, \n",
    "                patience = 4, \n",
    "                verbose = VERBOSE)\n",
    "\n",
    "    es = EarlyStopping(\n",
    "                monitor = \"val_loss\",\n",
    "                patience = 30, \n",
    "                verbose = VERBOSE,\n",
    "                mode = \"min\", \n",
    "                restore_best_weights = True)\n",
    "\n",
    "    model.compile(optimizer=tf.keras.optimizers.Adam(learning_rate=1e-3),\n",
    "                  loss = 'mse',\n",
    "                  metrics=None)\n",
    "    model.fit(X_tr,\n",
    "              y_tr,\n",
    "              validation_data=(X_va,y_va),\n",
    "              epochs =500,\n",
    "              verbose = VERBOSE,\n",
    "              batch_size=256,\n",
    "              callbacks = [es,lr]\n",
    "             )\n",
    "    y_va_pred = model.predict(X_va)\n",
    "    Y_pred[idx_va] = y_va_pred\n",
    "    corrscore = correlation_score(targets[idx_va], y_va_pred@svd.components_[:64])\n",
    "    scores.append(corrscore)\n",
    "    pca_corrscore = correlation_score(y_va[:,:64], y_va_pred[:,:64])\n",
    "    pca_scores.append(pca_corrscore)\n",
    "\n",
    "    print(f'\\n --------- FOLD {fold} -----------')\n",
    "    print(f'Mean squared error = {np.round(mean_squared_error(y_va,y_va_pred),2)}')\n",
    "    print(f'Correlation = {corrscore:.5f}')\n",
    "    print(f'PCA Correlation = {pca_corrscore:.5f}')\n",
    "\n",
    "    filename = f\"model_{fold}\"\n",
    "    model.save(filename)\n",
    "    print('model saved :',filename)\n",
    "\n",
    "    del X_tr,X_va,y_tr,y_va\n",
    "    gc.collect()\n",
    "\n",
    "# Show overall score\n",
    "print(f\"{Fore.GREEN}{Style.BRIGHT}Mean corr = {np.array(scores).mean():.5f}{Style.RESET_ALL}\")\n",
    "print(f\"{Fore.RED}{Style.BRIGHT}Mean pca corr = {np.array(pca_scores).mean():.5f}{Style.RESET_ALL}\")\n",
    "# score_total = correlation_score(targets, pred_train@svd.components_)#pred_train@pca_target_comps)\n",
    "# print(f\"{Fore.BLUE}{Style.BRIGHT}Oof corr   = {score_total:.5f}{Style.RESET_ALL}\")"
   ]
  },
  {
   "cell_type": "code",
   "execution_count": null,
   "id": "99245d47-889e-4978-8e6a-cbe4e09d5a84",
   "metadata": {},
   "outputs": [],
   "source": [
    "day4_donor1 = meta.loc[(meta.day == 4)&(meta.donor == 32606)].range.values\n",
    "targets_copy = scipy.sparse.load_npz(\"../sparse/train_multi_targets_values.sparse.npz\")\n",
    "targets_copy = scprep.filter.remove_empty_genes(targets_copy)\n",
    "targets = targets_copy.copy()\n",
    "targets = targets_copy[day7_donor1]\n",
    "# Normalize the targets row-wise: This doesn't change the correlations,\n",
    "# and negative_correlation_loss depends on it\n",
    "targets -= targets.mean(axis=1).reshape(-1, 1)\n",
    "targets /= targets.std(axis=1).reshape(-1, 1)\n",
    "targets = np.array(targets)\n",
    "svd = TruncatedSVD(n_components = 512,random_state = 1)\n",
    "svd.fit(targets)\n",
    "Y = svd.transform(targets_copy[day4_donor1])"
   ]
  },
  {
   "cell_type": "code",
   "execution_count": 26,
   "id": "e9fcb10a-1e4a-45c0-b127-0ab0b8e85ea3",
   "metadata": {
    "execution": {
     "iopub.execute_input": "2022-11-07T18:25:43.616672Z",
     "iopub.status.busy": "2022-11-07T18:25:43.616300Z",
     "iopub.status.idle": "2022-11-07T18:25:43.620767Z",
     "shell.execute_reply": "2022-11-07T18:25:43.620261Z",
     "shell.execute_reply.started": "2022-11-07T18:25:43.616645Z"
    }
   },
   "outputs": [
    {
     "data": {
      "text/plain": [
       "<keras.engine.functional.Functional at 0x7f135835dcd0>"
      ]
     },
     "execution_count": 26,
     "metadata": {},
     "output_type": "execute_result"
    }
   ],
   "source": [
    "model_cite.predict("
   ]
  },
  {
   "cell_type": "code",
   "execution_count": 28,
   "id": "9dfc387b-cc99-4378-b41b-133faff3c54d",
   "metadata": {
    "execution": {
     "iopub.execute_input": "2022-11-07T18:26:09.252328Z",
     "iopub.status.busy": "2022-11-07T18:26:09.251962Z",
     "iopub.status.idle": "2022-11-07T18:26:09.256392Z",
     "shell.execute_reply": "2022-11-07T18:26:09.255893Z",
     "shell.execute_reply.started": "2022-11-07T18:26:09.252301Z"
    },
    "tags": []
   },
   "outputs": [
    {
     "data": {
      "text/plain": [
       "(1000, 40)"
      ]
     },
     "execution_count": 28,
     "metadata": {},
     "output_type": "execute_result"
    }
   ],
   "source": [
    "X.shape"
   ]
  },
  {
   "cell_type": "code",
   "execution_count": 29,
   "id": "e26a87e1-1c1e-4756-8ba2-eb5d86e26100",
   "metadata": {
    "execution": {
     "iopub.execute_input": "2022-11-07T18:27:36.744661Z",
     "iopub.status.busy": "2022-11-07T18:27:36.744283Z",
     "iopub.status.idle": "2022-11-07T18:27:46.599113Z",
     "shell.execute_reply": "2022-11-07T18:27:46.598300Z",
     "shell.execute_reply.started": "2022-11-07T18:27:36.744633Z"
    },
    "tags": []
   },
   "outputs": [
    {
     "ename": "KeyboardInterrupt",
     "evalue": "",
     "output_type": "error",
     "traceback": [
      "\u001b[0;31m---------------------------------------------------------------------------\u001b[0m",
      "\u001b[0;31mKeyboardInterrupt\u001b[0m                         Traceback (most recent call last)",
      "Input \u001b[0;32mIn [29]\u001b[0m, in \u001b[0;36m<cell line: 1>\u001b[0;34m()\u001b[0m\n\u001b[0;32m----> 1\u001b[0m X \u001b[38;5;241m=\u001b[39m \u001b[43mscipy\u001b[49m\u001b[38;5;241;43m.\u001b[39;49m\u001b[43msparse\u001b[49m\u001b[38;5;241;43m.\u001b[39;49m\u001b[43mload_npz\u001b[49m\u001b[43m(\u001b[49m\u001b[38;5;124;43m'\u001b[39;49m\u001b[38;5;124;43m../sparse/train_cite_inputs_values.sparse.npz\u001b[39;49m\u001b[38;5;124;43m'\u001b[39;49m\u001b[43m)\u001b[49m\n\u001b[1;32m      2\u001b[0m X \u001b[38;5;241m=\u001b[39m X[:\u001b[38;5;241m7000\u001b[39m]\n\u001b[1;32m      3\u001b[0m svd_cite \u001b[38;5;241m=\u001b[39m TruncatedSVD(n_components \u001b[38;5;241m=\u001b[39m \u001b[38;5;241m128\u001b[39m)\n",
      "File \u001b[0;32m/srv/conda/envs/saturn/lib/python3.9/site-packages/scipy/sparse/_matrix_io.py:142\u001b[0m, in \u001b[0;36mload_npz\u001b[0;34m(file)\u001b[0m\n\u001b[1;32m    139\u001b[0m     \u001b[38;5;28;01mraise\u001b[39;00m \u001b[38;5;167;01mValueError\u001b[39;00m(\u001b[38;5;124m'\u001b[39m\u001b[38;5;124mUnknown matrix format \u001b[39m\u001b[38;5;124m\"\u001b[39m\u001b[38;5;132;01m{}\u001b[39;00m\u001b[38;5;124m\"\u001b[39m\u001b[38;5;124m'\u001b[39m\u001b[38;5;241m.\u001b[39mformat(matrix_format)) \u001b[38;5;28;01mfrom\u001b[39;00m \u001b[38;5;21;01me\u001b[39;00m\n\u001b[1;32m    141\u001b[0m \u001b[38;5;28;01mif\u001b[39;00m matrix_format \u001b[38;5;129;01min\u001b[39;00m (\u001b[38;5;124m'\u001b[39m\u001b[38;5;124mcsc\u001b[39m\u001b[38;5;124m'\u001b[39m, \u001b[38;5;124m'\u001b[39m\u001b[38;5;124mcsr\u001b[39m\u001b[38;5;124m'\u001b[39m, \u001b[38;5;124m'\u001b[39m\u001b[38;5;124mbsr\u001b[39m\u001b[38;5;124m'\u001b[39m):\n\u001b[0;32m--> 142\u001b[0m     \u001b[38;5;28;01mreturn\u001b[39;00m \u001b[38;5;28mcls\u001b[39m((loaded[\u001b[38;5;124m'\u001b[39m\u001b[38;5;124mdata\u001b[39m\u001b[38;5;124m'\u001b[39m], \u001b[43mloaded\u001b[49m\u001b[43m[\u001b[49m\u001b[38;5;124;43m'\u001b[39;49m\u001b[38;5;124;43mindices\u001b[39;49m\u001b[38;5;124;43m'\u001b[39;49m\u001b[43m]\u001b[49m, loaded[\u001b[38;5;124m'\u001b[39m\u001b[38;5;124mindptr\u001b[39m\u001b[38;5;124m'\u001b[39m]), shape\u001b[38;5;241m=\u001b[39mloaded[\u001b[38;5;124m'\u001b[39m\u001b[38;5;124mshape\u001b[39m\u001b[38;5;124m'\u001b[39m])\n\u001b[1;32m    143\u001b[0m \u001b[38;5;28;01melif\u001b[39;00m matrix_format \u001b[38;5;241m==\u001b[39m \u001b[38;5;124m'\u001b[39m\u001b[38;5;124mdia\u001b[39m\u001b[38;5;124m'\u001b[39m:\n\u001b[1;32m    144\u001b[0m     \u001b[38;5;28;01mreturn\u001b[39;00m \u001b[38;5;28mcls\u001b[39m((loaded[\u001b[38;5;124m'\u001b[39m\u001b[38;5;124mdata\u001b[39m\u001b[38;5;124m'\u001b[39m], loaded[\u001b[38;5;124m'\u001b[39m\u001b[38;5;124moffsets\u001b[39m\u001b[38;5;124m'\u001b[39m]), shape\u001b[38;5;241m=\u001b[39mloaded[\u001b[38;5;124m'\u001b[39m\u001b[38;5;124mshape\u001b[39m\u001b[38;5;124m'\u001b[39m])\n",
      "File \u001b[0;32m/srv/conda/envs/saturn/lib/python3.9/site-packages/numpy/lib/npyio.py:245\u001b[0m, in \u001b[0;36mNpzFile.__getitem__\u001b[0;34m(self, key)\u001b[0m\n\u001b[1;32m    243\u001b[0m \u001b[38;5;28;01mif\u001b[39;00m magic \u001b[38;5;241m==\u001b[39m \u001b[38;5;28mformat\u001b[39m\u001b[38;5;241m.\u001b[39mMAGIC_PREFIX:\n\u001b[1;32m    244\u001b[0m     \u001b[38;5;28mbytes\u001b[39m \u001b[38;5;241m=\u001b[39m \u001b[38;5;28mself\u001b[39m\u001b[38;5;241m.\u001b[39mzip\u001b[38;5;241m.\u001b[39mopen(key)\n\u001b[0;32m--> 245\u001b[0m     \u001b[38;5;28;01mreturn\u001b[39;00m \u001b[38;5;28;43mformat\u001b[39;49m\u001b[38;5;241;43m.\u001b[39;49m\u001b[43mread_array\u001b[49m\u001b[43m(\u001b[49m\u001b[38;5;28;43mbytes\u001b[39;49m\u001b[43m,\u001b[49m\n\u001b[1;32m    246\u001b[0m \u001b[43m                             \u001b[49m\u001b[43mallow_pickle\u001b[49m\u001b[38;5;241;43m=\u001b[39;49m\u001b[38;5;28;43mself\u001b[39;49m\u001b[38;5;241;43m.\u001b[39;49m\u001b[43mallow_pickle\u001b[49m\u001b[43m,\u001b[49m\n\u001b[1;32m    247\u001b[0m \u001b[43m                             \u001b[49m\u001b[43mpickle_kwargs\u001b[49m\u001b[38;5;241;43m=\u001b[39;49m\u001b[38;5;28;43mself\u001b[39;49m\u001b[38;5;241;43m.\u001b[39;49m\u001b[43mpickle_kwargs\u001b[49m\u001b[43m)\u001b[49m\n\u001b[1;32m    248\u001b[0m \u001b[38;5;28;01melse\u001b[39;00m:\n\u001b[1;32m    249\u001b[0m     \u001b[38;5;28;01mreturn\u001b[39;00m \u001b[38;5;28mself\u001b[39m\u001b[38;5;241m.\u001b[39mzip\u001b[38;5;241m.\u001b[39mread(key)\n",
      "File \u001b[0;32m/srv/conda/envs/saturn/lib/python3.9/site-packages/numpy/lib/format.py:778\u001b[0m, in \u001b[0;36mread_array\u001b[0;34m(fp, allow_pickle, pickle_kwargs)\u001b[0m\n\u001b[1;32m    776\u001b[0m             read_size \u001b[38;5;241m=\u001b[39m \u001b[38;5;28mint\u001b[39m(read_count \u001b[38;5;241m*\u001b[39m dtype\u001b[38;5;241m.\u001b[39mitemsize)\n\u001b[1;32m    777\u001b[0m             data \u001b[38;5;241m=\u001b[39m _read_bytes(fp, read_size, \u001b[38;5;124m\"\u001b[39m\u001b[38;5;124marray data\u001b[39m\u001b[38;5;124m\"\u001b[39m)\n\u001b[0;32m--> 778\u001b[0m             \u001b[43marray\u001b[49m\u001b[43m[\u001b[49m\u001b[43mi\u001b[49m\u001b[43m:\u001b[49m\u001b[43mi\u001b[49m\u001b[38;5;241;43m+\u001b[39;49m\u001b[43mread_count\u001b[49m\u001b[43m]\u001b[49m \u001b[38;5;241m=\u001b[39m numpy\u001b[38;5;241m.\u001b[39mfrombuffer(data, dtype\u001b[38;5;241m=\u001b[39mdtype,\n\u001b[1;32m    779\u001b[0m                                                      count\u001b[38;5;241m=\u001b[39mread_count)\n\u001b[1;32m    781\u001b[0m \u001b[38;5;28;01mif\u001b[39;00m fortran_order:\n\u001b[1;32m    782\u001b[0m     array\u001b[38;5;241m.\u001b[39mshape \u001b[38;5;241m=\u001b[39m shape[::\u001b[38;5;241m-\u001b[39m\u001b[38;5;241m1\u001b[39m]\n",
      "\u001b[0;31mKeyboardInterrupt\u001b[0m: "
     ]
    }
   ],
   "source": [
    "X = scipy.sparse.load_npz('../sparse/train_cite_inputs_values.sparse.npz')\n",
    "X = X[:7000]\n",
    "X = X[:,mask_cite]\n",
    "svd_cite = TruncatedSVD(n_components = 128)\n",
    "X = svd_cite.fit_transform(X)\n",
    "X = X[:,:64]"
   ]
  }
 ],
 "metadata": {
  "kernelspec": {
   "display_name": "saturn (Python 3)",
   "language": "python",
   "name": "python3"
  },
  "language_info": {
   "codemirror_mode": {
    "name": "ipython",
    "version": 3
   },
   "file_extension": ".py",
   "mimetype": "text/x-python",
   "name": "python",
   "nbconvert_exporter": "python",
   "pygments_lexer": "ipython3",
   "version": "3.9.13"
  }
 },
 "nbformat": 4,
 "nbformat_minor": 5
}
