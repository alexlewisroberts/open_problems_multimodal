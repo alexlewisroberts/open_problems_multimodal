{
 "cells": [
  {
   "cell_type": "code",
   "execution_count": 1,
   "id": "32ecbe66-e52e-40fa-b0b0-c8db3b6a1f02",
   "metadata": {
    "execution": {
     "iopub.execute_input": "2022-11-03T17:39:56.947969Z",
     "iopub.status.busy": "2022-11-03T17:39:56.947564Z",
     "iopub.status.idle": "2022-11-03T17:40:00.849835Z",
     "shell.execute_reply": "2022-11-03T17:40:00.849221Z",
     "shell.execute_reply.started": "2022-11-03T17:39:56.947905Z"
    }
   },
   "outputs": [],
   "source": [
    "%%capture\n",
    "!pip install tables\n",
    "!pip install keras-tuner\n",
    "import os, gc, pickle, datetime, scipy.sparse\n",
    "import pandas as pd\n",
    "import matplotlib.pyplot as plt\n",
    "import numpy as np\n",
    "from colorama import Fore, Back, Style\n",
    "\n",
    "from sklearn.model_selection import GroupKFold, KFold\n",
    "from sklearn.preprocessing import StandardScaler\n",
    "from sklearn.decomposition import TruncatedSVD,PCA\n",
    "from sklearn.metrics import mean_squared_error\n",
    "\n",
    "import matplotlib.pyplot as plt\n",
    "from matplotlib.ticker import MaxNLocator\n",
    "import seaborn as sns\n",
    "from cycler import cycler\n",
    "from IPython.display import display\n",
    "\n",
    "import scipy.sparse\n",
    "import scprep\n",
    "\n",
    "VERBOSE = 0"
   ]
  },
  {
   "cell_type": "code",
   "execution_count": 11,
   "id": "4799de7a-a10f-4c70-adc6-935d9ed7886e",
   "metadata": {
    "execution": {
     "iopub.execute_input": "2022-11-03T17:44:31.013384Z",
     "iopub.status.busy": "2022-11-03T17:44:31.013016Z",
     "iopub.status.idle": "2022-11-03T17:44:31.019108Z",
     "shell.execute_reply": "2022-11-03T17:44:31.018553Z",
     "shell.execute_reply.started": "2022-11-03T17:44:31.013362Z"
    }
   },
   "outputs": [],
   "source": [
    "def correlation_score(y_true, y_pred):\n",
    "    if type(y_true) == pd.DataFrame: y_true = y_true.values\n",
    "    if type(y_pred) == pd.DataFrame: y_pred = y_pred.values\n",
    "    corrsum = 0\n",
    "    for i in range(y_true.shape[0]):\n",
    "        corrsum += np.corrcoef(y_true[i], y_pred[i])[1, 0]\n",
    "    return corrsum / len(y_true)\n",
    "\n",
    "def negative_correlation_loss(y_true, y_pred):\n",
    "    my = K.mean(tf.convert_to_tensor(y_pred), axis=1)\n",
    "    my = tf.tile(tf.expand_dims(my, axis=1), (1, tf.shape(y_true)[1]))\n",
    "    ym = y_pred - my\n",
    "    r_num = K.sum(tf.multiply(y_true, ym), axis=1)\n",
    "    r_den = tf.sqrt(K.sum(K.square(ym), axis=1) * float(tf.shape(y_true)[-1]))\n",
    "    r = tf.reduce_mean(r_num / r_den)\n",
    "    return - r"
   ]
  },
  {
   "cell_type": "code",
   "execution_count": 148,
   "id": "0144ac1d-5ab1-4b79-80b7-084ea3bf9923",
   "metadata": {
    "execution": {
     "iopub.execute_input": "2022-11-03T21:25:31.149772Z",
     "iopub.status.busy": "2022-11-03T21:25:31.149390Z",
     "iopub.status.idle": "2022-11-03T21:25:34.341304Z",
     "shell.execute_reply": "2022-11-03T21:25:34.340535Z",
     "shell.execute_reply.started": "2022-11-03T21:25:31.149749Z"
    },
    "tags": []
   },
   "outputs": [],
   "source": [
    "%%capture\n",
    "!pip install keras_tuner\n",
    "import keras_tuner"
   ]
  },
  {
   "cell_type": "code",
   "execution_count": 152,
   "id": "692e7cb0-ec0e-42fc-bceb-289f925dde0e",
   "metadata": {
    "execution": {
     "iopub.execute_input": "2022-11-03T21:26:48.528507Z",
     "iopub.status.busy": "2022-11-03T21:26:48.528126Z",
     "iopub.status.idle": "2022-11-03T21:26:48.531835Z",
     "shell.execute_reply": "2022-11-03T21:26:48.531149Z",
     "shell.execute_reply.started": "2022-11-03T21:26:48.528485Z"
    }
   },
   "outputs": [],
   "source": [
    "from sklearn.model_selection import train_test_split"
   ]
  },
  {
   "cell_type": "code",
   "execution_count": 174,
   "id": "64c371ed-4ae4-48c5-bbb2-8da666cd3ba9",
   "metadata": {
    "execution": {
     "iopub.execute_input": "2022-11-03T23:02:45.778835Z",
     "iopub.status.busy": "2022-11-03T23:02:45.778438Z",
     "iopub.status.idle": "2022-11-03T23:02:45.782691Z",
     "shell.execute_reply": "2022-11-03T23:02:45.782186Z",
     "shell.execute_reply.started": "2022-11-03T23:02:45.778810Z"
    },
    "tags": []
   },
   "outputs": [
    {
     "data": {
      "text/plain": [
       "(10594, 22858)"
      ]
     },
     "execution_count": 174,
     "metadata": {},
     "output_type": "execute_result"
    }
   ],
   "source": [
    "targets.shape"
   ]
  },
  {
   "cell_type": "code",
   "execution_count": 177,
   "id": "e317e67a-5887-4d0b-9fe6-408f92f3a47c",
   "metadata": {
    "execution": {
     "iopub.execute_input": "2022-11-04T00:15:29.876231Z",
     "iopub.status.busy": "2022-11-04T00:15:29.875790Z",
     "iopub.status.idle": "2022-11-04T00:15:30.515411Z",
     "shell.execute_reply": "2022-11-04T00:15:30.513674Z",
     "shell.execute_reply.started": "2022-11-04T00:15:29.876207Z"
    }
   },
   "outputs": [],
   "source": [
    "metadata_df = pd.read_csv('../../input/open-problems-multimodal/metadata.csv', index_col='cell_id')\n",
    "metadata_df = metadata_df[metadata_df.technology==\"multiome\"]\n",
    "meta = metadata_df.reindex(cell_index)\n",
    "meta = meta.iloc[:10592]"
   ]
  },
  {
   "cell_type": "code",
   "execution_count": 179,
   "id": "e5288941-e79b-4df7-90fb-29f953938b2f",
   "metadata": {
    "execution": {
     "iopub.execute_input": "2022-11-04T00:15:43.130297Z",
     "iopub.status.busy": "2022-11-04T00:15:43.129914Z",
     "iopub.status.idle": "2022-11-04T00:15:43.157326Z",
     "shell.execute_reply": "2022-11-04T00:15:43.155633Z",
     "shell.execute_reply.started": "2022-11-04T00:15:43.130274Z"
    },
    "tags": []
   },
   "outputs": [
    {
     "data": {
      "text/html": [
       "<div>\n",
       "<style scoped>\n",
       "    .dataframe tbody tr th:only-of-type {\n",
       "        vertical-align: middle;\n",
       "    }\n",
       "\n",
       "    .dataframe tbody tr th {\n",
       "        vertical-align: top;\n",
       "    }\n",
       "\n",
       "    .dataframe thead th {\n",
       "        text-align: right;\n",
       "    }\n",
       "</style>\n",
       "<table border=\"1\" class=\"dataframe\">\n",
       "  <thead>\n",
       "    <tr style=\"text-align: right;\">\n",
       "      <th></th>\n",
       "      <th>donor</th>\n",
       "      <th>cell_type</th>\n",
       "      <th>technology</th>\n",
       "    </tr>\n",
       "    <tr>\n",
       "      <th>day</th>\n",
       "      <th></th>\n",
       "      <th></th>\n",
       "      <th></th>\n",
       "    </tr>\n",
       "  </thead>\n",
       "  <tbody>\n",
       "    <tr>\n",
       "      <th>2</th>\n",
       "      <td>7264</td>\n",
       "      <td>7264</td>\n",
       "      <td>7264</td>\n",
       "    </tr>\n",
       "    <tr>\n",
       "      <th>3</th>\n",
       "      <td>3328</td>\n",
       "      <td>3328</td>\n",
       "      <td>3328</td>\n",
       "    </tr>\n",
       "  </tbody>\n",
       "</table>\n",
       "</div>"
      ],
      "text/plain": [
       "     donor  cell_type  technology\n",
       "day                              \n",
       "2     7264       7264        7264\n",
       "3     3328       3328        3328"
      ]
     },
     "execution_count": 179,
     "metadata": {},
     "output_type": "execute_result"
    }
   ],
   "source": [
    "meta.groupby('day').count()"
   ]
  },
  {
   "cell_type": "code",
   "execution_count": 180,
   "id": "1eaeb0b2-f242-465d-89bb-8271f2cca2e4",
   "metadata": {
    "execution": {
     "iopub.execute_input": "2022-11-04T00:16:20.592547Z",
     "iopub.status.busy": "2022-11-04T00:16:20.591640Z",
     "iopub.status.idle": "2022-11-04T00:16:21.219775Z",
     "shell.execute_reply": "2022-11-04T00:16:21.218718Z",
     "shell.execute_reply.started": "2022-11-04T00:16:20.592515Z"
    }
   },
   "outputs": [],
   "source": [
    "metadata_df = pd.read_csv('../../input/open-problems-multimodal/metadata.csv', index_col='cell_id')\n",
    "metadata_df = metadata_df[metadata_df.technology==\"multiome\"]\n",
    "meta = metadata_df.reindex(cell_index)"
   ]
  },
  {
   "cell_type": "code",
   "execution_count": 182,
   "id": "ec6d8227-f62f-42b2-8eab-e417abb5d7a4",
   "metadata": {
    "execution": {
     "iopub.execute_input": "2022-11-04T00:17:05.227998Z",
     "iopub.status.busy": "2022-11-04T00:17:05.227570Z",
     "iopub.status.idle": "2022-11-04T00:17:05.253937Z",
     "shell.execute_reply": "2022-11-04T00:17:05.252499Z",
     "shell.execute_reply.started": "2022-11-04T00:17:05.227967Z"
    },
    "tags": []
   },
   "outputs": [
    {
     "data": {
      "text/html": [
       "<div>\n",
       "<style scoped>\n",
       "    .dataframe tbody tr th:only-of-type {\n",
       "        vertical-align: middle;\n",
       "    }\n",
       "\n",
       "    .dataframe tbody tr th {\n",
       "        vertical-align: top;\n",
       "    }\n",
       "\n",
       "    .dataframe thead th {\n",
       "        text-align: right;\n",
       "    }\n",
       "</style>\n",
       "<table border=\"1\" class=\"dataframe\">\n",
       "  <thead>\n",
       "    <tr style=\"text-align: right;\">\n",
       "      <th></th>\n",
       "      <th>day</th>\n",
       "      <th>donor</th>\n",
       "      <th>cell_type</th>\n",
       "      <th>technology</th>\n",
       "    </tr>\n",
       "    <tr>\n",
       "      <th>cell_id</th>\n",
       "      <th></th>\n",
       "      <th></th>\n",
       "      <th></th>\n",
       "      <th></th>\n",
       "    </tr>\n",
       "  </thead>\n",
       "  <tbody>\n",
       "    <tr>\n",
       "      <th>611fc1195807</th>\n",
       "      <td>7</td>\n",
       "      <td>32606</td>\n",
       "      <td>MasP</td>\n",
       "      <td>multiome</td>\n",
       "    </tr>\n",
       "    <tr>\n",
       "      <th>d8ac427860ab</th>\n",
       "      <td>7</td>\n",
       "      <td>32606</td>\n",
       "      <td>EryP</td>\n",
       "      <td>multiome</td>\n",
       "    </tr>\n",
       "    <tr>\n",
       "      <th>a5d9dab35d0d</th>\n",
       "      <td>7</td>\n",
       "      <td>32606</td>\n",
       "      <td>HSC</td>\n",
       "      <td>multiome</td>\n",
       "    </tr>\n",
       "    <tr>\n",
       "      <th>17f3beafca35</th>\n",
       "      <td>7</td>\n",
       "      <td>32606</td>\n",
       "      <td>NeuP</td>\n",
       "      <td>multiome</td>\n",
       "    </tr>\n",
       "    <tr>\n",
       "      <th>44ebe48354cf</th>\n",
       "      <td>7</td>\n",
       "      <td>32606</td>\n",
       "      <td>NeuP</td>\n",
       "      <td>multiome</td>\n",
       "    </tr>\n",
       "    <tr>\n",
       "      <th>...</th>\n",
       "      <td>...</td>\n",
       "      <td>...</td>\n",
       "      <td>...</td>\n",
       "      <td>...</td>\n",
       "    </tr>\n",
       "    <tr>\n",
       "      <th>063cead1a4ea</th>\n",
       "      <td>7</td>\n",
       "      <td>31800</td>\n",
       "      <td>HSC</td>\n",
       "      <td>multiome</td>\n",
       "    </tr>\n",
       "    <tr>\n",
       "      <th>553bca99ba78</th>\n",
       "      <td>7</td>\n",
       "      <td>31800</td>\n",
       "      <td>MasP</td>\n",
       "      <td>multiome</td>\n",
       "    </tr>\n",
       "    <tr>\n",
       "      <th>00783f28b463</th>\n",
       "      <td>7</td>\n",
       "      <td>31800</td>\n",
       "      <td>NeuP</td>\n",
       "      <td>multiome</td>\n",
       "    </tr>\n",
       "    <tr>\n",
       "      <th>e7abb1a0f251</th>\n",
       "      <td>7</td>\n",
       "      <td>31800</td>\n",
       "      <td>EryP</td>\n",
       "      <td>multiome</td>\n",
       "    </tr>\n",
       "    <tr>\n",
       "      <th>193992d571a5</th>\n",
       "      <td>7</td>\n",
       "      <td>31800</td>\n",
       "      <td>MasP</td>\n",
       "      <td>multiome</td>\n",
       "    </tr>\n",
       "  </tbody>\n",
       "</table>\n",
       "<p>22082 rows × 4 columns</p>\n",
       "</div>"
      ],
      "text/plain": [
       "              day  donor cell_type technology\n",
       "cell_id                                      \n",
       "611fc1195807    7  32606      MasP   multiome\n",
       "d8ac427860ab    7  32606      EryP   multiome\n",
       "a5d9dab35d0d    7  32606       HSC   multiome\n",
       "17f3beafca35    7  32606      NeuP   multiome\n",
       "44ebe48354cf    7  32606      NeuP   multiome\n",
       "...           ...    ...       ...        ...\n",
       "063cead1a4ea    7  31800       HSC   multiome\n",
       "553bca99ba78    7  31800      MasP   multiome\n",
       "00783f28b463    7  31800      NeuP   multiome\n",
       "e7abb1a0f251    7  31800      EryP   multiome\n",
       "193992d571a5    7  31800      MasP   multiome\n",
       "\n",
       "[22082 rows x 4 columns]"
      ]
     },
     "execution_count": 182,
     "metadata": {},
     "output_type": "execute_result"
    }
   ],
   "source": [
    "meta.loc[meta.day == 7]"
   ]
  },
  {
   "cell_type": "code",
   "execution_count": 176,
   "id": "944b7c4d-2e5c-4a49-adb5-2f2e1b28a5a4",
   "metadata": {
    "execution": {
     "iopub.execute_input": "2022-11-03T23:03:38.199820Z",
     "iopub.status.busy": "2022-11-03T23:03:38.199368Z",
     "iopub.status.idle": "2022-11-04T00:10:34.321999Z",
     "shell.execute_reply": "2022-11-04T00:10:34.321143Z",
     "shell.execute_reply.started": "2022-11-03T23:03:38.199797Z"
    },
    "tags": []
   },
   "outputs": [
    {
     "name": "stdout",
     "output_type": "stream",
     "text": [
      "Trial 30 Complete [00h 02m 28s]\n",
      "val_negative_correlation_loss: -0.674669623374939\n",
      "\n",
      "Best val_negative_correlation_loss So Far: -0.6767739057540894\n",
      "Total elapsed time: 01h 06m 55s\n",
      "Results summary\n",
      "Results in /kaggle/temp/untitled_project\n",
      "Showing 10 best trials\n",
      "<keras_tuner.engine.objective.Objective object at 0x7fb00bfa7760>\n",
      "Trial summary\n",
      "Hyperparameters:\n",
      "reg1: 0.0001\n",
      "reg2: 3.307001554236342e-07\n",
      "units1: 256\n",
      "units2: 256\n",
      "units3: 256\n",
      "lr: 0.001\n",
      "Score: -0.6767739057540894\n",
      "Trial summary\n",
      "Hyperparameters:\n",
      "reg1: 0.0001\n",
      "reg2: 8.4533922711223e-08\n",
      "units1: 256\n",
      "units2: 1024\n",
      "units3: 1024\n",
      "lr: 0.001\n",
      "Score: -0.6767122149467468\n",
      "Trial summary\n",
      "Hyperparameters:\n",
      "reg1: 0.0001\n",
      "reg2: 1e-08\n",
      "units1: 256\n",
      "units2: 256\n",
      "units3: 1024\n",
      "lr: 0.001\n",
      "Score: -0.6766196489334106\n",
      "Trial summary\n",
      "Hyperparameters:\n",
      "reg1: 2.621834283020877e-06\n",
      "reg2: 3.5043930455315717e-07\n",
      "units1: 512\n",
      "units2: 256\n",
      "units3: 1024\n",
      "lr: 0.001\n",
      "Score: -0.6765390634536743\n",
      "Trial summary\n",
      "Hyperparameters:\n",
      "reg1: 3.4501592621734256e-06\n",
      "reg2: 2.693819104730028e-07\n",
      "units1: 1024\n",
      "units2: 256\n",
      "units3: 512\n",
      "lr: 0.001\n",
      "Score: -0.6763966083526611\n",
      "Trial summary\n",
      "Hyperparameters:\n",
      "reg1: 1.2682169429622403e-05\n",
      "reg2: 1.9197836172909604e-07\n",
      "units1: 512\n",
      "units2: 512\n",
      "units3: 512\n",
      "lr: 0.001\n",
      "Score: -0.6763399839401245\n",
      "Trial summary\n",
      "Hyperparameters:\n",
      "reg1: 1.3325742415840983e-06\n",
      "reg2: 1.2216091933853749e-06\n",
      "units1: 256\n",
      "units2: 256\n",
      "units3: 1024\n",
      "lr: 0.001\n",
      "Score: -0.6763201951980591\n",
      "Trial summary\n",
      "Hyperparameters:\n",
      "reg1: 3.9784531774054125e-07\n",
      "reg2: 1e-08\n",
      "units1: 1024\n",
      "units2: 256\n",
      "units3: 1024\n",
      "lr: 0.001\n",
      "Score: -0.676241934299469\n",
      "Trial summary\n",
      "Hyperparameters:\n",
      "reg1: 0.0001\n",
      "reg2: 3.084518440948427e-07\n",
      "units1: 1024\n",
      "units2: 256\n",
      "units3: 1024\n",
      "lr: 0.001\n",
      "Score: -0.675980269908905\n",
      "Trial summary\n",
      "Hyperparameters:\n",
      "reg1: 0.0001\n",
      "reg2: 1e-08\n",
      "units1: 256\n",
      "units2: 1024\n",
      "units3: 256\n",
      "lr: 0.001\n",
      "Score: -0.6757962107658386\n"
     ]
    },
    {
     "data": {
      "text/html": [
       "<div>\n",
       "<style scoped>\n",
       "    .dataframe tbody tr th:only-of-type {\n",
       "        vertical-align: middle;\n",
       "    }\n",
       "\n",
       "    .dataframe tbody tr th {\n",
       "        vertical-align: top;\n",
       "    }\n",
       "\n",
       "    .dataframe thead th {\n",
       "        text-align: right;\n",
       "    }\n",
       "</style>\n",
       "<table border=\"1\" class=\"dataframe\">\n",
       "  <thead>\n",
       "    <tr style=\"text-align: right;\">\n",
       "      <th></th>\n",
       "      <th>reg1</th>\n",
       "      <th>reg2</th>\n",
       "      <th>units1</th>\n",
       "      <th>units2</th>\n",
       "      <th>units3</th>\n",
       "      <th>lr</th>\n",
       "    </tr>\n",
       "  </thead>\n",
       "  <tbody>\n",
       "    <tr>\n",
       "      <th>0</th>\n",
       "      <td>1.000000e-04</td>\n",
       "      <td>3.307002e-07</td>\n",
       "      <td>256</td>\n",
       "      <td>256</td>\n",
       "      <td>256</td>\n",
       "      <td>0.001</td>\n",
       "    </tr>\n",
       "    <tr>\n",
       "      <th>1</th>\n",
       "      <td>1.000000e-04</td>\n",
       "      <td>8.453392e-08</td>\n",
       "      <td>256</td>\n",
       "      <td>1024</td>\n",
       "      <td>1024</td>\n",
       "      <td>0.001</td>\n",
       "    </tr>\n",
       "    <tr>\n",
       "      <th>2</th>\n",
       "      <td>1.000000e-04</td>\n",
       "      <td>1.000000e-08</td>\n",
       "      <td>256</td>\n",
       "      <td>256</td>\n",
       "      <td>1024</td>\n",
       "      <td>0.001</td>\n",
       "    </tr>\n",
       "    <tr>\n",
       "      <th>3</th>\n",
       "      <td>2.621834e-06</td>\n",
       "      <td>3.504393e-07</td>\n",
       "      <td>512</td>\n",
       "      <td>256</td>\n",
       "      <td>1024</td>\n",
       "      <td>0.001</td>\n",
       "    </tr>\n",
       "    <tr>\n",
       "      <th>4</th>\n",
       "      <td>3.450159e-06</td>\n",
       "      <td>2.693819e-07</td>\n",
       "      <td>1024</td>\n",
       "      <td>256</td>\n",
       "      <td>512</td>\n",
       "      <td>0.001</td>\n",
       "    </tr>\n",
       "    <tr>\n",
       "      <th>5</th>\n",
       "      <td>1.268217e-05</td>\n",
       "      <td>1.919784e-07</td>\n",
       "      <td>512</td>\n",
       "      <td>512</td>\n",
       "      <td>512</td>\n",
       "      <td>0.001</td>\n",
       "    </tr>\n",
       "    <tr>\n",
       "      <th>6</th>\n",
       "      <td>1.332574e-06</td>\n",
       "      <td>1.221609e-06</td>\n",
       "      <td>256</td>\n",
       "      <td>256</td>\n",
       "      <td>1024</td>\n",
       "      <td>0.001</td>\n",
       "    </tr>\n",
       "    <tr>\n",
       "      <th>7</th>\n",
       "      <td>3.978453e-07</td>\n",
       "      <td>1.000000e-08</td>\n",
       "      <td>1024</td>\n",
       "      <td>256</td>\n",
       "      <td>1024</td>\n",
       "      <td>0.001</td>\n",
       "    </tr>\n",
       "    <tr>\n",
       "      <th>8</th>\n",
       "      <td>1.000000e-04</td>\n",
       "      <td>3.084518e-07</td>\n",
       "      <td>1024</td>\n",
       "      <td>256</td>\n",
       "      <td>1024</td>\n",
       "      <td>0.001</td>\n",
       "    </tr>\n",
       "    <tr>\n",
       "      <th>9</th>\n",
       "      <td>1.000000e-04</td>\n",
       "      <td>1.000000e-08</td>\n",
       "      <td>256</td>\n",
       "      <td>1024</td>\n",
       "      <td>256</td>\n",
       "      <td>0.001</td>\n",
       "    </tr>\n",
       "  </tbody>\n",
       "</table>\n",
       "</div>"
      ],
      "text/plain": [
       "           reg1          reg2  units1  units2  units3     lr\n",
       "0  1.000000e-04  3.307002e-07     256     256     256  0.001\n",
       "1  1.000000e-04  8.453392e-08     256    1024    1024  0.001\n",
       "2  1.000000e-04  1.000000e-08     256     256    1024  0.001\n",
       "3  2.621834e-06  3.504393e-07     512     256    1024  0.001\n",
       "4  3.450159e-06  2.693819e-07    1024     256     512  0.001\n",
       "5  1.268217e-05  1.919784e-07     512     512     512  0.001\n",
       "6  1.332574e-06  1.221609e-06     256     256    1024  0.001\n",
       "7  3.978453e-07  1.000000e-08    1024     256    1024  0.001\n",
       "8  1.000000e-04  3.084518e-07    1024     256    1024  0.001\n",
       "9  1.000000e-04  1.000000e-08     256    1024     256  0.001"
      ]
     },
     "metadata": {},
     "output_type": "display_data"
    }
   ],
   "source": [
    "Y = targets[:-2]\n",
    "tuner = keras_tuner.BayesianOptimization(\n",
    "    create_model,\n",
    "    overwrite=True,\n",
    "    objective=keras_tuner.Objective(\"val_negative_correlation_loss\", direction=\"min\"),\n",
    "    max_trials=30,\n",
    "    directory='/kaggle/temp',\n",
    "    seed=1)\n",
    "lr = ReduceLROnPlateau(monitor=\"val_loss\", factor=0.5, \n",
    "                       patience=6, verbose=0)\n",
    "es = EarlyStopping(monitor=\"val_loss\",\n",
    "                   patience=3, \n",
    "                   verbose=0,\n",
    "                   mode=\"min\", \n",
    "                   restore_best_weights=True)\n",
    "callbacks = [lr, es, tf.keras.callbacks.TerminateOnNaN()]\n",
    "X_tr, X_va, y_tr, y_va = train_test_split(X,Y, test_size=0.2, random_state=10)\n",
    "tuner.search(X_tr, y_tr,\n",
    "             epochs=1000,\n",
    "             validation_data=(X_va, y_va),\n",
    "             batch_size=BATCH_SIZE,\n",
    "             callbacks=callbacks, verbose=2)\n",
    "del X_tr, X_va, y_tr, y_va, lr, es, callbacks\n",
    "\n",
    "tuner.results_summary()\n",
    "# Table of the 10 best trials\n",
    "display(pd.DataFrame([hp.values for hp in tuner.get_best_hyperparameters(10)]))\n",
    "\n",
    "# Keep the best hyperparameters\n",
    "best_hp = tuner.get_best_hyperparameters(1)[0]"
   ]
  },
  {
   "cell_type": "code",
   "execution_count": 175,
   "id": "3b009b50-1dba-4185-a5be-c65de38c2717",
   "metadata": {
    "execution": {
     "iopub.execute_input": "2022-11-03T23:03:10.929870Z",
     "iopub.status.busy": "2022-11-03T23:03:10.929283Z",
     "iopub.status.idle": "2022-11-03T23:03:10.937952Z",
     "shell.execute_reply": "2022-11-03T23:03:10.937411Z",
     "shell.execute_reply.started": "2022-11-03T23:03:10.929847Z"
    },
    "tags": []
   },
   "outputs": [],
   "source": [
    "# %%capture\n",
    "# !pip install --upgrade --force-reinstall tensorflow\n",
    "# import math\n",
    "# import tensorflow as tf\n",
    "# import tensorflow.keras.backend as K\n",
    "# from tensorflow.keras.models import Model, load_model\n",
    "# from tensorflow.keras.callbacks import ReduceLROnPlateau, LearningRateScheduler, EarlyStopping\n",
    "# from tensorflow.keras.layers import Dense, Input, Concatenate, Dropout, BatchNormalization\n",
    "# LR_START = 0.01\n",
    "# BATCH_SIZE = 512\n",
    "\n",
    "best_hp = keras_tuner.HyperParameters()\n",
    "best_hp.values = {'reg1': 8e-5,\n",
    "                'reg2': 2e-5,\n",
    "                'units1': 256,\n",
    "                'units2': 512,\n",
    "                'units3': 512,\n",
    "                'lr': 0.01\n",
    "                 }\n",
    "\n",
    "# best_hp = keras_tuner.HyperParameters()\n",
    "# best_hp.values = {'reg1': 0.0001,\n",
    "#                 'reg2': 1e-08,\n",
    "#                 'units1': 256,\n",
    "#                 'units2': 1024,\n",
    "#                 'units3': 1024,\n",
    "#                 'lr': 0.001\n",
    "#                  }\n",
    "\n",
    "def create_model(hp):\n",
    "    \n",
    "    #reg1 = 8e-5\n",
    "    #reg2 = 2e-5\n",
    "    # reg1 = 9.613e-06\n",
    "    # reg2 = 1e-07\n",
    "    reg1 = hp.Float(\"reg1\", min_value=1e-8, max_value=1e-4, sampling=\"log\")\n",
    "    reg2 = hp.Float(\"reg2\", min_value=1e-8, max_value=1e-4, sampling=\"log\")\n",
    "    \n",
    "    REG1 = tf.keras.regularizers.l2(reg1)\n",
    "    REG2 = tf.keras.regularizers.l2(reg2)\n",
    "    \n",
    "    DROP = 0.1\n",
    "\n",
    "    activation = 'selu'\n",
    "    inputs = Input(shape =(X.shape[1],))\n",
    "\n",
    "    x0 = Dense(hp.Choice('units1', [1024,512,256]), \n",
    "              kernel_regularizer = REG1,\n",
    "              activation = activation,\n",
    "             )(inputs)\n",
    "    x0 = Dropout(DROP)(x0)\n",
    "    \n",
    "    x1 = Dense(hp.Choice('units2', [1024,512,256]), \n",
    "               kernel_regularizer = REG1,\n",
    "               activation = activation,\n",
    "             )(x0)\n",
    "    x1 = Dropout(DROP)(x1)\n",
    "    \n",
    "    x2 = Dense(hp.Choice('units3', [1024,512,256]), \n",
    "               kernel_regularizer = REG1,\n",
    "               activation = activation,\n",
    "             )(x1) \n",
    "    x2= Dropout(DROP)(x2)\n",
    "\n",
    "    x = Concatenate()([\n",
    "                x0, \n",
    "                x1, \n",
    "                x2\n",
    "                ])\n",
    "    x = Dense(Y.shape[1], \n",
    "                kernel_regularizer = REG2,\n",
    "                activation='linear',\n",
    "                )(x)\n",
    "    model = Model(inputs, x)\n",
    "    model.compile(\n",
    "        optimizer = tf.keras.optimizers.Adam(learning_rate=hp.Float(\"lr\", min_value=1e-3, max_value=1e-0)),\n",
    "        metrics = [negative_correlation_loss],\n",
    "        loss = negative_correlation_loss\n",
    "         )\n",
    "    return model"
   ]
  },
  {
   "cell_type": "code",
   "execution_count": 58,
   "id": "bed3e18f-5478-4f44-b934-0e0fe2fa23a5",
   "metadata": {
    "execution": {
     "iopub.execute_input": "2022-11-03T18:56:32.640661Z",
     "iopub.status.busy": "2022-11-03T18:56:32.640250Z",
     "iopub.status.idle": "2022-11-03T18:58:04.164134Z",
     "shell.execute_reply": "2022-11-03T18:58:04.163525Z",
     "shell.execute_reply.started": "2022-11-03T18:56:32.640639Z"
    },
    "tags": []
   },
   "outputs": [],
   "source": [
    "inputs_both_128 = np.genfromtxt(\"../multi_pca/inputs_both_128.csv\", delimiter=',')\n",
    "multi_X_train = inputs_both_128[:105942]\n",
    "targets = scipy.sparse.load_npz(\"../sparse/train_multi_targets_values.sparse.npz\")\n",
    "import scprep\n",
    "targets = scprep.filter.remove_empty_genes(targets)\n",
    "# Normalize the targets row-wise: This doesn't change the correlations,\n",
    "# and negative_correlation_loss depends on it\n",
    "targets = scprep.filter.remove_empty_genes(targets)\n",
    "targets -= targets.mean(axis=1).reshape(-1, 1)\n",
    "targets /= targets.std(axis=1).reshape(-1, 1)\n",
    "\n",
    "pca_train = TruncatedSVD(n_components=512, random_state=1)\n",
    "pca_targets = pca_train.fit_transform(targets)\n",
    "\n",
    "with np.load('../sparse/train_multi_inputs_idxcol.npz',allow_pickle=True) as data:\n",
    "    cell_index = data['index']\n",
    "\n",
    "with np.load('../sparse/test_multi_inputs_idxcol.npz',allow_pickle=True) as data:\n",
    "    cell_index_t = data['index']\n",
    "\n",
    "metadata_df = pd.read_csv('../../input/open-problems-multimodal/metadata.csv', index_col='cell_id')\n",
    "metadata_df = metadata_df[metadata_df.technology==\"multiome\"]\n",
    "meta = metadata_df.reindex(cell_index)\n",
    "\n",
    "X = multi_X_train\n",
    "Y = pca_targets"
   ]
  },
  {
   "cell_type": "code",
   "execution_count": 40,
   "id": "3402b205-41c8-4751-a444-94650a6555e9",
   "metadata": {
    "execution": {
     "iopub.execute_input": "2022-11-03T18:35:37.412774Z",
     "iopub.status.busy": "2022-11-03T18:35:37.412384Z",
     "iopub.status.idle": "2022-11-03T18:36:05.623297Z",
     "shell.execute_reply": "2022-11-03T18:36:05.622645Z",
     "shell.execute_reply.started": "2022-11-03T18:35:37.412751Z"
    },
    "tags": []
   },
   "outputs": [],
   "source": [
    "Y_true = scipy.sparse.load_npz(\"../sparse/train_multi_targets_values.sparse.npz\")\n",
    "Y_true = scprep.filter.remove_empty_genes(Y_true)\n",
    "Y_true = Y_true[:int(Y_true.shape[0]/100)]\n",
    "Y_true -= Y_true.mean(axis=1).reshape(-1, 1)\n",
    "Y_true /= Y_true.std(axis=1).reshape(-1, 1)\n",
    "svd = TruncatedSVD(n_components = 128,random_state = 1)\n",
    "Y = svd.fit_transform(Y_true)\n",
    "Y_true = np.array(Y_true)\n",
    "\n",
    "X = np.genfromtxt('../multi_pca/tenth/X.csv',delimiter=',')\n",
    "# X -= X.mean(axis=1).reshape(-1, 1)\n",
    "# X /= X.std(axis=1).reshape(-1, 1)\n",
    "X = X[:,:128]\n",
    "\n",
    "with np.load('../sparse/train_multi_inputs_idxcol.npz',allow_pickle=True) as data:\n",
    "    cell_index = data['index']\n",
    "\n",
    "metadata_df = pd.read_csv('../../input/open-problems-multimodal/metadata.csv', index_col='cell_id')\n",
    "metadata_df = metadata_df[metadata_df.technology==\"multiome\"]\n",
    "meta = metadata_df.reindex(cell_index)\n",
    "meta = meta[:int(len(meta)/100)]"
   ]
  },
  {
   "cell_type": "code",
   "execution_count": 45,
   "id": "59dacf91-6233-46ce-a582-82d9d46f0387",
   "metadata": {
    "execution": {
     "iopub.execute_input": "2022-11-03T18:50:29.692831Z",
     "iopub.status.busy": "2022-11-03T18:50:29.692454Z",
     "iopub.status.idle": "2022-11-03T18:50:29.696863Z",
     "shell.execute_reply": "2022-11-03T18:50:29.696339Z",
     "shell.execute_reply.started": "2022-11-03T18:50:29.692808Z"
    },
    "tags": []
   },
   "outputs": [
    {
     "data": {
      "text/plain": [
       "(128, 22858)"
      ]
     },
     "execution_count": 45,
     "metadata": {},
     "output_type": "execute_result"
    }
   ],
   "source": [
    "svd.components_.shape"
   ]
  },
  {
   "cell_type": "code",
   "execution_count": 59,
   "id": "7196a2bc-d908-43cd-983d-360614119df8",
   "metadata": {
    "execution": {
     "iopub.execute_input": "2022-11-03T18:58:47.248727Z",
     "iopub.status.busy": "2022-11-03T18:58:47.248347Z",
     "iopub.status.idle": "2022-11-03T18:58:49.054087Z",
     "shell.execute_reply": "2022-11-03T18:58:49.053193Z",
     "shell.execute_reply.started": "2022-11-03T18:58:47.248706Z"
    },
    "tags": []
   },
   "outputs": [
    {
     "name": "stdout",
     "output_type": "stream",
     "text": [
      "/home/jovyan/kaggle/working/all_in_one/tenth\n",
      "/home/jovyan/kaggle/working/all_in_one\n"
     ]
    }
   ],
   "source": [
    "X = X[:int(len(X)/10)]\n",
    "Y = Y[:int(len(Y)/10)]\n",
    "meta = meta[:int(len(meta)/10)]\n",
    "targets = targets[:int(len(targets)/10)]\n",
    "%mkdir tenth\n",
    "%cd tenth\n",
    "np.save('X.npy',X)\n",
    "np.save('Y.npy',Y)\n",
    "np.save('meta.npy',meta)\n",
    "np.save('targets.npy',targets)\n",
    "np.save('components.npy',pca_train.components_)\n",
    "%cd .."
   ]
  },
  {
   "cell_type": "code",
   "execution_count": 136,
   "id": "73837bb5-c961-41f9-92c5-bf405a504ff0",
   "metadata": {
    "execution": {
     "iopub.execute_input": "2022-11-03T21:09:14.315139Z",
     "iopub.status.busy": "2022-11-03T21:09:14.314738Z",
     "iopub.status.idle": "2022-11-03T21:09:14.649793Z",
     "shell.execute_reply": "2022-11-03T21:09:14.649148Z",
     "shell.execute_reply.started": "2022-11-03T21:09:14.315115Z"
    },
    "tags": []
   },
   "outputs": [],
   "source": [
    "X_pca = np.load('tenth/X.npy')\n",
    "Y = np.load('tenth/Y.npy')\n",
    "targets = np.load('tenth/targets.npy')\n",
    "components = np.load('tenth/components.npy')"
   ]
  },
  {
   "cell_type": "code",
   "execution_count": 137,
   "id": "db9ae181-dca8-41ab-bf47-3a5a0848ec7e",
   "metadata": {
    "execution": {
     "iopub.execute_input": "2022-11-03T21:09:18.008570Z",
     "iopub.status.busy": "2022-11-03T21:09:18.008184Z",
     "iopub.status.idle": "2022-11-03T21:09:18.012609Z",
     "shell.execute_reply": "2022-11-03T21:09:18.012063Z",
     "shell.execute_reply.started": "2022-11-03T21:09:18.008548Z"
    }
   },
   "outputs": [
    {
     "data": {
      "text/plain": [
       "(10594, 4)"
      ]
     },
     "execution_count": 137,
     "metadata": {},
     "output_type": "execute_result"
    }
   ],
   "source": [
    "meta.shape"
   ]
  },
  {
   "cell_type": "code",
   "execution_count": 142,
   "id": "84037b1f-f067-47e1-ac4c-e1508583c35e",
   "metadata": {
    "execution": {
     "iopub.execute_input": "2022-11-03T21:16:24.799252Z",
     "iopub.status.busy": "2022-11-03T21:16:24.798875Z",
     "iopub.status.idle": "2022-11-03T21:16:24.803334Z",
     "shell.execute_reply": "2022-11-03T21:16:24.802825Z",
     "shell.execute_reply.started": "2022-11-03T21:16:24.799230Z"
    },
    "tags": []
   },
   "outputs": [
    {
     "data": {
      "text/plain": [
       "(10592, 128)"
      ]
     },
     "execution_count": 142,
     "metadata": {},
     "output_type": "execute_result"
    }
   ],
   "source": [
    "X_pca = X_pca[:-2]\n",
    "X_pca.shape"
   ]
  },
  {
   "cell_type": "code",
   "execution_count": 37,
   "id": "a881addb-a1a1-410a-b8a3-2742b73c658d",
   "metadata": {
    "execution": {
     "iopub.execute_input": "2022-11-03T18:28:02.339227Z",
     "iopub.status.busy": "2022-11-03T18:28:02.338838Z",
     "iopub.status.idle": "2022-11-03T18:28:03.694970Z",
     "shell.execute_reply": "2022-11-03T18:28:03.694228Z",
     "shell.execute_reply.started": "2022-11-03T18:28:02.339205Z"
    }
   },
   "outputs": [
    {
     "data": {
      "text/plain": [
       "0.6672151897833535"
      ]
     },
     "execution_count": 37,
     "metadata": {},
     "output_type": "execute_result"
    }
   ],
   "source": [
    "correlation_score(targets[:int(len(targets)/10)][idx_va], pca_train.inverse_transform(y_va_pred))#pred_train@pca_target_comps)"
   ]
  },
  {
   "cell_type": "code",
   "execution_count": 53,
   "id": "e531e806-7460-438c-b4c7-44098f873a7d",
   "metadata": {
    "execution": {
     "iopub.execute_input": "2022-11-03T18:54:58.189427Z",
     "iopub.status.busy": "2022-11-03T18:54:58.189044Z",
     "iopub.status.idle": "2022-11-03T18:54:58.193544Z",
     "shell.execute_reply": "2022-11-03T18:54:58.193011Z",
     "shell.execute_reply.started": "2022-11-03T18:54:58.189405Z"
    },
    "tags": []
   },
   "outputs": [
    {
     "data": {
      "text/plain": [
       "(1059, 22858)"
      ]
     },
     "execution_count": 53,
     "metadata": {},
     "output_type": "execute_result"
    }
   ],
   "source": [
    "targets.shape"
   ]
  },
  {
   "cell_type": "code",
   "execution_count": 159,
   "id": "45819bb3-d2d5-4e7b-b0e3-1f4668d8bd8b",
   "metadata": {
    "execution": {
     "iopub.execute_input": "2022-11-03T21:38:33.144419Z",
     "iopub.status.busy": "2022-11-03T21:38:33.144042Z",
     "iopub.status.idle": "2022-11-03T21:38:33.417598Z",
     "shell.execute_reply": "2022-11-03T21:38:33.416935Z",
     "shell.execute_reply.started": "2022-11-03T21:38:33.144397Z"
    },
    "tags": []
   },
   "outputs": [],
   "source": [
    "X = np.load(\"/kaggle/working/gene_annot/train_multi_geneactivity.npy\")"
   ]
  },
  {
   "cell_type": "code",
   "execution_count": 127,
   "id": "ef52736a-735b-4634-a74a-64a19bf9d24e",
   "metadata": {
    "execution": {
     "iopub.execute_input": "2022-11-03T21:05:54.750008Z",
     "iopub.status.busy": "2022-11-03T21:05:54.749627Z",
     "iopub.status.idle": "2022-11-03T21:05:54.753915Z",
     "shell.execute_reply": "2022-11-03T21:05:54.753418Z",
     "shell.execute_reply.started": "2022-11-03T21:05:54.749985Z"
    },
    "tags": []
   },
   "outputs": [
    {
     "data": {
      "text/plain": [
       "(10592, 19609)"
      ]
     },
     "execution_count": 127,
     "metadata": {},
     "output_type": "execute_result"
    }
   ],
   "source": [
    "X.shape"
   ]
  },
  {
   "cell_type": "code",
   "execution_count": 62,
   "id": "98d663a5-e97a-4474-a8c1-43b9a54fa54f",
   "metadata": {
    "execution": {
     "iopub.execute_input": "2022-11-03T19:03:13.954696Z",
     "iopub.status.busy": "2022-11-03T19:03:13.954315Z",
     "iopub.status.idle": "2022-11-03T19:03:17.027087Z",
     "shell.execute_reply": "2022-11-03T19:03:17.026432Z",
     "shell.execute_reply.started": "2022-11-03T19:03:13.954674Z"
    }
   },
   "outputs": [],
   "source": [
    "svd_X = TruncatedSVD(n_components = 512,random_state = 1)\n",
    "X = svd_X.fit_transform(X)[:,:128]"
   ]
  },
  {
   "cell_type": "code",
   "execution_count": 96,
   "id": "111e7b3c-f794-455d-9a64-2f6b1dfebf22",
   "metadata": {
    "execution": {
     "iopub.execute_input": "2022-11-03T20:39:18.031084Z",
     "iopub.status.busy": "2022-11-03T20:39:18.030691Z",
     "iopub.status.idle": "2022-11-03T20:39:18.034588Z",
     "shell.execute_reply": "2022-11-03T20:39:18.034072Z",
     "shell.execute_reply.started": "2022-11-03T20:39:18.031061Z"
    },
    "tags": []
   },
   "outputs": [],
   "source": [
    "to_keep = np.load('/kaggle/working/gene_annot/to_keep.npy')"
   ]
  },
  {
   "cell_type": "code",
   "execution_count": 128,
   "id": "a1e7cdd0-fc7b-464f-adf2-3fcdad849904",
   "metadata": {
    "execution": {
     "iopub.execute_input": "2022-11-03T21:06:42.260487Z",
     "iopub.status.busy": "2022-11-03T21:06:42.260073Z",
     "iopub.status.idle": "2022-11-03T21:06:43.284135Z",
     "shell.execute_reply": "2022-11-03T21:06:43.283503Z",
     "shell.execute_reply.started": "2022-11-03T21:06:42.260464Z"
    },
    "tags": []
   },
   "outputs": [],
   "source": [
    "X = X[:,to_keep]"
   ]
  },
  {
   "cell_type": "code",
   "execution_count": 160,
   "id": "96764175-1c8c-4ab5-b8c0-2b91ae78cab0",
   "metadata": {
    "execution": {
     "iopub.execute_input": "2022-11-03T21:38:37.405585Z",
     "iopub.status.busy": "2022-11-03T21:38:37.405206Z",
     "iopub.status.idle": "2022-11-03T21:38:37.839604Z",
     "shell.execute_reply": "2022-11-03T21:38:37.838971Z",
     "shell.execute_reply.started": "2022-11-03T21:38:37.405563Z"
    },
    "tags": []
   },
   "outputs": [],
   "source": [
    "X = np.hstack([X,X_pca])"
   ]
  },
  {
   "cell_type": "code",
   "execution_count": 134,
   "id": "2e888aa9-f91d-480a-bc1d-dc8fb89f49d2",
   "metadata": {
    "execution": {
     "iopub.execute_input": "2022-11-03T21:08:01.815192Z",
     "iopub.status.busy": "2022-11-03T21:08:01.814789Z",
     "iopub.status.idle": "2022-11-03T21:08:01.819142Z",
     "shell.execute_reply": "2022-11-03T21:08:01.818637Z",
     "shell.execute_reply.started": "2022-11-03T21:08:01.815169Z"
    }
   },
   "outputs": [
    {
     "data": {
      "text/plain": [
       "(10592, 11130)"
      ]
     },
     "execution_count": 134,
     "metadata": {},
     "output_type": "execute_result"
    }
   ],
   "source": [
    "X.shape"
   ]
  },
  {
   "cell_type": "code",
   "execution_count": 99,
   "id": "026c65a9-c905-4678-a8d0-4f10159b4070",
   "metadata": {
    "execution": {
     "iopub.execute_input": "2022-11-03T20:39:31.465538Z",
     "iopub.status.busy": "2022-11-03T20:39:31.465163Z",
     "iopub.status.idle": "2022-11-03T20:39:31.469425Z",
     "shell.execute_reply": "2022-11-03T20:39:31.468932Z",
     "shell.execute_reply.started": "2022-11-03T20:39:31.465516Z"
    },
    "tags": []
   },
   "outputs": [
    {
     "data": {
      "text/plain": [
       "(10592, 11002)"
      ]
     },
     "execution_count": 99,
     "metadata": {},
     "output_type": "execute_result"
    }
   ],
   "source": [
    "X.shape"
   ]
  },
  {
   "cell_type": "code",
   "execution_count": 103,
   "id": "7d690eca-a323-4e03-afbf-ac0c27245fe3",
   "metadata": {
    "execution": {
     "iopub.execute_input": "2022-11-03T20:40:15.797507Z",
     "iopub.status.busy": "2022-11-03T20:40:15.797140Z",
     "iopub.status.idle": "2022-11-03T20:40:15.801334Z",
     "shell.execute_reply": "2022-11-03T20:40:15.800840Z",
     "shell.execute_reply.started": "2022-11-03T20:40:15.797487Z"
    },
    "tags": []
   },
   "outputs": [
    {
     "data": {
      "text/plain": [
       "(105942, 23418)"
      ]
     },
     "execution_count": 103,
     "metadata": {},
     "output_type": "execute_result"
    }
   ],
   "source": [
    "targets.shape"
   ]
  },
  {
   "cell_type": "code",
   "execution_count": 95,
   "id": "617ab492-29e8-4a18-842a-be4984d6faa3",
   "metadata": {
    "execution": {
     "iopub.execute_input": "2022-11-03T20:39:15.011208Z",
     "iopub.status.busy": "2022-11-03T20:39:15.010832Z",
     "iopub.status.idle": "2022-11-03T20:39:15.014750Z",
     "shell.execute_reply": "2022-11-03T20:39:15.014237Z",
     "shell.execute_reply.started": "2022-11-03T20:39:15.011186Z"
    },
    "tags": []
   },
   "outputs": [],
   "source": [
    "to_keep_y = np.load('/kaggle/working/gene_annot/to_keep_y.npy')"
   ]
  },
  {
   "cell_type": "code",
   "execution_count": 125,
   "id": "103b9423-c7d5-4685-847e-3f1fe33acb30",
   "metadata": {
    "execution": {
     "iopub.execute_input": "2022-11-03T20:57:23.109275Z",
     "iopub.status.busy": "2022-11-03T20:57:23.108892Z",
     "iopub.status.idle": "2022-11-03T20:57:23.152092Z",
     "shell.execute_reply": "2022-11-03T20:57:23.151547Z",
     "shell.execute_reply.started": "2022-11-03T20:57:23.109252Z"
    }
   },
   "outputs": [
    {
     "data": {
      "text/plain": [
       "'ENSG00000000003'"
      ]
     },
     "execution_count": 125,
     "metadata": {},
     "output_type": "execute_result"
    }
   ],
   "source": [
    "with np.load('../../working/sparse/train_multi_targets_idxcol.npz',allow_pickle=True) as data:\n",
    "    cell_index = data['index']\n",
    "    cell_columns = data['columns']\n",
    "cell_columns[21664]"
   ]
  },
  {
   "cell_type": "code",
   "execution_count": 102,
   "id": "613c44b3-5732-4bdd-b1f3-55b5ddd8a194",
   "metadata": {
    "execution": {
     "iopub.execute_input": "2022-11-03T20:40:00.480194Z",
     "iopub.status.busy": "2022-11-03T20:40:00.479785Z",
     "iopub.status.idle": "2022-11-03T20:40:14.215677Z",
     "shell.execute_reply": "2022-11-03T20:40:14.215016Z",
     "shell.execute_reply.started": "2022-11-03T20:40:00.480170Z"
    }
   },
   "outputs": [],
   "source": [
    "targets = scipy.sparse.load_npz(\"../sparse/train_multi_targets_values.sparse.npz\")"
   ]
  },
  {
   "cell_type": "code",
   "execution_count": 84,
   "id": "2dba9154-a52d-4467-b727-a525f3026a12",
   "metadata": {
    "execution": {
     "iopub.execute_input": "2022-11-03T20:23:57.955239Z",
     "iopub.status.busy": "2022-11-03T20:23:57.954826Z",
     "iopub.status.idle": "2022-11-03T20:24:12.228646Z",
     "shell.execute_reply": "2022-11-03T20:24:12.228000Z",
     "shell.execute_reply.started": "2022-11-03T20:23:57.955216Z"
    },
    "tags": []
   },
   "outputs": [],
   "source": [
    "targets = scipy.sparse.load_npz(\"../sparse/train_multi_targets_values.sparse.npz\")\n",
    "# Normalize the targets row-wise: This doesn't change the correlations,\n",
    "# and negative_correlation_loss depends on it\n",
    "Y = targets[:int(targets.shape[0]/10),to_keep_y].toarray()"
   ]
  },
  {
   "cell_type": "code",
   "execution_count": 104,
   "id": "b10c4ab9-a569-460e-afcf-24f8f025ab67",
   "metadata": {
    "execution": {
     "iopub.execute_input": "2022-11-03T20:41:38.514401Z",
     "iopub.status.busy": "2022-11-03T20:41:38.514017Z",
     "iopub.status.idle": "2022-11-03T20:41:39.374293Z",
     "shell.execute_reply": "2022-11-03T20:41:39.373658Z",
     "shell.execute_reply.started": "2022-11-03T20:41:38.514378Z"
    }
   },
   "outputs": [],
   "source": [
    "Y = targets[:int(targets.shape[0]/10),to_keep_y].toarray()"
   ]
  },
  {
   "cell_type": "code",
   "execution_count": 124,
   "id": "375890f4-ac41-4b1c-9111-0f48969fbaf5",
   "metadata": {
    "execution": {
     "iopub.execute_input": "2022-11-03T20:55:51.383842Z",
     "iopub.status.busy": "2022-11-03T20:55:51.383458Z",
     "iopub.status.idle": "2022-11-03T20:55:51.387974Z",
     "shell.execute_reply": "2022-11-03T20:55:51.387470Z",
     "shell.execute_reply.started": "2022-11-03T20:55:51.383820Z"
    }
   },
   "outputs": [
    {
     "data": {
      "text/plain": [
       "array([21664,  9634, 18887, ...,  7146,  1056,  4660])"
      ]
     },
     "execution_count": 124,
     "metadata": {},
     "output_type": "execute_result"
    }
   ],
   "source": [
    "to_keep_y"
   ]
  },
  {
   "cell_type": "code",
   "execution_count": 123,
   "id": "bcfb49d3-89bf-4956-bbbd-71ec0f6e1b45",
   "metadata": {
    "execution": {
     "iopub.execute_input": "2022-11-03T20:55:39.676578Z",
     "iopub.status.busy": "2022-11-03T20:55:39.676185Z",
     "iopub.status.idle": "2022-11-03T20:55:39.680641Z",
     "shell.execute_reply": "2022-11-03T20:55:39.680138Z",
     "shell.execute_reply.started": "2022-11-03T20:55:39.676556Z"
    }
   },
   "outputs": [
    {
     "data": {
      "text/plain": [
       "array([19091, 17428,  1042, ...,  9031, 16476, 10740])"
      ]
     },
     "execution_count": 123,
     "metadata": {},
     "output_type": "execute_result"
    }
   ],
   "source": [
    "to_keep"
   ]
  },
  {
   "cell_type": "code",
   "execution_count": 115,
   "id": "7c9dc6b5-959e-4447-8ba1-5625e9979a6a",
   "metadata": {
    "execution": {
     "iopub.execute_input": "2022-11-03T20:45:04.816344Z",
     "iopub.status.busy": "2022-11-03T20:45:04.815949Z",
     "iopub.status.idle": "2022-11-03T20:45:04.820310Z",
     "shell.execute_reply": "2022-11-03T20:45:04.819775Z",
     "shell.execute_reply.started": "2022-11-03T20:45:04.816321Z"
    }
   },
   "outputs": [
    {
     "data": {
      "text/plain": [
       "2648.0"
      ]
     },
     "execution_count": 115,
     "metadata": {},
     "output_type": "execute_result"
    }
   ],
   "source": [
    "10592/4"
   ]
  },
  {
   "cell_type": "code",
   "execution_count": 109,
   "id": "9fb34238-30d6-4a4a-a335-34b178bfa046",
   "metadata": {
    "execution": {
     "iopub.execute_input": "2022-11-03T20:42:11.725166Z",
     "iopub.status.busy": "2022-11-03T20:42:11.724775Z",
     "iopub.status.idle": "2022-11-03T20:42:11.729042Z",
     "shell.execute_reply": "2022-11-03T20:42:11.728532Z",
     "shell.execute_reply.started": "2022-11-03T20:42:11.725144Z"
    },
    "tags": []
   },
   "outputs": [
    {
     "data": {
      "text/plain": [
       "(10592, 11002)"
      ]
     },
     "execution_count": 109,
     "metadata": {},
     "output_type": "execute_result"
    }
   ],
   "source": [
    "X.shape"
   ]
  },
  {
   "cell_type": "code",
   "execution_count": 114,
   "id": "b47581d3-e265-45fe-b26b-9a23844e09c7",
   "metadata": {
    "execution": {
     "iopub.execute_input": "2022-11-03T20:43:13.620515Z",
     "iopub.status.busy": "2022-11-03T20:43:13.620133Z",
     "iopub.status.idle": "2022-11-03T20:43:15.988052Z",
     "shell.execute_reply": "2022-11-03T20:43:15.987212Z",
     "shell.execute_reply.started": "2022-11-03T20:43:13.620492Z"
    }
   },
   "outputs": [
    {
     "data": {
      "text/plain": [
       "0.07904437266109401"
      ]
     },
     "execution_count": 114,
     "metadata": {},
     "output_type": "execute_result"
    }
   ],
   "source": [
    "correlation_score(X, Y)"
   ]
  },
  {
   "cell_type": "code",
   "execution_count": 113,
   "id": "8ee80f92-f423-4e3b-b070-976dda4ed0e0",
   "metadata": {
    "execution": {
     "iopub.execute_input": "2022-11-03T20:42:29.940733Z",
     "iopub.status.busy": "2022-11-03T20:42:29.940340Z",
     "iopub.status.idle": "2022-11-03T20:42:29.944954Z",
     "shell.execute_reply": "2022-11-03T20:42:29.944428Z",
     "shell.execute_reply.started": "2022-11-03T20:42:29.940709Z"
    },
    "tags": []
   },
   "outputs": [
    {
     "data": {
      "text/plain": [
       "0.48623547"
      ]
     },
     "execution_count": 113,
     "metadata": {},
     "output_type": "execute_result"
    }
   ],
   "source": [
    "X[:,2].mean()"
   ]
  },
  {
   "cell_type": "code",
   "execution_count": 112,
   "id": "7cd9ebbd-21dc-4873-a504-6ddd7c5f1f01",
   "metadata": {
    "execution": {
     "iopub.execute_input": "2022-11-03T20:42:27.740732Z",
     "iopub.status.busy": "2022-11-03T20:42:27.740358Z",
     "iopub.status.idle": "2022-11-03T20:42:27.745194Z",
     "shell.execute_reply": "2022-11-03T20:42:27.744666Z",
     "shell.execute_reply.started": "2022-11-03T20:42:27.740709Z"
    },
    "tags": []
   },
   "outputs": [
    {
     "data": {
      "text/plain": [
       "0.84786725"
      ]
     },
     "execution_count": 112,
     "metadata": {},
     "output_type": "execute_result"
    }
   ],
   "source": [
    "Y[:,2].mean()"
   ]
  },
  {
   "cell_type": "code",
   "execution_count": 90,
   "id": "0f637728-68f7-4c1b-8b3f-571bb963bc8d",
   "metadata": {
    "execution": {
     "iopub.execute_input": "2022-11-03T20:25:23.600097Z",
     "iopub.status.busy": "2022-11-03T20:25:23.599708Z",
     "iopub.status.idle": "2022-11-03T20:25:23.604169Z",
     "shell.execute_reply": "2022-11-03T20:25:23.603643Z",
     "shell.execute_reply.started": "2022-11-03T20:25:23.600074Z"
    },
    "tags": []
   },
   "outputs": [
    {
     "data": {
      "text/plain": [
       "(10592, 11002)"
      ]
     },
     "execution_count": 90,
     "metadata": {},
     "output_type": "execute_result"
    }
   ],
   "source": [
    "X.shape"
   ]
  },
  {
   "cell_type": "code",
   "execution_count": 91,
   "id": "7fa90f86-e698-4ddb-a305-d0378d518615",
   "metadata": {
    "execution": {
     "iopub.execute_input": "2022-11-03T20:25:26.808034Z",
     "iopub.status.busy": "2022-11-03T20:25:26.807658Z",
     "iopub.status.idle": "2022-11-03T20:25:26.812035Z",
     "shell.execute_reply": "2022-11-03T20:25:26.811520Z",
     "shell.execute_reply.started": "2022-11-03T20:25:26.808012Z"
    }
   },
   "outputs": [
    {
     "data": {
      "text/plain": [
       "(10594, 11002)"
      ]
     },
     "execution_count": 91,
     "metadata": {},
     "output_type": "execute_result"
    }
   ],
   "source": [
    "Y.shape"
   ]
  },
  {
   "cell_type": "code",
   "execution_count": 172,
   "id": "18e9df51-ef89-4ef2-90a7-a9f42a702ddd",
   "metadata": {
    "execution": {
     "iopub.execute_input": "2022-11-03T23:00:07.994395Z",
     "iopub.status.busy": "2022-11-03T23:00:07.994029Z",
     "iopub.status.idle": "2022-11-03T23:01:38.964724Z",
     "shell.execute_reply": "2022-11-03T23:01:38.963838Z",
     "shell.execute_reply.started": "2022-11-03T23:00:07.994373Z"
    },
    "tags": []
   },
   "outputs": [
    {
     "name": "stdout",
     "output_type": "stream",
     "text": [
      "Epoch 1/500\n",
      "28/28 - 2s - loss: -3.0043e+00 - negative_correlation_loss: -3.7506e+00 - val_loss: -3.5300e+00 - val_negative_correlation_loss: -4.4791e+00 - lr: 0.0100 - 2s/epoch - 57ms/step\n",
      "Epoch 2/500\n",
      "28/28 - 1s - loss: -3.5776e+00 - negative_correlation_loss: -4.3859e+00 - val_loss: -3.8600e+00 - val_negative_correlation_loss: -4.5069e+00 - lr: 0.0100 - 603ms/epoch - 22ms/step\n",
      "Epoch 3/500\n",
      "28/28 - 1s - loss: -3.8612e+00 - negative_correlation_loss: -4.3968e+00 - val_loss: -4.0710e+00 - val_negative_correlation_loss: -4.5033e+00 - lr: 0.0100 - 614ms/epoch - 22ms/step\n",
      "Epoch 4/500\n",
      "28/28 - 1s - loss: -4.0331e+00 - negative_correlation_loss: -4.3989e+00 - val_loss: -4.2031e+00 - val_negative_correlation_loss: -4.5064e+00 - lr: 0.0100 - 604ms/epoch - 22ms/step\n",
      "Epoch 5/500\n",
      "28/28 - 1s - loss: -4.1389e+00 - negative_correlation_loss: -4.4003e+00 - val_loss: -4.2834e+00 - val_negative_correlation_loss: -4.5042e+00 - lr: 0.0100 - 594ms/epoch - 21ms/step\n",
      "Epoch 6/500\n",
      "28/28 - 1s - loss: -4.2089e+00 - negative_correlation_loss: -4.4015e+00 - val_loss: -4.3427e+00 - val_negative_correlation_loss: -4.5076e+00 - lr: 0.0100 - 604ms/epoch - 22ms/step\n",
      "Epoch 7/500\n",
      "28/28 - 1s - loss: -4.2575e+00 - negative_correlation_loss: -4.4031e+00 - val_loss: -4.3804e+00 - val_negative_correlation_loss: -4.5061e+00 - lr: 0.0100 - 603ms/epoch - 22ms/step\n",
      "Epoch 8/500\n",
      "28/28 - 1s - loss: -4.2917e+00 - negative_correlation_loss: -4.4026e+00 - val_loss: -4.4052e+00 - val_negative_correlation_loss: -4.5027e+00 - lr: 0.0100 - 598ms/epoch - 21ms/step\n",
      "Epoch 9/500\n",
      "28/28 - 1s - loss: -4.3164e+00 - negative_correlation_loss: -4.4037e+00 - val_loss: -4.4269e+00 - val_negative_correlation_loss: -4.5038e+00 - lr: 0.0100 - 600ms/epoch - 21ms/step\n",
      "Epoch 10/500\n",
      "28/28 - 1s - loss: -4.3345e+00 - negative_correlation_loss: -4.4042e+00 - val_loss: -4.4502e+00 - val_negative_correlation_loss: -4.5117e+00 - lr: 0.0100 - 602ms/epoch - 22ms/step\n",
      "Epoch 11/500\n",
      "28/28 - 1s - loss: -4.3492e+00 - negative_correlation_loss: -4.4054e+00 - val_loss: -4.4586e+00 - val_negative_correlation_loss: -4.5084e+00 - lr: 0.0100 - 597ms/epoch - 21ms/step\n",
      "Epoch 12/500\n",
      "28/28 - 1s - loss: -4.3594e+00 - negative_correlation_loss: -4.4045e+00 - val_loss: -4.4666e+00 - val_negative_correlation_loss: -4.5073e+00 - lr: 0.0100 - 589ms/epoch - 21ms/step\n",
      "Epoch 13/500\n",
      "28/28 - 1s - loss: -4.3678e+00 - negative_correlation_loss: -4.4048e+00 - val_loss: -4.4713e+00 - val_negative_correlation_loss: -4.5048e+00 - lr: 0.0100 - 617ms/epoch - 22ms/step\n",
      "Epoch 14/500\n",
      "28/28 - 1s - loss: -4.3739e+00 - negative_correlation_loss: -4.4050e+00 - val_loss: -4.4787e+00 - val_negative_correlation_loss: -4.5067e+00 - lr: 0.0100 - 593ms/epoch - 21ms/step\n",
      "Epoch 15/500\n",
      "28/28 - 1s - loss: -4.3792e+00 - negative_correlation_loss: -4.4055e+00 - val_loss: -4.4814e+00 - val_negative_correlation_loss: -4.5048e+00 - lr: 0.0100 - 611ms/epoch - 22ms/step\n",
      "Epoch 16/500\n",
      "28/28 - 1s - loss: -4.3832e+00 - negative_correlation_loss: -4.4056e+00 - val_loss: -4.4860e+00 - val_negative_correlation_loss: -4.5058e+00 - lr: 0.0100 - 618ms/epoch - 22ms/step\n",
      "Epoch 17/500\n",
      "28/28 - 1s - loss: -4.3866e+00 - negative_correlation_loss: -4.4049e+00 - val_loss: -4.4868e+00 - val_negative_correlation_loss: -4.5037e+00 - lr: 0.0100 - 661ms/epoch - 24ms/step\n",
      "Epoch 18/500\n",
      "28/28 - 1s - loss: -4.3899e+00 - negative_correlation_loss: -4.4065e+00 - val_loss: -4.4902e+00 - val_negative_correlation_loss: -4.5052e+00 - lr: 0.0100 - 593ms/epoch - 21ms/step\n",
      "Epoch 19/500\n",
      "28/28 - 1s - loss: -4.3949e+00 - negative_correlation_loss: -4.4115e+00 - val_loss: -4.5021e+00 - val_negative_correlation_loss: -4.5206e+00 - lr: 0.0100 - 606ms/epoch - 22ms/step\n",
      "Epoch 20/500\n",
      "28/28 - 1s - loss: -4.3936e+00 - negative_correlation_loss: -4.4142e+00 - val_loss: -4.4833e+00 - val_negative_correlation_loss: -4.5053e+00 - lr: 0.0100 - 597ms/epoch - 21ms/step\n",
      "Epoch 21/500\n",
      "28/28 - 1s - loss: -4.4039e+00 - negative_correlation_loss: -4.4231e+00 - val_loss: -4.5054e+00 - val_negative_correlation_loss: -4.5246e+00 - lr: 0.0100 - 601ms/epoch - 21ms/step\n",
      "Epoch 22/500\n",
      "28/28 - 1s - loss: -4.4162e+00 - negative_correlation_loss: -4.4406e+00 - val_loss: -4.4997e+00 - val_negative_correlation_loss: -4.5290e+00 - lr: 0.0100 - 591ms/epoch - 21ms/step\n",
      "Epoch 23/500\n",
      "28/28 - 1s - loss: -4.4154e+00 - negative_correlation_loss: -4.4483e+00 - val_loss: -4.4919e+00 - val_negative_correlation_loss: -4.5283e+00 - lr: 0.0100 - 592ms/epoch - 21ms/step\n",
      "Epoch 24/500\n",
      "28/28 - 1s - loss: -4.4110e+00 - negative_correlation_loss: -4.4510e+00 - val_loss: -4.5011e+00 - val_negative_correlation_loss: -4.5427e+00 - lr: 0.0100 - 585ms/epoch - 21ms/step\n",
      "Epoch 25/500\n",
      "\n",
      "Epoch 25: ReduceLROnPlateau reducing learning rate to 0.008999999798834325.\n",
      "28/28 - 1s - loss: -4.4252e+00 - negative_correlation_loss: -4.4663e+00 - val_loss: -4.4642e+00 - val_negative_correlation_loss: -4.5048e+00 - lr: 0.0100 - 590ms/epoch - 21ms/step\n",
      "Epoch 26/500\n",
      "28/28 - 1s - loss: -4.4361e+00 - negative_correlation_loss: -4.4757e+00 - val_loss: -4.5090e+00 - val_negative_correlation_loss: -4.5506e+00 - lr: 0.0090 - 593ms/epoch - 21ms/step\n",
      "Epoch 27/500\n",
      "28/28 - 1s - loss: -4.4404e+00 - negative_correlation_loss: -4.4831e+00 - val_loss: -4.5142e+00 - val_negative_correlation_loss: -4.5593e+00 - lr: 0.0090 - 594ms/epoch - 21ms/step\n",
      "Epoch 28/500\n",
      "28/28 - 1s - loss: -4.4396e+00 - negative_correlation_loss: -4.4851e+00 - val_loss: -4.5040e+00 - val_negative_correlation_loss: -4.5550e+00 - lr: 0.0090 - 600ms/epoch - 21ms/step\n",
      "Epoch 29/500\n",
      "28/28 - 1s - loss: -4.4484e+00 - negative_correlation_loss: -4.4960e+00 - val_loss: -4.5111e+00 - val_negative_correlation_loss: -4.5555e+00 - lr: 0.0090 - 593ms/epoch - 21ms/step\n",
      "Epoch 30/500\n",
      "28/28 - 1s - loss: -4.4562e+00 - negative_correlation_loss: -4.5002e+00 - val_loss: -4.5114e+00 - val_negative_correlation_loss: -4.5553e+00 - lr: 0.0090 - 593ms/epoch - 21ms/step\n",
      "Epoch 31/500\n",
      "\n",
      "Epoch 31: ReduceLROnPlateau reducing learning rate to 0.008099999651312828.\n",
      "28/28 - 1s - loss: -4.4602e+00 - negative_correlation_loss: -4.5043e+00 - val_loss: -4.5109e+00 - val_negative_correlation_loss: -4.5563e+00 - lr: 0.0090 - 593ms/epoch - 21ms/step\n",
      "Epoch 32/500\n",
      "28/28 - 1s - loss: -4.4661e+00 - negative_correlation_loss: -4.5112e+00 - val_loss: -4.5159e+00 - val_negative_correlation_loss: -4.5587e+00 - lr: 0.0081 - 600ms/epoch - 21ms/step\n",
      "Epoch 33/500\n",
      "28/28 - 1s - loss: -4.4576e+00 - negative_correlation_loss: -4.5026e+00 - val_loss: -4.5131e+00 - val_negative_correlation_loss: -4.5614e+00 - lr: 0.0081 - 600ms/epoch - 21ms/step\n",
      "Epoch 34/500\n",
      "28/28 - 1s - loss: -4.4623e+00 - negative_correlation_loss: -4.5094e+00 - val_loss: -4.5032e+00 - val_negative_correlation_loss: -4.5487e+00 - lr: 0.0081 - 601ms/epoch - 21ms/step\n",
      "Epoch 35/500\n",
      "28/28 - 1s - loss: -4.4621e+00 - negative_correlation_loss: -4.5096e+00 - val_loss: -4.5105e+00 - val_negative_correlation_loss: -4.5570e+00 - lr: 0.0081 - 592ms/epoch - 21ms/step\n",
      "Epoch 36/500\n",
      "\n",
      "Epoch 36: ReduceLROnPlateau reducing learning rate to 0.007289999350905419.\n",
      "28/28 - 1s - loss: -4.4669e+00 - negative_correlation_loss: -4.5126e+00 - val_loss: -4.5064e+00 - val_negative_correlation_loss: -4.5504e+00 - lr: 0.0081 - 594ms/epoch - 21ms/step\n",
      "Epoch 37/500\n",
      "28/28 - 1s - loss: -4.4762e+00 - negative_correlation_loss: -4.5191e+00 - val_loss: -4.5206e+00 - val_negative_correlation_loss: -4.5602e+00 - lr: 0.0073 - 600ms/epoch - 21ms/step\n",
      "Epoch 38/500\n",
      "28/28 - 1s - loss: -4.4818e+00 - negative_correlation_loss: -4.5211e+00 - val_loss: -4.5049e+00 - val_negative_correlation_loss: -4.5463e+00 - lr: 0.0073 - 589ms/epoch - 21ms/step\n",
      "Epoch 39/500\n",
      "28/28 - 1s - loss: -4.4741e+00 - negative_correlation_loss: -4.5170e+00 - val_loss: -4.5120e+00 - val_negative_correlation_loss: -4.5540e+00 - lr: 0.0073 - 594ms/epoch - 21ms/step\n",
      "Epoch 40/500\n",
      "28/28 - 1s - loss: -4.4775e+00 - negative_correlation_loss: -4.5209e+00 - val_loss: -4.5166e+00 - val_negative_correlation_loss: -4.5585e+00 - lr: 0.0073 - 595ms/epoch - 21ms/step\n",
      "Epoch 41/500\n",
      "28/28 - 1s - loss: -4.4770e+00 - negative_correlation_loss: -4.5185e+00 - val_loss: -4.5218e+00 - val_negative_correlation_loss: -4.5647e+00 - lr: 0.0073 - 595ms/epoch - 21ms/step\n",
      "Epoch 42/500\n",
      "28/28 - 1s - loss: -4.4781e+00 - negative_correlation_loss: -4.5222e+00 - val_loss: -4.5051e+00 - val_negative_correlation_loss: -4.5468e+00 - lr: 0.0073 - 600ms/epoch - 21ms/step\n",
      "Epoch 43/500\n",
      "28/28 - 1s - loss: -4.4803e+00 - negative_correlation_loss: -4.5223e+00 - val_loss: -4.5191e+00 - val_negative_correlation_loss: -4.5606e+00 - lr: 0.0073 - 594ms/epoch - 21ms/step\n",
      "Epoch 44/500\n",
      "28/28 - 1s - loss: -4.4820e+00 - negative_correlation_loss: -4.5232e+00 - val_loss: -4.5171e+00 - val_negative_correlation_loss: -4.5594e+00 - lr: 0.0073 - 586ms/epoch - 21ms/step\n",
      "Epoch 45/500\n",
      "\n",
      "Epoch 45: ReduceLROnPlateau reducing learning rate to 0.006560999248176813.\n",
      "28/28 - 1s - loss: -4.4650e+00 - negative_correlation_loss: -4.5156e+00 - val_loss: -4.4936e+00 - val_negative_correlation_loss: -4.5426e+00 - lr: 0.0073 - 588ms/epoch - 21ms/step\n",
      "Epoch 46/500\n",
      "28/28 - 1s - loss: -4.4817e+00 - negative_correlation_loss: -4.5265e+00 - val_loss: -4.5213e+00 - val_negative_correlation_loss: -4.5609e+00 - lr: 0.0066 - 598ms/epoch - 21ms/step\n",
      "Epoch 47/500\n",
      "28/28 - 1s - loss: -4.4913e+00 - negative_correlation_loss: -4.5293e+00 - val_loss: -4.5098e+00 - val_negative_correlation_loss: -4.5496e+00 - lr: 0.0066 - 600ms/epoch - 21ms/step\n",
      "Epoch 48/500\n",
      "28/28 - 1s - loss: -4.4831e+00 - negative_correlation_loss: -4.5242e+00 - val_loss: -4.5079e+00 - val_negative_correlation_loss: -4.5496e+00 - lr: 0.0066 - 603ms/epoch - 22ms/step\n",
      "Epoch 49/500\n",
      "\n",
      "Epoch 49: ReduceLROnPlateau reducing learning rate to 0.005904899490997195.\n",
      "28/28 - 1s - loss: -4.4870e+00 - negative_correlation_loss: -4.5280e+00 - val_loss: -4.5211e+00 - val_negative_correlation_loss: -4.5610e+00 - lr: 0.0066 - 594ms/epoch - 21ms/step\n",
      "Epoch 50/500\n",
      "28/28 - 1s - loss: -4.4873e+00 - negative_correlation_loss: -4.5285e+00 - val_loss: -4.5254e+00 - val_negative_correlation_loss: -4.5641e+00 - lr: 0.0059 - 597ms/epoch - 21ms/step\n",
      "Epoch 51/500\n",
      "28/28 - 1s - loss: -4.4941e+00 - negative_correlation_loss: -4.5317e+00 - val_loss: -4.5062e+00 - val_negative_correlation_loss: -4.5433e+00 - lr: 0.0059 - 602ms/epoch - 22ms/step\n",
      "Epoch 52/500\n",
      "28/28 - 1s - loss: -4.4912e+00 - negative_correlation_loss: -4.5292e+00 - val_loss: -4.5133e+00 - val_negative_correlation_loss: -4.5514e+00 - lr: 0.0059 - 594ms/epoch - 21ms/step\n",
      "Epoch 53/500\n",
      "28/28 - 1s - loss: -4.4923e+00 - negative_correlation_loss: -4.5309e+00 - val_loss: -4.5182e+00 - val_negative_correlation_loss: -4.5553e+00 - lr: 0.0059 - 593ms/epoch - 21ms/step\n",
      "Epoch 54/500\n",
      "\n",
      "Epoch 54: ReduceLROnPlateau reducing learning rate to 0.00531440949998796.\n",
      "28/28 - 1s - loss: -4.4901e+00 - negative_correlation_loss: -4.5294e+00 - val_loss: -4.5223e+00 - val_negative_correlation_loss: -4.5617e+00 - lr: 0.0059 - 602ms/epoch - 22ms/step\n",
      "Epoch 55/500\n",
      "28/28 - 1s - loss: -4.4991e+00 - negative_correlation_loss: -4.5351e+00 - val_loss: -4.5236e+00 - val_negative_correlation_loss: -4.5579e+00 - lr: 0.0053 - 594ms/epoch - 21ms/step\n",
      "Epoch 56/500\n",
      "28/28 - 1s - loss: -4.4909e+00 - negative_correlation_loss: -4.5281e+00 - val_loss: -4.5171e+00 - val_negative_correlation_loss: -4.5548e+00 - lr: 0.0053 - 592ms/epoch - 21ms/step\n",
      "Epoch 57/500\n",
      "28/28 - 1s - loss: -4.4844e+00 - negative_correlation_loss: -4.5257e+00 - val_loss: -4.5273e+00 - val_negative_correlation_loss: -4.5689e+00 - lr: 0.0053 - 603ms/epoch - 22ms/step\n",
      "Epoch 58/500\n",
      "28/28 - 1s - loss: -4.4964e+00 - negative_correlation_loss: -4.5341e+00 - val_loss: -4.5093e+00 - val_negative_correlation_loss: -4.5464e+00 - lr: 0.0053 - 589ms/epoch - 21ms/step\n",
      "Epoch 59/500\n",
      "28/28 - 1s - loss: -4.4897e+00 - negative_correlation_loss: -4.5293e+00 - val_loss: -4.5215e+00 - val_negative_correlation_loss: -4.5614e+00 - lr: 0.0053 - 590ms/epoch - 21ms/step\n",
      "Epoch 60/500\n",
      "28/28 - 1s - loss: -4.4985e+00 - negative_correlation_loss: -4.5365e+00 - val_loss: -4.5241e+00 - val_negative_correlation_loss: -4.5588e+00 - lr: 0.0053 - 601ms/epoch - 21ms/step\n",
      "Epoch 61/500\n",
      "\n",
      "Epoch 61: ReduceLROnPlateau reducing learning rate to 0.004782968759536744.\n",
      "28/28 - 1s - loss: -4.4986e+00 - negative_correlation_loss: -4.5318e+00 - val_loss: -4.5036e+00 - val_negative_correlation_loss: -4.5441e+00 - lr: 0.0053 - 597ms/epoch - 21ms/step\n",
      "Epoch 62/500\n",
      "28/28 - 1s - loss: -4.4890e+00 - negative_correlation_loss: -4.5320e+00 - val_loss: -4.5167e+00 - val_negative_correlation_loss: -4.5553e+00 - lr: 0.0048 - 595ms/epoch - 21ms/step\n",
      "Epoch 63/500\n",
      "28/28 - 1s - loss: -4.5019e+00 - negative_correlation_loss: -4.5376e+00 - val_loss: -4.5138e+00 - val_negative_correlation_loss: -4.5471e+00 - lr: 0.0048 - 592ms/epoch - 21ms/step\n",
      "Epoch 64/500\n",
      "28/28 - 1s - loss: -4.4953e+00 - negative_correlation_loss: -4.5311e+00 - val_loss: -4.5120e+00 - val_negative_correlation_loss: -4.5495e+00 - lr: 0.0048 - 599ms/epoch - 21ms/step\n",
      "Epoch 65/500\n",
      "\n",
      "Epoch 65: ReduceLROnPlateau reducing learning rate to 0.0043046717997640375.\n",
      "28/28 - 1s - loss: -4.4976e+00 - negative_correlation_loss: -4.5353e+00 - val_loss: -4.5265e+00 - val_negative_correlation_loss: -4.5616e+00 - lr: 0.0048 - 615ms/epoch - 22ms/step\n",
      "Epoch 66/500\n",
      "28/28 - 1s - loss: -4.5087e+00 - negative_correlation_loss: -4.5414e+00 - val_loss: -4.5190e+00 - val_negative_correlation_loss: -4.5497e+00 - lr: 0.0043 - 592ms/epoch - 21ms/step\n",
      "Epoch 67/500\n",
      "28/28 - 1s - loss: -4.5101e+00 - negative_correlation_loss: -4.5409e+00 - val_loss: -4.5216e+00 - val_negative_correlation_loss: -4.5531e+00 - lr: 0.0043 - 599ms/epoch - 21ms/step\n",
      "Epoch 68/500\n",
      "28/28 - 1s - loss: -4.5073e+00 - negative_correlation_loss: -4.5394e+00 - val_loss: -4.5277e+00 - val_negative_correlation_loss: -4.5593e+00 - lr: 0.0043 - 603ms/epoch - 22ms/step\n",
      "Epoch 69/500\n",
      "28/28 - 1s - loss: -4.5099e+00 - negative_correlation_loss: -4.5415e+00 - val_loss: -4.5215e+00 - val_negative_correlation_loss: -4.5525e+00 - lr: 0.0043 - 596ms/epoch - 21ms/step\n",
      "Epoch 70/500\n",
      "28/28 - 1s - loss: -4.5021e+00 - negative_correlation_loss: -4.5345e+00 - val_loss: -4.5275e+00 - val_negative_correlation_loss: -4.5624e+00 - lr: 0.0043 - 592ms/epoch - 21ms/step\n",
      "Epoch 71/500\n",
      "28/28 - 1s - loss: -4.5055e+00 - negative_correlation_loss: -4.5402e+00 - val_loss: -4.5329e+00 - val_negative_correlation_loss: -4.5655e+00 - lr: 0.0043 - 602ms/epoch - 21ms/step\n",
      "Epoch 72/500\n",
      "28/28 - 1s - loss: -4.5101e+00 - negative_correlation_loss: -4.5418e+00 - val_loss: -4.5285e+00 - val_negative_correlation_loss: -4.5593e+00 - lr: 0.0043 - 591ms/epoch - 21ms/step\n",
      "Epoch 73/500\n",
      "28/28 - 1s - loss: -4.5081e+00 - negative_correlation_loss: -4.5411e+00 - val_loss: -4.4969e+00 - val_negative_correlation_loss: -4.5292e+00 - lr: 0.0043 - 590ms/epoch - 21ms/step\n",
      "Epoch 74/500\n",
      "28/28 - 1s - loss: -4.2747e+00 - negative_correlation_loss: -4.4488e+00 - val_loss: -4.0979e+00 - val_negative_correlation_loss: -4.5046e+00 - lr: 0.0043 - 595ms/epoch - 21ms/step\n",
      "Epoch 75/500\n",
      "\n",
      "Epoch 75: ReduceLROnPlateau reducing learning rate to 0.0038742044940590858.\n",
      "28/28 - 1s - loss: -4.0697e+00 - negative_correlation_loss: -4.4097e+00 - val_loss: -4.2633e+00 - val_negative_correlation_loss: -4.5070e+00 - lr: 0.0043 - 600ms/epoch - 21ms/step\n",
      "Epoch 76/500\n",
      "28/28 - 1s - loss: -4.2202e+00 - negative_correlation_loss: -4.4104e+00 - val_loss: -4.3650e+00 - val_negative_correlation_loss: -4.5092e+00 - lr: 0.0039 - 584ms/epoch - 21ms/step\n",
      "Epoch 77/500\n",
      "28/28 - 1s - loss: -4.2949e+00 - negative_correlation_loss: -4.4141e+00 - val_loss: -4.4287e+00 - val_negative_correlation_loss: -4.5251e+00 - lr: 0.0039 - 599ms/epoch - 21ms/step\n",
      "Epoch 78/500\n",
      "28/28 - 1s - loss: -4.3464e+00 - negative_correlation_loss: -4.4312e+00 - val_loss: -4.4629e+00 - val_negative_correlation_loss: -4.5356e+00 - lr: 0.0039 - 592ms/epoch - 21ms/step\n",
      "Epoch 79/500\n",
      "\n",
      "Epoch 79: ReduceLROnPlateau reducing learning rate to 0.003486784128472209.\n",
      "28/28 - 1s - loss: -4.3885e+00 - negative_correlation_loss: -4.4546e+00 - val_loss: -4.4904e+00 - val_negative_correlation_loss: -4.5504e+00 - lr: 0.0039 - 598ms/epoch - 21ms/step\n",
      "Epoch 80/500\n",
      "28/28 - 1s - loss: -4.4206e+00 - negative_correlation_loss: -4.4767e+00 - val_loss: -4.5054e+00 - val_negative_correlation_loss: -4.5571e+00 - lr: 0.0035 - 606ms/epoch - 22ms/step\n",
      "Epoch 81/500\n",
      "28/28 - 1s - loss: -4.4401e+00 - negative_correlation_loss: -4.4901e+00 - val_loss: -4.5129e+00 - val_negative_correlation_loss: -4.5610e+00 - lr: 0.0035 - 590ms/epoch - 21ms/step\n",
      "Epoch 82/500\n",
      "28/28 - 1s - loss: -4.4643e+00 - negative_correlation_loss: -4.5096e+00 - val_loss: -4.5255e+00 - val_negative_correlation_loss: -4.5688e+00 - lr: 0.0035 - 597ms/epoch - 21ms/step\n",
      "Epoch 83/500\n",
      "\n",
      "Epoch 83: ReduceLROnPlateau reducing learning rate to 0.003138105757534504.\n",
      "28/28 - 1s - loss: -4.4794e+00 - negative_correlation_loss: -4.5216e+00 - val_loss: -4.5151e+00 - val_negative_correlation_loss: -4.5561e+00 - lr: 0.0035 - 585ms/epoch - 21ms/step\n",
      "Epoch 84/500\n",
      "28/28 - 1s - loss: -4.4899e+00 - negative_correlation_loss: -4.5299e+00 - val_loss: -4.5291e+00 - val_negative_correlation_loss: -4.5680e+00 - lr: 0.0031 - 600ms/epoch - 21ms/step\n",
      "Epoch 85/500\n",
      "28/28 - 1s - loss: -4.4980e+00 - negative_correlation_loss: -4.5354e+00 - val_loss: -4.5115e+00 - val_negative_correlation_loss: -4.5479e+00 - lr: 0.0031 - 595ms/epoch - 21ms/step\n",
      "Epoch 86/500\n",
      "28/28 - 1s - loss: -4.4992e+00 - negative_correlation_loss: -4.5354e+00 - val_loss: -4.5311e+00 - val_negative_correlation_loss: -4.5670e+00 - lr: 0.0031 - 592ms/epoch - 21ms/step\n",
      "Epoch 87/500\n",
      "\n",
      "Epoch 87: ReduceLROnPlateau reducing learning rate to 0.0028242952656000854.\n",
      "28/28 - 1s - loss: -4.5045e+00 - negative_correlation_loss: -4.5392e+00 - val_loss: -4.5321e+00 - val_negative_correlation_loss: -4.5659e+00 - lr: 0.0031 - 597ms/epoch - 21ms/step\n",
      "Epoch 88/500\n",
      "28/28 - 1s - loss: -4.5066e+00 - negative_correlation_loss: -4.5402e+00 - val_loss: -4.5342e+00 - val_negative_correlation_loss: -4.5672e+00 - lr: 0.0028 - 594ms/epoch - 21ms/step\n",
      "Epoch 89/500\n",
      "28/28 - 1s - loss: -4.5134e+00 - negative_correlation_loss: -4.5450e+00 - val_loss: -4.5325e+00 - val_negative_correlation_loss: -4.5629e+00 - lr: 0.0028 - 587ms/epoch - 21ms/step\n",
      "Epoch 90/500\n",
      "28/28 - 1s - loss: -4.5130e+00 - negative_correlation_loss: -4.5431e+00 - val_loss: -4.5239e+00 - val_negative_correlation_loss: -4.5542e+00 - lr: 0.0028 - 599ms/epoch - 21ms/step\n",
      "Epoch 91/500\n",
      "28/28 - 1s - loss: -4.5002e+00 - negative_correlation_loss: -4.5329e+00 - val_loss: -4.5244e+00 - val_negative_correlation_loss: -4.5589e+00 - lr: 0.0028 - 596ms/epoch - 21ms/step\n",
      "Epoch 92/500\n",
      "\n",
      "Epoch 92: ReduceLROnPlateau reducing learning rate to 0.0025418657809495927.\n",
      "28/28 - 1s - loss: -4.5077e+00 - negative_correlation_loss: -4.5413e+00 - val_loss: -4.5338e+00 - val_negative_correlation_loss: -4.5656e+00 - lr: 0.0028 - 595ms/epoch - 21ms/step\n",
      "Epoch 93/500\n",
      "28/28 - 1s - loss: -4.5173e+00 - negative_correlation_loss: -4.5477e+00 - val_loss: -4.5343e+00 - val_negative_correlation_loss: -4.5632e+00 - lr: 0.0025 - 601ms/epoch - 21ms/step\n",
      "Epoch 94/500\n",
      "28/28 - 1s - loss: -4.5213e+00 - negative_correlation_loss: -4.5497e+00 - val_loss: -4.5349e+00 - val_negative_correlation_loss: -4.5622e+00 - lr: 0.0025 - 602ms/epoch - 21ms/step\n",
      "Epoch 95/500\n",
      "28/28 - 1s - loss: -4.5222e+00 - negative_correlation_loss: -4.5488e+00 - val_loss: -4.5349e+00 - val_negative_correlation_loss: -4.5614e+00 - lr: 0.0025 - 596ms/epoch - 21ms/step\n",
      "Epoch 96/500\n",
      "28/28 - 1s - loss: -4.5195e+00 - negative_correlation_loss: -4.5467e+00 - val_loss: -4.5280e+00 - val_negative_correlation_loss: -4.5552e+00 - lr: 0.0025 - 592ms/epoch - 21ms/step\n",
      "Epoch 97/500\n",
      "28/28 - 1s - loss: -4.5189e+00 - negative_correlation_loss: -4.5475e+00 - val_loss: -4.5300e+00 - val_negative_correlation_loss: -4.5578e+00 - lr: 0.0025 - 590ms/epoch - 21ms/step\n",
      "Epoch 98/500\n",
      "28/28 - 1s - loss: -4.5205e+00 - negative_correlation_loss: -4.5476e+00 - val_loss: -4.5350e+00 - val_negative_correlation_loss: -4.5623e+00 - lr: 0.0025 - 601ms/epoch - 21ms/step\n",
      "Epoch 99/500\n",
      "28/28 - 1s - loss: -4.5225e+00 - negative_correlation_loss: -4.5489e+00 - val_loss: -4.5305e+00 - val_negative_correlation_loss: -4.5572e+00 - lr: 0.0025 - 602ms/epoch - 22ms/step\n",
      "Epoch 100/500\n",
      "28/28 - 1s - loss: -4.5245e+00 - negative_correlation_loss: -4.5505e+00 - val_loss: -4.5250e+00 - val_negative_correlation_loss: -4.5514e+00 - lr: 0.0025 - 592ms/epoch - 21ms/step\n",
      "Epoch 101/500\n",
      "28/28 - 1s - loss: -4.5238e+00 - negative_correlation_loss: -4.5504e+00 - val_loss: -4.5360e+00 - val_negative_correlation_loss: -4.5622e+00 - lr: 0.0025 - 609ms/epoch - 22ms/step\n",
      "Epoch 102/500\n",
      "28/28 - 1s - loss: -4.5187e+00 - negative_correlation_loss: -4.5459e+00 - val_loss: -4.5261e+00 - val_negative_correlation_loss: -4.5540e+00 - lr: 0.0025 - 585ms/epoch - 21ms/step\n",
      "Epoch 103/500\n",
      "28/28 - 1s - loss: -4.5201e+00 - negative_correlation_loss: -4.5479e+00 - val_loss: -4.5350e+00 - val_negative_correlation_loss: -4.5625e+00 - lr: 0.0025 - 594ms/epoch - 21ms/step\n",
      "Epoch 104/500\n",
      "28/28 - 1s - loss: -4.5246e+00 - negative_correlation_loss: -4.5521e+00 - val_loss: -4.5332e+00 - val_negative_correlation_loss: -4.5599e+00 - lr: 0.0025 - 602ms/epoch - 21ms/step\n",
      "Epoch 105/500\n",
      "28/28 - 1s - loss: -4.5253e+00 - negative_correlation_loss: -4.5519e+00 - val_loss: -4.5390e+00 - val_negative_correlation_loss: -4.5653e+00 - lr: 0.0025 - 598ms/epoch - 21ms/step\n",
      "Epoch 106/500\n",
      "28/28 - 1s - loss: -4.5252e+00 - negative_correlation_loss: -4.5509e+00 - val_loss: -4.5277e+00 - val_negative_correlation_loss: -4.5539e+00 - lr: 0.0025 - 588ms/epoch - 21ms/step\n",
      "Epoch 107/500\n",
      "28/28 - 1s - loss: -4.5191e+00 - negative_correlation_loss: -4.5471e+00 - val_loss: -4.5336e+00 - val_negative_correlation_loss: -4.5618e+00 - lr: 0.0025 - 599ms/epoch - 21ms/step\n",
      "Epoch 108/500\n",
      "28/28 - 1s - loss: -4.5233e+00 - negative_correlation_loss: -4.5514e+00 - val_loss: -4.5329e+00 - val_negative_correlation_loss: -4.5605e+00 - lr: 0.0025 - 594ms/epoch - 21ms/step\n",
      "Epoch 109/500\n",
      "\n",
      "Epoch 109: ReduceLROnPlateau reducing learning rate to 0.0022876791190356016.\n",
      "28/28 - 1s - loss: -4.5269e+00 - negative_correlation_loss: -4.5542e+00 - val_loss: -4.5319e+00 - val_negative_correlation_loss: -4.5583e+00 - lr: 0.0025 - 592ms/epoch - 21ms/step\n",
      "Epoch 110/500\n",
      "28/28 - 1s - loss: -4.5280e+00 - negative_correlation_loss: -4.5538e+00 - val_loss: -4.5310e+00 - val_negative_correlation_loss: -4.5570e+00 - lr: 0.0023 - 598ms/epoch - 21ms/step\n",
      "Epoch 111/500\n",
      "28/28 - 1s - loss: -4.5292e+00 - negative_correlation_loss: -4.5551e+00 - val_loss: -4.5371e+00 - val_negative_correlation_loss: -4.5623e+00 - lr: 0.0023 - 588ms/epoch - 21ms/step\n",
      "Epoch 112/500\n",
      "28/28 - 1s - loss: -4.5309e+00 - negative_correlation_loss: -4.5557e+00 - val_loss: -4.5314e+00 - val_negative_correlation_loss: -4.5562e+00 - lr: 0.0023 - 600ms/epoch - 21ms/step\n",
      "Epoch 113/500\n",
      "\n",
      "Epoch 113: ReduceLROnPlateau reducing learning rate to 0.0020589112071320416.\n",
      "28/28 - 1s - loss: -4.5304e+00 - negative_correlation_loss: -4.5550e+00 - val_loss: -4.5268e+00 - val_negative_correlation_loss: -4.5522e+00 - lr: 0.0023 - 593ms/epoch - 21ms/step\n",
      "Epoch 114/500\n",
      "28/28 - 1s - loss: -4.5317e+00 - negative_correlation_loss: -4.5566e+00 - val_loss: -4.5269e+00 - val_negative_correlation_loss: -4.5514e+00 - lr: 0.0021 - 590ms/epoch - 21ms/step\n",
      "Epoch 115/500\n",
      "28/28 - 1s - loss: -4.5328e+00 - negative_correlation_loss: -4.5576e+00 - val_loss: -4.5332e+00 - val_negative_correlation_loss: -4.5577e+00 - lr: 0.0021 - 596ms/epoch - 21ms/step\n",
      "Epoch 116/500\n",
      "28/28 - 1s - loss: -4.5346e+00 - negative_correlation_loss: -4.5595e+00 - val_loss: -4.5368e+00 - val_negative_correlation_loss: -4.5608e+00 - lr: 0.0021 - 600ms/epoch - 21ms/step\n",
      "Epoch 117/500\n",
      "\n",
      "Epoch 117: ReduceLROnPlateau reducing learning rate to 0.0018530200235545636.\n",
      "28/28 - 1s - loss: -4.5311e+00 - negative_correlation_loss: -4.5557e+00 - val_loss: -4.5361e+00 - val_negative_correlation_loss: -4.5610e+00 - lr: 0.0021 - 608ms/epoch - 22ms/step\n",
      "Epoch 118/500\n",
      "28/28 - 1s - loss: -4.5355e+00 - negative_correlation_loss: -4.5606e+00 - val_loss: -4.5306e+00 - val_negative_correlation_loss: -4.5544e+00 - lr: 0.0019 - 610ms/epoch - 22ms/step\n",
      "Epoch 119/500\n",
      "28/28 - 1s - loss: -4.5388e+00 - negative_correlation_loss: -4.5621e+00 - val_loss: -4.5344e+00 - val_negative_correlation_loss: -4.5573e+00 - lr: 0.0019 - 598ms/epoch - 21ms/step\n",
      "Epoch 120/500\n",
      "28/28 - 1s - loss: -4.5383e+00 - negative_correlation_loss: -4.5612e+00 - val_loss: -4.5384e+00 - val_negative_correlation_loss: -4.5612e+00 - lr: 0.0019 - 591ms/epoch - 21ms/step\n",
      "Epoch 121/500\n",
      "\n",
      "Epoch 121: ReduceLROnPlateau reducing learning rate to 0.0016677180421538651.\n",
      "28/28 - 1s - loss: -4.5360e+00 - negative_correlation_loss: -4.5591e+00 - val_loss: -4.5237e+00 - val_negative_correlation_loss: -4.5485e+00 - lr: 0.0019 - 594ms/epoch - 21ms/step\n",
      "Epoch 122/500\n",
      "28/28 - 1s - loss: -4.5332e+00 - negative_correlation_loss: -4.5586e+00 - val_loss: -4.5320e+00 - val_negative_correlation_loss: -4.5565e+00 - lr: 0.0017 - 587ms/epoch - 21ms/step\n",
      "Epoch 123/500\n",
      "28/28 - 1s - loss: -4.5391e+00 - negative_correlation_loss: -4.5622e+00 - val_loss: -4.5326e+00 - val_negative_correlation_loss: -4.5557e+00 - lr: 0.0017 - 593ms/epoch - 21ms/step\n",
      "Epoch 124/500\n",
      "28/28 - 1s - loss: -4.5422e+00 - negative_correlation_loss: -4.5647e+00 - val_loss: -4.5345e+00 - val_negative_correlation_loss: -4.5569e+00 - lr: 0.0017 - 593ms/epoch - 21ms/step\n",
      "Epoch 125/500\n",
      "\n",
      "Epoch 125: ReduceLROnPlateau reducing learning rate to 0.0015009462484158575.\n",
      "28/28 - 1s - loss: -4.5422e+00 - negative_correlation_loss: -4.5644e+00 - val_loss: -4.5235e+00 - val_negative_correlation_loss: -4.5460e+00 - lr: 0.0017 - 586ms/epoch - 21ms/step\n",
      "Epoch 126/500\n",
      "28/28 - 1s - loss: -4.5424e+00 - negative_correlation_loss: -4.5654e+00 - val_loss: -4.5305e+00 - val_negative_correlation_loss: -4.5529e+00 - lr: 0.0015 - 589ms/epoch - 21ms/step\n",
      "Epoch 127/500\n",
      "28/28 - 1s - loss: -4.5446e+00 - negative_correlation_loss: -4.5658e+00 - val_loss: -4.5331e+00 - val_negative_correlation_loss: -4.5550e+00 - lr: 0.0015 - 591ms/epoch - 21ms/step\n",
      "Epoch 128/500\n",
      "28/28 - 1s - loss: -4.5437e+00 - negative_correlation_loss: -4.5655e+00 - val_loss: -4.5250e+00 - val_negative_correlation_loss: -4.5473e+00 - lr: 0.0015 - 597ms/epoch - 21ms/step\n",
      "Epoch 129/500\n",
      "\n",
      "Epoch 129: ReduceLROnPlateau reducing learning rate to 0.0013508516130968928.\n",
      "28/28 - 1s - loss: -4.5454e+00 - negative_correlation_loss: -4.5673e+00 - val_loss: -4.5306e+00 - val_negative_correlation_loss: -4.5529e+00 - lr: 0.0015 - 598ms/epoch - 21ms/step\n",
      "Epoch 130/500\n",
      "28/28 - 1s - loss: -4.5478e+00 - negative_correlation_loss: -4.5698e+00 - val_loss: -4.5244e+00 - val_negative_correlation_loss: -4.5465e+00 - lr: 0.0014 - 597ms/epoch - 21ms/step\n",
      "Epoch 131/500\n",
      "28/28 - 1s - loss: -4.5484e+00 - negative_correlation_loss: -4.5704e+00 - val_loss: -4.5286e+00 - val_negative_correlation_loss: -4.5507e+00 - lr: 0.0014 - 601ms/epoch - 21ms/step\n",
      "Epoch 132/500\n",
      "28/28 - 1s - loss: -4.5486e+00 - negative_correlation_loss: -4.5704e+00 - val_loss: -4.5316e+00 - val_negative_correlation_loss: -4.5536e+00 - lr: 0.0014 - 610ms/epoch - 22ms/step\n",
      "Epoch 133/500\n",
      "\n",
      "Epoch 133: ReduceLROnPlateau reducing learning rate to 0.0012157664517872036.\n",
      "28/28 - 1s - loss: -4.5486e+00 - negative_correlation_loss: -4.5713e+00 - val_loss: -4.5254e+00 - val_negative_correlation_loss: -4.5479e+00 - lr: 0.0014 - 597ms/epoch - 21ms/step\n",
      "Epoch 134/500\n",
      "28/28 - 1s - loss: -4.5506e+00 - negative_correlation_loss: -4.5734e+00 - val_loss: -4.5311e+00 - val_negative_correlation_loss: -4.5531e+00 - lr: 0.0012 - 599ms/epoch - 21ms/step\n",
      "Epoch 135/500\n",
      "Restoring model weights from the end of the best epoch: 105.\n",
      "28/28 - 1s - loss: -4.5534e+00 - negative_correlation_loss: -4.5750e+00 - val_loss: -4.5262e+00 - val_negative_correlation_loss: -4.5482e+00 - lr: 0.0012 - 594ms/epoch - 21ms/step\n",
      "Epoch 135: early stopping\n",
      "111/111 [==============================] - 0s 3ms/step\n",
      "\n",
      " --------- FOLD 0 -----------\n",
      "Fold 0, correlation =  0.66768\n",
      "model saved\n",
      "Epoch 1/500\n",
      "28/28 - 2s - loss: -2.9982e+00 - negative_correlation_loss: -3.7536e+00 - val_loss: -3.4916e+00 - val_negative_correlation_loss: -4.4691e+00 - lr: 0.0100 - 2s/epoch - 58ms/step\n",
      "Epoch 2/500\n",
      "28/28 - 1s - loss: -3.5501e+00 - negative_correlation_loss: -4.3955e+00 - val_loss: -3.7997e+00 - val_negative_correlation_loss: -4.4884e+00 - lr: 0.0100 - 609ms/epoch - 22ms/step\n",
      "Epoch 3/500\n",
      "28/28 - 1s - loss: -3.8321e+00 - negative_correlation_loss: -4.4076e+00 - val_loss: -4.0230e+00 - val_negative_correlation_loss: -4.4911e+00 - lr: 0.0100 - 595ms/epoch - 21ms/step\n",
      "Epoch 4/500\n",
      "28/28 - 1s - loss: -4.0111e+00 - negative_correlation_loss: -4.4095e+00 - val_loss: -4.1559e+00 - val_negative_correlation_loss: -4.4870e+00 - lr: 0.0100 - 604ms/epoch - 22ms/step\n",
      "Epoch 5/500\n",
      "28/28 - 1s - loss: -4.1245e+00 - negative_correlation_loss: -4.4105e+00 - val_loss: -4.2462e+00 - val_negative_correlation_loss: -4.4880e+00 - lr: 0.0100 - 599ms/epoch - 21ms/step\n",
      "Epoch 6/500\n"
     ]
    },
    {
     "ename": "KeyboardInterrupt",
     "evalue": "",
     "output_type": "error",
     "traceback": [
      "\u001b[0;31m---------------------------------------------------------------------------\u001b[0m",
      "\u001b[0;31mKeyboardInterrupt\u001b[0m                         Traceback (most recent call last)",
      "Input \u001b[0;32mIn [172]\u001b[0m, in \u001b[0;36m<cell line: 13>\u001b[0;34m()\u001b[0m\n\u001b[1;32m     33\u001b[0m es \u001b[38;5;241m=\u001b[39m EarlyStopping(\n\u001b[1;32m     34\u001b[0m             monitor \u001b[38;5;241m=\u001b[39m \u001b[38;5;124m\"\u001b[39m\u001b[38;5;124mval_loss\u001b[39m\u001b[38;5;124m\"\u001b[39m,\n\u001b[1;32m     35\u001b[0m             patience \u001b[38;5;241m=\u001b[39m \u001b[38;5;241m30\u001b[39m, \n\u001b[1;32m     36\u001b[0m             verbose \u001b[38;5;241m=\u001b[39m VERBOSE,\n\u001b[1;32m     37\u001b[0m             mode \u001b[38;5;241m=\u001b[39m \u001b[38;5;124m\"\u001b[39m\u001b[38;5;124mmin\u001b[39m\u001b[38;5;124m\"\u001b[39m, \n\u001b[1;32m     38\u001b[0m             restore_best_weights \u001b[38;5;241m=\u001b[39m \u001b[38;5;28;01mTrue\u001b[39;00m)\n\u001b[1;32m     40\u001b[0m model\u001b[38;5;241m.\u001b[39mcompile(\n\u001b[1;32m     41\u001b[0m         optimizer \u001b[38;5;241m=\u001b[39m tf\u001b[38;5;241m.\u001b[39mkeras\u001b[38;5;241m.\u001b[39moptimizers\u001b[38;5;241m.\u001b[39mAdam(learning_rate\u001b[38;5;241m=\u001b[39m\u001b[38;5;241m1e-2\u001b[39m),\n\u001b[1;32m     42\u001b[0m         metrics \u001b[38;5;241m=\u001b[39m [negative_correlation_loss],\n\u001b[1;32m     43\u001b[0m         loss \u001b[38;5;241m=\u001b[39m negative_correlation_loss\n\u001b[1;32m     44\u001b[0m          )\n\u001b[0;32m---> 46\u001b[0m \u001b[43mmodel\u001b[49m\u001b[38;5;241;43m.\u001b[39;49m\u001b[43mfit\u001b[49m\u001b[43m(\u001b[49m\u001b[43mX_tr\u001b[49m\u001b[43m,\u001b[49m\n\u001b[1;32m     47\u001b[0m \u001b[43m          \u001b[49m\u001b[43my_tr\u001b[49m\u001b[43m,\u001b[49m\n\u001b[1;32m     48\u001b[0m \u001b[43m          \u001b[49m\u001b[43mvalidation_data\u001b[49m\u001b[38;5;241;43m=\u001b[39;49m\u001b[43m(\u001b[49m\u001b[43mX_va\u001b[49m\u001b[43m,\u001b[49m\u001b[43my_va\u001b[49m\u001b[43m)\u001b[49m\u001b[43m,\u001b[49m\n\u001b[1;32m     49\u001b[0m \u001b[43m          \u001b[49m\u001b[43mepochs\u001b[49m\u001b[43m \u001b[49m\u001b[38;5;241;43m=\u001b[39;49m\u001b[38;5;241;43m500\u001b[39;49m\u001b[43m,\u001b[49m\n\u001b[1;32m     50\u001b[0m \u001b[43m          \u001b[49m\u001b[43mverbose\u001b[49m\u001b[43m \u001b[49m\u001b[38;5;241;43m=\u001b[39;49m\u001b[43m \u001b[49m\u001b[43mVERBOSE\u001b[49m\u001b[43m,\u001b[49m\n\u001b[1;32m     51\u001b[0m \u001b[43m          \u001b[49m\u001b[43mbatch_size\u001b[49m\u001b[38;5;241;43m=\u001b[39;49m\u001b[38;5;241;43m256\u001b[39;49m\u001b[43m,\u001b[49m\n\u001b[1;32m     52\u001b[0m \u001b[43m          \u001b[49m\u001b[43mcallbacks\u001b[49m\u001b[43m \u001b[49m\u001b[38;5;241;43m=\u001b[39;49m\u001b[43m \u001b[49m\u001b[43m[\u001b[49m\u001b[43mes\u001b[49m\u001b[43m,\u001b[49m\u001b[43mlr\u001b[49m\u001b[43m]\u001b[49m\n\u001b[1;32m     53\u001b[0m \u001b[43m         \u001b[49m\u001b[43m)\u001b[49m\n\u001b[1;32m     54\u001b[0m y_va_pred \u001b[38;5;241m=\u001b[39m model\u001b[38;5;241m.\u001b[39mpredict(X_va)\n\u001b[1;32m     56\u001b[0m \u001b[38;5;28mprint\u001b[39m(\u001b[38;5;124mf\u001b[39m\u001b[38;5;124m'\u001b[39m\u001b[38;5;130;01m\\n\u001b[39;00m\u001b[38;5;124m --------- FOLD \u001b[39m\u001b[38;5;132;01m{\u001b[39;00mfold\u001b[38;5;132;01m}\u001b[39;00m\u001b[38;5;124m -----------\u001b[39m\u001b[38;5;124m'\u001b[39m)\n",
      "File \u001b[0;32m/srv/conda/envs/saturn/lib/python3.9/site-packages/keras/utils/traceback_utils.py:65\u001b[0m, in \u001b[0;36mfilter_traceback.<locals>.error_handler\u001b[0;34m(*args, **kwargs)\u001b[0m\n\u001b[1;32m     63\u001b[0m filtered_tb \u001b[38;5;241m=\u001b[39m \u001b[38;5;28;01mNone\u001b[39;00m\n\u001b[1;32m     64\u001b[0m \u001b[38;5;28;01mtry\u001b[39;00m:\n\u001b[0;32m---> 65\u001b[0m     \u001b[38;5;28;01mreturn\u001b[39;00m \u001b[43mfn\u001b[49m\u001b[43m(\u001b[49m\u001b[38;5;241;43m*\u001b[39;49m\u001b[43margs\u001b[49m\u001b[43m,\u001b[49m\u001b[43m \u001b[49m\u001b[38;5;241;43m*\u001b[39;49m\u001b[38;5;241;43m*\u001b[39;49m\u001b[43mkwargs\u001b[49m\u001b[43m)\u001b[49m\n\u001b[1;32m     66\u001b[0m \u001b[38;5;28;01mexcept\u001b[39;00m \u001b[38;5;167;01mException\u001b[39;00m \u001b[38;5;28;01mas\u001b[39;00m e:\n\u001b[1;32m     67\u001b[0m     filtered_tb \u001b[38;5;241m=\u001b[39m _process_traceback_frames(e\u001b[38;5;241m.\u001b[39m__traceback__)\n",
      "File \u001b[0;32m/srv/conda/envs/saturn/lib/python3.9/site-packages/keras/engine/training.py:1564\u001b[0m, in \u001b[0;36mModel.fit\u001b[0;34m(self, x, y, batch_size, epochs, verbose, callbacks, validation_split, validation_data, shuffle, class_weight, sample_weight, initial_epoch, steps_per_epoch, validation_steps, validation_batch_size, validation_freq, max_queue_size, workers, use_multiprocessing)\u001b[0m\n\u001b[1;32m   1556\u001b[0m \u001b[38;5;28;01mwith\u001b[39;00m tf\u001b[38;5;241m.\u001b[39mprofiler\u001b[38;5;241m.\u001b[39mexperimental\u001b[38;5;241m.\u001b[39mTrace(\n\u001b[1;32m   1557\u001b[0m     \u001b[38;5;124m\"\u001b[39m\u001b[38;5;124mtrain\u001b[39m\u001b[38;5;124m\"\u001b[39m,\n\u001b[1;32m   1558\u001b[0m     epoch_num\u001b[38;5;241m=\u001b[39mepoch,\n\u001b[0;32m   (...)\u001b[0m\n\u001b[1;32m   1561\u001b[0m     _r\u001b[38;5;241m=\u001b[39m\u001b[38;5;241m1\u001b[39m,\n\u001b[1;32m   1562\u001b[0m ):\n\u001b[1;32m   1563\u001b[0m     callbacks\u001b[38;5;241m.\u001b[39mon_train_batch_begin(step)\n\u001b[0;32m-> 1564\u001b[0m     tmp_logs \u001b[38;5;241m=\u001b[39m \u001b[38;5;28;43mself\u001b[39;49m\u001b[38;5;241;43m.\u001b[39;49m\u001b[43mtrain_function\u001b[49m\u001b[43m(\u001b[49m\u001b[43miterator\u001b[49m\u001b[43m)\u001b[49m\n\u001b[1;32m   1565\u001b[0m     \u001b[38;5;28;01mif\u001b[39;00m data_handler\u001b[38;5;241m.\u001b[39mshould_sync:\n\u001b[1;32m   1566\u001b[0m         context\u001b[38;5;241m.\u001b[39masync_wait()\n",
      "File \u001b[0;32m/srv/conda/envs/saturn/lib/python3.9/site-packages/tensorflow/python/util/traceback_utils.py:150\u001b[0m, in \u001b[0;36mfilter_traceback.<locals>.error_handler\u001b[0;34m(*args, **kwargs)\u001b[0m\n\u001b[1;32m    148\u001b[0m filtered_tb \u001b[38;5;241m=\u001b[39m \u001b[38;5;28;01mNone\u001b[39;00m\n\u001b[1;32m    149\u001b[0m \u001b[38;5;28;01mtry\u001b[39;00m:\n\u001b[0;32m--> 150\u001b[0m   \u001b[38;5;28;01mreturn\u001b[39;00m \u001b[43mfn\u001b[49m\u001b[43m(\u001b[49m\u001b[38;5;241;43m*\u001b[39;49m\u001b[43margs\u001b[49m\u001b[43m,\u001b[49m\u001b[43m \u001b[49m\u001b[38;5;241;43m*\u001b[39;49m\u001b[38;5;241;43m*\u001b[39;49m\u001b[43mkwargs\u001b[49m\u001b[43m)\u001b[49m\n\u001b[1;32m    151\u001b[0m \u001b[38;5;28;01mexcept\u001b[39;00m \u001b[38;5;167;01mException\u001b[39;00m \u001b[38;5;28;01mas\u001b[39;00m e:\n\u001b[1;32m    152\u001b[0m   filtered_tb \u001b[38;5;241m=\u001b[39m _process_traceback_frames(e\u001b[38;5;241m.\u001b[39m__traceback__)\n",
      "File \u001b[0;32m/srv/conda/envs/saturn/lib/python3.9/site-packages/tensorflow/python/eager/def_function.py:915\u001b[0m, in \u001b[0;36mFunction.__call__\u001b[0;34m(self, *args, **kwds)\u001b[0m\n\u001b[1;32m    912\u001b[0m compiler \u001b[38;5;241m=\u001b[39m \u001b[38;5;124m\"\u001b[39m\u001b[38;5;124mxla\u001b[39m\u001b[38;5;124m\"\u001b[39m \u001b[38;5;28;01mif\u001b[39;00m \u001b[38;5;28mself\u001b[39m\u001b[38;5;241m.\u001b[39m_jit_compile \u001b[38;5;28;01melse\u001b[39;00m \u001b[38;5;124m\"\u001b[39m\u001b[38;5;124mnonXla\u001b[39m\u001b[38;5;124m\"\u001b[39m\n\u001b[1;32m    914\u001b[0m \u001b[38;5;28;01mwith\u001b[39;00m OptionalXlaContext(\u001b[38;5;28mself\u001b[39m\u001b[38;5;241m.\u001b[39m_jit_compile):\n\u001b[0;32m--> 915\u001b[0m   result \u001b[38;5;241m=\u001b[39m \u001b[38;5;28;43mself\u001b[39;49m\u001b[38;5;241;43m.\u001b[39;49m\u001b[43m_call\u001b[49m\u001b[43m(\u001b[49m\u001b[38;5;241;43m*\u001b[39;49m\u001b[43margs\u001b[49m\u001b[43m,\u001b[49m\u001b[43m \u001b[49m\u001b[38;5;241;43m*\u001b[39;49m\u001b[38;5;241;43m*\u001b[39;49m\u001b[43mkwds\u001b[49m\u001b[43m)\u001b[49m\n\u001b[1;32m    917\u001b[0m new_tracing_count \u001b[38;5;241m=\u001b[39m \u001b[38;5;28mself\u001b[39m\u001b[38;5;241m.\u001b[39mexperimental_get_tracing_count()\n\u001b[1;32m    918\u001b[0m without_tracing \u001b[38;5;241m=\u001b[39m (tracing_count \u001b[38;5;241m==\u001b[39m new_tracing_count)\n",
      "File \u001b[0;32m/srv/conda/envs/saturn/lib/python3.9/site-packages/tensorflow/python/eager/def_function.py:947\u001b[0m, in \u001b[0;36mFunction._call\u001b[0;34m(self, *args, **kwds)\u001b[0m\n\u001b[1;32m    944\u001b[0m   \u001b[38;5;28mself\u001b[39m\u001b[38;5;241m.\u001b[39m_lock\u001b[38;5;241m.\u001b[39mrelease()\n\u001b[1;32m    945\u001b[0m   \u001b[38;5;66;03m# In this case we have created variables on the first call, so we run the\u001b[39;00m\n\u001b[1;32m    946\u001b[0m   \u001b[38;5;66;03m# defunned version which is guaranteed to never create variables.\u001b[39;00m\n\u001b[0;32m--> 947\u001b[0m   \u001b[38;5;28;01mreturn\u001b[39;00m \u001b[38;5;28;43mself\u001b[39;49m\u001b[38;5;241;43m.\u001b[39;49m\u001b[43m_stateless_fn\u001b[49m\u001b[43m(\u001b[49m\u001b[38;5;241;43m*\u001b[39;49m\u001b[43margs\u001b[49m\u001b[43m,\u001b[49m\u001b[43m \u001b[49m\u001b[38;5;241;43m*\u001b[39;49m\u001b[38;5;241;43m*\u001b[39;49m\u001b[43mkwds\u001b[49m\u001b[43m)\u001b[49m  \u001b[38;5;66;03m# pylint: disable=not-callable\u001b[39;00m\n\u001b[1;32m    948\u001b[0m \u001b[38;5;28;01melif\u001b[39;00m \u001b[38;5;28mself\u001b[39m\u001b[38;5;241m.\u001b[39m_stateful_fn \u001b[38;5;129;01mis\u001b[39;00m \u001b[38;5;129;01mnot\u001b[39;00m \u001b[38;5;28;01mNone\u001b[39;00m:\n\u001b[1;32m    949\u001b[0m   \u001b[38;5;66;03m# Release the lock early so that multiple threads can perform the call\u001b[39;00m\n\u001b[1;32m    950\u001b[0m   \u001b[38;5;66;03m# in parallel.\u001b[39;00m\n\u001b[1;32m    951\u001b[0m   \u001b[38;5;28mself\u001b[39m\u001b[38;5;241m.\u001b[39m_lock\u001b[38;5;241m.\u001b[39mrelease()\n",
      "File \u001b[0;32m/srv/conda/envs/saturn/lib/python3.9/site-packages/tensorflow/python/eager/function.py:2496\u001b[0m, in \u001b[0;36mFunction.__call__\u001b[0;34m(self, *args, **kwargs)\u001b[0m\n\u001b[1;32m   2493\u001b[0m \u001b[38;5;28;01mwith\u001b[39;00m \u001b[38;5;28mself\u001b[39m\u001b[38;5;241m.\u001b[39m_lock:\n\u001b[1;32m   2494\u001b[0m   (graph_function,\n\u001b[1;32m   2495\u001b[0m    filtered_flat_args) \u001b[38;5;241m=\u001b[39m \u001b[38;5;28mself\u001b[39m\u001b[38;5;241m.\u001b[39m_maybe_define_function(args, kwargs)\n\u001b[0;32m-> 2496\u001b[0m \u001b[38;5;28;01mreturn\u001b[39;00m \u001b[43mgraph_function\u001b[49m\u001b[38;5;241;43m.\u001b[39;49m\u001b[43m_call_flat\u001b[49m\u001b[43m(\u001b[49m\n\u001b[1;32m   2497\u001b[0m \u001b[43m    \u001b[49m\u001b[43mfiltered_flat_args\u001b[49m\u001b[43m,\u001b[49m\u001b[43m \u001b[49m\u001b[43mcaptured_inputs\u001b[49m\u001b[38;5;241;43m=\u001b[39;49m\u001b[43mgraph_function\u001b[49m\u001b[38;5;241;43m.\u001b[39;49m\u001b[43mcaptured_inputs\u001b[49m\u001b[43m)\u001b[49m\n",
      "File \u001b[0;32m/srv/conda/envs/saturn/lib/python3.9/site-packages/tensorflow/python/eager/function.py:1862\u001b[0m, in \u001b[0;36mConcreteFunction._call_flat\u001b[0;34m(self, args, captured_inputs, cancellation_manager)\u001b[0m\n\u001b[1;32m   1858\u001b[0m possible_gradient_type \u001b[38;5;241m=\u001b[39m gradients_util\u001b[38;5;241m.\u001b[39mPossibleTapeGradientTypes(args)\n\u001b[1;32m   1859\u001b[0m \u001b[38;5;28;01mif\u001b[39;00m (possible_gradient_type \u001b[38;5;241m==\u001b[39m gradients_util\u001b[38;5;241m.\u001b[39mPOSSIBLE_GRADIENT_TYPES_NONE\n\u001b[1;32m   1860\u001b[0m     \u001b[38;5;129;01mand\u001b[39;00m executing_eagerly):\n\u001b[1;32m   1861\u001b[0m   \u001b[38;5;66;03m# No tape is watching; skip to running the function.\u001b[39;00m\n\u001b[0;32m-> 1862\u001b[0m   \u001b[38;5;28;01mreturn\u001b[39;00m \u001b[38;5;28mself\u001b[39m\u001b[38;5;241m.\u001b[39m_build_call_outputs(\u001b[38;5;28;43mself\u001b[39;49m\u001b[38;5;241;43m.\u001b[39;49m\u001b[43m_inference_function\u001b[49m\u001b[38;5;241;43m.\u001b[39;49m\u001b[43mcall\u001b[49m\u001b[43m(\u001b[49m\n\u001b[1;32m   1863\u001b[0m \u001b[43m      \u001b[49m\u001b[43mctx\u001b[49m\u001b[43m,\u001b[49m\u001b[43m \u001b[49m\u001b[43margs\u001b[49m\u001b[43m,\u001b[49m\u001b[43m \u001b[49m\u001b[43mcancellation_manager\u001b[49m\u001b[38;5;241;43m=\u001b[39;49m\u001b[43mcancellation_manager\u001b[49m\u001b[43m)\u001b[49m)\n\u001b[1;32m   1864\u001b[0m forward_backward \u001b[38;5;241m=\u001b[39m \u001b[38;5;28mself\u001b[39m\u001b[38;5;241m.\u001b[39m_select_forward_and_backward_functions(\n\u001b[1;32m   1865\u001b[0m     args,\n\u001b[1;32m   1866\u001b[0m     possible_gradient_type,\n\u001b[1;32m   1867\u001b[0m     executing_eagerly)\n\u001b[1;32m   1868\u001b[0m forward_function, args_with_tangents \u001b[38;5;241m=\u001b[39m forward_backward\u001b[38;5;241m.\u001b[39mforward()\n",
      "File \u001b[0;32m/srv/conda/envs/saturn/lib/python3.9/site-packages/tensorflow/python/eager/function.py:499\u001b[0m, in \u001b[0;36m_EagerDefinedFunction.call\u001b[0;34m(self, ctx, args, cancellation_manager)\u001b[0m\n\u001b[1;32m    497\u001b[0m \u001b[38;5;28;01mwith\u001b[39;00m _InterpolateFunctionError(\u001b[38;5;28mself\u001b[39m):\n\u001b[1;32m    498\u001b[0m   \u001b[38;5;28;01mif\u001b[39;00m cancellation_manager \u001b[38;5;129;01mis\u001b[39;00m \u001b[38;5;28;01mNone\u001b[39;00m:\n\u001b[0;32m--> 499\u001b[0m     outputs \u001b[38;5;241m=\u001b[39m \u001b[43mexecute\u001b[49m\u001b[38;5;241;43m.\u001b[39;49m\u001b[43mexecute\u001b[49m\u001b[43m(\u001b[49m\n\u001b[1;32m    500\u001b[0m \u001b[43m        \u001b[49m\u001b[38;5;28;43mstr\u001b[39;49m\u001b[43m(\u001b[49m\u001b[38;5;28;43mself\u001b[39;49m\u001b[38;5;241;43m.\u001b[39;49m\u001b[43msignature\u001b[49m\u001b[38;5;241;43m.\u001b[39;49m\u001b[43mname\u001b[49m\u001b[43m)\u001b[49m\u001b[43m,\u001b[49m\n\u001b[1;32m    501\u001b[0m \u001b[43m        \u001b[49m\u001b[43mnum_outputs\u001b[49m\u001b[38;5;241;43m=\u001b[39;49m\u001b[38;5;28;43mself\u001b[39;49m\u001b[38;5;241;43m.\u001b[39;49m\u001b[43m_num_outputs\u001b[49m\u001b[43m,\u001b[49m\n\u001b[1;32m    502\u001b[0m \u001b[43m        \u001b[49m\u001b[43minputs\u001b[49m\u001b[38;5;241;43m=\u001b[39;49m\u001b[43margs\u001b[49m\u001b[43m,\u001b[49m\n\u001b[1;32m    503\u001b[0m \u001b[43m        \u001b[49m\u001b[43mattrs\u001b[49m\u001b[38;5;241;43m=\u001b[39;49m\u001b[43mattrs\u001b[49m\u001b[43m,\u001b[49m\n\u001b[1;32m    504\u001b[0m \u001b[43m        \u001b[49m\u001b[43mctx\u001b[49m\u001b[38;5;241;43m=\u001b[39;49m\u001b[43mctx\u001b[49m\u001b[43m)\u001b[49m\n\u001b[1;32m    505\u001b[0m   \u001b[38;5;28;01melse\u001b[39;00m:\n\u001b[1;32m    506\u001b[0m     outputs \u001b[38;5;241m=\u001b[39m execute\u001b[38;5;241m.\u001b[39mexecute_with_cancellation(\n\u001b[1;32m    507\u001b[0m         \u001b[38;5;28mstr\u001b[39m(\u001b[38;5;28mself\u001b[39m\u001b[38;5;241m.\u001b[39msignature\u001b[38;5;241m.\u001b[39mname),\n\u001b[1;32m    508\u001b[0m         num_outputs\u001b[38;5;241m=\u001b[39m\u001b[38;5;28mself\u001b[39m\u001b[38;5;241m.\u001b[39m_num_outputs,\n\u001b[0;32m   (...)\u001b[0m\n\u001b[1;32m    511\u001b[0m         ctx\u001b[38;5;241m=\u001b[39mctx,\n\u001b[1;32m    512\u001b[0m         cancellation_manager\u001b[38;5;241m=\u001b[39mcancellation_manager)\n",
      "File \u001b[0;32m/srv/conda/envs/saturn/lib/python3.9/site-packages/tensorflow/python/eager/execute.py:54\u001b[0m, in \u001b[0;36mquick_execute\u001b[0;34m(op_name, num_outputs, inputs, attrs, ctx, name)\u001b[0m\n\u001b[1;32m     52\u001b[0m \u001b[38;5;28;01mtry\u001b[39;00m:\n\u001b[1;32m     53\u001b[0m   ctx\u001b[38;5;241m.\u001b[39mensure_initialized()\n\u001b[0;32m---> 54\u001b[0m   tensors \u001b[38;5;241m=\u001b[39m \u001b[43mpywrap_tfe\u001b[49m\u001b[38;5;241;43m.\u001b[39;49m\u001b[43mTFE_Py_Execute\u001b[49m\u001b[43m(\u001b[49m\u001b[43mctx\u001b[49m\u001b[38;5;241;43m.\u001b[39;49m\u001b[43m_handle\u001b[49m\u001b[43m,\u001b[49m\u001b[43m \u001b[49m\u001b[43mdevice_name\u001b[49m\u001b[43m,\u001b[49m\u001b[43m \u001b[49m\u001b[43mop_name\u001b[49m\u001b[43m,\u001b[49m\n\u001b[1;32m     55\u001b[0m \u001b[43m                                      \u001b[49m\u001b[43minputs\u001b[49m\u001b[43m,\u001b[49m\u001b[43m \u001b[49m\u001b[43mattrs\u001b[49m\u001b[43m,\u001b[49m\u001b[43m \u001b[49m\u001b[43mnum_outputs\u001b[49m\u001b[43m)\u001b[49m\n\u001b[1;32m     56\u001b[0m \u001b[38;5;28;01mexcept\u001b[39;00m core\u001b[38;5;241m.\u001b[39m_NotOkStatusException \u001b[38;5;28;01mas\u001b[39;00m e:\n\u001b[1;32m     57\u001b[0m   \u001b[38;5;28;01mif\u001b[39;00m name \u001b[38;5;129;01mis\u001b[39;00m \u001b[38;5;129;01mnot\u001b[39;00m \u001b[38;5;28;01mNone\u001b[39;00m:\n",
      "\u001b[0;31mKeyboardInterrupt\u001b[0m: "
     ]
    }
   ],
   "source": [
    "import warnings\n",
    "warnings.filterwarnings(\"ignore\")\n",
    "VERBOSE = 2\n",
    "\n",
    "pred_train = np.zeros_like(Y)\n",
    "\n",
    "N_SPLIT = 3\n",
    "#kf = KFold(n_splits=N_SPLIT, shuffle=True, random_state=42)\n",
    "kf = KFold(n_splits = N_SPLIT)\n",
    "\n",
    "score_list = []\n",
    "\n",
    "for fold,(idx_tr, idx_va) in enumerate(kf.split(X)):\n",
    "    \n",
    "    X_tr = X[idx_tr]\n",
    "    y_tr = Y[idx_tr]\n",
    "    \n",
    "    X_va = X[idx_va]\n",
    "    y_va = Y[idx_va]\n",
    "    \n",
    "    #day = (meta.iloc[idx_va].iloc[0]).day\n",
    "    \n",
    "    #model = my_model(n_inputs=X.shape[1],n_outputs=Y.shape[1],reg1=reg1,reg2=reg2,loss = negative_correlation_loss)\n",
    "    model = create_model()\n",
    "    #weights = meta.iloc[idx_tr].apply(lambda x:after_ratio[x.cell_type],axis=1)    \n",
    "    \n",
    "    lr = ReduceLROnPlateau(\n",
    "                monitor = \"val_loss\",\n",
    "                factor = 0.9, \n",
    "                patience = 4, \n",
    "                verbose = VERBOSE)\n",
    "    \n",
    "    es = EarlyStopping(\n",
    "                monitor = \"val_loss\",\n",
    "                patience = 30, \n",
    "                verbose = VERBOSE,\n",
    "                mode = \"min\", \n",
    "                restore_best_weights = True)\n",
    "\n",
    "    model.compile(\n",
    "            optimizer = tf.keras.optimizers.Adam(learning_rate=1e-2),\n",
    "            metrics = [negative_correlation_loss],\n",
    "            loss = negative_correlation_loss\n",
    "             )\n",
    "\n",
    "    model.fit(X_tr,\n",
    "              y_tr,\n",
    "              validation_data=(X_va,y_va),\n",
    "              epochs =500,\n",
    "              verbose = VERBOSE,\n",
    "              batch_size=256,\n",
    "              callbacks = [es,lr]\n",
    "             )\n",
    "    y_va_pred = model.predict(X_va)\n",
    "    \n",
    "    print(f'\\n --------- FOLD {fold} -----------')\n",
    "    \n",
    "    corrscore = correlation_score(targets[idx_va], y_va_pred@components)\n",
    "    pred_train[idx_va] = y_va_pred\n",
    "    \n",
    "    print(f\"Fold {fold}, correlation =  {corrscore:.5f}\")\n",
    "   \n",
    "    model.save(f\"./submissions/multi_model_{fold}\")\n",
    "\n",
    "    print('model saved')\n",
    "        \n",
    "    del X_tr,X_va,y_tr,y_va\n",
    "    gc.collect()\n",
    "    score_list.append(corrscore)\n",
    "    \n",
    "# Show overall score\n",
    "print(f\"{Fore.GREEN}{Style.BRIGHT}Mean corr = {np.array(score_list).mean():.5f}{Style.RESET_ALL}\")\n",
    "# score_total = correlation_score(Y_true, pca_train.inverse_transform(pred_train))#pred_train@pca_target_comps)\n",
    "# print(f\"{Fore.BLUE}{Style.BRIGHT}Oof corr   = {score_total:.5f}{Style.RESET_ALL}\")"
   ]
  },
  {
   "cell_type": "code",
   "execution_count": 39,
   "id": "22bd664a-d5ef-4baa-980d-31b83799e802",
   "metadata": {
    "execution": {
     "iopub.execute_input": "2022-11-03T18:34:37.272747Z",
     "iopub.status.busy": "2022-11-03T18:34:37.272353Z",
     "iopub.status.idle": "2022-11-03T18:34:40.377572Z",
     "shell.execute_reply": "2022-11-03T18:34:40.376811Z",
     "shell.execute_reply.started": "2022-11-03T18:34:37.272723Z"
    },
    "tags": []
   },
   "outputs": [
    {
     "data": {
      "text/plain": [
       "0.6363475576952972"
      ]
     },
     "execution_count": 39,
     "metadata": {},
     "output_type": "execute_result"
    }
   ],
   "source": [
    "correlation_score(targets[:int(len(targets)/10)], pca_train.inverse_transform(pred_train))#pred_train@pca_target_comps)"
   ]
  },
  {
   "cell_type": "code",
   "execution_count": 31,
   "id": "67f58944-0f2c-4d04-84a2-434240541a07",
   "metadata": {
    "execution": {
     "iopub.execute_input": "2022-11-03T18:16:22.565826Z",
     "iopub.status.busy": "2022-11-03T18:16:22.565417Z",
     "iopub.status.idle": "2022-11-03T18:16:22.847416Z",
     "shell.execute_reply": "2022-11-03T18:16:22.846729Z",
     "shell.execute_reply.started": "2022-11-03T18:16:22.565804Z"
    }
   },
   "outputs": [
    {
     "data": {
      "text/plain": [
       "(10594, 22858)"
      ]
     },
     "execution_count": 31,
     "metadata": {},
     "output_type": "execute_result"
    }
   ],
   "source": [
    "pca_train.inverse_transform(pred_train).shape"
   ]
  },
  {
   "cell_type": "code",
   "execution_count": 32,
   "id": "a0e2e2a8-6925-439c-918c-ce379c2de683",
   "metadata": {
    "execution": {
     "iopub.execute_input": "2022-11-03T18:16:28.870130Z",
     "iopub.status.busy": "2022-11-03T18:16:28.869718Z",
     "iopub.status.idle": "2022-11-03T18:16:28.874381Z",
     "shell.execute_reply": "2022-11-03T18:16:28.873830Z",
     "shell.execute_reply.started": "2022-11-03T18:16:28.870107Z"
    }
   },
   "outputs": [
    {
     "data": {
      "text/plain": [
       "(105942, 22858)"
      ]
     },
     "execution_count": 32,
     "metadata": {},
     "output_type": "execute_result"
    }
   ],
   "source": [
    "targets.shape"
   ]
  },
  {
   "cell_type": "code",
   "execution_count": 33,
   "id": "acf3b98c-9fbc-4366-a340-4c399f0e784c",
   "metadata": {
    "execution": {
     "iopub.execute_input": "2022-11-03T18:17:09.127819Z",
     "iopub.status.busy": "2022-11-03T18:17:09.127377Z",
     "iopub.status.idle": "2022-11-03T18:17:12.250656Z",
     "shell.execute_reply": "2022-11-03T18:17:12.249995Z",
     "shell.execute_reply.started": "2022-11-03T18:17:09.127795Z"
    },
    "tags": []
   },
   "outputs": [
    {
     "data": {
      "text/plain": [
       "0.6179052437901781"
      ]
     },
     "execution_count": 33,
     "metadata": {},
     "output_type": "execute_result"
    }
   ],
   "source": [
    "correlation_score(targets[:int(len(targets)/10)], pca_train.inverse_transform(pred_train))#pred_train@pca_target_comps)"
   ]
  },
  {
   "cell_type": "code",
   "execution_count": null,
   "id": "46566ed9-cfea-422c-9cbf-4d944bfd994b",
   "metadata": {},
   "outputs": [],
   "source": [
    "print(f\"{Fore.BLUE}{Style.BRIGHT}Oof corr   = {score_total:.5f}{Style.RESET_ALL}\")"
   ]
  },
  {
   "cell_type": "code",
   "execution_count": 23,
   "id": "82f83e9c-452f-4d65-a783-3929c1a91799",
   "metadata": {
    "execution": {
     "iopub.execute_input": "2022-11-03T17:55:45.196548Z",
     "iopub.status.busy": "2022-11-03T17:55:45.196176Z",
     "iopub.status.idle": "2022-11-03T17:55:46.398629Z",
     "shell.execute_reply": "2022-11-03T17:55:46.398009Z",
     "shell.execute_reply.started": "2022-11-03T17:55:45.196526Z"
    },
    "tags": []
   },
   "outputs": [
    {
     "data": {
      "text/plain": [
       "0.5752172123203347"
      ]
     },
     "execution_count": 23,
     "metadata": {},
     "output_type": "execute_result"
    }
   ],
   "source": [
    "correlation_score(targets[idx_va], pca_train.inverse_transform(y_va_pred))"
   ]
  },
  {
   "cell_type": "code",
   "execution_count": 14,
   "id": "902595b0-b200-4f50-bd6c-60a8e0d72b78",
   "metadata": {
    "execution": {
     "iopub.execute_input": "2022-11-03T17:46:26.197774Z",
     "iopub.status.busy": "2022-11-03T17:46:26.197396Z",
     "iopub.status.idle": "2022-11-03T17:46:26.201836Z",
     "shell.execute_reply": "2022-11-03T17:46:26.201324Z",
     "shell.execute_reply.started": "2022-11-03T17:46:26.197753Z"
    }
   },
   "outputs": [
    {
     "data": {
      "text/plain": [
       "(1059, 22858)"
      ]
     },
     "execution_count": 14,
     "metadata": {},
     "output_type": "execute_result"
    }
   ],
   "source": [
    "Y_true.shape"
   ]
  },
  {
   "cell_type": "code",
   "execution_count": 185,
   "id": "2b064d21-db1b-43b1-82fb-6da9aa08a826",
   "metadata": {
    "execution": {
     "iopub.execute_input": "2022-11-04T00:36:56.523532Z",
     "iopub.status.busy": "2022-11-04T00:36:56.522103Z",
     "iopub.status.idle": "2022-11-04T00:36:56.544180Z",
     "shell.execute_reply": "2022-11-04T00:36:56.543353Z",
     "shell.execute_reply.started": "2022-11-04T00:36:56.523487Z"
    }
   },
   "outputs": [],
   "source": [
    "LR_START = 0.01\n",
    "BATCH_SIZE = 512\n",
    "\n",
    "def create_model():\n",
    "    \n",
    "    reg1 = 9.613e-06\n",
    "    reg2 = 1e-07\n",
    "    REG1 = tf.keras.regularizers.l2(reg1)\n",
    "    REG2 = tf.keras.regularizers.l2(reg2)\n",
    "    DROP = 0.1\n",
    "\n",
    "    activation = 'selu'\n",
    "    inputs = Input(shape =(X.shape[1],))\n",
    "\n",
    "    x0 = Dense(256, \n",
    "              kernel_regularizer = REG1,\n",
    "              activation = activation,\n",
    "             )(inputs)\n",
    "    x0 = Dropout(DROP)(x0)\n",
    "    \n",
    "    \n",
    "    x1 = Dense(512, \n",
    "               kernel_regularizer = REG1,\n",
    "               activation = activation,\n",
    "             )(x0)\n",
    "    x1 = Dropout(DROP)(x1)\n",
    "    \n",
    "    \n",
    "    x2 = Dense(512, \n",
    "               kernel_regularizer = REG1,\n",
    "               activation = activation,\n",
    "             )(x1) \n",
    "    x2= Dropout(DROP)(x2)\n",
    "    \n",
    "    x3 = Dense(Y.shape[1],\n",
    "               kernel_regularizer = REG1,\n",
    "               activation = activation,\n",
    "             )(x2)\n",
    "    x3 = Dropout(DROP)(x3)\n",
    "\n",
    "         \n",
    "    x = Concatenate()([\n",
    "                x0, \n",
    "                x1, \n",
    "                x2, \n",
    "                x3\n",
    "                ])\n",
    "    \n",
    "    x = Dense(Y.shape[1], \n",
    "                kernel_regularizer = REG2,\n",
    "                activation='linear',\n",
    "                )(x)\n",
    "    \n",
    "    \n",
    "    model = Model(inputs, x)\n",
    "    \n",
    "\n",
    "    return model"
   ]
  },
  {
   "cell_type": "code",
   "execution_count": 186,
   "id": "bda08ae3-ac8e-42cf-a34c-c60cea65f96a",
   "metadata": {
    "execution": {
     "iopub.execute_input": "2022-11-04T00:38:54.532022Z",
     "iopub.status.busy": "2022-11-04T00:38:54.531475Z",
     "iopub.status.idle": "2022-11-04T00:39:01.393233Z",
     "shell.execute_reply": "2022-11-04T00:39:01.391746Z",
     "shell.execute_reply.started": "2022-11-04T00:38:54.531977Z"
    }
   },
   "outputs": [],
   "source": [
    "X = X_pca[:,:40]\n",
    "svd = TruncatedSVD(n_components = 512,random_state = 1)\n",
    "Y = svd.fit_transform(targets)"
   ]
  },
  {
   "cell_type": "code",
   "execution_count": 189,
   "id": "d93fa9f7-ad66-4ed4-a85b-d7c96a9ea8da",
   "metadata": {
    "execution": {
     "iopub.execute_input": "2022-11-04T00:40:14.361243Z",
     "iopub.status.busy": "2022-11-04T00:40:14.360829Z",
     "iopub.status.idle": "2022-11-04T00:40:14.364798Z",
     "shell.execute_reply": "2022-11-04T00:40:14.364057Z",
     "shell.execute_reply.started": "2022-11-04T00:40:14.361218Z"
    }
   },
   "outputs": [],
   "source": [
    "Y = Y[:10592]"
   ]
  },
  {
   "cell_type": "code",
   "execution_count": 192,
   "id": "d3fa45dc-8b28-4309-b087-3161f8fff846",
   "metadata": {
    "execution": {
     "iopub.execute_input": "2022-11-04T00:40:46.139406Z",
     "iopub.status.busy": "2022-11-04T00:40:46.139001Z",
     "iopub.status.idle": "2022-11-04T00:40:46.143082Z",
     "shell.execute_reply": "2022-11-04T00:40:46.142354Z",
     "shell.execute_reply.started": "2022-11-04T00:40:46.139381Z"
    },
    "tags": []
   },
   "outputs": [],
   "source": [
    "meta = meta[:10592]"
   ]
  },
  {
   "cell_type": "code",
   "execution_count": 198,
   "id": "35f2591d-4dd3-4e81-8b37-35710d16eb85",
   "metadata": {
    "execution": {
     "iopub.execute_input": "2022-11-04T00:49:50.352909Z",
     "iopub.status.busy": "2022-11-04T00:49:50.352503Z",
     "iopub.status.idle": "2022-11-04T00:51:07.492068Z",
     "shell.execute_reply": "2022-11-04T00:51:07.491419Z",
     "shell.execute_reply.started": "2022-11-04T00:49:50.352884Z"
    }
   },
   "outputs": [],
   "source": [
    "targets = scipy.sparse.load_npz(\"../sparse/train_multi_targets_values.sparse.npz\")\n",
    "targets = targets\n",
    "targets = scprep.filter.remove_empty_genes(targets)\n",
    "# Normalize the targets row-wise: This doesn't change the correlations,\n",
    "# and negative_correlation_loss depends on it\n",
    "targets -= targets.mean(axis=1).reshape(-1, 1)\n",
    "targets /= targets.std(axis=1).reshape(-1, 1)\n",
    "svd = TruncatedSVD(n_components = 512,random_state = 1)\n",
    "Y = svd.fit_transform(targets)\n",
    "inputs_both_128 = np.load(\"../multi_pca/inputs_both_128.npy\")\n",
    "multi_X_train = inputs_both_128[:len(targets),:40]"
   ]
  },
  {
   "cell_type": "code",
   "execution_count": 199,
   "id": "e410134c-65b2-41d7-be7e-1968cb728361",
   "metadata": {
    "execution": {
     "iopub.execute_input": "2022-11-04T00:51:46.959211Z",
     "iopub.status.busy": "2022-11-04T00:51:46.958824Z",
     "iopub.status.idle": "2022-11-04T00:51:46.962273Z",
     "shell.execute_reply": "2022-11-04T00:51:46.961710Z",
     "shell.execute_reply.started": "2022-11-04T00:51:46.959189Z"
    }
   },
   "outputs": [],
   "source": [
    "X = multi_X_train"
   ]
  },
  {
   "cell_type": "code",
   "execution_count": 212,
   "id": "22711885-d60f-435d-a1b2-09ccc3ecb72b",
   "metadata": {
    "execution": {
     "iopub.execute_input": "2022-11-04T01:09:29.040370Z",
     "iopub.status.busy": "2022-11-04T01:09:29.039945Z",
     "iopub.status.idle": "2022-11-04T01:09:29.044444Z",
     "shell.execute_reply": "2022-11-04T01:09:29.043503Z",
     "shell.execute_reply.started": "2022-11-04T01:09:29.040344Z"
    }
   },
   "outputs": [],
   "source": [
    "X = X[:int(len(X)/10)]\n",
    "Y = Y[:int(len(Y)/10)]"
   ]
  },
  {
   "cell_type": "code",
   "execution_count": 213,
   "id": "955247a3-474b-4888-8d16-3ef6b6309c91",
   "metadata": {
    "execution": {
     "iopub.execute_input": "2022-11-04T01:09:37.655059Z",
     "iopub.status.busy": "2022-11-04T01:09:37.654037Z",
     "iopub.status.idle": "2022-11-04T01:15:35.261842Z",
     "shell.execute_reply": "2022-11-04T01:15:35.260191Z",
     "shell.execute_reply.started": "2022-11-04T01:09:37.655006Z"
    },
    "tags": []
   },
   "outputs": [
    {
     "name": "stdout",
     "output_type": "stream",
     "text": [
      "111/111 [==============================] - 1s 6ms/step\n",
      "\n",
      " --------- FOLD 0 -----------\n",
      "Mean squared error = 2.130000114440918\n",
      "Correlation = 0.69\n",
      "model saved : model_0\n",
      "111/111 [==============================] - 1s 6ms/step\n",
      "\n",
      " --------- FOLD 1 -----------\n",
      "Mean squared error = 2.1600000858306885\n",
      "Correlation = 0.69\n",
      "model saved : model_1\n",
      "111/111 [==============================] - 1s 5ms/step\n",
      "\n",
      " --------- FOLD 2 -----------\n",
      "Mean squared error = 3.140000104904175\n",
      "Correlation = 0.66\n",
      "model saved : model_2\n"
     ]
    }
   ],
   "source": [
    "import warnings\n",
    "warnings.filterwarnings(\"ignore\")\n",
    "\n",
    "VERBOSE = 0\n",
    "N_SPLIT = 3\n",
    "#kf = KFold(n_splits=N_SPLIT, shuffle=True, random_state=42)\n",
    "kf = KFold(n_splits = 3)\n",
    "\n",
    "for fold,(idx_tr, idx_va) in enumerate(kf.split(X)):\n",
    "    \n",
    "    X_tr = X[idx_tr]\n",
    "    y_tr = Y[idx_tr]\n",
    "    \n",
    "    X_va = X[idx_va]\n",
    "    y_va = Y[idx_va] \n",
    "    \n",
    "    model = create_model()\n",
    "    \n",
    "    lr = ReduceLROnPlateau(\n",
    "                monitor = \"val_loss\",\n",
    "                factor = 0.9, \n",
    "                patience = 4, \n",
    "                verbose = VERBOSE)\n",
    "    \n",
    "    es = EarlyStopping(\n",
    "                monitor = \"val_loss\",\n",
    "                patience = 30, \n",
    "                verbose = VERBOSE,\n",
    "                mode = \"min\", \n",
    "                restore_best_weights = True)\n",
    "\n",
    "    model.compile(optimizer=tf.keras.optimizers.Adam(learning_rate=1e-3),\n",
    "                  loss = 'mse',\n",
    "                  metrics=None)\n",
    "    model.fit(X_tr,\n",
    "              y_tr,\n",
    "              validation_data=(X_va,y_va),\n",
    "              epochs =500,\n",
    "              verbose = VERBOSE,\n",
    "              batch_size=256,\n",
    "              callbacks = [es,lr]\n",
    "             )\n",
    "    pred = model.predict(X_va)\n",
    "    \n",
    "    print(f'\\n --------- FOLD {fold} -----------')\n",
    "    print(f'Mean squared error = {np.round(mean_squared_error(y_va,pred),2)}')\n",
    "    print(f'Correlation = {np.round(correlation_score(targets[idx_va], pred@svd.components_),2)}')\n",
    "\n",
    "    filename = f\"model_{fold}\"\n",
    "    model.save(filename)\n",
    "    print('model saved :',filename)\n",
    "        \n",
    "    del X_tr,X_va,y_tr,y_va\n",
    "    gc.collect()"
   ]
  },
  {
   "cell_type": "code",
   "execution_count": 216,
   "id": "a04f3c8d-18bd-4dac-92e2-7b3b50cdfbd7",
   "metadata": {
    "execution": {
     "iopub.execute_input": "2022-11-04T01:32:50.472302Z",
     "iopub.status.busy": "2022-11-04T01:32:50.471862Z",
     "iopub.status.idle": "2022-11-04T01:37:27.654149Z",
     "shell.execute_reply": "2022-11-04T01:37:27.653065Z",
     "shell.execute_reply.started": "2022-11-04T01:32:50.472277Z"
    },
    "tags": []
   },
   "outputs": [
    {
     "name": "stdout",
     "output_type": "stream",
     "text": [
      "111/111 [==============================] - 1s 6ms/step\n",
      "\n",
      " --------- FOLD 0 -----------\n",
      "Mean squared error = 26272.58984375\n",
      "Correlation = 0.41\n",
      "model saved : model_0\n",
      "111/111 [==============================] - 1s 5ms/step\n",
      "\n",
      " --------- FOLD 1 -----------\n",
      "Mean squared error = 30454.01953125\n",
      "Correlation = 0.41\n",
      "model saved : model_1\n",
      "111/111 [==============================] - 1s 4ms/step\n",
      "\n",
      " --------- FOLD 2 -----------\n",
      "Mean squared error = 33246.2109375\n",
      "Correlation = 0.37\n",
      "model saved : model_2\n"
     ]
    }
   ],
   "source": [
    "import warnings\n",
    "warnings.filterwarnings(\"ignore\")\n",
    "\n",
    "VERBOSE = 0\n",
    "N_SPLIT = 3\n",
    "#kf = KFold(n_splits=N_SPLIT, shuffle=True, random_state=42)\n",
    "kf = KFold(n_splits = 3)\n",
    "\n",
    "for fold,(idx_tr, idx_va) in enumerate(kf.split(X)):\n",
    "    \n",
    "    X_tr = X[idx_tr]\n",
    "    y_tr = Y[idx_tr]\n",
    "    \n",
    "    X_va = X[idx_va]\n",
    "    y_va = Y[idx_va] \n",
    "    \n",
    "    model = create_model()\n",
    "    \n",
    "    lr = ReduceLROnPlateau(\n",
    "                monitor = \"val_loss\",\n",
    "                factor = 0.9, \n",
    "                patience = 4, \n",
    "                verbose = VERBOSE)\n",
    "    \n",
    "    es = EarlyStopping(\n",
    "                monitor = \"val_loss\",\n",
    "                patience = 30, \n",
    "                verbose = VERBOSE,\n",
    "                mode = \"min\", \n",
    "                restore_best_weights = True)\n",
    "\n",
    "    model.compile(optimizer=tf.keras.optimizers.Adam(learning_rate=1e-2),\n",
    "                  loss = negative_correlation_loss,\n",
    "                  metrics=negative_correlation_loss)\n",
    "    model.fit(X_tr,\n",
    "              y_tr,\n",
    "              validation_data=(X_va,y_va),\n",
    "              epochs =500,\n",
    "              verbose = VERBOSE,\n",
    "              batch_size=256,\n",
    "              callbacks = [es,lr]\n",
    "             )\n",
    "    pred = model.predict(X_va)\n",
    "    \n",
    "    print(f'\\n --------- FOLD {fold} -----------')\n",
    "    print(f'Mean squared error = {np.round(mean_squared_error(y_va,pred),2)}')\n",
    "    print(f'Correlation = {np.round(correlation_score(targets[idx_va], pred@svd.components_),2)}')\n",
    "\n",
    "    filename = f\"model_{fold}\"\n",
    "    model.save(filename)\n",
    "    print('model saved :',filename)\n",
    "        \n",
    "    del X_tr,X_va,y_tr,y_va\n",
    "    gc.collect()"
   ]
  },
  {
   "cell_type": "code",
   "execution_count": null,
   "id": "2803f82e-d8f5-4f27-a7e2-61dd5bd596fd",
   "metadata": {},
   "outputs": [],
   "source": []
  }
 ],
 "metadata": {
  "kernelspec": {
   "display_name": "saturn (Python 3)",
   "language": "python",
   "name": "python3"
  },
  "language_info": {
   "codemirror_mode": {
    "name": "ipython",
    "version": 3
   },
   "file_extension": ".py",
   "mimetype": "text/x-python",
   "name": "python",
   "nbconvert_exporter": "python",
   "pygments_lexer": "ipython3",
   "version": "3.9.13"
  }
 },
 "nbformat": 4,
 "nbformat_minor": 5
}
