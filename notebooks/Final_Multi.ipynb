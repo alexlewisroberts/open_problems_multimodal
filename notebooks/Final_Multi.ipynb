{
 "cells": [
  {
   "cell_type": "code",
   "execution_count": 1,
   "id": "50531846-c30e-45c5-bc7f-6b1f2b6be563",
   "metadata": {
    "execution": {
     "iopub.execute_input": "2022-11-16T20:32:43.729778Z",
     "iopub.status.busy": "2022-11-16T20:32:43.729356Z",
     "iopub.status.idle": "2022-11-16T20:33:32.652076Z",
     "shell.execute_reply": "2022-11-16T20:33:32.651374Z",
     "shell.execute_reply.started": "2022-11-16T20:32:43.729707Z"
    },
    "tags": []
   },
   "outputs": [
    {
     "name": "stderr",
     "output_type": "stream",
     "text": [
      "2022-11-16 20:33:31.080973: I tensorflow/core/platform/cpu_feature_guard.cc:193] This TensorFlow binary is optimized with oneAPI Deep Neural Network Library (oneDNN) to use the following CPU instructions in performance-critical operations:  AVX2 AVX512F AVX512_VNNI FMA\n",
      "To enable them in other operations, rebuild TensorFlow with the appropriate compiler flags.\n",
      "2022-11-16 20:33:31.214625: I tensorflow/core/util/util.cc:169] oneDNN custom operations are on. You may see slightly different numerical results due to floating-point round-off errors from different computation orders. To turn them off, set the environment variable `TF_ENABLE_ONEDNN_OPTS=0`.\n",
      "2022-11-16 20:33:31.256659: E tensorflow/stream_executor/cuda/cuda_blas.cc:2981] Unable to register cuBLAS factory: Attempting to register factory for plugin cuBLAS when one has already been registered\n",
      "2022-11-16 20:33:31.871250: W tensorflow/stream_executor/platform/default/dso_loader.cc:64] Could not load dynamic library 'libnvinfer.so.7'; dlerror: libnvinfer.so.7: cannot open shared object file: No such file or directory; LD_LIBRARY_PATH: /usr/local/nvidia/lib:/usr/local/nvidia/lib64\n",
      "2022-11-16 20:33:31.871361: W tensorflow/stream_executor/platform/default/dso_loader.cc:64] Could not load dynamic library 'libnvinfer_plugin.so.7'; dlerror: libnvinfer_plugin.so.7: cannot open shared object file: No such file or directory; LD_LIBRARY_PATH: /usr/local/nvidia/lib:/usr/local/nvidia/lib64\n",
      "2022-11-16 20:33:31.871371: W tensorflow/compiler/tf2tensorrt/utils/py_utils.cc:38] TF-TRT Warning: Cannot dlopen some TensorRT libraries. If you would like to use Nvidia GPU with TensorRT, please make sure the missing libraries mentioned above are installed properly.\n"
     ]
    }
   ],
   "source": [
    "%%capture\n",
    "!pip install tables\n",
    "!pip install --upgrade --force-reinstall tensorflow\n",
    "!pip install keras-tuner\n",
    "import os, gc, pickle, datetime, scipy.sparse\n",
    "import pandas as pd\n",
    "import matplotlib.pyplot as plt\n",
    "import numpy as np\n",
    "from colorama import Fore, Back, Style\n",
    "\n",
    "from sklearn.model_selection import GroupKFold, KFold\n",
    "from sklearn.preprocessing import StandardScaler\n",
    "from sklearn.decomposition import TruncatedSVD,PCA\n",
    "from sklearn.metrics import mean_squared_error\n",
    "\n",
    "import matplotlib.pyplot as plt\n",
    "from matplotlib.ticker import MaxNLocator\n",
    "import seaborn as sns\n",
    "from cycler import cycler\n",
    "from IPython.display import display\n",
    "\n",
    "import scipy.sparse\n",
    "import scprep\n",
    "\n",
    "def correlation_score(y_true, y_pred):\n",
    "    if type(y_true) == pd.DataFrame: y_true = y_true.values\n",
    "    if type(y_pred) == pd.DataFrame: y_pred = y_pred.values\n",
    "    corrsum = 0\n",
    "    for i in range(y_true.shape[0]):\n",
    "        corrsum += np.corrcoef(y_true[i], y_pred[i])[1, 0]\n",
    "    return corrsum / len(y_true)\n",
    "\n",
    "def negative_correlation_loss(y_true, y_pred):\n",
    "    my = K.mean(tf.convert_to_tensor(y_pred), axis=1)\n",
    "    my = tf.tile(tf.expand_dims(my, axis=1), (1, tf.shape(y_true)[1]))\n",
    "    ym = y_pred - my\n",
    "    r_num = K.sum(tf.multiply(y_true, ym), axis=1)\n",
    "    r_den = tf.sqrt(K.sum(K.square(ym), axis=1) * float(tf.shape(y_true)[-1]))\n",
    "    r = tf.reduce_mean(r_num / r_den)\n",
    "    return - r\n",
    "\n",
    "from sklearn.model_selection import train_test_split\n",
    "import scprep\n",
    "\n",
    "import math\n",
    "import tensorflow as tf\n",
    "import keras_tuner\n",
    "import tensorflow.keras.backend as K\n",
    "from tensorflow.keras.models import Model, load_model\n",
    "from tensorflow.keras.callbacks import ReduceLROnPlateau, LearningRateScheduler, EarlyStopping\n",
    "from tensorflow.keras.layers import Dense, Input, Concatenate, Dropout, BatchNormalization"
   ]
  },
  {
   "cell_type": "code",
   "execution_count": 2,
   "id": "74fe2112-2cc7-4480-bc87-8ac444d495d3",
   "metadata": {
    "execution": {
     "iopub.execute_input": "2022-11-16T20:33:32.653841Z",
     "iopub.status.busy": "2022-11-16T20:33:32.653376Z",
     "iopub.status.idle": "2022-11-16T20:33:32.666205Z",
     "shell.execute_reply": "2022-11-16T20:33:32.665579Z",
     "shell.execute_reply.started": "2022-11-16T20:33:32.653818Z"
    },
    "tags": []
   },
   "outputs": [],
   "source": [
    "def evaluate(i,kind,save,j=0,loss=None):\n",
    "    if (loss == None)&(kind=='multi'):\n",
    "        loss = 'mse'\n",
    "    elif (loss == None)&(kind=='cite'):\n",
    "        loss = negative_correlation_loss\n",
    "    assert(loss in ('mse',negative_correlation_loss))\n",
    "    assert(kind in ('multi','cite'))\n",
    "    VERBOSE = 0\n",
    "    if kind == 'cite':\n",
    "        N_SPLIT = 6\n",
    "    else:\n",
    "        N_SPLIT = 3\n",
    "    #kf = KFold(n_splits=N_SPLIT, shuffle=True, random_state=42)\n",
    "    kf = KFold(n_splits = N_SPLIT)\n",
    "\n",
    "    scores = []\n",
    "    pca_scores = []\n",
    "    Y_pred = np.zeros_like(Y)\n",
    "    models = []\n",
    "\n",
    "    for fold,(idx_tr, idx_va) in enumerate(kf.split(X)):\n",
    "\n",
    "        X_tr = X[idx_tr]\n",
    "        y_tr = Y[idx_tr]\n",
    "\n",
    "        X_va = X[idx_va]\n",
    "        y_va = Y[idx_va] \n",
    "\n",
    "        model = create_model(X.shape[1],Y.shape[1])\n",
    "\n",
    "        lr = ReduceLROnPlateau(\n",
    "                    monitor = \"val_loss\",\n",
    "                    factor = 0.9, \n",
    "                    patience = 4, \n",
    "                    verbose = VERBOSE)\n",
    "\n",
    "        es = EarlyStopping(\n",
    "                    monitor = \"val_loss\",\n",
    "                    patience = 30, \n",
    "                    verbose = VERBOSE,\n",
    "                    mode = \"min\", \n",
    "                    restore_best_weights = True)\n",
    "\n",
    "        if kind == 'cite':\n",
    "            chk = tf.keras.callbacks.ModelCheckpoint(\n",
    "                    filepath = './cite',\n",
    "                    save_weights_only = True,\n",
    "                    monitor = 'val_loss',\n",
    "                    mode = 'min',\n",
    "                    save_best_only = True)\n",
    "        else:\n",
    "            chk = tf.keras.callbacks.ModelCheckpoint(\n",
    "                    filepath = './multi',\n",
    "                    save_weights_only = True,\n",
    "                    monitor = 'val_loss',\n",
    "                    mode = 'min',\n",
    "                    save_best_only = True)\n",
    "\n",
    "        model.compile(optimizer=tf.keras.optimizers.Adam(learning_rate=1e-3),\n",
    "                      loss = loss,\n",
    "                      metrics = loss)\n",
    "            \n",
    "        model.fit(X_tr,\n",
    "                  y_tr,\n",
    "                  validation_data=(X_va,y_va),\n",
    "                  epochs =500,\n",
    "                  verbose = VERBOSE,\n",
    "                  batch_size=256,\n",
    "                  callbacks = [es,lr,chk]\n",
    "                 )\n",
    "        y_va_pred = model.predict(X_va)\n",
    "        Y_pred[idx_va] = y_va_pred\n",
    "        if kind == 'cite':\n",
    "            corrscore = correlation_score(y_va, y_va_pred)\n",
    "            scores.append(corrscore)\n",
    "        else:\n",
    "            corrscore = correlation_score(targets[idx_va], y_va_pred@svd.components_[:64])\n",
    "            scores.append(corrscore)\n",
    "            pca_corrscore = correlation_score(y_va[:,:64], y_va_pred[:,:64])\n",
    "            pca_scores.append(pca_corrscore)\n",
    "\n",
    "        if kind == 'cite':    \n",
    "            model.fit(X_va,\n",
    "                  y_va,\n",
    "                  epochs=20,\n",
    "                  verbose = VERBOSE,\n",
    "                  batch_size=256\n",
    "                 )    \n",
    "            \n",
    "        models.append(model)\n",
    "        \n",
    "        print(f'\\n --------- FOLD {fold} -----------')\n",
    "        print(f'Mean squared error = {np.round(mean_squared_error(y_va,y_va_pred),2)}')\n",
    "        print(f'Correlation = {corrscore:.5f}')\n",
    "        if kind == 'multi':\n",
    "            print(f'PCA Correlation = {pca_corrscore:.5f}')\n",
    "        if kind == 'cite':\n",
    "            filename = f\"./cite_model_saves/model_{i}_{j}_{fold}\"\n",
    "        else:\n",
    "            filename = f\"./multi_model_saves/model_{i}_{j}_{fold}\"\n",
    "        if save:\n",
    "            model.save(filename)\n",
    "            print('model saved :',filename)\n",
    "\n",
    "        del X_tr,X_va,y_tr,y_va\n",
    "        gc.collect()\n",
    "\n",
    "    # Show overall score\n",
    "    print(f\"{Fore.GREEN}{Style.BRIGHT}Mean corr = {np.array(scores).mean():.5f}{Style.RESET_ALL}\")\n",
    "    if not loss:\n",
    "        print(f\"{Fore.RED}{Style.BRIGHT}Mean pca corr = {np.array(pca_scores).mean():.5f}{Style.RESET_ALL}\")\n",
    "    return models"
   ]
  },
  {
   "cell_type": "code",
   "execution_count": 3,
   "id": "9a3f9fea-dab2-4ecf-bdb5-75a66d0c7be3",
   "metadata": {
    "execution": {
     "iopub.execute_input": "2022-11-16T20:33:32.667585Z",
     "iopub.status.busy": "2022-11-16T20:33:32.667208Z",
     "iopub.status.idle": "2022-11-16T20:33:32.674708Z",
     "shell.execute_reply": "2022-11-16T20:33:32.673974Z",
     "shell.execute_reply.started": "2022-11-16T20:33:32.667553Z"
    },
    "tags": []
   },
   "outputs": [],
   "source": [
    "LR_START = 0.01\n",
    "BATCH_SIZE = 512\n",
    "\n",
    "def create_model(input_shape, output_shape):\n",
    "    \n",
    "    reg1 = 9.613e-06\n",
    "    reg2 = 1e-07\n",
    "    REG1 = tf.keras.regularizers.l2(reg1)\n",
    "    REG2 = tf.keras.regularizers.l2(reg2)\n",
    "    DROP = 0.1\n",
    "\n",
    "    activation = 'selu'\n",
    "    inputs = Input(shape =(input_shape,))\n",
    "\n",
    "    x0 = Dense(256, \n",
    "              kernel_regularizer = REG1,\n",
    "              activation = activation,\n",
    "             )(inputs)\n",
    "    x0 = Dropout(DROP)(x0)\n",
    "    \n",
    "    \n",
    "    x1 = Dense(512, \n",
    "               kernel_regularizer = REG1,\n",
    "               activation = activation,\n",
    "             )(x0)\n",
    "    x1 = Dropout(DROP)(x1)\n",
    "    \n",
    "    \n",
    "    x2 = Dense(512, \n",
    "               kernel_regularizer = REG1,\n",
    "               activation = activation,\n",
    "             )(x1) \n",
    "    x2= Dropout(DROP)(x2)\n",
    "    \n",
    "    x3 = Dense(output_shape,\n",
    "               kernel_regularizer = REG1,\n",
    "               activation = activation,\n",
    "             )(x2)\n",
    "    x3 = Dropout(DROP)(x3)\n",
    "\n",
    "         \n",
    "    x = Concatenate()([\n",
    "                x0, \n",
    "                x1, \n",
    "                x2, \n",
    "                x3\n",
    "                ])\n",
    "    \n",
    "    x = Dense(output_shape, \n",
    "                kernel_regularizer = REG2,\n",
    "                activation='linear',\n",
    "                )(x)\n",
    "    \n",
    "    \n",
    "    model = Model(inputs, x)\n",
    "    \n",
    "\n",
    "    return model"
   ]
  },
  {
   "cell_type": "code",
   "execution_count": 8,
   "id": "dbe61fb0-6c7c-4d9f-8c75-33e3a5f9598f",
   "metadata": {
    "execution": {
     "iopub.execute_input": "2022-11-15T23:09:22.265593Z",
     "iopub.status.busy": "2022-11-15T23:09:22.265350Z",
     "iopub.status.idle": "2022-11-15T23:09:22.657632Z",
     "shell.execute_reply": "2022-11-15T23:09:22.656896Z",
     "shell.execute_reply.started": "2022-11-15T23:09:22.265574Z"
    },
    "tags": []
   },
   "outputs": [],
   "source": [
    "import warnings\n",
    "warnings.filterwarnings(\"ignore\")\n",
    "\n",
    "with np.load('./sparse/train_multi_inputs_idxcol.npz',allow_pickle=True) as data:\n",
    "    cell_index = data['index']\n",
    "with np.load('./sparse/test_multi_inputs_idxcol.npz',allow_pickle=True) as data:\n",
    "    cell_index_t = data['index']\n",
    "metadata_df = pd.read_csv('../input/open-problems-multimodal/metadata.csv', index_col='cell_id')\n",
    "metadata_df = metadata_df[metadata_df.technology==\"multiome\"]\n",
    "meta = metadata_df.reindex(cell_index)\n",
    "meta['range'] = range(len(meta))\n",
    "selector = {}\n",
    "for i in (2,3,4,7):\n",
    "    selector[i] = meta.loc[(meta.day == i)].range.values"
   ]
  },
  {
   "cell_type": "code",
   "execution_count": 9,
   "id": "bf8de164-d977-4212-b91c-297a356fc595",
   "metadata": {
    "execution": {
     "iopub.execute_input": "2022-11-10T20:39:38.773440Z",
     "iopub.status.busy": "2022-11-10T20:39:38.772827Z",
     "iopub.status.idle": "2022-11-10T21:02:44.747934Z",
     "shell.execute_reply": "2022-11-10T21:02:44.747274Z",
     "shell.execute_reply.started": "2022-11-10T20:39:38.773391Z"
    },
    "tags": []
   },
   "outputs": [
    {
     "name": "stdout",
     "output_type": "stream",
     "text": [
      "250/250 [==============================] - 1s 2ms/step\n",
      "\n",
      " --------- FOLD 0 -----------\n",
      "Mean squared error = 5.429999828338623\n",
      "Correlation = 0.68725\n",
      "PCA Correlation = 0.98470\n",
      "model saved : ./multi_model_saves/model_2_0_0\n",
      "250/250 [==============================] - 1s 3ms/step\n",
      "\n",
      " --------- FOLD 1 -----------\n",
      "Mean squared error = 4.909999847412109\n",
      "Correlation = 0.67911\n",
      "PCA Correlation = 0.98583\n",
      "model saved : ./multi_model_saves/model_2_0_1\n",
      "250/250 [==============================] - 1s 3ms/step\n",
      "\n",
      " --------- FOLD 2 -----------\n",
      "Mean squared error = 5.510000228881836\n",
      "Correlation = 0.68249\n",
      "PCA Correlation = 0.98425\n",
      "model saved : ./multi_model_saves/model_2_0_2\n",
      "\u001b[32m\u001b[1mMean corr = 0.68295\u001b[0m\n",
      "301/301 [==============================] - 1s 3ms/step\n",
      "\n",
      " --------- FOLD 0 -----------\n",
      "Mean squared error = 5.769999980926514\n",
      "Correlation = 0.67050\n",
      "PCA Correlation = 0.98306\n",
      "model saved : ./multi_model_saves/model_3_0_0\n",
      "301/301 [==============================] - 1s 3ms/step\n",
      "\n",
      " --------- FOLD 1 -----------\n",
      "Mean squared error = 5.199999809265137\n",
      "Correlation = 0.67454\n",
      "PCA Correlation = 0.98499\n",
      "model saved : ./multi_model_saves/model_3_0_1\n",
      "301/301 [==============================] - 1s 2ms/step\n",
      "\n",
      " --------- FOLD 2 -----------\n",
      "Mean squared error = 6.03000020980835\n",
      "Correlation = 0.66430\n",
      "PCA Correlation = 0.98224\n",
      "model saved : ./multi_model_saves/model_3_0_2\n",
      "\u001b[32m\u001b[1mMean corr = 0.66978\u001b[0m\n",
      "325/325 [==============================] - 1s 2ms/step\n",
      "\n",
      " --------- FOLD 0 -----------\n",
      "Mean squared error = 5.349999904632568\n",
      "Correlation = 0.68527\n",
      "PCA Correlation = 0.98488\n",
      "model saved : ./multi_model_saves/model_4_0_0\n",
      "325/325 [==============================] - 1s 2ms/step\n",
      "\n",
      " --------- FOLD 1 -----------\n",
      "Mean squared error = 5.849999904632568\n",
      "Correlation = 0.68682\n",
      "PCA Correlation = 0.98347\n",
      "model saved : ./multi_model_saves/model_4_0_1\n",
      "325/325 [==============================] - 1s 2ms/step\n",
      "\n",
      " --------- FOLD 2 -----------\n",
      "Mean squared error = 5.900000095367432\n",
      "Correlation = 0.68738\n",
      "PCA Correlation = 0.98348\n",
      "model saved : ./multi_model_saves/model_4_0_2\n",
      "\u001b[32m\u001b[1mMean corr = 0.68649\u001b[0m\n",
      "231/231 [==============================] - 0s 2ms/step\n",
      "\n",
      " --------- FOLD 0 -----------\n",
      "Mean squared error = 8.75\n",
      "Correlation = 0.62064\n",
      "PCA Correlation = 0.96973\n",
      "model saved : ./multi_model_saves/model_7_0_0\n",
      "231/231 [==============================] - 0s 2ms/step\n",
      "\n",
      " --------- FOLD 1 -----------\n",
      "Mean squared error = 5.900000095367432\n",
      "Correlation = 0.63980\n",
      "PCA Correlation = 0.98078\n",
      "model saved : ./multi_model_saves/model_7_0_1\n",
      "230/230 [==============================] - 0s 2ms/step\n",
      "\n",
      " --------- FOLD 2 -----------\n",
      "Mean squared error = 7.349999904632568\n",
      "Correlation = 0.62101\n",
      "PCA Correlation = 0.97484\n",
      "model saved : ./multi_model_saves/model_7_0_2\n",
      "\u001b[32m\u001b[1mMean corr = 0.62715\u001b[0m\n"
     ]
    }
   ],
   "source": [
    "targets_copy = scipy.sparse.load_npz(\"./sparse/train_multi_targets_values.sparse.npz\")\n",
    "targets_copy = scprep.filter.remove_empty_genes(targets_copy)\n",
    "inputs_both_128 = np.load(\"./multi_pca/inputs_both_128.npy\")\n",
    "X_copy = inputs_both_128[:targets_copy.shape[0],:40]\n",
    "for i in selector.keys():\n",
    "    targets = targets_copy.copy()\n",
    "    X = X_copy.copy()\n",
    "    targets = targets[selector[i]]\n",
    "    # Normalize the targets row-wise: This doesn't change the correlations,\n",
    "    # and negative_correlation_loss depends on it\n",
    "    targets -= targets.mean(axis=1).reshape(-1, 1)\n",
    "    targets /= targets.std(axis=1).reshape(-1, 1)\n",
    "    targets = np.array(targets)\n",
    "    svd = TruncatedSVD(n_components = 512,random_state = 1)\n",
    "    Y = svd.fit_transform(targets)[:,:64]\n",
    "    X = X_copy[selector[i]]\n",
    "    evaluate(i,'multi',save=True)"
   ]
  },
  {
   "cell_type": "code",
   "execution_count": 11,
   "id": "1f142a18-a4be-4540-8be9-0ac48cbc2098",
   "metadata": {
    "execution": {
     "iopub.execute_input": "2022-11-10T22:16:16.118527Z",
     "iopub.status.busy": "2022-11-10T22:16:16.118079Z",
     "iopub.status.idle": "2022-11-10T22:17:48.564106Z",
     "shell.execute_reply": "2022-11-10T22:17:48.563419Z",
     "shell.execute_reply.started": "2022-11-10T22:16:16.118503Z"
    },
    "tags": []
   },
   "outputs": [],
   "source": [
    "targets_copy = scipy.sparse.load_npz(\"./sparse/train_multi_targets_values.sparse.npz\")\n",
    "targets_copy = scprep.filter.remove_empty_genes(targets_copy)\n",
    "for i in selector.keys():\n",
    "    targets = targets_copy.copy()\n",
    "    targets = targets[selector[i]]\n",
    "    # Normalize the targets row-wise: This doesn't change the correlations,\n",
    "    # and negative_correlation_loss depends on it\n",
    "    targets -= targets.mean(axis=1).reshape(-1, 1)\n",
    "    targets /= targets.std(axis=1).reshape(-1, 1)\n",
    "    svd = TruncatedSVD(n_components = 128,random_state = 1)\n",
    "    svd.fit(targets)\n",
    "    np.save(f'./multi_model_saves/model_{i}_0_svds',svd.components_[:64])"
   ]
  },
  {
   "cell_type": "code",
   "execution_count": 5,
   "id": "4cc32d52-d4cd-41e4-b950-02ad4c11af1c",
   "metadata": {
    "execution": {
     "iopub.execute_input": "2022-11-12T21:54:23.006150Z",
     "iopub.status.busy": "2022-11-12T21:54:23.005863Z",
     "iopub.status.idle": "2022-11-12T21:55:12.467453Z",
     "shell.execute_reply": "2022-11-12T21:55:12.466777Z",
     "shell.execute_reply.started": "2022-11-12T21:54:23.006130Z"
    },
    "tags": []
   },
   "outputs": [],
   "source": [
    "targets_copy = scipy.sparse.load_npz(\"./sparse/train_multi_targets_values.sparse.npz\")\n",
    "targets_copy = scprep.filter.remove_empty_genes(targets_copy)\n",
    "multi_train_x = scipy.sparse.load_npz(\"./sparse/train_multi_inputs_values.sparse.npz\")"
   ]
  },
  {
   "cell_type": "code",
   "execution_count": 6,
   "id": "e6c4a925-e0cc-4a90-90c8-186b0587f05a",
   "metadata": {
    "execution": {
     "iopub.execute_input": "2022-11-12T21:55:12.468631Z",
     "iopub.status.busy": "2022-11-12T21:55:12.468335Z",
     "iopub.status.idle": "2022-11-12T21:55:12.474071Z",
     "shell.execute_reply": "2022-11-12T21:55:12.473481Z",
     "shell.execute_reply.started": "2022-11-12T21:55:12.468611Z"
    },
    "tags": []
   },
   "outputs": [],
   "source": [
    "selector_31800 = meta.loc[(meta.donor == 31800)].range.values"
   ]
  },
  {
   "cell_type": "code",
   "execution_count": 7,
   "id": "c531ac07-e0f2-4258-abb3-b310a6dfe90b",
   "metadata": {
    "execution": {
     "iopub.execute_input": "2022-11-12T21:55:12.475934Z",
     "iopub.status.busy": "2022-11-12T21:55:12.475687Z",
     "iopub.status.idle": "2022-11-12T22:03:24.998769Z",
     "shell.execute_reply": "2022-11-12T22:03:24.997842Z",
     "shell.execute_reply.started": "2022-11-12T21:55:12.475914Z"
    },
    "tags": []
   },
   "outputs": [
    {
     "data": {
      "text/html": [
       "<style>#sk-container-id-1 {color: black;background-color: white;}#sk-container-id-1 pre{padding: 0;}#sk-container-id-1 div.sk-toggleable {background-color: white;}#sk-container-id-1 label.sk-toggleable__label {cursor: pointer;display: block;width: 100%;margin-bottom: 0;padding: 0.3em;box-sizing: border-box;text-align: center;}#sk-container-id-1 label.sk-toggleable__label-arrow:before {content: \"▸\";float: left;margin-right: 0.25em;color: #696969;}#sk-container-id-1 label.sk-toggleable__label-arrow:hover:before {color: black;}#sk-container-id-1 div.sk-estimator:hover label.sk-toggleable__label-arrow:before {color: black;}#sk-container-id-1 div.sk-toggleable__content {max-height: 0;max-width: 0;overflow: hidden;text-align: left;background-color: #f0f8ff;}#sk-container-id-1 div.sk-toggleable__content pre {margin: 0.2em;color: black;border-radius: 0.25em;background-color: #f0f8ff;}#sk-container-id-1 input.sk-toggleable__control:checked~div.sk-toggleable__content {max-height: 200px;max-width: 100%;overflow: auto;}#sk-container-id-1 input.sk-toggleable__control:checked~label.sk-toggleable__label-arrow:before {content: \"▾\";}#sk-container-id-1 div.sk-estimator input.sk-toggleable__control:checked~label.sk-toggleable__label {background-color: #d4ebff;}#sk-container-id-1 div.sk-label input.sk-toggleable__control:checked~label.sk-toggleable__label {background-color: #d4ebff;}#sk-container-id-1 input.sk-hidden--visually {border: 0;clip: rect(1px 1px 1px 1px);clip: rect(1px, 1px, 1px, 1px);height: 1px;margin: -1px;overflow: hidden;padding: 0;position: absolute;width: 1px;}#sk-container-id-1 div.sk-estimator {font-family: monospace;background-color: #f0f8ff;border: 1px dotted black;border-radius: 0.25em;box-sizing: border-box;margin-bottom: 0.5em;}#sk-container-id-1 div.sk-estimator:hover {background-color: #d4ebff;}#sk-container-id-1 div.sk-parallel-item::after {content: \"\";width: 100%;border-bottom: 1px solid gray;flex-grow: 1;}#sk-container-id-1 div.sk-label:hover label.sk-toggleable__label {background-color: #d4ebff;}#sk-container-id-1 div.sk-serial::before {content: \"\";position: absolute;border-left: 1px solid gray;box-sizing: border-box;top: 0;bottom: 0;left: 50%;z-index: 0;}#sk-container-id-1 div.sk-serial {display: flex;flex-direction: column;align-items: center;background-color: white;padding-right: 0.2em;padding-left: 0.2em;position: relative;}#sk-container-id-1 div.sk-item {position: relative;z-index: 1;}#sk-container-id-1 div.sk-parallel {display: flex;align-items: stretch;justify-content: center;background-color: white;position: relative;}#sk-container-id-1 div.sk-item::before, #sk-container-id-1 div.sk-parallel-item::before {content: \"\";position: absolute;border-left: 1px solid gray;box-sizing: border-box;top: 0;bottom: 0;left: 50%;z-index: -1;}#sk-container-id-1 div.sk-parallel-item {display: flex;flex-direction: column;z-index: 1;position: relative;background-color: white;}#sk-container-id-1 div.sk-parallel-item:first-child::after {align-self: flex-end;width: 50%;}#sk-container-id-1 div.sk-parallel-item:last-child::after {align-self: flex-start;width: 50%;}#sk-container-id-1 div.sk-parallel-item:only-child::after {width: 0;}#sk-container-id-1 div.sk-dashed-wrapped {border: 1px dashed gray;margin: 0 0.4em 0.5em 0.4em;box-sizing: border-box;padding-bottom: 0.4em;background-color: white;}#sk-container-id-1 div.sk-label label {font-family: monospace;font-weight: bold;display: inline-block;line-height: 1.2em;}#sk-container-id-1 div.sk-label-container {text-align: center;}#sk-container-id-1 div.sk-container {/* jupyter's `normalize.less` sets `[hidden] { display: none; }` but bootstrap.min.css set `[hidden] { display: none !important; }` so we also need the `!important` here to be able to override the default hidden behavior on the sphinx rendered scikit-learn.org. See: https://github.com/scikit-learn/scikit-learn/issues/21755 */display: inline-block !important;position: relative;}#sk-container-id-1 div.sk-text-repr-fallback {display: none;}</style><div id=\"sk-container-id-1\" class=\"sk-top-container\"><div class=\"sk-text-repr-fallback\"><pre>KMeans(n_clusters=5)</pre><b>In a Jupyter environment, please rerun this cell to show the HTML representation or trust the notebook. <br />On GitHub, the HTML representation is unable to render, please try loading this page with nbviewer.org.</b></div><div class=\"sk-container\" hidden><div class=\"sk-item\"><div class=\"sk-estimator sk-toggleable\"><input class=\"sk-toggleable__control sk-hidden--visually\" id=\"sk-estimator-id-1\" type=\"checkbox\" checked><label for=\"sk-estimator-id-1\" class=\"sk-toggleable__label sk-toggleable__label-arrow\">KMeans</label><div class=\"sk-toggleable__content\"><pre>KMeans(n_clusters=5)</pre></div></div></div></div></div>"
      ],
      "text/plain": [
       "KMeans(n_clusters=5)"
      ]
     },
     "execution_count": 7,
     "metadata": {},
     "output_type": "execute_result"
    }
   ],
   "source": [
    "from sklearn.cluster import KMeans\n",
    "kmeans = KMeans(n_clusters = 5)\n",
    "kmeans.fit(multi_train_x[selector_31800])"
   ]
  },
  {
   "cell_type": "code",
   "execution_count": 10,
   "id": "e20ffa79-2d65-4551-9276-8ac1f12fe556",
   "metadata": {
    "execution": {
     "iopub.execute_input": "2022-11-12T17:51:31.512413Z",
     "iopub.status.busy": "2022-11-12T17:51:31.511965Z",
     "iopub.status.idle": "2022-11-12T17:51:31.518954Z",
     "shell.execute_reply": "2022-11-12T17:51:31.518425Z",
     "shell.execute_reply.started": "2022-11-12T17:51:31.512377Z"
    }
   },
   "outputs": [
    {
     "data": {
      "text/plain": [
       "1    26714\n",
       "2    10128\n",
       "0        1\n",
       "4        1\n",
       "3        1\n",
       "dtype: int64"
      ]
     },
     "execution_count": 10,
     "metadata": {},
     "output_type": "execute_result"
    }
   ],
   "source": [
    "pd.Series(kmeans.labels_).value_counts()"
   ]
  },
  {
   "cell_type": "code",
   "execution_count": 8,
   "id": "f348c4f6-a7cc-4ed5-a962-208f31fdfd8c",
   "metadata": {
    "execution": {
     "iopub.execute_input": "2022-11-12T22:03:25.000818Z",
     "iopub.status.busy": "2022-11-12T22:03:24.999917Z",
     "iopub.status.idle": "2022-11-12T22:03:25.867103Z",
     "shell.execute_reply": "2022-11-12T22:03:25.866271Z",
     "shell.execute_reply.started": "2022-11-12T22:03:25.000783Z"
    }
   },
   "outputs": [],
   "source": [
    "%mkdir kmeans\n",
    "np.save('./kmeans/31800_labels.npy',kmeans.labels_)"
   ]
  },
  {
   "cell_type": "code",
   "execution_count": 15,
   "id": "7bbe1dc9-d086-4055-bf66-bdfd7a3bd438",
   "metadata": {
    "execution": {
     "iopub.execute_input": "2022-11-12T22:13:44.030372Z",
     "iopub.status.busy": "2022-11-12T22:13:44.029998Z",
     "iopub.status.idle": "2022-11-12T22:13:44.035780Z",
     "shell.execute_reply": "2022-11-12T22:13:44.035279Z",
     "shell.execute_reply.started": "2022-11-12T22:13:44.030349Z"
    }
   },
   "outputs": [
    {
     "data": {
      "text/plain": [
       "1    18576\n",
       "3    18266\n",
       "0        1\n",
       "4        1\n",
       "2        1\n",
       "dtype: int64"
      ]
     },
     "execution_count": 15,
     "metadata": {},
     "output_type": "execute_result"
    }
   ],
   "source": [
    "pd.Series(kmeans.labels_).value_counts()"
   ]
  },
  {
   "cell_type": "code",
   "execution_count": 16,
   "id": "e09b2d36-73de-461c-a26d-ccf08968624c",
   "metadata": {
    "execution": {
     "iopub.execute_input": "2022-11-12T22:15:15.664481Z",
     "iopub.status.busy": "2022-11-12T22:15:15.664094Z",
     "iopub.status.idle": "2022-11-12T22:15:15.668006Z",
     "shell.execute_reply": "2022-11-12T22:15:15.667371Z",
     "shell.execute_reply.started": "2022-11-12T22:15:15.664457Z"
    }
   },
   "outputs": [],
   "source": [
    "kmeans_labels = kmeans.labels_.copy()\n",
    "kmeans_labels[kmeans_labels == 3] = 2"
   ]
  },
  {
   "cell_type": "code",
   "execution_count": 9,
   "id": "7bd7f9ee-968d-43d9-96e9-0ab8130d8499",
   "metadata": {
    "execution": {
     "iopub.execute_input": "2022-11-12T22:03:25.868988Z",
     "iopub.status.busy": "2022-11-12T22:03:25.868695Z",
     "iopub.status.idle": "2022-11-12T22:10:55.416322Z",
     "shell.execute_reply": "2022-11-12T22:10:55.415599Z",
     "shell.execute_reply.started": "2022-11-12T22:03:25.868966Z"
    }
   },
   "outputs": [],
   "source": [
    "kmeans_day = {}\n",
    "for i in (2,3,4,7):\n",
    "    sel = meta.loc[(meta.donor == 31800)&(meta.day == i)].range.values\n",
    "    kmeans_day[i] = KMeans(n_clusters = 5)\n",
    "    kmeans_day[i].fit(multi_train_x[sel])\n",
    "    np.save(f'./kmeans/31800_{i}.npy',kmeans_day[i].labels_)"
   ]
  },
  {
   "cell_type": "code",
   "execution_count": 13,
   "id": "fd7446ac-0b79-4f4b-9878-580cf49ba50b",
   "metadata": {
    "execution": {
     "iopub.execute_input": "2022-11-12T22:12:29.620715Z",
     "iopub.status.busy": "2022-11-12T22:12:29.620337Z",
     "iopub.status.idle": "2022-11-12T22:12:29.626365Z",
     "shell.execute_reply": "2022-11-12T22:12:29.625863Z",
     "shell.execute_reply.started": "2022-11-12T22:12:29.620692Z"
    },
    "tags": []
   },
   "outputs": [
    {
     "data": {
      "text/plain": [
       "1    5471\n",
       "2    2182\n",
       "0       1\n",
       "4       1\n",
       "3       1\n",
       "dtype: int64"
      ]
     },
     "execution_count": 13,
     "metadata": {},
     "output_type": "execute_result"
    }
   ],
   "source": [
    "pd.Series(kmeans_day[7].labels_).value_counts()"
   ]
  },
  {
   "cell_type": "code",
   "execution_count": 18,
   "id": "a4d0b757-41c7-40d9-b563-9c2970ffd99f",
   "metadata": {
    "execution": {
     "iopub.execute_input": "2022-11-12T22:15:39.243068Z",
     "iopub.status.busy": "2022-11-12T22:15:39.242685Z",
     "iopub.status.idle": "2022-11-12T22:15:39.252515Z",
     "shell.execute_reply": "2022-11-12T22:15:39.251959Z",
     "shell.execute_reply.started": "2022-11-12T22:15:39.243044Z"
    },
    "tags": []
   },
   "outputs": [
    {
     "data": {
      "text/plain": [
       "1    4320\n",
       "2    3336\n",
       "dtype: int64"
      ]
     },
     "execution_count": 18,
     "metadata": {},
     "output_type": "execute_result"
    }
   ],
   "source": [
    "meta_31800 = meta.loc[(meta.donor == 31800)]\n",
    "meta_31800.range = range(len(meta_31800))\n",
    "sel_7 = meta_31800.loc[meta_31800.day == 7].range\n",
    "pd.Series(kmeans_labels[sel_7]).value_counts()"
   ]
  },
  {
   "cell_type": "code",
   "execution_count": null,
   "id": "6af54324-d845-430e-b266-a29583cc3b31",
   "metadata": {},
   "outputs": [],
   "source": [
    "kmeans.labels_"
   ]
  },
  {
   "cell_type": "code",
   "execution_count": 19,
   "id": "342c3070-2cd7-4afc-bb3d-ac3ed252ed40",
   "metadata": {
    "execution": {
     "iopub.execute_input": "2022-11-12T22:15:56.728583Z",
     "iopub.status.busy": "2022-11-12T22:15:56.728198Z",
     "iopub.status.idle": "2022-11-12T22:15:56.732528Z",
     "shell.execute_reply": "2022-11-12T22:15:56.731969Z",
     "shell.execute_reply.started": "2022-11-12T22:15:56.728558Z"
    }
   },
   "outputs": [
    {
     "name": "stdout",
     "output_type": "stream",
     "text": [
      "6306\n",
      "7656\n"
     ]
    }
   ],
   "source": [
    "print(np.sum(kmeans_labels[sel_7] == kmeans_day[7].labels_))\n",
    "print(len(kmeans_day[7].labels_))"
   ]
  },
  {
   "cell_type": "code",
   "execution_count": 24,
   "id": "1776a311-a282-4c88-a7d7-1c6c95e03aed",
   "metadata": {
    "execution": {
     "iopub.execute_input": "2022-11-12T22:22:35.119900Z",
     "iopub.status.busy": "2022-11-12T22:22:35.119517Z",
     "iopub.status.idle": "2022-11-12T22:22:35.125980Z",
     "shell.execute_reply": "2022-11-12T22:22:35.125312Z",
     "shell.execute_reply.started": "2022-11-12T22:22:35.119876Z"
    },
    "tags": []
   },
   "outputs": [
    {
     "data": {
      "text/plain": [
       "array([[   0,    0,    0,    0,    0],\n",
       "       [   1, 4221,   97,    1,    0],\n",
       "       [   0, 1250, 2085,    0,    1],\n",
       "       [   0,    0,    0,    0,    0],\n",
       "       [   0,    0,    0,    0,    0]])"
      ]
     },
     "execution_count": 24,
     "metadata": {},
     "output_type": "execute_result"
    }
   ],
   "source": [
    "from sklearn.metrics import confusion_matrix\n",
    "confusion_matrix(kmeans_labels[sel_7], kmeans_day[7].labels_)"
   ]
  },
  {
   "cell_type": "code",
   "execution_count": 27,
   "id": "a57bf377-bfba-40ce-bfb5-199d0c2e8706",
   "metadata": {
    "execution": {
     "iopub.execute_input": "2022-11-12T22:25:12.143401Z",
     "iopub.status.busy": "2022-11-12T22:25:12.143021Z",
     "iopub.status.idle": "2022-11-12T22:25:12.148837Z",
     "shell.execute_reply": "2022-11-12T22:25:12.148304Z",
     "shell.execute_reply.started": "2022-11-12T22:25:12.143379Z"
    },
    "tags": []
   },
   "outputs": [
    {
     "data": {
      "text/plain": [
       "1    4509\n",
       "2    2579\n",
       "0       1\n",
       "dtype: int64"
      ]
     },
     "execution_count": 27,
     "metadata": {},
     "output_type": "execute_result"
    }
   ],
   "source": [
    "pd.Series(kmeans_labels[sel_2]).value_counts()"
   ]
  },
  {
   "cell_type": "code",
   "execution_count": 28,
   "id": "f7ec50f1-bf61-4e81-a6da-572f393e91a1",
   "metadata": {
    "execution": {
     "iopub.execute_input": "2022-11-12T22:27:00.470338Z",
     "iopub.status.busy": "2022-11-12T22:27:00.469954Z",
     "iopub.status.idle": "2022-11-12T22:27:00.475790Z",
     "shell.execute_reply": "2022-11-12T22:27:00.475249Z",
     "shell.execute_reply.started": "2022-11-12T22:27:00.470315Z"
    }
   },
   "outputs": [
    {
     "data": {
      "text/plain": [
       "1    3847\n",
       "4    3239\n",
       "2       1\n",
       "3       1\n",
       "0       1\n",
       "dtype: int64"
      ]
     },
     "execution_count": 28,
     "metadata": {},
     "output_type": "execute_result"
    }
   ],
   "source": [
    "pd.Series(kmeans_day[2].labels_).value_counts()"
   ]
  },
  {
   "cell_type": "code",
   "execution_count": 25,
   "id": "ea6f6bd2-251f-4f7a-aa82-34c98af05ae8",
   "metadata": {
    "execution": {
     "iopub.execute_input": "2022-11-12T22:24:17.341601Z",
     "iopub.status.busy": "2022-11-12T22:24:17.341215Z",
     "iopub.status.idle": "2022-11-12T22:24:17.349692Z",
     "shell.execute_reply": "2022-11-12T22:24:17.349115Z",
     "shell.execute_reply.started": "2022-11-12T22:24:17.341578Z"
    }
   },
   "outputs": [
    {
     "data": {
      "text/plain": [
       "array([[   0,    1,    0,    0,    0],\n",
       "       [   0, 3846,    1,    0,  662],\n",
       "       [   1,    0,    0,    1, 2577],\n",
       "       [   0,    0,    0,    0,    0],\n",
       "       [   0,    0,    0,    0,    0]])"
      ]
     },
     "execution_count": 25,
     "metadata": {},
     "output_type": "execute_result"
    }
   ],
   "source": [
    "sel_2 = meta_31800.loc[meta_31800.day == 2].range\n",
    "confusion_matrix(kmeans_labels[sel_2], kmeans_day[2].labels_)"
   ]
  },
  {
   "cell_type": "code",
   "execution_count": 30,
   "id": "7be1c219-1a78-408d-a01c-575b2da8380b",
   "metadata": {
    "execution": {
     "iopub.execute_input": "2022-11-12T22:32:06.231447Z",
     "iopub.status.busy": "2022-11-12T22:32:06.231069Z",
     "iopub.status.idle": "2022-11-12T22:32:06.238200Z",
     "shell.execute_reply": "2022-11-12T22:32:06.237597Z",
     "shell.execute_reply.started": "2022-11-12T22:32:06.231424Z"
    },
    "tags": []
   },
   "outputs": [
    {
     "name": "stdout",
     "output_type": "stream",
     "text": [
      "day = 2\n",
      "1    3847\n",
      "4    3239\n",
      "2       1\n",
      "3       1\n",
      "0       1\n",
      "dtype: int64\n",
      "day = 3\n",
      "1    11302\n",
      "4        1\n",
      "0        1\n",
      "3        1\n",
      "2        1\n",
      "dtype: int64\n",
      "day = 4\n",
      "2    6340\n",
      "3    4451\n",
      "0       1\n",
      "4       1\n",
      "1       1\n",
      "dtype: int64\n",
      "day = 7\n",
      "1    5471\n",
      "2    2182\n",
      "0       1\n",
      "4       1\n",
      "3       1\n",
      "dtype: int64\n"
     ]
    }
   ],
   "source": [
    "for i in (2,3,4,7):\n",
    "    print(f'day = {i}')\n",
    "    print(pd.Series(kmeans_day[i].labels_).value_counts())"
   ]
  },
  {
   "cell_type": "code",
   "execution_count": 31,
   "id": "3c5bdbed-bc74-4b2a-a4f1-44111e9f7b8d",
   "metadata": {
    "execution": {
     "iopub.execute_input": "2022-11-12T22:33:08.077371Z",
     "iopub.status.busy": "2022-11-12T22:33:08.076977Z",
     "iopub.status.idle": "2022-11-12T22:33:08.088122Z",
     "shell.execute_reply": "2022-11-12T22:33:08.087536Z",
     "shell.execute_reply.started": "2022-11-12T22:33:08.077346Z"
    }
   },
   "outputs": [
    {
     "name": "stdout",
     "output_type": "stream",
     "text": [
      "day = 2\n",
      "1    4509\n",
      "3    2579\n",
      "0       1\n",
      "dtype: int64\n",
      "day = 3\n",
      "3    7004\n",
      "1    4302\n",
      "dtype: int64\n",
      "day = 4\n",
      "1    5445\n",
      "3    5348\n",
      "4       1\n",
      "dtype: int64\n",
      "day = 7\n",
      "1    4320\n",
      "3    3335\n",
      "2       1\n",
      "dtype: int64\n"
     ]
    }
   ],
   "source": [
    "for i in (2,3,4,7):\n",
    "    sel = meta_31800.loc[meta_31800.day == i].range\n",
    "    print(f'day = {i}')\n",
    "    print(pd.Series(kmeans.labels_[sel]).value_counts())"
   ]
  },
  {
   "cell_type": "code",
   "execution_count": 14,
   "id": "12c3ca5d-ee37-4f36-a4a7-79de998d2668",
   "metadata": {
    "execution": {
     "iopub.execute_input": "2022-11-12T17:54:59.088209Z",
     "iopub.status.busy": "2022-11-12T17:54:59.087815Z",
     "iopub.status.idle": "2022-11-12T17:54:59.106482Z",
     "shell.execute_reply": "2022-11-12T17:54:59.105923Z",
     "shell.execute_reply.started": "2022-11-12T17:54:59.088186Z"
    },
    "tags": []
   },
   "outputs": [
    {
     "name": "stdout",
     "output_type": "stream",
     "text": [
      "2\n",
      "1    5447\n",
      "2    1642\n",
      "dtype: int64\n",
      "3\n",
      "1    8613\n",
      "2    2692\n",
      "0       1\n",
      "dtype: int64\n",
      "4\n",
      "1    7380\n",
      "2    3412\n",
      "4       1\n",
      "3       1\n",
      "dtype: int64\n",
      "7\n",
      "1    5274\n",
      "2    2382\n",
      "dtype: int64\n"
     ]
    }
   ],
   "source": [
    "for i in (2,3,4,7):\n",
    "    small_meta = meta.loc[(meta.donor == 31800)]\n",
    "    small_meta.range = range(len(small_meta))\n",
    "    small_sec = small_meta.loc[(small_meta.day == i)].range.values\n",
    "    print(i)\n",
    "    print(pd.Series(kmeans.labels_[small_sec]).value_counts())"
   ]
  },
  {
   "cell_type": "code",
   "execution_count": 15,
   "id": "11a1f256-614e-430d-9bc0-b984ebf623e6",
   "metadata": {
    "execution": {
     "iopub.execute_input": "2022-11-12T18:12:03.000379Z",
     "iopub.status.busy": "2022-11-12T18:12:02.999990Z",
     "iopub.status.idle": "2022-11-12T18:12:03.022748Z",
     "shell.execute_reply": "2022-11-12T18:12:03.022151Z",
     "shell.execute_reply.started": "2022-11-12T18:12:03.000354Z"
    }
   },
   "outputs": [
    {
     "name": "stdout",
     "output_type": "stream",
     "text": [
      "2\n",
      "1    0.768374\n",
      "2    0.231626\n",
      "dtype: float64\n",
      "3\n",
      "1    0.761808\n",
      "2    0.238104\n",
      "0    0.000088\n",
      "dtype: float64\n",
      "4\n",
      "1    0.683713\n",
      "2    0.316102\n",
      "4    0.000093\n",
      "3    0.000093\n",
      "dtype: float64\n",
      "7\n",
      "1    0.688871\n",
      "2    0.311129\n",
      "dtype: float64\n"
     ]
    }
   ],
   "source": [
    "for i in (2,3,4,7):\n",
    "    small_meta = meta.loc[(meta.donor == 31800)]\n",
    "    small_meta.range = range(len(small_meta))\n",
    "    small_sec = small_meta.loc[(small_meta.day == i)].range.values\n",
    "    length = len(small_meta.loc[(small_meta.day == i)])\n",
    "    print(i)\n",
    "    print(pd.Series(kmeans.labels_[small_sec]).value_counts()/length)"
   ]
  },
  {
   "cell_type": "code",
   "execution_count": null,
   "id": "4ca79ae7-8530-48f7-be31-3c0ca518b930",
   "metadata": {
    "tags": []
   },
   "outputs": [],
   "source": [
    "targets_copy = scipy.sparse.load_npz(\"./sparse/train_multi_targets_values.sparse.npz\")\n",
    "targets_copy = scprep.filter.remove_empty_genes(targets_copy)\n",
    "targets_copy = targets_copy.toarray()\n",
    "inputs_both_128 = np.load(\"./multi_pca/inputs_both_128.npy\")\n",
    "X_copy = inputs_both_128[:targets_copy.shape[0],:40]\n",
    "models_k = []\n",
    "for i in (1,2):\n",
    "    selector_k = (kmeans.labels_ == i)\n",
    "    targets = targets_copy.copy()\n",
    "    X = X_copy.copy()\n",
    "    targets = targets[selector_31800][selector_k]\n",
    "    # Normalize the targets row-wise: This doesn't change the correlations,\n",
    "    # and negative_correlation_loss depends on it\n",
    "    targets -= targets.mean(axis=1).reshape(-1, 1)\n",
    "    targets /= targets.std(axis=1).reshape(-1, 1)\n",
    "    targets = np.array(targets)\n",
    "    svd = TruncatedSVD(n_components = 512,random_state = 1)\n",
    "    Y = svd.fit_transform(targets)[:,:64]\n",
    "    X = X_copy[selector_31800][selector_k]\n",
    "    models_k.append(evaluate(i,'multi',save=False))\n",
    "    svds.append(svd)"
   ]
  },
  {
   "cell_type": "code",
   "execution_count": null,
   "id": "80e30175-1010-43c3-b809-962fc4d6859f",
   "metadata": {
    "tags": []
   },
   "outputs": [],
   "source": [
    "small_meta_mod = small_meta.copy()\n",
    "small_meta_mod['k'] = kmeans.labels_\n",
    "for i in (2,3,4,7):\n",
    "    print(f'label = 1')\n",
    "    print(f'day = {i}')\n",
    "    sel = small_meta_mod[(small_meta_mod.day == i)&(small_meta_mod.k == 1)].range.values\n",
    "    for j in range(3):\n",
    "        print(correlation_score(targets_copy[sel],models_k[1][j].predict(X_copy[sel])@svd.components_[:64]))"
   ]
  },
  {
   "cell_type": "code",
   "execution_count": null,
   "id": "14c27151-89ca-45e6-81aa-4df5275584b5",
   "metadata": {},
   "outputs": [],
   "source": [
    "small_meta_mod = small_meta.copy()\n",
    "small_meta_mod['k'] = kmeans.labels_\n",
    "for i in (2,3,4,7):\n",
    "    print(f'label = 2')\n",
    "    print(f'day = {i}')\n",
    "    sel = small_meta_mod[(small_meta_mod.day == i)&(small_meta_mod.k == 2)].range.values\n",
    "    for j in range(3):\n",
    "        print(correlation_score(targets_copy[sel],models_k[1][j].predict(X_copy[sel])@svd.components_[:64]))"
   ]
  },
  {
   "cell_type": "code",
   "execution_count": 32,
   "id": "08b03364-61e2-4f84-9a63-496e170363fb",
   "metadata": {
    "execution": {
     "iopub.execute_input": "2022-11-12T22:42:58.881550Z",
     "iopub.status.busy": "2022-11-12T22:42:58.881172Z",
     "iopub.status.idle": "2022-11-12T22:42:59.187431Z",
     "shell.execute_reply": "2022-11-12T22:42:59.186789Z",
     "shell.execute_reply.started": "2022-11-12T22:42:58.881527Z"
    }
   },
   "outputs": [],
   "source": [
    "with np.load('./sparse/test_multi_inputs_idxcol.npz',allow_pickle=True) as data:\n",
    "    cell_index_t = data['index']\n",
    "metadata_df = pd.read_csv('../input/open-problems-multimodal/metadata.csv', index_col='cell_id')\n",
    "metadata_df = metadata_df[metadata_df.technology==\"multiome\"]\n",
    "meta_t = metadata_df.reindex(cell_index_t)"
   ]
  },
  {
   "cell_type": "code",
   "execution_count": 34,
   "id": "409b7f3b-33dd-42d7-83bc-35090c1ddb2d",
   "metadata": {
    "execution": {
     "iopub.execute_input": "2022-11-12T22:43:38.522653Z",
     "iopub.status.busy": "2022-11-12T22:43:38.522277Z",
     "iopub.status.idle": "2022-11-12T22:43:38.531121Z",
     "shell.execute_reply": "2022-11-12T22:43:38.530420Z",
     "shell.execute_reply.started": "2022-11-12T22:43:38.522630Z"
    },
    "tags": []
   },
   "outputs": [],
   "source": [
    "all_meta = pd.concat([meta,meta_t])"
   ]
  },
  {
   "cell_type": "code",
   "execution_count": 35,
   "id": "ff3cf9cc-94ac-4a74-a574-2001b282a570",
   "metadata": {
    "execution": {
     "iopub.execute_input": "2022-11-12T22:44:34.370974Z",
     "iopub.status.busy": "2022-11-12T22:44:34.370592Z",
     "iopub.status.idle": "2022-11-12T22:44:34.374827Z",
     "shell.execute_reply": "2022-11-12T22:44:34.374239Z",
     "shell.execute_reply.started": "2022-11-12T22:44:34.370950Z"
    }
   },
   "outputs": [],
   "source": [
    "all_meta.range = range(len(all_meta))"
   ]
  },
  {
   "cell_type": "code",
   "execution_count": 36,
   "id": "9985fd89-2c60-49fa-867f-1c335aa0de42",
   "metadata": {
    "execution": {
     "iopub.execute_input": "2022-11-12T22:44:36.763339Z",
     "iopub.status.busy": "2022-11-12T22:44:36.762963Z",
     "iopub.status.idle": "2022-11-12T22:44:36.772693Z",
     "shell.execute_reply": "2022-11-12T22:44:36.772121Z",
     "shell.execute_reply.started": "2022-11-12T22:44:36.763317Z"
    }
   },
   "outputs": [],
   "source": [
    "selector_31800 = all_meta.loc[(all_meta.donor == 31800)].range.values"
   ]
  },
  {
   "cell_type": "code",
   "execution_count": 37,
   "id": "5bd30ea0-d5b7-4627-ad2a-2fb7eb0fb7aa",
   "metadata": {
    "execution": {
     "iopub.execute_input": "2022-11-12T22:45:36.743499Z",
     "iopub.status.busy": "2022-11-12T22:45:36.743123Z",
     "iopub.status.idle": "2022-11-12T22:45:56.074308Z",
     "shell.execute_reply": "2022-11-12T22:45:56.073677Z",
     "shell.execute_reply.started": "2022-11-12T22:45:36.743476Z"
    }
   },
   "outputs": [],
   "source": [
    "multi_test_x = scipy.sparse.load_npz(\"./sparse/test_multi_inputs_values.sparse.npz\")"
   ]
  },
  {
   "cell_type": "code",
   "execution_count": 39,
   "id": "7729b330-0eda-4fee-836a-9f354429688f",
   "metadata": {
    "execution": {
     "iopub.execute_input": "2022-11-12T22:46:54.621085Z",
     "iopub.status.busy": "2022-11-12T22:46:54.620707Z",
     "iopub.status.idle": "2022-11-12T22:46:57.309167Z",
     "shell.execute_reply": "2022-11-12T22:46:57.308538Z",
     "shell.execute_reply.started": "2022-11-12T22:46:54.621061Z"
    },
    "tags": []
   },
   "outputs": [],
   "source": [
    "from scipy.sparse import vstack\n",
    "multi_x = vstack((multi_train_x, multi_test_x))"
   ]
  },
  {
   "cell_type": "code",
   "execution_count": 41,
   "id": "8d4da19b-d12f-47d0-85ec-5ee58a2359e4",
   "metadata": {
    "execution": {
     "iopub.execute_input": "2022-11-12T22:48:17.778983Z",
     "iopub.status.busy": "2022-11-12T22:48:17.778565Z",
     "iopub.status.idle": "2022-11-12T22:58:01.800481Z",
     "shell.execute_reply": "2022-11-12T22:58:01.799585Z",
     "shell.execute_reply.started": "2022-11-12T22:48:17.778950Z"
    }
   },
   "outputs": [],
   "source": [
    "kmeans_all = KMeans(n_clusters = 5)\n",
    "kmeans_all.fit(multi_x[selector_31800])\n",
    "np.save(f'./kmeans/31800_all.npy',kmeans_all.labels_)"
   ]
  },
  {
   "cell_type": "code",
   "execution_count": 46,
   "id": "ad514918-4a21-4193-abdf-33b861603f96",
   "metadata": {
    "execution": {
     "iopub.execute_input": "2022-11-12T22:59:28.968295Z",
     "iopub.status.busy": "2022-11-12T22:59:28.967918Z",
     "iopub.status.idle": "2022-11-12T22:59:28.982369Z",
     "shell.execute_reply": "2022-11-12T22:59:28.981823Z",
     "shell.execute_reply.started": "2022-11-12T22:59:28.968272Z"
    },
    "tags": []
   },
   "outputs": [
    {
     "name": "stdout",
     "output_type": "stream",
     "text": [
      "day = 2\n",
      "2    5725\n",
      "3    1362\n",
      "4       1\n",
      "1       1\n",
      "dtype: int64\n",
      "day = 3\n",
      "3    5745\n",
      "2    5560\n",
      "1       1\n",
      "dtype: int64\n",
      "day = 4\n",
      "2    7084\n",
      "3    3709\n",
      "0       1\n",
      "dtype: int64\n",
      "day = 7\n",
      "2    6088\n",
      "3    1568\n",
      "dtype: int64\n",
      "day = 10\n",
      "2    4091\n",
      "3    3053\n",
      "dtype: int64\n"
     ]
    }
   ],
   "source": [
    "all_meta_31800 = all_meta.loc[all_meta.donor == 31800]\n",
    "all_meta_31800.range = range(len(all_meta_31800))\n",
    "for i in (2,3,4,7,10):\n",
    "    sel = all_meta_31800.loc[all_meta_31800.day == i].range\n",
    "    print(f'day = {i}')\n",
    "    print(pd.Series(kmeans_all.labels_[sel]).value_counts())"
   ]
  },
  {
   "cell_type": "code",
   "execution_count": 47,
   "id": "f2256b13-ca62-44d5-9856-21e030e84afc",
   "metadata": {
    "execution": {
     "iopub.execute_input": "2022-11-12T23:05:21.352538Z",
     "iopub.status.busy": "2022-11-12T23:05:21.352160Z",
     "iopub.status.idle": "2022-11-12T23:05:45.860469Z",
     "shell.execute_reply": "2022-11-12T23:05:45.859840Z",
     "shell.execute_reply.started": "2022-11-12T23:05:21.352515Z"
    }
   },
   "outputs": [],
   "source": [
    "targets_copy = scipy.sparse.load_npz(\"./sparse/train_multi_targets_values.sparse.npz\")\n",
    "targets_copy = scprep.filter.remove_empty_genes(targets_copy)\n",
    "targets_copy = targets_copy.toarray()\n",
    "inputs_both_128 = np.load(\"./multi_pca/inputs_both_128.npy\")\n",
    "X_copy = inputs_both_128[:targets_copy.shape[0],:40]"
   ]
  },
  {
   "cell_type": "code",
   "execution_count": 48,
   "id": "40c839da-0ba1-4735-a3c8-2f48d49cb76f",
   "metadata": {
    "execution": {
     "iopub.execute_input": "2022-11-12T23:08:57.494336Z",
     "iopub.status.busy": "2022-11-12T23:08:57.493959Z",
     "iopub.status.idle": "2022-11-12T23:08:57.499853Z",
     "shell.execute_reply": "2022-11-12T23:08:57.499282Z",
     "shell.execute_reply.started": "2022-11-12T23:08:57.494314Z"
    }
   },
   "outputs": [],
   "source": [
    "selector_31800 = meta.loc[(meta.donor == 31800)].range.values"
   ]
  },
  {
   "cell_type": "code",
   "execution_count": 50,
   "id": "d2b20087-e7c3-4be1-aa14-beb777a4dd7f",
   "metadata": {
    "execution": {
     "iopub.execute_input": "2022-11-12T23:10:52.847913Z",
     "iopub.status.busy": "2022-11-12T23:10:52.847528Z",
     "iopub.status.idle": "2022-11-12T23:10:52.851776Z",
     "shell.execute_reply": "2022-11-12T23:10:52.851232Z",
     "shell.execute_reply.started": "2022-11-12T23:10:52.847890Z"
    }
   },
   "outputs": [],
   "source": [
    "all_meta_31800['kmeans'] = kmeans_all.labels_"
   ]
  },
  {
   "cell_type": "code",
   "execution_count": 62,
   "id": "9213963f-88e3-4175-aa32-5bcd71671a43",
   "metadata": {
    "execution": {
     "iopub.execute_input": "2022-11-12T23:19:46.698278Z",
     "iopub.status.busy": "2022-11-12T23:19:46.697905Z",
     "iopub.status.idle": "2022-11-12T23:20:40.712529Z",
     "shell.execute_reply": "2022-11-12T23:20:40.711896Z",
     "shell.execute_reply.started": "2022-11-12T23:19:46.698256Z"
    },
    "tags": []
   },
   "outputs": [
    {
     "name": "stdout",
     "output_type": "stream",
     "text": [
      "179/179 [==============================] - 0s 2ms/step\n",
      "on day 2, label 2 has score 0.678547144490462\n",
      "43/43 [==============================] - 0s 2ms/step\n",
      "on day 2, label 3 has score 0.669935427179968\n",
      "174/174 [==============================] - 0s 2ms/step\n",
      "on day 3, label 2 has score 0.6502936462462452\n",
      "180/180 [==============================] - 0s 2ms/step\n",
      "on day 3, label 3 has score 0.653116709758051\n",
      "222/222 [==============================] - 0s 2ms/step\n",
      "on day 4, label 2 has score 0.6692450298413672\n",
      "116/116 [==============================] - 0s 2ms/step\n",
      "on day 4, label 3 has score 0.6534613577349305\n",
      "191/191 [==============================] - 0s 2ms/step\n",
      "on day 7, label 2 has score 0.5476387214932423\n",
      "49/49 [==============================] - 0s 2ms/step\n",
      "on day 7, label 3 has score 0.5390346842930601\n"
     ]
    }
   ],
   "source": [
    "for day in (2,3,4,7):\n",
    "    for j in (2,3):\n",
    "        X = X_copy.copy()\n",
    "        X = X[selector_31800]\n",
    "        Y = targets_copy.copy()\n",
    "        Y = Y[selector_31800]\n",
    "        sel = all_meta_31800.loc[(all_meta_31800.day == day)&(all_meta_31800.kmeans == j)].range.values\n",
    "        X = X[sel]\n",
    "        Y = Y[sel]\n",
    "        svd = np.load(f'./multi_model_saves/model_{day}_32606_svds.npy')\n",
    "        model = load_model(f\"./multi_model_saves/model_{day}_0_0\")\n",
    "        score = correlation_score(Y,model.predict(X)@svd)\n",
    "        print(f'on day {day}, label {j} has score {score}')"
   ]
  },
  {
   "cell_type": "code",
   "execution_count": 63,
   "id": "d8f037a4-b2a3-40f8-bc22-96b4009fb651",
   "metadata": {
    "execution": {
     "iopub.execute_input": "2022-11-12T23:21:47.726606Z",
     "iopub.status.busy": "2022-11-12T23:21:47.726230Z",
     "iopub.status.idle": "2022-11-12T23:22:42.119131Z",
     "shell.execute_reply": "2022-11-12T23:22:42.118497Z",
     "shell.execute_reply.started": "2022-11-12T23:21:47.726584Z"
    },
    "tags": []
   },
   "outputs": [
    {
     "name": "stdout",
     "output_type": "stream",
     "text": [
      "179/179 [==============================] - 0s 2ms/step\n",
      "on day 2, label 2 has score 0.6752441505174988\n",
      "43/43 [==============================] - 0s 2ms/step\n",
      "on day 2, label 3 has score 0.6660303460659074\n",
      "174/174 [==============================] - 0s 2ms/step\n",
      "on day 3, label 2 has score 0.6439726723876682\n",
      "180/180 [==============================] - 0s 2ms/step\n",
      "on day 3, label 3 has score 0.6479254472600897\n",
      "222/222 [==============================] - 0s 2ms/step\n",
      "on day 4, label 2 has score 0.6804724691180474\n",
      "116/116 [==============================] - 0s 2ms/step\n",
      "on day 4, label 3 has score 0.662235930986023\n",
      "191/191 [==============================] - 0s 2ms/step\n",
      "on day 7, label 2 has score 0.6022612425138228\n",
      "49/49 [==============================] - 0s 2ms/step\n",
      "on day 7, label 3 has score 0.5939525701758681\n"
     ]
    }
   ],
   "source": [
    "for day in (2,3,4,7):\n",
    "    for j in (2,3):\n",
    "        X = X_copy.copy()\n",
    "        X = X[selector_31800]\n",
    "        Y = targets_copy.copy()\n",
    "        Y = Y[selector_31800]\n",
    "        sel = all_meta_31800.loc[(all_meta_31800.day == day)&(all_meta_31800.kmeans == j)].range.values\n",
    "        X = X[sel]\n",
    "        Y = Y[sel]\n",
    "        svd = np.load(f'./multi_model_saves/model_{day}_13176_svds.npy')\n",
    "        model = load_model(f\"./multi_model_saves/model_{day}_0_0\")\n",
    "        score = correlation_score(Y,model.predict(X)@svd)\n",
    "        print(f'on day {day}, label {j} has score {score}')"
   ]
  },
  {
   "cell_type": "code",
   "execution_count": 70,
   "id": "1d7fde78-101c-4551-9d92-acd8b4e1a9ea",
   "metadata": {
    "execution": {
     "iopub.execute_input": "2022-11-12T23:26:33.257058Z",
     "iopub.status.busy": "2022-11-12T23:26:33.256583Z",
     "iopub.status.idle": "2022-11-12T23:26:33.262770Z",
     "shell.execute_reply": "2022-11-12T23:26:33.262205Z",
     "shell.execute_reply.started": "2022-11-12T23:26:33.257026Z"
    }
   },
   "outputs": [
    {
     "data": {
      "text/plain": [
       "array([4., 4., 1., ..., 0., 0., 0.])"
      ]
     },
     "execution_count": 70,
     "metadata": {},
     "output_type": "execute_result"
    }
   ],
   "source": [
    "np.concatenate([kmeans_day[2].labels_,kmeans_day[3].labels_,kmeans_day[4].labels_,kmeans_day[7].labels_,np.zeros(7144)])"
   ]
  },
  {
   "cell_type": "code",
   "execution_count": 71,
   "id": "f4258c1d-72fa-4cd8-8941-5eb8f3bb9f59",
   "metadata": {
    "execution": {
     "iopub.execute_input": "2022-11-12T23:26:48.774849Z",
     "iopub.status.busy": "2022-11-12T23:26:48.774475Z",
     "iopub.status.idle": "2022-11-12T23:26:48.779513Z",
     "shell.execute_reply": "2022-11-12T23:26:48.778894Z",
     "shell.execute_reply.started": "2022-11-12T23:26:48.774827Z"
    },
    "tags": []
   },
   "outputs": [],
   "source": [
    "all_meta_31800['kmeans_day'] = np.concatenate([kmeans_day[2].labels_,kmeans_day[3].labels_,kmeans_day[4].labels_,kmeans_day[7].labels_,np.zeros(7144)])"
   ]
  },
  {
   "cell_type": "code",
   "execution_count": 77,
   "id": "a78ffce3-54eb-46f9-9b06-b01285b5be02",
   "metadata": {
    "execution": {
     "iopub.execute_input": "2022-11-12T23:34:52.000734Z",
     "iopub.status.busy": "2022-11-12T23:34:52.000358Z",
     "iopub.status.idle": "2022-11-12T23:34:52.006878Z",
     "shell.execute_reply": "2022-11-12T23:34:52.006287Z",
     "shell.execute_reply.started": "2022-11-12T23:34:52.000711Z"
    },
    "tags": []
   },
   "outputs": [
    {
     "data": {
      "text/plain": [
       "array([   0,    1,    5, ..., 7083, 7087, 7088])"
      ]
     },
     "execution_count": 77,
     "metadata": {},
     "output_type": "execute_result"
    }
   ],
   "source": [
    "all_meta_31800.loc[(all_meta_31800.day == 2)&(all_meta_31800.kmeans_day == 4)].range.values"
   ]
  },
  {
   "cell_type": "code",
   "execution_count": 81,
   "id": "9d1af7cd-ea35-4d8a-aacd-b6a56c53b8a5",
   "metadata": {
    "execution": {
     "iopub.execute_input": "2022-11-12T23:42:07.886552Z",
     "iopub.status.busy": "2022-11-12T23:42:07.886173Z",
     "iopub.status.idle": "2022-11-12T23:43:53.353224Z",
     "shell.execute_reply": "2022-11-12T23:43:53.352583Z",
     "shell.execute_reply.started": "2022-11-12T23:42:07.886529Z"
    },
    "tags": []
   },
   "outputs": [
    {
     "name": "stdout",
     "output_type": "stream",
     "text": [
      "121/121 [==============================] - 0s 2ms/step\n",
      "on day 2, label 1 has score 0.6757059466935612\n",
      "102/102 [==============================] - 0s 2ms/step\n",
      "on day 2, label 4 has score 0.6707777363038632\n",
      "354/354 [==============================] - 1s 2ms/step\n",
      "on day 3, label 1 has score 0.6459864347822691\n",
      "199/199 [==============================] - 0s 2ms/step\n",
      "on day 4, label 2 has score 0.6723976009185991\n",
      "140/140 [==============================] - 0s 2ms/step\n",
      "on day 4, label 3 has score 0.6767951106558059\n",
      "171/171 [==============================] - 0s 2ms/step\n",
      "on day 7, label 1 has score 0.588592397822497\n",
      "69/69 [==============================] - 0s 2ms/step\n",
      "on day 7, label 2 has score 0.6305737211095519\n"
     ]
    }
   ],
   "source": [
    "for day in (2,3,4,7):\n",
    "    for j in (0,1,2,3,4):\n",
    "        X = X_copy.copy()\n",
    "        X = X[selector_31800]\n",
    "        Y = targets_copy.copy()\n",
    "        Y = Y[selector_31800]\n",
    "        sel = all_meta_31800.loc[(all_meta_31800.day == day)&(all_meta_31800.kmeans_day == j)].range.values\n",
    "        if len(sel)>1:\n",
    "            X = X[sel]\n",
    "            Y = Y[sel]\n",
    "            svd = np.load(f'./multi_model_saves/model_{day}_13176_svds.npy')\n",
    "            model = load_model(f\"./multi_model_saves/model_{day}_0_0\")\n",
    "            score = correlation_score(Y,model.predict(X)@svd)\n",
    "            print(f'on day {day}, label {j} has score {score}')"
   ]
  },
  {
   "cell_type": "code",
   "execution_count": 82,
   "id": "4f2421b6-5c9b-4f90-a4b9-3d2582a8b641",
   "metadata": {
    "execution": {
     "iopub.execute_input": "2022-11-12T23:46:06.203279Z",
     "iopub.status.busy": "2022-11-12T23:46:06.202868Z",
     "iopub.status.idle": "2022-11-12T23:46:06.208878Z",
     "shell.execute_reply": "2022-11-12T23:46:06.208344Z",
     "shell.execute_reply.started": "2022-11-12T23:46:06.203248Z"
    }
   },
   "outputs": [],
   "source": [
    "selector_late_31800 = all_meta.loc[(all_meta.donor == 31800)&((all_meta.day == 7)|(all_meta.day == 10))].range.values"
   ]
  },
  {
   "cell_type": "code",
   "execution_count": 83,
   "id": "449c1df8-e8fb-4fea-8b8e-5a02fb40c64c",
   "metadata": {
    "execution": {
     "iopub.execute_input": "2022-11-12T23:46:30.403412Z",
     "iopub.status.busy": "2022-11-12T23:46:30.403021Z",
     "iopub.status.idle": "2022-11-12T23:49:05.228283Z",
     "shell.execute_reply": "2022-11-12T23:49:05.227560Z",
     "shell.execute_reply.started": "2022-11-12T23:46:30.403387Z"
    }
   },
   "outputs": [],
   "source": [
    "kmeans_late = KMeans(n_clusters = 5)\n",
    "kmeans_late.fit(multi_x[selector_late_31800])\n",
    "np.save(f'./kmeans/31800_late.npy',kmeans_late.labels_)"
   ]
  },
  {
   "cell_type": "code",
   "execution_count": 84,
   "id": "2cabbf93-40ff-4031-ab41-3a93daf52e3f",
   "metadata": {
    "execution": {
     "iopub.execute_input": "2022-11-12T23:50:02.415807Z",
     "iopub.status.busy": "2022-11-12T23:50:02.415425Z",
     "iopub.status.idle": "2022-11-12T23:50:02.421283Z",
     "shell.execute_reply": "2022-11-12T23:50:02.420760Z",
     "shell.execute_reply.started": "2022-11-12T23:50:02.415783Z"
    }
   },
   "outputs": [
    {
     "data": {
      "text/plain": [
       "3    10970\n",
       "0     3827\n",
       "1        1\n",
       "2        1\n",
       "4        1\n",
       "dtype: int64"
      ]
     },
     "execution_count": 84,
     "metadata": {},
     "output_type": "execute_result"
    }
   ],
   "source": [
    "pd.Series(kmeans_late.labels_).value_counts()"
   ]
  },
  {
   "cell_type": "code",
   "execution_count": 88,
   "id": "5c7a8af0-37b6-44b8-b3b7-ff7a9b359956",
   "metadata": {
    "execution": {
     "iopub.execute_input": "2022-11-12T23:52:34.607233Z",
     "iopub.status.busy": "2022-11-12T23:52:34.606857Z",
     "iopub.status.idle": "2022-11-12T23:52:34.616035Z",
     "shell.execute_reply": "2022-11-12T23:52:34.615470Z",
     "shell.execute_reply.started": "2022-11-12T23:52:34.607211Z"
    },
    "tags": []
   },
   "outputs": [
    {
     "name": "stdout",
     "output_type": "stream",
     "text": [
      "day = 7\n",
      "3    5389\n",
      "0    2264\n",
      "1       1\n",
      "2       1\n",
      "4       1\n",
      "dtype: int64\n",
      "day = 10\n",
      "3    5581\n",
      "0    1563\n",
      "dtype: int64\n"
     ]
    }
   ],
   "source": [
    "late_meta_31800 = all_meta.iloc[selector_late_31800]\n",
    "late_meta_31800.range = range(len(late_meta_31800))\n",
    "for i in (7,10):\n",
    "    sel = late_meta_31800.loc[late_meta_31800.day == i].range\n",
    "    print(f'day = {i}')\n",
    "    print(pd.Series(kmeans_late.labels_[sel]).value_counts())"
   ]
  },
  {
   "cell_type": "code",
   "execution_count": 92,
   "id": "794bafd2-f17f-4aae-ae9b-8cbc9bdbb5dd",
   "metadata": {
    "execution": {
     "iopub.execute_input": "2022-11-13T00:07:05.398740Z",
     "iopub.status.busy": "2022-11-13T00:07:05.398361Z",
     "iopub.status.idle": "2022-11-13T00:07:05.403809Z",
     "shell.execute_reply": "2022-11-13T00:07:05.403251Z",
     "shell.execute_reply.started": "2022-11-13T00:07:05.398717Z"
    }
   },
   "outputs": [],
   "source": [
    "day7_donor31800 = all_meta.loc[(all_meta.donor == 31800)&(all_meta.day == 7)].range.values"
   ]
  },
  {
   "cell_type": "code",
   "execution_count": 99,
   "id": "56f617d2-6e2c-4ad8-93e4-e23ceed2f030",
   "metadata": {
    "execution": {
     "iopub.execute_input": "2022-11-13T00:11:11.479779Z",
     "iopub.status.busy": "2022-11-13T00:11:11.479410Z",
     "iopub.status.idle": "2022-11-13T00:11:11.485595Z",
     "shell.execute_reply": "2022-11-13T00:11:11.485045Z",
     "shell.execute_reply.started": "2022-11-13T00:11:11.479755Z"
    },
    "tags": []
   },
   "outputs": [],
   "source": [
    "meta_day7_donor31800 = all_meta.loc[(all_meta.donor == 31800)&(all_meta.day == 7)]\n",
    "meta_day7_donor31800.range = range(len(meta_day7_donor31800))\n",
    "meta_day7_donor31800['kmeans'] = kmeans_late.labels_[:7656]"
   ]
  },
  {
   "cell_type": "code",
   "execution_count": 108,
   "id": "bee9f295-70f9-4ec1-b893-19750308e913",
   "metadata": {
    "execution": {
     "iopub.execute_input": "2022-11-13T00:13:14.214238Z",
     "iopub.status.busy": "2022-11-13T00:13:14.213851Z",
     "iopub.status.idle": "2022-11-13T00:16:14.205170Z",
     "shell.execute_reply": "2022-11-13T00:16:14.204550Z",
     "shell.execute_reply.started": "2022-11-13T00:13:14.214215Z"
    },
    "tags": []
   },
   "outputs": [
    {
     "name": "stdout",
     "output_type": "stream",
     "text": [
      "24/24 [==============================] - 0s 2ms/step\n",
      "\n",
      " --------- FOLD 0 -----------\n",
      "Mean squared error = 13.020000457763672\n",
      "Correlation = 0.65319\n",
      "PCA Correlation = 0.95930\n",
      "24/24 [==============================] - 0s 2ms/step\n",
      "\n",
      " --------- FOLD 1 -----------\n",
      "Mean squared error = 12.699999809265137\n",
      "Correlation = 0.65793\n",
      "PCA Correlation = 0.96072\n",
      "24/24 [==============================] - 0s 2ms/step\n",
      "\n",
      " --------- FOLD 2 -----------\n",
      "Mean squared error = 12.800000190734863\n",
      "Correlation = 0.65621\n",
      "PCA Correlation = 0.96003\n",
      "\u001b[32m\u001b[1mMean corr = 0.65578\u001b[0m\n",
      "57/57 [==============================] - 0s 2ms/step\n",
      "\n",
      " --------- FOLD 0 -----------\n",
      "Mean squared error = 8.670000076293945\n",
      "Correlation = 0.61378\n",
      "PCA Correlation = 0.96893\n",
      "57/57 [==============================] - 0s 2ms/step\n",
      "\n",
      " --------- FOLD 1 -----------\n",
      "Mean squared error = 8.729999542236328\n",
      "Correlation = 0.61403\n",
      "PCA Correlation = 0.96885\n",
      "57/57 [==============================] - 0s 2ms/step\n",
      "\n",
      " --------- FOLD 2 -----------\n",
      "Mean squared error = 8.720000267028809\n",
      "Correlation = 0.61372\n",
      "PCA Correlation = 0.96885\n",
      "\u001b[32m\u001b[1mMean corr = 0.61384\u001b[0m\n"
     ]
    }
   ],
   "source": [
    "models_k = []\n",
    "svds = []\n",
    "for j in (0,3):\n",
    "    X = X_copy.copy()\n",
    "    X = X[day7_donor31800]\n",
    "    targets = targets_copy.copy()\n",
    "    targets = targets[day7_donor31800]\n",
    "    sel = meta_day7_donor31800.loc[(meta_day7_donor31800.kmeans == j)].range.values\n",
    "    X = X[sel]\n",
    "    targets = targets[sel]\n",
    "    targets -= targets.mean(axis=1).reshape(-1, 1)\n",
    "    targets /= targets.std(axis=1).reshape(-1, 1)\n",
    "    targets = np.array(targets)\n",
    "    svd = TruncatedSVD(n_components = 512,random_state = 1)\n",
    "    Y = svd.fit_transform(targets)[:,:64]\n",
    "    models_k.append(evaluate(j,'multi',save=False))\n",
    "    svds.append(svd)"
   ]
  },
  {
   "cell_type": "code",
   "execution_count": 1,
   "id": "cdc38a4e-c7bb-4542-8c0a-8cbec6f095de",
   "metadata": {
    "execution": {
     "iopub.execute_input": "2022-11-14T18:37:12.868546Z",
     "iopub.status.busy": "2022-11-14T18:37:12.868152Z",
     "iopub.status.idle": "2022-11-14T18:37:12.879852Z",
     "shell.execute_reply": "2022-11-14T18:37:12.879370Z",
     "shell.execute_reply.started": "2022-11-14T18:37:12.868482Z"
    }
   },
   "outputs": [
    {
     "data": {
      "text/plain": [
       "0.626247181497452"
      ]
     },
     "execution_count": 1,
     "metadata": {},
     "output_type": "execute_result"
    }
   ],
   "source": [
    "(0.61384*5389+0.65578*2264)/(2264+5389)"
   ]
  },
  {
   "cell_type": "code",
   "execution_count": 109,
   "id": "88f8a73a-3c3b-458e-a5a1-406920c96e64",
   "metadata": {
    "execution": {
     "iopub.execute_input": "2022-11-13T00:16:40.599541Z",
     "iopub.status.busy": "2022-11-13T00:16:40.599160Z",
     "iopub.status.idle": "2022-11-13T00:31:35.046076Z",
     "shell.execute_reply": "2022-11-13T00:31:35.045252Z",
     "shell.execute_reply.started": "2022-11-13T00:16:40.599517Z"
    },
    "tags": []
   },
   "outputs": [
    {
     "name": "stdout",
     "output_type": "stream",
     "text": [
      "24/24 [==============================] - 2s 60ms/step\n",
      "\n",
      " --------- FOLD 0 -----------\n",
      "Mean squared error = 19.34000015258789\n",
      "Correlation = 0.64003\n",
      "PCA Correlation = 0.93981\n",
      "24/24 [==============================] - 2s 61ms/step\n",
      "\n",
      " --------- FOLD 1 -----------\n",
      "Mean squared error = 19.209999084472656\n",
      "Correlation = 0.64451\n",
      "PCA Correlation = 0.94103\n",
      "24/24 [==============================] - 2s 60ms/step\n",
      "\n",
      " --------- FOLD 2 -----------\n",
      "Mean squared error = 20.229999542236328\n",
      "Correlation = 0.64071\n",
      "PCA Correlation = 0.93723\n",
      "\u001b[32m\u001b[1mMean corr = 0.64175\u001b[0m\n"
     ]
    },
    {
     "ename": "KeyboardInterrupt",
     "evalue": "",
     "output_type": "error",
     "traceback": [
      "\u001b[0;31m---------------------------------------------------------------------------\u001b[0m",
      "\u001b[0;31mKeyboardInterrupt\u001b[0m                         Traceback (most recent call last)",
      "Input \u001b[0;32mIn [109]\u001b[0m, in \u001b[0;36m<cell line: 3>\u001b[0;34m()\u001b[0m\n\u001b[1;32m     12\u001b[0m targets \u001b[38;5;241m=\u001b[39m np\u001b[38;5;241m.\u001b[39marray(targets)\n\u001b[1;32m     13\u001b[0m svd \u001b[38;5;241m=\u001b[39m TruncatedSVD(n_components \u001b[38;5;241m=\u001b[39m \u001b[38;5;241m512\u001b[39m,random_state \u001b[38;5;241m=\u001b[39m \u001b[38;5;241m1\u001b[39m)\n\u001b[0;32m---> 14\u001b[0m Y \u001b[38;5;241m=\u001b[39m \u001b[43msvd\u001b[49m\u001b[38;5;241;43m.\u001b[39;49m\u001b[43mfit_transform\u001b[49m\u001b[43m(\u001b[49m\u001b[43mtargets\u001b[49m\u001b[43m)\u001b[49m[:,:\u001b[38;5;241m64\u001b[39m]\n\u001b[1;32m     15\u001b[0m models_k\u001b[38;5;241m.\u001b[39mappend(evaluate(j,\u001b[38;5;124m'\u001b[39m\u001b[38;5;124mmulti\u001b[39m\u001b[38;5;124m'\u001b[39m,save\u001b[38;5;241m=\u001b[39m\u001b[38;5;28;01mFalse\u001b[39;00m))\n\u001b[1;32m     16\u001b[0m svds\u001b[38;5;241m.\u001b[39mappend(svd)\n",
      "File \u001b[0;32m/srv/conda/envs/saturn/lib/python3.9/site-packages/sklearn/decomposition/_truncated_svd.py:239\u001b[0m, in \u001b[0;36mTruncatedSVD.fit_transform\u001b[0;34m(self, X, y)\u001b[0m\n\u001b[1;32m    231\u001b[0m     n_features \u001b[38;5;241m=\u001b[39m X\u001b[38;5;241m.\u001b[39mshape[\u001b[38;5;241m1\u001b[39m]\n\u001b[1;32m    232\u001b[0m     check_scalar(\n\u001b[1;32m    233\u001b[0m         k,\n\u001b[1;32m    234\u001b[0m         \u001b[38;5;124m\"\u001b[39m\u001b[38;5;124mn_components\u001b[39m\u001b[38;5;124m\"\u001b[39m,\n\u001b[0;32m   (...)\u001b[0m\n\u001b[1;32m    237\u001b[0m         max_val\u001b[38;5;241m=\u001b[39mn_features,\n\u001b[1;32m    238\u001b[0m     )\n\u001b[0;32m--> 239\u001b[0m     U, Sigma, VT \u001b[38;5;241m=\u001b[39m \u001b[43mrandomized_svd\u001b[49m\u001b[43m(\u001b[49m\n\u001b[1;32m    240\u001b[0m \u001b[43m        \u001b[49m\u001b[43mX\u001b[49m\u001b[43m,\u001b[49m\n\u001b[1;32m    241\u001b[0m \u001b[43m        \u001b[49m\u001b[38;5;28;43mself\u001b[39;49m\u001b[38;5;241;43m.\u001b[39;49m\u001b[43mn_components\u001b[49m\u001b[43m,\u001b[49m\n\u001b[1;32m    242\u001b[0m \u001b[43m        \u001b[49m\u001b[43mn_iter\u001b[49m\u001b[38;5;241;43m=\u001b[39;49m\u001b[38;5;28;43mself\u001b[39;49m\u001b[38;5;241;43m.\u001b[39;49m\u001b[43mn_iter\u001b[49m\u001b[43m,\u001b[49m\n\u001b[1;32m    243\u001b[0m \u001b[43m        \u001b[49m\u001b[43mn_oversamples\u001b[49m\u001b[38;5;241;43m=\u001b[39;49m\u001b[38;5;28;43mself\u001b[39;49m\u001b[38;5;241;43m.\u001b[39;49m\u001b[43mn_oversamples\u001b[49m\u001b[43m,\u001b[49m\n\u001b[1;32m    244\u001b[0m \u001b[43m        \u001b[49m\u001b[43mpower_iteration_normalizer\u001b[49m\u001b[38;5;241;43m=\u001b[39;49m\u001b[38;5;28;43mself\u001b[39;49m\u001b[38;5;241;43m.\u001b[39;49m\u001b[43mpower_iteration_normalizer\u001b[49m\u001b[43m,\u001b[49m\n\u001b[1;32m    245\u001b[0m \u001b[43m        \u001b[49m\u001b[43mrandom_state\u001b[49m\u001b[38;5;241;43m=\u001b[39;49m\u001b[43mrandom_state\u001b[49m\u001b[43m,\u001b[49m\n\u001b[1;32m    246\u001b[0m \u001b[43m    \u001b[49m\u001b[43m)\u001b[49m\n\u001b[1;32m    247\u001b[0m \u001b[38;5;28;01melse\u001b[39;00m:\n\u001b[1;32m    248\u001b[0m     \u001b[38;5;28;01mraise\u001b[39;00m \u001b[38;5;167;01mValueError\u001b[39;00m(\u001b[38;5;124m\"\u001b[39m\u001b[38;5;124munknown algorithm \u001b[39m\u001b[38;5;132;01m%r\u001b[39;00m\u001b[38;5;124m\"\u001b[39m \u001b[38;5;241m%\u001b[39m \u001b[38;5;28mself\u001b[39m\u001b[38;5;241m.\u001b[39malgorithm)\n",
      "File \u001b[0;32m/srv/conda/envs/saturn/lib/python3.9/site-packages/sklearn/utils/extmath.py:396\u001b[0m, in \u001b[0;36mrandomized_svd\u001b[0;34m(M, n_components, n_oversamples, n_iter, power_iteration_normalizer, transpose, flip_sign, random_state)\u001b[0m\n\u001b[1;32m    392\u001b[0m \u001b[38;5;28;01mif\u001b[39;00m transpose:\n\u001b[1;32m    393\u001b[0m     \u001b[38;5;66;03m# this implementation is a bit faster with smaller shape[1]\u001b[39;00m\n\u001b[1;32m    394\u001b[0m     M \u001b[38;5;241m=\u001b[39m M\u001b[38;5;241m.\u001b[39mT\n\u001b[0;32m--> 396\u001b[0m Q \u001b[38;5;241m=\u001b[39m \u001b[43mrandomized_range_finder\u001b[49m\u001b[43m(\u001b[49m\n\u001b[1;32m    397\u001b[0m \u001b[43m    \u001b[49m\u001b[43mM\u001b[49m\u001b[43m,\u001b[49m\n\u001b[1;32m    398\u001b[0m \u001b[43m    \u001b[49m\u001b[43msize\u001b[49m\u001b[38;5;241;43m=\u001b[39;49m\u001b[43mn_random\u001b[49m\u001b[43m,\u001b[49m\n\u001b[1;32m    399\u001b[0m \u001b[43m    \u001b[49m\u001b[43mn_iter\u001b[49m\u001b[38;5;241;43m=\u001b[39;49m\u001b[43mn_iter\u001b[49m\u001b[43m,\u001b[49m\n\u001b[1;32m    400\u001b[0m \u001b[43m    \u001b[49m\u001b[43mpower_iteration_normalizer\u001b[49m\u001b[38;5;241;43m=\u001b[39;49m\u001b[43mpower_iteration_normalizer\u001b[49m\u001b[43m,\u001b[49m\n\u001b[1;32m    401\u001b[0m \u001b[43m    \u001b[49m\u001b[43mrandom_state\u001b[49m\u001b[38;5;241;43m=\u001b[39;49m\u001b[43mrandom_state\u001b[49m\u001b[43m,\u001b[49m\n\u001b[1;32m    402\u001b[0m \u001b[43m\u001b[49m\u001b[43m)\u001b[49m\n\u001b[1;32m    404\u001b[0m \u001b[38;5;66;03m# project M to the (k + p) dimensional space using the basis vectors\u001b[39;00m\n\u001b[1;32m    405\u001b[0m B \u001b[38;5;241m=\u001b[39m safe_sparse_dot(Q\u001b[38;5;241m.\u001b[39mT, M)\n",
      "File \u001b[0;32m/srv/conda/envs/saturn/lib/python3.9/site-packages/sklearn/utils/extmath.py:237\u001b[0m, in \u001b[0;36mrandomized_range_finder\u001b[0;34m(A, size, n_iter, power_iteration_normalizer, random_state)\u001b[0m\n\u001b[1;32m    235\u001b[0m     Q \u001b[38;5;241m=\u001b[39m safe_sparse_dot(A\u001b[38;5;241m.\u001b[39mT, Q)\n\u001b[1;32m    236\u001b[0m \u001b[38;5;28;01melif\u001b[39;00m power_iteration_normalizer \u001b[38;5;241m==\u001b[39m \u001b[38;5;124m\"\u001b[39m\u001b[38;5;124mLU\u001b[39m\u001b[38;5;124m\"\u001b[39m:\n\u001b[0;32m--> 237\u001b[0m     Q, _ \u001b[38;5;241m=\u001b[39m linalg\u001b[38;5;241m.\u001b[39mlu(\u001b[43msafe_sparse_dot\u001b[49m\u001b[43m(\u001b[49m\u001b[43mA\u001b[49m\u001b[43m,\u001b[49m\u001b[43m \u001b[49m\u001b[43mQ\u001b[49m\u001b[43m)\u001b[49m, permute_l\u001b[38;5;241m=\u001b[39m\u001b[38;5;28;01mTrue\u001b[39;00m)\n\u001b[1;32m    238\u001b[0m     Q, _ \u001b[38;5;241m=\u001b[39m linalg\u001b[38;5;241m.\u001b[39mlu(safe_sparse_dot(A\u001b[38;5;241m.\u001b[39mT, Q), permute_l\u001b[38;5;241m=\u001b[39m\u001b[38;5;28;01mTrue\u001b[39;00m)\n\u001b[1;32m    239\u001b[0m \u001b[38;5;28;01melif\u001b[39;00m power_iteration_normalizer \u001b[38;5;241m==\u001b[39m \u001b[38;5;124m\"\u001b[39m\u001b[38;5;124mQR\u001b[39m\u001b[38;5;124m\"\u001b[39m:\n",
      "File \u001b[0;32m/srv/conda/envs/saturn/lib/python3.9/site-packages/sklearn/utils/extmath.py:152\u001b[0m, in \u001b[0;36msafe_sparse_dot\u001b[0;34m(a, b, dense_output)\u001b[0m\n\u001b[1;32m    150\u001b[0m         ret \u001b[38;5;241m=\u001b[39m np\u001b[38;5;241m.\u001b[39mdot(a, b)\n\u001b[1;32m    151\u001b[0m \u001b[38;5;28;01melse\u001b[39;00m:\n\u001b[0;32m--> 152\u001b[0m     ret \u001b[38;5;241m=\u001b[39m \u001b[43ma\u001b[49m\u001b[43m \u001b[49m\u001b[38;5;241;43m@\u001b[39;49m\u001b[43m \u001b[49m\u001b[43mb\u001b[49m\n\u001b[1;32m    154\u001b[0m \u001b[38;5;28;01mif\u001b[39;00m (\n\u001b[1;32m    155\u001b[0m     sparse\u001b[38;5;241m.\u001b[39missparse(a)\n\u001b[1;32m    156\u001b[0m     \u001b[38;5;129;01mand\u001b[39;00m sparse\u001b[38;5;241m.\u001b[39missparse(b)\n\u001b[1;32m    157\u001b[0m     \u001b[38;5;129;01mand\u001b[39;00m dense_output\n\u001b[1;32m    158\u001b[0m     \u001b[38;5;129;01mand\u001b[39;00m \u001b[38;5;28mhasattr\u001b[39m(ret, \u001b[38;5;124m\"\u001b[39m\u001b[38;5;124mtoarray\u001b[39m\u001b[38;5;124m\"\u001b[39m)\n\u001b[1;32m    159\u001b[0m ):\n\u001b[1;32m    160\u001b[0m     \u001b[38;5;28;01mreturn\u001b[39;00m ret\u001b[38;5;241m.\u001b[39mtoarray()\n",
      "\u001b[0;31mKeyboardInterrupt\u001b[0m: "
     ]
    }
   ],
   "source": [
    "models_k = []\n",
    "svds = []\n",
    "for j in (0,3):\n",
    "    X = multi_train_x[day7_donor31800]\n",
    "    targets = targets_copy.copy()\n",
    "    targets = targets[day7_donor31800]\n",
    "    sel = meta_day7_donor31800.loc[(meta_day7_donor31800.kmeans == j)].range.values\n",
    "    X = X[sel]\n",
    "    targets = targets[sel]\n",
    "    targets -= targets.mean(axis=1).reshape(-1, 1)\n",
    "    targets /= targets.std(axis=1).reshape(-1, 1)\n",
    "    targets = np.array(targets)\n",
    "    svd = TruncatedSVD(n_components = 512,random_state = 1)\n",
    "    Y = svd.fit_transform(targets)[:,:64]\n",
    "    models_k.append(evaluate(j,'multi',save=False))\n",
    "    svds.append(svd)"
   ]
  },
  {
   "cell_type": "code",
   "execution_count": null,
   "id": "ede94314-c4b1-4fd1-93c1-245c4409a401",
   "metadata": {
    "execution": {
     "iopub.execute_input": "2022-11-13T00:39:46.829034Z",
     "iopub.status.busy": "2022-11-13T00:39:46.828650Z"
    }
   },
   "outputs": [],
   "source": [
    "with np.load('./sparse/train_multi_targets_idxcol.npz',allow_pickle=True) as data:\n",
    "    multi_columns = data['columns']\n",
    "with np.load('./sparse/train_cite_inputs_idxcol.npz',allow_pickle=True) as data:\n",
    "    cite_columns = data['columns']\n",
    "all_corrs = np.load('./corrs/cite_all_corrs.npy')\n",
    "abc = [i.split(\"_\")[0] for i in cite_columns]\n",
    "abc = np.array(abc)[np.array(list(set(all_corrs.ravel())))]\n",
    "multi_corrs = np.where(np.in1d(multi_columns,abc) == True)[0]\n",
    "not_multi_corrs = np.where(np.in1d(multi_columns,abc) == False)[0]"
   ]
  },
  {
   "cell_type": "code",
   "execution_count": 127,
   "id": "d4e926e4-2337-454d-a977-1cae54e196d9",
   "metadata": {
    "execution": {
     "iopub.execute_input": "2022-11-13T01:37:08.638925Z",
     "iopub.status.busy": "2022-11-13T01:37:08.638444Z",
     "iopub.status.idle": "2022-11-13T01:37:08.652694Z",
     "shell.execute_reply": "2022-11-13T01:37:08.652134Z",
     "shell.execute_reply.started": "2022-11-13T01:37:08.638900Z"
    },
    "tags": []
   },
   "outputs": [],
   "source": [
    "def evaluate(i,kind,save,j=0,loss=None):\n",
    "    if (loss == None)&(kind=='multi'):\n",
    "        loss = 'mse'\n",
    "    elif (loss == None)&(kind=='cite'):\n",
    "        loss = negative_correlation_loss\n",
    "    assert(loss in ('mse',negative_correlation_loss))\n",
    "    assert(kind in ('multi','cite'))\n",
    "    VERBOSE = 0\n",
    "    if kind == 'cite':\n",
    "        N_SPLIT = 6\n",
    "    else:\n",
    "        N_SPLIT = 3\n",
    "    #kf = KFold(n_splits=N_SPLIT, shuffle=True, random_state=42)\n",
    "    kf = KFold(n_splits = N_SPLIT)\n",
    "\n",
    "    scores = []\n",
    "    pca_scores = []\n",
    "    Y_pred = np.zeros_like(Y)\n",
    "    models = []\n",
    "\n",
    "    for fold,(idx_tr, idx_va) in enumerate(kf.split(X)):\n",
    "\n",
    "        X_tr = X[idx_tr]\n",
    "        y_tr = Y[idx_tr]\n",
    "\n",
    "        X_va = X[idx_va]\n",
    "        y_va = Y[idx_va] \n",
    "\n",
    "        model = create_model(X.shape[1],Y.shape[1])\n",
    "\n",
    "        lr = ReduceLROnPlateau(\n",
    "                    monitor = \"val_loss\",\n",
    "                    factor = 0.9, \n",
    "                    patience = 4, \n",
    "                    verbose = VERBOSE)\n",
    "\n",
    "        es = EarlyStopping(\n",
    "                    monitor = \"val_loss\",\n",
    "                    patience = 30, \n",
    "                    verbose = VERBOSE,\n",
    "                    mode = \"min\", \n",
    "                    restore_best_weights = True)\n",
    "\n",
    "        if kind == 'cite':\n",
    "            chk = tf.keras.callbacks.ModelCheckpoint(\n",
    "                    filepath = './cite',\n",
    "                    save_weights_only = True,\n",
    "                    monitor = 'val_loss',\n",
    "                    mode = 'min',\n",
    "                    save_best_only = True)\n",
    "        else:\n",
    "            chk = tf.keras.callbacks.ModelCheckpoint(\n",
    "                    filepath = './multi',\n",
    "                    save_weights_only = True,\n",
    "                    monitor = 'val_loss',\n",
    "                    mode = 'min',\n",
    "                    save_best_only = True)\n",
    "\n",
    "        model.compile(optimizer=tf.keras.optimizers.Adam(learning_rate=1e-3),\n",
    "                      loss = loss,\n",
    "                      metrics = loss)\n",
    "            \n",
    "        model.fit(X_tr,\n",
    "                  y_tr,\n",
    "                  validation_data=(X_va,y_va),\n",
    "                  epochs =500,\n",
    "                  verbose = VERBOSE,\n",
    "                  batch_size=256,\n",
    "                  callbacks = [es,lr,chk]\n",
    "                 )\n",
    "        y_va_pred = model.predict(X_va)\n",
    "        Y_pred[idx_va] = y_va_pred\n",
    "        to_pred = np.zeros((X_va.shape[0],targets_copy.shape[1]))\n",
    "        to_mean = targets_copy[:,not_multi_corrs]\n",
    "        to_mean = np.array(np.mean(to_mean,axis=0).reshape(1,-1))[0]\n",
    "        mean_index = 0\n",
    "        pred_index = 0\n",
    "        for i in range(to_pred.shape[1]):\n",
    "            if i in not_multi_corrs:\n",
    "                to_pred[:,i] = to_mean[mean_index]\n",
    "                mean_index += 1\n",
    "            else:\n",
    "                to_pred[:,i] = y_va_pred[:,pred_index]\n",
    "                pred_index += 1\n",
    "        assert(pred_index == y_va_pred.shape[1])\n",
    "        assert(mean_index == len(to_mean))\n",
    "        y_va_pred = to_pred\n",
    "        \n",
    "        if kind == 'cite':\n",
    "            corrscore = correlation_score(y_va, y_va_pred)\n",
    "            scores.append(corrscore)\n",
    "        else:\n",
    "            corrscore = correlation_score(targets_copy[idx_va], y_va_pred)\n",
    "            scores.append(corrscore)\n",
    "            #pca_corrscore = correlation_score(y_va[:,:64], y_va_pred[:,:64])\n",
    "            #pca_scores.append(pca_corrscore)\n",
    "\n",
    "        if kind == 'cite':    \n",
    "            model.fit(X_va,\n",
    "                  y_va,\n",
    "                  epochs=20,\n",
    "                  verbose = VERBOSE,\n",
    "                  batch_size=256\n",
    "                 )    \n",
    "            \n",
    "        models.append(model)\n",
    "        \n",
    "        print(f'\\n --------- FOLD {fold} -----------')\n",
    "        print(f'Mean squared error = {np.round(mean_squared_error(targets_copy[idx_va],y_va_pred),2)}')\n",
    "        print(f'Correlation = {corrscore:.5f}')\n",
    "        #if kind == 'multi':\n",
    "        #    print(f'PCA Correlation = {pca_corrscore:.5f}')\n",
    "        if kind == 'cite':\n",
    "            filename = f\"./cite_model_saves/model_{i}_{j}_{fold}\"\n",
    "        else:\n",
    "            filename = f\"./multi_model_saves/model_{i}_{j}_{fold}\"\n",
    "        if save:\n",
    "            model.save(filename)\n",
    "            print('model saved :',filename)\n",
    "\n",
    "        del X_tr,X_va,y_tr,y_va\n",
    "        gc.collect()\n",
    "\n",
    "    # Show overall score\n",
    "    print(f\"{Fore.GREEN}{Style.BRIGHT}Mean corr = {np.array(scores).mean():.5f}{Style.RESET_ALL}\")\n",
    "    if not loss:\n",
    "        print(f\"{Fore.RED}{Style.BRIGHT}Mean pca corr = {np.array(pca_scores).mean():.5f}{Style.RESET_ALL}\")\n",
    "    return models"
   ]
  },
  {
   "cell_type": "code",
   "execution_count": 116,
   "id": "14b9012b-f8df-4851-bb43-6e338dd021dc",
   "metadata": {
    "execution": {
     "iopub.execute_input": "2022-11-13T00:45:32.350908Z",
     "iopub.status.busy": "2022-11-13T00:45:32.350524Z",
     "iopub.status.idle": "2022-11-13T00:45:54.226421Z",
     "shell.execute_reply": "2022-11-13T00:45:54.225734Z",
     "shell.execute_reply.started": "2022-11-13T00:45:32.350884Z"
    }
   },
   "outputs": [],
   "source": [
    "targets_copy = scipy.sparse.load_npz(\"./sparse/train_multi_targets_values.sparse.npz\")\n",
    "targets_copy = targets_copy.toarray()"
   ]
  },
  {
   "cell_type": "code",
   "execution_count": 128,
   "id": "3dc1c46e-9d0b-4287-a606-88b647a47e45",
   "metadata": {
    "execution": {
     "iopub.execute_input": "2022-11-13T01:37:17.992091Z",
     "iopub.status.busy": "2022-11-13T01:37:17.991694Z",
     "iopub.status.idle": "2022-11-13T01:47:00.776131Z",
     "shell.execute_reply": "2022-11-13T01:47:00.775228Z",
     "shell.execute_reply.started": "2022-11-13T01:37:17.992067Z"
    },
    "tags": []
   },
   "outputs": [
    {
     "name": "stdout",
     "output_type": "stream",
     "text": [
      "24/24 [==============================] - 2s 66ms/step\n",
      "\n",
      " --------- FOLD 0 -----------\n",
      "Mean squared error = 2.71\n",
      "Correlation = 0.56188\n"
     ]
    },
    {
     "ename": "KeyboardInterrupt",
     "evalue": "",
     "output_type": "error",
     "traceback": [
      "\u001b[0;31m---------------------------------------------------------------------------\u001b[0m",
      "\u001b[0;31mKeyboardInterrupt\u001b[0m                         Traceback (most recent call last)",
      "Input \u001b[0;32mIn [128]\u001b[0m, in \u001b[0;36m<cell line: 2>\u001b[0;34m()\u001b[0m\n\u001b[1;32m     11\u001b[0m targets \u001b[38;5;241m=\u001b[39m np\u001b[38;5;241m.\u001b[39marray(targets)\n\u001b[1;32m     12\u001b[0m Y \u001b[38;5;241m=\u001b[39m targets\n\u001b[0;32m---> 13\u001b[0m models_k\u001b[38;5;241m.\u001b[39mappend(\u001b[43mevaluate\u001b[49m\u001b[43m(\u001b[49m\u001b[43mj\u001b[49m\u001b[43m,\u001b[49m\u001b[38;5;124;43m'\u001b[39;49m\u001b[38;5;124;43mmulti\u001b[39;49m\u001b[38;5;124;43m'\u001b[39;49m\u001b[43m,\u001b[49m\u001b[43msave\u001b[49m\u001b[38;5;241;43m=\u001b[39;49m\u001b[38;5;28;43;01mFalse\u001b[39;49;00m\u001b[43m)\u001b[49m)\n",
      "Input \u001b[0;32mIn [127]\u001b[0m, in \u001b[0;36mevaluate\u001b[0;34m(i, kind, save, j, loss)\u001b[0m\n\u001b[1;32m     52\u001b[0m     chk \u001b[38;5;241m=\u001b[39m tf\u001b[38;5;241m.\u001b[39mkeras\u001b[38;5;241m.\u001b[39mcallbacks\u001b[38;5;241m.\u001b[39mModelCheckpoint(\n\u001b[1;32m     53\u001b[0m             filepath \u001b[38;5;241m=\u001b[39m \u001b[38;5;124m'\u001b[39m\u001b[38;5;124m./multi\u001b[39m\u001b[38;5;124m'\u001b[39m,\n\u001b[1;32m     54\u001b[0m             save_weights_only \u001b[38;5;241m=\u001b[39m \u001b[38;5;28;01mTrue\u001b[39;00m,\n\u001b[1;32m     55\u001b[0m             monitor \u001b[38;5;241m=\u001b[39m \u001b[38;5;124m'\u001b[39m\u001b[38;5;124mval_loss\u001b[39m\u001b[38;5;124m'\u001b[39m,\n\u001b[1;32m     56\u001b[0m             mode \u001b[38;5;241m=\u001b[39m \u001b[38;5;124m'\u001b[39m\u001b[38;5;124mmin\u001b[39m\u001b[38;5;124m'\u001b[39m,\n\u001b[1;32m     57\u001b[0m             save_best_only \u001b[38;5;241m=\u001b[39m \u001b[38;5;28;01mTrue\u001b[39;00m)\n\u001b[1;32m     59\u001b[0m model\u001b[38;5;241m.\u001b[39mcompile(optimizer\u001b[38;5;241m=\u001b[39mtf\u001b[38;5;241m.\u001b[39mkeras\u001b[38;5;241m.\u001b[39moptimizers\u001b[38;5;241m.\u001b[39mAdam(learning_rate\u001b[38;5;241m=\u001b[39m\u001b[38;5;241m1e-3\u001b[39m),\n\u001b[1;32m     60\u001b[0m               loss \u001b[38;5;241m=\u001b[39m loss,\n\u001b[1;32m     61\u001b[0m               metrics \u001b[38;5;241m=\u001b[39m loss)\n\u001b[0;32m---> 63\u001b[0m \u001b[43mmodel\u001b[49m\u001b[38;5;241;43m.\u001b[39;49m\u001b[43mfit\u001b[49m\u001b[43m(\u001b[49m\u001b[43mX_tr\u001b[49m\u001b[43m,\u001b[49m\n\u001b[1;32m     64\u001b[0m \u001b[43m          \u001b[49m\u001b[43my_tr\u001b[49m\u001b[43m,\u001b[49m\n\u001b[1;32m     65\u001b[0m \u001b[43m          \u001b[49m\u001b[43mvalidation_data\u001b[49m\u001b[38;5;241;43m=\u001b[39;49m\u001b[43m(\u001b[49m\u001b[43mX_va\u001b[49m\u001b[43m,\u001b[49m\u001b[43my_va\u001b[49m\u001b[43m)\u001b[49m\u001b[43m,\u001b[49m\n\u001b[1;32m     66\u001b[0m \u001b[43m          \u001b[49m\u001b[43mepochs\u001b[49m\u001b[43m \u001b[49m\u001b[38;5;241;43m=\u001b[39;49m\u001b[38;5;241;43m500\u001b[39;49m\u001b[43m,\u001b[49m\n\u001b[1;32m     67\u001b[0m \u001b[43m          \u001b[49m\u001b[43mverbose\u001b[49m\u001b[43m \u001b[49m\u001b[38;5;241;43m=\u001b[39;49m\u001b[43m \u001b[49m\u001b[43mVERBOSE\u001b[49m\u001b[43m,\u001b[49m\n\u001b[1;32m     68\u001b[0m \u001b[43m          \u001b[49m\u001b[43mbatch_size\u001b[49m\u001b[38;5;241;43m=\u001b[39;49m\u001b[38;5;241;43m256\u001b[39;49m\u001b[43m,\u001b[49m\n\u001b[1;32m     69\u001b[0m \u001b[43m          \u001b[49m\u001b[43mcallbacks\u001b[49m\u001b[43m \u001b[49m\u001b[38;5;241;43m=\u001b[39;49m\u001b[43m \u001b[49m\u001b[43m[\u001b[49m\u001b[43mes\u001b[49m\u001b[43m,\u001b[49m\u001b[43mlr\u001b[49m\u001b[43m,\u001b[49m\u001b[43mchk\u001b[49m\u001b[43m]\u001b[49m\n\u001b[1;32m     70\u001b[0m \u001b[43m         \u001b[49m\u001b[43m)\u001b[49m\n\u001b[1;32m     71\u001b[0m y_va_pred \u001b[38;5;241m=\u001b[39m model\u001b[38;5;241m.\u001b[39mpredict(X_va)\n\u001b[1;32m     72\u001b[0m Y_pred[idx_va] \u001b[38;5;241m=\u001b[39m y_va_pred\n",
      "File \u001b[0;32m/srv/conda/envs/saturn/lib/python3.9/site-packages/keras/utils/traceback_utils.py:65\u001b[0m, in \u001b[0;36mfilter_traceback.<locals>.error_handler\u001b[0;34m(*args, **kwargs)\u001b[0m\n\u001b[1;32m     63\u001b[0m filtered_tb \u001b[38;5;241m=\u001b[39m \u001b[38;5;28;01mNone\u001b[39;00m\n\u001b[1;32m     64\u001b[0m \u001b[38;5;28;01mtry\u001b[39;00m:\n\u001b[0;32m---> 65\u001b[0m     \u001b[38;5;28;01mreturn\u001b[39;00m \u001b[43mfn\u001b[49m\u001b[43m(\u001b[49m\u001b[38;5;241;43m*\u001b[39;49m\u001b[43margs\u001b[49m\u001b[43m,\u001b[49m\u001b[43m \u001b[49m\u001b[38;5;241;43m*\u001b[39;49m\u001b[38;5;241;43m*\u001b[39;49m\u001b[43mkwargs\u001b[49m\u001b[43m)\u001b[49m\n\u001b[1;32m     66\u001b[0m \u001b[38;5;28;01mexcept\u001b[39;00m \u001b[38;5;167;01mException\u001b[39;00m \u001b[38;5;28;01mas\u001b[39;00m e:\n\u001b[1;32m     67\u001b[0m     filtered_tb \u001b[38;5;241m=\u001b[39m _process_traceback_frames(e\u001b[38;5;241m.\u001b[39m__traceback__)\n",
      "File \u001b[0;32m/srv/conda/envs/saturn/lib/python3.9/site-packages/keras/engine/training.py:1564\u001b[0m, in \u001b[0;36mModel.fit\u001b[0;34m(self, x, y, batch_size, epochs, verbose, callbacks, validation_split, validation_data, shuffle, class_weight, sample_weight, initial_epoch, steps_per_epoch, validation_steps, validation_batch_size, validation_freq, max_queue_size, workers, use_multiprocessing)\u001b[0m\n\u001b[1;32m   1556\u001b[0m \u001b[38;5;28;01mwith\u001b[39;00m tf\u001b[38;5;241m.\u001b[39mprofiler\u001b[38;5;241m.\u001b[39mexperimental\u001b[38;5;241m.\u001b[39mTrace(\n\u001b[1;32m   1557\u001b[0m     \u001b[38;5;124m\"\u001b[39m\u001b[38;5;124mtrain\u001b[39m\u001b[38;5;124m\"\u001b[39m,\n\u001b[1;32m   1558\u001b[0m     epoch_num\u001b[38;5;241m=\u001b[39mepoch,\n\u001b[0;32m   (...)\u001b[0m\n\u001b[1;32m   1561\u001b[0m     _r\u001b[38;5;241m=\u001b[39m\u001b[38;5;241m1\u001b[39m,\n\u001b[1;32m   1562\u001b[0m ):\n\u001b[1;32m   1563\u001b[0m     callbacks\u001b[38;5;241m.\u001b[39mon_train_batch_begin(step)\n\u001b[0;32m-> 1564\u001b[0m     tmp_logs \u001b[38;5;241m=\u001b[39m \u001b[38;5;28;43mself\u001b[39;49m\u001b[38;5;241;43m.\u001b[39;49m\u001b[43mtrain_function\u001b[49m\u001b[43m(\u001b[49m\u001b[43miterator\u001b[49m\u001b[43m)\u001b[49m\n\u001b[1;32m   1565\u001b[0m     \u001b[38;5;28;01mif\u001b[39;00m data_handler\u001b[38;5;241m.\u001b[39mshould_sync:\n\u001b[1;32m   1566\u001b[0m         context\u001b[38;5;241m.\u001b[39masync_wait()\n",
      "File \u001b[0;32m/srv/conda/envs/saturn/lib/python3.9/site-packages/tensorflow/python/util/traceback_utils.py:150\u001b[0m, in \u001b[0;36mfilter_traceback.<locals>.error_handler\u001b[0;34m(*args, **kwargs)\u001b[0m\n\u001b[1;32m    148\u001b[0m filtered_tb \u001b[38;5;241m=\u001b[39m \u001b[38;5;28;01mNone\u001b[39;00m\n\u001b[1;32m    149\u001b[0m \u001b[38;5;28;01mtry\u001b[39;00m:\n\u001b[0;32m--> 150\u001b[0m   \u001b[38;5;28;01mreturn\u001b[39;00m \u001b[43mfn\u001b[49m\u001b[43m(\u001b[49m\u001b[38;5;241;43m*\u001b[39;49m\u001b[43margs\u001b[49m\u001b[43m,\u001b[49m\u001b[43m \u001b[49m\u001b[38;5;241;43m*\u001b[39;49m\u001b[38;5;241;43m*\u001b[39;49m\u001b[43mkwargs\u001b[49m\u001b[43m)\u001b[49m\n\u001b[1;32m    151\u001b[0m \u001b[38;5;28;01mexcept\u001b[39;00m \u001b[38;5;167;01mException\u001b[39;00m \u001b[38;5;28;01mas\u001b[39;00m e:\n\u001b[1;32m    152\u001b[0m   filtered_tb \u001b[38;5;241m=\u001b[39m _process_traceback_frames(e\u001b[38;5;241m.\u001b[39m__traceback__)\n",
      "File \u001b[0;32m/srv/conda/envs/saturn/lib/python3.9/site-packages/tensorflow/python/eager/def_function.py:915\u001b[0m, in \u001b[0;36mFunction.__call__\u001b[0;34m(self, *args, **kwds)\u001b[0m\n\u001b[1;32m    912\u001b[0m compiler \u001b[38;5;241m=\u001b[39m \u001b[38;5;124m\"\u001b[39m\u001b[38;5;124mxla\u001b[39m\u001b[38;5;124m\"\u001b[39m \u001b[38;5;28;01mif\u001b[39;00m \u001b[38;5;28mself\u001b[39m\u001b[38;5;241m.\u001b[39m_jit_compile \u001b[38;5;28;01melse\u001b[39;00m \u001b[38;5;124m\"\u001b[39m\u001b[38;5;124mnonXla\u001b[39m\u001b[38;5;124m\"\u001b[39m\n\u001b[1;32m    914\u001b[0m \u001b[38;5;28;01mwith\u001b[39;00m OptionalXlaContext(\u001b[38;5;28mself\u001b[39m\u001b[38;5;241m.\u001b[39m_jit_compile):\n\u001b[0;32m--> 915\u001b[0m   result \u001b[38;5;241m=\u001b[39m \u001b[38;5;28;43mself\u001b[39;49m\u001b[38;5;241;43m.\u001b[39;49m\u001b[43m_call\u001b[49m\u001b[43m(\u001b[49m\u001b[38;5;241;43m*\u001b[39;49m\u001b[43margs\u001b[49m\u001b[43m,\u001b[49m\u001b[43m \u001b[49m\u001b[38;5;241;43m*\u001b[39;49m\u001b[38;5;241;43m*\u001b[39;49m\u001b[43mkwds\u001b[49m\u001b[43m)\u001b[49m\n\u001b[1;32m    917\u001b[0m new_tracing_count \u001b[38;5;241m=\u001b[39m \u001b[38;5;28mself\u001b[39m\u001b[38;5;241m.\u001b[39mexperimental_get_tracing_count()\n\u001b[1;32m    918\u001b[0m without_tracing \u001b[38;5;241m=\u001b[39m (tracing_count \u001b[38;5;241m==\u001b[39m new_tracing_count)\n",
      "File \u001b[0;32m/srv/conda/envs/saturn/lib/python3.9/site-packages/tensorflow/python/eager/def_function.py:947\u001b[0m, in \u001b[0;36mFunction._call\u001b[0;34m(self, *args, **kwds)\u001b[0m\n\u001b[1;32m    944\u001b[0m   \u001b[38;5;28mself\u001b[39m\u001b[38;5;241m.\u001b[39m_lock\u001b[38;5;241m.\u001b[39mrelease()\n\u001b[1;32m    945\u001b[0m   \u001b[38;5;66;03m# In this case we have created variables on the first call, so we run the\u001b[39;00m\n\u001b[1;32m    946\u001b[0m   \u001b[38;5;66;03m# defunned version which is guaranteed to never create variables.\u001b[39;00m\n\u001b[0;32m--> 947\u001b[0m   \u001b[38;5;28;01mreturn\u001b[39;00m \u001b[38;5;28;43mself\u001b[39;49m\u001b[38;5;241;43m.\u001b[39;49m\u001b[43m_stateless_fn\u001b[49m\u001b[43m(\u001b[49m\u001b[38;5;241;43m*\u001b[39;49m\u001b[43margs\u001b[49m\u001b[43m,\u001b[49m\u001b[43m \u001b[49m\u001b[38;5;241;43m*\u001b[39;49m\u001b[38;5;241;43m*\u001b[39;49m\u001b[43mkwds\u001b[49m\u001b[43m)\u001b[49m  \u001b[38;5;66;03m# pylint: disable=not-callable\u001b[39;00m\n\u001b[1;32m    948\u001b[0m \u001b[38;5;28;01melif\u001b[39;00m \u001b[38;5;28mself\u001b[39m\u001b[38;5;241m.\u001b[39m_stateful_fn \u001b[38;5;129;01mis\u001b[39;00m \u001b[38;5;129;01mnot\u001b[39;00m \u001b[38;5;28;01mNone\u001b[39;00m:\n\u001b[1;32m    949\u001b[0m   \u001b[38;5;66;03m# Release the lock early so that multiple threads can perform the call\u001b[39;00m\n\u001b[1;32m    950\u001b[0m   \u001b[38;5;66;03m# in parallel.\u001b[39;00m\n\u001b[1;32m    951\u001b[0m   \u001b[38;5;28mself\u001b[39m\u001b[38;5;241m.\u001b[39m_lock\u001b[38;5;241m.\u001b[39mrelease()\n",
      "File \u001b[0;32m/srv/conda/envs/saturn/lib/python3.9/site-packages/tensorflow/python/eager/function.py:2496\u001b[0m, in \u001b[0;36mFunction.__call__\u001b[0;34m(self, *args, **kwargs)\u001b[0m\n\u001b[1;32m   2493\u001b[0m \u001b[38;5;28;01mwith\u001b[39;00m \u001b[38;5;28mself\u001b[39m\u001b[38;5;241m.\u001b[39m_lock:\n\u001b[1;32m   2494\u001b[0m   (graph_function,\n\u001b[1;32m   2495\u001b[0m    filtered_flat_args) \u001b[38;5;241m=\u001b[39m \u001b[38;5;28mself\u001b[39m\u001b[38;5;241m.\u001b[39m_maybe_define_function(args, kwargs)\n\u001b[0;32m-> 2496\u001b[0m \u001b[38;5;28;01mreturn\u001b[39;00m \u001b[43mgraph_function\u001b[49m\u001b[38;5;241;43m.\u001b[39;49m\u001b[43m_call_flat\u001b[49m\u001b[43m(\u001b[49m\n\u001b[1;32m   2497\u001b[0m \u001b[43m    \u001b[49m\u001b[43mfiltered_flat_args\u001b[49m\u001b[43m,\u001b[49m\u001b[43m \u001b[49m\u001b[43mcaptured_inputs\u001b[49m\u001b[38;5;241;43m=\u001b[39;49m\u001b[43mgraph_function\u001b[49m\u001b[38;5;241;43m.\u001b[39;49m\u001b[43mcaptured_inputs\u001b[49m\u001b[43m)\u001b[49m\n",
      "File \u001b[0;32m/srv/conda/envs/saturn/lib/python3.9/site-packages/tensorflow/python/eager/function.py:1862\u001b[0m, in \u001b[0;36mConcreteFunction._call_flat\u001b[0;34m(self, args, captured_inputs, cancellation_manager)\u001b[0m\n\u001b[1;32m   1858\u001b[0m possible_gradient_type \u001b[38;5;241m=\u001b[39m gradients_util\u001b[38;5;241m.\u001b[39mPossibleTapeGradientTypes(args)\n\u001b[1;32m   1859\u001b[0m \u001b[38;5;28;01mif\u001b[39;00m (possible_gradient_type \u001b[38;5;241m==\u001b[39m gradients_util\u001b[38;5;241m.\u001b[39mPOSSIBLE_GRADIENT_TYPES_NONE\n\u001b[1;32m   1860\u001b[0m     \u001b[38;5;129;01mand\u001b[39;00m executing_eagerly):\n\u001b[1;32m   1861\u001b[0m   \u001b[38;5;66;03m# No tape is watching; skip to running the function.\u001b[39;00m\n\u001b[0;32m-> 1862\u001b[0m   \u001b[38;5;28;01mreturn\u001b[39;00m \u001b[38;5;28mself\u001b[39m\u001b[38;5;241m.\u001b[39m_build_call_outputs(\u001b[38;5;28;43mself\u001b[39;49m\u001b[38;5;241;43m.\u001b[39;49m\u001b[43m_inference_function\u001b[49m\u001b[38;5;241;43m.\u001b[39;49m\u001b[43mcall\u001b[49m\u001b[43m(\u001b[49m\n\u001b[1;32m   1863\u001b[0m \u001b[43m      \u001b[49m\u001b[43mctx\u001b[49m\u001b[43m,\u001b[49m\u001b[43m \u001b[49m\u001b[43margs\u001b[49m\u001b[43m,\u001b[49m\u001b[43m \u001b[49m\u001b[43mcancellation_manager\u001b[49m\u001b[38;5;241;43m=\u001b[39;49m\u001b[43mcancellation_manager\u001b[49m\u001b[43m)\u001b[49m)\n\u001b[1;32m   1864\u001b[0m forward_backward \u001b[38;5;241m=\u001b[39m \u001b[38;5;28mself\u001b[39m\u001b[38;5;241m.\u001b[39m_select_forward_and_backward_functions(\n\u001b[1;32m   1865\u001b[0m     args,\n\u001b[1;32m   1866\u001b[0m     possible_gradient_type,\n\u001b[1;32m   1867\u001b[0m     executing_eagerly)\n\u001b[1;32m   1868\u001b[0m forward_function, args_with_tangents \u001b[38;5;241m=\u001b[39m forward_backward\u001b[38;5;241m.\u001b[39mforward()\n",
      "File \u001b[0;32m/srv/conda/envs/saturn/lib/python3.9/site-packages/tensorflow/python/eager/function.py:499\u001b[0m, in \u001b[0;36m_EagerDefinedFunction.call\u001b[0;34m(self, ctx, args, cancellation_manager)\u001b[0m\n\u001b[1;32m    497\u001b[0m \u001b[38;5;28;01mwith\u001b[39;00m _InterpolateFunctionError(\u001b[38;5;28mself\u001b[39m):\n\u001b[1;32m    498\u001b[0m   \u001b[38;5;28;01mif\u001b[39;00m cancellation_manager \u001b[38;5;129;01mis\u001b[39;00m \u001b[38;5;28;01mNone\u001b[39;00m:\n\u001b[0;32m--> 499\u001b[0m     outputs \u001b[38;5;241m=\u001b[39m \u001b[43mexecute\u001b[49m\u001b[38;5;241;43m.\u001b[39;49m\u001b[43mexecute\u001b[49m\u001b[43m(\u001b[49m\n\u001b[1;32m    500\u001b[0m \u001b[43m        \u001b[49m\u001b[38;5;28;43mstr\u001b[39;49m\u001b[43m(\u001b[49m\u001b[38;5;28;43mself\u001b[39;49m\u001b[38;5;241;43m.\u001b[39;49m\u001b[43msignature\u001b[49m\u001b[38;5;241;43m.\u001b[39;49m\u001b[43mname\u001b[49m\u001b[43m)\u001b[49m\u001b[43m,\u001b[49m\n\u001b[1;32m    501\u001b[0m \u001b[43m        \u001b[49m\u001b[43mnum_outputs\u001b[49m\u001b[38;5;241;43m=\u001b[39;49m\u001b[38;5;28;43mself\u001b[39;49m\u001b[38;5;241;43m.\u001b[39;49m\u001b[43m_num_outputs\u001b[49m\u001b[43m,\u001b[49m\n\u001b[1;32m    502\u001b[0m \u001b[43m        \u001b[49m\u001b[43minputs\u001b[49m\u001b[38;5;241;43m=\u001b[39;49m\u001b[43margs\u001b[49m\u001b[43m,\u001b[49m\n\u001b[1;32m    503\u001b[0m \u001b[43m        \u001b[49m\u001b[43mattrs\u001b[49m\u001b[38;5;241;43m=\u001b[39;49m\u001b[43mattrs\u001b[49m\u001b[43m,\u001b[49m\n\u001b[1;32m    504\u001b[0m \u001b[43m        \u001b[49m\u001b[43mctx\u001b[49m\u001b[38;5;241;43m=\u001b[39;49m\u001b[43mctx\u001b[49m\u001b[43m)\u001b[49m\n\u001b[1;32m    505\u001b[0m   \u001b[38;5;28;01melse\u001b[39;00m:\n\u001b[1;32m    506\u001b[0m     outputs \u001b[38;5;241m=\u001b[39m execute\u001b[38;5;241m.\u001b[39mexecute_with_cancellation(\n\u001b[1;32m    507\u001b[0m         \u001b[38;5;28mstr\u001b[39m(\u001b[38;5;28mself\u001b[39m\u001b[38;5;241m.\u001b[39msignature\u001b[38;5;241m.\u001b[39mname),\n\u001b[1;32m    508\u001b[0m         num_outputs\u001b[38;5;241m=\u001b[39m\u001b[38;5;28mself\u001b[39m\u001b[38;5;241m.\u001b[39m_num_outputs,\n\u001b[0;32m   (...)\u001b[0m\n\u001b[1;32m    511\u001b[0m         ctx\u001b[38;5;241m=\u001b[39mctx,\n\u001b[1;32m    512\u001b[0m         cancellation_manager\u001b[38;5;241m=\u001b[39mcancellation_manager)\n",
      "File \u001b[0;32m/srv/conda/envs/saturn/lib/python3.9/site-packages/tensorflow/python/eager/execute.py:54\u001b[0m, in \u001b[0;36mquick_execute\u001b[0;34m(op_name, num_outputs, inputs, attrs, ctx, name)\u001b[0m\n\u001b[1;32m     52\u001b[0m \u001b[38;5;28;01mtry\u001b[39;00m:\n\u001b[1;32m     53\u001b[0m   ctx\u001b[38;5;241m.\u001b[39mensure_initialized()\n\u001b[0;32m---> 54\u001b[0m   tensors \u001b[38;5;241m=\u001b[39m \u001b[43mpywrap_tfe\u001b[49m\u001b[38;5;241;43m.\u001b[39;49m\u001b[43mTFE_Py_Execute\u001b[49m\u001b[43m(\u001b[49m\u001b[43mctx\u001b[49m\u001b[38;5;241;43m.\u001b[39;49m\u001b[43m_handle\u001b[49m\u001b[43m,\u001b[49m\u001b[43m \u001b[49m\u001b[43mdevice_name\u001b[49m\u001b[43m,\u001b[49m\u001b[43m \u001b[49m\u001b[43mop_name\u001b[49m\u001b[43m,\u001b[49m\n\u001b[1;32m     55\u001b[0m \u001b[43m                                      \u001b[49m\u001b[43minputs\u001b[49m\u001b[43m,\u001b[49m\u001b[43m \u001b[49m\u001b[43mattrs\u001b[49m\u001b[43m,\u001b[49m\u001b[43m \u001b[49m\u001b[43mnum_outputs\u001b[49m\u001b[43m)\u001b[49m\n\u001b[1;32m     56\u001b[0m \u001b[38;5;28;01mexcept\u001b[39;00m core\u001b[38;5;241m.\u001b[39m_NotOkStatusException \u001b[38;5;28;01mas\u001b[39;00m e:\n\u001b[1;32m     57\u001b[0m   \u001b[38;5;28;01mif\u001b[39;00m name \u001b[38;5;129;01mis\u001b[39;00m \u001b[38;5;129;01mnot\u001b[39;00m \u001b[38;5;28;01mNone\u001b[39;00m:\n",
      "\u001b[0;31mKeyboardInterrupt\u001b[0m: "
     ]
    }
   ],
   "source": [
    "models_k = []\n",
    "for j in (0,3):\n",
    "    X = multi_train_x[day7_donor31800]\n",
    "    targets = targets_copy.copy()\n",
    "    targets = targets[day7_donor31800][:,multi_corrs]\n",
    "    sel = meta_day7_donor31800.loc[(meta_day7_donor31800.kmeans == j)].range.values\n",
    "    X = X[sel]\n",
    "    targets = targets[sel]\n",
    "    targets -= targets.mean(axis=1).reshape(-1, 1)\n",
    "    targets /= targets.std(axis=1).reshape(-1, 1)\n",
    "    targets = np.array(targets)\n",
    "    Y = targets\n",
    "    models_k.append(evaluate(j,'multi',save=False))"
   ]
  },
  {
   "cell_type": "markdown",
   "id": "4ecd498e-ac16-43f4-8d67-6f652553ee89",
   "metadata": {},
   "source": [
    "### Next day"
   ]
  },
  {
   "cell_type": "code",
   "execution_count": 4,
   "id": "4a51cbbf-42b5-41b8-9b8f-5d705b1e610b",
   "metadata": {
    "execution": {
     "iopub.execute_input": "2022-11-14T20:09:08.302334Z",
     "iopub.status.busy": "2022-11-14T20:09:08.302108Z",
     "iopub.status.idle": "2022-11-14T20:09:55.931735Z",
     "shell.execute_reply": "2022-11-14T20:09:55.931125Z",
     "shell.execute_reply.started": "2022-11-14T20:09:08.302316Z"
    },
    "tags": []
   },
   "outputs": [],
   "source": [
    "from scipy.sparse import vstack\n",
    "multi_train_x = scipy.sparse.load_npz(\"./sparse/train_multi_inputs_values.sparse.npz\")\n",
    "multi_test_x = scipy.sparse.load_npz(\"./sparse/test_multi_inputs_values.sparse.npz\")\n",
    "multi_x = vstack((multi_train_x, multi_test_x))"
   ]
  },
  {
   "cell_type": "code",
   "execution_count": 5,
   "id": "43bfafe9-59af-4abf-b794-cde1ac039539",
   "metadata": {
    "execution": {
     "iopub.execute_input": "2022-11-14T20:09:55.932832Z",
     "iopub.status.busy": "2022-11-14T20:09:55.932555Z",
     "iopub.status.idle": "2022-11-14T20:09:56.547622Z",
     "shell.execute_reply": "2022-11-14T20:09:56.547023Z",
     "shell.execute_reply.started": "2022-11-14T20:09:55.932813Z"
    },
    "tags": []
   },
   "outputs": [],
   "source": [
    "with np.load('./sparse/test_multi_inputs_idxcol.npz',allow_pickle=True) as data:\n",
    "    cell_index_t = data['index']\n",
    "metadata_df = pd.read_csv('../input/open-problems-multimodal/metadata.csv', index_col='cell_id')\n",
    "metadata_df = metadata_df[metadata_df.technology==\"multiome\"]\n",
    "meta_t = metadata_df.reindex(cell_index_t)\n",
    "with np.load('./sparse/train_multi_inputs_idxcol.npz',allow_pickle=True) as data:\n",
    "    cell_index = data['index']\n",
    "with np.load('./sparse/test_multi_inputs_idxcol.npz',allow_pickle=True) as data:\n",
    "    cell_index_t = data['index']\n",
    "metadata_df = pd.read_csv('../input/open-problems-multimodal/metadata.csv', index_col='cell_id')\n",
    "metadata_df = metadata_df[metadata_df.technology==\"multiome\"]\n",
    "meta = metadata_df.reindex(cell_index)\n",
    "all_meta = pd.concat([meta,meta_t])"
   ]
  },
  {
   "cell_type": "code",
   "execution_count": 6,
   "id": "60d7f530-ddc7-4b2c-8e0f-83643219e034",
   "metadata": {
    "execution": {
     "iopub.execute_input": "2022-11-14T20:09:56.548729Z",
     "iopub.status.busy": "2022-11-14T20:09:56.548450Z",
     "iopub.status.idle": "2022-11-14T20:09:56.552740Z",
     "shell.execute_reply": "2022-11-14T20:09:56.552029Z",
     "shell.execute_reply.started": "2022-11-14T20:09:56.548710Z"
    },
    "tags": []
   },
   "outputs": [],
   "source": [
    "all_meta['range'] = range(len(all_meta))"
   ]
  },
  {
   "cell_type": "code",
   "execution_count": 7,
   "id": "ef289322-577d-4e07-884e-46420a2d84f0",
   "metadata": {
    "execution": {
     "iopub.execute_input": "2022-11-14T20:09:56.553858Z",
     "iopub.status.busy": "2022-11-14T20:09:56.553562Z",
     "iopub.status.idle": "2022-11-14T20:09:56.566796Z",
     "shell.execute_reply": "2022-11-14T20:09:56.566076Z",
     "shell.execute_reply.started": "2022-11-14T20:09:56.553840Z"
    },
    "tags": []
   },
   "outputs": [
    {
     "name": "stderr",
     "output_type": "stream",
     "text": [
      "/home/jovyan/.local/lib/python3.9/site-packages/pandas/core/generic.py:5516: SettingWithCopyWarning: \n",
      "A value is trying to be set on a copy of a slice from a DataFrame.\n",
      "Try using .loc[row_indexer,col_indexer] = value instead\n",
      "\n",
      "See the caveats in the documentation: https://pandas.pydata.org/pandas-docs/stable/user_guide/indexing.html#returning-a-view-versus-a-copy\n",
      "  self[name] = value\n"
     ]
    }
   ],
   "source": [
    "late_selector = all_meta.loc[(all_meta.day == 7)|(all_meta.day == 10)].range.values\n",
    "late_meta = all_meta.loc[(all_meta.day == 7)|(all_meta.day == 10)]\n",
    "late_meta.range = range(len(late_meta))"
   ]
  },
  {
   "cell_type": "code",
   "execution_count": 13,
   "id": "4b9dc100-5444-4caf-9f29-6656b794d9b8",
   "metadata": {
    "execution": {
     "iopub.execute_input": "2022-11-14T18:57:24.045384Z",
     "iopub.status.busy": "2022-11-14T18:57:24.045003Z",
     "iopub.status.idle": "2022-11-14T19:10:04.842950Z",
     "shell.execute_reply": "2022-11-14T19:10:04.842100Z",
     "shell.execute_reply.started": "2022-11-14T18:57:24.045358Z"
    },
    "tags": []
   },
   "outputs": [],
   "source": [
    "from sklearn.cluster import KMeans\n",
    "kmeans_all = KMeans(n_clusters = 5)\n",
    "kmeans_all.fit(multi_x[late_selector])\n",
    "np.save(f'./kmeans/late.npy',kmeans_all.labels_)"
   ]
  },
  {
   "cell_type": "code",
   "execution_count": 15,
   "id": "7774244b-0c14-45a8-afd3-7dd24d51e1b9",
   "metadata": {
    "execution": {
     "iopub.execute_input": "2022-11-14T19:10:22.205429Z",
     "iopub.status.busy": "2022-11-14T19:10:22.205067Z",
     "iopub.status.idle": "2022-11-14T19:10:22.211938Z",
     "shell.execute_reply": "2022-11-14T19:10:22.211426Z",
     "shell.execute_reply.started": "2022-11-14T19:10:22.205406Z"
    }
   },
   "outputs": [
    {
     "data": {
      "text/plain": [
       "4    46744\n",
       "3    14399\n",
       "0        1\n",
       "1        1\n",
       "2        1\n",
       "dtype: int64"
      ]
     },
     "execution_count": 15,
     "metadata": {},
     "output_type": "execute_result"
    }
   ],
   "source": [
    "pd.Series(kmeans_all.labels_).value_counts()"
   ]
  },
  {
   "cell_type": "code",
   "execution_count": 17,
   "id": "72786522-1fb0-41b9-8980-bccd59d920e4",
   "metadata": {
    "execution": {
     "iopub.execute_input": "2022-11-14T19:12:10.486180Z",
     "iopub.status.busy": "2022-11-14T19:12:10.485801Z",
     "iopub.status.idle": "2022-11-14T19:12:10.492617Z",
     "shell.execute_reply": "2022-11-14T19:12:10.492093Z",
     "shell.execute_reply.started": "2022-11-14T19:12:10.486155Z"
    },
    "tags": []
   },
   "outputs": [
    {
     "data": {
      "text/plain": [
       "4    46745\n",
       "3    14401\n",
       "dtype: int64"
      ]
     },
     "execution_count": 17,
     "metadata": {},
     "output_type": "execute_result"
    }
   ],
   "source": [
    "kmeans_all_labels = kmeans_all.labels_\n",
    "kmeans_all_labels[np.where(kmeans_all_labels == 0)] = 3\n",
    "kmeans_all_labels[np.where(kmeans_all_labels == 1)] = 4\n",
    "kmeans_all_labels[np.where(kmeans_all_labels == 2)] = 3\n",
    "pd.Series(kmeans_all_labels).value_counts()"
   ]
  },
  {
   "cell_type": "code",
   "execution_count": 21,
   "id": "b5347b01-a6e8-433b-a332-ff8b035f10dc",
   "metadata": {
    "execution": {
     "iopub.execute_input": "2022-11-14T19:13:45.470122Z",
     "iopub.status.busy": "2022-11-14T19:13:45.469759Z",
     "iopub.status.idle": "2022-11-14T19:13:45.473902Z",
     "shell.execute_reply": "2022-11-14T19:13:45.473399Z",
     "shell.execute_reply.started": "2022-11-14T19:13:45.470097Z"
    }
   },
   "outputs": [],
   "source": [
    "kmeans_all_labels[np.where(kmeans_all_labels == 3)] = 0\n",
    "kmeans_all_labels[np.where(kmeans_all_labels == 4)] = 1"
   ]
  },
  {
   "cell_type": "code",
   "execution_count": 38,
   "id": "22c1009f-978d-42df-9146-1f6ee9e4b11d",
   "metadata": {
    "execution": {
     "iopub.execute_input": "2022-11-14T19:20:39.517542Z",
     "iopub.status.busy": "2022-11-14T19:20:39.517158Z",
     "iopub.status.idle": "2022-11-14T19:20:39.521081Z",
     "shell.execute_reply": "2022-11-14T19:20:39.520500Z",
     "shell.execute_reply.started": "2022-11-14T19:20:39.517516Z"
    }
   },
   "outputs": [],
   "source": [
    "np.save(f'./kmeans/late.npy',kmeans_all_labels)"
   ]
  },
  {
   "cell_type": "code",
   "execution_count": 10,
   "id": "9c3844aa-3b11-4789-ba57-aa0419497206",
   "metadata": {
    "execution": {
     "iopub.execute_input": "2022-11-14T19:44:47.200628Z",
     "iopub.status.busy": "2022-11-14T19:44:47.200251Z",
     "iopub.status.idle": "2022-11-14T19:44:47.204698Z",
     "shell.execute_reply": "2022-11-14T19:44:47.204128Z",
     "shell.execute_reply.started": "2022-11-14T19:44:47.200605Z"
    },
    "tags": []
   },
   "outputs": [
    {
     "name": "stderr",
     "output_type": "stream",
     "text": [
      "/tmp/ipykernel_4277/3637135275.py:1: SettingWithCopyWarning: \n",
      "A value is trying to be set on a copy of a slice from a DataFrame.\n",
      "Try using .loc[row_indexer,col_indexer] = value instead\n",
      "\n",
      "See the caveats in the documentation: https://pandas.pydata.org/pandas-docs/stable/user_guide/indexing.html#returning-a-view-versus-a-copy\n",
      "  late_meta['k_means'] = kmeans_all_labels\n"
     ]
    }
   ],
   "source": [
    "late_meta['k_means'] = kmeans_all_labels"
   ]
  },
  {
   "cell_type": "code",
   "execution_count": 10,
   "id": "ee2a186b-3e42-4c58-be4e-712be812469b",
   "metadata": {
    "execution": {
     "iopub.execute_input": "2022-11-14T20:10:17.554344Z",
     "iopub.status.busy": "2022-11-14T20:10:17.553948Z",
     "iopub.status.idle": "2022-11-14T20:10:17.559550Z",
     "shell.execute_reply": "2022-11-14T20:10:17.559024Z",
     "shell.execute_reply.started": "2022-11-14T20:10:17.554321Z"
    },
    "tags": []
   },
   "outputs": [],
   "source": [
    "late_7_meta = late_meta.loc[(late_meta.day == 7)&(late_meta.donor != 27678)]"
   ]
  },
  {
   "cell_type": "code",
   "execution_count": 11,
   "id": "0570161b-5df3-43f1-84fc-fa3fede38770",
   "metadata": {
    "execution": {
     "iopub.execute_input": "2022-11-14T20:10:19.453305Z",
     "iopub.status.busy": "2022-11-14T20:10:19.452945Z",
     "iopub.status.idle": "2022-11-14T20:10:19.456631Z",
     "shell.execute_reply": "2022-11-14T20:10:19.456104Z",
     "shell.execute_reply.started": "2022-11-14T20:10:19.453282Z"
    },
    "tags": []
   },
   "outputs": [],
   "source": [
    "late_7_selector = late_selector[late_7_meta.range.values]"
   ]
  },
  {
   "cell_type": "code",
   "execution_count": 14,
   "id": "55dfa95e-e101-48ac-9961-d09f438223c8",
   "metadata": {
    "execution": {
     "iopub.execute_input": "2022-11-14T20:10:34.996853Z",
     "iopub.status.busy": "2022-11-14T20:10:34.996487Z",
     "iopub.status.idle": "2022-11-14T20:10:50.620172Z",
     "shell.execute_reply": "2022-11-14T20:10:50.619558Z",
     "shell.execute_reply.started": "2022-11-14T20:10:34.996831Z"
    },
    "tags": []
   },
   "outputs": [],
   "source": [
    "targets_copy = scipy.sparse.load_npz(\"./sparse/train_multi_targets_values.sparse.npz\")\n",
    "targets_copy = scprep.filter.remove_empty_genes(targets_copy)\n",
    "inputs_both_128 = np.load(\"./multi_pca/inputs_both_128.npy\")\n",
    "X_copy = inputs_both_128[:targets_copy.shape[0],:40]"
   ]
  },
  {
   "cell_type": "code",
   "execution_count": 17,
   "id": "77b2ed1e-98dc-4f9d-a69c-63e19a6408fd",
   "metadata": {
    "execution": {
     "iopub.execute_input": "2022-11-14T20:12:11.062152Z",
     "iopub.status.busy": "2022-11-14T20:12:11.061769Z",
     "iopub.status.idle": "2022-11-14T20:12:11.069408Z",
     "shell.execute_reply": "2022-11-14T20:12:11.068802Z",
     "shell.execute_reply.started": "2022-11-14T20:12:11.062130Z"
    },
    "tags": []
   },
   "outputs": [
    {
     "name": "stderr",
     "output_type": "stream",
     "text": [
      "/tmp/ipykernel_28939/2169421928.py:3: SettingWithCopyWarning: \n",
      "A value is trying to be set on a copy of a slice from a DataFrame.\n",
      "Try using .loc[row_indexer,col_indexer] = value instead\n",
      "\n",
      "See the caveats in the documentation: https://pandas.pydata.org/pandas-docs/stable/user_guide/indexing.html#returning-a-view-versus-a-copy\n",
      "  late_meta['k_means'] = kmeans_all_labels\n"
     ]
    }
   ],
   "source": [
    "from sklearn.cluster import KMeans\n",
    "kmeans_all_labels = np.load(f'./kmeans/late.npy')\n",
    "late_meta['k_means'] = kmeans_all_labels\n",
    "late_7_meta = late_meta.loc[(late_meta.day == 7)&(late_meta.donor != 27678)]\n",
    "late_7_selector = late_selector[late_7_meta.range.values]"
   ]
  },
  {
   "cell_type": "code",
   "execution_count": 50,
   "id": "7df29acd-8ebf-455b-b106-8fef058236e1",
   "metadata": {
    "execution": {
     "iopub.execute_input": "2022-11-14T19:24:28.716753Z",
     "iopub.status.busy": "2022-11-14T19:24:28.716380Z",
     "iopub.status.idle": "2022-11-14T19:28:03.407350Z",
     "shell.execute_reply": "2022-11-14T19:28:03.406739Z",
     "shell.execute_reply.started": "2022-11-14T19:24:28.716728Z"
    },
    "tags": []
   },
   "outputs": [
    {
     "name": "stderr",
     "output_type": "stream",
     "text": [
      "2022-11-14 19:24:36.234999: I tensorflow/stream_executor/cuda/cuda_gpu_executor.cc:980] successful NUMA node read from SysFS had negative value (-1), but there must be at least one NUMA node, so returning NUMA node zero\n",
      "2022-11-14 19:24:36.241655: W tensorflow/stream_executor/platform/default/dso_loader.cc:64] Could not load dynamic library 'libcudnn.so.8'; dlerror: libcudnn.so.8: cannot open shared object file: No such file or directory; LD_LIBRARY_PATH: /usr/local/nvidia/lib:/usr/local/nvidia/lib64\n",
      "2022-11-14 19:24:36.241674: W tensorflow/core/common_runtime/gpu/gpu_device.cc:1934] Cannot dlopen some GPU libraries. Please make sure the missing libraries mentioned above are installed properly if you would like to use GPU. Follow the guide at https://www.tensorflow.org/install/gpu for how to download and setup the required libraries for your platform.\n",
      "Skipping registering GPU devices...\n",
      "2022-11-14 19:24:36.241998: I tensorflow/core/platform/cpu_feature_guard.cc:193] This TensorFlow binary is optimized with oneAPI Deep Neural Network Library (oneDNN) to use the following CPU instructions in performance-critical operations:  AVX2 AVX512F AVX512_VNNI FMA\n",
      "To enable them in other operations, rebuild TensorFlow with the appropriate compiler flags.\n"
     ]
    },
    {
     "name": "stdout",
     "output_type": "stream",
     "text": [
      "65/65 [==============================] - 0s 2ms/step\n",
      "\n",
      " --------- FOLD 0 -----------\n",
      "Mean squared error = 11.069999694824219\n",
      "Correlation = 0.65714\n",
      "PCA Correlation = 0.96594\n",
      "model saved : ./multi_model_saves/model_late_kmeans_0_0_0\n",
      "65/65 [==============================] - 0s 2ms/step\n",
      "\n",
      " --------- FOLD 1 -----------\n",
      "Mean squared error = 7.849999904632568\n",
      "Correlation = 0.67436\n",
      "PCA Correlation = 0.97687\n",
      "model saved : ./multi_model_saves/model_late_kmeans_0_0_1\n",
      "65/65 [==============================] - 0s 2ms/step\n",
      "\n",
      " --------- FOLD 2 -----------\n",
      "Mean squared error = 10.119999885559082\n",
      "Correlation = 0.65159\n",
      "PCA Correlation = 0.96836\n",
      "model saved : ./multi_model_saves/model_late_kmeans_0_0_2\n",
      "\u001b[32m\u001b[1mMean corr = 0.66103\u001b[0m\n",
      "166/166 [==============================] - 0s 2ms/step\n",
      "\n",
      " --------- FOLD 0 -----------\n",
      "Mean squared error = 9.260000228881836\n",
      "Correlation = 0.61013\n",
      "PCA Correlation = 0.96680\n",
      "model saved : ./multi_model_saves/model_late_kmeans_1_0_0\n",
      "166/166 [==============================] - 0s 2ms/step\n",
      "\n",
      " --------- FOLD 1 -----------\n",
      "Mean squared error = 7.71999979019165\n",
      "Correlation = 0.62175\n",
      "PCA Correlation = 0.97337\n",
      "model saved : ./multi_model_saves/model_late_kmeans_1_0_1\n",
      "166/166 [==============================] - 0s 2ms/step\n",
      "\n",
      " --------- FOLD 2 -----------\n",
      "Mean squared error = 7.96999979019165\n",
      "Correlation = 0.60934\n",
      "PCA Correlation = 0.97139\n",
      "model saved : ./multi_model_saves/model_late_kmeans_1_0_2\n",
      "\u001b[32m\u001b[1mMean corr = 0.61374\u001b[0m\n"
     ]
    }
   ],
   "source": [
    "for j in (0,1):\n",
    "    X = X_copy.copy()\n",
    "    X = X[late_7_selector]\n",
    "    targets = targets_copy.copy()\n",
    "    targets = targets[late_7_selector]\n",
    "    sel = late_7_meta.loc[(late_7_meta.k_means == j)].range.values\n",
    "    X = X[sel]\n",
    "    targets = targets[sel]\n",
    "    targets -= targets.mean(axis=1).reshape(-1, 1)\n",
    "    targets /= targets.std(axis=1).reshape(-1, 1)\n",
    "    targets = np.array(targets)\n",
    "    svd = TruncatedSVD(n_components = 512,random_state = 1)\n",
    "    Y = svd.fit_transform(targets)[:,:64]\n",
    "    evaluate(f\"late_kmeans_{j}\",'multi',save=True)\n",
    "    np.save(f'./multi_model_saves/model_late_kmeans_{j}_all_svds',svd.components_[:64])"
   ]
  },
  {
   "cell_type": "code",
   "execution_count": 55,
   "id": "133f2fc6-d1a2-4fa4-9c7f-36ae295f322f",
   "metadata": {
    "execution": {
     "iopub.execute_input": "2022-11-14T19:30:13.411926Z",
     "iopub.status.busy": "2022-11-14T19:30:13.411541Z",
     "iopub.status.idle": "2022-11-14T19:30:13.416946Z",
     "shell.execute_reply": "2022-11-14T19:30:13.416431Z",
     "shell.execute_reply.started": "2022-11-14T19:30:13.411889Z"
    },
    "tags": []
   },
   "outputs": [],
   "source": [
    "abc = late_meta.loc[(late_meta.day == 7)&(late_meta.donor == 31800)].k_means.values"
   ]
  },
  {
   "cell_type": "code",
   "execution_count": 57,
   "id": "91db04c3-0457-4edf-8b07-9c84be355e2a",
   "metadata": {
    "execution": {
     "iopub.execute_input": "2022-11-14T19:31:15.388632Z",
     "iopub.status.busy": "2022-11-14T19:31:15.388258Z",
     "iopub.status.idle": "2022-11-14T19:31:15.393000Z",
     "shell.execute_reply": "2022-11-14T19:31:15.392469Z",
     "shell.execute_reply.started": "2022-11-14T19:31:15.388608Z"
    },
    "tags": []
   },
   "outputs": [],
   "source": [
    "kmeans_31800 = np.load(f'./kmeans/31800_late.npy')"
   ]
  },
  {
   "cell_type": "code",
   "execution_count": 63,
   "id": "76b20704-4258-43dc-895d-e5cbf61d8268",
   "metadata": {
    "execution": {
     "iopub.execute_input": "2022-11-14T19:32:41.620684Z",
     "iopub.status.busy": "2022-11-14T19:32:41.620298Z",
     "iopub.status.idle": "2022-11-14T19:32:41.623760Z",
     "shell.execute_reply": "2022-11-14T19:32:41.623232Z",
     "shell.execute_reply.started": "2022-11-14T19:32:41.620659Z"
    },
    "tags": []
   },
   "outputs": [],
   "source": [
    "kmeans_31800 = kmeans_31800[:len(abc)]"
   ]
  },
  {
   "cell_type": "code",
   "execution_count": 64,
   "id": "8daac975-420e-49d7-9934-6626efdf945b",
   "metadata": {
    "execution": {
     "iopub.execute_input": "2022-11-14T19:33:06.301008Z",
     "iopub.status.busy": "2022-11-14T19:33:06.300630Z",
     "iopub.status.idle": "2022-11-14T19:33:06.306357Z",
     "shell.execute_reply": "2022-11-14T19:33:06.305812Z",
     "shell.execute_reply.started": "2022-11-14T19:33:06.300983Z"
    }
   },
   "outputs": [
    {
     "data": {
      "text/plain": [
       "3    5389\n",
       "0    2264\n",
       "1       1\n",
       "2       1\n",
       "4       1\n",
       "dtype: int64"
      ]
     },
     "execution_count": 64,
     "metadata": {},
     "output_type": "execute_result"
    }
   ],
   "source": [
    "pd.Series(kmeans_31800).value_counts()"
   ]
  },
  {
   "cell_type": "code",
   "execution_count": 65,
   "id": "9724149e-3612-45c6-9740-0ba67fd23e9c",
   "metadata": {
    "execution": {
     "iopub.execute_input": "2022-11-14T19:33:32.558897Z",
     "iopub.status.busy": "2022-11-14T19:33:32.558497Z",
     "iopub.status.idle": "2022-11-14T19:33:32.562171Z",
     "shell.execute_reply": "2022-11-14T19:33:32.561625Z",
     "shell.execute_reply.started": "2022-11-14T19:33:32.558874Z"
    }
   },
   "outputs": [],
   "source": [
    "kmeans_31800[np.where(kmeans_31800 == 3)] = 1"
   ]
  },
  {
   "cell_type": "code",
   "execution_count": 68,
   "id": "d6bfa66d-305b-45a6-951d-7b6f66b116e6",
   "metadata": {
    "execution": {
     "iopub.execute_input": "2022-11-14T19:34:02.765260Z",
     "iopub.status.busy": "2022-11-14T19:34:02.764758Z",
     "iopub.status.idle": "2022-11-14T19:34:02.771376Z",
     "shell.execute_reply": "2022-11-14T19:34:02.770874Z",
     "shell.execute_reply.started": "2022-11-14T19:34:02.765234Z"
    },
    "tags": []
   },
   "outputs": [
    {
     "data": {
      "text/plain": [
       "True     7575\n",
       "False      81\n",
       "dtype: int64"
      ]
     },
     "execution_count": 68,
     "metadata": {},
     "output_type": "execute_result"
    }
   ],
   "source": [
    "pd.Series(kmeans_31800 == abc).value_counts()"
   ]
  },
  {
   "cell_type": "code",
   "execution_count": 34,
   "id": "0b8de585-36e0-456c-b541-1fa4a20f9600",
   "metadata": {
    "execution": {
     "iopub.execute_input": "2022-11-14T19:58:59.208118Z",
     "iopub.status.busy": "2022-11-14T19:58:59.207721Z",
     "iopub.status.idle": "2022-11-14T19:58:59.213353Z",
     "shell.execute_reply": "2022-11-14T19:58:59.212799Z",
     "shell.execute_reply.started": "2022-11-14T19:58:59.208094Z"
    },
    "tags": []
   },
   "outputs": [
    {
     "name": "stderr",
     "output_type": "stream",
     "text": [
      "/home/jovyan/.local/lib/python3.9/site-packages/pandas/core/generic.py:5516: SettingWithCopyWarning: \n",
      "A value is trying to be set on a copy of a slice from a DataFrame.\n",
      "Try using .loc[row_indexer,col_indexer] = value instead\n",
      "\n",
      "See the caveats in the documentation: https://pandas.pydata.org/pandas-docs/stable/user_guide/indexing.html#returning-a-view-versus-a-copy\n",
      "  self[name] = value\n"
     ]
    }
   ],
   "source": [
    "late_7_meta_32606 = late_7_meta.loc[late_7_meta.donor == 32606]\n",
    "late_7_selector_32606 = late_7_meta_32606.range.values.copy()\n",
    "late_7_meta_32606.range = range(len(late_7_meta_32606))"
   ]
  },
  {
   "cell_type": "code",
   "execution_count": 35,
   "id": "689a7f81-3b3f-4329-aa47-9132f8393a6d",
   "metadata": {
    "execution": {
     "iopub.execute_input": "2022-11-14T19:59:08.488419Z",
     "iopub.status.busy": "2022-11-14T19:59:08.488042Z",
     "iopub.status.idle": "2022-11-14T20:01:11.051997Z",
     "shell.execute_reply": "2022-11-14T20:01:11.051342Z",
     "shell.execute_reply.started": "2022-11-14T19:59:08.488396Z"
    },
    "tags": []
   },
   "outputs": [
    {
     "name": "stdout",
     "output_type": "stream",
     "text": [
      "18/18 [==============================] - 0s 2ms/step\n",
      "\n",
      " --------- FOLD 0 -----------\n",
      "Mean squared error = 14.8100004196167\n",
      "Correlation = 0.66338\n",
      "PCA Correlation = 0.95544\n",
      "model saved : ./multi_model_saves/model_late_kmeans_0_32606_0\n",
      "18/18 [==============================] - 0s 2ms/step\n",
      "\n",
      " --------- FOLD 1 -----------\n",
      "Mean squared error = 15.949999809265137\n",
      "Correlation = 0.66075\n",
      "PCA Correlation = 0.95179\n",
      "model saved : ./multi_model_saves/model_late_kmeans_0_32606_1\n",
      "18/18 [==============================] - 0s 2ms/step\n",
      "\n",
      " --------- FOLD 2 -----------\n",
      "Mean squared error = 15.84000015258789\n",
      "Correlation = 0.65954\n",
      "PCA Correlation = 0.95172\n",
      "model saved : ./multi_model_saves/model_late_kmeans_0_32606_2\n",
      "\u001b[32m\u001b[1mMean corr = 0.66122\u001b[0m\n",
      "56/56 [==============================] - 0s 2ms/step\n",
      "\n",
      " --------- FOLD 0 -----------\n",
      "Mean squared error = 8.600000381469727\n",
      "Correlation = 0.61893\n",
      "PCA Correlation = 0.96993\n",
      "model saved : ./multi_model_saves/model_late_kmeans_1_32606_0\n",
      "56/56 [==============================] - 0s 1ms/step\n",
      "\n",
      " --------- FOLD 1 -----------\n",
      "Mean squared error = 8.829999923706055\n",
      "Correlation = 0.61825\n",
      "PCA Correlation = 0.96910\n",
      "model saved : ./multi_model_saves/model_late_kmeans_1_32606_1\n",
      "56/56 [==============================] - 0s 2ms/step\n",
      "\n",
      " --------- FOLD 2 -----------\n",
      "Mean squared error = 8.609999656677246\n",
      "Correlation = 0.61728\n",
      "PCA Correlation = 0.96964\n",
      "model saved : ./multi_model_saves/model_late_kmeans_1_32606_2\n",
      "\u001b[32m\u001b[1mMean corr = 0.61815\u001b[0m\n"
     ]
    }
   ],
   "source": [
    "for j in (0,1):\n",
    "    X = X_copy.copy()\n",
    "    X = X[late_7_selector][late_7_selector_32606]\n",
    "    targets = targets_copy.copy()\n",
    "    targets = targets[late_7_selector][late_7_selector_32606]\n",
    "    sel = late_7_meta_32606.loc[(late_7_meta_32606.k_means == j)].range.values\n",
    "    X = X[sel]\n",
    "    targets = targets[sel]\n",
    "    targets -= targets.mean(axis=1).reshape(-1, 1)\n",
    "    targets /= targets.std(axis=1).reshape(-1, 1)\n",
    "    targets = np.array(targets)\n",
    "    svd = TruncatedSVD(n_components = 512,random_state = 1)\n",
    "    Y = svd.fit_transform(targets)[:,:64]\n",
    "    evaluate(f\"late_kmeans_{j}\",'multi',j='32606',save=True)\n",
    "    np.save(f'./multi_model_saves/model_late_kmeans_{j}_32606_svds',svd.components_[:64])"
   ]
  },
  {
   "cell_type": "code",
   "execution_count": 18,
   "id": "72920ec2-546f-4391-9f91-7a8499f96109",
   "metadata": {
    "execution": {
     "iopub.execute_input": "2022-11-14T20:12:17.943128Z",
     "iopub.status.busy": "2022-11-14T20:12:17.942763Z",
     "iopub.status.idle": "2022-11-14T20:12:17.948436Z",
     "shell.execute_reply": "2022-11-14T20:12:17.947888Z",
     "shell.execute_reply.started": "2022-11-14T20:12:17.943106Z"
    },
    "tags": []
   },
   "outputs": [
    {
     "name": "stderr",
     "output_type": "stream",
     "text": [
      "/home/jovyan/.local/lib/python3.9/site-packages/pandas/core/generic.py:5516: SettingWithCopyWarning: \n",
      "A value is trying to be set on a copy of a slice from a DataFrame.\n",
      "Try using .loc[row_indexer,col_indexer] = value instead\n",
      "\n",
      "See the caveats in the documentation: https://pandas.pydata.org/pandas-docs/stable/user_guide/indexing.html#returning-a-view-versus-a-copy\n",
      "  self[name] = value\n"
     ]
    }
   ],
   "source": [
    "late_7_meta_13176 = late_7_meta.loc[late_7_meta.donor == 13176]\n",
    "late_7_selector_13176 = late_7_meta_13176.range.values.copy()\n",
    "late_7_meta_13176.range = range(len(late_7_meta_13176))"
   ]
  },
  {
   "cell_type": "code",
   "execution_count": 19,
   "id": "1fb6f659-397d-4dc6-ba22-9059ba2d97be",
   "metadata": {
    "execution": {
     "iopub.execute_input": "2022-11-14T20:12:22.472222Z",
     "iopub.status.busy": "2022-11-14T20:12:22.471831Z",
     "iopub.status.idle": "2022-11-14T20:14:58.860980Z",
     "shell.execute_reply": "2022-11-14T20:14:58.860374Z",
     "shell.execute_reply.started": "2022-11-14T20:12:22.472198Z"
    },
    "tags": []
   },
   "outputs": [
    {
     "name": "stderr",
     "output_type": "stream",
     "text": [
      "2022-11-14 20:12:27.369775: I tensorflow/stream_executor/cuda/cuda_gpu_executor.cc:980] successful NUMA node read from SysFS had negative value (-1), but there must be at least one NUMA node, so returning NUMA node zero\n",
      "2022-11-14 20:12:27.376390: W tensorflow/stream_executor/platform/default/dso_loader.cc:64] Could not load dynamic library 'libcudnn.so.8'; dlerror: libcudnn.so.8: cannot open shared object file: No such file or directory; LD_LIBRARY_PATH: /usr/local/nvidia/lib:/usr/local/nvidia/lib64\n",
      "2022-11-14 20:12:27.376407: W tensorflow/core/common_runtime/gpu/gpu_device.cc:1934] Cannot dlopen some GPU libraries. Please make sure the missing libraries mentioned above are installed properly if you would like to use GPU. Follow the guide at https://www.tensorflow.org/install/gpu for how to download and setup the required libraries for your platform.\n",
      "Skipping registering GPU devices...\n",
      "2022-11-14 20:12:27.376727: I tensorflow/core/platform/cpu_feature_guard.cc:193] This TensorFlow binary is optimized with oneAPI Deep Neural Network Library (oneDNN) to use the following CPU instructions in performance-critical operations:  AVX2 AVX512F AVX512_VNNI FMA\n",
      "To enable them in other operations, rebuild TensorFlow with the appropriate compiler flags.\n"
     ]
    },
    {
     "name": "stdout",
     "output_type": "stream",
     "text": [
      "25/25 [==============================] - 0s 2ms/step\n",
      "\n",
      " --------- FOLD 0 -----------\n",
      "Mean squared error = 12.149999618530273\n",
      "Correlation = 0.67741\n",
      "PCA Correlation = 0.96450\n",
      "model saved : ./multi_model_saves/model_late_kmeans_0_13176_0\n",
      "25/25 [==============================] - 0s 2ms/step\n",
      "\n",
      " --------- FOLD 1 -----------\n",
      "Mean squared error = 12.289999961853027\n",
      "Correlation = 0.67599\n",
      "PCA Correlation = 0.96412\n",
      "model saved : ./multi_model_saves/model_late_kmeans_0_13176_1\n",
      "25/25 [==============================] - 0s 2ms/step\n",
      "\n",
      " --------- FOLD 2 -----------\n",
      "Mean squared error = 12.220000267028809\n",
      "Correlation = 0.67561\n",
      "PCA Correlation = 0.96391\n",
      "model saved : ./multi_model_saves/model_late_kmeans_0_13176_2\n",
      "\u001b[32m\u001b[1mMean corr = 0.67634\u001b[0m\n",
      "53/53 [==============================] - 0s 2ms/step\n",
      "\n",
      " --------- FOLD 0 -----------\n",
      "Mean squared error = 8.720000267028809\n",
      "Correlation = 0.62597\n",
      "PCA Correlation = 0.96986\n",
      "model saved : ./multi_model_saves/model_late_kmeans_1_13176_0\n",
      "53/53 [==============================] - 0s 2ms/step\n",
      "\n",
      " --------- FOLD 1 -----------\n",
      "Mean squared error = 8.710000038146973\n",
      "Correlation = 0.62560\n",
      "PCA Correlation = 0.97002\n",
      "model saved : ./multi_model_saves/model_late_kmeans_1_13176_1\n",
      "53/53 [==============================] - 0s 2ms/step\n",
      "\n",
      " --------- FOLD 2 -----------\n",
      "Mean squared error = 8.630000114440918\n",
      "Correlation = 0.62808\n",
      "PCA Correlation = 0.97027\n",
      "model saved : ./multi_model_saves/model_late_kmeans_1_13176_2\n",
      "\u001b[32m\u001b[1mMean corr = 0.62655\u001b[0m\n"
     ]
    }
   ],
   "source": [
    "for j in (0,1):\n",
    "    X = X_copy.copy()\n",
    "    X = X[late_7_selector][late_7_selector_13176]\n",
    "    targets = targets_copy.copy()\n",
    "    targets = targets[late_7_selector][late_7_selector_13176]\n",
    "    sel = late_7_meta_13176.loc[(late_7_meta_13176.k_means == j)].range.values\n",
    "    X = X[sel]\n",
    "    targets = targets[sel]\n",
    "    targets -= targets.mean(axis=1).reshape(-1, 1)\n",
    "    targets /= targets.std(axis=1).reshape(-1, 1)\n",
    "    targets = np.array(targets)\n",
    "    svd = TruncatedSVD(n_components = 512,random_state = 1)\n",
    "    Y = svd.fit_transform(targets)[:,:64]\n",
    "    evaluate(f\"late_kmeans_{j}\",'multi',j='13176',save=True)\n",
    "    np.save(f'./multi_model_saves/model_late_kmeans_{j}_13176_svds',svd.components_[:64])"
   ]
  },
  {
   "cell_type": "code",
   "execution_count": 20,
   "id": "da2ece70-8821-4f27-97b6-75571af326b8",
   "metadata": {
    "execution": {
     "iopub.execute_input": "2022-11-14T20:15:09.700197Z",
     "iopub.status.busy": "2022-11-14T20:15:09.699783Z",
     "iopub.status.idle": "2022-11-14T20:15:09.705608Z",
     "shell.execute_reply": "2022-11-14T20:15:09.705032Z",
     "shell.execute_reply.started": "2022-11-14T20:15:09.700172Z"
    },
    "tags": []
   },
   "outputs": [
    {
     "name": "stderr",
     "output_type": "stream",
     "text": [
      "/home/jovyan/.local/lib/python3.9/site-packages/pandas/core/generic.py:5516: SettingWithCopyWarning: \n",
      "A value is trying to be set on a copy of a slice from a DataFrame.\n",
      "Try using .loc[row_indexer,col_indexer] = value instead\n",
      "\n",
      "See the caveats in the documentation: https://pandas.pydata.org/pandas-docs/stable/user_guide/indexing.html#returning-a-view-versus-a-copy\n",
      "  self[name] = value\n"
     ]
    }
   ],
   "source": [
    "late_7_meta_31800 = late_7_meta.loc[late_7_meta.donor == 31800]\n",
    "late_7_selector_31800 = late_7_meta_31800.range.values.copy()\n",
    "late_7_meta_31800.range = range(len(late_7_meta_31800))"
   ]
  },
  {
   "cell_type": "code",
   "execution_count": 21,
   "id": "8229b75b-5f11-47e7-9673-6981800c6bf5",
   "metadata": {
    "execution": {
     "iopub.execute_input": "2022-11-14T20:15:15.166834Z",
     "iopub.status.busy": "2022-11-14T20:15:15.166444Z",
     "iopub.status.idle": "2022-11-14T20:17:24.515931Z",
     "shell.execute_reply": "2022-11-14T20:17:24.515305Z",
     "shell.execute_reply.started": "2022-11-14T20:15:15.166813Z"
    },
    "tags": []
   },
   "outputs": [
    {
     "name": "stdout",
     "output_type": "stream",
     "text": [
      "23/23 [==============================] - 0s 2ms/step\n",
      "\n",
      " --------- FOLD 0 -----------\n",
      "Mean squared error = 13.470000267028809\n",
      "Correlation = 0.65329\n",
      "PCA Correlation = 0.95800\n",
      "model saved : ./multi_model_saves/model_late_kmeans_0_31800_0\n",
      "23/23 [==============================] - 0s 2ms/step\n",
      "\n",
      " --------- FOLD 1 -----------\n",
      "Mean squared error = 12.949999809265137\n",
      "Correlation = 0.65838\n",
      "PCA Correlation = 0.96007\n",
      "model saved : ./multi_model_saves/model_late_kmeans_0_31800_1\n",
      "23/23 [==============================] - 0s 2ms/step\n",
      "\n",
      " --------- FOLD 2 -----------\n",
      "Mean squared error = 12.9399995803833\n",
      "Correlation = 0.65694\n",
      "PCA Correlation = 0.95978\n",
      "model saved : ./multi_model_saves/model_late_kmeans_0_31800_2\n",
      "\u001b[32m\u001b[1mMean corr = 0.65620\u001b[0m\n",
      "57/57 [==============================] - 0s 2ms/step\n",
      "\n",
      " --------- FOLD 0 -----------\n",
      "Mean squared error = 8.619999885559082\n",
      "Correlation = 0.61406\n",
      "PCA Correlation = 0.96912\n",
      "model saved : ./multi_model_saves/model_late_kmeans_1_31800_0\n",
      "57/57 [==============================] - 0s 1ms/step\n",
      "\n",
      " --------- FOLD 1 -----------\n",
      "Mean squared error = 8.680000305175781\n",
      "Correlation = 0.61457\n",
      "PCA Correlation = 0.96902\n",
      "model saved : ./multi_model_saves/model_late_kmeans_1_31800_1\n",
      "57/57 [==============================] - 0s 2ms/step\n",
      "\n",
      " --------- FOLD 2 -----------\n",
      "Mean squared error = 8.65999984741211\n",
      "Correlation = 0.61388\n",
      "PCA Correlation = 0.96903\n",
      "model saved : ./multi_model_saves/model_late_kmeans_1_31800_2\n",
      "\u001b[32m\u001b[1mMean corr = 0.61417\u001b[0m\n"
     ]
    }
   ],
   "source": [
    "for j in (0,1):\n",
    "    X = X_copy.copy()\n",
    "    X = X[late_7_selector][late_7_selector_31800]\n",
    "    targets = targets_copy.copy()\n",
    "    targets = targets[late_7_selector][late_7_selector_31800]\n",
    "    sel = late_7_meta_31800.loc[(late_7_meta_31800.k_means == j)].range.values\n",
    "    X = X[sel]\n",
    "    targets = targets[sel]\n",
    "    targets -= targets.mean(axis=1).reshape(-1, 1)\n",
    "    targets /= targets.std(axis=1).reshape(-1, 1)\n",
    "    targets = np.array(targets)\n",
    "    svd = TruncatedSVD(n_components = 512,random_state = 1)\n",
    "    Y = svd.fit_transform(targets)[:,:64]\n",
    "    evaluate(f\"late_kmeans_{j}\",'multi',j='31800',save=True)\n",
    "    np.save(f'./multi_model_saves/model_late_kmeans_{j}_31800_svds',svd.components_[:64])"
   ]
  },
  {
   "cell_type": "code",
   "execution_count": 22,
   "id": "3412d7c8-d19f-472e-82b3-223d2368aa2b",
   "metadata": {
    "execution": {
     "iopub.execute_input": "2022-11-14T20:18:53.108514Z",
     "iopub.status.busy": "2022-11-14T20:18:53.108135Z",
     "iopub.status.idle": "2022-11-14T20:18:53.114965Z",
     "shell.execute_reply": "2022-11-14T20:18:53.114353Z",
     "shell.execute_reply.started": "2022-11-14T20:18:53.108492Z"
    },
    "tags": []
   },
   "outputs": [
    {
     "name": "stderr",
     "output_type": "stream",
     "text": [
      "/home/jovyan/.local/lib/python3.9/site-packages/pandas/core/generic.py:5516: SettingWithCopyWarning: \n",
      "A value is trying to be set on a copy of a slice from a DataFrame.\n",
      "Try using .loc[row_indexer,col_indexer] = value instead\n",
      "\n",
      "See the caveats in the documentation: https://pandas.pydata.org/pandas-docs/stable/user_guide/indexing.html#returning-a-view-versus-a-copy\n",
      "  self[name] = value\n"
     ]
    }
   ],
   "source": [
    "late_7_meta_two_donors = late_7_meta.loc[(late_7_meta.donor == 31800)|(late_7_meta.donor == 13176)]\n",
    "late_7_selector_two_donors = late_7_meta_two_donors.range.values.copy()\n",
    "late_7_meta_two_donors.range = range(len(late_7_meta_two_donors))"
   ]
  },
  {
   "cell_type": "code",
   "execution_count": 23,
   "id": "003c498c-9c79-4441-a600-6faed591799d",
   "metadata": {
    "execution": {
     "iopub.execute_input": "2022-11-14T20:18:55.520026Z",
     "iopub.status.busy": "2022-11-14T20:18:55.519635Z",
     "iopub.status.idle": "2022-11-14T20:22:46.033716Z",
     "shell.execute_reply": "2022-11-14T20:22:46.033070Z",
     "shell.execute_reply.started": "2022-11-14T20:18:55.520003Z"
    },
    "tags": []
   },
   "outputs": [
    {
     "name": "stdout",
     "output_type": "stream",
     "text": [
      "48/48 [==============================] - 0s 2ms/step\n",
      "\n",
      " --------- FOLD 0 -----------\n",
      "Mean squared error = 8.680000305175781\n",
      "Correlation = 0.67622\n",
      "PCA Correlation = 0.97456\n",
      "model saved : ./multi_model_saves/model_late_kmeans_0_31800_13176_0\n",
      "48/48 [==============================] - 0s 2ms/step\n",
      "\n",
      " --------- FOLD 1 -----------\n",
      "Mean squared error = 8.930000305175781\n",
      "Correlation = 0.66540\n",
      "PCA Correlation = 0.97274\n",
      "model saved : ./multi_model_saves/model_late_kmeans_0_31800_13176_1\n",
      "48/48 [==============================] - 0s 2ms/step\n",
      "\n",
      " --------- FOLD 2 -----------\n",
      "Mean squared error = 9.359999656677246\n",
      "Correlation = 0.65722\n",
      "PCA Correlation = 0.97095\n",
      "model saved : ./multi_model_saves/model_late_kmeans_0_31800_13176_2\n",
      "\u001b[32m\u001b[1mMean corr = 0.66628\u001b[0m\n",
      "110/110 [==============================] - 0s 2ms/step\n",
      "\n",
      " --------- FOLD 0 -----------\n",
      "Mean squared error = 6.699999809265137\n",
      "Correlation = 0.62521\n",
      "PCA Correlation = 0.97700\n",
      "model saved : ./multi_model_saves/model_late_kmeans_1_31800_13176_0\n",
      "110/110 [==============================] - 0s 2ms/step\n",
      "\n",
      " --------- FOLD 1 -----------\n",
      "Mean squared error = 6.699999809265137\n",
      "Correlation = 0.61987\n",
      "PCA Correlation = 0.97653\n",
      "model saved : ./multi_model_saves/model_late_kmeans_1_31800_13176_1\n",
      "110/110 [==============================] - 0s 1ms/step\n",
      "\n",
      " --------- FOLD 2 -----------\n",
      "Mean squared error = 7.03000020980835\n",
      "Correlation = 0.61359\n",
      "PCA Correlation = 0.97507\n",
      "model saved : ./multi_model_saves/model_late_kmeans_1_31800_13176_2\n",
      "\u001b[32m\u001b[1mMean corr = 0.61956\u001b[0m\n"
     ]
    }
   ],
   "source": [
    "for j in (0,1):\n",
    "    X = X_copy.copy()\n",
    "    X = X[late_7_selector][late_7_selector_two_donors]\n",
    "    targets = targets_copy.copy()\n",
    "    targets = targets[late_7_selector][late_7_selector_two_donors]\n",
    "    sel = late_7_meta_two_donors.loc[(late_7_meta_two_donors.k_means == j)].range.values\n",
    "    X = X[sel]\n",
    "    targets = targets[sel]\n",
    "    targets -= targets.mean(axis=1).reshape(-1, 1)\n",
    "    targets /= targets.std(axis=1).reshape(-1, 1)\n",
    "    targets = np.array(targets)\n",
    "    svd = TruncatedSVD(n_components = 512,random_state = 1)\n",
    "    Y = svd.fit_transform(targets)[:,:64]\n",
    "    evaluate(f\"late_kmeans_{j}\",'multi',j='31800_13176',save=True)\n",
    "    np.save(f'./multi_model_saves/model_late_kmeans_{j}_31800_13176_svds',svd.components_[:64])"
   ]
  },
  {
   "cell_type": "code",
   "execution_count": 36,
   "id": "fb2e5fbc-597c-414d-a9f4-210a32788527",
   "metadata": {
    "execution": {
     "iopub.execute_input": "2022-11-14T20:30:57.571512Z",
     "iopub.status.busy": "2022-11-14T20:30:57.571140Z",
     "iopub.status.idle": "2022-11-14T20:30:57.578600Z",
     "shell.execute_reply": "2022-11-14T20:30:57.578037Z",
     "shell.execute_reply.started": "2022-11-14T20:30:57.571486Z"
    },
    "tags": []
   },
   "outputs": [],
   "source": [
    "selector_day7_32606 = {}\n",
    "selector_day7_32606[0] = late_meta.loc[(late_meta.day == 7)&(late_meta.donor == 32606)&(late_meta.k_means == 0)].range.values\n",
    "selector_day7_32606[1] = late_meta.loc[(late_meta.day == 7)&(late_meta.donor == 32606)&(late_meta.k_means == 1)].range.values"
   ]
  },
  {
   "cell_type": "code",
   "execution_count": 42,
   "id": "341bd0c8-12c1-46c2-af50-d39ff77f707c",
   "metadata": {
    "execution": {
     "iopub.execute_input": "2022-11-14T20:33:15.265286Z",
     "iopub.status.busy": "2022-11-14T20:33:15.264931Z",
     "iopub.status.idle": "2022-11-14T20:33:23.390376Z",
     "shell.execute_reply": "2022-11-14T20:33:23.389739Z",
     "shell.execute_reply.started": "2022-11-14T20:33:15.265265Z"
    },
    "tags": []
   },
   "outputs": [],
   "source": [
    "targets_copy = targets_copy.toarray()"
   ]
  },
  {
   "cell_type": "code",
   "execution_count": 43,
   "id": "93c60aa7-2dc6-4c0f-bff3-e20e12bc5b6f",
   "metadata": {
    "execution": {
     "iopub.execute_input": "2022-11-14T20:33:26.107363Z",
     "iopub.status.busy": "2022-11-14T20:33:26.106992Z",
     "iopub.status.idle": "2022-11-14T20:33:40.803468Z",
     "shell.execute_reply": "2022-11-14T20:33:40.802853Z",
     "shell.execute_reply.started": "2022-11-14T20:33:26.107341Z"
    },
    "tags": []
   },
   "outputs": [
    {
     "name": "stdout",
     "output_type": "stream",
     "text": [
      "52/52 [==============================] - 0s 2ms/step\n",
      "52/52 [==============================] - 0s 2ms/step\n",
      "52/52 [==============================] - 0s 2ms/step\n",
      "k = 0, corr = 0.6486547459896794\n",
      "167/167 [==============================] - 0s 2ms/step\n",
      "167/167 [==============================] - 0s 2ms/step\n",
      "167/167 [==============================] - 0s 2ms/step\n",
      "k = 1, corr = 0.6061560536236457\n"
     ]
    }
   ],
   "source": [
    "for k in (0,1):\n",
    "    svds = np.load(f\"./multi_model_saves/model_late_kmeans_{k}_31800_13176_svds.npy\")\n",
    "    corr = 0\n",
    "    for fold in range(3):\n",
    "        model = load_model(f\"./multi_model_saves/model_late_kmeans_{k}_31800_13176_{fold}\")\n",
    "        corr += correlation_score(targets_copy[late_7_selector][selector_day7_32606[k]],model.predict(X_copy[late_7_selector][selector_day7_32606[k]])@svds)/3\n",
    "    print(f'k = {k}, corr = {corr}')"
   ]
  },
  {
   "cell_type": "code",
   "execution_count": 44,
   "id": "ffd4ec91-0e75-4686-a016-4196a5831d41",
   "metadata": {
    "execution": {
     "iopub.execute_input": "2022-11-14T20:34:12.561774Z",
     "iopub.status.busy": "2022-11-14T20:34:12.561280Z",
     "iopub.status.idle": "2022-11-14T20:34:27.589168Z",
     "shell.execute_reply": "2022-11-14T20:34:27.588543Z",
     "shell.execute_reply.started": "2022-11-14T20:34:12.561740Z"
    }
   },
   "outputs": [
    {
     "name": "stdout",
     "output_type": "stream",
     "text": [
      "52/52 [==============================] - 0s 2ms/step\n",
      "52/52 [==============================] - 0s 2ms/step\n",
      "52/52 [==============================] - 0s 2ms/step\n",
      "k = 0, corr = 0.6478469443648109\n",
      "167/167 [==============================] - 0s 2ms/step\n",
      "167/167 [==============================] - 0s 2ms/step\n",
      "167/167 [==============================] - 0s 2ms/step\n",
      "k = 1, corr = 0.6057645184604362\n"
     ]
    }
   ],
   "source": [
    "for k in (0,1):\n",
    "    svds = np.load(f\"./multi_model_saves/model_late_kmeans_{k}_13176_svds.npy\")\n",
    "    corr = 0\n",
    "    for fold in range(3):\n",
    "        model = load_model(f\"./multi_model_saves/model_late_kmeans_{k}_13176_{fold}\")\n",
    "        corr += correlation_score(targets_copy[late_7_selector][selector_day7_32606[k]],model.predict(X_copy[late_7_selector][selector_day7_32606[k]])@svds)/3\n",
    "    print(f'k = {k}, corr = {corr}')"
   ]
  },
  {
   "cell_type": "markdown",
   "id": "312db602-4b8d-4acc-ba3d-da79267d0751",
   "metadata": {},
   "source": [
    "Binarize again"
   ]
  },
  {
   "cell_type": "code",
   "execution_count": 5,
   "id": "968da721-acb3-4bfc-ba9d-099dd13ca011",
   "metadata": {
    "execution": {
     "iopub.execute_input": "2022-11-15T15:25:17.466265Z",
     "iopub.status.busy": "2022-11-15T15:25:17.465897Z",
     "iopub.status.idle": "2022-11-15T15:26:06.112669Z",
     "shell.execute_reply": "2022-11-15T15:26:06.112066Z",
     "shell.execute_reply.started": "2022-11-15T15:25:17.466242Z"
    }
   },
   "outputs": [],
   "source": [
    "targets_copy = scipy.sparse.load_npz(\"./sparse/train_multi_targets_values.sparse.npz\")\n",
    "targets_copy = scprep.filter.remove_empty_genes(targets_copy)\n",
    "multi_train_x = scipy.sparse.load_npz(\"./sparse/train_multi_inputs_values.sparse.npz\")"
   ]
  },
  {
   "cell_type": "code",
   "execution_count": 6,
   "id": "2236bdef-0835-47c0-bb50-5b04ac37df82",
   "metadata": {
    "execution": {
     "iopub.execute_input": "2022-11-15T15:27:40.631710Z",
     "iopub.status.busy": "2022-11-15T15:27:40.631321Z",
     "iopub.status.idle": "2022-11-15T15:27:48.941827Z",
     "shell.execute_reply": "2022-11-15T15:27:48.941217Z",
     "shell.execute_reply.started": "2022-11-15T15:27:40.631687Z"
    }
   },
   "outputs": [],
   "source": [
    "multi_train_x = multi_train_x / multi_train_x.max()\n",
    "multi_train_x = multi_train_x.ceil()"
   ]
  },
  {
   "cell_type": "code",
   "execution_count": 7,
   "id": "29124df9-8854-467d-89b8-5e47d6898d7e",
   "metadata": {
    "execution": {
     "iopub.execute_input": "2022-11-15T15:28:58.210984Z",
     "iopub.status.busy": "2022-11-15T15:28:58.210611Z",
     "iopub.status.idle": "2022-11-15T15:51:25.259902Z",
     "shell.execute_reply": "2022-11-15T15:51:25.259287Z",
     "shell.execute_reply.started": "2022-11-15T15:28:58.210962Z"
    },
    "tags": []
   },
   "outputs": [
    {
     "name": "stdout",
     "output_type": "stream",
     "text": [
      "0.0634712949994549\n"
     ]
    }
   ],
   "source": [
    "svd1 = TruncatedSVD(n_components=128, random_state=42)\n",
    "multi_train_x = svd1.fit_transform(multi_train_x)\n",
    "print(svd1.explained_variance_ratio_.sum())"
   ]
  },
  {
   "cell_type": "code",
   "execution_count": 8,
   "id": "81de995a-4af6-4a88-93cb-88fa789b2b23",
   "metadata": {
    "execution": {
     "iopub.execute_input": "2022-11-15T15:52:28.088711Z",
     "iopub.status.busy": "2022-11-15T15:52:28.088337Z",
     "iopub.status.idle": "2022-11-15T15:52:28.894727Z",
     "shell.execute_reply": "2022-11-15T15:52:28.893935Z",
     "shell.execute_reply.started": "2022-11-15T15:52:28.088688Z"
    }
   },
   "outputs": [],
   "source": [
    "%mkdir binarized_pca"
   ]
  },
  {
   "cell_type": "code",
   "execution_count": 9,
   "id": "8e56e20b-5232-4246-8fb1-2c8b94e00d1f",
   "metadata": {
    "execution": {
     "iopub.execute_input": "2022-11-15T15:52:56.762212Z",
     "iopub.status.busy": "2022-11-15T15:52:56.761765Z",
     "iopub.status.idle": "2022-11-15T15:52:56.825504Z",
     "shell.execute_reply": "2022-11-15T15:52:56.824914Z",
     "shell.execute_reply.started": "2022-11-15T15:52:56.762187Z"
    }
   },
   "outputs": [],
   "source": [
    "np.save('./binarized_pca/multi_pca_128.npy',multi_train_x)"
   ]
  },
  {
   "cell_type": "code",
   "execution_count": 12,
   "id": "eee82d53-578d-47d3-92dc-21d26d076369",
   "metadata": {
    "execution": {
     "iopub.execute_input": "2022-11-15T15:53:38.725022Z",
     "iopub.status.busy": "2022-11-15T15:53:38.724657Z",
     "iopub.status.idle": "2022-11-15T15:53:39.066200Z",
     "shell.execute_reply": "2022-11-15T15:53:39.065589Z",
     "shell.execute_reply.started": "2022-11-15T15:53:38.724999Z"
    }
   },
   "outputs": [],
   "source": [
    "import warnings\n",
    "warnings.filterwarnings(\"ignore\")\n",
    "\n",
    "with np.load('./sparse/train_multi_inputs_idxcol.npz',allow_pickle=True) as data:\n",
    "    cell_index = data['index']\n",
    "with np.load('./sparse/test_multi_inputs_idxcol.npz',allow_pickle=True) as data:\n",
    "    cell_index_t = data['index']\n",
    "metadata_df = pd.read_csv('../input/open-problems-multimodal/metadata.csv', index_col='cell_id')\n",
    "metadata_df = metadata_df[metadata_df.technology==\"multiome\"]\n",
    "meta = metadata_df.reindex(cell_index)\n",
    "meta['range'] = range(len(meta))\n",
    "selector = {}\n",
    "for i in (2,3,4,7):\n",
    "    selector[i] = meta.loc[(meta.day == i)].range.values"
   ]
  },
  {
   "cell_type": "code",
   "execution_count": 13,
   "id": "69454c04-f12d-4128-b551-54cd4a56611a",
   "metadata": {
    "execution": {
     "iopub.execute_input": "2022-11-15T15:53:53.814584Z",
     "iopub.status.busy": "2022-11-15T15:53:53.814204Z",
     "iopub.status.idle": "2022-11-15T15:59:41.070887Z",
     "shell.execute_reply": "2022-11-15T15:59:41.069965Z",
     "shell.execute_reply.started": "2022-11-15T15:53:53.814561Z"
    },
    "tags": []
   },
   "outputs": [
    {
     "name": "stderr",
     "output_type": "stream",
     "text": [
      "2022-11-15 15:54:27.678115: I tensorflow/stream_executor/cuda/cuda_gpu_executor.cc:980] successful NUMA node read from SysFS had negative value (-1), but there must be at least one NUMA node, so returning NUMA node zero\n",
      "2022-11-15 15:54:27.685402: W tensorflow/stream_executor/platform/default/dso_loader.cc:64] Could not load dynamic library 'libcudnn.so.8'; dlerror: libcudnn.so.8: cannot open shared object file: No such file or directory; LD_LIBRARY_PATH: /usr/local/nvidia/lib:/usr/local/nvidia/lib64\n",
      "2022-11-15 15:54:27.685425: W tensorflow/core/common_runtime/gpu/gpu_device.cc:1934] Cannot dlopen some GPU libraries. Please make sure the missing libraries mentioned above are installed properly if you would like to use GPU. Follow the guide at https://www.tensorflow.org/install/gpu for how to download and setup the required libraries for your platform.\n",
      "Skipping registering GPU devices...\n",
      "2022-11-15 15:54:27.685791: I tensorflow/core/platform/cpu_feature_guard.cc:193] This TensorFlow binary is optimized with oneAPI Deep Neural Network Library (oneDNN) to use the following CPU instructions in performance-critical operations:  AVX2 AVX512F AVX512_VNNI FMA\n",
      "To enable them in other operations, rebuild TensorFlow with the appropriate compiler flags.\n"
     ]
    },
    {
     "name": "stdout",
     "output_type": "stream",
     "text": [
      "250/250 [==============================] - 0s 1ms/step\n",
      "\n",
      " --------- FOLD 0 -----------\n",
      "Mean squared error = 5.739999771118164\n",
      "Correlation = 0.68663\n",
      "PCA Correlation = 0.98377\n",
      "model saved : ./multi_model_saves/model_2_0_0\n",
      "250/250 [==============================] - 0s 2ms/step\n",
      "\n",
      " --------- FOLD 1 -----------\n",
      "Mean squared error = 5.260000228881836\n",
      "Correlation = 0.67845\n",
      "PCA Correlation = 0.98483\n",
      "model saved : ./multi_model_saves/model_2_0_1\n",
      "250/250 [==============================] - 0s 1ms/step\n",
      "\n",
      " --------- FOLD 2 -----------\n",
      "Mean squared error = 5.929999828338623\n",
      "Correlation = 0.68166\n",
      "PCA Correlation = 0.98309\n",
      "model saved : ./multi_model_saves/model_2_0_2\n",
      "\u001b[32m\u001b[1mMean corr = 0.68225\u001b[0m\n"
     ]
    },
    {
     "ename": "KeyboardInterrupt",
     "evalue": "",
     "output_type": "error",
     "traceback": [
      "\u001b[0;31m---------------------------------------------------------------------------\u001b[0m",
      "\u001b[0;31mKeyboardInterrupt\u001b[0m                         Traceback (most recent call last)",
      "Input \u001b[0;32mIn [13]\u001b[0m, in \u001b[0;36m<cell line: 4>\u001b[0;34m()\u001b[0m\n\u001b[1;32m     14\u001b[0m Y \u001b[38;5;241m=\u001b[39m svd\u001b[38;5;241m.\u001b[39mfit_transform(targets)[:,:\u001b[38;5;241m64\u001b[39m]\n\u001b[1;32m     15\u001b[0m X \u001b[38;5;241m=\u001b[39m X_copy[selector[i]]\n\u001b[0;32m---> 16\u001b[0m \u001b[43mevaluate\u001b[49m\u001b[43m(\u001b[49m\u001b[43mi\u001b[49m\u001b[43m,\u001b[49m\u001b[38;5;124;43m'\u001b[39;49m\u001b[38;5;124;43mmulti\u001b[39;49m\u001b[38;5;124;43m'\u001b[39;49m\u001b[43m,\u001b[49m\u001b[43msave\u001b[49m\u001b[38;5;241;43m=\u001b[39;49m\u001b[38;5;28;43;01mTrue\u001b[39;49;00m\u001b[43m)\u001b[49m\n",
      "Input \u001b[0;32mIn [2]\u001b[0m, in \u001b[0;36mevaluate\u001b[0;34m(i, kind, save, j, loss)\u001b[0m\n\u001b[1;32m     52\u001b[0m     chk \u001b[38;5;241m=\u001b[39m tf\u001b[38;5;241m.\u001b[39mkeras\u001b[38;5;241m.\u001b[39mcallbacks\u001b[38;5;241m.\u001b[39mModelCheckpoint(\n\u001b[1;32m     53\u001b[0m             filepath \u001b[38;5;241m=\u001b[39m \u001b[38;5;124m'\u001b[39m\u001b[38;5;124m./multi\u001b[39m\u001b[38;5;124m'\u001b[39m,\n\u001b[1;32m     54\u001b[0m             save_weights_only \u001b[38;5;241m=\u001b[39m \u001b[38;5;28;01mTrue\u001b[39;00m,\n\u001b[1;32m     55\u001b[0m             monitor \u001b[38;5;241m=\u001b[39m \u001b[38;5;124m'\u001b[39m\u001b[38;5;124mval_loss\u001b[39m\u001b[38;5;124m'\u001b[39m,\n\u001b[1;32m     56\u001b[0m             mode \u001b[38;5;241m=\u001b[39m \u001b[38;5;124m'\u001b[39m\u001b[38;5;124mmin\u001b[39m\u001b[38;5;124m'\u001b[39m,\n\u001b[1;32m     57\u001b[0m             save_best_only \u001b[38;5;241m=\u001b[39m \u001b[38;5;28;01mTrue\u001b[39;00m)\n\u001b[1;32m     59\u001b[0m model\u001b[38;5;241m.\u001b[39mcompile(optimizer\u001b[38;5;241m=\u001b[39mtf\u001b[38;5;241m.\u001b[39mkeras\u001b[38;5;241m.\u001b[39moptimizers\u001b[38;5;241m.\u001b[39mAdam(learning_rate\u001b[38;5;241m=\u001b[39m\u001b[38;5;241m1e-3\u001b[39m),\n\u001b[1;32m     60\u001b[0m               loss \u001b[38;5;241m=\u001b[39m loss,\n\u001b[1;32m     61\u001b[0m               metrics \u001b[38;5;241m=\u001b[39m loss)\n\u001b[0;32m---> 63\u001b[0m \u001b[43mmodel\u001b[49m\u001b[38;5;241;43m.\u001b[39;49m\u001b[43mfit\u001b[49m\u001b[43m(\u001b[49m\u001b[43mX_tr\u001b[49m\u001b[43m,\u001b[49m\n\u001b[1;32m     64\u001b[0m \u001b[43m          \u001b[49m\u001b[43my_tr\u001b[49m\u001b[43m,\u001b[49m\n\u001b[1;32m     65\u001b[0m \u001b[43m          \u001b[49m\u001b[43mvalidation_data\u001b[49m\u001b[38;5;241;43m=\u001b[39;49m\u001b[43m(\u001b[49m\u001b[43mX_va\u001b[49m\u001b[43m,\u001b[49m\u001b[43my_va\u001b[49m\u001b[43m)\u001b[49m\u001b[43m,\u001b[49m\n\u001b[1;32m     66\u001b[0m \u001b[43m          \u001b[49m\u001b[43mepochs\u001b[49m\u001b[43m \u001b[49m\u001b[38;5;241;43m=\u001b[39;49m\u001b[38;5;241;43m500\u001b[39;49m\u001b[43m,\u001b[49m\n\u001b[1;32m     67\u001b[0m \u001b[43m          \u001b[49m\u001b[43mverbose\u001b[49m\u001b[43m \u001b[49m\u001b[38;5;241;43m=\u001b[39;49m\u001b[43m \u001b[49m\u001b[43mVERBOSE\u001b[49m\u001b[43m,\u001b[49m\n\u001b[1;32m     68\u001b[0m \u001b[43m          \u001b[49m\u001b[43mbatch_size\u001b[49m\u001b[38;5;241;43m=\u001b[39;49m\u001b[38;5;241;43m256\u001b[39;49m\u001b[43m,\u001b[49m\n\u001b[1;32m     69\u001b[0m \u001b[43m          \u001b[49m\u001b[43mcallbacks\u001b[49m\u001b[43m \u001b[49m\u001b[38;5;241;43m=\u001b[39;49m\u001b[43m \u001b[49m\u001b[43m[\u001b[49m\u001b[43mes\u001b[49m\u001b[43m,\u001b[49m\u001b[43mlr\u001b[49m\u001b[43m,\u001b[49m\u001b[43mchk\u001b[49m\u001b[43m]\u001b[49m\n\u001b[1;32m     70\u001b[0m \u001b[43m         \u001b[49m\u001b[43m)\u001b[49m\n\u001b[1;32m     71\u001b[0m y_va_pred \u001b[38;5;241m=\u001b[39m model\u001b[38;5;241m.\u001b[39mpredict(X_va)\n\u001b[1;32m     72\u001b[0m Y_pred[idx_va] \u001b[38;5;241m=\u001b[39m y_va_pred\n",
      "File \u001b[0;32m/srv/conda/envs/saturn/lib/python3.9/site-packages/keras/utils/traceback_utils.py:65\u001b[0m, in \u001b[0;36mfilter_traceback.<locals>.error_handler\u001b[0;34m(*args, **kwargs)\u001b[0m\n\u001b[1;32m     63\u001b[0m filtered_tb \u001b[38;5;241m=\u001b[39m \u001b[38;5;28;01mNone\u001b[39;00m\n\u001b[1;32m     64\u001b[0m \u001b[38;5;28;01mtry\u001b[39;00m:\n\u001b[0;32m---> 65\u001b[0m     \u001b[38;5;28;01mreturn\u001b[39;00m \u001b[43mfn\u001b[49m\u001b[43m(\u001b[49m\u001b[38;5;241;43m*\u001b[39;49m\u001b[43margs\u001b[49m\u001b[43m,\u001b[49m\u001b[43m \u001b[49m\u001b[38;5;241;43m*\u001b[39;49m\u001b[38;5;241;43m*\u001b[39;49m\u001b[43mkwargs\u001b[49m\u001b[43m)\u001b[49m\n\u001b[1;32m     66\u001b[0m \u001b[38;5;28;01mexcept\u001b[39;00m \u001b[38;5;167;01mException\u001b[39;00m \u001b[38;5;28;01mas\u001b[39;00m e:\n\u001b[1;32m     67\u001b[0m     filtered_tb \u001b[38;5;241m=\u001b[39m _process_traceback_frames(e\u001b[38;5;241m.\u001b[39m__traceback__)\n",
      "File \u001b[0;32m/srv/conda/envs/saturn/lib/python3.9/site-packages/keras/engine/training.py:1555\u001b[0m, in \u001b[0;36mModel.fit\u001b[0;34m(self, x, y, batch_size, epochs, verbose, callbacks, validation_split, validation_data, shuffle, class_weight, sample_weight, initial_epoch, steps_per_epoch, validation_steps, validation_batch_size, validation_freq, max_queue_size, workers, use_multiprocessing)\u001b[0m\n\u001b[1;32m   1551\u001b[0m \u001b[38;5;28;01mwith\u001b[39;00m data_handler\u001b[38;5;241m.\u001b[39mcatch_stop_iteration():\n\u001b[1;32m   1552\u001b[0m     data_handler\u001b[38;5;241m.\u001b[39m_initial_step \u001b[38;5;241m=\u001b[39m data_handler\u001b[38;5;241m.\u001b[39m_initial_step \u001b[38;5;129;01mor\u001b[39;00m (\n\u001b[1;32m   1553\u001b[0m         \u001b[38;5;28mself\u001b[39m\u001b[38;5;241m.\u001b[39m_maybe_load_initial_step_from_ckpt()\n\u001b[1;32m   1554\u001b[0m     )\n\u001b[0;32m-> 1555\u001b[0m     \u001b[38;5;28;01mfor\u001b[39;00m step \u001b[38;5;129;01min\u001b[39;00m data_handler\u001b[38;5;241m.\u001b[39msteps():\n\u001b[1;32m   1556\u001b[0m         \u001b[38;5;28;01mwith\u001b[39;00m tf\u001b[38;5;241m.\u001b[39mprofiler\u001b[38;5;241m.\u001b[39mexperimental\u001b[38;5;241m.\u001b[39mTrace(\n\u001b[1;32m   1557\u001b[0m             \u001b[38;5;124m\"\u001b[39m\u001b[38;5;124mtrain\u001b[39m\u001b[38;5;124m\"\u001b[39m,\n\u001b[1;32m   1558\u001b[0m             epoch_num\u001b[38;5;241m=\u001b[39mepoch,\n\u001b[0;32m   (...)\u001b[0m\n\u001b[1;32m   1561\u001b[0m             _r\u001b[38;5;241m=\u001b[39m\u001b[38;5;241m1\u001b[39m,\n\u001b[1;32m   1562\u001b[0m         ):\n\u001b[1;32m   1563\u001b[0m             callbacks\u001b[38;5;241m.\u001b[39mon_train_batch_begin(step)\n",
      "File \u001b[0;32m/srv/conda/envs/saturn/lib/python3.9/site-packages/keras/engine/data_adapter.py:1374\u001b[0m, in \u001b[0;36mDataHandler.steps\u001b[0;34m(self)\u001b[0m\n\u001b[1;32m   1372\u001b[0m \u001b[38;5;28;01mif\u001b[39;00m \u001b[38;5;28mself\u001b[39m\u001b[38;5;241m.\u001b[39m_insufficient_data:  \u001b[38;5;66;03m# Set by `catch_stop_iteration`.\u001b[39;00m\n\u001b[1;32m   1373\u001b[0m     \u001b[38;5;28;01mbreak\u001b[39;00m\n\u001b[0;32m-> 1374\u001b[0m original_spe \u001b[38;5;241m=\u001b[39m \u001b[38;5;28;43mself\u001b[39;49m\u001b[38;5;241;43m.\u001b[39;49m\u001b[43m_steps_per_execution\u001b[49m\u001b[38;5;241;43m.\u001b[39;49m\u001b[43mnumpy\u001b[49m\u001b[43m(\u001b[49m\u001b[43m)\u001b[49m\u001b[38;5;241m.\u001b[39mitem()\n\u001b[1;32m   1375\u001b[0m can_run_full_execution \u001b[38;5;241m=\u001b[39m (\n\u001b[1;32m   1376\u001b[0m     original_spe \u001b[38;5;241m==\u001b[39m \u001b[38;5;241m1\u001b[39m\n\u001b[1;32m   1377\u001b[0m     \u001b[38;5;129;01mor\u001b[39;00m \u001b[38;5;28mself\u001b[39m\u001b[38;5;241m.\u001b[39m_inferred_steps \u001b[38;5;129;01mis\u001b[39;00m \u001b[38;5;28;01mNone\u001b[39;00m\n\u001b[1;32m   1378\u001b[0m     \u001b[38;5;129;01mor\u001b[39;00m \u001b[38;5;28mself\u001b[39m\u001b[38;5;241m.\u001b[39m_inferred_steps \u001b[38;5;241m-\u001b[39m \u001b[38;5;28mself\u001b[39m\u001b[38;5;241m.\u001b[39m_current_step \u001b[38;5;241m>\u001b[39m\u001b[38;5;241m=\u001b[39m original_spe\n\u001b[1;32m   1379\u001b[0m )\n\u001b[1;32m   1381\u001b[0m \u001b[38;5;28;01mif\u001b[39;00m can_run_full_execution:\n",
      "File \u001b[0;32m/srv/conda/envs/saturn/lib/python3.9/site-packages/tensorflow/python/ops/resource_variable_ops.py:637\u001b[0m, in \u001b[0;36mBaseResourceVariable.numpy\u001b[0;34m(self)\u001b[0m\n\u001b[1;32m    635\u001b[0m \u001b[38;5;28;01mdef\u001b[39;00m \u001b[38;5;21mnumpy\u001b[39m(\u001b[38;5;28mself\u001b[39m):\n\u001b[1;32m    636\u001b[0m   \u001b[38;5;28;01mif\u001b[39;00m context\u001b[38;5;241m.\u001b[39mexecuting_eagerly():\n\u001b[0;32m--> 637\u001b[0m     \u001b[38;5;28;01mreturn\u001b[39;00m \u001b[38;5;28;43mself\u001b[39;49m\u001b[38;5;241;43m.\u001b[39;49m\u001b[43mread_value\u001b[49m\u001b[43m(\u001b[49m\u001b[43m)\u001b[49m\u001b[38;5;241m.\u001b[39mnumpy()\n\u001b[1;32m    638\u001b[0m   \u001b[38;5;28;01mraise\u001b[39;00m \u001b[38;5;167;01mNotImplementedError\u001b[39;00m(\n\u001b[1;32m    639\u001b[0m       \u001b[38;5;124m\"\u001b[39m\u001b[38;5;124mnumpy() is only available when eager execution is enabled.\u001b[39m\u001b[38;5;124m\"\u001b[39m)\n",
      "File \u001b[0;32m/srv/conda/envs/saturn/lib/python3.9/site-packages/tensorflow/python/ops/resource_variable_ops.py:725\u001b[0m, in \u001b[0;36mBaseResourceVariable.read_value\u001b[0;34m(self)\u001b[0m\n\u001b[1;32m    716\u001b[0m \u001b[38;5;124;03m\"\"\"Constructs an op which reads the value of this variable.\u001b[39;00m\n\u001b[1;32m    717\u001b[0m \n\u001b[1;32m    718\u001b[0m \u001b[38;5;124;03mShould be used when there are multiple reads, or when it is desirable to\u001b[39;00m\n\u001b[0;32m   (...)\u001b[0m\n\u001b[1;32m    722\u001b[0m \u001b[38;5;124;03m  The value of the variable.\u001b[39;00m\n\u001b[1;32m    723\u001b[0m \u001b[38;5;124;03m\"\"\"\u001b[39;00m\n\u001b[1;32m    724\u001b[0m \u001b[38;5;28;01mwith\u001b[39;00m ops\u001b[38;5;241m.\u001b[39mname_scope(\u001b[38;5;124m\"\u001b[39m\u001b[38;5;124mRead\u001b[39m\u001b[38;5;124m\"\u001b[39m):\n\u001b[0;32m--> 725\u001b[0m   value \u001b[38;5;241m=\u001b[39m \u001b[38;5;28;43mself\u001b[39;49m\u001b[38;5;241;43m.\u001b[39;49m\u001b[43m_read_variable_op\u001b[49m\u001b[43m(\u001b[49m\u001b[43m)\u001b[49m\n\u001b[1;32m    726\u001b[0m \u001b[38;5;66;03m# Return an identity so it can get placed on whatever device the context\u001b[39;00m\n\u001b[1;32m    727\u001b[0m \u001b[38;5;66;03m# specifies instead of the device where the variable is.\u001b[39;00m\n\u001b[1;32m    728\u001b[0m \u001b[38;5;28;01mreturn\u001b[39;00m array_ops\u001b[38;5;241m.\u001b[39midentity(value)\n",
      "File \u001b[0;32m/srv/conda/envs/saturn/lib/python3.9/site-packages/tensorflow/python/ops/resource_variable_ops.py:704\u001b[0m, in \u001b[0;36mBaseResourceVariable._read_variable_op\u001b[0;34m(self, no_copy)\u001b[0m\n\u001b[1;32m    702\u001b[0m       result \u001b[38;5;241m=\u001b[39m read_and_set_handle(no_copy)\n\u001b[1;32m    703\u001b[0m \u001b[38;5;28;01melse\u001b[39;00m:\n\u001b[0;32m--> 704\u001b[0m   result \u001b[38;5;241m=\u001b[39m \u001b[43mread_and_set_handle\u001b[49m\u001b[43m(\u001b[49m\u001b[43mno_copy\u001b[49m\u001b[43m)\u001b[49m\n\u001b[1;32m    706\u001b[0m \u001b[38;5;28;01mif\u001b[39;00m \u001b[38;5;129;01mnot\u001b[39;00m context\u001b[38;5;241m.\u001b[39mexecuting_eagerly():\n\u001b[1;32m    707\u001b[0m   \u001b[38;5;66;03m# Note that if a control flow context is active the input of the read op\u001b[39;00m\n\u001b[1;32m    708\u001b[0m   \u001b[38;5;66;03m# might not actually be the handle. This line bypasses it.\u001b[39;00m\n\u001b[1;32m    709\u001b[0m   tape\u001b[38;5;241m.\u001b[39mrecord_operation(\n\u001b[1;32m    710\u001b[0m       \u001b[38;5;124m\"\u001b[39m\u001b[38;5;124mReadVariableOp\u001b[39m\u001b[38;5;124m\"\u001b[39m, [result], [\u001b[38;5;28mself\u001b[39m\u001b[38;5;241m.\u001b[39mhandle],\n\u001b[1;32m    711\u001b[0m       backward_function\u001b[38;5;241m=\u001b[39m\u001b[38;5;28;01mlambda\u001b[39;00m x: [x],\n\u001b[1;32m    712\u001b[0m       forward_function\u001b[38;5;241m=\u001b[39m\u001b[38;5;28;01mlambda\u001b[39;00m x: [x])\n",
      "File \u001b[0;32m/srv/conda/envs/saturn/lib/python3.9/site-packages/tensorflow/python/ops/resource_variable_ops.py:694\u001b[0m, in \u001b[0;36mBaseResourceVariable._read_variable_op.<locals>.read_and_set_handle\u001b[0;34m(no_copy)\u001b[0m\n\u001b[1;32m    692\u001b[0m \u001b[38;5;28;01mif\u001b[39;00m no_copy \u001b[38;5;129;01mand\u001b[39;00m forward_compat\u001b[38;5;241m.\u001b[39mforward_compatible(\u001b[38;5;241m2022\u001b[39m, \u001b[38;5;241m5\u001b[39m, \u001b[38;5;241m3\u001b[39m):\n\u001b[1;32m    693\u001b[0m   gen_resource_variable_ops\u001b[38;5;241m.\u001b[39mdisable_copy_on_read(\u001b[38;5;28mself\u001b[39m\u001b[38;5;241m.\u001b[39mhandle)\n\u001b[0;32m--> 694\u001b[0m result \u001b[38;5;241m=\u001b[39m \u001b[43mgen_resource_variable_ops\u001b[49m\u001b[38;5;241;43m.\u001b[39;49m\u001b[43mread_variable_op\u001b[49m\u001b[43m(\u001b[49m\n\u001b[1;32m    695\u001b[0m \u001b[43m    \u001b[49m\u001b[38;5;28;43mself\u001b[39;49m\u001b[38;5;241;43m.\u001b[39;49m\u001b[43mhandle\u001b[49m\u001b[43m,\u001b[49m\u001b[43m \u001b[49m\u001b[38;5;28;43mself\u001b[39;49m\u001b[38;5;241;43m.\u001b[39;49m\u001b[43m_dtype\u001b[49m\u001b[43m)\u001b[49m\n\u001b[1;32m    696\u001b[0m _maybe_set_handle_data(\u001b[38;5;28mself\u001b[39m\u001b[38;5;241m.\u001b[39m_dtype, \u001b[38;5;28mself\u001b[39m\u001b[38;5;241m.\u001b[39mhandle, result)\n\u001b[1;32m    697\u001b[0m \u001b[38;5;28;01mreturn\u001b[39;00m result\n",
      "File \u001b[0;32m/srv/conda/envs/saturn/lib/python3.9/site-packages/tensorflow/python/ops/gen_resource_variable_ops.py:525\u001b[0m, in \u001b[0;36mread_variable_op\u001b[0;34m(resource, dtype, name)\u001b[0m\n\u001b[1;32m    523\u001b[0m \u001b[38;5;28;01mif\u001b[39;00m tld\u001b[38;5;241m.\u001b[39mis_eager:\n\u001b[1;32m    524\u001b[0m   \u001b[38;5;28;01mtry\u001b[39;00m:\n\u001b[0;32m--> 525\u001b[0m     _result \u001b[38;5;241m=\u001b[39m \u001b[43mpywrap_tfe\u001b[49m\u001b[38;5;241;43m.\u001b[39;49m\u001b[43mTFE_Py_FastPathExecute\u001b[49m\u001b[43m(\u001b[49m\n\u001b[1;32m    526\u001b[0m \u001b[43m      \u001b[49m\u001b[43m_ctx\u001b[49m\u001b[43m,\u001b[49m\u001b[43m \u001b[49m\u001b[38;5;124;43m\"\u001b[39;49m\u001b[38;5;124;43mReadVariableOp\u001b[39;49m\u001b[38;5;124;43m\"\u001b[39;49m\u001b[43m,\u001b[49m\u001b[43m \u001b[49m\u001b[43mname\u001b[49m\u001b[43m,\u001b[49m\u001b[43m \u001b[49m\u001b[43mresource\u001b[49m\u001b[43m,\u001b[49m\u001b[43m \u001b[49m\u001b[38;5;124;43m\"\u001b[39;49m\u001b[38;5;124;43mdtype\u001b[39;49m\u001b[38;5;124;43m\"\u001b[39;49m\u001b[43m,\u001b[49m\u001b[43m \u001b[49m\u001b[43mdtype\u001b[49m\u001b[43m)\u001b[49m\n\u001b[1;32m    527\u001b[0m     \u001b[38;5;28;01mreturn\u001b[39;00m _result\n\u001b[1;32m    528\u001b[0m   \u001b[38;5;28;01mexcept\u001b[39;00m _core\u001b[38;5;241m.\u001b[39m_NotOkStatusException \u001b[38;5;28;01mas\u001b[39;00m e:\n",
      "\u001b[0;31mKeyboardInterrupt\u001b[0m: "
     ]
    }
   ],
   "source": [
    "targets_copy = scipy.sparse.load_npz(\"./sparse/train_multi_targets_values.sparse.npz\")\n",
    "targets_copy = scprep.filter.remove_empty_genes(targets_copy)\n",
    "X_copy = multi_train_x[:,:40]\n",
    "for i in selector.keys():\n",
    "    targets = targets_copy.copy()\n",
    "    X = X_copy.copy()\n",
    "    targets = targets[selector[i]]\n",
    "    # Normalize the targets row-wise: This doesn't change the correlations,\n",
    "    # and negative_correlation_loss depends on it\n",
    "    targets -= targets.mean(axis=1).reshape(-1, 1)\n",
    "    targets /= targets.std(axis=1).reshape(-1, 1)\n",
    "    targets = np.array(targets)\n",
    "    svd = TruncatedSVD(n_components = 512,random_state = 1)\n",
    "    Y = svd.fit_transform(targets)[:,:64]\n",
    "    X = X_copy[selector[i]]\n",
    "    evaluate(i,'multi',save=True)"
   ]
  },
  {
   "cell_type": "markdown",
   "id": "33ee6305-2db2-49e5-b850-8e357f4246b8",
   "metadata": {},
   "source": [
    "Not quite as good."
   ]
  },
  {
   "cell_type": "code",
   "execution_count": 14,
   "id": "9b856843-321d-4222-9476-0a3fd0b138c9",
   "metadata": {
    "execution": {
     "iopub.execute_input": "2022-11-15T16:00:06.750058Z",
     "iopub.status.busy": "2022-11-15T16:00:06.749649Z",
     "iopub.status.idle": "2022-11-15T16:04:39.227378Z",
     "shell.execute_reply": "2022-11-15T16:04:39.226412Z",
     "shell.execute_reply.started": "2022-11-15T16:00:06.750033Z"
    },
    "tags": []
   },
   "outputs": [
    {
     "name": "stdout",
     "output_type": "stream",
     "text": [
      "250/250 [==============================] - 0s 2ms/step\n",
      "\n",
      " --------- FOLD 0 -----------\n",
      "Mean squared error = 5.880000114440918\n",
      "Correlation = 0.68639\n",
      "PCA Correlation = 0.98343\n",
      "model saved : ./multi_model_saves/model_2_0_0\n",
      "250/250 [==============================] - 0s 2ms/step\n",
      "\n",
      " --------- FOLD 1 -----------\n",
      "Mean squared error = 5.420000076293945\n",
      "Correlation = 0.67811\n",
      "PCA Correlation = 0.98435\n",
      "model saved : ./multi_model_saves/model_2_0_1\n",
      "250/250 [==============================] - 0s 2ms/step\n",
      "\n",
      " --------- FOLD 2 -----------\n",
      "Mean squared error = 6.03000020980835\n",
      "Correlation = 0.68147\n",
      "PCA Correlation = 0.98276\n",
      "model saved : ./multi_model_saves/model_2_0_2\n",
      "\u001b[32m\u001b[1mMean corr = 0.68199\u001b[0m\n"
     ]
    },
    {
     "ename": "KeyboardInterrupt",
     "evalue": "",
     "output_type": "error",
     "traceback": [
      "\u001b[0;31m---------------------------------------------------------------------------\u001b[0m",
      "\u001b[0;31mKeyboardInterrupt\u001b[0m                         Traceback (most recent call last)",
      "Input \u001b[0;32mIn [14]\u001b[0m, in \u001b[0;36m<cell line: 4>\u001b[0;34m()\u001b[0m\n\u001b[1;32m     14\u001b[0m Y \u001b[38;5;241m=\u001b[39m svd\u001b[38;5;241m.\u001b[39mfit_transform(targets)[:,:\u001b[38;5;241m64\u001b[39m]\n\u001b[1;32m     15\u001b[0m X \u001b[38;5;241m=\u001b[39m X_copy[selector[i]]\n\u001b[0;32m---> 16\u001b[0m \u001b[43mevaluate\u001b[49m\u001b[43m(\u001b[49m\u001b[43mi\u001b[49m\u001b[43m,\u001b[49m\u001b[38;5;124;43m'\u001b[39;49m\u001b[38;5;124;43mmulti\u001b[39;49m\u001b[38;5;124;43m'\u001b[39;49m\u001b[43m,\u001b[49m\u001b[43msave\u001b[49m\u001b[38;5;241;43m=\u001b[39;49m\u001b[38;5;28;43;01mTrue\u001b[39;49;00m\u001b[43m)\u001b[49m\n",
      "Input \u001b[0;32mIn [2]\u001b[0m, in \u001b[0;36mevaluate\u001b[0;34m(i, kind, save, j, loss)\u001b[0m\n\u001b[1;32m     52\u001b[0m     chk \u001b[38;5;241m=\u001b[39m tf\u001b[38;5;241m.\u001b[39mkeras\u001b[38;5;241m.\u001b[39mcallbacks\u001b[38;5;241m.\u001b[39mModelCheckpoint(\n\u001b[1;32m     53\u001b[0m             filepath \u001b[38;5;241m=\u001b[39m \u001b[38;5;124m'\u001b[39m\u001b[38;5;124m./multi\u001b[39m\u001b[38;5;124m'\u001b[39m,\n\u001b[1;32m     54\u001b[0m             save_weights_only \u001b[38;5;241m=\u001b[39m \u001b[38;5;28;01mTrue\u001b[39;00m,\n\u001b[1;32m     55\u001b[0m             monitor \u001b[38;5;241m=\u001b[39m \u001b[38;5;124m'\u001b[39m\u001b[38;5;124mval_loss\u001b[39m\u001b[38;5;124m'\u001b[39m,\n\u001b[1;32m     56\u001b[0m             mode \u001b[38;5;241m=\u001b[39m \u001b[38;5;124m'\u001b[39m\u001b[38;5;124mmin\u001b[39m\u001b[38;5;124m'\u001b[39m,\n\u001b[1;32m     57\u001b[0m             save_best_only \u001b[38;5;241m=\u001b[39m \u001b[38;5;28;01mTrue\u001b[39;00m)\n\u001b[1;32m     59\u001b[0m model\u001b[38;5;241m.\u001b[39mcompile(optimizer\u001b[38;5;241m=\u001b[39mtf\u001b[38;5;241m.\u001b[39mkeras\u001b[38;5;241m.\u001b[39moptimizers\u001b[38;5;241m.\u001b[39mAdam(learning_rate\u001b[38;5;241m=\u001b[39m\u001b[38;5;241m1e-3\u001b[39m),\n\u001b[1;32m     60\u001b[0m               loss \u001b[38;5;241m=\u001b[39m loss,\n\u001b[1;32m     61\u001b[0m               metrics \u001b[38;5;241m=\u001b[39m loss)\n\u001b[0;32m---> 63\u001b[0m \u001b[43mmodel\u001b[49m\u001b[38;5;241;43m.\u001b[39;49m\u001b[43mfit\u001b[49m\u001b[43m(\u001b[49m\u001b[43mX_tr\u001b[49m\u001b[43m,\u001b[49m\n\u001b[1;32m     64\u001b[0m \u001b[43m          \u001b[49m\u001b[43my_tr\u001b[49m\u001b[43m,\u001b[49m\n\u001b[1;32m     65\u001b[0m \u001b[43m          \u001b[49m\u001b[43mvalidation_data\u001b[49m\u001b[38;5;241;43m=\u001b[39;49m\u001b[43m(\u001b[49m\u001b[43mX_va\u001b[49m\u001b[43m,\u001b[49m\u001b[43my_va\u001b[49m\u001b[43m)\u001b[49m\u001b[43m,\u001b[49m\n\u001b[1;32m     66\u001b[0m \u001b[43m          \u001b[49m\u001b[43mepochs\u001b[49m\u001b[43m \u001b[49m\u001b[38;5;241;43m=\u001b[39;49m\u001b[38;5;241;43m500\u001b[39;49m\u001b[43m,\u001b[49m\n\u001b[1;32m     67\u001b[0m \u001b[43m          \u001b[49m\u001b[43mverbose\u001b[49m\u001b[43m \u001b[49m\u001b[38;5;241;43m=\u001b[39;49m\u001b[43m \u001b[49m\u001b[43mVERBOSE\u001b[49m\u001b[43m,\u001b[49m\n\u001b[1;32m     68\u001b[0m \u001b[43m          \u001b[49m\u001b[43mbatch_size\u001b[49m\u001b[38;5;241;43m=\u001b[39;49m\u001b[38;5;241;43m256\u001b[39;49m\u001b[43m,\u001b[49m\n\u001b[1;32m     69\u001b[0m \u001b[43m          \u001b[49m\u001b[43mcallbacks\u001b[49m\u001b[43m \u001b[49m\u001b[38;5;241;43m=\u001b[39;49m\u001b[43m \u001b[49m\u001b[43m[\u001b[49m\u001b[43mes\u001b[49m\u001b[43m,\u001b[49m\u001b[43mlr\u001b[49m\u001b[43m,\u001b[49m\u001b[43mchk\u001b[49m\u001b[43m]\u001b[49m\n\u001b[1;32m     70\u001b[0m \u001b[43m         \u001b[49m\u001b[43m)\u001b[49m\n\u001b[1;32m     71\u001b[0m y_va_pred \u001b[38;5;241m=\u001b[39m model\u001b[38;5;241m.\u001b[39mpredict(X_va)\n\u001b[1;32m     72\u001b[0m Y_pred[idx_va] \u001b[38;5;241m=\u001b[39m y_va_pred\n",
      "File \u001b[0;32m/srv/conda/envs/saturn/lib/python3.9/site-packages/keras/utils/traceback_utils.py:65\u001b[0m, in \u001b[0;36mfilter_traceback.<locals>.error_handler\u001b[0;34m(*args, **kwargs)\u001b[0m\n\u001b[1;32m     63\u001b[0m filtered_tb \u001b[38;5;241m=\u001b[39m \u001b[38;5;28;01mNone\u001b[39;00m\n\u001b[1;32m     64\u001b[0m \u001b[38;5;28;01mtry\u001b[39;00m:\n\u001b[0;32m---> 65\u001b[0m     \u001b[38;5;28;01mreturn\u001b[39;00m \u001b[43mfn\u001b[49m\u001b[43m(\u001b[49m\u001b[38;5;241;43m*\u001b[39;49m\u001b[43margs\u001b[49m\u001b[43m,\u001b[49m\u001b[43m \u001b[49m\u001b[38;5;241;43m*\u001b[39;49m\u001b[38;5;241;43m*\u001b[39;49m\u001b[43mkwargs\u001b[49m\u001b[43m)\u001b[49m\n\u001b[1;32m     66\u001b[0m \u001b[38;5;28;01mexcept\u001b[39;00m \u001b[38;5;167;01mException\u001b[39;00m \u001b[38;5;28;01mas\u001b[39;00m e:\n\u001b[1;32m     67\u001b[0m     filtered_tb \u001b[38;5;241m=\u001b[39m _process_traceback_frames(e\u001b[38;5;241m.\u001b[39m__traceback__)\n",
      "File \u001b[0;32m/srv/conda/envs/saturn/lib/python3.9/site-packages/keras/engine/training.py:1606\u001b[0m, in \u001b[0;36mModel.fit\u001b[0;34m(self, x, y, batch_size, epochs, verbose, callbacks, validation_split, validation_data, shuffle, class_weight, sample_weight, initial_epoch, steps_per_epoch, validation_steps, validation_batch_size, validation_freq, max_queue_size, workers, use_multiprocessing)\u001b[0m\n\u001b[1;32m   1591\u001b[0m \u001b[38;5;28;01mif\u001b[39;00m \u001b[38;5;28mgetattr\u001b[39m(\u001b[38;5;28mself\u001b[39m, \u001b[38;5;124m\"\u001b[39m\u001b[38;5;124m_eval_data_handler\u001b[39m\u001b[38;5;124m\"\u001b[39m, \u001b[38;5;28;01mNone\u001b[39;00m) \u001b[38;5;129;01mis\u001b[39;00m \u001b[38;5;28;01mNone\u001b[39;00m:\n\u001b[1;32m   1592\u001b[0m     \u001b[38;5;28mself\u001b[39m\u001b[38;5;241m.\u001b[39m_eval_data_handler \u001b[38;5;241m=\u001b[39m data_adapter\u001b[38;5;241m.\u001b[39mget_data_handler(\n\u001b[1;32m   1593\u001b[0m         x\u001b[38;5;241m=\u001b[39mval_x,\n\u001b[1;32m   1594\u001b[0m         y\u001b[38;5;241m=\u001b[39mval_y,\n\u001b[0;32m   (...)\u001b[0m\n\u001b[1;32m   1604\u001b[0m         steps_per_execution\u001b[38;5;241m=\u001b[39m\u001b[38;5;28mself\u001b[39m\u001b[38;5;241m.\u001b[39m_steps_per_execution,\n\u001b[1;32m   1605\u001b[0m     )\n\u001b[0;32m-> 1606\u001b[0m val_logs \u001b[38;5;241m=\u001b[39m \u001b[38;5;28;43mself\u001b[39;49m\u001b[38;5;241;43m.\u001b[39;49m\u001b[43mevaluate\u001b[49m\u001b[43m(\u001b[49m\n\u001b[1;32m   1607\u001b[0m \u001b[43m    \u001b[49m\u001b[43mx\u001b[49m\u001b[38;5;241;43m=\u001b[39;49m\u001b[43mval_x\u001b[49m\u001b[43m,\u001b[49m\n\u001b[1;32m   1608\u001b[0m \u001b[43m    \u001b[49m\u001b[43my\u001b[49m\u001b[38;5;241;43m=\u001b[39;49m\u001b[43mval_y\u001b[49m\u001b[43m,\u001b[49m\n\u001b[1;32m   1609\u001b[0m \u001b[43m    \u001b[49m\u001b[43msample_weight\u001b[49m\u001b[38;5;241;43m=\u001b[39;49m\u001b[43mval_sample_weight\u001b[49m\u001b[43m,\u001b[49m\n\u001b[1;32m   1610\u001b[0m \u001b[43m    \u001b[49m\u001b[43mbatch_size\u001b[49m\u001b[38;5;241;43m=\u001b[39;49m\u001b[43mvalidation_batch_size\u001b[49m\u001b[43m \u001b[49m\u001b[38;5;129;43;01mor\u001b[39;49;00m\u001b[43m \u001b[49m\u001b[43mbatch_size\u001b[49m\u001b[43m,\u001b[49m\n\u001b[1;32m   1611\u001b[0m \u001b[43m    \u001b[49m\u001b[43msteps\u001b[49m\u001b[38;5;241;43m=\u001b[39;49m\u001b[43mvalidation_steps\u001b[49m\u001b[43m,\u001b[49m\n\u001b[1;32m   1612\u001b[0m \u001b[43m    \u001b[49m\u001b[43mcallbacks\u001b[49m\u001b[38;5;241;43m=\u001b[39;49m\u001b[43mcallbacks\u001b[49m\u001b[43m,\u001b[49m\n\u001b[1;32m   1613\u001b[0m \u001b[43m    \u001b[49m\u001b[43mmax_queue_size\u001b[49m\u001b[38;5;241;43m=\u001b[39;49m\u001b[43mmax_queue_size\u001b[49m\u001b[43m,\u001b[49m\n\u001b[1;32m   1614\u001b[0m \u001b[43m    \u001b[49m\u001b[43mworkers\u001b[49m\u001b[38;5;241;43m=\u001b[39;49m\u001b[43mworkers\u001b[49m\u001b[43m,\u001b[49m\n\u001b[1;32m   1615\u001b[0m \u001b[43m    \u001b[49m\u001b[43muse_multiprocessing\u001b[49m\u001b[38;5;241;43m=\u001b[39;49m\u001b[43muse_multiprocessing\u001b[49m\u001b[43m,\u001b[49m\n\u001b[1;32m   1616\u001b[0m \u001b[43m    \u001b[49m\u001b[43mreturn_dict\u001b[49m\u001b[38;5;241;43m=\u001b[39;49m\u001b[38;5;28;43;01mTrue\u001b[39;49;00m\u001b[43m,\u001b[49m\n\u001b[1;32m   1617\u001b[0m \u001b[43m    \u001b[49m\u001b[43m_use_cached_eval_dataset\u001b[49m\u001b[38;5;241;43m=\u001b[39;49m\u001b[38;5;28;43;01mTrue\u001b[39;49;00m\u001b[43m,\u001b[49m\n\u001b[1;32m   1618\u001b[0m \u001b[43m\u001b[49m\u001b[43m)\u001b[49m\n\u001b[1;32m   1619\u001b[0m val_logs \u001b[38;5;241m=\u001b[39m {\n\u001b[1;32m   1620\u001b[0m     \u001b[38;5;124m\"\u001b[39m\u001b[38;5;124mval_\u001b[39m\u001b[38;5;124m\"\u001b[39m \u001b[38;5;241m+\u001b[39m name: val \u001b[38;5;28;01mfor\u001b[39;00m name, val \u001b[38;5;129;01min\u001b[39;00m val_logs\u001b[38;5;241m.\u001b[39mitems()\n\u001b[1;32m   1621\u001b[0m }\n\u001b[1;32m   1622\u001b[0m epoch_logs\u001b[38;5;241m.\u001b[39mupdate(val_logs)\n",
      "File \u001b[0;32m/srv/conda/envs/saturn/lib/python3.9/site-packages/keras/utils/traceback_utils.py:65\u001b[0m, in \u001b[0;36mfilter_traceback.<locals>.error_handler\u001b[0;34m(*args, **kwargs)\u001b[0m\n\u001b[1;32m     63\u001b[0m filtered_tb \u001b[38;5;241m=\u001b[39m \u001b[38;5;28;01mNone\u001b[39;00m\n\u001b[1;32m     64\u001b[0m \u001b[38;5;28;01mtry\u001b[39;00m:\n\u001b[0;32m---> 65\u001b[0m     \u001b[38;5;28;01mreturn\u001b[39;00m \u001b[43mfn\u001b[49m\u001b[43m(\u001b[49m\u001b[38;5;241;43m*\u001b[39;49m\u001b[43margs\u001b[49m\u001b[43m,\u001b[49m\u001b[43m \u001b[49m\u001b[38;5;241;43m*\u001b[39;49m\u001b[38;5;241;43m*\u001b[39;49m\u001b[43mkwargs\u001b[49m\u001b[43m)\u001b[49m\n\u001b[1;32m     66\u001b[0m \u001b[38;5;28;01mexcept\u001b[39;00m \u001b[38;5;167;01mException\u001b[39;00m \u001b[38;5;28;01mas\u001b[39;00m e:\n\u001b[1;32m     67\u001b[0m     filtered_tb \u001b[38;5;241m=\u001b[39m _process_traceback_frames(e\u001b[38;5;241m.\u001b[39m__traceback__)\n",
      "File \u001b[0;32m/srv/conda/envs/saturn/lib/python3.9/site-packages/keras/engine/training.py:1947\u001b[0m, in \u001b[0;36mModel.evaluate\u001b[0;34m(self, x, y, batch_size, verbose, sample_weight, steps, callbacks, max_queue_size, workers, use_multiprocessing, return_dict, **kwargs)\u001b[0m\n\u001b[1;32m   1943\u001b[0m \u001b[38;5;28;01mwith\u001b[39;00m tf\u001b[38;5;241m.\u001b[39mprofiler\u001b[38;5;241m.\u001b[39mexperimental\u001b[38;5;241m.\u001b[39mTrace(\n\u001b[1;32m   1944\u001b[0m     \u001b[38;5;124m\"\u001b[39m\u001b[38;5;124mtest\u001b[39m\u001b[38;5;124m\"\u001b[39m, step_num\u001b[38;5;241m=\u001b[39mstep, _r\u001b[38;5;241m=\u001b[39m\u001b[38;5;241m1\u001b[39m\n\u001b[1;32m   1945\u001b[0m ):\n\u001b[1;32m   1946\u001b[0m     callbacks\u001b[38;5;241m.\u001b[39mon_test_batch_begin(step)\n\u001b[0;32m-> 1947\u001b[0m     tmp_logs \u001b[38;5;241m=\u001b[39m \u001b[38;5;28;43mself\u001b[39;49m\u001b[38;5;241;43m.\u001b[39;49m\u001b[43mtest_function\u001b[49m\u001b[43m(\u001b[49m\u001b[43miterator\u001b[49m\u001b[43m)\u001b[49m\n\u001b[1;32m   1948\u001b[0m     \u001b[38;5;28;01mif\u001b[39;00m data_handler\u001b[38;5;241m.\u001b[39mshould_sync:\n\u001b[1;32m   1949\u001b[0m         context\u001b[38;5;241m.\u001b[39masync_wait()\n",
      "File \u001b[0;32m/srv/conda/envs/saturn/lib/python3.9/site-packages/tensorflow/python/util/traceback_utils.py:150\u001b[0m, in \u001b[0;36mfilter_traceback.<locals>.error_handler\u001b[0;34m(*args, **kwargs)\u001b[0m\n\u001b[1;32m    148\u001b[0m filtered_tb \u001b[38;5;241m=\u001b[39m \u001b[38;5;28;01mNone\u001b[39;00m\n\u001b[1;32m    149\u001b[0m \u001b[38;5;28;01mtry\u001b[39;00m:\n\u001b[0;32m--> 150\u001b[0m   \u001b[38;5;28;01mreturn\u001b[39;00m \u001b[43mfn\u001b[49m\u001b[43m(\u001b[49m\u001b[38;5;241;43m*\u001b[39;49m\u001b[43margs\u001b[49m\u001b[43m,\u001b[49m\u001b[43m \u001b[49m\u001b[38;5;241;43m*\u001b[39;49m\u001b[38;5;241;43m*\u001b[39;49m\u001b[43mkwargs\u001b[49m\u001b[43m)\u001b[49m\n\u001b[1;32m    151\u001b[0m \u001b[38;5;28;01mexcept\u001b[39;00m \u001b[38;5;167;01mException\u001b[39;00m \u001b[38;5;28;01mas\u001b[39;00m e:\n\u001b[1;32m    152\u001b[0m   filtered_tb \u001b[38;5;241m=\u001b[39m _process_traceback_frames(e\u001b[38;5;241m.\u001b[39m__traceback__)\n",
      "File \u001b[0;32m/srv/conda/envs/saturn/lib/python3.9/site-packages/tensorflow/python/eager/def_function.py:915\u001b[0m, in \u001b[0;36mFunction.__call__\u001b[0;34m(self, *args, **kwds)\u001b[0m\n\u001b[1;32m    912\u001b[0m compiler \u001b[38;5;241m=\u001b[39m \u001b[38;5;124m\"\u001b[39m\u001b[38;5;124mxla\u001b[39m\u001b[38;5;124m\"\u001b[39m \u001b[38;5;28;01mif\u001b[39;00m \u001b[38;5;28mself\u001b[39m\u001b[38;5;241m.\u001b[39m_jit_compile \u001b[38;5;28;01melse\u001b[39;00m \u001b[38;5;124m\"\u001b[39m\u001b[38;5;124mnonXla\u001b[39m\u001b[38;5;124m\"\u001b[39m\n\u001b[1;32m    914\u001b[0m \u001b[38;5;28;01mwith\u001b[39;00m OptionalXlaContext(\u001b[38;5;28mself\u001b[39m\u001b[38;5;241m.\u001b[39m_jit_compile):\n\u001b[0;32m--> 915\u001b[0m   result \u001b[38;5;241m=\u001b[39m \u001b[38;5;28;43mself\u001b[39;49m\u001b[38;5;241;43m.\u001b[39;49m\u001b[43m_call\u001b[49m\u001b[43m(\u001b[49m\u001b[38;5;241;43m*\u001b[39;49m\u001b[43margs\u001b[49m\u001b[43m,\u001b[49m\u001b[43m \u001b[49m\u001b[38;5;241;43m*\u001b[39;49m\u001b[38;5;241;43m*\u001b[39;49m\u001b[43mkwds\u001b[49m\u001b[43m)\u001b[49m\n\u001b[1;32m    917\u001b[0m new_tracing_count \u001b[38;5;241m=\u001b[39m \u001b[38;5;28mself\u001b[39m\u001b[38;5;241m.\u001b[39mexperimental_get_tracing_count()\n\u001b[1;32m    918\u001b[0m without_tracing \u001b[38;5;241m=\u001b[39m (tracing_count \u001b[38;5;241m==\u001b[39m new_tracing_count)\n",
      "File \u001b[0;32m/srv/conda/envs/saturn/lib/python3.9/site-packages/tensorflow/python/eager/def_function.py:954\u001b[0m, in \u001b[0;36mFunction._call\u001b[0;34m(self, *args, **kwds)\u001b[0m\n\u001b[1;32m    951\u001b[0m \u001b[38;5;28mself\u001b[39m\u001b[38;5;241m.\u001b[39m_lock\u001b[38;5;241m.\u001b[39mrelease()\n\u001b[1;32m    952\u001b[0m \u001b[38;5;66;03m# In this case we have not created variables on the first call. So we can\u001b[39;00m\n\u001b[1;32m    953\u001b[0m \u001b[38;5;66;03m# run the first trace but we should fail if variables are created.\u001b[39;00m\n\u001b[0;32m--> 954\u001b[0m results \u001b[38;5;241m=\u001b[39m \u001b[38;5;28;43mself\u001b[39;49m\u001b[38;5;241;43m.\u001b[39;49m\u001b[43m_stateful_fn\u001b[49m\u001b[43m(\u001b[49m\u001b[38;5;241;43m*\u001b[39;49m\u001b[43margs\u001b[49m\u001b[43m,\u001b[49m\u001b[43m \u001b[49m\u001b[38;5;241;43m*\u001b[39;49m\u001b[38;5;241;43m*\u001b[39;49m\u001b[43mkwds\u001b[49m\u001b[43m)\u001b[49m\n\u001b[1;32m    955\u001b[0m \u001b[38;5;28;01mif\u001b[39;00m \u001b[38;5;28mself\u001b[39m\u001b[38;5;241m.\u001b[39m_created_variables \u001b[38;5;129;01mand\u001b[39;00m \u001b[38;5;129;01mnot\u001b[39;00m ALLOW_DYNAMIC_VARIABLE_CREATION:\n\u001b[1;32m    956\u001b[0m   \u001b[38;5;28;01mraise\u001b[39;00m \u001b[38;5;167;01mValueError\u001b[39;00m(\u001b[38;5;124m\"\u001b[39m\u001b[38;5;124mCreating variables on a non-first call to a function\u001b[39m\u001b[38;5;124m\"\u001b[39m\n\u001b[1;32m    957\u001b[0m                    \u001b[38;5;124m\"\u001b[39m\u001b[38;5;124m decorated with tf.function.\u001b[39m\u001b[38;5;124m\"\u001b[39m)\n",
      "File \u001b[0;32m/srv/conda/envs/saturn/lib/python3.9/site-packages/tensorflow/python/eager/function.py:2496\u001b[0m, in \u001b[0;36mFunction.__call__\u001b[0;34m(self, *args, **kwargs)\u001b[0m\n\u001b[1;32m   2493\u001b[0m \u001b[38;5;28;01mwith\u001b[39;00m \u001b[38;5;28mself\u001b[39m\u001b[38;5;241m.\u001b[39m_lock:\n\u001b[1;32m   2494\u001b[0m   (graph_function,\n\u001b[1;32m   2495\u001b[0m    filtered_flat_args) \u001b[38;5;241m=\u001b[39m \u001b[38;5;28mself\u001b[39m\u001b[38;5;241m.\u001b[39m_maybe_define_function(args, kwargs)\n\u001b[0;32m-> 2496\u001b[0m \u001b[38;5;28;01mreturn\u001b[39;00m \u001b[43mgraph_function\u001b[49m\u001b[38;5;241;43m.\u001b[39;49m\u001b[43m_call_flat\u001b[49m\u001b[43m(\u001b[49m\n\u001b[1;32m   2497\u001b[0m \u001b[43m    \u001b[49m\u001b[43mfiltered_flat_args\u001b[49m\u001b[43m,\u001b[49m\u001b[43m \u001b[49m\u001b[43mcaptured_inputs\u001b[49m\u001b[38;5;241;43m=\u001b[39;49m\u001b[43mgraph_function\u001b[49m\u001b[38;5;241;43m.\u001b[39;49m\u001b[43mcaptured_inputs\u001b[49m\u001b[43m)\u001b[49m\n",
      "File \u001b[0;32m/srv/conda/envs/saturn/lib/python3.9/site-packages/tensorflow/python/eager/function.py:1862\u001b[0m, in \u001b[0;36mConcreteFunction._call_flat\u001b[0;34m(self, args, captured_inputs, cancellation_manager)\u001b[0m\n\u001b[1;32m   1858\u001b[0m possible_gradient_type \u001b[38;5;241m=\u001b[39m gradients_util\u001b[38;5;241m.\u001b[39mPossibleTapeGradientTypes(args)\n\u001b[1;32m   1859\u001b[0m \u001b[38;5;28;01mif\u001b[39;00m (possible_gradient_type \u001b[38;5;241m==\u001b[39m gradients_util\u001b[38;5;241m.\u001b[39mPOSSIBLE_GRADIENT_TYPES_NONE\n\u001b[1;32m   1860\u001b[0m     \u001b[38;5;129;01mand\u001b[39;00m executing_eagerly):\n\u001b[1;32m   1861\u001b[0m   \u001b[38;5;66;03m# No tape is watching; skip to running the function.\u001b[39;00m\n\u001b[0;32m-> 1862\u001b[0m   \u001b[38;5;28;01mreturn\u001b[39;00m \u001b[38;5;28mself\u001b[39m\u001b[38;5;241m.\u001b[39m_build_call_outputs(\u001b[38;5;28;43mself\u001b[39;49m\u001b[38;5;241;43m.\u001b[39;49m\u001b[43m_inference_function\u001b[49m\u001b[38;5;241;43m.\u001b[39;49m\u001b[43mcall\u001b[49m\u001b[43m(\u001b[49m\n\u001b[1;32m   1863\u001b[0m \u001b[43m      \u001b[49m\u001b[43mctx\u001b[49m\u001b[43m,\u001b[49m\u001b[43m \u001b[49m\u001b[43margs\u001b[49m\u001b[43m,\u001b[49m\u001b[43m \u001b[49m\u001b[43mcancellation_manager\u001b[49m\u001b[38;5;241;43m=\u001b[39;49m\u001b[43mcancellation_manager\u001b[49m\u001b[43m)\u001b[49m)\n\u001b[1;32m   1864\u001b[0m forward_backward \u001b[38;5;241m=\u001b[39m \u001b[38;5;28mself\u001b[39m\u001b[38;5;241m.\u001b[39m_select_forward_and_backward_functions(\n\u001b[1;32m   1865\u001b[0m     args,\n\u001b[1;32m   1866\u001b[0m     possible_gradient_type,\n\u001b[1;32m   1867\u001b[0m     executing_eagerly)\n\u001b[1;32m   1868\u001b[0m forward_function, args_with_tangents \u001b[38;5;241m=\u001b[39m forward_backward\u001b[38;5;241m.\u001b[39mforward()\n",
      "File \u001b[0;32m/srv/conda/envs/saturn/lib/python3.9/site-packages/tensorflow/python/eager/function.py:499\u001b[0m, in \u001b[0;36m_EagerDefinedFunction.call\u001b[0;34m(self, ctx, args, cancellation_manager)\u001b[0m\n\u001b[1;32m    497\u001b[0m \u001b[38;5;28;01mwith\u001b[39;00m _InterpolateFunctionError(\u001b[38;5;28mself\u001b[39m):\n\u001b[1;32m    498\u001b[0m   \u001b[38;5;28;01mif\u001b[39;00m cancellation_manager \u001b[38;5;129;01mis\u001b[39;00m \u001b[38;5;28;01mNone\u001b[39;00m:\n\u001b[0;32m--> 499\u001b[0m     outputs \u001b[38;5;241m=\u001b[39m \u001b[43mexecute\u001b[49m\u001b[38;5;241;43m.\u001b[39;49m\u001b[43mexecute\u001b[49m\u001b[43m(\u001b[49m\n\u001b[1;32m    500\u001b[0m \u001b[43m        \u001b[49m\u001b[38;5;28;43mstr\u001b[39;49m\u001b[43m(\u001b[49m\u001b[38;5;28;43mself\u001b[39;49m\u001b[38;5;241;43m.\u001b[39;49m\u001b[43msignature\u001b[49m\u001b[38;5;241;43m.\u001b[39;49m\u001b[43mname\u001b[49m\u001b[43m)\u001b[49m\u001b[43m,\u001b[49m\n\u001b[1;32m    501\u001b[0m \u001b[43m        \u001b[49m\u001b[43mnum_outputs\u001b[49m\u001b[38;5;241;43m=\u001b[39;49m\u001b[38;5;28;43mself\u001b[39;49m\u001b[38;5;241;43m.\u001b[39;49m\u001b[43m_num_outputs\u001b[49m\u001b[43m,\u001b[49m\n\u001b[1;32m    502\u001b[0m \u001b[43m        \u001b[49m\u001b[43minputs\u001b[49m\u001b[38;5;241;43m=\u001b[39;49m\u001b[43margs\u001b[49m\u001b[43m,\u001b[49m\n\u001b[1;32m    503\u001b[0m \u001b[43m        \u001b[49m\u001b[43mattrs\u001b[49m\u001b[38;5;241;43m=\u001b[39;49m\u001b[43mattrs\u001b[49m\u001b[43m,\u001b[49m\n\u001b[1;32m    504\u001b[0m \u001b[43m        \u001b[49m\u001b[43mctx\u001b[49m\u001b[38;5;241;43m=\u001b[39;49m\u001b[43mctx\u001b[49m\u001b[43m)\u001b[49m\n\u001b[1;32m    505\u001b[0m   \u001b[38;5;28;01melse\u001b[39;00m:\n\u001b[1;32m    506\u001b[0m     outputs \u001b[38;5;241m=\u001b[39m execute\u001b[38;5;241m.\u001b[39mexecute_with_cancellation(\n\u001b[1;32m    507\u001b[0m         \u001b[38;5;28mstr\u001b[39m(\u001b[38;5;28mself\u001b[39m\u001b[38;5;241m.\u001b[39msignature\u001b[38;5;241m.\u001b[39mname),\n\u001b[1;32m    508\u001b[0m         num_outputs\u001b[38;5;241m=\u001b[39m\u001b[38;5;28mself\u001b[39m\u001b[38;5;241m.\u001b[39m_num_outputs,\n\u001b[0;32m   (...)\u001b[0m\n\u001b[1;32m    511\u001b[0m         ctx\u001b[38;5;241m=\u001b[39mctx,\n\u001b[1;32m    512\u001b[0m         cancellation_manager\u001b[38;5;241m=\u001b[39mcancellation_manager)\n",
      "File \u001b[0;32m/srv/conda/envs/saturn/lib/python3.9/site-packages/tensorflow/python/eager/execute.py:54\u001b[0m, in \u001b[0;36mquick_execute\u001b[0;34m(op_name, num_outputs, inputs, attrs, ctx, name)\u001b[0m\n\u001b[1;32m     52\u001b[0m \u001b[38;5;28;01mtry\u001b[39;00m:\n\u001b[1;32m     53\u001b[0m   ctx\u001b[38;5;241m.\u001b[39mensure_initialized()\n\u001b[0;32m---> 54\u001b[0m   tensors \u001b[38;5;241m=\u001b[39m \u001b[43mpywrap_tfe\u001b[49m\u001b[38;5;241;43m.\u001b[39;49m\u001b[43mTFE_Py_Execute\u001b[49m\u001b[43m(\u001b[49m\u001b[43mctx\u001b[49m\u001b[38;5;241;43m.\u001b[39;49m\u001b[43m_handle\u001b[49m\u001b[43m,\u001b[49m\u001b[43m \u001b[49m\u001b[43mdevice_name\u001b[49m\u001b[43m,\u001b[49m\u001b[43m \u001b[49m\u001b[43mop_name\u001b[49m\u001b[43m,\u001b[49m\n\u001b[1;32m     55\u001b[0m \u001b[43m                                      \u001b[49m\u001b[43minputs\u001b[49m\u001b[43m,\u001b[49m\u001b[43m \u001b[49m\u001b[43mattrs\u001b[49m\u001b[43m,\u001b[49m\u001b[43m \u001b[49m\u001b[43mnum_outputs\u001b[49m\u001b[43m)\u001b[49m\n\u001b[1;32m     56\u001b[0m \u001b[38;5;28;01mexcept\u001b[39;00m core\u001b[38;5;241m.\u001b[39m_NotOkStatusException \u001b[38;5;28;01mas\u001b[39;00m e:\n\u001b[1;32m     57\u001b[0m   \u001b[38;5;28;01mif\u001b[39;00m name \u001b[38;5;129;01mis\u001b[39;00m \u001b[38;5;129;01mnot\u001b[39;00m \u001b[38;5;28;01mNone\u001b[39;00m:\n",
      "\u001b[0;31mKeyboardInterrupt\u001b[0m: "
     ]
    }
   ],
   "source": [
    "targets_copy = scipy.sparse.load_npz(\"./sparse/train_multi_targets_values.sparse.npz\")\n",
    "targets_copy = scprep.filter.remove_empty_genes(targets_copy)\n",
    "X_copy = multi_train_x\n",
    "for i in selector.keys():\n",
    "    targets = targets_copy.copy()\n",
    "    X = X_copy.copy()\n",
    "    targets = targets[selector[i]]\n",
    "    # Normalize the targets row-wise: This doesn't change the correlations,\n",
    "    # and negative_correlation_loss depends on it\n",
    "    targets -= targets.mean(axis=1).reshape(-1, 1)\n",
    "    targets /= targets.std(axis=1).reshape(-1, 1)\n",
    "    targets = np.array(targets)\n",
    "    svd = TruncatedSVD(n_components = 512,random_state = 1)\n",
    "    Y = svd.fit_transform(targets)[:,:64]\n",
    "    X = X_copy[selector[i]]\n",
    "    evaluate(i,'multi',save=True)"
   ]
  },
  {
   "cell_type": "code",
   "execution_count": 15,
   "id": "24d05891-83e4-408e-8b26-b75a19cab424",
   "metadata": {
    "execution": {
     "iopub.execute_input": "2022-11-15T16:05:51.992119Z",
     "iopub.status.busy": "2022-11-15T16:05:51.991734Z",
     "iopub.status.idle": "2022-11-15T16:06:20.815650Z",
     "shell.execute_reply": "2022-11-15T16:06:20.814961Z",
     "shell.execute_reply.started": "2022-11-15T16:05:51.992097Z"
    }
   },
   "outputs": [],
   "source": [
    "multi_train_x = scipy.sparse.load_npz(\"./sparse/train_multi_inputs_values.sparse.npz\")"
   ]
  },
  {
   "cell_type": "code",
   "execution_count": 18,
   "id": "375bf307-22e2-4c0a-9138-a58ba58e0d6a",
   "metadata": {
    "execution": {
     "iopub.execute_input": "2022-11-15T16:09:18.215273Z",
     "iopub.status.busy": "2022-11-15T16:09:18.214903Z",
     "iopub.status.idle": "2022-11-15T16:09:18.218730Z",
     "shell.execute_reply": "2022-11-15T16:09:18.218175Z",
     "shell.execute_reply.started": "2022-11-15T16:09:18.215250Z"
    },
    "tags": []
   },
   "outputs": [],
   "source": [
    "abc = multi_train_x[0].toarray()"
   ]
  },
  {
   "cell_type": "code",
   "execution_count": 22,
   "id": "8dfb33e7-120f-403b-9d03-08ca7fc1b7f0",
   "metadata": {
    "execution": {
     "iopub.execute_input": "2022-11-15T16:09:54.431499Z",
     "iopub.status.busy": "2022-11-15T16:09:54.431126Z",
     "iopub.status.idle": "2022-11-15T16:09:54.434827Z",
     "shell.execute_reply": "2022-11-15T16:09:54.434294Z",
     "shell.execute_reply.started": "2022-11-15T16:09:54.431476Z"
    },
    "tags": []
   },
   "outputs": [],
   "source": [
    "abc = pd.Series(abc[0])"
   ]
  },
  {
   "cell_type": "code",
   "execution_count": 23,
   "id": "e77a489c-f31e-4b39-8470-6ad8ffeb9635",
   "metadata": {
    "execution": {
     "iopub.execute_input": "2022-11-15T16:09:58.062740Z",
     "iopub.status.busy": "2022-11-15T16:09:58.062369Z",
     "iopub.status.idle": "2022-11-15T16:09:58.068287Z",
     "shell.execute_reply": "2022-11-15T16:09:58.067753Z",
     "shell.execute_reply.started": "2022-11-15T16:09:58.062717Z"
    }
   },
   "outputs": [
    {
     "data": {
      "text/plain": [
       "3204"
      ]
     },
     "execution_count": 23,
     "metadata": {},
     "output_type": "execute_result"
    }
   ],
   "source": [
    "abc.nunique()"
   ]
  },
  {
   "cell_type": "code",
   "execution_count": 24,
   "id": "65021de6-a5fb-4ead-92bd-d62194f53a89",
   "metadata": {
    "execution": {
     "iopub.execute_input": "2022-11-15T16:10:14.951828Z",
     "iopub.status.busy": "2022-11-15T16:10:14.951418Z",
     "iopub.status.idle": "2022-11-15T16:10:15.110775Z",
     "shell.execute_reply": "2022-11-15T16:10:15.110219Z",
     "shell.execute_reply.started": "2022-11-15T16:10:14.951803Z"
    }
   },
   "outputs": [
    {
     "data": {
      "text/plain": [
       "<AxesSubplot:>"
      ]
     },
     "execution_count": 24,
     "metadata": {},
     "output_type": "execute_result"
    },
    {
     "data": {
      "image/png": "[encoded data removed]",
      "text/plain": [
       "<Figure size 432x288 with 1 Axes>"
      ]
     },
     "metadata": {
      "needs_background": "light"
     },
     "output_type": "display_data"
    }
   ],
   "source": [
    "abc.hist()"
   ]
  },
  {
   "cell_type": "code",
   "execution_count": 40,
   "id": "8f10b24a-695b-4e87-b96f-e8d43535c783",
   "metadata": {
    "execution": {
     "iopub.execute_input": "2022-11-15T16:23:40.589469Z",
     "iopub.status.busy": "2022-11-15T16:23:40.589090Z",
     "iopub.status.idle": "2022-11-15T16:23:54.912083Z",
     "shell.execute_reply": "2022-11-15T16:23:54.911477Z",
     "shell.execute_reply.started": "2022-11-15T16:23:40.589446Z"
    },
    "tags": []
   },
   "outputs": [
    {
     "data": {
      "image/png": "[encoded data removed]",
      "text/plain": [
       "<Figure size 576x576 with 16 Axes>"
      ]
     },
     "metadata": {
      "needs_background": "light"
     },
     "output_type": "display_data"
    }
   ],
   "source": [
    "fig, ax = plt.subplots(4,4,figsize=(8,8))\n",
    "for i in range(16):\n",
    "    abc = multi_train_x[:,i].toarray().flatten()\n",
    "    abc = list(filter(lambda x: x > 0, abc))\n",
    "    j = i%4\n",
    "    k = i//4\n",
    "    ax[j][k].hist(abc)"
   ]
  },
  {
   "cell_type": "code",
   "execution_count": 41,
   "id": "f2350897-ac77-4864-98d6-2be650c04c66",
   "metadata": {
    "execution": {
     "iopub.execute_input": "2022-11-15T16:24:59.377842Z",
     "iopub.status.busy": "2022-11-15T16:24:59.377446Z",
     "iopub.status.idle": "2022-11-15T16:24:59.690804Z",
     "shell.execute_reply": "2022-11-15T16:24:59.690177Z",
     "shell.execute_reply.started": "2022-11-15T16:24:59.377819Z"
    }
   },
   "outputs": [],
   "source": [
    "import warnings\n",
    "warnings.filterwarnings(\"ignore\")\n",
    "\n",
    "with np.load('./sparse/train_multi_inputs_idxcol.npz',allow_pickle=True) as data:\n",
    "    cell_index = data['index']\n",
    "with np.load('./sparse/test_multi_inputs_idxcol.npz',allow_pickle=True) as data:\n",
    "    cell_index_t = data['index']\n",
    "metadata_df = pd.read_csv('../input/open-problems-multimodal/metadata.csv', index_col='cell_id')\n",
    "metadata_df = metadata_df[metadata_df.technology==\"multiome\"]\n",
    "meta = metadata_df.reindex(cell_index)\n",
    "meta['range'] = range(len(meta))\n",
    "selector = {}\n",
    "i = 7\n",
    "selector[i] = meta.loc[(meta.day == i)].range.values"
   ]
  },
  {
   "cell_type": "code",
   "execution_count": 43,
   "id": "4408ecf8-46e3-4195-a6e8-6eb3376949d3",
   "metadata": {
    "execution": {
     "iopub.execute_input": "2022-11-15T16:26:11.095396Z",
     "iopub.status.busy": "2022-11-15T16:26:11.095019Z",
     "iopub.status.idle": "2022-11-15T16:26:11.133797Z",
     "shell.execute_reply": "2022-11-15T16:26:11.133166Z",
     "shell.execute_reply.started": "2022-11-15T16:26:11.095373Z"
    }
   },
   "outputs": [],
   "source": [
    "X_copy = np.load('./binarized_pca/multi_pca_128.npy')"
   ]
  },
  {
   "cell_type": "code",
   "execution_count": 44,
   "id": "fbe93fb0-614c-45ab-8002-7444323ef18b",
   "metadata": {
    "execution": {
     "iopub.execute_input": "2022-11-15T16:26:17.622601Z",
     "iopub.status.busy": "2022-11-15T16:26:17.622230Z",
     "iopub.status.idle": "2022-11-15T16:28:59.772076Z",
     "shell.execute_reply": "2022-11-15T16:28:59.771413Z",
     "shell.execute_reply.started": "2022-11-15T16:26:17.622579Z"
    },
    "tags": []
   },
   "outputs": [
    {
     "name": "stdout",
     "output_type": "stream",
     "text": [
      "231/231 [==============================] - 0s 2ms/step\n",
      "\n",
      " --------- FOLD 0 -----------\n",
      "Mean squared error = 25.40999984741211\n",
      "Correlation = 0.58309\n",
      "PCA Correlation = 0.91061\n",
      "model saved : ./multi_model_saves/model_7_0_0\n",
      "231/231 [==============================] - 0s 2ms/step\n",
      "\n",
      " --------- FOLD 1 -----------\n",
      "Mean squared error = 24.690000534057617\n",
      "Correlation = 0.59858\n",
      "PCA Correlation = 0.91709\n",
      "model saved : ./multi_model_saves/model_7_0_1\n",
      "230/230 [==============================] - 0s 2ms/step\n",
      "\n",
      " --------- FOLD 2 -----------\n",
      "Mean squared error = 25.31999969482422\n",
      "Correlation = 0.58046\n",
      "PCA Correlation = 0.91073\n",
      "model saved : ./multi_model_saves/model_7_0_2\n",
      "\u001b[32m\u001b[1mMean corr = 0.58738\u001b[0m\n"
     ]
    }
   ],
   "source": [
    "targets_copy = scipy.sparse.load_npz(\"./sparse/train_multi_targets_values.sparse.npz\")\n",
    "targets_copy = scprep.filter.remove_empty_genes(targets_copy)\n",
    "X_copy = multi_train_x[:,:40]\n",
    "for i in selector.keys():\n",
    "    targets = targets_copy.copy()\n",
    "    X = X_copy.copy()\n",
    "    targets = targets[selector[i]]\n",
    "    # Normalize the targets row-wise: This doesn't change the correlations,\n",
    "    # and negative_correlation_loss depends on it\n",
    "    targets -= targets.mean(axis=1).reshape(-1, 1)\n",
    "    targets /= targets.std(axis=1).reshape(-1, 1)\n",
    "    targets = np.array(targets)\n",
    "    svd = TruncatedSVD(n_components = 512,random_state = 1)\n",
    "    Y = svd.fit_transform(targets)[:,:64]\n",
    "    X = X_copy[selector[i]]\n",
    "    evaluate(i,'multi',save=False)"
   ]
  },
  {
   "cell_type": "code",
   "execution_count": 45,
   "id": "54a627a3-6e36-4b32-ac70-fa1df78d4541",
   "metadata": {
    "execution": {
     "iopub.execute_input": "2022-11-15T16:31:19.204266Z",
     "iopub.status.busy": "2022-11-15T16:31:19.203867Z",
     "iopub.status.idle": "2022-11-15T16:31:19.209031Z",
     "shell.execute_reply": "2022-11-15T16:31:19.208275Z",
     "shell.execute_reply.started": "2022-11-15T16:31:19.204241Z"
    }
   },
   "outputs": [
    {
     "data": {
      "text/plain": [
       "<105942x40 sparse matrix of type '<class 'numpy.float32'>'\n",
       "\twith 71268 stored elements in Compressed Sparse Row format>"
      ]
     },
     "execution_count": 45,
     "metadata": {},
     "output_type": "execute_result"
    }
   ],
   "source": [
    "X_copy"
   ]
  },
  {
   "cell_type": "code",
   "execution_count": 57,
   "id": "91180009-7dcc-4c4d-adbb-65ddce46a91e",
   "metadata": {
    "execution": {
     "iopub.execute_input": "2022-11-15T16:36:18.887043Z",
     "iopub.status.busy": "2022-11-15T16:36:18.886670Z",
     "iopub.status.idle": "2022-11-15T16:36:18.930959Z",
     "shell.execute_reply": "2022-11-15T16:36:18.930427Z",
     "shell.execute_reply.started": "2022-11-15T16:36:18.887021Z"
    },
    "tags": []
   },
   "outputs": [],
   "source": [
    "abc = list(filter(lambda x: x>0.01, svd1.components_[0]))"
   ]
  },
  {
   "cell_type": "code",
   "execution_count": 59,
   "id": "b031dc5a-2c13-4da4-a9e3-f53e3cc0a7ba",
   "metadata": {
    "execution": {
     "iopub.execute_input": "2022-11-15T16:36:28.288422Z",
     "iopub.status.busy": "2022-11-15T16:36:28.288030Z",
     "iopub.status.idle": "2022-11-15T16:36:28.422802Z",
     "shell.execute_reply": "2022-11-15T16:36:28.422286Z",
     "shell.execute_reply.started": "2022-11-15T16:36:28.288400Z"
    },
    "tags": []
   },
   "outputs": [
    {
     "data": {
      "text/plain": [
       "(array([711., 497., 365., 224., 157.,  86.,  32.,  24.,  13.,   4.]),\n",
       " array([0.01000164, 0.0108853 , 0.01176895, 0.01265261, 0.01353627,\n",
       "        0.01441993, 0.01530358, 0.01618724, 0.0170709 , 0.01795456,\n",
       "        0.01883821]),\n",
       " <BarContainer object of 10 artists>)"
      ]
     },
     "execution_count": 59,
     "metadata": {},
     "output_type": "execute_result"
    },
    {
     "data": {
      "image/png": "[encoded data removed]",
      "text/plain": [
       "<Figure size 432x288 with 1 Axes>"
      ]
     },
     "metadata": {
      "needs_background": "light"
     },
     "output_type": "display_data"
    }
   ],
   "source": [
    "plt.hist(abc)"
   ]
  },
  {
   "cell_type": "code",
   "execution_count": 74,
   "id": "75185063-2c7d-4541-87da-db803240987f",
   "metadata": {
    "execution": {
     "iopub.execute_input": "2022-11-15T16:42:41.946952Z",
     "iopub.status.busy": "2022-11-15T16:42:41.946574Z",
     "iopub.status.idle": "2022-11-15T16:42:42.022811Z",
     "shell.execute_reply": "2022-11-15T16:42:42.022181Z",
     "shell.execute_reply.started": "2022-11-15T16:42:41.946929Z"
    },
    "tags": []
   },
   "outputs": [],
   "source": [
    "abc = set()\n",
    "for i in range(40):\n",
    "    abc = abc.union(set(list(np.where(svd1.components_[i] > 0.01)[0])))"
   ]
  },
  {
   "cell_type": "code",
   "execution_count": 75,
   "id": "23d58732-682b-4550-96b6-6da6b66dc6c5",
   "metadata": {
    "execution": {
     "iopub.execute_input": "2022-11-15T16:42:47.340831Z",
     "iopub.status.busy": "2022-11-15T16:42:47.340446Z",
     "iopub.status.idle": "2022-11-15T16:42:47.344795Z",
     "shell.execute_reply": "2022-11-15T16:42:47.344274Z",
     "shell.execute_reply.started": "2022-11-15T16:42:47.340806Z"
    }
   },
   "outputs": [
    {
     "data": {
      "text/plain": [
       "12927"
      ]
     },
     "execution_count": 75,
     "metadata": {},
     "output_type": "execute_result"
    }
   ],
   "source": [
    "len(abc)"
   ]
  },
  {
   "cell_type": "code",
   "execution_count": 5,
   "id": "6623ad1b-fa78-436b-a74a-eb859a5e85ca",
   "metadata": {
    "execution": {
     "iopub.execute_input": "2022-11-15T18:04:58.916169Z",
     "iopub.status.busy": "2022-11-15T18:04:58.915758Z",
     "iopub.status.idle": "2022-11-15T18:04:59.278814Z",
     "shell.execute_reply": "2022-11-15T18:04:59.278106Z",
     "shell.execute_reply.started": "2022-11-15T18:04:58.916141Z"
    },
    "tags": []
   },
   "outputs": [
    {
     "ename": "NameError",
     "evalue": "name 'multi_train_x' is not defined",
     "output_type": "error",
     "traceback": [
      "\u001b[0;31m---------------------------------------------------------------------------\u001b[0m",
      "\u001b[0;31mNameError\u001b[0m                                 Traceback (most recent call last)",
      "Input \u001b[0;32mIn [5]\u001b[0m, in \u001b[0;36m<cell line: 1>\u001b[0;34m()\u001b[0m\n\u001b[0;32m----> 1\u001b[0m \u001b[43mmulti_train_x\u001b[49m\u001b[38;5;241m.\u001b[39mshape\n",
      "\u001b[0;31mNameError\u001b[0m: name 'multi_train_x' is not defined"
     ]
    }
   ],
   "source": [
    "multi_train_x.shape"
   ]
  },
  {
   "cell_type": "code",
   "execution_count": 81,
   "id": "6bb560e7-d6e4-48d4-adcb-2675e996c49f",
   "metadata": {
    "execution": {
     "iopub.execute_input": "2022-11-15T16:44:28.224501Z",
     "iopub.status.busy": "2022-11-15T16:44:28.224124Z",
     "iopub.status.idle": "2022-11-15T16:44:32.759027Z",
     "shell.execute_reply": "2022-11-15T16:44:32.758369Z",
     "shell.execute_reply.started": "2022-11-15T16:44:28.224477Z"
    },
    "tags": []
   },
   "outputs": [],
   "source": [
    "X_copy = multi_train_x[:,list(abc)]"
   ]
  },
  {
   "cell_type": "code",
   "execution_count": 82,
   "id": "33909c9a-4c06-4afb-8ffb-6b5d62cfd7a3",
   "metadata": {
    "execution": {
     "iopub.execute_input": "2022-11-15T16:44:52.002381Z",
     "iopub.status.busy": "2022-11-15T16:44:52.002008Z",
     "iopub.status.idle": "2022-11-15T16:44:52.339282Z",
     "shell.execute_reply": "2022-11-15T16:44:52.338656Z",
     "shell.execute_reply.started": "2022-11-15T16:44:52.002359Z"
    }
   },
   "outputs": [],
   "source": [
    "import warnings\n",
    "warnings.filterwarnings(\"ignore\")\n",
    "\n",
    "with np.load('./sparse/train_multi_inputs_idxcol.npz',allow_pickle=True) as data:\n",
    "    cell_index = data['index']\n",
    "with np.load('./sparse/test_multi_inputs_idxcol.npz',allow_pickle=True) as data:\n",
    "    cell_index_t = data['index']\n",
    "metadata_df = pd.read_csv('../input/open-problems-multimodal/metadata.csv', index_col='cell_id')\n",
    "metadata_df = metadata_df[metadata_df.technology==\"multiome\"]\n",
    "meta = metadata_df.reindex(cell_index)\n",
    "meta['range'] = range(len(meta))\n",
    "selector = {}\n",
    "i = 2\n",
    "selector[i] = meta.loc[(meta.day == i)].range.values"
   ]
  },
  {
   "cell_type": "code",
   "execution_count": 85,
   "id": "1fb4ae22-ea20-42fc-9c7c-71da665586c3",
   "metadata": {
    "execution": {
     "iopub.execute_input": "2022-11-15T16:48:50.095330Z",
     "iopub.status.busy": "2022-11-15T16:48:50.094951Z",
     "iopub.status.idle": "2022-11-15T16:48:54.681178Z",
     "shell.execute_reply": "2022-11-15T16:48:54.680512Z",
     "shell.execute_reply.started": "2022-11-15T16:48:50.095308Z"
    }
   },
   "outputs": [],
   "source": [
    "X_copy = X_copy.toarray()"
   ]
  },
  {
   "cell_type": "code",
   "execution_count": 86,
   "id": "7426e04f-c6a4-4592-87f0-327b21d8dc36",
   "metadata": {
    "execution": {
     "iopub.execute_input": "2022-11-15T16:48:59.894807Z",
     "iopub.status.busy": "2022-11-15T16:48:59.894439Z",
     "iopub.status.idle": "2022-11-15T16:51:36.391213Z",
     "shell.execute_reply": "2022-11-15T16:51:36.390611Z",
     "shell.execute_reply.started": "2022-11-15T16:48:59.894784Z"
    },
    "tags": []
   },
   "outputs": [
    {
     "name": "stdout",
     "output_type": "stream",
     "text": [
      "250/250 [==============================] - 1s 2ms/step\n",
      "\n",
      " --------- FOLD 0 -----------\n",
      "Mean squared error = 8.600000381469727\n",
      "Correlation = 0.68132\n",
      "PCA Correlation = 0.97614\n",
      "250/250 [==============================] - 1s 2ms/step\n",
      "\n",
      " --------- FOLD 1 -----------\n",
      "Mean squared error = 8.789999961853027\n",
      "Correlation = 0.67173\n",
      "PCA Correlation = 0.97499\n",
      "250/250 [==============================] - 1s 2ms/step\n",
      "\n",
      " --------- FOLD 2 -----------\n",
      "Mean squared error = 8.6899995803833\n",
      "Correlation = 0.67655\n",
      "PCA Correlation = 0.97563\n",
      "\u001b[32m\u001b[1mMean corr = 0.67653\u001b[0m\n"
     ]
    }
   ],
   "source": [
    "targets_copy = scipy.sparse.load_npz(\"./sparse/train_multi_targets_values.sparse.npz\")\n",
    "targets_copy = scprep.filter.remove_empty_genes(targets_copy)\n",
    "for i in selector.keys():\n",
    "    targets = targets_copy[selector[i]]\n",
    "    X = X_copy[selector[i]]\n",
    "    # Normalize the targets row-wise: This doesn't change the correlations,\n",
    "    # and negative_correlation_loss depends on it\n",
    "    targets -= targets.mean(axis=1).reshape(-1, 1)\n",
    "    targets /= targets.std(axis=1).reshape(-1, 1)\n",
    "    targets = np.array(targets)\n",
    "    svd = TruncatedSVD(n_components = 512,random_state = 1)\n",
    "    Y = svd.fit_transform(targets)[:,:64]\n",
    "    evaluate(i,'multi',save=False)"
   ]
  },
  {
   "cell_type": "code",
   "execution_count": 95,
   "id": "d5fd9719-0003-4ecc-9a3c-9f6ce1c6b20c",
   "metadata": {
    "execution": {
     "iopub.execute_input": "2022-11-15T16:54:08.233594Z",
     "iopub.status.busy": "2022-11-15T16:54:08.233219Z",
     "iopub.status.idle": "2022-11-15T16:54:08.293775Z",
     "shell.execute_reply": "2022-11-15T16:54:08.293132Z",
     "shell.execute_reply.started": "2022-11-15T16:54:08.233571Z"
    },
    "tags": []
   },
   "outputs": [],
   "source": [
    "abc = set()\n",
    "for i in range(40):\n",
    "    abc = abc.union(set(list(np.where(svd1.components_[i] > 0.04)[0])))"
   ]
  },
  {
   "cell_type": "code",
   "execution_count": 96,
   "id": "cb6513dc-c3a8-4539-aa1b-e892860c933c",
   "metadata": {
    "execution": {
     "iopub.execute_input": "2022-11-15T16:54:09.652403Z",
     "iopub.status.busy": "2022-11-15T16:54:09.652028Z",
     "iopub.status.idle": "2022-11-15T16:54:09.656255Z",
     "shell.execute_reply": "2022-11-15T16:54:09.655727Z",
     "shell.execute_reply.started": "2022-11-15T16:54:09.652381Z"
    },
    "tags": []
   },
   "outputs": [
    {
     "data": {
      "text/plain": [
       "96"
      ]
     },
     "execution_count": 96,
     "metadata": {},
     "output_type": "execute_result"
    }
   ],
   "source": [
    "len(abc)"
   ]
  },
  {
   "cell_type": "code",
   "execution_count": 101,
   "id": "38793a43-507f-4be5-b207-237aeb06b5c3",
   "metadata": {
    "execution": {
     "iopub.execute_input": "2022-11-15T16:55:29.284168Z",
     "iopub.status.busy": "2022-11-15T16:55:29.283764Z",
     "iopub.status.idle": "2022-11-15T16:55:46.733991Z",
     "shell.execute_reply": "2022-11-15T16:55:46.733342Z",
     "shell.execute_reply.started": "2022-11-15T16:55:29.284142Z"
    },
    "tags": []
   },
   "outputs": [],
   "source": [
    "X0 = multi_train_x[:,list(abc)].toarray()\n",
    "inputs_both_128 = np.load(\"./multi_pca/inputs_both_128.npy\")\n",
    "X_copy = inputs_both_128[:targets_copy.shape[0],:40]\n",
    "X_copy = np.hstack([X_copy,X0])\n",
    "targets_copy = scipy.sparse.load_npz(\"./sparse/train_multi_targets_values.sparse.npz\")\n",
    "targets_copy = scprep.filter.remove_empty_genes(targets_copy)"
   ]
  },
  {
   "cell_type": "code",
   "execution_count": 102,
   "id": "80624816-b1ca-4a83-8b6b-197fa4c0adb5",
   "metadata": {
    "execution": {
     "iopub.execute_input": "2022-11-15T16:55:50.098335Z",
     "iopub.status.busy": "2022-11-15T16:55:50.097956Z",
     "iopub.status.idle": "2022-11-15T16:59:18.221020Z",
     "shell.execute_reply": "2022-11-15T16:59:18.220375Z",
     "shell.execute_reply.started": "2022-11-15T16:55:50.098313Z"
    },
    "tags": []
   },
   "outputs": [
    {
     "name": "stdout",
     "output_type": "stream",
     "text": [
      "250/250 [==============================] - 0s 2ms/step\n",
      "\n",
      " --------- FOLD 0 -----------\n",
      "Mean squared error = 5.5\n",
      "Correlation = 0.68712\n",
      "PCA Correlation = 0.98449\n",
      "250/250 [==============================] - 0s 2ms/step\n",
      "\n",
      " --------- FOLD 1 -----------\n",
      "Mean squared error = 5.050000190734863\n",
      "Correlation = 0.67888\n",
      "PCA Correlation = 0.98548\n",
      "250/250 [==============================] - 0s 2ms/step\n",
      "\n",
      " --------- FOLD 2 -----------\n",
      "Mean squared error = 5.610000133514404\n",
      "Correlation = 0.68231\n",
      "PCA Correlation = 0.98399\n",
      "\u001b[32m\u001b[1mMean corr = 0.68277\u001b[0m\n"
     ]
    }
   ],
   "source": [
    "for i in selector.keys():\n",
    "    targets = targets_copy[selector[i]]\n",
    "    X = X_copy[selector[i]]\n",
    "    # Normalize the targets row-wise: This doesn't change the correlations,\n",
    "    # and negative_correlation_loss depends on it\n",
    "    targets -= targets.mean(axis=1).reshape(-1, 1)\n",
    "    targets /= targets.std(axis=1).reshape(-1, 1)\n",
    "    targets = np.array(targets)\n",
    "    svd = TruncatedSVD(n_components = 512,random_state = 1)\n",
    "    Y = svd.fit_transform(targets)[:,:64]\n",
    "    evaluate(i,'multi',save=False)"
   ]
  },
  {
   "cell_type": "markdown",
   "id": "12732941-0a50-4be1-907c-08971f491092",
   "metadata": {},
   "source": [
    "Getting the components for X_copy"
   ]
  },
  {
   "cell_type": "code",
   "execution_count": 5,
   "id": "bd770a67-e174-4723-a09a-4204b388014e",
   "metadata": {
    "execution": {
     "iopub.execute_input": "2022-11-15T18:12:57.807428Z",
     "iopub.status.busy": "2022-11-15T18:12:57.807126Z",
     "iopub.status.idle": "2022-11-15T18:13:14.303549Z",
     "shell.execute_reply": "2022-11-15T18:13:14.302930Z",
     "shell.execute_reply.started": "2022-11-15T18:12:57.807407Z"
    }
   },
   "outputs": [],
   "source": [
    "targets_copy = scipy.sparse.load_npz(\"./sparse/train_multi_targets_values.sparse.npz\")\n",
    "targets_copy = scprep.filter.remove_empty_genes(targets_copy)\n",
    "inputs_both_128 = np.load(\"./multi_pca/inputs_both_128.npy\")\n",
    "X_copy = inputs_both_128[:targets_copy.shape[0],:40]"
   ]
  },
  {
   "cell_type": "code",
   "execution_count": 4,
   "id": "c4a99f3c-a254-4c53-bef8-97a7e25f3563",
   "metadata": {
    "execution": {
     "iopub.execute_input": "2022-11-16T20:33:32.676535Z",
     "iopub.status.busy": "2022-11-16T20:33:32.676143Z",
     "iopub.status.idle": "2022-11-16T20:34:07.151022Z",
     "shell.execute_reply": "2022-11-16T20:34:07.150255Z",
     "shell.execute_reply.started": "2022-11-16T20:33:32.676512Z"
    },
    "tags": []
   },
   "outputs": [],
   "source": [
    "multi_train_x = scipy.sparse.load_npz(\"./sparse/train_multi_inputs_values.sparse.npz\")"
   ]
  },
  {
   "cell_type": "code",
   "execution_count": 38,
   "id": "0a5f9e74-dc6d-4edb-877c-490b3689dfb9",
   "metadata": {
    "execution": {
     "iopub.execute_input": "2022-11-15T21:15:59.067200Z",
     "iopub.status.busy": "2022-11-15T21:15:59.066813Z",
     "iopub.status.idle": "2022-11-15T21:15:59.462933Z",
     "shell.execute_reply": "2022-11-15T21:15:59.462287Z",
     "shell.execute_reply.started": "2022-11-15T21:15:59.067175Z"
    },
    "tags": []
   },
   "outputs": [],
   "source": [
    "import warnings\n",
    "warnings.filterwarnings(\"ignore\")\n",
    "\n",
    "with np.load('./sparse/train_multi_inputs_idxcol.npz',allow_pickle=True) as data:\n",
    "    cell_index = data['index']\n",
    "with np.load('./sparse/test_multi_inputs_idxcol.npz',allow_pickle=True) as data:\n",
    "    cell_index_t = data['index']\n",
    "metadata_df = pd.read_csv('../input/open-problems-multimodal/metadata.csv', index_col='cell_id')\n",
    "metadata_df = metadata_df[metadata_df.technology==\"multiome\"]\n",
    "meta = metadata_df.reindex(cell_index)\n",
    "meta['range'] = range(len(meta))\n",
    "selector = {}\n",
    "donors = (32606,13176,31800)\n",
    "for i in (2,3,4,7):\n",
    "    for j in donors:\n",
    "        selector[(i,j)] = meta.loc[(meta.day == i)&(meta.donor == j)].range.values"
   ]
  },
  {
   "cell_type": "code",
   "execution_count": 10,
   "id": "d98df424-e089-43b8-a752-438744fe705c",
   "metadata": {
    "execution": {
     "iopub.execute_input": "2022-11-15T18:27:14.702121Z",
     "iopub.status.busy": "2022-11-15T18:27:14.701735Z",
     "iopub.status.idle": "2022-11-15T18:29:56.084670Z",
     "shell.execute_reply": "2022-11-15T18:29:56.083506Z",
     "shell.execute_reply.started": "2022-11-15T18:27:14.702098Z"
    },
    "tags": []
   },
   "outputs": [
    {
     "name": "stdout",
     "output_type": "stream",
     "text": [
      "7\n",
      "32606\n"
     ]
    },
    {
     "name": "stderr",
     "output_type": "stream",
     "text": [
      "2022-11-15 18:28:28.245571: I tensorflow/stream_executor/cuda/cuda_gpu_executor.cc:980] successful NUMA node read from SysFS had negative value (-1), but there must be at least one NUMA node, so returning NUMA node zero\n",
      "2022-11-15 18:28:28.339970: W tensorflow/stream_executor/platform/default/dso_loader.cc:64] Could not load dynamic library 'libcudnn.so.8'; dlerror: libcudnn.so.8: cannot open shared object file: No such file or directory; LD_LIBRARY_PATH: /usr/local/nvidia/lib:/usr/local/nvidia/lib64\n",
      "2022-11-15 18:28:28.339999: W tensorflow/core/common_runtime/gpu/gpu_device.cc:1934] Cannot dlopen some GPU libraries. Please make sure the missing libraries mentioned above are installed properly if you would like to use GPU. Follow the guide at https://www.tensorflow.org/install/gpu for how to download and setup the required libraries for your platform.\n",
      "Skipping registering GPU devices...\n",
      "2022-11-15 18:28:28.340444: I tensorflow/core/platform/cpu_feature_guard.cc:193] This TensorFlow binary is optimized with oneAPI Deep Neural Network Library (oneDNN) to use the following CPU instructions in performance-critical operations:  AVX2 AVX512F AVX512_VNNI FMA\n",
      "To enable them in other operations, rebuild TensorFlow with the appropriate compiler flags.\n"
     ]
    },
    {
     "name": "stdout",
     "output_type": "stream",
     "text": [
      "73/73 [==============================] - 0s 2ms/step\n",
      "\n",
      " --------- FOLD 0 -----------\n",
      "Mean squared error = 9.199999809265137\n",
      "Correlation = 0.62491\n",
      "PCA Correlation = 0.96857\n",
      "73/73 [==============================] - 0s 2ms/step\n",
      "\n",
      " --------- FOLD 1 -----------\n",
      "Mean squared error = 9.380000114440918\n",
      "Correlation = 0.62413\n",
      "PCA Correlation = 0.96798\n",
      "73/73 [==============================] - 0s 1ms/step\n",
      "\n",
      " --------- FOLD 2 -----------\n",
      "Mean squared error = 9.1899995803833\n",
      "Correlation = 0.62379\n",
      "PCA Correlation = 0.96853\n",
      "\u001b[32m\u001b[1mMean corr = 0.62428\u001b[0m\n"
     ]
    },
    {
     "ename": "KeyboardInterrupt",
     "evalue": "",
     "output_type": "error",
     "traceback": [
      "\u001b[0;31m---------------------------------------------------------------------------\u001b[0m",
      "\u001b[0;31mKeyboardInterrupt\u001b[0m                         Traceback (most recent call last)",
      "Input \u001b[0;32mIn [10]\u001b[0m, in \u001b[0;36m<cell line: 3>\u001b[0;34m()\u001b[0m\n\u001b[1;32m     13\u001b[0m Y \u001b[38;5;241m=\u001b[39m svd\u001b[38;5;241m.\u001b[39mfit_transform(targets)[:,:\u001b[38;5;241m64\u001b[39m]\n\u001b[1;32m     14\u001b[0m X \u001b[38;5;241m=\u001b[39m multi_train_x[selector[(i,j)]]\n\u001b[0;32m---> 15\u001b[0m X \u001b[38;5;241m=\u001b[39m \u001b[43msvd1\u001b[49m\u001b[38;5;241;43m.\u001b[39;49m\u001b[43mfit_transform\u001b[49m\u001b[43m(\u001b[49m\u001b[43mX\u001b[49m\u001b[43m)\u001b[49m[:,:\u001b[38;5;241m40\u001b[39m]\n\u001b[1;32m     16\u001b[0m \u001b[38;5;28mprint\u001b[39m(i)\n\u001b[1;32m     17\u001b[0m \u001b[38;5;28mprint\u001b[39m(j)\n",
      "File \u001b[0;32m/srv/conda/envs/saturn/lib/python3.9/site-packages/sklearn/decomposition/_truncated_svd.py:239\u001b[0m, in \u001b[0;36mTruncatedSVD.fit_transform\u001b[0;34m(self, X, y)\u001b[0m\n\u001b[1;32m    231\u001b[0m     n_features \u001b[38;5;241m=\u001b[39m X\u001b[38;5;241m.\u001b[39mshape[\u001b[38;5;241m1\u001b[39m]\n\u001b[1;32m    232\u001b[0m     check_scalar(\n\u001b[1;32m    233\u001b[0m         k,\n\u001b[1;32m    234\u001b[0m         \u001b[38;5;124m\"\u001b[39m\u001b[38;5;124mn_components\u001b[39m\u001b[38;5;124m\"\u001b[39m,\n\u001b[0;32m   (...)\u001b[0m\n\u001b[1;32m    237\u001b[0m         max_val\u001b[38;5;241m=\u001b[39mn_features,\n\u001b[1;32m    238\u001b[0m     )\n\u001b[0;32m--> 239\u001b[0m     U, Sigma, VT \u001b[38;5;241m=\u001b[39m \u001b[43mrandomized_svd\u001b[49m\u001b[43m(\u001b[49m\n\u001b[1;32m    240\u001b[0m \u001b[43m        \u001b[49m\u001b[43mX\u001b[49m\u001b[43m,\u001b[49m\n\u001b[1;32m    241\u001b[0m \u001b[43m        \u001b[49m\u001b[38;5;28;43mself\u001b[39;49m\u001b[38;5;241;43m.\u001b[39;49m\u001b[43mn_components\u001b[49m\u001b[43m,\u001b[49m\n\u001b[1;32m    242\u001b[0m \u001b[43m        \u001b[49m\u001b[43mn_iter\u001b[49m\u001b[38;5;241;43m=\u001b[39;49m\u001b[38;5;28;43mself\u001b[39;49m\u001b[38;5;241;43m.\u001b[39;49m\u001b[43mn_iter\u001b[49m\u001b[43m,\u001b[49m\n\u001b[1;32m    243\u001b[0m \u001b[43m        \u001b[49m\u001b[43mn_oversamples\u001b[49m\u001b[38;5;241;43m=\u001b[39;49m\u001b[38;5;28;43mself\u001b[39;49m\u001b[38;5;241;43m.\u001b[39;49m\u001b[43mn_oversamples\u001b[49m\u001b[43m,\u001b[49m\n\u001b[1;32m    244\u001b[0m \u001b[43m        \u001b[49m\u001b[43mpower_iteration_normalizer\u001b[49m\u001b[38;5;241;43m=\u001b[39;49m\u001b[38;5;28;43mself\u001b[39;49m\u001b[38;5;241;43m.\u001b[39;49m\u001b[43mpower_iteration_normalizer\u001b[49m\u001b[43m,\u001b[49m\n\u001b[1;32m    245\u001b[0m \u001b[43m        \u001b[49m\u001b[43mrandom_state\u001b[49m\u001b[38;5;241;43m=\u001b[39;49m\u001b[43mrandom_state\u001b[49m\u001b[43m,\u001b[49m\n\u001b[1;32m    246\u001b[0m \u001b[43m    \u001b[49m\u001b[43m)\u001b[49m\n\u001b[1;32m    247\u001b[0m \u001b[38;5;28;01melse\u001b[39;00m:\n\u001b[1;32m    248\u001b[0m     \u001b[38;5;28;01mraise\u001b[39;00m \u001b[38;5;167;01mValueError\u001b[39;00m(\u001b[38;5;124m\"\u001b[39m\u001b[38;5;124munknown algorithm \u001b[39m\u001b[38;5;132;01m%r\u001b[39;00m\u001b[38;5;124m\"\u001b[39m \u001b[38;5;241m%\u001b[39m \u001b[38;5;28mself\u001b[39m\u001b[38;5;241m.\u001b[39malgorithm)\n",
      "File \u001b[0;32m/srv/conda/envs/saturn/lib/python3.9/site-packages/sklearn/utils/extmath.py:396\u001b[0m, in \u001b[0;36mrandomized_svd\u001b[0;34m(M, n_components, n_oversamples, n_iter, power_iteration_normalizer, transpose, flip_sign, random_state)\u001b[0m\n\u001b[1;32m    392\u001b[0m \u001b[38;5;28;01mif\u001b[39;00m transpose:\n\u001b[1;32m    393\u001b[0m     \u001b[38;5;66;03m# this implementation is a bit faster with smaller shape[1]\u001b[39;00m\n\u001b[1;32m    394\u001b[0m     M \u001b[38;5;241m=\u001b[39m M\u001b[38;5;241m.\u001b[39mT\n\u001b[0;32m--> 396\u001b[0m Q \u001b[38;5;241m=\u001b[39m \u001b[43mrandomized_range_finder\u001b[49m\u001b[43m(\u001b[49m\n\u001b[1;32m    397\u001b[0m \u001b[43m    \u001b[49m\u001b[43mM\u001b[49m\u001b[43m,\u001b[49m\n\u001b[1;32m    398\u001b[0m \u001b[43m    \u001b[49m\u001b[43msize\u001b[49m\u001b[38;5;241;43m=\u001b[39;49m\u001b[43mn_random\u001b[49m\u001b[43m,\u001b[49m\n\u001b[1;32m    399\u001b[0m \u001b[43m    \u001b[49m\u001b[43mn_iter\u001b[49m\u001b[38;5;241;43m=\u001b[39;49m\u001b[43mn_iter\u001b[49m\u001b[43m,\u001b[49m\n\u001b[1;32m    400\u001b[0m \u001b[43m    \u001b[49m\u001b[43mpower_iteration_normalizer\u001b[49m\u001b[38;5;241;43m=\u001b[39;49m\u001b[43mpower_iteration_normalizer\u001b[49m\u001b[43m,\u001b[49m\n\u001b[1;32m    401\u001b[0m \u001b[43m    \u001b[49m\u001b[43mrandom_state\u001b[49m\u001b[38;5;241;43m=\u001b[39;49m\u001b[43mrandom_state\u001b[49m\u001b[43m,\u001b[49m\n\u001b[1;32m    402\u001b[0m \u001b[43m\u001b[49m\u001b[43m)\u001b[49m\n\u001b[1;32m    404\u001b[0m \u001b[38;5;66;03m# project M to the (k + p) dimensional space using the basis vectors\u001b[39;00m\n\u001b[1;32m    405\u001b[0m B \u001b[38;5;241m=\u001b[39m safe_sparse_dot(Q\u001b[38;5;241m.\u001b[39mT, M)\n",
      "File \u001b[0;32m/srv/conda/envs/saturn/lib/python3.9/site-packages/sklearn/utils/extmath.py:237\u001b[0m, in \u001b[0;36mrandomized_range_finder\u001b[0;34m(A, size, n_iter, power_iteration_normalizer, random_state)\u001b[0m\n\u001b[1;32m    235\u001b[0m     Q \u001b[38;5;241m=\u001b[39m safe_sparse_dot(A\u001b[38;5;241m.\u001b[39mT, Q)\n\u001b[1;32m    236\u001b[0m \u001b[38;5;28;01melif\u001b[39;00m power_iteration_normalizer \u001b[38;5;241m==\u001b[39m \u001b[38;5;124m\"\u001b[39m\u001b[38;5;124mLU\u001b[39m\u001b[38;5;124m\"\u001b[39m:\n\u001b[0;32m--> 237\u001b[0m     Q, _ \u001b[38;5;241m=\u001b[39m linalg\u001b[38;5;241m.\u001b[39mlu(\u001b[43msafe_sparse_dot\u001b[49m\u001b[43m(\u001b[49m\u001b[43mA\u001b[49m\u001b[43m,\u001b[49m\u001b[43m \u001b[49m\u001b[43mQ\u001b[49m\u001b[43m)\u001b[49m, permute_l\u001b[38;5;241m=\u001b[39m\u001b[38;5;28;01mTrue\u001b[39;00m)\n\u001b[1;32m    238\u001b[0m     Q, _ \u001b[38;5;241m=\u001b[39m linalg\u001b[38;5;241m.\u001b[39mlu(safe_sparse_dot(A\u001b[38;5;241m.\u001b[39mT, Q), permute_l\u001b[38;5;241m=\u001b[39m\u001b[38;5;28;01mTrue\u001b[39;00m)\n\u001b[1;32m    239\u001b[0m \u001b[38;5;28;01melif\u001b[39;00m power_iteration_normalizer \u001b[38;5;241m==\u001b[39m \u001b[38;5;124m\"\u001b[39m\u001b[38;5;124mQR\u001b[39m\u001b[38;5;124m\"\u001b[39m:\n",
      "File \u001b[0;32m/srv/conda/envs/saturn/lib/python3.9/site-packages/sklearn/utils/extmath.py:152\u001b[0m, in \u001b[0;36msafe_sparse_dot\u001b[0;34m(a, b, dense_output)\u001b[0m\n\u001b[1;32m    150\u001b[0m         ret \u001b[38;5;241m=\u001b[39m np\u001b[38;5;241m.\u001b[39mdot(a, b)\n\u001b[1;32m    151\u001b[0m \u001b[38;5;28;01melse\u001b[39;00m:\n\u001b[0;32m--> 152\u001b[0m     ret \u001b[38;5;241m=\u001b[39m \u001b[43ma\u001b[49m\u001b[43m \u001b[49m\u001b[38;5;241;43m@\u001b[39;49m\u001b[43m \u001b[49m\u001b[43mb\u001b[49m\n\u001b[1;32m    154\u001b[0m \u001b[38;5;28;01mif\u001b[39;00m (\n\u001b[1;32m    155\u001b[0m     sparse\u001b[38;5;241m.\u001b[39missparse(a)\n\u001b[1;32m    156\u001b[0m     \u001b[38;5;129;01mand\u001b[39;00m sparse\u001b[38;5;241m.\u001b[39missparse(b)\n\u001b[1;32m    157\u001b[0m     \u001b[38;5;129;01mand\u001b[39;00m dense_output\n\u001b[1;32m    158\u001b[0m     \u001b[38;5;129;01mand\u001b[39;00m \u001b[38;5;28mhasattr\u001b[39m(ret, \u001b[38;5;124m\"\u001b[39m\u001b[38;5;124mtoarray\u001b[39m\u001b[38;5;124m\"\u001b[39m)\n\u001b[1;32m    159\u001b[0m ):\n\u001b[1;32m    160\u001b[0m     \u001b[38;5;28;01mreturn\u001b[39;00m ret\u001b[38;5;241m.\u001b[39mtoarray()\n",
      "File \u001b[0;32m/srv/conda/envs/saturn/lib/python3.9/site-packages/scipy/sparse/_base.py:623\u001b[0m, in \u001b[0;36mspmatrix.__matmul__\u001b[0;34m(self, other)\u001b[0m\n\u001b[1;32m    620\u001b[0m \u001b[38;5;28;01mif\u001b[39;00m isscalarlike(other):\n\u001b[1;32m    621\u001b[0m     \u001b[38;5;28;01mraise\u001b[39;00m \u001b[38;5;167;01mValueError\u001b[39;00m(\u001b[38;5;124m\"\u001b[39m\u001b[38;5;124mScalar operands are not allowed, \u001b[39m\u001b[38;5;124m\"\u001b[39m\n\u001b[1;32m    622\u001b[0m                      \u001b[38;5;124m\"\u001b[39m\u001b[38;5;124muse \u001b[39m\u001b[38;5;124m'\u001b[39m\u001b[38;5;124m*\u001b[39m\u001b[38;5;124m'\u001b[39m\u001b[38;5;124m instead\u001b[39m\u001b[38;5;124m\"\u001b[39m)\n\u001b[0;32m--> 623\u001b[0m \u001b[38;5;28;01mreturn\u001b[39;00m \u001b[38;5;28;43mself\u001b[39;49m\u001b[38;5;241;43m.\u001b[39;49m\u001b[43m_mul_dispatch\u001b[49m\u001b[43m(\u001b[49m\u001b[43mother\u001b[49m\u001b[43m)\u001b[49m\n",
      "File \u001b[0;32m/srv/conda/envs/saturn/lib/python3.9/site-packages/scipy/sparse/_base.py:528\u001b[0m, in \u001b[0;36mspmatrix._mul_dispatch\u001b[0;34m(self, other)\u001b[0m\n\u001b[1;32m    526\u001b[0m         \u001b[38;5;28;01mreturn\u001b[39;00m \u001b[38;5;28mself\u001b[39m\u001b[38;5;241m.\u001b[39m_mul_vector(other\u001b[38;5;241m.\u001b[39mravel())\u001b[38;5;241m.\u001b[39mreshape(M, \u001b[38;5;241m1\u001b[39m)\n\u001b[1;32m    527\u001b[0m     \u001b[38;5;28;01melif\u001b[39;00m other\u001b[38;5;241m.\u001b[39mndim \u001b[38;5;241m==\u001b[39m \u001b[38;5;241m2\u001b[39m \u001b[38;5;129;01mand\u001b[39;00m other\u001b[38;5;241m.\u001b[39mshape[\u001b[38;5;241m0\u001b[39m] \u001b[38;5;241m==\u001b[39m N:\n\u001b[0;32m--> 528\u001b[0m         \u001b[38;5;28;01mreturn\u001b[39;00m \u001b[38;5;28;43mself\u001b[39;49m\u001b[38;5;241;43m.\u001b[39;49m\u001b[43m_mul_multivector\u001b[49m\u001b[43m(\u001b[49m\u001b[43mother\u001b[49m\u001b[43m)\u001b[49m\n\u001b[1;32m    530\u001b[0m \u001b[38;5;28;01mif\u001b[39;00m isscalarlike(other):\n\u001b[1;32m    531\u001b[0m     \u001b[38;5;66;03m# scalar value\u001b[39;00m\n\u001b[1;32m    532\u001b[0m     \u001b[38;5;28;01mreturn\u001b[39;00m \u001b[38;5;28mself\u001b[39m\u001b[38;5;241m.\u001b[39m_mul_scalar(other)\n",
      "File \u001b[0;32m/srv/conda/envs/saturn/lib/python3.9/site-packages/scipy/sparse/_compressed.py:502\u001b[0m, in \u001b[0;36m_cs_matrix._mul_multivector\u001b[0;34m(self, other)\u001b[0m\n\u001b[1;32m    500\u001b[0m \u001b[38;5;66;03m# csr_matvecs or csc_matvecs\u001b[39;00m\n\u001b[1;32m    501\u001b[0m fn \u001b[38;5;241m=\u001b[39m \u001b[38;5;28mgetattr\u001b[39m(_sparsetools, \u001b[38;5;28mself\u001b[39m\u001b[38;5;241m.\u001b[39mformat \u001b[38;5;241m+\u001b[39m \u001b[38;5;124m'\u001b[39m\u001b[38;5;124m_matvecs\u001b[39m\u001b[38;5;124m'\u001b[39m)\n\u001b[0;32m--> 502\u001b[0m \u001b[43mfn\u001b[49m\u001b[43m(\u001b[49m\u001b[43mM\u001b[49m\u001b[43m,\u001b[49m\u001b[43m \u001b[49m\u001b[43mN\u001b[49m\u001b[43m,\u001b[49m\u001b[43m \u001b[49m\u001b[43mn_vecs\u001b[49m\u001b[43m,\u001b[49m\u001b[43m \u001b[49m\u001b[38;5;28;43mself\u001b[39;49m\u001b[38;5;241;43m.\u001b[39;49m\u001b[43mindptr\u001b[49m\u001b[43m,\u001b[49m\u001b[43m \u001b[49m\u001b[38;5;28;43mself\u001b[39;49m\u001b[38;5;241;43m.\u001b[39;49m\u001b[43mindices\u001b[49m\u001b[43m,\u001b[49m\u001b[43m \u001b[49m\u001b[38;5;28;43mself\u001b[39;49m\u001b[38;5;241;43m.\u001b[39;49m\u001b[43mdata\u001b[49m\u001b[43m,\u001b[49m\n\u001b[1;32m    503\u001b[0m \u001b[43m   \u001b[49m\u001b[43mother\u001b[49m\u001b[38;5;241;43m.\u001b[39;49m\u001b[43mravel\u001b[49m\u001b[43m(\u001b[49m\u001b[43m)\u001b[49m\u001b[43m,\u001b[49m\u001b[43m \u001b[49m\u001b[43mresult\u001b[49m\u001b[38;5;241;43m.\u001b[39;49m\u001b[43mravel\u001b[49m\u001b[43m(\u001b[49m\u001b[43m)\u001b[49m\u001b[43m)\u001b[49m\n\u001b[1;32m    505\u001b[0m \u001b[38;5;28;01mreturn\u001b[39;00m result\n",
      "\u001b[0;31mKeyboardInterrupt\u001b[0m: "
     ]
    }
   ],
   "source": [
    "targets_copy = scipy.sparse.load_npz(\"./sparse/train_multi_targets_values.sparse.npz\")\n",
    "targets_copy = scprep.filter.remove_empty_genes(targets_copy)\n",
    "for (i,j) in selector.keys():\n",
    "    if i == 7:\n",
    "        targets = targets_copy.copy()\n",
    "        targets = targets[selector[(i,j)]]\n",
    "        # Normalize the targets row-wise: This doesn't change the correlations,\n",
    "        # and negative_correlation_loss depends on it\n",
    "        targets -= targets.mean(axis=1).reshape(-1, 1)\n",
    "        targets /= targets.std(axis=1).reshape(-1, 1)\n",
    "        targets = np.array(targets)\n",
    "        svd = TruncatedSVD(n_components = 512,random_state = 1)\n",
    "        Y = svd.fit_transform(targets)[:,:64]\n",
    "        X = multi_train_x[selector[(i,j)]]\n",
    "        X = svd1.fit_transform(X)[:,:40]\n",
    "        print(i)\n",
    "        print(j)\n",
    "        evaluate(i,'multi',save=False)"
   ]
  },
  {
   "cell_type": "code",
   "execution_count": 11,
   "id": "c5e0a2be-9fbe-4015-b012-acd0d0968e9e",
   "metadata": {
    "execution": {
     "iopub.execute_input": "2022-11-15T18:30:20.691943Z",
     "iopub.status.busy": "2022-11-15T18:30:20.691550Z",
     "iopub.status.idle": "2022-11-15T18:30:21.015545Z",
     "shell.execute_reply": "2022-11-15T18:30:21.014908Z",
     "shell.execute_reply.started": "2022-11-15T18:30:20.691920Z"
    }
   },
   "outputs": [],
   "source": [
    "import warnings\n",
    "warnings.filterwarnings(\"ignore\")\n",
    "\n",
    "with np.load('./sparse/train_multi_inputs_idxcol.npz',allow_pickle=True) as data:\n",
    "    cell_index = data['index']\n",
    "with np.load('./sparse/test_multi_inputs_idxcol.npz',allow_pickle=True) as data:\n",
    "    cell_index_t = data['index']\n",
    "metadata_df = pd.read_csv('../input/open-problems-multimodal/metadata.csv', index_col='cell_id')\n",
    "metadata_df = metadata_df[metadata_df.technology==\"multiome\"]\n",
    "meta = metadata_df.reindex(cell_index)\n",
    "meta['range'] = range(len(meta))\n",
    "selector = {}\n",
    "for i in (2,3,4,7):\n",
    "    selector[i] = meta.loc[(meta.day == i)].range.values"
   ]
  },
  {
   "cell_type": "code",
   "execution_count": 12,
   "id": "7e86e6b8-8703-4b25-b97c-07ffad4009aa",
   "metadata": {
    "execution": {
     "iopub.execute_input": "2022-11-15T18:30:52.732640Z",
     "iopub.status.busy": "2022-11-15T18:30:52.732249Z",
     "iopub.status.idle": "2022-11-15T18:36:26.776688Z",
     "shell.execute_reply": "2022-11-15T18:36:26.776070Z",
     "shell.execute_reply.started": "2022-11-15T18:30:52.732615Z"
    },
    "tags": []
   },
   "outputs": [
    {
     "name": "stdout",
     "output_type": "stream",
     "text": [
      "7\n",
      "231/231 [==============================] - 0s 1ms/step\n",
      "\n",
      " --------- FOLD 0 -----------\n",
      "Mean squared error = 9.130000114440918\n",
      "Correlation = 0.61990\n",
      "PCA Correlation = 0.96859\n",
      "231/231 [==============================] - 0s 1ms/step\n",
      "\n",
      " --------- FOLD 1 -----------\n",
      "Mean squared error = 7.699999809265137\n",
      "Correlation = 0.63604\n",
      "PCA Correlation = 0.97500\n",
      "230/230 [==============================] - 0s 2ms/step\n",
      "\n",
      " --------- FOLD 2 -----------\n",
      "Mean squared error = 8.600000381469727\n",
      "Correlation = 0.61843\n",
      "PCA Correlation = 0.97059\n",
      "\u001b[32m\u001b[1mMean corr = 0.62479\u001b[0m\n"
     ]
    }
   ],
   "source": [
    "targets_copy = scipy.sparse.load_npz(\"./sparse/train_multi_targets_values.sparse.npz\")\n",
    "targets_copy = scprep.filter.remove_empty_genes(targets_copy)\n",
    "for i in selector.keys():\n",
    "    if i == 7:\n",
    "        targets = targets_copy.copy()\n",
    "        targets = targets[selector[i]]\n",
    "        # Normalize the targets row-wise: This doesn't change the correlations,\n",
    "        # and negative_correlation_loss depends on it\n",
    "        targets -= targets.mean(axis=1).reshape(-1, 1)\n",
    "        targets /= targets.std(axis=1).reshape(-1, 1)\n",
    "        targets = np.array(targets)\n",
    "        svd = TruncatedSVD(n_components = 512,random_state = 1)\n",
    "        Y = svd.fit_transform(targets)[:,:64]\n",
    "        X = multi_train_x[selector[i]]\n",
    "        X = svd1.fit_transform(X)[:,:40]\n",
    "        print(i)\n",
    "        evaluate(i,'multi',save=False)"
   ]
  },
  {
   "cell_type": "markdown",
   "id": "eb111255-cbd7-4779-a2ef-16dcab267d88",
   "metadata": {},
   "source": [
    "not worth to split up the X PCA by day"
   ]
  },
  {
   "cell_type": "code",
   "execution_count": 7,
   "id": "07748637-667c-4b60-8ead-559287cb8065",
   "metadata": {
    "execution": {
     "iopub.execute_input": "2022-11-15T19:03:43.034568Z",
     "iopub.status.busy": "2022-11-15T19:03:43.034281Z",
     "iopub.status.idle": "2022-11-15T19:04:35.287391Z",
     "shell.execute_reply": "2022-11-15T19:04:35.286776Z",
     "shell.execute_reply.started": "2022-11-15T19:03:43.034548Z"
    },
    "tags": []
   },
   "outputs": [],
   "source": [
    "multi_train_x = scipy.sparse.load_npz(\"./sparse/train_multi_inputs_values.sparse.npz\")\n",
    "multi_test_x = scipy.sparse.load_npz(\"./sparse/test_multi_inputs_values.sparse.npz\")"
   ]
  },
  {
   "cell_type": "code",
   "execution_count": 8,
   "id": "4f25f9c0-b789-4c7a-a2e4-14d2ea2d6989",
   "metadata": {
    "execution": {
     "iopub.execute_input": "2022-11-15T19:04:35.288519Z",
     "iopub.status.busy": "2022-11-15T19:04:35.288195Z",
     "iopub.status.idle": "2022-11-15T19:27:51.392181Z",
     "shell.execute_reply": "2022-11-15T19:27:51.391540Z",
     "shell.execute_reply.started": "2022-11-15T19:04:35.288499Z"
    },
    "tags": []
   },
   "outputs": [],
   "source": [
    "from scipy.sparse import vstack\n",
    "svd1 = TruncatedSVD(n_components = 128)\n",
    "both = svd1.fit(vstack([multi_train_x,multi_test_x]))\n",
    "np.save(\"./multi_pca/inputs_both_128_svds.npy\",svd1.components_)\n",
    "np.save(\"./multi_pca/inputs_both_128_exp_var.npy\",svd1.explained_variance_ratio_)"
   ]
  },
  {
   "cell_type": "code",
   "execution_count": 7,
   "id": "9f8cc48d-e9da-4345-a3e3-60d38a69ef43",
   "metadata": {
    "execution": {
     "iopub.execute_input": "2022-11-16T20:35:35.395449Z",
     "iopub.status.busy": "2022-11-16T20:35:35.395088Z",
     "iopub.status.idle": "2022-11-16T20:35:35.685696Z",
     "shell.execute_reply": "2022-11-16T20:35:35.685084Z",
     "shell.execute_reply.started": "2022-11-16T20:35:35.395422Z"
    },
    "tags": []
   },
   "outputs": [],
   "source": [
    "components = np.load(\"./multi_pca/inputs_both_128_svds.npy\")\n",
    "exp_var = np.load(\"./multi_pca/inputs_both_128_exp_var.npy\")"
   ]
  },
  {
   "cell_type": "code",
   "execution_count": 8,
   "id": "9c637ac6-e559-41d9-b782-a3ddf28e0a48",
   "metadata": {
    "execution": {
     "iopub.execute_input": "2022-11-16T20:31:39.757850Z",
     "iopub.status.busy": "2022-11-16T20:31:39.757534Z",
     "iopub.status.idle": "2022-11-16T20:32:14.440545Z",
     "shell.execute_reply": "2022-11-16T20:32:14.439923Z",
     "shell.execute_reply.started": "2022-11-16T20:31:39.757830Z"
    },
    "tags": []
   },
   "outputs": [],
   "source": [
    "multi_train_x = scipy.sparse.load_npz(\"./sparse/train_multi_inputs_values.sparse.npz\")"
   ]
  },
  {
   "cell_type": "code",
   "execution_count": 9,
   "id": "ace83d81-90f4-45f2-8a3c-b42dda664a16",
   "metadata": {
    "execution": {
     "iopub.execute_input": "2022-11-16T20:35:48.216873Z",
     "iopub.status.busy": "2022-11-16T20:35:48.216498Z",
     "iopub.status.idle": "2022-11-16T20:35:48.220601Z",
     "shell.execute_reply": "2022-11-16T20:35:48.219861Z",
     "shell.execute_reply.started": "2022-11-16T20:35:48.216847Z"
    },
    "tags": []
   },
   "outputs": [],
   "source": [
    "components = components[:40]"
   ]
  },
  {
   "cell_type": "code",
   "execution_count": 10,
   "id": "7e2ff004-cb5f-49d9-9c87-b07dca6771c6",
   "metadata": {
    "execution": {
     "iopub.execute_input": "2022-11-16T20:35:50.379069Z",
     "iopub.status.busy": "2022-11-16T20:35:50.378548Z",
     "iopub.status.idle": "2022-11-16T20:35:50.398129Z",
     "shell.execute_reply": "2022-11-16T20:35:50.397227Z",
     "shell.execute_reply.started": "2022-11-16T20:35:50.379031Z"
    },
    "tags": []
   },
   "outputs": [],
   "source": [
    "comp_weighted = exp_var[:40]@np.abs(components)"
   ]
  },
  {
   "cell_type": "code",
   "execution_count": 11,
   "id": "5e9c0695-791a-494a-8c54-32bd243288a9",
   "metadata": {
    "execution": {
     "iopub.execute_input": "2022-11-16T20:35:51.364178Z",
     "iopub.status.busy": "2022-11-16T20:35:51.363807Z",
     "iopub.status.idle": "2022-11-16T20:35:51.370345Z",
     "shell.execute_reply": "2022-11-16T20:35:51.369480Z",
     "shell.execute_reply.started": "2022-11-16T20:35:51.364147Z"
    },
    "tags": []
   },
   "outputs": [
    {
     "name": "stdout",
     "output_type": "stream",
     "text": [
      "17663\n"
     ]
    }
   ],
   "source": [
    "abc = list(np.where(comp_weighted > 0.00003)[0])\n",
    "print(len(abc))"
   ]
  },
  {
   "cell_type": "code",
   "execution_count": 42,
   "id": "d61d53c5-8daf-4690-bc05-2456e1cdcd1b",
   "metadata": {
    "execution": {
     "iopub.execute_input": "2022-11-16T20:19:29.470962Z",
     "iopub.status.busy": "2022-11-16T20:19:29.470569Z",
     "iopub.status.idle": "2022-11-16T20:19:29.475725Z",
     "shell.execute_reply": "2022-11-16T20:19:29.475067Z",
     "shell.execute_reply.started": "2022-11-16T20:19:29.470937Z"
    },
    "tags": []
   },
   "outputs": [
    {
     "data": {
      "text/plain": [
       "[40332, 100203, 108472, 115462, 140191]"
      ]
     },
     "execution_count": 42,
     "metadata": {},
     "output_type": "execute_result"
    }
   ],
   "source": [
    "abc"
   ]
  },
  {
   "cell_type": "code",
   "execution_count": 28,
   "id": "2e8c1bbc-1560-4974-b3aa-b9b15ab7e403",
   "metadata": {
    "execution": {
     "iopub.execute_input": "2022-11-16T20:01:42.564697Z",
     "iopub.status.busy": "2022-11-16T20:01:42.564320Z",
     "iopub.status.idle": "2022-11-16T20:01:42.583788Z",
     "shell.execute_reply": "2022-11-16T20:01:42.583025Z",
     "shell.execute_reply.started": "2022-11-16T20:01:42.564673Z"
    },
    "tags": []
   },
   "outputs": [
    {
     "name": "stdout",
     "output_type": "stream",
     "text": [
      "1\n"
     ]
    }
   ],
   "source": [
    "abc = set()\n",
    "for i in range(40):\n",
    "    abc = abc.union(set(list(np.where(exp_var[i]*np.abs(components[i]) > 0.000042)[0])))\n",
    "print(len(abc))"
   ]
  },
  {
   "cell_type": "code",
   "execution_count": 12,
   "id": "8bc98d95-9021-4445-8a71-bfadf104dd20",
   "metadata": {
    "execution": {
     "iopub.execute_input": "2022-11-16T20:35:54.242415Z",
     "iopub.status.busy": "2022-11-16T20:35:54.242028Z",
     "iopub.status.idle": "2022-11-16T20:35:58.613774Z",
     "shell.execute_reply": "2022-11-16T20:35:58.613115Z",
     "shell.execute_reply.started": "2022-11-16T20:35:54.242390Z"
    },
    "tags": []
   },
   "outputs": [],
   "source": [
    "X_copy = multi_train_x[:,abc]"
   ]
  },
  {
   "cell_type": "code",
   "execution_count": 13,
   "id": "598d49e9-b1b5-4e95-9de3-43346edfb623",
   "metadata": {
    "execution": {
     "iopub.execute_input": "2022-11-16T20:09:09.262609Z",
     "iopub.status.busy": "2022-11-16T20:09:09.262240Z",
     "iopub.status.idle": "2022-11-16T20:09:09.664822Z",
     "shell.execute_reply": "2022-11-16T20:09:09.664117Z",
     "shell.execute_reply.started": "2022-11-16T20:09:09.262569Z"
    },
    "tags": []
   },
   "outputs": [],
   "source": [
    "import warnings\n",
    "warnings.filterwarnings(\"ignore\")\n",
    "\n",
    "with np.load('./sparse/train_multi_inputs_idxcol.npz',allow_pickle=True) as data:\n",
    "    cell_index = data['index']\n",
    "with np.load('./sparse/test_multi_inputs_idxcol.npz',allow_pickle=True) as data:\n",
    "    cell_index_t = data['index']\n",
    "metadata_df = pd.read_csv('../input/open-problems-multimodal/metadata.csv', index_col='cell_id')\n",
    "metadata_df = metadata_df[metadata_df.technology==\"multiome\"]\n",
    "meta = metadata_df.reindex(cell_index)\n",
    "meta['range'] = range(len(meta))\n",
    "selector = {}\n",
    "i = 2\n",
    "j = 32606\n",
    "selector[i] = meta.loc[(meta.day == i)&(meta.donor==j)].range.values"
   ]
  },
  {
   "cell_type": "code",
   "execution_count": null,
   "id": "49848bf2-7449-44f7-9cf6-234b38c6d49c",
   "metadata": {
    "execution": {
     "iopub.execute_input": "2022-11-16T20:35:58.615291Z",
     "iopub.status.busy": "2022-11-16T20:35:58.614992Z"
    },
    "tags": []
   },
   "outputs": [],
   "source": [
    "X_copy = X_copy.toarray()"
   ]
  },
  {
   "cell_type": "code",
   "execution_count": null,
   "id": "bc6e9e5e-f0b0-4b40-a17f-19b3ae7dc8d2",
   "metadata": {
    "execution": {
     "iopub.execute_input": "2022-11-16T20:04:53.298836Z",
     "iopub.status.busy": "2022-11-16T20:04:53.298430Z"
    },
    "tags": []
   },
   "outputs": [],
   "source": [
    "targets_copy = scipy.sparse.load_npz(\"./sparse/train_multi_targets_values.sparse.npz\")\n",
    "targets_copy = scprep.filter.remove_empty_genes(targets_copy)\n",
    "for i in selector.keys():\n",
    "    targets = targets_copy[selector[i]]\n",
    "    X = X_copy[selector[i]]\n",
    "    # Normalize the targets row-wise: This doesn't change the correlations,\n",
    "    # and negative_correlation_loss depends on it\n",
    "    targets -= targets.mean(axis=1).reshape(-1, 1)\n",
    "    targets /= targets.std(axis=1).reshape(-1, 1)\n",
    "    targets = np.array(targets)\n",
    "    svd = TruncatedSVD(n_components = 512,random_state = 1)\n",
    "    Y = svd.fit_transform(targets)[:,:64]\n",
    "    evaluate(i,'multi',save=False)"
   ]
  },
  {
   "cell_type": "code",
   "execution_count": null,
   "id": "1ec9bbf6-7af9-4037-aaca-9628bc92ab4f",
   "metadata": {
    "tags": []
   },
   "outputs": [],
   "source": [
    "targets_copy = scipy.sparse.load_npz(\"./sparse/train_multi_targets_values.sparse.npz\")\n",
    "targets_copy = scprep.filter.remove_empty_genes(targets_copy)\n",
    "targets = targets_copy[selector[i]]\n",
    "X = X_copy[selector[i]]\n",
    "# Normalize the targets row-wise: This doesn't change the correlations,\n",
    "# and negative_correlation_loss depends on it\n",
    "targets -= targets.mean(axis=1).reshape(-1, 1)\n",
    "targets /= targets.std(axis=1).reshape(-1, 1)\n",
    "targets = np.array(targets)\n",
    "svd = TruncatedSVD(n_components = 512,random_state = 1)\n",
    "Y = svd.fit_transform(targets)[:,:64]"
   ]
  },
  {
   "cell_type": "code",
   "execution_count": null,
   "id": "d7519eb1-e8e9-4687-8a52-835a0be05397",
   "metadata": {
    "tags": []
   },
   "outputs": [],
   "source": [
    "X = X_copy[selector[i]]\n",
    "evaluate(i,'multi',save=False)"
   ]
  },
  {
   "cell_type": "code",
   "execution_count": 11,
   "id": "318222b8-9b00-4d00-8afd-54770f296013",
   "metadata": {
    "execution": {
     "iopub.execute_input": "2022-11-15T20:09:21.173670Z",
     "iopub.status.busy": "2022-11-15T20:09:21.173283Z",
     "iopub.status.idle": "2022-11-15T20:09:21.182288Z",
     "shell.execute_reply": "2022-11-15T20:09:21.181655Z",
     "shell.execute_reply.started": "2022-11-15T20:09:21.173646Z"
    }
   },
   "outputs": [
    {
     "data": {
      "text/plain": [
       "(23911, 1)"
      ]
     },
     "execution_count": 11,
     "metadata": {},
     "output_type": "execute_result"
    }
   ],
   "source": [
    "X.shape"
   ]
  },
  {
   "cell_type": "markdown",
   "id": "c793eb26-3d0c-42de-82e9-74b1f85ae80c",
   "metadata": {},
   "source": [
    "comp_weighted\n",
    "position  id    gene    performance    pca\n",
    "1         40332         0.67892        0.96413\n",
    "2         115462        0.67891        0.96412\n",
    "3         100203        0.67879        0.96393\n",
    "4         140191        0.67862        0.96370\n",
    "5         108472        0.67882        0.96399\n",
    "Top 72    ()            0.68187        0.96825\n",
    "Top 348   ()            0.68303        0.96987\n",
    "Top 1318  ()            0.68381        0.97103\n",
    "Top 4578  ()            0.68442        0.97182\n",
    "PCA 40                  0.69091        0.98118"
   ]
  },
  {
   "cell_type": "code",
   "execution_count": 21,
   "id": "694c5dd2-9849-43f1-b1e6-88d47b9b70fa",
   "metadata": {
    "execution": {
     "iopub.execute_input": "2022-11-15T20:16:10.217777Z",
     "iopub.status.busy": "2022-11-15T20:16:10.217404Z",
     "iopub.status.idle": "2022-11-15T20:16:10.541650Z",
     "shell.execute_reply": "2022-11-15T20:16:10.541050Z",
     "shell.execute_reply.started": "2022-11-15T20:16:10.217754Z"
    },
    "tags": []
   },
   "outputs": [
    {
     "data": {
      "text/plain": [
       "Text(0, 0.5, 'Correlation')"
      ]
     },
     "execution_count": 21,
     "metadata": {},
     "output_type": "execute_result"
    },
    {
     "data": {
      "image/png": "[encoded data removed]",
      "text/plain": [
       "<Figure size 432x288 with 1 Axes>"
      ]
     },
     "metadata": {
      "needs_background": "light"
     },
     "output_type": "display_data"
    }
   ],
   "source": [
    "fig, ax = plt.subplots()\n",
    "x = [26000,1262,107,32,2,1]\n",
    "y = [0.67676,0.67483,0.67273,0.67191,0.66981,0.66961]\n",
    "ax.plot(x,y,label = \"individual genes\")\n",
    "ax.hlines(0.68295,xmin=0,xmax = 26000, label = '40 PCA components',linestyle='--')\n",
    "ax.legend()\n",
    "ax.set_xlabel('Nr. of genes included')\n",
    "ax.set_xscale('log')\n",
    "ax.set_ylabel('Correlation')\n",
    "# ax2 = ax.twinx()\n",
    "# ax2.plot([26000,1],[0.98490,0.96554],color='r')\n",
    "# ax2.set_ylabel('PCA 64 Correlation')\n"
   ]
  },
  {
   "cell_type": "code",
   "execution_count": 3,
   "id": "ca30f2b0-b73a-4426-8d5e-38e764777ede",
   "metadata": {
    "execution": {
     "iopub.execute_input": "2022-11-16T20:38:26.830802Z",
     "iopub.status.busy": "2022-11-16T20:38:26.830351Z",
     "iopub.status.idle": "2022-11-16T20:38:26.930880Z",
     "shell.execute_reply": "2022-11-16T20:38:26.930213Z",
     "shell.execute_reply.started": "2022-11-16T20:38:26.830776Z"
    },
    "tags": []
   },
   "outputs": [],
   "source": [
    "with np.load('./sparse/train_multi_inputs_idxcol.npz',allow_pickle=True) as data:\n",
    "    cell_columns = data['columns']"
   ]
  },
  {
   "cell_type": "code",
   "execution_count": 18,
   "id": "af0baeb7-6d76-4ae7-a67d-dd995475f8d5",
   "metadata": {
    "execution": {
     "iopub.execute_input": "2022-11-15T20:11:26.898990Z",
     "iopub.status.busy": "2022-11-15T20:11:26.898597Z",
     "iopub.status.idle": "2022-11-15T20:11:26.903136Z",
     "shell.execute_reply": "2022-11-15T20:11:26.902527Z",
     "shell.execute_reply.started": "2022-11-15T20:11:26.898967Z"
    }
   },
   "outputs": [
    {
     "data": {
      "text/plain": [
       "{100203}"
      ]
     },
     "execution_count": 18,
     "metadata": {},
     "output_type": "execute_result"
    }
   ],
   "source": [
    "abc"
   ]
  },
  {
   "cell_type": "code",
   "execution_count": 8,
   "id": "a027cb32-2754-436f-bd4e-0e537039fc1f",
   "metadata": {
    "execution": {
     "iopub.execute_input": "2022-11-16T20:39:48.029559Z",
     "iopub.status.busy": "2022-11-16T20:39:48.029176Z",
     "iopub.status.idle": "2022-11-16T20:39:48.034472Z",
     "shell.execute_reply": "2022-11-16T20:39:48.033682Z",
     "shell.execute_reply.started": "2022-11-16T20:39:48.029534Z"
    },
    "tags": []
   },
   "outputs": [
    {
     "data": {
      "text/plain": [
       "'chr20:44543967-44544901'"
      ]
     },
     "execution_count": 8,
     "metadata": {},
     "output_type": "execute_result"
    }
   ],
   "source": [
    "cell_columns[108472]"
   ]
  },
  {
   "cell_type": "code",
   "execution_count": 28,
   "id": "5d084387-9825-4c4c-801a-b6930806a520",
   "metadata": {
    "execution": {
     "iopub.execute_input": "2022-11-15T20:37:48.059042Z",
     "iopub.status.busy": "2022-11-15T20:37:48.058647Z",
     "iopub.status.idle": "2022-11-15T20:37:48.067760Z",
     "shell.execute_reply": "2022-11-15T20:37:48.067196Z",
     "shell.execute_reply.started": "2022-11-15T20:37:48.059018Z"
    },
    "tags": []
   },
   "outputs": [
    {
     "data": {
      "text/plain": [
       "0.000000    95401\n",
       "2.529749        3\n",
       "2.402490        3\n",
       "2.298290        3\n",
       "3.165558        2\n",
       "            ...  \n",
       "2.793299        1\n",
       "2.691183        1\n",
       "2.581706        1\n",
       "2.565930        1\n",
       "1.792285        1\n",
       "Length: 10385, dtype: int64"
      ]
     },
     "execution_count": 28,
     "metadata": {},
     "output_type": "execute_result"
    }
   ],
   "source": [
    "pd.Series(X_copy.flatten()).value_counts()"
   ]
  },
  {
   "cell_type": "code",
   "execution_count": 29,
   "id": "dad192d5-72e2-4bf0-8ea8-48decbdeb979",
   "metadata": {
    "execution": {
     "iopub.execute_input": "2022-11-15T20:37:57.829608Z",
     "iopub.status.busy": "2022-11-15T20:37:57.829212Z",
     "iopub.status.idle": "2022-11-15T20:37:57.833666Z",
     "shell.execute_reply": "2022-11-15T20:37:57.833115Z",
     "shell.execute_reply.started": "2022-11-15T20:37:57.829585Z"
    }
   },
   "outputs": [
    {
     "data": {
      "text/plain": [
       "105942"
      ]
     },
     "execution_count": 29,
     "metadata": {},
     "output_type": "execute_result"
    }
   ],
   "source": [
    "len(X_copy)"
   ]
  },
  {
   "cell_type": "code",
   "execution_count": 30,
   "id": "5ce25759-b6b5-4565-94e5-ad7a196b17dd",
   "metadata": {
    "execution": {
     "iopub.execute_input": "2022-11-15T20:38:08.867106Z",
     "iopub.status.busy": "2022-11-15T20:38:08.866714Z",
     "iopub.status.idle": "2022-11-15T20:38:08.871272Z",
     "shell.execute_reply": "2022-11-15T20:38:08.870728Z",
     "shell.execute_reply.started": "2022-11-15T20:38:08.867083Z"
    }
   },
   "outputs": [
    {
     "data": {
      "text/plain": [
       "10541"
      ]
     },
     "execution_count": 30,
     "metadata": {},
     "output_type": "execute_result"
    }
   ],
   "source": [
    "105942-95401"
   ]
  },
  {
   "cell_type": "markdown",
   "id": "ea58707c-437b-4181-94e6-88829cb98f1d",
   "metadata": {},
   "source": [
    "so this amazing gene that does everything is zero 90% of the time."
   ]
  },
  {
   "cell_type": "code",
   "execution_count": 32,
   "id": "b5793094-4650-4e9a-bfbb-1880e3b1b160",
   "metadata": {
    "execution": {
     "iopub.execute_input": "2022-11-15T20:40:48.281711Z",
     "iopub.status.busy": "2022-11-15T20:40:48.280977Z",
     "iopub.status.idle": "2022-11-15T20:40:48.590611Z",
     "shell.execute_reply": "2022-11-15T20:40:48.590016Z",
     "shell.execute_reply.started": "2022-11-15T20:40:48.281678Z"
    },
    "tags": []
   },
   "outputs": [
    {
     "data": {
      "text/plain": [
       "Text(0, 0.5, 'count')"
      ]
     },
     "execution_count": 32,
     "metadata": {},
     "output_type": "execute_result"
    },
    {
     "data": {
      "image/png": "[encoded data removed]",
      "text/plain": [
       "<Figure size 432x288 with 1 Axes>"
      ]
     },
     "metadata": {
      "needs_background": "light"
     },
     "output_type": "display_data"
    }
   ],
   "source": [
    "plt.hist(list(filter(lambda x: x> 0,X_copy.flatten())))\n",
    "plt.xlabel('value')\n",
    "plt.ylabel('count')"
   ]
  },
  {
   "cell_type": "code",
   "execution_count": 33,
   "id": "5f17be9b-f327-41ba-9803-f771b5a2c293",
   "metadata": {
    "execution": {
     "iopub.execute_input": "2022-11-15T20:44:04.798968Z",
     "iopub.status.busy": "2022-11-15T20:44:04.798581Z",
     "iopub.status.idle": "2022-11-15T20:44:04.802701Z",
     "shell.execute_reply": "2022-11-15T20:44:04.802108Z",
     "shell.execute_reply.started": "2022-11-15T20:44:04.798943Z"
    }
   },
   "outputs": [],
   "source": [
    "np.save('./sparse/miracle.npy',X_copy)"
   ]
  },
  {
   "cell_type": "code",
   "execution_count": 35,
   "id": "8a5e0a21-f3f7-4197-9cf4-1dcb6a9e4fc5",
   "metadata": {
    "execution": {
     "iopub.execute_input": "2022-11-15T20:45:13.043931Z",
     "iopub.status.busy": "2022-11-15T20:45:13.043545Z",
     "iopub.status.idle": "2022-11-15T20:45:13.047183Z",
     "shell.execute_reply": "2022-11-15T20:45:13.046603Z",
     "shell.execute_reply.started": "2022-11-15T20:45:13.043908Z"
    }
   },
   "outputs": [],
   "source": [
    "miracle = X_copy.copy()"
   ]
  },
  {
   "cell_type": "code",
   "execution_count": 37,
   "id": "f4c4cd0a-47dd-4eb1-9ebd-7659004ab595",
   "metadata": {
    "execution": {
     "iopub.execute_input": "2022-11-15T20:45:53.809238Z",
     "iopub.status.busy": "2022-11-15T20:45:53.808832Z",
     "iopub.status.idle": "2022-11-15T20:49:59.401587Z",
     "shell.execute_reply": "2022-11-15T20:49:59.400958Z",
     "shell.execute_reply.started": "2022-11-15T20:45:53.809216Z"
    },
    "tags": []
   },
   "outputs": [
    {
     "name": "stdout",
     "output_type": "stream",
     "text": [
      "250/250 [==============================] - 0s 2ms/step\n",
      "\n",
      " --------- FOLD 0 -----------\n",
      "Mean squared error = 5.429999828338623\n",
      "Correlation = 0.68724\n",
      "PCA Correlation = 0.98468\n",
      "250/250 [==============================] - 0s 2ms/step\n",
      "\n",
      " --------- FOLD 1 -----------\n",
      "Mean squared error = 4.96999979019165\n",
      "Correlation = 0.67902\n",
      "PCA Correlation = 0.98569\n",
      "250/250 [==============================] - 0s 1ms/step\n",
      "\n",
      " --------- FOLD 2 -----------\n",
      "Mean squared error = 5.550000190734863\n",
      "Correlation = 0.68241\n",
      "PCA Correlation = 0.98414\n",
      "\u001b[32m\u001b[1mMean corr = 0.68289\u001b[0m\n"
     ]
    }
   ],
   "source": [
    "targets_copy = scipy.sparse.load_npz(\"./sparse/train_multi_targets_values.sparse.npz\")\n",
    "targets_copy = scprep.filter.remove_empty_genes(targets_copy)\n",
    "inputs_both_128 = np.load(\"./multi_pca/inputs_both_128.npy\")\n",
    "X_copy = inputs_both_128[:targets_copy.shape[0],:40]\n",
    "X_copy = np.hstack([X_copy,miracle])\n",
    "for i in selector.keys():\n",
    "    targets = targets_copy.copy()\n",
    "    X = X_copy.copy()\n",
    "    targets = targets[selector[i]]\n",
    "    # Normalize the targets row-wise: This doesn't change the correlations,\n",
    "    # and negative_correlation_loss depends on it\n",
    "    targets -= targets.mean(axis=1).reshape(-1, 1)\n",
    "    targets /= targets.std(axis=1).reshape(-1, 1)\n",
    "    targets = np.array(targets)\n",
    "    svd = TruncatedSVD(n_components = 512,random_state = 1)\n",
    "    Y = svd.fit_transform(targets)[:,:64]\n",
    "    X = X_copy[selector[i]]\n",
    "    evaluate(i,'multi',save=False)"
   ]
  },
  {
   "cell_type": "markdown",
   "id": "047e71a1-713f-4b78-896c-46c6db427ce4",
   "metadata": {},
   "source": [
    "Before: Mean corr = 0.68295\n",
    "So this gene doesn't add anything that wasn't already contained in PCA components."
   ]
  },
  {
   "cell_type": "code",
   "execution_count": 8,
   "id": "90cf0d39-923e-47da-b411-f2821d59fa34",
   "metadata": {
    "execution": {
     "iopub.execute_input": "2022-11-15T21:07:08.700499Z",
     "iopub.status.busy": "2022-11-15T21:07:08.700113Z",
     "iopub.status.idle": "2022-11-15T21:07:08.704435Z",
     "shell.execute_reply": "2022-11-15T21:07:08.703933Z",
     "shell.execute_reply.started": "2022-11-15T21:07:08.700475Z"
    }
   },
   "outputs": [
    {
     "data": {
      "text/plain": [
       "(128,)"
      ]
     },
     "execution_count": 8,
     "metadata": {},
     "output_type": "execute_result"
    }
   ],
   "source": [
    "exp_var.shape"
   ]
  },
  {
   "cell_type": "code",
   "execution_count": null,
   "id": "551c005a-c68a-4c67-84cf-581305b6725d",
   "metadata": {},
   "outputs": [
    {
     "data": {
      "text/plain": [
       "(128, 228942)"
      ]
     },
     "execution_count": 14,
     "metadata": {},
     "output_type": "execute_result"
    }
   ],
   "source": [
    "components.shape"
   ]
  },
  {
   "cell_type": "code",
   "execution_count": 33,
   "id": "3b5e0b83-b507-4ae6-aae0-633ee6bf52f6",
   "metadata": {
    "execution": {
     "iopub.execute_input": "2022-11-15T21:13:36.722032Z",
     "iopub.status.busy": "2022-11-15T21:13:36.721652Z",
     "iopub.status.idle": "2022-11-15T21:13:36.881682Z",
     "shell.execute_reply": "2022-11-15T21:13:36.881094Z",
     "shell.execute_reply.started": "2022-11-15T21:13:36.722008Z"
    },
    "tags": []
   },
   "outputs": [
    {
     "data": {
      "text/plain": [
       "(5.74e-05, 0.00010592506332613993)"
      ]
     },
     "execution_count": 33,
     "metadata": {},
     "output_type": "execute_result"
    },
    {
     "data": {
      "image/png": "[encoded data removed]",
      "text/plain": [
       "<Figure size 432x288 with 1 Axes>"
      ]
     },
     "metadata": {
      "needs_background": "light"
     },
     "output_type": "display_data"
    }
   ],
   "source": [
    "plt.hist(np.abs(components[:,list(abc)]).T@exp_var)\n",
    "plt.xlabel('absolute value of gene weighted by explained variance')\n",
    "plt.ylabel('count')\n",
    "plt.xlim(left = 0.0000574)"
   ]
  },
  {
   "cell_type": "code",
   "execution_count": 39,
   "id": "86ce7819-6ef6-4e4a-a8b4-abbd547f6e7f",
   "metadata": {
    "execution": {
     "iopub.execute_input": "2022-11-15T21:18:08.285226Z",
     "iopub.status.busy": "2022-11-15T21:18:08.284823Z",
     "iopub.status.idle": "2022-11-15T21:18:08.642943Z",
     "shell.execute_reply": "2022-11-15T21:18:08.642320Z",
     "shell.execute_reply.started": "2022-11-15T21:18:08.285202Z"
    }
   },
   "outputs": [],
   "source": [
    "import warnings\n",
    "warnings.filterwarnings(\"ignore\")\n",
    "\n",
    "with np.load('./sparse/train_multi_inputs_idxcol.npz',allow_pickle=True) as data:\n",
    "    cell_index = data['index']\n",
    "with np.load('./sparse/test_multi_inputs_idxcol.npz',allow_pickle=True) as data:\n",
    "    cell_index_t = data['index']\n",
    "metadata_df = pd.read_csv('../input/open-problems-multimodal/metadata.csv', index_col='cell_id')\n",
    "metadata_df = metadata_df[metadata_df.technology==\"multiome\"]\n",
    "meta = metadata_df.reindex(cell_index)\n",
    "meta['range'] = range(len(meta))\n",
    "selector = {}\n",
    "i = 0\n",
    "selector[i] = meta.loc[(meta.day == 2)&(meta.donor == 32606)].range.values"
   ]
  },
  {
   "cell_type": "code",
   "execution_count": 40,
   "id": "e9ddd35e-79fe-49a3-9500-5e3c42d8ec57",
   "metadata": {
    "execution": {
     "iopub.execute_input": "2022-11-15T21:18:20.578235Z",
     "iopub.status.busy": "2022-11-15T21:18:20.577850Z",
     "iopub.status.idle": "2022-11-15T21:19:47.734351Z",
     "shell.execute_reply": "2022-11-15T21:19:47.733696Z",
     "shell.execute_reply.started": "2022-11-15T21:18:20.578210Z"
    }
   },
   "outputs": [
    {
     "name": "stderr",
     "output_type": "stream",
     "text": [
      "2022-11-15 21:18:44.342809: I tensorflow/stream_executor/cuda/cuda_gpu_executor.cc:980] successful NUMA node read from SysFS had negative value (-1), but there must be at least one NUMA node, so returning NUMA node zero\n",
      "2022-11-15 21:18:44.349971: W tensorflow/stream_executor/platform/default/dso_loader.cc:64] Could not load dynamic library 'libcudnn.so.8'; dlerror: libcudnn.so.8: cannot open shared object file: No such file or directory; LD_LIBRARY_PATH: /usr/local/nvidia/lib:/usr/local/nvidia/lib64\n",
      "2022-11-15 21:18:44.349994: W tensorflow/core/common_runtime/gpu/gpu_device.cc:1934] Cannot dlopen some GPU libraries. Please make sure the missing libraries mentioned above are installed properly if you would like to use GPU. Follow the guide at https://www.tensorflow.org/install/gpu for how to download and setup the required libraries for your platform.\n",
      "Skipping registering GPU devices...\n",
      "2022-11-15 21:18:44.350418: I tensorflow/core/platform/cpu_feature_guard.cc:193] This TensorFlow binary is optimized with oneAPI Deep Neural Network Library (oneDNN) to use the following CPU instructions in performance-critical operations:  AVX2 AVX512F AVX512_VNNI FMA\n",
      "To enable them in other operations, rebuild TensorFlow with the appropriate compiler flags.\n"
     ]
    },
    {
     "name": "stdout",
     "output_type": "stream",
     "text": [
      "76/76 [==============================] - 0s 4ms/step\n",
      "\n",
      " --------- FOLD 0 -----------\n",
      "Mean squared error = 9.819999694824219\n",
      "Correlation = 0.68498\n",
      "PCA Correlation = 0.97264\n",
      "76/76 [==============================] - 0s 3ms/step\n",
      "\n",
      " --------- FOLD 1 -----------\n",
      "Mean squared error = 10.109999656677246\n",
      "Correlation = 0.68314\n",
      "PCA Correlation = 0.97170\n",
      "76/76 [==============================] - 0s 4ms/step\n",
      "\n",
      " --------- FOLD 2 -----------\n",
      "Mean squared error = 10.069999694824219\n",
      "Correlation = 0.68170\n",
      "PCA Correlation = 0.97180\n",
      "\u001b[32m\u001b[1mMean corr = 0.68327\u001b[0m\n"
     ]
    }
   ],
   "source": [
    "targets_copy = scipy.sparse.load_npz(\"./sparse/train_multi_targets_values.sparse.npz\")\n",
    "targets_copy = scprep.filter.remove_empty_genes(targets_copy)\n",
    "for i in selector.keys():\n",
    "    targets = targets_copy[selector[i]]\n",
    "    X = X_copy[selector[i]]\n",
    "    # Normalize the targets row-wise: This doesn't change the correlations,\n",
    "    # and negative_correlation_loss depends on it\n",
    "    targets -= targets.mean(axis=1).reshape(-1, 1)\n",
    "    targets /= targets.std(axis=1).reshape(-1, 1)\n",
    "    targets = np.array(targets)\n",
    "    svd = TruncatedSVD(n_components = 512,random_state = 1)\n",
    "    Y = svd.fit_transform(targets)[:,:64]\n",
    "    models = evaluate(i,'multi',save=False)"
   ]
  },
  {
   "cell_type": "code",
   "execution_count": 50,
   "id": "088eb797-30f5-4703-aafd-46bdfaa7ba38",
   "metadata": {
    "execution": {
     "iopub.execute_input": "2022-11-15T21:23:51.453910Z",
     "iopub.status.busy": "2022-11-15T21:23:51.453519Z",
     "iopub.status.idle": "2022-11-15T21:23:59.959272Z",
     "shell.execute_reply": "2022-11-15T21:23:59.958609Z",
     "shell.execute_reply.started": "2022-11-15T21:23:51.453886Z"
    }
   },
   "outputs": [],
   "source": [
    "targets_copy = targets_copy.toarray()"
   ]
  },
  {
   "cell_type": "code",
   "execution_count": 52,
   "id": "ef540f72-bcdb-4c75-b264-140353af1366",
   "metadata": {
    "execution": {
     "iopub.execute_input": "2022-11-15T21:26:22.907880Z",
     "iopub.status.busy": "2022-11-15T21:26:22.907499Z",
     "iopub.status.idle": "2022-11-15T21:26:22.912989Z",
     "shell.execute_reply": "2022-11-15T21:26:22.912430Z",
     "shell.execute_reply.started": "2022-11-15T21:26:22.907856Z"
    }
   },
   "outputs": [],
   "source": [
    "selector_31800 = meta.loc[(meta.day == 2)&(meta.donor == 31800)].range.values"
   ]
  },
  {
   "cell_type": "code",
   "execution_count": 68,
   "id": "e68555fb-8a43-47d5-86b1-2c12322342b5",
   "metadata": {
    "execution": {
     "iopub.execute_input": "2022-11-15T21:35:35.943829Z",
     "iopub.status.busy": "2022-11-15T21:35:35.943442Z",
     "iopub.status.idle": "2022-11-15T21:35:48.571838Z",
     "shell.execute_reply": "2022-11-15T21:35:48.571216Z",
     "shell.execute_reply.started": "2022-11-15T21:35:35.943804Z"
    },
    "tags": []
   },
   "outputs": [
    {
     "name": "stdout",
     "output_type": "stream",
     "text": [
      "222/222 [==============================] - 1s 3ms/step\n",
      "222/222 [==============================] - 1s 3ms/step\n",
      "222/222 [==============================] - 1s 3ms/step\n",
      "corr = 0.6759688482609001\n"
     ]
    }
   ],
   "source": [
    "corr = 0\n",
    "pred_raw = np.zeros((len(X_copy[selector_31800]),targets_copy.shape[1]))\n",
    "for fold in range(3):\n",
    "    model = models[fold]\n",
    "    pred_raw += model.predict(X_copy[selector_31800])@svd.components_[:64]\n",
    "    corr += correlation_score(targets_copy[selector_31800],pred_raw)/3\n",
    "print(f'corr = {corr}')"
   ]
  },
  {
   "cell_type": "code",
   "execution_count": 59,
   "id": "b83e3e08-7f1d-4dff-ae2b-ece3df9820ef",
   "metadata": {
    "execution": {
     "iopub.execute_input": "2022-11-15T21:31:56.832214Z",
     "iopub.status.busy": "2022-11-15T21:31:56.831831Z",
     "iopub.status.idle": "2022-11-15T21:31:57.180643Z",
     "shell.execute_reply": "2022-11-15T21:31:57.180003Z",
     "shell.execute_reply.started": "2022-11-15T21:31:56.832188Z"
    },
    "tags": []
   },
   "outputs": [],
   "source": [
    "inputs_both_128 = np.load(\"./multi_pca/inputs_both_128.npy\")\n",
    "X_copy_PCA = inputs_both_128[:targets_copy.shape[0],:40]"
   ]
  },
  {
   "cell_type": "code",
   "execution_count": 63,
   "id": "ffe1d0e4-a2ad-4d79-9fbf-23c8ffa9e0ad",
   "metadata": {
    "execution": {
     "iopub.execute_input": "2022-11-15T21:33:19.678730Z",
     "iopub.status.busy": "2022-11-15T21:33:19.678340Z",
     "iopub.status.idle": "2022-11-15T21:33:31.464940Z",
     "shell.execute_reply": "2022-11-15T21:33:31.464291Z",
     "shell.execute_reply.started": "2022-11-15T21:33:19.678705Z"
    },
    "tags": []
   },
   "outputs": [
    {
     "name": "stdout",
     "output_type": "stream",
     "text": [
      "222/222 [==============================] - 1s 2ms/step\n",
      "222/222 [==============================] - 1s 2ms/step\n",
      "222/222 [==============================] - 1s 2ms/step\n",
      "corr = 0.6804574750609126\n"
     ]
    }
   ],
   "source": [
    "corr = 0\n",
    "pred_raw_PCA = np.zeros((len(X_copy_PCA[selector_31800]),targets_copy.shape[1]))\n",
    "svds = np.load(f\"./multi_model_saves/model_2_32606_svds.npy\")\n",
    "for fold in range(3):\n",
    "    model = load_model(f\"./multi_model_saves/model_2_32606_{fold}\")\n",
    "    pred_raw_PCA += model.predict(X_copy_PCA[selector_31800])@svds[:64]\n",
    "    corr += correlation_score(targets_copy[selector_31800],pred_raw_PCA)/3\n",
    "print(f'corr = {corr}')"
   ]
  },
  {
   "cell_type": "code",
   "execution_count": 69,
   "id": "d542389e-6e3c-4b54-ab2b-c3b46877825c",
   "metadata": {
    "execution": {
     "iopub.execute_input": "2022-11-15T21:35:51.152857Z",
     "iopub.status.busy": "2022-11-15T21:35:51.152453Z",
     "iopub.status.idle": "2022-11-15T21:36:11.000485Z",
     "shell.execute_reply": "2022-11-15T21:36:10.999868Z",
     "shell.execute_reply.started": "2022-11-15T21:35:51.152815Z"
    },
    "tags": []
   },
   "outputs": [
    {
     "name": "stdout",
     "output_type": "stream",
     "text": [
      "0\n",
      "0.6805654133079669\n",
      "0.1\n",
      "0.6806809139881743\n",
      "0.2\n",
      "0.6806758518982824\n",
      "0.3\n",
      "0.6805492978288414\n",
      "0.4\n",
      "0.6803007023661078\n",
      "0.5\n",
      "0.6799299098249159\n"
     ]
    }
   ],
   "source": [
    "pred_raw_PCA -= pred_raw_PCA.mean(axis=1).reshape(-1, 1)\n",
    "pred_raw_PCA /= pred_raw_PCA.std(axis=1).reshape(-1, 1)\n",
    "pred_raw -= pred_raw.mean(axis=1).reshape(-1, 1)\n",
    "pred_raw /= pred_raw.std(axis=1).reshape(-1, 1)\n",
    "for i in (0,0.1,0.2,0.3,0.4,0.5):\n",
    "    pred_raw_combined = i*pred_raw + (1-i)*pred_raw_PCA\n",
    "    print(i)\n",
    "    print(correlation_score(targets_copy[selector_31800],pred_raw_combined))"
   ]
  }
 ],
 "metadata": {
  "kernelspec": {
   "display_name": "saturn (Python 3)",
   "language": "python",
   "name": "python3"
  },
  "language_info": {
   "codemirror_mode": {
    "name": "ipython",
    "version": 3
   },
   "file_extension": ".py",
   "mimetype": "text/x-python",
   "name": "python",
   "nbconvert_exporter": "python",
   "pygments_lexer": "ipython3",
   "version": "3.9.13"
  }
 },
 "nbformat": 4,
 "nbformat_minor": 5
}
