{
 "cells": [
  {
   "cell_type": "code",
   "execution_count": 1,
   "id": "9d87c5d4-83e0-4983-8263-ee66cc5af724",
   "metadata": {
    "execution": {
     "iopub.execute_input": "2022-11-06T21:36:18.857120Z",
     "iopub.status.busy": "2022-11-06T21:36:18.856865Z",
     "iopub.status.idle": "2022-11-06T21:36:28.941869Z",
     "shell.execute_reply": "2022-11-06T21:36:28.941238Z",
     "shell.execute_reply.started": "2022-11-06T21:36:18.857061Z"
    },
    "tags": []
   },
   "outputs": [
    {
     "ename": "ModuleNotFoundError",
     "evalue": "No module named 'tensorflow'",
     "output_type": "error",
     "traceback": [
      "\u001b[0;31m---------------------------------------------------------------------------\u001b[0m",
      "\u001b[0;31mModuleNotFoundError\u001b[0m                       Traceback (most recent call last)",
      "Input \u001b[0;32mIn [1]\u001b[0m, in \u001b[0;36m<cell line: 41>\u001b[0;34m()\u001b[0m\n\u001b[1;32m     38\u001b[0m     \u001b[38;5;28;01mreturn\u001b[39;00m \u001b[38;5;241m-\u001b[39m r\n\u001b[1;32m     40\u001b[0m get_ipython()\u001b[38;5;241m.\u001b[39msystem(\u001b[38;5;124m'\u001b[39m\u001b[38;5;124mpip install keras_tuner\u001b[39m\u001b[38;5;124m'\u001b[39m)\n\u001b[0;32m---> 41\u001b[0m \u001b[38;5;28;01mimport\u001b[39;00m \u001b[38;5;21;01mkeras_tuner\u001b[39;00m\n\u001b[1;32m     42\u001b[0m \u001b[38;5;28;01mfrom\u001b[39;00m \u001b[38;5;21;01msklearn\u001b[39;00m\u001b[38;5;21;01m.\u001b[39;00m\u001b[38;5;21;01mmodel_selection\u001b[39;00m \u001b[38;5;28;01mimport\u001b[39;00m train_test_split\n\u001b[1;32m     43\u001b[0m \u001b[38;5;28;01mimport\u001b[39;00m \u001b[38;5;21;01mscprep\u001b[39;00m\n",
      "File \u001b[0;32m/srv/conda/envs/saturn/lib/python3.9/site-packages/keras_tuner/__init__.py:16\u001b[0m, in \u001b[0;36m<module>\u001b[0;34m\u001b[0m\n\u001b[1;32m      1\u001b[0m \u001b[38;5;66;03m# Copyright 2019 The KerasTuner Authors\u001b[39;00m\n\u001b[1;32m      2\u001b[0m \u001b[38;5;66;03m#\u001b[39;00m\n\u001b[1;32m      3\u001b[0m \u001b[38;5;66;03m# Licensed under the Apache License, Version 2.0 (the \"License\");\u001b[39;00m\n\u001b[0;32m   (...)\u001b[0m\n\u001b[1;32m     12\u001b[0m \u001b[38;5;66;03m# See the License for the specific language governing permissions and\u001b[39;00m\n\u001b[1;32m     13\u001b[0m \u001b[38;5;66;03m# limitations under the License.\u001b[39;00m\n\u001b[0;32m---> 16\u001b[0m \u001b[38;5;28;01mfrom\u001b[39;00m \u001b[38;5;21;01mkeras_tuner\u001b[39;00m \u001b[38;5;28;01mimport\u001b[39;00m applications\n\u001b[1;32m     17\u001b[0m \u001b[38;5;28;01mfrom\u001b[39;00m \u001b[38;5;21;01mkeras_tuner\u001b[39;00m \u001b[38;5;28;01mimport\u001b[39;00m oracles\n\u001b[1;32m     18\u001b[0m \u001b[38;5;28;01mfrom\u001b[39;00m \u001b[38;5;21;01mkeras_tuner\u001b[39;00m \u001b[38;5;28;01mimport\u001b[39;00m tuners\n",
      "File \u001b[0;32m/srv/conda/envs/saturn/lib/python3.9/site-packages/keras_tuner/applications/__init__.py:16\u001b[0m, in \u001b[0;36m<module>\u001b[0;34m\u001b[0m\n\u001b[1;32m      1\u001b[0m \u001b[38;5;66;03m# Copyright 2019 The KerasTuner Authors\u001b[39;00m\n\u001b[1;32m      2\u001b[0m \u001b[38;5;66;03m#\u001b[39;00m\n\u001b[1;32m      3\u001b[0m \u001b[38;5;66;03m# Licensed under the Apache License, Version 2.0 (the \"License\");\u001b[39;00m\n\u001b[0;32m   (...)\u001b[0m\n\u001b[1;32m     12\u001b[0m \u001b[38;5;66;03m# See the License for the specific language governing permissions and\u001b[39;00m\n\u001b[1;32m     13\u001b[0m \u001b[38;5;66;03m# limitations under the License.\u001b[39;00m\n\u001b[0;32m---> 16\u001b[0m \u001b[38;5;28;01mfrom\u001b[39;00m \u001b[38;5;21;01mkeras_tuner\u001b[39;00m\u001b[38;5;21;01m.\u001b[39;00m\u001b[38;5;21;01mapplications\u001b[39;00m\u001b[38;5;21;01m.\u001b[39;00m\u001b[38;5;21;01maugment\u001b[39;00m \u001b[38;5;28;01mimport\u001b[39;00m HyperImageAugment\n\u001b[1;32m     17\u001b[0m \u001b[38;5;28;01mfrom\u001b[39;00m \u001b[38;5;21;01mkeras_tuner\u001b[39;00m\u001b[38;5;21;01m.\u001b[39;00m\u001b[38;5;21;01mapplications\u001b[39;00m\u001b[38;5;21;01m.\u001b[39;00m\u001b[38;5;21;01mefficientnet\u001b[39;00m \u001b[38;5;28;01mimport\u001b[39;00m HyperEfficientNet\n\u001b[1;32m     18\u001b[0m \u001b[38;5;28;01mfrom\u001b[39;00m \u001b[38;5;21;01mkeras_tuner\u001b[39;00m\u001b[38;5;21;01m.\u001b[39;00m\u001b[38;5;21;01mapplications\u001b[39;00m\u001b[38;5;21;01m.\u001b[39;00m\u001b[38;5;21;01mresnet\u001b[39;00m \u001b[38;5;28;01mimport\u001b[39;00m HyperResNet\n",
      "File \u001b[0;32m/srv/conda/envs/saturn/lib/python3.9/site-packages/keras_tuner/applications/augment.py:16\u001b[0m, in \u001b[0;36m<module>\u001b[0;34m\u001b[0m\n\u001b[1;32m      1\u001b[0m \u001b[38;5;66;03m# Copyright 2020 Google LLC. All Rights Reserved.\u001b[39;00m\n\u001b[1;32m      2\u001b[0m \u001b[38;5;66;03m#\u001b[39;00m\n\u001b[1;32m      3\u001b[0m \u001b[38;5;66;03m# Licensed under the Apache License, Version 2.0 (the \"License\");\u001b[39;00m\n\u001b[0;32m   (...)\u001b[0m\n\u001b[1;32m     12\u001b[0m \u001b[38;5;66;03m# See the License for the specific language governing permissions and\u001b[39;00m\n\u001b[1;32m     13\u001b[0m \u001b[38;5;66;03m# limitations under the License.\u001b[39;00m\n\u001b[0;32m---> 16\u001b[0m \u001b[38;5;28;01mimport\u001b[39;00m \u001b[38;5;21;01mtensorflow\u001b[39;00m \u001b[38;5;28;01mas\u001b[39;00m \u001b[38;5;21;01mtf\u001b[39;00m\n\u001b[1;32m     17\u001b[0m \u001b[38;5;28;01mimport\u001b[39;00m \u001b[38;5;21;01mtensorflow\u001b[39;00m\u001b[38;5;21;01m.\u001b[39;00m\u001b[38;5;21;01mkeras\u001b[39;00m \u001b[38;5;28;01mas\u001b[39;00m \u001b[38;5;21;01mkeras\u001b[39;00m\n\u001b[1;32m     18\u001b[0m \u001b[38;5;28;01mfrom\u001b[39;00m \u001b[38;5;21;01mtensorflow\u001b[39;00m\u001b[38;5;21;01m.\u001b[39;00m\u001b[38;5;21;01mkeras\u001b[39;00m \u001b[38;5;28;01mimport\u001b[39;00m layers\n",
      "\u001b[0;31mModuleNotFoundError\u001b[0m: No module named 'tensorflow'"
     ]
    }
   ],
   "source": [
    "%%capture\n",
    "!pip install tables\n",
    "!pip install keras-tuner\n",
    "import os, gc, pickle, datetime, scipy.sparse\n",
    "import pandas as pd\n",
    "import matplotlib.pyplot as plt\n",
    "import numpy as np\n",
    "from colorama import Fore, Back, Style\n",
    "\n",
    "from sklearn.model_selection import GroupKFold, KFold\n",
    "from sklearn.preprocessing import StandardScaler\n",
    "from sklearn.decomposition import TruncatedSVD,PCA\n",
    "from sklearn.metrics import mean_squared_error\n",
    "\n",
    "import matplotlib.pyplot as plt\n",
    "from matplotlib.ticker import MaxNLocator\n",
    "import seaborn as sns\n",
    "from cycler import cycler\n",
    "from IPython.display import display\n",
    "\n",
    "import scipy.sparse\n",
    "import scprep\n",
    "\n",
    "def correlation_score(y_true, y_pred):\n",
    "    if type(y_true) == pd.DataFrame: y_true = y_true.values\n",
    "    if type(y_pred) == pd.DataFrame: y_pred = y_pred.values\n",
    "    corrsum = 0\n",
    "    for i in range(y_true.shape[0]):\n",
    "        corrsum += np.corrcoef(y_true[i], y_pred[i])[1, 0]\n",
    "    return corrsum / len(y_true)\n",
    "\n",
    "def negative_correlation_loss(y_true, y_pred):\n",
    "    my = K.mean(tf.convert_to_tensor(y_pred), axis=1)\n",
    "    my = tf.tile(tf.expand_dims(my, axis=1), (1, tf.shape(y_true)[1]))\n",
    "    ym = y_pred - my\n",
    "    r_num = K.sum(tf.multiply(y_true, ym), axis=1)\n",
    "    r_den = tf.sqrt(K.sum(K.square(ym), axis=1) * float(tf.shape(y_true)[-1]))\n",
    "    r = tf.reduce_mean(r_num / r_den)\n",
    "    return - r\n",
    "\n",
    "!pip install keras_tuner\n",
    "import keras_tuner\n",
    "from sklearn.model_selection import train_test_split\n",
    "import scprep\n",
    "\n",
    "!pip install --upgrade --force-reinstall tensorflow\n",
    "import math\n",
    "import tensorflow as tf\n",
    "import tensorflow.keras.backend as K\n",
    "from tensorflow.keras.models import Model, load_model\n",
    "from tensorflow.keras.callbacks import ReduceLROnPlateau, LearningRateScheduler, EarlyStopping\n",
    "from tensorflow.keras.layers import Dense, Input, Concatenate, Dropout, BatchNormalization\n",
    "LR_START = 0.01\n",
    "BATCH_SIZE = 512\n",
    "\n",
    "best_hp = keras_tuner.HyperParameters()\n",
    "best_hp.values = {'reg1': 0.0001,\n",
    "                'reg2': 3.307e-07,\n",
    "                'units1': 1024,\n",
    "                'units2': 1024,\n",
    "                'units3': 1024,\n",
    "                'lr': 0.001\n",
    "                 }\n",
    "\n",
    "def create_model(hp=best_hp):\n",
    "    \n",
    "    #reg1 = 8e-5\n",
    "    #reg2 = 2e-5\n",
    "    # reg1 = 9.613e-06\n",
    "    # reg2 = 1e-07\n",
    "    reg1 = hp.Float(\"reg1\", min_value=1e-8, max_value=1e-4, sampling=\"log\")\n",
    "    reg2 = hp.Float(\"reg2\", min_value=1e-8, max_value=1e-4, sampling=\"log\")\n",
    "    \n",
    "    REG1 = tf.keras.regularizers.l2(reg1)\n",
    "    REG2 = tf.keras.regularizers.l2(reg2)\n",
    "    \n",
    "    DROP = 0.1\n",
    "\n",
    "    activation = 'selu'\n",
    "    inputs = Input(shape =(X.shape[1],))\n",
    "\n",
    "    x0 = Dense(hp.Choice('units1', [1024,512,256]), \n",
    "              kernel_regularizer = REG1,\n",
    "              activation = activation,\n",
    "             )(inputs)\n",
    "    x0 = Dropout(DROP)(x0)\n",
    "    \n",
    "    x1 = Dense(hp.Choice('units2', [1024,512,256]), \n",
    "               kernel_regularizer = REG1,\n",
    "               activation = activation,\n",
    "             )(x0)\n",
    "    x1 = Dropout(DROP)(x1)\n",
    "    \n",
    "    x2 = Dense(hp.Choice('units3', [1024,512,256]), \n",
    "               kernel_regularizer = REG1,\n",
    "               activation = activation,\n",
    "             )(x1) \n",
    "    x2= Dropout(DROP)(x2)\n",
    "\n",
    "    x = Concatenate()([\n",
    "                x0, \n",
    "                x1, \n",
    "                x2\n",
    "                ])\n",
    "    x = Dense(Y.shape[1], \n",
    "                kernel_regularizer = REG2,\n",
    "                activation='linear',\n",
    "                )(x)\n",
    "    model = Model(inputs, x)\n",
    "    model.compile(\n",
    "        optimizer = tf.keras.optimizers.Adam(learning_rate=hp.Float(\"lr\", min_value=1e-3, max_value=1e-0)),\n",
    "        metrics = [negative_correlation_loss],\n",
    "        loss = 'mse'\n",
    "         )\n",
    "    return model"
   ]
  },
  {
   "cell_type": "code",
   "execution_count": 4,
   "id": "60256697-5fc7-4b28-a416-0bf8ba00248b",
   "metadata": {
    "execution": {
     "iopub.execute_input": "2022-11-04T00:08:31.630396Z",
     "iopub.status.busy": "2022-11-04T00:08:31.629815Z",
     "iopub.status.idle": "2022-11-04T00:09:02.147310Z",
     "shell.execute_reply": "2022-11-04T00:09:02.146638Z",
     "shell.execute_reply.started": "2022-11-04T00:08:31.630344Z"
    },
    "tags": []
   },
   "outputs": [],
   "source": [
    "X = np.load(\"/kaggle/working/gene_annot/train_multi_geneactivity.npy\")\n",
    "inputs_both_128 = np.load(\"../multi_pca/inputs_both_128.npy\")\n",
    "multi_X_train = inputs_both_128[:10592]\n",
    "X = np.hstack([X,multi_X_train])\n",
    "targets = scipy.sparse.load_npz(\"../sparse/train_multi_targets_values.sparse.npz\")\n",
    "targets = targets[:10592]\n",
    "targets = scprep.filter.remove_empty_genes(targets)\n",
    "# Normalize the targets row-wise: This doesn't change the correlations,\n",
    "# and negative_correlation_loss depends on it\n",
    "targets -= targets.mean(axis=1).reshape(-1, 1)\n",
    "targets /= targets.std(axis=1).reshape(-1, 1)\n",
    "\n",
    "with np.load('../sparse/train_multi_inputs_idxcol.npz',allow_pickle=True) as data:\n",
    "    cell_index = data['index']\n",
    "\n",
    "with np.load('../sparse/test_multi_inputs_idxcol.npz',allow_pickle=True) as data:\n",
    "    cell_index_t = data['index']\n",
    "\n",
    "metadata_df = pd.read_csv('../../input/open-problems-multimodal/metadata.csv', index_col='cell_id')\n",
    "metadata_df = metadata_df[metadata_df.technology==\"multiome\"]\n",
    "meta = metadata_df.reindex(cell_index)\n",
    "meta = meta.iloc[:10592]"
   ]
  },
  {
   "cell_type": "code",
   "execution_count": 5,
   "id": "7eeec732-5615-4b6b-811a-327ae79bf46d",
   "metadata": {
    "execution": {
     "iopub.execute_input": "2022-11-04T00:09:37.450522Z",
     "iopub.status.busy": "2022-11-04T00:09:37.449830Z",
     "iopub.status.idle": "2022-11-04T00:09:37.456726Z",
     "shell.execute_reply": "2022-11-04T00:09:37.455350Z",
     "shell.execute_reply.started": "2022-11-04T00:09:37.450472Z"
    }
   },
   "outputs": [],
   "source": [
    "Y = targets"
   ]
  },
  {
   "cell_type": "code",
   "execution_count": 14,
   "id": "a62d43e5-bbda-4797-92f1-6291cfccf820",
   "metadata": {
    "execution": {
     "iopub.execute_input": "2022-11-04T01:27:12.569627Z",
     "iopub.status.busy": "2022-11-04T01:27:12.569237Z",
     "iopub.status.idle": "2022-11-04T01:47:29.808401Z",
     "shell.execute_reply": "2022-11-04T01:47:29.807766Z",
     "shell.execute_reply.started": "2022-11-04T01:27:12.569603Z"
    },
    "tags": []
   },
   "outputs": [
    {
     "name": "stdout",
     "output_type": "stream",
     "text": [
      "111/111 [==============================] - 2s 17ms/step\n",
      "\n",
      " --------- FOLD 0 -----------\n",
      "Fold 0, correlation =  0.66311\n",
      "model saved\n",
      "111/111 [==============================] - 2s 13ms/step\n",
      "\n",
      " --------- FOLD 1 -----------\n",
      "Fold 1, correlation =  0.65980\n",
      "model saved\n",
      "111/111 [==============================] - 2s 13ms/step\n",
      "\n",
      " --------- FOLD 2 -----------\n",
      "Fold 2, correlation =  0.63075\n",
      "model saved\n",
      "\u001b[32m\u001b[1mMean corr = 0.65122\u001b[0m\n"
     ]
    }
   ],
   "source": [
    "import warnings\n",
    "warnings.filterwarnings(\"ignore\")\n",
    "VERBOSE = 0\n",
    "\n",
    "pred_train = np.zeros_like(Y)\n",
    "\n",
    "N_SPLIT = 3\n",
    "#kf = KFold(n_splits=N_SPLIT, shuffle=True, random_state=42)\n",
    "kf = KFold(n_splits = N_SPLIT)\n",
    "\n",
    "score_list = []\n",
    "\n",
    "for fold,(idx_tr, idx_va) in enumerate(kf.split(X)):\n",
    "    \n",
    "    X_tr = X[idx_tr]\n",
    "    y_tr = Y[idx_tr]\n",
    "    \n",
    "    X_va = X[idx_va]\n",
    "    y_va = Y[idx_va]\n",
    "    \n",
    "    #day = (meta.iloc[idx_va].iloc[0]).day\n",
    "    \n",
    "    #model = my_model(n_inputs=X.shape[1],n_outputs=Y.shape[1],reg1=reg1,reg2=reg2,loss = negative_correlation_loss)\n",
    "    model = create_model()\n",
    "    #weights = meta.iloc[idx_tr].apply(lambda x:after_ratio[x.cell_type],axis=1)    \n",
    "    \n",
    "    lr = ReduceLROnPlateau(\n",
    "                monitor = \"val_loss\",\n",
    "                factor = 0.9, \n",
    "                patience = 4, \n",
    "                verbose = VERBOSE)\n",
    "    \n",
    "    es = EarlyStopping(\n",
    "                monitor = \"val_loss\",\n",
    "                patience = 30, \n",
    "                verbose = VERBOSE,\n",
    "                mode = \"min\", \n",
    "                restore_best_weights = True)\n",
    "\n",
    "    model.fit(X_tr,\n",
    "              y_tr,\n",
    "              validation_data=(X_va,y_va),\n",
    "              epochs =500,\n",
    "              verbose = VERBOSE,\n",
    "              batch_size=256,\n",
    "              callbacks = [es,lr]\n",
    "             )\n",
    "    y_va_pred = model.predict(X_va)\n",
    "    \n",
    "    print(f'\\n --------- FOLD {fold} -----------')\n",
    "    \n",
    "    corrscore = correlation_score(y_va, y_va_pred)\n",
    "    pred_train[idx_va] = y_va_pred\n",
    "    \n",
    "    print(f\"Fold {fold}, correlation =  {corrscore:.5f}\")\n",
    "   \n",
    "    model.save(f\"./submissions/multi_model_{fold}\")\n",
    "\n",
    "    print('model saved')\n",
    "        \n",
    "    del X_tr,X_va,y_tr,y_va\n",
    "    gc.collect()\n",
    "    score_list.append(corrscore)\n",
    "    \n",
    "# Show overall score\n",
    "print(f\"{Fore.GREEN}{Style.BRIGHT}Mean corr = {np.array(score_list).mean():.5f}{Style.RESET_ALL}\")"
   ]
  },
  {
   "cell_type": "code",
   "execution_count": null,
   "id": "443d1c19-5af5-423f-b552-90f13f3f7967",
   "metadata": {},
   "outputs": [],
   "source": [
    "X = np.load(\"/kaggle/working/gene_annot/train_multi_geneactivity.npy\")\n",
    "inputs_both_128 = np.load(\"../multi_pca/inputs_both_128.npy\")\n",
    "multi_X_train = inputs_both_128[:10592]\n",
    "X = np.hstack([X,multi_X_train])\n",
    "targets = scipy.sparse.load_npz(\"../sparse/train_multi_targets_values.sparse.npz\")\n",
    "targets = targets[:10592]\n",
    "targets = scprep.filter.remove_empty_genes(targets)\n",
    "# Normalize the targets row-wise: This doesn't change the correlations,\n",
    "# and negative_correlation_loss depends on it\n",
    "targets -= targets.mean(axis=1).reshape(-1, 1)\n",
    "targets /= targets.std(axis=1).reshape(-1, 1)\n",
    "\n",
    "with np.load('../sparse/train_multi_inputs_idxcol.npz',allow_pickle=True) as data:\n",
    "    cell_index = data['index']\n",
    "\n",
    "with np.load('../sparse/test_multi_inputs_idxcol.npz',allow_pickle=True) as data:\n",
    "    cell_index_t = data['index']\n",
    "\n",
    "metadata_df = pd.read_csv('../../input/open-problems-multimodal/metadata.csv', index_col='cell_id')\n",
    "metadata_df = metadata_df[metadata_df.technology==\"multiome\"]\n",
    "meta = metadata_df.reindex(cell_index)\n",
    "meta = meta.iloc[:10592]"
   ]
  },
  {
   "cell_type": "code",
   "execution_count": 2,
   "id": "75ee1a25-5a69-4bea-b9f9-a9a234db9536",
   "metadata": {
    "execution": {
     "iopub.execute_input": "2022-11-06T21:36:28.948955Z",
     "iopub.status.busy": "2022-11-06T21:36:28.948678Z",
     "iopub.status.idle": "2022-11-06T21:37:14.350940Z",
     "shell.execute_reply": "2022-11-06T21:37:14.350263Z",
     "shell.execute_reply.started": "2022-11-06T21:36:28.948935Z"
    },
    "tags": []
   },
   "outputs": [
    {
     "name": "stderr",
     "output_type": "stream",
     "text": [
      "2022-11-06 21:37:12.815155: I tensorflow/core/platform/cpu_feature_guard.cc:193] This TensorFlow binary is optimized with oneAPI Deep Neural Network Library (oneDNN) to use the following CPU instructions in performance-critical operations:  AVX2 AVX512F AVX512_VNNI FMA\n",
      "To enable them in other operations, rebuild TensorFlow with the appropriate compiler flags.\n",
      "2022-11-06 21:37:12.962503: I tensorflow/core/util/util.cc:169] oneDNN custom operations are on. You may see slightly different numerical results due to floating-point round-off errors from different computation orders. To turn them off, set the environment variable `TF_ENABLE_ONEDNN_OPTS=0`.\n",
      "2022-11-06 21:37:12.999639: E tensorflow/stream_executor/cuda/cuda_blas.cc:2981] Unable to register cuBLAS factory: Attempting to register factory for plugin cuBLAS when one has already been registered\n",
      "2022-11-06 21:37:13.629033: W tensorflow/stream_executor/platform/default/dso_loader.cc:64] Could not load dynamic library 'libnvinfer.so.7'; dlerror: libnvinfer.so.7: cannot open shared object file: No such file or directory; LD_LIBRARY_PATH: /usr/local/nvidia/lib:/usr/local/nvidia/lib64\n",
      "2022-11-06 21:37:13.629146: W tensorflow/stream_executor/platform/default/dso_loader.cc:64] Could not load dynamic library 'libnvinfer_plugin.so.7'; dlerror: libnvinfer_plugin.so.7: cannot open shared object file: No such file or directory; LD_LIBRARY_PATH: /usr/local/nvidia/lib:/usr/local/nvidia/lib64\n",
      "2022-11-06 21:37:13.629156: W tensorflow/compiler/tf2tensorrt/utils/py_utils.cc:38] TF-TRT Warning: Cannot dlopen some TensorRT libraries. If you would like to use Nvidia GPU with TensorRT, please make sure the missing libraries mentioned above are installed properly.\n"
     ]
    }
   ],
   "source": [
    "%%capture\n",
    "!pip install tables\n",
    "!pip install --upgrade --force-reinstall tensorflow\n",
    "!pip install keras-tuner\n",
    "import os, gc, pickle, datetime, scipy.sparse\n",
    "import pandas as pd\n",
    "import matplotlib.pyplot as plt\n",
    "import numpy as np\n",
    "from colorama import Fore, Back, Style\n",
    "\n",
    "from sklearn.model_selection import GroupKFold, KFold\n",
    "from sklearn.preprocessing import StandardScaler\n",
    "from sklearn.decomposition import TruncatedSVD,PCA\n",
    "from sklearn.metrics import mean_squared_error\n",
    "\n",
    "import matplotlib.pyplot as plt\n",
    "from matplotlib.ticker import MaxNLocator\n",
    "import seaborn as sns\n",
    "from cycler import cycler\n",
    "from IPython.display import display\n",
    "\n",
    "import scipy.sparse\n",
    "import scprep\n",
    "\n",
    "def correlation_score(y_true, y_pred):\n",
    "    corrsum = 0\n",
    "    for i in range(y_true.shape[0]):\n",
    "        corrsum += np.corrcoef(y_true[i], y_pred[i])[1, 0]\n",
    "    return corrsum / len(y_true)\n",
    "\n",
    "def negative_correlation_loss(y_true, y_pred):\n",
    "    my = K.mean(tf.convert_to_tensor(y_pred), axis=1)\n",
    "    my = tf.tile(tf.expand_dims(my, axis=1), (1, tf.shape(y_true)[1]))\n",
    "    ym = y_pred - my\n",
    "    r_num = K.sum(tf.multiply(y_true, ym), axis=1)\n",
    "    r_den = tf.sqrt(K.sum(K.square(ym), axis=1) * float(tf.shape(y_true)[-1]))\n",
    "    r = tf.reduce_mean(r_num / r_den)\n",
    "    return - r\n",
    "\n",
    "!pip install keras_tuner\n",
    "import keras_tuner\n",
    "from sklearn.model_selection import train_test_split\n",
    "import scprep\n",
    "\n",
    "import math\n",
    "import tensorflow as tf\n",
    "import tensorflow.keras.backend as K\n",
    "from tensorflow.keras.models import Model, load_model\n",
    "from tensorflow.keras.callbacks import ReduceLROnPlateau, LearningRateScheduler, EarlyStopping\n",
    "from tensorflow.keras.layers import Dense, Input, Concatenate, Dropout, BatchNormalization\n"
   ]
  },
  {
   "cell_type": "code",
   "execution_count": 172,
   "id": "cba85b8d-5da7-4a71-a914-9a8be3ce8551",
   "metadata": {
    "execution": {
     "iopub.execute_input": "2022-11-06T23:29:41.110612Z",
     "iopub.status.busy": "2022-11-06T23:29:41.110194Z",
     "iopub.status.idle": "2022-11-06T23:29:41.117261Z",
     "shell.execute_reply": "2022-11-06T23:29:41.116712Z",
     "shell.execute_reply.started": "2022-11-06T23:29:41.110586Z"
    },
    "tags": []
   },
   "outputs": [],
   "source": [
    "LR_START = 0.01\n",
    "BATCH_SIZE = 512\n",
    "\n",
    "def create_model():\n",
    "    \n",
    "    reg1 = 9.613e-06\n",
    "    reg2 = 1e-07\n",
    "    REG1 = tf.keras.regularizers.l2(reg1)\n",
    "    REG2 = tf.keras.regularizers.l2(reg2)\n",
    "    DROP = 0.1\n",
    "\n",
    "    activation = 'selu'\n",
    "    inputs = Input(shape =(X.shape[1],))\n",
    "\n",
    "    x0 = Dense(512, \n",
    "              kernel_regularizer = REG1,\n",
    "              activation = activation,\n",
    "             )(inputs)\n",
    "    x0 = Dropout(DROP)(x0)\n",
    "    \n",
    "    \n",
    "    x1 = Dense(1024, \n",
    "               kernel_regularizer = REG1,\n",
    "               activation = activation,\n",
    "             )(x0)\n",
    "    x1 = Dropout(DROP)(x1)\n",
    "    \n",
    "    \n",
    "    x2 = Dense(1024, \n",
    "               kernel_regularizer = REG1,\n",
    "               activation = activation,\n",
    "             )(x1) \n",
    "    x2= Dropout(DROP)(x2)\n",
    "    \n",
    "    x3 = Dense(Y.shape[1],\n",
    "               kernel_regularizer = REG1,\n",
    "               activation = activation,\n",
    "             )(x2)\n",
    "    x3 = Dropout(DROP)(x3)\n",
    "\n",
    "         \n",
    "    x = Concatenate()([\n",
    "                x0, \n",
    "                x1, \n",
    "                x2, \n",
    "                x3\n",
    "                ])\n",
    "    \n",
    "    x = Dense(Y.shape[1], \n",
    "                kernel_regularizer = REG2,\n",
    "                activation='linear',\n",
    "                )(x)\n",
    "    \n",
    "    \n",
    "    model = Model(inputs, x)\n",
    "    \n",
    "\n",
    "    return model"
   ]
  },
  {
   "cell_type": "code",
   "execution_count": 14,
   "id": "656069df-100d-4be6-ad6d-0bd2beec8faa",
   "metadata": {
    "execution": {
     "iopub.execute_input": "2022-11-06T21:51:02.787894Z",
     "iopub.status.busy": "2022-11-06T21:51:02.787511Z",
     "iopub.status.idle": "2022-11-06T21:52:12.411889Z",
     "shell.execute_reply": "2022-11-06T21:52:12.411269Z",
     "shell.execute_reply.started": "2022-11-06T21:51:02.787870Z"
    },
    "tags": []
   },
   "outputs": [],
   "source": [
    "targets = scipy.sparse.load_npz(\"../sparse/train_multi_targets_values.sparse.npz\")\n",
    "targets = scprep.filter.remove_empty_genes(targets)\n",
    "# Normalize the targets row-wise: This doesn't change the correlations,\n",
    "# and negative_correlation_loss depends on it\n",
    "targets -= targets.mean(axis=1).reshape(-1, 1)\n",
    "targets /= targets.std(axis=1).reshape(-1, 1)\n",
    "targets = np.array(targets)\n",
    "svd = TruncatedSVD(n_components = 512,random_state = 1)\n",
    "Y = svd.fit_transform(targets)\n",
    "inputs_both_128 = np.load(\"../multi_pca/inputs_both_128.npy\")\n",
    "X = inputs_both_128[:len(targets_copy),:40]\n",
    "with np.load('../sparse/train_multi_inputs_idxcol.npz',allow_pickle=True) as data:\n",
    "    cell_index = data['index']\n",
    "with np.load('../sparse/test_multi_inputs_idxcol.npz',allow_pickle=True) as data:\n",
    "    cell_index_t = data['index']\n",
    "metadata_df = pd.read_csv('../../input/open-problems-multimodal/metadata.csv', index_col='cell_id')\n",
    "metadata_df = metadata_df[metadata_df.technology==\"multiome\"]\n",
    "meta = metadata_df.reindex(cell_index)"
   ]
  },
  {
   "cell_type": "code",
   "execution_count": 143,
   "id": "c67342c8-dd60-4c7c-a0d5-6d1b91bbcf6d",
   "metadata": {
    "execution": {
     "iopub.execute_input": "2022-11-06T23:13:24.911843Z",
     "iopub.status.busy": "2022-11-06T23:13:24.911436Z",
     "iopub.status.idle": "2022-11-06T23:13:28.903640Z",
     "shell.execute_reply": "2022-11-06T23:13:28.903071Z",
     "shell.execute_reply.started": "2022-11-06T23:13:24.911818Z"
    },
    "tags": []
   },
   "outputs": [
    {
     "data": {
      "text/html": [
       "<style>#sk-container-id-7 {color: black;background-color: white;}#sk-container-id-7 pre{padding: 0;}#sk-container-id-7 div.sk-toggleable {background-color: white;}#sk-container-id-7 label.sk-toggleable__label {cursor: pointer;display: block;width: 100%;margin-bottom: 0;padding: 0.3em;box-sizing: border-box;text-align: center;}#sk-container-id-7 label.sk-toggleable__label-arrow:before {content: \"▸\";float: left;margin-right: 0.25em;color: #696969;}#sk-container-id-7 label.sk-toggleable__label-arrow:hover:before {color: black;}#sk-container-id-7 div.sk-estimator:hover label.sk-toggleable__label-arrow:before {color: black;}#sk-container-id-7 div.sk-toggleable__content {max-height: 0;max-width: 0;overflow: hidden;text-align: left;background-color: #f0f8ff;}#sk-container-id-7 div.sk-toggleable__content pre {margin: 0.2em;color: black;border-radius: 0.25em;background-color: #f0f8ff;}#sk-container-id-7 input.sk-toggleable__control:checked~div.sk-toggleable__content {max-height: 200px;max-width: 100%;overflow: auto;}#sk-container-id-7 input.sk-toggleable__control:checked~label.sk-toggleable__label-arrow:before {content: \"▾\";}#sk-container-id-7 div.sk-estimator input.sk-toggleable__control:checked~label.sk-toggleable__label {background-color: #d4ebff;}#sk-container-id-7 div.sk-label input.sk-toggleable__control:checked~label.sk-toggleable__label {background-color: #d4ebff;}#sk-container-id-7 input.sk-hidden--visually {border: 0;clip: rect(1px 1px 1px 1px);clip: rect(1px, 1px, 1px, 1px);height: 1px;margin: -1px;overflow: hidden;padding: 0;position: absolute;width: 1px;}#sk-container-id-7 div.sk-estimator {font-family: monospace;background-color: #f0f8ff;border: 1px dotted black;border-radius: 0.25em;box-sizing: border-box;margin-bottom: 0.5em;}#sk-container-id-7 div.sk-estimator:hover {background-color: #d4ebff;}#sk-container-id-7 div.sk-parallel-item::after {content: \"\";width: 100%;border-bottom: 1px solid gray;flex-grow: 1;}#sk-container-id-7 div.sk-label:hover label.sk-toggleable__label {background-color: #d4ebff;}#sk-container-id-7 div.sk-serial::before {content: \"\";position: absolute;border-left: 1px solid gray;box-sizing: border-box;top: 0;bottom: 0;left: 50%;z-index: 0;}#sk-container-id-7 div.sk-serial {display: flex;flex-direction: column;align-items: center;background-color: white;padding-right: 0.2em;padding-left: 0.2em;position: relative;}#sk-container-id-7 div.sk-item {position: relative;z-index: 1;}#sk-container-id-7 div.sk-parallel {display: flex;align-items: stretch;justify-content: center;background-color: white;position: relative;}#sk-container-id-7 div.sk-item::before, #sk-container-id-7 div.sk-parallel-item::before {content: \"\";position: absolute;border-left: 1px solid gray;box-sizing: border-box;top: 0;bottom: 0;left: 50%;z-index: -1;}#sk-container-id-7 div.sk-parallel-item {display: flex;flex-direction: column;z-index: 1;position: relative;background-color: white;}#sk-container-id-7 div.sk-parallel-item:first-child::after {align-self: flex-end;width: 50%;}#sk-container-id-7 div.sk-parallel-item:last-child::after {align-self: flex-start;width: 50%;}#sk-container-id-7 div.sk-parallel-item:only-child::after {width: 0;}#sk-container-id-7 div.sk-dashed-wrapped {border: 1px dashed gray;margin: 0 0.4em 0.5em 0.4em;box-sizing: border-box;padding-bottom: 0.4em;background-color: white;}#sk-container-id-7 div.sk-label label {font-family: monospace;font-weight: bold;display: inline-block;line-height: 1.2em;}#sk-container-id-7 div.sk-label-container {text-align: center;}#sk-container-id-7 div.sk-container {/* jupyter's `normalize.less` sets `[hidden] { display: none; }` but bootstrap.min.css set `[hidden] { display: none !important; }` so we also need the `!important` here to be able to override the default hidden behavior on the sphinx rendered scikit-learn.org. See: https://github.com/scikit-learn/scikit-learn/issues/21755 */display: inline-block !important;position: relative;}#sk-container-id-7 div.sk-text-repr-fallback {display: none;}</style><div id=\"sk-container-id-7\" class=\"sk-top-container\"><div class=\"sk-text-repr-fallback\"><pre>TruncatedSVD(n_components=512, random_state=1)</pre><b>In a Jupyter environment, please rerun this cell to show the HTML representation or trust the notebook. <br />On GitHub, the HTML representation is unable to render, please try loading this page with nbviewer.org.</b></div><div class=\"sk-container\" hidden><div class=\"sk-item\"><div class=\"sk-estimator sk-toggleable\"><input class=\"sk-toggleable__control sk-hidden--visually\" id=\"sk-estimator-id-7\" type=\"checkbox\" checked><label for=\"sk-estimator-id-7\" class=\"sk-toggleable__label sk-toggleable__label-arrow\">TruncatedSVD</label><div class=\"sk-toggleable__content\"><pre>TruncatedSVD(n_components=512, random_state=1)</pre></div></div></div></div></div>"
      ],
      "text/plain": [
       "TruncatedSVD(n_components=512, random_state=1)"
      ]
     },
     "execution_count": 143,
     "metadata": {},
     "output_type": "execute_result"
    }
   ],
   "source": [
    "svd = TruncatedSVD(n_components = 512,random_state = 1)\n",
    "svd.fit(targets_copy[day4_donor1])"
   ]
  },
  {
   "cell_type": "code",
   "execution_count": 182,
   "id": "de0224c1-ba7d-47f2-8ee1-259d0ff8c3b6",
   "metadata": {
    "execution": {
     "iopub.execute_input": "2022-11-07T00:58:15.695451Z",
     "iopub.status.busy": "2022-11-07T00:58:15.694981Z",
     "iopub.status.idle": "2022-11-07T00:58:21.394075Z",
     "shell.execute_reply": "2022-11-07T00:58:21.393358Z",
     "shell.execute_reply.started": "2022-11-07T00:58:15.695424Z"
    },
    "tags": []
   },
   "outputs": [],
   "source": [
    "svd = TruncatedSVD(n_components = 512,random_state = 1)\n",
    "svd.fit(targets_copy[day7_donor1])\n",
    "Y = svd.transform(targets_copy)"
   ]
  },
  {
   "cell_type": "code",
   "execution_count": 185,
   "id": "e12521de-4da0-4ea2-8449-275ee2233fdb",
   "metadata": {
    "execution": {
     "iopub.execute_input": "2022-11-07T01:01:34.415056Z",
     "iopub.status.busy": "2022-11-07T01:01:34.414671Z",
     "iopub.status.idle": "2022-11-07T01:01:34.420309Z",
     "shell.execute_reply": "2022-11-07T01:01:34.419586Z",
     "shell.execute_reply.started": "2022-11-07T01:01:34.415032Z"
    }
   },
   "outputs": [
    {
     "data": {
      "text/plain": [
       "array([[ 75.7475    ,  26.229336  ,  17.50476   , ...,  -1.0983195 ,\n",
       "          2.4313428 ,  -1.379859  ],\n",
       "       [ 90.88657   , -22.890305  ,   0.17320499, ...,   3.8807917 ,\n",
       "         -1.4330426 ,  -0.88454574],\n",
       "       [ 80.71592   ,  -5.2079225 , -15.398834  , ...,   2.7719083 ,\n",
       "          0.43796664,  -2.7065501 ],\n",
       "       ...,\n",
       "       [ 98.39515   , -25.125317  ,  -1.9855108 , ...,   2.3576763 ,\n",
       "         -0.65535045,  -2.2070384 ],\n",
       "       [ 76.20684   ,  13.359733  , -23.053707  , ...,   3.140378  ,\n",
       "          3.0544224 ,   0.48811173],\n",
       "       [ 85.19872   , -10.540954  ,  -7.3463173 , ...,   2.660223  ,\n",
       "          0.55914426,   0.25101855]], dtype=float32)"
      ]
     },
     "execution_count": 185,
     "metadata": {},
     "output_type": "execute_result"
    }
   ],
   "source": [
    "Y"
   ]
  },
  {
   "cell_type": "code",
   "execution_count": 292,
   "id": "08523e44-8d11-466d-a076-77543c38067c",
   "metadata": {
    "execution": {
     "iopub.execute_input": "2022-11-04T21:57:15.547217Z",
     "iopub.status.busy": "2022-11-04T21:57:15.546830Z",
     "iopub.status.idle": "2022-11-04T21:57:15.644599Z",
     "shell.execute_reply": "2022-11-04T21:57:15.643948Z",
     "shell.execute_reply.started": "2022-11-04T21:57:15.547194Z"
    },
    "tags": []
   },
   "outputs": [],
   "source": [
    "inputs_both_128 = np.load(\"../multi_pca/inputs_both_128.npy\")\n",
    "X = inputs_both_128[:len(targets)]\n",
    "X_copy = X.copy()"
   ]
  },
  {
   "cell_type": "code",
   "execution_count": 15,
   "id": "66cb9f3a-8159-4d06-99cf-5c2e7404c2e5",
   "metadata": {
    "execution": {
     "iopub.execute_input": "2022-11-06T21:52:20.589580Z",
     "iopub.status.busy": "2022-11-06T21:52:20.589183Z",
     "iopub.status.idle": "2022-11-06T21:52:24.083477Z",
     "shell.execute_reply": "2022-11-06T21:52:24.082851Z",
     "shell.execute_reply.started": "2022-11-06T21:52:20.589556Z"
    },
    "tags": []
   },
   "outputs": [],
   "source": [
    "Y_copy = Y.copy()\n",
    "X_copy = X.copy()\n",
    "targets_copy = targets.copy()"
   ]
  },
  {
   "cell_type": "code",
   "execution_count": 186,
   "id": "4cc54390-3cc7-4c96-ae23-34e717d97fde",
   "metadata": {
    "execution": {
     "iopub.execute_input": "2022-11-07T01:39:36.386018Z",
     "iopub.status.busy": "2022-11-07T01:39:36.385628Z",
     "iopub.status.idle": "2022-11-07T01:39:36.775467Z",
     "shell.execute_reply": "2022-11-07T01:39:36.774650Z",
     "shell.execute_reply.started": "2022-11-07T01:39:36.385994Z"
    },
    "tags": []
   },
   "outputs": [
    {
     "name": "stdout",
     "output_type": "stream",
     "text": [
      "(1000, 40)\n",
      "(1000, 64)\n",
      "(1000, 22858)\n"
     ]
    }
   ],
   "source": [
    "X = X_copy[day7_donor1][:1000,:40]\n",
    "Y = svd.transform(targets_copy[day7_donor1][:1000])[:,:64]\n",
    "targets = targets_copy[day7_donor1][:1000]\n",
    "print(X.shape)\n",
    "print(Y.shape)\n",
    "print(targets.shape)"
   ]
  },
  {
   "cell_type": "code",
   "execution_count": 368,
   "id": "797d2488-8198-4487-aa9f-775d20d00dd5",
   "metadata": {
    "execution": {
     "iopub.execute_input": "2022-11-04T22:58:18.040689Z",
     "iopub.status.busy": "2022-11-04T22:58:18.040258Z",
     "iopub.status.idle": "2022-11-04T22:58:18.060934Z",
     "shell.execute_reply": "2022-11-04T22:58:18.060279Z",
     "shell.execute_reply.started": "2022-11-04T22:58:18.040646Z"
    },
    "tags": []
   },
   "outputs": [],
   "source": [
    "X = np.load(\"/kaggle/working/gene_annot/train_multi_geneactivity_day_7.npy\")"
   ]
  },
  {
   "cell_type": "code",
   "execution_count": 123,
   "id": "22d88a19-95a6-4ce6-97e3-ba13b1b06916",
   "metadata": {
    "execution": {
     "iopub.execute_input": "2022-11-06T22:57:01.876734Z",
     "iopub.status.busy": "2022-11-06T22:57:01.876334Z",
     "iopub.status.idle": "2022-11-06T22:57:03.182307Z",
     "shell.execute_reply": "2022-11-06T22:57:03.181575Z",
     "shell.execute_reply.started": "2022-11-06T22:57:01.876709Z"
    },
    "tags": []
   },
   "outputs": [],
   "source": [
    "X_tr = X_copy[day4_donor1][:2000]\n",
    "X_va = X_copy[day7_donor1][:2000]\n",
    "y_tr = svd.transform(targets_copy[day4_donor1][:2000])\n",
    "y_va = svd.transform(targets_copy[day7_donor1][:2000])"
   ]
  },
  {
   "cell_type": "code",
   "execution_count": 26,
   "id": "66b7f29c-ddc7-44b3-ba73-6ffd7e030fc4",
   "metadata": {
    "execution": {
     "iopub.execute_input": "2022-11-06T21:56:45.593740Z",
     "iopub.status.busy": "2022-11-06T21:56:45.593352Z",
     "iopub.status.idle": "2022-11-06T21:56:45.597752Z",
     "shell.execute_reply": "2022-11-06T21:56:45.597241Z",
     "shell.execute_reply.started": "2022-11-06T21:56:45.593715Z"
    },
    "tags": []
   },
   "outputs": [
    {
     "data": {
      "text/plain": [
       "(6960, 40)"
      ]
     },
     "execution_count": 26,
     "metadata": {},
     "output_type": "execute_result"
    }
   ],
   "source": [
    "X_va.shape"
   ]
  },
  {
   "cell_type": "code",
   "execution_count": 187,
   "id": "cf02730b-5854-4906-adee-034390c749c3",
   "metadata": {
    "execution": {
     "iopub.execute_input": "2022-11-07T01:39:51.690296Z",
     "iopub.status.busy": "2022-11-07T01:39:51.689884Z",
     "iopub.status.idle": "2022-11-07T01:40:23.346355Z",
     "shell.execute_reply": "2022-11-07T01:40:23.345735Z",
     "shell.execute_reply.started": "2022-11-07T01:39:51.690265Z"
    },
    "tags": []
   },
   "outputs": [
    {
     "name": "stdout",
     "output_type": "stream",
     "text": [
      "11/11 [==============================] - 0s 2ms/step\n",
      "\n",
      " --------- FOLD 0 -----------\n",
      "Mean squared error = 9.039999961853027\n",
      "Correlation = 0.62266\n",
      "PCA Correlation = 0.96946\n",
      "model saved : model_0\n",
      "11/11 [==============================] - 0s 2ms/step\n",
      "\n",
      " --------- FOLD 1 -----------\n",
      "Mean squared error = 8.539999961853027\n",
      "Correlation = 0.63057\n",
      "PCA Correlation = 0.97121\n",
      "model saved : model_1\n",
      "11/11 [==============================] - 0s 2ms/step\n",
      "\n",
      " --------- FOLD 2 -----------\n",
      "Mean squared error = 8.640000343322754\n",
      "Correlation = 0.62909\n",
      "PCA Correlation = 0.97081\n",
      "model saved : model_2\n",
      "\u001b[32m\u001b[1mMean corr = 0.62744\u001b[0m\n",
      "\u001b[31m\u001b[1mMean pca corr = 0.97049\u001b[0m\n"
     ]
    }
   ],
   "source": [
    "import warnings\n",
    "warnings.filterwarnings(\"ignore\")\n",
    "\n",
    "VERBOSE = 0\n",
    "N_SPLIT = 3\n",
    "#kf = KFold(n_splits=N_SPLIT, shuffle=True, random_state=42)\n",
    "kf = KFold(n_splits = N_SPLIT)\n",
    "\n",
    "scores = []\n",
    "pca_scores = []\n",
    "pred_train = np.zeros_like(Y)\n",
    "\n",
    "for fold,(idx_tr, idx_va) in enumerate(kf.split(X)):\n",
    "    \n",
    "    X_tr = X[idx_tr]\n",
    "    y_tr = Y[idx_tr]\n",
    "    \n",
    "    X_va = X[idx_va]\n",
    "    y_va = Y[idx_va] \n",
    "\n",
    "    model = create_model()\n",
    "\n",
    "    lr = ReduceLROnPlateau(\n",
    "                monitor = \"val_loss\",\n",
    "                factor = 0.9, \n",
    "                patience = 4, \n",
    "                verbose = VERBOSE)\n",
    "\n",
    "    es = EarlyStopping(\n",
    "                monitor = \"val_loss\",\n",
    "                patience = 30, \n",
    "                verbose = VERBOSE,\n",
    "                mode = \"min\", \n",
    "                restore_best_weights = True)\n",
    "\n",
    "    model.compile(optimizer=tf.keras.optimizers.Adam(learning_rate=1e-3),\n",
    "                  loss = 'mse',\n",
    "                  metrics=None)\n",
    "    model.fit(X_tr,\n",
    "              y_tr,\n",
    "              validation_data=(X_va,y_va),\n",
    "              epochs =500,\n",
    "              verbose = VERBOSE,\n",
    "              batch_size=256,\n",
    "              callbacks = [es,lr]\n",
    "             )\n",
    "    y_va_pred = model.predict(X_va)\n",
    "    corrscore = correlation_score(targets[idx_va], y_va_pred@svd.components_[:64])\n",
    "    scores.append(corrscore)\n",
    "    pca_corrscore = correlation_score(y_va[:,:64], y_va_pred[:,:64])\n",
    "    pca_scores.append(pca_corrscore)\n",
    "\n",
    "    print(f'\\n --------- FOLD {fold} -----------')\n",
    "    print(f'Mean squared error = {np.round(mean_squared_error(y_va,y_va_pred),2)}')\n",
    "    print(f'Correlation = {corrscore:.5f}')\n",
    "    print(f'PCA Correlation = {pca_corrscore:.5f}')\n",
    "\n",
    "    filename = f\"model_{fold}\"\n",
    "    model.save(filename)\n",
    "    print('model saved :',filename)\n",
    "\n",
    "    del X_tr,X_va,y_tr,y_va\n",
    "    gc.collect()\n",
    "\n",
    "# Show overall score\n",
    "print(f\"{Fore.GREEN}{Style.BRIGHT}Mean corr = {np.array(scores).mean():.5f}{Style.RESET_ALL}\")\n",
    "print(f\"{Fore.RED}{Style.BRIGHT}Mean pca corr = {np.array(pca_scores).mean():.5f}{Style.RESET_ALL}\")\n",
    "# score_total = correlation_score(targets, pred_train@svd.components_)#pred_train@pca_target_comps)\n",
    "# print(f\"{Fore.BLUE}{Style.BRIGHT}Oof corr   = {score_total:.5f}{Style.RESET_ALL}\")"
   ]
  },
  {
   "cell_type": "code",
   "execution_count": 366,
   "id": "c96ccf16-eb07-48cf-9785-11c656ca0a41",
   "metadata": {
    "execution": {
     "iopub.execute_input": "2022-11-04T22:46:34.627971Z",
     "iopub.status.busy": "2022-11-04T22:46:34.627558Z",
     "iopub.status.idle": "2022-11-04T22:46:34.634494Z",
     "shell.execute_reply": "2022-11-04T22:46:34.633977Z",
     "shell.execute_reply.started": "2022-11-04T22:46:34.627947Z"
    }
   },
   "outputs": [
    {
     "data": {
      "text/plain": [
       "(22082, 5)"
      ]
     },
     "execution_count": 366,
     "metadata": {},
     "output_type": "execute_result"
    }
   ],
   "source": [
    "meta.loc[meta.day == 7].shape"
   ]
  },
  {
   "cell_type": "code",
   "execution_count": 271,
   "id": "bbb73469-3df2-488b-bc0b-21b873f15da6",
   "metadata": {
    "execution": {
     "iopub.execute_input": "2022-11-04T21:14:03.318466Z",
     "iopub.status.busy": "2022-11-04T21:14:03.318074Z",
     "iopub.status.idle": "2022-11-04T21:14:03.789897Z",
     "shell.execute_reply": "2022-11-04T21:14:03.789294Z",
     "shell.execute_reply.started": "2022-11-04T21:14:03.318443Z"
    },
    "tags": []
   },
   "outputs": [
    {
     "data": {
      "text/plain": [
       "Text(100, 0.97, 'First Day, Individual Donors')"
      ]
     },
     "execution_count": 271,
     "metadata": {},
     "output_type": "execute_result"
    },
    {
     "data": {
      "image/png": "[encoded data removed]",
      "text/plain": [
       "<Figure size 432x288 with 2 Axes>"
      ]
     },
     "metadata": {
      "needs_background": "light"
     },
     "output_type": "display_data"
    }
   ],
   "source": [
    "import matplotlib.pyplot as plt\n",
    "fig, ax = plt.subplots()\n",
    "ax.plot([10,100,1000,7000],[0.96761,0.98178,0.98751,0.98943],color='r',alpha=0.2)\n",
    "ax.plot([10,100,1000,10000],[0.96908,0.98183,0.98647,0.98935],color='r',alpha=0.2)\n",
    "ax.plot([10,100,1000,7000],[0.95765,0.98072,0.98605,0.98880],color='r',alpha=0.2)\n",
    "ax.plot([10,100,1000,8000],[0.96478,0.98144333,0.98667667,0.98919333],color='r')\n",
    "ax.scatter([23000],[0.98810],color='r')\n",
    "ax.scatter([34000],[0.97012],color='r')\n",
    "ax.set_xscale('log')\n",
    "ax.set_xlabel('Nr. of data points')\n",
    "ax.set_ylabel('Top 64 PCA Correlation',color='r')\n",
    "ax2 = ax.twinx()\n",
    "ax2.plot([10,100,1000,7000],[0.63974,0.68156,0.68981,0.68826],color='b',alpha=0.2)\n",
    "ax2.plot([10,100,1000,10000],[0.63456,0.67418,0.67760,0.67854],color='b',alpha=0.2)\n",
    "ax2.plot([10,100,1000,7000],[0.65297,0.67664,0.68180,0.68341],color='b',alpha=0.2)\n",
    "ax2.plot([10,100,1000,7000],[0.64242333,0.67746,0.68307,0.68340333],color='b')\n",
    "ax2.scatter([23000],[0.68246], color='b')\n",
    "ax2.scatter([34000],[0.65642], color='b')\n",
    "ax2.set_ylabel('Correlation',color='b')\n",
    "ax.annotate(\"Multiple Donors\", xy=(23000, 0.98810), xytext=(5000, 0.983),\n",
    "            arrowprops=dict(arrowstyle=\"->\"))\n",
    "ax.annotate(\"Multiple Donors\", xy=(23000, 0.9850), xytext=(5000, 0.983),\n",
    "            arrowprops=dict(arrowstyle=\"->\"))\n",
    "ax.annotate(\"Multiple Days\", xy=(34000, 0.97012), xytext=(2000, 0.980),\n",
    "            arrowprops=dict(arrowstyle=\"->\"))\n",
    "ax.annotate(\"Multiple Days\", xy=(2000, 0.980))\n",
    "ax.annotate(\"First Day, Individual Donors\", xy=(100, 0.970))"
   ]
  },
  {
   "cell_type": "code",
   "execution_count": 208,
   "id": "7c460875-f903-4ced-b732-9cf9f71aa7ce",
   "metadata": {
    "execution": {
     "iopub.execute_input": "2022-11-04T20:01:14.512067Z",
     "iopub.status.busy": "2022-11-04T20:01:14.511682Z",
     "iopub.status.idle": "2022-11-04T20:01:14.778343Z",
     "shell.execute_reply": "2022-11-04T20:01:14.777777Z",
     "shell.execute_reply.started": "2022-11-04T20:01:14.512043Z"
    },
    "tags": []
   },
   "outputs": [
    {
     "data": {
      "text/plain": [
       "Text(5.2, 0.97, 'Same Day, Same Donor')"
      ]
     },
     "execution_count": 208,
     "metadata": {},
     "output_type": "execute_result"
    },
    {
     "data": {
      "image/png": "[encoded data removed]",
      "text/plain": [
       "<Figure size 432x288 with 2 Axes>"
      ]
     },
     "metadata": {
      "needs_background": "light"
     },
     "output_type": "display_data"
    }
   ],
   "source": [
    "import matplotlib.pyplot as plt\n",
    "fig, ax = plt.subplots()\n",
    "ax.plot([2,3,4,7],[0.97480,0.97973,0.98074,0.94519],color='r',alpha=0.5)\n",
    "ax.scatter([7],[0.98054],color='r',alpha=0.5)\n",
    "ax.scatter([7],[0.98007],color='r',alpha=0.5)\n",
    "ax.scatter([7],[0.97959],color='r',alpha=0.5)\n",
    "\n",
    "\n",
    "ax.set_xlabel('Day')\n",
    "ax.set_ylabel('Top 64 PCA Correlation',color='r')\n",
    "ax2 = ax.twinx()\n",
    "ax2.plot([2,3,4,7],[0.67806,0.66570,0.68982,0.60127],color='b',alpha=0.5)\n",
    "ax2.scatter([7],[0.62380],color='b',alpha=0.5)\n",
    "ax2.scatter([7],[0.63471],color='b',alpha=0.5)\n",
    "ax2.scatter([7],[0.61805],color='b',alpha=0.5)\n",
    "\n",
    "ax2.set_ylabel('Correlation',color='b')\n",
    "ax.annotate(\"Predicting Different Day, All Donors\", xy=(2, 0.96))\n",
    "ax.annotate(\"Same Day, Same Donor\", xy=(7, 0.979), xytext=(5.2, 0.970),\n",
    "            arrowprops=dict(arrowstyle=\"->\"))\n",
    "ax.annotate(\"Same Day, Same Donor\", xy=(7, 0.955), xytext=(5.2, 0.970),\n",
    "            arrowprops=dict(arrowstyle=\"->\"))"
   ]
  },
  {
   "cell_type": "code",
   "execution_count": 18,
   "id": "92d044be-1ebc-4cf4-b99a-28a78df3de7a",
   "metadata": {
    "execution": {
     "iopub.execute_input": "2022-11-06T21:53:49.788022Z",
     "iopub.status.busy": "2022-11-06T21:53:49.787647Z",
     "iopub.status.idle": "2022-11-06T21:53:50.330227Z",
     "shell.execute_reply": "2022-11-06T21:53:50.329658Z",
     "shell.execute_reply.started": "2022-11-06T21:53:49.787997Z"
    },
    "tags": []
   },
   "outputs": [
    {
     "data": {
      "text/plain": [
       "<AxesSubplot:>"
      ]
     },
     "execution_count": 18,
     "metadata": {},
     "output_type": "execute_result"
    },
    {
     "data": {
      "image/png": "[encoded data removed]",
      "text/plain": [
       "<Figure size 432x288 with 1 Axes>"
      ]
     },
     "metadata": {
      "needs_background": "light"
     },
     "output_type": "display_data"
    }
   ],
   "source": [
    "with np.load('../sparse/train_multi_inputs_idxcol.npz',allow_pickle=True) as data:\n",
    "    cell_index = data['index']\n",
    "metadata_df = pd.read_csv('../../input/open-problems-multimodal/metadata.csv', index_col='cell_id')\n",
    "metadata_df = metadata_df[metadata_df.technology==\"multiome\"]\n",
    "meta = metadata_df.reindex(cell_index)\n",
    "meta['range'] = range(len(meta))\n",
    "meta.loc[meta.day == 2].range.hist(bins=100)"
   ]
  },
  {
   "cell_type": "code",
   "execution_count": 45,
   "id": "2d878452-a602-4762-a859-ae20f5be4645",
   "metadata": {
    "execution": {
     "iopub.execute_input": "2022-11-04T18:01:28.817186Z",
     "iopub.status.busy": "2022-11-04T18:01:28.816813Z",
     "iopub.status.idle": "2022-11-04T18:01:28.822961Z",
     "shell.execute_reply": "2022-11-04T18:01:28.822416Z",
     "shell.execute_reply.started": "2022-11-04T18:01:28.817164Z"
    },
    "tags": []
   },
   "outputs": [],
   "source": [
    "donor1 = meta.loc[meta.donor == 32606].range.values"
   ]
  },
  {
   "cell_type": "code",
   "execution_count": 46,
   "id": "c31590c8-a602-4667-8fb8-8c947917b73e",
   "metadata": {
    "execution": {
     "iopub.execute_input": "2022-11-04T18:01:33.065038Z",
     "iopub.status.busy": "2022-11-04T18:01:33.064645Z",
     "iopub.status.idle": "2022-11-04T18:01:33.069002Z",
     "shell.execute_reply": "2022-11-04T18:01:33.068459Z",
     "shell.execute_reply.started": "2022-11-04T18:01:33.065015Z"
    }
   },
   "outputs": [
    {
     "data": {
      "text/plain": [
       "33701"
      ]
     },
     "execution_count": 46,
     "metadata": {},
     "output_type": "execute_result"
    }
   ],
   "source": [
    "len(donor1)"
   ]
  },
  {
   "cell_type": "code",
   "execution_count": 221,
   "id": "883bf5e0-3113-480a-aed2-ef29212e63e8",
   "metadata": {
    "execution": {
     "iopub.execute_input": "2022-11-07T03:18:37.999614Z",
     "iopub.status.busy": "2022-11-07T03:18:37.999243Z",
     "iopub.status.idle": "2022-11-07T03:18:38.004639Z",
     "shell.execute_reply": "2022-11-07T03:18:38.004064Z",
     "shell.execute_reply.started": "2022-11-07T03:18:37.999591Z"
    },
    "tags": []
   },
   "outputs": [],
   "source": [
    "day7_donor3 = meta.loc[(meta.day == 7)&(meta.donor == 31800)].range.values"
   ]
  },
  {
   "cell_type": "code",
   "execution_count": 222,
   "id": "119527b7-d712-4cc2-ad92-cac06f360ada",
   "metadata": {
    "execution": {
     "iopub.execute_input": "2022-11-07T03:18:38.652959Z",
     "iopub.status.busy": "2022-11-07T03:18:38.652590Z",
     "iopub.status.idle": "2022-11-07T03:18:38.658284Z",
     "shell.execute_reply": "2022-11-07T03:18:38.657688Z",
     "shell.execute_reply.started": "2022-11-07T03:18:38.652935Z"
    },
    "tags": []
   },
   "outputs": [],
   "source": [
    "day4_donor3 = meta.loc[(meta.day == 4)&(meta.donor == 31800)].range.values"
   ]
  },
  {
   "cell_type": "code",
   "execution_count": 274,
   "id": "a72dccbe-88a0-4639-9669-131e0819b7ff",
   "metadata": {
    "execution": {
     "iopub.execute_input": "2022-11-04T21:42:52.630772Z",
     "iopub.status.busy": "2022-11-04T21:42:52.630386Z",
     "iopub.status.idle": "2022-11-04T21:42:52.635923Z",
     "shell.execute_reply": "2022-11-04T21:42:52.635365Z",
     "shell.execute_reply.started": "2022-11-04T21:42:52.630748Z"
    },
    "tags": []
   },
   "outputs": [],
   "source": [
    "donor1_day7 = meta.loc[(meta.day == 7)&(meta.donor == 32606)].range.values"
   ]
  },
  {
   "cell_type": "code",
   "execution_count": 58,
   "id": "62831708-8702-4b93-a9a8-03f7ac1db756",
   "metadata": {
    "execution": {
     "iopub.execute_input": "2022-11-04T18:16:34.486289Z",
     "iopub.status.busy": "2022-11-04T18:16:34.486000Z",
     "iopub.status.idle": "2022-11-04T18:16:34.490402Z",
     "shell.execute_reply": "2022-11-04T18:16:34.489902Z",
     "shell.execute_reply.started": "2022-11-04T18:16:34.486270Z"
    }
   },
   "outputs": [
    {
     "data": {
      "text/plain": [
       "array([32606, 13176, 31800])"
      ]
     },
     "execution_count": 58,
     "metadata": {},
     "output_type": "execute_result"
    }
   ],
   "source": [
    "meta.donor.unique()"
   ]
  },
  {
   "cell_type": "code",
   "execution_count": 48,
   "id": "1a6ad7fc-7505-4c59-abfe-ebfdfd01c03a",
   "metadata": {
    "execution": {
     "iopub.execute_input": "2022-11-04T18:02:14.022577Z",
     "iopub.status.busy": "2022-11-04T18:02:14.022198Z",
     "iopub.status.idle": "2022-11-04T18:02:14.259566Z",
     "shell.execute_reply": "2022-11-04T18:02:14.258986Z",
     "shell.execute_reply.started": "2022-11-04T18:02:14.022554Z"
    },
    "tags": []
   },
   "outputs": [
    {
     "data": {
      "text/plain": [
       "<AxesSubplot:>"
      ]
     },
     "execution_count": 48,
     "metadata": {},
     "output_type": "execute_result"
    },
    {
     "data": {
      "image/png": "[encoded data removed]",
      "text/plain": [
       "<Figure size 432x288 with 1 Axes>"
      ]
     },
     "metadata": {
      "needs_background": "light"
     },
     "output_type": "display_data"
    }
   ],
   "source": [
    "meta.loc[meta.donor == 13176].range.hist(bins=100)"
   ]
  },
  {
   "cell_type": "code",
   "execution_count": 209,
   "id": "37036a05-f70e-4857-aebb-57a6d3efa348",
   "metadata": {
    "execution": {
     "iopub.execute_input": "2022-11-04T20:06:44.918028Z",
     "iopub.status.busy": "2022-11-04T20:06:44.917634Z",
     "iopub.status.idle": "2022-11-04T20:06:44.922220Z",
     "shell.execute_reply": "2022-11-04T20:06:44.921657Z",
     "shell.execute_reply.started": "2022-11-04T20:06:44.918004Z"
    }
   },
   "outputs": [
    {
     "data": {
      "text/plain": [
       "23911"
      ]
     },
     "execution_count": 209,
     "metadata": {},
     "output_type": "execute_result"
    }
   ],
   "source": [
    "len(day2)"
   ]
  },
  {
   "cell_type": "code",
   "execution_count": 303,
   "id": "93051fe1-e370-4537-a46a-2b3d67b60038",
   "metadata": {
    "execution": {
     "iopub.execute_input": "2022-11-04T22:08:12.169399Z",
     "iopub.status.busy": "2022-11-04T22:08:12.169009Z",
     "iopub.status.idle": "2022-11-04T22:08:12.188034Z",
     "shell.execute_reply": "2022-11-04T22:08:12.187456Z",
     "shell.execute_reply.started": "2022-11-04T22:08:12.169374Z"
    }
   },
   "outputs": [
    {
     "data": {
      "text/html": [
       "<div>\n",
       "<style scoped>\n",
       "    .dataframe tbody tr th:only-of-type {\n",
       "        vertical-align: middle;\n",
       "    }\n",
       "\n",
       "    .dataframe tbody tr th {\n",
       "        vertical-align: top;\n",
       "    }\n",
       "\n",
       "    .dataframe thead th {\n",
       "        text-align: right;\n",
       "    }\n",
       "</style>\n",
       "<table border=\"1\" class=\"dataframe\">\n",
       "  <thead>\n",
       "    <tr style=\"text-align: right;\">\n",
       "      <th>cell_type</th>\n",
       "      <th>BP</th>\n",
       "      <th>EryP</th>\n",
       "      <th>HSC</th>\n",
       "      <th>MasP</th>\n",
       "      <th>MkP</th>\n",
       "      <th>MoP</th>\n",
       "      <th>NeuP</th>\n",
       "    </tr>\n",
       "    <tr>\n",
       "      <th>day</th>\n",
       "      <th></th>\n",
       "      <th></th>\n",
       "      <th></th>\n",
       "      <th></th>\n",
       "      <th></th>\n",
       "      <th></th>\n",
       "      <th></th>\n",
       "    </tr>\n",
       "  </thead>\n",
       "  <tbody>\n",
       "    <tr>\n",
       "      <th>2</th>\n",
       "      <td>262</td>\n",
       "      <td>3402</td>\n",
       "      <td>10757</td>\n",
       "      <td>2175</td>\n",
       "      <td>3394</td>\n",
       "      <td>258</td>\n",
       "      <td>3663</td>\n",
       "    </tr>\n",
       "    <tr>\n",
       "      <th>3</th>\n",
       "      <td>121</td>\n",
       "      <td>4699</td>\n",
       "      <td>11167</td>\n",
       "      <td>3549</td>\n",
       "      <td>2886</td>\n",
       "      <td>498</td>\n",
       "      <td>5895</td>\n",
       "    </tr>\n",
       "    <tr>\n",
       "      <th>4</th>\n",
       "      <td>123</td>\n",
       "      <td>6054</td>\n",
       "      <td>9116</td>\n",
       "      <td>5228</td>\n",
       "      <td>3495</td>\n",
       "      <td>462</td>\n",
       "      <td>6656</td>\n",
       "    </tr>\n",
       "    <tr>\n",
       "      <th>7</th>\n",
       "      <td>60</td>\n",
       "      <td>2980</td>\n",
       "      <td>3621</td>\n",
       "      <td>5785</td>\n",
       "      <td>3446</td>\n",
       "      <td>843</td>\n",
       "      <td>5347</td>\n",
       "    </tr>\n",
       "  </tbody>\n",
       "</table>\n",
       "</div>"
      ],
      "text/plain": [
       "cell_type   BP  EryP    HSC  MasP   MkP  MoP  NeuP\n",
       "day                                               \n",
       "2          262  3402  10757  2175  3394  258  3663\n",
       "3          121  4699  11167  3549  2886  498  5895\n",
       "4          123  6054   9116  5228  3495  462  6656\n",
       "7           60  2980   3621  5785  3446  843  5347"
      ]
     },
     "execution_count": 303,
     "metadata": {},
     "output_type": "execute_result"
    }
   ],
   "source": [
    "meta.groupby(['day','cell_type']).donor.count().unstack()"
   ]
  },
  {
   "cell_type": "code",
   "execution_count": 311,
   "id": "44ad591c-ae94-4638-973d-082a693a6729",
   "metadata": {
    "execution": {
     "iopub.execute_input": "2022-11-04T22:10:15.250509Z",
     "iopub.status.busy": "2022-11-04T22:10:15.250132Z",
     "iopub.status.idle": "2022-11-04T22:10:15.263228Z",
     "shell.execute_reply": "2022-11-04T22:10:15.262654Z",
     "shell.execute_reply.started": "2022-11-04T22:10:15.250486Z"
    },
    "tags": []
   },
   "outputs": [],
   "source": [
    "types_day7 = meta.groupby(['day','cell_type']).donor.count().unstack().loc[7]"
   ]
  },
  {
   "cell_type": "code",
   "execution_count": 307,
   "id": "6a220fd5-17ae-4569-a4a5-97442ed1d332",
   "metadata": {
    "execution": {
     "iopub.execute_input": "2022-11-04T22:09:17.901972Z",
     "iopub.status.busy": "2022-11-04T22:09:17.901596Z",
     "iopub.status.idle": "2022-11-04T22:09:17.905576Z",
     "shell.execute_reply": "2022-11-04T22:09:17.905047Z",
     "shell.execute_reply.started": "2022-11-04T22:09:17.901950Z"
    }
   },
   "outputs": [],
   "source": [
    "types_day7 = types_day7/types_day7.sum()"
   ]
  },
  {
   "cell_type": "code",
   "execution_count": 312,
   "id": "e50cd88b-ab59-4644-99d3-9e306058c3ec",
   "metadata": {
    "execution": {
     "iopub.execute_input": "2022-11-04T22:10:16.839073Z",
     "iopub.status.busy": "2022-11-04T22:10:16.838685Z",
     "iopub.status.idle": "2022-11-04T22:10:16.843725Z",
     "shell.execute_reply": "2022-11-04T22:10:16.843207Z",
     "shell.execute_reply.started": "2022-11-04T22:10:16.839042Z"
    },
    "tags": []
   },
   "outputs": [
    {
     "data": {
      "text/plain": [
       "cell_type\n",
       "BP        60\n",
       "EryP    2980\n",
       "HSC     3621\n",
       "MasP    5785\n",
       "MkP     3446\n",
       "MoP      843\n",
       "NeuP    5347\n",
       "Name: 7, dtype: int64"
      ]
     },
     "execution_count": 312,
     "metadata": {},
     "output_type": "execute_result"
    }
   ],
   "source": [
    "types_day7"
   ]
  },
  {
   "cell_type": "code",
   "execution_count": 309,
   "id": "ee555af8-a1fe-4783-ae65-b1b0e137d6a2",
   "metadata": {
    "execution": {
     "iopub.execute_input": "2022-11-04T22:09:58.557803Z",
     "iopub.status.busy": "2022-11-04T22:09:58.557417Z",
     "iopub.status.idle": "2022-11-04T22:09:58.570879Z",
     "shell.execute_reply": "2022-11-04T22:09:58.570335Z",
     "shell.execute_reply.started": "2022-11-04T22:09:58.557780Z"
    }
   },
   "outputs": [],
   "source": [
    "types_day4 = meta.groupby(['day','cell_type']).donor.count().unstack().loc[4]\n",
    "types_day4 = types_day4/types_day4.sum()"
   ]
  },
  {
   "cell_type": "code",
   "execution_count": 313,
   "id": "39c1680a-2402-4843-b082-db46c425c56e",
   "metadata": {
    "execution": {
     "iopub.execute_input": "2022-11-04T22:10:25.764639Z",
     "iopub.status.busy": "2022-11-04T22:10:25.764222Z",
     "iopub.status.idle": "2022-11-04T22:10:25.778705Z",
     "shell.execute_reply": "2022-11-04T22:10:25.778200Z",
     "shell.execute_reply.started": "2022-11-04T22:10:25.764614Z"
    },
    "tags": []
   },
   "outputs": [
    {
     "data": {
      "text/plain": [
       "cell_type\n",
       "BP       123\n",
       "EryP    6054\n",
       "HSC     9116\n",
       "MasP    5228\n",
       "MkP     3495\n",
       "MoP      462\n",
       "NeuP    6656\n",
       "Name: 4, dtype: int64"
      ]
     },
     "execution_count": 313,
     "metadata": {},
     "output_type": "execute_result"
    }
   ],
   "source": [
    "types_day4 = meta.groupby(['day','cell_type']).donor.count().unstack().loc[4]\n",
    "types_day4"
   ]
  },
  {
   "cell_type": "markdown",
   "id": "0094b826-e7f6-4255-9b22-c57f9d73bcba",
   "metadata": {},
   "source": [
    "other than MasP and MoP, have more cells on day 4 of each type."
   ]
  },
  {
   "cell_type": "code",
   "execution_count": 314,
   "id": "cfb69760-6d03-41b2-8b77-8cf213763e09",
   "metadata": {
    "execution": {
     "iopub.execute_input": "2022-11-04T22:12:07.915435Z",
     "iopub.status.busy": "2022-11-04T22:12:07.915030Z",
     "iopub.status.idle": "2022-11-04T22:12:07.925744Z",
     "shell.execute_reply": "2022-11-04T22:12:07.925180Z",
     "shell.execute_reply.started": "2022-11-04T22:12:07.915410Z"
    }
   },
   "outputs": [],
   "source": [
    "types_day7_donor1 = meta.loc[meta.donor == 32606].groupby(['day','cell_type']).donor.count().unstack().loc[7]"
   ]
  },
  {
   "cell_type": "code",
   "execution_count": 315,
   "id": "0cfa715f-1c28-4341-a0c5-b2df9919b1cb",
   "metadata": {
    "execution": {
     "iopub.execute_input": "2022-11-04T22:12:10.350537Z",
     "iopub.status.busy": "2022-11-04T22:12:10.350169Z",
     "iopub.status.idle": "2022-11-04T22:12:10.355315Z",
     "shell.execute_reply": "2022-11-04T22:12:10.354749Z",
     "shell.execute_reply.started": "2022-11-04T22:12:10.350515Z"
    }
   },
   "outputs": [
    {
     "data": {
      "text/plain": [
       "cell_type\n",
       "BP        14\n",
       "EryP     851\n",
       "HSC     1060\n",
       "MasP    2240\n",
       "MkP      906\n",
       "MoP      206\n",
       "NeuP    1683\n",
       "Name: 7, dtype: int64"
      ]
     },
     "execution_count": 315,
     "metadata": {},
     "output_type": "execute_result"
    }
   ],
   "source": [
    "types_day7_donor1"
   ]
  },
  {
   "cell_type": "code",
   "execution_count": 316,
   "id": "51e42e9e-8a54-48e6-a4f4-f4b3efebb5e4",
   "metadata": {
    "execution": {
     "iopub.execute_input": "2022-11-04T22:12:29.286063Z",
     "iopub.status.busy": "2022-11-04T22:12:29.285686Z",
     "iopub.status.idle": "2022-11-04T22:12:29.298010Z",
     "shell.execute_reply": "2022-11-04T22:12:29.297501Z",
     "shell.execute_reply.started": "2022-11-04T22:12:29.286040Z"
    }
   },
   "outputs": [
    {
     "data": {
      "text/plain": [
       "cell_type\n",
       "BP        40\n",
       "EryP    2153\n",
       "HSC     2991\n",
       "MasP    2093\n",
       "MkP     1125\n",
       "MoP      123\n",
       "NeuP    2408\n",
       "Name: 4, dtype: int64"
      ]
     },
     "execution_count": 316,
     "metadata": {},
     "output_type": "execute_result"
    }
   ],
   "source": [
    "types_day4 = meta.loc[meta.donor == 32606].groupby(['day','cell_type']).donor.count().unstack().loc[4]\n",
    "types_day4"
   ]
  },
  {
   "cell_type": "markdown",
   "id": "cd23605e-8da3-479a-9500-bee88ad8a6e0",
   "metadata": {},
   "source": [
    "same thing. I can just get 1/2 the cells from day 7 and then match."
   ]
  },
  {
   "cell_type": "code",
   "execution_count": 318,
   "id": "88fd66ae-68d5-4bdb-b9ba-f7d2ed173ce1",
   "metadata": {
    "execution": {
     "iopub.execute_input": "2022-11-04T22:14:17.161664Z",
     "iopub.status.busy": "2022-11-04T22:14:17.161281Z",
     "iopub.status.idle": "2022-11-04T22:14:17.166918Z",
     "shell.execute_reply": "2022-11-04T22:14:17.166416Z",
     "shell.execute_reply.started": "2022-11-04T22:14:17.161640Z"
    },
    "tags": []
   },
   "outputs": [
    {
     "data": {
      "text/plain": [
       "cell_type\n",
       "BP         7\n",
       "EryP     425\n",
       "HSC      530\n",
       "MasP    1120\n",
       "MkP      453\n",
       "MoP      103\n",
       "NeuP     841\n",
       "Name: 7, dtype: int64"
      ]
     },
     "execution_count": 318,
     "metadata": {},
     "output_type": "execute_result"
    }
   ],
   "source": [
    "(types_day7_donor1/2).astype(int)"
   ]
  },
  {
   "cell_type": "code",
   "execution_count": 324,
   "id": "6a25d8a1-8a07-4eae-be05-25fc0fe3851e",
   "metadata": {
    "execution": {
     "iopub.execute_input": "2022-11-04T22:17:59.565427Z",
     "iopub.status.busy": "2022-11-04T22:17:59.565054Z",
     "iopub.status.idle": "2022-11-04T22:17:59.626681Z",
     "shell.execute_reply": "2022-11-04T22:17:59.626113Z",
     "shell.execute_reply.started": "2022-11-04T22:17:59.565405Z"
    },
    "tags": []
   },
   "outputs": [],
   "source": [
    "frame = pd.DataFrame()\n",
    "for type in types_day7_donor1.index:\n",
    "    frame = frame.append(meta.loc[(meta.donor == 32606) & (meta.day == 4) & (meta.cell_type == type)][:(types_day7_donor1/2).astype(int).loc[type]])"
   ]
  },
  {
   "cell_type": "code",
   "execution_count": 335,
   "id": "bfb5bd89-a960-4563-a423-ecc37f353827",
   "metadata": {
    "execution": {
     "iopub.execute_input": "2022-11-04T22:19:53.814514Z",
     "iopub.status.busy": "2022-11-04T22:19:53.814135Z",
     "iopub.status.idle": "2022-11-04T22:19:53.817817Z",
     "shell.execute_reply": "2022-11-04T22:19:53.817267Z",
     "shell.execute_reply.started": "2022-11-04T22:19:53.814491Z"
    },
    "tags": []
   },
   "outputs": [],
   "source": [
    "match_type_day4_to_day7 = frame.range.values"
   ]
  },
  {
   "cell_type": "code",
   "execution_count": 37,
   "id": "2fa1eef1-dbf7-4752-9bc5-d4ed2eca00a4",
   "metadata": {
    "execution": {
     "iopub.execute_input": "2022-11-06T22:00:22.716360Z",
     "iopub.status.busy": "2022-11-06T22:00:22.715966Z",
     "iopub.status.idle": "2022-11-06T22:00:22.748059Z",
     "shell.execute_reply": "2022-11-06T22:00:22.747418Z",
     "shell.execute_reply.started": "2022-11-06T22:00:22.716334Z"
    },
    "tags": []
   },
   "outputs": [
    {
     "data": {
      "text/plain": [
       "(1000, 22858)"
      ]
     },
     "execution_count": 37,
     "metadata": {},
     "output_type": "execute_result"
    }
   ],
   "source": [
    "(y_va_pred@svd.components_).shape"
   ]
  },
  {
   "cell_type": "code",
   "execution_count": 38,
   "id": "265fd0da-3e69-4f76-96ae-19e6d479b037",
   "metadata": {
    "execution": {
     "iopub.execute_input": "2022-11-06T22:00:32.413028Z",
     "iopub.status.busy": "2022-11-06T22:00:32.412634Z",
     "iopub.status.idle": "2022-11-06T22:00:32.417079Z",
     "shell.execute_reply": "2022-11-06T22:00:32.416551Z",
     "shell.execute_reply.started": "2022-11-06T22:00:32.413002Z"
    },
    "tags": []
   },
   "outputs": [
    {
     "data": {
      "text/plain": [
       "(105942, 22858)"
      ]
     },
     "execution_count": 38,
     "metadata": {},
     "output_type": "execute_result"
    }
   ],
   "source": [
    "targets[].shape"
   ]
  },
  {
   "cell_type": "code",
   "execution_count": 223,
   "id": "b520a275-c6b8-415f-95f3-48225932add0",
   "metadata": {
    "execution": {
     "iopub.execute_input": "2022-11-07T03:19:02.716763Z",
     "iopub.status.busy": "2022-11-07T03:19:02.716384Z",
     "iopub.status.idle": "2022-11-07T03:19:03.466145Z",
     "shell.execute_reply": "2022-11-07T03:19:03.465539Z",
     "shell.execute_reply.started": "2022-11-07T03:19:02.716739Z"
    },
    "tags": []
   },
   "outputs": [
    {
     "name": "stdout",
     "output_type": "stream",
     "text": [
      "(1000, 40)\n",
      "(1000, 64)\n",
      "(1000, 22858)\n"
     ]
    }
   ],
   "source": [
    "X_tr = X_copy[day4_donor3][:1000,:40]\n",
    "X_va = X_copy[day7_donor3][:1000,:40]\n",
    "y_tr = svd.transform(targets_copy[day4_donor3][:1000])[:,:64]\n",
    "y_va = svd.transform(targets_copy[day7_donor3][:1000])[:,:64]\n",
    "targets = targets_copy[day7_donor3][:1000]\n",
    "print(X_tr.shape)\n",
    "print(y_va.shape)\n",
    "print(targets.shape)\n",
    "Y = y_tr\n",
    "X = X_tr"
   ]
  },
  {
   "cell_type": "code",
   "execution_count": 224,
   "id": "d92de15f-2b57-4a65-931a-b6ff2519ec4b",
   "metadata": {
    "execution": {
     "iopub.execute_input": "2022-11-07T03:19:04.672901Z",
     "iopub.status.busy": "2022-11-07T03:19:04.672516Z",
     "iopub.status.idle": "2022-11-07T03:19:16.520697Z",
     "shell.execute_reply": "2022-11-07T03:19:16.520063Z",
     "shell.execute_reply.started": "2022-11-07T03:19:04.672877Z"
    },
    "tags": []
   },
   "outputs": [
    {
     "name": "stdout",
     "output_type": "stream",
     "text": [
      "32/32 [==============================] - 0s 2ms/step\n",
      "Mean squared error = 13.100000381469727\n",
      "Correlation = 0.60073\n",
      "PCA Correlation = 0.95909\n",
      "\u001b[32m\u001b[1mMean corr = 0.60073\u001b[0m\n",
      "\u001b[31m\u001b[1mMean pca corr = 0.95909\u001b[0m\n"
     ]
    }
   ],
   "source": [
    "import warnings\n",
    "warnings.filterwarnings(\"ignore\")\n",
    "\n",
    "VERBOSE = 0\n",
    "N_SPLIT = 3\n",
    "#kf = KFold(n_splits=N_SPLIT, shuffle=True, random_state=42)\n",
    "kf = KFold(n_splits = N_SPLIT)\n",
    "\n",
    "scores = []\n",
    "pca_scores = []\n",
    "pred_train = np.zeros_like(Y)\n",
    "\n",
    "model = create_model()\n",
    "\n",
    "lr = ReduceLROnPlateau(\n",
    "            monitor = \"val_loss\",\n",
    "            factor = 0.9, \n",
    "            patience = 4, \n",
    "            verbose = VERBOSE)\n",
    "\n",
    "es = EarlyStopping(\n",
    "            monitor = \"val_loss\",\n",
    "            patience = 30, \n",
    "            verbose = VERBOSE,\n",
    "            mode = \"min\", \n",
    "            restore_best_weights = True)\n",
    "\n",
    "model.compile(optimizer=tf.keras.optimizers.Adam(learning_rate=1e-3),\n",
    "              loss = 'mse',\n",
    "              metrics=None)\n",
    "model.fit(X_tr,\n",
    "          y_tr,\n",
    "          validation_data=(X_va,y_va),\n",
    "          epochs =500,\n",
    "          verbose = VERBOSE,\n",
    "          batch_size=256,\n",
    "          callbacks = [es,lr]\n",
    "         )\n",
    "y_va_pred = model.predict(X_va)\n",
    "corrscore = correlation_score(targets, y_va_pred@svd.components_[:64])\n",
    "scores.append(corrscore)\n",
    "pca_corrscore = correlation_score(y_va[:,:64], y_va_pred[:,:64])\n",
    "pca_scores.append(pca_corrscore)\n",
    "\n",
    "print(f'Mean squared error = {np.round(mean_squared_error(y_va,y_va_pred),2)}')\n",
    "print(f'Correlation = {corrscore:.5f}')\n",
    "print(f'PCA Correlation = {pca_corrscore:.5f}')\n",
    "\n",
    "del X_tr,X_va,y_tr,y_va\n",
    "gc.collect()\n",
    "\n",
    "# Show overall score\n",
    "print(f\"{Fore.GREEN}{Style.BRIGHT}Mean corr = {np.array(scores).mean():.5f}{Style.RESET_ALL}\")\n",
    "print(f\"{Fore.RED}{Style.BRIGHT}Mean pca corr = {np.array(pca_scores).mean():.5f}{Style.RESET_ALL}\")\n",
    "# score_total = correlation_score(targets, pred_train@svd.components_)#pred_train@pca_target_comps)\n",
    "# print(f\"{Fore.BLUE}{Style.BRIGHT}Oof corr   = {score_total:.5f}{Style.RESET_ALL}\")"
   ]
  },
  {
   "cell_type": "code",
   "execution_count": 225,
   "id": "4c115f91-835a-4610-b155-e6c8342089f8",
   "metadata": {
    "execution": {
     "iopub.execute_input": "2022-11-07T03:19:24.209647Z",
     "iopub.status.busy": "2022-11-07T03:19:24.209262Z",
     "iopub.status.idle": "2022-11-07T03:19:24.213884Z",
     "shell.execute_reply": "2022-11-07T03:19:24.213348Z",
     "shell.execute_reply.started": "2022-11-07T03:19:24.209622Z"
    }
   },
   "outputs": [
    {
     "data": {
      "text/plain": [
       "0.61012"
      ]
     },
     "execution_count": 225,
     "metadata": {},
     "output_type": "execute_result"
    }
   ],
   "source": [
    "(0.61023+0.61940+0.60073)/3"
   ]
  },
  {
   "cell_type": "code",
   "execution_count": 232,
   "id": "b708e587-5c87-4f1c-8852-51234823a654",
   "metadata": {
    "execution": {
     "iopub.execute_input": "2022-11-07T03:22:46.127387Z",
     "iopub.status.busy": "2022-11-07T03:22:46.127003Z",
     "iopub.status.idle": "2022-11-07T03:22:46.425529Z",
     "shell.execute_reply": "2022-11-07T03:22:46.424967Z",
     "shell.execute_reply.started": "2022-11-07T03:22:46.127362Z"
    },
    "tags": []
   },
   "outputs": [
    {
     "data": {
      "text/plain": [
       "Text(3.8, 0.61012, 'Just using day 4 to predict day 7')"
      ]
     },
     "execution_count": 232,
     "metadata": {},
     "output_type": "execute_result"
    },
    {
     "data": {
      "image/png": "[encoded data removed]",
      "text/plain": [
       "<Figure size 432x288 with 2 Axes>"
      ]
     },
     "metadata": {
      "needs_background": "light"
     },
     "output_type": "display_data"
    }
   ],
   "source": [
    "import matplotlib.pyplot as plt\n",
    "fig, ax = plt.subplots()\n",
    "ax.plot([2,3,4,7],[0.97480,0.97973,0.98074,0.94519],color='r',alpha=0.5)\n",
    "ax.scatter([7],[0.98054],color='r',alpha=0.5)\n",
    "ax.scatter([7],[0.98007],color='r',alpha=0.5)\n",
    "ax.scatter([7],[0.97959],color='r',alpha=0.5)\n",
    "\n",
    "\n",
    "ax.set_xlabel('Day')\n",
    "ax.set_ylabel('Top 64 PCA Correlation',color='r')\n",
    "ax2 = ax.twinx()\n",
    "ax2.plot([2,3,4,7],[0.67806,0.66570,0.68982,0.60127],color='b',alpha=0.5)\n",
    "ax2.scatter([7],[0.62380],color='b',alpha=0.5)\n",
    "ax2.scatter([7],[0.63471],color='b',alpha=0.5)\n",
    "ax2.scatter([7],[0.61805],color='b',alpha=0.5)\n",
    "ax2.scatter([7],[0.61012],color='g')\n",
    "\n",
    "ax2.set_ylabel('Correlation',color='b')\n",
    "ax.annotate(\"Predicting Different Day, All Donors\", xy=(2, 0.96))\n",
    "ax.annotate(\"Same Day, Same Donor\", xy=(7, 0.979), xytext=(5.2, 0.970),\n",
    "            arrowprops=dict(arrowstyle=\"->\"))\n",
    "ax.annotate(\"Same Day, Same Donor\", xy=(7, 0.955), xytext=(5.2, 0.970),\n",
    "            arrowprops=dict(arrowstyle=\"->\"))\n",
    "ax2.annotate(\"Just using day 4 to predict day 7\", xy=(7, 0.61012), xytext=(3.8, 0.61012),\n",
    "            arrowprops=dict(arrowstyle=\"->\"))"
   ]
  },
  {
   "cell_type": "code",
   "execution_count": 86,
   "id": "86301dca-3718-4a98-bec4-c3ffd9ea5c9c",
   "metadata": {
    "execution": {
     "iopub.execute_input": "2022-11-06T22:19:43.365285Z",
     "iopub.status.busy": "2022-11-06T22:19:43.364662Z",
     "iopub.status.idle": "2022-11-06T22:21:10.355728Z",
     "shell.execute_reply": "2022-11-06T22:21:10.355141Z",
     "shell.execute_reply.started": "2022-11-06T22:19:43.365261Z"
    },
    "tags": []
   },
   "outputs": [
    {
     "data": {
      "text/html": [
       "<style>#sk-container-id-4 {color: black;background-color: white;}#sk-container-id-4 pre{padding: 0;}#sk-container-id-4 div.sk-toggleable {background-color: white;}#sk-container-id-4 label.sk-toggleable__label {cursor: pointer;display: block;width: 100%;margin-bottom: 0;padding: 0.3em;box-sizing: border-box;text-align: center;}#sk-container-id-4 label.sk-toggleable__label-arrow:before {content: \"▸\";float: left;margin-right: 0.25em;color: #696969;}#sk-container-id-4 label.sk-toggleable__label-arrow:hover:before {color: black;}#sk-container-id-4 div.sk-estimator:hover label.sk-toggleable__label-arrow:before {color: black;}#sk-container-id-4 div.sk-toggleable__content {max-height: 0;max-width: 0;overflow: hidden;text-align: left;background-color: #f0f8ff;}#sk-container-id-4 div.sk-toggleable__content pre {margin: 0.2em;color: black;border-radius: 0.25em;background-color: #f0f8ff;}#sk-container-id-4 input.sk-toggleable__control:checked~div.sk-toggleable__content {max-height: 200px;max-width: 100%;overflow: auto;}#sk-container-id-4 input.sk-toggleable__control:checked~label.sk-toggleable__label-arrow:before {content: \"▾\";}#sk-container-id-4 div.sk-estimator input.sk-toggleable__control:checked~label.sk-toggleable__label {background-color: #d4ebff;}#sk-container-id-4 div.sk-label input.sk-toggleable__control:checked~label.sk-toggleable__label {background-color: #d4ebff;}#sk-container-id-4 input.sk-hidden--visually {border: 0;clip: rect(1px 1px 1px 1px);clip: rect(1px, 1px, 1px, 1px);height: 1px;margin: -1px;overflow: hidden;padding: 0;position: absolute;width: 1px;}#sk-container-id-4 div.sk-estimator {font-family: monospace;background-color: #f0f8ff;border: 1px dotted black;border-radius: 0.25em;box-sizing: border-box;margin-bottom: 0.5em;}#sk-container-id-4 div.sk-estimator:hover {background-color: #d4ebff;}#sk-container-id-4 div.sk-parallel-item::after {content: \"\";width: 100%;border-bottom: 1px solid gray;flex-grow: 1;}#sk-container-id-4 div.sk-label:hover label.sk-toggleable__label {background-color: #d4ebff;}#sk-container-id-4 div.sk-serial::before {content: \"\";position: absolute;border-left: 1px solid gray;box-sizing: border-box;top: 0;bottom: 0;left: 50%;z-index: 0;}#sk-container-id-4 div.sk-serial {display: flex;flex-direction: column;align-items: center;background-color: white;padding-right: 0.2em;padding-left: 0.2em;position: relative;}#sk-container-id-4 div.sk-item {position: relative;z-index: 1;}#sk-container-id-4 div.sk-parallel {display: flex;align-items: stretch;justify-content: center;background-color: white;position: relative;}#sk-container-id-4 div.sk-item::before, #sk-container-id-4 div.sk-parallel-item::before {content: \"\";position: absolute;border-left: 1px solid gray;box-sizing: border-box;top: 0;bottom: 0;left: 50%;z-index: -1;}#sk-container-id-4 div.sk-parallel-item {display: flex;flex-direction: column;z-index: 1;position: relative;background-color: white;}#sk-container-id-4 div.sk-parallel-item:first-child::after {align-self: flex-end;width: 50%;}#sk-container-id-4 div.sk-parallel-item:last-child::after {align-self: flex-start;width: 50%;}#sk-container-id-4 div.sk-parallel-item:only-child::after {width: 0;}#sk-container-id-4 div.sk-dashed-wrapped {border: 1px dashed gray;margin: 0 0.4em 0.5em 0.4em;box-sizing: border-box;padding-bottom: 0.4em;background-color: white;}#sk-container-id-4 div.sk-label label {font-family: monospace;font-weight: bold;display: inline-block;line-height: 1.2em;}#sk-container-id-4 div.sk-label-container {text-align: center;}#sk-container-id-4 div.sk-container {/* jupyter's `normalize.less` sets `[hidden] { display: none; }` but bootstrap.min.css set `[hidden] { display: none !important; }` so we also need the `!important` here to be able to override the default hidden behavior on the sphinx rendered scikit-learn.org. See: https://github.com/scikit-learn/scikit-learn/issues/21755 */display: inline-block !important;position: relative;}#sk-container-id-4 div.sk-text-repr-fallback {display: none;}</style><div id=\"sk-container-id-4\" class=\"sk-top-container\"><div class=\"sk-text-repr-fallback\"><pre>TruncatedSVD(n_components=8192, random_state=1)</pre><b>In a Jupyter environment, please rerun this cell to show the HTML representation or trust the notebook. <br />On GitHub, the HTML representation is unable to render, please try loading this page with nbviewer.org.</b></div><div class=\"sk-container\" hidden><div class=\"sk-item\"><div class=\"sk-estimator sk-toggleable\"><input class=\"sk-toggleable__control sk-hidden--visually\" id=\"sk-estimator-id-4\" type=\"checkbox\" checked><label for=\"sk-estimator-id-4\" class=\"sk-toggleable__label sk-toggleable__label-arrow\">TruncatedSVD</label><div class=\"sk-toggleable__content\"><pre>TruncatedSVD(n_components=8192, random_state=1)</pre></div></div></div></div></div>"
      ],
      "text/plain": [
       "TruncatedSVD(n_components=8192, random_state=1)"
      ]
     },
     "execution_count": 86,
     "metadata": {},
     "output_type": "execute_result"
    }
   ],
   "source": [
    "svd7 = TruncatedSVD(n_components = 512,random_state = 1)\n",
    "svd7.fit(targets_copy[day7_donor1])\n",
    "svd4 = TruncatedSVD(n_components = 8192,random_state = 1)\n",
    "svd4.fit(targets_copy[day4_donor1])"
   ]
  },
  {
   "cell_type": "code",
   "execution_count": null,
   "id": "a4630a3b-111e-4c95-8e97-3a5db2e47fb0",
   "metadata": {},
   "outputs": [],
   "source": []
  },
  {
   "cell_type": "code",
   "execution_count": 56,
   "id": "ce5dfd18-ffad-4eff-a1d6-87036a473f05",
   "metadata": {
    "execution": {
     "iopub.execute_input": "2022-11-06T22:11:01.478883Z",
     "iopub.status.busy": "2022-11-06T22:11:01.478486Z",
     "iopub.status.idle": "2022-11-06T22:11:01.526969Z",
     "shell.execute_reply": "2022-11-06T22:11:01.526375Z",
     "shell.execute_reply.started": "2022-11-06T22:11:01.478859Z"
    },
    "tags": []
   },
   "outputs": [],
   "source": [
    "abc = np.zeros((64,64))\n",
    "for i in range(64):\n",
    "    for j in range(64):\n",
    "        abc[i,j]=np.abs(svd7.components_[i].T@svd4.components_[j])"
   ]
  },
  {
   "cell_type": "code",
   "execution_count": 51,
   "id": "3deba22a-3ed8-41e6-9bfa-f1fec375e801",
   "metadata": {
    "execution": {
     "iopub.execute_input": "2022-11-06T22:08:03.964011Z",
     "iopub.status.busy": "2022-11-06T22:08:03.963616Z",
     "iopub.status.idle": "2022-11-06T22:08:04.203542Z",
     "shell.execute_reply": "2022-11-06T22:08:04.202989Z",
     "shell.execute_reply.started": "2022-11-06T22:08:03.963986Z"
    },
    "tags": []
   },
   "outputs": [
    {
     "data": {
      "text/plain": [
       "<AxesSubplot:>"
      ]
     },
     "execution_count": 51,
     "metadata": {},
     "output_type": "execute_result"
    },
    {
     "data": {
      "image/png": "[encoded data removed]",
      "text/plain": [
       "<Figure size 432x288 with 2 Axes>"
      ]
     },
     "metadata": {
      "needs_background": "light"
     },
     "output_type": "display_data"
    }
   ],
   "source": [
    "import seaborn as sns\n",
    "sns.heatmap(abc)"
   ]
  },
  {
   "cell_type": "code",
   "execution_count": 99,
   "id": "953b9d50-1601-41a6-b26e-d260d1a1a692",
   "metadata": {
    "execution": {
     "iopub.execute_input": "2022-11-06T22:37:37.354089Z",
     "iopub.status.busy": "2022-11-06T22:37:37.353694Z",
     "iopub.status.idle": "2022-11-06T22:37:37.398123Z",
     "shell.execute_reply": "2022-11-06T22:37:37.397457Z",
     "shell.execute_reply.started": "2022-11-06T22:37:37.354064Z"
    },
    "tags": []
   },
   "outputs": [],
   "source": [
    "abc = np.zeros((64,64))\n",
    "for i in range(64):\n",
    "    for j in range(64):\n",
    "        abc[i,j]=svd7.components_[i].T@svd4.components_[j]"
   ]
  },
  {
   "cell_type": "code",
   "execution_count": 100,
   "id": "9713fd14-c96b-412e-b101-9a844cd06c6f",
   "metadata": {
    "execution": {
     "iopub.execute_input": "2022-11-06T22:37:41.300965Z",
     "iopub.status.busy": "2022-11-06T22:37:41.300591Z",
     "iopub.status.idle": "2022-11-06T22:37:41.306565Z",
     "shell.execute_reply": "2022-11-06T22:37:41.306028Z",
     "shell.execute_reply.started": "2022-11-06T22:37:41.300940Z"
    }
   },
   "outputs": [
    {
     "data": {
      "text/plain": [
       "array([0.970315  , 0.8749559 , 0.89457078, 0.82203718, 0.85565294,\n",
       "       0.82470973, 0.81558348, 0.82076067, 0.77151775, 0.76123261,\n",
       "       0.70432448, 0.55039052, 0.73287444, 0.54183051, 0.52112397,\n",
       "       0.45981548, 0.38127695, 0.39127293, 0.3201854 , 0.32774585,\n",
       "       0.2916771 , 0.32436252, 0.26453652, 0.21748206, 0.22149012,\n",
       "       0.20359454, 0.20107628, 0.17341163, 0.11240417, 0.1168107 ,\n",
       "       0.08759054, 0.09189415, 0.07041828, 0.08057394, 0.07988457,\n",
       "       0.06247781, 0.05212354, 0.03859794, 0.04982894, 0.03203417,\n",
       "       0.03829722, 0.01938023, 0.01601375, 0.01960265, 0.02719193,\n",
       "       0.01720226, 0.02159923, 0.0252655 , 0.01451398, 0.01315323,\n",
       "       0.01857382, 0.01427119, 0.01335309, 0.01321295, 0.01410719,\n",
       "       0.01592213, 0.01390831, 0.00908235, 0.01255288, 0.01878934,\n",
       "       0.01179975, 0.01466252, 0.0150678 , 0.01205141])"
      ]
     },
     "execution_count": 100,
     "metadata": {},
     "output_type": "execute_result"
    }
   ],
   "source": [
    "#64\n",
    "np.sum(list(map(lambda x: x**2,abc)),axis=1)"
   ]
  },
  {
   "cell_type": "code",
   "execution_count": 82,
   "id": "ac4b44ff-5087-4172-9070-2f48e9663c6c",
   "metadata": {
    "execution": {
     "iopub.execute_input": "2022-11-06T22:15:01.264981Z",
     "iopub.status.busy": "2022-11-06T22:15:01.264590Z",
     "iopub.status.idle": "2022-11-06T22:15:01.270669Z",
     "shell.execute_reply": "2022-11-06T22:15:01.270035Z",
     "shell.execute_reply.started": "2022-11-06T22:15:01.264955Z"
    },
    "tags": []
   },
   "outputs": [
    {
     "data": {
      "text/plain": [
       "array([0.9723027 , 0.88380502, 0.9014982 , 0.83551972, 0.86581434,\n",
       "       0.83696521, 0.82898102, 0.83325219, 0.79047059, 0.77667957,\n",
       "       0.7233538 , 0.58391449, 0.74885901, 0.5772288 , 0.55682732,\n",
       "       0.50368256, 0.43537332, 0.43647988, 0.37667437, 0.39213958,\n",
       "       0.34909401, 0.37738143, 0.31881038, 0.28028805, 0.27570007,\n",
       "       0.2605048 , 0.25813959, 0.2333965 , 0.18341824, 0.18425963,\n",
       "       0.15539695, 0.17191626, 0.13946587, 0.13919582, 0.1529572 ,\n",
       "       0.12829921, 0.12570153, 0.10423331, 0.10800357, 0.09594738,\n",
       "       0.09955492, 0.0814841 , 0.07807637, 0.08160591, 0.08369063,\n",
       "       0.07947562, 0.07839625, 0.08158901, 0.06503121, 0.06670253,\n",
       "       0.07266515, 0.07509248, 0.06472812, 0.07111115, 0.0769469 ,\n",
       "       0.07719336, 0.06935187, 0.06482946, 0.07124681, 0.07468348,\n",
       "       0.06679965, 0.07086716, 0.07548687, 0.06864403])"
      ]
     },
     "execution_count": 82,
     "metadata": {},
     "output_type": "execute_result"
    }
   ],
   "source": [
    "#512\n",
    "np.sum(list(map(lambda x: x**2,abc)),axis=1)"
   ]
  },
  {
   "cell_type": "code",
   "execution_count": 85,
   "id": "33c241f5-f633-4249-96d3-6b9e896d2fd0",
   "metadata": {
    "execution": {
     "iopub.execute_input": "2022-11-06T22:18:41.597627Z",
     "iopub.status.busy": "2022-11-06T22:18:41.597232Z",
     "iopub.status.idle": "2022-11-06T22:18:41.603796Z",
     "shell.execute_reply": "2022-11-06T22:18:41.603253Z",
     "shell.execute_reply.started": "2022-11-06T22:18:41.597602Z"
    }
   },
   "outputs": [
    {
     "data": {
      "text/plain": [
       "array([0.97823989, 0.9048074 , 0.9208459 , 0.86884294, 0.89180421,\n",
       "       0.86556562, 0.86321808, 0.86441437, 0.83194793, 0.81933092,\n",
       "       0.77290556, 0.66932046, 0.79414046, 0.66216089, 0.64768464,\n",
       "       0.60958698, 0.55497603, 0.55642536, 0.50605089, 0.51753105,\n",
       "       0.4821002 , 0.50746135, 0.46754607, 0.43088958, 0.4216331 ,\n",
       "       0.41250448, 0.419917  , 0.38126904, 0.35365288, 0.3452323 ,\n",
       "       0.33633963, 0.34201884, 0.31552302, 0.31120169, 0.31628348,\n",
       "       0.30370318, 0.29299124, 0.274826  , 0.28471257, 0.26779673,\n",
       "       0.27916602, 0.25425863, 0.24690766, 0.26863535, 0.2627179 ,\n",
       "       0.25365823, 0.25914985, 0.24347159, 0.24812546, 0.24591915,\n",
       "       0.23964493, 0.23802975, 0.24276231, 0.2537071 , 0.2507747 ,\n",
       "       0.25205459, 0.24592212, 0.24636781, 0.24823473, 0.24990152,\n",
       "       0.24150606, 0.24443466, 0.25637897, 0.24630266])"
      ]
     },
     "execution_count": 85,
     "metadata": {},
     "output_type": "execute_result"
    }
   ],
   "source": [
    "#2048\n",
    "np.sum(list(map(lambda x: x**2,abc)),axis=1)"
   ]
  },
  {
   "cell_type": "code",
   "execution_count": 88,
   "id": "0283ee80-1912-4fd5-a021-adab94d56ad1",
   "metadata": {
    "execution": {
     "iopub.execute_input": "2022-11-06T22:23:04.291764Z",
     "iopub.status.busy": "2022-11-06T22:23:04.291371Z",
     "iopub.status.idle": "2022-11-06T22:23:04.299185Z",
     "shell.execute_reply": "2022-11-06T22:23:04.298642Z",
     "shell.execute_reply.started": "2022-11-06T22:23:04.291738Z"
    }
   },
   "outputs": [
    {
     "data": {
      "text/plain": [
       "array([0.99160531, 0.95965542, 0.96689074, 0.94577794, 0.95485573,\n",
       "       0.94418313, 0.94520619, 0.9446044 , 0.92984212, 0.92675368,\n",
       "       0.90606309, 0.86988807, 0.91512451, 0.86410246, 0.86189175,\n",
       "       0.84427009, 0.822389  , 0.82221459, 0.80927035, 0.80764813,\n",
       "       0.79528308, 0.80734935, 0.78914247, 0.78351596, 0.77458149,\n",
       "       0.77422268, 0.77624821, 0.77086206, 0.75403049, 0.75234508,\n",
       "       0.74358779, 0.75647484, 0.74213305, 0.74577602, 0.74793391,\n",
       "       0.73894003, 0.73831438, 0.73277275, 0.73615701, 0.72923367,\n",
       "       0.73857243, 0.72385342, 0.72093128, 0.72720294, 0.72570304,\n",
       "       0.7158628 , 0.7193619 , 0.71431562, 0.72098842, 0.71451657,\n",
       "       0.71799517, 0.71453529, 0.71327977, 0.71886818, 0.71380471,\n",
       "       0.71773727, 0.71513085, 0.72312934, 0.72899874, 0.71608245,\n",
       "       0.72482263, 0.7240383 , 0.72738176, 0.71017327])"
      ]
     },
     "execution_count": 88,
     "metadata": {},
     "output_type": "execute_result"
    }
   ],
   "source": [
    "#8192\n",
    "np.sum(list(map(lambda x: x**2,abc)),axis=1)"
   ]
  },
  {
   "cell_type": "code",
   "execution_count": 189,
   "id": "278c2e11-f89f-4070-b387-7963e9a14a26",
   "metadata": {
    "execution": {
     "iopub.execute_input": "2022-11-07T02:37:48.511568Z",
     "iopub.status.busy": "2022-11-07T02:37:48.511188Z",
     "iopub.status.idle": "2022-11-07T02:37:51.447253Z",
     "shell.execute_reply": "2022-11-07T02:37:51.446686Z",
     "shell.execute_reply.started": "2022-11-07T02:37:48.511544Z"
    }
   },
   "outputs": [
    {
     "data": {
      "text/html": [
       "<style>#sk-container-id-8 {color: black;background-color: white;}#sk-container-id-8 pre{padding: 0;}#sk-container-id-8 div.sk-toggleable {background-color: white;}#sk-container-id-8 label.sk-toggleable__label {cursor: pointer;display: block;width: 100%;margin-bottom: 0;padding: 0.3em;box-sizing: border-box;text-align: center;}#sk-container-id-8 label.sk-toggleable__label-arrow:before {content: \"▸\";float: left;margin-right: 0.25em;color: #696969;}#sk-container-id-8 label.sk-toggleable__label-arrow:hover:before {color: black;}#sk-container-id-8 div.sk-estimator:hover label.sk-toggleable__label-arrow:before {color: black;}#sk-container-id-8 div.sk-toggleable__content {max-height: 0;max-width: 0;overflow: hidden;text-align: left;background-color: #f0f8ff;}#sk-container-id-8 div.sk-toggleable__content pre {margin: 0.2em;color: black;border-radius: 0.25em;background-color: #f0f8ff;}#sk-container-id-8 input.sk-toggleable__control:checked~div.sk-toggleable__content {max-height: 200px;max-width: 100%;overflow: auto;}#sk-container-id-8 input.sk-toggleable__control:checked~label.sk-toggleable__label-arrow:before {content: \"▾\";}#sk-container-id-8 div.sk-estimator input.sk-toggleable__control:checked~label.sk-toggleable__label {background-color: #d4ebff;}#sk-container-id-8 div.sk-label input.sk-toggleable__control:checked~label.sk-toggleable__label {background-color: #d4ebff;}#sk-container-id-8 input.sk-hidden--visually {border: 0;clip: rect(1px 1px 1px 1px);clip: rect(1px, 1px, 1px, 1px);height: 1px;margin: -1px;overflow: hidden;padding: 0;position: absolute;width: 1px;}#sk-container-id-8 div.sk-estimator {font-family: monospace;background-color: #f0f8ff;border: 1px dotted black;border-radius: 0.25em;box-sizing: border-box;margin-bottom: 0.5em;}#sk-container-id-8 div.sk-estimator:hover {background-color: #d4ebff;}#sk-container-id-8 div.sk-parallel-item::after {content: \"\";width: 100%;border-bottom: 1px solid gray;flex-grow: 1;}#sk-container-id-8 div.sk-label:hover label.sk-toggleable__label {background-color: #d4ebff;}#sk-container-id-8 div.sk-serial::before {content: \"\";position: absolute;border-left: 1px solid gray;box-sizing: border-box;top: 0;bottom: 0;left: 50%;z-index: 0;}#sk-container-id-8 div.sk-serial {display: flex;flex-direction: column;align-items: center;background-color: white;padding-right: 0.2em;padding-left: 0.2em;position: relative;}#sk-container-id-8 div.sk-item {position: relative;z-index: 1;}#sk-container-id-8 div.sk-parallel {display: flex;align-items: stretch;justify-content: center;background-color: white;position: relative;}#sk-container-id-8 div.sk-item::before, #sk-container-id-8 div.sk-parallel-item::before {content: \"\";position: absolute;border-left: 1px solid gray;box-sizing: border-box;top: 0;bottom: 0;left: 50%;z-index: -1;}#sk-container-id-8 div.sk-parallel-item {display: flex;flex-direction: column;z-index: 1;position: relative;background-color: white;}#sk-container-id-8 div.sk-parallel-item:first-child::after {align-self: flex-end;width: 50%;}#sk-container-id-8 div.sk-parallel-item:last-child::after {align-self: flex-start;width: 50%;}#sk-container-id-8 div.sk-parallel-item:only-child::after {width: 0;}#sk-container-id-8 div.sk-dashed-wrapped {border: 1px dashed gray;margin: 0 0.4em 0.5em 0.4em;box-sizing: border-box;padding-bottom: 0.4em;background-color: white;}#sk-container-id-8 div.sk-label label {font-family: monospace;font-weight: bold;display: inline-block;line-height: 1.2em;}#sk-container-id-8 div.sk-label-container {text-align: center;}#sk-container-id-8 div.sk-container {/* jupyter's `normalize.less` sets `[hidden] { display: none; }` but bootstrap.min.css set `[hidden] { display: none !important; }` so we also need the `!important` here to be able to override the default hidden behavior on the sphinx rendered scikit-learn.org. See: https://github.com/scikit-learn/scikit-learn/issues/21755 */display: inline-block !important;position: relative;}#sk-container-id-8 div.sk-text-repr-fallback {display: none;}</style><div id=\"sk-container-id-8\" class=\"sk-top-container\"><div class=\"sk-text-repr-fallback\"><pre>TruncatedSVD(n_components=512, random_state=1)</pre><b>In a Jupyter environment, please rerun this cell to show the HTML representation or trust the notebook. <br />On GitHub, the HTML representation is unable to render, please try loading this page with nbviewer.org.</b></div><div class=\"sk-container\" hidden><div class=\"sk-item\"><div class=\"sk-estimator sk-toggleable\"><input class=\"sk-toggleable__control sk-hidden--visually\" id=\"sk-estimator-id-8\" type=\"checkbox\" checked><label for=\"sk-estimator-id-8\" class=\"sk-toggleable__label sk-toggleable__label-arrow\">TruncatedSVD</label><div class=\"sk-toggleable__content\"><pre>TruncatedSVD(n_components=512, random_state=1)</pre></div></div></div></div></div>"
      ],
      "text/plain": [
       "TruncatedSVD(n_components=512, random_state=1)"
      ]
     },
     "execution_count": 189,
     "metadata": {},
     "output_type": "execute_result"
    }
   ],
   "source": [
    "day2_donor1 = meta.loc[(meta.day == 2)&(meta.donor == 32606)].range.values\n",
    "svd2 = TruncatedSVD(n_components = 512,random_state = 1)\n",
    "svd2.fit(targets_copy[day2_donor1])"
   ]
  },
  {
   "cell_type": "code",
   "execution_count": 200,
   "id": "fd1e5751-5b18-4c83-8ecc-50d2212cb2b2",
   "metadata": {
    "execution": {
     "iopub.execute_input": "2022-11-07T02:51:16.431737Z",
     "iopub.status.busy": "2022-11-07T02:51:16.431353Z",
     "iopub.status.idle": "2022-11-07T02:51:16.482230Z",
     "shell.execute_reply": "2022-11-07T02:51:16.481597Z",
     "shell.execute_reply.started": "2022-11-07T02:51:16.431712Z"
    },
    "tags": []
   },
   "outputs": [],
   "source": [
    "abc42 = np.zeros((64,64))\n",
    "for i in range(64):\n",
    "    for j in range(64):\n",
    "        abc42[i,j]=np.abs(svd4.components_[i].T@svd2.components_[j])"
   ]
  },
  {
   "cell_type": "code",
   "execution_count": 201,
   "id": "03f4de88-c17f-49ad-9d12-e91f322e9509",
   "metadata": {
    "execution": {
     "iopub.execute_input": "2022-11-07T02:51:18.673325Z",
     "iopub.status.busy": "2022-11-07T02:51:18.672949Z",
     "iopub.status.idle": "2022-11-07T02:51:18.911149Z",
     "shell.execute_reply": "2022-11-07T02:51:18.910576Z",
     "shell.execute_reply.started": "2022-11-07T02:51:18.673301Z"
    },
    "tags": []
   },
   "outputs": [
    {
     "data": {
      "text/plain": [
       "<AxesSubplot:>"
      ]
     },
     "execution_count": 201,
     "metadata": {},
     "output_type": "execute_result"
    },
    {
     "data": {
      "image/png": "[encoded data removed]",
      "text/plain": [
       "<Figure size 432x288 with 2 Axes>"
      ]
     },
     "metadata": {
      "needs_background": "light"
     },
     "output_type": "display_data"
    }
   ],
   "source": [
    "sns.heatmap(abc42)"
   ]
  },
  {
   "cell_type": "code",
   "execution_count": 196,
   "id": "07cf8e29-a7bd-4a88-9370-28ef5ce4f97f",
   "metadata": {
    "execution": {
     "iopub.execute_input": "2022-11-07T02:40:23.077535Z",
     "iopub.status.busy": "2022-11-07T02:40:23.077163Z",
     "iopub.status.idle": "2022-11-07T02:40:23.082966Z",
     "shell.execute_reply": "2022-11-07T02:40:23.082420Z",
     "shell.execute_reply.started": "2022-11-07T02:40:23.077511Z"
    },
    "tags": []
   },
   "outputs": [
    {
     "data": {
      "text/plain": [
       "array([0.98141524, 0.86381045, 0.85643398, 0.85248812, 0.81142174,\n",
       "       0.798585  , 0.79980476, 0.74910394, 0.662178  , 0.69692048,\n",
       "       0.6833631 , 0.67310181, 0.49006905, 0.31897331, 0.40192349,\n",
       "       0.39109755, 0.30365216, 0.34197657, 0.37947486, 0.28585079,\n",
       "       0.25227846, 0.19537911, 0.1702898 , 0.09294644, 0.14120365,\n",
       "       0.14240542, 0.12269096, 0.1398505 , 0.0593438 , 0.05813758,\n",
       "       0.06813368, 0.04730829, 0.04615724, 0.02939941, 0.01846747,\n",
       "       0.02306522, 0.01782275, 0.02097389, 0.01813932, 0.01515638,\n",
       "       0.0152199 , 0.0095405 , 0.01092064, 0.01373413, 0.01138718,\n",
       "       0.01289659, 0.00871   , 0.00770414, 0.00960849, 0.01009915,\n",
       "       0.00858137, 0.00989233, 0.00959406, 0.00989085, 0.01044584,\n",
       "       0.00672242, 0.01313331, 0.00598081, 0.0059037 , 0.00968947,\n",
       "       0.01554411, 0.0057418 , 0.00880748, 0.00944052])"
      ]
     },
     "execution_count": 196,
     "metadata": {},
     "output_type": "execute_result"
    }
   ],
   "source": [
    "#64\n",
    "np.sum(list(map(lambda x: x**2,abc)),axis=1)"
   ]
  },
  {
   "cell_type": "code",
   "execution_count": 203,
   "id": "880b1222-dd2c-4a06-8c66-a7cf826dc20b",
   "metadata": {
    "execution": {
     "iopub.execute_input": "2022-11-07T02:51:37.259823Z",
     "iopub.status.busy": "2022-11-07T02:51:37.259434Z",
     "iopub.status.idle": "2022-11-07T02:51:37.309811Z",
     "shell.execute_reply": "2022-11-07T02:51:37.309185Z",
     "shell.execute_reply.started": "2022-11-07T02:51:37.259789Z"
    },
    "tags": []
   },
   "outputs": [],
   "source": [
    "abc72 = np.zeros((64,64))\n",
    "for i in range(64):\n",
    "    for j in range(64):\n",
    "        abc72[i,j]=np.abs(svd7.components_[i].T@svd2.components_[j])"
   ]
  },
  {
   "cell_type": "code",
   "execution_count": 204,
   "id": "b9e607cf-964d-47de-80a7-65173b5d7875",
   "metadata": {
    "execution": {
     "iopub.execute_input": "2022-11-07T02:51:40.019395Z",
     "iopub.status.busy": "2022-11-07T02:51:40.018941Z",
     "iopub.status.idle": "2022-11-07T02:51:40.256576Z",
     "shell.execute_reply": "2022-11-07T02:51:40.255999Z",
     "shell.execute_reply.started": "2022-11-07T02:51:40.019373Z"
    },
    "tags": []
   },
   "outputs": [
    {
     "data": {
      "text/plain": [
       "<AxesSubplot:>"
      ]
     },
     "execution_count": 204,
     "metadata": {},
     "output_type": "execute_result"
    },
    {
     "data": {
      "image/png": "[encoded data removed]",
      "text/plain": [
       "<Figure size 432x288 with 2 Axes>"
      ]
     },
     "metadata": {
      "needs_background": "light"
     },
     "output_type": "display_data"
    }
   ],
   "source": [
    "sns.heatmap(abc72)"
   ]
  },
  {
   "cell_type": "code",
   "execution_count": 206,
   "id": "a2e32336-825b-4d20-94f2-434596e4c98f",
   "metadata": {
    "execution": {
     "iopub.execute_input": "2022-11-07T02:52:24.660534Z",
     "iopub.status.busy": "2022-11-07T02:52:24.660157Z",
     "iopub.status.idle": "2022-11-07T02:52:24.705584Z",
     "shell.execute_reply": "2022-11-07T02:52:24.704945Z",
     "shell.execute_reply.started": "2022-11-07T02:52:24.660510Z"
    }
   },
   "outputs": [],
   "source": [
    "abc74 = np.zeros((64,64))\n",
    "for i in range(64):\n",
    "    for j in range(64):\n",
    "        abc74[i,j]=svd7.components_[i].T@svd4.components_[j]"
   ]
  },
  {
   "cell_type": "code",
   "execution_count": 214,
   "id": "127c43cc-91a2-4c0d-a20e-e2a1f79816b6",
   "metadata": {
    "execution": {
     "iopub.execute_input": "2022-11-07T02:55:50.605123Z",
     "iopub.status.busy": "2022-11-07T02:55:50.604748Z",
     "iopub.status.idle": "2022-11-07T02:55:50.732270Z",
     "shell.execute_reply": "2022-11-07T02:55:50.731715Z",
     "shell.execute_reply.started": "2022-11-07T02:55:50.605099Z"
    },
    "tags": []
   },
   "outputs": [
    {
     "data": {
      "text/plain": [
       "Text(0, 0.5, 'explained variance')"
      ]
     },
     "execution_count": 214,
     "metadata": {},
     "output_type": "execute_result"
    },
    {
     "data": {
      "image/png": "[encoded data removed]",
      "text/plain": [
       "<Figure size 432x288 with 1 Axes>"
      ]
     },
     "metadata": {
      "needs_background": "light"
     },
     "output_type": "display_data"
    }
   ],
   "source": [
    "plt.plot(np.sum(list(map(lambda x: x**2,abc42)),axis=1),label='i=4,j=2')\n",
    "plt.plot(np.sum(list(map(lambda x: x**2,abc72)),axis=1),label='i=7,j=2')\n",
    "plt.plot(np.sum(list(map(lambda x: x**2,abc74)),axis=1),label='i=7,j=4')\n",
    "plt.legend()\n",
    "plt.title('how much of the kth PCA component on day i\\n can be explained by the first 64 components on day j')\n",
    "plt.xlabel('k')\n",
    "plt.ylabel('explained variance')"
   ]
  },
  {
   "cell_type": "code",
   "execution_count": null,
   "id": "2e240b89-0213-4865-a7e4-6cc9e790fa12",
   "metadata": {},
   "outputs": [],
   "source": []
  }
 ],
 "metadata": {
  "kernelspec": {
   "display_name": "saturn (Python 3)",
   "language": "python",
   "name": "python3"
  },
  "language_info": {
   "codemirror_mode": {
    "name": "ipython",
    "version": 3
   },
   "file_extension": ".py",
   "mimetype": "text/x-python",
   "name": "python",
   "nbconvert_exporter": "python",
   "pygments_lexer": "ipython3",
   "version": "3.9.13"
  }
 },
 "nbformat": 4,
 "nbformat_minor": 5
}
