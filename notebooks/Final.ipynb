{
 "cells": [
  {
   "cell_type": "code",
   "execution_count": 1,
   "id": "cf6a49c9-9790-40ef-940b-dade08672f8c",
   "metadata": {
    "execution": {
     "iopub.execute_input": "2022-11-15T23:34:54.573485Z",
     "iopub.status.busy": "2022-11-15T23:34:54.572882Z",
     "iopub.status.idle": "2022-11-15T23:35:36.976692Z",
     "shell.execute_reply": "2022-11-15T23:35:36.976066Z",
     "shell.execute_reply.started": "2022-11-15T23:34:54.573420Z"
    },
    "tags": []
   },
   "outputs": [
    {
     "name": "stderr",
     "output_type": "stream",
     "text": [
      "2022-11-15 23:35:35.601929: I tensorflow/core/platform/cpu_feature_guard.cc:193] This TensorFlow binary is optimized with oneAPI Deep Neural Network Library (oneDNN) to use the following CPU instructions in performance-critical operations:  AVX2 AVX512F AVX512_VNNI FMA\n",
      "To enable them in other operations, rebuild TensorFlow with the appropriate compiler flags.\n",
      "2022-11-15 23:35:35.721410: I tensorflow/core/util/util.cc:169] oneDNN custom operations are on. You may see slightly different numerical results due to floating-point round-off errors from different computation orders. To turn them off, set the environment variable `TF_ENABLE_ONEDNN_OPTS=0`.\n",
      "2022-11-15 23:35:35.758208: E tensorflow/stream_executor/cuda/cuda_blas.cc:2981] Unable to register cuBLAS factory: Attempting to register factory for plugin cuBLAS when one has already been registered\n",
      "2022-11-15 23:35:36.326985: W tensorflow/stream_executor/platform/default/dso_loader.cc:64] Could not load dynamic library 'libnvinfer.so.7'; dlerror: libnvinfer.so.7: cannot open shared object file: No such file or directory; LD_LIBRARY_PATH: /usr/local/nvidia/lib:/usr/local/nvidia/lib64\n",
      "2022-11-15 23:35:36.327076: W tensorflow/stream_executor/platform/default/dso_loader.cc:64] Could not load dynamic library 'libnvinfer_plugin.so.7'; dlerror: libnvinfer_plugin.so.7: cannot open shared object file: No such file or directory; LD_LIBRARY_PATH: /usr/local/nvidia/lib:/usr/local/nvidia/lib64\n",
      "2022-11-15 23:35:36.327086: W tensorflow/compiler/tf2tensorrt/utils/py_utils.cc:38] TF-TRT Warning: Cannot dlopen some TensorRT libraries. If you would like to use Nvidia GPU with TensorRT, please make sure the missing libraries mentioned above are installed properly.\n"
     ]
    }
   ],
   "source": [
    "%%capture\n",
    "!pip install tables\n",
    "!pip install --upgrade --force-reinstall tensorflow\n",
    "!pip install keras-tuner\n",
    "import os, gc, pickle, datetime, scipy.sparse\n",
    "import pandas as pd\n",
    "import matplotlib.pyplot as plt\n",
    "import numpy as np\n",
    "from colorama import Fore, Back, Style\n",
    "\n",
    "from sklearn.model_selection import GroupKFold, KFold\n",
    "from sklearn.preprocessing import StandardScaler\n",
    "from sklearn.decomposition import TruncatedSVD,PCA\n",
    "from sklearn.metrics import mean_squared_error\n",
    "\n",
    "import matplotlib.pyplot as plt\n",
    "from matplotlib.ticker import MaxNLocator\n",
    "import seaborn as sns\n",
    "from cycler import cycler\n",
    "from IPython.display import display\n",
    "\n",
    "import scipy.sparse\n",
    "import scprep\n",
    "\n",
    "def correlation_score(y_true, y_pred):\n",
    "    if type(y_true) == pd.DataFrame: y_true = y_true.values\n",
    "    if type(y_pred) == pd.DataFrame: y_pred = y_pred.values\n",
    "    corrsum = 0\n",
    "    for i in range(y_true.shape[0]):\n",
    "        corrsum += np.corrcoef(y_true[i], y_pred[i])[1, 0]\n",
    "    return corrsum / len(y_true)\n",
    "\n",
    "def negative_correlation_loss(y_true, y_pred):\n",
    "    my = K.mean(tf.convert_to_tensor(y_pred), axis=1)\n",
    "    my = tf.tile(tf.expand_dims(my, axis=1), (1, tf.shape(y_true)[1]))\n",
    "    ym = y_pred - my\n",
    "    r_num = K.sum(tf.multiply(y_true, ym), axis=1)\n",
    "    r_den = tf.sqrt(K.sum(K.square(ym), axis=1) * float(tf.shape(y_true)[-1]))\n",
    "    r = tf.reduce_mean(r_num / r_den)\n",
    "    return - r\n",
    "\n",
    "from sklearn.model_selection import train_test_split\n",
    "import scprep\n",
    "\n",
    "import math\n",
    "import tensorflow as tf\n",
    "import keras_tuner\n",
    "import tensorflow.keras.backend as K\n",
    "from tensorflow.keras.models import Model, load_model\n",
    "from tensorflow.keras.callbacks import ReduceLROnPlateau, LearningRateScheduler, EarlyStopping\n",
    "from tensorflow.keras.layers import Dense, Input, Concatenate, Dropout, BatchNormalization\n",
    "LR_START = 0.01\n",
    "BATCH_SIZE = 512\n",
    "\n",
    "best_hp = keras_tuner.HyperParameters()\n",
    "best_hp.values = {'reg1': 0.0001,\n",
    "                'reg2': 3.307e-07,\n",
    "                'units1': 1024,\n",
    "                'units2': 1024,\n",
    "                'units3': 1024,\n",
    "                'lr': 0.001\n",
    "                 }\n",
    "\n",
    "def create_model(hp=best_hp):\n",
    "    \n",
    "    #reg1 = 8e-5\n",
    "    #reg2 = 2e-5\n",
    "    # reg1 = 9.613e-06\n",
    "    # reg2 = 1e-07\n",
    "    reg1 = hp.Float(\"reg1\", min_value=1e-8, max_value=1e-4, sampling=\"log\")\n",
    "    reg2 = hp.Float(\"reg2\", min_value=1e-8, max_value=1e-4, sampling=\"log\")\n",
    "    \n",
    "    REG1 = tf.keras.regularizers.l2(reg1)\n",
    "    REG2 = tf.keras.regularizers.l2(reg2)\n",
    "    \n",
    "    DROP = 0.1\n",
    "\n",
    "    activation = 'selu'\n",
    "    inputs = Input(shape =(X.shape[1],))\n",
    "\n",
    "    x0 = Dense(hp.Choice('units1', [1024,512,256]), \n",
    "              kernel_regularizer = REG1,\n",
    "              activation = activation,\n",
    "             )(inputs)\n",
    "    x0 = Dropout(DROP)(x0)\n",
    "    \n",
    "    x1 = Dense(hp.Choice('units2', [1024,512,256]), \n",
    "               kernel_regularizer = REG1,\n",
    "               activation = activation,\n",
    "             )(x0)\n",
    "    x1 = Dropout(DROP)(x1)\n",
    "    \n",
    "    x2 = Dense(hp.Choice('units3', [1024,512,256]), \n",
    "               kernel_regularizer = REG1,\n",
    "               activation = activation,\n",
    "             )(x1) \n",
    "    x2= Dropout(DROP)(x2)\n",
    "\n",
    "    x = Concatenate()([\n",
    "                x0, \n",
    "                x1, \n",
    "                x2\n",
    "                ])\n",
    "    x = Dense(Y.shape[1], \n",
    "                kernel_regularizer = REG2,\n",
    "                activation='linear',\n",
    "                )(x)\n",
    "    model = Model(inputs, x)\n",
    "    model.compile(\n",
    "        optimizer = tf.keras.optimizers.Adam(learning_rate=hp.Float(\"lr\", min_value=1e-3, max_value=1e-0)),\n",
    "        metrics = [negative_correlation_loss],\n",
    "        loss = 'mse'\n",
    "         )\n",
    "    return model"
   ]
  },
  {
   "cell_type": "code",
   "execution_count": 8,
   "id": "37237e91-33b5-433d-beb4-905a33edfea8",
   "metadata": {
    "execution": {
     "iopub.execute_input": "2022-11-07T19:54:35.099379Z",
     "iopub.status.busy": "2022-11-07T19:54:35.098996Z",
     "iopub.status.idle": "2022-11-07T19:54:35.388871Z",
     "shell.execute_reply": "2022-11-07T19:54:35.388263Z",
     "shell.execute_reply.started": "2022-11-07T19:54:35.099356Z"
    },
    "tags": []
   },
   "outputs": [],
   "source": [
    "with np.load('./sparse/test_multi_inputs_idxcol.npz',allow_pickle=True) as data:\n",
    "    cell_index_t = data['index']\n",
    "metadata_df = pd.read_csv('../input/open-problems-multimodal/metadata.csv', index_col='cell_id')\n",
    "metadata_df = metadata_df[metadata_df.technology==\"multiome\"]\n",
    "meta_t = metadata_df.reindex(cell_index_t)"
   ]
  },
  {
   "cell_type": "code",
   "execution_count": 9,
   "id": "f1f37f77-8ef5-418a-9a90-052c4bb1828e",
   "metadata": {
    "execution": {
     "iopub.execute_input": "2022-11-07T19:54:39.767983Z",
     "iopub.status.busy": "2022-11-07T19:54:39.767603Z",
     "iopub.status.idle": "2022-11-07T19:54:39.779203Z",
     "shell.execute_reply": "2022-11-07T19:54:39.778693Z",
     "shell.execute_reply.started": "2022-11-07T19:54:39.767960Z"
    }
   },
   "outputs": [
    {
     "data": {
      "text/html": [
       "<div>\n",
       "<style scoped>\n",
       "    .dataframe tbody tr th:only-of-type {\n",
       "        vertical-align: middle;\n",
       "    }\n",
       "\n",
       "    .dataframe tbody tr th {\n",
       "        vertical-align: top;\n",
       "    }\n",
       "\n",
       "    .dataframe thead th {\n",
       "        text-align: right;\n",
       "    }\n",
       "</style>\n",
       "<table border=\"1\" class=\"dataframe\">\n",
       "  <thead>\n",
       "    <tr style=\"text-align: right;\">\n",
       "      <th></th>\n",
       "      <th>day</th>\n",
       "      <th>donor</th>\n",
       "      <th>cell_type</th>\n",
       "      <th>technology</th>\n",
       "    </tr>\n",
       "    <tr>\n",
       "      <th>cell_id</th>\n",
       "      <th></th>\n",
       "      <th></th>\n",
       "      <th></th>\n",
       "      <th></th>\n",
       "    </tr>\n",
       "  </thead>\n",
       "  <tbody>\n",
       "    <tr>\n",
       "      <th>458c2ae2c9b1</th>\n",
       "      <td>2</td>\n",
       "      <td>27678</td>\n",
       "      <td>hidden</td>\n",
       "      <td>multiome</td>\n",
       "    </tr>\n",
       "    <tr>\n",
       "      <th>01a0659b0710</th>\n",
       "      <td>2</td>\n",
       "      <td>27678</td>\n",
       "      <td>hidden</td>\n",
       "      <td>multiome</td>\n",
       "    </tr>\n",
       "    <tr>\n",
       "      <th>028a8bc3f2ba</th>\n",
       "      <td>2</td>\n",
       "      <td>27678</td>\n",
       "      <td>hidden</td>\n",
       "      <td>multiome</td>\n",
       "    </tr>\n",
       "    <tr>\n",
       "      <th>7ec0ca8bb863</th>\n",
       "      <td>2</td>\n",
       "      <td>27678</td>\n",
       "      <td>hidden</td>\n",
       "      <td>multiome</td>\n",
       "    </tr>\n",
       "    <tr>\n",
       "      <th>caa0b0022cdc</th>\n",
       "      <td>2</td>\n",
       "      <td>27678</td>\n",
       "      <td>hidden</td>\n",
       "      <td>multiome</td>\n",
       "    </tr>\n",
       "    <tr>\n",
       "      <th>...</th>\n",
       "      <td>...</td>\n",
       "      <td>...</td>\n",
       "      <td>...</td>\n",
       "      <td>...</td>\n",
       "    </tr>\n",
       "    <tr>\n",
       "      <th>96a60b026659</th>\n",
       "      <td>10</td>\n",
       "      <td>31800</td>\n",
       "      <td>hidden</td>\n",
       "      <td>multiome</td>\n",
       "    </tr>\n",
       "    <tr>\n",
       "      <th>d493e546991e</th>\n",
       "      <td>10</td>\n",
       "      <td>31800</td>\n",
       "      <td>hidden</td>\n",
       "      <td>multiome</td>\n",
       "    </tr>\n",
       "    <tr>\n",
       "      <th>05666c99aa48</th>\n",
       "      <td>10</td>\n",
       "      <td>31800</td>\n",
       "      <td>hidden</td>\n",
       "      <td>multiome</td>\n",
       "    </tr>\n",
       "    <tr>\n",
       "      <th>121f946642b5</th>\n",
       "      <td>10</td>\n",
       "      <td>31800</td>\n",
       "      <td>hidden</td>\n",
       "      <td>multiome</td>\n",
       "    </tr>\n",
       "    <tr>\n",
       "      <th>b847ba21f59f</th>\n",
       "      <td>10</td>\n",
       "      <td>31800</td>\n",
       "      <td>hidden</td>\n",
       "      <td>multiome</td>\n",
       "    </tr>\n",
       "  </tbody>\n",
       "</table>\n",
       "<p>55935 rows × 4 columns</p>\n",
       "</div>"
      ],
      "text/plain": [
       "              day  donor cell_type technology\n",
       "cell_id                                      \n",
       "458c2ae2c9b1    2  27678    hidden   multiome\n",
       "01a0659b0710    2  27678    hidden   multiome\n",
       "028a8bc3f2ba    2  27678    hidden   multiome\n",
       "7ec0ca8bb863    2  27678    hidden   multiome\n",
       "caa0b0022cdc    2  27678    hidden   multiome\n",
       "...           ...    ...       ...        ...\n",
       "96a60b026659   10  31800    hidden   multiome\n",
       "d493e546991e   10  31800    hidden   multiome\n",
       "05666c99aa48   10  31800    hidden   multiome\n",
       "121f946642b5   10  31800    hidden   multiome\n",
       "b847ba21f59f   10  31800    hidden   multiome\n",
       "\n",
       "[55935 rows x 4 columns]"
      ]
     },
     "execution_count": 9,
     "metadata": {},
     "output_type": "execute_result"
    }
   ],
   "source": [
    "meta_t"
   ]
  },
  {
   "cell_type": "code",
   "execution_count": 10,
   "id": "feaebcc9-5e47-4153-8844-1cb257b948e1",
   "metadata": {
    "execution": {
     "iopub.execute_input": "2022-11-07T19:58:37.695437Z",
     "iopub.status.busy": "2022-11-07T19:58:37.695039Z",
     "iopub.status.idle": "2022-11-07T19:58:37.700118Z",
     "shell.execute_reply": "2022-11-07T19:58:37.699640Z",
     "shell.execute_reply.started": "2022-11-07T19:58:37.695413Z"
    }
   },
   "outputs": [
    {
     "data": {
      "text/plain": [
       "array([27678, 32606, 13176, 31800])"
      ]
     },
     "execution_count": 10,
     "metadata": {},
     "output_type": "execute_result"
    }
   ],
   "source": [
    "meta_t.donor.unique()"
   ]
  },
  {
   "cell_type": "code",
   "execution_count": 129,
   "id": "55e26c8d-ca9f-4635-b29b-1f429b102e56",
   "metadata": {
    "execution": {
     "iopub.execute_input": "2022-11-08T21:25:25.123096Z",
     "iopub.status.busy": "2022-11-08T21:25:25.122615Z",
     "iopub.status.idle": "2022-11-08T21:25:25.133912Z",
     "shell.execute_reply": "2022-11-08T21:25:25.133367Z",
     "shell.execute_reply.started": "2022-11-08T21:25:25.123073Z"
    },
    "tags": []
   },
   "outputs": [],
   "source": [
    "def evaluate(i,j,loss,save):\n",
    "    VERBOSE = 0\n",
    "    if loss:\n",
    "        N_SPLIT = 6\n",
    "    else:\n",
    "        N_SPLIT = 3\n",
    "    #kf = KFold(n_splits=N_SPLIT, shuffle=True, random_state=42)\n",
    "    kf = KFold(n_splits = N_SPLIT)\n",
    "\n",
    "    scores = []\n",
    "    pca_scores = []\n",
    "    Y_pred = np.zeros_like(Y)\n",
    "\n",
    "    for fold,(idx_tr, idx_va) in enumerate(kf.split(X)):\n",
    "\n",
    "        X_tr = X[idx_tr]\n",
    "        y_tr = Y[idx_tr]\n",
    "\n",
    "        X_va = X[idx_va]\n",
    "        y_va = Y[idx_va] \n",
    "\n",
    "        model = create_model()\n",
    "\n",
    "        lr = ReduceLROnPlateau(\n",
    "                    monitor = \"val_loss\",\n",
    "                    factor = 0.9, \n",
    "                    patience = 4, \n",
    "                    verbose = VERBOSE)\n",
    "\n",
    "        es = EarlyStopping(\n",
    "                    monitor = \"val_loss\",\n",
    "                    patience = 30, \n",
    "                    verbose = VERBOSE,\n",
    "                    mode = \"min\", \n",
    "                    restore_best_weights = True)\n",
    "\n",
    "        if loss:\n",
    "            chk = tf.keras.callbacks.ModelCheckpoint(\n",
    "                    filepath = './cite',\n",
    "                    save_weights_only = True,\n",
    "                    monitor = 'val_loss',\n",
    "                    mode = 'min',\n",
    "                    save_best_only = True)\n",
    "        else:\n",
    "            chk = tf.keras.callbacks.ModelCheckpoint(\n",
    "                    filepath = './multi',\n",
    "                    save_weights_only = True,\n",
    "                    monitor = 'val_loss',\n",
    "                    mode = 'min',\n",
    "                    save_best_only = True)\n",
    "\n",
    "        if loss:\n",
    "            model.compile(optimizer=tf.keras.optimizers.Adam(learning_rate=1e-3),\n",
    "                      loss = negative_correlation_loss,\n",
    "                      metrics=negative_correlation_loss)\n",
    "        else:    \n",
    "            model.compile(optimizer=tf.keras.optimizers.Adam(learning_rate=1e-3),\n",
    "                      loss = 'mse',\n",
    "                      metrics=None)\n",
    "        model.fit(X_tr,\n",
    "                  y_tr,\n",
    "                  validation_data=(X_va,y_va),\n",
    "                  epochs =500,\n",
    "                  verbose = VERBOSE,\n",
    "                  batch_size=256,\n",
    "                  callbacks = [es,lr,chk]\n",
    "                 )\n",
    "        y_va_pred = model.predict(X_va)\n",
    "        Y_pred[idx_va] = y_va_pred\n",
    "        if loss:\n",
    "            corrscore = correlation_score(y_va, y_va_pred)\n",
    "            scores.append(corrscore)\n",
    "\n",
    "        else:\n",
    "            corrscore = correlation_score(targets[idx_va], y_va_pred@svd.components_[:64])\n",
    "            scores.append(corrscore)\n",
    "            pca_corrscore = correlation_score(y_va[:,:64], y_va_pred[:,:64])\n",
    "            pca_scores.append(pca_corrscore)\n",
    "\n",
    "        if loss:    \n",
    "            model.fit(X_va,\n",
    "                  y_va,\n",
    "                  epochs=20,\n",
    "                  verbose = VERBOSE,\n",
    "                  batch_size=256\n",
    "                 )    \n",
    "            \n",
    "        print(f'\\n --------- FOLD {fold} -----------')\n",
    "        if not loss:\n",
    "            print(f'Mean squared error = {np.round(mean_squared_error(y_va,y_va_pred),2)}')\n",
    "        print(f'Correlation = {corrscore:.5f}')\n",
    "        if not loss:\n",
    "            print(f'PCA Correlation = {pca_corrscore:.5f}')\n",
    "        if loss:\n",
    "           filename = f\"./cite_model_saves/model_{i}_{j}_{fold}\"\n",
    "        else:\n",
    "           filename = f\"./multi_model_saves/model_{i}_{j}_{fold}\"\n",
    "        if save:\n",
    "            model.save(filename)\n",
    "            print('model saved :',filename)\n",
    "\n",
    "        del X_tr,X_va,y_tr,y_va\n",
    "        gc.collect()\n",
    "\n",
    "    # Show overall score\n",
    "    print(f\"{Fore.GREEN}{Style.BRIGHT}Mean corr = {np.array(scores).mean():.5f}{Style.RESET_ALL}\")\n",
    "    if not loss:\n",
    "        print(f\"{Fore.RED}{Style.BRIGHT}Mean pca corr = {np.array(pca_scores).mean():.5f}{Style.RESET_ALL}\")"
   ]
  },
  {
   "cell_type": "code",
   "execution_count": 78,
   "id": "9391772c-c7f9-48a0-9b97-01a377350d9e",
   "metadata": {
    "execution": {
     "iopub.execute_input": "2022-11-10T22:17:55.647258Z",
     "iopub.status.busy": "2022-11-10T22:17:55.646859Z",
     "iopub.status.idle": "2022-11-10T22:17:56.012065Z",
     "shell.execute_reply": "2022-11-10T22:17:56.011406Z",
     "shell.execute_reply.started": "2022-11-10T22:17:55.647233Z"
    },
    "tags": []
   },
   "outputs": [],
   "source": [
    "import warnings\n",
    "warnings.filterwarnings(\"ignore\")\n",
    "\n",
    "with np.load('./sparse/train_multi_inputs_idxcol.npz',allow_pickle=True) as data:\n",
    "    cell_index = data['index']\n",
    "with np.load('./sparse/test_multi_inputs_idxcol.npz',allow_pickle=True) as data:\n",
    "    cell_index_t = data['index']\n",
    "metadata_df = pd.read_csv('../input/open-problems-multimodal/metadata.csv', index_col='cell_id')\n",
    "metadata_df = metadata_df[metadata_df.technology==\"multiome\"]\n",
    "meta = metadata_df.reindex(cell_index)\n",
    "meta['range'] = range(len(meta))\n",
    "selector = {}\n",
    "for i in (2,3,4,7):\n",
    "    for j in (32606,13176,31800):\n",
    "        selector[(i,j)] = meta.loc[(meta.day == i)&(meta.donor == j)].range.values"
   ]
  },
  {
   "cell_type": "code",
   "execution_count": 20,
   "id": "b68e899f-77d6-4ba7-ac0e-89036eb4163f",
   "metadata": {
    "execution": {
     "iopub.execute_input": "2022-11-07T20:14:09.470552Z",
     "iopub.status.busy": "2022-11-07T20:14:09.470173Z",
     "iopub.status.idle": "2022-11-07T20:36:32.258052Z",
     "shell.execute_reply": "2022-11-07T20:36:32.257412Z",
     "shell.execute_reply.started": "2022-11-07T20:14:09.470529Z"
    },
    "tags": []
   },
   "outputs": [
    {
     "name": "stderr",
     "output_type": "stream",
     "text": [
      "2022-11-07 20:14:33.505281: I tensorflow/stream_executor/cuda/cuda_gpu_executor.cc:980] successful NUMA node read from SysFS had negative value (-1), but there must be at least one NUMA node, so returning NUMA node zero\n",
      "2022-11-07 20:14:33.512074: W tensorflow/stream_executor/platform/default/dso_loader.cc:64] Could not load dynamic library 'libcudnn.so.8'; dlerror: libcudnn.so.8: cannot open shared object file: No such file or directory; LD_LIBRARY_PATH: /usr/local/nvidia/lib:/usr/local/nvidia/lib64\n",
      "2022-11-07 20:14:33.512095: W tensorflow/core/common_runtime/gpu/gpu_device.cc:1934] Cannot dlopen some GPU libraries. Please make sure the missing libraries mentioned above are installed properly if you would like to use GPU. Follow the guide at https://www.tensorflow.org/install/gpu for how to download and setup the required libraries for your platform.\n",
      "Skipping registering GPU devices...\n",
      "2022-11-07 20:14:33.512498: I tensorflow/core/platform/cpu_feature_guard.cc:193] This TensorFlow binary is optimized with oneAPI Deep Neural Network Library (oneDNN) to use the following CPU instructions in performance-critical operations:  AVX2 AVX512F AVX512_VNNI FMA\n",
      "To enable them in other operations, rebuild TensorFlow with the appropriate compiler flags.\n"
     ]
    },
    {
     "name": "stdout",
     "output_type": "stream",
     "text": [
      "76/76 [==============================] - 0s 2ms/step\n",
      "\n",
      " --------- FOLD 0 -----------\n",
      "Mean squared error = 6.630000114440918\n",
      "Correlation = 0.69091\n",
      "PCA Correlation = 0.98118\n",
      "model saved : ./model_saves/model_2_32606_0\n",
      "76/76 [==============================] - 0s 2ms/step\n",
      "\n",
      " --------- FOLD 1 -----------\n",
      "Mean squared error = 6.75\n",
      "Correlation = 0.68947\n",
      "PCA Correlation = 0.98085\n",
      "model saved : ./model_saves/model_2_32606_1\n",
      "76/76 [==============================] - 0s 2ms/step\n",
      "\n",
      " --------- FOLD 2 -----------\n",
      "Mean squared error = 6.78000020980835\n",
      "Correlation = 0.68782\n",
      "PCA Correlation = 0.98065\n",
      "model saved : ./model_saves/model_2_32606_2\n",
      "\u001b[32m\u001b[1mMean corr = 0.68940\u001b[0m\n",
      "\u001b[31m\u001b[1mMean pca corr = 0.98089\u001b[0m\n",
      "100/100 [==============================] - 0s 2ms/step\n",
      "\n",
      " --------- FOLD 0 -----------\n",
      "Mean squared error = 6.179999828338623\n",
      "Correlation = 0.67942\n",
      "PCA Correlation = 0.98182\n",
      "model saved : ./model_saves/model_2_13176_0\n",
      "100/100 [==============================] - 0s 2ms/step\n",
      "\n",
      " --------- FOLD 1 -----------\n",
      "Mean squared error = 6.139999866485596\n",
      "Correlation = 0.67960\n",
      "PCA Correlation = 0.98197\n",
      "model saved : ./model_saves/model_2_13176_1\n",
      "100/100 [==============================] - 0s 2ms/step\n",
      "\n",
      " --------- FOLD 2 -----------\n",
      "Mean squared error = 6.119999885559082\n",
      "Correlation = 0.67941\n",
      "PCA Correlation = 0.98204\n",
      "model saved : ./model_saves/model_2_13176_2\n",
      "\u001b[32m\u001b[1mMean corr = 0.67948\u001b[0m\n",
      "\u001b[31m\u001b[1mMean pca corr = 0.98195\u001b[0m\n",
      "74/74 [==============================] - 0s 2ms/step\n",
      "\n",
      " --------- FOLD 0 -----------\n",
      "Mean squared error = 6.900000095367432\n",
      "Correlation = 0.68456\n",
      "PCA Correlation = 0.98004\n",
      "model saved : ./model_saves/model_2_31800_0\n",
      "74/74 [==============================] - 0s 2ms/step\n",
      "\n",
      " --------- FOLD 1 -----------\n",
      "Mean squared error = 6.949999809265137\n",
      "Correlation = 0.68455\n",
      "PCA Correlation = 0.97996\n",
      "model saved : ./model_saves/model_2_31800_1\n",
      "74/74 [==============================] - 0s 2ms/step\n",
      "\n",
      " --------- FOLD 2 -----------\n",
      "Mean squared error = 6.929999828338623\n",
      "Correlation = 0.68486\n",
      "PCA Correlation = 0.98006\n",
      "model saved : ./model_saves/model_2_31800_2\n",
      "\u001b[32m\u001b[1mMean corr = 0.68466\u001b[0m\n",
      "\u001b[31m\u001b[1mMean pca corr = 0.98002\u001b[0m\n",
      "89/89 [==============================] - 0s 2ms/step\n",
      "\n",
      " --------- FOLD 0 -----------\n",
      "Mean squared error = 6.760000228881836\n",
      "Correlation = 0.67185\n",
      "PCA Correlation = 0.97987\n",
      "model saved : ./model_saves/model_3_32606_0\n",
      "89/89 [==============================] - 0s 2ms/step\n",
      "\n",
      " --------- FOLD 1 -----------\n",
      "Mean squared error = 6.769999980926514\n",
      "Correlation = 0.67132\n",
      "PCA Correlation = 0.97976\n",
      "model saved : ./model_saves/model_3_32606_1\n",
      "89/89 [==============================] - 0s 2ms/step\n",
      "\n",
      " --------- FOLD 2 -----------\n",
      "Mean squared error = 6.789999961853027\n",
      "Correlation = 0.67143\n",
      "PCA Correlation = 0.97977\n",
      "model saved : ./model_saves/model_3_32606_2\n",
      "\u001b[32m\u001b[1mMean corr = 0.67153\u001b[0m\n",
      "\u001b[31m\u001b[1mMean pca corr = 0.97980\u001b[0m\n",
      "94/94 [==============================] - 0s 2ms/step\n",
      "\n",
      " --------- FOLD 0 -----------\n",
      "Mean squared error = 6.519999980926514\n",
      "Correlation = 0.67655\n",
      "PCA Correlation = 0.98086\n",
      "model saved : ./model_saves/model_3_13176_0\n",
      "94/94 [==============================] - 0s 2ms/step\n",
      "\n",
      " --------- FOLD 1 -----------\n",
      "Mean squared error = 6.510000228881836\n",
      "Correlation = 0.67733\n",
      "PCA Correlation = 0.98101\n",
      "model saved : ./model_saves/model_3_13176_1\n",
      "94/94 [==============================] - 0s 2ms/step\n",
      "\n",
      " --------- FOLD 2 -----------\n",
      "Mean squared error = 6.5\n",
      "Correlation = 0.67732\n",
      "PCA Correlation = 0.98103\n",
      "model saved : ./model_saves/model_3_13176_2\n",
      "\u001b[32m\u001b[1mMean corr = 0.67706\u001b[0m\n",
      "\u001b[31m\u001b[1mMean pca corr = 0.98097\u001b[0m\n",
      "118/118 [==============================] - 0s 2ms/step\n",
      "\n",
      " --------- FOLD 0 -----------\n",
      "Mean squared error = 6.960000038146973\n",
      "Correlation = 0.66532\n",
      "PCA Correlation = 0.97913\n",
      "model saved : ./model_saves/model_3_31800_0\n",
      "118/118 [==============================] - 0s 2ms/step\n",
      "\n",
      " --------- FOLD 1 -----------\n",
      "Mean squared error = 6.900000095367432\n",
      "Correlation = 0.66463\n",
      "PCA Correlation = 0.97930\n",
      "model saved : ./model_saves/model_3_31800_1\n",
      "118/118 [==============================] - 0s 2ms/step\n",
      "\n",
      " --------- FOLD 2 -----------\n",
      "Mean squared error = 6.909999847412109\n",
      "Correlation = 0.66488\n",
      "PCA Correlation = 0.97931\n",
      "model saved : ./model_saves/model_3_31800_2\n",
      "\u001b[32m\u001b[1mMean corr = 0.66495\u001b[0m\n",
      "\u001b[31m\u001b[1mMean pca corr = 0.97925\u001b[0m\n",
      "114/114 [==============================] - 0s 2ms/step\n",
      "\n",
      " --------- FOLD 0 -----------\n",
      "Mean squared error = 5.980000019073486\n",
      "Correlation = 0.68574\n",
      "PCA Correlation = 0.98305\n",
      "model saved : ./model_saves/model_4_32606_0\n",
      "114/114 [==============================] - 0s 2ms/step\n",
      "\n",
      " --------- FOLD 1 -----------\n",
      "Mean squared error = 5.860000133514404\n",
      "Correlation = 0.68808\n",
      "PCA Correlation = 0.98350\n",
      "model saved : ./model_saves/model_4_32606_1\n",
      "114/114 [==============================] - 0s 2ms/step\n",
      "\n",
      " --------- FOLD 2 -----------\n",
      "Mean squared error = 5.909999847412109\n",
      "Correlation = 0.68690\n",
      "PCA Correlation = 0.98321\n",
      "model saved : ./model_saves/model_4_32606_2\n",
      "\u001b[32m\u001b[1mMean corr = 0.68691\u001b[0m\n",
      "\u001b[31m\u001b[1mMean pca corr = 0.98325\u001b[0m\n",
      "98/98 [==============================] - 0s 2ms/step\n",
      "\n",
      " --------- FOLD 0 -----------\n",
      "Mean squared error = 6.190000057220459\n",
      "Correlation = 0.68929\n",
      "PCA Correlation = 0.98253\n",
      "model saved : ./model_saves/model_4_13176_0\n",
      "98/98 [==============================] - 0s 2ms/step\n",
      "\n",
      " --------- FOLD 1 -----------\n",
      "Mean squared error = 6.170000076293945\n",
      "Correlation = 0.68879\n",
      "PCA Correlation = 0.98258\n",
      "model saved : ./model_saves/model_4_13176_1\n",
      "98/98 [==============================] - 0s 2ms/step\n",
      "\n",
      " --------- FOLD 2 -----------\n",
      "Mean squared error = 6.119999885559082\n",
      "Correlation = 0.68994\n",
      "PCA Correlation = 0.98277\n",
      "model saved : ./model_saves/model_4_13176_2\n",
      "\u001b[32m\u001b[1mMean corr = 0.68934\u001b[0m\n",
      "\u001b[31m\u001b[1mMean pca corr = 0.98263\u001b[0m\n",
      "113/113 [==============================] - 0s 2ms/step\n",
      "\n",
      " --------- FOLD 0 -----------\n",
      "Mean squared error = 6.130000114440918\n",
      "Correlation = 0.69154\n",
      "PCA Correlation = 0.98289\n",
      "model saved : ./model_saves/model_4_31800_0\n",
      "113/113 [==============================] - 0s 2ms/step\n",
      "\n",
      " --------- FOLD 1 -----------\n",
      "Mean squared error = 6.28000020980835\n",
      "Correlation = 0.68806\n",
      "PCA Correlation = 0.98226\n",
      "model saved : ./model_saves/model_4_31800_1\n",
      "113/113 [==============================] - 0s 2ms/step\n",
      "\n",
      " --------- FOLD 2 -----------\n",
      "Mean squared error = 6.239999771118164\n",
      "Correlation = 0.68872\n",
      "PCA Correlation = 0.98237\n",
      "model saved : ./model_saves/model_4_31800_2\n",
      "\u001b[32m\u001b[1mMean corr = 0.68944\u001b[0m\n",
      "\u001b[31m\u001b[1mMean pca corr = 0.98251\u001b[0m\n",
      "73/73 [==============================] - 0s 2ms/step\n",
      "\n",
      " --------- FOLD 0 -----------\n",
      "Mean squared error = 7.579999923706055\n",
      "Correlation = 0.62835\n",
      "PCA Correlation = 0.97401\n",
      "model saved : ./model_saves/model_7_32606_0\n",
      "73/73 [==============================] - 0s 2ms/step\n",
      "\n",
      " --------- FOLD 1 -----------\n",
      "Mean squared error = 7.829999923706055\n",
      "Correlation = 0.62746\n",
      "PCA Correlation = 0.97321\n",
      "model saved : ./model_saves/model_7_32606_1\n",
      "73/73 [==============================] - 0s 2ms/step\n",
      "\n",
      " --------- FOLD 2 -----------\n",
      "Mean squared error = 7.579999923706055\n",
      "Correlation = 0.62719\n",
      "PCA Correlation = 0.97390\n",
      "model saved : ./model_saves/model_7_32606_2\n",
      "\u001b[32m\u001b[1mMean corr = 0.62767\u001b[0m\n",
      "\u001b[31m\u001b[1mMean pca corr = 0.97371\u001b[0m\n",
      "78/78 [==============================] - 0s 2ms/step\n",
      "\n",
      " --------- FOLD 0 -----------\n",
      "Mean squared error = 7.300000190734863\n",
      "Correlation = 0.64148\n",
      "PCA Correlation = 0.97605\n",
      "model saved : ./model_saves/model_7_13176_0\n",
      "78/78 [==============================] - 0s 2ms/step\n",
      "\n",
      " --------- FOLD 1 -----------\n",
      "Mean squared error = 7.320000171661377\n",
      "Correlation = 0.64116\n",
      "PCA Correlation = 0.97610\n",
      "model saved : ./model_saves/model_7_13176_1\n",
      "78/78 [==============================] - 0s 2ms/step\n",
      "\n",
      " --------- FOLD 2 -----------\n",
      "Mean squared error = 7.179999828338623\n",
      "Correlation = 0.64307\n",
      "PCA Correlation = 0.97646\n",
      "model saved : ./model_saves/model_7_13176_2\n",
      "\u001b[32m\u001b[1mMean corr = 0.64190\u001b[0m\n",
      "\u001b[31m\u001b[1mMean pca corr = 0.97620\u001b[0m\n",
      "80/80 [==============================] - 0s 2ms/step\n",
      "\n",
      " --------- FOLD 0 -----------\n",
      "Mean squared error = 7.400000095367432\n",
      "Correlation = 0.62464\n",
      "PCA Correlation = 0.97449\n",
      "model saved : ./model_saves/model_7_31800_0\n",
      "80/80 [==============================] - 0s 2ms/step\n",
      "\n",
      " --------- FOLD 1 -----------\n",
      "Mean squared error = 7.46999979019165\n",
      "Correlation = 0.62578\n",
      "PCA Correlation = 0.97436\n",
      "model saved : ./model_saves/model_7_31800_1\n",
      "80/80 [==============================] - 0s 2ms/step\n",
      "\n",
      " --------- FOLD 2 -----------\n",
      "Mean squared error = 7.340000152587891\n",
      "Correlation = 0.62595\n",
      "PCA Correlation = 0.97475\n",
      "model saved : ./model_saves/model_7_31800_2\n",
      "\u001b[32m\u001b[1mMean corr = 0.62545\u001b[0m\n",
      "\u001b[31m\u001b[1mMean pca corr = 0.97453\u001b[0m\n"
     ]
    }
   ],
   "source": [
    "targets_copy = scipy.sparse.load_npz(\"./sparse/train_multi_targets_values.sparse.npz\")\n",
    "targets_copy = scprep.filter.remove_empty_genes(targets_copy)\n",
    "inputs_both_128 = np.load(\"./multi_pca/inputs_both_128.npy\")\n",
    "X_copy = inputs_both_128[:targets_copy.shape[0],:40]\n",
    "for (i,j) in selector.keys():\n",
    "    targets = targets_copy.copy()\n",
    "    X = X_copy.copy()\n",
    "    targets = targets[selector[(i,j)]]\n",
    "    # Normalize the targets row-wise: This doesn't change the correlations,\n",
    "    # and negative_correlation_loss depends on it\n",
    "    targets -= targets.mean(axis=1).reshape(-1, 1)\n",
    "    targets /= targets.std(axis=1).reshape(-1, 1)\n",
    "    targets = np.array(targets)\n",
    "    svd = TruncatedSVD(n_components = 512,random_state = 1)\n",
    "    Y = svd.fit_transform(targets)[:,:64]\n",
    "    X = X_copy[selector[(i,j)]]\n",
    "    evaluate(i,j)"
   ]
  },
  {
   "cell_type": "code",
   "execution_count": 3,
   "id": "a1866d7c-7259-4ec0-af36-5ec2f89fbcf4",
   "metadata": {
    "execution": {
     "iopub.execute_input": "2022-11-08T22:39:37.757582Z",
     "iopub.status.busy": "2022-11-08T22:39:37.757293Z",
     "iopub.status.idle": "2022-11-08T22:41:09.489086Z",
     "shell.execute_reply": "2022-11-08T22:41:09.488458Z",
     "shell.execute_reply.started": "2022-11-08T22:39:37.757561Z"
    },
    "tags": []
   },
   "outputs": [],
   "source": [
    "targets_copy = scipy.sparse.load_npz(\"./sparse/train_multi_targets_values.sparse.npz\")\n",
    "targets_copy = scprep.filter.remove_empty_genes(targets_copy)\n",
    "for (i,j) in selector.keys():\n",
    "    targets = targets_copy.copy()\n",
    "    targets = targets[selector[(i,j)]]\n",
    "    # Normalize the targets row-wise: This doesn't change the correlations,\n",
    "    # and negative_correlation_loss depends on it\n",
    "    targets -= targets.mean(axis=1).reshape(-1, 1)\n",
    "    targets /= targets.std(axis=1).reshape(-1, 1)\n",
    "    svd = TruncatedSVD(n_components = 128,random_state = 1)\n",
    "    svd.fit(targets)\n",
    "    np.save(f'./multi_model_saves/model_{i}_{j}_svds',svd.components_[:64])"
   ]
  },
  {
   "cell_type": "code",
   "execution_count": 21,
   "id": "ad35adc6-c365-4c6a-ac71-47189cf2d5c3",
   "metadata": {
    "execution": {
     "iopub.execute_input": "2022-11-07T20:39:24.707445Z",
     "iopub.status.busy": "2022-11-07T20:39:24.707048Z",
     "iopub.status.idle": "2022-11-07T20:39:25.056751Z",
     "shell.execute_reply": "2022-11-07T20:39:25.056131Z",
     "shell.execute_reply.started": "2022-11-07T20:39:24.707420Z"
    }
   },
   "outputs": [],
   "source": [
    "model = load_model(f\"./model_saves/model_7_13176_2\",\n",
    "                        custom_objects={'negative_correlation_loss': negative_correlation_loss})"
   ]
  },
  {
   "cell_type": "code",
   "execution_count": 24,
   "id": "b916fd3a-17f0-41a7-883e-1d5826e843c9",
   "metadata": {
    "execution": {
     "iopub.execute_input": "2022-11-07T20:42:17.085468Z",
     "iopub.status.busy": "2022-11-07T20:42:17.085068Z",
     "iopub.status.idle": "2022-11-07T20:42:28.388763Z",
     "shell.execute_reply": "2022-11-07T20:42:28.388155Z",
     "shell.execute_reply.started": "2022-11-07T20:42:17.085446Z"
    },
    "tags": []
   },
   "outputs": [
    {
     "name": "stdout",
     "output_type": "stream",
     "text": [
      "240/240 [==============================] - 1s 2ms/step\n",
      "0.6079187836146946\n"
     ]
    }
   ],
   "source": [
    "targets = targets_copy.copy()\n",
    "X = X_copy.copy()\n",
    "targets = targets[selector[(7,31800)]]\n",
    "# Normalize the targets row-wise: This doesn't change the correlations,\n",
    "# and negative_correlation_loss depends on it\n",
    "targets -= targets.mean(axis=1).reshape(-1, 1)\n",
    "targets /= targets.std(axis=1).reshape(-1, 1)\n",
    "targets = np.array(targets)\n",
    "svd = TruncatedSVD(n_components = 512,random_state = 1)\n",
    "Y = svd.fit_transform(targets)[:,:64]\n",
    "corrscore = correlation_score(targets, model.predict(X_copy[selector[(7,31800)]])@svd.components_[:64])\n",
    "print(corrscore)"
   ]
  },
  {
   "cell_type": "code",
   "execution_count": 2,
   "id": "7b92cb31-022d-40fe-8577-a6371dd89bcb",
   "metadata": {
    "execution": {
     "iopub.execute_input": "2022-11-15T23:35:36.978651Z",
     "iopub.status.busy": "2022-11-15T23:35:36.978239Z",
     "iopub.status.idle": "2022-11-15T23:35:37.017472Z",
     "shell.execute_reply": "2022-11-15T23:35:37.016965Z",
     "shell.execute_reply.started": "2022-11-15T23:35:36.978630Z"
    },
    "tags": []
   },
   "outputs": [
    {
     "name": "stdout",
     "output_type": "stream",
     "text": [
      "Constant cols: 1194\n",
      "important columns  84\n"
     ]
    }
   ],
   "source": [
    "# constant_cols = list(X.columns[(X == 0).all(axis=0).values]) + list(X_test.columns[(X_test == 0).all(axis=0).values])\n",
    "constant_cols = ['ENSG00000003137_CYP26B1', 'ENSG00000004848_ARX', 'ENSG00000006606_CCL26', 'ENSG00000010379_SLC6A13', 'ENSG00000010932_FMO1', 'ENSG00000017427_IGF1', 'ENSG00000022355_GABRA1', 'ENSG00000041982_TNC', 'ENSG00000060709_RIMBP2', 'ENSG00000064886_CHI3L2', 'ENSG00000065717_TLE2', 'ENSG00000067798_NAV3', 'ENSG00000069535_MAOB', 'ENSG00000073598_FNDC8', 'ENSG00000074219_TEAD2', 'ENSG00000074964_ARHGEF10L', 'ENSG00000077264_PAK3', 'ENSG00000078053_AMPH', 'ENSG00000082684_SEMA5B', 'ENSG00000083857_FAT1', 'ENSG00000084628_NKAIN1', 'ENSG00000084734_GCKR', 'ENSG00000086967_MYBPC2', 'ENSG00000087258_GNAO1', 'ENSG00000089505_CMTM1', 'ENSG00000091129_NRCAM', 'ENSG00000091986_CCDC80', 'ENSG00000092377_TBL1Y', 'ENSG00000092969_TGFB2', 'ENSG00000095397_WHRN', 'ENSG00000095970_TREM2', 'ENSG00000099715_PCDH11Y', 'ENSG00000100197_CYP2D6', 'ENSG00000100218_RSPH14', 'ENSG00000100311_PDGFB', 'ENSG00000100362_PVALB', 'ENSG00000100373_UPK3A', 'ENSG00000100625_SIX4', 'ENSG00000100867_DHRS2', 'ENSG00000100985_MMP9', 'ENSG00000101197_BIRC7', 'ENSG00000101298_SNPH', 'ENSG00000102387_TAF7L', 'ENSG00000103034_NDRG4', 'ENSG00000104059_FAM189A1', 'ENSG00000104112_SCG3', 'ENSG00000104313_EYA1', 'ENSG00000104892_KLC3', 'ENSG00000105088_OLFM2', 'ENSG00000105261_OVOL3', 'ENSG00000105290_APLP1', 'ENSG00000105507_CABP5', 'ENSG00000105642_KCNN1', 'ENSG00000105694_ELOCP28', 'ENSG00000105707_HPN', 'ENSG00000105894_PTN', 'ENSG00000106018_VIPR2', 'ENSG00000106541_AGR2', 'ENSG00000107317_PTGDS', 'ENSG00000108688_CCL7', 'ENSG00000108702_CCL1', 'ENSG00000108947_EFNB3', 'ENSG00000109193_SULT1E1', 'ENSG00000109794_FAM149A', 'ENSG00000109832_DDX25', 'ENSG00000110195_FOLR1', 'ENSG00000110375_UPK2', 'ENSG00000110436_SLC1A2', 'ENSG00000111339_ART4', 'ENSG00000111863_ADTRP', 'ENSG00000112761_WISP3', 'ENSG00000112852_PCDHB2', 'ENSG00000114251_WNT5A', 'ENSG00000114279_FGF12', 'ENSG00000114455_HHLA2', 'ENSG00000114757_PEX5L', 'ENSG00000115155_OTOF', 'ENSG00000115266_APC2', 'ENSG00000115297_TLX2', 'ENSG00000115590_IL1R2', 'ENSG00000115844_DLX2', 'ENSG00000116194_ANGPTL1', 'ENSG00000116661_FBXO2', 'ENSG00000116774_OLFML3', 'ENSG00000117322_CR2', 'ENSG00000117971_CHRNB4', 'ENSG00000118322_ATP10B', 'ENSG00000118402_ELOVL4', 'ENSG00000118520_ARG1', 'ENSG00000118946_PCDH17', 'ENSG00000118972_FGF23', 'ENSG00000119771_KLHL29', 'ENSG00000120549_KIAA1217', 'ENSG00000121316_PLBD1', 'ENSG00000121905_HPCA', 'ENSG00000122224_LY9', 'ENSG00000124194_GDAP1L1', 'ENSG00000124440_HIF3A', 'ENSG00000124657_OR2B6', 'ENSG00000125462_C1orf61', 'ENSG00000125895_TMEM74B', 'ENSG00000126838_PZP', 'ENSG00000128422_KRT17', 'ENSG00000128918_ALDH1A2', 'ENSG00000129170_CSRP3', 'ENSG00000129214_SHBG', 'ENSG00000129673_AANAT', 'ENSG00000129910_CDH15', 'ENSG00000130294_KIF1A', 'ENSG00000130307_USHBP1', 'ENSG00000130545_CRB3', 'ENSG00000131019_ULBP3', 'ENSG00000131044_TTLL9', 'ENSG00000131183_SLC34A1', 'ENSG00000131386_GALNT15', 'ENSG00000131400_NAPSA', 'ENSG00000131914_LIN28A', 'ENSG00000131941_RHPN2', 'ENSG00000131951_LRRC9', 'ENSG00000132170_PPARG', 'ENSG00000132681_ATP1A4', 'ENSG00000132958_TPTE2', 'ENSG00000133454_MYO18B', 'ENSG00000134545_KLRC1', 'ENSG00000134853_PDGFRA', 'ENSG00000135083_CCNJL', 'ENSG00000135100_HNF1A', 'ENSG00000135116_HRK', 'ENSG00000135312_HTR1B', 'ENSG00000135324_MRAP2', 'ENSG00000135436_FAM186B', 'ENSG00000135472_FAIM2', 'ENSG00000135898_GPR55', 'ENSG00000135929_CYP27A1', 'ENSG00000136002_ARHGEF4', 'ENSG00000136099_PCDH8', 'ENSG00000136274_NACAD', 'ENSG00000137078_SIT1', 'ENSG00000137142_IGFBPL1', 'ENSG00000137473_TTC29', 'ENSG00000137474_MYO7A', 'ENSG00000137491_SLCO2B1', 'ENSG00000137691_CFAP300', 'ENSG00000137731_FXYD2', 'ENSG00000137747_TMPRSS13', 'ENSG00000137878_GCOM1', 'ENSG00000138411_HECW2', 'ENSG00000138741_TRPC3', 'ENSG00000138769_CDKL2', 'ENSG00000138823_MTTP', 'ENSG00000139908_TSSK4', 'ENSG00000140832_MARVELD3', 'ENSG00000142178_SIK1', 'ENSG00000142538_PTH2', 'ENSG00000142910_TINAGL1', 'ENSG00000143217_NECTIN4', 'ENSG00000143858_SYT2', 'ENSG00000144130_NT5DC4', 'ENSG00000144214_LYG1', 'ENSG00000144290_SLC4A10', 'ENSG00000144366_GULP1', 'ENSG00000144583_MARCH4', 'ENSG00000144771_LRTM1', 'ENSG00000144891_AGTR1', 'ENSG00000145087_STXBP5L', 'ENSG00000145107_TM4SF19', 'ENSG00000146197_SCUBE3', 'ENSG00000146966_DENND2A', 'ENSG00000147082_CCNB3', 'ENSG00000147614_ATP6V0D2', 'ENSG00000147642_SYBU', 'ENSG00000147869_CER1', 'ENSG00000149403_GRIK4', 'ENSG00000149596_JPH2', 'ENSG00000150630_VEGFC', 'ENSG00000150722_PPP1R1C', 'ENSG00000151631_AKR1C6P', 'ENSG00000151704_KCNJ1', 'ENSG00000152154_TMEM178A', 'ENSG00000152292_SH2D6', 'ENSG00000152315_KCNK13', 'ENSG00000152503_TRIM36', 'ENSG00000153253_SCN3A', 'ENSG00000153902_LGI4', 'ENSG00000153930_ANKFN1', 'ENSG00000154040_CABYR', 'ENSG00000154118_JPH3', 'ENSG00000154175_ABI3BP', 'ENSG00000154645_CHODL', 'ENSG00000157060_SHCBP1L', 'ENSG00000157087_ATP2B2', 'ENSG00000157152_SYN2', 'ENSG00000157168_NRG1', 'ENSG00000157680_DGKI', 'ENSG00000158246_TENT5B', 'ENSG00000158477_CD1A', 'ENSG00000158481_CD1C', 'ENSG00000158488_CD1E', 'ENSG00000159189_C1QC', 'ENSG00000159217_IGF2BP1', 'ENSG00000160683_CXCR5', 'ENSG00000160801_PTH1R', 'ENSG00000160973_FOXH1', 'ENSG00000161594_KLHL10', 'ENSG00000162409_PRKAA2', 'ENSG00000162840_MT2P1', 'ENSG00000162873_KLHDC8A', 'ENSG00000162944_RFTN2', 'ENSG00000162949_CAPN13', 'ENSG00000163116_STPG2', 'ENSG00000163288_GABRB1', 'ENSG00000163531_NFASC', 'ENSG00000163618_CADPS', 'ENSG00000163637_PRICKLE2', 'ENSG00000163735_CXCL5', 'ENSG00000163873_GRIK3', 'ENSG00000163898_LIPH', 'ENSG00000164061_BSN', 'ENSG00000164078_MST1R', 'ENSG00000164123_C4orf45', 'ENSG00000164690_SHH', 'ENSG00000164761_TNFRSF11B', 'ENSG00000164821_DEFA4', 'ENSG00000164845_FAM86FP', 'ENSG00000164867_NOS3', 'ENSG00000166073_GPR176', 'ENSG00000166148_AVPR1A', 'ENSG00000166250_CLMP', 'ENSG00000166257_SCN3B', 'ENSG00000166268_MYRFL', 'ENSG00000166523_CLEC4E', 'ENSG00000166535_A2ML1', 'ENSG00000166819_PLIN1', 'ENSG00000166928_MS4A14', 'ENSG00000167210_LOXHD1', 'ENSG00000167306_MYO5B', 'ENSG00000167634_NLRP7', 'ENSG00000167748_KLK1', 'ENSG00000167889_MGAT5B', 'ENSG00000168140_VASN', 'ENSG00000168546_GFRA2', 'ENSG00000168646_AXIN2', 'ENSG00000168955_TM4SF20', 'ENSG00000168993_CPLX1', 'ENSG00000169075_Z99496.1', 'ENSG00000169194_IL13', 'ENSG00000169246_NPIPB3', 'ENSG00000169884_WNT10B', 'ENSG00000169900_PYDC1', 'ENSG00000170074_FAM153A', 'ENSG00000170075_GPR37L1', 'ENSG00000170289_CNGB3', 'ENSG00000170356_OR2A20P', 'ENSG00000170537_TMC7', 'ENSG00000170689_HOXB9', 'ENSG00000170827_CELP', 'ENSG00000171346_KRT15', 'ENSG00000171368_TPPP', 'ENSG00000171501_OR1N2', 'ENSG00000171532_NEUROD2', 'ENSG00000171611_PTCRA', 'ENSG00000171873_ADRA1D', 'ENSG00000171916_LGALS9C', 'ENSG00000172005_MAL', 'ENSG00000172987_HPSE2', 'ENSG00000173068_BNC2', 'ENSG00000173077_DEC1', 'ENSG00000173210_ABLIM3', 'ENSG00000173267_SNCG', 'ENSG00000173369_C1QB', 'ENSG00000173372_C1QA', 'ENSG00000173391_OLR1', 'ENSG00000173626_TRAPPC3L', 'ENSG00000173698_ADGRG2', 'ENSG00000173868_PHOSPHO1', 'ENSG00000174407_MIR1-1HG', 'ENSG00000174807_CD248', 'ENSG00000175206_NPPA', 'ENSG00000175746_C15orf54', 'ENSG00000175985_PLEKHD1', 'ENSG00000176043_AC007160.1', 'ENSG00000176399_DMRTA1', 'ENSG00000176510_OR10AC1', 'ENSG00000176697_BDNF', 'ENSG00000176826_FKBP9P1', 'ENSG00000176988_FMR1NB', 'ENSG00000177324_BEND2', 'ENSG00000177335_C8orf31', 'ENSG00000177535_OR2B11', 'ENSG00000177614_PGBD5', 'ENSG00000177707_NECTIN3', 'ENSG00000178033_CALHM5', 'ENSG00000178175_ZNF366', 'ENSG00000178462_TUBAL3', 'ENSG00000178732_GP5', 'ENSG00000178750_STX19', 'ENSG00000179058_C9orf50', 'ENSG00000179101_AL590139.1', 'ENSG00000179388_EGR3', 'ENSG00000179611_DGKZP1', 'ENSG00000179899_PHC1P1', 'ENSG00000179934_CCR8', 'ENSG00000180537_RNF182', 'ENSG00000180712_LINC02363', 'ENSG00000180988_OR52N2', 'ENSG00000181001_OR52N1', 'ENSG00000181616_OR52H1', 'ENSG00000181634_TNFSF15', 'ENSG00000182021_AL591379.1', 'ENSG00000182230_FAM153B', 'ENSG00000182853_VMO1', 'ENSG00000183090_FREM3', 'ENSG00000183562_AC131971.1', 'ENSG00000183615_FAM167B', 'ENSG00000183625_CCR3', 'ENSG00000183770_FOXL2', 'ENSG00000183779_ZNF703', 'ENSG00000183831_ANKRD45', 'ENSG00000183844_FAM3B', 'ENSG00000183960_KCNH8', 'ENSG00000184106_TREML3P', 'ENSG00000184227_ACOT1', 'ENSG00000184363_PKP3', 'ENSG00000184434_LRRC19', 'ENSG00000184454_NCMAP', 'ENSG00000184571_PIWIL3', 'ENSG00000184702_SEPT5', 'ENSG00000184908_CLCNKB', 'ENSG00000184923_NUTM2A', 'ENSG00000185070_FLRT2', 'ENSG00000185156_MFSD6L', 'ENSG00000185567_AHNAK2', 'ENSG00000185686_PRAME', 'ENSG00000186190_BPIFB3', 'ENSG00000186191_BPIFB4', 'ENSG00000186231_KLHL32', 'ENSG00000186431_FCAR', 'ENSG00000186715_MST1L', 'ENSG00000187116_LILRA5', 'ENSG00000187185_AC092118.1', 'ENSG00000187268_FAM9C', 'ENSG00000187554_TLR5', 'ENSG00000187867_PALM3', 'ENSG00000188153_COL4A5', 'ENSG00000188158_NHS', 'ENSG00000188163_FAM166A', 'ENSG00000188316_ENO4', 'ENSG00000188959_C9orf152', 'ENSG00000189013_KIR2DL4', 'ENSG00000189409_MMP23B', 'ENSG00000196092_PAX5', 'ENSG00000196260_SFTA2', 'ENSG00000197358_BNIP3P1', 'ENSG00000197446_CYP2F1', 'ENSG00000197540_GZMM', 'ENSG00000198049_AVPR1B', 'ENSG00000198134_AC007537.1', 'ENSG00000198156_NPIPB6', 'ENSG00000198221_AFDN-DT', 'ENSG00000198626_RYR2', 'ENSG00000198759_EGFL6', 'ENSG00000198822_GRM3', 'ENSG00000198963_RORB', 'ENSG00000199090_MIR326', 'ENSG00000199753_SNORD104', 'ENSG00000199787_RF00406', 'ENSG00000199872_RNU6-942P', 'ENSG00000200075_RF00402', 'ENSG00000200296_RNU1-83P', 'ENSG00000200683_RNU6-379P', 'ENSG00000201044_RNU6-268P', 'ENSG00000201343_RF00019', 'ENSG00000201564_RN7SKP50', 'ENSG00000201616_RNU1-91P', 'ENSG00000201737_RNU1-133P', 'ENSG00000202048_SNORD114-20', 'ENSG00000202415_RN7SKP269', 'ENSG00000203395_AC015969.1', 'ENSG00000203721_LINC00862', 'ENSG00000203727_SAMD5', 'ENSG00000203737_GPR52', 'ENSG00000203783_PRR9', 'ENSG00000203867_RBM20', 'ENSG00000203907_OOEP', 'ENSG00000203999_LINC01270', 'ENSG00000204010_IFIT1B', 'ENSG00000204044_SLC12A5-AS1', 'ENSG00000204091_TDRG1', 'ENSG00000204121_ECEL1P1', 'ENSG00000204165_CXorf65', 'ENSG00000204173_LRRC37A5P', 'ENSG00000204248_COL11A2', 'ENSG00000204424_LY6G6F', 'ENSG00000204539_CDSN', 'ENSG00000204583_LRCOL1', 'ENSG00000204677_FAM153C', 'ENSG00000204709_LINC01556', 'ENSG00000204711_C9orf135', 'ENSG00000204792_LINC01291', 'ENSG00000204850_AC011484.1', 'ENSG00000204851_PNMA8B', 'ENSG00000204909_SPINK9', 'ENSG00000205037_AC134312.1', 'ENSG00000205038_PKHD1L1', 'ENSG00000205089_CCNI2', 'ENSG00000205106_DKFZp779M0652', 'ENSG00000205364_MT1M', 'ENSG00000205502_C2CD4B', 'ENSG00000205746_AC126755.1', 'ENSG00000205856_C22orf42', 'ENSG00000206052_DOK6', 'ENSG00000206579_XKR4', 'ENSG00000206645_RF00019', 'ENSG00000206786_RNU6-701P', 'ENSG00000206846_RF00019', 'ENSG00000206848_RNU6-890P', 'ENSG00000207088_SNORA7B', 'ENSG00000207181_SNORA14B', 'ENSG00000207234_RNU6-125P', 'ENSG00000207326_RF00019', 'ENSG00000207359_RNU6-925P', 'ENSG00000211677_IGLC2', 'ENSG00000211699_TRGV3', 'ENSG00000211895_IGHA1', 'ENSG00000212385_RNU6-817P', 'ENSG00000212391_RF00554', 'ENSG00000212607_SNORA3B', 'ENSG00000212829_RPS26P3', 'ENSG00000213083_AC010731.1', 'ENSG00000213216_AC007066.1', 'ENSG00000213222_AC093724.1', 'ENSG00000213228_RPL12P38', 'ENSG00000213250_RBMS2P1', 'ENSG00000213272_RPL7AP9', 'ENSG00000213303_AC008481.1', 'ENSG00000213402_PTPRCAP', 'ENSG00000213471_TTLL13P', 'ENSG00000213588_ZBTB9', 'ENSG00000213609_RPL7AP50', 'ENSG00000213757_AC020898.1', 'ENSG00000213931_HBE1', 'ENSG00000213950_RPS10P2', 'ENSG00000213994_AL157395.1', 'ENSG00000214787_MS4A4E', 'ENSG00000214866_DCDC2C', 'ENSG00000214908_AL353678.1', 'ENSG00000214975_PPIAP29', 'ENSG00000215198_AL353795.1', 'ENSG00000215208_KRT18P60', 'ENSG00000215218_UBE2QL1', 'ENSG00000215297_AL354941.1', 'ENSG00000215464_AP000354.1', 'ENSG00000215483_LINC00598', 'ENSG00000215817_ZC3H11B', 'ENSG00000215861_AC245297.1', 'ENSG00000215910_C1orf167', 'ENSG00000216475_AL024474.1', 'ENSG00000217195_AL513475.1', 'ENSG00000217414_DDX18P3', 'ENSG00000217512_AL356776.1', 'ENSG00000218351_RPS3AP23', 'ENSG00000218418_AL591135.1', 'ENSG00000218749_AL033519.1', 'ENSG00000218766_AL450338.1', 'ENSG00000218792_HSPD1P16', 'ENSG00000219249_AMZ2P2', 'ENSG00000219395_HSPA8P15', 'ENSG00000219410_AC125494.1', 'ENSG00000219932_RPL12P8', 'ENSG00000220091_LAP3P1', 'ENSG00000220237_RPS24P12', 'ENSG00000220494_YAP1P1', 'ENSG00000221102_SNORA11B', 'ENSG00000221887_HMSD', 'ENSG00000222276_RNU2-33P', 'ENSG00000222370_SNORA36B', 'ENSG00000222421_RF00019', 'ENSG00000222431_RNU6-141P', 'ENSG00000223342_AL158817.1', 'ENSG00000223379_AL391987.3', 'ENSG00000223403_MEG9', 'ENSG00000223519_KIF28P', 'ENSG00000223576_AL355001.1', 'ENSG00000223668_EEF1A1P24', 'ENSG00000223741_PSMD4P1', 'ENSG00000223779_AC239800.1', 'ENSG00000223783_LINC01983', 'ENSG00000223784_LINP1', 'ENSG00000223855_HRAT92', 'ENSG00000223884_AC068481.1', 'ENSG00000223899_SEC13P1', 'ENSG00000224067_AL354877.1', 'ENSG00000224072_AL139811.1', 'ENSG00000224081_SLC44A3-AS1', 'ENSG00000224099_AC104823.1', 'ENSG00000224116_INHBA-AS1', 'ENSG00000224137_LINC01857', 'ENSG00000224155_AC073136.2', 'ENSG00000224321_RPL12P14', 'ENSG00000224402_OR6D1P', 'ENSG00000224479_AC104162.1', 'ENSG00000224599_BMS1P12', 'ENSG00000224689_ZNF812P', 'ENSG00000224848_AL589843.1', 'ENSG00000224908_TIMM8BP2', 'ENSG00000224957_LINC01266', 'ENSG00000224959_AC017002.1', 'ENSG00000224988_AL158207.1', 'ENSG00000224993_RPL29P12', 'ENSG00000225096_AL445250.1', 'ENSG00000225101_OR52K3P', 'ENSG00000225107_AC092484.1', 'ENSG00000225187_AC073283.1', 'ENSG00000225313_AL513327.1', 'ENSG00000225345_SNX18P3', 'ENSG00000225393_BX571846.1', 'ENSG00000225422_RBMS1P1', 'ENSG00000225423_TNPO1P1', 'ENSG00000225531_AL807761.2', 'ENSG00000225554_AL359764.1', 'ENSG00000225650_EIF2S2P5', 'ENSG00000225674_IPO7P2', 'ENSG00000225807_AC069281.1', 'ENSG00000226010_AL355852.1', 'ENSG00000226084_AC113935.1', 'ENSG00000226251_AL451060.1', 'ENSG00000226383_LINC01876', 'ENSG00000226491_FTOP1', 'ENSG00000226501_USF1P1', 'ENSG00000226545_AL357552.1', 'ENSG00000226564_FTH1P20', 'ENSG00000226617_RPL21P110', 'ENSG00000226647_AL365356.1', 'ENSG00000226800_CACTIN-AS1', 'ENSG00000226913_BSN-DT', 'ENSG00000226948_RPS4XP2', 'ENSG00000226970_AL450063.1', 'ENSG00000227006_AL136988.2', 'ENSG00000227051_C14orf132', 'ENSG00000227072_AL353706.1', 'ENSG00000227110_LMCD1-AS1', 'ENSG00000227192_AL023581.2', 'ENSG00000227198_C6orf47-AS1', 'ENSG00000227207_RPL31P12', 'ENSG00000227477_STK4-AS1', 'ENSG00000227541_SFR1P1', 'ENSG00000227590_ATP5MC1P5', 'ENSG00000227649_MTND6P32', 'ENSG00000227682_ATP5F1AP2', 'ENSG00000227740_AL513329.1', 'ENSG00000227742_CALR4P', 'ENSG00000228097_MTATP6P11', 'ENSG00000228140_AL031283.1', 'ENSG00000228175_GEMIN8P4', 'ENSG00000228212_OFD1P17', 'ENSG00000228232_GAPDHP1', 'ENSG00000228317_AL158070.1', 'ENSG00000228413_AC024937.1', 'ENSG00000228430_AL162726.3', 'ENSG00000228501_RPL15P18', 'ENSG00000228550_AC073583.1', 'ENSG00000228655_AC096558.1', 'ENSG00000228727_SAPCD1', 'ENSG00000228826_AL592494.1', 'ENSG00000228839_PIK3IP1-AS1', 'ENSG00000228863_AL121985.1', 'ENSG00000229066_AC093459.1', 'ENSG00000229150_CRYGEP', 'ENSG00000229154_KCNQ5-AS1', 'ENSG00000229163_NAP1L1P2', 'ENSG00000229236_TTTY10', 'ENSG00000229274_AL662860.1', 'ENSG00000229308_AC010737.1', 'ENSG00000229326_AC069154.1', 'ENSG00000229372_SZT2-AS1', 'ENSG00000229444_AL451062.1', 'ENSG00000229567_AL139421.1', 'ENSG00000229703_CR589904.1', 'ENSG00000229742_AC092809.1', 'ENSG00000229758_DYNLT3P2', 'ENSG00000229839_AC018462.1', 'ENSG00000229847_EMX2OS', 'ENSG00000229853_AL034418.1', 'ENSG00000229918_DOCK9-AS1', 'ENSG00000229953_AL590666.2', 'ENSG00000229992_HMGB3P9', 'ENSG00000230063_AL360091.2', 'ENSG00000230064_AL772161.1', 'ENSG00000230138_AC119428.2', 'ENSG00000230149_AL021707.3', 'ENSG00000230289_AL358781.2', 'ENSG00000230295_GTF2IP23', 'ENSG00000230479_AP000695.1', 'ENSG00000230508_RPL19P21', 'ENSG00000230519_HMGB1P49', 'ENSG00000230534_AL392046.1', 'ENSG00000230563_AL121757.1', 'ENSG00000230721_AL049597.1', 'ENSG00000230772_VN1R108P', 'ENSG00000230777_RPS29P5', 'ENSG00000230799_AC007279.1', 'ENSG00000230813_AL356583.3', 'ENSG00000230815_AL807757.1', 'ENSG00000230872_MFSD13B', 'ENSG00000230910_AL391807.1', 'ENSG00000230912_AL021707.4', 'ENSG00000230968_AC084149.2', 'ENSG00000230993_RPL12P15', 'ENSG00000231265_TRERNA1', 'ENSG00000231307_RPS3P2', 'ENSG00000231407_AL354732.1', 'ENSG00000231449_AC097359.1', 'ENSG00000231507_LINC01353', 'ENSG00000231531_HINT1P1', 'ENSG00000231548_OR55B1P', 'ENSG00000231731_AC010976.1', 'ENSG00000231742_LINC01273', 'ENSG00000231788_RPL31P50', 'ENSG00000231830_AC245140.1', 'ENSG00000231927_AC093734.1', 'ENSG00000231993_EP300-AS1', 'ENSG00000232027_AL671986.1', 'ENSG00000232028_AC007391.1', 'ENSG00000232065_LINC01063', 'ENSG00000232133_IMPDH1P10', 'ENSG00000232139_LINC00867', 'ENSG00000232273_FTH1P1', 'ENSG00000232333_RPS27AP2', 'ENSG00000232466_AL356133.1', 'ENSG00000232500_AP005273.1', 'ENSG00000232530_LIF-AS1', 'ENSG00000232568_RPL23AP35', 'ENSG00000232578_AC093311.1', 'ENSG00000232606_LINC01412', 'ENSG00000232654_FAM136BP', 'ENSG00000232656_IDI2-AS1', 'ENSG00000232719_AC007272.1', 'ENSG00000232803_SLCO4A1-AS1', 'ENSG00000232987_LINC01219', 'ENSG00000233025_CRYZP1', 'ENSG00000233093_LINC00892', 'ENSG00000233099_AC095030.1', 'ENSG00000233401_PRKAR1AP1', 'ENSG00000233427_AL009181.1', 'ENSG00000233540_DNM3-IT1', 'ENSG00000233674_AL451062.2', 'ENSG00000233825_AL391839.2', 'ENSG00000233862_AC016907.2', 'ENSG00000233994_GDI2P2', 'ENSG00000234026_AL157834.2', 'ENSG00000234106_SRP14P2', 'ENSG00000234145_NAP1L4P3', 'ENSG00000234174_AC016683.1', 'ENSG00000234271_Z98752.2', 'ENSG00000234425_AL138930.1', 'ENSG00000234488_AC096664.2', 'ENSG00000234630_AC245060.2', 'ENSG00000234645_YWHAEP5', 'ENSG00000234718_AC007161.1', 'ENSG00000234810_AL603840.1', 'ENSG00000235045_RPL7P8', 'ENSG00000235072_AC012074.1', 'ENSG00000235214_FAM83C-AS1', 'ENSG00000235288_AC099329.1', 'ENSG00000235376_RPEL1', 'ENSG00000235429_AC083875.1', 'ENSG00000235472_EIF4A1P7', 'ENSG00000235478_LINC01664', 'ENSG00000235531_MSC-AS1', 'ENSG00000235640_AC092646.2', 'ENSG00000235677_NPM1P26', 'ENSG00000235683_AC018442.1', 'ENSG00000235701_PCBP2P1', 'ENSG00000235740_PHACTR2-AS1', 'ENSG00000235774_AC023347.1', 'ENSG00000235802_HCFC1-AS1', 'ENSG00000235917_MTCO2P11', 'ENSG00000235958_UBOX5-AS1', 'ENSG00000236032_OR5H14', 'ENSG00000236180_AL445669.2', 'ENSG00000236254_MTND4P14', 'ENSG00000236283_AC019197.1', 'ENSG00000236290_EEF1GP7', 'ENSG00000236317_AC104333.2', 'ENSG00000236364_AL358115.1', 'ENSG00000236457_AC090617.1', 'ENSG00000236564_YWHAQP5', 'ENSG00000236671_PRKG1-AS1', 'ENSG00000236680_AL356000.1', 'ENSG00000236682_AC068282.1', 'ENSG00000236711_SMAD9-IT1', 'ENSG00000236806_RPL7AP15', 'ENSG00000236869_ZKSCAN7-AS1', 'ENSG00000236886_AC007563.2', 'ENSG00000236915_AL356270.1', 'ENSG00000236936_AL031005.1', 'ENSG00000237057_LINC02087', 'ENSG00000237101_AC092809.4', 'ENSG00000237276_ANO7L1', 'ENSG00000237317_AL022400.1', 'ENSG00000237387_AL022329.2', 'ENSG00000237618_BTBD7P2', 'ENSG00000237685_AL139039.3', 'ENSG00000237757_EEF1A1P30', 'ENSG00000237766_GGTA2P', 'ENSG00000237798_AC010894.4', 'ENSG00000238015_AC104837.2', 'ENSG00000238133_MAP3K20-AS1', 'ENSG00000238259_AC067940.1', 'ENSG00000238324_RN7SKP198', 'ENSG00000238358_AC004969.1', 'ENSG00000239219_AC008040.1', 'ENSG00000239316_RN7SL11P', 'ENSG00000239474_KLHL41', 'ENSG00000239527_RPS23P7', 'ENSG00000239642_MEIKIN', 'ENSG00000239650_GUSBP4', 'ENSG00000239686_AL158801.1', 'ENSG00000239701_AC006512.1', 'ENSG00000239705_AL354710.2', 'ENSG00000239797_RPL21P39', 'ENSG00000239830_RPS4XP22', 'ENSG00000239930_AP001625.3', 'ENSG00000240086_AC092969.1', 'ENSG00000240087_RPSAP12', 'ENSG00000240183_RN7SL297P', 'ENSG00000240219_AL512306.2', 'ENSG00000240498_CDKN2B-AS1', 'ENSG00000240809_AC026877.1', 'ENSG00000240993_RN7SL459P', 'ENSG00000241111_PRICKLE2-AS1', 'ENSG00000241135_LINC00881', 'ENSG00000241319_SETP6', 'ENSG00000241570_PAQR9-AS1', 'ENSG00000241631_RN7SL316P', 'ENSG00000241932_AC092324.1', 'ENSG00000241933_DENND6A-DT', 'ENSG00000242060_RPS3AP49', 'ENSG00000242107_LINC01100', 'ENSG00000242175_RN7SL127P', 'ENSG00000242431_AC107398.1', 'ENSG00000242551_POU5F1P6', 'ENSG00000242571_RPL21P11', 'ENSG00000242641_LINC00971', 'ENSG00000242747_AC090515.1', 'ENSG00000242992_FTH1P4', 'ENSG00000243055_GK-AS1', 'ENSG00000243498_UBA52P5', 'ENSG00000243592_RPL17P22', 'ENSG00000243709_LEFTY1', 'ENSG00000243830_AC092865.1', 'ENSG00000243836_WDR86-AS1', 'ENSG00000243961_PARAL1', 'ENSG00000244021_AC093591.1', 'ENSG00000244097_RPS4XP17', 'ENSG00000244151_AC010973.2', 'ENSG00000244183_PPIAP71', 'ENSG00000244242_IFITM10', 'ENSG00000244245_AC133134.1', 'ENSG00000244251_AC013356.1', 'ENSG00000244355_LY6G6D', 'ENSG00000244357_RN7SL145P', 'ENSG00000244476_ERVFRD-1', 'ENSG00000244482_LILRA6', 'ENSG00000244585_RPL12P33', 'ENSG00000244618_RN7SL334P', 'ENSG00000244703_CD46P1', 'ENSG00000245261_AL133375.1', 'ENSG00000245482_AC046130.1', 'ENSG00000246363_LINC02458', 'ENSG00000246863_AC012377.1', 'ENSG00000247199_AC091948.1', 'ENSG00000248121_SMURF2P1', 'ENSG00000248155_CR545473.1', 'ENSG00000248223_AC026785.2', 'ENSG00000248485_PCP4L1', 'ENSG00000248690_HAS2-AS1', 'ENSG00000248884_AC010280.2', 'ENSG00000248936_AC027607.1', 'ENSG00000249140_PRDX2P3', 'ENSG00000249363_AC011411.1', 'ENSG00000249381_LINC00500', 'ENSG00000249456_AL731577.2', 'ENSG00000249492_AC114956.3', 'ENSG00000249574_AC226118.1', 'ENSG00000249614_LINC02503', 'ENSG00000249691_AC026117.1', 'ENSG00000249695_AC026369.1', 'ENSG00000249803_AC112178.1', 'ENSG00000249825_CTD-2201I18.1', 'ENSG00000249848_AC112673.1', 'ENSG00000249850_KRT18P31', 'ENSG00000249884_RNF103-CHMP3', 'ENSG00000249978_TRGV7', 'ENSG00000250130_AC090519.1', 'ENSG00000250148_KRT8P31', 'ENSG00000250332_AC010460.3', 'ENSG00000250334_LINC00989', 'ENSG00000250539_KRT8P33', 'ENSG00000250548_LINC01303', 'ENSG00000250608_AC010210.1', 'ENSG00000250635_CXXC5-AS1', 'ENSG00000250645_AC010442.2', 'ENSG00000250733_C8orf17', 'ENSG00000250853_RNF138P1', 'ENSG00000250902_SMAD1-AS1', 'ENSG00000250950_AC093752.2', 'ENSG00000250982_GAPDHP35', 'ENSG00000251129_LINC02506', 'ENSG00000251152_AC025539.1', 'ENSG00000251250_AC091951.3', 'ENSG00000251288_AC018797.3', 'ENSG00000251468_AC135352.1', 'ENSG00000251537_AC005324.3', 'ENSG00000251538_LINC02201', 'ENSG00000251584_AC096751.2', 'ENSG00000251676_SNHG27', 'ENSG00000251916_RNU1-61P', 'ENSG00000252759_RF00019', 'ENSG00000253256_AC134043.1', 'ENSG00000253305_PCDHGB6', 'ENSG00000253394_LINC00534', 'ENSG00000253490_LINC02099', 'ENSG00000253537_PCDHGA7', 'ENSG00000253629_AP000426.1', 'ENSG00000253651_SOD1P3', 'ENSG00000253730_AC015909.2', 'ENSG00000253734_LINC01289', 'ENSG00000253767_PCDHGA8', 'ENSG00000253853_AC246817.1', 'ENSG00000253873_PCDHGA11', 'ENSG00000254028_AC083843.1', 'ENSG00000254048_AC105150.1', 'ENSG00000254054_AC087273.2', 'ENSG00000254122_PCDHGB7', 'ENSG00000254248_AC068189.1', 'ENSG00000254680_AC079329.1', 'ENSG00000254708_AL139174.1', 'ENSG00000254780_AC023232.1', 'ENSG00000254810_AP001189.3', 'ENSG00000254812_AC067930.3', 'ENSG00000254842_LINC02551', 'ENSG00000254846_AL355075.1', 'ENSG00000254862_AC100771.2', 'ENSG00000254897_AP003035.1', 'ENSG00000255002_LINC02324', 'ENSG00000255074_AC018523.1', 'ENSG00000255102_AP005436.1', 'ENSG00000255156_RNY1P9', 'ENSG00000255158_AC131934.1', 'ENSG00000255222_SETP17', 'ENSG00000255256_AL136146.2', 'ENSG00000255367_AC127526.2', 'ENSG00000255418_AC090092.1', 'ENSG00000255443_CD44-AS1', 'ENSG00000255446_AP003064.2', 'ENSG00000255479_AP001189.6', 'ENSG00000255487_AC087362.2', 'ENSG00000255867_DENND5B-AS1', 'ENSG00000255871_AC007529.1', 'ENSG00000256029_SNHG28', 'ENSG00000256571_AC079866.2', 'ENSG00000256588_AC027544.2', 'ENSG00000256712_AC134349.1', 'ENSG00000256746_AC018410.1', 'ENSG00000256813_AP000777.3', 'ENSG00000256967_AC018653.3', 'ENSG00000256968_SNRPEP2', 'ENSG00000257074_RPL29P33', 'ENSG00000257120_AL356756.1', 'ENSG00000257146_AC079905.2', 'ENSG00000257195_HNRNPA1P50', 'ENSG00000257327_AC012555.1', 'ENSG00000257345_LINC02413', 'ENSG00000257379_AC023509.1', 'ENSG00000257386_AC025257.1', 'ENSG00000257431_AC089998.1', 'ENSG00000257715_AC007298.1', 'ENSG00000257838_OTOAP1', 'ENSG00000257987_TEX49', 'ENSG00000258084_AC128707.1', 'ENSG00000258090_AC093014.1', 'ENSG00000258177_AC008149.1', 'ENSG00000258357_AC023161.2', 'ENSG00000258410_AC087386.1', 'ENSG00000258498_DIO3OS', 'ENSG00000258504_AL157871.1', 'ENSG00000258512_LINC00239', 'ENSG00000258867_LINC01146', 'ENSG00000258886_HIGD1AP17', 'ENSG00000259032_ENSAP2', 'ENSG00000259100_AL157791.1', 'ENSG00000259294_AC005096.1', 'ENSG00000259327_AC023906.3', 'ENSG00000259345_AC013652.1', 'ENSG00000259377_AC026770.1', 'ENSG00000259380_AC087473.1', 'ENSG00000259442_AC105339.3', 'ENSG00000259461_ANP32BP3', 'ENSG00000259556_AC090971.3', 'ENSG00000259569_AC013489.2', 'ENSG00000259617_AC020661.3', 'ENSG00000259684_AC084756.1', 'ENSG00000259719_LINC02284', 'ENSG00000259954_IL21R-AS1', 'ENSG00000259986_AC103876.1', 'ENSG00000260135_MMP2-AS1', 'ENSG00000260206_AC105020.2', 'ENSG00000260235_AC105020.3', 'ENSG00000260269_AC105036.3', 'ENSG00000260394_Z92544.1', 'ENSG00000260425_AL031709.1', 'ENSG00000260447_AC009065.3', 'ENSG00000260615_RPL23AP97', 'ENSG00000260871_AC093510.2', 'ENSG00000260877_AP005233.2', 'ENSG00000260979_AC022167.3', 'ENSG00000261051_AC107021.2', 'ENSG00000261113_AC009034.1', 'ENSG00000261168_AL592424.1', 'ENSG00000261253_AC137932.2', 'ENSG00000261269_AC093278.2', 'ENSG00000261552_AC109460.4', 'ENSG00000261572_AC097639.1', 'ENSG00000261602_AC092115.2', 'ENSG00000261630_AC007496.2', 'ENSG00000261644_AC007728.2', 'ENSG00000261734_AC116096.1', 'ENSG00000261773_AC244090.2', 'ENSG00000261837_AC046158.2', 'ENSG00000261838_AC092718.6', 'ENSG00000261888_AC144831.1', 'ENSG00000262061_AC129507.1', 'ENSG00000262097_LINC02185', 'ENSG00000262372_CR936218.1', 'ENSG00000262406_MMP12', 'ENSG00000262580_AC087741.1', 'ENSG00000262772_LINC01977', 'ENSG00000262833_AC016245.1', 'ENSG00000263006_ROCK1P1', 'ENSG00000263011_AC108134.4', 'ENSG00000263155_MYZAP', 'ENSG00000263393_AC011825.2', 'ENSG00000263426_RN7SL471P', 'ENSG00000263503_MAPK8IP1P2', 'ENSG00000263595_RN7SL823P', 'ENSG00000263878_DLGAP1-AS4', 'ENSG00000263940_RN7SL275P', 'ENSG00000264019_AC018521.2', 'ENSG00000264031_ABHD15-AS1', 'ENSG00000264044_AC005726.2', 'ENSG00000264070_DND1P1', 'ENSG00000264188_AC106037.1', 'ENSG00000264269_AC016866.1', 'ENSG00000264339_AP001020.1', 'ENSG00000264434_AC110603.1', 'ENSG00000264714_KIAA0895LP1', 'ENSG00000265010_AC087301.1', 'ENSG00000265073_AC010761.2', 'ENSG00000265107_GJA5', 'ENSG00000265179_AP000894.2', 'ENSG00000265218_AC103810.2', 'ENSG00000265334_AC130324.2', 'ENSG00000265439_RN7SL811P', 'ENSG00000265531_FCGR1CP', 'ENSG00000265845_AC024267.4', 'ENSG00000265907_AP000919.2', 'ENSG00000265942_RN7SL577P', 'ENSG00000266256_LINC00683', 'ENSG00000266456_AP001178.3', 'ENSG00000266733_TBC1D29', 'ENSG00000266835_GAPLINC', 'ENSG00000266844_AC093330.1', 'ENSG00000266903_AC243964.2', 'ENSG00000266944_AC005262.1', 'ENSG00000266946_MRPL37P1', 'ENSG00000266947_AC022916.1', 'ENSG00000267034_AC010980.2', 'ENSG00000267044_AC005757.1', 'ENSG00000267147_LINC01842', 'ENSG00000267175_AC105094.2', 'ENSG00000267191_AC006213.3', 'ENSG00000267275_AC020911.2', 'ENSG00000267288_AC138150.2', 'ENSG00000267313_KC6', 'ENSG00000267316_AC090409.2', 'ENSG00000267323_SLC25A1P5', 'ENSG00000267345_AC010632.1', 'ENSG00000267387_AC020931.1', 'ENSG00000267395_DM1-AS', 'ENSG00000267429_AC006116.6', 'ENSG00000267452_LINC02073', 'ENSG00000267491_AC100788.1', 'ENSG00000267529_AP005131.4', 'ENSG00000267554_AC015911.8', 'ENSG00000267601_AC022966.1', 'ENSG00000267638_AC023855.1', 'ENSG00000267665_AC021683.3', 'ENSG00000267681_AC135721.1', 'ENSG00000267703_AC020917.2', 'ENSG00000267731_AC005332.2', 'ENSG00000267733_AP005264.5', 'ENSG00000267750_RUNDC3A-AS1', 'ENSG00000267890_AC010624.2', 'ENSG00000267898_AC026803.2', 'ENSG00000267927_AC010320.1', 'ENSG00000268070_AC006539.2', 'ENSG00000268355_AC243960.3', 'ENSG00000268416_AC010329.1', 'ENSG00000268520_AC008750.5', 'ENSG00000268636_AC011495.2', 'ENSG00000268696_ZNF723', 'ENSG00000268777_AC020914.1', 'ENSG00000268849_SIGLEC22P', 'ENSG00000268903_AL627309.6', 'ENSG00000268983_AC005253.2', 'ENSG00000269019_HOMER3-AS1', 'ENSG00000269067_ZNF728', 'ENSG00000269103_RF00017', 'ENSG00000269274_AC078899.4', 'ENSG00000269288_AC092070.3', 'ENSG00000269352_PTOV1-AS2', 'ENSG00000269400_AC008734.2', 'ENSG00000269506_AC110792.2', 'ENSG00000269653_AC011479.3', 'ENSG00000269881_AC004754.1', 'ENSG00000269926_DDIT4-AS1', 'ENSG00000270048_AC068790.4', 'ENSG00000270050_AL035427.1', 'ENSG00000270503_YTHDF2P1', 'ENSG00000270706_PRMT1P1', 'ENSG00000270765_GAS2L2', 'ENSG00000270882_HIST2H4A', 'ENSG00000270906_MTND4P35', 'ENSG00000271013_LRRC37A9P', 'ENSG00000271129_AC009027.1', 'ENSG00000271259_AC010201.1', 'ENSG00000271524_BNIP3P17', 'ENSG00000271543_AC021443.1', 'ENSG00000271743_AF287957.1', 'ENSG00000271792_AC008667.4', 'ENSG00000271868_AC114810.1', 'ENSG00000271973_AC141002.1', 'ENSG00000271984_AL008726.1', 'ENSG00000271996_AC019080.4', 'ENSG00000272070_AC005618.1', 'ENSG00000272138_LINC01607', 'ENSG00000272150_NBPF25P', 'ENSG00000272265_AC034236.3', 'ENSG00000272279_AL512329.2', 'ENSG00000272473_AC006273.1', 'ENSG00000272510_AL121992.3', 'ENSG00000272582_AL031587.3', 'ENSG00000272695_GAS6-DT', 'ENSG00000272732_AC004982.1', 'ENSG00000272770_AC005696.2', 'ENSG00000272788_AP000864.1', 'ENSG00000272824_AC245100.7', 'ENSG00000272825_AL844908.1', 'ENSG00000272848_AL135910.1', 'ENSG00000272916_AC022400.6', 'ENSG00000273133_AC116651.1', 'ENSG00000273177_AC092954.2', 'ENSG00000273212_AC000068.2', 'ENSG00000273218_AC005776.2', 'ENSG00000273245_AC092653.1', 'ENSG00000273274_ZBTB8B', 'ENSG00000273312_AL121749.1', 'ENSG00000273325_AL008723.3', 'ENSG00000273369_AC096586.2', 'ENSG00000273474_AL157392.4', 'ENSG00000273599_AL731571.1', 'ENSG00000273724_AC106782.5', 'ENSG00000273870_AL138721.1', 'ENSG00000273920_AC103858.2', 'ENSG00000274023_AL360169.2', 'ENSG00000274029_AC069209.1', 'ENSG00000274114_ALOX15P1', 'ENSG00000274124_AC074029.3', 'ENSG00000274139_AC090164.2', 'ENSG00000274281_AC022929.2', 'ENSG00000274308_AC244093.1', 'ENSG00000274373_AC148476.1', 'ENSG00000274386_TMEM269', 'ENSG00000274403_AC090510.2', 'ENSG00000274570_SPDYE10P', 'ENSG00000274670_AC137590.2', 'ENSG00000274723_AC079906.1', 'ENSG00000274742_RF00017', 'ENSG00000274798_AC025166.1', 'ENSG00000274911_AL627230.2', 'ENSG00000275106_AC025594.2', 'ENSG00000275197_AC092794.2', 'ENSG00000275302_CCL4', 'ENSG00000275348_AC096861.1', 'ENSG00000275367_AC092111.1', 'ENSG00000275489_C17orf98', 'ENSG00000275527_AC100835.2', 'ENSG00000275995_AC109809.1', 'ENSG00000276070_CCL4L2', 'ENSG00000276255_AL136379.1', 'ENSG00000276282_AC022960.2', 'ENSG00000276547_PCDHGB5', 'ENSG00000276704_AL442067.2', 'ENSG00000276952_AL121772.3', 'ENSG00000276984_AL023881.1', 'ENSG00000276997_AL513314.2', 'ENSG00000277117_FP565260.3', 'ENSG00000277152_AC110048.2', 'ENSG00000277186_AC131212.1', 'ENSG00000277229_AC084781.1', 'ENSG00000277496_AL357033.4', 'ENSG00000277504_AC010536.3', 'ENSG00000277531_PNMA8C', 'ENSG00000278041_AL133325.3', 'ENSG00000278344_AC063943.1', 'ENSG00000278467_AC138393.3', 'ENSG00000278513_AC091046.2', 'ENSG00000278621_AC037198.2', 'ENSG00000278713_AC120114.2', 'ENSG00000278716_AC133540.1', 'ENSG00000278746_RN7SL660P', 'ENSG00000278774_RF00004', 'ENSG00000279091_AC026523.2', 'ENSG00000279130_AC091925.1', 'ENSG00000279141_LINC01451', 'ENSG00000279161_AC093503.3', 'ENSG00000279187_AC027601.5', 'ENSG00000279263_OR2L8', 'ENSG00000279315_AL158212.4', 'ENSG00000279319_AC105074.1', 'ENSG00000279332_AC090772.4', 'ENSG00000279339_AC100788.2', 'ENSG00000279365_AP000695.3', 'ENSG00000279378_AC009159.4', 'ENSG00000279384_AC080188.2', 'ENSG00000279404_AC008739.5', 'ENSG00000279417_AC019322.4', 'ENSG00000279444_AC135584.1', 'ENSG00000279486_OR2AG1', 'ENSG00000279530_AC092881.1', 'ENSG00000279590_AC005786.4', 'ENSG00000279619_AC020907.5', 'ENSG00000279633_AL137918.1', 'ENSG00000279636_LINC00216', 'ENSG00000279672_AP006621.5', 'ENSG00000279690_AP000280.1', 'ENSG00000279727_LINC02033', 'ENSG00000279861_AC073548.1', 'ENSG00000279913_AP001962.1', 'ENSG00000279970_AC023024.2', 'ENSG00000280055_TMEM75', 'ENSG00000280057_AL022069.2', 'ENSG00000280135_AL096816.1', 'ENSG00000280310_AC092437.1', 'ENSG00000280422_AC115284.2', 'ENSG00000280432_AP000962.2', 'ENSG00000280693_SH3PXD2A-AS1', 'ENSG00000281490_CICP14', 'ENSG00000281530_AC004461.2', 'ENSG00000281571_AC241585.2', 'ENSG00000282772_AL358790.1', 'ENSG00000282989_AP001206.1', 'ENSG00000282996_AC022021.1', 'ENSG00000283023_FRG1GP', 'ENSG00000283031_AC009242.1', 'ENSG00000283097_AL159152.1', 'ENSG00000283141_AL157832.3', 'ENSG00000283209_AC106858.1', 'ENSG00000283538_AC005972.3', 'ENSG00000284240_AC099062.1', 'ENSG00000284512_AC092718.8', 'ENSG00000284657_AL031432.5', 'ENSG00000284664_AL161756.3', 'ENSG00000284931_AC104389.5', 'ENSG00000285016_AC017002.6', 'ENSG00000285117_AC068724.4', 'ENSG00000285162_AC004593.3', 'ENSG00000285210_AL136382.1', 'ENSG00000285215_AC241377.4', 'ENSG00000285292_AC021097.2', 'ENSG00000285498_AC104389.6', 'ENSG00000285534_AL163541.1', 'ENSG00000285577_AC019127.1', 'ENSG00000285611_AC007132.1', 'ENSG00000285629_AL031847.2', 'ENSG00000285641_AL358472.6', 'ENSG00000285649_AL357079.2', 'ENSG00000285650_AL157827.2', 'ENSG00000285662_AL731733.1', 'ENSG00000285672_AL160396.2', 'ENSG00000285763_AL358777.1', 'ENSG00000285865_AC010285.3', 'ENSG00000285879_AC018628.2']\n",
    "print('Constant cols:', len(constant_cols))\n",
    "\n",
    "important_cols = ['ENSG00000135218_CD36',\n",
    " 'ENSG00000010278_CD9',\n",
    " 'ENSG00000204287_HLA-DRA',\n",
    " 'ENSG00000117091_CD48',\n",
    " 'ENSG00000004468_CD38',\n",
    " 'ENSG00000173762_CD7',\n",
    " 'ENSG00000137101_CD72',\n",
    " 'ENSG00000019582_CD74',\n",
    " 'ENSG00000169442_CD52',\n",
    " 'ENSG00000170458_CD14',\n",
    " 'ENSG00000272398_CD24',\n",
    " 'ENSG00000026508_CD44',\n",
    " 'ENSG00000114013_CD86',\n",
    " 'ENSG00000174059_CD34',\n",
    " 'ENSG00000139193_CD27',\n",
    " 'ENSG00000105383_CD33',\n",
    " 'ENSG00000085117_CD82',\n",
    " 'ENSG00000177455_CD19',\n",
    " 'ENSG00000002586_CD99',\n",
    " 'ENSG00000196126_HLA-DRB1',\n",
    " 'ENSG00000135404_CD63',\n",
    " 'ENSG00000012124_CD22',\n",
    " 'ENSG00000134061_CD180',\n",
    " 'ENSG00000105369_CD79A',\n",
    " 'ENSG00000116824_CD2',\n",
    " 'ENSG00000010610_CD4',\n",
    " 'ENSG00000139187_KLRG1',\n",
    " 'ENSG00000204592_HLA-E',\n",
    " 'ENSG00000090470_PDCD7',\n",
    " 'ENSG00000206531_CD200R1L',\n",
    "'ENSG00000166710_B2M',\n",
    " 'ENSG00000198034_RPS4X',\n",
    " 'ENSG00000188404_SELL',\n",
    " 'ENSG00000130303_BST2',\n",
    " 'ENSG00000128040_SPINK2',\n",
    " 'ENSG00000206503_HLA-A',\n",
    " 'ENSG00000108107_RPL28',\n",
    " 'ENSG00000143226_FCGR2A',\n",
    " 'ENSG00000133112_TPT1',\n",
    " 'ENSG00000166091_CMTM5',\n",
    " 'ENSG00000026025_VIM',\n",
    " 'ENSG00000205542_TMSB4X',\n",
    " 'ENSG00000109099_PMP22',\n",
    " 'ENSG00000145425_RPS3A',\n",
    " 'ENSG00000172247_C1QTNF4',\n",
    " 'ENSG00000072274_TFRC',\n",
    " 'ENSG00000234745_HLA-B',\n",
    " 'ENSG00000075340_ADD2',\n",
    " 'ENSG00000119865_CNRIP1',\n",
    " 'ENSG00000198938_MT-CO3',\n",
    " 'ENSG00000135046_ANXA1',\n",
    " 'ENSG00000235169_SMIM1',\n",
    " 'ENSG00000101200_AVP',\n",
    " 'ENSG00000167996_FTH1',\n",
    " 'ENSG00000163565_IFI16',\n",
    " 'ENSG00000117450_PRDX1',\n",
    " 'ENSG00000124570_SERPINB6',\n",
    " 'ENSG00000112077_RHAG',\n",
    " 'ENSG00000051523_CYBA',\n",
    " 'ENSG00000107130_NCS1',\n",
    " 'ENSG00000055118_KCNH2',\n",
    " 'ENSG00000029534_ANK1',\n",
    " 'ENSG00000169567_HINT1',\n",
    " 'ENSG00000142089_IFITM3',\n",
    " 'ENSG00000139278_GLIPR1',\n",
    " 'ENSG00000142227_EMP3',\n",
    " 'ENSG00000076662_ICAM3',\n",
    " 'ENSG00000143627_PKLR',\n",
    " 'ENSG00000130755_GMFG',\n",
    " 'ENSG00000160593_JAML',\n",
    " 'ENSG00000095932_SMIM24',\n",
    " 'ENSG00000197956_S100A6',\n",
    " 'ENSG00000171476_HOPX',\n",
    " 'ENSG00000116675_DNAJC6',\n",
    " 'ENSG00000100448_CTSG',\n",
    " 'ENSG00000100368_CSF2RB',\n",
    " 'ENSG00000047648_ARHGAP6',\n",
    " 'ENSG00000198918_RPL39',\n",
    " 'ENSG00000196154_S100A4',\n",
    " 'ENSG00000233968_AL157895.1',\n",
    " 'ENSG00000137642_SORL1',\n",
    " 'ENSG00000133816_MICAL2',\n",
    " 'ENSG00000130208_APOC1',\n",
    " 'ENSG00000105610_KLF1']\n",
    "print('important columns ',len(important_cols))"
   ]
  },
  {
   "cell_type": "code",
   "execution_count": 3,
   "id": "ad306bce-e4ab-47d5-abf5-206e377ba1b3",
   "metadata": {
    "execution": {
     "iopub.execute_input": "2022-11-15T23:35:37.018569Z",
     "iopub.status.busy": "2022-11-15T23:35:37.018223Z",
     "iopub.status.idle": "2022-11-15T23:35:37.023009Z",
     "shell.execute_reply": "2022-11-15T23:35:37.022491Z",
     "shell.execute_reply.started": "2022-11-15T23:35:37.018550Z"
    },
    "tags": []
   },
   "outputs": [],
   "source": [
    "DATA_DIR = \"../input/open-problems-multimodal\"\n",
    "FP_CELL_METADATA = os.path.join(DATA_DIR,\"metadata.csv\")\n",
    "\n",
    "FP_CITE_TRAIN_INPUTS = os.path.join(DATA_DIR,\"train_cite_inputs.h5\")\n",
    "FP_CITE_TRAIN_TARGETS = os.path.join(DATA_DIR,\"train_cite_targets.h5\")\n",
    "FP_CITE_TEST_INPUTS = os.path.join(DATA_DIR,\"test_cite_inputs.h5\")\n",
    "\n",
    "FP_SUBMISSION = os.path.join(DATA_DIR,\"sample_submission.csv\")\n",
    "FP_EVALUATION_IDS = os.path.join(DATA_DIR,\"evaluation_ids.csv\")\n",
    "\n",
    "VERBOSE = 0"
   ]
  },
  {
   "cell_type": "code",
   "execution_count": 24,
   "id": "48135945-7d73-48a6-b3ee-57f9fe66646d",
   "metadata": {
    "execution": {
     "iopub.execute_input": "2022-11-15T17:56:11.160665Z",
     "iopub.status.busy": "2022-11-15T17:56:11.159795Z",
     "iopub.status.idle": "2022-11-15T17:56:17.250600Z",
     "shell.execute_reply": "2022-11-15T17:56:17.249937Z",
     "shell.execute_reply.started": "2022-11-15T17:56:11.160626Z"
    },
    "tags": []
   },
   "outputs": [],
   "source": [
    "with open('../input/targets-multiome-sparse-scaled/train_Citeseq_truncated_512.pkl','rb') as f: X = pickle.load(f)\n",
    "with open('../input/targets-multiome-sparse-scaled/test_Citeseq_truncated_512.pkl','rb') as f: Xt = pickle.load(f)\n",
    "\n",
    "X.shape, Xt.shape\n",
    "\n",
    "Y = pd.read_hdf(FP_CITE_TRAIN_TARGETS)\n",
    "#Y = Y.loc[meta.day == 3]\n",
    "Y = Y.values\n",
    "Y -= Y.mean(axis=1).reshape(-1, 1)\n",
    "Y /= Y.std(axis=1).reshape(-1, 1)\n",
    "Y.shape\n",
    "\n",
    "X0 = np.genfromtxt('./sparse/X0.csv',delimiter=',')\n",
    "\n",
    "X = np.hstack((X[:,:75],X0))\n",
    "X.shape\n",
    "X_copy = X.copy()\n",
    "Y_copy = Y.copy()"
   ]
  },
  {
   "cell_type": "code",
   "execution_count": 69,
   "id": "f82bcf87-0005-4ccb-99de-195a89d7809b",
   "metadata": {
    "execution": {
     "iopub.execute_input": "2022-11-10T19:53:22.456879Z",
     "iopub.status.busy": "2022-11-10T19:53:22.456496Z",
     "iopub.status.idle": "2022-11-10T19:53:22.762171Z",
     "shell.execute_reply": "2022-11-10T19:53:22.761525Z",
     "shell.execute_reply.started": "2022-11-10T19:53:22.456855Z"
    },
    "tags": []
   },
   "outputs": [],
   "source": [
    "with np.load('./sparse/train_cite_inputs_idxcol.npz',allow_pickle=True) as data:\n",
    "    cell_index = data['index']\n",
    "with np.load('./sparse/test_cite_inputs_idxcol.npz',allow_pickle=True) as data:\n",
    "    cell_index_t = data['index']\n",
    "metadata_df = pd.read_csv('../input/open-problems-multimodal/metadata.csv', index_col='cell_id')\n",
    "metadata_df = metadata_df[metadata_df.technology==\"citeseq\"]\n",
    "meta = metadata_df.reindex(cell_index)\n",
    "meta['range'] = range(len(meta))\n",
    "selector = {}\n",
    "for i in (2,3,4):\n",
    "    for j in (32606,13176,31800):\n",
    "        selector[(i,j)] = meta.loc[(meta.day == i)&(meta.donor == j)].range.values"
   ]
  },
  {
   "cell_type": "code",
   "execution_count": 32,
   "id": "1cf6c9ad-d7f5-43a5-91a8-69b34d2316c6",
   "metadata": {
    "execution": {
     "iopub.execute_input": "2022-11-07T21:00:49.717045Z",
     "iopub.status.busy": "2022-11-07T21:00:49.716670Z",
     "iopub.status.idle": "2022-11-07T21:00:50.526103Z",
     "shell.execute_reply": "2022-11-07T21:00:50.525248Z",
     "shell.execute_reply.started": "2022-11-07T21:00:49.717022Z"
    }
   },
   "outputs": [],
   "source": [
    "%mkdir cite_model_saves"
   ]
  },
  {
   "cell_type": "code",
   "execution_count": 97,
   "id": "50163ed9-bbad-4de0-a67a-22fff071d5c0",
   "metadata": {
    "execution": {
     "iopub.execute_input": "2022-11-07T23:14:17.344940Z",
     "iopub.status.busy": "2022-11-07T23:14:17.344555Z",
     "iopub.status.idle": "2022-11-08T00:03:24.422172Z",
     "shell.execute_reply": "2022-11-08T00:03:24.421559Z",
     "shell.execute_reply.started": "2022-11-07T23:14:17.344916Z"
    },
    "tags": []
   },
   "outputs": [
    {
     "name": "stdout",
     "output_type": "stream",
     "text": [
      "39/39 [==============================] - 0s 2ms/step\n",
      "\n",
      " --------- FOLD 0 -----------\n",
      "Correlation = 0.89564\n",
      "model saved : ./cite_model_saves/model_2_32606_0\n",
      "39/39 [==============================] - 0s 2ms/step\n",
      "\n",
      " --------- FOLD 1 -----------\n",
      "Correlation = 0.89661\n",
      "model saved : ./cite_model_saves/model_2_32606_1\n",
      "39/39 [==============================] - 0s 2ms/step\n",
      "\n",
      " --------- FOLD 2 -----------\n",
      "Correlation = 0.89761\n",
      "model saved : ./cite_model_saves/model_2_32606_2\n",
      "39/39 [==============================] - 0s 2ms/step\n",
      "\n",
      " --------- FOLD 3 -----------\n",
      "Correlation = 0.89727\n",
      "model saved : ./cite_model_saves/model_2_32606_3\n",
      "39/39 [==============================] - 0s 2ms/step\n",
      "\n",
      " --------- FOLD 4 -----------\n",
      "Correlation = 0.89897\n",
      "model saved : ./cite_model_saves/model_2_32606_4\n",
      "39/39 [==============================] - 0s 2ms/step\n",
      "\n",
      " --------- FOLD 5 -----------\n",
      "Correlation = 0.89786\n",
      "model saved : ./cite_model_saves/model_2_32606_5\n",
      "\u001b[32m\u001b[1mMean corr = 0.89733\u001b[0m\n",
      "32/32 [==============================] - 0s 2ms/step\n",
      "\n",
      " --------- FOLD 0 -----------\n",
      "Correlation = 0.90416\n",
      "model saved : ./cite_model_saves/model_2_13176_0\n",
      "32/32 [==============================] - 0s 2ms/step\n",
      "\n",
      " --------- FOLD 1 -----------\n",
      "Correlation = 0.90508\n",
      "model saved : ./cite_model_saves/model_2_13176_1\n",
      "32/32 [==============================] - 0s 2ms/step\n",
      "\n",
      " --------- FOLD 2 -----------\n",
      "Correlation = 0.90648\n",
      "model saved : ./cite_model_saves/model_2_13176_2\n",
      "32/32 [==============================] - 0s 2ms/step\n",
      "\n",
      " --------- FOLD 3 -----------\n",
      "Correlation = 0.90060\n",
      "model saved : ./cite_model_saves/model_2_13176_3\n",
      "32/32 [==============================] - 0s 2ms/step\n",
      "\n",
      " --------- FOLD 4 -----------\n",
      "Correlation = 0.90907\n",
      "model saved : ./cite_model_saves/model_2_13176_4\n",
      "32/32 [==============================] - 0s 2ms/step\n",
      "\n",
      " --------- FOLD 5 -----------\n",
      "Correlation = 0.90447\n",
      "model saved : ./cite_model_saves/model_2_13176_5\n",
      "\u001b[32m\u001b[1mMean corr = 0.90498\u001b[0m\n",
      "44/44 [==============================] - 0s 2ms/step\n",
      "\n",
      " --------- FOLD 0 -----------\n",
      "Correlation = 0.90768\n",
      "model saved : ./cite_model_saves/model_2_31800_0\n",
      "44/44 [==============================] - 0s 2ms/step\n",
      "\n",
      " --------- FOLD 1 -----------\n",
      "Correlation = 0.90793\n",
      "model saved : ./cite_model_saves/model_2_31800_1\n",
      "44/44 [==============================] - 0s 2ms/step\n",
      "\n",
      " --------- FOLD 2 -----------\n",
      "Correlation = 0.90850\n",
      "model saved : ./cite_model_saves/model_2_31800_2\n",
      "44/44 [==============================] - 0s 2ms/step\n",
      "\n",
      " --------- FOLD 3 -----------\n",
      "Correlation = 0.90654\n",
      "model saved : ./cite_model_saves/model_2_31800_3\n",
      "44/44 [==============================] - 0s 2ms/step\n",
      "\n",
      " --------- FOLD 4 -----------\n",
      "Correlation = 0.90461\n",
      "model saved : ./cite_model_saves/model_2_31800_4\n",
      "44/44 [==============================] - 0s 2ms/step\n",
      "\n",
      " --------- FOLD 5 -----------\n",
      "Correlation = 0.90366\n",
      "model saved : ./cite_model_saves/model_2_31800_5\n",
      "\u001b[32m\u001b[1mMean corr = 0.90649\u001b[0m\n",
      "37/37 [==============================] - 0s 2ms/step\n",
      "\n",
      " --------- FOLD 0 -----------\n",
      "Correlation = 0.90849\n",
      "model saved : ./cite_model_saves/model_3_32606_0\n",
      "37/37 [==============================] - 0s 2ms/step\n",
      "\n",
      " --------- FOLD 1 -----------\n",
      "Correlation = 0.91204\n",
      "model saved : ./cite_model_saves/model_3_32606_1\n",
      "37/37 [==============================] - 0s 2ms/step\n",
      "\n",
      " --------- FOLD 2 -----------\n",
      "Correlation = 0.91126\n",
      "model saved : ./cite_model_saves/model_3_32606_2\n",
      "37/37 [==============================] - 0s 2ms/step\n",
      "\n",
      " --------- FOLD 3 -----------\n",
      "Correlation = 0.91523\n",
      "model saved : ./cite_model_saves/model_3_32606_3\n",
      "37/37 [==============================] - 0s 2ms/step\n",
      "\n",
      " --------- FOLD 4 -----------\n",
      "Correlation = 0.91036\n",
      "model saved : ./cite_model_saves/model_3_32606_4\n",
      "37/37 [==============================] - 0s 2ms/step\n",
      "\n",
      " --------- FOLD 5 -----------\n",
      "Correlation = 0.91231\n",
      "model saved : ./cite_model_saves/model_3_32606_5\n",
      "\u001b[32m\u001b[1mMean corr = 0.91162\u001b[0m\n",
      "40/40 [==============================] - 0s 2ms/step\n",
      "\n",
      " --------- FOLD 0 -----------\n",
      "Correlation = 0.90092\n",
      "model saved : ./cite_model_saves/model_3_13176_0\n",
      "40/40 [==============================] - 0s 2ms/step\n",
      "\n",
      " --------- FOLD 1 -----------\n",
      "Correlation = 0.90022\n",
      "model saved : ./cite_model_saves/model_3_13176_1\n",
      "40/40 [==============================] - 0s 2ms/step\n",
      "\n",
      " --------- FOLD 2 -----------\n",
      "Correlation = 0.90028\n",
      "model saved : ./cite_model_saves/model_3_13176_2\n",
      "40/40 [==============================] - 0s 2ms/step\n",
      "\n",
      " --------- FOLD 3 -----------\n",
      "Correlation = 0.90253\n",
      "model saved : ./cite_model_saves/model_3_13176_3\n",
      "40/40 [==============================] - 0s 2ms/step\n",
      "\n",
      " --------- FOLD 4 -----------\n",
      "Correlation = 0.90115\n",
      "model saved : ./cite_model_saves/model_3_13176_4\n",
      "40/40 [==============================] - 0s 2ms/step\n",
      "\n",
      " --------- FOLD 5 -----------\n",
      "Correlation = 0.89740\n",
      "model saved : ./cite_model_saves/model_3_13176_5\n",
      "\u001b[32m\u001b[1mMean corr = 0.90042\u001b[0m\n",
      "33/33 [==============================] - 0s 2ms/step\n",
      "\n",
      " --------- FOLD 0 -----------\n",
      "Correlation = 0.90764\n",
      "model saved : ./cite_model_saves/model_3_31800_0\n",
      "33/33 [==============================] - 0s 2ms/step\n",
      "\n",
      " --------- FOLD 1 -----------\n",
      "Correlation = 0.90695\n",
      "model saved : ./cite_model_saves/model_3_31800_1\n",
      "33/33 [==============================] - 0s 2ms/step\n",
      "\n",
      " --------- FOLD 2 -----------\n",
      "Correlation = 0.90665\n",
      "model saved : ./cite_model_saves/model_3_31800_2\n",
      "33/33 [==============================] - 0s 2ms/step\n",
      "\n",
      " --------- FOLD 3 -----------\n",
      "Correlation = 0.90869\n",
      "model saved : ./cite_model_saves/model_3_31800_3\n",
      "33/33 [==============================] - 0s 2ms/step\n",
      "\n",
      " --------- FOLD 4 -----------\n",
      "Correlation = 0.90693\n",
      "model saved : ./cite_model_saves/model_3_31800_4\n",
      "33/33 [==============================] - 0s 2ms/step\n",
      "\n",
      " --------- FOLD 5 -----------\n",
      "Correlation = 0.90705\n",
      "model saved : ./cite_model_saves/model_3_31800_5\n",
      "\u001b[32m\u001b[1mMean corr = 0.90732\u001b[0m\n",
      "50/50 [==============================] - 0s 2ms/step\n",
      "\n",
      " --------- FOLD 0 -----------\n",
      "Correlation = 0.90249\n",
      "model saved : ./cite_model_saves/model_4_32606_0\n",
      "50/50 [==============================] - 0s 2ms/step\n",
      "\n",
      " --------- FOLD 1 -----------\n",
      "Correlation = 0.90184\n",
      "model saved : ./cite_model_saves/model_4_32606_1\n",
      "50/50 [==============================] - 0s 2ms/step\n",
      "\n",
      " --------- FOLD 2 -----------\n",
      "Correlation = 0.90381\n",
      "model saved : ./cite_model_saves/model_4_32606_2\n",
      "50/50 [==============================] - 0s 2ms/step\n",
      "\n",
      " --------- FOLD 3 -----------\n",
      "Correlation = 0.90330\n",
      "model saved : ./cite_model_saves/model_4_32606_3\n",
      "50/50 [==============================] - 0s 2ms/step\n",
      "\n",
      " --------- FOLD 4 -----------\n",
      "Correlation = 0.90095\n",
      "model saved : ./cite_model_saves/model_4_32606_4\n",
      "50/50 [==============================] - 0s 2ms/step\n",
      "\n",
      " --------- FOLD 5 -----------\n",
      "Correlation = 0.90351\n",
      "model saved : ./cite_model_saves/model_4_32606_5\n",
      "\u001b[32m\u001b[1mMean corr = 0.90265\u001b[0m\n",
      "45/45 [==============================] - 0s 2ms/step\n",
      "\n",
      " --------- FOLD 0 -----------\n",
      "Correlation = 0.90198\n",
      "model saved : ./cite_model_saves/model_4_13176_0\n",
      "45/45 [==============================] - 0s 2ms/step\n",
      "\n",
      " --------- FOLD 1 -----------\n",
      "Correlation = 0.90536\n",
      "model saved : ./cite_model_saves/model_4_13176_1\n",
      "45/45 [==============================] - 0s 2ms/step\n",
      "\n",
      " --------- FOLD 2 -----------\n",
      "Correlation = 0.90711\n",
      "model saved : ./cite_model_saves/model_4_13176_2\n",
      "45/45 [==============================] - 0s 2ms/step\n",
      "\n",
      " --------- FOLD 3 -----------\n",
      "Correlation = 0.90599\n",
      "model saved : ./cite_model_saves/model_4_13176_3\n",
      "45/45 [==============================] - 0s 2ms/step\n",
      "\n",
      " --------- FOLD 4 -----------\n",
      "Correlation = 0.90366\n",
      "model saved : ./cite_model_saves/model_4_13176_4\n",
      "45/45 [==============================] - 0s 2ms/step\n",
      "\n",
      " --------- FOLD 5 -----------\n",
      "Correlation = 0.90344\n",
      "model saved : ./cite_model_saves/model_4_13176_5\n",
      "\u001b[32m\u001b[1mMean corr = 0.90459\u001b[0m\n",
      "53/53 [==============================] - 0s 2ms/step\n",
      "\n",
      " --------- FOLD 0 -----------\n",
      "Correlation = 0.88471\n",
      "model saved : ./cite_model_saves/model_4_31800_0\n",
      "53/53 [==============================] - 0s 2ms/step\n",
      "\n",
      " --------- FOLD 1 -----------\n",
      "Correlation = 0.88631\n",
      "model saved : ./cite_model_saves/model_4_31800_1\n",
      "53/53 [==============================] - 0s 2ms/step\n",
      "\n",
      " --------- FOLD 2 -----------\n",
      "Correlation = 0.88295\n",
      "model saved : ./cite_model_saves/model_4_31800_2\n",
      "53/53 [==============================] - 0s 2ms/step\n",
      "\n",
      " --------- FOLD 3 -----------\n",
      "Correlation = 0.88197\n",
      "model saved : ./cite_model_saves/model_4_31800_3\n",
      "53/53 [==============================] - 0s 2ms/step\n",
      "\n",
      " --------- FOLD 4 -----------\n",
      "Correlation = 0.88237\n",
      "model saved : ./cite_model_saves/model_4_31800_4\n",
      "53/53 [==============================] - 0s 2ms/step\n",
      "\n",
      " --------- FOLD 5 -----------\n",
      "Correlation = 0.88351\n",
      "model saved : ./cite_model_saves/model_4_31800_5\n",
      "\u001b[32m\u001b[1mMean corr = 0.88364\u001b[0m\n"
     ]
    }
   ],
   "source": [
    "for (i,j) in selector.keys():\n",
    "    Y = Y_copy.copy()\n",
    "    X = X_copy.copy()\n",
    "    Y = Y[selector[(i,j)]]\n",
    "    X = X[selector[(i,j)]]\n",
    "    evaluate(i,j,loss=True)"
   ]
  },
  {
   "cell_type": "code",
   "execution_count": 40,
   "id": "38170324-5536-4e95-bbfa-af443aabb46e",
   "metadata": {
    "execution": {
     "iopub.execute_input": "2022-11-07T21:06:13.431034Z",
     "iopub.status.busy": "2022-11-07T21:06:13.430650Z",
     "iopub.status.idle": "2022-11-07T21:31:16.641377Z",
     "shell.execute_reply": "2022-11-07T21:31:16.640732Z",
     "shell.execute_reply.started": "2022-11-07T21:06:13.431009Z"
    },
    "tags": []
   },
   "outputs": [
    {
     "name": "stdout",
     "output_type": "stream",
     "text": [
      "229/229 [==============================] - 1s 2ms/step\n",
      "\n",
      " --------- FOLD 0 -----------\n",
      "Correlation = 0.89498\n",
      "model saved : ./cite_model_saves/model_2_0\n",
      "229/229 [==============================] - 1s 2ms/step\n",
      "\n",
      " --------- FOLD 1 -----------\n",
      "Correlation = 0.89356\n",
      "model saved : ./cite_model_saves/model_2_1\n",
      "229/229 [==============================] - 1s 2ms/step\n",
      "\n",
      " --------- FOLD 2 -----------\n",
      "Correlation = 0.90643\n",
      "model saved : ./cite_model_saves/model_2_2\n",
      "\u001b[32m\u001b[1mMean corr = 0.89832\u001b[0m\n",
      "\u001b[31m\u001b[1mMean pca corr = nan\u001b[0m\n"
     ]
    },
    {
     "name": "stderr",
     "output_type": "stream",
     "text": [
      "/tmp/ipykernel_31795/356870330.py:80: RuntimeWarning: Mean of empty slice.\n",
      "  print(f\"{Fore.RED}{Style.BRIGHT}Mean pca corr = {np.array(pca_scores).mean():.5f}{Style.RESET_ALL}\")\n",
      "/srv/conda/envs/saturn/lib/python3.9/site-packages/numpy/core/_methods.py:190: RuntimeWarning: invalid value encountered in double_scalars\n",
      "  ret = ret.dtype.type(ret / rcount)\n"
     ]
    },
    {
     "name": "stdout",
     "output_type": "stream",
     "text": [
      "218/218 [==============================] - 1s 2ms/step\n",
      "\n",
      " --------- FOLD 0 -----------\n",
      "Correlation = 0.90555\n",
      "model saved : ./cite_model_saves/model_3_0\n",
      "218/218 [==============================] - 1s 2ms/step\n",
      "\n",
      " --------- FOLD 1 -----------\n",
      "Correlation = 0.90089\n",
      "model saved : ./cite_model_saves/model_3_1\n",
      "218/218 [==============================] - 1s 2ms/step\n",
      "\n",
      " --------- FOLD 2 -----------\n",
      "Correlation = 0.90134\n",
      "model saved : ./cite_model_saves/model_3_2\n",
      "\u001b[32m\u001b[1mMean corr = 0.90259\u001b[0m\n",
      "\u001b[31m\u001b[1mMean pca corr = nan\u001b[0m\n"
     ]
    },
    {
     "name": "stderr",
     "output_type": "stream",
     "text": [
      "/tmp/ipykernel_31795/356870330.py:80: RuntimeWarning: Mean of empty slice.\n",
      "  print(f\"{Fore.RED}{Style.BRIGHT}Mean pca corr = {np.array(pca_scores).mean():.5f}{Style.RESET_ALL}\")\n",
      "/srv/conda/envs/saturn/lib/python3.9/site-packages/numpy/core/_methods.py:190: RuntimeWarning: invalid value encountered in double_scalars\n",
      "  ret = ret.dtype.type(ret / rcount)\n"
     ]
    },
    {
     "name": "stdout",
     "output_type": "stream",
     "text": [
      "294/294 [==============================] - 1s 2ms/step\n",
      "\n",
      " --------- FOLD 0 -----------\n",
      "Correlation = 0.89923\n",
      "model saved : ./cite_model_saves/model_4_0\n",
      "294/294 [==============================] - 1s 2ms/step\n",
      "\n",
      " --------- FOLD 1 -----------\n",
      "Correlation = 0.89547\n",
      "model saved : ./cite_model_saves/model_4_1\n",
      "294/294 [==============================] - 1s 2ms/step\n",
      "\n",
      " --------- FOLD 2 -----------\n",
      "Correlation = 0.88281\n",
      "model saved : ./cite_model_saves/model_4_2\n",
      "\u001b[32m\u001b[1mMean corr = 0.89250\u001b[0m\n",
      "\u001b[31m\u001b[1mMean pca corr = nan\u001b[0m\n"
     ]
    },
    {
     "name": "stderr",
     "output_type": "stream",
     "text": [
      "/tmp/ipykernel_31795/356870330.py:80: RuntimeWarning: Mean of empty slice.\n",
      "  print(f\"{Fore.RED}{Style.BRIGHT}Mean pca corr = {np.array(pca_scores).mean():.5f}{Style.RESET_ALL}\")\n",
      "/srv/conda/envs/saturn/lib/python3.9/site-packages/numpy/core/_methods.py:190: RuntimeWarning: invalid value encountered in double_scalars\n",
      "  ret = ret.dtype.type(ret / rcount)\n"
     ]
    }
   ],
   "source": [
    "for i in selector.keys():\n",
    "    Y = Y_copy.copy()\n",
    "    X = X_copy.copy()\n",
    "    Y = Y[selector[i]]\n",
    "    X = X[selector[i]]\n",
    "    evaluate(i,0,loss=True)"
   ]
  },
  {
   "cell_type": "code",
   "execution_count": 25,
   "id": "7ad4896b-f1d8-4402-af11-4e3ffe5fe1dc",
   "metadata": {
    "execution": {
     "iopub.execute_input": "2022-11-15T23:48:36.880848Z",
     "iopub.status.busy": "2022-11-15T23:48:36.880448Z",
     "iopub.status.idle": "2022-11-15T23:48:37.168323Z",
     "shell.execute_reply": "2022-11-15T23:48:37.167661Z",
     "shell.execute_reply.started": "2022-11-15T23:48:36.880824Z"
    },
    "tags": []
   },
   "outputs": [],
   "source": [
    "with np.load('./sparse/test_cite_inputs_idxcol.npz',allow_pickle=True) as data:\n",
    "    cell_index_t = data['index']\n",
    "metadata_df = pd.read_csv('../input/open-problems-multimodal/metadata.csv', index_col='cell_id')\n",
    "metadata_df = metadata_df[metadata_df.technology==\"citeseq\"]\n",
    "meta_t = metadata_df.reindex(cell_index_t)\n",
    "meta_t['range'] = range(len(meta_t))\n",
    "selector_t = {}\n",
    "for i in (2,3,4,7):\n",
    "    for j in (27678,32606,13176,31800):\n",
    "        if len(meta_t.loc[(meta_t.day == i)&(meta_t.donor == j)].range) != 0:\n",
    "            selector_t[(i,j)] = meta_t.loc[(meta_t.day == i)&(meta_t.donor == j)].range.values"
   ]
  },
  {
   "cell_type": "code",
   "execution_count": 12,
   "id": "c465e7f9-9669-4dce-9c88-784f45b52560",
   "metadata": {
    "execution": {
     "iopub.execute_input": "2022-11-15T23:40:52.286267Z",
     "iopub.status.busy": "2022-11-15T23:40:52.285883Z",
     "iopub.status.idle": "2022-11-15T23:41:10.215102Z",
     "shell.execute_reply": "2022-11-15T23:41:10.214482Z",
     "shell.execute_reply.started": "2022-11-15T23:40:52.286244Z"
    },
    "tags": []
   },
   "outputs": [],
   "source": [
    "Xt = pd.read_hdf(FP_CITE_TEST_INPUTS).drop(columns = constant_cols)\n",
    "X0t = Xt[important_cols].values\n",
    "Xt_also = Xt.values[:,np.genfromtxt('./sparse/also_important.csv').astype(int)]\n",
    "with open('../input/targets-multiome-sparse-scaled/test_Citeseq_truncated_512.pkl','rb') as f: \n",
    "    Xt = pickle.load(f)\n",
    "Xt_copy = np.hstack([Xt[:,:75],X0t,Xt_also]).copy()\n",
    "Xt_copy_no_also = np.hstack([Xt[:,:75],X0t]).copy()"
   ]
  },
  {
   "cell_type": "code",
   "execution_count": 27,
   "id": "085e29f4-5a92-40e4-85d0-76961c04fe65",
   "metadata": {
    "execution": {
     "iopub.execute_input": "2022-11-15T23:49:47.588046Z",
     "iopub.status.busy": "2022-11-15T23:49:47.587622Z",
     "iopub.status.idle": "2022-11-15T23:50:29.132000Z",
     "shell.execute_reply": "2022-11-15T23:50:29.131372Z",
     "shell.execute_reply.started": "2022-11-15T23:49:47.588020Z"
    },
    "tags": []
   },
   "outputs": [
    {
     "name": "stdout",
     "output_type": "stream",
     "text": [
      "234/234 [==============================] - 0s 2ms/step\n",
      "234/234 [==============================] - 0s 2ms/step\n",
      "234/234 [==============================] - 0s 2ms/step\n",
      "234/234 [==============================] - 0s 2ms/step\n",
      "234/234 [==============================] - 0s 2ms/step\n",
      "234/234 [==============================] - 0s 2ms/step\n",
      "203/203 [==============================] - 0s 2ms/step\n",
      "203/203 [==============================] - 0s 2ms/step\n",
      "203/203 [==============================] - 0s 2ms/step\n",
      "203/203 [==============================] - 0s 2ms/step\n",
      "203/203 [==============================] - 0s 2ms/step\n",
      "203/203 [==============================] - 0s 2ms/step\n",
      "245/245 [==============================] - 1s 2ms/step\n",
      "245/245 [==============================] - 0s 2ms/step\n",
      "245/245 [==============================] - 0s 2ms/step\n",
      "245/245 [==============================] - 0s 2ms/step\n",
      "245/245 [==============================] - 0s 2ms/step\n",
      "245/245 [==============================] - 0s 2ms/step\n",
      "196/196 [==============================] - 0s 2ms/step\n",
      "196/196 [==============================] - 0s 2ms/step\n",
      "196/196 [==============================] - 0s 2ms/step\n",
      "196/196 [==============================] - 0s 2ms/step\n",
      "196/196 [==============================] - 0s 2ms/step\n",
      "196/196 [==============================] - 0s 2ms/step\n",
      "227/227 [==============================] - 0s 2ms/step\n",
      "227/227 [==============================] - 0s 2ms/step\n",
      "227/227 [==============================] - 0s 2ms/step\n",
      "227/227 [==============================] - 0s 2ms/step\n",
      "227/227 [==============================] - 0s 2ms/step\n",
      "227/227 [==============================] - 0s 2ms/step\n",
      "225/225 [==============================] - 0s 2ms/step\n",
      "225/225 [==============================] - 0s 2ms/step\n",
      "225/225 [==============================] - 0s 2ms/step\n",
      "225/225 [==============================] - 0s 2ms/step\n",
      "225/225 [==============================] - 0s 2ms/step\n",
      "225/225 [==============================] - 0s 2ms/step\n",
      "193/193 [==============================] - 0s 2ms/step\n",
      "193/193 [==============================] - 0s 2ms/step\n",
      "193/193 [==============================] - 0s 2ms/step\n",
      "193/193 [==============================] - 0s 2ms/step\n",
      "193/193 [==============================] - 0s 2ms/step\n",
      "193/193 [==============================] - 0s 2ms/step\n"
     ]
    }
   ],
   "source": [
    "cite_Yt = np.zeros((len(Xt_copy),140), dtype=np.float32)\n",
    "donors = (32606,13176,31800)\n",
    "for (day,donor) in selector_t.keys():\n",
    "    if day != 7:\n",
    "        Xt = Xt_copy_no_also.copy()\n",
    "        Xt = Xt[selector_t[(day,donor)]]\n",
    "        for fold in range(6):\n",
    "            if ((fold < 3) & (day == 2)) | ((day == 4)):\n",
    "                Xt = Xt_copy.copy()\n",
    "                Xt = Xt[selector_t[(day,donor)]]\n",
    "            else:\n",
    "                Xt = Xt_copy_no_also.copy()\n",
    "                Xt = Xt[selector_t[(day,donor)]]\n",
    "            model = load_model(f\"./cite_model_saves/model_{day}_0_{fold}\",\n",
    "                custom_objects={'negative_correlation_loss': negative_correlation_loss})\n",
    "            cite_Yt[selector_t[(day,donor)]] += model.predict(Xt)\n",
    "    else:\n",
    "        Xt = Xt_copy.copy()\n",
    "        Xt = Xt[selector_t[(day,donor)]]\n",
    "        if donor != 27678:\n",
    "            for fold in range(6):\n",
    "                model = load_model(f\"./cite_model_saves/model_4_{donor}_{fold}\",\n",
    "                    custom_objects={'negative_correlation_loss': negative_correlation_loss})\n",
    "                cite_Yt[selector_t[(day,donor)]] += model.predict(Xt)\n",
    "        else:\n",
    "            for fold in range(6):\n",
    "                model = load_model(f\"./cite_model_saves/model_4_0_{fold}\",\n",
    "                    custom_objects={'negative_correlation_loss': negative_correlation_loss})\n",
    "                cite_Yt[selector_t[(day,donor)]] += model.predict(Xt)"
   ]
  },
  {
   "cell_type": "code",
   "execution_count": 137,
   "id": "78abd4a9-9ef8-492d-bb8a-665c0d512daa",
   "metadata": {
    "execution": {
     "iopub.execute_input": "2022-11-11T01:51:38.758961Z",
     "iopub.status.busy": "2022-11-11T01:51:38.758643Z",
     "iopub.status.idle": "2022-11-11T01:51:38.763865Z",
     "shell.execute_reply": "2022-11-11T01:51:38.763310Z",
     "shell.execute_reply.started": "2022-11-11T01:51:38.758940Z"
    }
   },
   "outputs": [
    {
     "data": {
      "text/plain": [
       "array([[-0.51777637, -0.46487558, -0.33567107, ..., -0.427882  ,\n",
       "         0.15172677,  0.10132688],\n",
       "       [-0.51045734, -0.44432193, -0.36475635, ..., -0.44055513,\n",
       "         0.34571588,  0.06937035],\n",
       "       [-0.46027523, -0.35060194, -0.22964999, ..., -0.45509803,\n",
       "         1.5931642 ,  0.14532624],\n",
       "       ...,\n",
       "       [-0.4636589 , -0.11520641, -0.23037633, ..., -0.37311217,\n",
       "        -0.38736936,  0.4176882 ],\n",
       "       [-0.6822199 , -0.5213702 , -0.28375062, ..., -0.617411  ,\n",
       "         2.1058443 ,  0.9846787 ],\n",
       "       [-0.6917645 , -0.45593023, -0.28095978, ..., -0.5912146 ,\n",
       "         2.2954025 ,  1.2324854 ]], dtype=float32)"
      ]
     },
     "execution_count": 137,
     "metadata": {},
     "output_type": "execute_result"
    }
   ],
   "source": [
    "cite_Yt"
   ]
  },
  {
   "cell_type": "code",
   "execution_count": 28,
   "id": "f93a8c74-d9df-4e4f-9819-b218cbcc6c20",
   "metadata": {
    "execution": {
     "iopub.execute_input": "2022-11-15T23:50:32.359941Z",
     "iopub.status.busy": "2022-11-15T23:50:32.359522Z",
     "iopub.status.idle": "2022-11-15T23:50:32.394059Z",
     "shell.execute_reply": "2022-11-15T23:50:32.393443Z",
     "shell.execute_reply.started": "2022-11-15T23:50:32.359914Z"
    },
    "tags": []
   },
   "outputs": [],
   "source": [
    "cite_Yt -= cite_Yt.mean(axis=1).reshape(-1, 1)\n",
    "cite_Yt /= cite_Yt.std(axis=1).reshape(-1, 1)"
   ]
  },
  {
   "cell_type": "code",
   "execution_count": 29,
   "id": "e00e09be-9fbf-4009-84c6-3053ff64bd29",
   "metadata": {
    "execution": {
     "iopub.execute_input": "2022-11-15T23:50:35.864706Z",
     "iopub.status.busy": "2022-11-15T23:50:35.864321Z",
     "iopub.status.idle": "2022-11-15T23:50:54.978202Z",
     "shell.execute_reply": "2022-11-15T23:50:54.977558Z",
     "shell.execute_reply.started": "2022-11-15T23:50:35.864682Z"
    },
    "tags": []
   },
   "outputs": [],
   "source": [
    "Xt = pd.read_hdf(FP_CITE_TEST_INPUTS).drop(columns = constant_cols)\n",
    "Xt = Xt.values\n",
    "all_corrs = np.load('./corrs/cite_all_corrs.npy')\n",
    "Xt = Xt[:,np.array(list(set(all_corrs.ravel())))]\n",
    "Xt_copy = Xt.copy()"
   ]
  },
  {
   "cell_type": "code",
   "execution_count": 30,
   "id": "12ac44ec-7ba9-4006-bed5-edf30909fc31",
   "metadata": {
    "execution": {
     "iopub.execute_input": "2022-11-15T23:50:54.979666Z",
     "iopub.status.busy": "2022-11-15T23:50:54.979365Z",
     "iopub.status.idle": "2022-11-15T23:51:49.004512Z",
     "shell.execute_reply": "2022-11-15T23:51:49.003881Z",
     "shell.execute_reply.started": "2022-11-15T23:50:54.979645Z"
    },
    "tags": []
   },
   "outputs": [
    {
     "name": "stdout",
     "output_type": "stream",
     "text": [
      "234/234 [==============================] - 1s 2ms/step\n",
      "234/234 [==============================] - 1s 2ms/step\n",
      "234/234 [==============================] - 1s 2ms/step\n",
      "234/234 [==============================] - 1s 2ms/step\n",
      "234/234 [==============================] - 1s 2ms/step\n",
      "234/234 [==============================] - 1s 2ms/step\n",
      "203/203 [==============================] - 1s 2ms/step\n",
      "203/203 [==============================] - 0s 2ms/step\n",
      "203/203 [==============================] - 1s 2ms/step\n",
      "203/203 [==============================] - 1s 2ms/step\n",
      "203/203 [==============================] - 1s 2ms/step\n",
      "203/203 [==============================] - 1s 2ms/step\n",
      "245/245 [==============================] - 1s 2ms/step\n",
      "245/245 [==============================] - 1s 2ms/step\n",
      "245/245 [==============================] - 1s 2ms/step\n",
      "245/245 [==============================] - 1s 2ms/step\n",
      "245/245 [==============================] - 1s 2ms/step\n",
      "245/245 [==============================] - 1s 2ms/step\n",
      "196/196 [==============================] - 0s 2ms/step\n",
      "196/196 [==============================] - 0s 2ms/step\n",
      "196/196 [==============================] - 0s 2ms/step\n",
      "196/196 [==============================] - 0s 2ms/step\n",
      "196/196 [==============================] - 1s 2ms/step\n",
      "196/196 [==============================] - 0s 2ms/step\n",
      "227/227 [==============================] - 1s 2ms/step\n",
      "227/227 [==============================] - 1s 2ms/step\n",
      "227/227 [==============================] - 1s 2ms/step\n",
      "227/227 [==============================] - 1s 2ms/step\n",
      "227/227 [==============================] - 1s 2ms/step\n",
      "227/227 [==============================] - 1s 2ms/step\n",
      "225/225 [==============================] - 1s 2ms/step\n",
      "225/225 [==============================] - 1s 2ms/step\n",
      "225/225 [==============================] - 1s 2ms/step\n",
      "225/225 [==============================] - 1s 2ms/step\n",
      "225/225 [==============================] - 1s 2ms/step\n",
      "225/225 [==============================] - 1s 2ms/step\n",
      "193/193 [==============================] - 0s 2ms/step\n",
      "193/193 [==============================] - 0s 2ms/step\n",
      "193/193 [==============================] - 0s 2ms/step\n",
      "193/193 [==============================] - 0s 2ms/step\n",
      "193/193 [==============================] - 0s 2ms/step\n",
      "193/193 [==============================] - 0s 2ms/step\n"
     ]
    }
   ],
   "source": [
    "cite_Yt_800 = np.zeros((len(Xt_copy),140), dtype=np.float32)\n",
    "donors = (32606,13176,31800)\n",
    "for (day,donor) in selector_t.keys():\n",
    "    Xt = Xt_copy.copy()\n",
    "    Xt = Xt[selector_t[(day,donor)]]\n",
    "    if day != 7:\n",
    "        for fold in range(6):\n",
    "            model = load_model(f\"./cite_model_saves/model_800_{day}_0_{fold}\",\n",
    "                custom_objects={'negative_correlation_loss': negative_correlation_loss})\n",
    "            cite_Yt_800[selector_t[(day,donor)]] += model.predict(Xt)\n",
    "    else:\n",
    "        if donor != 27678:\n",
    "            for fold in range(6):\n",
    "                model = load_model(f\"./cite_model_saves/model_800_4_{donor}_{fold}\",\n",
    "                    custom_objects={'negative_correlation_loss': negative_correlation_loss})\n",
    "                cite_Yt_800[selector_t[(day,donor)]] += model.predict(Xt)\n",
    "        else:\n",
    "            for fold in range(6):\n",
    "                model = load_model(f\"./cite_model_saves/model_800_4_0_{fold}\",\n",
    "                    custom_objects={'negative_correlation_loss': negative_correlation_loss})\n",
    "                cite_Yt_800[selector_t[(day,donor)]] += model.predict(Xt)"
   ]
  },
  {
   "cell_type": "code",
   "execution_count": 31,
   "id": "2b36277a-040f-44d2-a878-e6fecca5e583",
   "metadata": {
    "execution": {
     "iopub.execute_input": "2022-11-15T23:51:49.005745Z",
     "iopub.status.busy": "2022-11-15T23:51:49.005429Z",
     "iopub.status.idle": "2022-11-15T23:51:49.042204Z",
     "shell.execute_reply": "2022-11-15T23:51:49.041579Z",
     "shell.execute_reply.started": "2022-11-15T23:51:49.005723Z"
    },
    "tags": []
   },
   "outputs": [],
   "source": [
    "cite_Yt_800 -= cite_Yt_800.mean(axis=1).reshape(-1, 1)\n",
    "cite_Yt_800 /= cite_Yt_800.std(axis=1).reshape(-1, 1)"
   ]
  },
  {
   "cell_type": "code",
   "execution_count": 32,
   "id": "1502c74b-4957-4ade-b845-2315bef45a78",
   "metadata": {
    "execution": {
     "iopub.execute_input": "2022-11-15T23:51:49.043949Z",
     "iopub.status.busy": "2022-11-15T23:51:49.043425Z",
     "iopub.status.idle": "2022-11-15T23:51:49.063984Z",
     "shell.execute_reply": "2022-11-15T23:51:49.063301Z",
     "shell.execute_reply.started": "2022-11-15T23:51:49.043926Z"
    },
    "tags": []
   },
   "outputs": [],
   "source": [
    "cite_Yt = 0.8*cite_Yt + 0.2*cite_Yt_800"
   ]
  },
  {
   "cell_type": "code",
   "execution_count": 30,
   "id": "afd84a5f-d02e-4658-bea0-6ef98aae6495",
   "metadata": {
    "execution": {
     "iopub.execute_input": "2022-11-14T21:48:44.043404Z",
     "iopub.status.busy": "2022-11-14T21:48:44.043030Z",
     "iopub.status.idle": "2022-11-14T21:48:44.047360Z",
     "shell.execute_reply": "2022-11-14T21:48:44.046851Z",
     "shell.execute_reply.started": "2022-11-14T21:48:44.043381Z"
    },
    "tags": []
   },
   "outputs": [
    {
     "data": {
      "text/plain": [
       "(48663, 140)"
      ]
     },
     "execution_count": 30,
     "metadata": {},
     "output_type": "execute_result"
    }
   ],
   "source": [
    "cite_Yt.shape"
   ]
  },
  {
   "cell_type": "code",
   "execution_count": 31,
   "id": "e75a0a24-5249-45cf-8a97-087d9a881aa8",
   "metadata": {
    "execution": {
     "iopub.execute_input": "2022-11-14T21:48:45.419104Z",
     "iopub.status.busy": "2022-11-14T21:48:45.418794Z",
     "iopub.status.idle": "2022-11-14T21:48:45.422959Z",
     "shell.execute_reply": "2022-11-14T21:48:45.422464Z",
     "shell.execute_reply.started": "2022-11-14T21:48:45.419083Z"
    },
    "tags": []
   },
   "outputs": [
    {
     "data": {
      "text/plain": [
       "6812820"
      ]
     },
     "execution_count": 31,
     "metadata": {},
     "output_type": "execute_result"
    }
   ],
   "source": [
    "cite_Yt.shape[0]*cite_Yt.shape[1]"
   ]
  },
  {
   "cell_type": "code",
   "execution_count": 161,
   "id": "b59fbe5b-4217-42c0-a9b7-c1e8fc96f9cb",
   "metadata": {
    "execution": {
     "iopub.execute_input": "2022-11-08T21:49:34.085927Z",
     "iopub.status.busy": "2022-11-08T21:49:34.085520Z",
     "iopub.status.idle": "2022-11-08T21:49:34.089892Z",
     "shell.execute_reply": "2022-11-08T21:49:34.089385Z",
     "shell.execute_reply.started": "2022-11-08T21:49:34.085902Z"
    },
    "tags": []
   },
   "outputs": [
    {
     "data": {
      "text/plain": [
       "(65744181, 2)"
      ]
     },
     "execution_count": 161,
     "metadata": {},
     "output_type": "execute_result"
    }
   ],
   "source": [
    "submission.shape"
   ]
  },
  {
   "cell_type": "code",
   "execution_count": 164,
   "id": "da2d9056-4331-43a0-aae2-eb7eba566e6f",
   "metadata": {
    "execution": {
     "iopub.execute_input": "2022-11-08T21:51:32.615820Z",
     "iopub.status.busy": "2022-11-08T21:51:32.615433Z",
     "iopub.status.idle": "2022-11-08T21:51:33.168042Z",
     "shell.execute_reply": "2022-11-08T21:51:33.167423Z",
     "shell.execute_reply.started": "2022-11-08T21:51:32.615796Z"
    },
    "tags": []
   },
   "outputs": [],
   "source": [
    "np.save('submission.npy',submission[1:])"
   ]
  },
  {
   "cell_type": "code",
   "execution_count": 144,
   "id": "f3db4695-d378-4247-ac1f-b89f285ca549",
   "metadata": {
    "execution": {
     "iopub.execute_input": "2022-11-11T01:53:15.217846Z",
     "iopub.status.busy": "2022-11-11T01:53:15.217606Z",
     "iopub.status.idle": "2022-11-11T01:53:15.576351Z",
     "shell.execute_reply": "2022-11-11T01:53:15.575682Z",
     "shell.execute_reply.started": "2022-11-11T01:53:15.217826Z"
    },
    "tags": []
   },
   "outputs": [],
   "source": [
    "submission = np.load('submission.npy')"
   ]
  },
  {
   "cell_type": "code",
   "execution_count": 145,
   "id": "fd846ced-c5a4-4de8-aa79-090d3374ff99",
   "metadata": {
    "execution": {
     "iopub.execute_input": "2022-11-11T01:53:15.577651Z",
     "iopub.status.busy": "2022-11-11T01:53:15.577220Z",
     "iopub.status.idle": "2022-11-11T01:53:15.580934Z",
     "shell.execute_reply": "2022-11-11T01:53:15.580334Z",
     "shell.execute_reply.started": "2022-11-11T01:53:15.577629Z"
    },
    "tags": []
   },
   "outputs": [],
   "source": [
    "submission = pd.Series(submission[:,1])"
   ]
  },
  {
   "cell_type": "code",
   "execution_count": 146,
   "id": "eac02a73-30d9-4c75-94fc-79998821f64d",
   "metadata": {
    "execution": {
     "iopub.execute_input": "2022-11-11T01:53:15.581923Z",
     "iopub.status.busy": "2022-11-11T01:53:15.581681Z",
     "iopub.status.idle": "2022-11-11T01:53:15.598305Z",
     "shell.execute_reply": "2022-11-11T01:53:15.597685Z",
     "shell.execute_reply.started": "2022-11-11T01:53:15.581905Z"
    },
    "tags": []
   },
   "outputs": [],
   "source": [
    "submission.iloc[:cite_Yt.shape[0]*cite_Yt.shape[1]] = cite_Yt.ravel()"
   ]
  },
  {
   "cell_type": "code",
   "execution_count": 147,
   "id": "a5467f4f-5b8d-4fb6-85c1-b9c33b9d748f",
   "metadata": {
    "execution": {
     "iopub.execute_input": "2022-11-11T01:53:15.599548Z",
     "iopub.status.busy": "2022-11-11T01:53:15.599108Z",
     "iopub.status.idle": "2022-11-11T01:53:15.815361Z",
     "shell.execute_reply": "2022-11-11T01:53:15.814696Z",
     "shell.execute_reply.started": "2022-11-11T01:53:15.599528Z"
    },
    "tags": []
   },
   "outputs": [],
   "source": [
    "submission[cite_Yt.shape[0]*cite_Yt.shape[1]:] = 0"
   ]
  },
  {
   "cell_type": "code",
   "execution_count": null,
   "id": "55783310-6410-4f78-9fda-ac79c8ef5782",
   "metadata": {
    "execution": {
     "iopub.status.busy": "2022-11-11T01:35:36.919142Z",
     "iopub.status.idle": "2022-11-11T01:35:36.919535Z",
     "shell.execute_reply": "2022-11-11T01:35:36.919416Z",
     "shell.execute_reply.started": "2022-11-11T01:35:36.919404Z"
    },
    "tags": []
   },
   "outputs": [],
   "source": [
    "submission"
   ]
  },
  {
   "cell_type": "code",
   "execution_count": 148,
   "id": "93dd98b8-3b4f-474a-bb89-8f3f677c2be8",
   "metadata": {
    "execution": {
     "iopub.execute_input": "2022-11-11T01:53:15.816570Z",
     "iopub.status.busy": "2022-11-11T01:53:15.816230Z",
     "iopub.status.idle": "2022-11-11T01:53:15.819702Z",
     "shell.execute_reply": "2022-11-11T01:53:15.819124Z",
     "shell.execute_reply.started": "2022-11-11T01:53:15.816550Z"
    },
    "tags": []
   },
   "outputs": [],
   "source": [
    "submission.name = 'target'"
   ]
  },
  {
   "cell_type": "code",
   "execution_count": 149,
   "id": "bd3d539d-d4c5-4582-8742-65ef5d95f7f6",
   "metadata": {
    "execution": {
     "iopub.execute_input": "2022-11-11T01:53:15.821677Z",
     "iopub.status.busy": "2022-11-11T01:53:15.821328Z",
     "iopub.status.idle": "2022-11-11T01:53:17.157275Z",
     "shell.execute_reply": "2022-11-11T01:53:17.156586Z",
     "shell.execute_reply.started": "2022-11-11T01:53:15.821658Z"
    },
    "tags": []
   },
   "outputs": [],
   "source": [
    "submission = pd.DataFrame(submission).reset_index().rename(columns={'index':'row_id'}).set_index('row_id').squeeze()"
   ]
  },
  {
   "cell_type": "code",
   "execution_count": 150,
   "id": "374de3dd-3ec0-4bac-82e7-2bfbc984c75e",
   "metadata": {
    "execution": {
     "iopub.execute_input": "2022-11-11T01:53:17.158454Z",
     "iopub.status.busy": "2022-11-11T01:53:17.158149Z",
     "iopub.status.idle": "2022-11-11T01:54:45.942083Z",
     "shell.execute_reply": "2022-11-11T01:54:45.941287Z",
     "shell.execute_reply.started": "2022-11-11T01:53:17.158434Z"
    },
    "tags": []
   },
   "outputs": [],
   "source": [
    "submission.to_csv(\"cite_submission.csv\")"
   ]
  },
  {
   "cell_type": "code",
   "execution_count": 151,
   "id": "23a2d5f4-3e0b-47cf-a5fe-aaa60457426d",
   "metadata": {
    "execution": {
     "iopub.execute_input": "2022-11-11T01:54:45.943252Z",
     "iopub.status.busy": "2022-11-11T01:54:45.942955Z",
     "iopub.status.idle": "2022-11-11T01:54:49.416147Z",
     "shell.execute_reply": "2022-11-11T01:54:49.415192Z",
     "shell.execute_reply.started": "2022-11-11T01:54:45.943232Z"
    },
    "tags": []
   },
   "outputs": [],
   "source": [
    "%%capture\n",
    "import os\n",
    "!pip install kaggle\n",
    "os.environ['KAGGLE_USERNAME'] = 'alexroberts'\n",
    "os.environ['KAGGLE_KEY'] = 'eef5d3edec2428c7d4f14efcdb3f13ca'"
   ]
  },
  {
   "cell_type": "code",
   "execution_count": 152,
   "id": "14997639-3ceb-4dd8-b4b4-261f0e31f118",
   "metadata": {
    "execution": {
     "iopub.execute_input": "2022-11-11T01:54:49.418062Z",
     "iopub.status.busy": "2022-11-11T01:54:49.417614Z",
     "iopub.status.idle": "2022-11-11T01:56:57.431888Z",
     "shell.execute_reply": "2022-11-11T01:56:57.430948Z",
     "shell.execute_reply.started": "2022-11-11T01:54:49.418025Z"
    },
    "tags": []
   },
   "outputs": [
    {
     "name": "stdout",
     "output_type": "stream",
     "text": [
      "updating: cite_submission.csv (deflated 77%)\n",
      "100%|████████████████████████████████████████| 208M/208M [01:32<00:00, 2.36MB/s]\n",
      "Successfully submitted to Open Problems - Multimodal Single-Cell Integration"
     ]
    }
   ],
   "source": [
    "!zip cite_submission.zip cite_submission.csv\n",
    "!kaggle competitions submit -c open-problems-multimodal -f cite_submission.zip -m 'just cite'"
   ]
  },
  {
   "cell_type": "code",
   "execution_count": null,
   "id": "99214c01-b37e-4405-9448-0286772517ae",
   "metadata": {
    "execution": {
     "iopub.status.busy": "2022-11-15T23:35:58.936836Z",
     "iopub.status.idle": "2022-11-15T23:35:58.937179Z",
     "shell.execute_reply": "2022-11-15T23:35:58.937063Z",
     "shell.execute_reply.started": "2022-11-15T23:35:58.937050Z"
    },
    "tags": []
   },
   "outputs": [],
   "source": [
    "with np.load('./sparse/test_multi_inputs_idxcol.npz',allow_pickle=True) as data:\n",
    "    cell_index_t = data['index']\n",
    "metadata_df = pd.read_csv('../input/open-problems-multimodal/metadata.csv', index_col='cell_id')\n",
    "metadata_df = metadata_df[metadata_df.technology==\"multiome\"]\n",
    "meta_t = metadata_df.reindex(cell_index_t)\n",
    "meta_t['range'] = range(len(meta_t))\n",
    "selector_t = {}\n",
    "for i in (2,3,4,7,10):\n",
    "    for j in (27678,32606,13176,31800):\n",
    "        if len(meta_t.loc[(meta_t.day == i)&(meta_t.donor == j)].range.values) != 0:\n",
    "            selector_t[(i,j)] = meta_t.loc[(meta_t.day == i)&(meta_t.donor == j)].range.values"
   ]
  },
  {
   "cell_type": "code",
   "execution_count": null,
   "id": "6ef434a5-90df-49a3-9fba-894379119cc4",
   "metadata": {
    "execution": {
     "iopub.status.busy": "2022-11-15T23:35:58.937882Z",
     "iopub.status.idle": "2022-11-15T23:35:58.938122Z",
     "shell.execute_reply": "2022-11-15T23:35:58.938015Z",
     "shell.execute_reply.started": "2022-11-15T23:35:58.938003Z"
    },
    "tags": []
   },
   "outputs": [],
   "source": [
    "inputs_both_128 = np.load(\"./multi_pca/inputs_both_128.npy\")\n",
    "Xt_copy = inputs_both_128[105942:,:40]"
   ]
  },
  {
   "cell_type": "code",
   "execution_count": null,
   "id": "ea0bf909-5653-4e7c-a07e-47ddaf057ad9",
   "metadata": {
    "execution": {
     "iopub.status.busy": "2022-11-15T23:35:58.938885Z",
     "iopub.status.idle": "2022-11-15T23:35:58.939127Z",
     "shell.execute_reply": "2022-11-15T23:35:58.939019Z",
     "shell.execute_reply.started": "2022-11-15T23:35:58.939007Z"
    },
    "tags": []
   },
   "outputs": [],
   "source": [
    "donors = (32606,13176,31800)\n",
    "multi_Yt = np.zeros((len(Xt_copy),22858), dtype=np.float32)\n",
    "for (day,donor) in selector_t.keys():\n",
    "    Xt = Xt_copy.copy()\n",
    "    Xt = Xt[selector_t[(day,donor)]]\n",
    "    if day != 10:\n",
    "        svds = np.load(f\"./multi_model_saves/model_{day}_0_svds.npy\")\n",
    "        for fold in range(3):\n",
    "            model = load_model(f\"./multi_model_saves/model_{day}_0_{fold}\",\n",
    "                custom_objects={'negative_correlation_loss': negative_correlation_loss})\n",
    "            multi_Yt[selector_t[(day,donor)]] += model.predict(Xt)@svds\n",
    "    else:\n",
    "        if donor != 27678:\n",
    "            svds = np.load(f\"./multi_model_saves/model_7_{donor}_svds.npy\")\n",
    "            for fold in range(3):\n",
    "                model = load_model(f\"./multi_model_saves/model_7_{donor}_{fold}\",\n",
    "                    custom_objects={'negative_correlation_loss': negative_correlation_loss})\n",
    "                multi_Yt[selector_t[(day,donor)]] += model.predict(Xt)@svds\n",
    "        else:\n",
    "            svds = np.load(f\"./multi_model_saves/model_7_31800_svds.npy\")\n",
    "            for fold in range(3):\n",
    "                model = load_model(f\"./multi_model_saves/model_7_31800_{fold}\",\n",
    "                    custom_objects={'negative_correlation_loss': negative_correlation_loss})\n",
    "                multi_Yt[selector_t[(day,donor)]] += model.predict(Xt)@svds"
   ]
  },
  {
   "cell_type": "code",
   "execution_count": 7,
   "id": "e2fa2d03-3fac-4048-b509-c8b560d183aa",
   "metadata": {
    "execution": {
     "iopub.execute_input": "2022-11-15T23:35:59.107962Z",
     "iopub.status.busy": "2022-11-15T23:35:59.107662Z",
     "iopub.status.idle": "2022-11-15T23:35:59.124261Z",
     "shell.execute_reply": "2022-11-15T23:35:59.123734Z",
     "shell.execute_reply.started": "2022-11-15T23:35:59.107942Z"
    },
    "tags": []
   },
   "outputs": [],
   "source": [
    "from sklearn.cluster import KMeans"
   ]
  },
  {
   "cell_type": "code",
   "execution_count": 8,
   "id": "ae7d7c0a-abb6-4b5e-bae4-04a443c5f991",
   "metadata": {
    "execution": {
     "iopub.execute_input": "2022-11-15T23:36:04.270562Z",
     "iopub.status.busy": "2022-11-15T23:36:04.270174Z",
     "iopub.status.idle": "2022-11-15T23:36:04.619154Z",
     "shell.execute_reply": "2022-11-15T23:36:04.618563Z",
     "shell.execute_reply.started": "2022-11-15T23:36:04.270536Z"
    },
    "tags": []
   },
   "outputs": [
    {
     "name": "stderr",
     "output_type": "stream",
     "text": [
      "/tmp/ipykernel_4609/1966376291.py:9: SettingWithCopyWarning: \n",
      "A value is trying to be set on a copy of a slice from a DataFrame.\n",
      "Try using .loc[row_indexer,col_indexer] = value instead\n",
      "\n",
      "See the caveats in the documentation: https://pandas.pydata.org/pandas-docs/stable/user_guide/indexing.html#returning-a-view-versus-a-copy\n",
      "  meta_t_10['k_means'] = kmeans_all_labels[-len(meta_t_10):]\n"
     ]
    }
   ],
   "source": [
    "with np.load('./sparse/test_multi_inputs_idxcol.npz',allow_pickle=True) as data:\n",
    "    cell_index_t = data['index']\n",
    "metadata_df = pd.read_csv('../input/open-problems-multimodal/metadata.csv', index_col='cell_id')\n",
    "metadata_df = metadata_df[metadata_df.technology==\"multiome\"]\n",
    "meta_t = metadata_df.reindex(cell_index_t)\n",
    "meta_t['range'] = range(len(meta_t))\n",
    "meta_t_10 = meta_t.loc[(meta_t.day == 7)|(meta_t.day == 10)]\n",
    "kmeans_all_labels = np.load(f'./kmeans/late.npy')\n",
    "meta_t_10['k_means'] = kmeans_all_labels[-len(meta_t_10):]\n",
    "selector_t_10 = {}\n",
    "i = 10\n",
    "for j in (27678,32606,13176,31800):\n",
    "    for k in (0,1):\n",
    "        if len(meta_t_10.loc[(meta_t_10.day == i)&(meta_t_10.donor == j)&(meta_t_10.k_means == k)].range.values) != 0:\n",
    "            selector_t_10[(i,j,k)] = meta_t_10.loc[(meta_t_10.day == i)&(meta_t_10.donor == j)&(meta_t_10.k_means == k)].range.values\n",
    "\n",
    "selector_t = {}\n",
    "for i in (2,3,4,7,10):\n",
    "    for j in (27678,32606,13176,31800):\n",
    "        if len(meta_t.loc[(meta_t.day == i)&(meta_t.donor == j)].range.values) != 0:\n",
    "            selector_t[(i,j)] = meta_t.loc[(meta_t.day == i)&(meta_t.donor == j)].range.values"
   ]
  },
  {
   "cell_type": "code",
   "execution_count": 9,
   "id": "7bd9ad46-186a-46b4-850c-1d5b11331027",
   "metadata": {
    "execution": {
     "iopub.execute_input": "2022-11-15T23:36:07.639225Z",
     "iopub.status.busy": "2022-11-15T23:36:07.638840Z",
     "iopub.status.idle": "2022-11-15T23:36:07.717296Z",
     "shell.execute_reply": "2022-11-15T23:36:07.716581Z",
     "shell.execute_reply.started": "2022-11-15T23:36:07.639199Z"
    },
    "tags": []
   },
   "outputs": [
    {
     "ename": "OSError",
     "evalue": "No file or directory found at ./multi_model_saves/model_2_0_0",
     "output_type": "error",
     "traceback": [
      "\u001b[0;31m---------------------------------------------------------------------------\u001b[0m",
      "\u001b[0;31mOSError\u001b[0m                                   Traceback (most recent call last)",
      "Input \u001b[0;32mIn [9]\u001b[0m, in \u001b[0;36m<cell line: 3>\u001b[0;34m()\u001b[0m\n\u001b[1;32m      7\u001b[0m     svds \u001b[38;5;241m=\u001b[39m np\u001b[38;5;241m.\u001b[39mload(\u001b[38;5;124mf\u001b[39m\u001b[38;5;124m\"\u001b[39m\u001b[38;5;124m./multi_model_saves/model_\u001b[39m\u001b[38;5;132;01m{\u001b[39;00mday\u001b[38;5;132;01m}\u001b[39;00m\u001b[38;5;124m_0_svds.npy\u001b[39m\u001b[38;5;124m\"\u001b[39m)\n\u001b[1;32m      8\u001b[0m     \u001b[38;5;28;01mfor\u001b[39;00m fold \u001b[38;5;129;01min\u001b[39;00m \u001b[38;5;28mrange\u001b[39m(\u001b[38;5;241m3\u001b[39m):\n\u001b[0;32m----> 9\u001b[0m         model \u001b[38;5;241m=\u001b[39m \u001b[43mload_model\u001b[49m\u001b[43m(\u001b[49m\u001b[38;5;124;43mf\u001b[39;49m\u001b[38;5;124;43m\"\u001b[39;49m\u001b[38;5;124;43m./multi_model_saves/model_\u001b[39;49m\u001b[38;5;132;43;01m{\u001b[39;49;00m\u001b[43mday\u001b[49m\u001b[38;5;132;43;01m}\u001b[39;49;00m\u001b[38;5;124;43m_0_\u001b[39;49m\u001b[38;5;132;43;01m{\u001b[39;49;00m\u001b[43mfold\u001b[49m\u001b[38;5;132;43;01m}\u001b[39;49;00m\u001b[38;5;124;43m\"\u001b[39;49m\u001b[43m,\u001b[49m\n\u001b[1;32m     10\u001b[0m \u001b[43m            \u001b[49m\u001b[43mcustom_objects\u001b[49m\u001b[38;5;241;43m=\u001b[39;49m\u001b[43m{\u001b[49m\u001b[38;5;124;43m'\u001b[39;49m\u001b[38;5;124;43mnegative_correlation_loss\u001b[39;49m\u001b[38;5;124;43m'\u001b[39;49m\u001b[43m:\u001b[49m\u001b[43m \u001b[49m\u001b[43mnegative_correlation_loss\u001b[49m\u001b[43m}\u001b[49m\u001b[43m)\u001b[49m\n\u001b[1;32m     11\u001b[0m         multi_Yt[selector_t[(day,donor)]] \u001b[38;5;241m+\u001b[39m\u001b[38;5;241m=\u001b[39m model\u001b[38;5;241m.\u001b[39mpredict(Xt)\u001b[38;5;129m@svds\u001b[39m\n\u001b[1;32m     12\u001b[0m \u001b[38;5;28;01melse\u001b[39;00m:\n",
      "File \u001b[0;32m/srv/conda/envs/saturn/lib/python3.9/site-packages/keras/utils/traceback_utils.py:70\u001b[0m, in \u001b[0;36mfilter_traceback.<locals>.error_handler\u001b[0;34m(*args, **kwargs)\u001b[0m\n\u001b[1;32m     67\u001b[0m     filtered_tb \u001b[38;5;241m=\u001b[39m _process_traceback_frames(e\u001b[38;5;241m.\u001b[39m__traceback__)\n\u001b[1;32m     68\u001b[0m     \u001b[38;5;66;03m# To get the full stack trace, call:\u001b[39;00m\n\u001b[1;32m     69\u001b[0m     \u001b[38;5;66;03m# `tf.debugging.disable_traceback_filtering()`\u001b[39;00m\n\u001b[0;32m---> 70\u001b[0m     \u001b[38;5;28;01mraise\u001b[39;00m e\u001b[38;5;241m.\u001b[39mwith_traceback(filtered_tb) \u001b[38;5;28;01mfrom\u001b[39;00m \u001b[38;5;28mNone\u001b[39m\n\u001b[1;32m     71\u001b[0m \u001b[38;5;28;01mfinally\u001b[39;00m:\n\u001b[1;32m     72\u001b[0m     \u001b[38;5;28;01mdel\u001b[39;00m filtered_tb\n",
      "File \u001b[0;32m/srv/conda/envs/saturn/lib/python3.9/site-packages/keras/saving/save.py:226\u001b[0m, in \u001b[0;36mload_model\u001b[0;34m(filepath, custom_objects, compile, options)\u001b[0m\n\u001b[1;32m    224\u001b[0m \u001b[38;5;28;01mif\u001b[39;00m \u001b[38;5;28misinstance\u001b[39m(filepath_str, \u001b[38;5;28mstr\u001b[39m):\n\u001b[1;32m    225\u001b[0m     \u001b[38;5;28;01mif\u001b[39;00m \u001b[38;5;129;01mnot\u001b[39;00m tf\u001b[38;5;241m.\u001b[39mio\u001b[38;5;241m.\u001b[39mgfile\u001b[38;5;241m.\u001b[39mexists(filepath_str):\n\u001b[0;32m--> 226\u001b[0m         \u001b[38;5;28;01mraise\u001b[39;00m \u001b[38;5;167;01mIOError\u001b[39;00m(\n\u001b[1;32m    227\u001b[0m             \u001b[38;5;124mf\u001b[39m\u001b[38;5;124m\"\u001b[39m\u001b[38;5;124mNo file or directory found at \u001b[39m\u001b[38;5;132;01m{\u001b[39;00mfilepath_str\u001b[38;5;132;01m}\u001b[39;00m\u001b[38;5;124m\"\u001b[39m\n\u001b[1;32m    228\u001b[0m         )\n\u001b[1;32m    230\u001b[0m     \u001b[38;5;28;01mif\u001b[39;00m tf\u001b[38;5;241m.\u001b[39mio\u001b[38;5;241m.\u001b[39mgfile\u001b[38;5;241m.\u001b[39misdir(filepath_str):\n\u001b[1;32m    231\u001b[0m         \u001b[38;5;28;01mreturn\u001b[39;00m saved_model_load\u001b[38;5;241m.\u001b[39mload(\n\u001b[1;32m    232\u001b[0m             filepath_str, \u001b[38;5;28mcompile\u001b[39m, options\n\u001b[1;32m    233\u001b[0m         )\n",
      "\u001b[0;31mOSError\u001b[0m: No file or directory found at ./multi_model_saves/model_2_0_0"
     ]
    }
   ],
   "source": [
    "donors = (32606,13176,31800)\n",
    "multi_Yt = np.zeros((len(Xt_copy),22858), dtype=np.float32)\n",
    "for (day,donor) in selector_t.keys():\n",
    "    if day != 10:\n",
    "        Xt = Xt_copy.copy()\n",
    "        Xt = Xt[selector_t[(day,donor)]]\n",
    "        svds = np.load(f\"./multi_model_saves/model_{day}_0_svds.npy\")\n",
    "        for fold in range(3):\n",
    "            model = load_model(f\"./multi_model_saves/model_{day}_0_{fold}\",\n",
    "                custom_objects={'negative_correlation_loss': negative_correlation_loss})\n",
    "            multi_Yt[selector_t[(day,donor)]] += model.predict(Xt)@svds\n",
    "    else:\n",
    "        for k in (0,1):\n",
    "            Xt = Xt_copy.copy()\n",
    "            Xt = Xt[selector_t_10[(day,donor,k)]]\n",
    "            if donor != 27678:\n",
    "                svds = np.load(f\"./multi_model_saves/model_late_kmeans_{k}_{donor}_svds.npy\")\n",
    "                for fold in range(3):\n",
    "                    model = load_model(f\"./multi_model_saves/model_late_kmeans_{k}_{donor}_{fold}\")\n",
    "                    multi_Yt[selector_t_10[(day,donor,k)]] += model.predict(Xt)@svds\n",
    "            else:\n",
    "                svds = np.load(f\"./multi_model_saves/model_late_kmeans_{k}_31800_13176_svds.npy\")\n",
    "                for fold in range(3):\n",
    "                    model = load_model(f\"./multi_model_saves/model_late_kmeans_{k}_31800_13176_{fold}\")\n",
    "                    multi_Yt[selector_t_10[(day,donor,k)]] += model.predict(Xt)@svds"
   ]
  },
  {
   "cell_type": "code",
   "execution_count": 83,
   "id": "0d060b86-ca9c-4cb7-9390-fcb7721db87e",
   "metadata": {
    "execution": {
     "iopub.execute_input": "2022-11-10T22:20:18.054044Z",
     "iopub.status.busy": "2022-11-10T22:20:18.053649Z",
     "iopub.status.idle": "2022-11-10T22:20:18.058336Z",
     "shell.execute_reply": "2022-11-10T22:20:18.057769Z",
     "shell.execute_reply.started": "2022-11-10T22:20:18.054020Z"
    },
    "tags": []
   },
   "outputs": [
    {
     "data": {
      "text/plain": [
       "(55935, 22858)"
      ]
     },
     "execution_count": 83,
     "metadata": {},
     "output_type": "execute_result"
    }
   ],
   "source": [
    "multi_Yt.shape"
   ]
  },
  {
   "cell_type": "code",
   "execution_count": 19,
   "id": "8b67aeb7-a9e5-4e72-8aca-9b17188b2f4a",
   "metadata": {
    "execution": {
     "iopub.execute_input": "2022-11-14T20:51:55.778105Z",
     "iopub.status.busy": "2022-11-14T20:51:55.777794Z",
     "iopub.status.idle": "2022-11-14T20:52:29.650823Z",
     "shell.execute_reply": "2022-11-14T20:52:29.650183Z",
     "shell.execute_reply.started": "2022-11-14T20:51:55.778084Z"
    },
    "tags": []
   },
   "outputs": [],
   "source": [
    "targets_copy = scipy.sparse.load_npz(\"./sparse/train_multi_targets_values.sparse.npz\")\n",
    "y_columns = np.load(\"./sparse/train_multi_targets_idxcol.npz\",\n",
    "                   allow_pickle=True)[\"columns\"]\n",
    "df = pd.DataFrame(targets_copy.toarray(),columns = y_columns)\n",
    "targets_removed = scprep.filter.remove_empty_genes(df).columns\n",
    "removed_columns = set(y_columns) - set(targets_removed)\n",
    "removed_columns_ind = []\n",
    "for i in removed_columns:\n",
    "    removed_columns_ind.append(np.where(y_columns==i)[0])"
   ]
  },
  {
   "cell_type": "code",
   "execution_count": 20,
   "id": "5771c4dc-56a8-4901-b3f6-a925cc59343f",
   "metadata": {
    "execution": {
     "iopub.execute_input": "2022-11-14T20:52:29.651951Z",
     "iopub.status.busy": "2022-11-14T20:52:29.651658Z",
     "iopub.status.idle": "2022-11-14T20:52:29.655524Z",
     "shell.execute_reply": "2022-11-14T20:52:29.655008Z",
     "shell.execute_reply.started": "2022-11-14T20:52:29.651930Z"
    },
    "tags": []
   },
   "outputs": [],
   "source": [
    "removed_columns_ind = np.array(removed_columns_ind).flatten()"
   ]
  },
  {
   "cell_type": "code",
   "execution_count": 21,
   "id": "02ce4764-db36-47cb-a855-af2b1108637f",
   "metadata": {
    "execution": {
     "iopub.execute_input": "2022-11-14T20:52:29.657130Z",
     "iopub.status.busy": "2022-11-14T20:52:29.656735Z",
     "iopub.status.idle": "2022-11-14T20:52:29.659592Z",
     "shell.execute_reply": "2022-11-14T20:52:29.659110Z",
     "shell.execute_reply.started": "2022-11-14T20:52:29.657111Z"
    },
    "tags": []
   },
   "outputs": [],
   "source": [
    "removed_columns_ind = removed_columns_ind.astype(int)"
   ]
  },
  {
   "cell_type": "code",
   "execution_count": 25,
   "id": "0eb5816e-e6cf-4e4b-ae53-2f9c97bf87e3",
   "metadata": {
    "execution": {
     "iopub.execute_input": "2022-11-08T22:59:06.483051Z",
     "iopub.status.busy": "2022-11-08T22:59:06.482678Z",
     "iopub.status.idle": "2022-11-08T22:59:06.487026Z",
     "shell.execute_reply": "2022-11-08T22:59:06.486493Z",
     "shell.execute_reply.started": "2022-11-08T22:59:06.483027Z"
    }
   },
   "outputs": [
    {
     "data": {
      "text/plain": [
       "23418"
      ]
     },
     "execution_count": 25,
     "metadata": {},
     "output_type": "execute_result"
    }
   ],
   "source": [
    "targets_copy.shape[1]"
   ]
  },
  {
   "cell_type": "code",
   "execution_count": 26,
   "id": "84a2300d-2c3d-45a8-a6dc-1ed099c0dd99",
   "metadata": {
    "execution": {
     "iopub.execute_input": "2022-11-08T22:59:17.830872Z",
     "iopub.status.busy": "2022-11-08T22:59:17.830489Z",
     "iopub.status.idle": "2022-11-08T22:59:17.834878Z",
     "shell.execute_reply": "2022-11-08T22:59:17.834375Z",
     "shell.execute_reply.started": "2022-11-08T22:59:17.830848Z"
    }
   },
   "outputs": [
    {
     "data": {
      "text/plain": [
       "22858"
      ]
     },
     "execution_count": 26,
     "metadata": {},
     "output_type": "execute_result"
    }
   ],
   "source": [
    "len(targets_removed)"
   ]
  },
  {
   "cell_type": "code",
   "execution_count": 27,
   "id": "f573fcf9-599f-4523-a53e-e35d7b67123d",
   "metadata": {
    "execution": {
     "iopub.execute_input": "2022-11-08T22:59:35.747157Z",
     "iopub.status.busy": "2022-11-08T22:59:35.746783Z",
     "iopub.status.idle": "2022-11-08T22:59:35.751130Z",
     "shell.execute_reply": "2022-11-08T22:59:35.750632Z",
     "shell.execute_reply.started": "2022-11-08T22:59:35.747134Z"
    }
   },
   "outputs": [
    {
     "data": {
      "text/plain": [
       "0"
      ]
     },
     "execution_count": 27,
     "metadata": {},
     "output_type": "execute_result"
    }
   ],
   "source": [
    "23418-22858-len(removed_columns_ind)"
   ]
  },
  {
   "cell_type": "code",
   "execution_count": 32,
   "id": "285042ad-cb06-4a8f-9cec-cab29ab5abb8",
   "metadata": {
    "execution": {
     "iopub.execute_input": "2022-11-08T23:04:59.152269Z",
     "iopub.status.busy": "2022-11-08T23:04:59.151893Z",
     "iopub.status.idle": "2022-11-08T23:04:59.156242Z",
     "shell.execute_reply": "2022-11-08T23:04:59.155726Z",
     "shell.execute_reply.started": "2022-11-08T23:04:59.152245Z"
    }
   },
   "outputs": [
    {
     "data": {
      "text/plain": [
       "(55935, 22858)"
      ]
     },
     "execution_count": 32,
     "metadata": {},
     "output_type": "execute_result"
    }
   ],
   "source": [
    "multi_Yt.shape"
   ]
  },
  {
   "cell_type": "code",
   "execution_count": 31,
   "id": "c8d84fcf-08f7-486f-8164-3e319b1f8d30",
   "metadata": {
    "execution": {
     "iopub.execute_input": "2022-11-08T23:04:48.661187Z",
     "iopub.status.busy": "2022-11-08T23:04:48.660738Z",
     "iopub.status.idle": "2022-11-08T23:04:48.665176Z",
     "shell.execute_reply": "2022-11-08T23:04:48.664618Z",
     "shell.execute_reply.started": "2022-11-08T23:04:48.661162Z"
    }
   },
   "outputs": [
    {
     "data": {
      "text/plain": [
       "(55935, 23418)"
      ]
     },
     "execution_count": 31,
     "metadata": {},
     "output_type": "execute_result"
    }
   ],
   "source": [
    "multi_pred_t.shape"
   ]
  },
  {
   "cell_type": "code",
   "execution_count": 22,
   "id": "0aa19888-479f-4d15-9969-d6dd2ec1ab3e",
   "metadata": {
    "execution": {
     "iopub.execute_input": "2022-11-14T20:52:29.660515Z",
     "iopub.status.busy": "2022-11-14T20:52:29.660242Z",
     "iopub.status.idle": "2022-11-14T20:53:30.890176Z",
     "shell.execute_reply": "2022-11-14T20:53:30.889471Z",
     "shell.execute_reply.started": "2022-11-14T20:52:29.660497Z"
    },
    "tags": []
   },
   "outputs": [],
   "source": [
    "targets_copy = targets_copy.toarray()\n",
    "multi_pred_t = np.zeros((multi_Yt.shape[0],targets_copy.shape[1]))\n",
    "n = 0\n",
    "#targets_copy = targets_copy.toarray()\n",
    "for i in range(targets_copy.shape[1]):\n",
    "    if i in removed_columns_ind:\n",
    "        #print(targets_copy[:,i])\n",
    "        multi_pred_t[:,i] = targets_copy[:len(multi_pred_t),i]\n",
    "    else:\n",
    "        multi_pred_t[:,i] = multi_Yt[:,n]\n",
    "        n+=1        "
   ]
  },
  {
   "cell_type": "code",
   "execution_count": 36,
   "id": "ecc32d01-72bb-4a97-b698-37c1addd8600",
   "metadata": {
    "execution": {
     "iopub.execute_input": "2022-11-08T23:07:28.605125Z",
     "iopub.status.busy": "2022-11-08T23:07:28.604701Z",
     "iopub.status.idle": "2022-11-08T23:07:28.608950Z",
     "shell.execute_reply": "2022-11-08T23:07:28.608387Z",
     "shell.execute_reply.started": "2022-11-08T23:07:28.605100Z"
    }
   },
   "outputs": [
    {
     "data": {
      "text/plain": [
       "22858"
      ]
     },
     "execution_count": 36,
     "metadata": {},
     "output_type": "execute_result"
    }
   ],
   "source": [
    "n"
   ]
  },
  {
   "cell_type": "code",
   "execution_count": 23,
   "id": "464754c4-c0e5-4f17-9cba-736f867de3d8",
   "metadata": {
    "execution": {
     "iopub.execute_input": "2022-11-14T20:53:30.891358Z",
     "iopub.status.busy": "2022-11-14T20:53:30.891065Z",
     "iopub.status.idle": "2022-11-14T20:54:15.411217Z",
     "shell.execute_reply": "2022-11-14T20:54:15.410565Z",
     "shell.execute_reply.started": "2022-11-14T20:53:30.891338Z"
    },
    "tags": []
   },
   "outputs": [],
   "source": [
    "# Read the table of rows and columns required for submission\n",
    "eval_ids = pd.read_parquet(\"./sparse/evaluation.parquet\")\n",
    "# Convert the string columns to more efficient categorical types\n",
    "#eval_ids.cell_id = eval_ids.cell_id.apply(lambda s: int(s, base=16))\n",
    "eval_ids.cell_id = eval_ids.cell_id.astype(pd.CategoricalDtype())\n",
    "eval_ids.gene_id = eval_ids.gene_id.astype(pd.CategoricalDtype())\n",
    "submission = pd.Series(name='target',\n",
    "                       index=pd.MultiIndex.from_frame(eval_ids), \n",
    "                       dtype=np.float32)\n",
    "y_columns = np.load(\"./sparse/train_multi_targets_idxcol.npz\",\n",
    "                   allow_pickle=True)[\"columns\"]\n",
    "\n",
    "test_index = np.load(\"./sparse/test_multi_inputs_idxcol.npz\",\n",
    "                    allow_pickle=True)[\"index\"]\n",
    "cell_dict = dict((k,v) for v,k in enumerate(test_index)) \n",
    "assert len(cell_dict)  == len(test_index)\n",
    "\n",
    "gene_dict = dict((k,v) for v,k in enumerate(y_columns))\n",
    "assert len(gene_dict) == len(y_columns)\n",
    "eval_ids_cell_num = eval_ids.cell_id.apply(lambda x:cell_dict.get(x, -1))\n",
    "eval_ids_gene_num = eval_ids.gene_id.apply(lambda x:gene_dict.get(x, -1))\n",
    "\n",
    "valid_multi_rows = (eval_ids_gene_num !=-1) & (eval_ids_cell_num!=-1)\n",
    "submission.iloc[valid_multi_rows] = multi_pred_t[eval_ids_cell_num[valid_multi_rows].to_numpy(),\n",
    "                                        eval_ids_gene_num[valid_multi_rows].to_numpy()]\n",
    "submission.reset_index(drop=True, inplace=True)\n",
    "submission.index.name = 'row_id'"
   ]
  },
  {
   "cell_type": "code",
   "execution_count": 38,
   "id": "82e8f244-1609-4079-9278-5fbbb7cc309c",
   "metadata": {
    "execution": {
     "iopub.execute_input": "2022-11-08T23:09:26.259393Z",
     "iopub.status.busy": "2022-11-08T23:09:26.259009Z",
     "iopub.status.idle": "2022-11-08T23:09:26.265229Z",
     "shell.execute_reply": "2022-11-08T23:09:26.264688Z",
     "shell.execute_reply.started": "2022-11-08T23:09:26.259367Z"
    }
   },
   "outputs": [
    {
     "data": {
      "text/plain": [
       "row_id\n",
       "0                 NaN\n",
       "1                 NaN\n",
       "2                 NaN\n",
       "3                 NaN\n",
       "4                 NaN\n",
       "              ...    \n",
       "65744175    24.804821\n",
       "65744176    -3.325501\n",
       "65744177    -3.424263\n",
       "65744178     1.862277\n",
       "65744179    21.620329\n",
       "Name: target, Length: 65744180, dtype: float32"
      ]
     },
     "execution_count": 38,
     "metadata": {},
     "output_type": "execute_result"
    }
   ],
   "source": [
    "submission"
   ]
  },
  {
   "cell_type": "code",
   "execution_count": 24,
   "id": "6d4dcc15-a974-4fc3-99ec-76aab866a405",
   "metadata": {
    "execution": {
     "iopub.execute_input": "2022-11-14T20:54:15.412480Z",
     "iopub.status.busy": "2022-11-14T20:54:15.412175Z",
     "iopub.status.idle": "2022-11-14T20:54:15.417631Z",
     "shell.execute_reply": "2022-11-14T20:54:15.417049Z",
     "shell.execute_reply.started": "2022-11-14T20:54:15.412460Z"
    },
    "tags": []
   },
   "outputs": [],
   "source": [
    "submission.iloc[:6812820] = 0"
   ]
  },
  {
   "cell_type": "code",
   "execution_count": 94,
   "id": "6961fb4f-5829-4c1e-b5e8-358668b99a15",
   "metadata": {
    "execution": {
     "iopub.execute_input": "2022-11-10T22:26:12.115229Z",
     "iopub.status.busy": "2022-11-10T22:26:12.114827Z",
     "iopub.status.idle": "2022-11-10T22:26:12.121041Z",
     "shell.execute_reply": "2022-11-10T22:26:12.120503Z",
     "shell.execute_reply.started": "2022-11-10T22:26:12.115204Z"
    },
    "tags": []
   },
   "outputs": [
    {
     "data": {
      "text/plain": [
       "row_id\n",
       "0           0.000000\n",
       "1           0.000000\n",
       "2           0.000000\n",
       "3           0.000000\n",
       "4           0.000000\n",
       "              ...   \n",
       "65744175    7.883208\n",
       "65744176   -1.090349\n",
       "65744177   -1.124928\n",
       "65744178    0.294697\n",
       "65744179    7.174649\n",
       "Name: target, Length: 65744180, dtype: float32"
      ]
     },
     "execution_count": 94,
     "metadata": {},
     "output_type": "execute_result"
    }
   ],
   "source": [
    "submission"
   ]
  },
  {
   "cell_type": "code",
   "execution_count": 95,
   "id": "33ad4cac-7ea3-498d-b42d-ec4376de7635",
   "metadata": {
    "execution": {
     "iopub.execute_input": "2022-11-10T22:26:26.853623Z",
     "iopub.status.busy": "2022-11-10T22:26:26.853241Z",
     "iopub.status.idle": "2022-11-10T22:29:44.257410Z",
     "shell.execute_reply": "2022-11-10T22:29:44.256502Z",
     "shell.execute_reply.started": "2022-11-10T22:26:26.853599Z"
    },
    "tags": []
   },
   "outputs": [
    {
     "name": "stdout",
     "output_type": "stream",
     "text": [
      "updating: multi_submission.csv (deflated 66%)\n"
     ]
    }
   ],
   "source": [
    "submission.to_csv(\"multi_submission.csv\")\n",
    "!zip multi_submission.zip multi_submission.csv"
   ]
  },
  {
   "cell_type": "code",
   "execution_count": 96,
   "id": "2a07f55e-2f61-4248-b2d7-c0acc0b70e36",
   "metadata": {
    "execution": {
     "iopub.execute_input": "2022-11-10T22:29:44.259461Z",
     "iopub.status.busy": "2022-11-10T22:29:44.259103Z",
     "iopub.status.idle": "2022-11-10T22:29:45.944335Z",
     "shell.execute_reply": "2022-11-10T22:29:45.943482Z",
     "shell.execute_reply.started": "2022-11-10T22:29:44.259435Z"
    },
    "tags": []
   },
   "outputs": [
    {
     "name": "stdout",
     "output_type": "stream",
     "text": [
      "/bin/bash: kaggle: command not found\n"
     ]
    }
   ],
   "source": [
    "%%capture\n",
    "!pip install kaggle\n",
    "import os\n",
    "os.environ['KAGGLE_USERNAME'] = 'alexroberts'\n",
    "os.environ['KAGGLE_KEY'] = 'eef5d3edec2428c7d4f14efcdb3f13ca'\n",
    "!kaggle competitions submit -c open-problems-multimodal -f multi_submission.zip -m 'just multi'"
   ]
  },
  {
   "cell_type": "code",
   "execution_count": null,
   "id": "525605f7-de55-4322-97a8-31893bbbe8a3",
   "metadata": {},
   "outputs": [],
   "source": [
    "0.655, 0.890 on fourth donor (0.661 and 0.339)\n",
    "or\n",
    "0.685, 0.873 on fourth donor (0.667 and 0.333)\n",
    "expected at least 0.890 and 0.680 so some mistake?\n",
    "0.682, 0.895"
   ]
  },
  {
   "cell_type": "code",
   "execution_count": 37,
   "id": "279e6af6-d621-4695-be76-6cac284a01d8",
   "metadata": {
    "execution": {
     "iopub.execute_input": "2022-11-14T20:57:50.914355Z",
     "iopub.status.busy": "2022-11-14T20:57:50.913869Z",
     "iopub.status.idle": "2022-11-14T20:57:50.925210Z",
     "shell.execute_reply": "2022-11-14T20:57:50.924713Z",
     "shell.execute_reply.started": "2022-11-14T20:57:50.914334Z"
    },
    "tags": []
   },
   "outputs": [
    {
     "data": {
      "text/plain": [
       "row_id\n",
       "0          -0.509595\n",
       "1          -0.471440\n",
       "2          -0.334010\n",
       "3           1.044342\n",
       "4           1.446341\n",
       "              ...   \n",
       "65744175    7.883208\n",
       "65744176   -1.090349\n",
       "65744177   -1.124928\n",
       "65744178    0.294697\n",
       "65744179    7.174649\n",
       "Name: target, Length: 65744180, dtype: float32"
      ]
     },
     "execution_count": 37,
     "metadata": {},
     "output_type": "execute_result"
    }
   ],
   "source": [
    "submission.iloc[:6812820] = cite_Yt.ravel()\n",
    "submission"
   ]
  },
  {
   "cell_type": "code",
   "execution_count": 3,
   "id": "4c0a20c2-d5da-46af-b9aa-24e2aac8a314",
   "metadata": {
    "execution": {
     "iopub.execute_input": "2022-11-14T21:07:09.110440Z",
     "iopub.status.busy": "2022-11-14T21:07:09.110068Z",
     "iopub.status.idle": "2022-11-14T21:07:11.748690Z",
     "shell.execute_reply": "2022-11-14T21:07:11.747860Z",
     "shell.execute_reply.started": "2022-11-14T21:07:09.110417Z"
    },
    "tags": []
   },
   "outputs": [],
   "source": [
    "%%capture\n",
    "!pip install kaggle"
   ]
  },
  {
   "cell_type": "code",
   "execution_count": 6,
   "id": "34130378-d779-4f1c-ad48-34a1f16c0af1",
   "metadata": {
    "execution": {
     "iopub.execute_input": "2022-11-14T21:09:04.066971Z",
     "iopub.status.busy": "2022-11-14T21:09:04.066601Z",
     "iopub.status.idle": "2022-11-14T21:12:16.430433Z",
     "shell.execute_reply": "2022-11-14T21:12:16.429731Z",
     "shell.execute_reply.started": "2022-11-14T21:09:04.066937Z"
    },
    "tags": []
   },
   "outputs": [
    {
     "name": "stdout",
     "output_type": "stream",
     "text": [
      "100%|████████████████████████████████████████| 430M/430M [03:10<00:00, 2.37MB/s]\n",
      "Successfully submitted to Open Problems - Multimodal Single-Cell Integration"
     ]
    }
   ],
   "source": [
    "submission.to_csv(\"kmeans_submission.csv\")\n",
    "!zip kmeans_submission.zip kmeans_submission.csv\n",
    "os.environ['KAGGLE_USERNAME'] = 'alexroberts'\n",
    "os.environ['KAGGLE_KEY'] = 'eef5d3edec2428c7d4f14efcdb3f13ca'\n",
    "!kaggle competitions submit -c open-problems-multimodal -f kmeans_submission.zip -m 'with kmeans'"
   ]
  },
  {
   "cell_type": "code",
   "execution_count": 9,
   "id": "731b37a7-70e3-4e09-84b1-48577a07455e",
   "metadata": {
    "execution": {
     "iopub.execute_input": "2022-11-14T21:12:57.059775Z",
     "iopub.status.busy": "2022-11-14T21:12:57.059406Z",
     "iopub.status.idle": "2022-11-14T21:13:23.305481Z",
     "shell.execute_reply": "2022-11-14T21:13:23.304869Z",
     "shell.execute_reply.started": "2022-11-14T21:12:57.059753Z"
    },
    "tags": []
   },
   "outputs": [],
   "source": [
    "import pandas as pd\n",
    "submission = pd.read_csv(\"kmeans_submission.csv\")\n",
    "old_submission = pd.read_csv(\"all_submission.csv\")\n",
    "submission.iloc[:6812820] = old_submission.iloc[:6812820]"
   ]
  },
  {
   "cell_type": "code",
   "execution_count": 14,
   "id": "d6131d3d-449c-43a1-9a0c-6758e9853005",
   "metadata": {
    "execution": {
     "iopub.execute_input": "2022-11-14T21:26:15.020612Z",
     "iopub.status.busy": "2022-11-14T21:26:15.020255Z",
     "iopub.status.idle": "2022-11-14T21:26:15.394221Z",
     "shell.execute_reply": "2022-11-14T21:26:15.393611Z",
     "shell.execute_reply.started": "2022-11-14T21:26:15.020588Z"
    },
    "tags": []
   },
   "outputs": [],
   "source": [
    "submission = submission.set_index('row_id')"
   ]
  },
  {
   "cell_type": "code",
   "execution_count": 15,
   "id": "ad2a9411-e20f-46e3-8aec-0ed907e69d04",
   "metadata": {
    "execution": {
     "iopub.execute_input": "2022-11-14T21:26:21.234048Z",
     "iopub.status.busy": "2022-11-14T21:26:21.233272Z",
     "iopub.status.idle": "2022-11-14T21:32:54.098031Z",
     "shell.execute_reply": "2022-11-14T21:32:54.097297Z",
     "shell.execute_reply.started": "2022-11-14T21:26:21.234002Z"
    },
    "tags": []
   },
   "outputs": [
    {
     "name": "stdout",
     "output_type": "stream",
     "text": [
      "updating: kmeans_submission_w_old.csv (deflated 65%)\n",
      "100%|████████████████████████████████████████| 430M/430M [03:10<00:00, 2.37MB/s]\n",
      "Successfully submitted to Open Problems - Multimodal Single-Cell Integration"
     ]
    }
   ],
   "source": [
    "submission.to_csv(\"kmeans_submission_w_old.csv\")\n",
    "!zip kmeans_submission_w_old.zip kmeans_submission_w_old.csv\n",
    "os.environ['KAGGLE_USERNAME'] = 'alexroberts'\n",
    "os.environ['KAGGLE_KEY'] = 'eef5d3edec2428c7d4f14efcdb3f13ca'\n",
    "!kaggle competitions submit -c open-problems-multimodal -f kmeans_submission_w_old.zip -m 'with kmeans - old cite'"
   ]
  },
  {
   "cell_type": "code",
   "execution_count": 158,
   "id": "9086945e-3436-413a-b6ff-094398ce7cb1",
   "metadata": {
    "execution": {
     "iopub.execute_input": "2022-11-11T02:18:17.572380Z",
     "iopub.status.busy": "2022-11-11T02:18:17.571850Z",
     "iopub.status.idle": "2022-11-11T02:25:01.672013Z",
     "shell.execute_reply": "2022-11-11T02:25:01.671101Z",
     "shell.execute_reply.started": "2022-11-11T02:18:17.572344Z"
    },
    "tags": []
   },
   "outputs": [
    {
     "name": "stdout",
     "output_type": "stream",
     "text": [
      "updating: all_submission.csv (deflated 65%)\n",
      "100%|████████████████████████████████████████| 429M/429M [03:09<00:00, 2.37MB/s]\n",
      "Successfully submitted to Open Problems - Multimodal Single-Cell Integration"
     ]
    }
   ],
   "source": [
    "submission.to_csv(\"all_submission.csv\")\n",
    "!zip all_submission.zip all_submission.csv\n",
    "os.environ['KAGGLE_USERNAME'] = 'alexroberts'\n",
    "os.environ['KAGGLE_KEY'] = 'eef5d3edec2428c7d4f14efcdb3f13ca'\n",
    "!kaggle competitions submit -c open-problems-multimodal -f all_submission.zip -m 'with kmeans'"
   ]
  },
  {
   "cell_type": "code",
   "execution_count": 35,
   "id": "9b261610-9f93-4c13-a2aa-a5c371882360",
   "metadata": {
    "execution": {
     "iopub.execute_input": "2022-11-15T23:52:57.780504Z",
     "iopub.status.busy": "2022-11-15T23:52:57.780118Z",
     "iopub.status.idle": "2022-11-15T23:52:58.175556Z",
     "shell.execute_reply": "2022-11-15T23:52:58.174945Z",
     "shell.execute_reply.started": "2022-11-15T23:52:57.780479Z"
    }
   },
   "outputs": [],
   "source": [
    "submission = submission.set_index('row_id')"
   ]
  },
  {
   "cell_type": "code",
   "execution_count": 40,
   "id": "6205691f-6556-4785-8d52-2032db4670c2",
   "metadata": {
    "execution": {
     "iopub.execute_input": "2022-11-15T23:53:55.056335Z",
     "iopub.status.busy": "2022-11-15T23:53:55.055945Z",
     "iopub.status.idle": "2022-11-15T23:53:55.060806Z",
     "shell.execute_reply": "2022-11-15T23:53:55.060292Z",
     "shell.execute_reply.started": "2022-11-15T23:53:55.056309Z"
    },
    "tags": []
   },
   "outputs": [
    {
     "data": {
      "text/plain": [
       "array([-0.50038534, -0.47049987, -0.34107018, ..., -0.58360076,\n",
       "        2.3353977 ,  1.1676642 ], dtype=float32)"
      ]
     },
     "execution_count": 40,
     "metadata": {},
     "output_type": "execute_result"
    }
   ],
   "source": [
    "cite_Yt.ravel()"
   ]
  },
  {
   "cell_type": "code",
   "execution_count": 42,
   "id": "4405f120-ab74-47c6-91af-0ea0bc0b9c78",
   "metadata": {
    "execution": {
     "iopub.execute_input": "2022-11-15T23:54:24.627369Z",
     "iopub.status.busy": "2022-11-15T23:54:24.626984Z",
     "iopub.status.idle": "2022-11-15T23:54:24.631936Z",
     "shell.execute_reply": "2022-11-15T23:54:24.631392Z",
     "shell.execute_reply.started": "2022-11-15T23:54:24.627345Z"
    },
    "tags": []
   },
   "outputs": [
    {
     "data": {
      "text/plain": [
       "array([-0.50038534, -0.47049987, -0.34107018, ..., -0.58360076,\n",
       "        2.3353977 ,  1.1676642 ], dtype=float32)"
      ]
     },
     "execution_count": 42,
     "metadata": {},
     "output_type": "execute_result"
    }
   ],
   "source": [
    "cite_Yt.ravel()"
   ]
  },
  {
   "cell_type": "code",
   "execution_count": 44,
   "id": "23ca43c9-2986-4227-a292-16781f59e13f",
   "metadata": {
    "execution": {
     "iopub.execute_input": "2022-11-15T23:54:43.980220Z",
     "iopub.status.busy": "2022-11-15T23:54:43.979830Z",
     "iopub.status.idle": "2022-11-15T23:54:43.983715Z",
     "shell.execute_reply": "2022-11-15T23:54:43.983135Z",
     "shell.execute_reply.started": "2022-11-15T23:54:43.980195Z"
    }
   },
   "outputs": [],
   "source": [
    "submission = submission.squeeze()"
   ]
  },
  {
   "cell_type": "code",
   "execution_count": 45,
   "id": "819601b3-57d4-40c2-9c26-4166a069dcd1",
   "metadata": {
    "execution": {
     "iopub.execute_input": "2022-11-15T23:54:46.866571Z",
     "iopub.status.busy": "2022-11-15T23:54:46.866191Z",
     "iopub.status.idle": "2022-11-15T23:54:46.876528Z",
     "shell.execute_reply": "2022-11-15T23:54:46.875965Z",
     "shell.execute_reply.started": "2022-11-15T23:54:46.866546Z"
    },
    "tags": []
   },
   "outputs": [],
   "source": [
    "#submission = pd.read_csv(\"kmeans_submission.csv\")\n",
    "submission.iloc[:6812820] = cite_Yt.ravel()"
   ]
  },
  {
   "cell_type": "code",
   "execution_count": 47,
   "id": "36af4397-e549-4e1a-8a24-2aabeab74a8d",
   "metadata": {
    "execution": {
     "iopub.execute_input": "2022-11-15T23:57:26.932876Z",
     "iopub.status.busy": "2022-11-15T23:57:26.932443Z",
     "iopub.status.idle": "2022-11-15T23:57:26.936331Z",
     "shell.execute_reply": "2022-11-15T23:57:26.935798Z",
     "shell.execute_reply.started": "2022-11-15T23:57:26.932848Z"
    }
   },
   "outputs": [],
   "source": [
    "import os"
   ]
  },
  {
   "cell_type": "code",
   "execution_count": null,
   "id": "595a23f3-cf16-4516-ab3a-60928fb1c493",
   "metadata": {
    "execution": {
     "iopub.execute_input": "2022-11-15T23:59:23.599186Z",
     "iopub.status.busy": "2022-11-15T23:59:23.598761Z"
    }
   },
   "outputs": [
    {
     "name": "stdout",
     "output_type": "stream",
     "text": [
      "Collecting kaggle\n",
      "  Using cached kaggle-1.5.12-py3-none-any.whl\n",
      "Requirement already satisfied: tqdm in /opt/saturncloud/envs/saturn/lib/python3.9/site-packages (from kaggle) (4.64.0)\n",
      "Requirement already satisfied: python-dateutil in /opt/saturncloud/envs/saturn/lib/python3.9/site-packages (from kaggle) (2.8.2)\n",
      "Requirement already satisfied: certifi in /opt/saturncloud/envs/saturn/lib/python3.9/site-packages (from kaggle) (2022.9.24)\n",
      "Requirement already satisfied: urllib3 in /opt/saturncloud/envs/saturn/lib/python3.9/site-packages (from kaggle) (1.26.12)\n",
      "Requirement already satisfied: six>=1.10 in /opt/saturncloud/envs/saturn/lib/python3.9/site-packages (from kaggle) (1.16.0)\n",
      "Requirement already satisfied: python-slugify in /opt/saturncloud/envs/saturn/lib/python3.9/site-packages (from kaggle) (6.1.2)\n",
      "Requirement already satisfied: requests in /opt/saturncloud/envs/saturn/lib/python3.9/site-packages (from kaggle) (2.28.1)\n",
      "Requirement already satisfied: text-unidecode>=1.3 in /opt/saturncloud/envs/saturn/lib/python3.9/site-packages (from python-slugify->kaggle) (1.3)\n",
      "Requirement already satisfied: idna<4,>=2.5 in /opt/saturncloud/envs/saturn/lib/python3.9/site-packages (from requests->kaggle) (3.4)\n",
      "Requirement already satisfied: charset-normalizer<3,>=2 in /opt/saturncloud/envs/saturn/lib/python3.9/site-packages (from requests->kaggle) (2.1.1)\n",
      "Installing collected packages: kaggle\n"
     ]
    }
   ],
   "source": [
    "!pip install kaggle"
   ]
  },
  {
   "cell_type": "code",
   "execution_count": 48,
   "id": "2299285e-7bfe-4ae4-a100-a52d0ce2ee5f",
   "metadata": {
    "execution": {
     "iopub.execute_input": "2022-11-15T23:57:29.227349Z",
     "iopub.status.busy": "2022-11-15T23:57:29.226967Z",
     "iopub.status.idle": "2022-11-15T23:59:14.075757Z",
     "shell.execute_reply": "2022-11-15T23:59:14.074876Z",
     "shell.execute_reply.started": "2022-11-15T23:57:29.227317Z"
    },
    "tags": []
   },
   "outputs": [
    {
     "name": "stdout",
     "output_type": "stream",
     "text": [
      "  adding: clutch.csv (deflated 64%)\n",
      "/bin/bash: kaggle: command not found\n"
     ]
    }
   ],
   "source": [
    "submission.to_csv(\"clutch.csv\")\n",
    "!zip clutch.zip clutch.csv\n",
    "os.environ['KAGGLE_USERNAME'] = 'alexroberts'\n",
    "os.environ['KAGGLE_KEY'] = 'eef5d3edec2428c7d4f14efcdb3f13ca'\n",
    "!kaggle competitions submit -c open-problems-multimodal -f clutch.zip -m 'clutch'"
   ]
  },
  {
   "cell_type": "markdown",
   "id": "5d41649b-0a6e-40fb-8bce-3f3b92b035d8",
   "metadata": {},
   "source": [
    "Trying stuff out"
   ]
  },
  {
   "cell_type": "code",
   "execution_count": 66,
   "id": "8aef9a1d-d434-4642-8970-5e09792ec4ef",
   "metadata": {
    "execution": {
     "iopub.execute_input": "2022-11-07T22:34:51.695076Z",
     "iopub.status.busy": "2022-11-07T22:34:51.694688Z",
     "iopub.status.idle": "2022-11-07T22:34:51.987650Z",
     "shell.execute_reply": "2022-11-07T22:34:51.987038Z",
     "shell.execute_reply.started": "2022-11-07T22:34:51.695052Z"
    },
    "tags": []
   },
   "outputs": [],
   "source": [
    "with np.load('./sparse/train_cite_inputs_idxcol.npz',allow_pickle=True) as data:\n",
    "    cell_index = data['index']\n",
    "with np.load('./sparse/test_cite_inputs_idxcol.npz',allow_pickle=True) as data:\n",
    "    cell_index_t = data['index']\n",
    "metadata_df = pd.read_csv('../input/open-problems-multimodal/metadata.csv', index_col='cell_id')\n",
    "metadata_df = metadata_df[metadata_df.technology==\"citeseq\"]\n",
    "meta = metadata_df.reindex(cell_index)\n",
    "meta['range'] = range(len(meta))\n",
    "selector = {}\n",
    "cyclic = {}\n",
    "i = 2\n",
    "donors = (32606,13176,31800)\n",
    "for x,j in enumerate(donors):\n",
    "    selector[j] = meta.loc[(meta.day == i)&(meta.donor == j)].range.values\n",
    "    cyclic[j] = donors[(x+1)%3]"
   ]
  },
  {
   "cell_type": "code",
   "execution_count": 54,
   "id": "c298b09b-bca0-49b3-a8e6-afe61ada5e8e",
   "metadata": {
    "execution": {
     "iopub.execute_input": "2022-11-07T21:46:39.497966Z",
     "iopub.status.busy": "2022-11-07T21:46:39.497579Z",
     "iopub.status.idle": "2022-11-07T22:00:51.783818Z",
     "shell.execute_reply": "2022-11-07T22:00:51.783228Z",
     "shell.execute_reply.started": "2022-11-07T21:46:39.497944Z"
    },
    "tags": []
   },
   "outputs": [
    {
     "name": "stdout",
     "output_type": "stream",
     "text": [
      "39/39 [==============================] - 0s 2ms/step\n",
      "\n",
      " --------- FOLD 0 -----------\n",
      "Correlation = 0.89581\n",
      "39/39 [==============================] - 0s 2ms/step\n",
      "\n",
      " --------- FOLD 1 -----------\n",
      "Correlation = 0.89665\n",
      "39/39 [==============================] - 0s 2ms/step\n",
      "\n",
      " --------- FOLD 2 -----------\n",
      "Correlation = 0.89740\n",
      "39/39 [==============================] - 0s 2ms/step\n",
      "\n",
      " --------- FOLD 3 -----------\n",
      "Correlation = 0.89693\n",
      "39/39 [==============================] - 0s 2ms/step\n",
      "\n",
      " --------- FOLD 4 -----------\n",
      "Correlation = 0.89922\n",
      "39/39 [==============================] - 0s 2ms/step\n",
      "\n",
      " --------- FOLD 5 -----------\n",
      "Correlation = 0.89788\n",
      "\u001b[32m\u001b[1mMean corr = 0.89732\u001b[0m\n",
      "32/32 [==============================] - 0s 2ms/step\n",
      "\n",
      " --------- FOLD 0 -----------\n",
      "Correlation = 0.90414\n",
      "32/32 [==============================] - 0s 2ms/step\n",
      "\n",
      " --------- FOLD 1 -----------\n",
      "Correlation = 0.90507\n",
      "32/32 [==============================] - 0s 2ms/step\n",
      "\n",
      " --------- FOLD 2 -----------\n",
      "Correlation = 0.90648\n",
      "32/32 [==============================] - 0s 2ms/step\n",
      "\n",
      " --------- FOLD 3 -----------\n",
      "Correlation = 0.90064\n",
      "32/32 [==============================] - 0s 2ms/step\n",
      "\n",
      " --------- FOLD 4 -----------\n",
      "Correlation = 0.90909\n",
      "32/32 [==============================] - 0s 2ms/step\n",
      "\n",
      " --------- FOLD 5 -----------\n",
      "Correlation = 0.90450\n",
      "\u001b[32m\u001b[1mMean corr = 0.90499\u001b[0m\n",
      "44/44 [==============================] - 0s 2ms/step\n",
      "\n",
      " --------- FOLD 0 -----------\n",
      "Correlation = 0.90779\n",
      "44/44 [==============================] - 0s 2ms/step\n",
      "\n",
      " --------- FOLD 1 -----------\n",
      "Correlation = 0.90769\n",
      "44/44 [==============================] - 0s 2ms/step\n",
      "\n",
      " --------- FOLD 2 -----------\n",
      "Correlation = 0.90847\n",
      "44/44 [==============================] - 0s 2ms/step\n",
      "\n",
      " --------- FOLD 3 -----------\n",
      "Correlation = 0.90672\n",
      "44/44 [==============================] - 0s 2ms/step\n",
      "\n",
      " --------- FOLD 4 -----------\n",
      "Correlation = 0.90471\n",
      "44/44 [==============================] - 0s 2ms/step\n",
      "\n",
      " --------- FOLD 5 -----------\n",
      "Correlation = 0.90387\n",
      "\u001b[32m\u001b[1mMean corr = 0.90654\u001b[0m\n"
     ]
    }
   ],
   "source": [
    "for j in selector.keys():\n",
    "    Y = Y_copy.copy()\n",
    "    X = X_copy.copy()\n",
    "    Y = Y[selector[j]]\n",
    "    X = X[selector[j]]\n",
    "    evaluate(i,0,loss=True)"
   ]
  },
  {
   "cell_type": "code",
   "execution_count": 55,
   "id": "a3683ea2-83d1-4e2e-8797-40d3129842b9",
   "metadata": {
    "execution": {
     "iopub.execute_input": "2022-11-07T22:05:57.712962Z",
     "iopub.status.busy": "2022-11-07T22:05:57.712556Z",
     "iopub.status.idle": "2022-11-07T22:05:57.717111Z",
     "shell.execute_reply": "2022-11-07T22:05:57.716607Z",
     "shell.execute_reply.started": "2022-11-07T22:05:57.712935Z"
    }
   },
   "outputs": [
    {
     "data": {
      "text/plain": [
       "0.90295"
      ]
     },
     "execution_count": 55,
     "metadata": {},
     "output_type": "execute_result"
    }
   ],
   "source": [
    "(0.90654+0.90499+0.89732)/3"
   ]
  },
  {
   "cell_type": "code",
   "execution_count": 85,
   "id": "87d1507e-daca-4574-93c3-f0f48accb34f",
   "metadata": {
    "execution": {
     "iopub.execute_input": "2022-11-07T22:58:12.397187Z",
     "iopub.status.busy": "2022-11-07T22:58:12.396794Z",
     "iopub.status.idle": "2022-11-07T22:58:12.693740Z",
     "shell.execute_reply": "2022-11-07T22:58:12.693088Z",
     "shell.execute_reply.started": "2022-11-07T22:58:12.397149Z"
    },
    "tags": []
   },
   "outputs": [],
   "source": [
    "with np.load('./sparse/train_cite_inputs_idxcol.npz',allow_pickle=True) as data:\n",
    "    cell_index = data['index']\n",
    "with np.load('./sparse/test_cite_inputs_idxcol.npz',allow_pickle=True) as data:\n",
    "    cell_index_t = data['index']\n",
    "metadata_df = pd.read_csv('../input/open-problems-multimodal/metadata.csv', index_col='cell_id')\n",
    "metadata_df = metadata_df[metadata_df.technology==\"citeseq\"]\n",
    "meta = metadata_df.reindex(cell_index)\n",
    "meta['range'] = range(len(meta))\n",
    "selector = {}\n",
    "i = 2\n",
    "for j in (32606,13176,31800):\n",
    "    selector[(i,j)] = meta.loc[(meta.day == i)&(meta.donor == j)].range.values"
   ]
  },
  {
   "cell_type": "code",
   "execution_count": null,
   "id": "d609db70-88af-47df-8448-4cd5b51b5bed",
   "metadata": {
    "tags": []
   },
   "outputs": [],
   "source": [
    "for (i,j) in selector.keys():\n",
    "    Y = Y_copy.copy()\n",
    "    X = X_copy.copy()\n",
    "    Y = Y[selector[j]]\n",
    "    X = X[selector[j]]\n",
    "    evaluate(i,j,loss=True)"
   ]
  },
  {
   "cell_type": "code",
   "execution_count": 59,
   "id": "8147165c-b34d-4b79-8487-159a782d2858",
   "metadata": {
    "execution": {
     "iopub.execute_input": "2022-11-07T22:20:51.797985Z",
     "iopub.status.busy": "2022-11-07T22:20:51.797599Z",
     "iopub.status.idle": "2022-11-07T22:20:51.802005Z",
     "shell.execute_reply": "2022-11-07T22:20:51.801496Z",
     "shell.execute_reply.started": "2022-11-07T22:20:51.797963Z"
    }
   },
   "outputs": [
    {
     "data": {
      "text/plain": [
       "0.9020333333333334"
      ]
     },
     "execution_count": 59,
     "metadata": {},
     "output_type": "execute_result"
    }
   ],
   "source": [
    "(0.90557+0.90408+0.89645)/3"
   ]
  },
  {
   "cell_type": "markdown",
   "id": "1c63d1b2-a661-4ca6-88b7-bccf71dfcb74",
   "metadata": {},
   "source": [
    "Going from 3-fold to 6-fold increases accuracy by almost 0.1%. Doing each donor separately increases by 0.4% or so."
   ]
  },
  {
   "cell_type": "code",
   "execution_count": 88,
   "id": "9cbca628-37bf-4d3c-96d8-642d6c226966",
   "metadata": {
    "execution": {
     "iopub.execute_input": "2022-11-07T23:05:02.220298Z",
     "iopub.status.busy": "2022-11-07T23:05:02.219893Z",
     "iopub.status.idle": "2022-11-07T23:05:08.098839Z",
     "shell.execute_reply": "2022-11-07T23:05:08.098207Z",
     "shell.execute_reply.started": "2022-11-07T23:05:02.220275Z"
    }
   },
   "outputs": [],
   "source": [
    "with open('../input/targets-multiome-sparse-scaled/train_Citeseq_truncated_512.pkl','rb') as f: X = pickle.load(f)\n",
    "with open('../input/targets-multiome-sparse-scaled/test_Citeseq_truncated_512.pkl','rb') as f: Xt = pickle.load(f)\n",
    "\n",
    "X.shape, Xt.shape\n",
    "\n",
    "Y = pd.read_hdf(FP_CITE_TRAIN_TARGETS)\n",
    "#Y = Y.loc[meta.day == 3]\n",
    "Y = Y.values\n",
    "Y -= Y.mean(axis=1).reshape(-1, 1)\n",
    "Y /= Y.std(axis=1).reshape(-1, 1)\n",
    "Y.shape\n",
    "\n",
    "X0 = np.genfromtxt('./sparse/X0.csv',delimiter=',')\n",
    "st = StandardScaler()\n",
    "X0 = st.fit_transform(X0)\n",
    "\n",
    "X = np.hstack((X[:,:75],X0))\n",
    "X.shape\n",
    "X_copy = X.copy()\n",
    "Y_copy = Y.copy()"
   ]
  },
  {
   "cell_type": "code",
   "execution_count": null,
   "id": "49bd9288-590d-4c08-9a31-b3018c3d2794",
   "metadata": {},
   "outputs": [],
   "source": [
    "targets_copy = scipy.sparse.load_npz(\"./sparse/train_multi_targets_values.sparse.npz\")\n",
    "targets_copy = scprep.filter.remove_empty_genes(targets_copy)\n",
    "inputs_both_128 = np.load(\"./multi_pca/inputs_both_128.npy\")\n",
    "X_copy = inputs_both_128[:targets_copy.shape[0],:40]\n",
    "for (i,j) in selector.keys():\n",
    "    targets = targets_copy.copy()\n",
    "    X = X_copy.copy()\n",
    "    targets = targets[selector[(i,j)]]\n",
    "    # Normalize the targets row-wise: This doesn't change the correlations,\n",
    "    # and negative_correlation_loss depends on it\n",
    "    targets -= targets.mean(axis=1).reshape(-1, 1)\n",
    "    targets /= targets.std(axis=1).reshape(-1, 1)\n",
    "    targets = np.array(targets)\n",
    "    svd = TruncatedSVD(n_components = 512,random_state = 1)\n",
    "    Y = svd.fit_transform(targets)[:,:64]\n",
    "    X = X_copy[selector[(i,j)]]\n",
    "    evaluate(i,j)"
   ]
  },
  {
   "cell_type": "code",
   "execution_count": 9,
   "id": "1c6dfec1-8eb9-4dda-92a2-f3c8ba02d944",
   "metadata": {
    "execution": {
     "iopub.execute_input": "2022-11-08T00:56:41.733798Z",
     "iopub.status.busy": "2022-11-08T00:56:41.733399Z",
     "iopub.status.idle": "2022-11-08T01:03:34.586349Z",
     "shell.execute_reply": "2022-11-08T01:03:34.585487Z",
     "shell.execute_reply.started": "2022-11-08T00:56:41.733773Z"
    },
    "tags": []
   },
   "outputs": [
    {
     "name": "stdout",
     "output_type": "stream",
     "text": [
      "299/299 [==============================] - 1s 2ms/step\n",
      "299/299 [==============================] - 1s 2ms/step\n",
      "299/299 [==============================] - 1s 2ms/step\n",
      "Donor 32606 predicts donor 13176 on day 2 with corr 0.6730082590593391.\n",
      "222/222 [==============================] - 1s 2ms/step\n",
      "222/222 [==============================] - 1s 2ms/step\n",
      "222/222 [==============================] - 1s 2ms/step\n",
      "Donor 32606 predicts donor 31800 on day 2 with corr 0.6806154417040124.\n",
      "227/227 [==============================] - 1s 2ms/step\n",
      "227/227 [==============================] - 1s 2ms/step\n",
      "227/227 [==============================] - 1s 2ms/step\n",
      "Donor 13176 predicts donor 32606 on day 2 with corr 0.6827436845256956.\n",
      "222/222 [==============================] - 1s 2ms/step\n",
      "222/222 [==============================] - 1s 2ms/step\n",
      "222/222 [==============================] - 1s 2ms/step\n",
      "Donor 13176 predicts donor 31800 on day 2 with corr 0.6775136286593677.\n",
      "227/227 [==============================] - 1s 2ms/step\n",
      "227/227 [==============================] - 1s 2ms/step\n",
      "227/227 [==============================] - 1s 2ms/step\n",
      "Donor 31800 predicts donor 32606 on day 2 with corr 0.685451284795964.\n",
      "299/299 [==============================] - 1s 2ms/step\n",
      "299/299 [==============================] - 1s 2ms/step\n",
      "299/299 [==============================] - 1s 2ms/step\n",
      "Donor 31800 predicts donor 13176 on day 2 with corr 0.672379483697253.\n",
      "281/281 [==============================] - 1s 2ms/step\n",
      "281/281 [==============================] - 1s 2ms/step\n",
      "281/281 [==============================] - 1s 2ms/step\n",
      "Donor 32606 predicts donor 13176 on day 3 with corr 0.6553787873814387.\n",
      "354/354 [==============================] - 1s 2ms/step\n",
      "354/354 [==============================] - 1s 2ms/step\n",
      "354/354 [==============================] - 1s 2ms/step\n",
      "Donor 32606 predicts donor 31800 on day 3 with corr 0.6336354062529106.\n",
      "267/267 [==============================] - 1s 2ms/step\n",
      "267/267 [==============================] - 1s 2ms/step\n",
      "267/267 [==============================] - 1s 2ms/step\n",
      "Donor 13176 predicts donor 32606 on day 3 with corr 0.6503748791032748.\n",
      "354/354 [==============================] - 1s 2ms/step\n",
      "354/354 [==============================] - 1s 2ms/step\n",
      "354/354 [==============================] - 1s 2ms/step\n",
      "Donor 13176 predicts donor 31800 on day 3 with corr 0.6341476315936252.\n",
      "267/267 [==============================] - 1s 2ms/step\n",
      "267/267 [==============================] - 1s 2ms/step\n",
      "267/267 [==============================] - 1s 2ms/step\n",
      "Donor 31800 predicts donor 32606 on day 3 with corr 0.6420408684871926.\n",
      "281/281 [==============================] - 1s 2ms/step\n",
      "281/281 [==============================] - 1s 2ms/step\n",
      "281/281 [==============================] - 1s 2ms/step\n",
      "Donor 31800 predicts donor 13176 on day 3 with corr 0.6443097608713139.\n",
      "294/294 [==============================] - 1s 2ms/step\n",
      "294/294 [==============================] - 1s 2ms/step\n",
      "294/294 [==============================] - 1s 2ms/step\n",
      "Donor 32606 predicts donor 13176 on day 4 with corr 0.6747769893220678.\n",
      "338/338 [==============================] - 1s 2ms/step\n",
      "338/338 [==============================] - 1s 2ms/step\n",
      "338/338 [==============================] - 1s 2ms/step\n",
      "Donor 32606 predicts donor 31800 on day 4 with corr 0.6719997227927398.\n",
      "342/342 [==============================] - 1s 2ms/step\n",
      "342/342 [==============================] - 1s 2ms/step\n",
      "342/342 [==============================] - 1s 2ms/step\n",
      "Donor 13176 predicts donor 32606 on day 4 with corr 0.6723669451627503.\n",
      "338/338 [==============================] - 1s 2ms/step\n",
      "338/338 [==============================] - 1s 2ms/step\n",
      "338/338 [==============================] - 1s 2ms/step\n",
      "Donor 13176 predicts donor 31800 on day 4 with corr 0.6645175095425477.\n",
      "342/342 [==============================] - 1s 2ms/step\n",
      "342/342 [==============================] - 1s 2ms/step\n",
      "342/342 [==============================] - 1s 2ms/step\n",
      "Donor 31800 predicts donor 32606 on day 4 with corr 0.6696122279385839.\n",
      "294/294 [==============================] - 1s 2ms/step\n",
      "294/294 [==============================] - 1s 2ms/step\n",
      "294/294 [==============================] - 1s 2ms/step\n",
      "Donor 31800 predicts donor 13176 on day 4 with corr 0.6627368205819629.\n",
      "234/234 [==============================] - 1s 2ms/step\n",
      "234/234 [==============================] - 1s 2ms/step\n",
      "234/234 [==============================] - 1s 2ms/step\n",
      "Donor 32606 predicts donor 13176 on day 7 with corr 0.5610992305358481.\n",
      "240/240 [==============================] - 1s 2ms/step\n",
      "240/240 [==============================] - 1s 2ms/step\n",
      "240/240 [==============================] - 1s 2ms/step\n",
      "Donor 32606 predicts donor 31800 on day 7 with corr 0.5524693865672534.\n",
      "218/218 [==============================] - 1s 2ms/step\n",
      "218/218 [==============================] - 1s 2ms/step\n",
      "218/218 [==============================] - 1s 2ms/step\n",
      "Donor 13176 predicts donor 32606 on day 7 with corr 0.5575225809022369.\n",
      "240/240 [==============================] - 1s 2ms/step\n",
      "240/240 [==============================] - 1s 2ms/step\n",
      "240/240 [==============================] - 1s 2ms/step\n",
      "Donor 13176 predicts donor 31800 on day 7 with corr 0.6078747421968751.\n",
      "218/218 [==============================] - 1s 2ms/step\n",
      "218/218 [==============================] - 1s 2ms/step\n",
      "218/218 [==============================] - 1s 2ms/step\n",
      "Donor 31800 predicts donor 32606 on day 7 with corr 0.5605611936569083.\n",
      "234/234 [==============================] - 1s 2ms/step\n",
      "234/234 [==============================] - 1s 2ms/step\n",
      "234/234 [==============================] - 1s 2ms/step\n",
      "Donor 31800 predicts donor 13176 on day 7 with corr 0.6249225475101304.\n"
     ]
    }
   ],
   "source": [
    "targets_copy = scipy.sparse.load_npz(\"./sparse/train_multi_targets_values.sparse.npz\")\n",
    "targets_copy = scprep.filter.remove_empty_genes(targets_copy)\n",
    "inputs_both_128 = np.load(\"./multi_pca/inputs_both_128.npy\")\n",
    "X_copy = inputs_both_128[:targets_copy.shape[0],:40]\n",
    "donors = (32606,13176,31800)\n",
    "for (day,donor) in selector.keys():\n",
    "    for donor2 in donors:\n",
    "        if donor != donor2:\n",
    "            targets = targets_copy.copy()\n",
    "            X = X_copy.copy()\n",
    "            targets = targets[selector[(day,donor2)]]\n",
    "            # Normalize the targets row-wise: This doesn't change the correlations,\n",
    "            # and negative_correlation_loss depends on it\n",
    "            targets -= targets.mean(axis=1).reshape(-1, 1)\n",
    "            targets /= targets.std(axis=1).reshape(-1, 1)\n",
    "            targets = np.array(targets)\n",
    "            svd = TruncatedSVD(n_components = 512,random_state = 1)\n",
    "            Y = svd.fit_transform(targets)[:,:64]\n",
    "            X = X_copy[selector[(day,donor2)]]\n",
    "            corr = 0\n",
    "            for fold in range(3):\n",
    "                model = load_model(f\"./multi_model_saves/model_{day}_{donor}_{fold}\")\n",
    "                corr += correlation_score(targets,model.predict(X)@svd.components_[:64])/3\n",
    "            print(f'Donor {donor} predicts donor {donor2} on day {day} with corr {corr}.')    "
   ]
  },
  {
   "cell_type": "markdown",
   "id": "57d1892f-d506-4d76-8ad4-3d557a347d0c",
   "metadata": {},
   "source": [
    "day 2: 32606\n",
    "day 3: 31800\n",
    "day 4: 32606\n",
    "day 7: 31800, (32606 is broken)\n",
    "or more robust if added..."
   ]
  },
  {
   "cell_type": "code",
   "execution_count": 10,
   "id": "58e46965-51ed-47c3-91ad-d2fed9113524",
   "metadata": {
    "execution": {
     "iopub.execute_input": "2022-11-08T01:10:26.711614Z",
     "iopub.status.busy": "2022-11-08T01:10:26.711197Z",
     "iopub.status.idle": "2022-11-08T01:13:44.618587Z",
     "shell.execute_reply": "2022-11-08T01:13:44.617901Z",
     "shell.execute_reply.started": "2022-11-08T01:10:26.711590Z"
    },
    "tags": []
   },
   "outputs": [
    {
     "name": "stdout",
     "output_type": "stream",
     "text": [
      "227/227 [==============================] - 1s 2ms/step\n",
      "227/227 [==============================] - 1s 2ms/step\n",
      "227/227 [==============================] - 1s 2ms/step\n",
      "Donor 32606 predicts donor 32606 on day 2 with corr 0.6905521600442847.\n",
      "299/299 [==============================] - 1s 2ms/step\n",
      "299/299 [==============================] - 1s 2ms/step\n",
      "299/299 [==============================] - 1s 2ms/step\n",
      "Donor 13176 predicts donor 13176 on day 2 with corr 0.680542768557171.\n",
      "222/222 [==============================] - 1s 2ms/step\n",
      "222/222 [==============================] - 1s 2ms/step\n",
      "222/222 [==============================] - 1s 2ms/step\n",
      "Donor 31800 predicts donor 31800 on day 2 with corr 0.6861026180398181.\n",
      "267/267 [==============================] - 1s 2ms/step\n",
      "267/267 [==============================] - 1s 2ms/step\n",
      "267/267 [==============================] - 1s 2ms/step\n",
      "Donor 32606 predicts donor 32606 on day 3 with corr 0.6731700745188889.\n",
      "281/281 [==============================] - 1s 2ms/step\n",
      "281/281 [==============================] - 1s 2ms/step\n",
      "281/281 [==============================] - 1s 2ms/step\n",
      "Donor 13176 predicts donor 13176 on day 3 with corr 0.678551478132709.\n",
      "354/354 [==============================] - 1s 2ms/step\n",
      "354/354 [==============================] - 1s 2ms/step\n",
      "354/354 [==============================] - 1s 2ms/step\n",
      "Donor 31800 predicts donor 31800 on day 3 with corr 0.6667744868983991.\n",
      "342/342 [==============================] - 1s 2ms/step\n",
      "342/342 [==============================] - 1s 2ms/step\n",
      "342/342 [==============================] - 1s 2ms/step\n",
      "Donor 32606 predicts donor 32606 on day 4 with corr 0.6880103588311124.\n",
      "294/294 [==============================] - 1s 2ms/step\n",
      "294/294 [==============================] - 1s 2ms/step\n",
      "294/294 [==============================] - 1s 2ms/step\n",
      "Donor 13176 predicts donor 13176 on day 4 with corr 0.6908780080373217.\n",
      "338/338 [==============================] - 1s 2ms/step\n",
      "338/338 [==============================] - 1s 2ms/step\n",
      "338/338 [==============================] - 1s 2ms/step\n",
      "Donor 31800 predicts donor 31800 on day 4 with corr 0.6909716652320554.\n",
      "218/218 [==============================] - 1s 2ms/step\n",
      "218/218 [==============================] - 1s 2ms/step\n",
      "218/218 [==============================] - 1s 2ms/step\n",
      "Donor 32606 predicts donor 32606 on day 7 with corr 0.629945652049767.\n",
      "234/234 [==============================] - 1s 2ms/step\n",
      "234/234 [==============================] - 1s 2ms/step\n",
      "234/234 [==============================] - 1s 2ms/step\n",
      "Donor 13176 predicts donor 13176 on day 7 with corr 0.6437883818426926.\n",
      "240/240 [==============================] - 1s 2ms/step\n",
      "240/240 [==============================] - 1s 2ms/step\n",
      "240/240 [==============================] - 1s 2ms/step\n",
      "Donor 31800 predicts donor 31800 on day 7 with corr 0.627570830818065.\n"
     ]
    }
   ],
   "source": [
    "for (day,donor) in selector.keys():\n",
    "    targets = targets_copy.copy()\n",
    "    X = X_copy.copy()\n",
    "    targets = targets[selector[(day,donor)]]\n",
    "    # Normalize the targets row-wise: This doesn't change the correlations,\n",
    "    # and negative_correlation_loss depends on it\n",
    "    targets -= targets.mean(axis=1).reshape(-1, 1)\n",
    "    targets /= targets.std(axis=1).reshape(-1, 1)\n",
    "    targets = np.array(targets)\n",
    "    svd = TruncatedSVD(n_components = 512,random_state = 1)\n",
    "    Y = svd.fit_transform(targets)[:,:64]\n",
    "    X = X_copy[selector[(day,donor)]]\n",
    "    corr = 0\n",
    "    for fold in range(3):\n",
    "        model = load_model(f\"./multi_model_saves/model_{day}_{donor}_{fold}\")\n",
    "        corr += correlation_score(targets,model.predict(X)@svd.components_[:64])/3\n",
    "    print(f'Donor {donor} predicts donor {donor} on day {day} with corr {corr}.')    "
   ]
  },
  {
   "cell_type": "code",
   "execution_count": 3,
   "id": "b014aa1a-4902-49ce-b734-f63389c994d8",
   "metadata": {
    "execution": {
     "iopub.execute_input": "2022-11-08T19:50:49.164792Z",
     "iopub.status.busy": "2022-11-08T19:50:49.164599Z",
     "iopub.status.idle": "2022-11-08T19:51:05.557054Z",
     "shell.execute_reply": "2022-11-08T19:51:05.556386Z",
     "shell.execute_reply.started": "2022-11-08T19:50:49.164776Z"
    },
    "tags": []
   },
   "outputs": [
    {
     "name": "stderr",
     "output_type": "stream",
     "text": [
      "2022-11-08 19:50:49.233932: I tensorflow/stream_executor/cuda/cuda_gpu_executor.cc:980] successful NUMA node read from SysFS had negative value (-1), but there must be at least one NUMA node, so returning NUMA node zero\n",
      "2022-11-08 19:50:49.241753: W tensorflow/stream_executor/platform/default/dso_loader.cc:64] Could not load dynamic library 'libcudnn.so.8'; dlerror: libcudnn.so.8: cannot open shared object file: No such file or directory; LD_LIBRARY_PATH: /usr/local/nvidia/lib:/usr/local/nvidia/lib64\n",
      "2022-11-08 19:50:49.241769: W tensorflow/core/common_runtime/gpu/gpu_device.cc:1934] Cannot dlopen some GPU libraries. Please make sure the missing libraries mentioned above are installed properly if you would like to use GPU. Follow the guide at https://www.tensorflow.org/install/gpu for how to download and setup the required libraries for your platform.\n",
      "Skipping registering GPU devices...\n",
      "2022-11-08 19:50:49.242101: I tensorflow/core/platform/cpu_feature_guard.cc:193] This TensorFlow binary is optimized with oneAPI Deep Neural Network Library (oneDNN) to use the following CPU instructions in performance-critical operations:  AVX2 AVX512F AVX512_VNNI FMA\n",
      "To enable them in other operations, rebuild TensorFlow with the appropriate compiler flags.\n"
     ]
    }
   ],
   "source": [
    "model = load_model(f\"./multi_model_saves/model_2_32606_0\")\n",
    "targets_copy = scipy.sparse.load_npz(\"./sparse/train_multi_targets_values.sparse.npz\")\n",
    "targets_copy = scprep.filter.remove_empty_genes(targets_copy)\n",
    "inputs_both_128 = np.load(\"./multi_pca/inputs_both_128.npy\")\n",
    "X_copy = inputs_both_128[:targets_copy.shape[0],:40]"
   ]
  },
  {
   "cell_type": "code",
   "execution_count": 4,
   "id": "4b58220b-ecba-4ef7-bb0f-f76bbe5962fb",
   "metadata": {
    "execution": {
     "iopub.execute_input": "2022-11-08T19:51:05.558636Z",
     "iopub.status.busy": "2022-11-08T19:51:05.558343Z",
     "iopub.status.idle": "2022-11-08T19:51:05.910055Z",
     "shell.execute_reply": "2022-11-08T19:51:05.909443Z",
     "shell.execute_reply.started": "2022-11-08T19:51:05.558615Z"
    },
    "tags": []
   },
   "outputs": [],
   "source": [
    "import warnings\n",
    "warnings.filterwarnings(\"ignore\")\n",
    "\n",
    "with np.load('./sparse/train_multi_inputs_idxcol.npz',allow_pickle=True) as data:\n",
    "    cell_index = data['index']\n",
    "with np.load('./sparse/test_multi_inputs_idxcol.npz',allow_pickle=True) as data:\n",
    "    cell_index_t = data['index']\n",
    "metadata_df = pd.read_csv('../input/open-problems-multimodal/metadata.csv', index_col='cell_id')\n",
    "metadata_df = metadata_df[metadata_df.technology==\"multiome\"]\n",
    "meta = metadata_df.reindex(cell_index)\n",
    "meta['range'] = range(len(meta))\n",
    "selector = {}\n",
    "for i in (2,3,4,7):\n",
    "    for j in (32606,13176,31800):\n",
    "        selector[(i,j)] = meta.loc[(meta.day == i)&(meta.donor == j)].range.values"
   ]
  },
  {
   "cell_type": "code",
   "execution_count": 5,
   "id": "690fa661-aba0-4420-8f91-c1900f4dc039",
   "metadata": {
    "execution": {
     "iopub.execute_input": "2022-11-08T19:10:38.599969Z",
     "iopub.status.busy": "2022-11-08T19:10:38.599676Z",
     "iopub.status.idle": "2022-11-08T19:10:53.104508Z",
     "shell.execute_reply": "2022-11-08T19:10:53.103874Z",
     "shell.execute_reply.started": "2022-11-08T19:10:38.599948Z"
    },
    "tags": []
   },
   "outputs": [
    {
     "name": "stdout",
     "output_type": "stream",
     "text": [
      "234/234 [==============================] - 1s 2ms/step\n",
      "234/234 [==============================] - 1s 2ms/step\n"
     ]
    }
   ],
   "source": [
    "model = load_model(f\"./multi_model_saves/model_2_31800_0\")\n",
    "day = 7\n",
    "donor = 13176\n",
    "targets = targets_copy.copy()\n",
    "X = X_copy.copy()\n",
    "targets = targets[selector[(day,donor)]]\n",
    "# Normalize the targets row-wise: This doesn't change the correlations,\n",
    "# and negative_correlation_loss depends on it\n",
    "targets -= targets.mean(axis=1).reshape(-1, 1)\n",
    "targets /= targets.std(axis=1).reshape(-1, 1)\n",
    "targets = np.array(targets)\n",
    "svd = TruncatedSVD(n_components = 512,random_state = 1)\n",
    "Y = svd.fit_transform(targets)[:,:64]\n",
    "X = X_copy[selector[(day,donor)]]\n",
    "correlation_score(targets,model.predict(X)@svd.components_[:64])\n",
    "y_pred = model.predict(X)@svd.components_[:64]\n",
    "corrs = []\n",
    "for i in range(len(X)):\n",
    "    corrs.append(np.corrcoef(targets[i], y_pred[i])[1, 0])"
   ]
  },
  {
   "cell_type": "code",
   "execution_count": 25,
   "id": "714e8ac5-4366-49ab-a3b3-c2f38b175341",
   "metadata": {
    "execution": {
     "iopub.execute_input": "2022-11-08T03:28:15.827439Z",
     "iopub.status.busy": "2022-11-08T03:28:15.827126Z",
     "iopub.status.idle": "2022-11-08T03:28:16.048661Z",
     "shell.execute_reply": "2022-11-08T03:28:16.048107Z",
     "shell.execute_reply.started": "2022-11-08T03:28:15.827417Z"
    },
    "tags": []
   },
   "outputs": [
    {
     "data": {
      "image/png": "[encoded data removed]",
      "text/plain": [
       "<Figure size 432x288 with 1 Axes>"
      ]
     },
     "metadata": {
      "needs_background": "light"
     },
     "output_type": "display_data"
    }
   ],
   "source": [
    "#day 7\n",
    "plt.hist(corrs,bins=100);"
   ]
  },
  {
   "cell_type": "code",
   "execution_count": 23,
   "id": "50a38d10-6109-40ac-9e4e-2cf88a304706",
   "metadata": {
    "execution": {
     "iopub.execute_input": "2022-11-08T03:28:01.981127Z",
     "iopub.status.busy": "2022-11-08T03:28:01.980826Z",
     "iopub.status.idle": "2022-11-08T03:28:02.227195Z",
     "shell.execute_reply": "2022-11-08T03:28:02.226605Z",
     "shell.execute_reply.started": "2022-11-08T03:28:01.981107Z"
    },
    "tags": []
   },
   "outputs": [
    {
     "data": {
      "image/png": "[encoded data removed]",
      "text/plain": [
       "<Figure size 432x288 with 1 Axes>"
      ]
     },
     "metadata": {
      "needs_background": "light"
     },
     "output_type": "display_data"
    }
   ],
   "source": [
    "#day 3\n",
    "plt.hist(corrs,bins = 100);"
   ]
  },
  {
   "cell_type": "code",
   "execution_count": 33,
   "id": "fbcc0ca7-6f8c-4cff-9eea-7939f874ba3c",
   "metadata": {
    "execution": {
     "iopub.execute_input": "2022-11-08T03:29:49.306377Z",
     "iopub.status.busy": "2022-11-08T03:29:49.306066Z",
     "iopub.status.idle": "2022-11-08T03:29:49.856680Z",
     "shell.execute_reply": "2022-11-08T03:29:49.856108Z",
     "shell.execute_reply.started": "2022-11-08T03:29:49.306357Z"
    },
    "tags": []
   },
   "outputs": [
    {
     "data": {
      "image/png": "[encoded data removed]",
      "text/plain": [
       "<Figure size 432x288 with 1 Axes>"
      ]
     },
     "metadata": {
      "needs_background": "light"
     },
     "output_type": "display_data"
    }
   ],
   "source": [
    "#day 7\n",
    "plt.hist(corrs,bins=100);"
   ]
  },
  {
   "cell_type": "code",
   "execution_count": 19,
   "id": "f918d292-598e-430f-a286-92f1a59428ac",
   "metadata": {
    "execution": {
     "iopub.execute_input": "2022-11-08T03:26:56.420237Z",
     "iopub.status.busy": "2022-11-08T03:26:56.419850Z",
     "iopub.status.idle": "2022-11-08T03:26:56.659416Z",
     "shell.execute_reply": "2022-11-08T03:26:56.658844Z",
     "shell.execute_reply.started": "2022-11-08T03:26:56.420213Z"
    }
   },
   "outputs": [
    {
     "data": {
      "image/png": "[encoded data removed]",
      "text/plain": [
       "<Figure size 432x288 with 1 Axes>"
      ]
     },
     "metadata": {
      "needs_background": "light"
     },
     "output_type": "display_data"
    }
   ],
   "source": [
    "#day 3\n",
    "plt.hist(corrs,bins=100);"
   ]
  },
  {
   "cell_type": "code",
   "execution_count": 29,
   "id": "114abb9e-4d16-48c1-aadf-b43236287740",
   "metadata": {
    "execution": {
     "iopub.execute_input": "2022-11-08T03:29:01.821517Z",
     "iopub.status.busy": "2022-11-08T03:29:01.821208Z",
     "iopub.status.idle": "2022-11-08T03:29:02.067355Z",
     "shell.execute_reply": "2022-11-08T03:29:02.066791Z",
     "shell.execute_reply.started": "2022-11-08T03:29:01.821497Z"
    },
    "tags": []
   },
   "outputs": [
    {
     "data": {
      "image/png": "[encoded data removed]",
      "text/plain": [
       "<Figure size 432x288 with 1 Axes>"
      ]
     },
     "metadata": {
      "needs_background": "light"
     },
     "output_type": "display_data"
    }
   ],
   "source": [
    "#day 7\n",
    "plt.hist(corrs,bins=100);"
   ]
  },
  {
   "cell_type": "code",
   "execution_count": 31,
   "id": "6fc1aad6-da09-4034-9458-8a8138fbc5d9",
   "metadata": {
    "execution": {
     "iopub.execute_input": "2022-11-08T03:29:19.456757Z",
     "iopub.status.busy": "2022-11-08T03:29:19.456450Z",
     "iopub.status.idle": "2022-11-08T03:29:19.701291Z",
     "shell.execute_reply": "2022-11-08T03:29:19.700696Z",
     "shell.execute_reply.started": "2022-11-08T03:29:19.456737Z"
    },
    "tags": []
   },
   "outputs": [
    {
     "data": {
      "image/png": "[encoded data removed]",
      "text/plain": [
       "<Figure size 432x288 with 1 Axes>"
      ]
     },
     "metadata": {
      "needs_background": "light"
     },
     "output_type": "display_data"
    }
   ],
   "source": [
    "#day 3\n",
    "plt.hist(corrs,bins=100);"
   ]
  },
  {
   "cell_type": "code",
   "execution_count": 35,
   "id": "14d3dc26-0bab-44d4-b32a-e6c99b1d4576",
   "metadata": {
    "execution": {
     "iopub.execute_input": "2022-11-08T03:30:57.173868Z",
     "iopub.status.busy": "2022-11-08T03:30:57.173477Z",
     "iopub.status.idle": "2022-11-08T03:30:57.416399Z",
     "shell.execute_reply": "2022-11-08T03:30:57.415824Z",
     "shell.execute_reply.started": "2022-11-08T03:30:57.173845Z"
    }
   },
   "outputs": [
    {
     "data": {
      "image/png": "[encoded data removed]",
      "text/plain": [
       "<Figure size 432x288 with 1 Axes>"
      ]
     },
     "metadata": {
      "needs_background": "light"
     },
     "output_type": "display_data"
    }
   ],
   "source": [
    "#7->2\n",
    "plt.hist(corrs,bins=100);"
   ]
  },
  {
   "cell_type": "code",
   "execution_count": 37,
   "id": "a1f53e15-edb7-41fc-8000-bea2df486d2e",
   "metadata": {
    "execution": {
     "iopub.execute_input": "2022-11-08T03:31:34.000297Z",
     "iopub.status.busy": "2022-11-08T03:31:33.999911Z",
     "iopub.status.idle": "2022-11-08T03:31:34.240106Z",
     "shell.execute_reply": "2022-11-08T03:31:34.239533Z",
     "shell.execute_reply.started": "2022-11-08T03:31:34.000273Z"
    }
   },
   "outputs": [
    {
     "data": {
      "image/png": "[encoded data removed]",
      "text/plain": [
       "<Figure size 432x288 with 1 Axes>"
      ]
     },
     "metadata": {
      "needs_background": "light"
     },
     "output_type": "display_data"
    }
   ],
   "source": [
    "#7->4\n",
    "plt.hist(corrs,bins=100);"
   ]
  },
  {
   "cell_type": "code",
   "execution_count": 5,
   "id": "99aa234a-73b0-4fe5-8287-0f68c49f4ce3",
   "metadata": {
    "execution": {
     "iopub.execute_input": "2022-11-08T18:02:04.363742Z",
     "iopub.status.busy": "2022-11-08T18:02:04.363344Z",
     "iopub.status.idle": "2022-11-08T18:02:04.367322Z",
     "shell.execute_reply": "2022-11-08T18:02:04.366790Z",
     "shell.execute_reply.started": "2022-11-08T18:02:04.363717Z"
    },
    "tags": []
   },
   "outputs": [],
   "source": [
    "mask_model2 = np.array(corrs)>0.57"
   ]
  },
  {
   "cell_type": "code",
   "execution_count": 6,
   "id": "422b1cee-9bc6-4fbe-bd3c-df39ec0d6439",
   "metadata": {
    "execution": {
     "iopub.execute_input": "2022-11-08T18:02:06.778983Z",
     "iopub.status.busy": "2022-11-08T18:02:06.778632Z",
     "iopub.status.idle": "2022-11-08T18:02:06.786971Z",
     "shell.execute_reply": "2022-11-08T18:02:06.786480Z",
     "shell.execute_reply.started": "2022-11-08T18:02:06.778959Z"
    },
    "tags": []
   },
   "outputs": [
    {
     "data": {
      "text/plain": [
       "7656"
      ]
     },
     "execution_count": 6,
     "metadata": {},
     "output_type": "execute_result"
    }
   ],
   "source": [
    "len(mask_model2)"
   ]
  },
  {
   "cell_type": "code",
   "execution_count": 7,
   "id": "7dcc3686-0196-4d72-9398-e1be5a296324",
   "metadata": {
    "execution": {
     "iopub.execute_input": "2022-11-08T18:02:08.657225Z",
     "iopub.status.busy": "2022-11-08T18:02:08.656836Z",
     "iopub.status.idle": "2022-11-08T18:02:08.661292Z",
     "shell.execute_reply": "2022-11-08T18:02:08.660761Z",
     "shell.execute_reply.started": "2022-11-08T18:02:08.657202Z"
    },
    "tags": []
   },
   "outputs": [
    {
     "data": {
      "text/plain": [
       "3945"
      ]
     },
     "execution_count": 7,
     "metadata": {},
     "output_type": "execute_result"
    }
   ],
   "source": [
    "mask_model2.sum()"
   ]
  },
  {
   "cell_type": "code",
   "execution_count": 18,
   "id": "28f4d43a-e2a5-4441-9114-45c87c33349c",
   "metadata": {
    "execution": {
     "iopub.execute_input": "2022-11-08T03:53:53.079811Z",
     "iopub.status.busy": "2022-11-08T03:53:53.079208Z",
     "iopub.status.idle": "2022-11-08T03:56:35.961164Z",
     "shell.execute_reply": "2022-11-08T03:56:35.960542Z",
     "shell.execute_reply.started": "2022-11-08T03:53:53.079776Z"
    },
    "tags": []
   },
   "outputs": [
    {
     "name": "stdout",
     "output_type": "stream",
     "text": [
      "24/24 [==============================] - 0s 2ms/step\n",
      "\n",
      " --------- FOLD 0 -----------\n",
      "Mean squared error = 6.039999961853027\n",
      "Correlation = 0.66712\n",
      "PCA Correlation = 0.98201\n",
      "24/24 [==============================] - 0s 2ms/step\n",
      "\n",
      " --------- FOLD 1 -----------\n",
      "Mean squared error = 5.800000190734863\n",
      "Correlation = 0.67073\n",
      "PCA Correlation = 0.98285\n",
      "24/24 [==============================] - 0s 2ms/step\n",
      "\n",
      " --------- FOLD 2 -----------\n",
      "Mean squared error = 5.869999885559082\n",
      "Correlation = 0.66620\n",
      "PCA Correlation = 0.98247\n",
      "24/24 [==============================] - 0s 2ms/step\n",
      "\n",
      " --------- FOLD 3 -----------\n",
      "Mean squared error = 6.010000228881836\n",
      "Correlation = 0.66806\n",
      "PCA Correlation = 0.98216\n",
      "24/24 [==============================] - 0s 2ms/step\n",
      "\n",
      " --------- FOLD 4 -----------\n",
      "Mean squared error = 5.800000190734863\n",
      "Correlation = 0.66809\n",
      "PCA Correlation = 0.98271\n",
      "24/24 [==============================] - 0s 2ms/step\n",
      "\n",
      " --------- FOLD 5 -----------\n",
      "Mean squared error = 5.980000019073486\n",
      "Correlation = 0.66953\n",
      "PCA Correlation = 0.98227\n",
      "\u001b[32m\u001b[1mMean corr = 0.66829\u001b[0m\n",
      "\u001b[31m\u001b[1mMean pca corr = 0.98241\u001b[0m\n"
     ]
    }
   ],
   "source": [
    "Y = Y[mask_model2]\n",
    "X = X[mask_model2]\n",
    "targets=targets[mask_model2]\n",
    "evaluate(7,13176,loss=False,save=False)"
   ]
  },
  {
   "cell_type": "code",
   "execution_count": 23,
   "id": "ee66a83c-1a3e-47e4-9c8e-13964baa4e50",
   "metadata": {
    "execution": {
     "iopub.execute_input": "2022-11-08T03:57:20.951706Z",
     "iopub.status.busy": "2022-11-08T03:57:20.951294Z",
     "iopub.status.idle": "2022-11-08T03:58:16.028056Z",
     "shell.execute_reply": "2022-11-08T03:58:16.027406Z",
     "shell.execute_reply.started": "2022-11-08T03:57:20.951664Z"
    }
   },
   "outputs": [
    {
     "name": "stdout",
     "output_type": "stream",
     "text": [
      "30/30 [==============================] - 0s 2ms/step\n",
      "\n",
      " --------- FOLD 0 -----------\n",
      "Mean squared error = 8.920000076293945\n",
      "Correlation = 0.59918\n",
      "PCA Correlation = 0.96697\n",
      "30/30 [==============================] - 0s 2ms/step\n",
      "\n",
      " --------- FOLD 1 -----------\n",
      "Mean squared error = 8.729999542236328\n",
      "Correlation = 0.60101\n",
      "PCA Correlation = 0.96782\n",
      "30/30 [==============================] - 0s 2ms/step\n",
      "\n",
      " --------- FOLD 2 -----------\n",
      "Mean squared error = 8.90999984741211\n",
      "Correlation = 0.60096\n",
      "PCA Correlation = 0.96711\n",
      "\u001b[32m\u001b[1mMean corr = 0.60039\u001b[0m\n",
      "\u001b[31m\u001b[1mMean pca corr = 0.96730\u001b[0m\n"
     ]
    }
   ],
   "source": [
    "Y = Y[~mask_model2]\n",
    "X = X[~mask_model2]\n",
    "targets=targets[~mask_model2]\n",
    "evaluate(7,13176,loss=False,save=False)"
   ]
  },
  {
   "cell_type": "code",
   "execution_count": 24,
   "id": "03d510ab-80d9-4921-a75f-43ec4f4c6af4",
   "metadata": {
    "execution": {
     "iopub.execute_input": "2022-11-08T03:58:53.070901Z",
     "iopub.status.busy": "2022-11-08T03:58:53.070496Z",
     "iopub.status.idle": "2022-11-08T03:58:53.076055Z",
     "shell.execute_reply": "2022-11-08T03:58:53.075442Z",
     "shell.execute_reply.started": "2022-11-08T03:58:53.070876Z"
    }
   },
   "outputs": [
    {
     "data": {
      "text/plain": [
       "0.6421795124564693"
      ]
     },
     "execution_count": 24,
     "metadata": {},
     "output_type": "execute_result"
    }
   ],
   "source": [
    "(mask_model2.sum()*0.66829+(len(mask_model2)-mask_model2.sum())*0.60039)/len(mask_model2)"
   ]
  },
  {
   "cell_type": "code",
   "execution_count": 26,
   "id": "5e53cda7-4459-40ee-a665-14b7af4b312b",
   "metadata": {
    "execution": {
     "iopub.execute_input": "2022-11-08T03:59:26.163529Z",
     "iopub.status.busy": "2022-11-08T03:59:26.163130Z",
     "iopub.status.idle": "2022-11-08T04:00:56.782114Z",
     "shell.execute_reply": "2022-11-08T04:00:56.781478Z",
     "shell.execute_reply.started": "2022-11-08T03:59:26.163502Z"
    },
    "tags": []
   },
   "outputs": [
    {
     "name": "stdout",
     "output_type": "stream",
     "text": [
      "78/78 [==============================] - 0s 2ms/step\n",
      "\n",
      " --------- FOLD 0 -----------\n",
      "Mean squared error = 7.309999942779541\n",
      "Correlation = 0.64146\n",
      "PCA Correlation = 0.97604\n",
      "78/78 [==============================] - 0s 2ms/step\n",
      "\n",
      " --------- FOLD 1 -----------\n",
      "Mean squared error = 7.28000020980835\n",
      "Correlation = 0.64124\n",
      "PCA Correlation = 0.97622\n",
      "78/78 [==============================] - 0s 2ms/step\n",
      "\n",
      " --------- FOLD 2 -----------\n",
      "Mean squared error = 7.25\n",
      "Correlation = 0.64293\n",
      "PCA Correlation = 0.97624\n",
      "\u001b[32m\u001b[1mMean corr = 0.64188\u001b[0m\n",
      "\u001b[31m\u001b[1mMean pca corr = 0.97617\u001b[0m\n"
     ]
    }
   ],
   "source": [
    "evaluate(7,13176,loss=False,save=False)"
   ]
  },
  {
   "cell_type": "code",
   "execution_count": 11,
   "id": "77d46ae9-8846-4975-8948-9d66b5d883ed",
   "metadata": {
    "execution": {
     "iopub.execute_input": "2022-11-08T18:02:38.334746Z",
     "iopub.status.busy": "2022-11-08T18:02:38.334371Z",
     "iopub.status.idle": "2022-11-08T18:03:49.065623Z",
     "shell.execute_reply": "2022-11-08T18:03:49.065016Z",
     "shell.execute_reply.started": "2022-11-08T18:02:38.334723Z"
    },
    "tags": []
   },
   "outputs": [
    {
     "name": "stdout",
     "output_type": "stream",
     "text": [
      "42/42 [==============================] - 0s 2ms/step\n",
      "\n",
      " --------- FOLD 0 -----------\n",
      "Mean squared error = 6.0\n",
      "Correlation = 0.65584\n",
      "PCA Correlation = 0.98143\n",
      "42/42 [==============================] - 0s 2ms/step\n",
      "\n",
      " --------- FOLD 1 -----------\n",
      "Mean squared error = 5.960000038146973\n",
      "Correlation = 0.65725\n",
      "PCA Correlation = 0.98166\n",
      "42/42 [==============================] - 0s 2ms/step\n",
      "\n",
      " --------- FOLD 2 -----------\n",
      "Mean squared error = 6.019999980926514\n",
      "Correlation = 0.65588\n",
      "PCA Correlation = 0.98134\n",
      "\u001b[32m\u001b[1mMean corr = 0.65632\u001b[0m\n",
      "\u001b[31m\u001b[1mMean pca corr = 0.98148\u001b[0m\n"
     ]
    }
   ],
   "source": [
    "Y = Y[mask_model2]\n",
    "X = X[mask_model2]\n",
    "targets=targets[mask_model2]\n",
    "evaluate(7,31800,loss=False,save=False)"
   ]
  },
  {
   "cell_type": "code",
   "execution_count": 13,
   "id": "dd5436a9-e081-4cc7-8287-bed2fad0602e",
   "metadata": {
    "execution": {
     "iopub.execute_input": "2022-11-08T18:04:18.492311Z",
     "iopub.status.busy": "2022-11-08T18:04:18.491882Z",
     "iopub.status.idle": "2022-11-08T18:05:14.698782Z",
     "shell.execute_reply": "2022-11-08T18:05:14.698042Z",
     "shell.execute_reply.started": "2022-11-08T18:04:18.492285Z"
    },
    "tags": []
   },
   "outputs": [
    {
     "name": "stdout",
     "output_type": "stream",
     "text": [
      "39/39 [==============================] - 0s 2ms/step\n",
      "\n",
      " --------- FOLD 0 -----------\n",
      "Mean squared error = 8.489999771118164\n",
      "Correlation = 0.59320\n",
      "PCA Correlation = 0.96806\n",
      "39/39 [==============================] - 0s 2ms/step\n",
      "\n",
      " --------- FOLD 1 -----------\n",
      "Mean squared error = 8.59000015258789\n",
      "Correlation = 0.59291\n",
      "PCA Correlation = 0.96752\n",
      "39/39 [==============================] - 0s 2ms/step\n",
      "\n",
      " --------- FOLD 2 -----------\n",
      "Mean squared error = 8.4399995803833\n",
      "Correlation = 0.59324\n",
      "PCA Correlation = 0.96800\n",
      "\u001b[32m\u001b[1mMean corr = 0.59312\u001b[0m\n",
      "\u001b[31m\u001b[1mMean pca corr = 0.96786\u001b[0m\n"
     ]
    }
   ],
   "source": [
    "Y = Y[~mask_model2]\n",
    "X = X[~mask_model2]\n",
    "targets=targets[~mask_model2]\n",
    "evaluate(7,31800,loss=False,save=False)"
   ]
  },
  {
   "cell_type": "code",
   "execution_count": 14,
   "id": "74005cee-84dd-49f7-94fd-abf10502d20d",
   "metadata": {
    "execution": {
     "iopub.execute_input": "2022-11-08T18:05:45.512896Z",
     "iopub.status.busy": "2022-11-08T18:05:45.512475Z",
     "iopub.status.idle": "2022-11-08T18:05:45.518018Z",
     "shell.execute_reply": "2022-11-08T18:05:45.517334Z",
     "shell.execute_reply.started": "2022-11-08T18:05:45.512870Z"
    }
   },
   "outputs": [
    {
     "data": {
      "text/plain": [
       "0.6256858307210031"
      ]
     },
     "execution_count": 14,
     "metadata": {},
     "output_type": "execute_result"
    }
   ],
   "source": [
    "(mask_model2.sum()*0.65632+(len(mask_model2)-mask_model2.sum())*0.59312)/len(mask_model2)"
   ]
  },
  {
   "cell_type": "code",
   "execution_count": 18,
   "id": "665a5a31-e315-4236-b16a-4c62c699da9f",
   "metadata": {
    "execution": {
     "iopub.execute_input": "2022-11-08T18:11:27.360962Z",
     "iopub.status.busy": "2022-11-08T18:11:27.360580Z",
     "iopub.status.idle": "2022-11-08T18:12:53.804752Z",
     "shell.execute_reply": "2022-11-08T18:12:53.804151Z",
     "shell.execute_reply.started": "2022-11-08T18:11:27.360938Z"
    },
    "tags": []
   },
   "outputs": [
    {
     "name": "stdout",
     "output_type": "stream",
     "text": [
      "80/80 [==============================] - 0s 2ms/step\n",
      "\n",
      " --------- FOLD 0 -----------\n",
      "Mean squared error = 7.369999885559082\n",
      "Correlation = 0.62471\n",
      "PCA Correlation = 0.97460\n",
      "80/80 [==============================] - 0s 2ms/step\n",
      "\n",
      " --------- FOLD 1 -----------\n",
      "Mean squared error = 7.429999828338623\n",
      "Correlation = 0.62585\n",
      "PCA Correlation = 0.97447\n",
      "80/80 [==============================] - 0s 2ms/step\n",
      "\n",
      " --------- FOLD 2 -----------\n",
      "Mean squared error = 7.369999885559082\n",
      "Correlation = 0.62590\n",
      "PCA Correlation = 0.97470\n",
      "\u001b[32m\u001b[1mMean corr = 0.62549\u001b[0m\n",
      "\u001b[31m\u001b[1mMean pca corr = 0.97459\u001b[0m\n"
     ]
    }
   ],
   "source": [
    "evaluate(7,31800,loss=False,save=False)"
   ]
  },
  {
   "cell_type": "code",
   "execution_count": 27,
   "id": "fb49efbe-13db-4b1b-9f55-2cb4daf8738c",
   "metadata": {
    "execution": {
     "iopub.execute_input": "2022-11-08T18:15:11.894313Z",
     "iopub.status.busy": "2022-11-08T18:15:11.893927Z",
     "iopub.status.idle": "2022-11-08T18:15:11.901439Z",
     "shell.execute_reply": "2022-11-08T18:15:11.900919Z",
     "shell.execute_reply.started": "2022-11-08T18:15:11.894288Z"
    },
    "tags": []
   },
   "outputs": [
    {
     "data": {
      "text/plain": [
       "MasP    1751\n",
       "NeuP    1733\n",
       "MkP     1575\n",
       "HSC     1282\n",
       "EryP     900\n",
       "MoP      224\n",
       "BP         1\n",
       "Name: cell_type, dtype: int64"
      ]
     },
     "execution_count": 27,
     "metadata": {},
     "output_type": "execute_result"
    }
   ],
   "source": [
    "meta.loc[(meta.day == 7)&(meta.donor == 13176)].cell_type.value_counts()"
   ]
  },
  {
   "cell_type": "code",
   "execution_count": 6,
   "id": "f4f92e64-dec9-46a3-89b8-05228ddca99d",
   "metadata": {
    "execution": {
     "iopub.execute_input": "2022-11-08T19:54:51.333997Z",
     "iopub.status.busy": "2022-11-08T19:54:51.333714Z",
     "iopub.status.idle": "2022-11-08T19:54:51.684876Z",
     "shell.execute_reply": "2022-11-08T19:54:51.684235Z",
     "shell.execute_reply.started": "2022-11-08T19:54:51.333976Z"
    },
    "tags": []
   },
   "outputs": [],
   "source": [
    "import warnings\n",
    "warnings.filterwarnings(\"ignore\")\n",
    "\n",
    "with np.load('./sparse/train_multi_inputs_idxcol.npz',allow_pickle=True) as data:\n",
    "    cell_index = data['index']\n",
    "with np.load('./sparse/test_multi_inputs_idxcol.npz',allow_pickle=True) as data:\n",
    "    cell_index_t = data['index']\n",
    "metadata_df = pd.read_csv('../input/open-problems-multimodal/metadata.csv', index_col='cell_id')\n",
    "metadata_df = metadata_df[metadata_df.technology==\"multiome\"]\n",
    "meta = metadata_df.reindex(cell_index)\n",
    "i = 7\n",
    "j = 13176\n",
    "meta_small = meta.loc[(meta.day == i)&(meta.donor == j)]\n",
    "meta_small['range'] = range(len(meta_small))\n",
    "selector = {}\n",
    "for k in ('MasP','NeuP','MkP','HSC','Rest'):\n",
    "    if k != 'Rest':\n",
    "        selector[k] = meta_small.loc[(meta.cell_type == k)].range.values\n",
    "    else:\n",
    "        selector[k] = meta_small.loc[((meta_small.cell_type == 'EryP')|(meta_small.cell_type == 'MoP'))].range.values"
   ]
  },
  {
   "cell_type": "code",
   "execution_count": 7,
   "id": "9eb93897-e043-4eb9-a8b7-02ecc43705a5",
   "metadata": {
    "execution": {
     "iopub.execute_input": "2022-11-08T19:16:05.553040Z",
     "iopub.status.busy": "2022-11-08T19:16:05.552637Z",
     "iopub.status.idle": "2022-11-08T19:16:05.556163Z",
     "shell.execute_reply": "2022-11-08T19:16:05.555616Z",
     "shell.execute_reply.started": "2022-11-08T19:16:05.553017Z"
    },
    "tags": []
   },
   "outputs": [],
   "source": [
    "Y_copy = Y.copy()"
   ]
  },
  {
   "cell_type": "code",
   "execution_count": 19,
   "id": "62f2ff28-67d5-49a2-bb0e-9ff848ed527c",
   "metadata": {
    "execution": {
     "iopub.execute_input": "2022-11-08T19:25:03.819006Z",
     "iopub.status.busy": "2022-11-08T19:25:03.818633Z",
     "iopub.status.idle": "2022-11-08T19:25:03.824457Z",
     "shell.execute_reply": "2022-11-08T19:25:03.823902Z",
     "shell.execute_reply.started": "2022-11-08T19:25:03.818982Z"
    },
    "tags": []
   },
   "outputs": [],
   "source": [
    "meta['range'] = range(len(meta))\n",
    "day7_donor2 = meta.loc[(meta.day == 7)&(meta.donor == 13176)].range.values"
   ]
  },
  {
   "cell_type": "code",
   "execution_count": 31,
   "id": "07762e89-e94e-4f29-bcf7-7b5b7e275efd",
   "metadata": {
    "execution": {
     "iopub.execute_input": "2022-11-08T19:33:50.543059Z",
     "iopub.status.busy": "2022-11-08T19:33:50.542684Z",
     "iopub.status.idle": "2022-11-08T19:33:50.546992Z",
     "shell.execute_reply": "2022-11-08T19:33:50.546482Z",
     "shell.execute_reply.started": "2022-11-08T19:33:50.543035Z"
    },
    "tags": []
   },
   "outputs": [
    {
     "data": {
      "text/plain": [
       "(105942, 22858)"
      ]
     },
     "execution_count": 31,
     "metadata": {},
     "output_type": "execute_result"
    }
   ],
   "source": [
    "targets_copy.shape"
   ]
  },
  {
   "cell_type": "code",
   "execution_count": 32,
   "id": "d4f5e87b-80d5-434e-a494-131c17b2bbb2",
   "metadata": {
    "execution": {
     "iopub.execute_input": "2022-11-08T19:34:00.899997Z",
     "iopub.status.busy": "2022-11-08T19:34:00.899581Z",
     "iopub.status.idle": "2022-11-08T19:34:01.143949Z",
     "shell.execute_reply": "2022-11-08T19:34:01.143308Z",
     "shell.execute_reply.started": "2022-11-08T19:34:00.899973Z"
    }
   },
   "outputs": [],
   "source": [
    "int_targets_copy = targets.copy()"
   ]
  },
  {
   "cell_type": "code",
   "execution_count": 33,
   "id": "6b6f2899-b39c-4431-a82d-3d02bc93a84e",
   "metadata": {
    "execution": {
     "iopub.execute_input": "2022-11-08T19:34:48.339690Z",
     "iopub.status.busy": "2022-11-08T19:34:48.339280Z",
     "iopub.status.idle": "2022-11-08T19:39:04.170067Z",
     "shell.execute_reply": "2022-11-08T19:39:04.169310Z",
     "shell.execute_reply.started": "2022-11-08T19:34:48.339664Z"
    },
    "tags": []
   },
   "outputs": [
    {
     "name": "stdout",
     "output_type": "stream",
     "text": [
      "MasP\n",
      "19/19 [==============================] - 0s 2ms/step\n",
      "\n",
      " --------- FOLD 0 -----------\n",
      "Mean squared error = 8.989999771118164\n",
      "Correlation = 0.61662\n",
      "PCA Correlation = 0.96874\n",
      "19/19 [==============================] - 0s 2ms/step\n",
      "\n",
      " --------- FOLD 1 -----------\n",
      "Mean squared error = 8.609999656677246\n",
      "Correlation = 0.61929\n",
      "PCA Correlation = 0.97034\n",
      "19/19 [==============================] - 0s 2ms/step\n",
      "\n",
      " --------- FOLD 2 -----------\n",
      "Mean squared error = 8.84000015258789\n",
      "Correlation = 0.62210\n",
      "PCA Correlation = 0.96957\n",
      "\u001b[32m\u001b[1mMean corr = 0.61934\u001b[0m\n",
      "\u001b[31m\u001b[1mMean pca corr = 0.96955\u001b[0m\n",
      "NeuP\n",
      "19/19 [==============================] - 0s 2ms/step\n",
      "\n",
      " --------- FOLD 0 -----------\n",
      "Mean squared error = 8.0600004196167\n",
      "Correlation = 0.61642\n",
      "PCA Correlation = 0.97223\n",
      "19/19 [==============================] - 0s 2ms/step\n",
      "\n",
      " --------- FOLD 1 -----------\n",
      "Mean squared error = 8.279999732971191\n",
      "Correlation = 0.61433\n",
      "PCA Correlation = 0.97143\n",
      "19/19 [==============================] - 0s 2ms/step\n",
      "\n",
      " --------- FOLD 2 -----------\n",
      "Mean squared error = 7.739999771118164\n",
      "Correlation = 0.61673\n",
      "PCA Correlation = 0.97319\n",
      "\u001b[32m\u001b[1mMean corr = 0.61583\u001b[0m\n",
      "\u001b[31m\u001b[1mMean pca corr = 0.97228\u001b[0m\n",
      "MkP\n",
      "17/17 [==============================] - 0s 2ms/step\n",
      "\n",
      " --------- FOLD 0 -----------\n",
      "Mean squared error = 6.5\n",
      "Correlation = 0.68123\n",
      "PCA Correlation = 0.98157\n",
      "17/17 [==============================] - 0s 2ms/step\n",
      "\n",
      " --------- FOLD 1 -----------\n",
      "Mean squared error = 6.619999885559082\n",
      "Correlation = 0.67903\n",
      "PCA Correlation = 0.98098\n",
      "17/17 [==============================] - 0s 2ms/step\n",
      "\n",
      " --------- FOLD 2 -----------\n",
      "Mean squared error = 6.699999809265137\n",
      "Correlation = 0.67860\n",
      "PCA Correlation = 0.98072\n",
      "\u001b[32m\u001b[1mMean corr = 0.67962\u001b[0m\n",
      "\u001b[31m\u001b[1mMean pca corr = 0.98109\u001b[0m\n",
      "HSC\n",
      "14/14 [==============================] - 0s 2ms/step\n",
      "\n",
      " --------- FOLD 0 -----------\n",
      "Mean squared error = 6.639999866485596\n",
      "Correlation = 0.64096\n",
      "PCA Correlation = 0.97860\n",
      "14/14 [==============================] - 0s 2ms/step\n",
      "\n",
      " --------- FOLD 1 -----------\n",
      "Mean squared error = 7.190000057220459\n",
      "Correlation = 0.63575\n",
      "PCA Correlation = 0.97648\n",
      "14/14 [==============================] - 0s 2ms/step\n",
      "\n",
      " --------- FOLD 2 -----------\n",
      "Mean squared error = 6.849999904632568\n",
      "Correlation = 0.63934\n",
      "PCA Correlation = 0.97758\n",
      "\u001b[32m\u001b[1mMean corr = 0.63868\u001b[0m\n",
      "\u001b[31m\u001b[1mMean pca corr = 0.97755\u001b[0m\n",
      "Rest\n",
      "12/12 [==============================] - 0s 2ms/step\n",
      "\n",
      " --------- FOLD 0 -----------\n",
      "Mean squared error = 7.579999923706055\n",
      "Correlation = 0.66518\n",
      "PCA Correlation = 0.97728\n",
      "12/12 [==============================] - 0s 2ms/step\n",
      "\n",
      " --------- FOLD 1 -----------\n",
      "Mean squared error = 7.570000171661377\n",
      "Correlation = 0.66307\n",
      "PCA Correlation = 0.97742\n",
      "12/12 [==============================] - 0s 2ms/step\n",
      "\n",
      " --------- FOLD 2 -----------\n",
      "Mean squared error = 7.320000171661377\n",
      "Correlation = 0.66273\n",
      "PCA Correlation = 0.97765\n",
      "\u001b[32m\u001b[1mMean corr = 0.66366\u001b[0m\n",
      "\u001b[31m\u001b[1mMean pca corr = 0.97745\u001b[0m\n"
     ]
    }
   ],
   "source": [
    "for j in selector.keys():\n",
    "    Y = Y_copy.copy()\n",
    "    X = X_copy.copy()[day7_donor2]\n",
    "    targets = int_targets_copy.copy()\n",
    "    # thousand = np.random.permutation(range(len(X)))\n",
    "    # X = X[thousand]\n",
    "    # Y = Y[thousand]\n",
    "    # targets = targets[thousand]\n",
    "    Y = Y[selector[j]]\n",
    "    X = X[selector[j]]\n",
    "    targets = targets[selector[j]]\n",
    "    print(j)\n",
    "    evaluate(0,0,loss=False,save=False)"
   ]
  },
  {
   "cell_type": "code",
   "execution_count": 34,
   "id": "ac0ca20f-23e8-44c5-b586-bed0e886dcc5",
   "metadata": {
    "execution": {
     "iopub.execute_input": "2022-11-08T19:39:47.227946Z",
     "iopub.status.busy": "2022-11-08T19:39:47.227546Z",
     "iopub.status.idle": "2022-11-08T19:39:47.233118Z",
     "shell.execute_reply": "2022-11-08T19:39:47.232590Z",
     "shell.execute_reply.started": "2022-11-08T19:39:47.227921Z"
    },
    "tags": []
   },
   "outputs": [
    {
     "data": {
      "text/plain": [
       "0.6412378874748828"
      ]
     },
     "execution_count": 34,
     "metadata": {},
     "output_type": "execute_result"
    }
   ],
   "source": [
    "#c.f. Mean corr = 0.64188\n",
    "abc = [0.61934,0.61583,0.67962,0.63868,0.66366]\n",
    "total = 0\n",
    "lengths = 0\n",
    "for n,j in enumerate(selector.keys()):\n",
    "    total += len(selector[j])*abc[n]\n",
    "    lengths += len(selector[j])\n",
    "total/lengths"
   ]
  },
  {
   "cell_type": "code",
   "execution_count": 5,
   "id": "59e8a21c-c408-4fd4-a25d-00446fe1fd6f",
   "metadata": {
    "execution": {
     "iopub.execute_input": "2022-11-08T19:51:18.059979Z",
     "iopub.status.busy": "2022-11-08T19:51:18.059588Z",
     "iopub.status.idle": "2022-11-08T19:54:51.332099Z",
     "shell.execute_reply": "2022-11-08T19:54:51.331466Z",
     "shell.execute_reply.started": "2022-11-08T19:51:18.059954Z"
    },
    "tags": []
   },
   "outputs": [
    {
     "name": "stdout",
     "output_type": "stream",
     "text": [
      "MasP\n",
      "19/19 [==============================] - 0s 2ms/step\n",
      "\n",
      " --------- FOLD 0 -----------\n",
      "Mean squared error = 17.440000534057617\n",
      "Correlation = 0.61770\n",
      "PCA Correlation = 0.94064\n",
      "19/19 [==============================] - 0s 2ms/step\n",
      "\n",
      " --------- FOLD 1 -----------\n",
      "Mean squared error = 17.100000381469727\n",
      "Correlation = 0.62013\n",
      "PCA Correlation = 0.94209\n",
      "19/19 [==============================] - 0s 2ms/step\n",
      "\n",
      " --------- FOLD 2 -----------\n",
      "Mean squared error = 17.06999969482422\n",
      "Correlation = 0.62307\n",
      "PCA Correlation = 0.94224\n",
      "\u001b[32m\u001b[1mMean corr = 0.62030\u001b[0m\n",
      "\u001b[31m\u001b[1mMean pca corr = 0.94166\u001b[0m\n",
      "NeuP\n",
      "19/19 [==============================] - 0s 2ms/step\n",
      "\n",
      " --------- FOLD 0 -----------\n",
      "Mean squared error = 17.219999313354492\n",
      "Correlation = 0.61689\n",
      "PCA Correlation = 0.94065\n",
      "19/19 [==============================] - 0s 2ms/step\n",
      "\n",
      " --------- FOLD 1 -----------\n",
      "Mean squared error = 17.520000457763672\n",
      "Correlation = 0.61481\n",
      "PCA Correlation = 0.93977\n",
      "19/19 [==============================] - 0s 2ms/step\n",
      "\n",
      " --------- FOLD 2 -----------\n",
      "Mean squared error = 16.799999237060547\n",
      "Correlation = 0.61709\n",
      "PCA Correlation = 0.94199\n",
      "\u001b[32m\u001b[1mMean corr = 0.61627\u001b[0m\n",
      "\u001b[31m\u001b[1mMean pca corr = 0.94080\u001b[0m\n",
      "MkP\n",
      "17/17 [==============================] - 0s 2ms/step\n",
      "\n",
      " --------- FOLD 0 -----------\n",
      "Mean squared error = 15.479999542236328\n",
      "Correlation = 0.68247\n",
      "PCA Correlation = 0.95599\n",
      "17/17 [==============================] - 0s 2ms/step\n",
      "\n",
      " --------- FOLD 1 -----------\n",
      "Mean squared error = 16.260000228881836\n",
      "Correlation = 0.68005\n",
      "PCA Correlation = 0.95364\n",
      "17/17 [==============================] - 0s 2ms/step\n",
      "\n",
      " --------- FOLD 2 -----------\n",
      "Mean squared error = 15.890000343322754\n",
      "Correlation = 0.67969\n",
      "PCA Correlation = 0.95464\n",
      "\u001b[32m\u001b[1mMean corr = 0.68074\u001b[0m\n",
      "\u001b[31m\u001b[1mMean pca corr = 0.95476\u001b[0m\n",
      "HSC\n",
      "14/14 [==============================] - 0s 2ms/step\n",
      "\n",
      " --------- FOLD 0 -----------\n",
      "Mean squared error = 18.459999084472656\n",
      "Correlation = 0.64185\n",
      "PCA Correlation = 0.94137\n",
      "14/14 [==============================] - 0s 2ms/step\n",
      "\n",
      " --------- FOLD 1 -----------\n",
      "Mean squared error = 19.940000534057617\n",
      "Correlation = 0.63642\n",
      "PCA Correlation = 0.93596\n",
      "14/14 [==============================] - 0s 2ms/step\n",
      "\n",
      " --------- FOLD 2 -----------\n",
      "Mean squared error = 19.040000915527344\n",
      "Correlation = 0.64031\n",
      "PCA Correlation = 0.93909\n",
      "\u001b[32m\u001b[1mMean corr = 0.63953\u001b[0m\n",
      "\u001b[31m\u001b[1mMean pca corr = 0.93881\u001b[0m\n",
      "Rest\n",
      "12/12 [==============================] - 0s 2ms/step\n",
      "\n",
      " --------- FOLD 0 -----------\n",
      "Mean squared error = 19.940000534057617\n",
      "Correlation = 0.66709\n",
      "PCA Correlation = 0.94169\n",
      "12/12 [==============================] - 0s 2ms/step\n",
      "\n",
      " --------- FOLD 1 -----------\n",
      "Mean squared error = 20.219999313354492\n",
      "Correlation = 0.66489\n",
      "PCA Correlation = 0.94072\n",
      "12/12 [==============================] - 0s 2ms/step\n",
      "\n",
      " --------- FOLD 2 -----------\n",
      "Mean squared error = 20.43000030517578\n",
      "Correlation = 0.66462\n",
      "PCA Correlation = 0.93977\n",
      "\u001b[32m\u001b[1mMean corr = 0.66553\u001b[0m\n",
      "\u001b[31m\u001b[1mMean pca corr = 0.94073\u001b[0m\n"
     ]
    }
   ],
   "source": [
    "day = 7\n",
    "donor = 13176\n",
    "for k in ('MasP','NeuP','MkP','HSC','Rest'):\n",
    "    if k != 'Rest':\n",
    "        selector = meta.loc[(meta.day == day)&(meta.donor == donor)&(meta.cell_type == k)].range.values\n",
    "    else:\n",
    "        selector = meta.loc[(meta.day == day)&(meta.donor == donor)&((meta.cell_type == 'EryP')|(meta.cell_type == 'MoP'))].range.values\n",
    "    targets = targets_copy.copy()\n",
    "    X = X_copy.copy()\n",
    "    targets = targets[selector]\n",
    "    # Normalize the targets row-wise: This doesn't change the correlations,\n",
    "    # and negative_correlation_loss depends on it\n",
    "    targets -= targets.mean(axis=1).reshape(-1, 1)\n",
    "    targets /= targets.std(axis=1).reshape(-1, 1)\n",
    "    targets = np.array(targets)\n",
    "    svd = TruncatedSVD(n_components = 512,random_state = 1)\n",
    "    Y = svd.fit_transform(targets)[:,:64]\n",
    "    X = X_copy[selector]\n",
    "    print(k)\n",
    "    evaluate(0,0,loss=False,save=False)"
   ]
  },
  {
   "cell_type": "code",
   "execution_count": 7,
   "id": "c7902594-86db-4594-8ea1-13f8f6cd4015",
   "metadata": {
    "execution": {
     "iopub.execute_input": "2022-11-08T19:55:09.708712Z",
     "iopub.status.busy": "2022-11-08T19:55:09.708339Z",
     "iopub.status.idle": "2022-11-08T19:55:09.717733Z",
     "shell.execute_reply": "2022-11-08T19:55:09.717236Z",
     "shell.execute_reply.started": "2022-11-08T19:55:09.708688Z"
    }
   },
   "outputs": [
    {
     "data": {
      "text/plain": [
       "0.6422290542531814"
      ]
     },
     "execution_count": 7,
     "metadata": {},
     "output_type": "execute_result"
    }
   ],
   "source": [
    "#c.f. Mean corr = 0.64188\n",
    "abc = [0.62030,0.61627,0.68074,0.63953,0.66553]\n",
    "total = 0\n",
    "lengths = 0\n",
    "for n,j in enumerate(selector.keys()):\n",
    "    total += len(selector[j])*abc[n]\n",
    "    lengths += len(selector[j])\n",
    "total/lengths"
   ]
  },
  {
   "cell_type": "code",
   "execution_count": 8,
   "id": "1b1e6752-a31a-4f6b-bec1-9ce4d7bb764a",
   "metadata": {
    "execution": {
     "iopub.execute_input": "2022-11-08T19:55:27.230909Z",
     "iopub.status.busy": "2022-11-08T19:55:27.230525Z",
     "iopub.status.idle": "2022-11-08T19:55:27.235655Z",
     "shell.execute_reply": "2022-11-08T19:55:27.235087Z",
     "shell.execute_reply.started": "2022-11-08T19:55:27.230885Z"
    },
    "tags": []
   },
   "outputs": [],
   "source": [
    "day4_donor2 = meta.loc[(meta.day == 4)&(meta.donor == 13176)]"
   ]
  },
  {
   "cell_type": "code",
   "execution_count": 9,
   "id": "cc1021fe-007e-49ec-8557-10269e0131ce",
   "metadata": {
    "execution": {
     "iopub.execute_input": "2022-11-08T19:55:28.065594Z",
     "iopub.status.busy": "2022-11-08T19:55:28.065255Z",
     "iopub.status.idle": "2022-11-08T19:55:28.071135Z",
     "shell.execute_reply": "2022-11-08T19:55:28.070637Z",
     "shell.execute_reply.started": "2022-11-08T19:55:28.065572Z"
    },
    "tags": []
   },
   "outputs": [
    {
     "data": {
      "text/plain": [
       "HSC     2975\n",
       "NeuP    1967\n",
       "EryP    1707\n",
       "MasP    1444\n",
       "MkP     1165\n",
       "MoP      116\n",
       "BP        33\n",
       "Name: cell_type, dtype: int64"
      ]
     },
     "execution_count": 9,
     "metadata": {},
     "output_type": "execute_result"
    }
   ],
   "source": [
    "day4_donor2.cell_type.value_counts()"
   ]
  },
  {
   "cell_type": "code",
   "execution_count": 10,
   "id": "5508674b-ab46-449e-9834-d0ad3e162807",
   "metadata": {
    "execution": {
     "iopub.execute_input": "2022-11-08T19:55:28.991656Z",
     "iopub.status.busy": "2022-11-08T19:55:28.991355Z",
     "iopub.status.idle": "2022-11-08T19:55:28.995662Z",
     "shell.execute_reply": "2022-11-08T19:55:28.995100Z",
     "shell.execute_reply.started": "2022-11-08T19:55:28.991637Z"
    },
    "tags": []
   },
   "outputs": [],
   "source": [
    "day4_ratios = day4_donor2.cell_type.value_counts()/len(day4_donor2)"
   ]
  },
  {
   "cell_type": "code",
   "execution_count": 34,
   "id": "982a3f50-1d6b-44e2-9767-5cb5396bcb9a",
   "metadata": {
    "execution": {
     "iopub.execute_input": "2022-11-08T20:04:07.273949Z",
     "iopub.status.busy": "2022-11-08T20:04:07.273562Z",
     "iopub.status.idle": "2022-11-08T20:04:07.279091Z",
     "shell.execute_reply": "2022-11-08T20:04:07.278554Z",
     "shell.execute_reply.started": "2022-11-08T20:04:07.273925Z"
    },
    "tags": []
   },
   "outputs": [],
   "source": [
    "day7_donor2 = meta.loc[(meta.day == 7)&(meta.donor == 13176)].range.values"
   ]
  },
  {
   "cell_type": "code",
   "execution_count": 19,
   "id": "a66cfb68-eda8-4dd0-82a0-22de8d7a38d5",
   "metadata": {
    "execution": {
     "iopub.execute_input": "2022-11-08T19:56:24.000782Z",
     "iopub.status.busy": "2022-11-08T19:56:24.000408Z",
     "iopub.status.idle": "2022-11-08T19:56:24.008179Z",
     "shell.execute_reply": "2022-11-08T19:56:24.007661Z",
     "shell.execute_reply.started": "2022-11-08T19:56:24.000759Z"
    },
    "tags": []
   },
   "outputs": [
    {
     "data": {
      "text/plain": [
       "MasP    1751\n",
       "NeuP    1733\n",
       "MkP     1575\n",
       "HSC     1282\n",
       "EryP     900\n",
       "MoP      224\n",
       "BP         1\n",
       "Name: cell_type, dtype: int64"
      ]
     },
     "execution_count": 19,
     "metadata": {},
     "output_type": "execute_result"
    }
   ],
   "source": [
    "meta.loc[(meta.day == 7)&(meta.donor == 13176)].cell_type.value_counts()"
   ]
  },
  {
   "cell_type": "code",
   "execution_count": 20,
   "id": "d7d8be0f-8851-4ba2-a190-0e994b75a26f",
   "metadata": {
    "execution": {
     "iopub.execute_input": "2022-11-08T19:56:25.764081Z",
     "iopub.status.busy": "2022-11-08T19:56:25.763694Z",
     "iopub.status.idle": "2022-11-08T19:56:25.767788Z",
     "shell.execute_reply": "2022-11-08T19:56:25.767215Z",
     "shell.execute_reply.started": "2022-11-08T19:56:25.764057Z"
    },
    "tags": []
   },
   "outputs": [],
   "source": [
    "target = (day4_ratios*3000).astype(int).to_dict()"
   ]
  },
  {
   "cell_type": "code",
   "execution_count": 21,
   "id": "1454d8aa-744d-4ff7-9189-5ecfc5f4ac1f",
   "metadata": {
    "execution": {
     "iopub.execute_input": "2022-11-08T19:56:26.302506Z",
     "iopub.status.busy": "2022-11-08T19:56:26.302132Z",
     "iopub.status.idle": "2022-11-08T19:56:26.306135Z",
     "shell.execute_reply": "2022-11-08T19:56:26.305656Z",
     "shell.execute_reply.started": "2022-11-08T19:56:26.302488Z"
    },
    "tags": []
   },
   "outputs": [
    {
     "data": {
      "text/plain": [
       "{'HSC': 948,\n",
       " 'NeuP': 627,\n",
       " 'EryP': 544,\n",
       " 'MasP': 460,\n",
       " 'MkP': 371,\n",
       " 'MoP': 36,\n",
       " 'BP': 10}"
      ]
     },
     "execution_count": 21,
     "metadata": {},
     "output_type": "execute_result"
    }
   ],
   "source": [
    "target"
   ]
  },
  {
   "cell_type": "code",
   "execution_count": 22,
   "id": "b0bd7b91-3d68-4b71-b300-1b00fc6d92cf",
   "metadata": {
    "execution": {
     "iopub.execute_input": "2022-11-08T19:56:28.711912Z",
     "iopub.status.busy": "2022-11-08T19:56:28.711514Z",
     "iopub.status.idle": "2022-11-08T19:56:28.714850Z",
     "shell.execute_reply": "2022-11-08T19:56:28.714334Z",
     "shell.execute_reply.started": "2022-11-08T19:56:28.711888Z"
    },
    "tags": []
   },
   "outputs": [],
   "source": [
    "target['BP'] = 1"
   ]
  },
  {
   "cell_type": "code",
   "execution_count": 28,
   "id": "9c3e1e10-5d5b-4b86-a868-9b43204abd16",
   "metadata": {
    "execution": {
     "iopub.execute_input": "2022-11-08T19:58:25.597373Z",
     "iopub.status.busy": "2022-11-08T19:58:25.596991Z",
     "iopub.status.idle": "2022-11-08T19:58:25.650401Z",
     "shell.execute_reply": "2022-11-08T19:58:25.649859Z",
     "shell.execute_reply.started": "2022-11-08T19:58:25.597350Z"
    },
    "tags": []
   },
   "outputs": [],
   "source": [
    "resampled_day7_donor2 = np.array([])\n",
    "for i,j in target.items():\n",
    "    to_sample = meta.loc[(meta.day == day)&(meta.donor == donor)&(meta.cell_type == i)].range.values\n",
    "    resampled_day7_donor2 = np.append(resampled_day7_donor2,to_sample[np.random.choice(len(to_sample), size=j, replace=False)])"
   ]
  },
  {
   "cell_type": "code",
   "execution_count": 29,
   "id": "cbc9e8c4-cd4d-4ee1-a559-1a04e26b1d6e",
   "metadata": {
    "execution": {
     "iopub.execute_input": "2022-11-08T19:58:27.576717Z",
     "iopub.status.busy": "2022-11-08T19:58:27.576364Z",
     "iopub.status.idle": "2022-11-08T19:58:27.580573Z",
     "shell.execute_reply": "2022-11-08T19:58:27.580064Z",
     "shell.execute_reply.started": "2022-11-08T19:58:27.576696Z"
    },
    "tags": []
   },
   "outputs": [
    {
     "data": {
      "text/plain": [
       "(2987,)"
      ]
     },
     "execution_count": 29,
     "metadata": {},
     "output_type": "execute_result"
    }
   ],
   "source": [
    "resampled_day7_donor2.shape"
   ]
  },
  {
   "cell_type": "code",
   "execution_count": 30,
   "id": "6dc49f57-d9c9-415e-99a3-c74664921472",
   "metadata": {
    "execution": {
     "iopub.execute_input": "2022-11-08T19:58:28.390894Z",
     "iopub.status.busy": "2022-11-08T19:58:28.390385Z",
     "iopub.status.idle": "2022-11-08T19:58:28.394583Z",
     "shell.execute_reply": "2022-11-08T19:58:28.394112Z",
     "shell.execute_reply.started": "2022-11-08T19:58:28.390874Z"
    },
    "tags": []
   },
   "outputs": [
    {
     "data": {
      "text/plain": [
       "2987"
      ]
     },
     "execution_count": 30,
     "metadata": {},
     "output_type": "execute_result"
    }
   ],
   "source": [
    "np.sum(list(target.values()))"
   ]
  },
  {
   "cell_type": "code",
   "execution_count": 31,
   "id": "046c2b5d-4400-4b4c-839f-7d2a40e62996",
   "metadata": {
    "execution": {
     "iopub.execute_input": "2022-11-08T19:58:31.007661Z",
     "iopub.status.busy": "2022-11-08T19:58:31.007263Z",
     "iopub.status.idle": "2022-11-08T19:58:31.010698Z",
     "shell.execute_reply": "2022-11-08T19:58:31.010176Z",
     "shell.execute_reply.started": "2022-11-08T19:58:31.007619Z"
    },
    "tags": []
   },
   "outputs": [],
   "source": [
    "resampled_day7_donor2 = resampled_day7_donor2.astype(int)"
   ]
  },
  {
   "cell_type": "code",
   "execution_count": 32,
   "id": "b819d705-8786-4dfe-8db0-add3c60ad3ee",
   "metadata": {
    "execution": {
     "iopub.execute_input": "2022-11-08T19:58:31.798094Z",
     "iopub.status.busy": "2022-11-08T19:58:31.797738Z",
     "iopub.status.idle": "2022-11-08T19:58:31.802293Z",
     "shell.execute_reply": "2022-11-08T19:58:31.801782Z",
     "shell.execute_reply.started": "2022-11-08T19:58:31.798071Z"
    },
    "tags": []
   },
   "outputs": [
    {
     "data": {
      "text/plain": [
       "array([67399, 62585, 68711, ..., 67299, 66283, 63736])"
      ]
     },
     "execution_count": 32,
     "metadata": {},
     "output_type": "execute_result"
    }
   ],
   "source": [
    "resampled_day7_donor2"
   ]
  },
  {
   "cell_type": "code",
   "execution_count": 33,
   "id": "d51b2988-1c0a-4792-9f7f-4bb3dbf2bcc1",
   "metadata": {
    "execution": {
     "iopub.execute_input": "2022-11-08T19:58:42.129230Z",
     "iopub.status.busy": "2022-11-08T19:58:42.128838Z",
     "iopub.status.idle": "2022-11-08T19:59:28.786410Z",
     "shell.execute_reply": "2022-11-08T19:59:28.785803Z",
     "shell.execute_reply.started": "2022-11-08T19:58:42.129204Z"
    }
   },
   "outputs": [
    {
     "name": "stdout",
     "output_type": "stream",
     "text": [
      "32/32 [==============================] - 0s 2ms/step\n",
      "\n",
      " --------- FOLD 0 -----------\n",
      "Mean squared error = 13.170000076293945\n",
      "Correlation = 0.63278\n",
      "PCA Correlation = 0.95687\n",
      "32/32 [==============================] - 0s 2ms/step\n",
      "\n",
      " --------- FOLD 1 -----------\n",
      "Mean squared error = 11.850000381469727\n",
      "Correlation = 0.63685\n",
      "PCA Correlation = 0.96080\n",
      "32/32 [==============================] - 0s 2ms/step\n",
      "\n",
      " --------- FOLD 2 -----------\n",
      "Mean squared error = 18.6299991607666\n",
      "Correlation = 0.63283\n",
      "PCA Correlation = 0.93790\n",
      "\u001b[32m\u001b[1mMean corr = 0.63416\u001b[0m\n",
      "\u001b[31m\u001b[1mMean pca corr = 0.95186\u001b[0m\n"
     ]
    }
   ],
   "source": [
    "#c.f. Mean corr = 0.64188\n",
    "targets = targets_copy.copy()\n",
    "X = X_copy.copy()\n",
    "targets = targets[resampled_day7_donor2]\n",
    "# Normalize the targets row-wise: This doesn't change the correlations,\n",
    "# and negative_correlation_loss depends on it\n",
    "targets -= targets.mean(axis=1).reshape(-1, 1)\n",
    "targets /= targets.std(axis=1).reshape(-1, 1)\n",
    "targets = np.array(targets)\n",
    "svd = TruncatedSVD(n_components = 512,random_state = 1)\n",
    "Y = svd.fit_transform(targets)[:,:64]\n",
    "X = X_copy[resampled_day7_donor2]\n",
    "evaluate(0,0,loss=False,save=False)"
   ]
  },
  {
   "cell_type": "code",
   "execution_count": 36,
   "id": "48103917-649b-4192-9363-2e925f04d1b1",
   "metadata": {
    "execution": {
     "iopub.execute_input": "2022-11-08T20:04:31.033838Z",
     "iopub.status.busy": "2022-11-08T20:04:31.033450Z",
     "iopub.status.idle": "2022-11-08T20:04:32.312780Z",
     "shell.execute_reply": "2022-11-08T20:04:32.311901Z",
     "shell.execute_reply.started": "2022-11-08T20:04:31.033815Z"
    },
    "tags": []
   },
   "outputs": [
    {
     "data": {
      "text/html": [
       "<style>#sk-container-id-1 {color: black;background-color: white;}#sk-container-id-1 pre{padding: 0;}#sk-container-id-1 div.sk-toggleable {background-color: white;}#sk-container-id-1 label.sk-toggleable__label {cursor: pointer;display: block;width: 100%;margin-bottom: 0;padding: 0.3em;box-sizing: border-box;text-align: center;}#sk-container-id-1 label.sk-toggleable__label-arrow:before {content: \"▸\";float: left;margin-right: 0.25em;color: #696969;}#sk-container-id-1 label.sk-toggleable__label-arrow:hover:before {color: black;}#sk-container-id-1 div.sk-estimator:hover label.sk-toggleable__label-arrow:before {color: black;}#sk-container-id-1 div.sk-toggleable__content {max-height: 0;max-width: 0;overflow: hidden;text-align: left;background-color: #f0f8ff;}#sk-container-id-1 div.sk-toggleable__content pre {margin: 0.2em;color: black;border-radius: 0.25em;background-color: #f0f8ff;}#sk-container-id-1 input.sk-toggleable__control:checked~div.sk-toggleable__content {max-height: 200px;max-width: 100%;overflow: auto;}#sk-container-id-1 input.sk-toggleable__control:checked~label.sk-toggleable__label-arrow:before {content: \"▾\";}#sk-container-id-1 div.sk-estimator input.sk-toggleable__control:checked~label.sk-toggleable__label {background-color: #d4ebff;}#sk-container-id-1 div.sk-label input.sk-toggleable__control:checked~label.sk-toggleable__label {background-color: #d4ebff;}#sk-container-id-1 input.sk-hidden--visually {border: 0;clip: rect(1px 1px 1px 1px);clip: rect(1px, 1px, 1px, 1px);height: 1px;margin: -1px;overflow: hidden;padding: 0;position: absolute;width: 1px;}#sk-container-id-1 div.sk-estimator {font-family: monospace;background-color: #f0f8ff;border: 1px dotted black;border-radius: 0.25em;box-sizing: border-box;margin-bottom: 0.5em;}#sk-container-id-1 div.sk-estimator:hover {background-color: #d4ebff;}#sk-container-id-1 div.sk-parallel-item::after {content: \"\";width: 100%;border-bottom: 1px solid gray;flex-grow: 1;}#sk-container-id-1 div.sk-label:hover label.sk-toggleable__label {background-color: #d4ebff;}#sk-container-id-1 div.sk-serial::before {content: \"\";position: absolute;border-left: 1px solid gray;box-sizing: border-box;top: 0;bottom: 0;left: 50%;z-index: 0;}#sk-container-id-1 div.sk-serial {display: flex;flex-direction: column;align-items: center;background-color: white;padding-right: 0.2em;padding-left: 0.2em;position: relative;}#sk-container-id-1 div.sk-item {position: relative;z-index: 1;}#sk-container-id-1 div.sk-parallel {display: flex;align-items: stretch;justify-content: center;background-color: white;position: relative;}#sk-container-id-1 div.sk-item::before, #sk-container-id-1 div.sk-parallel-item::before {content: \"\";position: absolute;border-left: 1px solid gray;box-sizing: border-box;top: 0;bottom: 0;left: 50%;z-index: -1;}#sk-container-id-1 div.sk-parallel-item {display: flex;flex-direction: column;z-index: 1;position: relative;background-color: white;}#sk-container-id-1 div.sk-parallel-item:first-child::after {align-self: flex-end;width: 50%;}#sk-container-id-1 div.sk-parallel-item:last-child::after {align-self: flex-start;width: 50%;}#sk-container-id-1 div.sk-parallel-item:only-child::after {width: 0;}#sk-container-id-1 div.sk-dashed-wrapped {border: 1px dashed gray;margin: 0 0.4em 0.5em 0.4em;box-sizing: border-box;padding-bottom: 0.4em;background-color: white;}#sk-container-id-1 div.sk-label label {font-family: monospace;font-weight: bold;display: inline-block;line-height: 1.2em;}#sk-container-id-1 div.sk-label-container {text-align: center;}#sk-container-id-1 div.sk-container {/* jupyter's `normalize.less` sets `[hidden] { display: none; }` but bootstrap.min.css set `[hidden] { display: none !important; }` so we also need the `!important` here to be able to override the default hidden behavior on the sphinx rendered scikit-learn.org. See: https://github.com/scikit-learn/scikit-learn/issues/21755 */display: inline-block !important;position: relative;}#sk-container-id-1 div.sk-text-repr-fallback {display: none;}</style><div id=\"sk-container-id-1\" class=\"sk-top-container\"><div class=\"sk-text-repr-fallback\"><pre>KMeans(n_clusters=5)</pre><b>In a Jupyter environment, please rerun this cell to show the HTML representation or trust the notebook. <br />On GitHub, the HTML representation is unable to render, please try loading this page with nbviewer.org.</b></div><div class=\"sk-container\" hidden><div class=\"sk-item\"><div class=\"sk-estimator sk-toggleable\"><input class=\"sk-toggleable__control sk-hidden--visually\" id=\"sk-estimator-id-1\" type=\"checkbox\" checked><label for=\"sk-estimator-id-1\" class=\"sk-toggleable__label sk-toggleable__label-arrow\">KMeans</label><div class=\"sk-toggleable__content\"><pre>KMeans(n_clusters=5)</pre></div></div></div></div></div>"
      ],
      "text/plain": [
       "KMeans(n_clusters=5)"
      ]
     },
     "execution_count": 36,
     "metadata": {},
     "output_type": "execute_result"
    }
   ],
   "source": [
    "from sklearn.cluster import KMeans\n",
    "kmeans = KMeans(n_clusters = 5)\n",
    "X = X_copy.copy()\n",
    "X = X[day7_donor2]\n",
    "kmeans.fit(X)"
   ]
  },
  {
   "cell_type": "code",
   "execution_count": 42,
   "id": "3fa0cf5f-bde8-414b-8644-cb26f3889da3",
   "metadata": {
    "execution": {
     "iopub.execute_input": "2022-11-08T20:05:21.502832Z",
     "iopub.status.busy": "2022-11-08T20:05:21.502458Z",
     "iopub.status.idle": "2022-11-08T20:05:21.508465Z",
     "shell.execute_reply": "2022-11-08T20:05:21.507949Z",
     "shell.execute_reply.started": "2022-11-08T20:05:21.502809Z"
    },
    "tags": []
   },
   "outputs": [
    {
     "data": {
      "text/plain": [
       "1    2651\n",
       "0    1422\n",
       "3    1283\n",
       "2    1148\n",
       "4     962\n",
       "dtype: int64"
      ]
     },
     "execution_count": 42,
     "metadata": {},
     "output_type": "execute_result"
    }
   ],
   "source": [
    "pd.Series(kmeans.labels_).value_counts()"
   ]
  },
  {
   "cell_type": "code",
   "execution_count": 43,
   "id": "ffe87e8f-e747-406a-bf84-2d250a979a34",
   "metadata": {
    "execution": {
     "iopub.execute_input": "2022-11-08T20:07:08.015126Z",
     "iopub.status.busy": "2022-11-08T20:07:08.014744Z",
     "iopub.status.idle": "2022-11-08T20:10:20.470685Z",
     "shell.execute_reply": "2022-11-08T20:10:20.470098Z",
     "shell.execute_reply.started": "2022-11-08T20:07:08.015101Z"
    }
   },
   "outputs": [
    {
     "name": "stdout",
     "output_type": "stream",
     "text": [
      "0\n",
      "15/15 [==============================] - 0s 2ms/step\n",
      "\n",
      " --------- FOLD 0 -----------\n",
      "Mean squared error = 19.3700008392334\n",
      "Correlation = 0.61757\n",
      "PCA Correlation = 0.93468\n",
      "15/15 [==============================] - 0s 2ms/step\n",
      "\n",
      " --------- FOLD 1 -----------\n",
      "Mean squared error = 19.329999923706055\n",
      "Correlation = 0.61887\n",
      "PCA Correlation = 0.93480\n",
      "15/15 [==============================] - 0s 2ms/step\n",
      "\n",
      " --------- FOLD 2 -----------\n",
      "Mean squared error = 19.270000457763672\n",
      "Correlation = 0.62137\n",
      "PCA Correlation = 0.93539\n",
      "\u001b[32m\u001b[1mMean corr = 0.61927\u001b[0m\n",
      "\u001b[31m\u001b[1mMean pca corr = 0.93496\u001b[0m\n",
      "1\n",
      "28/28 [==============================] - 0s 2ms/step\n",
      "\n",
      " --------- FOLD 0 -----------\n",
      "Mean squared error = 12.050000190734863\n",
      "Correlation = 0.63071\n",
      "PCA Correlation = 0.95901\n",
      "28/28 [==============================] - 0s 2ms/step\n",
      "\n",
      " --------- FOLD 1 -----------\n",
      "Mean squared error = 12.390000343322754\n",
      "Correlation = 0.62896\n",
      "PCA Correlation = 0.95782\n",
      "28/28 [==============================] - 0s 2ms/step\n",
      "\n",
      " --------- FOLD 2 -----------\n",
      "Mean squared error = 11.829999923706055\n",
      "Correlation = 0.63188\n",
      "PCA Correlation = 0.95979\n",
      "\u001b[32m\u001b[1mMean corr = 0.63052\u001b[0m\n",
      "\u001b[31m\u001b[1mMean pca corr = 0.95887\u001b[0m\n",
      "2\n",
      "12/12 [==============================] - 0s 2ms/step\n",
      "\n",
      " --------- FOLD 0 -----------\n",
      "Mean squared error = 22.290000915527344\n",
      "Correlation = 0.63085\n",
      "PCA Correlation = 0.92807\n",
      "12/12 [==============================] - 0s 2ms/step\n",
      "\n",
      " --------- FOLD 1 -----------\n",
      "Mean squared error = 21.760000228881836\n",
      "Correlation = 0.62940\n",
      "PCA Correlation = 0.92982\n",
      "12/12 [==============================] - 0s 2ms/step\n",
      "\n",
      " --------- FOLD 2 -----------\n",
      "Mean squared error = 21.139999389648438\n",
      "Correlation = 0.63229\n",
      "PCA Correlation = 0.93200\n",
      "\u001b[32m\u001b[1mMean corr = 0.63085\u001b[0m\n",
      "\u001b[31m\u001b[1mMean pca corr = 0.92996\u001b[0m\n",
      "3\n",
      "14/14 [==============================] - 0s 2ms/step\n",
      "\n",
      " --------- FOLD 0 -----------\n",
      "Mean squared error = 18.510000228881836\n",
      "Correlation = 0.68302\n",
      "PCA Correlation = 0.94817\n",
      "14/14 [==============================] - 0s 2ms/step\n",
      "\n",
      " --------- FOLD 1 -----------\n",
      "Mean squared error = 17.969999313354492\n",
      "Correlation = 0.68400\n",
      "PCA Correlation = 0.94986\n",
      "14/14 [==============================] - 0s 2ms/step\n",
      "\n",
      " --------- FOLD 2 -----------\n",
      "Mean squared error = 18.010000228881836\n",
      "Correlation = 0.68266\n",
      "PCA Correlation = 0.94933\n",
      "\u001b[32m\u001b[1mMean corr = 0.68323\u001b[0m\n",
      "\u001b[31m\u001b[1mMean pca corr = 0.94912\u001b[0m\n",
      "4\n",
      "11/11 [==============================] - 0s 2ms/step\n",
      "\n",
      " --------- FOLD 0 -----------\n",
      "Mean squared error = 21.809999465942383\n",
      "Correlation = 0.66847\n",
      "PCA Correlation = 0.93691\n",
      "11/11 [==============================] - 0s 2ms/step\n",
      "\n",
      " --------- FOLD 1 -----------\n",
      "Mean squared error = 22.8799991607666\n",
      "Correlation = 0.66622\n",
      "PCA Correlation = 0.93404\n",
      "10/10 [==============================] - 0s 2ms/step\n",
      "\n",
      " --------- FOLD 2 -----------\n",
      "Mean squared error = 22.559999465942383\n",
      "Correlation = 0.66789\n",
      "PCA Correlation = 0.93450\n",
      "\u001b[32m\u001b[1mMean corr = 0.66753\u001b[0m\n",
      "\u001b[31m\u001b[1mMean pca corr = 0.93515\u001b[0m\n"
     ]
    }
   ],
   "source": [
    "day = 7\n",
    "donor = 13176\n",
    "for k in range(5):\n",
    "    selector = kmeans.labels_ == k\n",
    "    targets = targets_copy.copy()\n",
    "    targets = targets[day7_donor2]\n",
    "    targets = targets[selector]\n",
    "    # Normalize the targets row-wise: This doesn't change the correlations,\n",
    "    # and negative_correlation_loss depends on it\n",
    "    targets -= targets.mean(axis=1).reshape(-1, 1)\n",
    "    targets /= targets.std(axis=1).reshape(-1, 1)\n",
    "    targets = np.array(targets)\n",
    "    svd = TruncatedSVD(n_components = 512,random_state = 1)\n",
    "    Y = svd.fit_transform(targets)[:,:64]\n",
    "    X = X_copy.copy()\n",
    "    X = X[day7_donor2]\n",
    "    X = X[selector]\n",
    "    print(k)\n",
    "    evaluate(0,0,loss=False,save=False)"
   ]
  },
  {
   "cell_type": "code",
   "execution_count": 50,
   "id": "165da7c4-8265-454c-b953-a791868c039e",
   "metadata": {
    "execution": {
     "iopub.execute_input": "2022-11-08T20:12:30.858615Z",
     "iopub.status.busy": "2022-11-08T20:12:30.858243Z",
     "iopub.status.idle": "2022-11-08T20:12:30.864849Z",
     "shell.execute_reply": "2022-11-08T20:12:30.864332Z",
     "shell.execute_reply.started": "2022-11-08T20:12:30.858592Z"
    },
    "tags": []
   },
   "outputs": [
    {
     "data": {
      "text/plain": [
       "0.6422547830163408"
      ]
     },
     "execution_count": 50,
     "metadata": {},
     "output_type": "execute_result"
    }
   ],
   "source": [
    "#c.f. Mean corr = 0.64188\n",
    "abc = [0.61927,0.63052,0.63085,0.68323,0.66753]\n",
    "lengths = pd.Series(kmeans.labels_).value_counts().sort_index().values\n",
    "total = 0.\n",
    "for i in range(5):\n",
    "    total += lengths[i]*abc[i]\n",
    "total /= lengths.sum()\n",
    "total"
   ]
  },
  {
   "cell_type": "code",
   "execution_count": 54,
   "id": "8a461312-b69b-4903-b91b-027cb1e8e13b",
   "metadata": {
    "execution": {
     "iopub.execute_input": "2022-11-08T20:14:09.826887Z",
     "iopub.status.busy": "2022-11-08T20:14:09.826508Z",
     "iopub.status.idle": "2022-11-08T20:14:09.881224Z",
     "shell.execute_reply": "2022-11-08T20:14:09.880566Z",
     "shell.execute_reply.started": "2022-11-08T20:14:09.826864Z"
    }
   },
   "outputs": [],
   "source": [
    "inputs_both_128 = np.load(\"./multi_pca/inputs_both_128.npy\")\n",
    "X_copy = inputs_both_128[:targets_copy.shape[0]]"
   ]
  },
  {
   "cell_type": "code",
   "execution_count": 56,
   "id": "1e280709-7922-4979-a352-dfd2ad8ab366",
   "metadata": {
    "execution": {
     "iopub.execute_input": "2022-11-08T20:14:27.949231Z",
     "iopub.status.busy": "2022-11-08T20:14:27.948789Z",
     "iopub.status.idle": "2022-11-08T20:14:28.842447Z",
     "shell.execute_reply": "2022-11-08T20:14:28.841728Z",
     "shell.execute_reply.started": "2022-11-08T20:14:27.949208Z"
    }
   },
   "outputs": [
    {
     "data": {
      "text/html": [
       "<style>#sk-container-id-2 {color: black;background-color: white;}#sk-container-id-2 pre{padding: 0;}#sk-container-id-2 div.sk-toggleable {background-color: white;}#sk-container-id-2 label.sk-toggleable__label {cursor: pointer;display: block;width: 100%;margin-bottom: 0;padding: 0.3em;box-sizing: border-box;text-align: center;}#sk-container-id-2 label.sk-toggleable__label-arrow:before {content: \"▸\";float: left;margin-right: 0.25em;color: #696969;}#sk-container-id-2 label.sk-toggleable__label-arrow:hover:before {color: black;}#sk-container-id-2 div.sk-estimator:hover label.sk-toggleable__label-arrow:before {color: black;}#sk-container-id-2 div.sk-toggleable__content {max-height: 0;max-width: 0;overflow: hidden;text-align: left;background-color: #f0f8ff;}#sk-container-id-2 div.sk-toggleable__content pre {margin: 0.2em;color: black;border-radius: 0.25em;background-color: #f0f8ff;}#sk-container-id-2 input.sk-toggleable__control:checked~div.sk-toggleable__content {max-height: 200px;max-width: 100%;overflow: auto;}#sk-container-id-2 input.sk-toggleable__control:checked~label.sk-toggleable__label-arrow:before {content: \"▾\";}#sk-container-id-2 div.sk-estimator input.sk-toggleable__control:checked~label.sk-toggleable__label {background-color: #d4ebff;}#sk-container-id-2 div.sk-label input.sk-toggleable__control:checked~label.sk-toggleable__label {background-color: #d4ebff;}#sk-container-id-2 input.sk-hidden--visually {border: 0;clip: rect(1px 1px 1px 1px);clip: rect(1px, 1px, 1px, 1px);height: 1px;margin: -1px;overflow: hidden;padding: 0;position: absolute;width: 1px;}#sk-container-id-2 div.sk-estimator {font-family: monospace;background-color: #f0f8ff;border: 1px dotted black;border-radius: 0.25em;box-sizing: border-box;margin-bottom: 0.5em;}#sk-container-id-2 div.sk-estimator:hover {background-color: #d4ebff;}#sk-container-id-2 div.sk-parallel-item::after {content: \"\";width: 100%;border-bottom: 1px solid gray;flex-grow: 1;}#sk-container-id-2 div.sk-label:hover label.sk-toggleable__label {background-color: #d4ebff;}#sk-container-id-2 div.sk-serial::before {content: \"\";position: absolute;border-left: 1px solid gray;box-sizing: border-box;top: 0;bottom: 0;left: 50%;z-index: 0;}#sk-container-id-2 div.sk-serial {display: flex;flex-direction: column;align-items: center;background-color: white;padding-right: 0.2em;padding-left: 0.2em;position: relative;}#sk-container-id-2 div.sk-item {position: relative;z-index: 1;}#sk-container-id-2 div.sk-parallel {display: flex;align-items: stretch;justify-content: center;background-color: white;position: relative;}#sk-container-id-2 div.sk-item::before, #sk-container-id-2 div.sk-parallel-item::before {content: \"\";position: absolute;border-left: 1px solid gray;box-sizing: border-box;top: 0;bottom: 0;left: 50%;z-index: -1;}#sk-container-id-2 div.sk-parallel-item {display: flex;flex-direction: column;z-index: 1;position: relative;background-color: white;}#sk-container-id-2 div.sk-parallel-item:first-child::after {align-self: flex-end;width: 50%;}#sk-container-id-2 div.sk-parallel-item:last-child::after {align-self: flex-start;width: 50%;}#sk-container-id-2 div.sk-parallel-item:only-child::after {width: 0;}#sk-container-id-2 div.sk-dashed-wrapped {border: 1px dashed gray;margin: 0 0.4em 0.5em 0.4em;box-sizing: border-box;padding-bottom: 0.4em;background-color: white;}#sk-container-id-2 div.sk-label label {font-family: monospace;font-weight: bold;display: inline-block;line-height: 1.2em;}#sk-container-id-2 div.sk-label-container {text-align: center;}#sk-container-id-2 div.sk-container {/* jupyter's `normalize.less` sets `[hidden] { display: none; }` but bootstrap.min.css set `[hidden] { display: none !important; }` so we also need the `!important` here to be able to override the default hidden behavior on the sphinx rendered scikit-learn.org. See: https://github.com/scikit-learn/scikit-learn/issues/21755 */display: inline-block !important;position: relative;}#sk-container-id-2 div.sk-text-repr-fallback {display: none;}</style><div id=\"sk-container-id-2\" class=\"sk-top-container\"><div class=\"sk-text-repr-fallback\"><pre>KMeans(n_clusters=5)</pre><b>In a Jupyter environment, please rerun this cell to show the HTML representation or trust the notebook. <br />On GitHub, the HTML representation is unable to render, please try loading this page with nbviewer.org.</b></div><div class=\"sk-container\" hidden><div class=\"sk-item\"><div class=\"sk-estimator sk-toggleable\"><input class=\"sk-toggleable__control sk-hidden--visually\" id=\"sk-estimator-id-2\" type=\"checkbox\" checked><label for=\"sk-estimator-id-2\" class=\"sk-toggleable__label sk-toggleable__label-arrow\">KMeans</label><div class=\"sk-toggleable__content\"><pre>KMeans(n_clusters=5)</pre></div></div></div></div></div>"
      ],
      "text/plain": [
       "KMeans(n_clusters=5)"
      ]
     },
     "execution_count": 56,
     "metadata": {},
     "output_type": "execute_result"
    }
   ],
   "source": [
    "from sklearn.cluster import KMeans\n",
    "kmeans = KMeans(n_clusters = 5)\n",
    "X = X_copy.copy()\n",
    "X = X[day7_donor2]\n",
    "kmeans.fit(X)"
   ]
  },
  {
   "cell_type": "code",
   "execution_count": 57,
   "id": "e544f71f-f43b-4fba-84fc-c2a75b2b8227",
   "metadata": {
    "execution": {
     "iopub.execute_input": "2022-11-08T20:14:49.505569Z",
     "iopub.status.busy": "2022-11-08T20:14:49.505185Z",
     "iopub.status.idle": "2022-11-08T20:14:49.511059Z",
     "shell.execute_reply": "2022-11-08T20:14:49.510479Z",
     "shell.execute_reply.started": "2022-11-08T20:14:49.505544Z"
    }
   },
   "outputs": [
    {
     "data": {
      "text/plain": [
       "1    2650\n",
       "4    1408\n",
       "2    1280\n",
       "0    1158\n",
       "3     970\n",
       "dtype: int64"
      ]
     },
     "execution_count": 57,
     "metadata": {},
     "output_type": "execute_result"
    }
   ],
   "source": [
    "pd.Series(kmeans.labels_).value_counts()"
   ]
  },
  {
   "cell_type": "code",
   "execution_count": 60,
   "id": "8de6b4be-2f70-4d7a-8a56-9811fc30645e",
   "metadata": {
    "execution": {
     "iopub.execute_input": "2022-11-08T20:16:48.984768Z",
     "iopub.status.busy": "2022-11-08T20:16:48.984384Z",
     "iopub.status.idle": "2022-11-08T20:17:21.665472Z",
     "shell.execute_reply": "2022-11-08T20:17:21.664842Z",
     "shell.execute_reply.started": "2022-11-08T20:16:48.984744Z"
    },
    "tags": []
   },
   "outputs": [],
   "source": [
    "multi_train_x = scipy.sparse.load_npz(\"./sparse/train_multi_inputs_values.sparse.npz\")"
   ]
  },
  {
   "cell_type": "code",
   "execution_count": 69,
   "id": "4806c0e3-2e01-47a3-847f-7b5f849e69f0",
   "metadata": {
    "execution": {
     "iopub.execute_input": "2022-11-08T20:28:02.337071Z",
     "iopub.status.busy": "2022-11-08T20:28:02.336677Z",
     "iopub.status.idle": "2022-11-08T20:28:02.341078Z",
     "shell.execute_reply": "2022-11-08T20:28:02.340547Z",
     "shell.execute_reply.started": "2022-11-08T20:28:02.337045Z"
    }
   },
   "outputs": [
    {
     "data": {
      "text/plain": [
       "(105942, 228942)"
      ]
     },
     "execution_count": 69,
     "metadata": {},
     "output_type": "execute_result"
    }
   ],
   "source": [
    "multi_train_x.shape"
   ]
  },
  {
   "cell_type": "code",
   "execution_count": 61,
   "id": "a0d60923-02af-4ade-8c9e-3eec68e8c7bc",
   "metadata": {
    "execution": {
     "iopub.execute_input": "2022-11-08T20:17:45.384881Z",
     "iopub.status.busy": "2022-11-08T20:17:45.384469Z",
     "iopub.status.idle": "2022-11-08T20:18:59.131703Z",
     "shell.execute_reply": "2022-11-08T20:18:59.130901Z",
     "shell.execute_reply.started": "2022-11-08T20:17:45.384847Z"
    },
    "tags": []
   },
   "outputs": [
    {
     "data": {
      "text/html": [
       "<style>#sk-container-id-3 {color: black;background-color: white;}#sk-container-id-3 pre{padding: 0;}#sk-container-id-3 div.sk-toggleable {background-color: white;}#sk-container-id-3 label.sk-toggleable__label {cursor: pointer;display: block;width: 100%;margin-bottom: 0;padding: 0.3em;box-sizing: border-box;text-align: center;}#sk-container-id-3 label.sk-toggleable__label-arrow:before {content: \"▸\";float: left;margin-right: 0.25em;color: #696969;}#sk-container-id-3 label.sk-toggleable__label-arrow:hover:before {color: black;}#sk-container-id-3 div.sk-estimator:hover label.sk-toggleable__label-arrow:before {color: black;}#sk-container-id-3 div.sk-toggleable__content {max-height: 0;max-width: 0;overflow: hidden;text-align: left;background-color: #f0f8ff;}#sk-container-id-3 div.sk-toggleable__content pre {margin: 0.2em;color: black;border-radius: 0.25em;background-color: #f0f8ff;}#sk-container-id-3 input.sk-toggleable__control:checked~div.sk-toggleable__content {max-height: 200px;max-width: 100%;overflow: auto;}#sk-container-id-3 input.sk-toggleable__control:checked~label.sk-toggleable__label-arrow:before {content: \"▾\";}#sk-container-id-3 div.sk-estimator input.sk-toggleable__control:checked~label.sk-toggleable__label {background-color: #d4ebff;}#sk-container-id-3 div.sk-label input.sk-toggleable__control:checked~label.sk-toggleable__label {background-color: #d4ebff;}#sk-container-id-3 input.sk-hidden--visually {border: 0;clip: rect(1px 1px 1px 1px);clip: rect(1px, 1px, 1px, 1px);height: 1px;margin: -1px;overflow: hidden;padding: 0;position: absolute;width: 1px;}#sk-container-id-3 div.sk-estimator {font-family: monospace;background-color: #f0f8ff;border: 1px dotted black;border-radius: 0.25em;box-sizing: border-box;margin-bottom: 0.5em;}#sk-container-id-3 div.sk-estimator:hover {background-color: #d4ebff;}#sk-container-id-3 div.sk-parallel-item::after {content: \"\";width: 100%;border-bottom: 1px solid gray;flex-grow: 1;}#sk-container-id-3 div.sk-label:hover label.sk-toggleable__label {background-color: #d4ebff;}#sk-container-id-3 div.sk-serial::before {content: \"\";position: absolute;border-left: 1px solid gray;box-sizing: border-box;top: 0;bottom: 0;left: 50%;z-index: 0;}#sk-container-id-3 div.sk-serial {display: flex;flex-direction: column;align-items: center;background-color: white;padding-right: 0.2em;padding-left: 0.2em;position: relative;}#sk-container-id-3 div.sk-item {position: relative;z-index: 1;}#sk-container-id-3 div.sk-parallel {display: flex;align-items: stretch;justify-content: center;background-color: white;position: relative;}#sk-container-id-3 div.sk-item::before, #sk-container-id-3 div.sk-parallel-item::before {content: \"\";position: absolute;border-left: 1px solid gray;box-sizing: border-box;top: 0;bottom: 0;left: 50%;z-index: -1;}#sk-container-id-3 div.sk-parallel-item {display: flex;flex-direction: column;z-index: 1;position: relative;background-color: white;}#sk-container-id-3 div.sk-parallel-item:first-child::after {align-self: flex-end;width: 50%;}#sk-container-id-3 div.sk-parallel-item:last-child::after {align-self: flex-start;width: 50%;}#sk-container-id-3 div.sk-parallel-item:only-child::after {width: 0;}#sk-container-id-3 div.sk-dashed-wrapped {border: 1px dashed gray;margin: 0 0.4em 0.5em 0.4em;box-sizing: border-box;padding-bottom: 0.4em;background-color: white;}#sk-container-id-3 div.sk-label label {font-family: monospace;font-weight: bold;display: inline-block;line-height: 1.2em;}#sk-container-id-3 div.sk-label-container {text-align: center;}#sk-container-id-3 div.sk-container {/* jupyter's `normalize.less` sets `[hidden] { display: none; }` but bootstrap.min.css set `[hidden] { display: none !important; }` so we also need the `!important` here to be able to override the default hidden behavior on the sphinx rendered scikit-learn.org. See: https://github.com/scikit-learn/scikit-learn/issues/21755 */display: inline-block !important;position: relative;}#sk-container-id-3 div.sk-text-repr-fallback {display: none;}</style><div id=\"sk-container-id-3\" class=\"sk-top-container\"><div class=\"sk-text-repr-fallback\"><pre>KMeans(n_clusters=5)</pre><b>In a Jupyter environment, please rerun this cell to show the HTML representation or trust the notebook. <br />On GitHub, the HTML representation is unable to render, please try loading this page with nbviewer.org.</b></div><div class=\"sk-container\" hidden><div class=\"sk-item\"><div class=\"sk-estimator sk-toggleable\"><input class=\"sk-toggleable__control sk-hidden--visually\" id=\"sk-estimator-id-3\" type=\"checkbox\" checked><label for=\"sk-estimator-id-3\" class=\"sk-toggleable__label sk-toggleable__label-arrow\">KMeans</label><div class=\"sk-toggleable__content\"><pre>KMeans(n_clusters=5)</pre></div></div></div></div></div>"
      ],
      "text/plain": [
       "KMeans(n_clusters=5)"
      ]
     },
     "execution_count": 61,
     "metadata": {},
     "output_type": "execute_result"
    }
   ],
   "source": [
    "kmeans = KMeans(n_clusters = 5)\n",
    "X = multi_train_x[day7_donor2]\n",
    "kmeans.fit(X)"
   ]
  },
  {
   "cell_type": "code",
   "execution_count": 62,
   "id": "4bc67a65-fe81-4b72-b2b5-5f34e9a20d1e",
   "metadata": {
    "execution": {
     "iopub.execute_input": "2022-11-08T20:19:12.896579Z",
     "iopub.status.busy": "2022-11-08T20:19:12.896201Z",
     "iopub.status.idle": "2022-11-08T20:19:12.902074Z",
     "shell.execute_reply": "2022-11-08T20:19:12.901535Z",
     "shell.execute_reply.started": "2022-11-08T20:19:12.896554Z"
    }
   },
   "outputs": [
    {
     "data": {
      "text/plain": [
       "2    4989\n",
       "1    2474\n",
       "0       1\n",
       "3       1\n",
       "4       1\n",
       "dtype: int64"
      ]
     },
     "execution_count": 62,
     "metadata": {},
     "output_type": "execute_result"
    }
   ],
   "source": [
    "pd.Series(kmeans.labels_).value_counts()"
   ]
  },
  {
   "cell_type": "code",
   "execution_count": 63,
   "id": "117883e2-c948-4961-b339-516f293a097d",
   "metadata": {
    "execution": {
     "iopub.execute_input": "2022-11-08T20:20:28.719866Z",
     "iopub.status.busy": "2022-11-08T20:20:28.719462Z",
     "iopub.status.idle": "2022-11-08T20:22:05.203472Z",
     "shell.execute_reply": "2022-11-08T20:22:05.202861Z",
     "shell.execute_reply.started": "2022-11-08T20:20:28.719842Z"
    }
   },
   "outputs": [
    {
     "name": "stdout",
     "output_type": "stream",
     "text": [
      "1\n",
      "26/26 [==============================] - 0s 2ms/step\n",
      "\n",
      " --------- FOLD 0 -----------\n",
      "Mean squared error = 13.460000038146973\n",
      "Correlation = 0.67418\n",
      "PCA Correlation = 0.96079\n",
      "26/26 [==============================] - 0s 2ms/step\n",
      "\n",
      " --------- FOLD 1 -----------\n",
      "Mean squared error = 13.229999542236328\n",
      "Correlation = 0.67358\n",
      "PCA Correlation = 0.96142\n",
      "26/26 [==============================] - 0s 2ms/step\n",
      "\n",
      " --------- FOLD 2 -----------\n",
      "Mean squared error = 13.319999694824219\n",
      "Correlation = 0.67304\n",
      "PCA Correlation = 0.96078\n",
      "\u001b[32m\u001b[1mMean corr = 0.67360\u001b[0m\n",
      "\u001b[31m\u001b[1mMean pca corr = 0.96100\u001b[0m\n",
      "2\n",
      "52/52 [==============================] - 0s 2ms/step\n",
      "\n",
      " --------- FOLD 0 -----------\n",
      "Mean squared error = 9.760000228881836\n",
      "Correlation = 0.62374\n",
      "PCA Correlation = 0.96661\n",
      "52/52 [==============================] - 0s 2ms/step\n",
      "\n",
      " --------- FOLD 1 -----------\n",
      "Mean squared error = 9.760000228881836\n",
      "Correlation = 0.62302\n",
      "PCA Correlation = 0.96652\n",
      "52/52 [==============================] - 0s 2ms/step\n",
      "\n",
      " --------- FOLD 2 -----------\n",
      "Mean squared error = 9.619999885559082\n",
      "Correlation = 0.62560\n",
      "PCA Correlation = 0.96712\n",
      "\u001b[32m\u001b[1mMean corr = 0.62412\u001b[0m\n",
      "\u001b[31m\u001b[1mMean pca corr = 0.96675\u001b[0m\n"
     ]
    }
   ],
   "source": [
    "day = 7\n",
    "donor = 13176\n",
    "for k in range(5):\n",
    "    if k not in (1,2):\n",
    "        continue\n",
    "    selector = kmeans.labels_ == k\n",
    "    targets = targets_copy.copy()\n",
    "    targets = targets[day7_donor2]\n",
    "    targets = targets[selector]\n",
    "    # Normalize the targets row-wise: This doesn't change the correlations,\n",
    "    # and negative_correlation_loss depends on it\n",
    "    targets -= targets.mean(axis=1).reshape(-1, 1)\n",
    "    targets /= targets.std(axis=1).reshape(-1, 1)\n",
    "    targets = np.array(targets)\n",
    "    svd = TruncatedSVD(n_components = 512,random_state = 1)\n",
    "    Y = svd.fit_transform(targets)[:,:64]\n",
    "    X = X_copy.copy()\n",
    "    X = X[day7_donor2]\n",
    "    X = X[selector]\n",
    "    print(k)\n",
    "    evaluate(0,0,loss=False,save=False)"
   ]
  },
  {
   "cell_type": "code",
   "execution_count": 65,
   "id": "a6b3ef25-bcc9-4066-8f84-60e2462b1c36",
   "metadata": {
    "execution": {
     "iopub.execute_input": "2022-11-08T20:22:45.802477Z",
     "iopub.status.busy": "2022-11-08T20:22:45.802101Z",
     "iopub.status.idle": "2022-11-08T20:22:45.807471Z",
     "shell.execute_reply": "2022-11-08T20:22:45.806980Z",
     "shell.execute_reply.started": "2022-11-08T20:22:45.802452Z"
    },
    "tags": []
   },
   "outputs": [
    {
     "data": {
      "text/plain": [
       "0.6405227227656439"
      ]
     },
     "execution_count": 65,
     "metadata": {},
     "output_type": "execute_result"
    }
   ],
   "source": [
    "#c.f. Mean corr = 0.64188\n",
    "abc = [0.67360,0.62412]\n",
    "lengths = [2474,4989]\n",
    "total = 0.\n",
    "for i in range(2):\n",
    "    total += lengths[i]*abc[i]\n",
    "total /= np.sum(lengths)\n",
    "total"
   ]
  },
  {
   "cell_type": "code",
   "execution_count": 67,
   "id": "09115900-7d1c-4b55-9b1c-b9495ef7f84e",
   "metadata": {
    "execution": {
     "iopub.execute_input": "2022-11-08T20:23:46.177043Z",
     "iopub.status.busy": "2022-11-08T20:23:46.176628Z",
     "iopub.status.idle": "2022-11-08T20:26:02.942870Z",
     "shell.execute_reply": "2022-11-08T20:26:02.942271Z",
     "shell.execute_reply.started": "2022-11-08T20:23:46.177017Z"
    },
    "tags": []
   },
   "outputs": [
    {
     "name": "stdout",
     "output_type": "stream",
     "text": [
      "1\n",
      "26/26 [==============================] - 0s 2ms/step\n",
      "\n",
      " --------- FOLD 0 -----------\n",
      "Mean squared error = 12.25\n",
      "Correlation = 0.67642\n",
      "PCA Correlation = 0.96403\n",
      "26/26 [==============================] - 0s 2ms/step\n",
      "\n",
      " --------- FOLD 1 -----------\n",
      "Mean squared error = 12.1899995803833\n",
      "Correlation = 0.67558\n",
      "PCA Correlation = 0.96428\n",
      "26/26 [==============================] - 0s 2ms/step\n",
      "\n",
      " --------- FOLD 2 -----------\n",
      "Mean squared error = 12.180000305175781\n",
      "Correlation = 0.67533\n",
      "PCA Correlation = 0.96404\n",
      "\u001b[32m\u001b[1mMean corr = 0.67578\u001b[0m\n",
      "\u001b[31m\u001b[1mMean pca corr = 0.96412\u001b[0m\n",
      "2\n",
      "52/52 [==============================] - 0s 2ms/step\n",
      "\n",
      " --------- FOLD 0 -----------\n",
      "Mean squared error = 8.979999542236328\n",
      "Correlation = 0.62526\n",
      "PCA Correlation = 0.96900\n",
      "52/52 [==============================] - 0s 2ms/step\n",
      "\n",
      " --------- FOLD 1 -----------\n",
      "Mean squared error = 9.100000381469727\n",
      "Correlation = 0.62439\n",
      "PCA Correlation = 0.96869\n",
      "52/52 [==============================] - 0s 2ms/step\n",
      "\n",
      " --------- FOLD 2 -----------\n",
      "Mean squared error = 8.920000076293945\n",
      "Correlation = 0.62697\n",
      "PCA Correlation = 0.96921\n",
      "\u001b[32m\u001b[1mMean corr = 0.62554\u001b[0m\n",
      "\u001b[31m\u001b[1mMean pca corr = 0.96897\u001b[0m\n"
     ]
    }
   ],
   "source": [
    "day = 7\n",
    "donor = 13176\n",
    "for k in range(5):\n",
    "    if k not in (1,2):\n",
    "        continue\n",
    "    selector = kmeans.labels_ == k\n",
    "    targets = targets_copy.copy()\n",
    "    targets = targets[day7_donor2]\n",
    "    targets = targets[selector]\n",
    "    # Normalize the targets row-wise: This doesn't change the correlations,\n",
    "    # and negative_correlation_loss depends on it\n",
    "    targets -= targets.mean(axis=1).reshape(-1, 1)\n",
    "    targets /= targets.std(axis=1).reshape(-1, 1)\n",
    "    targets = np.array(targets)\n",
    "    svd = TruncatedSVD(n_components = 512,random_state = 1)\n",
    "    Y = svd.fit_transform(targets)[:,:512]\n",
    "    X = X_copy.copy()[:,:40]\n",
    "    X = X[day7_donor2]\n",
    "    X = X[selector]\n",
    "    print(k)\n",
    "    evaluate(0,0,loss=False,save=False)"
   ]
  },
  {
   "cell_type": "code",
   "execution_count": 68,
   "id": "73e02da8-fe9a-4b9f-8e9f-ea5b963be912",
   "metadata": {
    "execution": {
     "iopub.execute_input": "2022-11-08T20:27:28.942682Z",
     "iopub.status.busy": "2022-11-08T20:27:28.942290Z",
     "iopub.status.idle": "2022-11-08T20:27:28.947789Z",
     "shell.execute_reply": "2022-11-08T20:27:28.947260Z",
     "shell.execute_reply.started": "2022-11-08T20:27:28.942658Z"
    }
   },
   "outputs": [
    {
     "data": {
      "text/plain": [
       "0.6421946643440976"
      ]
     },
     "execution_count": 68,
     "metadata": {},
     "output_type": "execute_result"
    }
   ],
   "source": [
    "#c.f. Mean corr = 0.64188\n",
    "abc = [0.67578,0.62554]\n",
    "lengths = [2474,4989]\n",
    "total = 0.\n",
    "for i in range(2):\n",
    "    total += lengths[i]*abc[i]\n",
    "total /= np.sum(lengths)\n",
    "total"
   ]
  },
  {
   "cell_type": "code",
   "execution_count": 112,
   "id": "e8c1320d-6416-4703-a287-541af10be4f7",
   "metadata": {
    "execution": {
     "iopub.execute_input": "2022-11-08T21:10:16.735879Z",
     "iopub.status.busy": "2022-11-08T21:10:16.735492Z",
     "iopub.status.idle": "2022-11-08T21:10:16.744351Z",
     "shell.execute_reply": "2022-11-08T21:10:16.743767Z",
     "shell.execute_reply.started": "2022-11-08T21:10:16.735855Z"
    },
    "tags": []
   },
   "outputs": [],
   "source": [
    "abc = pd.Series(kmeans.labels_).value_counts().sort_index()\n",
    "abc = pd.DataFrame(abc,columns=['size'])\n",
    "abc['correlation'] = [0,0.67578,0.62554,0,0]\n",
    "abc['64 PCA'] = [0,0.96412,0.96897,0,0]\n",
    "abc['512 PCA'] = [0,0.82946,0.84374,0,0]\n",
    "abc['1024 PCA'] = [0,0.75209,0.76559,0,0]\n",
    "abc['2048 PCA'] = [0,0.67592,0.68293,0,0]\n",
    "abc['4096 PCA'] = [0,0.66030,0.62151,0,0]"
   ]
  },
  {
   "cell_type": "code",
   "execution_count": 113,
   "id": "dc5386f6-5283-45e3-9f92-f455436a11b7",
   "metadata": {
    "execution": {
     "iopub.execute_input": "2022-11-08T21:10:18.290707Z",
     "iopub.status.busy": "2022-11-08T21:10:18.290335Z",
     "iopub.status.idle": "2022-11-08T21:10:18.300882Z",
     "shell.execute_reply": "2022-11-08T21:10:18.300241Z",
     "shell.execute_reply.started": "2022-11-08T21:10:18.290683Z"
    },
    "tags": []
   },
   "outputs": [
    {
     "data": {
      "text/html": [
       "<div>\n",
       "<style scoped>\n",
       "    .dataframe tbody tr th:only-of-type {\n",
       "        vertical-align: middle;\n",
       "    }\n",
       "\n",
       "    .dataframe tbody tr th {\n",
       "        vertical-align: top;\n",
       "    }\n",
       "\n",
       "    .dataframe thead th {\n",
       "        text-align: right;\n",
       "    }\n",
       "</style>\n",
       "<table border=\"1\" class=\"dataframe\">\n",
       "  <thead>\n",
       "    <tr style=\"text-align: right;\">\n",
       "      <th></th>\n",
       "      <th>size</th>\n",
       "      <th>correlation</th>\n",
       "      <th>64 PCA</th>\n",
       "      <th>512 PCA</th>\n",
       "      <th>1024 PCA</th>\n",
       "      <th>2048 PCA</th>\n",
       "      <th>4096 PCA</th>\n",
       "    </tr>\n",
       "  </thead>\n",
       "  <tbody>\n",
       "    <tr>\n",
       "      <th>0</th>\n",
       "      <td>1</td>\n",
       "      <td>0.00000</td>\n",
       "      <td>0.00000</td>\n",
       "      <td>0.00000</td>\n",
       "      <td>0.00000</td>\n",
       "      <td>0.00000</td>\n",
       "      <td>0.00000</td>\n",
       "    </tr>\n",
       "    <tr>\n",
       "      <th>1</th>\n",
       "      <td>2474</td>\n",
       "      <td>0.67578</td>\n",
       "      <td>0.96412</td>\n",
       "      <td>0.82946</td>\n",
       "      <td>0.75209</td>\n",
       "      <td>0.67592</td>\n",
       "      <td>0.66030</td>\n",
       "    </tr>\n",
       "    <tr>\n",
       "      <th>2</th>\n",
       "      <td>4989</td>\n",
       "      <td>0.62554</td>\n",
       "      <td>0.96897</td>\n",
       "      <td>0.84374</td>\n",
       "      <td>0.76559</td>\n",
       "      <td>0.68293</td>\n",
       "      <td>0.62151</td>\n",
       "    </tr>\n",
       "    <tr>\n",
       "      <th>3</th>\n",
       "      <td>1</td>\n",
       "      <td>0.00000</td>\n",
       "      <td>0.00000</td>\n",
       "      <td>0.00000</td>\n",
       "      <td>0.00000</td>\n",
       "      <td>0.00000</td>\n",
       "      <td>0.00000</td>\n",
       "    </tr>\n",
       "    <tr>\n",
       "      <th>4</th>\n",
       "      <td>1</td>\n",
       "      <td>0.00000</td>\n",
       "      <td>0.00000</td>\n",
       "      <td>0.00000</td>\n",
       "      <td>0.00000</td>\n",
       "      <td>0.00000</td>\n",
       "      <td>0.00000</td>\n",
       "    </tr>\n",
       "  </tbody>\n",
       "</table>\n",
       "</div>"
      ],
      "text/plain": [
       "   size  correlation   64 PCA  512 PCA  1024 PCA  2048 PCA  4096 PCA\n",
       "0     1      0.00000  0.00000  0.00000   0.00000   0.00000   0.00000\n",
       "1  2474      0.67578  0.96412  0.82946   0.75209   0.67592   0.66030\n",
       "2  4989      0.62554  0.96897  0.84374   0.76559   0.68293   0.62151\n",
       "3     1      0.00000  0.00000  0.00000   0.00000   0.00000   0.00000\n",
       "4     1      0.00000  0.00000  0.00000   0.00000   0.00000   0.00000"
      ]
     },
     "execution_count": 113,
     "metadata": {},
     "output_type": "execute_result"
    }
   ],
   "source": [
    "abc"
   ]
  },
  {
   "cell_type": "code",
   "execution_count": null,
   "id": "82e2f68e-4910-401a-94a4-2f24fdb81397",
   "metadata": {},
   "outputs": [],
   "source": [
    "kmeans = KMeans(n_clusters = 5)\n",
    "X = multi_train_x[day7_donor2]\n",
    "kmeans.fit(X)"
   ]
  },
  {
   "cell_type": "code",
   "execution_count": 92,
   "id": "3cf27995-22cd-4929-a662-66f45c16f609",
   "metadata": {
    "execution": {
     "iopub.execute_input": "2022-11-08T20:36:13.737676Z",
     "iopub.status.busy": "2022-11-08T20:36:13.737296Z",
     "iopub.status.idle": "2022-11-08T20:36:39.502864Z",
     "shell.execute_reply": "2022-11-08T20:36:39.502276Z",
     "shell.execute_reply.started": "2022-11-08T20:36:13.737653Z"
    },
    "tags": []
   },
   "outputs": [
    {
     "name": "stdout",
     "output_type": "stream",
     "text": [
      "2\n",
      "11/11 [==============================] - 0s 2ms/step\n",
      "\n",
      " --------- FOLD 0 -----------\n",
      "Mean squared error = 23.0\n",
      "Correlation = 0.62557\n",
      "PCA Correlation = 0.92541\n",
      "11/11 [==============================] - 0s 2ms/step\n",
      "\n",
      " --------- FOLD 1 -----------\n",
      "Mean squared error = 22.760000228881836\n",
      "Correlation = 0.62557\n",
      "PCA Correlation = 0.92661\n",
      "11/11 [==============================] - 0s 2ms/step\n",
      "\n",
      " --------- FOLD 2 -----------\n",
      "Mean squared error = 24.25\n",
      "Correlation = 0.62082\n",
      "PCA Correlation = 0.92095\n",
      "\u001b[32m\u001b[1mMean corr = 0.62398\u001b[0m\n",
      "\u001b[31m\u001b[1mMean pca corr = 0.92432\u001b[0m\n"
     ]
    }
   ],
   "source": [
    "day = 7\n",
    "donor = 13176\n",
    "for k in range(5):\n",
    "    if k != 2:\n",
    "        continue\n",
    "    selector = kmeans.labels_ == k\n",
    "    targets = targets_copy.copy()\n",
    "    targets = targets[day7_donor2]\n",
    "    targets = targets[selector]\n",
    "    targets = targets[:1000]\n",
    "    # Normalize the targets row-wise: This doesn't change the correlations,\n",
    "    # and negative_correlation_loss depends on it\n",
    "    targets -= targets.mean(axis=1).reshape(-1, 1)\n",
    "    targets /= targets.std(axis=1).reshape(-1, 1)\n",
    "    targets = np.array(targets)\n",
    "    svd = TruncatedSVD(n_components = 512,random_state = 1)\n",
    "    Y = svd.fit_transform(targets)[:,:64]\n",
    "    X = X_copy.copy()[:,:40]\n",
    "    X = X[day7_donor2]\n",
    "    X = X[selector]\n",
    "    X = X[:1000]\n",
    "    print(k)\n",
    "    evaluate(0,0,loss=False,save=False)"
   ]
  },
  {
   "cell_type": "code",
   "execution_count": 100,
   "id": "ef9d9b74-4dbd-4fe9-b6a8-e5a46b21e6ca",
   "metadata": {
    "execution": {
     "iopub.execute_input": "2022-11-08T20:49:16.440421Z",
     "iopub.status.busy": "2022-11-08T20:49:16.440026Z",
     "iopub.status.idle": "2022-11-08T20:51:14.741628Z",
     "shell.execute_reply": "2022-11-08T20:51:14.741039Z",
     "shell.execute_reply.started": "2022-11-08T20:49:16.440398Z"
    },
    "tags": []
   },
   "outputs": [
    {
     "name": "stdout",
     "output_type": "stream",
     "text": [
      "1\n",
      "26/26 [==============================] - 0s 2ms/step\n",
      "\n",
      " --------- FOLD 0 -----------\n",
      "Mean squared error = 9.0600004196167\n",
      "Correlation = 0.67100\n",
      "PCA Correlation = 0.83026\n",
      "26/26 [==============================] - 0s 2ms/step\n",
      "\n",
      " --------- FOLD 1 -----------\n",
      "Mean squared error = 9.119999885559082\n",
      "Correlation = 0.67027\n",
      "PCA Correlation = 0.82915\n",
      "26/26 [==============================] - 0s 2ms/step\n",
      "\n",
      " --------- FOLD 2 -----------\n",
      "Mean squared error = 9.119999885559082\n",
      "Correlation = 0.66971\n",
      "PCA Correlation = 0.82898\n",
      "\u001b[32m\u001b[1mMean corr = 0.67033\u001b[0m\n",
      "\u001b[31m\u001b[1mMean pca corr = 0.82946\u001b[0m\n",
      "2\n",
      "52/52 [==============================] - 0s 2ms/step\n",
      "\n",
      " --------- FOLD 0 -----------\n",
      "Mean squared error = 6.940000057220459\n",
      "Correlation = 0.62174\n",
      "PCA Correlation = 0.84321\n",
      "52/52 [==============================] - 0s 2ms/step\n",
      "\n",
      " --------- FOLD 1 -----------\n",
      "Mean squared error = 6.960000038146973\n",
      "Correlation = 0.62110\n",
      "PCA Correlation = 0.84269\n",
      "52/52 [==============================] - 0s 2ms/step\n",
      "\n",
      " --------- FOLD 2 -----------\n",
      "Mean squared error = 6.849999904632568\n",
      "Correlation = 0.62377\n",
      "PCA Correlation = 0.84532\n",
      "\u001b[32m\u001b[1mMean corr = 0.62220\u001b[0m\n",
      "\u001b[31m\u001b[1mMean pca corr = 0.84374\u001b[0m\n"
     ]
    }
   ],
   "source": [
    "day = 7\n",
    "donor = 13176\n",
    "for k in range(5):\n",
    "    if k not in (1,2):\n",
    "        continue\n",
    "    selector = kmeans.labels_ == k\n",
    "    targets = targets_copy.copy()\n",
    "    targets = targets[day7_donor2]\n",
    "    targets = targets[selector]\n",
    "    # Normalize the targets row-wise: This doesn't change the correlations,\n",
    "    # and negative_correlation_loss depends on it\n",
    "    targets -= targets.mean(axis=1).reshape(-1, 1)\n",
    "    targets /= targets.std(axis=1).reshape(-1, 1)\n",
    "    targets = np.array(targets)\n",
    "    svd = TruncatedSVD(n_components = 512,random_state = 1)\n",
    "    Y = svd.fit_transform(targets)[:,:512]\n",
    "    X = X_copy.copy()[:,:40]\n",
    "    X = X[day7_donor2]\n",
    "    X = X[selector]\n",
    "    print(k)\n",
    "    evaluate(0,0,loss=False,save=False)"
   ]
  },
  {
   "cell_type": "code",
   "execution_count": null,
   "id": "9f17ccc1-ea67-4ae0-8064-049491d265a1",
   "metadata": {
    "tags": []
   },
   "outputs": [],
   "source": [
    "day = 7\n",
    "donor = 13176\n",
    "for k in range(5):\n",
    "    if k != 2:\n",
    "        continue\n",
    "    selector = kmeans.labels_ == k\n",
    "    targets = targets_copy.copy()\n",
    "    targets = targets[day7_donor2]\n",
    "    targets = targets[selector]\n",
    "    # Normalize the targets row-wise: This doesn't change the correlations,\n",
    "    # and negative_correlation_loss depends on it\n",
    "    targets -= targets.mean(axis=1).reshape(-1, 1)\n",
    "    targets /= targets.std(axis=1).reshape(-1, 1)\n",
    "    targets = np.array(targets)\n",
    "    svd = TruncatedSVD(n_components = 2048,random_state = 1)\n",
    "    Y = svd.fit_transform(targets)[:,:2048]\n",
    "    X = X_copy.copy()[:,:40]\n",
    "    X = X[day7_donor2]\n",
    "    X = X[selector]\n",
    "    print(k)\n",
    "    evaluate(0,0,loss=False,save=False)"
   ]
  },
  {
   "cell_type": "code",
   "execution_count": 130,
   "id": "18bfdcca-d9fa-4a8f-8e34-b1bf29840323",
   "metadata": {
    "execution": {
     "iopub.execute_input": "2022-11-08T21:25:42.951832Z",
     "iopub.status.busy": "2022-11-08T21:25:42.951431Z",
     "iopub.status.idle": "2022-11-08T21:28:16.323597Z",
     "shell.execute_reply": "2022-11-08T21:28:16.322991Z",
     "shell.execute_reply.started": "2022-11-08T21:25:42.951796Z"
    },
    "tags": []
   },
   "outputs": [
    {
     "name": "stdout",
     "output_type": "stream",
     "text": [
      "MasP\n",
      "16/16 [==============================] - 0s 2ms/step\n",
      "\n",
      " --------- FOLD 0 -----------\n",
      "Mean squared error = 17.920000076293945\n",
      "Correlation = 0.68638\n",
      "PCA Correlation = 0.95019\n",
      "16/16 [==============================] - 0s 2ms/step\n",
      "\n",
      " --------- FOLD 1 -----------\n",
      "Mean squared error = 17.309999465942383\n",
      "Correlation = 0.68859\n",
      "PCA Correlation = 0.95268\n",
      "16/16 [==============================] - 0s 2ms/step\n",
      "\n",
      " --------- FOLD 2 -----------\n",
      "Mean squared error = 17.969999313354492\n",
      "Correlation = 0.68785\n",
      "PCA Correlation = 0.95024\n",
      "\u001b[32m\u001b[1mMean corr = 0.68760\u001b[0m\n",
      "\u001b[31m\u001b[1mMean pca corr = 0.95104\u001b[0m\n",
      "NeuP\n",
      "21/21 [==============================] - 0s 2ms/step\n",
      "\n",
      " --------- FOLD 0 -----------\n",
      "Mean squared error = 14.609999656677246\n",
      "Correlation = 0.68503\n",
      "PCA Correlation = 0.95871\n",
      "21/21 [==============================] - 0s 2ms/step\n",
      "\n",
      " --------- FOLD 1 -----------\n",
      "Mean squared error = 14.510000228881836\n",
      "Correlation = 0.68639\n",
      "PCA Correlation = 0.95885\n",
      "21/21 [==============================] - 0s 2ms/step\n",
      "\n",
      " --------- FOLD 2 -----------\n",
      "Mean squared error = 15.140000343322754\n",
      "Correlation = 0.68295\n",
      "PCA Correlation = 0.95677\n",
      "\u001b[32m\u001b[1mMean corr = 0.68479\u001b[0m\n",
      "\u001b[31m\u001b[1mMean pca corr = 0.95811\u001b[0m\n",
      "MkP\n",
      "13/13 [==============================] - 0s 2ms/step\n",
      "\n",
      " --------- FOLD 0 -----------\n",
      "Mean squared error = 21.18000030517578\n",
      "Correlation = 0.68703\n",
      "PCA Correlation = 0.94248\n",
      "13/13 [==============================] - 0s 2ms/step\n",
      "\n",
      " --------- FOLD 1 -----------\n",
      "Mean squared error = 21.079999923706055\n",
      "Correlation = 0.68792\n",
      "PCA Correlation = 0.94256\n",
      "13/13 [==============================] - 0s 2ms/step\n",
      "\n",
      " --------- FOLD 2 -----------\n",
      "Mean squared error = 19.489999771118164\n",
      "Correlation = 0.69065\n",
      "PCA Correlation = 0.94701\n",
      "\u001b[32m\u001b[1mMean corr = 0.68854\u001b[0m\n",
      "\u001b[31m\u001b[1mMean pca corr = 0.94401\u001b[0m\n",
      "HSC\n",
      "31/31 [==============================] - 0s 2ms/step\n",
      "\n",
      " --------- FOLD 0 -----------\n",
      "Mean squared error = 11.1899995803833\n",
      "Correlation = 0.68421\n",
      "PCA Correlation = 0.96798\n",
      "31/31 [==============================] - 0s 2ms/step\n",
      "\n",
      " --------- FOLD 1 -----------\n",
      "Mean squared error = 11.470000267028809\n",
      "Correlation = 0.68118\n",
      "PCA Correlation = 0.96692\n",
      "31/31 [==============================] - 0s 2ms/step\n",
      "\n",
      " --------- FOLD 2 -----------\n",
      "Mean squared error = 11.079999923706055\n",
      "Correlation = 0.68601\n",
      "PCA Correlation = 0.96836\n",
      "\u001b[32m\u001b[1mMean corr = 0.68380\u001b[0m\n",
      "\u001b[31m\u001b[1mMean pca corr = 0.96775\u001b[0m\n",
      "Rest\n",
      "19/19 [==============================] - 0s 2ms/step\n",
      "\n",
      " --------- FOLD 0 -----------\n",
      "Mean squared error = 15.170000076293945\n",
      "Correlation = 0.69567\n",
      "PCA Correlation = 0.95847\n",
      "19/19 [==============================] - 0s 2ms/step\n",
      "\n",
      " --------- FOLD 1 -----------\n",
      "Mean squared error = 14.949999809265137\n",
      "Correlation = 0.69445\n",
      "PCA Correlation = 0.95904\n",
      "19/19 [==============================] - 0s 2ms/step\n",
      "\n",
      " --------- FOLD 2 -----------\n",
      "Mean squared error = 15.239999771118164\n",
      "Correlation = 0.69424\n",
      "PCA Correlation = 0.95818\n",
      "\u001b[32m\u001b[1mMean corr = 0.69479\u001b[0m\n",
      "\u001b[31m\u001b[1mMean pca corr = 0.95856\u001b[0m\n"
     ]
    }
   ],
   "source": [
    "day = 4\n",
    "donor = 13176\n",
    "for k in ('MasP','NeuP','MkP','HSC','Rest'):\n",
    "    if k != 'Rest':\n",
    "        selector = meta.loc[(meta.day == day)&(meta.donor == donor)&(meta.cell_type == k)].range.values\n",
    "    else:\n",
    "        selector = meta.loc[(meta.day == day)&(meta.donor == donor)&((meta.cell_type == 'EryP')|(meta.cell_type == 'MoP'))].range.values\n",
    "    targets = targets_copy.copy()\n",
    "    X = X_copy.copy()\n",
    "    targets = targets[selector]\n",
    "    # Normalize the targets row-wise: This doesn't change the correlations,\n",
    "    # and negative_correlation_loss depends on it\n",
    "    targets -= targets.mean(axis=1).reshape(-1, 1)\n",
    "    targets /= targets.std(axis=1).reshape(-1, 1)\n",
    "    targets = np.array(targets)\n",
    "    svd = TruncatedSVD(n_components = 512,random_state = 1)\n",
    "    Y = svd.fit_transform(targets)[:,:64]\n",
    "    X = X_copy[selector]\n",
    "    print(k)\n",
    "    evaluate(0,0,loss=False,save=False)"
   ]
  },
  {
   "cell_type": "code",
   "execution_count": 135,
   "id": "ac9b00bf-9065-4f9a-bb91-779d88dc7f07",
   "metadata": {
    "execution": {
     "iopub.execute_input": "2022-11-08T21:30:22.218379Z",
     "iopub.status.busy": "2022-11-08T21:30:22.217971Z",
     "iopub.status.idle": "2022-11-08T21:30:22.231738Z",
     "shell.execute_reply": "2022-11-08T21:30:22.231212Z",
     "shell.execute_reply.started": "2022-11-08T21:30:22.218354Z"
    },
    "tags": []
   },
   "outputs": [
    {
     "data": {
      "text/html": [
       "<div>\n",
       "<style scoped>\n",
       "    .dataframe tbody tr th:only-of-type {\n",
       "        vertical-align: middle;\n",
       "    }\n",
       "\n",
       "    .dataframe tbody tr th {\n",
       "        vertical-align: top;\n",
       "    }\n",
       "\n",
       "    .dataframe thead th {\n",
       "        text-align: right;\n",
       "    }\n",
       "</style>\n",
       "<table border=\"1\" class=\"dataframe\">\n",
       "  <thead>\n",
       "    <tr style=\"text-align: right;\">\n",
       "      <th></th>\n",
       "      <th>cell count</th>\n",
       "      <th>day 7 corr</th>\n",
       "      <th>day 4 corr</th>\n",
       "    </tr>\n",
       "  </thead>\n",
       "  <tbody>\n",
       "    <tr>\n",
       "      <th>MasP</th>\n",
       "      <td>1751</td>\n",
       "      <td>0.62030</td>\n",
       "      <td>0.68760</td>\n",
       "    </tr>\n",
       "    <tr>\n",
       "      <th>NeuP</th>\n",
       "      <td>1733</td>\n",
       "      <td>0.61627</td>\n",
       "      <td>0.68479</td>\n",
       "    </tr>\n",
       "    <tr>\n",
       "      <th>MkP</th>\n",
       "      <td>1575</td>\n",
       "      <td>0.68074</td>\n",
       "      <td>0.68854</td>\n",
       "    </tr>\n",
       "    <tr>\n",
       "      <th>HSC</th>\n",
       "      <td>1282</td>\n",
       "      <td>0.63953</td>\n",
       "      <td>0.68380</td>\n",
       "    </tr>\n",
       "    <tr>\n",
       "      <th>EryP</th>\n",
       "      <td>900</td>\n",
       "      <td>0.66553</td>\n",
       "      <td>0.69479</td>\n",
       "    </tr>\n",
       "    <tr>\n",
       "      <th>MoP</th>\n",
       "      <td>224</td>\n",
       "      <td>0.66553</td>\n",
       "      <td>0.69479</td>\n",
       "    </tr>\n",
       "    <tr>\n",
       "      <th>BP</th>\n",
       "      <td>1</td>\n",
       "      <td>0.66553</td>\n",
       "      <td>0.69479</td>\n",
       "    </tr>\n",
       "  </tbody>\n",
       "</table>\n",
       "</div>"
      ],
      "text/plain": [
       "      cell count  day 7 corr  day 4 corr\n",
       "MasP        1751     0.62030     0.68760\n",
       "NeuP        1733     0.61627     0.68479\n",
       "MkP         1575     0.68074     0.68854\n",
       "HSC         1282     0.63953     0.68380\n",
       "EryP         900     0.66553     0.69479\n",
       "MoP          224     0.66553     0.69479\n",
       "BP             1     0.66553     0.69479"
      ]
     },
     "execution_count": 135,
     "metadata": {},
     "output_type": "execute_result"
    }
   ],
   "source": [
    "cell_types = ('MasP','NeuP','MkP','HSC','Rest')\n",
    "day7_donor2 = meta.loc[(meta.day == 7)&(meta.donor == 13176)].range.values\n",
    "abc = meta.iloc[day7_donor2].cell_type.value_counts()\n",
    "abc = pd.DataFrame(abc).rename(columns={'cell_type':'cell count'})\n",
    "abc['day 7 corr'] = [0.62030,0.61627,0.68074,0.63953,0.66553,0.66553,0.66553]\n",
    "abc['day 4 corr'] = [0.68760,0.68479,0.68854,0.68380,0.69479,0.69479,0.69479]\n",
    "abc"
   ]
  },
  {
   "cell_type": "code",
   "execution_count": 6,
   "id": "89127a96-beb1-48ab-acb3-378ce1d2f4da",
   "metadata": {
    "execution": {
     "iopub.execute_input": "2022-11-09T20:00:17.968652Z",
     "iopub.status.busy": "2022-11-09T20:00:17.968194Z",
     "iopub.status.idle": "2022-11-09T20:00:24.582020Z",
     "shell.execute_reply": "2022-11-09T20:00:24.581248Z",
     "shell.execute_reply.started": "2022-11-09T20:00:17.968623Z"
    },
    "tags": []
   },
   "outputs": [],
   "source": [
    "with open('../input/targets-multiome-sparse-scaled/train_Citeseq_truncated_512.pkl','rb') as f: X = pickle.load(f)\n",
    "with open('../input/targets-multiome-sparse-scaled/test_Citeseq_truncated_512.pkl','rb') as f: Xt = pickle.load(f)\n",
    "\n",
    "X.shape, Xt.shape\n",
    "\n",
    "Y = pd.read_hdf(FP_CITE_TRAIN_TARGETS)\n",
    "#Y = Y.loc[meta.day == 3]\n",
    "Y = Y.values\n",
    "Y -= Y.mean(axis=1).reshape(-1, 1)\n",
    "Y /= Y.std(axis=1).reshape(-1, 1)\n",
    "Y.shape\n",
    "\n",
    "X0 = np.genfromtxt('./sparse/X0.csv',delimiter=',')\n",
    "\n",
    "X = np.hstack((X[:,:75],X0))\n",
    "X.shape\n",
    "X_copy = X.copy()\n",
    "Y_copy = Y.copy()"
   ]
  },
  {
   "cell_type": "code",
   "execution_count": 7,
   "id": "3be77cb4-5fa8-4429-8d0f-6b7fac7ecba2",
   "metadata": {
    "execution": {
     "iopub.execute_input": "2022-11-09T20:00:24.583472Z",
     "iopub.status.busy": "2022-11-09T20:00:24.583182Z",
     "iopub.status.idle": "2022-11-09T20:00:24.885041Z",
     "shell.execute_reply": "2022-11-09T20:00:24.884024Z",
     "shell.execute_reply.started": "2022-11-09T20:00:24.583453Z"
    },
    "tags": []
   },
   "outputs": [],
   "source": [
    "with np.load('./sparse/train_cite_inputs_idxcol.npz',allow_pickle=True) as data:\n",
    "    cell_index = data['index']\n",
    "with np.load('./sparse/test_cite_inputs_idxcol.npz',allow_pickle=True) as data:\n",
    "    cell_index_t = data['index']\n",
    "metadata_df = pd.read_csv('../input/open-problems-multimodal/metadata.csv', index_col='cell_id')\n",
    "metadata_df = metadata_df[metadata_df.technology==\"citeseq\"]\n",
    "meta = metadata_df.reindex(cell_index)\n",
    "meta['range'] = range(len(meta))\n",
    "selector = {}\n",
    "for i in (2,3,4):\n",
    "    for j in (32606,13176,31800):\n",
    "        selector[(i,j)] = meta.loc[(meta.day == i)&(meta.donor == j)].range.values"
   ]
  },
  {
   "cell_type": "code",
   "execution_count": null,
   "id": "3fea2ad7-9dae-4320-8941-96c51d22106c",
   "metadata": {
    "tags": []
   },
   "outputs": [],
   "source": [
    "corr_scores = []\n",
    "lengths = 0\n",
    "for i in (2,3,4):\n",
    "    for j in (32606,13176,31800):\n",
    "        for fold in range(3):\n",
    "            model = load_model(f\"./cite_model_saves/model_{i}_{j}_{fold}\",\n",
    "                custom_objects={'negative_correlation_loss': negative_correlation_loss})\n",
    "            for k in (32606,13176,31800):\n",
    "                if j!=k:\n",
    "                    corr_scores.append(correlation_score(Y[selector[(i,k)]],model.predict(X[selector[(i,k)]])))\n",
    "                    lengths += 1\n",
    "corr_scores.sum()/lengths"
   ]
  },
  {
   "cell_type": "code",
   "execution_count": 66,
   "id": "53442764-5e2c-40e3-9fcd-912d81b092f3",
   "metadata": {
    "execution": {
     "iopub.execute_input": "2022-11-08T23:59:06.721623Z",
     "iopub.status.busy": "2022-11-08T23:59:06.721185Z",
     "iopub.status.idle": "2022-11-08T23:59:06.726016Z",
     "shell.execute_reply": "2022-11-08T23:59:06.725451Z",
     "shell.execute_reply.started": "2022-11-08T23:59:06.721589Z"
    }
   },
   "outputs": [
    {
     "data": {
      "text/plain": [
       "0.8840398745690025"
      ]
     },
     "execution_count": 66,
     "metadata": {},
     "output_type": "execute_result"
    }
   ],
   "source": [
    "np.sum(corr_scores)/lengths"
   ]
  },
  {
   "cell_type": "code",
   "execution_count": 68,
   "id": "e40a0202-542f-47af-9d96-212f3361b69e",
   "metadata": {
    "execution": {
     "iopub.execute_input": "2022-11-08T23:59:52.445374Z",
     "iopub.status.busy": "2022-11-08T23:59:52.444946Z",
     "iopub.status.idle": "2022-11-08T23:59:52.609689Z",
     "shell.execute_reply": "2022-11-08T23:59:52.609156Z",
     "shell.execute_reply.started": "2022-11-08T23:59:52.445349Z"
    },
    "tags": []
   },
   "outputs": [
    {
     "data": {
      "text/plain": [
       "(array([ 3.,  6.,  0.,  3.,  3.,  7.,  5., 14.,  8.,  5.]),\n",
       " array([0.86387628, 0.86719716, 0.87051803, 0.87383891, 0.87715978,\n",
       "        0.88048066, 0.88380153, 0.8871224 , 0.89044328, 0.89376415,\n",
       "        0.89708503]),\n",
       " <BarContainer object of 10 artists>)"
      ]
     },
     "execution_count": 68,
     "metadata": {},
     "output_type": "execute_result"
    },
    {
     "data": {
      "image/png": "[encoded data removed]",
      "text/plain": [
       "<Figure size 432x288 with 1 Axes>"
      ]
     },
     "metadata": {
      "needs_background": "light"
     },
     "output_type": "display_data"
    }
   ],
   "source": [
    "plt.hist(corr_scores)"
   ]
  },
  {
   "cell_type": "code",
   "execution_count": 69,
   "id": "7d0c5848-a6a2-45e0-9003-49efd0babcfc",
   "metadata": {
    "execution": {
     "iopub.execute_input": "2022-11-09T00:00:31.954795Z",
     "iopub.status.busy": "2022-11-09T00:00:31.954418Z",
     "iopub.status.idle": "2022-11-09T00:00:32.285677Z",
     "shell.execute_reply": "2022-11-09T00:00:32.285019Z",
     "shell.execute_reply.started": "2022-11-09T00:00:31.954770Z"
    }
   },
   "outputs": [],
   "source": [
    "import warnings\n",
    "warnings.filterwarnings(\"ignore\")\n",
    "\n",
    "with np.load('./sparse/train_multi_inputs_idxcol.npz',allow_pickle=True) as data:\n",
    "    cell_index = data['index']\n",
    "with np.load('./sparse/test_multi_inputs_idxcol.npz',allow_pickle=True) as data:\n",
    "    cell_index_t = data['index']\n",
    "metadata_df = pd.read_csv('../input/open-problems-multimodal/metadata.csv', index_col='cell_id')\n",
    "metadata_df = metadata_df[metadata_df.technology==\"multiome\"]\n",
    "meta = metadata_df.reindex(cell_index)\n",
    "meta['range'] = range(len(meta))\n",
    "selector = {}\n",
    "for i in (2,3,4,7):\n",
    "    for j in (32606,13176,31800):\n",
    "        selector[(i,j)] = meta.loc[(meta.day == i)&(meta.donor == j)].range.values"
   ]
  },
  {
   "cell_type": "code",
   "execution_count": 70,
   "id": "4fa3397b-60b1-4891-9f3c-67e9d37f10fb",
   "metadata": {
    "execution": {
     "iopub.execute_input": "2022-11-09T00:01:18.782090Z",
     "iopub.status.busy": "2022-11-09T00:01:18.781705Z",
     "iopub.status.idle": "2022-11-09T00:01:35.456694Z",
     "shell.execute_reply": "2022-11-09T00:01:35.456080Z",
     "shell.execute_reply.started": "2022-11-09T00:01:18.782065Z"
    }
   },
   "outputs": [],
   "source": [
    "targets_copy = scipy.sparse.load_npz(\"./sparse/train_multi_targets_values.sparse.npz\")\n",
    "targets_copy = scprep.filter.remove_empty_genes(targets_copy)\n",
    "inputs_both_128 = np.load(\"./multi_pca/inputs_both_128.npy\")\n",
    "X_copy = inputs_both_128[:targets_copy.shape[0],:40]"
   ]
  },
  {
   "cell_type": "code",
   "execution_count": 75,
   "id": "c5decc6f-a17e-4613-91fa-7afe3dee5d1c",
   "metadata": {
    "execution": {
     "iopub.execute_input": "2022-11-09T00:04:28.199416Z",
     "iopub.status.busy": "2022-11-09T00:04:28.199042Z",
     "iopub.status.idle": "2022-11-09T00:04:36.428331Z",
     "shell.execute_reply": "2022-11-09T00:04:36.427706Z",
     "shell.execute_reply.started": "2022-11-09T00:04:28.199392Z"
    }
   },
   "outputs": [],
   "source": [
    "targets_copy = targets_copy.toarray()"
   ]
  },
  {
   "cell_type": "code",
   "execution_count": 76,
   "id": "5a3f11fb-dc26-4bd0-96ee-d746fc233359",
   "metadata": {
    "execution": {
     "iopub.execute_input": "2022-11-09T00:04:38.292017Z",
     "iopub.status.busy": "2022-11-09T00:04:38.291641Z",
     "iopub.status.idle": "2022-11-09T00:09:16.643458Z",
     "shell.execute_reply": "2022-11-09T00:09:16.642830Z",
     "shell.execute_reply.started": "2022-11-09T00:04:38.291993Z"
    },
    "tags": []
   },
   "outputs": [
    {
     "name": "stdout",
     "output_type": "stream",
     "text": [
      "299/299 [==============================] - 1s 2ms/step\n",
      "222/222 [==============================] - 1s 2ms/step\n",
      "299/299 [==============================] - 1s 2ms/step\n",
      "222/222 [==============================] - 0s 2ms/step\n",
      "299/299 [==============================] - 1s 2ms/step\n",
      "222/222 [==============================] - 1s 2ms/step\n",
      "227/227 [==============================] - 1s 2ms/step\n",
      "222/222 [==============================] - 1s 2ms/step\n",
      "227/227 [==============================] - 1s 2ms/step\n",
      "222/222 [==============================] - 1s 2ms/step\n",
      "227/227 [==============================] - 1s 2ms/step\n",
      "222/222 [==============================] - 1s 2ms/step\n",
      "227/227 [==============================] - 1s 2ms/step\n",
      "299/299 [==============================] - 1s 2ms/step\n",
      "227/227 [==============================] - 1s 2ms/step\n",
      "299/299 [==============================] - 1s 2ms/step\n",
      "227/227 [==============================] - 1s 2ms/step\n",
      "299/299 [==============================] - 1s 2ms/step\n",
      "281/281 [==============================] - 1s 2ms/step\n",
      "354/354 [==============================] - 1s 2ms/step\n",
      "281/281 [==============================] - 1s 2ms/step\n",
      "354/354 [==============================] - 1s 2ms/step\n",
      "281/281 [==============================] - 1s 2ms/step\n",
      "354/354 [==============================] - 1s 2ms/step\n",
      "267/267 [==============================] - 1s 2ms/step\n",
      "354/354 [==============================] - 1s 2ms/step\n",
      "267/267 [==============================] - 1s 2ms/step\n",
      "354/354 [==============================] - 1s 2ms/step\n",
      "267/267 [==============================] - 1s 2ms/step\n",
      "354/354 [==============================] - 1s 2ms/step\n",
      "267/267 [==============================] - 1s 2ms/step\n",
      "281/281 [==============================] - 1s 2ms/step\n",
      "267/267 [==============================] - 1s 2ms/step\n",
      "281/281 [==============================] - 1s 2ms/step\n",
      "267/267 [==============================] - 1s 2ms/step\n",
      "281/281 [==============================] - 1s 2ms/step\n",
      "294/294 [==============================] - 1s 2ms/step\n",
      "338/338 [==============================] - 1s 2ms/step\n",
      "294/294 [==============================] - 1s 2ms/step\n",
      "338/338 [==============================] - 1s 2ms/step\n",
      "294/294 [==============================] - 1s 2ms/step\n",
      "338/338 [==============================] - 1s 2ms/step\n",
      "342/342 [==============================] - 1s 2ms/step\n",
      "338/338 [==============================] - 1s 2ms/step\n",
      "342/342 [==============================] - 1s 2ms/step\n",
      "338/338 [==============================] - 1s 2ms/step\n",
      "342/342 [==============================] - 1s 2ms/step\n",
      "338/338 [==============================] - 1s 2ms/step\n",
      "342/342 [==============================] - 1s 2ms/step\n",
      "294/294 [==============================] - 1s 2ms/step\n",
      "342/342 [==============================] - 1s 2ms/step\n",
      "294/294 [==============================] - 1s 2ms/step\n",
      "342/342 [==============================] - 1s 2ms/step\n",
      "294/294 [==============================] - 1s 2ms/step\n",
      "234/234 [==============================] - 1s 2ms/step\n",
      "240/240 [==============================] - 1s 2ms/step\n",
      "234/234 [==============================] - 1s 2ms/step\n",
      "240/240 [==============================] - 1s 2ms/step\n",
      "234/234 [==============================] - 1s 2ms/step\n",
      "240/240 [==============================] - 1s 2ms/step\n",
      "218/218 [==============================] - 1s 2ms/step\n",
      "240/240 [==============================] - 1s 2ms/step\n",
      "218/218 [==============================] - 1s 2ms/step\n",
      "240/240 [==============================] - 1s 2ms/step\n",
      "218/218 [==============================] - 1s 2ms/step\n",
      "240/240 [==============================] - 1s 2ms/step\n",
      "218/218 [==============================] - 1s 2ms/step\n",
      "234/234 [==============================] - 1s 2ms/step\n",
      "218/218 [==============================] - 1s 2ms/step\n",
      "234/234 [==============================] - 1s 2ms/step\n",
      "218/218 [==============================] - 1s 2ms/step\n",
      "234/234 [==============================] - 1s 2ms/step\n"
     ]
    }
   ],
   "source": [
    "corr_scores = []\n",
    "lengths = 0\n",
    "for i in (2,3,4,7):\n",
    "    for j in (32606,13176,31800):\n",
    "        svds = np.load(f\"./multi_model_saves/model_{i}_{j}_svds.npy\")\n",
    "        for fold in range(3):\n",
    "            model = load_model(f\"./multi_model_saves/model_{i}_{j}_{fold}\",\n",
    "                custom_objects={'negative_correlation_loss': negative_correlation_loss})\n",
    "            for k in (32606,13176,31800):\n",
    "                if j!=k:\n",
    "                    corr_scores.append(correlation_score(targets_copy[selector[(i,k)]],model.predict(X_copy[selector[(i,k)]])@svds))\n",
    "                    lengths += 1"
   ]
  },
  {
   "cell_type": "code",
   "execution_count": 77,
   "id": "9e1cf637-f9e4-4305-9d55-5f150bf15470",
   "metadata": {
    "execution": {
     "iopub.execute_input": "2022-11-09T00:09:33.325813Z",
     "iopub.status.busy": "2022-11-09T00:09:33.325418Z",
     "iopub.status.idle": "2022-11-09T00:09:33.330688Z",
     "shell.execute_reply": "2022-11-09T00:09:33.329972Z",
     "shell.execute_reply.started": "2022-11-09T00:09:33.325786Z"
    }
   },
   "outputs": [
    {
     "data": {
      "text/plain": [
       "0.6611708342571032"
      ]
     },
     "execution_count": 77,
     "metadata": {},
     "output_type": "execute_result"
    }
   ],
   "source": [
    "np.sum(corr_scores)/lengths"
   ]
  },
  {
   "cell_type": "code",
   "execution_count": 78,
   "id": "cf3c7674-d8f4-4494-80fd-2739716f3aa1",
   "metadata": {
    "execution": {
     "iopub.execute_input": "2022-11-09T00:09:50.094207Z",
     "iopub.status.busy": "2022-11-09T00:09:50.093801Z",
     "iopub.status.idle": "2022-11-09T00:09:50.201965Z",
     "shell.execute_reply": "2022-11-09T00:09:50.201362Z",
     "shell.execute_reply.started": "2022-11-09T00:09:50.094183Z"
    }
   },
   "outputs": [
    {
     "data": {
      "text/plain": [
       "(array([12.,  0.,  6.,  0.,  0.,  0.,  6.,  9.,  9., 30.]),\n",
       " array([0.60970338, 0.61725756, 0.62481174, 0.63236592, 0.6399201 ,\n",
       "        0.64747427, 0.65502845, 0.66258263, 0.67013681, 0.67769099,\n",
       "        0.68524517]),\n",
       " <BarContainer object of 10 artists>)"
      ]
     },
     "execution_count": 78,
     "metadata": {},
     "output_type": "execute_result"
    },
    {
     "data": {
      "image/png": "[encoded data removed]",
      "text/plain": [
       "<Figure size 432x288 with 1 Axes>"
      ]
     },
     "metadata": {
      "needs_background": "light"
     },
     "output_type": "display_data"
    }
   ],
   "source": [
    "plt.hist(corr_scores)"
   ]
  },
  {
   "cell_type": "code",
   "execution_count": null,
   "id": "6214daf9-9dd3-495b-adb2-1ca7333f7abd",
   "metadata": {},
   "outputs": [],
   "source": [
    "0.655, 0.890 on fourth donor (0.661 and 0.339)\n",
    "or\n",
    "0.685, 0.873 on fourth donor (0.667 and 0.333)\n",
    "expected at least 0.890 and 0.680 so some mistake?\n",
    "0.682, 0.895\n",
    "my average other-donor prediction is\n",
    "0.661, 0.884\n",
    "so 0.655, 0.890 is not too far off"
   ]
  },
  {
   "cell_type": "code",
   "execution_count": 10,
   "id": "4a244fc1-bfd4-4bb4-b78b-7ece6fa778e6",
   "metadata": {
    "execution": {
     "iopub.execute_input": "2022-11-09T20:03:01.618201Z",
     "iopub.status.busy": "2022-11-09T20:03:01.617690Z",
     "iopub.status.idle": "2022-11-09T20:03:05.840033Z",
     "shell.execute_reply": "2022-11-09T20:03:05.839412Z",
     "shell.execute_reply.started": "2022-11-09T20:03:01.618173Z"
    }
   },
   "outputs": [
    {
     "name": "stderr",
     "output_type": "stream",
     "text": [
      "2022-11-09 20:03:01.717163: I tensorflow/stream_executor/cuda/cuda_gpu_executor.cc:980] successful NUMA node read from SysFS had negative value (-1), but there must be at least one NUMA node, so returning NUMA node zero\n",
      "2022-11-09 20:03:01.725884: W tensorflow/stream_executor/platform/default/dso_loader.cc:64] Could not load dynamic library 'libcudnn.so.8'; dlerror: libcudnn.so.8: cannot open shared object file: No such file or directory; LD_LIBRARY_PATH: /usr/local/nvidia/lib:/usr/local/nvidia/lib64\n",
      "2022-11-09 20:03:01.725905: W tensorflow/core/common_runtime/gpu/gpu_device.cc:1934] Cannot dlopen some GPU libraries. Please make sure the missing libraries mentioned above are installed properly if you would like to use GPU. Follow the guide at https://www.tensorflow.org/install/gpu for how to download and setup the required libraries for your platform.\n",
      "Skipping registering GPU devices...\n",
      "2022-11-09 20:03:01.726325: I tensorflow/core/platform/cpu_feature_guard.cc:193] This TensorFlow binary is optimized with oneAPI Deep Neural Network Library (oneDNN) to use the following CPU instructions in performance-critical operations:  AVX2 AVX512F AVX512_VNNI FMA\n",
      "To enable them in other operations, rebuild TensorFlow with the appropriate compiler flags.\n"
     ]
    },
    {
     "name": "stdout",
     "output_type": "stream",
     "text": [
      "263/263 [==============================] - 1s 3ms/step\n",
      "263/263 [==============================] - 1s 2ms/step\n",
      "263/263 [==============================] - 1s 3ms/step\n"
     ]
    }
   ],
   "source": [
    "pred = np.zeros((len(X_copy[selector[(2,31800)]]),140))\n",
    "for fold in range(3):\n",
    "    model = load_model(f\"./cite_model_saves/model_2_32606_{fold}\",\n",
    "        custom_objects={'negative_correlation_loss': negative_correlation_loss})\n",
    "    pred =+ model.predict(X_copy[selector[(2,31800)]])"
   ]
  },
  {
   "cell_type": "code",
   "execution_count": 11,
   "id": "f31f04fe-1da5-4d12-986a-f88e0e472d3a",
   "metadata": {
    "execution": {
     "iopub.execute_input": "2022-11-09T20:03:40.589035Z",
     "iopub.status.busy": "2022-11-09T20:03:40.588588Z",
     "iopub.status.idle": "2022-11-09T20:03:41.429527Z",
     "shell.execute_reply": "2022-11-09T20:03:41.428571Z",
     "shell.execute_reply.started": "2022-11-09T20:03:40.589007Z"
    }
   },
   "outputs": [
    {
     "data": {
      "text/plain": [
       "0.893370414788536"
      ]
     },
     "execution_count": 11,
     "metadata": {},
     "output_type": "execute_result"
    }
   ],
   "source": [
    "correlation_score(Y_copy[selector[(2,31800)]],pred)"
   ]
  },
  {
   "cell_type": "code",
   "execution_count": 13,
   "id": "8f0fe4ed-e00f-488e-a95b-e5bab5ab569b",
   "metadata": {
    "execution": {
     "iopub.execute_input": "2022-11-09T20:30:02.574891Z",
     "iopub.status.busy": "2022-11-09T20:30:02.574487Z",
     "iopub.status.idle": "2022-11-09T20:30:02.578610Z",
     "shell.execute_reply": "2022-11-09T20:30:02.578053Z",
     "shell.execute_reply.started": "2022-11-09T20:30:02.574867Z"
    }
   },
   "outputs": [],
   "source": [
    "abc = np.load('./corrs/cite_all_corrs.npy')"
   ]
  },
  {
   "cell_type": "code",
   "execution_count": 18,
   "id": "149fe08c-d503-47e2-a721-7ddb4ce7b0bf",
   "metadata": {
    "execution": {
     "iopub.execute_input": "2022-11-09T20:36:14.412517Z",
     "iopub.status.busy": "2022-11-09T20:36:14.412121Z",
     "iopub.status.idle": "2022-11-09T20:36:21.433429Z",
     "shell.execute_reply": "2022-11-09T20:36:21.432799Z",
     "shell.execute_reply.started": "2022-11-09T20:36:14.412492Z"
    },
    "tags": []
   },
   "outputs": [],
   "source": [
    "X = pd.read_hdf(FP_CITE_TRAIN_INPUTS).drop(columns = constant_cols)\n",
    "\n",
    "Y = pd.read_hdf(FP_CITE_TRAIN_TARGETS)\n",
    "#Y = Y.loc[meta.day == 3]\n",
    "Y = Y.values\n",
    "Y -= Y.mean(axis=1).reshape(-1, 1)\n",
    "Y /= Y.std(axis=1).reshape(-1, 1)\n",
    "Y.shape\n",
    "X_copy = X.values.copy()\n",
    "Y_copy = Y.copy()"
   ]
  },
  {
   "cell_type": "code",
   "execution_count": 21,
   "id": "42a0af26-2bcf-4094-979d-f9e5e0a67e14",
   "metadata": {
    "execution": {
     "iopub.execute_input": "2022-11-15T17:54:07.022469Z",
     "iopub.status.busy": "2022-11-15T17:54:07.021871Z",
     "iopub.status.idle": "2022-11-15T17:54:07.034592Z",
     "shell.execute_reply": "2022-11-15T17:54:07.033980Z",
     "shell.execute_reply.started": "2022-11-15T17:54:07.022443Z"
    },
    "tags": []
   },
   "outputs": [],
   "source": [
    "def evaluate(i,j,kind,save,loss=None):\n",
    "    if (loss == None)&(kind=='multi'):\n",
    "        loss = 'mse'\n",
    "    elif (loss == None)&(kind=='cite'):\n",
    "        loss = negative_correlation_loss\n",
    "    assert(loss in ('mse',negative_correlation_loss))\n",
    "    assert(kind in ('multi','cite'))\n",
    "    VERBOSE = 0\n",
    "    if kind == 'cite':\n",
    "        N_SPLIT = 6\n",
    "    else:\n",
    "        N_SPLIT = 3\n",
    "    #kf = KFold(n_splits=N_SPLIT, shuffle=True, random_state=42)\n",
    "    kf = KFold(n_splits = N_SPLIT)\n",
    "\n",
    "    scores = []\n",
    "    pca_scores = []\n",
    "    Y_pred = np.zeros_like(Y)\n",
    "    models = []\n",
    "\n",
    "    for fold,(idx_tr, idx_va) in enumerate(kf.split(X)):\n",
    "\n",
    "        X_tr = X[idx_tr]\n",
    "        y_tr = Y[idx_tr]\n",
    "\n",
    "        X_va = X[idx_va]\n",
    "        y_va = Y[idx_va] \n",
    "\n",
    "        model = create_model(X.shape[1],Y.shape[1])\n",
    "\n",
    "        lr = ReduceLROnPlateau(\n",
    "                    monitor = \"val_loss\",\n",
    "                    factor = 0.9, \n",
    "                    patience = 4, \n",
    "                    verbose = VERBOSE)\n",
    "\n",
    "        es = EarlyStopping(\n",
    "                    monitor = \"val_loss\",\n",
    "                    patience = 30, \n",
    "                    verbose = VERBOSE,\n",
    "                    mode = \"min\", \n",
    "                    restore_best_weights = True)\n",
    "\n",
    "        if kind == 'cite':\n",
    "            chk = tf.keras.callbacks.ModelCheckpoint(\n",
    "                    filepath = './cite',\n",
    "                    save_weights_only = True,\n",
    "                    monitor = 'val_loss',\n",
    "                    mode = 'min',\n",
    "                    save_best_only = True)\n",
    "        else:\n",
    "            chk = tf.keras.callbacks.ModelCheckpoint(\n",
    "                    filepath = './multi',\n",
    "                    save_weights_only = True,\n",
    "                    monitor = 'val_loss',\n",
    "                    mode = 'min',\n",
    "                    save_best_only = True)\n",
    "\n",
    "        model.compile(optimizer=tf.keras.optimizers.Adam(learning_rate=1e-3),\n",
    "                      loss = loss,\n",
    "                      metrics = loss)\n",
    "            \n",
    "        model.fit(X_tr,\n",
    "                  y_tr,\n",
    "                  validation_data=(X_va,y_va),\n",
    "                  epochs =500,\n",
    "                  verbose = VERBOSE,\n",
    "                  batch_size=256,\n",
    "                  callbacks = [es,lr,chk]\n",
    "                 )\n",
    "        y_va_pred = model.predict(X_va)\n",
    "        Y_pred[idx_va] = y_va_pred\n",
    "        if kind == 'cite':\n",
    "            corrscore = correlation_score(y_va, y_va_pred)\n",
    "            scores.append(corrscore)\n",
    "        else:\n",
    "            corrscore = correlation_score(targets[idx_va], y_va_pred@svd.components_[:64])\n",
    "            scores.append(corrscore)\n",
    "            pca_corrscore = correlation_score(y_va[:,:64], y_va_pred[:,:64])\n",
    "            pca_scores.append(pca_corrscore)\n",
    "\n",
    "        if kind == 'cite':    \n",
    "            model.fit(X_va,\n",
    "                  y_va,\n",
    "                  epochs=20,\n",
    "                  verbose = VERBOSE,\n",
    "                  batch_size=256\n",
    "                 )    \n",
    "            \n",
    "        models.append(model)\n",
    "        \n",
    "        print(f'\\n --------- FOLD {fold} -----------')\n",
    "        print(f'Mean squared error = {np.round(mean_squared_error(y_va,y_va_pred),2)}')\n",
    "        print(f'Correlation = {corrscore:.5f}')\n",
    "        if kind == 'multi':\n",
    "            print(f'PCA Correlation = {pca_corrscore:.5f}')\n",
    "        if kind == 'cite':\n",
    "            filename = f\"./cite_model_saves/model_{i}_{j}_{fold}\"\n",
    "        else:\n",
    "            filename = f\"./multi_model_saves/model_{i}_{j}_{fold}\"\n",
    "        if save:\n",
    "            model.save(filename)\n",
    "            print('model saved :',filename)\n",
    "\n",
    "        del X_tr,X_va,y_tr,y_va\n",
    "        gc.collect()\n",
    "\n",
    "    # Show overall score\n",
    "    print(f\"{Fore.GREEN}{Style.BRIGHT}Mean corr = {np.array(scores).mean():.5f}{Style.RESET_ALL}\")\n",
    "    if not loss:\n",
    "        print(f\"{Fore.RED}{Style.BRIGHT}Mean pca corr = {np.array(pca_scores).mean():.5f}{Style.RESET_ALL}\")\n",
    "    return models"
   ]
  },
  {
   "cell_type": "code",
   "execution_count": 22,
   "id": "b1f3f7d7-c2d8-4862-830b-734ddfad3b7a",
   "metadata": {
    "execution": {
     "iopub.execute_input": "2022-11-15T17:54:08.931473Z",
     "iopub.status.busy": "2022-11-15T17:54:08.931095Z",
     "iopub.status.idle": "2022-11-15T17:54:08.937928Z",
     "shell.execute_reply": "2022-11-15T17:54:08.937360Z",
     "shell.execute_reply.started": "2022-11-15T17:54:08.931449Z"
    },
    "tags": []
   },
   "outputs": [],
   "source": [
    "LR_START = 0.01\n",
    "BATCH_SIZE = 512\n",
    "\n",
    "def create_model(input_shape, output_shape):\n",
    "    \n",
    "    reg1 = 9.613e-06\n",
    "    reg2 = 1e-07\n",
    "    REG1 = tf.keras.regularizers.l2(reg1)\n",
    "    REG2 = tf.keras.regularizers.l2(reg2)\n",
    "    DROP = 0.1\n",
    "\n",
    "    activation = 'selu'\n",
    "    inputs = Input(shape =(input_shape,))\n",
    "\n",
    "    x0 = Dense(256, \n",
    "              kernel_regularizer = REG1,\n",
    "              activation = activation,\n",
    "             )(inputs)\n",
    "    x0 = Dropout(DROP)(x0)\n",
    "    \n",
    "    \n",
    "    x1 = Dense(512, \n",
    "               kernel_regularizer = REG1,\n",
    "               activation = activation,\n",
    "             )(x0)\n",
    "    x1 = Dropout(DROP)(x1)\n",
    "    \n",
    "    \n",
    "    x2 = Dense(512, \n",
    "               kernel_regularizer = REG1,\n",
    "               activation = activation,\n",
    "             )(x1) \n",
    "    x2= Dropout(DROP)(x2)\n",
    "    \n",
    "    x3 = Dense(output_shape,\n",
    "               kernel_regularizer = REG1,\n",
    "               activation = activation,\n",
    "             )(x2)\n",
    "    x3 = Dropout(DROP)(x3)\n",
    "\n",
    "         \n",
    "    x = Concatenate()([\n",
    "                x0, \n",
    "                x1, \n",
    "                x2, \n",
    "                x3\n",
    "                ])\n",
    "    \n",
    "    x = Dense(output_shape, \n",
    "                kernel_regularizer = REG2,\n",
    "                activation='linear',\n",
    "                )(x)\n",
    "    \n",
    "    \n",
    "    model = Model(inputs, x)\n",
    "    \n",
    "\n",
    "    return model"
   ]
  },
  {
   "cell_type": "code",
   "execution_count": 23,
   "id": "01e20eca-bcab-484b-b6ad-fe24f8167244",
   "metadata": {
    "execution": {
     "iopub.execute_input": "2022-11-09T20:38:24.729331Z",
     "iopub.status.busy": "2022-11-09T20:38:24.728944Z",
     "iopub.status.idle": "2022-11-09T20:41:09.357598Z",
     "shell.execute_reply": "2022-11-09T20:41:09.356989Z",
     "shell.execute_reply.started": "2022-11-09T20:38:24.729308Z"
    },
    "tags": []
   },
   "outputs": [
    {
     "name": "stdout",
     "output_type": "stream",
     "text": [
      "53/53 [==============================] - 0s 2ms/step\n"
     ]
    },
    {
     "name": "stderr",
     "output_type": "stream",
     "text": [
      "/srv/conda/envs/saturn/lib/python3.9/site-packages/numpy/lib/function_base.py:2845: RuntimeWarning: Degrees of freedom <= 0 for slice\n",
      "  c = cov(x, y, rowvar, dtype=dtype)\n",
      "/srv/conda/envs/saturn/lib/python3.9/site-packages/numpy/lib/function_base.py:2704: RuntimeWarning: divide by zero encountered in divide\n",
      "  c *= np.true_divide(1, fact)\n",
      "/srv/conda/envs/saturn/lib/python3.9/site-packages/numpy/lib/function_base.py:2704: RuntimeWarning: invalid value encountered in multiply\n",
      "  c *= np.true_divide(1, fact)\n"
     ]
    },
    {
     "name": "stdout",
     "output_type": "stream",
     "text": [
      "\n",
      " --------- FOLD 0 -----------\n",
      "Mean squared error = 0.15000000596046448\n",
      "Correlation = nan\n",
      "53/53 [==============================] - 0s 2ms/step\n"
     ]
    },
    {
     "name": "stderr",
     "output_type": "stream",
     "text": [
      "/srv/conda/envs/saturn/lib/python3.9/site-packages/numpy/lib/function_base.py:2845: RuntimeWarning: Degrees of freedom <= 0 for slice\n",
      "  c = cov(x, y, rowvar, dtype=dtype)\n",
      "/srv/conda/envs/saturn/lib/python3.9/site-packages/numpy/lib/function_base.py:2704: RuntimeWarning: divide by zero encountered in divide\n",
      "  c *= np.true_divide(1, fact)\n",
      "/srv/conda/envs/saturn/lib/python3.9/site-packages/numpy/lib/function_base.py:2704: RuntimeWarning: invalid value encountered in multiply\n",
      "  c *= np.true_divide(1, fact)\n"
     ]
    },
    {
     "name": "stdout",
     "output_type": "stream",
     "text": [
      "\n",
      " --------- FOLD 1 -----------\n",
      "Mean squared error = 0.1599999964237213\n",
      "Correlation = nan\n",
      "53/53 [==============================] - 0s 2ms/step\n"
     ]
    },
    {
     "name": "stderr",
     "output_type": "stream",
     "text": [
      "/srv/conda/envs/saturn/lib/python3.9/site-packages/numpy/lib/function_base.py:2845: RuntimeWarning: Degrees of freedom <= 0 for slice\n",
      "  c = cov(x, y, rowvar, dtype=dtype)\n",
      "/srv/conda/envs/saturn/lib/python3.9/site-packages/numpy/lib/function_base.py:2704: RuntimeWarning: divide by zero encountered in divide\n",
      "  c *= np.true_divide(1, fact)\n",
      "/srv/conda/envs/saturn/lib/python3.9/site-packages/numpy/lib/function_base.py:2704: RuntimeWarning: invalid value encountered in multiply\n",
      "  c *= np.true_divide(1, fact)\n"
     ]
    },
    {
     "name": "stdout",
     "output_type": "stream",
     "text": [
      "\n",
      " --------- FOLD 2 -----------\n",
      "Mean squared error = 0.1599999964237213\n",
      "Correlation = nan\n",
      "53/53 [==============================] - 0s 2ms/step\n"
     ]
    },
    {
     "name": "stderr",
     "output_type": "stream",
     "text": [
      "/srv/conda/envs/saturn/lib/python3.9/site-packages/numpy/lib/function_base.py:2845: RuntimeWarning: Degrees of freedom <= 0 for slice\n",
      "  c = cov(x, y, rowvar, dtype=dtype)\n",
      "/srv/conda/envs/saturn/lib/python3.9/site-packages/numpy/lib/function_base.py:2704: RuntimeWarning: divide by zero encountered in divide\n",
      "  c *= np.true_divide(1, fact)\n",
      "/srv/conda/envs/saturn/lib/python3.9/site-packages/numpy/lib/function_base.py:2704: RuntimeWarning: invalid value encountered in multiply\n",
      "  c *= np.true_divide(1, fact)\n"
     ]
    },
    {
     "name": "stdout",
     "output_type": "stream",
     "text": [
      "\n",
      " --------- FOLD 3 -----------\n",
      "Mean squared error = 0.1599999964237213\n",
      "Correlation = nan\n",
      "53/53 [==============================] - 0s 2ms/step\n"
     ]
    },
    {
     "name": "stderr",
     "output_type": "stream",
     "text": [
      "/srv/conda/envs/saturn/lib/python3.9/site-packages/numpy/lib/function_base.py:2845: RuntimeWarning: Degrees of freedom <= 0 for slice\n",
      "  c = cov(x, y, rowvar, dtype=dtype)\n",
      "/srv/conda/envs/saturn/lib/python3.9/site-packages/numpy/lib/function_base.py:2704: RuntimeWarning: divide by zero encountered in divide\n",
      "  c *= np.true_divide(1, fact)\n",
      "/srv/conda/envs/saturn/lib/python3.9/site-packages/numpy/lib/function_base.py:2704: RuntimeWarning: invalid value encountered in multiply\n",
      "  c *= np.true_divide(1, fact)\n"
     ]
    },
    {
     "name": "stdout",
     "output_type": "stream",
     "text": [
      "\n",
      " --------- FOLD 4 -----------\n",
      "Mean squared error = 0.1599999964237213\n",
      "Correlation = nan\n",
      "53/53 [==============================] - 0s 2ms/step\n"
     ]
    },
    {
     "name": "stderr",
     "output_type": "stream",
     "text": [
      "/srv/conda/envs/saturn/lib/python3.9/site-packages/numpy/lib/function_base.py:2845: RuntimeWarning: Degrees of freedom <= 0 for slice\n",
      "  c = cov(x, y, rowvar, dtype=dtype)\n",
      "/srv/conda/envs/saturn/lib/python3.9/site-packages/numpy/lib/function_base.py:2704: RuntimeWarning: divide by zero encountered in divide\n",
      "  c *= np.true_divide(1, fact)\n",
      "/srv/conda/envs/saturn/lib/python3.9/site-packages/numpy/lib/function_base.py:2704: RuntimeWarning: invalid value encountered in multiply\n",
      "  c *= np.true_divide(1, fact)\n"
     ]
    },
    {
     "name": "stdout",
     "output_type": "stream",
     "text": [
      "\n",
      " --------- FOLD 5 -----------\n",
      "Mean squared error = 0.17000000178813934\n",
      "Correlation = nan\n",
      "\u001b[32m\u001b[1mMean corr = nan\u001b[0m\n"
     ]
    }
   ],
   "source": [
    "Y = Y_copy.copy()\n",
    "X = X_copy.copy()\n",
    "Y = Y[selector[(i,j)]][:,0].reshape(-1,1)\n",
    "X = X[selector[(i,j)]][:,abc[0]]\n",
    "evaluate(i,j,'cite',loss='mse',save=False)"
   ]
  },
  {
   "cell_type": "code",
   "execution_count": 29,
   "id": "3a0858c8-fd0f-4a7c-b242-404081af05dc",
   "metadata": {
    "execution": {
     "iopub.execute_input": "2022-11-09T22:11:45.316796Z",
     "iopub.status.busy": "2022-11-09T22:11:45.316418Z",
     "iopub.status.idle": "2022-11-09T22:14:44.643487Z",
     "shell.execute_reply": "2022-11-09T22:14:44.642036Z",
     "shell.execute_reply.started": "2022-11-09T22:11:45.316773Z"
    },
    "tags": []
   },
   "outputs": [
    {
     "name": "stdout",
     "output_type": "stream",
     "text": [
      "39/39 [==============================] - 0s 7ms/step\n",
      "\n",
      " --------- FOLD 0 -----------\n",
      "Mean squared error = 0.3400000035762787\n",
      "Correlation = 0.81262\n"
     ]
    },
    {
     "ename": "KeyboardInterrupt",
     "evalue": "",
     "output_type": "error",
     "traceback": [
      "\u001b[0;31m---------------------------------------------------------------------------\u001b[0m",
      "\u001b[0;31mKeyboardInterrupt\u001b[0m                         Traceback (most recent call last)",
      "Input \u001b[0;32mIn [29]\u001b[0m, in \u001b[0;36m<cell line: 4>\u001b[0;34m()\u001b[0m\n\u001b[1;32m      2\u001b[0m Y \u001b[38;5;241m=\u001b[39m Y_copy[selector[(\u001b[38;5;241m2\u001b[39m,\u001b[38;5;241m32606\u001b[39m)]]\n\u001b[1;32m      3\u001b[0m X_test \u001b[38;5;241m=\u001b[39m X_copy[selector[(\u001b[38;5;241m2\u001b[39m,\u001b[38;5;241m31800\u001b[39m)]][:,all_corrs\u001b[38;5;241m.\u001b[39mravel()]\n\u001b[0;32m----> 4\u001b[0m \u001b[43mevaluate\u001b[49m\u001b[43m(\u001b[49m\u001b[43mi\u001b[49m\u001b[43m,\u001b[49m\u001b[43mj\u001b[49m\u001b[43m,\u001b[49m\u001b[38;5;124;43m'\u001b[39;49m\u001b[38;5;124;43mcite\u001b[39;49m\u001b[38;5;124;43m'\u001b[39;49m\u001b[43m,\u001b[49m\u001b[43mloss\u001b[49m\u001b[38;5;241;43m=\u001b[39;49m\u001b[38;5;124;43m'\u001b[39;49m\u001b[38;5;124;43mmse\u001b[39;49m\u001b[38;5;124;43m'\u001b[39;49m\u001b[43m,\u001b[49m\u001b[43msave\u001b[49m\u001b[38;5;241;43m=\u001b[39;49m\u001b[38;5;28;43;01mFalse\u001b[39;49;00m\u001b[43m)\u001b[49m\n",
      "Input \u001b[0;32mIn [20]\u001b[0m, in \u001b[0;36mevaluate\u001b[0;34m(i, j, kind, save, loss)\u001b[0m\n\u001b[1;32m     51\u001b[0m     chk \u001b[38;5;241m=\u001b[39m tf\u001b[38;5;241m.\u001b[39mkeras\u001b[38;5;241m.\u001b[39mcallbacks\u001b[38;5;241m.\u001b[39mModelCheckpoint(\n\u001b[1;32m     52\u001b[0m             filepath \u001b[38;5;241m=\u001b[39m \u001b[38;5;124m'\u001b[39m\u001b[38;5;124m./multi\u001b[39m\u001b[38;5;124m'\u001b[39m,\n\u001b[1;32m     53\u001b[0m             save_weights_only \u001b[38;5;241m=\u001b[39m \u001b[38;5;28;01mTrue\u001b[39;00m,\n\u001b[1;32m     54\u001b[0m             monitor \u001b[38;5;241m=\u001b[39m \u001b[38;5;124m'\u001b[39m\u001b[38;5;124mval_loss\u001b[39m\u001b[38;5;124m'\u001b[39m,\n\u001b[1;32m     55\u001b[0m             mode \u001b[38;5;241m=\u001b[39m \u001b[38;5;124m'\u001b[39m\u001b[38;5;124mmin\u001b[39m\u001b[38;5;124m'\u001b[39m,\n\u001b[1;32m     56\u001b[0m             save_best_only \u001b[38;5;241m=\u001b[39m \u001b[38;5;28;01mTrue\u001b[39;00m)\n\u001b[1;32m     58\u001b[0m model\u001b[38;5;241m.\u001b[39mcompile(optimizer\u001b[38;5;241m=\u001b[39mtf\u001b[38;5;241m.\u001b[39mkeras\u001b[38;5;241m.\u001b[39moptimizers\u001b[38;5;241m.\u001b[39mAdam(learning_rate\u001b[38;5;241m=\u001b[39m\u001b[38;5;241m1e-3\u001b[39m),\n\u001b[1;32m     59\u001b[0m               loss \u001b[38;5;241m=\u001b[39m loss,\n\u001b[1;32m     60\u001b[0m               metrics \u001b[38;5;241m=\u001b[39m loss)\n\u001b[0;32m---> 62\u001b[0m \u001b[43mmodel\u001b[49m\u001b[38;5;241;43m.\u001b[39;49m\u001b[43mfit\u001b[49m\u001b[43m(\u001b[49m\u001b[43mX_tr\u001b[49m\u001b[43m,\u001b[49m\n\u001b[1;32m     63\u001b[0m \u001b[43m          \u001b[49m\u001b[43my_tr\u001b[49m\u001b[43m,\u001b[49m\n\u001b[1;32m     64\u001b[0m \u001b[43m          \u001b[49m\u001b[43mvalidation_data\u001b[49m\u001b[38;5;241;43m=\u001b[39;49m\u001b[43m(\u001b[49m\u001b[43mX_va\u001b[49m\u001b[43m,\u001b[49m\u001b[43my_va\u001b[49m\u001b[43m)\u001b[49m\u001b[43m,\u001b[49m\n\u001b[1;32m     65\u001b[0m \u001b[43m          \u001b[49m\u001b[43mepochs\u001b[49m\u001b[43m \u001b[49m\u001b[38;5;241;43m=\u001b[39;49m\u001b[38;5;241;43m500\u001b[39;49m\u001b[43m,\u001b[49m\n\u001b[1;32m     66\u001b[0m \u001b[43m          \u001b[49m\u001b[43mverbose\u001b[49m\u001b[43m \u001b[49m\u001b[38;5;241;43m=\u001b[39;49m\u001b[43m \u001b[49m\u001b[43mVERBOSE\u001b[49m\u001b[43m,\u001b[49m\n\u001b[1;32m     67\u001b[0m \u001b[43m          \u001b[49m\u001b[43mbatch_size\u001b[49m\u001b[38;5;241;43m=\u001b[39;49m\u001b[38;5;241;43m256\u001b[39;49m\u001b[43m,\u001b[49m\n\u001b[1;32m     68\u001b[0m \u001b[43m          \u001b[49m\u001b[43mcallbacks\u001b[49m\u001b[43m \u001b[49m\u001b[38;5;241;43m=\u001b[39;49m\u001b[43m \u001b[49m\u001b[43m[\u001b[49m\u001b[43mes\u001b[49m\u001b[43m,\u001b[49m\u001b[43mlr\u001b[49m\u001b[43m,\u001b[49m\u001b[43mchk\u001b[49m\u001b[43m]\u001b[49m\n\u001b[1;32m     69\u001b[0m \u001b[43m         \u001b[49m\u001b[43m)\u001b[49m\n\u001b[1;32m     70\u001b[0m y_va_pred \u001b[38;5;241m=\u001b[39m model\u001b[38;5;241m.\u001b[39mpredict(X_va)\n\u001b[1;32m     71\u001b[0m Y_pred[idx_va] \u001b[38;5;241m=\u001b[39m y_va_pred\n",
      "File \u001b[0;32m/srv/conda/envs/saturn/lib/python3.9/site-packages/keras/utils/traceback_utils.py:65\u001b[0m, in \u001b[0;36mfilter_traceback.<locals>.error_handler\u001b[0;34m(*args, **kwargs)\u001b[0m\n\u001b[1;32m     63\u001b[0m filtered_tb \u001b[38;5;241m=\u001b[39m \u001b[38;5;28;01mNone\u001b[39;00m\n\u001b[1;32m     64\u001b[0m \u001b[38;5;28;01mtry\u001b[39;00m:\n\u001b[0;32m---> 65\u001b[0m     \u001b[38;5;28;01mreturn\u001b[39;00m \u001b[43mfn\u001b[49m\u001b[43m(\u001b[49m\u001b[38;5;241;43m*\u001b[39;49m\u001b[43margs\u001b[49m\u001b[43m,\u001b[49m\u001b[43m \u001b[49m\u001b[38;5;241;43m*\u001b[39;49m\u001b[38;5;241;43m*\u001b[39;49m\u001b[43mkwargs\u001b[49m\u001b[43m)\u001b[49m\n\u001b[1;32m     66\u001b[0m \u001b[38;5;28;01mexcept\u001b[39;00m \u001b[38;5;167;01mException\u001b[39;00m \u001b[38;5;28;01mas\u001b[39;00m e:\n\u001b[1;32m     67\u001b[0m     filtered_tb \u001b[38;5;241m=\u001b[39m _process_traceback_frames(e\u001b[38;5;241m.\u001b[39m__traceback__)\n",
      "File \u001b[0;32m/srv/conda/envs/saturn/lib/python3.9/site-packages/keras/engine/training.py:1564\u001b[0m, in \u001b[0;36mModel.fit\u001b[0;34m(self, x, y, batch_size, epochs, verbose, callbacks, validation_split, validation_data, shuffle, class_weight, sample_weight, initial_epoch, steps_per_epoch, validation_steps, validation_batch_size, validation_freq, max_queue_size, workers, use_multiprocessing)\u001b[0m\n\u001b[1;32m   1556\u001b[0m \u001b[38;5;28;01mwith\u001b[39;00m tf\u001b[38;5;241m.\u001b[39mprofiler\u001b[38;5;241m.\u001b[39mexperimental\u001b[38;5;241m.\u001b[39mTrace(\n\u001b[1;32m   1557\u001b[0m     \u001b[38;5;124m\"\u001b[39m\u001b[38;5;124mtrain\u001b[39m\u001b[38;5;124m\"\u001b[39m,\n\u001b[1;32m   1558\u001b[0m     epoch_num\u001b[38;5;241m=\u001b[39mepoch,\n\u001b[0;32m   (...)\u001b[0m\n\u001b[1;32m   1561\u001b[0m     _r\u001b[38;5;241m=\u001b[39m\u001b[38;5;241m1\u001b[39m,\n\u001b[1;32m   1562\u001b[0m ):\n\u001b[1;32m   1563\u001b[0m     callbacks\u001b[38;5;241m.\u001b[39mon_train_batch_begin(step)\n\u001b[0;32m-> 1564\u001b[0m     tmp_logs \u001b[38;5;241m=\u001b[39m \u001b[38;5;28;43mself\u001b[39;49m\u001b[38;5;241;43m.\u001b[39;49m\u001b[43mtrain_function\u001b[49m\u001b[43m(\u001b[49m\u001b[43miterator\u001b[49m\u001b[43m)\u001b[49m\n\u001b[1;32m   1565\u001b[0m     \u001b[38;5;28;01mif\u001b[39;00m data_handler\u001b[38;5;241m.\u001b[39mshould_sync:\n\u001b[1;32m   1566\u001b[0m         context\u001b[38;5;241m.\u001b[39masync_wait()\n",
      "File \u001b[0;32m/srv/conda/envs/saturn/lib/python3.9/site-packages/tensorflow/python/util/traceback_utils.py:150\u001b[0m, in \u001b[0;36mfilter_traceback.<locals>.error_handler\u001b[0;34m(*args, **kwargs)\u001b[0m\n\u001b[1;32m    148\u001b[0m filtered_tb \u001b[38;5;241m=\u001b[39m \u001b[38;5;28;01mNone\u001b[39;00m\n\u001b[1;32m    149\u001b[0m \u001b[38;5;28;01mtry\u001b[39;00m:\n\u001b[0;32m--> 150\u001b[0m   \u001b[38;5;28;01mreturn\u001b[39;00m \u001b[43mfn\u001b[49m\u001b[43m(\u001b[49m\u001b[38;5;241;43m*\u001b[39;49m\u001b[43margs\u001b[49m\u001b[43m,\u001b[49m\u001b[43m \u001b[49m\u001b[38;5;241;43m*\u001b[39;49m\u001b[38;5;241;43m*\u001b[39;49m\u001b[43mkwargs\u001b[49m\u001b[43m)\u001b[49m\n\u001b[1;32m    151\u001b[0m \u001b[38;5;28;01mexcept\u001b[39;00m \u001b[38;5;167;01mException\u001b[39;00m \u001b[38;5;28;01mas\u001b[39;00m e:\n\u001b[1;32m    152\u001b[0m   filtered_tb \u001b[38;5;241m=\u001b[39m _process_traceback_frames(e\u001b[38;5;241m.\u001b[39m__traceback__)\n",
      "File \u001b[0;32m/srv/conda/envs/saturn/lib/python3.9/site-packages/tensorflow/python/eager/def_function.py:915\u001b[0m, in \u001b[0;36mFunction.__call__\u001b[0;34m(self, *args, **kwds)\u001b[0m\n\u001b[1;32m    912\u001b[0m compiler \u001b[38;5;241m=\u001b[39m \u001b[38;5;124m\"\u001b[39m\u001b[38;5;124mxla\u001b[39m\u001b[38;5;124m\"\u001b[39m \u001b[38;5;28;01mif\u001b[39;00m \u001b[38;5;28mself\u001b[39m\u001b[38;5;241m.\u001b[39m_jit_compile \u001b[38;5;28;01melse\u001b[39;00m \u001b[38;5;124m\"\u001b[39m\u001b[38;5;124mnonXla\u001b[39m\u001b[38;5;124m\"\u001b[39m\n\u001b[1;32m    914\u001b[0m \u001b[38;5;28;01mwith\u001b[39;00m OptionalXlaContext(\u001b[38;5;28mself\u001b[39m\u001b[38;5;241m.\u001b[39m_jit_compile):\n\u001b[0;32m--> 915\u001b[0m   result \u001b[38;5;241m=\u001b[39m \u001b[38;5;28;43mself\u001b[39;49m\u001b[38;5;241;43m.\u001b[39;49m\u001b[43m_call\u001b[49m\u001b[43m(\u001b[49m\u001b[38;5;241;43m*\u001b[39;49m\u001b[43margs\u001b[49m\u001b[43m,\u001b[49m\u001b[43m \u001b[49m\u001b[38;5;241;43m*\u001b[39;49m\u001b[38;5;241;43m*\u001b[39;49m\u001b[43mkwds\u001b[49m\u001b[43m)\u001b[49m\n\u001b[1;32m    917\u001b[0m new_tracing_count \u001b[38;5;241m=\u001b[39m \u001b[38;5;28mself\u001b[39m\u001b[38;5;241m.\u001b[39mexperimental_get_tracing_count()\n\u001b[1;32m    918\u001b[0m without_tracing \u001b[38;5;241m=\u001b[39m (tracing_count \u001b[38;5;241m==\u001b[39m new_tracing_count)\n",
      "File \u001b[0;32m/srv/conda/envs/saturn/lib/python3.9/site-packages/tensorflow/python/eager/def_function.py:947\u001b[0m, in \u001b[0;36mFunction._call\u001b[0;34m(self, *args, **kwds)\u001b[0m\n\u001b[1;32m    944\u001b[0m   \u001b[38;5;28mself\u001b[39m\u001b[38;5;241m.\u001b[39m_lock\u001b[38;5;241m.\u001b[39mrelease()\n\u001b[1;32m    945\u001b[0m   \u001b[38;5;66;03m# In this case we have created variables on the first call, so we run the\u001b[39;00m\n\u001b[1;32m    946\u001b[0m   \u001b[38;5;66;03m# defunned version which is guaranteed to never create variables.\u001b[39;00m\n\u001b[0;32m--> 947\u001b[0m   \u001b[38;5;28;01mreturn\u001b[39;00m \u001b[38;5;28;43mself\u001b[39;49m\u001b[38;5;241;43m.\u001b[39;49m\u001b[43m_stateless_fn\u001b[49m\u001b[43m(\u001b[49m\u001b[38;5;241;43m*\u001b[39;49m\u001b[43margs\u001b[49m\u001b[43m,\u001b[49m\u001b[43m \u001b[49m\u001b[38;5;241;43m*\u001b[39;49m\u001b[38;5;241;43m*\u001b[39;49m\u001b[43mkwds\u001b[49m\u001b[43m)\u001b[49m  \u001b[38;5;66;03m# pylint: disable=not-callable\u001b[39;00m\n\u001b[1;32m    948\u001b[0m \u001b[38;5;28;01melif\u001b[39;00m \u001b[38;5;28mself\u001b[39m\u001b[38;5;241m.\u001b[39m_stateful_fn \u001b[38;5;129;01mis\u001b[39;00m \u001b[38;5;129;01mnot\u001b[39;00m \u001b[38;5;28;01mNone\u001b[39;00m:\n\u001b[1;32m    949\u001b[0m   \u001b[38;5;66;03m# Release the lock early so that multiple threads can perform the call\u001b[39;00m\n\u001b[1;32m    950\u001b[0m   \u001b[38;5;66;03m# in parallel.\u001b[39;00m\n\u001b[1;32m    951\u001b[0m   \u001b[38;5;28mself\u001b[39m\u001b[38;5;241m.\u001b[39m_lock\u001b[38;5;241m.\u001b[39mrelease()\n",
      "File \u001b[0;32m/srv/conda/envs/saturn/lib/python3.9/site-packages/tensorflow/python/eager/function.py:2496\u001b[0m, in \u001b[0;36mFunction.__call__\u001b[0;34m(self, *args, **kwargs)\u001b[0m\n\u001b[1;32m   2493\u001b[0m \u001b[38;5;28;01mwith\u001b[39;00m \u001b[38;5;28mself\u001b[39m\u001b[38;5;241m.\u001b[39m_lock:\n\u001b[1;32m   2494\u001b[0m   (graph_function,\n\u001b[1;32m   2495\u001b[0m    filtered_flat_args) \u001b[38;5;241m=\u001b[39m \u001b[38;5;28mself\u001b[39m\u001b[38;5;241m.\u001b[39m_maybe_define_function(args, kwargs)\n\u001b[0;32m-> 2496\u001b[0m \u001b[38;5;28;01mreturn\u001b[39;00m \u001b[43mgraph_function\u001b[49m\u001b[38;5;241;43m.\u001b[39;49m\u001b[43m_call_flat\u001b[49m\u001b[43m(\u001b[49m\n\u001b[1;32m   2497\u001b[0m \u001b[43m    \u001b[49m\u001b[43mfiltered_flat_args\u001b[49m\u001b[43m,\u001b[49m\u001b[43m \u001b[49m\u001b[43mcaptured_inputs\u001b[49m\u001b[38;5;241;43m=\u001b[39;49m\u001b[43mgraph_function\u001b[49m\u001b[38;5;241;43m.\u001b[39;49m\u001b[43mcaptured_inputs\u001b[49m\u001b[43m)\u001b[49m\n",
      "File \u001b[0;32m/srv/conda/envs/saturn/lib/python3.9/site-packages/tensorflow/python/eager/function.py:1862\u001b[0m, in \u001b[0;36mConcreteFunction._call_flat\u001b[0;34m(self, args, captured_inputs, cancellation_manager)\u001b[0m\n\u001b[1;32m   1858\u001b[0m possible_gradient_type \u001b[38;5;241m=\u001b[39m gradients_util\u001b[38;5;241m.\u001b[39mPossibleTapeGradientTypes(args)\n\u001b[1;32m   1859\u001b[0m \u001b[38;5;28;01mif\u001b[39;00m (possible_gradient_type \u001b[38;5;241m==\u001b[39m gradients_util\u001b[38;5;241m.\u001b[39mPOSSIBLE_GRADIENT_TYPES_NONE\n\u001b[1;32m   1860\u001b[0m     \u001b[38;5;129;01mand\u001b[39;00m executing_eagerly):\n\u001b[1;32m   1861\u001b[0m   \u001b[38;5;66;03m# No tape is watching; skip to running the function.\u001b[39;00m\n\u001b[0;32m-> 1862\u001b[0m   \u001b[38;5;28;01mreturn\u001b[39;00m \u001b[38;5;28mself\u001b[39m\u001b[38;5;241m.\u001b[39m_build_call_outputs(\u001b[38;5;28;43mself\u001b[39;49m\u001b[38;5;241;43m.\u001b[39;49m\u001b[43m_inference_function\u001b[49m\u001b[38;5;241;43m.\u001b[39;49m\u001b[43mcall\u001b[49m\u001b[43m(\u001b[49m\n\u001b[1;32m   1863\u001b[0m \u001b[43m      \u001b[49m\u001b[43mctx\u001b[49m\u001b[43m,\u001b[49m\u001b[43m \u001b[49m\u001b[43margs\u001b[49m\u001b[43m,\u001b[49m\u001b[43m \u001b[49m\u001b[43mcancellation_manager\u001b[49m\u001b[38;5;241;43m=\u001b[39;49m\u001b[43mcancellation_manager\u001b[49m\u001b[43m)\u001b[49m)\n\u001b[1;32m   1864\u001b[0m forward_backward \u001b[38;5;241m=\u001b[39m \u001b[38;5;28mself\u001b[39m\u001b[38;5;241m.\u001b[39m_select_forward_and_backward_functions(\n\u001b[1;32m   1865\u001b[0m     args,\n\u001b[1;32m   1866\u001b[0m     possible_gradient_type,\n\u001b[1;32m   1867\u001b[0m     executing_eagerly)\n\u001b[1;32m   1868\u001b[0m forward_function, args_with_tangents \u001b[38;5;241m=\u001b[39m forward_backward\u001b[38;5;241m.\u001b[39mforward()\n",
      "File \u001b[0;32m/srv/conda/envs/saturn/lib/python3.9/site-packages/tensorflow/python/eager/function.py:499\u001b[0m, in \u001b[0;36m_EagerDefinedFunction.call\u001b[0;34m(self, ctx, args, cancellation_manager)\u001b[0m\n\u001b[1;32m    497\u001b[0m \u001b[38;5;28;01mwith\u001b[39;00m _InterpolateFunctionError(\u001b[38;5;28mself\u001b[39m):\n\u001b[1;32m    498\u001b[0m   \u001b[38;5;28;01mif\u001b[39;00m cancellation_manager \u001b[38;5;129;01mis\u001b[39;00m \u001b[38;5;28;01mNone\u001b[39;00m:\n\u001b[0;32m--> 499\u001b[0m     outputs \u001b[38;5;241m=\u001b[39m \u001b[43mexecute\u001b[49m\u001b[38;5;241;43m.\u001b[39;49m\u001b[43mexecute\u001b[49m\u001b[43m(\u001b[49m\n\u001b[1;32m    500\u001b[0m \u001b[43m        \u001b[49m\u001b[38;5;28;43mstr\u001b[39;49m\u001b[43m(\u001b[49m\u001b[38;5;28;43mself\u001b[39;49m\u001b[38;5;241;43m.\u001b[39;49m\u001b[43msignature\u001b[49m\u001b[38;5;241;43m.\u001b[39;49m\u001b[43mname\u001b[49m\u001b[43m)\u001b[49m\u001b[43m,\u001b[49m\n\u001b[1;32m    501\u001b[0m \u001b[43m        \u001b[49m\u001b[43mnum_outputs\u001b[49m\u001b[38;5;241;43m=\u001b[39;49m\u001b[38;5;28;43mself\u001b[39;49m\u001b[38;5;241;43m.\u001b[39;49m\u001b[43m_num_outputs\u001b[49m\u001b[43m,\u001b[49m\n\u001b[1;32m    502\u001b[0m \u001b[43m        \u001b[49m\u001b[43minputs\u001b[49m\u001b[38;5;241;43m=\u001b[39;49m\u001b[43margs\u001b[49m\u001b[43m,\u001b[49m\n\u001b[1;32m    503\u001b[0m \u001b[43m        \u001b[49m\u001b[43mattrs\u001b[49m\u001b[38;5;241;43m=\u001b[39;49m\u001b[43mattrs\u001b[49m\u001b[43m,\u001b[49m\n\u001b[1;32m    504\u001b[0m \u001b[43m        \u001b[49m\u001b[43mctx\u001b[49m\u001b[38;5;241;43m=\u001b[39;49m\u001b[43mctx\u001b[49m\u001b[43m)\u001b[49m\n\u001b[1;32m    505\u001b[0m   \u001b[38;5;28;01melse\u001b[39;00m:\n\u001b[1;32m    506\u001b[0m     outputs \u001b[38;5;241m=\u001b[39m execute\u001b[38;5;241m.\u001b[39mexecute_with_cancellation(\n\u001b[1;32m    507\u001b[0m         \u001b[38;5;28mstr\u001b[39m(\u001b[38;5;28mself\u001b[39m\u001b[38;5;241m.\u001b[39msignature\u001b[38;5;241m.\u001b[39mname),\n\u001b[1;32m    508\u001b[0m         num_outputs\u001b[38;5;241m=\u001b[39m\u001b[38;5;28mself\u001b[39m\u001b[38;5;241m.\u001b[39m_num_outputs,\n\u001b[0;32m   (...)\u001b[0m\n\u001b[1;32m    511\u001b[0m         ctx\u001b[38;5;241m=\u001b[39mctx,\n\u001b[1;32m    512\u001b[0m         cancellation_manager\u001b[38;5;241m=\u001b[39mcancellation_manager)\n",
      "File \u001b[0;32m/srv/conda/envs/saturn/lib/python3.9/site-packages/tensorflow/python/eager/execute.py:54\u001b[0m, in \u001b[0;36mquick_execute\u001b[0;34m(op_name, num_outputs, inputs, attrs, ctx, name)\u001b[0m\n\u001b[1;32m     52\u001b[0m \u001b[38;5;28;01mtry\u001b[39;00m:\n\u001b[1;32m     53\u001b[0m   ctx\u001b[38;5;241m.\u001b[39mensure_initialized()\n\u001b[0;32m---> 54\u001b[0m   tensors \u001b[38;5;241m=\u001b[39m \u001b[43mpywrap_tfe\u001b[49m\u001b[38;5;241;43m.\u001b[39;49m\u001b[43mTFE_Py_Execute\u001b[49m\u001b[43m(\u001b[49m\u001b[43mctx\u001b[49m\u001b[38;5;241;43m.\u001b[39;49m\u001b[43m_handle\u001b[49m\u001b[43m,\u001b[49m\u001b[43m \u001b[49m\u001b[43mdevice_name\u001b[49m\u001b[43m,\u001b[49m\u001b[43m \u001b[49m\u001b[43mop_name\u001b[49m\u001b[43m,\u001b[49m\n\u001b[1;32m     55\u001b[0m \u001b[43m                                      \u001b[49m\u001b[43minputs\u001b[49m\u001b[43m,\u001b[49m\u001b[43m \u001b[49m\u001b[43mattrs\u001b[49m\u001b[43m,\u001b[49m\u001b[43m \u001b[49m\u001b[43mnum_outputs\u001b[49m\u001b[43m)\u001b[49m\n\u001b[1;32m     56\u001b[0m \u001b[38;5;28;01mexcept\u001b[39;00m core\u001b[38;5;241m.\u001b[39m_NotOkStatusException \u001b[38;5;28;01mas\u001b[39;00m e:\n\u001b[1;32m     57\u001b[0m   \u001b[38;5;28;01mif\u001b[39;00m name \u001b[38;5;129;01mis\u001b[39;00m \u001b[38;5;129;01mnot\u001b[39;00m \u001b[38;5;28;01mNone\u001b[39;00m:\n",
      "\u001b[0;31mKeyboardInterrupt\u001b[0m: "
     ]
    }
   ],
   "source": [
    "X = X_copy[selector[(2,32606)]][:,all_corrs.ravel()]\n",
    "Y = Y_copy[selector[(2,32606)]]\n",
    "X_test = X_copy[selector[(2,31800)]][:,all_corrs.ravel()]\n",
    "evaluate(i,j,'cite',loss='mse',save=False)"
   ]
  },
  {
   "cell_type": "code",
   "execution_count": 30,
   "id": "9669e001-44db-4f09-bd3e-d725f1fa290c",
   "metadata": {
    "execution": {
     "iopub.execute_input": "2022-11-09T22:15:05.841514Z",
     "iopub.status.busy": "2022-11-09T22:15:05.841144Z",
     "iopub.status.idle": "2022-11-09T22:31:44.582869Z",
     "shell.execute_reply": "2022-11-09T22:31:44.581937Z",
     "shell.execute_reply.started": "2022-11-09T22:15:05.841491Z"
    },
    "tags": []
   },
   "outputs": [
    {
     "name": "stdout",
     "output_type": "stream",
     "text": [
      "39/39 [==============================] - 0s 7ms/step\n",
      "\n",
      " --------- FOLD 0 -----------\n",
      "Correlation = 0.89139\n",
      "39/39 [==============================] - 0s 7ms/step\n",
      "\n",
      " --------- FOLD 1 -----------\n",
      "Correlation = 0.89315\n",
      "39/39 [==============================] - 0s 7ms/step\n",
      "\n",
      " --------- FOLD 2 -----------\n",
      "Correlation = 0.89378\n"
     ]
    },
    {
     "ename": "KeyboardInterrupt",
     "evalue": "",
     "output_type": "error",
     "traceback": [
      "\u001b[0;31m---------------------------------------------------------------------------\u001b[0m",
      "\u001b[0;31mKeyboardInterrupt\u001b[0m                         Traceback (most recent call last)",
      "Input \u001b[0;32mIn [30]\u001b[0m, in \u001b[0;36m<cell line: 4>\u001b[0;34m()\u001b[0m\n\u001b[1;32m      2\u001b[0m Y \u001b[38;5;241m=\u001b[39m Y_copy[selector[(\u001b[38;5;241m2\u001b[39m,\u001b[38;5;241m32606\u001b[39m)]]\n\u001b[1;32m      3\u001b[0m X_test \u001b[38;5;241m=\u001b[39m X_copy[selector[(\u001b[38;5;241m2\u001b[39m,\u001b[38;5;241m31800\u001b[39m)]][:,all_corrs\u001b[38;5;241m.\u001b[39mravel()]\n\u001b[0;32m----> 4\u001b[0m \u001b[43mevaluate\u001b[49m\u001b[43m(\u001b[49m\u001b[43mi\u001b[49m\u001b[43m,\u001b[49m\u001b[43mj\u001b[49m\u001b[43m,\u001b[49m\u001b[38;5;124;43m'\u001b[39;49m\u001b[38;5;124;43mcite\u001b[39;49m\u001b[38;5;124;43m'\u001b[39;49m\u001b[43m,\u001b[49m\u001b[43msave\u001b[49m\u001b[38;5;241;43m=\u001b[39;49m\u001b[38;5;28;43;01mFalse\u001b[39;49;00m\u001b[43m)\u001b[49m\n",
      "Input \u001b[0;32mIn [20]\u001b[0m, in \u001b[0;36mevaluate\u001b[0;34m(i, j, kind, save, loss)\u001b[0m\n\u001b[1;32m     51\u001b[0m     chk \u001b[38;5;241m=\u001b[39m tf\u001b[38;5;241m.\u001b[39mkeras\u001b[38;5;241m.\u001b[39mcallbacks\u001b[38;5;241m.\u001b[39mModelCheckpoint(\n\u001b[1;32m     52\u001b[0m             filepath \u001b[38;5;241m=\u001b[39m \u001b[38;5;124m'\u001b[39m\u001b[38;5;124m./multi\u001b[39m\u001b[38;5;124m'\u001b[39m,\n\u001b[1;32m     53\u001b[0m             save_weights_only \u001b[38;5;241m=\u001b[39m \u001b[38;5;28;01mTrue\u001b[39;00m,\n\u001b[1;32m     54\u001b[0m             monitor \u001b[38;5;241m=\u001b[39m \u001b[38;5;124m'\u001b[39m\u001b[38;5;124mval_loss\u001b[39m\u001b[38;5;124m'\u001b[39m,\n\u001b[1;32m     55\u001b[0m             mode \u001b[38;5;241m=\u001b[39m \u001b[38;5;124m'\u001b[39m\u001b[38;5;124mmin\u001b[39m\u001b[38;5;124m'\u001b[39m,\n\u001b[1;32m     56\u001b[0m             save_best_only \u001b[38;5;241m=\u001b[39m \u001b[38;5;28;01mTrue\u001b[39;00m)\n\u001b[1;32m     58\u001b[0m model\u001b[38;5;241m.\u001b[39mcompile(optimizer\u001b[38;5;241m=\u001b[39mtf\u001b[38;5;241m.\u001b[39mkeras\u001b[38;5;241m.\u001b[39moptimizers\u001b[38;5;241m.\u001b[39mAdam(learning_rate\u001b[38;5;241m=\u001b[39m\u001b[38;5;241m1e-3\u001b[39m),\n\u001b[1;32m     59\u001b[0m               loss \u001b[38;5;241m=\u001b[39m loss,\n\u001b[1;32m     60\u001b[0m               metrics \u001b[38;5;241m=\u001b[39m loss)\n\u001b[0;32m---> 62\u001b[0m \u001b[43mmodel\u001b[49m\u001b[38;5;241;43m.\u001b[39;49m\u001b[43mfit\u001b[49m\u001b[43m(\u001b[49m\u001b[43mX_tr\u001b[49m\u001b[43m,\u001b[49m\n\u001b[1;32m     63\u001b[0m \u001b[43m          \u001b[49m\u001b[43my_tr\u001b[49m\u001b[43m,\u001b[49m\n\u001b[1;32m     64\u001b[0m \u001b[43m          \u001b[49m\u001b[43mvalidation_data\u001b[49m\u001b[38;5;241;43m=\u001b[39;49m\u001b[43m(\u001b[49m\u001b[43mX_va\u001b[49m\u001b[43m,\u001b[49m\u001b[43my_va\u001b[49m\u001b[43m)\u001b[49m\u001b[43m,\u001b[49m\n\u001b[1;32m     65\u001b[0m \u001b[43m          \u001b[49m\u001b[43mepochs\u001b[49m\u001b[43m \u001b[49m\u001b[38;5;241;43m=\u001b[39;49m\u001b[38;5;241;43m500\u001b[39;49m\u001b[43m,\u001b[49m\n\u001b[1;32m     66\u001b[0m \u001b[43m          \u001b[49m\u001b[43mverbose\u001b[49m\u001b[43m \u001b[49m\u001b[38;5;241;43m=\u001b[39;49m\u001b[43m \u001b[49m\u001b[43mVERBOSE\u001b[49m\u001b[43m,\u001b[49m\n\u001b[1;32m     67\u001b[0m \u001b[43m          \u001b[49m\u001b[43mbatch_size\u001b[49m\u001b[38;5;241;43m=\u001b[39;49m\u001b[38;5;241;43m256\u001b[39;49m\u001b[43m,\u001b[49m\n\u001b[1;32m     68\u001b[0m \u001b[43m          \u001b[49m\u001b[43mcallbacks\u001b[49m\u001b[43m \u001b[49m\u001b[38;5;241;43m=\u001b[39;49m\u001b[43m \u001b[49m\u001b[43m[\u001b[49m\u001b[43mes\u001b[49m\u001b[43m,\u001b[49m\u001b[43mlr\u001b[49m\u001b[43m,\u001b[49m\u001b[43mchk\u001b[49m\u001b[43m]\u001b[49m\n\u001b[1;32m     69\u001b[0m \u001b[43m         \u001b[49m\u001b[43m)\u001b[49m\n\u001b[1;32m     70\u001b[0m y_va_pred \u001b[38;5;241m=\u001b[39m model\u001b[38;5;241m.\u001b[39mpredict(X_va)\n\u001b[1;32m     71\u001b[0m Y_pred[idx_va] \u001b[38;5;241m=\u001b[39m y_va_pred\n",
      "File \u001b[0;32m/srv/conda/envs/saturn/lib/python3.9/site-packages/keras/utils/traceback_utils.py:65\u001b[0m, in \u001b[0;36mfilter_traceback.<locals>.error_handler\u001b[0;34m(*args, **kwargs)\u001b[0m\n\u001b[1;32m     63\u001b[0m filtered_tb \u001b[38;5;241m=\u001b[39m \u001b[38;5;28;01mNone\u001b[39;00m\n\u001b[1;32m     64\u001b[0m \u001b[38;5;28;01mtry\u001b[39;00m:\n\u001b[0;32m---> 65\u001b[0m     \u001b[38;5;28;01mreturn\u001b[39;00m \u001b[43mfn\u001b[49m\u001b[43m(\u001b[49m\u001b[38;5;241;43m*\u001b[39;49m\u001b[43margs\u001b[49m\u001b[43m,\u001b[49m\u001b[43m \u001b[49m\u001b[38;5;241;43m*\u001b[39;49m\u001b[38;5;241;43m*\u001b[39;49m\u001b[43mkwargs\u001b[49m\u001b[43m)\u001b[49m\n\u001b[1;32m     66\u001b[0m \u001b[38;5;28;01mexcept\u001b[39;00m \u001b[38;5;167;01mException\u001b[39;00m \u001b[38;5;28;01mas\u001b[39;00m e:\n\u001b[1;32m     67\u001b[0m     filtered_tb \u001b[38;5;241m=\u001b[39m _process_traceback_frames(e\u001b[38;5;241m.\u001b[39m__traceback__)\n",
      "File \u001b[0;32m/srv/conda/envs/saturn/lib/python3.9/site-packages/keras/engine/training.py:1564\u001b[0m, in \u001b[0;36mModel.fit\u001b[0;34m(self, x, y, batch_size, epochs, verbose, callbacks, validation_split, validation_data, shuffle, class_weight, sample_weight, initial_epoch, steps_per_epoch, validation_steps, validation_batch_size, validation_freq, max_queue_size, workers, use_multiprocessing)\u001b[0m\n\u001b[1;32m   1556\u001b[0m \u001b[38;5;28;01mwith\u001b[39;00m tf\u001b[38;5;241m.\u001b[39mprofiler\u001b[38;5;241m.\u001b[39mexperimental\u001b[38;5;241m.\u001b[39mTrace(\n\u001b[1;32m   1557\u001b[0m     \u001b[38;5;124m\"\u001b[39m\u001b[38;5;124mtrain\u001b[39m\u001b[38;5;124m\"\u001b[39m,\n\u001b[1;32m   1558\u001b[0m     epoch_num\u001b[38;5;241m=\u001b[39mepoch,\n\u001b[0;32m   (...)\u001b[0m\n\u001b[1;32m   1561\u001b[0m     _r\u001b[38;5;241m=\u001b[39m\u001b[38;5;241m1\u001b[39m,\n\u001b[1;32m   1562\u001b[0m ):\n\u001b[1;32m   1563\u001b[0m     callbacks\u001b[38;5;241m.\u001b[39mon_train_batch_begin(step)\n\u001b[0;32m-> 1564\u001b[0m     tmp_logs \u001b[38;5;241m=\u001b[39m \u001b[38;5;28;43mself\u001b[39;49m\u001b[38;5;241;43m.\u001b[39;49m\u001b[43mtrain_function\u001b[49m\u001b[43m(\u001b[49m\u001b[43miterator\u001b[49m\u001b[43m)\u001b[49m\n\u001b[1;32m   1565\u001b[0m     \u001b[38;5;28;01mif\u001b[39;00m data_handler\u001b[38;5;241m.\u001b[39mshould_sync:\n\u001b[1;32m   1566\u001b[0m         context\u001b[38;5;241m.\u001b[39masync_wait()\n",
      "File \u001b[0;32m/srv/conda/envs/saturn/lib/python3.9/site-packages/tensorflow/python/util/traceback_utils.py:150\u001b[0m, in \u001b[0;36mfilter_traceback.<locals>.error_handler\u001b[0;34m(*args, **kwargs)\u001b[0m\n\u001b[1;32m    148\u001b[0m filtered_tb \u001b[38;5;241m=\u001b[39m \u001b[38;5;28;01mNone\u001b[39;00m\n\u001b[1;32m    149\u001b[0m \u001b[38;5;28;01mtry\u001b[39;00m:\n\u001b[0;32m--> 150\u001b[0m   \u001b[38;5;28;01mreturn\u001b[39;00m \u001b[43mfn\u001b[49m\u001b[43m(\u001b[49m\u001b[38;5;241;43m*\u001b[39;49m\u001b[43margs\u001b[49m\u001b[43m,\u001b[49m\u001b[43m \u001b[49m\u001b[38;5;241;43m*\u001b[39;49m\u001b[38;5;241;43m*\u001b[39;49m\u001b[43mkwargs\u001b[49m\u001b[43m)\u001b[49m\n\u001b[1;32m    151\u001b[0m \u001b[38;5;28;01mexcept\u001b[39;00m \u001b[38;5;167;01mException\u001b[39;00m \u001b[38;5;28;01mas\u001b[39;00m e:\n\u001b[1;32m    152\u001b[0m   filtered_tb \u001b[38;5;241m=\u001b[39m _process_traceback_frames(e\u001b[38;5;241m.\u001b[39m__traceback__)\n",
      "File \u001b[0;32m/srv/conda/envs/saturn/lib/python3.9/site-packages/tensorflow/python/eager/def_function.py:915\u001b[0m, in \u001b[0;36mFunction.__call__\u001b[0;34m(self, *args, **kwds)\u001b[0m\n\u001b[1;32m    912\u001b[0m compiler \u001b[38;5;241m=\u001b[39m \u001b[38;5;124m\"\u001b[39m\u001b[38;5;124mxla\u001b[39m\u001b[38;5;124m\"\u001b[39m \u001b[38;5;28;01mif\u001b[39;00m \u001b[38;5;28mself\u001b[39m\u001b[38;5;241m.\u001b[39m_jit_compile \u001b[38;5;28;01melse\u001b[39;00m \u001b[38;5;124m\"\u001b[39m\u001b[38;5;124mnonXla\u001b[39m\u001b[38;5;124m\"\u001b[39m\n\u001b[1;32m    914\u001b[0m \u001b[38;5;28;01mwith\u001b[39;00m OptionalXlaContext(\u001b[38;5;28mself\u001b[39m\u001b[38;5;241m.\u001b[39m_jit_compile):\n\u001b[0;32m--> 915\u001b[0m   result \u001b[38;5;241m=\u001b[39m \u001b[38;5;28;43mself\u001b[39;49m\u001b[38;5;241;43m.\u001b[39;49m\u001b[43m_call\u001b[49m\u001b[43m(\u001b[49m\u001b[38;5;241;43m*\u001b[39;49m\u001b[43margs\u001b[49m\u001b[43m,\u001b[49m\u001b[43m \u001b[49m\u001b[38;5;241;43m*\u001b[39;49m\u001b[38;5;241;43m*\u001b[39;49m\u001b[43mkwds\u001b[49m\u001b[43m)\u001b[49m\n\u001b[1;32m    917\u001b[0m new_tracing_count \u001b[38;5;241m=\u001b[39m \u001b[38;5;28mself\u001b[39m\u001b[38;5;241m.\u001b[39mexperimental_get_tracing_count()\n\u001b[1;32m    918\u001b[0m without_tracing \u001b[38;5;241m=\u001b[39m (tracing_count \u001b[38;5;241m==\u001b[39m new_tracing_count)\n",
      "File \u001b[0;32m/srv/conda/envs/saturn/lib/python3.9/site-packages/tensorflow/python/eager/def_function.py:947\u001b[0m, in \u001b[0;36mFunction._call\u001b[0;34m(self, *args, **kwds)\u001b[0m\n\u001b[1;32m    944\u001b[0m   \u001b[38;5;28mself\u001b[39m\u001b[38;5;241m.\u001b[39m_lock\u001b[38;5;241m.\u001b[39mrelease()\n\u001b[1;32m    945\u001b[0m   \u001b[38;5;66;03m# In this case we have created variables on the first call, so we run the\u001b[39;00m\n\u001b[1;32m    946\u001b[0m   \u001b[38;5;66;03m# defunned version which is guaranteed to never create variables.\u001b[39;00m\n\u001b[0;32m--> 947\u001b[0m   \u001b[38;5;28;01mreturn\u001b[39;00m \u001b[38;5;28;43mself\u001b[39;49m\u001b[38;5;241;43m.\u001b[39;49m\u001b[43m_stateless_fn\u001b[49m\u001b[43m(\u001b[49m\u001b[38;5;241;43m*\u001b[39;49m\u001b[43margs\u001b[49m\u001b[43m,\u001b[49m\u001b[43m \u001b[49m\u001b[38;5;241;43m*\u001b[39;49m\u001b[38;5;241;43m*\u001b[39;49m\u001b[43mkwds\u001b[49m\u001b[43m)\u001b[49m  \u001b[38;5;66;03m# pylint: disable=not-callable\u001b[39;00m\n\u001b[1;32m    948\u001b[0m \u001b[38;5;28;01melif\u001b[39;00m \u001b[38;5;28mself\u001b[39m\u001b[38;5;241m.\u001b[39m_stateful_fn \u001b[38;5;129;01mis\u001b[39;00m \u001b[38;5;129;01mnot\u001b[39;00m \u001b[38;5;28;01mNone\u001b[39;00m:\n\u001b[1;32m    949\u001b[0m   \u001b[38;5;66;03m# Release the lock early so that multiple threads can perform the call\u001b[39;00m\n\u001b[1;32m    950\u001b[0m   \u001b[38;5;66;03m# in parallel.\u001b[39;00m\n\u001b[1;32m    951\u001b[0m   \u001b[38;5;28mself\u001b[39m\u001b[38;5;241m.\u001b[39m_lock\u001b[38;5;241m.\u001b[39mrelease()\n",
      "File \u001b[0;32m/srv/conda/envs/saturn/lib/python3.9/site-packages/tensorflow/python/eager/function.py:2496\u001b[0m, in \u001b[0;36mFunction.__call__\u001b[0;34m(self, *args, **kwargs)\u001b[0m\n\u001b[1;32m   2493\u001b[0m \u001b[38;5;28;01mwith\u001b[39;00m \u001b[38;5;28mself\u001b[39m\u001b[38;5;241m.\u001b[39m_lock:\n\u001b[1;32m   2494\u001b[0m   (graph_function,\n\u001b[1;32m   2495\u001b[0m    filtered_flat_args) \u001b[38;5;241m=\u001b[39m \u001b[38;5;28mself\u001b[39m\u001b[38;5;241m.\u001b[39m_maybe_define_function(args, kwargs)\n\u001b[0;32m-> 2496\u001b[0m \u001b[38;5;28;01mreturn\u001b[39;00m \u001b[43mgraph_function\u001b[49m\u001b[38;5;241;43m.\u001b[39;49m\u001b[43m_call_flat\u001b[49m\u001b[43m(\u001b[49m\n\u001b[1;32m   2497\u001b[0m \u001b[43m    \u001b[49m\u001b[43mfiltered_flat_args\u001b[49m\u001b[43m,\u001b[49m\u001b[43m \u001b[49m\u001b[43mcaptured_inputs\u001b[49m\u001b[38;5;241;43m=\u001b[39;49m\u001b[43mgraph_function\u001b[49m\u001b[38;5;241;43m.\u001b[39;49m\u001b[43mcaptured_inputs\u001b[49m\u001b[43m)\u001b[49m\n",
      "File \u001b[0;32m/srv/conda/envs/saturn/lib/python3.9/site-packages/tensorflow/python/eager/function.py:1862\u001b[0m, in \u001b[0;36mConcreteFunction._call_flat\u001b[0;34m(self, args, captured_inputs, cancellation_manager)\u001b[0m\n\u001b[1;32m   1858\u001b[0m possible_gradient_type \u001b[38;5;241m=\u001b[39m gradients_util\u001b[38;5;241m.\u001b[39mPossibleTapeGradientTypes(args)\n\u001b[1;32m   1859\u001b[0m \u001b[38;5;28;01mif\u001b[39;00m (possible_gradient_type \u001b[38;5;241m==\u001b[39m gradients_util\u001b[38;5;241m.\u001b[39mPOSSIBLE_GRADIENT_TYPES_NONE\n\u001b[1;32m   1860\u001b[0m     \u001b[38;5;129;01mand\u001b[39;00m executing_eagerly):\n\u001b[1;32m   1861\u001b[0m   \u001b[38;5;66;03m# No tape is watching; skip to running the function.\u001b[39;00m\n\u001b[0;32m-> 1862\u001b[0m   \u001b[38;5;28;01mreturn\u001b[39;00m \u001b[38;5;28mself\u001b[39m\u001b[38;5;241m.\u001b[39m_build_call_outputs(\u001b[38;5;28;43mself\u001b[39;49m\u001b[38;5;241;43m.\u001b[39;49m\u001b[43m_inference_function\u001b[49m\u001b[38;5;241;43m.\u001b[39;49m\u001b[43mcall\u001b[49m\u001b[43m(\u001b[49m\n\u001b[1;32m   1863\u001b[0m \u001b[43m      \u001b[49m\u001b[43mctx\u001b[49m\u001b[43m,\u001b[49m\u001b[43m \u001b[49m\u001b[43margs\u001b[49m\u001b[43m,\u001b[49m\u001b[43m \u001b[49m\u001b[43mcancellation_manager\u001b[49m\u001b[38;5;241;43m=\u001b[39;49m\u001b[43mcancellation_manager\u001b[49m\u001b[43m)\u001b[49m)\n\u001b[1;32m   1864\u001b[0m forward_backward \u001b[38;5;241m=\u001b[39m \u001b[38;5;28mself\u001b[39m\u001b[38;5;241m.\u001b[39m_select_forward_and_backward_functions(\n\u001b[1;32m   1865\u001b[0m     args,\n\u001b[1;32m   1866\u001b[0m     possible_gradient_type,\n\u001b[1;32m   1867\u001b[0m     executing_eagerly)\n\u001b[1;32m   1868\u001b[0m forward_function, args_with_tangents \u001b[38;5;241m=\u001b[39m forward_backward\u001b[38;5;241m.\u001b[39mforward()\n",
      "File \u001b[0;32m/srv/conda/envs/saturn/lib/python3.9/site-packages/tensorflow/python/eager/function.py:499\u001b[0m, in \u001b[0;36m_EagerDefinedFunction.call\u001b[0;34m(self, ctx, args, cancellation_manager)\u001b[0m\n\u001b[1;32m    497\u001b[0m \u001b[38;5;28;01mwith\u001b[39;00m _InterpolateFunctionError(\u001b[38;5;28mself\u001b[39m):\n\u001b[1;32m    498\u001b[0m   \u001b[38;5;28;01mif\u001b[39;00m cancellation_manager \u001b[38;5;129;01mis\u001b[39;00m \u001b[38;5;28;01mNone\u001b[39;00m:\n\u001b[0;32m--> 499\u001b[0m     outputs \u001b[38;5;241m=\u001b[39m \u001b[43mexecute\u001b[49m\u001b[38;5;241;43m.\u001b[39;49m\u001b[43mexecute\u001b[49m\u001b[43m(\u001b[49m\n\u001b[1;32m    500\u001b[0m \u001b[43m        \u001b[49m\u001b[38;5;28;43mstr\u001b[39;49m\u001b[43m(\u001b[49m\u001b[38;5;28;43mself\u001b[39;49m\u001b[38;5;241;43m.\u001b[39;49m\u001b[43msignature\u001b[49m\u001b[38;5;241;43m.\u001b[39;49m\u001b[43mname\u001b[49m\u001b[43m)\u001b[49m\u001b[43m,\u001b[49m\n\u001b[1;32m    501\u001b[0m \u001b[43m        \u001b[49m\u001b[43mnum_outputs\u001b[49m\u001b[38;5;241;43m=\u001b[39;49m\u001b[38;5;28;43mself\u001b[39;49m\u001b[38;5;241;43m.\u001b[39;49m\u001b[43m_num_outputs\u001b[49m\u001b[43m,\u001b[49m\n\u001b[1;32m    502\u001b[0m \u001b[43m        \u001b[49m\u001b[43minputs\u001b[49m\u001b[38;5;241;43m=\u001b[39;49m\u001b[43margs\u001b[49m\u001b[43m,\u001b[49m\n\u001b[1;32m    503\u001b[0m \u001b[43m        \u001b[49m\u001b[43mattrs\u001b[49m\u001b[38;5;241;43m=\u001b[39;49m\u001b[43mattrs\u001b[49m\u001b[43m,\u001b[49m\n\u001b[1;32m    504\u001b[0m \u001b[43m        \u001b[49m\u001b[43mctx\u001b[49m\u001b[38;5;241;43m=\u001b[39;49m\u001b[43mctx\u001b[49m\u001b[43m)\u001b[49m\n\u001b[1;32m    505\u001b[0m   \u001b[38;5;28;01melse\u001b[39;00m:\n\u001b[1;32m    506\u001b[0m     outputs \u001b[38;5;241m=\u001b[39m execute\u001b[38;5;241m.\u001b[39mexecute_with_cancellation(\n\u001b[1;32m    507\u001b[0m         \u001b[38;5;28mstr\u001b[39m(\u001b[38;5;28mself\u001b[39m\u001b[38;5;241m.\u001b[39msignature\u001b[38;5;241m.\u001b[39mname),\n\u001b[1;32m    508\u001b[0m         num_outputs\u001b[38;5;241m=\u001b[39m\u001b[38;5;28mself\u001b[39m\u001b[38;5;241m.\u001b[39m_num_outputs,\n\u001b[0;32m   (...)\u001b[0m\n\u001b[1;32m    511\u001b[0m         ctx\u001b[38;5;241m=\u001b[39mctx,\n\u001b[1;32m    512\u001b[0m         cancellation_manager\u001b[38;5;241m=\u001b[39mcancellation_manager)\n",
      "File \u001b[0;32m/srv/conda/envs/saturn/lib/python3.9/site-packages/tensorflow/python/eager/execute.py:54\u001b[0m, in \u001b[0;36mquick_execute\u001b[0;34m(op_name, num_outputs, inputs, attrs, ctx, name)\u001b[0m\n\u001b[1;32m     52\u001b[0m \u001b[38;5;28;01mtry\u001b[39;00m:\n\u001b[1;32m     53\u001b[0m   ctx\u001b[38;5;241m.\u001b[39mensure_initialized()\n\u001b[0;32m---> 54\u001b[0m   tensors \u001b[38;5;241m=\u001b[39m \u001b[43mpywrap_tfe\u001b[49m\u001b[38;5;241;43m.\u001b[39;49m\u001b[43mTFE_Py_Execute\u001b[49m\u001b[43m(\u001b[49m\u001b[43mctx\u001b[49m\u001b[38;5;241;43m.\u001b[39;49m\u001b[43m_handle\u001b[49m\u001b[43m,\u001b[49m\u001b[43m \u001b[49m\u001b[43mdevice_name\u001b[49m\u001b[43m,\u001b[49m\u001b[43m \u001b[49m\u001b[43mop_name\u001b[49m\u001b[43m,\u001b[49m\n\u001b[1;32m     55\u001b[0m \u001b[43m                                      \u001b[49m\u001b[43minputs\u001b[49m\u001b[43m,\u001b[49m\u001b[43m \u001b[49m\u001b[43mattrs\u001b[49m\u001b[43m,\u001b[49m\u001b[43m \u001b[49m\u001b[43mnum_outputs\u001b[49m\u001b[43m)\u001b[49m\n\u001b[1;32m     56\u001b[0m \u001b[38;5;28;01mexcept\u001b[39;00m core\u001b[38;5;241m.\u001b[39m_NotOkStatusException \u001b[38;5;28;01mas\u001b[39;00m e:\n\u001b[1;32m     57\u001b[0m   \u001b[38;5;28;01mif\u001b[39;00m name \u001b[38;5;129;01mis\u001b[39;00m \u001b[38;5;129;01mnot\u001b[39;00m \u001b[38;5;28;01mNone\u001b[39;00m:\n",
      "\u001b[0;31mKeyboardInterrupt\u001b[0m: "
     ]
    }
   ],
   "source": [
    "X = X_copy[selector[(2,32606)]][:,all_corrs.ravel()]\n",
    "Y = Y_copy[selector[(2,32606)]]\n",
    "X_test = X_copy[selector[(2,31800)]][:,all_corrs.ravel()]\n",
    "evaluate(i,j,'cite',save=False)"
   ]
  },
  {
   "cell_type": "code",
   "execution_count": 31,
   "id": "7bf32d3c-3991-460b-8d2b-95636392b7d8",
   "metadata": {
    "execution": {
     "iopub.execute_input": "2022-11-09T22:31:57.038819Z",
     "iopub.status.busy": "2022-11-09T22:31:57.038447Z",
     "iopub.status.idle": "2022-11-09T22:31:57.042976Z",
     "shell.execute_reply": "2022-11-09T22:31:57.042466Z",
     "shell.execute_reply.started": "2022-11-09T22:31:57.038795Z"
    },
    "tags": []
   },
   "outputs": [
    {
     "data": {
      "text/plain": [
       "0.8927733333333333"
      ]
     },
     "execution_count": 31,
     "metadata": {},
     "output_type": "execute_result"
    }
   ],
   "source": [
    "(0.89378+0.89315+0.89139)/3"
   ]
  },
  {
   "cell_type": "code",
   "execution_count": 120,
   "id": "00afe0ec-a794-4342-94f0-6fbdef3b1aa6",
   "metadata": {
    "execution": {
     "iopub.execute_input": "2022-11-10T05:15:11.803245Z",
     "iopub.status.busy": "2022-11-10T05:15:11.802850Z",
     "iopub.status.idle": "2022-11-10T05:15:17.727833Z",
     "shell.execute_reply": "2022-11-10T05:15:17.727184Z",
     "shell.execute_reply.started": "2022-11-10T05:15:11.803220Z"
    },
    "tags": []
   },
   "outputs": [],
   "source": [
    "with open('../input/targets-multiome-sparse-scaled/train_Citeseq_truncated_512.pkl','rb') as f: X = pickle.load(f)\n",
    "with open('../input/targets-multiome-sparse-scaled/test_Citeseq_truncated_512.pkl','rb') as f: Xt = pickle.load(f)\n",
    "\n",
    "X.shape, Xt.shape\n",
    "\n",
    "Y = pd.read_hdf(FP_CITE_TRAIN_TARGETS)\n",
    "#Y = Y.loc[meta.day == 3]\n",
    "Y = Y.values\n",
    "Y -= Y.mean(axis=1).reshape(-1, 1)\n",
    "Y /= Y.std(axis=1).reshape(-1, 1)\n",
    "Y.shape\n",
    "\n",
    "X0 = np.genfromtxt('./sparse/X0.csv',delimiter=',')\n",
    "\n",
    "X = np.hstack((X[:,:75],X0))\n",
    "X.shape\n",
    "X_copy = X.copy()\n",
    "Y_copy = Y.copy()"
   ]
  },
  {
   "cell_type": "code",
   "execution_count": 119,
   "id": "1bc24e76-5178-46fd-adcb-092afaca8aa2",
   "metadata": {
    "execution": {
     "iopub.execute_input": "2022-11-10T05:14:44.168644Z",
     "iopub.status.busy": "2022-11-10T05:14:44.168243Z",
     "iopub.status.idle": "2022-11-10T05:14:51.582307Z",
     "shell.execute_reply": "2022-11-10T05:14:51.581728Z",
     "shell.execute_reply.started": "2022-11-10T05:14:44.168620Z"
    }
   },
   "outputs": [
    {
     "name": "stdout",
     "output_type": "stream",
     "text": [
      "263/263 [==============================] - 1s 2ms/step\n",
      "263/263 [==============================] - 1s 2ms/step\n",
      "263/263 [==============================] - 1s 2ms/step\n",
      "263/263 [==============================] - 1s 2ms/step\n",
      "263/263 [==============================] - 1s 2ms/step\n",
      "263/263 [==============================] - 1s 2ms/step\n"
     ]
    },
    {
     "data": {
      "text/plain": [
       "array([[ -8.341819 ,  -7.000804 ,  -5.936493 , ...,  -7.8296666,\n",
       "         19.201    ,  -0.5561965],\n",
       "       [-10.562783 , -10.471197 ,  -9.601033 , ..., -10.04439  ,\n",
       "         -3.3990626,  -5.8704944],\n",
       "       [ -8.153778 ,  -8.231568 ,  -7.3324304, ...,  -7.3950114,\n",
       "         -4.5542154,  -5.253058 ],\n",
       "       ...,\n",
       "       [ -8.621112 ,  -7.162931 ,  -5.632567 , ...,  -7.615811 ,\n",
       "          0.3384807,  -4.108725 ],\n",
       "       [ -4.050392 ,  -3.6534047,  -4.0891604, ...,  -3.8050156,\n",
       "          2.8783886,  -1.2394468],\n",
       "       [ -9.494724 ,  -9.221361 ,  -8.041249 , ...,  -9.031226 ,\n",
       "         -1.3839644,  -4.5863323]], dtype=float32)"
      ]
     },
     "execution_count": 119,
     "metadata": {},
     "output_type": "execute_result"
    }
   ],
   "source": [
    "pred = np.zeros((len(X_copy[selector[(2,31800)]]),140))\n",
    "for i in range(6):\n",
    "    model = load_model(f\"./cite_model_saves/model_2_32606_{i}\",\n",
    "        custom_objects={'negative_correlation_loss': negative_correlation_loss})\n",
    "    pred =+ model.predict(X_copy[selector[(2,31800)]])\n",
    "pred"
   ]
  },
  {
   "cell_type": "code",
   "execution_count": 36,
   "id": "7aa9ac5f-05b5-4384-9de3-df10c23fea9e",
   "metadata": {
    "execution": {
     "iopub.execute_input": "2022-11-10T03:48:46.044853Z",
     "iopub.status.busy": "2022-11-10T03:48:46.044437Z",
     "iopub.status.idle": "2022-11-10T03:48:46.052850Z",
     "shell.execute_reply": "2022-11-10T03:48:46.052251Z",
     "shell.execute_reply.started": "2022-11-10T03:48:46.044829Z"
    },
    "tags": []
   },
   "outputs": [],
   "source": [
    "pred -= pred.mean(axis=1).reshape(-1, 1)\n",
    "pred /= pred.std(axis=1).reshape(-1, 1)"
   ]
  },
  {
   "cell_type": "code",
   "execution_count": 48,
   "id": "69862f3c-8921-443c-ad78-db6803eb8b03",
   "metadata": {
    "execution": {
     "iopub.execute_input": "2022-11-10T04:03:28.961938Z",
     "iopub.status.busy": "2022-11-10T04:03:28.961556Z",
     "iopub.status.idle": "2022-11-10T04:03:28.970742Z",
     "shell.execute_reply": "2022-11-10T04:03:28.970201Z",
     "shell.execute_reply.started": "2022-11-10T04:03:28.961916Z"
    },
    "tags": []
   },
   "outputs": [
    {
     "data": {
      "text/plain": [
       "7.4331307"
      ]
     },
     "execution_count": 51,
     "metadata": {},
     "output_type": "execute_result"
    }
   ],
   "source": [
    "mean_squared_error(Y_copy[selector[(2,31800)]],pred)"
   ]
  },
  {
   "cell_type": "code",
   "execution_count": 20,
   "id": "8205da81-f230-41f1-a7d7-789dd58a9ebf",
   "metadata": {
    "execution": {
     "iopub.execute_input": "2022-11-10T03:44:47.830850Z",
     "iopub.status.busy": "2022-11-10T03:44:47.830464Z",
     "iopub.status.idle": "2022-11-10T03:44:47.841873Z",
     "shell.execute_reply": "2022-11-10T03:44:47.841346Z",
     "shell.execute_reply.started": "2022-11-10T03:44:47.830826Z"
    },
    "tags": []
   },
   "outputs": [
    {
     "data": {
      "text/plain": [
       "8395"
      ]
     },
     "execution_count": 52,
     "metadata": {},
     "output_type": "execute_result"
    }
   ],
   "source": [
    "len(list(map(lambda x:x**2,diff)))"
   ]
  },
  {
   "cell_type": "code",
   "execution_count": 121,
   "id": "f7fb4257-0277-46c8-a0b1-8d9793d766ed",
   "metadata": {
    "execution": {
     "iopub.execute_input": "2022-11-10T05:15:46.328235Z",
     "iopub.status.busy": "2022-11-10T05:15:46.327842Z",
     "iopub.status.idle": "2022-11-10T05:15:47.032254Z",
     "shell.execute_reply": "2022-11-10T05:15:47.031688Z",
     "shell.execute_reply.started": "2022-11-10T05:15:46.328211Z"
    }
   },
   "outputs": [
    {
     "data": {
      "text/plain": [
       "0.8914866724925634"
      ]
     },
     "execution_count": 121,
     "metadata": {},
     "output_type": "execute_result"
    }
   ],
   "source": [
    "correlation_score(Y_copy[selector[(2,31800)]],pred)"
   ]
  },
  {
   "cell_type": "code",
   "execution_count": null,
   "id": "a73a9586-3fb5-4330-9cfa-a13106e72e23",
   "metadata": {
    "execution": {
     "iopub.execute_input": "2022-11-10T04:03:41.263441Z",
     "iopub.status.busy": "2022-11-10T04:03:41.263082Z",
     "iopub.status.idle": "2022-11-10T04:03:41.266710Z",
     "shell.execute_reply": "2022-11-10T04:03:41.266081Z",
     "shell.execute_reply.started": "2022-11-10T04:03:41.263423Z"
    },
    "tags": []
   },
   "outputs": [
    {
     "ename": "SyntaxError",
     "evalue": "unexpected EOF while parsing (856507758.py, line 1)",
     "output_type": "error",
     "traceback": [
      "\u001b[0;36m  Input \u001b[0;32mIn [53]\u001b[0;36m\u001b[0m\n\u001b[0;31m    correlation_score(\u001b[0m\n\u001b[0m                      ^\u001b[0m\n\u001b[0;31mSyntaxError\u001b[0m\u001b[0;31m:\u001b[0m unexpected EOF while parsing\n"
     ]
    }
   ],
   "source": [
    "correlation_score("
   ]
  },
  {
   "cell_type": "code",
   "execution_count": 22,
   "id": "d995c431-7439-412e-a150-17f28eb6a68c",
   "metadata": {
    "execution": {
     "iopub.execute_input": "2022-11-10T03:45:27.022471Z",
     "iopub.status.busy": "2022-11-10T03:45:27.022083Z",
     "iopub.status.idle": "2022-11-10T03:45:27.028645Z",
     "shell.execute_reply": "2022-11-10T03:45:27.028115Z",
     "shell.execute_reply.started": "2022-11-10T03:45:27.022448Z"
    },
    "tags": []
   },
   "outputs": [],
   "source": [
    "(Y_copy[selector[(2,31800)]] - pred)**2"
   ]
  },
  {
   "cell_type": "code",
   "execution_count": 8,
   "id": "034923ff-8bb2-487c-8ac2-79572c5cc12b",
   "metadata": {
    "execution": {
     "iopub.execute_input": "2022-11-10T03:31:26.213653Z",
     "iopub.status.busy": "2022-11-10T03:31:26.213274Z",
     "iopub.status.idle": "2022-11-10T03:31:26.354390Z",
     "shell.execute_reply": "2022-11-10T03:31:26.353827Z",
     "shell.execute_reply.started": "2022-11-10T03:31:26.213632Z"
    },
    "tags": []
   },
   "outputs": [
    {
     "data": {
      "text/plain": [
       "(array([ 1.,  4.,  3.,  6.,  8.,  7., 85., 23.,  1.,  2.]),\n",
       " array([0.49344745, 0.569669  , 0.64589053, 0.72211206, 0.7983336 ,\n",
       "        0.8745551 , 0.95077664, 1.0269982 , 1.1032197 , 1.1794412 ,\n",
       "        1.2556628 ], dtype=float32),\n",
       " <BarContainer object of 10 artists>)"
      ]
     },
     "execution_count": 8,
     "metadata": {},
     "output_type": "execute_result"
    },
    {
     "data": {
      "image/png": "[encoded data removed]",
      "text/plain": [
       "<Figure size 432x288 with 1 Axes>"
      ]
     },
     "metadata": {
      "needs_background": "light"
     },
     "output_type": "display_data"
    }
   ],
   "source": [
    "diff = Y_copy[selector[(2,31800)]] - pred\n",
    "abc = np.sqrt(np.mean(list(map(lambda x:x**2,diff)),axis=0))\n",
    "plt.hist(abc/np.std(Y_copy[selector[(2,31800)]],axis=0))"
   ]
  },
  {
   "cell_type": "code",
   "execution_count": 9,
   "id": "eb60f0c7-be1a-48a1-bf9f-412dd86e1b9d",
   "metadata": {
    "execution": {
     "iopub.execute_input": "2022-11-10T03:31:39.252253Z",
     "iopub.status.busy": "2022-11-10T03:31:39.251861Z",
     "iopub.status.idle": "2022-11-10T03:31:39.267546Z",
     "shell.execute_reply": "2022-11-10T03:31:39.267021Z",
     "shell.execute_reply.started": "2022-11-10T03:31:39.252230Z"
    }
   },
   "outputs": [
    {
     "data": {
      "text/plain": [
       "0.46601555"
      ]
     },
     "execution_count": 9,
     "metadata": {},
     "output_type": "execute_result"
    }
   ],
   "source": [
    "np.sqrt(np.mean(list(map(lambda x:x**2,diff))))\n"
   ]
  },
  {
   "cell_type": "code",
   "execution_count": 85,
   "id": "91d8e8ab-3965-47de-b266-e9092b2e41cd",
   "metadata": {
    "execution": {
     "iopub.execute_input": "2022-11-10T04:26:12.745973Z",
     "iopub.status.busy": "2022-11-10T04:26:12.745593Z",
     "iopub.status.idle": "2022-11-10T04:26:18.647287Z",
     "shell.execute_reply": "2022-11-10T04:26:18.646598Z",
     "shell.execute_reply.started": "2022-11-10T04:26:12.745950Z"
    },
    "tags": []
   },
   "outputs": [],
   "source": [
    "with open('../input/targets-multiome-sparse-scaled/train_Citeseq_truncated_512.pkl','rb') as f: X = pickle.load(f)\n",
    "with open('../input/targets-multiome-sparse-scaled/test_Citeseq_truncated_512.pkl','rb') as f: Xt = pickle.load(f)\n",
    "\n",
    "Y = pd.read_hdf(FP_CITE_TRAIN_TARGETS)\n",
    "Y = Y.values\n",
    "\n",
    "X0 = np.genfromtxt('./sparse/X0.csv',delimiter=',')\n",
    "\n",
    "X = np.hstack((X[:,:75],X0))\n",
    "X.shape\n",
    "X_copy = X.copy()\n",
    "Y_copy = Y.copy()"
   ]
  },
  {
   "cell_type": "code",
   "execution_count": 10,
   "id": "a5d15239-b98b-4179-92df-5660290f16d1",
   "metadata": {
    "execution": {
     "iopub.execute_input": "2022-11-10T01:39:19.199389Z",
     "iopub.status.busy": "2022-11-10T01:39:19.198986Z",
     "iopub.status.idle": "2022-11-10T01:41:16.742055Z",
     "shell.execute_reply": "2022-11-10T01:41:16.741424Z",
     "shell.execute_reply.started": "2022-11-10T01:39:19.199365Z"
    },
    "tags": []
   },
   "outputs": [
    {
     "name": "stdout",
     "output_type": "stream",
     "text": [
      "39/39 [==============================] - 0s 2ms/step\n",
      "\n",
      " --------- FOLD 0 -----------\n",
      "Mean squared error = 1.9299999475479126\n",
      "Correlation = 0.89272\n",
      "model saved : ./cite_model_saves/model_temp_temp_0\n",
      "39/39 [==============================] - 0s 2ms/step\n",
      "\n",
      " --------- FOLD 1 -----------\n",
      "Mean squared error = 1.9199999570846558\n",
      "Correlation = 0.89339\n",
      "model saved : ./cite_model_saves/model_temp_temp_1\n",
      "39/39 [==============================] - 0s 2ms/step\n",
      "\n",
      " --------- FOLD 2 -----------\n",
      "Mean squared error = 1.9199999570846558\n",
      "Correlation = 0.89474\n",
      "model saved : ./cite_model_saves/model_temp_temp_2\n",
      "39/39 [==============================] - 0s 2ms/step\n",
      "\n",
      " --------- FOLD 3 -----------\n",
      "Mean squared error = 1.9500000476837158\n",
      "Correlation = 0.89295\n",
      "model saved : ./cite_model_saves/model_temp_temp_3\n",
      "39/39 [==============================] - 0s 2ms/step\n",
      "\n",
      " --------- FOLD 4 -----------\n",
      "Mean squared error = 1.9199999570846558\n",
      "Correlation = 0.89480\n",
      "model saved : ./cite_model_saves/model_temp_temp_4\n",
      "39/39 [==============================] - 0s 2ms/step\n",
      "\n",
      " --------- FOLD 5 -----------\n",
      "Mean squared error = 1.909999966621399\n",
      "Correlation = 0.89545\n",
      "model saved : ./cite_model_saves/model_temp_temp_5\n",
      "\u001b[32m\u001b[1mMean corr = 0.89401\u001b[0m\n"
     ]
    }
   ],
   "source": [
    "Y = Y_copy.copy()\n",
    "X = X_copy.copy()\n",
    "Y = Y[selector[(2,32606)]]\n",
    "X = X[selector[(2,32606)]]\n",
    "evaluate('temp','temp','cite',loss='mse',save=True)"
   ]
  },
  {
   "cell_type": "code",
   "execution_count": 87,
   "id": "2a3d4bc3-65f7-4624-90e6-7a8fe9f0445a",
   "metadata": {
    "execution": {
     "iopub.execute_input": "2022-11-10T04:27:18.314125Z",
     "iopub.status.busy": "2022-11-10T04:27:18.313742Z",
     "iopub.status.idle": "2022-11-10T04:27:37.964081Z",
     "shell.execute_reply": "2022-11-10T04:27:37.963193Z",
     "shell.execute_reply.started": "2022-11-10T04:27:18.314102Z"
    },
    "tags": []
   },
   "outputs": [
    {
     "name": "stdout",
     "output_type": "stream",
     "text": [
      "39/39 [==============================] - 0s 2ms/step\n",
      "\n",
      " --------- FOLD 0 -----------\n",
      "Mean squared error = 1.940000057220459\n",
      "Correlation = 0.89184\n"
     ]
    },
    {
     "ename": "KeyboardInterrupt",
     "evalue": "",
     "output_type": "error",
     "traceback": [
      "\u001b[0;31m---------------------------------------------------------------------------\u001b[0m",
      "\u001b[0;31mKeyboardInterrupt\u001b[0m                         Traceback (most recent call last)",
      "Input \u001b[0;32mIn [87]\u001b[0m, in \u001b[0;36m<cell line: 5>\u001b[0;34m()\u001b[0m\n\u001b[1;32m      3\u001b[0m Y \u001b[38;5;241m=\u001b[39m Y[selector[(\u001b[38;5;241m2\u001b[39m,\u001b[38;5;241m32606\u001b[39m)]]\n\u001b[1;32m      4\u001b[0m X \u001b[38;5;241m=\u001b[39m X[selector[(\u001b[38;5;241m2\u001b[39m,\u001b[38;5;241m32606\u001b[39m)]]\n\u001b[0;32m----> 5\u001b[0m \u001b[43mevaluate\u001b[49m\u001b[43m(\u001b[49m\u001b[38;5;124;43m'\u001b[39;49m\u001b[38;5;124;43mtemp\u001b[39;49m\u001b[38;5;124;43m'\u001b[39;49m\u001b[43m,\u001b[49m\u001b[38;5;124;43m'\u001b[39;49m\u001b[38;5;124;43mtemp\u001b[39;49m\u001b[38;5;124;43m'\u001b[39;49m\u001b[43m,\u001b[49m\u001b[38;5;124;43m'\u001b[39;49m\u001b[38;5;124;43mcite\u001b[39;49m\u001b[38;5;124;43m'\u001b[39;49m\u001b[43m,\u001b[49m\u001b[43mloss\u001b[49m\u001b[38;5;241;43m=\u001b[39;49m\u001b[38;5;124;43m'\u001b[39;49m\u001b[38;5;124;43mmse\u001b[39;49m\u001b[38;5;124;43m'\u001b[39;49m\u001b[43m,\u001b[49m\u001b[43msave\u001b[49m\u001b[38;5;241;43m=\u001b[39;49m\u001b[38;5;28;43;01mFalse\u001b[39;49;00m\u001b[43m)\u001b[49m\n",
      "Input \u001b[0;32mIn [61]\u001b[0m, in \u001b[0;36mevaluate\u001b[0;34m(i, j, kind, save, loss)\u001b[0m\n\u001b[1;32m     51\u001b[0m     chk \u001b[38;5;241m=\u001b[39m tf\u001b[38;5;241m.\u001b[39mkeras\u001b[38;5;241m.\u001b[39mcallbacks\u001b[38;5;241m.\u001b[39mModelCheckpoint(\n\u001b[1;32m     52\u001b[0m             filepath \u001b[38;5;241m=\u001b[39m \u001b[38;5;124m'\u001b[39m\u001b[38;5;124m./multi\u001b[39m\u001b[38;5;124m'\u001b[39m,\n\u001b[1;32m     53\u001b[0m             save_weights_only \u001b[38;5;241m=\u001b[39m \u001b[38;5;28;01mTrue\u001b[39;00m,\n\u001b[1;32m     54\u001b[0m             monitor \u001b[38;5;241m=\u001b[39m \u001b[38;5;124m'\u001b[39m\u001b[38;5;124mval_loss\u001b[39m\u001b[38;5;124m'\u001b[39m,\n\u001b[1;32m     55\u001b[0m             mode \u001b[38;5;241m=\u001b[39m \u001b[38;5;124m'\u001b[39m\u001b[38;5;124mmin\u001b[39m\u001b[38;5;124m'\u001b[39m,\n\u001b[1;32m     56\u001b[0m             save_best_only \u001b[38;5;241m=\u001b[39m \u001b[38;5;28;01mTrue\u001b[39;00m)\n\u001b[1;32m     58\u001b[0m model\u001b[38;5;241m.\u001b[39mcompile(optimizer\u001b[38;5;241m=\u001b[39mtf\u001b[38;5;241m.\u001b[39mkeras\u001b[38;5;241m.\u001b[39moptimizers\u001b[38;5;241m.\u001b[39mAdam(learning_rate\u001b[38;5;241m=\u001b[39m\u001b[38;5;241m1e-3\u001b[39m),\n\u001b[1;32m     59\u001b[0m               loss \u001b[38;5;241m=\u001b[39m loss,\n\u001b[1;32m     60\u001b[0m               metrics \u001b[38;5;241m=\u001b[39m loss)\n\u001b[0;32m---> 62\u001b[0m \u001b[43mmodel\u001b[49m\u001b[38;5;241;43m.\u001b[39;49m\u001b[43mfit\u001b[49m\u001b[43m(\u001b[49m\u001b[43mX_tr\u001b[49m\u001b[43m,\u001b[49m\n\u001b[1;32m     63\u001b[0m \u001b[43m          \u001b[49m\u001b[43my_tr\u001b[49m\u001b[43m,\u001b[49m\n\u001b[1;32m     64\u001b[0m \u001b[43m          \u001b[49m\u001b[43mvalidation_data\u001b[49m\u001b[38;5;241;43m=\u001b[39;49m\u001b[43m(\u001b[49m\u001b[43mX_va\u001b[49m\u001b[43m,\u001b[49m\u001b[43my_va\u001b[49m\u001b[43m)\u001b[49m\u001b[43m,\u001b[49m\n\u001b[1;32m     65\u001b[0m \u001b[43m          \u001b[49m\u001b[43mepochs\u001b[49m\u001b[43m \u001b[49m\u001b[38;5;241;43m=\u001b[39;49m\u001b[38;5;241;43m500\u001b[39;49m\u001b[43m,\u001b[49m\n\u001b[1;32m     66\u001b[0m \u001b[43m          \u001b[49m\u001b[43mverbose\u001b[49m\u001b[43m \u001b[49m\u001b[38;5;241;43m=\u001b[39;49m\u001b[43m \u001b[49m\u001b[43mVERBOSE\u001b[49m\u001b[43m,\u001b[49m\n\u001b[1;32m     67\u001b[0m \u001b[43m          \u001b[49m\u001b[43mbatch_size\u001b[49m\u001b[38;5;241;43m=\u001b[39;49m\u001b[38;5;241;43m256\u001b[39;49m\u001b[43m,\u001b[49m\n\u001b[1;32m     68\u001b[0m \u001b[43m          \u001b[49m\u001b[43mcallbacks\u001b[49m\u001b[43m \u001b[49m\u001b[38;5;241;43m=\u001b[39;49m\u001b[43m \u001b[49m\u001b[43m[\u001b[49m\u001b[43mes\u001b[49m\u001b[43m,\u001b[49m\u001b[43mlr\u001b[49m\u001b[43m,\u001b[49m\u001b[43mchk\u001b[49m\u001b[43m]\u001b[49m\n\u001b[1;32m     69\u001b[0m \u001b[43m         \u001b[49m\u001b[43m)\u001b[49m\n\u001b[1;32m     70\u001b[0m y_va_pred \u001b[38;5;241m=\u001b[39m model\u001b[38;5;241m.\u001b[39mpredict(X_va)\n\u001b[1;32m     71\u001b[0m Y_pred[idx_va] \u001b[38;5;241m=\u001b[39m y_va_pred\n",
      "File \u001b[0;32m/srv/conda/envs/saturn/lib/python3.9/site-packages/keras/utils/traceback_utils.py:65\u001b[0m, in \u001b[0;36mfilter_traceback.<locals>.error_handler\u001b[0;34m(*args, **kwargs)\u001b[0m\n\u001b[1;32m     63\u001b[0m filtered_tb \u001b[38;5;241m=\u001b[39m \u001b[38;5;28;01mNone\u001b[39;00m\n\u001b[1;32m     64\u001b[0m \u001b[38;5;28;01mtry\u001b[39;00m:\n\u001b[0;32m---> 65\u001b[0m     \u001b[38;5;28;01mreturn\u001b[39;00m \u001b[43mfn\u001b[49m\u001b[43m(\u001b[49m\u001b[38;5;241;43m*\u001b[39;49m\u001b[43margs\u001b[49m\u001b[43m,\u001b[49m\u001b[43m \u001b[49m\u001b[38;5;241;43m*\u001b[39;49m\u001b[38;5;241;43m*\u001b[39;49m\u001b[43mkwargs\u001b[49m\u001b[43m)\u001b[49m\n\u001b[1;32m     66\u001b[0m \u001b[38;5;28;01mexcept\u001b[39;00m \u001b[38;5;167;01mException\u001b[39;00m \u001b[38;5;28;01mas\u001b[39;00m e:\n\u001b[1;32m     67\u001b[0m     filtered_tb \u001b[38;5;241m=\u001b[39m _process_traceback_frames(e\u001b[38;5;241m.\u001b[39m__traceback__)\n",
      "File \u001b[0;32m/srv/conda/envs/saturn/lib/python3.9/site-packages/keras/engine/training.py:1564\u001b[0m, in \u001b[0;36mModel.fit\u001b[0;34m(self, x, y, batch_size, epochs, verbose, callbacks, validation_split, validation_data, shuffle, class_weight, sample_weight, initial_epoch, steps_per_epoch, validation_steps, validation_batch_size, validation_freq, max_queue_size, workers, use_multiprocessing)\u001b[0m\n\u001b[1;32m   1556\u001b[0m \u001b[38;5;28;01mwith\u001b[39;00m tf\u001b[38;5;241m.\u001b[39mprofiler\u001b[38;5;241m.\u001b[39mexperimental\u001b[38;5;241m.\u001b[39mTrace(\n\u001b[1;32m   1557\u001b[0m     \u001b[38;5;124m\"\u001b[39m\u001b[38;5;124mtrain\u001b[39m\u001b[38;5;124m\"\u001b[39m,\n\u001b[1;32m   1558\u001b[0m     epoch_num\u001b[38;5;241m=\u001b[39mepoch,\n\u001b[0;32m   (...)\u001b[0m\n\u001b[1;32m   1561\u001b[0m     _r\u001b[38;5;241m=\u001b[39m\u001b[38;5;241m1\u001b[39m,\n\u001b[1;32m   1562\u001b[0m ):\n\u001b[1;32m   1563\u001b[0m     callbacks\u001b[38;5;241m.\u001b[39mon_train_batch_begin(step)\n\u001b[0;32m-> 1564\u001b[0m     tmp_logs \u001b[38;5;241m=\u001b[39m \u001b[38;5;28;43mself\u001b[39;49m\u001b[38;5;241;43m.\u001b[39;49m\u001b[43mtrain_function\u001b[49m\u001b[43m(\u001b[49m\u001b[43miterator\u001b[49m\u001b[43m)\u001b[49m\n\u001b[1;32m   1565\u001b[0m     \u001b[38;5;28;01mif\u001b[39;00m data_handler\u001b[38;5;241m.\u001b[39mshould_sync:\n\u001b[1;32m   1566\u001b[0m         context\u001b[38;5;241m.\u001b[39masync_wait()\n",
      "File \u001b[0;32m/srv/conda/envs/saturn/lib/python3.9/site-packages/tensorflow/python/util/traceback_utils.py:150\u001b[0m, in \u001b[0;36mfilter_traceback.<locals>.error_handler\u001b[0;34m(*args, **kwargs)\u001b[0m\n\u001b[1;32m    148\u001b[0m filtered_tb \u001b[38;5;241m=\u001b[39m \u001b[38;5;28;01mNone\u001b[39;00m\n\u001b[1;32m    149\u001b[0m \u001b[38;5;28;01mtry\u001b[39;00m:\n\u001b[0;32m--> 150\u001b[0m   \u001b[38;5;28;01mreturn\u001b[39;00m \u001b[43mfn\u001b[49m\u001b[43m(\u001b[49m\u001b[38;5;241;43m*\u001b[39;49m\u001b[43margs\u001b[49m\u001b[43m,\u001b[49m\u001b[43m \u001b[49m\u001b[38;5;241;43m*\u001b[39;49m\u001b[38;5;241;43m*\u001b[39;49m\u001b[43mkwargs\u001b[49m\u001b[43m)\u001b[49m\n\u001b[1;32m    151\u001b[0m \u001b[38;5;28;01mexcept\u001b[39;00m \u001b[38;5;167;01mException\u001b[39;00m \u001b[38;5;28;01mas\u001b[39;00m e:\n\u001b[1;32m    152\u001b[0m   filtered_tb \u001b[38;5;241m=\u001b[39m _process_traceback_frames(e\u001b[38;5;241m.\u001b[39m__traceback__)\n",
      "File \u001b[0;32m/srv/conda/envs/saturn/lib/python3.9/site-packages/tensorflow/python/eager/def_function.py:915\u001b[0m, in \u001b[0;36mFunction.__call__\u001b[0;34m(self, *args, **kwds)\u001b[0m\n\u001b[1;32m    912\u001b[0m compiler \u001b[38;5;241m=\u001b[39m \u001b[38;5;124m\"\u001b[39m\u001b[38;5;124mxla\u001b[39m\u001b[38;5;124m\"\u001b[39m \u001b[38;5;28;01mif\u001b[39;00m \u001b[38;5;28mself\u001b[39m\u001b[38;5;241m.\u001b[39m_jit_compile \u001b[38;5;28;01melse\u001b[39;00m \u001b[38;5;124m\"\u001b[39m\u001b[38;5;124mnonXla\u001b[39m\u001b[38;5;124m\"\u001b[39m\n\u001b[1;32m    914\u001b[0m \u001b[38;5;28;01mwith\u001b[39;00m OptionalXlaContext(\u001b[38;5;28mself\u001b[39m\u001b[38;5;241m.\u001b[39m_jit_compile):\n\u001b[0;32m--> 915\u001b[0m   result \u001b[38;5;241m=\u001b[39m \u001b[38;5;28;43mself\u001b[39;49m\u001b[38;5;241;43m.\u001b[39;49m\u001b[43m_call\u001b[49m\u001b[43m(\u001b[49m\u001b[38;5;241;43m*\u001b[39;49m\u001b[43margs\u001b[49m\u001b[43m,\u001b[49m\u001b[43m \u001b[49m\u001b[38;5;241;43m*\u001b[39;49m\u001b[38;5;241;43m*\u001b[39;49m\u001b[43mkwds\u001b[49m\u001b[43m)\u001b[49m\n\u001b[1;32m    917\u001b[0m new_tracing_count \u001b[38;5;241m=\u001b[39m \u001b[38;5;28mself\u001b[39m\u001b[38;5;241m.\u001b[39mexperimental_get_tracing_count()\n\u001b[1;32m    918\u001b[0m without_tracing \u001b[38;5;241m=\u001b[39m (tracing_count \u001b[38;5;241m==\u001b[39m new_tracing_count)\n",
      "File \u001b[0;32m/srv/conda/envs/saturn/lib/python3.9/site-packages/tensorflow/python/eager/def_function.py:947\u001b[0m, in \u001b[0;36mFunction._call\u001b[0;34m(self, *args, **kwds)\u001b[0m\n\u001b[1;32m    944\u001b[0m   \u001b[38;5;28mself\u001b[39m\u001b[38;5;241m.\u001b[39m_lock\u001b[38;5;241m.\u001b[39mrelease()\n\u001b[1;32m    945\u001b[0m   \u001b[38;5;66;03m# In this case we have created variables on the first call, so we run the\u001b[39;00m\n\u001b[1;32m    946\u001b[0m   \u001b[38;5;66;03m# defunned version which is guaranteed to never create variables.\u001b[39;00m\n\u001b[0;32m--> 947\u001b[0m   \u001b[38;5;28;01mreturn\u001b[39;00m \u001b[38;5;28;43mself\u001b[39;49m\u001b[38;5;241;43m.\u001b[39;49m\u001b[43m_stateless_fn\u001b[49m\u001b[43m(\u001b[49m\u001b[38;5;241;43m*\u001b[39;49m\u001b[43margs\u001b[49m\u001b[43m,\u001b[49m\u001b[43m \u001b[49m\u001b[38;5;241;43m*\u001b[39;49m\u001b[38;5;241;43m*\u001b[39;49m\u001b[43mkwds\u001b[49m\u001b[43m)\u001b[49m  \u001b[38;5;66;03m# pylint: disable=not-callable\u001b[39;00m\n\u001b[1;32m    948\u001b[0m \u001b[38;5;28;01melif\u001b[39;00m \u001b[38;5;28mself\u001b[39m\u001b[38;5;241m.\u001b[39m_stateful_fn \u001b[38;5;129;01mis\u001b[39;00m \u001b[38;5;129;01mnot\u001b[39;00m \u001b[38;5;28;01mNone\u001b[39;00m:\n\u001b[1;32m    949\u001b[0m   \u001b[38;5;66;03m# Release the lock early so that multiple threads can perform the call\u001b[39;00m\n\u001b[1;32m    950\u001b[0m   \u001b[38;5;66;03m# in parallel.\u001b[39;00m\n\u001b[1;32m    951\u001b[0m   \u001b[38;5;28mself\u001b[39m\u001b[38;5;241m.\u001b[39m_lock\u001b[38;5;241m.\u001b[39mrelease()\n",
      "File \u001b[0;32m/srv/conda/envs/saturn/lib/python3.9/site-packages/tensorflow/python/eager/function.py:2496\u001b[0m, in \u001b[0;36mFunction.__call__\u001b[0;34m(self, *args, **kwargs)\u001b[0m\n\u001b[1;32m   2493\u001b[0m \u001b[38;5;28;01mwith\u001b[39;00m \u001b[38;5;28mself\u001b[39m\u001b[38;5;241m.\u001b[39m_lock:\n\u001b[1;32m   2494\u001b[0m   (graph_function,\n\u001b[1;32m   2495\u001b[0m    filtered_flat_args) \u001b[38;5;241m=\u001b[39m \u001b[38;5;28mself\u001b[39m\u001b[38;5;241m.\u001b[39m_maybe_define_function(args, kwargs)\n\u001b[0;32m-> 2496\u001b[0m \u001b[38;5;28;01mreturn\u001b[39;00m \u001b[43mgraph_function\u001b[49m\u001b[38;5;241;43m.\u001b[39;49m\u001b[43m_call_flat\u001b[49m\u001b[43m(\u001b[49m\n\u001b[1;32m   2497\u001b[0m \u001b[43m    \u001b[49m\u001b[43mfiltered_flat_args\u001b[49m\u001b[43m,\u001b[49m\u001b[43m \u001b[49m\u001b[43mcaptured_inputs\u001b[49m\u001b[38;5;241;43m=\u001b[39;49m\u001b[43mgraph_function\u001b[49m\u001b[38;5;241;43m.\u001b[39;49m\u001b[43mcaptured_inputs\u001b[49m\u001b[43m)\u001b[49m\n",
      "File \u001b[0;32m/srv/conda/envs/saturn/lib/python3.9/site-packages/tensorflow/python/eager/function.py:1862\u001b[0m, in \u001b[0;36mConcreteFunction._call_flat\u001b[0;34m(self, args, captured_inputs, cancellation_manager)\u001b[0m\n\u001b[1;32m   1858\u001b[0m possible_gradient_type \u001b[38;5;241m=\u001b[39m gradients_util\u001b[38;5;241m.\u001b[39mPossibleTapeGradientTypes(args)\n\u001b[1;32m   1859\u001b[0m \u001b[38;5;28;01mif\u001b[39;00m (possible_gradient_type \u001b[38;5;241m==\u001b[39m gradients_util\u001b[38;5;241m.\u001b[39mPOSSIBLE_GRADIENT_TYPES_NONE\n\u001b[1;32m   1860\u001b[0m     \u001b[38;5;129;01mand\u001b[39;00m executing_eagerly):\n\u001b[1;32m   1861\u001b[0m   \u001b[38;5;66;03m# No tape is watching; skip to running the function.\u001b[39;00m\n\u001b[0;32m-> 1862\u001b[0m   \u001b[38;5;28;01mreturn\u001b[39;00m \u001b[38;5;28mself\u001b[39m\u001b[38;5;241m.\u001b[39m_build_call_outputs(\u001b[38;5;28;43mself\u001b[39;49m\u001b[38;5;241;43m.\u001b[39;49m\u001b[43m_inference_function\u001b[49m\u001b[38;5;241;43m.\u001b[39;49m\u001b[43mcall\u001b[49m\u001b[43m(\u001b[49m\n\u001b[1;32m   1863\u001b[0m \u001b[43m      \u001b[49m\u001b[43mctx\u001b[49m\u001b[43m,\u001b[49m\u001b[43m \u001b[49m\u001b[43margs\u001b[49m\u001b[43m,\u001b[49m\u001b[43m \u001b[49m\u001b[43mcancellation_manager\u001b[49m\u001b[38;5;241;43m=\u001b[39;49m\u001b[43mcancellation_manager\u001b[49m\u001b[43m)\u001b[49m)\n\u001b[1;32m   1864\u001b[0m forward_backward \u001b[38;5;241m=\u001b[39m \u001b[38;5;28mself\u001b[39m\u001b[38;5;241m.\u001b[39m_select_forward_and_backward_functions(\n\u001b[1;32m   1865\u001b[0m     args,\n\u001b[1;32m   1866\u001b[0m     possible_gradient_type,\n\u001b[1;32m   1867\u001b[0m     executing_eagerly)\n\u001b[1;32m   1868\u001b[0m forward_function, args_with_tangents \u001b[38;5;241m=\u001b[39m forward_backward\u001b[38;5;241m.\u001b[39mforward()\n",
      "File \u001b[0;32m/srv/conda/envs/saturn/lib/python3.9/site-packages/tensorflow/python/eager/function.py:499\u001b[0m, in \u001b[0;36m_EagerDefinedFunction.call\u001b[0;34m(self, ctx, args, cancellation_manager)\u001b[0m\n\u001b[1;32m    497\u001b[0m \u001b[38;5;28;01mwith\u001b[39;00m _InterpolateFunctionError(\u001b[38;5;28mself\u001b[39m):\n\u001b[1;32m    498\u001b[0m   \u001b[38;5;28;01mif\u001b[39;00m cancellation_manager \u001b[38;5;129;01mis\u001b[39;00m \u001b[38;5;28;01mNone\u001b[39;00m:\n\u001b[0;32m--> 499\u001b[0m     outputs \u001b[38;5;241m=\u001b[39m \u001b[43mexecute\u001b[49m\u001b[38;5;241;43m.\u001b[39;49m\u001b[43mexecute\u001b[49m\u001b[43m(\u001b[49m\n\u001b[1;32m    500\u001b[0m \u001b[43m        \u001b[49m\u001b[38;5;28;43mstr\u001b[39;49m\u001b[43m(\u001b[49m\u001b[38;5;28;43mself\u001b[39;49m\u001b[38;5;241;43m.\u001b[39;49m\u001b[43msignature\u001b[49m\u001b[38;5;241;43m.\u001b[39;49m\u001b[43mname\u001b[49m\u001b[43m)\u001b[49m\u001b[43m,\u001b[49m\n\u001b[1;32m    501\u001b[0m \u001b[43m        \u001b[49m\u001b[43mnum_outputs\u001b[49m\u001b[38;5;241;43m=\u001b[39;49m\u001b[38;5;28;43mself\u001b[39;49m\u001b[38;5;241;43m.\u001b[39;49m\u001b[43m_num_outputs\u001b[49m\u001b[43m,\u001b[49m\n\u001b[1;32m    502\u001b[0m \u001b[43m        \u001b[49m\u001b[43minputs\u001b[49m\u001b[38;5;241;43m=\u001b[39;49m\u001b[43margs\u001b[49m\u001b[43m,\u001b[49m\n\u001b[1;32m    503\u001b[0m \u001b[43m        \u001b[49m\u001b[43mattrs\u001b[49m\u001b[38;5;241;43m=\u001b[39;49m\u001b[43mattrs\u001b[49m\u001b[43m,\u001b[49m\n\u001b[1;32m    504\u001b[0m \u001b[43m        \u001b[49m\u001b[43mctx\u001b[49m\u001b[38;5;241;43m=\u001b[39;49m\u001b[43mctx\u001b[49m\u001b[43m)\u001b[49m\n\u001b[1;32m    505\u001b[0m   \u001b[38;5;28;01melse\u001b[39;00m:\n\u001b[1;32m    506\u001b[0m     outputs \u001b[38;5;241m=\u001b[39m execute\u001b[38;5;241m.\u001b[39mexecute_with_cancellation(\n\u001b[1;32m    507\u001b[0m         \u001b[38;5;28mstr\u001b[39m(\u001b[38;5;28mself\u001b[39m\u001b[38;5;241m.\u001b[39msignature\u001b[38;5;241m.\u001b[39mname),\n\u001b[1;32m    508\u001b[0m         num_outputs\u001b[38;5;241m=\u001b[39m\u001b[38;5;28mself\u001b[39m\u001b[38;5;241m.\u001b[39m_num_outputs,\n\u001b[0;32m   (...)\u001b[0m\n\u001b[1;32m    511\u001b[0m         ctx\u001b[38;5;241m=\u001b[39mctx,\n\u001b[1;32m    512\u001b[0m         cancellation_manager\u001b[38;5;241m=\u001b[39mcancellation_manager)\n",
      "File \u001b[0;32m/srv/conda/envs/saturn/lib/python3.9/site-packages/tensorflow/python/eager/execute.py:54\u001b[0m, in \u001b[0;36mquick_execute\u001b[0;34m(op_name, num_outputs, inputs, attrs, ctx, name)\u001b[0m\n\u001b[1;32m     52\u001b[0m \u001b[38;5;28;01mtry\u001b[39;00m:\n\u001b[1;32m     53\u001b[0m   ctx\u001b[38;5;241m.\u001b[39mensure_initialized()\n\u001b[0;32m---> 54\u001b[0m   tensors \u001b[38;5;241m=\u001b[39m \u001b[43mpywrap_tfe\u001b[49m\u001b[38;5;241;43m.\u001b[39;49m\u001b[43mTFE_Py_Execute\u001b[49m\u001b[43m(\u001b[49m\u001b[43mctx\u001b[49m\u001b[38;5;241;43m.\u001b[39;49m\u001b[43m_handle\u001b[49m\u001b[43m,\u001b[49m\u001b[43m \u001b[49m\u001b[43mdevice_name\u001b[49m\u001b[43m,\u001b[49m\u001b[43m \u001b[49m\u001b[43mop_name\u001b[49m\u001b[43m,\u001b[49m\n\u001b[1;32m     55\u001b[0m \u001b[43m                                      \u001b[49m\u001b[43minputs\u001b[49m\u001b[43m,\u001b[49m\u001b[43m \u001b[49m\u001b[43mattrs\u001b[49m\u001b[43m,\u001b[49m\u001b[43m \u001b[49m\u001b[43mnum_outputs\u001b[49m\u001b[43m)\u001b[49m\n\u001b[1;32m     56\u001b[0m \u001b[38;5;28;01mexcept\u001b[39;00m core\u001b[38;5;241m.\u001b[39m_NotOkStatusException \u001b[38;5;28;01mas\u001b[39;00m e:\n\u001b[1;32m     57\u001b[0m   \u001b[38;5;28;01mif\u001b[39;00m name \u001b[38;5;129;01mis\u001b[39;00m \u001b[38;5;129;01mnot\u001b[39;00m \u001b[38;5;28;01mNone\u001b[39;00m:\n",
      "\u001b[0;31mKeyboardInterrupt\u001b[0m: "
     ]
    }
   ],
   "source": [
    "Y = Y_copy.copy()\n",
    "X = X_copy.copy()\n",
    "Y = Y[selector[(2,32606)]]\n",
    "X = X[selector[(2,32606)]]\n",
    "evaluate('temp','temp','cite',loss='mse',save=False)"
   ]
  },
  {
   "cell_type": "code",
   "execution_count": 70,
   "id": "0d8543bc-0b3a-4d5f-abec-6d16a07ff582",
   "metadata": {
    "execution": {
     "iopub.execute_input": "2022-11-10T04:18:37.735146Z",
     "iopub.status.busy": "2022-11-10T04:18:37.734776Z",
     "iopub.status.idle": "2022-11-10T04:18:43.895236Z",
     "shell.execute_reply": "2022-11-10T04:18:43.894636Z",
     "shell.execute_reply.started": "2022-11-10T04:18:37.735119Z"
    },
    "tags": []
   },
   "outputs": [
    {
     "name": "stdout",
     "output_type": "stream",
     "text": [
      "263/263 [==============================] - 1s 2ms/step\n",
      "263/263 [==============================] - 0s 2ms/step\n",
      "263/263 [==============================] - 1s 2ms/step\n",
      "263/263 [==============================] - 1s 2ms/step\n",
      "263/263 [==============================] - 0s 2ms/step\n",
      "263/263 [==============================] - 1s 2ms/step\n"
     ]
    }
   ],
   "source": [
    "X_test = X_copy[selector[(2,31800)]]\n",
    "preds = np.zeros((len(X_test),140))\n",
    "\n",
    "for i in range(6):\n",
    "    model = load_model(f\"./cite_model_saves/model_temp_temp_2\")\n",
    "    preds+=model.predict(X_test)/6"
   ]
  },
  {
   "cell_type": "code",
   "execution_count": 71,
   "id": "cf7f4156-9398-4c65-8677-82d42937921e",
   "metadata": {
    "execution": {
     "iopub.execute_input": "2022-11-10T04:18:44.605129Z",
     "iopub.status.busy": "2022-11-10T04:18:44.604749Z",
     "iopub.status.idle": "2022-11-10T04:18:44.609710Z",
     "shell.execute_reply": "2022-11-10T04:18:44.609187Z",
     "shell.execute_reply.started": "2022-11-10T04:18:44.605106Z"
    },
    "tags": []
   },
   "outputs": [
    {
     "data": {
      "text/plain": [
       "array([[ 0.16396908,  0.40501016,  1.78292942, ..., -0.58786905,\n",
       "         9.3737061 ,  2.75640982],\n",
       "       [ 0.07586134, -0.17109378,  0.78216326, ...,  0.44603629,\n",
       "         1.64511913,  1.07513157],\n",
       "       [ 0.91702455,  0.04434186,  0.17044335, ..., -0.18984888,\n",
       "         1.80698419,  0.77311993],\n",
       "       ...,\n",
       "       [-0.43674029, -0.05477544,  0.88701019, ..., -0.14906801,\n",
       "         2.42450452,  1.54628634],\n",
       "       [ 0.3227571 ,  0.18039678,  0.49265769, ..., -0.50108381,\n",
       "         3.92552984,  1.75103295],\n",
       "       [-0.03539791,  0.01260125,  0.44222917, ...,  0.36872759,\n",
       "         2.15343064,  1.29474807]])"
      ]
     },
     "execution_count": 71,
     "metadata": {},
     "output_type": "execute_result"
    }
   ],
   "source": [
    "preds"
   ]
  },
  {
   "cell_type": "code",
   "execution_count": 72,
   "id": "51b9af5a-1d91-4030-bfdb-ee4309882e6b",
   "metadata": {
    "execution": {
     "iopub.execute_input": "2022-11-10T04:18:47.900992Z",
     "iopub.status.busy": "2022-11-10T04:18:47.900614Z",
     "iopub.status.idle": "2022-11-10T04:18:48.605657Z",
     "shell.execute_reply": "2022-11-10T04:18:48.605096Z",
     "shell.execute_reply.started": "2022-11-10T04:18:47.900971Z"
    },
    "tags": []
   },
   "outputs": [
    {
     "data": {
      "text/plain": [
       "0.8856882177391285"
      ]
     },
     "execution_count": 72,
     "metadata": {},
     "output_type": "execute_result"
    }
   ],
   "source": [
    "correlation_score(Y_copy[selector[(2,31800)]],preds)"
   ]
  },
  {
   "cell_type": "code",
   "execution_count": 73,
   "id": "73b2c4e3-ddff-4675-abe1-c2c2cf129f8f",
   "metadata": {
    "execution": {
     "iopub.execute_input": "2022-11-10T04:18:52.767038Z",
     "iopub.status.busy": "2022-11-10T04:18:52.766647Z",
     "iopub.status.idle": "2022-11-10T04:18:52.890801Z",
     "shell.execute_reply": "2022-11-10T04:18:52.890251Z",
     "shell.execute_reply.started": "2022-11-10T04:18:52.767015Z"
    },
    "tags": []
   },
   "outputs": [
    {
     "data": {
      "text/plain": [
       "(array([ 5.,  2.,  4.,  6.,  8., 15., 31., 61.,  7.,  1.]),\n",
       " array([0.57517246, 0.6405625 , 0.70595255, 0.7713426 , 0.83673265,\n",
       "        0.90212269, 0.96751274, 1.03290279, 1.09829284, 1.16368288,\n",
       "        1.22907293]),\n",
       " <BarContainer object of 10 artists>)"
      ]
     },
     "execution_count": 73,
     "metadata": {},
     "output_type": "execute_result"
    },
    {
     "data": {
      "image/png": "[encoded data removed]",
      "text/plain": [
       "<Figure size 432x288 with 1 Axes>"
      ]
     },
     "metadata": {
      "needs_background": "light"
     },
     "output_type": "display_data"
    }
   ],
   "source": [
    "diff = Y_copy[selector[(2,31800)]] - preds\n",
    "abc = np.sqrt(np.mean(list(map(lambda x:x**2,diff)),axis=0))\n",
    "plt.hist(abc/np.std(Y_copy[selector[(2,31800)]],axis=0))"
   ]
  },
  {
   "cell_type": "code",
   "execution_count": 74,
   "id": "bdf1f017-eaf2-43db-9162-64c017a09010",
   "metadata": {
    "execution": {
     "iopub.execute_input": "2022-11-10T04:18:56.668263Z",
     "iopub.status.busy": "2022-11-10T04:18:56.667880Z",
     "iopub.status.idle": "2022-11-10T04:18:56.687276Z",
     "shell.execute_reply": "2022-11-10T04:18:56.686736Z",
     "shell.execute_reply.started": "2022-11-10T04:18:56.668240Z"
    },
    "tags": []
   },
   "outputs": [
    {
     "data": {
      "text/plain": [
       "1.522737950117809"
      ]
     },
     "execution_count": 74,
     "metadata": {},
     "output_type": "execute_result"
    }
   ],
   "source": [
    "np.sqrt(np.mean(list(map(lambda x:x**2,diff))))"
   ]
  },
  {
   "cell_type": "code",
   "execution_count": 82,
   "id": "745f6ca2-1668-4659-9547-fe026cea9e16",
   "metadata": {
    "execution": {
     "iopub.execute_input": "2022-11-10T04:20:29.313207Z",
     "iopub.status.busy": "2022-11-10T04:20:29.312809Z",
     "iopub.status.idle": "2022-11-10T04:20:29.324199Z",
     "shell.execute_reply": "2022-11-10T04:20:29.323640Z",
     "shell.execute_reply.started": "2022-11-10T04:20:29.313184Z"
    }
   },
   "outputs": [
    {
     "data": {
      "text/plain": [
       "2.3187308647290013"
      ]
     },
     "execution_count": 82,
     "metadata": {},
     "output_type": "execute_result"
    }
   ],
   "source": [
    "mean_squared_error(Y_copy[selector[(2,31800)]],preds)"
   ]
  },
  {
   "cell_type": "code",
   "execution_count": 83,
   "id": "590aa508-a95c-4789-90af-8b26b6a296bc",
   "metadata": {
    "execution": {
     "iopub.execute_input": "2022-11-10T04:20:35.985282Z",
     "iopub.status.busy": "2022-11-10T04:20:35.984899Z",
     "iopub.status.idle": "2022-11-10T04:20:36.004435Z",
     "shell.execute_reply": "2022-11-10T04:20:36.003891Z",
     "shell.execute_reply.started": "2022-11-10T04:20:35.985258Z"
    },
    "tags": []
   },
   "outputs": [
    {
     "data": {
      "text/plain": [
       "2.318730864728987"
      ]
     },
     "execution_count": 83,
     "metadata": {},
     "output_type": "execute_result"
    }
   ],
   "source": [
    "np.mean(list(map(lambda x:x**2,diff)))"
   ]
  },
  {
   "cell_type": "code",
   "execution_count": 9,
   "id": "6bfa73c6-d69c-4015-adf5-271577f44d91",
   "metadata": {
    "execution": {
     "iopub.execute_input": "2022-11-10T16:37:30.004191Z",
     "iopub.status.busy": "2022-11-10T16:37:30.003795Z",
     "iopub.status.idle": "2022-11-10T16:38:04.462418Z",
     "shell.execute_reply": "2022-11-10T16:38:04.461759Z",
     "shell.execute_reply.started": "2022-11-10T16:37:30.004167Z"
    },
    "tags": []
   },
   "outputs": [],
   "source": [
    "X = pd.read_hdf(FP_CITE_TRAIN_INPUTS).drop(columns = constant_cols)\n",
    "Y = pd.read_hdf(FP_CITE_TRAIN_TARGETS)\n",
    "X = X.values\n",
    "Y = Y.values\n",
    "all_corrs = np.load('./corrs/cite_all_corrs.npy')\n",
    "X_copy = X.copy()\n",
    "Y_copy = Y.copy()"
   ]
  },
  {
   "cell_type": "code",
   "execution_count": 16,
   "id": "7fd8b26c-c09d-4094-84a9-6067f54d564d",
   "metadata": {
    "execution": {
     "iopub.execute_input": "2022-11-10T16:42:54.404581Z",
     "iopub.status.busy": "2022-11-10T16:42:54.404178Z",
     "iopub.status.idle": "2022-11-10T16:45:11.079442Z",
     "shell.execute_reply": "2022-11-10T16:45:11.078768Z",
     "shell.execute_reply.started": "2022-11-10T16:42:54.404556Z"
    }
   },
   "outputs": [
    {
     "name": "stdout",
     "output_type": "stream",
     "text": [
      "39/39 [==============================] - 0s 2ms/step\n",
      "\n",
      " --------- FOLD 0 -----------\n",
      "Mean squared error = 2.1700000762939453\n",
      "Correlation = 0.88062\n",
      "model saved : ./cite_model_saves/model_temp_mse_0\n",
      "39/39 [==============================] - 0s 2ms/step\n",
      "\n",
      " --------- FOLD 1 -----------\n",
      "Mean squared error = 2.180000066757202\n",
      "Correlation = 0.88232\n",
      "model saved : ./cite_model_saves/model_temp_mse_1\n",
      "39/39 [==============================] - 0s 2ms/step\n",
      "\n",
      " --------- FOLD 2 -----------\n",
      "Mean squared error = 2.1700000762939453\n",
      "Correlation = 0.88294\n",
      "model saved : ./cite_model_saves/model_temp_mse_2\n",
      "39/39 [==============================] - 0s 2ms/step\n",
      "\n",
      " --------- FOLD 3 -----------\n",
      "Mean squared error = 2.2100000381469727\n",
      "Correlation = 0.88241\n",
      "model saved : ./cite_model_saves/model_temp_mse_3\n",
      "39/39 [==============================] - 0s 2ms/step\n",
      "\n",
      " --------- FOLD 4 -----------\n",
      "Mean squared error = 2.2100000381469727\n",
      "Correlation = 0.88342\n",
      "model saved : ./cite_model_saves/model_temp_mse_4\n",
      "39/39 [==============================] - 0s 2ms/step\n",
      "\n",
      " --------- FOLD 5 -----------\n",
      "Mean squared error = 2.2200000286102295\n",
      "Correlation = 0.87949\n",
      "model saved : ./cite_model_saves/model_temp_mse_5\n",
      "\u001b[32m\u001b[1mMean corr = 0.88187\u001b[0m\n"
     ]
    }
   ],
   "source": [
    "X_test = X_copy[selector[(2,31800)]][:,np.array(list(set(all_corrs.ravel())))]\n",
    "X = X_copy[selector[(2,32606)]][:,np.array(list(set(all_corrs.ravel())))]\n",
    "Y = Y_copy[selector[(2,32606)]]\n",
    "evaluate('temp','mse','cite',loss='mse',save=True)"
   ]
  },
  {
   "cell_type": "code",
   "execution_count": 17,
   "id": "83d07323-f430-499f-a9db-eece565708cb",
   "metadata": {
    "execution": {
     "iopub.execute_input": "2022-11-10T16:54:24.641010Z",
     "iopub.status.busy": "2022-11-10T16:54:24.640604Z",
     "iopub.status.idle": "2022-11-10T16:54:34.156010Z",
     "shell.execute_reply": "2022-11-10T16:54:34.155358Z",
     "shell.execute_reply.started": "2022-11-10T16:54:24.640986Z"
    },
    "tags": []
   },
   "outputs": [
    {
     "name": "stdout",
     "output_type": "stream",
     "text": [
      "263/263 [==============================] - 1s 2ms/step\n",
      "263/263 [==============================] - 1s 2ms/step\n",
      "263/263 [==============================] - 1s 2ms/step\n",
      "263/263 [==============================] - 1s 2ms/step\n",
      "263/263 [==============================] - 1s 2ms/step\n",
      "263/263 [==============================] - 1s 2ms/step\n",
      "0.8843626632486058\n"
     ]
    }
   ],
   "source": [
    "preds = np.zeros((len(X_test),140))\n",
    "for i in range(6):\n",
    "    model = load_model(f\"./cite_model_saves/model_temp_mse_{i}\",\n",
    "            custom_objects={'negative_correlation_loss': negative_correlation_loss})\n",
    "    preds+=model.predict(X_test)/6\n",
    "print(correlation_score(Y_copy[selector[(2,31800)]],preds))"
   ]
  },
  {
   "cell_type": "raw",
   "id": "9146f065-de18-4e3c-aade-270f44db32aa",
   "metadata": {
    "execution": {
     "iopub.execute_input": "2022-11-10T16:56:58.523348Z",
     "iopub.status.busy": "2022-11-10T16:56:58.522950Z",
     "iopub.status.idle": "2022-11-10T16:56:58.666739Z",
     "shell.execute_reply": "2022-11-10T16:56:58.666101Z",
     "shell.execute_reply.started": "2022-11-10T16:56:58.523323Z"
    },
    "tags": []
   },
   "source": [
    "diff = Y_copy[selector[(2,31800)]] - preds\n",
    "abc = np.sqrt(np.mean(list(map(lambda x:x**2,diff)),axis=0))\n",
    "plt.hist(abc/np.std(Y_copy[selector[(2,31800)]],axis=0))\n",
    "plt.title('predicting raw protein levels')\n",
    "plt.xlabel('average # of stds')\n",
    "plt.ylabel('count')"
   ]
  },
  {
   "cell_type": "code",
   "execution_count": 12,
   "id": "7979ad4e-a78d-4302-bc2e-316c5a151cb7",
   "metadata": {
    "execution": {
     "iopub.execute_input": "2022-11-10T16:38:26.404253Z",
     "iopub.status.busy": "2022-11-10T16:38:26.403862Z",
     "iopub.status.idle": "2022-11-10T16:41:04.619874Z",
     "shell.execute_reply": "2022-11-10T16:41:04.619218Z",
     "shell.execute_reply.started": "2022-11-10T16:38:26.404228Z"
    },
    "tags": []
   },
   "outputs": [
    {
     "name": "stdout",
     "output_type": "stream",
     "text": [
      "39/39 [==============================] - 0s 2ms/step\n",
      "\n",
      " --------- FOLD 0 -----------\n",
      "Mean squared error = 1647.9200439453125\n",
      "Correlation = 0.89078\n",
      "model saved : ./cite_model_saves/model_temp_temp_0\n",
      "39/39 [==============================] - 0s 2ms/step\n",
      "\n",
      " --------- FOLD 1 -----------\n",
      "Mean squared error = 2918.760009765625\n",
      "Correlation = 0.89271\n",
      "model saved : ./cite_model_saves/model_temp_temp_1\n",
      "39/39 [==============================] - 0s 2ms/step\n",
      "\n",
      " --------- FOLD 2 -----------\n",
      "Mean squared error = 1725.780029296875\n",
      "Correlation = 0.89306\n",
      "model saved : ./cite_model_saves/model_temp_temp_2\n",
      "39/39 [==============================] - 0s 2ms/step\n",
      "\n",
      " --------- FOLD 3 -----------\n",
      "Mean squared error = 2796.580078125\n",
      "Correlation = 0.89186\n",
      "model saved : ./cite_model_saves/model_temp_temp_3\n",
      "39/39 [==============================] - 0s 2ms/step\n",
      "\n",
      " --------- FOLD 4 -----------\n",
      "Mean squared error = 2167.0\n",
      "Correlation = 0.89498\n",
      "model saved : ./cite_model_saves/model_temp_temp_4\n",
      "39/39 [==============================] - 0s 2ms/step\n",
      "\n",
      " --------- FOLD 5 -----------\n",
      "Mean squared error = 3152.3701171875\n",
      "Correlation = 0.89345\n",
      "model saved : ./cite_model_saves/model_temp_temp_5\n",
      "\u001b[32m\u001b[1mMean corr = 0.89281\u001b[0m\n"
     ]
    }
   ],
   "source": [
    "X_test = X_copy[selector[(2,31800)]][:,np.array(list(set(all_corrs.ravel())))]\n",
    "X = X_copy[selector[(2,32606)]][:,np.array(list(set(all_corrs.ravel())))]\n",
    "Y = Y_copy[selector[(2,32606)]]\n",
    "evaluate('temp','temp','cite',save=True)"
   ]
  },
  {
   "cell_type": "code",
   "execution_count": 116,
   "id": "fc9fc74c-9e7b-43c2-8ad3-a9f2a2ffcbb9",
   "metadata": {
    "execution": {
     "iopub.execute_input": "2022-11-10T05:05:25.115504Z",
     "iopub.status.busy": "2022-11-10T05:05:25.115125Z",
     "iopub.status.idle": "2022-11-10T05:05:33.350424Z",
     "shell.execute_reply": "2022-11-10T05:05:33.349802Z",
     "shell.execute_reply.started": "2022-11-10T05:05:25.115480Z"
    },
    "tags": []
   },
   "outputs": [
    {
     "name": "stdout",
     "output_type": "stream",
     "text": [
      "263/263 [==============================] - 1s 2ms/step\n",
      "263/263 [==============================] - 1s 2ms/step\n",
      "263/263 [==============================] - 1s 2ms/step\n",
      "263/263 [==============================] - 1s 2ms/step\n",
      "263/263 [==============================] - 1s 2ms/step\n",
      "263/263 [==============================] - 1s 2ms/step\n",
      "0.8919404922189595\n"
     ]
    }
   ],
   "source": [
    "preds = np.zeros((len(X_test),140))\n",
    "for i in range(6):\n",
    "    model = load_model(f\"./cite_model_saves/model_temp_temp_{i}\",\n",
    "            custom_objects={'negative_correlation_loss': negative_correlation_loss})\n",
    "    preds+=model.predict(X_test)/6\n",
    "print(correlation_score(Y_copy[selector[(2,31800)]],preds))"
   ]
  },
  {
   "cell_type": "code",
   "execution_count": 117,
   "id": "146d7cf5-c543-4956-a520-581b82da7e42",
   "metadata": {
    "execution": {
     "iopub.execute_input": "2022-11-10T05:08:45.570718Z",
     "iopub.status.busy": "2022-11-10T05:08:45.570315Z",
     "iopub.status.idle": "2022-11-10T05:11:45.941375Z",
     "shell.execute_reply": "2022-11-10T05:11:45.940754Z",
     "shell.execute_reply.started": "2022-11-10T05:08:45.570695Z"
    }
   },
   "outputs": [
    {
     "name": "stdout",
     "output_type": "stream",
     "text": [
      "39/39 [==============================] - 0s 2ms/step\n",
      "\n",
      " --------- FOLD 0 -----------\n",
      "Mean squared error = 971.0800170898438\n",
      "Correlation = 0.89018\n",
      "model saved : ./cite_model_saves/model_temp_temp_0\n",
      "39/39 [==============================] - 0s 2ms/step\n",
      "\n",
      " --------- FOLD 1 -----------\n",
      "Mean squared error = 4460.2001953125\n",
      "Correlation = 0.89193\n",
      "model saved : ./cite_model_saves/model_temp_temp_1\n",
      "39/39 [==============================] - 0s 2ms/step\n",
      "\n",
      " --------- FOLD 2 -----------\n",
      "Mean squared error = 1389.5799560546875\n",
      "Correlation = 0.89205\n",
      "model saved : ./cite_model_saves/model_temp_temp_2\n",
      "39/39 [==============================] - 0s 2ms/step\n",
      "\n",
      " --------- FOLD 3 -----------\n",
      "Mean squared error = 705.9099731445312\n",
      "Correlation = 0.89123\n",
      "model saved : ./cite_model_saves/model_temp_temp_3\n",
      "39/39 [==============================] - 0s 2ms/step\n",
      "\n",
      " --------- FOLD 4 -----------\n",
      "Mean squared error = 1309.0899658203125\n",
      "Correlation = 0.89430\n",
      "model saved : ./cite_model_saves/model_temp_temp_4\n",
      "39/39 [==============================] - 0s 2ms/step\n",
      "\n",
      " --------- FOLD 5 -----------\n",
      "Mean squared error = 2273.219970703125\n",
      "Correlation = 0.89277\n",
      "model saved : ./cite_model_saves/model_temp_temp_5\n",
      "\u001b[32m\u001b[1mMean corr = 0.89208\u001b[0m\n"
     ]
    }
   ],
   "source": [
    "X = pd.read_hdf(FP_CITE_TRAIN_INPUTS).drop(columns = constant_cols)\n",
    "Y = pd.read_hdf(FP_CITE_TRAIN_TARGETS)\n",
    "X = X.values\n",
    "Y = Y.values\n",
    "Y -= Y.mean(axis=1).reshape(-1, 1)\n",
    "Y /= Y.std(axis=1).reshape(-1, 1)\n",
    "all_corrs = np.load('./corrs/cite_all_corrs.npy')\n",
    "X_test = X[selector[(2,31800)]][:,np.array(list(set(all_corrs.ravel())))]\n",
    "X = X[selector[(2,32606)]][:,np.array(list(set(all_corrs.ravel())))]\n",
    "Y = Y[selector[(2,32606)]]\n",
    "evaluate('temp','temp','cite',save=True)"
   ]
  },
  {
   "cell_type": "code",
   "execution_count": 118,
   "id": "be551953-eeb7-4a05-b640-f050db15308d",
   "metadata": {
    "execution": {
     "iopub.execute_input": "2022-11-10T05:11:50.913310Z",
     "iopub.status.busy": "2022-11-10T05:11:50.912913Z",
     "iopub.status.idle": "2022-11-10T05:11:59.554162Z",
     "shell.execute_reply": "2022-11-10T05:11:59.553552Z",
     "shell.execute_reply.started": "2022-11-10T05:11:50.913287Z"
    }
   },
   "outputs": [
    {
     "name": "stdout",
     "output_type": "stream",
     "text": [
      "263/263 [==============================] - 1s 2ms/step\n",
      "263/263 [==============================] - 1s 2ms/step\n",
      "263/263 [==============================] - 1s 2ms/step\n",
      "263/263 [==============================] - 1s 2ms/step\n",
      "263/263 [==============================] - 1s 2ms/step\n",
      "263/263 [==============================] - 1s 2ms/step\n",
      "0.8913157627557553\n"
     ]
    }
   ],
   "source": [
    "preds = np.zeros((len(X_test),140))\n",
    "for i in range(6):\n",
    "    model = load_model(f\"./cite_model_saves/model_temp_temp_{i}\",\n",
    "            custom_objects={'negative_correlation_loss': negative_correlation_loss})\n",
    "    preds+=model.predict(X_test)/6\n",
    "print(correlation_score(Y_copy[selector[(2,31800)]],preds))"
   ]
  },
  {
   "cell_type": "code",
   "execution_count": 55,
   "id": "4e96a790-d5fa-44ab-96b9-a418f172cec0",
   "metadata": {
    "execution": {
     "iopub.execute_input": "2022-11-10T04:08:08.471193Z",
     "iopub.status.busy": "2022-11-10T04:08:08.470804Z",
     "iopub.status.idle": "2022-11-10T04:08:14.356985Z",
     "shell.execute_reply": "2022-11-10T04:08:14.356344Z",
     "shell.execute_reply.started": "2022-11-10T04:08:08.471169Z"
    }
   },
   "outputs": [],
   "source": [
    "with open('../input/targets-multiome-sparse-scaled/train_Citeseq_truncated_512.pkl','rb') as f: X = pickle.load(f)\n",
    "with open('../input/targets-multiome-sparse-scaled/test_Citeseq_truncated_512.pkl','rb') as f: Xt = pickle.load(f)\n",
    "\n",
    "Y = pd.read_hdf(FP_CITE_TRAIN_TARGETS)\n",
    "Y = Y.values\n",
    "\n",
    "X0 = np.genfromtxt('./sparse/X0.csv',delimiter=',')\n",
    "\n",
    "X = np.hstack((X[:,:75],X0))\n",
    "X.shape\n",
    "X_copy = X.copy()\n",
    "Y_copy = Y.copy()"
   ]
  },
  {
   "cell_type": "code",
   "execution_count": 58,
   "id": "f49c8fde-4254-49cc-a3a8-858b177ad093",
   "metadata": {
    "execution": {
     "iopub.execute_input": "2022-11-10T04:09:55.622464Z",
     "iopub.status.busy": "2022-11-10T04:09:55.622086Z",
     "iopub.status.idle": "2022-11-10T04:09:55.626408Z",
     "shell.execute_reply": "2022-11-10T04:09:55.625901Z",
     "shell.execute_reply.started": "2022-11-10T04:09:55.622441Z"
    }
   },
   "outputs": [
    {
     "data": {
      "text/plain": [
       "(70988, 159)"
      ]
     },
     "execution_count": 58,
     "metadata": {},
     "output_type": "execute_result"
    }
   ],
   "source": [
    "X.shape"
   ]
  },
  {
   "cell_type": "code",
   "execution_count": 62,
   "id": "084fcee3-d035-4487-a9c1-a3ea2f4ce5c6",
   "metadata": {
    "execution": {
     "iopub.execute_input": "2022-11-10T04:10:29.668532Z",
     "iopub.status.busy": "2022-11-10T04:10:29.668135Z",
     "iopub.status.idle": "2022-11-10T04:12:00.256138Z",
     "shell.execute_reply": "2022-11-10T04:12:00.255428Z",
     "shell.execute_reply.started": "2022-11-10T04:10:29.668508Z"
    },
    "tags": []
   },
   "outputs": [
    {
     "name": "stdout",
     "output_type": "stream",
     "text": [
      "39/39 [==============================] - 0s 1ms/step\n"
     ]
    },
    {
     "name": "stderr",
     "output_type": "stream",
     "text": [
      "/srv/conda/envs/saturn/lib/python3.9/site-packages/numpy/lib/function_base.py:2845: RuntimeWarning: Degrees of freedom <= 0 for slice\n",
      "  c = cov(x, y, rowvar, dtype=dtype)\n",
      "/srv/conda/envs/saturn/lib/python3.9/site-packages/numpy/lib/function_base.py:2704: RuntimeWarning: divide by zero encountered in divide\n",
      "  c *= np.true_divide(1, fact)\n",
      "/srv/conda/envs/saturn/lib/python3.9/site-packages/numpy/lib/function_base.py:2704: RuntimeWarning: invalid value encountered in multiply\n",
      "  c *= np.true_divide(1, fact)\n"
     ]
    },
    {
     "name": "stdout",
     "output_type": "stream",
     "text": [
      "\n",
      " --------- FOLD 0 -----------\n",
      "Mean squared error = 0.9300000071525574\n",
      "Correlation = nan\n",
      "39/39 [==============================] - 0s 2ms/step\n"
     ]
    },
    {
     "name": "stderr",
     "output_type": "stream",
     "text": [
      "/srv/conda/envs/saturn/lib/python3.9/site-packages/numpy/lib/function_base.py:2845: RuntimeWarning: Degrees of freedom <= 0 for slice\n",
      "  c = cov(x, y, rowvar, dtype=dtype)\n",
      "/srv/conda/envs/saturn/lib/python3.9/site-packages/numpy/lib/function_base.py:2704: RuntimeWarning: divide by zero encountered in divide\n",
      "  c *= np.true_divide(1, fact)\n",
      "/srv/conda/envs/saturn/lib/python3.9/site-packages/numpy/lib/function_base.py:2704: RuntimeWarning: invalid value encountered in multiply\n",
      "  c *= np.true_divide(1, fact)\n"
     ]
    },
    {
     "name": "stdout",
     "output_type": "stream",
     "text": [
      "\n",
      " --------- FOLD 1 -----------\n",
      "Mean squared error = 1.0199999809265137\n",
      "Correlation = nan\n",
      "39/39 [==============================] - 0s 2ms/step\n"
     ]
    },
    {
     "name": "stderr",
     "output_type": "stream",
     "text": [
      "/srv/conda/envs/saturn/lib/python3.9/site-packages/numpy/lib/function_base.py:2845: RuntimeWarning: Degrees of freedom <= 0 for slice\n",
      "  c = cov(x, y, rowvar, dtype=dtype)\n",
      "/srv/conda/envs/saturn/lib/python3.9/site-packages/numpy/lib/function_base.py:2704: RuntimeWarning: divide by zero encountered in divide\n",
      "  c *= np.true_divide(1, fact)\n",
      "/srv/conda/envs/saturn/lib/python3.9/site-packages/numpy/lib/function_base.py:2704: RuntimeWarning: invalid value encountered in multiply\n",
      "  c *= np.true_divide(1, fact)\n"
     ]
    },
    {
     "name": "stdout",
     "output_type": "stream",
     "text": [
      "\n",
      " --------- FOLD 2 -----------\n",
      "Mean squared error = 1.0700000524520874\n",
      "Correlation = nan\n",
      "39/39 [==============================] - 0s 2ms/step\n"
     ]
    },
    {
     "name": "stderr",
     "output_type": "stream",
     "text": [
      "/srv/conda/envs/saturn/lib/python3.9/site-packages/numpy/lib/function_base.py:2845: RuntimeWarning: Degrees of freedom <= 0 for slice\n",
      "  c = cov(x, y, rowvar, dtype=dtype)\n",
      "/srv/conda/envs/saturn/lib/python3.9/site-packages/numpy/lib/function_base.py:2704: RuntimeWarning: divide by zero encountered in divide\n",
      "  c *= np.true_divide(1, fact)\n",
      "/srv/conda/envs/saturn/lib/python3.9/site-packages/numpy/lib/function_base.py:2704: RuntimeWarning: invalid value encountered in multiply\n",
      "  c *= np.true_divide(1, fact)\n"
     ]
    },
    {
     "name": "stdout",
     "output_type": "stream",
     "text": [
      "\n",
      " --------- FOLD 3 -----------\n",
      "Mean squared error = 1.059999942779541\n",
      "Correlation = nan\n",
      "39/39 [==============================] - 0s 1ms/step\n"
     ]
    },
    {
     "name": "stderr",
     "output_type": "stream",
     "text": [
      "/srv/conda/envs/saturn/lib/python3.9/site-packages/numpy/lib/function_base.py:2845: RuntimeWarning: Degrees of freedom <= 0 for slice\n",
      "  c = cov(x, y, rowvar, dtype=dtype)\n",
      "/srv/conda/envs/saturn/lib/python3.9/site-packages/numpy/lib/function_base.py:2704: RuntimeWarning: divide by zero encountered in divide\n",
      "  c *= np.true_divide(1, fact)\n",
      "/srv/conda/envs/saturn/lib/python3.9/site-packages/numpy/lib/function_base.py:2704: RuntimeWarning: invalid value encountered in multiply\n",
      "  c *= np.true_divide(1, fact)\n"
     ]
    },
    {
     "name": "stdout",
     "output_type": "stream",
     "text": [
      "\n",
      " --------- FOLD 4 -----------\n",
      "Mean squared error = 1.0700000524520874\n",
      "Correlation = nan\n",
      "39/39 [==============================] - 0s 2ms/step\n"
     ]
    },
    {
     "name": "stderr",
     "output_type": "stream",
     "text": [
      "/srv/conda/envs/saturn/lib/python3.9/site-packages/numpy/lib/function_base.py:2845: RuntimeWarning: Degrees of freedom <= 0 for slice\n",
      "  c = cov(x, y, rowvar, dtype=dtype)\n",
      "/srv/conda/envs/saturn/lib/python3.9/site-packages/numpy/lib/function_base.py:2704: RuntimeWarning: divide by zero encountered in divide\n",
      "  c *= np.true_divide(1, fact)\n",
      "/srv/conda/envs/saturn/lib/python3.9/site-packages/numpy/lib/function_base.py:2704: RuntimeWarning: invalid value encountered in multiply\n",
      "  c *= np.true_divide(1, fact)\n"
     ]
    },
    {
     "name": "stdout",
     "output_type": "stream",
     "text": [
      "\n",
      " --------- FOLD 5 -----------\n",
      "Mean squared error = 1.0\n",
      "Correlation = nan\n",
      "\u001b[32m\u001b[1mMean corr = nan\u001b[0m\n"
     ]
    }
   ],
   "source": [
    "Y = Y_copy.copy()\n",
    "X = X_copy.copy()\n",
    "Y = Y[selector[(2,32606)]][:,0].reshape(-1,1)\n",
    "X = X[selector[(2,32606)]]\n",
    "#X = X[selector[(2,32606)]][:,all_corrs[0]]\n",
    "evaluate(i,j,'cite',loss='mse',save=False)"
   ]
  },
  {
   "cell_type": "code",
   "execution_count": 66,
   "id": "c381c7ea-620e-446a-828e-919697309093",
   "metadata": {
    "execution": {
     "iopub.execute_input": "2022-11-10T04:13:36.059201Z",
     "iopub.status.busy": "2022-11-10T04:13:36.058814Z",
     "iopub.status.idle": "2022-11-10T04:14:03.305460Z",
     "shell.execute_reply": "2022-11-10T04:14:03.304794Z",
     "shell.execute_reply.started": "2022-11-10T04:13:36.059176Z"
    },
    "tags": []
   },
   "outputs": [],
   "source": [
    "X_copy = pd.read_hdf(FP_CITE_TRAIN_INPUTS).drop(columns = constant_cols)\n",
    "Y_copy = pd.read_hdf(FP_CITE_TRAIN_TARGETS)\n",
    "X_copy = X_copy.values\n",
    "Y_copy = Y_copy.values\n",
    "all_corrs = np.load('./corrs/cite_all_corrs.npy')"
   ]
  },
  {
   "cell_type": "code",
   "execution_count": 67,
   "id": "0366314b-739c-4b55-8bb9-bdfd0e364d2e",
   "metadata": {
    "execution": {
     "iopub.execute_input": "2022-11-10T04:14:03.306846Z",
     "iopub.status.busy": "2022-11-10T04:14:03.306553Z",
     "iopub.status.idle": "2022-11-10T04:15:16.466070Z",
     "shell.execute_reply": "2022-11-10T04:15:16.465462Z",
     "shell.execute_reply.started": "2022-11-10T04:14:03.306826Z"
    },
    "tags": []
   },
   "outputs": [
    {
     "name": "stdout",
     "output_type": "stream",
     "text": [
      "39/39 [==============================] - 0s 2ms/step\n"
     ]
    },
    {
     "name": "stderr",
     "output_type": "stream",
     "text": [
      "/srv/conda/envs/saturn/lib/python3.9/site-packages/numpy/lib/function_base.py:2845: RuntimeWarning: Degrees of freedom <= 0 for slice\n",
      "  c = cov(x, y, rowvar, dtype=dtype)\n",
      "/srv/conda/envs/saturn/lib/python3.9/site-packages/numpy/lib/function_base.py:2704: RuntimeWarning: divide by zero encountered in divide\n",
      "  c *= np.true_divide(1, fact)\n",
      "/srv/conda/envs/saturn/lib/python3.9/site-packages/numpy/lib/function_base.py:2704: RuntimeWarning: invalid value encountered in multiply\n",
      "  c *= np.true_divide(1, fact)\n"
     ]
    },
    {
     "name": "stdout",
     "output_type": "stream",
     "text": [
      "\n",
      " --------- FOLD 0 -----------\n",
      "Mean squared error = 0.9300000071525574\n",
      "Correlation = nan\n",
      "39/39 [==============================] - 0s 2ms/step\n"
     ]
    },
    {
     "name": "stderr",
     "output_type": "stream",
     "text": [
      "/srv/conda/envs/saturn/lib/python3.9/site-packages/numpy/lib/function_base.py:2845: RuntimeWarning: Degrees of freedom <= 0 for slice\n",
      "  c = cov(x, y, rowvar, dtype=dtype)\n",
      "/srv/conda/envs/saturn/lib/python3.9/site-packages/numpy/lib/function_base.py:2704: RuntimeWarning: divide by zero encountered in divide\n",
      "  c *= np.true_divide(1, fact)\n",
      "/srv/conda/envs/saturn/lib/python3.9/site-packages/numpy/lib/function_base.py:2704: RuntimeWarning: invalid value encountered in multiply\n",
      "  c *= np.true_divide(1, fact)\n"
     ]
    },
    {
     "name": "stdout",
     "output_type": "stream",
     "text": [
      "\n",
      " --------- FOLD 1 -----------\n",
      "Mean squared error = 0.9300000071525574\n",
      "Correlation = nan\n",
      "39/39 [==============================] - 0s 2ms/step\n"
     ]
    },
    {
     "name": "stderr",
     "output_type": "stream",
     "text": [
      "/srv/conda/envs/saturn/lib/python3.9/site-packages/numpy/lib/function_base.py:2845: RuntimeWarning: Degrees of freedom <= 0 for slice\n",
      "  c = cov(x, y, rowvar, dtype=dtype)\n",
      "/srv/conda/envs/saturn/lib/python3.9/site-packages/numpy/lib/function_base.py:2704: RuntimeWarning: divide by zero encountered in divide\n",
      "  c *= np.true_divide(1, fact)\n",
      "/srv/conda/envs/saturn/lib/python3.9/site-packages/numpy/lib/function_base.py:2704: RuntimeWarning: invalid value encountered in multiply\n",
      "  c *= np.true_divide(1, fact)\n"
     ]
    },
    {
     "name": "stdout",
     "output_type": "stream",
     "text": [
      "\n",
      " --------- FOLD 2 -----------\n",
      "Mean squared error = 1.0399999618530273\n",
      "Correlation = nan\n",
      "39/39 [==============================] - 0s 2ms/step\n"
     ]
    },
    {
     "name": "stderr",
     "output_type": "stream",
     "text": [
      "/srv/conda/envs/saturn/lib/python3.9/site-packages/numpy/lib/function_base.py:2845: RuntimeWarning: Degrees of freedom <= 0 for slice\n",
      "  c = cov(x, y, rowvar, dtype=dtype)\n",
      "/srv/conda/envs/saturn/lib/python3.9/site-packages/numpy/lib/function_base.py:2704: RuntimeWarning: divide by zero encountered in divide\n",
      "  c *= np.true_divide(1, fact)\n",
      "/srv/conda/envs/saturn/lib/python3.9/site-packages/numpy/lib/function_base.py:2704: RuntimeWarning: invalid value encountered in multiply\n",
      "  c *= np.true_divide(1, fact)\n"
     ]
    },
    {
     "name": "stdout",
     "output_type": "stream",
     "text": [
      "\n",
      " --------- FOLD 3 -----------\n",
      "Mean squared error = 1.0199999809265137\n",
      "Correlation = nan\n",
      "39/39 [==============================] - 0s 2ms/step\n"
     ]
    },
    {
     "name": "stderr",
     "output_type": "stream",
     "text": [
      "/srv/conda/envs/saturn/lib/python3.9/site-packages/numpy/lib/function_base.py:2845: RuntimeWarning: Degrees of freedom <= 0 for slice\n",
      "  c = cov(x, y, rowvar, dtype=dtype)\n",
      "/srv/conda/envs/saturn/lib/python3.9/site-packages/numpy/lib/function_base.py:2704: RuntimeWarning: divide by zero encountered in divide\n",
      "  c *= np.true_divide(1, fact)\n",
      "/srv/conda/envs/saturn/lib/python3.9/site-packages/numpy/lib/function_base.py:2704: RuntimeWarning: invalid value encountered in multiply\n",
      "  c *= np.true_divide(1, fact)\n"
     ]
    },
    {
     "name": "stdout",
     "output_type": "stream",
     "text": [
      "\n",
      " --------- FOLD 4 -----------\n",
      "Mean squared error = 1.0199999809265137\n",
      "Correlation = nan\n",
      "39/39 [==============================] - 0s 2ms/step\n"
     ]
    },
    {
     "name": "stderr",
     "output_type": "stream",
     "text": [
      "/srv/conda/envs/saturn/lib/python3.9/site-packages/numpy/lib/function_base.py:2845: RuntimeWarning: Degrees of freedom <= 0 for slice\n",
      "  c = cov(x, y, rowvar, dtype=dtype)\n",
      "/srv/conda/envs/saturn/lib/python3.9/site-packages/numpy/lib/function_base.py:2704: RuntimeWarning: divide by zero encountered in divide\n",
      "  c *= np.true_divide(1, fact)\n",
      "/srv/conda/envs/saturn/lib/python3.9/site-packages/numpy/lib/function_base.py:2704: RuntimeWarning: invalid value encountered in multiply\n",
      "  c *= np.true_divide(1, fact)\n"
     ]
    },
    {
     "name": "stdout",
     "output_type": "stream",
     "text": [
      "\n",
      " --------- FOLD 5 -----------\n",
      "Mean squared error = 0.9800000190734863\n",
      "Correlation = nan\n",
      "\u001b[32m\u001b[1mMean corr = nan\u001b[0m\n"
     ]
    }
   ],
   "source": [
    "Y = Y_copy.copy()\n",
    "X = X_copy.copy()\n",
    "Y = Y[selector[(2,32606)]][:,0].reshape(-1,1)\n",
    "X = X[selector[(2,32606)]][:,all_corrs[0]]\n",
    "evaluate(i,j,'cite',loss='mse',save=False)"
   ]
  },
  {
   "cell_type": "code",
   "execution_count": 34,
   "id": "e800711d-9437-4a7b-b1b7-ba688488ba75",
   "metadata": {
    "execution": {
     "iopub.execute_input": "2022-11-10T18:19:44.681777Z",
     "iopub.status.busy": "2022-11-10T18:19:44.681381Z",
     "iopub.status.idle": "2022-11-10T18:23:26.985157Z",
     "shell.execute_reply": "2022-11-10T18:23:26.984489Z",
     "shell.execute_reply.started": "2022-11-10T18:19:44.681753Z"
    },
    "tags": []
   },
   "outputs": [
    {
     "name": "stdout",
     "output_type": "stream",
     "text": [
      "38/38 [==============================] - 0s 2ms/step\n",
      "\n",
      " --------- FOLD 0 -----------\n",
      "Mean squared error = 6.300000190734863\n",
      "Correlation = 0.69315\n",
      "PCA Correlation = 0.98220\n",
      "38/38 [==============================] - 0s 2ms/step\n",
      "\n",
      " --------- FOLD 1 -----------\n",
      "Mean squared error = 6.610000133514404\n",
      "Correlation = 0.68937\n",
      "PCA Correlation = 0.98117\n",
      "38/38 [==============================] - 0s 2ms/step\n",
      "\n",
      " --------- FOLD 2 -----------\n",
      "Mean squared error = 6.539999961853027\n",
      "Correlation = 0.69011\n",
      "PCA Correlation = 0.98140\n",
      "38/38 [==============================] - 0s 2ms/step\n",
      "\n",
      " --------- FOLD 3 -----------\n",
      "Mean squared error = 6.539999961853027\n",
      "Correlation = 0.68965\n",
      "PCA Correlation = 0.98146\n",
      "38/38 [==============================] - 0s 2ms/step\n",
      "\n",
      " --------- FOLD 4 -----------\n",
      "Mean squared error = 6.53000020980835\n",
      "Correlation = 0.68774\n",
      "PCA Correlation = 0.98135\n",
      "38/38 [==============================] - 0s 2ms/step\n",
      "\n",
      " --------- FOLD 5 -----------\n",
      "Mean squared error = 6.630000114440918\n",
      "Correlation = 0.68867\n",
      "PCA Correlation = 0.98107\n",
      "\u001b[32m\u001b[1mMean corr = 0.68978\u001b[0m\n"
     ]
    }
   ],
   "source": [
    "targets_copy = scipy.sparse.load_npz(\"./sparse/train_multi_targets_values.sparse.npz\")\n",
    "targets_copy = scprep.filter.remove_empty_genes(targets_copy)\n",
    "inputs_both_128 = np.load(\"./multi_pca/inputs_both_128.npy\")\n",
    "X_copy = inputs_both_128[:targets_copy.shape[0],:40]\n",
    "i = 2\n",
    "j = 32606\n",
    "targets = targets_copy.copy()\n",
    "X = X_copy.copy()\n",
    "targets = targets[selector[(i,j)]]\n",
    "# Normalize the targets row-wise: This doesn't change the correlations,\n",
    "# and negative_correlation_loss depends on it\n",
    "targets -= targets.mean(axis=1).reshape(-1, 1)\n",
    "targets /= targets.std(axis=1).reshape(-1, 1)\n",
    "targets = np.array(targets)\n",
    "svd = TruncatedSVD(n_components = 512,random_state = 1)\n",
    "Y = svd.fit_transform(targets)[:,:64]\n",
    "X = X_copy[selector[(i,j)]]\n",
    "models = evaluate(i,j,'multi',save=False,loss='mse')"
   ]
  },
  {
   "cell_type": "code",
   "execution_count": 58,
   "id": "05c666fc-374d-4603-9881-f3ca3cedbb11",
   "metadata": {
    "execution": {
     "iopub.execute_input": "2022-11-10T18:28:52.379897Z",
     "iopub.status.busy": "2022-11-10T18:28:52.379484Z",
     "iopub.status.idle": "2022-11-10T18:28:53.074933Z",
     "shell.execute_reply": "2022-11-10T18:28:53.073746Z",
     "shell.execute_reply.started": "2022-11-10T18:28:52.379872Z"
    }
   },
   "outputs": [
    {
     "name": "stdout",
     "output_type": "stream",
     "text": [
      "222/222 [==============================] - 0s 2ms/step\n"
     ]
    }
   ],
   "source": [
    "abc = models[0].predict(X_copy[selector[(2,31800)]])@svd.components_[:64]"
   ]
  },
  {
   "cell_type": "code",
   "execution_count": 59,
   "id": "a2724f49-17d2-477f-bec2-4330c325d80a",
   "metadata": {
    "execution": {
     "iopub.execute_input": "2022-11-10T18:28:56.808158Z",
     "iopub.status.busy": "2022-11-10T18:28:56.807760Z",
     "iopub.status.idle": "2022-11-10T18:28:56.812409Z",
     "shell.execute_reply": "2022-11-10T18:28:56.811816Z",
     "shell.execute_reply.started": "2022-11-10T18:28:56.808134Z"
    }
   },
   "outputs": [
    {
     "data": {
      "text/plain": [
       "(7089, 22858)"
      ]
     },
     "execution_count": 59,
     "metadata": {},
     "output_type": "execute_result"
    }
   ],
   "source": [
    "abc.shape"
   ]
  },
  {
   "cell_type": "code",
   "execution_count": 60,
   "id": "7be26ddf-71da-4aa1-a82c-ec10ac9b2d85",
   "metadata": {
    "execution": {
     "iopub.execute_input": "2022-11-10T18:29:07.473789Z",
     "iopub.status.busy": "2022-11-10T18:29:07.473393Z",
     "iopub.status.idle": "2022-11-10T18:29:07.546373Z",
     "shell.execute_reply": "2022-11-10T18:29:07.545793Z",
     "shell.execute_reply.started": "2022-11-10T18:29:07.473764Z"
    }
   },
   "outputs": [
    {
     "data": {
      "text/plain": [
       "(7089, 22858)"
      ]
     },
     "execution_count": 60,
     "metadata": {},
     "output_type": "execute_result"
    }
   ],
   "source": [
    "targets_copy[selector[(2,31800)]].shape"
   ]
  },
  {
   "cell_type": "code",
   "execution_count": 64,
   "id": "bf7106ae-9541-4e7b-9036-c5684b6f550f",
   "metadata": {
    "execution": {
     "iopub.execute_input": "2022-11-10T18:30:39.460619Z",
     "iopub.status.busy": "2022-11-10T18:30:39.460214Z",
     "iopub.status.idle": "2022-11-10T18:30:59.307271Z",
     "shell.execute_reply": "2022-11-10T18:30:59.306615Z",
     "shell.execute_reply.started": "2022-11-10T18:30:39.460593Z"
    },
    "tags": []
   },
   "outputs": [
    {
     "name": "stdout",
     "output_type": "stream",
     "text": [
      "222/222 [==============================] - 0s 2ms/step\n",
      "0.6809086071575897\n",
      "222/222 [==============================] - 0s 2ms/step\n",
      "0.6808381362086735\n",
      "222/222 [==============================] - 0s 2ms/step\n",
      "0.6808579282752907\n",
      "222/222 [==============================] - 0s 2ms/step\n",
      "0.6808990728111387\n",
      "222/222 [==============================] - 0s 2ms/step\n",
      "0.6808973435077142\n",
      "222/222 [==============================] - 0s 2ms/step\n",
      "0.6807720542643249\n"
     ]
    }
   ],
   "source": [
    "for i in range(6):\n",
    "    print(correlation_score(targets_copy[selector[(2,31800)]].toarray(),models[i].predict(X_copy[selector[(2,31800)]])@svd.components_[:64]))"
   ]
  },
  {
   "cell_type": "code",
   "execution_count": 66,
   "id": "1042560f-52a1-4c83-b046-d617def0cc1d",
   "metadata": {
    "execution": {
     "iopub.execute_input": "2022-11-10T19:53:05.290939Z",
     "iopub.status.busy": "2022-11-10T19:53:05.290547Z",
     "iopub.status.idle": "2022-11-10T19:53:12.128732Z",
     "shell.execute_reply": "2022-11-10T19:53:12.128054Z",
     "shell.execute_reply.started": "2022-11-10T19:53:05.290915Z"
    }
   },
   "outputs": [],
   "source": [
    "with open('../input/targets-multiome-sparse-scaled/train_Citeseq_truncated_512.pkl','rb') as f: X = pickle.load(f)\n",
    "with open('../input/targets-multiome-sparse-scaled/test_Citeseq_truncated_512.pkl','rb') as f: Xt = pickle.load(f)\n",
    "\n",
    "X.shape, Xt.shape\n",
    "\n",
    "Y = pd.read_hdf(FP_CITE_TRAIN_TARGETS)\n",
    "#Y = Y.loc[meta.day == 3]\n",
    "Y = Y.values\n",
    "Y -= Y.mean(axis=1).reshape(-1, 1)\n",
    "Y /= Y.std(axis=1).reshape(-1, 1)\n",
    "Y.shape\n",
    "\n",
    "X0 = np.genfromtxt('./sparse/X0.csv',delimiter=',')\n",
    "\n",
    "X = np.hstack((X[:,:75],X0))\n",
    "X.shape\n",
    "X_copy = X.copy()\n",
    "Y_copy = Y.copy()"
   ]
  },
  {
   "cell_type": "code",
   "execution_count": 71,
   "id": "cdc4fbb3-08bf-4522-bcd8-4f92807eadb5",
   "metadata": {
    "execution": {
     "iopub.execute_input": "2022-11-10T19:55:16.268099Z",
     "iopub.status.busy": "2022-11-10T19:55:16.267690Z",
     "iopub.status.idle": "2022-11-10T19:57:19.700662Z",
     "shell.execute_reply": "2022-11-10T19:57:19.699980Z",
     "shell.execute_reply.started": "2022-11-10T19:55:16.268074Z"
    }
   },
   "outputs": [
    {
     "name": "stdout",
     "output_type": "stream",
     "text": [
      "39/39 [==============================] - 0s 2ms/step\n",
      "\n",
      " --------- FOLD 0 -----------\n",
      "Mean squared error = 649.8499755859375\n",
      "Correlation = 0.89589\n",
      "39/39 [==============================] - 0s 2ms/step\n",
      "\n",
      " --------- FOLD 1 -----------\n",
      "Mean squared error = 672.9199829101562\n",
      "Correlation = 0.89695\n",
      "39/39 [==============================] - 0s 2ms/step\n",
      "\n",
      " --------- FOLD 2 -----------\n",
      "Mean squared error = 456.20001220703125\n",
      "Correlation = 0.89766\n",
      "39/39 [==============================] - 0s 2ms/step\n",
      "\n",
      " --------- FOLD 3 -----------\n",
      "Mean squared error = 510.739990234375\n",
      "Correlation = 0.89756\n",
      "39/39 [==============================] - 0s 2ms/step\n",
      "\n",
      " --------- FOLD 4 -----------\n",
      "Mean squared error = 542.0399780273438\n",
      "Correlation = 0.89958\n",
      "39/39 [==============================] - 0s 2ms/step\n",
      "\n",
      " --------- FOLD 5 -----------\n",
      "Mean squared error = 691.530029296875\n",
      "Correlation = 0.89824\n",
      "\u001b[32m\u001b[1mMean corr = 0.89765\u001b[0m\n"
     ]
    }
   ],
   "source": [
    "i = 2\n",
    "j = 32606\n",
    "Y = Y_copy.copy()\n",
    "X = X_copy.copy()\n",
    "Y = Y[selector[(i,j)]]\n",
    "X = X[selector[(i,j)]]\n",
    "models = evaluate(i,j,'cite',save=False)"
   ]
  },
  {
   "cell_type": "code",
   "execution_count": 72,
   "id": "02e9b1fc-7059-4f20-993b-e5be374e8086",
   "metadata": {
    "execution": {
     "iopub.execute_input": "2022-11-10T19:57:39.013288Z",
     "iopub.status.busy": "2022-11-10T19:57:39.012900Z",
     "iopub.status.idle": "2022-11-10T19:57:46.608065Z",
     "shell.execute_reply": "2022-11-10T19:57:46.607423Z",
     "shell.execute_reply.started": "2022-11-10T19:57:39.013262Z"
    }
   },
   "outputs": [
    {
     "name": "stdout",
     "output_type": "stream",
     "text": [
      "263/263 [==============================] - 0s 2ms/step\n",
      "0.8946198536153431\n",
      "263/263 [==============================] - 0s 2ms/step\n",
      "0.8943206504407404\n",
      "263/263 [==============================] - 0s 2ms/step\n",
      "0.8942160977170116\n",
      "263/263 [==============================] - 0s 2ms/step\n",
      "0.8930096865052096\n",
      "263/263 [==============================] - 0s 2ms/step\n",
      "0.8950609237596935\n",
      "263/263 [==============================] - 0s 2ms/step\n",
      "0.8952847109098423\n"
     ]
    }
   ],
   "source": [
    "for i in range(6):\n",
    "    print(correlation_score(Y_copy[selector[(2,31800)]],models[i].predict(X_copy[selector[(2,31800)]])))"
   ]
  },
  {
   "cell_type": "code",
   "execution_count": 74,
   "id": "cb9d6cea-b637-44d9-9261-97dd87bebc16",
   "metadata": {
    "execution": {
     "iopub.execute_input": "2022-11-10T20:09:27.928607Z",
     "iopub.status.busy": "2022-11-10T20:09:27.928176Z",
     "iopub.status.idle": "2022-11-10T20:12:59.585085Z",
     "shell.execute_reply": "2022-11-10T20:12:59.584428Z",
     "shell.execute_reply.started": "2022-11-10T20:09:27.928568Z"
    },
    "tags": []
   },
   "outputs": [
    {
     "name": "stdout",
     "output_type": "stream",
     "text": [
      "71/71 [==============================] - 0s 2ms/step\n",
      "\n",
      " --------- FOLD 0 -----------\n",
      "Mean squared error = 610.2899780273438\n",
      "Correlation = 0.89685\n",
      "71/71 [==============================] - 0s 2ms/step\n",
      "\n",
      " --------- FOLD 1 -----------\n",
      "Mean squared error = 705.1699829101562\n",
      "Correlation = 0.89779\n",
      "71/71 [==============================] - 0s 2ms/step\n",
      "\n",
      " --------- FOLD 2 -----------\n",
      "Mean squared error = 449.70001220703125\n",
      "Correlation = 0.90070\n",
      "71/71 [==============================] - 0s 2ms/step\n",
      "\n",
      " --------- FOLD 3 -----------\n",
      "Mean squared error = 655.3400268554688\n",
      "Correlation = 0.90347\n",
      "71/71 [==============================] - 0s 2ms/step\n",
      "\n",
      " --------- FOLD 4 -----------\n",
      "Mean squared error = 523.1799926757812\n",
      "Correlation = 0.90555\n",
      "71/71 [==============================] - 0s 2ms/step\n",
      "\n",
      " --------- FOLD 5 -----------\n",
      "Mean squared error = 635.5399780273438\n",
      "Correlation = 0.90801\n",
      "\u001b[32m\u001b[1mMean corr = 0.90206\u001b[0m\n"
     ]
    }
   ],
   "source": [
    "Y = Y_copy.copy()\n",
    "X = X_copy.copy()\n",
    "Y = Y[selector[(2,32606)]]\n",
    "X = X[selector[(2,32606)]]\n",
    "Y2 = Y_copy.copy()\n",
    "X2 = X_copy.copy()\n",
    "Y2 = Y2[selector[(2,13176)]]\n",
    "X2 = X2[selector[(2,13176)]]\n",
    "Y = np.vstack([Y,Y2])\n",
    "X = np.vstack([X,X2])\n",
    "models = evaluate(i,j,'cite',save=False)"
   ]
  },
  {
   "cell_type": "code",
   "execution_count": 75,
   "id": "a7c3f96d-52b0-4866-8223-254629719ad3",
   "metadata": {
    "execution": {
     "iopub.execute_input": "2022-11-10T20:14:21.922823Z",
     "iopub.status.busy": "2022-11-10T20:14:21.922427Z",
     "iopub.status.idle": "2022-11-10T20:14:29.684168Z",
     "shell.execute_reply": "2022-11-10T20:14:29.683507Z",
     "shell.execute_reply.started": "2022-11-10T20:14:21.922799Z"
    }
   },
   "outputs": [
    {
     "name": "stdout",
     "output_type": "stream",
     "text": [
      "263/263 [==============================] - 0s 2ms/step\n",
      "0.8981390326613323\n",
      "263/263 [==============================] - 0s 2ms/step\n",
      "0.8961839729423269\n",
      "263/263 [==============================] - 0s 2ms/step\n",
      "0.8988601492931795\n",
      "263/263 [==============================] - 0s 2ms/step\n",
      "0.8968793980664296\n",
      "263/263 [==============================] - 0s 2ms/step\n",
      "0.8929889259880025\n",
      "263/263 [==============================] - 1s 2ms/step\n",
      "0.8943401738657514\n"
     ]
    }
   ],
   "source": [
    "for i in range(6):\n",
    "    print(correlation_score(Y_copy[selector[(2,31800)]],models[i].predict(X_copy[selector[(2,31800)]])))"
   ]
  },
  {
   "cell_type": "code",
   "execution_count": 7,
   "id": "43c4f821-b442-4597-80f6-4efaaa2a997c",
   "metadata": {
    "execution": {
     "iopub.execute_input": "2022-11-15T17:43:51.643357Z",
     "iopub.status.busy": "2022-11-15T17:43:51.642964Z",
     "iopub.status.idle": "2022-11-15T17:43:51.983855Z",
     "shell.execute_reply": "2022-11-15T17:43:51.983253Z",
     "shell.execute_reply.started": "2022-11-15T17:43:51.643332Z"
    },
    "tags": []
   },
   "outputs": [],
   "source": [
    "with np.load('./sparse/train_cite_inputs_idxcol.npz',allow_pickle=True) as data:\n",
    "    cell_index = data['index']\n",
    "with np.load('./sparse/test_cite_inputs_idxcol.npz',allow_pickle=True) as data:\n",
    "    cell_index_t = data['index']\n",
    "metadata_df = pd.read_csv('../input/open-problems-multimodal/metadata.csv', index_col='cell_id')\n",
    "metadata_df = metadata_df[metadata_df.technology==\"citeseq\"]\n",
    "meta = metadata_df.reindex(cell_index)\n",
    "meta['range'] = range(len(meta))\n",
    "selector = {}\n",
    "for i in (2,3,4):\n",
    "    for j in (32606,13176,31800):\n",
    "        selector[(i,j)] = meta.loc[(meta.day == i)&(meta.donor == j)].range.values"
   ]
  },
  {
   "cell_type": "code",
   "execution_count": 18,
   "id": "7d8d8163-d9cd-4249-b631-770f690bd067",
   "metadata": {
    "execution": {
     "iopub.execute_input": "2022-11-15T17:50:51.834867Z",
     "iopub.status.busy": "2022-11-15T17:50:51.834562Z",
     "iopub.status.idle": "2022-11-15T17:51:19.767850Z",
     "shell.execute_reply": "2022-11-15T17:51:19.767219Z",
     "shell.execute_reply.started": "2022-11-15T17:50:51.834846Z"
    },
    "tags": []
   },
   "outputs": [],
   "source": [
    "X_copy = pd.read_hdf(FP_CITE_TRAIN_INPUTS).drop(columns = constant_cols)\n",
    "all_corrs = np.load('./corrs/cite_all_corrs.npy')\n",
    "X_copy = X_copy.values"
   ]
  },
  {
   "cell_type": "code",
   "execution_count": 12,
   "id": "b9e26878-90e0-4f52-89de-726cf13aa10c",
   "metadata": {
    "execution": {
     "iopub.execute_input": "2022-11-15T17:46:03.429557Z",
     "iopub.status.busy": "2022-11-15T17:46:03.429164Z",
     "iopub.status.idle": "2022-11-15T17:46:14.639901Z",
     "shell.execute_reply": "2022-11-15T17:46:14.639275Z",
     "shell.execute_reply.started": "2022-11-15T17:46:03.429531Z"
    }
   },
   "outputs": [
    {
     "name": "stderr",
     "output_type": "stream",
     "text": [
      "2022-11-15 17:46:03.544587: I tensorflow/stream_executor/cuda/cuda_gpu_executor.cc:980] successful NUMA node read from SysFS had negative value (-1), but there must be at least one NUMA node, so returning NUMA node zero\n",
      "2022-11-15 17:46:03.552436: W tensorflow/stream_executor/platform/default/dso_loader.cc:64] Could not load dynamic library 'libcudnn.so.8'; dlerror: libcudnn.so.8: cannot open shared object file: No such file or directory; LD_LIBRARY_PATH: /usr/local/nvidia/lib:/usr/local/nvidia/lib64\n",
      "2022-11-15 17:46:03.552461: W tensorflow/core/common_runtime/gpu/gpu_device.cc:1934] Cannot dlopen some GPU libraries. Please make sure the missing libraries mentioned above are installed properly if you would like to use GPU. Follow the guide at https://www.tensorflow.org/install/gpu for how to download and setup the required libraries for your platform.\n",
      "Skipping registering GPU devices...\n",
      "2022-11-15 17:46:03.552902: I tensorflow/core/platform/cpu_feature_guard.cc:193] This TensorFlow binary is optimized with oneAPI Deep Neural Network Library (oneDNN) to use the following CPU instructions in performance-critical operations:  AVX2 AVX512F AVX512_VNNI FMA\n",
      "To enable them in other operations, rebuild TensorFlow with the appropriate compiler flags.\n"
     ]
    },
    {
     "name": "stdout",
     "output_type": "stream",
     "text": [
      "318/318 [==============================] - 1s 2ms/step\n",
      "318/318 [==============================] - 1s 2ms/step\n",
      "318/318 [==============================] - 1s 2ms/step\n",
      "318/318 [==============================] - 1s 2ms/step\n",
      "318/318 [==============================] - 1s 2ms/step\n",
      "318/318 [==============================] - 1s 2ms/step\n",
      "0.864143022889884\n"
     ]
    }
   ],
   "source": [
    "preds_800 = np.zeros((len(X_test),140))\n",
    "for i in range(6):\n",
    "    model = load_model(f\"./cite_model_saves/model_800_2_32606_{i}\",\n",
    "            custom_objects={'negative_correlation_loss': negative_correlation_loss})\n",
    "    preds_800+=model.predict(X_test)/6\n",
    "print(correlation_score(Y_copy[selector[(2,31800)]],preds))"
   ]
  },
  {
   "cell_type": "code",
   "execution_count": null,
   "id": "2027a07e-4aab-4bc6-8a10-d2f620599a9a",
   "metadata": {},
   "outputs": [],
   "source": [
    "Y_copy[selector[(4,31800)]].shape"
   ]
  },
  {
   "cell_type": "code",
   "execution_count": 27,
   "id": "deced326-3453-4bed-ad0e-c6725be7872a",
   "metadata": {
    "execution": {
     "iopub.execute_input": "2022-11-15T17:57:10.666756Z",
     "iopub.status.busy": "2022-11-15T17:57:10.666371Z",
     "iopub.status.idle": "2022-11-15T17:57:19.381561Z",
     "shell.execute_reply": "2022-11-15T17:57:19.380954Z",
     "shell.execute_reply.started": "2022-11-15T17:57:10.666732Z"
    },
    "tags": []
   },
   "outputs": [
    {
     "name": "stdout",
     "output_type": "stream",
     "text": [
      "318/318 [==============================] - 1s 2ms/step\n",
      "318/318 [==============================] - 1s 2ms/step\n",
      "318/318 [==============================] - 1s 2ms/step\n",
      "318/318 [==============================] - 1s 2ms/step\n",
      "318/318 [==============================] - 1s 2ms/step\n",
      "318/318 [==============================] - 1s 2ms/step\n",
      "0.8712104148669244\n"
     ]
    }
   ],
   "source": [
    "X_test = X_copy[selector[(4,31800)]]\n",
    "preds_PCA = np.zeros((len(X_test),140))\n",
    "for i in range(6):\n",
    "    model = load_model(f\"./cite_model_saves/model_4_32606_{i}\",\n",
    "            custom_objects={'negative_correlation_loss': negative_correlation_loss})\n",
    "    preds_PCA+=model.predict(X_test)/6\n",
    "print(correlation_score(Y_copy[selector[(4,31800)]],preds_PCA))"
   ]
  },
  {
   "cell_type": "code",
   "execution_count": 28,
   "id": "ce3aeaa5-b0f3-47e9-895c-6099772ca0a4",
   "metadata": {
    "execution": {
     "iopub.execute_input": "2022-11-15T17:57:21.646141Z",
     "iopub.status.busy": "2022-11-15T17:57:21.645756Z",
     "iopub.status.idle": "2022-11-15T17:57:29.788808Z",
     "shell.execute_reply": "2022-11-15T17:57:29.788163Z",
     "shell.execute_reply.started": "2022-11-15T17:57:21.646116Z"
    },
    "tags": []
   },
   "outputs": [
    {
     "name": "stdout",
     "output_type": "stream",
     "text": [
      "263/263 [==============================] - 1s 2ms/step\n",
      "263/263 [==============================] - 1s 2ms/step\n",
      "263/263 [==============================] - 1s 2ms/step\n",
      "263/263 [==============================] - 1s 2ms/step\n",
      "263/263 [==============================] - 1s 2ms/step\n",
      "263/263 [==============================] - 1s 2ms/step\n",
      "0.8943475781025629\n"
     ]
    }
   ],
   "source": [
    "X_test = X_copy[selector[(2,31800)]]\n",
    "preds_PCA = np.zeros((len(X_test),140))\n",
    "for i in range(6):\n",
    "    model = load_model(f\"./cite_model_saves/model_2_32606_{i}\",\n",
    "            custom_objects={'negative_correlation_loss': negative_correlation_loss})\n",
    "    preds_PCA+=model.predict(X_test)/6\n",
    "print(correlation_score(Y_copy[selector[(2,31800)]],preds_PCA))"
   ]
  },
  {
   "cell_type": "code",
   "execution_count": null,
   "id": "8be652d9-6d85-4692-b694-87654b33b371",
   "metadata": {},
   "outputs": [],
   "source": []
  }
 ],
 "metadata": {
  "kernelspec": {
   "display_name": "saturn (Python 3)",
   "language": "python",
   "name": "python3"
  },
  "language_info": {
   "codemirror_mode": {
    "name": "ipython",
    "version": 3
   },
   "file_extension": ".py",
   "mimetype": "text/x-python",
   "name": "python",
   "nbconvert_exporter": "python",
   "pygments_lexer": "ipython3",
   "version": "3.9.13"
  }
 },
 "nbformat": 4,
 "nbformat_minor": 5
}
