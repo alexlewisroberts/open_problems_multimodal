{
 "cells": [
  {
   "cell_type": "code",
   "execution_count": 2,
   "id": "b4971064-5dec-4215-8351-b9c195d5a161",
   "metadata": {
    "execution": {
     "iopub.execute_input": "2022-11-02T23:34:30.025672Z",
     "iopub.status.busy": "2022-11-02T23:34:30.025235Z",
     "iopub.status.idle": "2022-11-02T23:34:48.857748Z",
     "shell.execute_reply": "2022-11-02T23:34:48.857129Z",
     "shell.execute_reply.started": "2022-11-02T23:34:30.025649Z"
    },
    "tags": []
   },
   "outputs": [
    {
     "name": "stdout",
     "output_type": "stream",
     "text": [
      "Collecting pytorch_lightning\n",
      "  Downloading pytorch_lightning-1.8.0.post1-py3-none-any.whl (796 kB)\n",
      "\u001b[2K     \u001b[90m━━━━━━━━━━━━━━━━━━━━━━━━━━━━━━━━━━━━━━\u001b[0m \u001b[32m796.1/796.1 kB\u001b[0m \u001b[31m12.0 MB/s\u001b[0m eta \u001b[36m0:00:00\u001b[0ma \u001b[36m0:00:01\u001b[0m\n",
      "\u001b[?25hRequirement already satisfied: torch>=1.9.* in /opt/saturncloud/envs/saturn/lib/python3.9/site-packages (from pytorch_lightning) (1.11.0)\n",
      "Requirement already satisfied: tqdm>=4.57.0 in /opt/saturncloud/envs/saturn/lib/python3.9/site-packages (from pytorch_lightning) (4.64.0)\n",
      "Requirement already satisfied: PyYAML>=5.4 in /opt/saturncloud/envs/saturn/lib/python3.9/site-packages (from pytorch_lightning) (6.0)\n",
      "Requirement already satisfied: packaging>=17.0 in /opt/saturncloud/envs/saturn/lib/python3.9/site-packages (from pytorch_lightning) (21.3)\n",
      "Requirement already satisfied: numpy>=1.17.2 in /opt/saturncloud/envs/saturn/lib/python3.9/site-packages (from pytorch_lightning) (1.23.4)\n",
      "Collecting lightning-lite==1.8.0.post1\n",
      "  Downloading lightning_lite-1.8.0.post1-py3-none-any.whl (136 kB)\n",
      "\u001b[2K     \u001b[90m━━━━━━━━━━━━━━━━━━━━━━━━━━━━━━━━━━━━━━\u001b[0m \u001b[32m136.4/136.4 kB\u001b[0m \u001b[31m27.7 MB/s\u001b[0m eta \u001b[36m0:00:00\u001b[0m\n",
      "\u001b[?25hRequirement already satisfied: tensorboard>=2.9.1 in /opt/saturncloud/envs/saturn/lib/python3.9/site-packages (from pytorch_lightning) (2.10.1)\n",
      "Collecting torchmetrics>=0.7.0\n",
      "  Downloading torchmetrics-0.10.2-py3-none-any.whl (529 kB)\n",
      "\u001b[2K     \u001b[90m━━━━━━━━━━━━━━━━━━━━━━━━━━━━━━━━━━━━━━\u001b[0m \u001b[32m529.7/529.7 kB\u001b[0m \u001b[31m62.7 MB/s\u001b[0m eta \u001b[36m0:00:00\u001b[0m\n",
      "\u001b[?25hRequirement already satisfied: fsspec[http]>2021.06.0 in /opt/saturncloud/envs/saturn/lib/python3.9/site-packages (from pytorch_lightning) (2022.3.0)\n",
      "Requirement already satisfied: typing-extensions>=4.0.0 in /opt/saturncloud/envs/saturn/lib/python3.9/site-packages (from pytorch_lightning) (4.4.0)\n",
      "Collecting lightning-utilities==0.3.*\n",
      "  Downloading lightning_utilities-0.3.0-py3-none-any.whl (15 kB)\n",
      "Collecting fire\n",
      "  Downloading fire-0.4.0.tar.gz (87 kB)\n",
      "\u001b[2K     \u001b[90m━━━━━━━━━━━━━━━━━━━━━━━━━━━━━━━━━━━━━━━━\u001b[0m \u001b[32m87.7/87.7 kB\u001b[0m \u001b[31m25.7 MB/s\u001b[0m eta \u001b[36m0:00:00\u001b[0m\n",
      "\u001b[?25h  Preparing metadata (setup.py) ... \u001b[?25ldone\n",
      "\u001b[?25hRequirement already satisfied: requests in /opt/saturncloud/envs/saturn/lib/python3.9/site-packages (from fsspec[http]>2021.06.0->pytorch_lightning) (2.28.1)\n",
      "Requirement already satisfied: aiohttp in /opt/saturncloud/envs/saturn/lib/python3.9/site-packages (from fsspec[http]>2021.06.0->pytorch_lightning) (3.8.1)\n",
      "Requirement already satisfied: pyparsing!=3.0.5,>=2.0.2 in /opt/saturncloud/envs/saturn/lib/python3.9/site-packages (from packaging>=17.0->pytorch_lightning) (3.0.9)\n",
      "Requirement already satisfied: absl-py>=0.4 in /opt/saturncloud/envs/saturn/lib/python3.9/site-packages (from tensorboard>=2.9.1->pytorch_lightning) (1.3.0)\n",
      "Requirement already satisfied: grpcio>=1.24.3 in /opt/saturncloud/envs/saturn/lib/python3.9/site-packages (from tensorboard>=2.9.1->pytorch_lightning) (1.50.0)\n",
      "Requirement already satisfied: tensorboard-plugin-wit>=1.6.0 in /opt/saturncloud/envs/saturn/lib/python3.9/site-packages (from tensorboard>=2.9.1->pytorch_lightning) (1.8.1)\n",
      "Requirement already satisfied: werkzeug>=1.0.1 in /opt/saturncloud/envs/saturn/lib/python3.9/site-packages (from tensorboard>=2.9.1->pytorch_lightning) (2.2.2)\n",
      "Requirement already satisfied: markdown>=2.6.8 in /opt/saturncloud/envs/saturn/lib/python3.9/site-packages (from tensorboard>=2.9.1->pytorch_lightning) (3.4.1)\n",
      "Requirement already satisfied: setuptools>=41.0.0 in /opt/saturncloud/envs/saturn/lib/python3.9/site-packages (from tensorboard>=2.9.1->pytorch_lightning) (65.5.0)\n",
      "Requirement already satisfied: google-auth<3,>=1.6.3 in /opt/saturncloud/envs/saturn/lib/python3.9/site-packages (from tensorboard>=2.9.1->pytorch_lightning) (2.14.0)\n",
      "Requirement already satisfied: google-auth-oauthlib<0.5,>=0.4.1 in /opt/saturncloud/envs/saturn/lib/python3.9/site-packages (from tensorboard>=2.9.1->pytorch_lightning) (0.4.6)\n",
      "Requirement already satisfied: tensorboard-data-server<0.7.0,>=0.6.0 in /opt/saturncloud/envs/saturn/lib/python3.9/site-packages (from tensorboard>=2.9.1->pytorch_lightning) (0.6.1)\n",
      "Requirement already satisfied: protobuf<3.20,>=3.9.2 in /opt/saturncloud/envs/saturn/lib/python3.9/site-packages (from tensorboard>=2.9.1->pytorch_lightning) (3.19.6)\n",
      "Requirement already satisfied: wheel>=0.26 in /opt/saturncloud/envs/saturn/lib/python3.9/site-packages (from tensorboard>=2.9.1->pytorch_lightning) (0.37.1)\n",
      "Requirement already satisfied: rsa<5,>=3.1.4 in /opt/saturncloud/envs/saturn/lib/python3.9/site-packages (from google-auth<3,>=1.6.3->tensorboard>=2.9.1->pytorch_lightning) (4.9)\n",
      "Requirement already satisfied: pyasn1-modules>=0.2.1 in /opt/saturncloud/envs/saturn/lib/python3.9/site-packages (from google-auth<3,>=1.6.3->tensorboard>=2.9.1->pytorch_lightning) (0.2.8)\n",
      "Requirement already satisfied: cachetools<6.0,>=2.0.0 in /opt/saturncloud/envs/saturn/lib/python3.9/site-packages (from google-auth<3,>=1.6.3->tensorboard>=2.9.1->pytorch_lightning) (5.2.0)\n",
      "Requirement already satisfied: six>=1.9.0 in /opt/saturncloud/envs/saturn/lib/python3.9/site-packages (from google-auth<3,>=1.6.3->tensorboard>=2.9.1->pytorch_lightning) (1.16.0)\n",
      "Requirement already satisfied: requests-oauthlib>=0.7.0 in /opt/saturncloud/envs/saturn/lib/python3.9/site-packages (from google-auth-oauthlib<0.5,>=0.4.1->tensorboard>=2.9.1->pytorch_lightning) (1.3.1)\n",
      "Requirement already satisfied: importlib-metadata>=4.4 in /opt/saturncloud/envs/saturn/lib/python3.9/site-packages (from markdown>=2.6.8->tensorboard>=2.9.1->pytorch_lightning) (5.0.0)\n",
      "Requirement already satisfied: urllib3<1.27,>=1.21.1 in /opt/saturncloud/envs/saturn/lib/python3.9/site-packages (from requests->fsspec[http]>2021.06.0->pytorch_lightning) (1.26.12)\n",
      "Requirement already satisfied: certifi>=2017.4.17 in /opt/saturncloud/envs/saturn/lib/python3.9/site-packages (from requests->fsspec[http]>2021.06.0->pytorch_lightning) (2022.9.24)\n",
      "Requirement already satisfied: idna<4,>=2.5 in /opt/saturncloud/envs/saturn/lib/python3.9/site-packages (from requests->fsspec[http]>2021.06.0->pytorch_lightning) (3.4)\n",
      "Requirement already satisfied: charset-normalizer<3,>=2 in /opt/saturncloud/envs/saturn/lib/python3.9/site-packages (from requests->fsspec[http]>2021.06.0->pytorch_lightning) (2.1.1)\n",
      "Requirement already satisfied: MarkupSafe>=2.1.1 in /opt/saturncloud/envs/saturn/lib/python3.9/site-packages (from werkzeug>=1.0.1->tensorboard>=2.9.1->pytorch_lightning) (2.1.1)\n",
      "Requirement already satisfied: yarl<2.0,>=1.0 in /opt/saturncloud/envs/saturn/lib/python3.9/site-packages (from aiohttp->fsspec[http]>2021.06.0->pytorch_lightning) (1.7.2)\n",
      "Requirement already satisfied: aiosignal>=1.1.2 in /opt/saturncloud/envs/saturn/lib/python3.9/site-packages (from aiohttp->fsspec[http]>2021.06.0->pytorch_lightning) (1.2.0)\n",
      "Requirement already satisfied: async-timeout<5.0,>=4.0.0a3 in /opt/saturncloud/envs/saturn/lib/python3.9/site-packages (from aiohttp->fsspec[http]>2021.06.0->pytorch_lightning) (4.0.2)\n",
      "Requirement already satisfied: frozenlist>=1.1.1 in /opt/saturncloud/envs/saturn/lib/python3.9/site-packages (from aiohttp->fsspec[http]>2021.06.0->pytorch_lightning) (1.3.0)\n",
      "Requirement already satisfied: multidict<7.0,>=4.5 in /opt/saturncloud/envs/saturn/lib/python3.9/site-packages (from aiohttp->fsspec[http]>2021.06.0->pytorch_lightning) (6.0.2)\n",
      "Requirement already satisfied: attrs>=17.3.0 in /opt/saturncloud/envs/saturn/lib/python3.9/site-packages (from aiohttp->fsspec[http]>2021.06.0->pytorch_lightning) (21.4.0)\n",
      "Requirement already satisfied: termcolor in /opt/saturncloud/envs/saturn/lib/python3.9/site-packages (from fire->lightning-utilities==0.3.*->pytorch_lightning) (2.1.0)\n",
      "Requirement already satisfied: zipp>=0.5 in /opt/saturncloud/envs/saturn/lib/python3.9/site-packages (from importlib-metadata>=4.4->markdown>=2.6.8->tensorboard>=2.9.1->pytorch_lightning) (3.10.0)\n",
      "Requirement already satisfied: pyasn1<0.5.0,>=0.4.6 in /opt/saturncloud/envs/saturn/lib/python3.9/site-packages (from pyasn1-modules>=0.2.1->google-auth<3,>=1.6.3->tensorboard>=2.9.1->pytorch_lightning) (0.4.8)\n",
      "Requirement already satisfied: oauthlib>=3.0.0 in /opt/saturncloud/envs/saturn/lib/python3.9/site-packages (from requests-oauthlib>=0.7.0->google-auth-oauthlib<0.5,>=0.4.1->tensorboard>=2.9.1->pytorch_lightning) (3.2.2)\n",
      "Building wheels for collected packages: fire\n",
      "  Building wheel for fire (setup.py) ... \u001b[?25ldone\n",
      "\u001b[?25h  Created wheel for fire: filename=fire-0.4.0-py2.py3-none-any.whl size=115926 sha256=3bacda356488d02747d25bdc97a195af0494d78288930c1e53daac7311988e76\n",
      "  Stored in directory: /home/jovyan/.cache/pip/wheels/2a/93/86/8cd17bc6c40fb605c3ac549d0b860ef7e84ee5f67bf01a3287\n",
      "Successfully built fire\n",
      "Installing collected packages: fire, torchmetrics, lightning-utilities, lightning-lite, pytorch_lightning\n",
      "Successfully installed fire-0.4.0 lightning-lite-1.8.0.post1 lightning-utilities-0.3.0 pytorch_lightning-1.8.0.post1 torchmetrics-0.10.2\n",
      "Requirement already satisfied: colorama in /opt/saturncloud/envs/saturn/lib/python3.9/site-packages (0.4.5)\n",
      "Requirement already satisfied: tensorflow in /opt/saturncloud/envs/saturn/lib/python3.9/site-packages (2.10.0)\n",
      "Requirement already satisfied: six>=1.12.0 in /opt/saturncloud/envs/saturn/lib/python3.9/site-packages (from tensorflow) (1.16.0)\n",
      "Requirement already satisfied: grpcio<2.0,>=1.24.3 in /opt/saturncloud/envs/saturn/lib/python3.9/site-packages (from tensorflow) (1.50.0)\n",
      "Requirement already satisfied: keras-preprocessing>=1.1.1 in /opt/saturncloud/envs/saturn/lib/python3.9/site-packages (from tensorflow) (1.1.2)\n",
      "Requirement already satisfied: flatbuffers>=2.0 in /opt/saturncloud/envs/saturn/lib/python3.9/site-packages (from tensorflow) (22.10.26)\n",
      "Requirement already satisfied: termcolor>=1.1.0 in /opt/saturncloud/envs/saturn/lib/python3.9/site-packages (from tensorflow) (2.1.0)\n",
      "Requirement already satisfied: h5py>=2.9.0 in /opt/saturncloud/envs/saturn/lib/python3.9/site-packages (from tensorflow) (3.7.0)\n",
      "Requirement already satisfied: opt-einsum>=2.3.2 in /opt/saturncloud/envs/saturn/lib/python3.9/site-packages (from tensorflow) (3.3.0)\n",
      "Requirement already satisfied: libclang>=13.0.0 in /opt/saturncloud/envs/saturn/lib/python3.9/site-packages (from tensorflow) (14.0.6)\n",
      "Requirement already satisfied: gast<=0.4.0,>=0.2.1 in /opt/saturncloud/envs/saturn/lib/python3.9/site-packages (from tensorflow) (0.4.0)\n",
      "Requirement already satisfied: google-pasta>=0.1.1 in /opt/saturncloud/envs/saturn/lib/python3.9/site-packages (from tensorflow) (0.2.0)\n",
      "Requirement already satisfied: packaging in /opt/saturncloud/envs/saturn/lib/python3.9/site-packages (from tensorflow) (21.3)\n",
      "Requirement already satisfied: keras<2.11,>=2.10.0 in /opt/saturncloud/envs/saturn/lib/python3.9/site-packages (from tensorflow) (2.10.0)\n",
      "Requirement already satisfied: protobuf<3.20,>=3.9.2 in /opt/saturncloud/envs/saturn/lib/python3.9/site-packages (from tensorflow) (3.19.6)\n",
      "Requirement already satisfied: wrapt>=1.11.0 in /opt/saturncloud/envs/saturn/lib/python3.9/site-packages (from tensorflow) (1.14.1)\n",
      "Requirement already satisfied: tensorflow-io-gcs-filesystem>=0.23.1 in /opt/saturncloud/envs/saturn/lib/python3.9/site-packages (from tensorflow) (0.27.0)\n",
      "Requirement already satisfied: tensorboard<2.11,>=2.10 in /opt/saturncloud/envs/saturn/lib/python3.9/site-packages (from tensorflow) (2.10.1)\n",
      "Requirement already satisfied: numpy>=1.20 in /opt/saturncloud/envs/saturn/lib/python3.9/site-packages (from tensorflow) (1.23.4)\n",
      "Requirement already satisfied: astunparse>=1.6.0 in /opt/saturncloud/envs/saturn/lib/python3.9/site-packages (from tensorflow) (1.6.3)\n",
      "Requirement already satisfied: absl-py>=1.0.0 in /opt/saturncloud/envs/saturn/lib/python3.9/site-packages (from tensorflow) (1.3.0)\n",
      "Requirement already satisfied: typing-extensions>=3.6.6 in /opt/saturncloud/envs/saturn/lib/python3.9/site-packages (from tensorflow) (4.4.0)\n",
      "Requirement already satisfied: setuptools in /opt/saturncloud/envs/saturn/lib/python3.9/site-packages (from tensorflow) (65.5.0)\n",
      "Requirement already satisfied: tensorflow-estimator<2.11,>=2.10.0 in /opt/saturncloud/envs/saturn/lib/python3.9/site-packages (from tensorflow) (2.10.0)\n",
      "Requirement already satisfied: wheel<1.0,>=0.23.0 in /opt/saturncloud/envs/saturn/lib/python3.9/site-packages (from astunparse>=1.6.0->tensorflow) (0.37.1)\n",
      "Requirement already satisfied: tensorboard-plugin-wit>=1.6.0 in /opt/saturncloud/envs/saturn/lib/python3.9/site-packages (from tensorboard<2.11,>=2.10->tensorflow) (1.8.1)\n",
      "Requirement already satisfied: requests<3,>=2.21.0 in /opt/saturncloud/envs/saturn/lib/python3.9/site-packages (from tensorboard<2.11,>=2.10->tensorflow) (2.28.1)\n",
      "Requirement already satisfied: google-auth-oauthlib<0.5,>=0.4.1 in /opt/saturncloud/envs/saturn/lib/python3.9/site-packages (from tensorboard<2.11,>=2.10->tensorflow) (0.4.6)\n",
      "Requirement already satisfied: werkzeug>=1.0.1 in /opt/saturncloud/envs/saturn/lib/python3.9/site-packages (from tensorboard<2.11,>=2.10->tensorflow) (2.2.2)\n",
      "Requirement already satisfied: tensorboard-data-server<0.7.0,>=0.6.0 in /opt/saturncloud/envs/saturn/lib/python3.9/site-packages (from tensorboard<2.11,>=2.10->tensorflow) (0.6.1)\n",
      "Requirement already satisfied: markdown>=2.6.8 in /opt/saturncloud/envs/saturn/lib/python3.9/site-packages (from tensorboard<2.11,>=2.10->tensorflow) (3.4.1)\n",
      "Requirement already satisfied: google-auth<3,>=1.6.3 in /opt/saturncloud/envs/saturn/lib/python3.9/site-packages (from tensorboard<2.11,>=2.10->tensorflow) (2.14.0)\n",
      "Requirement already satisfied: pyparsing!=3.0.5,>=2.0.2 in /opt/saturncloud/envs/saturn/lib/python3.9/site-packages (from packaging->tensorflow) (3.0.9)\n",
      "Requirement already satisfied: pyasn1-modules>=0.2.1 in /opt/saturncloud/envs/saturn/lib/python3.9/site-packages (from google-auth<3,>=1.6.3->tensorboard<2.11,>=2.10->tensorflow) (0.2.8)\n",
      "Requirement already satisfied: rsa<5,>=3.1.4 in /opt/saturncloud/envs/saturn/lib/python3.9/site-packages (from google-auth<3,>=1.6.3->tensorboard<2.11,>=2.10->tensorflow) (4.9)\n",
      "Requirement already satisfied: cachetools<6.0,>=2.0.0 in /opt/saturncloud/envs/saturn/lib/python3.9/site-packages (from google-auth<3,>=1.6.3->tensorboard<2.11,>=2.10->tensorflow) (5.2.0)\n",
      "Requirement already satisfied: requests-oauthlib>=0.7.0 in /opt/saturncloud/envs/saturn/lib/python3.9/site-packages (from google-auth-oauthlib<0.5,>=0.4.1->tensorboard<2.11,>=2.10->tensorflow) (1.3.1)\n",
      "Requirement already satisfied: importlib-metadata>=4.4 in /opt/saturncloud/envs/saturn/lib/python3.9/site-packages (from markdown>=2.6.8->tensorboard<2.11,>=2.10->tensorflow) (5.0.0)\n",
      "Requirement already satisfied: urllib3<1.27,>=1.21.1 in /opt/saturncloud/envs/saturn/lib/python3.9/site-packages (from requests<3,>=2.21.0->tensorboard<2.11,>=2.10->tensorflow) (1.26.12)\n",
      "Requirement already satisfied: idna<4,>=2.5 in /opt/saturncloud/envs/saturn/lib/python3.9/site-packages (from requests<3,>=2.21.0->tensorboard<2.11,>=2.10->tensorflow) (3.4)\n",
      "Requirement already satisfied: certifi>=2017.4.17 in /opt/saturncloud/envs/saturn/lib/python3.9/site-packages (from requests<3,>=2.21.0->tensorboard<2.11,>=2.10->tensorflow) (2022.9.24)\n",
      "Requirement already satisfied: charset-normalizer<3,>=2 in /opt/saturncloud/envs/saturn/lib/python3.9/site-packages (from requests<3,>=2.21.0->tensorboard<2.11,>=2.10->tensorflow) (2.1.1)\n",
      "Requirement already satisfied: MarkupSafe>=2.1.1 in /opt/saturncloud/envs/saturn/lib/python3.9/site-packages (from werkzeug>=1.0.1->tensorboard<2.11,>=2.10->tensorflow) (2.1.1)\n",
      "Requirement already satisfied: zipp>=0.5 in /opt/saturncloud/envs/saturn/lib/python3.9/site-packages (from importlib-metadata>=4.4->markdown>=2.6.8->tensorboard<2.11,>=2.10->tensorflow) (3.10.0)\n",
      "Requirement already satisfied: pyasn1<0.5.0,>=0.4.6 in /opt/saturncloud/envs/saturn/lib/python3.9/site-packages (from pyasn1-modules>=0.2.1->google-auth<3,>=1.6.3->tensorboard<2.11,>=2.10->tensorflow) (0.4.8)\n",
      "Requirement already satisfied: oauthlib>=3.0.0 in /opt/saturncloud/envs/saturn/lib/python3.9/site-packages (from requests-oauthlib>=0.7.0->google-auth-oauthlib<0.5,>=0.4.1->tensorboard<2.11,>=2.10->tensorflow) (3.2.2)\n"
     ]
    },
    {
     "name": "stderr",
     "output_type": "stream",
     "text": [
      "2022-11-02 23:34:45.767112: I tensorflow/core/platform/cpu_feature_guard.cc:193] This TensorFlow binary is optimized with oneAPI Deep Neural Network Library (oneDNN) to use the following CPU instructions in performance-critical operations:  AVX2 AVX512F AVX512_VNNI FMA\n",
      "To enable them in other operations, rebuild TensorFlow with the appropriate compiler flags.\n",
      "2022-11-02 23:34:46.233937: I tensorflow/core/util/util.cc:169] oneDNN custom operations are on. You may see slightly different numerical results due to floating-point round-off errors from different computation orders. To turn them off, set the environment variable `TF_ENABLE_ONEDNN_OPTS=0`.\n",
      "2022-11-02 23:34:46.357036: E tensorflow/stream_executor/cuda/cuda_blas.cc:2981] Unable to register cuBLAS factory: Attempting to register factory for plugin cuBLAS when one has already been registered\n",
      "2022-11-02 23:34:47.641663: W tensorflow/stream_executor/platform/default/dso_loader.cc:64] Could not load dynamic library 'libnvinfer.so.7'; dlerror: libnvinfer.so.7: cannot open shared object file: No such file or directory; LD_LIBRARY_PATH: /usr/local/nvidia/lib:/usr/local/nvidia/lib64\n",
      "2022-11-02 23:34:47.641773: W tensorflow/stream_executor/platform/default/dso_loader.cc:64] Could not load dynamic library 'libnvinfer_plugin.so.7'; dlerror: libnvinfer_plugin.so.7: cannot open shared object file: No such file or directory; LD_LIBRARY_PATH: /usr/local/nvidia/lib:/usr/local/nvidia/lib64\n",
      "2022-11-02 23:34:47.641783: W tensorflow/compiler/tf2tensorrt/utils/py_utils.cc:38] TF-TRT Warning: Cannot dlopen some TensorRT libraries. If you would like to use Nvidia GPU with TensorRT, please make sure the missing libraries mentioned above are installed properly.\n"
     ]
    },
    {
     "name": "stdout",
     "output_type": "stream",
     "text": [
      "/home/jovyan/kaggle/working\n",
      "/home/jovyan/kaggle/working/robust-pca\n",
      "/home/jovyan/kaggle/working\n"
     ]
    }
   ],
   "source": [
    "!pip install pytorch_lightning\n",
    "import pytorch_lightning as pl\n",
    "import numpy as np\n",
    "from torch.utils.data import DataLoader, TensorDataset\n",
    "import pandas as pd\n",
    "import torch\n",
    "import torch.nn as nn\n",
    "from torchmetrics import PearsonCorrCoef, MeanSquaredError\n",
    "!pip install colorama\n",
    "import os, gc, pickle, datetime, scipy.sparse\n",
    "import pandas as pd\n",
    "import matplotlib.pyplot as plt\n",
    "import numpy as np\n",
    "from colorama import Fore, Back, Style\n",
    "import scprep\n",
    "\n",
    "from sklearn.model_selection import GroupKFold, train_test_split\n",
    "from sklearn.preprocessing import StandardScaler, scale, MinMaxScaler\n",
    "from sklearn.decomposition import TruncatedSVD\n",
    "\n",
    "!pip install tensorflow\n",
    "import tensorflow as tf\n",
    "import tensorflow.keras.backend as K\n",
    "from tensorflow.keras.models import Model, load_model\n",
    "from tensorflow.keras.callbacks import ReduceLROnPlateau, LearningRateScheduler, EarlyStopping\n",
    "from tensorflow.keras.layers import Dense, Input, Concatenate\n",
    "from tensorflow.keras.utils import plot_model\n",
    "\n",
    "%cd /home/jovyan/kaggle/working\n",
    "\n",
    "%cd robust-pca\n",
    "import r_pca\n",
    "%cd ..\n",
    "\n",
    "def delete_columns_csr(mat, indices):\n",
    "    \"\"\"\n",
    "    Remove the rows denoted by ``indices`` form the CSR sparse matrix ``mat``.\n",
    "    \"\"\"\n",
    "    if not isinstance(mat, scipy.sparse.csr_matrix):\n",
    "        raise ValueError(\"works only for CSR format -- use .tocsr() first\")\n",
    "    mask = np.ones(mat.shape[1], dtype=bool)\n",
    "    mask[indices] = False\n",
    "    return mat[:,mask]\n",
    "\n",
    "def correlation_score(y_true, y_pred):\n",
    "    \"\"\"Scores the predictions according to the competition rules. \n",
    "    \n",
    "    It is assumed that the predictions are not constant.\n",
    "    \n",
    "    Returns the average of each sample's Pearson correlation coefficient\"\"\"\n",
    "    if type(y_true) == pd.DataFrame: y_true = y_true.values\n",
    "    if type(y_pred) == pd.DataFrame: y_pred = y_pred.values\n",
    "    corrsum = 0\n",
    "    for i in range(len(y_true)):\n",
    "        corrsum += np.corrcoef(y_true[i], y_pred[i])[1, 0]\n",
    "    return corrsum / len(y_true)\n",
    "\n",
    "def correlation_score_cols(y_true, y_pred):\n",
    "    \"\"\"Scores the predictions according to the competition rules. \n",
    "    \n",
    "    It is assumed that the predictions are not constant.\n",
    "    \n",
    "    Returns the average of each sample's Pearson correlation coefficient\"\"\"\n",
    "    if type(y_true) == pd.DataFrame: y_true = y_true.values\n",
    "    if type(y_pred) == pd.DataFrame: y_pred = y_pred.values\n",
    "    corrsum = 0\n",
    "    abc = []\n",
    "    for i in range(y_true.shape[1]):\n",
    "        temp = np.corrcoef(y_true[:,i], y_pred[:,i])[1, 0]\n",
    "        abc.append(temp)\n",
    "        corrsum += temp\n",
    "    print(corrsum / y_true.shape[1])\n",
    "    return abc\n",
    "\n",
    "def negative_correlation_loss(y_true, y_pred):\n",
    "    \"\"\"Negative correlation loss function for Keras\n",
    "    \n",
    "    Precondition:\n",
    "    y_true.mean(axis=1) == 0\n",
    "    y_true.std(axis=1) == 1\n",
    "    \n",
    "    Returns:\n",
    "    -1 = perfect positive correlation\n",
    "    1 = totally negative correlation\n",
    "    \"\"\"\n",
    "    my = K.mean(tf.convert_to_tensor(y_pred), axis=1)\n",
    "    my = tf.tile(tf.expand_dims(my, axis=1), (1, y_true.shape[1]))\n",
    "    ym = y_pred - my\n",
    "    r_num = K.sum(tf.multiply(y_true, ym), axis=1)\n",
    "    r_den = tf.sqrt(K.sum(K.square(ym), axis=1) * float(y_true.shape[-1]))\n",
    "    r = tf.reduce_mean(r_num / r_den)\n",
    "    return - r\n",
    "\n",
    "def negative_pearson_loss(y_true, y_pred):\n",
    "    \"\"\"Negative correlation loss function for Keras\n",
    "    \n",
    "    Precondition:\n",
    "    y_true.mean(axis=1) == 0\n",
    "    y_true.std(axis=1) == 1\n",
    "    \n",
    "    Returns:\n",
    "    -1 = perfect positive correlation\n",
    "    1 = totally negative correlation\n",
    "    \"\"\"\n",
    "\n",
    "    vx = y_pred - torch.mean(y_pred,1,keepdim=True)\n",
    "    vy = y_true - torch.mean(y_true,1,keepdim=True)\n",
    "\n",
    "    cost = torch.mean(torch.sum(vx * vy,1) / (torch.sqrt(torch.sum(vx ** 2,1)) * torch.sqrt(torch.sum(vy ** 2,1))))\n",
    "\n",
    "    return - cost\n",
    "\n",
    "def my_model(n_inputs,n_outputs, reg1, reg2,loss):\n",
    "    \"\"\"Sequential neural network\n",
    "    \n",
    "    Returns a compiled instance of tensorflow.keras.models.Model.\n",
    "    \"\"\"\n",
    "    activation = 'swish'\n",
    "\n",
    "    \n",
    "    inputs = Input(shape=(n_inputs, ))\n",
    "    x0 = Dense(256, kernel_regularizer=tf.keras.regularizers.l2(reg1),\n",
    "              activation=activation,\n",
    "             )(inputs)\n",
    "    x1 = Dense(256, kernel_regularizer=tf.keras.regularizers.l2(reg1),\n",
    "              activation=activation,\n",
    "             )(x0)\n",
    "    x2 = Dense(256, kernel_regularizer=tf.keras.regularizers.l2(reg1),\n",
    "              activation=activation,\n",
    "             )(x1)\n",
    "    x3 = Dense(128, kernel_regularizer=tf.keras.regularizers.l2(reg1),\n",
    "              activation=activation,\n",
    "             )(x2)\n",
    "    x = Concatenate()([x0, x1, x2, x3])\n",
    "    x = Dense(n_outputs, kernel_regularizer=tf.keras.regularizers.l2(reg2),\n",
    "              #activation=activation,\n",
    "             )(x)\n",
    "    regressor = Model(inputs, x)\n",
    "    regressor.compile(optimizer=tf.keras.optimizers.Adam(learning_rate=LR_START),\n",
    "                      metrics=[loss],\n",
    "                      loss=loss\n",
    "                     )\n",
    "    \n",
    "    return regressor\n",
    "\n",
    "# Cross-validation\n",
    "VERBOSE = 2 # set to 2 for more output, set to 0 for less output\n",
    "EPOCHS = 1000\n",
    "N_SPLITS = 3\n",
    "\n",
    "def fit(X_train, y_train,meta,loss=negative_correlation_loss):\n",
    "    np.random.seed(1)\n",
    "    tf.random.set_seed(1)\n",
    "\n",
    "    kf = GroupKFold(n_splits=N_SPLITS)\n",
    "    score_list = []\n",
    "    for fold, (idx_tr, idx_va) in enumerate(kf.split(X_train, groups=meta.donor)):\n",
    "        start_time = datetime.datetime.now()\n",
    "        model = None\n",
    "        gc.collect()\n",
    "        X_tr = X_train[idx_tr]\n",
    "        y_tr = y_train[idx_tr]\n",
    "        X_va = X_train[idx_va]\n",
    "        y_va = y_train[idx_va]\n",
    "\n",
    "        lr = ReduceLROnPlateau(monitor=\"val_loss\", factor=0.5, \n",
    "                              patience=4, verbose=VERBOSE)\n",
    "        es = EarlyStopping(monitor=\"val_loss\",\n",
    "                          patience=12, \n",
    "                          verbose=0,\n",
    "                          mode=\"min\", \n",
    "                          restore_best_weights=True)\n",
    "        callbacks = [lr, es, tf.keras.callbacks.TerminateOnNaN()]\n",
    "\n",
    "        # Construct and compile the model\n",
    "        model = my_model(n_inputs=X_train.shape[1],n_outputs=y_train.shape[1],reg1=reg1,reg2=reg2,loss = loss)\n",
    "\n",
    "        # Train the model\n",
    "        history = model.fit(X_tr, y_tr, \n",
    "                            validation_data=(X_va, y_va), \n",
    "                            epochs=EPOCHS,\n",
    "                            verbose=VERBOSE,\n",
    "                            batch_size=BATCH_SIZE,\n",
    "                            shuffle=True,\n",
    "                            callbacks=callbacks)\n",
    "        del X_tr, y_tr\n",
    "\n",
    "        # We validate the model\n",
    "        y_pred = model.predict(X_va, batch_size=X_va.shape[0])\n",
    "        corrscore = correlation_score(y_va, y_pred)\n",
    "\n",
    "        print(f\"Fold {fold}: {es.stopped_epoch:3} epochs, corr =  {corrscore:.5f}\")\n",
    "        del es, X_va#, y_va, y_va_pred\n",
    "        score_list.append(corrscore)\n",
    "\n",
    "        return model\n",
    "\n",
    "    # Show overall score\n",
    "    print(f\"{Fore.GREEN}{Style.BRIGHT}Average  corr = {np.array(score_list).mean():.5f}{Style.RESET_ALL}\")"
   ]
  },
  {
   "cell_type": "code",
   "execution_count": 2,
   "id": "c82d36bd-ca82-4656-a2d4-1134466216f1",
   "metadata": {
    "execution": {
     "iopub.execute_input": "2022-10-14T16:41:21.163844Z",
     "iopub.status.busy": "2022-10-14T16:41:21.163432Z",
     "iopub.status.idle": "2022-10-14T16:42:13.363370Z",
     "shell.execute_reply": "2022-10-14T16:42:13.362762Z",
     "shell.execute_reply.started": "2022-10-14T16:41:21.163823Z"
    }
   },
   "outputs": [],
   "source": [
    "train = scipy.sparse.load_npz(\"./sparse/train_multi_inputs_values.sparse.npz\")\n",
    "test = scipy.sparse.load_npz(\"./sparse/test_multi_inputs_values.sparse.npz\")"
   ]
  },
  {
   "cell_type": "code",
   "execution_count": 3,
   "id": "8434abb5-a5f1-4a25-b289-fdb4030f5466",
   "metadata": {
    "execution": {
     "iopub.execute_input": "2022-10-14T16:42:38.765155Z",
     "iopub.status.busy": "2022-10-14T16:42:38.764757Z",
     "iopub.status.idle": "2022-10-14T16:42:38.773460Z",
     "shell.execute_reply": "2022-10-14T16:42:38.772957Z",
     "shell.execute_reply.started": "2022-10-14T16:42:38.765130Z"
    }
   },
   "outputs": [
    {
     "data": {
      "text/plain": [
       "(105942, 228942)"
      ]
     },
     "execution_count": 3,
     "metadata": {},
     "output_type": "execute_result"
    }
   ],
   "source": [
    "train.shape"
   ]
  },
  {
   "cell_type": "code",
   "execution_count": 4,
   "id": "727cca87-a712-4398-8752-58922163cebe",
   "metadata": {
    "execution": {
     "iopub.execute_input": "2022-10-14T16:42:43.328177Z",
     "iopub.status.busy": "2022-10-14T16:42:43.327779Z",
     "iopub.status.idle": "2022-10-14T16:42:43.332159Z",
     "shell.execute_reply": "2022-10-14T16:42:43.331668Z",
     "shell.execute_reply.started": "2022-10-14T16:42:43.328152Z"
    }
   },
   "outputs": [
    {
     "data": {
      "text/plain": [
       "(55935, 228942)"
      ]
     },
     "execution_count": 4,
     "metadata": {},
     "output_type": "execute_result"
    }
   ],
   "source": [
    "test.shape"
   ]
  },
  {
   "cell_type": "code",
   "execution_count": 3,
   "id": "faf3894c-a6b1-473f-b58a-12605837ccc7",
   "metadata": {
    "execution": {
     "iopub.execute_input": "2022-11-02T23:34:48.859340Z",
     "iopub.status.busy": "2022-11-02T23:34:48.858894Z",
     "iopub.status.idle": "2022-11-02T23:35:12.882809Z",
     "shell.execute_reply": "2022-11-02T23:35:12.882197Z",
     "shell.execute_reply.started": "2022-11-02T23:34:48.859317Z"
    },
    "tags": []
   },
   "outputs": [],
   "source": [
    "inputs_both_128 = np.genfromtxt(\"./multi_pca/inputs_both_128.csv\", delimiter=',')"
   ]
  },
  {
   "cell_type": "code",
   "execution_count": 4,
   "id": "d287c4ee-cc9f-4e56-bbc1-438d9a802b4a",
   "metadata": {
    "execution": {
     "iopub.execute_input": "2022-11-02T23:35:12.883983Z",
     "iopub.status.busy": "2022-11-02T23:35:12.883685Z",
     "iopub.status.idle": "2022-11-02T23:35:12.892091Z",
     "shell.execute_reply": "2022-11-02T23:35:12.891572Z",
     "shell.execute_reply.started": "2022-11-02T23:35:12.883963Z"
    },
    "tags": []
   },
   "outputs": [
    {
     "data": {
      "text/plain": [
       "(161877, 128)"
      ]
     },
     "execution_count": 4,
     "metadata": {},
     "output_type": "execute_result"
    }
   ],
   "source": [
    "inputs_both_128.shape"
   ]
  },
  {
   "cell_type": "code",
   "execution_count": 5,
   "id": "0f9edb17-00fa-4375-9c98-1ac99a96dc85",
   "metadata": {
    "execution": {
     "iopub.execute_input": "2022-11-02T23:35:12.893598Z",
     "iopub.status.busy": "2022-11-02T23:35:12.893195Z",
     "iopub.status.idle": "2022-11-02T23:35:12.896207Z",
     "shell.execute_reply": "2022-11-02T23:35:12.895691Z",
     "shell.execute_reply.started": "2022-11-02T23:35:12.893578Z"
    },
    "tags": []
   },
   "outputs": [],
   "source": [
    "multi_X_train = inputs_both_128[:105942]\n",
    "multi_X_test = inputs_both_128[105942:]"
   ]
  },
  {
   "cell_type": "code",
   "execution_count": 8,
   "id": "e5307663-8b7e-4f5a-af91-decbd6a5ce95",
   "metadata": {
    "execution": {
     "iopub.execute_input": "2022-10-14T16:46:00.326614Z",
     "iopub.status.busy": "2022-10-14T16:46:00.326229Z",
     "iopub.status.idle": "2022-10-14T16:46:00.330527Z",
     "shell.execute_reply": "2022-10-14T16:46:00.330038Z",
     "shell.execute_reply.started": "2022-10-14T16:46:00.326590Z"
    }
   },
   "outputs": [
    {
     "data": {
      "text/plain": [
       "(105942, 128)"
      ]
     },
     "execution_count": 8,
     "metadata": {},
     "output_type": "execute_result"
    }
   ],
   "source": [
    "multi_X_train.shape"
   ]
  },
  {
   "cell_type": "code",
   "execution_count": 9,
   "id": "a76775d8-847e-4344-b60d-2d6dd2b6db6e",
   "metadata": {
    "execution": {
     "iopub.execute_input": "2022-10-14T16:46:06.139947Z",
     "iopub.status.busy": "2022-10-14T16:46:06.139556Z",
     "iopub.status.idle": "2022-10-14T16:46:06.143925Z",
     "shell.execute_reply": "2022-10-14T16:46:06.143437Z",
     "shell.execute_reply.started": "2022-10-14T16:46:06.139923Z"
    }
   },
   "outputs": [
    {
     "data": {
      "text/plain": [
       "(55935, 128)"
      ]
     },
     "execution_count": 9,
     "metadata": {},
     "output_type": "execute_result"
    }
   ],
   "source": [
    "multi_X_test.shape"
   ]
  },
  {
   "cell_type": "code",
   "execution_count": 373,
   "id": "cd31710c-ebfe-40f4-8b24-b33d96b169ed",
   "metadata": {
    "execution": {
     "iopub.execute_input": "2022-10-15T01:30:42.259641Z",
     "iopub.status.busy": "2022-10-15T01:30:42.259227Z",
     "iopub.status.idle": "2022-10-15T01:30:57.764355Z",
     "shell.execute_reply": "2022-10-15T01:30:57.763694Z",
     "shell.execute_reply.started": "2022-10-15T01:30:42.259614Z"
    },
    "tags": []
   },
   "outputs": [],
   "source": [
    "multi_y_train = np.genfromtxt(\"./multi_pca/targets_128.csv\", delimiter=',')"
   ]
  },
  {
   "cell_type": "code",
   "execution_count": 374,
   "id": "629ac33c-5635-4431-8077-ba3010900fab",
   "metadata": {
    "execution": {
     "iopub.execute_input": "2022-10-15T01:31:01.818945Z",
     "iopub.status.busy": "2022-10-15T01:31:01.818539Z",
     "iopub.status.idle": "2022-10-15T01:31:01.887217Z",
     "shell.execute_reply": "2022-10-15T01:31:01.886596Z",
     "shell.execute_reply.started": "2022-10-15T01:31:01.818919Z"
    },
    "tags": []
   },
   "outputs": [],
   "source": [
    "means = multi_y_train.mean(axis=1).reshape(-1, 1)\n",
    "stds = multi_y_train.std(axis=1).reshape(-1, 1)"
   ]
  },
  {
   "cell_type": "code",
   "execution_count": 41,
   "id": "0fbe26ed-6dec-44de-b5ab-52cae0e178c6",
   "metadata": {
    "execution": {
     "iopub.execute_input": "2022-10-14T17:18:41.499453Z",
     "iopub.status.busy": "2022-10-14T17:18:41.499060Z",
     "iopub.status.idle": "2022-10-14T17:18:41.615607Z",
     "shell.execute_reply": "2022-10-14T17:18:41.615057Z",
     "shell.execute_reply.started": "2022-10-14T17:18:41.499429Z"
    },
    "tags": []
   },
   "outputs": [
    {
     "data": {
      "text/plain": [
       "(array([1.2700e+02, 2.1990e+03, 8.7520e+03, 2.1268e+04, 3.3267e+04,\n",
       "        2.6193e+04, 1.1215e+04, 2.5930e+03, 3.0200e+02, 2.6000e+01]),\n",
       " array([-0.7495836 , -0.20851865,  0.3325463 ,  0.87361126,  1.41467621,\n",
       "         1.95574117,  2.49680612,  3.03787107,  3.57893603,  4.12000098,\n",
       "         4.66106594]),\n",
       " <BarContainer object of 10 artists>)"
      ]
     },
     "execution_count": 41,
     "metadata": {},
     "output_type": "execute_result"
    },
    {
     "data": {
      "image/png": "[encoded data removed]",
      "text/plain": [
       "<Figure size 432x288 with 1 Axes>"
      ]
     },
     "metadata": {
      "needs_background": "light"
     },
     "output_type": "display_data"
    }
   ],
   "source": [
    "import matplotlib.pyplot as plt\n",
    "plt.hist(means)"
   ]
  },
  {
   "cell_type": "code",
   "execution_count": 42,
   "id": "4ce5adc5-f212-4391-ac22-2ee6bf3a5fec",
   "metadata": {
    "execution": {
     "iopub.execute_input": "2022-10-14T17:20:01.576677Z",
     "iopub.status.busy": "2022-10-14T17:20:01.576270Z",
     "iopub.status.idle": "2022-10-14T17:20:01.687894Z",
     "shell.execute_reply": "2022-10-14T17:20:01.687334Z",
     "shell.execute_reply.started": "2022-10-14T17:20:01.576636Z"
    }
   },
   "outputs": [
    {
     "data": {
      "text/plain": [
       "(array([  239.,  2221.,  6827., 14923., 24975., 27148., 18822.,  8088.,\n",
       "         2410.,   289.]),\n",
       " array([10.71454845, 12.71276378, 14.7109791 , 16.70919442, 18.70740974,\n",
       "        20.70562506, 22.70384038, 24.7020557 , 26.70027102, 28.69848634,\n",
       "        30.69670166]),\n",
       " <BarContainer object of 10 artists>)"
      ]
     },
     "execution_count": 42,
     "metadata": {},
     "output_type": "execute_result"
    },
    {
     "data": {
      "image/png": "[encoded data removed]",
      "text/plain": [
       "<Figure size 432x288 with 1 Axes>"
      ]
     },
     "metadata": {
      "needs_background": "light"
     },
     "output_type": "display_data"
    }
   ],
   "source": [
    "plt.hist(stds)"
   ]
  },
  {
   "cell_type": "code",
   "execution_count": 375,
   "id": "b1dabd79-6965-46e3-8f49-07dc5b6ff4f5",
   "metadata": {
    "execution": {
     "iopub.execute_input": "2022-10-15T01:31:14.387917Z",
     "iopub.status.busy": "2022-10-15T01:31:14.387527Z",
     "iopub.status.idle": "2022-10-15T01:31:14.489261Z",
     "shell.execute_reply": "2022-10-15T01:31:14.488593Z",
     "shell.execute_reply.started": "2022-10-15T01:31:14.387892Z"
    },
    "tags": []
   },
   "outputs": [],
   "source": [
    "# Normalize the targets row-wise: This doesn't change the correlations,\n",
    "# and negative_correlation_loss depends on it\n",
    "multi_y_train -= multi_y_train.mean(axis=1).reshape(-1, 1)\n",
    "multi_y_train /= multi_y_train.std(axis=1).reshape(-1, 1)"
   ]
  },
  {
   "cell_type": "code",
   "execution_count": 6,
   "id": "32747587-7260-4d05-8dea-4321a06ac89d",
   "metadata": {
    "execution": {
     "iopub.execute_input": "2022-11-02T23:35:12.897279Z",
     "iopub.status.busy": "2022-11-02T23:35:12.896867Z",
     "iopub.status.idle": "2022-11-02T23:36:24.895584Z",
     "shell.execute_reply": "2022-11-02T23:36:24.894927Z",
     "shell.execute_reply.started": "2022-11-02T23:35:12.897259Z"
    },
    "tags": []
   },
   "outputs": [
    {
     "name": "stderr",
     "output_type": "stream",
     "text": [
      "/srv/conda/envs/saturn/lib/python3.9/site-packages/sklearn/utils/validation.py:727: FutureWarning: np.matrix usage is deprecated in 1.0 and will raise a TypeError in 1.2. Please convert to a numpy array with np.asarray. For more information see: https://numpy.org/doc/stable/reference/generated/numpy.matrix.html\n",
      "  warnings.warn(\n"
     ]
    }
   ],
   "source": [
    "targets = scipy.sparse.load_npz(\"./sparse/train_multi_targets_values.sparse.npz\")\n",
    "targets -= targets.mean(axis=1).reshape(-1, 1)\n",
    "targets /= targets.std(axis=1).reshape(-1, 1)\n",
    "\n",
    "pca_train = TruncatedSVD(n_components=128, random_state=1)\n",
    "pca_targets = pca_train.fit_transform(targets)"
   ]
  },
  {
   "cell_type": "code",
   "execution_count": 378,
   "id": "998432a6-b2a9-49c7-84be-ecca3cf6a375",
   "metadata": {
    "execution": {
     "iopub.execute_input": "2022-10-15T01:32:55.422465Z",
     "iopub.status.busy": "2022-10-15T01:32:55.422071Z",
     "iopub.status.idle": "2022-10-15T01:32:56.505808Z",
     "shell.execute_reply": "2022-10-15T01:32:56.504831Z",
     "shell.execute_reply.started": "2022-10-15T01:32:55.422439Z"
    },
    "tags": []
   },
   "outputs": [],
   "source": [
    "%mkdir model_multi"
   ]
  },
  {
   "cell_type": "code",
   "execution_count": null,
   "id": "ebd61d7f-35d0-495b-a129-075dbc7c852d",
   "metadata": {
    "execution": {
     "iopub.execute_input": "2022-10-15T02:48:53.612893Z",
     "iopub.status.busy": "2022-10-15T02:48:53.612261Z",
     "iopub.status.idle": "2022-10-15T03:01:28.335649Z",
     "shell.execute_reply": "2022-10-15T03:01:28.334444Z",
     "shell.execute_reply.started": "2022-10-15T02:48:53.612867Z"
    },
    "tags": []
   },
   "outputs": [],
   "source": [
    "# from tensorflow.keras.layers import Dropout, BatchNormalization\n",
    "# plateau = tf.keras.callbacks.ReduceLROnPlateau(\n",
    "#     monitor=\"val_loss\",\n",
    "#     factor=0.5,\n",
    "#     patience=2,\n",
    "#     verbose=0,\n",
    "#     mode=\"min\",\n",
    "#     min_delta=1e-7\n",
    "# )\n",
    "# es = tf.keras.callbacks.EarlyStopping(\n",
    "#     monitor=\"val_loss\",\n",
    "#     min_delta=1e-7,\n",
    "#     patience=10,\n",
    "#     verbose=0,\n",
    "#     mode=\"min\",\n",
    "#     restore_best_weights=True,\n",
    "# )\n",
    "\n",
    "with np.load('./sparse/train_multi_inputs_idxcol.npz',allow_pickle=True) as data:\n",
    "    cell_index = data['index']\n",
    "\n",
    "with np.load('./sparse/test_multi_inputs_idxcol.npz',allow_pickle=True) as data:\n",
    "    cell_index_t = data['index']\n",
    "\n",
    "metadata_df = pd.read_csv('../input/open-problems-multimodal/metadata.csv', index_col='cell_id')\n",
    "metadata_df = metadata_df[metadata_df.technology==\"multiome\"]\n",
    "meta = metadata_df.reindex(cell_index)\n",
    "\n",
    "with np.load('./sparse/test_multi_inputs_idxcol.npz',allow_pickle=True) as data:\n",
    "    cell_index_t = data['index']\n",
    "\n",
    "meta_t = metadata_df.reindex(cell_index_t)\n",
    "\n",
    "VERBOSE = 0 # set to 2 for more output, set to 0 for less output\n",
    "EPOCHS = 1000\n",
    "N_SPLITS = 6\n",
    "\n",
    "def fit(X_train, y_train,meta,loss=negative_correlation_loss):\n",
    "    np.random.seed(1)\n",
    "    tf.random.set_seed(1)\n",
    "\n",
    "    kf = KFold(n_splits=N_SPLITS)\n",
    "    score_list = []\n",
    "    for fold, (idx_tr, idx_va) in enumerate(kf.split(X_train)):\n",
    "        start_time = datetime.datetime.now()\n",
    "        model = None\n",
    "        gc.collect()\n",
    "        X_tr = X_train[idx_tr]\n",
    "        y_tr = y_train[idx_tr]\n",
    "        X_va = X_train[idx_va]\n",
    "        y_va = y_train[idx_va]\n",
    "\n",
    "        lr = ReduceLROnPlateau(monitor=\"val_loss\", factor=0.5, \n",
    "                              patience=4, verbose=VERBOSE)\n",
    "        es = EarlyStopping(monitor=\"val_loss\",\n",
    "                          patience=12, \n",
    "                          verbose=0,\n",
    "                          mode=\"min\", \n",
    "                          restore_best_weights=True)\n",
    "        callbacks = [lr, es, tf.keras.callbacks.TerminateOnNaN()]\n",
    "\n",
    "        # Construct and compile the model\n",
    "        model = my_model(best_hp, n_inputs=X_train.shape[1],n_outputs=y_train.shape[1],reg1=reg1,reg2=reg2,loss = loss)\n",
    "\n",
    "        # Train the model\n",
    "        history = model.fit(X_tr, y_tr, \n",
    "                            validation_data=(X_va, y_va), \n",
    "                            epochs=EPOCHS,\n",
    "                            verbose=VERBOSE,\n",
    "                            batch_size=BATCH_SIZE,\n",
    "                            shuffle=True,\n",
    "                            callbacks=callbacks)\n",
    "        del X_tr, y_tr\n",
    "        if True:\n",
    "            model.save(f\"./model_multi/model_{fold}\")\n",
    "\n",
    "        history = history.history\n",
    "        callbacks, lr = None, None\n",
    "\n",
    "        # We validate the model\n",
    "        y_va_pred = model.predict(X_va, batch_size=X_va.shape[0])\n",
    "        corrscore = correlation_score(targets[idx_va], pca_train.inverse_transform(y_va_pred))\n",
    "\n",
    "        print(f\"Fold {fold}: {es.stopped_epoch:3} epochs, corr =  {corrscore:.5f}\")\n",
    "        del es, X_va#, y_va, y_va_pred\n",
    "        score_list.append(corrscore)\n",
    "    # Show overall score\n",
    "    print(f\"{Fore.GREEN}{Style.BRIGHT}Average  corr = {np.array(score_list).mean():.5f}{Style.RESET_ALL}\")\n",
    "\n",
    "fit(multi_X_train,pca_targets,meta)"
   ]
  },
  {
   "cell_type": "code",
   "execution_count": 21,
   "id": "d11533cc-8942-49d1-a429-bc8284feff22",
   "metadata": {
    "execution": {
     "iopub.execute_input": "2022-10-14T17:05:17.534059Z",
     "iopub.status.busy": "2022-10-14T17:05:17.533653Z",
     "iopub.status.idle": "2022-10-14T17:05:17.538795Z",
     "shell.execute_reply": "2022-10-14T17:05:17.538271Z",
     "shell.execute_reply.started": "2022-10-14T17:05:17.534036Z"
    },
    "tags": []
   },
   "outputs": [
    {
     "data": {
      "text/plain": [
       "array([[ 3.86956635e+01, -1.09952993e+01,  3.50867796e+00, ...,\n",
       "         1.21763420e+00, -1.44998670e+00,  1.60880759e-01],\n",
       "       [ 3.06719627e+01, -1.19265258e+00, -4.12954807e+00, ...,\n",
       "         1.85832608e+00, -7.65001774e-01, -1.92534491e-01],\n",
       "       [ 3.70699081e+01, -3.83116531e+00,  4.17799902e+00, ...,\n",
       "        -8.05579841e-01,  5.00358164e-01, -6.38681412e-01],\n",
       "       ...,\n",
       "       [ 4.48155479e+01, -9.39706898e+00,  6.36478782e-01, ...,\n",
       "         1.58140473e-02, -1.86308980e-01, -6.92828357e-01],\n",
       "       [ 3.59599037e+01,  1.49864283e+01, -1.74750173e+00, ...,\n",
       "        -2.24051282e-01, -2.21296221e-01, -2.21505928e+00],\n",
       "       [ 3.49002457e+01, -1.32985905e-01,  1.07605591e+01, ...,\n",
       "        -1.89213276e-01, -1.23102295e+00, -3.50553632e-01]])"
      ]
     },
     "execution_count": 21,
     "metadata": {},
     "output_type": "execute_result"
    }
   ],
   "source": [
    "multi_X_train"
   ]
  },
  {
   "cell_type": "code",
   "execution_count": 23,
   "id": "2219a8ef-77d0-41a4-a321-90d85c8c41f4",
   "metadata": {
    "execution": {
     "iopub.execute_input": "2022-10-14T17:06:13.105427Z",
     "iopub.status.busy": "2022-10-14T17:06:13.105037Z",
     "iopub.status.idle": "2022-10-14T17:06:17.273817Z",
     "shell.execute_reply": "2022-10-14T17:06:17.273166Z",
     "shell.execute_reply.started": "2022-10-14T17:06:13.105402Z"
    },
    "tags": []
   },
   "outputs": [
    {
     "name": "stdout",
     "output_type": "stream",
     "text": [
      "1748/1748 [==============================] - 4s 2ms/step\n"
     ]
    }
   ],
   "source": [
    "multi_y_pred = model.predict(multi_X_test)"
   ]
  },
  {
   "cell_type": "code",
   "execution_count": 39,
   "id": "f4288e34-7a0b-45ed-8b1e-fd58d91ce433",
   "metadata": {
    "execution": {
     "iopub.execute_input": "2022-10-14T17:17:10.306818Z",
     "iopub.status.busy": "2022-10-14T17:17:10.306411Z",
     "iopub.status.idle": "2022-10-14T17:17:10.310857Z",
     "shell.execute_reply": "2022-10-14T17:17:10.310354Z",
     "shell.execute_reply.started": "2022-10-14T17:17:10.306793Z"
    }
   },
   "outputs": [
    {
     "data": {
      "text/plain": [
       "(55935, 128)"
      ]
     },
     "execution_count": 39,
     "metadata": {},
     "output_type": "execute_result"
    }
   ],
   "source": [
    "multi_y_pred.shape"
   ]
  },
  {
   "cell_type": "code",
   "execution_count": 38,
   "id": "dd06a4ce-77d0-45f6-9aaa-857693c0f1c4",
   "metadata": {
    "execution": {
     "iopub.execute_input": "2022-10-14T17:17:02.277567Z",
     "iopub.status.busy": "2022-10-14T17:17:02.277168Z",
     "iopub.status.idle": "2022-10-14T17:17:02.281556Z",
     "shell.execute_reply": "2022-10-14T17:17:02.281046Z",
     "shell.execute_reply.started": "2022-10-14T17:17:02.277543Z"
    }
   },
   "outputs": [
    {
     "data": {
      "text/plain": [
       "(105942, 1)"
      ]
     },
     "execution_count": 38,
     "metadata": {},
     "output_type": "execute_result"
    }
   ],
   "source": [
    "stds.shape"
   ]
  },
  {
   "cell_type": "code",
   "execution_count": 37,
   "id": "7513ef5f-bc67-4319-9a34-69add30d53ef",
   "metadata": {
    "execution": {
     "iopub.execute_input": "2022-10-14T17:16:54.197850Z",
     "iopub.status.busy": "2022-10-14T17:16:54.197431Z",
     "iopub.status.idle": "2022-10-14T17:16:54.210016Z",
     "shell.execute_reply": "2022-10-14T17:16:54.209266Z",
     "shell.execute_reply.started": "2022-10-14T17:16:54.197825Z"
    },
    "tags": []
   },
   "outputs": [
    {
     "ename": "ValueError",
     "evalue": "operands could not be broadcast together with shapes (55935,128) (105942,1) (55935,128) ",
     "output_type": "error",
     "traceback": [
      "\u001b[0;31m---------------------------------------------------------------------------\u001b[0m",
      "\u001b[0;31mValueError\u001b[0m                                Traceback (most recent call last)",
      "Input \u001b[0;32mIn [37]\u001b[0m, in \u001b[0;36m<cell line: 1>\u001b[0;34m()\u001b[0m\n\u001b[0;32m----> 1\u001b[0m multi_y_pred \u001b[38;5;241m*\u001b[39m\u001b[38;5;241m=\u001b[39m stds\n",
      "\u001b[0;31mValueError\u001b[0m: operands could not be broadcast together with shapes (55935,128) (105942,1) (55935,128) "
     ]
    }
   ],
   "source": [
    "multi_y_pred *= stds"
   ]
  },
  {
   "cell_type": "code",
   "execution_count": 9,
   "id": "5782d035-77c3-41ca-9cb1-7c8b43baa260",
   "metadata": {
    "execution": {
     "iopub.execute_input": "2022-11-02T23:40:38.419339Z",
     "iopub.status.busy": "2022-11-02T23:40:38.418958Z",
     "iopub.status.idle": "2022-11-02T23:40:51.713005Z",
     "shell.execute_reply": "2022-11-02T23:40:51.712373Z",
     "shell.execute_reply.started": "2022-11-02T23:40:38.419315Z"
    },
    "tags": []
   },
   "outputs": [
    {
     "name": "stdout",
     "output_type": "stream",
     "text": [
      "/home/jovyan/kaggle/working\n"
     ]
    }
   ],
   "source": [
    "%cd /home/jovyan/kaggle/working\n",
    "\n",
    "targets = scipy.sparse.load_npz(\"./sparse/train_multi_targets_values.sparse.npz\")"
   ]
  },
  {
   "cell_type": "code",
   "execution_count": 32,
   "id": "a15b5922-ab61-4f6c-b32e-c3d89411eea0",
   "metadata": {
    "execution": {
     "iopub.execute_input": "2022-10-14T17:12:55.694175Z",
     "iopub.status.busy": "2022-10-14T17:12:55.693781Z",
     "iopub.status.idle": "2022-10-14T17:12:55.698250Z",
     "shell.execute_reply": "2022-10-14T17:12:55.697731Z",
     "shell.execute_reply.started": "2022-10-14T17:12:55.694150Z"
    },
    "tags": []
   },
   "outputs": [
    {
     "data": {
      "text/plain": [
       "<105942x23418 sparse matrix of type '<class 'numpy.float32'>'\n",
       "\twith 407024875 stored elements in Compressed Sparse Row format>"
      ]
     },
     "execution_count": 32,
     "metadata": {},
     "output_type": "execute_result"
    }
   ],
   "source": [
    "targets"
   ]
  },
  {
   "cell_type": "code",
   "execution_count": 33,
   "id": "8da552c5-8555-45db-b20a-216a9d300c09",
   "metadata": {
    "execution": {
     "iopub.execute_input": "2022-10-14T17:12:57.801351Z",
     "iopub.status.busy": "2022-10-14T17:12:57.800963Z",
     "iopub.status.idle": "2022-10-14T17:13:00.264353Z",
     "shell.execute_reply": "2022-10-14T17:13:00.263793Z",
     "shell.execute_reply.started": "2022-10-14T17:12:57.801327Z"
    },
    "tags": []
   },
   "outputs": [
    {
     "data": {
      "text/plain": [
       "<105942x22858 sparse matrix of type '<class 'numpy.float32'>'\n",
       "\twith 407024875 stored elements in Compressed Sparse Row format>"
      ]
     },
     "execution_count": 33,
     "metadata": {},
     "output_type": "execute_result"
    }
   ],
   "source": [
    "targets = scipy.sparse.load_npz(\"./sparse/train_multi_targets_values.sparse.npz\")\n",
    "scprep.filter.remove_empty_genes(targets)"
   ]
  },
  {
   "cell_type": "markdown",
   "id": "17d3460b-f672-4e06-bae7-e3600057d52a",
   "metadata": {},
   "source": [
    "Need to remember to add the zero genes back in at the end!"
   ]
  },
  {
   "cell_type": "code",
   "execution_count": 28,
   "id": "0f834220-ba1f-44d3-b4df-2f8c9daefdee",
   "metadata": {
    "execution": {
     "iopub.execute_input": "2022-10-14T17:11:24.905703Z",
     "iopub.status.busy": "2022-10-14T17:11:24.905289Z",
     "iopub.status.idle": "2022-10-14T17:11:25.068809Z",
     "shell.execute_reply": "2022-10-14T17:11:25.068027Z",
     "shell.execute_reply.started": "2022-10-14T17:11:24.905678Z"
    },
    "tags": []
   },
   "outputs": [
    {
     "ename": "ValueError",
     "evalue": "n_components == 128, must be <= 76.",
     "output_type": "error",
     "traceback": [
      "\u001b[0;31m---------------------------------------------------------------------------\u001b[0m",
      "\u001b[0;31mValueError\u001b[0m                                Traceback (most recent call last)",
      "Input \u001b[0;32mIn [28]\u001b[0m, in \u001b[0;36m<cell line: 9>\u001b[0;34m()\u001b[0m\n\u001b[1;32m      6\u001b[0m targets \u001b[38;5;241m/\u001b[39m\u001b[38;5;241m=\u001b[39m targets\u001b[38;5;241m.\u001b[39mstd(axis\u001b[38;5;241m=\u001b[39m\u001b[38;5;241m1\u001b[39m)\u001b[38;5;241m.\u001b[39mreshape(\u001b[38;5;241m-\u001b[39m\u001b[38;5;241m1\u001b[39m, \u001b[38;5;241m1\u001b[39m)\n\u001b[1;32m      8\u001b[0m pca_train \u001b[38;5;241m=\u001b[39m TruncatedSVD(n_components\u001b[38;5;241m=\u001b[39m\u001b[38;5;241m128\u001b[39m, random_state\u001b[38;5;241m=\u001b[39m\u001b[38;5;241m1\u001b[39m)\n\u001b[0;32m----> 9\u001b[0m targets \u001b[38;5;241m=\u001b[39m \u001b[43mpca_train\u001b[49m\u001b[38;5;241;43m.\u001b[39;49m\u001b[43mfit_transform\u001b[49m\u001b[43m(\u001b[49m\u001b[43mtargets\u001b[49m\u001b[43m)\u001b[49m\n\u001b[1;32m     11\u001b[0m get_ipython()\u001b[38;5;241m.\u001b[39mrun_line_magic(\u001b[38;5;124m'\u001b[39m\u001b[38;5;124mcd\u001b[39m\u001b[38;5;124m'\u001b[39m, \u001b[38;5;124m'\u001b[39m\u001b[38;5;124mmulti_pca\u001b[39m\u001b[38;5;124m'\u001b[39m)\n\u001b[1;32m     13\u001b[0m np\u001b[38;5;241m.\u001b[39msavetxt(\u001b[38;5;124m\"\u001b[39m\u001b[38;5;124mtargets_norm_128.csv\u001b[39m\u001b[38;5;124m\"\u001b[39m, targets, delimiter\u001b[38;5;241m=\u001b[39m\u001b[38;5;124m\"\u001b[39m\u001b[38;5;124m,\u001b[39m\u001b[38;5;124m\"\u001b[39m)\n",
      "File \u001b[0;32m/srv/conda/envs/saturn/lib/python3.9/site-packages/sklearn/decomposition/_truncated_svd.py:232\u001b[0m, in \u001b[0;36mTruncatedSVD.fit_transform\u001b[0;34m(self, X, y)\u001b[0m\n\u001b[1;32m    230\u001b[0m     k \u001b[38;5;241m=\u001b[39m \u001b[38;5;28mself\u001b[39m\u001b[38;5;241m.\u001b[39mn_components\n\u001b[1;32m    231\u001b[0m     n_features \u001b[38;5;241m=\u001b[39m X\u001b[38;5;241m.\u001b[39mshape[\u001b[38;5;241m1\u001b[39m]\n\u001b[0;32m--> 232\u001b[0m     \u001b[43mcheck_scalar\u001b[49m\u001b[43m(\u001b[49m\n\u001b[1;32m    233\u001b[0m \u001b[43m        \u001b[49m\u001b[43mk\u001b[49m\u001b[43m,\u001b[49m\n\u001b[1;32m    234\u001b[0m \u001b[43m        \u001b[49m\u001b[38;5;124;43m\"\u001b[39;49m\u001b[38;5;124;43mn_components\u001b[39;49m\u001b[38;5;124;43m\"\u001b[39;49m\u001b[43m,\u001b[49m\n\u001b[1;32m    235\u001b[0m \u001b[43m        \u001b[49m\u001b[43mtarget_type\u001b[49m\u001b[38;5;241;43m=\u001b[39;49m\u001b[43mIntegral\u001b[49m\u001b[43m,\u001b[49m\n\u001b[1;32m    236\u001b[0m \u001b[43m        \u001b[49m\u001b[43mmin_val\u001b[49m\u001b[38;5;241;43m=\u001b[39;49m\u001b[38;5;241;43m1\u001b[39;49m\u001b[43m,\u001b[49m\n\u001b[1;32m    237\u001b[0m \u001b[43m        \u001b[49m\u001b[43mmax_val\u001b[49m\u001b[38;5;241;43m=\u001b[39;49m\u001b[43mn_features\u001b[49m\u001b[43m,\u001b[49m\n\u001b[1;32m    238\u001b[0m \u001b[43m    \u001b[49m\u001b[43m)\u001b[49m\n\u001b[1;32m    239\u001b[0m     U, Sigma, VT \u001b[38;5;241m=\u001b[39m randomized_svd(\n\u001b[1;32m    240\u001b[0m         X,\n\u001b[1;32m    241\u001b[0m         \u001b[38;5;28mself\u001b[39m\u001b[38;5;241m.\u001b[39mn_components,\n\u001b[0;32m   (...)\u001b[0m\n\u001b[1;32m    245\u001b[0m         random_state\u001b[38;5;241m=\u001b[39mrandom_state,\n\u001b[1;32m    246\u001b[0m     )\n\u001b[1;32m    247\u001b[0m \u001b[38;5;28;01melse\u001b[39;00m:\n",
      "File \u001b[0;32m/srv/conda/envs/saturn/lib/python3.9/site-packages/sklearn/utils/validation.py:1489\u001b[0m, in \u001b[0;36mcheck_scalar\u001b[0;34m(x, name, target_type, min_val, max_val, include_boundaries)\u001b[0m\n\u001b[1;32m   1485\u001b[0m comparison_operator \u001b[38;5;241m=\u001b[39m (\n\u001b[1;32m   1486\u001b[0m     operator\u001b[38;5;241m.\u001b[39mgt \u001b[38;5;28;01mif\u001b[39;00m include_boundaries \u001b[38;5;129;01min\u001b[39;00m (\u001b[38;5;124m\"\u001b[39m\u001b[38;5;124mright\u001b[39m\u001b[38;5;124m\"\u001b[39m, \u001b[38;5;124m\"\u001b[39m\u001b[38;5;124mboth\u001b[39m\u001b[38;5;124m\"\u001b[39m) \u001b[38;5;28;01melse\u001b[39;00m operator\u001b[38;5;241m.\u001b[39mge\n\u001b[1;32m   1487\u001b[0m )\n\u001b[1;32m   1488\u001b[0m \u001b[38;5;28;01mif\u001b[39;00m max_val \u001b[38;5;129;01mis\u001b[39;00m \u001b[38;5;129;01mnot\u001b[39;00m \u001b[38;5;28;01mNone\u001b[39;00m \u001b[38;5;129;01mand\u001b[39;00m comparison_operator(x, max_val):\n\u001b[0;32m-> 1489\u001b[0m     \u001b[38;5;28;01mraise\u001b[39;00m \u001b[38;5;167;01mValueError\u001b[39;00m(\n\u001b[1;32m   1490\u001b[0m         \u001b[38;5;124mf\u001b[39m\u001b[38;5;124m\"\u001b[39m\u001b[38;5;132;01m{\u001b[39;00mname\u001b[38;5;132;01m}\u001b[39;00m\u001b[38;5;124m == \u001b[39m\u001b[38;5;132;01m{\u001b[39;00mx\u001b[38;5;132;01m}\u001b[39;00m\u001b[38;5;124m, must be\u001b[39m\u001b[38;5;124m\"\u001b[39m\n\u001b[1;32m   1491\u001b[0m         \u001b[38;5;124mf\u001b[39m\u001b[38;5;124m\"\u001b[39m\u001b[38;5;124m \u001b[39m\u001b[38;5;132;01m{\u001b[39;00m\u001b[38;5;124m'\u001b[39m\u001b[38;5;124m<=\u001b[39m\u001b[38;5;124m'\u001b[39m \u001b[38;5;28;01mif\u001b[39;00m include_boundaries \u001b[38;5;129;01min\u001b[39;00m (\u001b[38;5;124m'\u001b[39m\u001b[38;5;124mright\u001b[39m\u001b[38;5;124m'\u001b[39m, \u001b[38;5;124m'\u001b[39m\u001b[38;5;124mboth\u001b[39m\u001b[38;5;124m'\u001b[39m) \u001b[38;5;28;01melse\u001b[39;00m \u001b[38;5;124m'\u001b[39m\u001b[38;5;124m<\u001b[39m\u001b[38;5;124m'\u001b[39m\u001b[38;5;132;01m}\u001b[39;00m\u001b[38;5;124m \u001b[39m\u001b[38;5;132;01m{\u001b[39;00mmax_val\u001b[38;5;132;01m}\u001b[39;00m\u001b[38;5;124m.\u001b[39m\u001b[38;5;124m\"\u001b[39m\n\u001b[1;32m   1492\u001b[0m     )\n\u001b[1;32m   1494\u001b[0m \u001b[38;5;28;01mreturn\u001b[39;00m x\n",
      "\u001b[0;31mValueError\u001b[0m: n_components == 128, must be <= 76."
     ]
    }
   ],
   "source": [
    "targets = scprep.filter.remove_empty_genes(targets)\n",
    "\n",
    "# Normalize the targets row-wise: This doesn't change the correlations,\n",
    "# and negative_correlation_loss depends on it\n",
    "targets -= targets.mean(axis=1).reshape(-1, 1)\n",
    "targets /= targets.std(axis=1).reshape(-1, 1)\n",
    "\n",
    "pca_train = TruncatedSVD(n_components=128, random_state=1)\n",
    "targets = pca_train.fit_transform(targets)\n",
    "\n",
    "%cd multi_pca\n",
    "\n",
    "np.savetxt(\"targets_norm_128.csv\", targets, delimiter=\",\")\n",
    "np.savetxt(\"pca_for_targets_128.csv\",pca_train,delimiter=\",\")"
   ]
  },
  {
   "cell_type": "code",
   "execution_count": 43,
   "id": "68ab5d6d-93d2-4022-a548-3f772e31f1f9",
   "metadata": {
    "execution": {
     "iopub.execute_input": "2022-10-14T17:20:47.110825Z",
     "iopub.status.busy": "2022-10-14T17:20:47.110424Z",
     "iopub.status.idle": "2022-10-14T17:20:49.546565Z",
     "shell.execute_reply": "2022-10-14T17:20:49.546008Z",
     "shell.execute_reply.started": "2022-10-14T17:20:47.110799Z"
    },
    "tags": []
   },
   "outputs": [
    {
     "data": {
      "text/plain": [
       "(array([  693.,  4423., 11703., 23173., 29348., 21664., 10258.,  3490.,\n",
       "         1107.,    83.]),\n",
       " array([0.32211512, 0.43754733, 0.5529795 , 0.66841173, 0.78384393,\n",
       "        0.89927614, 1.0147083 , 1.1301405 , 1.2455727 , 1.361005  ,\n",
       "        1.4764371 ], dtype=float32),\n",
       " <BarContainer object of 10 artists>)"
      ]
     },
     "execution_count": 43,
     "metadata": {},
     "output_type": "execute_result"
    },
    {
     "data": {
      "image/png": "[encoded data removed]",
      "text/plain": [
       "<Figure size 432x288 with 1 Axes>"
      ]
     },
     "metadata": {
      "needs_background": "light"
     },
     "output_type": "display_data"
    }
   ],
   "source": [
    "plt.hist(targets.mean(axis=1).reshape(-1, 1))"
   ]
  },
  {
   "cell_type": "code",
   "execution_count": 52,
   "id": "bcbb1c97-0755-4cb0-994a-93fe686cc100",
   "metadata": {
    "execution": {
     "iopub.execute_input": "2022-10-14T17:24:15.036197Z",
     "iopub.status.busy": "2022-10-14T17:24:15.035792Z",
     "iopub.status.idle": "2022-10-14T17:24:15.040260Z",
     "shell.execute_reply": "2022-10-14T17:24:15.039740Z",
     "shell.execute_reply.started": "2022-10-14T17:24:15.036173Z"
    },
    "tags": []
   },
   "outputs": [
    {
     "data": {
      "text/plain": [
       "23418"
      ]
     },
     "execution_count": 52,
     "metadata": {},
     "output_type": "execute_result"
    }
   ],
   "source": [
    "targets.shape[1]"
   ]
  },
  {
   "cell_type": "code",
   "execution_count": 59,
   "id": "1b16cbdd-f6b0-4b17-8aa6-387367d396e4",
   "metadata": {
    "execution": {
     "iopub.execute_input": "2022-10-14T17:26:19.113279Z",
     "iopub.status.busy": "2022-10-14T17:26:19.112876Z",
     "iopub.status.idle": "2022-10-14T17:26:25.782268Z",
     "shell.execute_reply": "2022-10-14T17:26:25.781637Z",
     "shell.execute_reply.started": "2022-10-14T17:26:19.113255Z"
    },
    "tags": []
   },
   "outputs": [],
   "source": [
    "N = targets.shape[1]\n",
    "sqr = targets.copy() \n",
    "sqr.data **= 2 # square the data, i.e. just the non-zero data\n",
    "stds = np.sqrt(sqr.sum(axis=1)/N - targets.mean()**2)"
   ]
  },
  {
   "cell_type": "code",
   "execution_count": 60,
   "id": "84cf0368-0aae-4062-bc7c-31e8e184472e",
   "metadata": {
    "execution": {
     "iopub.execute_input": "2022-10-14T17:26:28.925330Z",
     "iopub.status.busy": "2022-10-14T17:26:28.924933Z",
     "iopub.status.idle": "2022-10-14T17:26:28.929349Z",
     "shell.execute_reply": "2022-10-14T17:26:28.928837Z",
     "shell.execute_reply.started": "2022-10-14T17:26:28.925306Z"
    },
    "tags": []
   },
   "outputs": [
    {
     "data": {
      "text/plain": [
       "(105942, 1)"
      ]
     },
     "execution_count": 60,
     "metadata": {},
     "output_type": "execute_result"
    }
   ],
   "source": [
    "stds.shape"
   ]
  },
  {
   "cell_type": "code",
   "execution_count": 61,
   "id": "b1f71865-50e3-4870-9a78-e37ae7bd82d5",
   "metadata": {
    "execution": {
     "iopub.execute_input": "2022-10-14T17:26:31.022347Z",
     "iopub.status.busy": "2022-10-14T17:26:31.021959Z",
     "iopub.status.idle": "2022-10-14T17:26:31.130925Z",
     "shell.execute_reply": "2022-10-14T17:26:31.130373Z",
     "shell.execute_reply.started": "2022-10-14T17:26:31.022322Z"
    }
   },
   "outputs": [
    {
     "data": {
      "text/plain": [
       "(array([   72.,   716.,  2443.,  6370., 14116., 26007., 30569., 19227.,\n",
       "         5722.,   700.]),\n",
       " array([1.1563938, 1.2811863, 1.4059789, 1.5307715, 1.6555641, 1.7803566,\n",
       "        1.9051492, 2.0299418, 2.1547344, 2.279527 , 2.4043195],\n",
       "       dtype=float32),\n",
       " <BarContainer object of 10 artists>)"
      ]
     },
     "execution_count": 61,
     "metadata": {},
     "output_type": "execute_result"
    },
    {
     "data": {
      "image/png": "[encoded data removed]",
      "text/plain": [
       "<Figure size 432x288 with 1 Axes>"
      ]
     },
     "metadata": {
      "needs_background": "light"
     },
     "output_type": "display_data"
    }
   ],
   "source": [
    "plt.hist(stds.reshape(-1, 1))"
   ]
  },
  {
   "cell_type": "code",
   "execution_count": 72,
   "id": "dc6bfb63-4dc1-42dc-9d7d-6e2872e5c9d8",
   "metadata": {
    "execution": {
     "iopub.execute_input": "2022-10-14T17:33:04.412799Z",
     "iopub.status.busy": "2022-10-14T17:33:04.412395Z",
     "iopub.status.idle": "2022-10-14T17:33:04.425379Z",
     "shell.execute_reply": "2022-10-14T17:33:04.424832Z",
     "shell.execute_reply.started": "2022-10-14T17:33:04.412774Z"
    },
    "tags": []
   },
   "outputs": [],
   "source": [
    "y_means = multi_y_train.mean(axis=1).reshape(-1, 1)"
   ]
  },
  {
   "cell_type": "code",
   "execution_count": 65,
   "id": "40d3292e-9a85-4434-b4f5-af4cfbd50777",
   "metadata": {
    "execution": {
     "iopub.execute_input": "2022-10-14T17:31:34.903818Z",
     "iopub.status.busy": "2022-10-14T17:31:34.903413Z",
     "iopub.status.idle": "2022-10-14T17:31:34.908300Z",
     "shell.execute_reply": "2022-10-14T17:31:34.907772Z",
     "shell.execute_reply.started": "2022-10-14T17:31:34.903793Z"
    },
    "tags": []
   },
   "outputs": [
    {
     "data": {
      "text/plain": [
       "array([[1.36506398],\n",
       "       [1.77104668],\n",
       "       [0.80547902],\n",
       "       ...,\n",
       "       [0.81055583],\n",
       "       [1.11209707],\n",
       "       [0.23754894]])"
      ]
     },
     "execution_count": 65,
     "metadata": {},
     "output_type": "execute_result"
    }
   ],
   "source": [
    "y_means"
   ]
  },
  {
   "cell_type": "code",
   "execution_count": 73,
   "id": "34119a49-2a98-4a96-ba19-ec05f11b9328",
   "metadata": {
    "execution": {
     "iopub.execute_input": "2022-10-14T17:33:06.814706Z",
     "iopub.status.busy": "2022-10-14T17:33:06.814324Z",
     "iopub.status.idle": "2022-10-14T17:33:11.481961Z",
     "shell.execute_reply": "2022-10-14T17:33:11.481354Z",
     "shell.execute_reply.started": "2022-10-14T17:33:06.814682Z"
    },
    "tags": []
   },
   "outputs": [
    {
     "name": "stdout",
     "output_type": "stream",
     "text": [
      "Epoch 1/1000\n",
      "Batch 0: Invalid loss, terminating training\n",
      "270/270 - 1s - loss: nan - negative_correlation_loss: nan - val_loss: nan - val_negative_correlation_loss: nan - lr: 0.0100 - 1s/epoch - 5ms/step\n",
      "1/1 [==============================] - 0s 99ms/step\n"
     ]
    },
    {
     "name": "stderr",
     "output_type": "stream",
     "text": [
      "/srv/conda/envs/saturn/lib/python3.9/site-packages/numpy/lib/function_base.py:2683: RuntimeWarning: Degrees of freedom <= 0 for slice\n",
      "  c = cov(x, y, rowvar, dtype=dtype)\n",
      "/srv/conda/envs/saturn/lib/python3.9/site-packages/numpy/lib/function_base.py:2542: RuntimeWarning: divide by zero encountered in true_divide\n",
      "  c *= np.true_divide(1, fact)\n",
      "/srv/conda/envs/saturn/lib/python3.9/site-packages/numpy/lib/function_base.py:2542: RuntimeWarning: invalid value encountered in multiply\n",
      "  c *= np.true_divide(1, fact)\n"
     ]
    },
    {
     "name": "stdout",
     "output_type": "stream",
     "text": [
      "Fold 0:   0 epochs, corr =  nan\n"
     ]
    }
   ],
   "source": [
    "mean_model = fit(multi_X_train,y_means,meta)"
   ]
  },
  {
   "cell_type": "code",
   "execution_count": 68,
   "id": "e8ab5f5c-50be-4fbc-9dba-5699b58f308a",
   "metadata": {
    "execution": {
     "iopub.execute_input": "2022-10-14T17:32:31.794418Z",
     "iopub.status.busy": "2022-10-14T17:32:31.794030Z",
     "iopub.status.idle": "2022-10-14T17:32:31.798431Z",
     "shell.execute_reply": "2022-10-14T17:32:31.797919Z",
     "shell.execute_reply.started": "2022-10-14T17:32:31.794394Z"
    }
   },
   "outputs": [
    {
     "data": {
      "text/plain": [
       "(105942, 1)"
      ]
     },
     "execution_count": 68,
     "metadata": {},
     "output_type": "execute_result"
    }
   ],
   "source": [
    "y_means.shape"
   ]
  },
  {
   "cell_type": "code",
   "execution_count": 69,
   "id": "6e205a29-831b-4cfc-92f7-cc825603aa31",
   "metadata": {
    "execution": {
     "iopub.execute_input": "2022-10-14T17:32:38.012420Z",
     "iopub.status.busy": "2022-10-14T17:32:38.012036Z",
     "iopub.status.idle": "2022-10-14T17:32:38.016535Z",
     "shell.execute_reply": "2022-10-14T17:32:38.016015Z",
     "shell.execute_reply.started": "2022-10-14T17:32:38.012396Z"
    }
   },
   "outputs": [
    {
     "data": {
      "text/plain": [
       "(105942, 128)"
      ]
     },
     "execution_count": 69,
     "metadata": {},
     "output_type": "execute_result"
    }
   ],
   "source": [
    "multi_X_train.shape"
   ]
  },
  {
   "cell_type": "code",
   "execution_count": 74,
   "id": "e0d79ddd-d80f-4b9a-a893-968f7d1301e4",
   "metadata": {
    "execution": {
     "iopub.execute_input": "2022-10-14T17:33:50.272788Z",
     "iopub.status.busy": "2022-10-14T17:33:50.272370Z",
     "iopub.status.idle": "2022-10-14T17:33:50.344199Z",
     "shell.execute_reply": "2022-10-14T17:33:50.343571Z",
     "shell.execute_reply.started": "2022-10-14T17:33:50.272762Z"
    }
   },
   "outputs": [],
   "source": [
    "y_stds = multi_y_train.std(axis=1).reshape(-1, 1)"
   ]
  },
  {
   "cell_type": "code",
   "execution_count": 75,
   "id": "0b56f2ea-9f56-452e-992a-38f2779d0ccc",
   "metadata": {
    "execution": {
     "iopub.execute_input": "2022-10-14T17:34:13.576347Z",
     "iopub.status.busy": "2022-10-14T17:34:13.575950Z",
     "iopub.status.idle": "2022-10-14T17:34:13.579617Z",
     "shell.execute_reply": "2022-10-14T17:34:13.579071Z",
     "shell.execute_reply.started": "2022-10-14T17:34:13.576324Z"
    }
   },
   "outputs": [],
   "source": [
    "y_stats = np.hstack([y_means,y_stds])"
   ]
  },
  {
   "cell_type": "code",
   "execution_count": 89,
   "id": "7098ccf7-3e98-4824-8cc4-719f4c0ffd63",
   "metadata": {
    "execution": {
     "iopub.execute_input": "2022-10-14T17:43:45.760858Z",
     "iopub.status.busy": "2022-10-14T17:43:45.760446Z",
     "iopub.status.idle": "2022-10-14T17:43:45.765489Z",
     "shell.execute_reply": "2022-10-14T17:43:45.764937Z",
     "shell.execute_reply.started": "2022-10-14T17:43:45.760835Z"
    },
    "tags": []
   },
   "outputs": [
    {
     "data": {
      "text/plain": [
       "array([[ 1.36506398, 20.13082698],\n",
       "       [ 1.77104668, 19.38311245],\n",
       "       [ 0.80547902, 18.89277317],\n",
       "       ...,\n",
       "       [ 0.81055583, 22.24131183],\n",
       "       [ 1.11209707, 20.19409245],\n",
       "       [ 0.23754894, 13.75422981]])"
      ]
     },
     "execution_count": 89,
     "metadata": {},
     "output_type": "execute_result"
    }
   ],
   "source": [
    "y_stats"
   ]
  },
  {
   "cell_type": "code",
   "execution_count": 90,
   "id": "87733a8f-eeab-47df-a34c-39744fba6ec1",
   "metadata": {
    "execution": {
     "iopub.execute_input": "2022-10-14T17:44:31.597194Z",
     "iopub.status.busy": "2022-10-14T17:44:31.596780Z",
     "iopub.status.idle": "2022-10-14T17:44:31.601942Z",
     "shell.execute_reply": "2022-10-14T17:44:31.601375Z",
     "shell.execute_reply.started": "2022-10-14T17:44:31.597170Z"
    }
   },
   "outputs": [],
   "source": [
    "mean_of_stats = y_stats.mean(axis=0)"
   ]
  },
  {
   "cell_type": "code",
   "execution_count": 91,
   "id": "2e710203-5e36-4351-a70f-4a9bd2c3ec76",
   "metadata": {
    "execution": {
     "iopub.execute_input": "2022-10-14T17:44:45.968857Z",
     "iopub.status.busy": "2022-10-14T17:44:45.968447Z",
     "iopub.status.idle": "2022-10-14T17:44:45.976752Z",
     "shell.execute_reply": "2022-10-14T17:44:45.976185Z",
     "shell.execute_reply.started": "2022-10-14T17:44:45.968834Z"
    }
   },
   "outputs": [],
   "source": [
    "std_of_stats = y_stats.std(axis=0)"
   ]
  },
  {
   "cell_type": "code",
   "execution_count": 98,
   "id": "96cff1be-0970-4a5a-94f1-877929b21b9a",
   "metadata": {
    "execution": {
     "iopub.execute_input": "2022-10-14T17:46:12.322589Z",
     "iopub.status.busy": "2022-10-14T17:46:12.322198Z",
     "iopub.status.idle": "2022-10-14T17:46:12.327350Z",
     "shell.execute_reply": "2022-10-14T17:46:12.326782Z",
     "shell.execute_reply.started": "2022-10-14T17:46:12.322566Z"
    },
    "tags": []
   },
   "outputs": [],
   "source": [
    "y_stats_norm = ((y_stats - mean_of_stats)/ std_of_stats)"
   ]
  },
  {
   "cell_type": "code",
   "execution_count": 99,
   "id": "b6e5b641-fde2-4488-80cb-cb2eda2d22a2",
   "metadata": {
    "execution": {
     "iopub.execute_input": "2022-10-14T17:46:14.532165Z",
     "iopub.status.busy": "2022-10-14T17:46:14.531778Z",
     "iopub.status.idle": "2022-10-14T17:47:05.800632Z",
     "shell.execute_reply": "2022-10-14T17:47:05.800032Z",
     "shell.execute_reply.started": "2022-10-14T17:46:14.532141Z"
    },
    "tags": []
   },
   "outputs": [
    {
     "name": "stdout",
     "output_type": "stream",
     "text": [
      "Epoch 1/1000\n",
      "270/270 - 3s - loss: 3.7937 - mean_squared_error: 3.6839 - val_loss: 0.6149 - val_mean_squared_error: 0.5099 - lr: 0.0100 - 3s/epoch - 10ms/step\n",
      "Epoch 2/1000\n",
      "270/270 - 2s - loss: 0.4895 - mean_squared_error: 0.3893 - val_loss: 0.5712 - val_mean_squared_error: 0.4760 - lr: 0.0100 - 2s/epoch - 7ms/step\n",
      "Epoch 3/1000\n",
      "270/270 - 2s - loss: 0.4573 - mean_squared_error: 0.3652 - val_loss: 0.5508 - val_mean_squared_error: 0.4623 - lr: 0.0100 - 2s/epoch - 7ms/step\n",
      "Epoch 4/1000\n",
      "270/270 - 2s - loss: 0.4375 - mean_squared_error: 0.3510 - val_loss: 0.5890 - val_mean_squared_error: 0.5052 - lr: 0.0100 - 2s/epoch - 7ms/step\n",
      "Epoch 5/1000\n",
      "270/270 - 2s - loss: 0.4230 - mean_squared_error: 0.3404 - val_loss: 0.5348 - val_mean_squared_error: 0.4548 - lr: 0.0100 - 2s/epoch - 7ms/step\n",
      "Epoch 6/1000\n",
      "270/270 - 2s - loss: 0.4097 - mean_squared_error: 0.3305 - val_loss: 0.5254 - val_mean_squared_error: 0.4481 - lr: 0.0100 - 2s/epoch - 7ms/step\n",
      "Epoch 7/1000\n",
      "270/270 - 2s - loss: 0.4047 - mean_squared_error: 0.3276 - val_loss: 0.5409 - val_mean_squared_error: 0.4655 - lr: 0.0100 - 2s/epoch - 7ms/step\n",
      "Epoch 8/1000\n",
      "270/270 - 2s - loss: 0.3952 - mean_squared_error: 0.3199 - val_loss: 0.5376 - val_mean_squared_error: 0.4637 - lr: 0.0100 - 2s/epoch - 7ms/step\n",
      "Epoch 9/1000\n",
      "270/270 - 2s - loss: 0.3934 - mean_squared_error: 0.3193 - val_loss: 0.5302 - val_mean_squared_error: 0.4577 - lr: 0.0100 - 2s/epoch - 7ms/step\n",
      "Epoch 10/1000\n",
      "\n",
      "Epoch 10: ReduceLROnPlateau reducing learning rate to 0.004999999888241291.\n",
      "270/270 - 2s - loss: 0.3861 - mean_squared_error: 0.3135 - val_loss: 0.5410 - val_mean_squared_error: 0.4696 - lr: 0.0100 - 2s/epoch - 7ms/step\n",
      "Epoch 11/1000\n",
      "270/270 - 2s - loss: 0.3496 - mean_squared_error: 0.2796 - val_loss: 0.5132 - val_mean_squared_error: 0.4447 - lr: 0.0050 - 2s/epoch - 7ms/step\n",
      "Epoch 12/1000\n",
      "270/270 - 2s - loss: 0.3409 - mean_squared_error: 0.2723 - val_loss: 0.5126 - val_mean_squared_error: 0.4447 - lr: 0.0050 - 2s/epoch - 7ms/step\n",
      "Epoch 13/1000\n",
      "270/270 - 2s - loss: 0.3377 - mean_squared_error: 0.2695 - val_loss: 0.5289 - val_mean_squared_error: 0.4609 - lr: 0.0050 - 2s/epoch - 7ms/step\n",
      "Epoch 14/1000\n",
      "270/270 - 2s - loss: 0.3364 - mean_squared_error: 0.2680 - val_loss: 0.5157 - val_mean_squared_error: 0.4480 - lr: 0.0050 - 2s/epoch - 7ms/step\n",
      "Epoch 15/1000\n",
      "270/270 - 2s - loss: 0.3316 - mean_squared_error: 0.2637 - val_loss: 0.5307 - val_mean_squared_error: 0.4629 - lr: 0.0050 - 2s/epoch - 7ms/step\n",
      "Epoch 16/1000\n",
      "\n",
      "Epoch 16: ReduceLROnPlateau reducing learning rate to 0.0024999999441206455.\n",
      "270/270 - 2s - loss: 0.3321 - mean_squared_error: 0.2640 - val_loss: 0.5433 - val_mean_squared_error: 0.4756 - lr: 0.0050 - 2s/epoch - 7ms/step\n",
      "Epoch 17/1000\n",
      "270/270 - 2s - loss: 0.3000 - mean_squared_error: 0.2330 - val_loss: 0.5284 - val_mean_squared_error: 0.4622 - lr: 0.0025 - 2s/epoch - 7ms/step\n",
      "Epoch 18/1000\n",
      "270/270 - 2s - loss: 0.2898 - mean_squared_error: 0.2240 - val_loss: 0.5338 - val_mean_squared_error: 0.4685 - lr: 0.0025 - 2s/epoch - 7ms/step\n",
      "Epoch 19/1000\n",
      "270/270 - 2s - loss: 0.2864 - mean_squared_error: 0.2214 - val_loss: 0.5614 - val_mean_squared_error: 0.4968 - lr: 0.0025 - 2s/epoch - 7ms/step\n",
      "Epoch 20/1000\n",
      "\n",
      "Epoch 20: ReduceLROnPlateau reducing learning rate to 0.0012499999720603228.\n",
      "270/270 - 2s - loss: 0.2849 - mean_squared_error: 0.2202 - val_loss: 0.5424 - val_mean_squared_error: 0.4781 - lr: 0.0025 - 2s/epoch - 7ms/step\n",
      "Epoch 21/1000\n",
      "270/270 - 2s - loss: 0.2625 - mean_squared_error: 0.1985 - val_loss: 0.5464 - val_mean_squared_error: 0.4828 - lr: 0.0012 - 2s/epoch - 7ms/step\n",
      "Epoch 22/1000\n",
      "270/270 - 2s - loss: 0.2571 - mean_squared_error: 0.1938 - val_loss: 0.5493 - val_mean_squared_error: 0.4863 - lr: 0.0012 - 2s/epoch - 7ms/step\n",
      "Epoch 23/1000\n",
      "270/270 - 2s - loss: 0.2534 - mean_squared_error: 0.1906 - val_loss: 0.5478 - val_mean_squared_error: 0.4854 - lr: 0.0012 - 2s/epoch - 7ms/step\n",
      "Epoch 24/1000\n",
      "\n",
      "Epoch 24: ReduceLROnPlateau reducing learning rate to 0.0006249999860301614.\n",
      "270/270 - 2s - loss: 0.2512 - mean_squared_error: 0.1889 - val_loss: 0.5777 - val_mean_squared_error: 0.5157 - lr: 0.0012 - 2s/epoch - 7ms/step\n",
      "1/1 [==============================] - 0s 101ms/step\n",
      "Fold 0:  23 epochs, corr =  0.53513\n"
     ]
    }
   ],
   "source": [
    "mean_model = fit(multi_X_train,y_stats_norm,meta,loss=tf.keras.losses.MeanSquaredError())"
   ]
  },
  {
   "cell_type": "code",
   "execution_count": 100,
   "id": "f35b2ad3-06cf-4be0-9365-e18275a7f198",
   "metadata": {
    "execution": {
     "iopub.execute_input": "2022-10-14T17:47:17.332433Z",
     "iopub.status.busy": "2022-10-14T17:47:17.332035Z",
     "iopub.status.idle": "2022-10-14T17:47:21.521078Z",
     "shell.execute_reply": "2022-10-14T17:47:21.520311Z",
     "shell.execute_reply.started": "2022-10-14T17:47:17.332410Z"
    },
    "tags": []
   },
   "outputs": [
    {
     "name": "stdout",
     "output_type": "stream",
     "text": [
      "1748/1748 [==============================] - 4s 2ms/step\n"
     ]
    }
   ],
   "source": [
    "y_test_stats = mean_model.predict(multi_X_test)"
   ]
  },
  {
   "cell_type": "code",
   "execution_count": 101,
   "id": "ae585661-8d14-4816-af0b-83358213d9ac",
   "metadata": {
    "execution": {
     "iopub.execute_input": "2022-10-14T17:47:22.960130Z",
     "iopub.status.busy": "2022-10-14T17:47:22.959731Z",
     "iopub.status.idle": "2022-10-14T17:47:23.097107Z",
     "shell.execute_reply": "2022-10-14T17:47:23.096436Z",
     "shell.execute_reply.started": "2022-10-14T17:47:22.960106Z"
    },
    "tags": []
   },
   "outputs": [
    {
     "data": {
      "text/plain": [
       "(array([[1.7300e+02, 4.3060e+03, 1.0633e+04, 1.2556e+04, 1.1685e+04,\n",
       "         8.6500e+03, 5.1090e+03, 2.2750e+03, 5.0400e+02, 4.4000e+01],\n",
       "        [1.4500e+02, 3.6700e+03, 9.4140e+03, 1.4645e+04, 1.7098e+04,\n",
       "         8.3900e+03, 2.3770e+03, 1.9500e+02, 1.0000e+00, 0.0000e+00]]),\n",
       " array([-3.3937087 , -2.6567645 , -1.9198203 , -1.182876  , -0.44593182,\n",
       "         0.2910124 ,  1.0279566 ,  1.7649008 ,  2.5018451 ,  3.2387893 ,\n",
       "         3.9757335 ], dtype=float32),\n",
       " <a list of 2 BarContainer objects>)"
      ]
     },
     "execution_count": 101,
     "metadata": {},
     "output_type": "execute_result"
    },
    {
     "data": {
      "image/png": "[encoded data removed]",
      "text/plain": [
       "<Figure size 432x288 with 1 Axes>"
      ]
     },
     "metadata": {
      "needs_background": "light"
     },
     "output_type": "display_data"
    }
   ],
   "source": [
    "plt.hist(y_test_stats)"
   ]
  },
  {
   "cell_type": "code",
   "execution_count": 102,
   "id": "c25f0d97-28f2-43d8-a1f0-146530517548",
   "metadata": {
    "execution": {
     "iopub.execute_input": "2022-10-14T17:48:13.334335Z",
     "iopub.status.busy": "2022-10-14T17:48:13.333944Z",
     "iopub.status.idle": "2022-10-14T17:48:13.458218Z",
     "shell.execute_reply": "2022-10-14T17:48:13.457608Z",
     "shell.execute_reply.started": "2022-10-14T17:48:13.334311Z"
    }
   },
   "outputs": [
    {
     "data": {
      "text/plain": [
       "(array([[4.7673e+04, 8.2620e+03, 0.0000e+00, 0.0000e+00, 0.0000e+00,\n",
       "         0.0000e+00, 0.0000e+00, 0.0000e+00, 0.0000e+00, 0.0000e+00],\n",
       "        [0.0000e+00, 0.0000e+00, 0.0000e+00, 1.0000e+00, 1.5630e+03,\n",
       "         1.0965e+04, 2.0139e+04, 1.8229e+04, 4.7960e+03, 2.4200e+02]]),\n",
       " array([-0.53906902,  2.41788945,  5.37484791,  8.33180637, 11.28876484,\n",
       "        14.2457233 , 17.20268177, 20.15964023, 23.1165987 , 26.07355716,\n",
       "        29.03051562]),\n",
       " <a list of 2 BarContainer objects>)"
      ]
     },
     "execution_count": 102,
     "metadata": {},
     "output_type": "execute_result"
    },
    {
     "data": {
      "image/png": "[encoded data removed]",
      "text/plain": [
       "<Figure size 432x288 with 1 Axes>"
      ]
     },
     "metadata": {
      "needs_background": "light"
     },
     "output_type": "display_data"
    }
   ],
   "source": [
    "plt.hist((y_test_stats * std_of_stats) + mean_of_stats)"
   ]
  },
  {
   "cell_type": "code",
   "execution_count": 104,
   "id": "eb44a0d2-a316-48f9-923a-079786a46d29",
   "metadata": {
    "execution": {
     "iopub.execute_input": "2022-10-14T17:49:02.670425Z",
     "iopub.status.busy": "2022-10-14T17:49:02.670033Z",
     "iopub.status.idle": "2022-10-14T17:49:02.674308Z",
     "shell.execute_reply": "2022-10-14T17:49:02.673771Z",
     "shell.execute_reply.started": "2022-10-14T17:49:02.670402Z"
    },
    "tags": []
   },
   "outputs": [],
   "source": [
    "y_test_stats = (y_test_stats * std_of_stats) + mean_of_stats"
   ]
  },
  {
   "cell_type": "code",
   "execution_count": 105,
   "id": "7cf58946-8966-4c63-84df-6323301a0048",
   "metadata": {
    "execution": {
     "iopub.execute_input": "2022-10-14T17:49:16.412805Z",
     "iopub.status.busy": "2022-10-14T17:49:16.412390Z",
     "iopub.status.idle": "2022-10-14T17:49:16.417203Z",
     "shell.execute_reply": "2022-10-14T17:49:16.416688Z",
     "shell.execute_reply.started": "2022-10-14T17:49:16.412780Z"
    },
    "tags": []
   },
   "outputs": [
    {
     "data": {
      "text/plain": [
       "array([[ 2.01620992, 21.07083919],\n",
       "       [ 2.55857181, 23.64582552],\n",
       "       [ 1.8937779 , 19.68329386],\n",
       "       ...,\n",
       "       [ 0.80630821, 19.9575303 ],\n",
       "       [ 1.09424633, 20.17219735],\n",
       "       [ 2.38743708, 19.66720035]])"
      ]
     },
     "execution_count": 105,
     "metadata": {},
     "output_type": "execute_result"
    }
   ],
   "source": [
    "y_test_stats"
   ]
  },
  {
   "cell_type": "code",
   "execution_count": 106,
   "id": "d6c998ab-937d-41a6-82ae-5cf18c29e2de",
   "metadata": {
    "execution": {
     "iopub.execute_input": "2022-10-14T17:49:51.828844Z",
     "iopub.status.busy": "2022-10-14T17:49:51.828429Z",
     "iopub.status.idle": "2022-10-14T17:49:51.833105Z",
     "shell.execute_reply": "2022-10-14T17:49:51.832576Z",
     "shell.execute_reply.started": "2022-10-14T17:49:51.828820Z"
    }
   },
   "outputs": [
    {
     "data": {
      "text/plain": [
       "'/home/jovyan/kaggle/working'"
      ]
     },
     "execution_count": 106,
     "metadata": {},
     "output_type": "execute_result"
    }
   ],
   "source": [
    "%pwd"
   ]
  },
  {
   "cell_type": "code",
   "execution_count": 107,
   "id": "cfe76a04-290f-4cac-8fb8-35cdd2d75f6f",
   "metadata": {
    "execution": {
     "iopub.execute_input": "2022-10-14T17:50:39.553716Z",
     "iopub.status.busy": "2022-10-14T17:50:39.553316Z",
     "iopub.status.idle": "2022-10-14T17:50:39.703216Z",
     "shell.execute_reply": "2022-10-14T17:50:39.702679Z",
     "shell.execute_reply.started": "2022-10-14T17:50:39.553693Z"
    }
   },
   "outputs": [
    {
     "name": "stdout",
     "output_type": "stream",
     "text": [
      "/home/jovyan/kaggle/working/multi_pca\n"
     ]
    }
   ],
   "source": [
    "%cd multi_pca\n",
    "np.savetxt(\"targets_norm_128_stats.csv\", y_test_stats, delimiter=\",\")"
   ]
  },
  {
   "cell_type": "code",
   "execution_count": 108,
   "id": "6e076b24-5c6b-4f6a-a8a6-3e15a0e967de",
   "metadata": {
    "execution": {
     "iopub.execute_input": "2022-10-14T17:52:21.248284Z",
     "iopub.status.busy": "2022-10-14T17:52:21.247884Z",
     "iopub.status.idle": "2022-10-14T17:56:55.400092Z",
     "shell.execute_reply": "2022-10-14T17:56:55.399530Z",
     "shell.execute_reply.started": "2022-10-14T17:52:21.248260Z"
    },
    "tags": []
   },
   "outputs": [
    {
     "name": "stdout",
     "output_type": "stream",
     "text": [
      "/home/jovyan/kaggle/working\n"
     ]
    },
    {
     "data": {
      "text/html": [
       "<style>#sk-container-id-1 {color: black;background-color: white;}#sk-container-id-1 pre{padding: 0;}#sk-container-id-1 div.sk-toggleable {background-color: white;}#sk-container-id-1 label.sk-toggleable__label {cursor: pointer;display: block;width: 100%;margin-bottom: 0;padding: 0.3em;box-sizing: border-box;text-align: center;}#sk-container-id-1 label.sk-toggleable__label-arrow:before {content: \"▸\";float: left;margin-right: 0.25em;color: #696969;}#sk-container-id-1 label.sk-toggleable__label-arrow:hover:before {color: black;}#sk-container-id-1 div.sk-estimator:hover label.sk-toggleable__label-arrow:before {color: black;}#sk-container-id-1 div.sk-toggleable__content {max-height: 0;max-width: 0;overflow: hidden;text-align: left;background-color: #f0f8ff;}#sk-container-id-1 div.sk-toggleable__content pre {margin: 0.2em;color: black;border-radius: 0.25em;background-color: #f0f8ff;}#sk-container-id-1 input.sk-toggleable__control:checked~div.sk-toggleable__content {max-height: 200px;max-width: 100%;overflow: auto;}#sk-container-id-1 input.sk-toggleable__control:checked~label.sk-toggleable__label-arrow:before {content: \"▾\";}#sk-container-id-1 div.sk-estimator input.sk-toggleable__control:checked~label.sk-toggleable__label {background-color: #d4ebff;}#sk-container-id-1 div.sk-label input.sk-toggleable__control:checked~label.sk-toggleable__label {background-color: #d4ebff;}#sk-container-id-1 input.sk-hidden--visually {border: 0;clip: rect(1px 1px 1px 1px);clip: rect(1px, 1px, 1px, 1px);height: 1px;margin: -1px;overflow: hidden;padding: 0;position: absolute;width: 1px;}#sk-container-id-1 div.sk-estimator {font-family: monospace;background-color: #f0f8ff;border: 1px dotted black;border-radius: 0.25em;box-sizing: border-box;margin-bottom: 0.5em;}#sk-container-id-1 div.sk-estimator:hover {background-color: #d4ebff;}#sk-container-id-1 div.sk-parallel-item::after {content: \"\";width: 100%;border-bottom: 1px solid gray;flex-grow: 1;}#sk-container-id-1 div.sk-label:hover label.sk-toggleable__label {background-color: #d4ebff;}#sk-container-id-1 div.sk-serial::before {content: \"\";position: absolute;border-left: 1px solid gray;box-sizing: border-box;top: 0;bottom: 0;left: 50%;z-index: 0;}#sk-container-id-1 div.sk-serial {display: flex;flex-direction: column;align-items: center;background-color: white;padding-right: 0.2em;padding-left: 0.2em;position: relative;}#sk-container-id-1 div.sk-item {position: relative;z-index: 1;}#sk-container-id-1 div.sk-parallel {display: flex;align-items: stretch;justify-content: center;background-color: white;position: relative;}#sk-container-id-1 div.sk-item::before, #sk-container-id-1 div.sk-parallel-item::before {content: \"\";position: absolute;border-left: 1px solid gray;box-sizing: border-box;top: 0;bottom: 0;left: 50%;z-index: -1;}#sk-container-id-1 div.sk-parallel-item {display: flex;flex-direction: column;z-index: 1;position: relative;background-color: white;}#sk-container-id-1 div.sk-parallel-item:first-child::after {align-self: flex-end;width: 50%;}#sk-container-id-1 div.sk-parallel-item:last-child::after {align-self: flex-start;width: 50%;}#sk-container-id-1 div.sk-parallel-item:only-child::after {width: 0;}#sk-container-id-1 div.sk-dashed-wrapped {border: 1px dashed gray;margin: 0 0.4em 0.5em 0.4em;box-sizing: border-box;padding-bottom: 0.4em;background-color: white;}#sk-container-id-1 div.sk-label label {font-family: monospace;font-weight: bold;display: inline-block;line-height: 1.2em;}#sk-container-id-1 div.sk-label-container {text-align: center;}#sk-container-id-1 div.sk-container {/* jupyter's `normalize.less` sets `[hidden] { display: none; }` but bootstrap.min.css set `[hidden] { display: none !important; }` so we also need the `!important` here to be able to override the default hidden behavior on the sphinx rendered scikit-learn.org. See: https://github.com/scikit-learn/scikit-learn/issues/21755 */display: inline-block !important;position: relative;}#sk-container-id-1 div.sk-text-repr-fallback {display: none;}</style><div id=\"sk-container-id-1\" class=\"sk-top-container\"><div class=\"sk-text-repr-fallback\"><pre>TruncatedSVD(n_components=128, random_state=1)</pre><b>In a Jupyter environment, please rerun this cell to show the HTML representation or trust the notebook. <br />On GitHub, the HTML representation is unable to render, please try loading this page with nbviewer.org.</b></div><div class=\"sk-container\" hidden><div class=\"sk-item\"><div class=\"sk-estimator sk-toggleable\"><input class=\"sk-toggleable__control sk-hidden--visually\" id=\"sk-estimator-id-1\" type=\"checkbox\" checked><label for=\"sk-estimator-id-1\" class=\"sk-toggleable__label sk-toggleable__label-arrow\">TruncatedSVD</label><div class=\"sk-toggleable__content\"><pre>TruncatedSVD(n_components=128, random_state=1)</pre></div></div></div></div></div>"
      ],
      "text/plain": [
       "TruncatedSVD(n_components=128, random_state=1)"
      ]
     },
     "execution_count": 108,
     "metadata": {},
     "output_type": "execute_result"
    }
   ],
   "source": [
    "%cd /home/jovyan/kaggle/working\n",
    "\n",
    "targets = scipy.sparse.load_npz(\"./sparse/train_multi_targets_values.sparse.npz\")\n",
    "targets = scprep.filter.remove_empty_genes(targets)\n",
    "pca_train = TruncatedSVD(n_components=128, random_state=1)\n",
    "pca_train.fit(targets)"
   ]
  },
  {
   "cell_type": "code",
   "execution_count": null,
   "id": "51880d2b-c7fc-46ef-ae0a-2eae10d90e04",
   "metadata": {},
   "outputs": [],
   "source": [
    "pca_train.inverse_transform()"
   ]
  },
  {
   "cell_type": "code",
   "execution_count": 111,
   "id": "9c31aaba-7988-40b2-882f-121a8dc5ed0f",
   "metadata": {
    "execution": {
     "iopub.execute_input": "2022-10-14T18:01:37.419259Z",
     "iopub.status.busy": "2022-10-14T18:01:37.418873Z",
     "iopub.status.idle": "2022-10-14T18:01:37.423330Z",
     "shell.execute_reply": "2022-10-14T18:01:37.422812Z",
     "shell.execute_reply.started": "2022-10-14T18:01:37.419234Z"
    }
   },
   "outputs": [
    {
     "data": {
      "text/plain": [
       "(55935, 128)"
      ]
     },
     "execution_count": 111,
     "metadata": {},
     "output_type": "execute_result"
    }
   ],
   "source": [
    "multi_y_pred.shape"
   ]
  },
  {
   "cell_type": "code",
   "execution_count": 112,
   "id": "c73de612-7be0-40cc-b9ea-8eea01636dad",
   "metadata": {
    "execution": {
     "iopub.execute_input": "2022-10-14T18:02:06.395423Z",
     "iopub.status.busy": "2022-10-14T18:02:06.395036Z",
     "iopub.status.idle": "2022-10-14T18:02:06.399379Z",
     "shell.execute_reply": "2022-10-14T18:02:06.398877Z",
     "shell.execute_reply.started": "2022-10-14T18:02:06.395400Z"
    }
   },
   "outputs": [
    {
     "data": {
      "text/plain": [
       "(55935, 2)"
      ]
     },
     "execution_count": 112,
     "metadata": {},
     "output_type": "execute_result"
    }
   ],
   "source": [
    "y_test_stats.shape"
   ]
  },
  {
   "cell_type": "code",
   "execution_count": 120,
   "id": "bc5a650a-d8bb-4bc1-a9b7-2fd516b1953c",
   "metadata": {
    "execution": {
     "iopub.execute_input": "2022-10-14T18:06:18.502585Z",
     "iopub.status.busy": "2022-10-14T18:06:18.502184Z",
     "iopub.status.idle": "2022-10-14T18:06:18.758173Z",
     "shell.execute_reply": "2022-10-14T18:06:18.757567Z",
     "shell.execute_reply.started": "2022-10-14T18:06:18.502560Z"
    },
    "tags": []
   },
   "outputs": [],
   "source": [
    "multi_y_pred_scaled = np.zeros_like(multi_y_pred)\n",
    "for n,(i,j) in enumerate(zip(multi_y_pred,y_test_stats)):\n",
    "    multi_y_pred_scaled[n] = i*j[1]+j[0]"
   ]
  },
  {
   "cell_type": "code",
   "execution_count": 121,
   "id": "ef449ef1-0ebb-469e-82c7-567b26163025",
   "metadata": {
    "execution": {
     "iopub.execute_input": "2022-10-14T18:06:22.044817Z",
     "iopub.status.busy": "2022-10-14T18:06:22.044396Z",
     "iopub.status.idle": "2022-10-14T18:06:22.050532Z",
     "shell.execute_reply": "2022-10-14T18:06:22.049832Z",
     "shell.execute_reply.started": "2022-10-14T18:06:22.044791Z"
    }
   },
   "outputs": [
    {
     "data": {
      "text/plain": [
       "array([[ 46.726433  ,   8.441428  ,  -4.310465  , ...,   0.1269958 ,\n",
       "          0.14636433,   0.13772595],\n",
       "       [ 50.530254  ,   5.7887063 ,   3.3795002 , ...,   0.45361733,\n",
       "          0.41843462,   0.43966174],\n",
       "       [ 44.69532   ,   7.455028  ,  -3.600696  , ...,   0.10943484,\n",
       "          0.19577038,   0.11136842],\n",
       "       ...,\n",
       "       [ 47.25583   , -12.872827  ,  -3.1590798 , ...,  -0.98282343,\n",
       "         -1.0331919 ,  -0.95419055],\n",
       "       [ 58.490356  , -14.646929  ,  -3.985962  , ...,  -0.8769226 ,\n",
       "         -0.7966819 ,  -0.8467938 ],\n",
       "       [ 48.20715   ,   2.0941007 ,  17.924417  , ...,   0.5094063 ,\n",
       "          0.47915947,   0.37099314]], dtype=float32)"
      ]
     },
     "execution_count": 121,
     "metadata": {},
     "output_type": "execute_result"
    }
   ],
   "source": [
    "multi_y_pred_scaled"
   ]
  },
  {
   "cell_type": "code",
   "execution_count": 122,
   "id": "ad36349b-c789-469c-8774-bdd99b0639b9",
   "metadata": {
    "execution": {
     "iopub.execute_input": "2022-10-14T18:07:05.193184Z",
     "iopub.status.busy": "2022-10-14T18:07:05.192777Z",
     "iopub.status.idle": "2022-10-14T18:07:06.584862Z",
     "shell.execute_reply": "2022-10-14T18:07:06.584210Z",
     "shell.execute_reply.started": "2022-10-14T18:07:05.193161Z"
    }
   },
   "outputs": [],
   "source": [
    "multi_y_pred_scaled_inv_pca = pca_train.inverse_transform(multi_y_pred_scaled)"
   ]
  },
  {
   "cell_type": "code",
   "execution_count": 123,
   "id": "83145d8f-9ad4-46e0-8bc6-9da67af61596",
   "metadata": {
    "execution": {
     "iopub.execute_input": "2022-10-14T18:07:10.832638Z",
     "iopub.status.busy": "2022-10-14T18:07:10.832242Z",
     "iopub.status.idle": "2022-10-14T18:07:10.837438Z",
     "shell.execute_reply": "2022-10-14T18:07:10.836912Z",
     "shell.execute_reply.started": "2022-10-14T18:07:10.832615Z"
    }
   },
   "outputs": [
    {
     "data": {
      "text/plain": [
       "array([[0.14158255, 0.05065309, 0.03909181, ..., 0.14264268, 0.270854  ,\n",
       "        0.3596359 ],\n",
       "       [0.13373956, 0.06237799, 0.11667583, ..., 0.2579311 , 0.32949778,\n",
       "        0.39910063],\n",
       "       [0.12572688, 0.04362172, 0.10762635, ..., 0.1585324 , 0.2301861 ,\n",
       "        0.35761866],\n",
       "       ...,\n",
       "       [0.06597445, 0.07783534, 0.04166092, ..., 0.22947805, 0.09700552,\n",
       "        0.5174245 ],\n",
       "       [0.09187233, 0.10030759, 0.09609154, ..., 0.3082178 , 0.22288698,\n",
       "        0.6709745 ],\n",
       "       [0.15674214, 0.11267959, 0.08598881, ..., 0.2884215 , 1.103877  ,\n",
       "        0.72712266]], dtype=float32)"
      ]
     },
     "execution_count": 123,
     "metadata": {},
     "output_type": "execute_result"
    }
   ],
   "source": [
    "multi_y_pred_scaled_inv_pca"
   ]
  },
  {
   "cell_type": "code",
   "execution_count": 124,
   "id": "c1c226a1-2d40-4c23-a0a3-cf398255cf94",
   "metadata": {
    "execution": {
     "iopub.execute_input": "2022-10-14T18:07:17.427905Z",
     "iopub.status.busy": "2022-10-14T18:07:17.427516Z",
     "iopub.status.idle": "2022-10-14T18:07:17.432057Z",
     "shell.execute_reply": "2022-10-14T18:07:17.431518Z",
     "shell.execute_reply.started": "2022-10-14T18:07:17.427881Z"
    }
   },
   "outputs": [
    {
     "data": {
      "text/plain": [
       "(55935, 22858)"
      ]
     },
     "execution_count": 124,
     "metadata": {},
     "output_type": "execute_result"
    }
   ],
   "source": [
    "multi_y_pred_scaled_inv_pca.shape"
   ]
  },
  {
   "cell_type": "code",
   "execution_count": 126,
   "id": "950cad34-9da9-4575-91f3-07d9eecf4a36",
   "metadata": {
    "execution": {
     "iopub.execute_input": "2022-10-14T18:17:16.103776Z",
     "iopub.status.busy": "2022-10-14T18:17:16.103383Z",
     "iopub.status.idle": "2022-10-14T18:17:16.253129Z",
     "shell.execute_reply": "2022-10-14T18:17:16.252456Z",
     "shell.execute_reply.started": "2022-10-14T18:17:16.103752Z"
    }
   },
   "outputs": [],
   "source": [
    "multi_y_train -= multi_y_train.mean(axis=1).reshape(-1, 1)\n",
    "multi_y_train /= multi_y_train.std(axis=1).reshape(-1, 1)"
   ]
  },
  {
   "cell_type": "code",
   "execution_count": 127,
   "id": "4a263bf2-67d6-475f-93e3-48ede6e79623",
   "metadata": {
    "execution": {
     "iopub.execute_input": "2022-10-14T18:17:17.697258Z",
     "iopub.status.busy": "2022-10-14T18:17:17.696859Z",
     "iopub.status.idle": "2022-10-14T18:20:18.622420Z",
     "shell.execute_reply": "2022-10-14T18:20:18.621788Z",
     "shell.execute_reply.started": "2022-10-14T18:17:17.697234Z"
    },
    "tags": []
   },
   "outputs": [
    {
     "name": "stdout",
     "output_type": "stream",
     "text": [
      "Epoch 1/1000\n",
      "270/270 - 3s - loss: -9.4424e-01 - negative_correlation_loss: -9.6527e-01 - val_loss: -9.6955e-01 - val_negative_correlation_loss: -9.7537e-01 - lr: 0.0100 - 3s/epoch - 11ms/step\n",
      "Epoch 2/1000\n",
      "270/270 - 2s - loss: -9.7713e-01 - negative_correlation_loss: -9.8118e-01 - val_loss: -9.7364e-01 - val_negative_correlation_loss: -9.7670e-01 - lr: 0.0100 - 2s/epoch - 8ms/step\n",
      "Epoch 3/1000\n",
      "270/270 - 2s - loss: -9.7928e-01 - negative_correlation_loss: -9.8198e-01 - val_loss: -9.7474e-01 - val_negative_correlation_loss: -9.7724e-01 - lr: 0.0100 - 2s/epoch - 8ms/step\n",
      "Epoch 4/1000\n",
      "270/270 - 2s - loss: -9.7983e-01 - negative_correlation_loss: -9.8222e-01 - val_loss: -9.7521e-01 - val_negative_correlation_loss: -9.7757e-01 - lr: 0.0100 - 2s/epoch - 8ms/step\n",
      "Epoch 5/1000\n",
      "270/270 - 2s - loss: -9.8004e-01 - negative_correlation_loss: -9.8233e-01 - val_loss: -9.7572e-01 - val_negative_correlation_loss: -9.7797e-01 - lr: 0.0100 - 2s/epoch - 8ms/step\n",
      "Epoch 6/1000\n",
      "270/270 - 2s - loss: -9.8014e-01 - negative_correlation_loss: -9.8238e-01 - val_loss: -9.7594e-01 - val_negative_correlation_loss: -9.7820e-01 - lr: 0.0100 - 2s/epoch - 8ms/step\n",
      "Epoch 7/1000\n",
      "270/270 - 2s - loss: -9.8018e-01 - negative_correlation_loss: -9.8240e-01 - val_loss: -9.7591e-01 - val_negative_correlation_loss: -9.7807e-01 - lr: 0.0100 - 2s/epoch - 8ms/step\n",
      "Epoch 8/1000\n",
      "270/270 - 2s - loss: -9.8024e-01 - negative_correlation_loss: -9.8244e-01 - val_loss: -9.7576e-01 - val_negative_correlation_loss: -9.7788e-01 - lr: 0.0100 - 2s/epoch - 8ms/step\n",
      "Epoch 9/1000\n",
      "270/270 - 2s - loss: -9.8027e-01 - negative_correlation_loss: -9.8246e-01 - val_loss: -9.7588e-01 - val_negative_correlation_loss: -9.7811e-01 - lr: 0.0100 - 2s/epoch - 8ms/step\n",
      "Epoch 10/1000\n",
      "\n",
      "Epoch 10: ReduceLROnPlateau reducing learning rate to 0.004999999888241291.\n",
      "270/270 - 2s - loss: -9.8026e-01 - negative_correlation_loss: -9.8247e-01 - val_loss: -9.7562e-01 - val_negative_correlation_loss: -9.7779e-01 - lr: 0.0100 - 2s/epoch - 8ms/step\n",
      "Epoch 11/1000\n",
      "270/270 - 2s - loss: -9.8132e-01 - negative_correlation_loss: -9.8298e-01 - val_loss: -9.7701e-01 - val_negative_correlation_loss: -9.7859e-01 - lr: 0.0050 - 2s/epoch - 8ms/step\n",
      "Epoch 12/1000\n",
      "270/270 - 2s - loss: -9.8139e-01 - negative_correlation_loss: -9.8298e-01 - val_loss: -9.7674e-01 - val_negative_correlation_loss: -9.7832e-01 - lr: 0.0050 - 2s/epoch - 8ms/step\n",
      "Epoch 13/1000\n",
      "270/270 - 2s - loss: -9.8142e-01 - negative_correlation_loss: -9.8301e-01 - val_loss: -9.7685e-01 - val_negative_correlation_loss: -9.7841e-01 - lr: 0.0050 - 2s/epoch - 8ms/step\n",
      "Epoch 14/1000\n",
      "270/270 - 2s - loss: -9.8146e-01 - negative_correlation_loss: -9.8304e-01 - val_loss: -9.7687e-01 - val_negative_correlation_loss: -9.7844e-01 - lr: 0.0050 - 2s/epoch - 8ms/step\n",
      "Epoch 15/1000\n",
      "270/270 - 2s - loss: -9.8147e-01 - negative_correlation_loss: -9.8304e-01 - val_loss: -9.7726e-01 - val_negative_correlation_loss: -9.7886e-01 - lr: 0.0050 - 2s/epoch - 8ms/step\n",
      "Epoch 16/1000\n",
      "270/270 - 2s - loss: -9.8148e-01 - negative_correlation_loss: -9.8306e-01 - val_loss: -9.7704e-01 - val_negative_correlation_loss: -9.7861e-01 - lr: 0.0050 - 2s/epoch - 8ms/step\n",
      "Epoch 17/1000\n",
      "270/270 - 2s - loss: -9.8147e-01 - negative_correlation_loss: -9.8305e-01 - val_loss: -9.7685e-01 - val_negative_correlation_loss: -9.7842e-01 - lr: 0.0050 - 2s/epoch - 8ms/step\n",
      "Epoch 18/1000\n",
      "270/270 - 2s - loss: -9.8154e-01 - negative_correlation_loss: -9.8309e-01 - val_loss: -9.7734e-01 - val_negative_correlation_loss: -9.7885e-01 - lr: 0.0050 - 2s/epoch - 8ms/step\n",
      "Epoch 19/1000\n",
      "\n",
      "Epoch 19: ReduceLROnPlateau reducing learning rate to 0.0024999999441206455.\n",
      "270/270 - 2s - loss: -9.8152e-01 - negative_correlation_loss: -9.8308e-01 - val_loss: -9.7721e-01 - val_negative_correlation_loss: -9.7876e-01 - lr: 0.0050 - 2s/epoch - 8ms/step\n",
      "Epoch 20/1000\n",
      "270/270 - 2s - loss: -9.8225e-01 - negative_correlation_loss: -9.8352e-01 - val_loss: -9.7782e-01 - val_negative_correlation_loss: -9.7901e-01 - lr: 0.0025 - 2s/epoch - 8ms/step\n",
      "Epoch 21/1000\n",
      "270/270 - 2s - loss: -9.8233e-01 - negative_correlation_loss: -9.8350e-01 - val_loss: -9.7764e-01 - val_negative_correlation_loss: -9.7880e-01 - lr: 0.0025 - 2s/epoch - 8ms/step\n",
      "Epoch 22/1000\n",
      "270/270 - 2s - loss: -9.8234e-01 - negative_correlation_loss: -9.8351e-01 - val_loss: -9.7794e-01 - val_negative_correlation_loss: -9.7909e-01 - lr: 0.0025 - 2s/epoch - 8ms/step\n",
      "Epoch 23/1000\n",
      "270/270 - 2s - loss: -9.8238e-01 - negative_correlation_loss: -9.8353e-01 - val_loss: -9.7795e-01 - val_negative_correlation_loss: -9.7910e-01 - lr: 0.0025 - 2s/epoch - 8ms/step\n",
      "Epoch 24/1000\n",
      "270/270 - 2s - loss: -9.8239e-01 - negative_correlation_loss: -9.8355e-01 - val_loss: -9.7805e-01 - val_negative_correlation_loss: -9.7920e-01 - lr: 0.0025 - 2s/epoch - 8ms/step\n",
      "Epoch 25/1000\n",
      "270/270 - 2s - loss: -9.8241e-01 - negative_correlation_loss: -9.8356e-01 - val_loss: -9.7799e-01 - val_negative_correlation_loss: -9.7913e-01 - lr: 0.0025 - 2s/epoch - 8ms/step\n",
      "Epoch 26/1000\n",
      "270/270 - 2s - loss: -9.8242e-01 - negative_correlation_loss: -9.8357e-01 - val_loss: -9.7806e-01 - val_negative_correlation_loss: -9.7922e-01 - lr: 0.0025 - 2s/epoch - 8ms/step\n",
      "Epoch 27/1000\n",
      "270/270 - 2s - loss: -9.8246e-01 - negative_correlation_loss: -9.8360e-01 - val_loss: -9.7780e-01 - val_negative_correlation_loss: -9.7892e-01 - lr: 0.0025 - 2s/epoch - 8ms/step\n",
      "Epoch 28/1000\n",
      "\n",
      "Epoch 28: ReduceLROnPlateau reducing learning rate to 0.0012499999720603228.\n",
      "270/270 - 2s - loss: -9.8246e-01 - negative_correlation_loss: -9.8361e-01 - val_loss: -9.7794e-01 - val_negative_correlation_loss: -9.7908e-01 - lr: 0.0025 - 2s/epoch - 8ms/step\n",
      "Epoch 29/1000\n",
      "270/270 - 2s - loss: -9.8292e-01 - negative_correlation_loss: -9.8393e-01 - val_loss: -9.7843e-01 - val_negative_correlation_loss: -9.7938e-01 - lr: 0.0012 - 2s/epoch - 8ms/step\n",
      "Epoch 30/1000\n",
      "270/270 - 2s - loss: -9.8300e-01 - negative_correlation_loss: -9.8393e-01 - val_loss: -9.7818e-01 - val_negative_correlation_loss: -9.7909e-01 - lr: 0.0012 - 2s/epoch - 8ms/step\n",
      "Epoch 31/1000\n",
      "270/270 - 2s - loss: -9.8301e-01 - negative_correlation_loss: -9.8392e-01 - val_loss: -9.7869e-01 - val_negative_correlation_loss: -9.7959e-01 - lr: 0.0012 - 2s/epoch - 8ms/step\n",
      "Epoch 32/1000\n",
      "270/270 - 2s - loss: -9.8302e-01 - negative_correlation_loss: -9.8393e-01 - val_loss: -9.7873e-01 - val_negative_correlation_loss: -9.7962e-01 - lr: 0.0012 - 2s/epoch - 8ms/step\n",
      "Epoch 33/1000\n",
      "270/270 - 2s - loss: -9.8305e-01 - negative_correlation_loss: -9.8394e-01 - val_loss: -9.7830e-01 - val_negative_correlation_loss: -9.7918e-01 - lr: 0.0012 - 2s/epoch - 8ms/step\n",
      "Epoch 34/1000\n",
      "270/270 - 2s - loss: -9.8306e-01 - negative_correlation_loss: -9.8394e-01 - val_loss: -9.7864e-01 - val_negative_correlation_loss: -9.7952e-01 - lr: 0.0012 - 2s/epoch - 8ms/step\n",
      "Epoch 35/1000\n",
      "\n",
      "Epoch 35: ReduceLROnPlateau reducing learning rate to 0.0006249999860301614.\n",
      "270/270 - 2s - loss: -9.8307e-01 - negative_correlation_loss: -9.8395e-01 - val_loss: -9.7867e-01 - val_negative_correlation_loss: -9.7955e-01 - lr: 0.0012 - 2s/epoch - 8ms/step\n",
      "Epoch 36/1000\n",
      "270/270 - 2s - loss: -9.8336e-01 - negative_correlation_loss: -9.8419e-01 - val_loss: -9.7900e-01 - val_negative_correlation_loss: -9.7979e-01 - lr: 6.2500e-04 - 2s/epoch - 8ms/step\n",
      "Epoch 37/1000\n",
      "270/270 - 2s - loss: -9.8342e-01 - negative_correlation_loss: -9.8420e-01 - val_loss: -9.7881e-01 - val_negative_correlation_loss: -9.7957e-01 - lr: 6.2500e-04 - 2s/epoch - 8ms/step\n",
      "Epoch 38/1000\n",
      "270/270 - 2s - loss: -9.8344e-01 - negative_correlation_loss: -9.8420e-01 - val_loss: -9.7883e-01 - val_negative_correlation_loss: -9.7957e-01 - lr: 6.2500e-04 - 2s/epoch - 8ms/step\n",
      "Epoch 39/1000\n",
      "270/270 - 2s - loss: -9.8344e-01 - negative_correlation_loss: -9.8419e-01 - val_loss: -9.7908e-01 - val_negative_correlation_loss: -9.7982e-01 - lr: 6.2500e-04 - 2s/epoch - 8ms/step\n",
      "Epoch 40/1000\n",
      "270/270 - 2s - loss: -9.8346e-01 - negative_correlation_loss: -9.8419e-01 - val_loss: -9.7912e-01 - val_negative_correlation_loss: -9.7985e-01 - lr: 6.2500e-04 - 2s/epoch - 8ms/step\n",
      "Epoch 41/1000\n",
      "270/270 - 2s - loss: -9.8347e-01 - negative_correlation_loss: -9.8420e-01 - val_loss: -9.7907e-01 - val_negative_correlation_loss: -9.7979e-01 - lr: 6.2500e-04 - 2s/epoch - 8ms/step\n",
      "Epoch 42/1000\n",
      "270/270 - 2s - loss: -9.8349e-01 - negative_correlation_loss: -9.8420e-01 - val_loss: -9.7921e-01 - val_negative_correlation_loss: -9.7991e-01 - lr: 6.2500e-04 - 2s/epoch - 8ms/step\n",
      "Epoch 43/1000\n",
      "270/270 - 2s - loss: -9.8349e-01 - negative_correlation_loss: -9.8420e-01 - val_loss: -9.7894e-01 - val_negative_correlation_loss: -9.7964e-01 - lr: 6.2500e-04 - 2s/epoch - 8ms/step\n",
      "Epoch 44/1000\n",
      "\n",
      "Epoch 44: ReduceLROnPlateau reducing learning rate to 0.0003124999930150807.\n",
      "270/270 - 2s - loss: -9.8350e-01 - negative_correlation_loss: -9.8421e-01 - val_loss: -9.7904e-01 - val_negative_correlation_loss: -9.7974e-01 - lr: 6.2500e-04 - 2s/epoch - 8ms/step\n",
      "Epoch 45/1000\n",
      "270/270 - 2s - loss: -9.8368e-01 - negative_correlation_loss: -9.8437e-01 - val_loss: -9.7921e-01 - val_negative_correlation_loss: -9.7988e-01 - lr: 3.1250e-04 - 2s/epoch - 8ms/step\n",
      "Epoch 46/1000\n",
      "270/270 - 2s - loss: -9.8372e-01 - negative_correlation_loss: -9.8438e-01 - val_loss: -9.7906e-01 - val_negative_correlation_loss: -9.7971e-01 - lr: 3.1250e-04 - 2s/epoch - 8ms/step\n",
      "Epoch 47/1000\n",
      "270/270 - 2s - loss: -9.8373e-01 - negative_correlation_loss: -9.8438e-01 - val_loss: -9.7910e-01 - val_negative_correlation_loss: -9.7974e-01 - lr: 3.1250e-04 - 2s/epoch - 8ms/step\n",
      "Epoch 48/1000\n",
      "\n",
      "Epoch 48: ReduceLROnPlateau reducing learning rate to 0.00015624999650754035.\n",
      "270/270 - 2s - loss: -9.8374e-01 - negative_correlation_loss: -9.8438e-01 - val_loss: -9.7920e-01 - val_negative_correlation_loss: -9.7983e-01 - lr: 3.1250e-04 - 2s/epoch - 8ms/step\n",
      "Epoch 49/1000\n",
      "270/270 - 2s - loss: -9.8385e-01 - negative_correlation_loss: -9.8448e-01 - val_loss: -9.7923e-01 - val_negative_correlation_loss: -9.7985e-01 - lr: 1.5625e-04 - 2s/epoch - 8ms/step\n",
      "Epoch 50/1000\n",
      "270/270 - 2s - loss: -9.8387e-01 - negative_correlation_loss: -9.8449e-01 - val_loss: -9.7930e-01 - val_negative_correlation_loss: -9.7991e-01 - lr: 1.5625e-04 - 2s/epoch - 8ms/step\n",
      "Epoch 51/1000\n",
      "270/270 - 2s - loss: -9.8388e-01 - negative_correlation_loss: -9.8449e-01 - val_loss: -9.7921e-01 - val_negative_correlation_loss: -9.7981e-01 - lr: 1.5625e-04 - 2s/epoch - 8ms/step\n",
      "Epoch 52/1000\n",
      "270/270 - 2s - loss: -9.8389e-01 - negative_correlation_loss: -9.8449e-01 - val_loss: -9.7926e-01 - val_negative_correlation_loss: -9.7986e-01 - lr: 1.5625e-04 - 2s/epoch - 8ms/step\n",
      "Epoch 53/1000\n",
      "\n",
      "Epoch 53: ReduceLROnPlateau reducing learning rate to 7.812499825377017e-05.\n",
      "270/270 - 2s - loss: -9.8390e-01 - negative_correlation_loss: -9.8449e-01 - val_loss: -9.7929e-01 - val_negative_correlation_loss: -9.7988e-01 - lr: 1.5625e-04 - 2s/epoch - 8ms/step\n",
      "Epoch 54/1000\n",
      "270/270 - 2s - loss: -9.8396e-01 - negative_correlation_loss: -9.8455e-01 - val_loss: -9.7930e-01 - val_negative_correlation_loss: -9.7988e-01 - lr: 7.8125e-05 - 2s/epoch - 8ms/step\n",
      "Epoch 55/1000\n",
      "270/270 - 2s - loss: -9.8397e-01 - negative_correlation_loss: -9.8456e-01 - val_loss: -9.7930e-01 - val_negative_correlation_loss: -9.7987e-01 - lr: 7.8125e-05 - 2s/epoch - 8ms/step\n",
      "Epoch 56/1000\n",
      "270/270 - 2s - loss: -9.8398e-01 - negative_correlation_loss: -9.8456e-01 - val_loss: -9.7931e-01 - val_negative_correlation_loss: -9.7988e-01 - lr: 7.8125e-05 - 2s/epoch - 8ms/step\n",
      "Epoch 57/1000\n",
      "270/270 - 2s - loss: -9.8399e-01 - negative_correlation_loss: -9.8456e-01 - val_loss: -9.7937e-01 - val_negative_correlation_loss: -9.7994e-01 - lr: 7.8125e-05 - 2s/epoch - 8ms/step\n",
      "Epoch 58/1000\n",
      "270/270 - 2s - loss: -9.8399e-01 - negative_correlation_loss: -9.8456e-01 - val_loss: -9.7932e-01 - val_negative_correlation_loss: -9.7988e-01 - lr: 7.8125e-05 - 2s/epoch - 8ms/step\n",
      "Epoch 59/1000\n",
      "270/270 - 2s - loss: -9.8400e-01 - negative_correlation_loss: -9.8456e-01 - val_loss: -9.7937e-01 - val_negative_correlation_loss: -9.7993e-01 - lr: 7.8125e-05 - 2s/epoch - 8ms/step\n",
      "Epoch 60/1000\n",
      "270/270 - 2s - loss: -9.8400e-01 - negative_correlation_loss: -9.8457e-01 - val_loss: -9.7935e-01 - val_negative_correlation_loss: -9.7991e-01 - lr: 7.8125e-05 - 2s/epoch - 8ms/step\n",
      "Epoch 61/1000\n",
      "\n",
      "Epoch 61: ReduceLROnPlateau reducing learning rate to 3.9062499126885086e-05.\n",
      "270/270 - 2s - loss: -9.8401e-01 - negative_correlation_loss: -9.8456e-01 - val_loss: -9.7940e-01 - val_negative_correlation_loss: -9.7995e-01 - lr: 7.8125e-05 - 2s/epoch - 8ms/step\n",
      "Epoch 62/1000\n",
      "270/270 - 2s - loss: -9.8405e-01 - negative_correlation_loss: -9.8460e-01 - val_loss: -9.7940e-01 - val_negative_correlation_loss: -9.7995e-01 - lr: 3.9062e-05 - 2s/epoch - 8ms/step\n",
      "Epoch 63/1000\n",
      "270/270 - 2s - loss: -9.8405e-01 - negative_correlation_loss: -9.8460e-01 - val_loss: -9.7939e-01 - val_negative_correlation_loss: -9.7994e-01 - lr: 3.9062e-05 - 2s/epoch - 8ms/step\n",
      "Epoch 64/1000\n",
      "270/270 - 2s - loss: -9.8406e-01 - negative_correlation_loss: -9.8461e-01 - val_loss: -9.7940e-01 - val_negative_correlation_loss: -9.7995e-01 - lr: 3.9062e-05 - 2s/epoch - 8ms/step\n",
      "Epoch 65/1000\n",
      "\n",
      "Epoch 65: ReduceLROnPlateau reducing learning rate to 1.9531249563442543e-05.\n",
      "270/270 - 2s - loss: -9.8406e-01 - negative_correlation_loss: -9.8461e-01 - val_loss: -9.7943e-01 - val_negative_correlation_loss: -9.7997e-01 - lr: 3.9062e-05 - 2s/epoch - 8ms/step\n",
      "Epoch 66/1000\n",
      "270/270 - 2s - loss: -9.8408e-01 - negative_correlation_loss: -9.8463e-01 - val_loss: -9.7940e-01 - val_negative_correlation_loss: -9.7994e-01 - lr: 1.9531e-05 - 2s/epoch - 8ms/step\n",
      "Epoch 67/1000\n",
      "270/270 - 2s - loss: -9.8408e-01 - negative_correlation_loss: -9.8463e-01 - val_loss: -9.7941e-01 - val_negative_correlation_loss: -9.7995e-01 - lr: 1.9531e-05 - 2s/epoch - 8ms/step\n",
      "Epoch 68/1000\n",
      "270/270 - 2s - loss: -9.8409e-01 - negative_correlation_loss: -9.8463e-01 - val_loss: -9.7941e-01 - val_negative_correlation_loss: -9.7995e-01 - lr: 1.9531e-05 - 2s/epoch - 8ms/step\n",
      "Epoch 69/1000\n",
      "\n",
      "Epoch 69: ReduceLROnPlateau reducing learning rate to 9.765624781721272e-06.\n",
      "270/270 - 2s - loss: -9.8409e-01 - negative_correlation_loss: -9.8463e-01 - val_loss: -9.7944e-01 - val_negative_correlation_loss: -9.7998e-01 - lr: 1.9531e-05 - 2s/epoch - 8ms/step\n",
      "Epoch 70/1000\n",
      "270/270 - 2s - loss: -9.8410e-01 - negative_correlation_loss: -9.8464e-01 - val_loss: -9.7943e-01 - val_negative_correlation_loss: -9.7996e-01 - lr: 9.7656e-06 - 2s/epoch - 8ms/step\n",
      "Epoch 71/1000\n",
      "270/270 - 2s - loss: -9.8410e-01 - negative_correlation_loss: -9.8464e-01 - val_loss: -9.7942e-01 - val_negative_correlation_loss: -9.7996e-01 - lr: 9.7656e-06 - 2s/epoch - 8ms/step\n",
      "Epoch 72/1000\n",
      "270/270 - 2s - loss: -9.8410e-01 - negative_correlation_loss: -9.8464e-01 - val_loss: -9.7940e-01 - val_negative_correlation_loss: -9.7994e-01 - lr: 9.7656e-06 - 2s/epoch - 8ms/step\n",
      "Epoch 73/1000\n",
      "\n",
      "Epoch 73: ReduceLROnPlateau reducing learning rate to 4.882812390860636e-06.\n",
      "270/270 - 2s - loss: -9.8410e-01 - negative_correlation_loss: -9.8465e-01 - val_loss: -9.7941e-01 - val_negative_correlation_loss: -9.7995e-01 - lr: 9.7656e-06 - 2s/epoch - 8ms/step\n",
      "Epoch 74/1000\n",
      "270/270 - 2s - loss: -9.8411e-01 - negative_correlation_loss: -9.8465e-01 - val_loss: -9.7943e-01 - val_negative_correlation_loss: -9.7997e-01 - lr: 4.8828e-06 - 2s/epoch - 8ms/step\n",
      "Epoch 75/1000\n",
      "270/270 - 2s - loss: -9.8411e-01 - negative_correlation_loss: -9.8465e-01 - val_loss: -9.7943e-01 - val_negative_correlation_loss: -9.7997e-01 - lr: 4.8828e-06 - 2s/epoch - 8ms/step\n",
      "Epoch 76/1000\n",
      "270/270 - 2s - loss: -9.8411e-01 - negative_correlation_loss: -9.8465e-01 - val_loss: -9.7942e-01 - val_negative_correlation_loss: -9.7996e-01 - lr: 4.8828e-06 - 2s/epoch - 8ms/step\n",
      "Epoch 77/1000\n",
      "\n",
      "Epoch 77: ReduceLROnPlateau reducing learning rate to 2.441406195430318e-06.\n",
      "270/270 - 2s - loss: -9.8411e-01 - negative_correlation_loss: -9.8465e-01 - val_loss: -9.7943e-01 - val_negative_correlation_loss: -9.7996e-01 - lr: 4.8828e-06 - 2s/epoch - 8ms/step\n",
      "Epoch 78/1000\n",
      "270/270 - 2s - loss: -9.8411e-01 - negative_correlation_loss: -9.8466e-01 - val_loss: -9.7943e-01 - val_negative_correlation_loss: -9.7997e-01 - lr: 2.4414e-06 - 2s/epoch - 8ms/step\n",
      "Epoch 79/1000\n",
      "270/270 - 2s - loss: -9.8412e-01 - negative_correlation_loss: -9.8466e-01 - val_loss: -9.7942e-01 - val_negative_correlation_loss: -9.7996e-01 - lr: 2.4414e-06 - 2s/epoch - 8ms/step\n",
      "Epoch 80/1000\n",
      "270/270 - 2s - loss: -9.8412e-01 - negative_correlation_loss: -9.8466e-01 - val_loss: -9.7943e-01 - val_negative_correlation_loss: -9.7997e-01 - lr: 2.4414e-06 - 2s/epoch - 8ms/step\n",
      "Epoch 81/1000\n",
      "\n",
      "Epoch 81: ReduceLROnPlateau reducing learning rate to 1.220703097715159e-06.\n",
      "270/270 - 2s - loss: -9.8412e-01 - negative_correlation_loss: -9.8466e-01 - val_loss: -9.7943e-01 - val_negative_correlation_loss: -9.7997e-01 - lr: 2.4414e-06 - 2s/epoch - 8ms/step\n",
      "1/1 [==============================] - 0s 101ms/step\n",
      "Fold 0:  80 epochs, corr =  0.97998\n"
     ]
    }
   ],
   "source": [
    "LR_START = 0.01\n",
    "BATCH_SIZE = 256\n",
    "reg1 = 8e-5\n",
    "reg2 = 2e-5\n",
    "model = fit(multi_X_train,multi_y_train,meta)"
   ]
  },
  {
   "cell_type": "code",
   "execution_count": 128,
   "id": "2b9080bb-5cfe-44a7-94e4-678f0dacd1bc",
   "metadata": {
    "execution": {
     "iopub.execute_input": "2022-10-14T18:21:22.747555Z",
     "iopub.status.busy": "2022-10-14T18:21:22.747177Z",
     "iopub.status.idle": "2022-10-14T18:21:41.314759Z",
     "shell.execute_reply": "2022-10-14T18:21:41.313905Z",
     "shell.execute_reply.started": "2022-10-14T18:21:22.747531Z"
    }
   },
   "outputs": [
    {
     "name": "stdout",
     "output_type": "stream",
     "text": [
      "3311/3311 [==============================] - 7s 2ms/step\n",
      "3311/3311 [==============================] - 7s 2ms/step\n"
     ]
    },
    {
     "ename": "FileNotFoundError",
     "evalue": "[Errno 2] No such file or directory: './sparse/train_multi_targets_values.sparse.npz'",
     "output_type": "error",
     "traceback": [
      "\u001b[0;31m---------------------------------------------------------------------------\u001b[0m",
      "\u001b[0;31mFileNotFoundError\u001b[0m                         Traceback (most recent call last)",
      "Input \u001b[0;32mIn [128]\u001b[0m, in \u001b[0;36m<cell line: 7>\u001b[0;34m()\u001b[0m\n\u001b[1;32m      5\u001b[0m     y_train_pred_scaled[n] \u001b[38;5;241m=\u001b[39m i\u001b[38;5;241m*\u001b[39mj[\u001b[38;5;241m1\u001b[39m]\u001b[38;5;241m+\u001b[39mj[\u001b[38;5;241m0\u001b[39m]\n\u001b[1;32m      6\u001b[0m y_train_pred_scaled_inv_pca \u001b[38;5;241m=\u001b[39m pca_train\u001b[38;5;241m.\u001b[39minverse_transform(y_train_pred_scaled)\n\u001b[0;32m----> 7\u001b[0m targets \u001b[38;5;241m=\u001b[39m \u001b[43mscipy\u001b[49m\u001b[38;5;241;43m.\u001b[39;49m\u001b[43msparse\u001b[49m\u001b[38;5;241;43m.\u001b[39;49m\u001b[43mload_npz\u001b[49m\u001b[43m(\u001b[49m\u001b[38;5;124;43m\"\u001b[39;49m\u001b[38;5;124;43m./sparse/train_multi_targets_values.sparse.npz\u001b[39;49m\u001b[38;5;124;43m\"\u001b[39;49m\u001b[43m)\u001b[49m\n\u001b[1;32m      8\u001b[0m targets \u001b[38;5;241m=\u001b[39m scprep\u001b[38;5;241m.\u001b[39mfilter\u001b[38;5;241m.\u001b[39mremove_empty_genes(targets)\n\u001b[1;32m      9\u001b[0m negative_pearson_loss(targets, y_train_pred_scaled_inv_pca)\n",
      "File \u001b[0;32m/srv/conda/envs/saturn/lib/python3.9/site-packages/scipy/sparse/_matrix_io.py:123\u001b[0m, in \u001b[0;36mload_npz\u001b[0;34m(file)\u001b[0m\n\u001b[1;32m     75\u001b[0m \u001b[38;5;28;01mdef\u001b[39;00m \u001b[38;5;21mload_npz\u001b[39m(file):\n\u001b[1;32m     76\u001b[0m     \u001b[38;5;124;03m\"\"\" Load a sparse matrix from a file using ``.npz`` format.\u001b[39;00m\n\u001b[1;32m     77\u001b[0m \n\u001b[1;32m     78\u001b[0m \u001b[38;5;124;03m    Parameters\u001b[39;00m\n\u001b[0;32m   (...)\u001b[0m\n\u001b[1;32m    120\u001b[0m \u001b[38;5;124;03m           [4, 0, 0]], dtype=int64)\u001b[39;00m\n\u001b[1;32m    121\u001b[0m \u001b[38;5;124;03m    \"\"\"\u001b[39;00m\n\u001b[0;32m--> 123\u001b[0m     \u001b[38;5;28;01mwith\u001b[39;00m \u001b[43mnp\u001b[49m\u001b[38;5;241;43m.\u001b[39;49m\u001b[43mload\u001b[49m\u001b[43m(\u001b[49m\u001b[43mfile\u001b[49m\u001b[43m,\u001b[49m\u001b[43m \u001b[49m\u001b[38;5;241;43m*\u001b[39;49m\u001b[38;5;241;43m*\u001b[39;49m\u001b[43mPICKLE_KWARGS\u001b[49m\u001b[43m)\u001b[49m \u001b[38;5;28;01mas\u001b[39;00m loaded:\n\u001b[1;32m    124\u001b[0m         \u001b[38;5;28;01mtry\u001b[39;00m:\n\u001b[1;32m    125\u001b[0m             matrix_format \u001b[38;5;241m=\u001b[39m loaded[\u001b[38;5;124m'\u001b[39m\u001b[38;5;124mformat\u001b[39m\u001b[38;5;124m'\u001b[39m]\n",
      "File \u001b[0;32m/srv/conda/envs/saturn/lib/python3.9/site-packages/numpy/lib/npyio.py:417\u001b[0m, in \u001b[0;36mload\u001b[0;34m(file, mmap_mode, allow_pickle, fix_imports, encoding)\u001b[0m\n\u001b[1;32m    415\u001b[0m     own_fid \u001b[38;5;241m=\u001b[39m \u001b[38;5;28;01mFalse\u001b[39;00m\n\u001b[1;32m    416\u001b[0m \u001b[38;5;28;01melse\u001b[39;00m:\n\u001b[0;32m--> 417\u001b[0m     fid \u001b[38;5;241m=\u001b[39m stack\u001b[38;5;241m.\u001b[39menter_context(\u001b[38;5;28;43mopen\u001b[39;49m\u001b[43m(\u001b[49m\u001b[43mos_fspath\u001b[49m\u001b[43m(\u001b[49m\u001b[43mfile\u001b[49m\u001b[43m)\u001b[49m\u001b[43m,\u001b[49m\u001b[43m \u001b[49m\u001b[38;5;124;43m\"\u001b[39;49m\u001b[38;5;124;43mrb\u001b[39;49m\u001b[38;5;124;43m\"\u001b[39;49m\u001b[43m)\u001b[49m)\n\u001b[1;32m    418\u001b[0m     own_fid \u001b[38;5;241m=\u001b[39m \u001b[38;5;28;01mTrue\u001b[39;00m\n\u001b[1;32m    420\u001b[0m \u001b[38;5;66;03m# Code to distinguish from NumPy binary files and pickles.\u001b[39;00m\n",
      "\u001b[0;31mFileNotFoundError\u001b[0m: [Errno 2] No such file or directory: './sparse/train_multi_targets_values.sparse.npz'"
     ]
    }
   ],
   "source": [
    "y_train_pred = model.predict(multi_X_train)\n",
    "y_train_stats = mean_model.predict(multi_X_train)\n",
    "y_train_pred_scaled = np.zeros_like(y_train_pred)\n",
    "for n,(i,j) in enumerate(zip(y_train_pred,y_train_stats)):\n",
    "    y_train_pred_scaled[n] = i*j[1]+j[0]\n",
    "y_train_pred_scaled_inv_pca = pca_train.inverse_transform(y_train_pred_scaled)"
   ]
  },
  {
   "cell_type": "code",
   "execution_count": 131,
   "id": "cdbfb229-5082-4bc2-a7a7-04f41e205366",
   "metadata": {
    "execution": {
     "iopub.execute_input": "2022-10-14T18:22:21.773250Z",
     "iopub.status.busy": "2022-10-14T18:22:21.772835Z",
     "iopub.status.idle": "2022-10-14T18:22:37.695705Z",
     "shell.execute_reply": "2022-10-14T18:22:37.694934Z",
     "shell.execute_reply.started": "2022-10-14T18:22:21.773226Z"
    }
   },
   "outputs": [
    {
     "ename": "TypeError",
     "evalue": "mean() received an invalid combination of arguments - got (numpy.ndarray, int, keepdim=bool), but expected one of:\n * (Tensor input, *, torch.dtype dtype)\n      didn't match because some of the keywords were incorrect: keepdim\n * (Tensor input, tuple of ints dim, bool keepdim, *, torch.dtype dtype, Tensor out)\n * (Tensor input, tuple of names dim, bool keepdim, *, torch.dtype dtype, Tensor out)\n",
     "output_type": "error",
     "traceback": [
      "\u001b[0;31m---------------------------------------------------------------------------\u001b[0m",
      "\u001b[0;31mTypeError\u001b[0m                                 Traceback (most recent call last)",
      "Input \u001b[0;32mIn [131]\u001b[0m, in \u001b[0;36m<cell line: 3>\u001b[0;34m()\u001b[0m\n\u001b[1;32m      1\u001b[0m targets \u001b[38;5;241m=\u001b[39m scipy\u001b[38;5;241m.\u001b[39msparse\u001b[38;5;241m.\u001b[39mload_npz(\u001b[38;5;124m\"\u001b[39m\u001b[38;5;124m./sparse/train_multi_targets_values.sparse.npz\u001b[39m\u001b[38;5;124m\"\u001b[39m)\n\u001b[1;32m      2\u001b[0m targets \u001b[38;5;241m=\u001b[39m scprep\u001b[38;5;241m.\u001b[39mfilter\u001b[38;5;241m.\u001b[39mremove_empty_genes(targets)\n\u001b[0;32m----> 3\u001b[0m \u001b[43mnegative_pearson_loss\u001b[49m\u001b[43m(\u001b[49m\u001b[43mtargets\u001b[49m\u001b[43m,\u001b[49m\u001b[43m \u001b[49m\u001b[43my_train_pred_scaled_inv_pca\u001b[49m\u001b[43m)\u001b[49m\n",
      "Input \u001b[0;32mIn [83]\u001b[0m, in \u001b[0;36mnegative_pearson_loss\u001b[0;34m(y_true, y_pred)\u001b[0m\n\u001b[1;32m     77\u001b[0m \u001b[38;5;28;01mdef\u001b[39;00m \u001b[38;5;21mnegative_pearson_loss\u001b[39m(y_true, y_pred):\n\u001b[1;32m     78\u001b[0m     \u001b[38;5;124;03m\"\"\"Negative correlation loss function for Keras\u001b[39;00m\n\u001b[1;32m     79\u001b[0m \u001b[38;5;124;03m    \u001b[39;00m\n\u001b[1;32m     80\u001b[0m \u001b[38;5;124;03m    Precondition:\u001b[39;00m\n\u001b[0;32m   (...)\u001b[0m\n\u001b[1;32m     86\u001b[0m \u001b[38;5;124;03m    1 = totally negative correlation\u001b[39;00m\n\u001b[1;32m     87\u001b[0m \u001b[38;5;124;03m    \"\"\"\u001b[39;00m\n\u001b[0;32m---> 89\u001b[0m     vx \u001b[38;5;241m=\u001b[39m y_pred \u001b[38;5;241m-\u001b[39m \u001b[43mtorch\u001b[49m\u001b[38;5;241;43m.\u001b[39;49m\u001b[43mmean\u001b[49m\u001b[43m(\u001b[49m\u001b[43my_pred\u001b[49m\u001b[43m,\u001b[49m\u001b[38;5;241;43m1\u001b[39;49m\u001b[43m,\u001b[49m\u001b[43mkeepdim\u001b[49m\u001b[38;5;241;43m=\u001b[39;49m\u001b[38;5;28;43;01mTrue\u001b[39;49;00m\u001b[43m)\u001b[49m\n\u001b[1;32m     90\u001b[0m     vy \u001b[38;5;241m=\u001b[39m y_true \u001b[38;5;241m-\u001b[39m torch\u001b[38;5;241m.\u001b[39mmean(y_true,\u001b[38;5;241m1\u001b[39m,keepdim\u001b[38;5;241m=\u001b[39m\u001b[38;5;28;01mTrue\u001b[39;00m)\n\u001b[1;32m     92\u001b[0m     cost \u001b[38;5;241m=\u001b[39m torch\u001b[38;5;241m.\u001b[39mmean(torch\u001b[38;5;241m.\u001b[39msum(vx \u001b[38;5;241m*\u001b[39m vy,\u001b[38;5;241m1\u001b[39m) \u001b[38;5;241m/\u001b[39m (torch\u001b[38;5;241m.\u001b[39msqrt(torch\u001b[38;5;241m.\u001b[39msum(vx \u001b[38;5;241m*\u001b[39m\u001b[38;5;241m*\u001b[39m \u001b[38;5;241m2\u001b[39m,\u001b[38;5;241m1\u001b[39m)) \u001b[38;5;241m*\u001b[39m torch\u001b[38;5;241m.\u001b[39msqrt(torch\u001b[38;5;241m.\u001b[39msum(vy \u001b[38;5;241m*\u001b[39m\u001b[38;5;241m*\u001b[39m \u001b[38;5;241m2\u001b[39m,\u001b[38;5;241m1\u001b[39m))))\n",
      "\u001b[0;31mTypeError\u001b[0m: mean() received an invalid combination of arguments - got (numpy.ndarray, int, keepdim=bool), but expected one of:\n * (Tensor input, *, torch.dtype dtype)\n      didn't match because some of the keywords were incorrect: keepdim\n * (Tensor input, tuple of ints dim, bool keepdim, *, torch.dtype dtype, Tensor out)\n * (Tensor input, tuple of names dim, bool keepdim, *, torch.dtype dtype, Tensor out)\n"
     ]
    }
   ],
   "source": [
    "targets = scipy.sparse.load_npz(\"./sparse/train_multi_targets_values.sparse.npz\")\n",
    "targets = scprep.filter.remove_empty_genes(targets)"
   ]
  },
  {
   "cell_type": "code",
   "execution_count": 134,
   "id": "a623f650-3c20-4bbb-b018-8a4fa3fc2abf",
   "metadata": {
    "execution": {
     "iopub.execute_input": "2022-10-14T18:24:10.171998Z",
     "iopub.status.busy": "2022-10-14T18:24:10.171603Z",
     "iopub.status.idle": "2022-10-14T18:24:10.176104Z",
     "shell.execute_reply": "2022-10-14T18:24:10.175589Z",
     "shell.execute_reply.started": "2022-10-14T18:24:10.171974Z"
    },
    "tags": []
   },
   "outputs": [
    {
     "data": {
      "text/plain": [
       "(105942, 22858)"
      ]
     },
     "execution_count": 134,
     "metadata": {},
     "output_type": "execute_result"
    }
   ],
   "source": [
    "y_train_pred_scaled_inv_pca.shape"
   ]
  },
  {
   "cell_type": "code",
   "execution_count": 135,
   "id": "d1adb592-d414-4538-a148-55fae3bd11c8",
   "metadata": {
    "execution": {
     "iopub.execute_input": "2022-10-14T18:24:16.051447Z",
     "iopub.status.busy": "2022-10-14T18:24:16.051050Z",
     "iopub.status.idle": "2022-10-14T18:24:16.055532Z",
     "shell.execute_reply": "2022-10-14T18:24:16.055017Z",
     "shell.execute_reply.started": "2022-10-14T18:24:16.051424Z"
    }
   },
   "outputs": [
    {
     "data": {
      "text/plain": [
       "(105942, 22858)"
      ]
     },
     "execution_count": 135,
     "metadata": {},
     "output_type": "execute_result"
    }
   ],
   "source": [
    "targets.shape"
   ]
  },
  {
   "cell_type": "code",
   "execution_count": 138,
   "id": "33c614c8-4cc8-4d2a-b400-9a3fa87b68a5",
   "metadata": {
    "execution": {
     "iopub.execute_input": "2022-10-14T18:25:02.910913Z",
     "iopub.status.busy": "2022-10-14T18:25:02.910514Z",
     "iopub.status.idle": "2022-10-14T18:25:38.023194Z",
     "shell.execute_reply": "2022-10-14T18:25:38.022617Z",
     "shell.execute_reply.started": "2022-10-14T18:25:02.910888Z"
    },
    "tags": []
   },
   "outputs": [
    {
     "data": {
      "text/plain": [
       "0.03539031830086233"
      ]
     },
     "execution_count": 138,
     "metadata": {},
     "output_type": "execute_result"
    }
   ],
   "source": [
    "correlation_score(targets.toarray(), y_train_pred_scaled_inv_pca)"
   ]
  },
  {
   "cell_type": "code",
   "execution_count": 139,
   "id": "901d3e4f-60e1-4610-a65c-bdabf9835e81",
   "metadata": {
    "execution": {
     "iopub.execute_input": "2022-10-14T18:25:50.659755Z",
     "iopub.status.busy": "2022-10-14T18:25:50.659364Z",
     "iopub.status.idle": "2022-10-14T18:25:59.003235Z",
     "shell.execute_reply": "2022-10-14T18:25:59.002668Z",
     "shell.execute_reply.started": "2022-10-14T18:25:50.659732Z"
    }
   },
   "outputs": [
    {
     "data": {
      "text/plain": [
       "array([[0.      , 0.      , 0.      , ..., 5.583255, 0.      , 4.893861],\n",
       "       [0.      , 0.      , 0.      , ..., 0.      , 0.      , 0.      ],\n",
       "       [0.      , 0.      , 0.      , ..., 0.      , 0.      , 5.107832],\n",
       "       ...,\n",
       "       [0.      , 0.      , 0.      , ..., 0.      , 0.      , 0.      ],\n",
       "       [0.      , 0.      , 0.      , ..., 4.871117, 0.      , 0.      ],\n",
       "       [0.      , 0.      , 0.      , ..., 5.659341, 0.      , 0.      ]],\n",
       "      dtype=float32)"
      ]
     },
     "execution_count": 139,
     "metadata": {},
     "output_type": "execute_result"
    }
   ],
   "source": [
    "targets.toarray()"
   ]
  },
  {
   "cell_type": "code",
   "execution_count": 140,
   "id": "ff2e947b-5934-4139-ad4f-f193247f8c6c",
   "metadata": {
    "execution": {
     "iopub.execute_input": "2022-10-14T18:26:03.265936Z",
     "iopub.status.busy": "2022-10-14T18:26:03.265553Z",
     "iopub.status.idle": "2022-10-14T18:26:03.270703Z",
     "shell.execute_reply": "2022-10-14T18:26:03.270192Z",
     "shell.execute_reply.started": "2022-10-14T18:26:03.265913Z"
    }
   },
   "outputs": [
    {
     "data": {
      "text/plain": [
       "array([[ 0.00075762,  0.01520808, -0.08413149, ..., -0.01140444,\n",
       "        -0.07104846,  0.06521034],\n",
       "       [-0.00927807, -0.00084365, -0.00328598, ..., -0.00150079,\n",
       "        -0.02118606,  0.00110913],\n",
       "       [ 0.0011094 ,  0.00932492, -0.05034568, ..., -0.00568347,\n",
       "        -0.04091938,  0.04171119],\n",
       "       ...,\n",
       "       [ 0.00182567,  0.00709409, -0.03324891, ..., -0.00102309,\n",
       "        -0.02476752,  0.03484032],\n",
       "       [-0.00013493,  0.00375737, -0.02302961, ..., -0.0052927 ,\n",
       "        -0.01985279,  0.01426365],\n",
       "       [-0.00380848,  0.01843137, -0.12515828, ..., -0.03083089,\n",
       "        -0.11322439,  0.06653129]], dtype=float32)"
      ]
     },
     "execution_count": 140,
     "metadata": {},
     "output_type": "execute_result"
    }
   ],
   "source": [
    "y_train_pred_scaled_inv_pca"
   ]
  },
  {
   "cell_type": "code",
   "execution_count": 141,
   "id": "b7bd4f4f-0613-455e-8924-1c14fb4987f5",
   "metadata": {
    "execution": {
     "iopub.execute_input": "2022-10-14T18:28:23.469658Z",
     "iopub.status.busy": "2022-10-14T18:28:23.469272Z",
     "iopub.status.idle": "2022-10-14T18:28:49.325780Z",
     "shell.execute_reply": "2022-10-14T18:28:49.325091Z",
     "shell.execute_reply.started": "2022-10-14T18:28:23.469636Z"
    }
   },
   "outputs": [
    {
     "data": {
      "text/plain": [
       "0.02947666217034837"
      ]
     },
     "execution_count": 141,
     "metadata": {},
     "output_type": "execute_result"
    }
   ],
   "source": [
    "correlation_score(pca_train.transform(targets),y_train_pred_scaled)"
   ]
  },
  {
   "cell_type": "code",
   "execution_count": 143,
   "id": "5b1da456-f5f3-4a0e-a266-da5428d4c986",
   "metadata": {
    "execution": {
     "iopub.execute_input": "2022-10-14T18:31:05.173566Z",
     "iopub.status.busy": "2022-10-14T18:31:05.173168Z",
     "iopub.status.idle": "2022-10-14T18:31:22.005608Z",
     "shell.execute_reply": "2022-10-14T18:31:22.004958Z",
     "shell.execute_reply.started": "2022-10-14T18:31:05.173542Z"
    }
   },
   "outputs": [],
   "source": [
    "abc = pca_train.transform(targets)\n",
    "abc -= abc.mean(axis=1).reshape(-1, 1)\n",
    "abc /= abc.std(axis=1).reshape(-1, 1)"
   ]
  },
  {
   "cell_type": "code",
   "execution_count": 144,
   "id": "e50f7806-b413-485d-9769-840e524dea8a",
   "metadata": {
    "execution": {
     "iopub.execute_input": "2022-10-14T18:31:26.028567Z",
     "iopub.status.busy": "2022-10-14T18:31:26.028129Z",
     "iopub.status.idle": "2022-10-14T18:31:35.213225Z",
     "shell.execute_reply": "2022-10-14T18:31:35.212558Z",
     "shell.execute_reply.started": "2022-10-14T18:31:26.028533Z"
    },
    "tags": []
   },
   "outputs": [
    {
     "data": {
      "text/plain": [
       "0.9830264981085174"
      ]
     },
     "execution_count": 144,
     "metadata": {},
     "output_type": "execute_result"
    }
   ],
   "source": [
    "correlation_score(abc,y_train_pred)"
   ]
  },
  {
   "cell_type": "code",
   "execution_count": 145,
   "id": "fe5a3cb5-03ea-42ae-9adf-92f951363aa1",
   "metadata": {
    "execution": {
     "iopub.execute_input": "2022-10-14T18:33:26.950406Z",
     "iopub.status.busy": "2022-10-14T18:33:26.950009Z",
     "iopub.status.idle": "2022-10-14T18:33:53.541395Z",
     "shell.execute_reply": "2022-10-14T18:33:53.540817Z",
     "shell.execute_reply.started": "2022-10-14T18:33:26.950382Z"
    }
   },
   "outputs": [
    {
     "data": {
      "text/plain": [
       "0.983026498101876"
      ]
     },
     "execution_count": 145,
     "metadata": {},
     "output_type": "execute_result"
    }
   ],
   "source": [
    "abb = y_train_pred * abc.std(axis=1).reshape(-1, 1)\n",
    "abb = abb + abc.mean(axis=1).reshape(-1, 1)\n",
    "correlation_score(pca_train.transform(targets),abb)"
   ]
  },
  {
   "cell_type": "code",
   "execution_count": 146,
   "id": "54620577-9532-4412-b5f8-8542997aa8b7",
   "metadata": {
    "execution": {
     "iopub.execute_input": "2022-10-14T18:36:21.844477Z",
     "iopub.status.busy": "2022-10-14T18:36:21.844077Z",
     "iopub.status.idle": "2022-10-14T18:36:21.849077Z",
     "shell.execute_reply": "2022-10-14T18:36:21.848488Z",
     "shell.execute_reply.started": "2022-10-14T18:36:21.844454Z"
    }
   },
   "outputs": [
    {
     "data": {
      "text/plain": [
       "array([[-1.1297002 , -0.18777321],\n",
       "       [-0.14538161, -1.0445625 ],\n",
       "       [-0.66118747,  0.04484432],\n",
       "       ...,\n",
       "       [-0.42734846,  0.26948255],\n",
       "       [-0.32387027, -0.27197394],\n",
       "       [-1.7971483 , -2.04434   ]], dtype=float32)"
      ]
     },
     "execution_count": 146,
     "metadata": {},
     "output_type": "execute_result"
    }
   ],
   "source": [
    "y_train_stats"
   ]
  },
  {
   "cell_type": "code",
   "execution_count": 147,
   "id": "931336d5-b3b0-4568-b10c-e404cbe5dc20",
   "metadata": {
    "execution": {
     "iopub.execute_input": "2022-10-14T18:37:55.268307Z",
     "iopub.status.busy": "2022-10-14T18:37:55.267910Z",
     "iopub.status.idle": "2022-10-14T18:37:55.273360Z",
     "shell.execute_reply": "2022-10-14T18:37:55.272795Z",
     "shell.execute_reply.started": "2022-10-14T18:37:55.268283Z"
    }
   },
   "outputs": [],
   "source": [
    "normed_y_train_stats = (y_train_stats * std_of_stats) + mean_of_stats"
   ]
  },
  {
   "cell_type": "code",
   "execution_count": 148,
   "id": "0f0e9aa6-fc37-4d10-9295-af12f2bd6d60",
   "metadata": {
    "execution": {
     "iopub.execute_input": "2022-10-14T18:37:57.834128Z",
     "iopub.status.busy": "2022-10-14T18:37:57.833736Z",
     "iopub.status.idle": "2022-10-14T18:37:57.838628Z",
     "shell.execute_reply": "2022-10-14T18:37:57.838074Z",
     "shell.execute_reply.started": "2022-10-14T18:37:57.834104Z"
    }
   },
   "outputs": [
    {
     "data": {
      "text/plain": [
       "array([[ 0.97703497, 20.34570853],\n",
       "       [ 1.64748717, 17.76798259],\n",
       "       [ 1.2961546 , 21.04555887],\n",
       "       ...,\n",
       "       [ 1.45543015, 21.72140279],\n",
       "       [ 1.52591259, 20.09238323],\n",
       "       [ 0.52241376, 14.76006407]])"
      ]
     },
     "execution_count": 148,
     "metadata": {},
     "output_type": "execute_result"
    }
   ],
   "source": [
    "normed_y_train_stats"
   ]
  },
  {
   "cell_type": "code",
   "execution_count": 149,
   "id": "7c6da840-56dd-44c5-97c3-2ebc604ab492",
   "metadata": {
    "execution": {
     "iopub.execute_input": "2022-10-14T18:39:23.719013Z",
     "iopub.status.busy": "2022-10-14T18:39:23.718608Z",
     "iopub.status.idle": "2022-10-14T18:40:18.390313Z",
     "shell.execute_reply": "2022-10-14T18:40:18.389726Z",
     "shell.execute_reply.started": "2022-10-14T18:39:23.718988Z"
    }
   },
   "outputs": [
    {
     "data": {
      "text/plain": [
       "0.6575366107850737"
      ]
     },
     "execution_count": 149,
     "metadata": {},
     "output_type": "execute_result"
    }
   ],
   "source": [
    "y_train_pred_scaled = np.zeros_like(y_train_pred)\n",
    "for n,(i,j) in enumerate(zip(y_train_pred,normed_y_train_stats)):\n",
    "    y_train_pred_scaled[n] = i*j[1]+j[0]\n",
    "y_train_pred_scaled_inv_pca = pca_train.inverse_transform(y_train_pred_scaled)\n",
    "targets = scipy.sparse.load_npz(\"./sparse/train_multi_targets_values.sparse.npz\")\n",
    "targets = scprep.filter.remove_empty_genes(targets)\n",
    "correlation_score(targets.toarray(), y_train_pred_scaled_inv_pca)"
   ]
  },
  {
   "cell_type": "code",
   "execution_count": 150,
   "id": "fc961113-00a9-403a-b8f8-aeabe8be70fd",
   "metadata": {
    "execution": {
     "iopub.execute_input": "2022-10-14T18:44:05.136647Z",
     "iopub.status.busy": "2022-10-14T18:44:05.136251Z",
     "iopub.status.idle": "2022-10-14T18:44:31.150180Z",
     "shell.execute_reply": "2022-10-14T18:44:31.149595Z",
     "shell.execute_reply.started": "2022-10-14T18:44:05.136624Z"
    }
   },
   "outputs": [
    {
     "data": {
      "text/plain": [
       "0.9830264981032376"
      ]
     },
     "execution_count": 150,
     "metadata": {},
     "output_type": "execute_result"
    }
   ],
   "source": [
    "correlation_score(pca_train.transform(targets), y_train_pred_scaled)"
   ]
  },
  {
   "cell_type": "code",
   "execution_count": 13,
   "id": "4c6bafbd-78d0-4379-baf9-87760ebd02ff",
   "metadata": {
    "execution": {
     "iopub.execute_input": "2022-11-02T23:52:39.198790Z",
     "iopub.status.busy": "2022-11-02T23:52:39.198400Z",
     "iopub.status.idle": "2022-11-02T23:55:30.213776Z",
     "shell.execute_reply": "2022-11-02T23:55:30.213141Z",
     "shell.execute_reply.started": "2022-11-02T23:52:39.198766Z"
    },
    "tags": []
   },
   "outputs": [
    {
     "name": "stderr",
     "output_type": "stream",
     "text": [
      "2022-11-02 23:52:39.496147: I tensorflow/stream_executor/cuda/cuda_gpu_executor.cc:980] successful NUMA node read from SysFS had negative value (-1), but there must be at least one NUMA node, so returning NUMA node zero\n",
      "2022-11-02 23:52:39.497106: W tensorflow/stream_executor/platform/default/dso_loader.cc:64] Could not load dynamic library 'libcudnn.so.8'; dlerror: libcudnn.so.8: cannot open shared object file: No such file or directory; LD_LIBRARY_PATH: /usr/local/nvidia/lib:/usr/local/nvidia/lib64\n",
      "2022-11-02 23:52:39.497738: W tensorflow/core/common_runtime/gpu/gpu_device.cc:1934] Cannot dlopen some GPU libraries. Please make sure the missing libraries mentioned above are installed properly if you would like to use GPU. Follow the guide at https://www.tensorflow.org/install/gpu for how to download and setup the required libraries for your platform.\n",
      "Skipping registering GPU devices...\n",
      "2022-11-02 23:52:39.497995: I tensorflow/core/platform/cpu_feature_guard.cc:193] This TensorFlow binary is optimized with oneAPI Deep Neural Network Library (oneDNN) to use the following CPU instructions in performance-critical operations:  AVX2 AVX512F AVX512_VNNI FMA\n",
      "To enable them in other operations, rebuild TensorFlow with the appropriate compiler flags.\n"
     ]
    },
    {
     "name": "stdout",
     "output_type": "stream",
     "text": [
      "Epoch 1/1000\n",
      "270/270 - 3s - loss: -8.6904e+00 - negative_correlation_loss: -8.7583e+00 - val_loss: -8.7469e+00 - val_negative_correlation_loss: -8.7906e+00 - lr: 0.0100 - 3s/epoch - 12ms/step\n",
      "Epoch 2/1000\n",
      "270/270 - 2s - loss: -8.8603e+00 - negative_correlation_loss: -8.8965e+00 - val_loss: -8.7686e+00 - val_negative_correlation_loss: -8.7991e+00 - lr: 0.0100 - 2s/epoch - 8ms/step\n",
      "Epoch 3/1000\n",
      "270/270 - 2s - loss: -8.8764e+00 - negative_correlation_loss: -8.9042e+00 - val_loss: -8.7751e+00 - val_negative_correlation_loss: -8.8003e+00 - lr: 0.0100 - 2s/epoch - 8ms/step\n",
      "Epoch 4/1000\n",
      "270/270 - 2s - loss: -8.8829e+00 - negative_correlation_loss: -8.9073e+00 - val_loss: -8.7834e+00 - val_negative_correlation_loss: -8.8067e+00 - lr: 0.0100 - 2s/epoch - 8ms/step\n",
      "Epoch 5/1000\n",
      "270/270 - 2s - loss: -8.8864e+00 - negative_correlation_loss: -8.9091e+00 - val_loss: -8.7893e+00 - val_negative_correlation_loss: -8.8109e+00 - lr: 0.0100 - 2s/epoch - 8ms/step\n",
      "Epoch 6/1000\n",
      "270/270 - 2s - loss: -8.8890e+00 - negative_correlation_loss: -8.9107e+00 - val_loss: -8.7885e+00 - val_negative_correlation_loss: -8.8096e+00 - lr: 0.0100 - 2s/epoch - 8ms/step\n",
      "Epoch 7/1000\n",
      "270/270 - 2s - loss: -8.8906e+00 - negative_correlation_loss: -8.9119e+00 - val_loss: -8.7907e+00 - val_negative_correlation_loss: -8.8112e+00 - lr: 0.0100 - 2s/epoch - 8ms/step\n",
      "Epoch 8/1000\n",
      "270/270 - 2s - loss: -8.8916e+00 - negative_correlation_loss: -8.9125e+00 - val_loss: -8.7894e+00 - val_negative_correlation_loss: -8.8095e+00 - lr: 0.0100 - 2s/epoch - 8ms/step\n",
      "Epoch 9/1000\n",
      "270/270 - 2s - loss: -8.8929e+00 - negative_correlation_loss: -8.9134e+00 - val_loss: -8.7931e+00 - val_negative_correlation_loss: -8.8132e+00 - lr: 0.0100 - 2s/epoch - 8ms/step\n",
      "Epoch 10/1000\n",
      "270/270 - 2s - loss: -8.8933e+00 - negative_correlation_loss: -8.9137e+00 - val_loss: -8.7924e+00 - val_negative_correlation_loss: -8.8122e+00 - lr: 0.0100 - 2s/epoch - 8ms/step\n",
      "Epoch 11/1000\n",
      "270/270 - 2s - loss: -8.8940e+00 - negative_correlation_loss: -8.9141e+00 - val_loss: -8.7869e+00 - val_negative_correlation_loss: -8.8067e+00 - lr: 0.0100 - 2s/epoch - 8ms/step\n",
      "Epoch 12/1000\n",
      "270/270 - 2s - loss: -8.8947e+00 - negative_correlation_loss: -8.9146e+00 - val_loss: -8.7905e+00 - val_negative_correlation_loss: -8.8097e+00 - lr: 0.0100 - 2s/epoch - 8ms/step\n",
      "Epoch 13/1000\n",
      "\n",
      "Epoch 13: ReduceLROnPlateau reducing learning rate to 0.004999999888241291.\n",
      "270/270 - 2s - loss: -8.8946e+00 - negative_correlation_loss: -8.9146e+00 - val_loss: -8.7906e+00 - val_negative_correlation_loss: -8.8103e+00 - lr: 0.0100 - 2s/epoch - 8ms/step\n",
      "Epoch 14/1000\n",
      "270/270 - 2s - loss: -8.9038e+00 - negative_correlation_loss: -8.9216e+00 - val_loss: -8.7993e+00 - val_negative_correlation_loss: -8.8159e+00 - lr: 0.0050 - 2s/epoch - 8ms/step\n",
      "Epoch 15/1000\n",
      "270/270 - 2s - loss: -8.9045e+00 - negative_correlation_loss: -8.9212e+00 - val_loss: -8.8037e+00 - val_negative_correlation_loss: -8.8201e+00 - lr: 0.0050 - 2s/epoch - 8ms/step\n",
      "Epoch 16/1000\n",
      "270/270 - 2s - loss: -8.9048e+00 - negative_correlation_loss: -8.9213e+00 - val_loss: -8.8005e+00 - val_negative_correlation_loss: -8.8167e+00 - lr: 0.0050 - 2s/epoch - 8ms/step\n",
      "Epoch 17/1000\n",
      "270/270 - 2s - loss: -8.9048e+00 - negative_correlation_loss: -8.9213e+00 - val_loss: -8.8001e+00 - val_negative_correlation_loss: -8.8162e+00 - lr: 0.0050 - 2s/epoch - 8ms/step\n",
      "Epoch 18/1000\n",
      "270/270 - 2s - loss: -8.9051e+00 - negative_correlation_loss: -8.9215e+00 - val_loss: -8.8064e+00 - val_negative_correlation_loss: -8.8224e+00 - lr: 0.0050 - 2s/epoch - 8ms/step\n",
      "Epoch 19/1000\n",
      "270/270 - 2s - loss: -8.9048e+00 - negative_correlation_loss: -8.9212e+00 - val_loss: -8.8047e+00 - val_negative_correlation_loss: -8.8207e+00 - lr: 0.0050 - 2s/epoch - 8ms/step\n",
      "Epoch 20/1000\n",
      "270/270 - 2s - loss: -8.9052e+00 - negative_correlation_loss: -8.9214e+00 - val_loss: -8.8043e+00 - val_negative_correlation_loss: -8.8206e+00 - lr: 0.0050 - 2s/epoch - 8ms/step\n",
      "Epoch 21/1000\n",
      "270/270 - 2s - loss: -8.9054e+00 - negative_correlation_loss: -8.9216e+00 - val_loss: -8.7988e+00 - val_negative_correlation_loss: -8.8145e+00 - lr: 0.0050 - 2s/epoch - 8ms/step\n",
      "Epoch 22/1000\n",
      "\n",
      "Epoch 22: ReduceLROnPlateau reducing learning rate to 0.0024999999441206455.\n",
      "270/270 - 2s - loss: -8.9054e+00 - negative_correlation_loss: -8.9216e+00 - val_loss: -8.8024e+00 - val_negative_correlation_loss: -8.8182e+00 - lr: 0.0050 - 2s/epoch - 8ms/step\n",
      "Epoch 23/1000\n",
      "270/270 - 2s - loss: -8.9112e+00 - negative_correlation_loss: -8.9263e+00 - val_loss: -8.8095e+00 - val_negative_correlation_loss: -8.8239e+00 - lr: 0.0025 - 2s/epoch - 8ms/step\n",
      "Epoch 24/1000\n",
      "270/270 - 2s - loss: -8.9120e+00 - negative_correlation_loss: -8.9264e+00 - val_loss: -8.8066e+00 - val_negative_correlation_loss: -8.8205e+00 - lr: 0.0025 - 2s/epoch - 8ms/step\n",
      "Epoch 25/1000\n",
      "270/270 - 2s - loss: -8.9122e+00 - negative_correlation_loss: -8.9264e+00 - val_loss: -8.8069e+00 - val_negative_correlation_loss: -8.8207e+00 - lr: 0.0025 - 2s/epoch - 8ms/step\n",
      "Epoch 26/1000\n",
      "270/270 - 2s - loss: -8.9125e+00 - negative_correlation_loss: -8.9266e+00 - val_loss: -8.8085e+00 - val_negative_correlation_loss: -8.8221e+00 - lr: 0.0025 - 2s/epoch - 8ms/step\n",
      "Epoch 27/1000\n",
      "\n",
      "Epoch 27: ReduceLROnPlateau reducing learning rate to 0.0012499999720603228.\n",
      "270/270 - 2s - loss: -8.9126e+00 - negative_correlation_loss: -8.9265e+00 - val_loss: -8.8065e+00 - val_negative_correlation_loss: -8.8201e+00 - lr: 0.0025 - 2s/epoch - 8ms/step\n",
      "Epoch 28/1000\n",
      "270/270 - 2s - loss: -8.9166e+00 - negative_correlation_loss: -8.9300e+00 - val_loss: -8.8127e+00 - val_negative_correlation_loss: -8.8256e+00 - lr: 0.0012 - 2s/epoch - 8ms/step\n",
      "Epoch 29/1000\n",
      "270/270 - 2s - loss: -8.9172e+00 - negative_correlation_loss: -8.9302e+00 - val_loss: -8.8114e+00 - val_negative_correlation_loss: -8.8239e+00 - lr: 0.0012 - 2s/epoch - 8ms/step\n",
      "Epoch 30/1000\n",
      "270/270 - 2s - loss: -8.9175e+00 - negative_correlation_loss: -8.9303e+00 - val_loss: -8.8104e+00 - val_negative_correlation_loss: -8.8228e+00 - lr: 0.0012 - 2s/epoch - 8ms/step\n",
      "Epoch 31/1000\n",
      "270/270 - 2s - loss: -8.9178e+00 - negative_correlation_loss: -8.9304e+00 - val_loss: -8.8132e+00 - val_negative_correlation_loss: -8.8254e+00 - lr: 0.0012 - 2s/epoch - 8ms/step\n",
      "Epoch 32/1000\n",
      "270/270 - 2s - loss: -8.9179e+00 - negative_correlation_loss: -8.9304e+00 - val_loss: -8.8144e+00 - val_negative_correlation_loss: -8.8265e+00 - lr: 0.0012 - 2s/epoch - 8ms/step\n",
      "Epoch 33/1000\n",
      "270/270 - 2s - loss: -8.9182e+00 - negative_correlation_loss: -8.9306e+00 - val_loss: -8.8111e+00 - val_negative_correlation_loss: -8.8231e+00 - lr: 0.0012 - 2s/epoch - 8ms/step\n",
      "Epoch 34/1000\n",
      "270/270 - 2s - loss: -8.9184e+00 - negative_correlation_loss: -8.9306e+00 - val_loss: -8.8139e+00 - val_negative_correlation_loss: -8.8258e+00 - lr: 0.0012 - 2s/epoch - 8ms/step\n",
      "Epoch 35/1000\n",
      "270/270 - 2s - loss: -8.9186e+00 - negative_correlation_loss: -8.9307e+00 - val_loss: -8.8151e+00 - val_negative_correlation_loss: -8.8269e+00 - lr: 0.0012 - 2s/epoch - 8ms/step\n",
      "Epoch 36/1000\n",
      "270/270 - 2s - loss: -8.9187e+00 - negative_correlation_loss: -8.9308e+00 - val_loss: -8.8129e+00 - val_negative_correlation_loss: -8.8246e+00 - lr: 0.0012 - 2s/epoch - 8ms/step\n",
      "Epoch 37/1000\n",
      "270/270 - 2s - loss: -8.9188e+00 - negative_correlation_loss: -8.9308e+00 - val_loss: -8.8112e+00 - val_negative_correlation_loss: -8.8228e+00 - lr: 0.0012 - 2s/epoch - 8ms/step\n",
      "Epoch 38/1000\n",
      "270/270 - 2s - loss: -8.9190e+00 - negative_correlation_loss: -8.9309e+00 - val_loss: -8.8120e+00 - val_negative_correlation_loss: -8.8236e+00 - lr: 0.0012 - 2s/epoch - 8ms/step\n",
      "Epoch 39/1000\n",
      "270/270 - 2s - loss: -8.9191e+00 - negative_correlation_loss: -8.9310e+00 - val_loss: -8.8155e+00 - val_negative_correlation_loss: -8.8271e+00 - lr: 0.0012 - 2s/epoch - 8ms/step\n",
      "Epoch 40/1000\n",
      "270/270 - 2s - loss: -8.9193e+00 - negative_correlation_loss: -8.9311e+00 - val_loss: -8.8150e+00 - val_negative_correlation_loss: -8.8264e+00 - lr: 0.0012 - 2s/epoch - 8ms/step\n",
      "Epoch 41/1000\n",
      "270/270 - 2s - loss: -8.9194e+00 - negative_correlation_loss: -8.9311e+00 - val_loss: -8.8144e+00 - val_negative_correlation_loss: -8.8259e+00 - lr: 0.0012 - 2s/epoch - 8ms/step\n",
      "Epoch 42/1000\n",
      "270/270 - 2s - loss: -8.9195e+00 - negative_correlation_loss: -8.9312e+00 - val_loss: -8.8155e+00 - val_negative_correlation_loss: -8.8268e+00 - lr: 0.0012 - 2s/epoch - 8ms/step\n",
      "Epoch 43/1000\n",
      "\n",
      "Epoch 43: ReduceLROnPlateau reducing learning rate to 0.0006249999860301614.\n",
      "270/270 - 2s - loss: -8.9195e+00 - negative_correlation_loss: -8.9312e+00 - val_loss: -8.8122e+00 - val_negative_correlation_loss: -8.8236e+00 - lr: 0.0012 - 2s/epoch - 8ms/step\n",
      "Epoch 44/1000\n",
      "270/270 - 2s - loss: -8.9220e+00 - negative_correlation_loss: -8.9335e+00 - val_loss: -8.8169e+00 - val_negative_correlation_loss: -8.8280e+00 - lr: 6.2500e-04 - 2s/epoch - 8ms/step\n",
      "Epoch 45/1000\n",
      "270/270 - 2s - loss: -8.9224e+00 - negative_correlation_loss: -8.9337e+00 - val_loss: -8.8166e+00 - val_negative_correlation_loss: -8.8276e+00 - lr: 6.2500e-04 - 2s/epoch - 8ms/step\n",
      "Epoch 46/1000\n",
      "270/270 - 2s - loss: -8.9225e+00 - negative_correlation_loss: -8.9337e+00 - val_loss: -8.8142e+00 - val_negative_correlation_loss: -8.8251e+00 - lr: 6.2500e-04 - 2s/epoch - 8ms/step\n",
      "Epoch 47/1000\n",
      "270/270 - 2s - loss: -8.9226e+00 - negative_correlation_loss: -8.9338e+00 - val_loss: -8.8150e+00 - val_negative_correlation_loss: -8.8258e+00 - lr: 6.2500e-04 - 2s/epoch - 8ms/step\n",
      "Epoch 48/1000\n",
      "\n",
      "Epoch 48: ReduceLROnPlateau reducing learning rate to 0.0003124999930150807.\n",
      "270/270 - 2s - loss: -8.9228e+00 - negative_correlation_loss: -8.9339e+00 - val_loss: -8.8164e+00 - val_negative_correlation_loss: -8.8271e+00 - lr: 6.2500e-04 - 2s/epoch - 8ms/step\n",
      "Epoch 49/1000\n",
      "270/270 - 2s - loss: -8.9244e+00 - negative_correlation_loss: -8.9354e+00 - val_loss: -8.8173e+00 - val_negative_correlation_loss: -8.8279e+00 - lr: 3.1250e-04 - 2s/epoch - 8ms/step\n",
      "Epoch 50/1000\n",
      "270/270 - 2s - loss: -8.9246e+00 - negative_correlation_loss: -8.9355e+00 - val_loss: -8.8174e+00 - val_negative_correlation_loss: -8.8280e+00 - lr: 3.1250e-04 - 2s/epoch - 8ms/step\n",
      "Epoch 51/1000\n",
      "270/270 - 2s - loss: -8.9247e+00 - negative_correlation_loss: -8.9355e+00 - val_loss: -8.8166e+00 - val_negative_correlation_loss: -8.8271e+00 - lr: 3.1250e-04 - 2s/epoch - 8ms/step\n",
      "Epoch 52/1000\n",
      "270/270 - 2s - loss: -8.9248e+00 - negative_correlation_loss: -8.9355e+00 - val_loss: -8.8171e+00 - val_negative_correlation_loss: -8.8275e+00 - lr: 3.1250e-04 - 2s/epoch - 8ms/step\n",
      "Epoch 53/1000\n",
      "270/270 - 2s - loss: -8.9249e+00 - negative_correlation_loss: -8.9356e+00 - val_loss: -8.8168e+00 - val_negative_correlation_loss: -8.8272e+00 - lr: 3.1250e-04 - 2s/epoch - 8ms/step\n",
      "Epoch 54/1000\n",
      "\n",
      "Epoch 54: ReduceLROnPlateau reducing learning rate to 0.00015624999650754035.\n",
      "270/270 - 2s - loss: -8.9250e+00 - negative_correlation_loss: -8.9356e+00 - val_loss: -8.8170e+00 - val_negative_correlation_loss: -8.8273e+00 - lr: 3.1250e-04 - 2s/epoch - 8ms/step\n",
      "Epoch 55/1000\n",
      "270/270 - 2s - loss: -8.9259e+00 - negative_correlation_loss: -8.9365e+00 - val_loss: -8.8169e+00 - val_negative_correlation_loss: -8.8272e+00 - lr: 1.5625e-04 - 2s/epoch - 8ms/step\n",
      "Epoch 56/1000\n",
      "270/270 - 2s - loss: -8.9261e+00 - negative_correlation_loss: -8.9366e+00 - val_loss: -8.8172e+00 - val_negative_correlation_loss: -8.8275e+00 - lr: 1.5625e-04 - 2s/epoch - 8ms/step\n",
      "Epoch 57/1000\n",
      "270/270 - 2s - loss: -8.9261e+00 - negative_correlation_loss: -8.9366e+00 - val_loss: -8.8182e+00 - val_negative_correlation_loss: -8.8284e+00 - lr: 1.5625e-04 - 2s/epoch - 8ms/step\n",
      "Epoch 58/1000\n",
      "270/270 - 2s - loss: -8.9262e+00 - negative_correlation_loss: -8.9367e+00 - val_loss: -8.8166e+00 - val_negative_correlation_loss: -8.8268e+00 - lr: 1.5625e-04 - 2s/epoch - 8ms/step\n",
      "Epoch 59/1000\n",
      "270/270 - 2s - loss: -8.9263e+00 - negative_correlation_loss: -8.9367e+00 - val_loss: -8.8173e+00 - val_negative_correlation_loss: -8.8275e+00 - lr: 1.5625e-04 - 2s/epoch - 8ms/step\n",
      "Epoch 60/1000\n",
      "270/270 - 2s - loss: -8.9263e+00 - negative_correlation_loss: -8.9368e+00 - val_loss: -8.8177e+00 - val_negative_correlation_loss: -8.8278e+00 - lr: 1.5625e-04 - 2s/epoch - 8ms/step\n",
      "Epoch 61/1000\n",
      "\n",
      "Epoch 61: ReduceLROnPlateau reducing learning rate to 7.812499825377017e-05.\n",
      "270/270 - 2s - loss: -8.9264e+00 - negative_correlation_loss: -8.9368e+00 - val_loss: -8.8177e+00 - val_negative_correlation_loss: -8.8278e+00 - lr: 1.5625e-04 - 2s/epoch - 8ms/step\n",
      "Epoch 62/1000\n",
      "270/270 - 2s - loss: -8.9270e+00 - negative_correlation_loss: -8.9373e+00 - val_loss: -8.8179e+00 - val_negative_correlation_loss: -8.8279e+00 - lr: 7.8125e-05 - 2s/epoch - 8ms/step\n",
      "Epoch 63/1000\n",
      "270/270 - 2s - loss: -8.9270e+00 - negative_correlation_loss: -8.9373e+00 - val_loss: -8.8179e+00 - val_negative_correlation_loss: -8.8279e+00 - lr: 7.8125e-05 - 2s/epoch - 8ms/step\n",
      "Epoch 64/1000\n",
      "270/270 - 2s - loss: -8.9271e+00 - negative_correlation_loss: -8.9374e+00 - val_loss: -8.8173e+00 - val_negative_correlation_loss: -8.8273e+00 - lr: 7.8125e-05 - 2s/epoch - 8ms/step\n",
      "Epoch 65/1000\n",
      "270/270 - 2s - loss: -8.9271e+00 - negative_correlation_loss: -8.9374e+00 - val_loss: -8.8185e+00 - val_negative_correlation_loss: -8.8285e+00 - lr: 7.8125e-05 - 2s/epoch - 8ms/step\n",
      "Epoch 66/1000\n",
      "270/270 - 2s - loss: -8.9271e+00 - negative_correlation_loss: -8.9374e+00 - val_loss: -8.8174e+00 - val_negative_correlation_loss: -8.8274e+00 - lr: 7.8125e-05 - 2s/epoch - 8ms/step\n",
      "Epoch 67/1000\n",
      "270/270 - 2s - loss: -8.9272e+00 - negative_correlation_loss: -8.9374e+00 - val_loss: -8.8182e+00 - val_negative_correlation_loss: -8.8282e+00 - lr: 7.8125e-05 - 2s/epoch - 8ms/step\n",
      "Epoch 68/1000\n",
      "270/270 - 2s - loss: -8.9272e+00 - negative_correlation_loss: -8.9374e+00 - val_loss: -8.8178e+00 - val_negative_correlation_loss: -8.8278e+00 - lr: 7.8125e-05 - 2s/epoch - 8ms/step\n",
      "Epoch 69/1000\n",
      "\n",
      "Epoch 69: ReduceLROnPlateau reducing learning rate to 3.9062499126885086e-05.\n",
      "270/270 - 2s - loss: -8.9272e+00 - negative_correlation_loss: -8.9375e+00 - val_loss: -8.8177e+00 - val_negative_correlation_loss: -8.8277e+00 - lr: 7.8125e-05 - 2s/epoch - 8ms/step\n",
      "Epoch 70/1000\n",
      "270/270 - 2s - loss: -8.9276e+00 - negative_correlation_loss: -8.9378e+00 - val_loss: -8.8182e+00 - val_negative_correlation_loss: -8.8282e+00 - lr: 3.9062e-05 - 2s/epoch - 8ms/step\n",
      "Epoch 71/1000\n",
      "270/270 - 2s - loss: -8.9276e+00 - negative_correlation_loss: -8.9378e+00 - val_loss: -8.8183e+00 - val_negative_correlation_loss: -8.8282e+00 - lr: 3.9062e-05 - 2s/epoch - 8ms/step\n",
      "Epoch 72/1000\n",
      "270/270 - 2s - loss: -8.9276e+00 - negative_correlation_loss: -8.9378e+00 - val_loss: -8.8179e+00 - val_negative_correlation_loss: -8.8278e+00 - lr: 3.9062e-05 - 2s/epoch - 8ms/step\n",
      "Epoch 73/1000\n",
      "\n",
      "Epoch 73: ReduceLROnPlateau reducing learning rate to 1.9531249563442543e-05.\n",
      "270/270 - 2s - loss: -8.9276e+00 - negative_correlation_loss: -8.9378e+00 - val_loss: -8.8177e+00 - val_negative_correlation_loss: -8.8276e+00 - lr: 3.9062e-05 - 2s/epoch - 8ms/step\n",
      "Epoch 74/1000\n",
      "270/270 - 2s - loss: -8.9278e+00 - negative_correlation_loss: -8.9380e+00 - val_loss: -8.8183e+00 - val_negative_correlation_loss: -8.8281e+00 - lr: 1.9531e-05 - 2s/epoch - 8ms/step\n",
      "Epoch 75/1000\n",
      "270/270 - 2s - loss: -8.9278e+00 - negative_correlation_loss: -8.9380e+00 - val_loss: -8.8182e+00 - val_negative_correlation_loss: -8.8281e+00 - lr: 1.9531e-05 - 2s/epoch - 8ms/step\n",
      "Epoch 76/1000\n",
      "270/270 - 2s - loss: -8.9278e+00 - negative_correlation_loss: -8.9380e+00 - val_loss: -8.8181e+00 - val_negative_correlation_loss: -8.8280e+00 - lr: 1.9531e-05 - 2s/epoch - 8ms/step\n",
      "Epoch 77/1000\n",
      "\n",
      "Epoch 77: ReduceLROnPlateau reducing learning rate to 9.765624781721272e-06.\n",
      "270/270 - 2s - loss: -8.9278e+00 - negative_correlation_loss: -8.9380e+00 - val_loss: -8.8180e+00 - val_negative_correlation_loss: -8.8279e+00 - lr: 1.9531e-05 - 2s/epoch - 8ms/step\n",
      "1/1 [==============================] - 0s 150ms/step\n",
      "Fold 0:  76 epochs, corr =  0.97401\n"
     ]
    }
   ],
   "source": [
    "# VERBOSE = 2\n",
    "# targets = scipy.sparse.load_npz(\"./sparse/train_multi_targets_values.sparse.npz\")\n",
    "# targets = scprep.filter.remove_empty_genes(targets)\n",
    "# # Normalize the targets row-wise: This doesn't change the correlations,\n",
    "# # and negative_correlation_loss depends on it\n",
    "# targets -= targets.mean(axis=1).reshape(-1, 1)\n",
    "# targets /= targets.std(axis=1).reshape(-1, 1)\n",
    "\n",
    "# pca_train = TruncatedSVD(n_components=128, random_state=1)\n",
    "# pca_targets = pca_train.fit_transform(targets)\n",
    "\n",
    "LR_START = 0.01\n",
    "BATCH_SIZE = 256\n",
    "reg1 = 8e-5\n",
    "reg2 = 2e-5\n",
    "model = fit(multi_X_train,pca_targets,meta)"
   ]
  },
  {
   "cell_type": "code",
   "execution_count": 14,
   "id": "b8daf25c-d9a0-473b-af5d-339c334f54bb",
   "metadata": {
    "execution": {
     "iopub.execute_input": "2022-11-03T00:01:27.418847Z",
     "iopub.status.busy": "2022-11-03T00:01:27.418463Z",
     "iopub.status.idle": "2022-11-03T00:02:08.085839Z",
     "shell.execute_reply": "2022-11-03T00:02:08.085276Z",
     "shell.execute_reply.started": "2022-11-03T00:01:27.418820Z"
    }
   },
   "outputs": [
    {
     "name": "stdout",
     "output_type": "stream",
     "text": [
      "3311/3311 [==============================] - 7s 2ms/step\n"
     ]
    },
    {
     "data": {
      "text/plain": [
       "0.6572131474162176"
      ]
     },
     "execution_count": 14,
     "metadata": {},
     "output_type": "execute_result"
    }
   ],
   "source": [
    "correlation_score(targets,pca_train.inverse_transform(model.predict(multi_X_train)))"
   ]
  },
  {
   "cell_type": "code",
   "execution_count": 16,
   "id": "96d27579-7d9f-472f-911e-3447908af875",
   "metadata": {
    "execution": {
     "iopub.execute_input": "2022-11-03T00:02:59.551773Z",
     "iopub.status.busy": "2022-11-03T00:02:59.551340Z",
     "iopub.status.idle": "2022-11-03T00:02:59.556620Z",
     "shell.execute_reply": "2022-11-03T00:02:59.556079Z",
     "shell.execute_reply.started": "2022-11-03T00:02:59.551747Z"
    },
    "tags": []
   },
   "outputs": [
    {
     "data": {
      "text/plain": [
       "array([[ 96.75895   ,   2.7196717 ,  -6.6861234 , ...,   0.2287289 ,\n",
       "         -1.2928412 ,   1.6107945 ],\n",
       "       [ 90.68708   ,  39.3617    ,   3.4871614 , ...,  -1.3762586 ,\n",
       "          0.400674  ,  -0.6611794 ],\n",
       "       [ 93.53362   ,   4.350221  ,  -1.340466  , ...,  -1.5267378 ,\n",
       "         -1.033648  ,   0.34245542],\n",
       "       ...,\n",
       "       [ 99.821075  , -24.800884  ,  -7.6014423 , ...,  -1.9411163 ,\n",
       "         -1.5029633 ,   0.2864661 ],\n",
       "       [ 91.02533   ,   2.438875  ,  14.581878  , ...,   1.953774  ,\n",
       "          0.85188013,  -0.8442121 ],\n",
       "       [ 74.90686   , -25.215921  ,  19.704288  , ...,   4.082716  ,\n",
       "         -0.6349184 ,  -1.7248564 ]], dtype=float32)"
      ]
     },
     "execution_count": 16,
     "metadata": {},
     "output_type": "execute_result"
    }
   ],
   "source": [
    "pca_targets"
   ]
  },
  {
   "cell_type": "code",
   "execution_count": 151,
   "id": "f118eb70-ef55-49f2-a727-2055e6295539",
   "metadata": {
    "execution": {
     "iopub.execute_input": "2022-10-14T18:49:55.793715Z",
     "iopub.status.busy": "2022-10-14T18:49:55.793317Z",
     "iopub.status.idle": "2022-10-14T18:53:14.274971Z",
     "shell.execute_reply": "2022-10-14T18:53:14.274348Z",
     "shell.execute_reply.started": "2022-10-14T18:49:55.793692Z"
    },
    "tags": []
   },
   "outputs": [
    {
     "name": "stderr",
     "output_type": "stream",
     "text": [
      "/srv/conda/envs/saturn/lib/python3.9/site-packages/sklearn/utils/validation.py:727: FutureWarning: np.matrix usage is deprecated in 1.0 and will raise a TypeError in 1.2. Please convert to a numpy array with np.asarray. For more information see: https://numpy.org/doc/stable/reference/generated/numpy.matrix.html\n",
      "  warnings.warn(\n"
     ]
    },
    {
     "name": "stdout",
     "output_type": "stream",
     "text": [
      "Epoch 1/1000\n",
      "270/270 - 3s - loss: -8.6882e+00 - negative_correlation_loss: -8.7533e+00 - val_loss: -8.7500e+00 - val_negative_correlation_loss: -8.7926e+00 - lr: 0.0100 - 3s/epoch - 12ms/step\n",
      "Epoch 2/1000\n",
      "270/270 - 2s - loss: -8.8602e+00 - negative_correlation_loss: -8.8958e+00 - val_loss: -8.7682e+00 - val_negative_correlation_loss: -8.7982e+00 - lr: 0.0100 - 2s/epoch - 8ms/step\n",
      "Epoch 3/1000\n",
      "270/270 - 2s - loss: -8.8761e+00 - negative_correlation_loss: -8.9036e+00 - val_loss: -8.7786e+00 - val_negative_correlation_loss: -8.8035e+00 - lr: 0.0100 - 2s/epoch - 8ms/step\n",
      "Epoch 4/1000\n",
      "270/270 - 2s - loss: -8.8833e+00 - negative_correlation_loss: -8.9073e+00 - val_loss: -8.7798e+00 - val_negative_correlation_loss: -8.8027e+00 - lr: 0.0100 - 2s/epoch - 8ms/step\n",
      "Epoch 5/1000\n",
      "270/270 - 2s - loss: -8.8868e+00 - negative_correlation_loss: -8.9092e+00 - val_loss: -8.7869e+00 - val_negative_correlation_loss: -8.8083e+00 - lr: 0.0100 - 2s/epoch - 8ms/step\n",
      "Epoch 6/1000\n",
      "270/270 - 2s - loss: -8.8893e+00 - negative_correlation_loss: -8.9108e+00 - val_loss: -8.7904e+00 - val_negative_correlation_loss: -8.8113e+00 - lr: 0.0100 - 2s/epoch - 8ms/step\n",
      "Epoch 7/1000\n",
      "270/270 - 2s - loss: -8.8910e+00 - negative_correlation_loss: -8.9119e+00 - val_loss: -8.7875e+00 - val_negative_correlation_loss: -8.8076e+00 - lr: 0.0100 - 2s/epoch - 8ms/step\n",
      "Epoch 8/1000\n",
      "270/270 - 2s - loss: -8.8923e+00 - negative_correlation_loss: -8.9128e+00 - val_loss: -8.7897e+00 - val_negative_correlation_loss: -8.8095e+00 - lr: 0.0100 - 2s/epoch - 8ms/step\n",
      "Epoch 9/1000\n",
      "270/270 - 2s - loss: -8.8933e+00 - negative_correlation_loss: -8.9135e+00 - val_loss: -8.7926e+00 - val_negative_correlation_loss: -8.8127e+00 - lr: 0.0100 - 2s/epoch - 8ms/step\n",
      "Epoch 10/1000\n",
      "270/270 - 2s - loss: -8.8937e+00 - negative_correlation_loss: -8.9137e+00 - val_loss: -8.7905e+00 - val_negative_correlation_loss: -8.8099e+00 - lr: 0.0100 - 2s/epoch - 8ms/step\n",
      "Epoch 11/1000\n",
      "270/270 - 2s - loss: -8.8941e+00 - negative_correlation_loss: -8.9140e+00 - val_loss: -8.7877e+00 - val_negative_correlation_loss: -8.8074e+00 - lr: 0.0100 - 2s/epoch - 8ms/step\n",
      "Epoch 12/1000\n",
      "270/270 - 2s - loss: -8.8948e+00 - negative_correlation_loss: -8.9146e+00 - val_loss: -8.7883e+00 - val_negative_correlation_loss: -8.8075e+00 - lr: 0.0100 - 2s/epoch - 8ms/step\n",
      "Epoch 13/1000\n",
      "\n",
      "Epoch 13: ReduceLROnPlateau reducing learning rate to 0.004999999888241291.\n",
      "270/270 - 2s - loss: -8.8947e+00 - negative_correlation_loss: -8.9145e+00 - val_loss: -8.7888e+00 - val_negative_correlation_loss: -8.8082e+00 - lr: 0.0100 - 2s/epoch - 8ms/step\n",
      "Epoch 14/1000\n",
      "270/270 - 2s - loss: -8.9036e+00 - negative_correlation_loss: -8.9212e+00 - val_loss: -8.7983e+00 - val_negative_correlation_loss: -8.8148e+00 - lr: 0.0050 - 2s/epoch - 8ms/step\n",
      "Epoch 15/1000\n",
      "270/270 - 2s - loss: -8.9043e+00 - negative_correlation_loss: -8.9209e+00 - val_loss: -8.8029e+00 - val_negative_correlation_loss: -8.8192e+00 - lr: 0.0050 - 2s/epoch - 8ms/step\n",
      "Epoch 16/1000\n",
      "270/270 - 2s - loss: -8.9046e+00 - negative_correlation_loss: -8.9211e+00 - val_loss: -8.8017e+00 - val_negative_correlation_loss: -8.8178e+00 - lr: 0.0050 - 2s/epoch - 8ms/step\n",
      "Epoch 17/1000\n",
      "270/270 - 2s - loss: -8.9046e+00 - negative_correlation_loss: -8.9210e+00 - val_loss: -8.7999e+00 - val_negative_correlation_loss: -8.8160e+00 - lr: 0.0050 - 2s/epoch - 8ms/step\n",
      "Epoch 18/1000\n",
      "270/270 - 2s - loss: -8.9050e+00 - negative_correlation_loss: -8.9213e+00 - val_loss: -8.8068e+00 - val_negative_correlation_loss: -8.8227e+00 - lr: 0.0050 - 2s/epoch - 8ms/step\n",
      "Epoch 19/1000\n",
      "270/270 - 2s - loss: -8.9046e+00 - negative_correlation_loss: -8.9209e+00 - val_loss: -8.8041e+00 - val_negative_correlation_loss: -8.8199e+00 - lr: 0.0050 - 2s/epoch - 8ms/step\n",
      "Epoch 20/1000\n",
      "270/270 - 2s - loss: -8.9049e+00 - negative_correlation_loss: -8.9211e+00 - val_loss: -8.8034e+00 - val_negative_correlation_loss: -8.8196e+00 - lr: 0.0050 - 2s/epoch - 8ms/step\n",
      "Epoch 21/1000\n",
      "270/270 - 2s - loss: -8.9051e+00 - negative_correlation_loss: -8.9214e+00 - val_loss: -8.7989e+00 - val_negative_correlation_loss: -8.8146e+00 - lr: 0.0050 - 2s/epoch - 8ms/step\n",
      "Epoch 22/1000\n",
      "\n",
      "Epoch 22: ReduceLROnPlateau reducing learning rate to 0.0024999999441206455.\n",
      "270/270 - 2s - loss: -8.9052e+00 - negative_correlation_loss: -8.9213e+00 - val_loss: -8.8011e+00 - val_negative_correlation_loss: -8.8168e+00 - lr: 0.0050 - 2s/epoch - 8ms/step\n",
      "Epoch 23/1000\n",
      "270/270 - 2s - loss: -8.9108e+00 - negative_correlation_loss: -8.9259e+00 - val_loss: -8.8092e+00 - val_negative_correlation_loss: -8.8236e+00 - lr: 0.0025 - 2s/epoch - 8ms/step\n",
      "Epoch 24/1000\n",
      "270/270 - 2s - loss: -8.9117e+00 - negative_correlation_loss: -8.9261e+00 - val_loss: -8.8054e+00 - val_negative_correlation_loss: -8.8193e+00 - lr: 0.0025 - 2s/epoch - 8ms/step\n",
      "Epoch 25/1000\n",
      "270/270 - 2s - loss: -8.9119e+00 - negative_correlation_loss: -8.9261e+00 - val_loss: -8.8062e+00 - val_negative_correlation_loss: -8.8200e+00 - lr: 0.0025 - 2s/epoch - 8ms/step\n",
      "Epoch 26/1000\n",
      "270/270 - 2s - loss: -8.9122e+00 - negative_correlation_loss: -8.9262e+00 - val_loss: -8.8080e+00 - val_negative_correlation_loss: -8.8217e+00 - lr: 0.0025 - 2s/epoch - 8ms/step\n",
      "Epoch 27/1000\n",
      "\n",
      "Epoch 27: ReduceLROnPlateau reducing learning rate to 0.0012499999720603228.\n",
      "270/270 - 2s - loss: -8.9122e+00 - negative_correlation_loss: -8.9261e+00 - val_loss: -8.8065e+00 - val_negative_correlation_loss: -8.8200e+00 - lr: 0.0025 - 2s/epoch - 8ms/step\n",
      "Epoch 28/1000\n",
      "270/270 - 2s - loss: -8.9160e+00 - negative_correlation_loss: -8.9295e+00 - val_loss: -8.8121e+00 - val_negative_correlation_loss: -8.8250e+00 - lr: 0.0012 - 2s/epoch - 8ms/step\n",
      "Epoch 29/1000\n",
      "270/270 - 2s - loss: -8.9167e+00 - negative_correlation_loss: -8.9297e+00 - val_loss: -8.8106e+00 - val_negative_correlation_loss: -8.8231e+00 - lr: 0.0012 - 2s/epoch - 8ms/step\n",
      "Epoch 30/1000\n",
      "270/270 - 2s - loss: -8.9170e+00 - negative_correlation_loss: -8.9297e+00 - val_loss: -8.8102e+00 - val_negative_correlation_loss: -8.8225e+00 - lr: 0.0012 - 2s/epoch - 8ms/step\n",
      "Epoch 31/1000\n",
      "270/270 - 2s - loss: -8.9172e+00 - negative_correlation_loss: -8.9298e+00 - val_loss: -8.8135e+00 - val_negative_correlation_loss: -8.8257e+00 - lr: 0.0012 - 2s/epoch - 8ms/step\n",
      "Epoch 32/1000\n",
      "270/270 - 2s - loss: -8.9174e+00 - negative_correlation_loss: -8.9298e+00 - val_loss: -8.8148e+00 - val_negative_correlation_loss: -8.8269e+00 - lr: 0.0012 - 2s/epoch - 8ms/step\n",
      "Epoch 33/1000\n",
      "270/270 - 2s - loss: -8.9177e+00 - negative_correlation_loss: -8.9300e+00 - val_loss: -8.8116e+00 - val_negative_correlation_loss: -8.8236e+00 - lr: 0.0012 - 2s/epoch - 8ms/step\n",
      "Epoch 34/1000\n",
      "270/270 - 2s - loss: -8.9178e+00 - negative_correlation_loss: -8.9300e+00 - val_loss: -8.8140e+00 - val_negative_correlation_loss: -8.8259e+00 - lr: 0.0012 - 2s/epoch - 8ms/step\n",
      "Epoch 35/1000\n",
      "270/270 - 2s - loss: -8.9180e+00 - negative_correlation_loss: -8.9301e+00 - val_loss: -8.8154e+00 - val_negative_correlation_loss: -8.8272e+00 - lr: 0.0012 - 2s/epoch - 8ms/step\n",
      "Epoch 36/1000\n",
      "270/270 - 2s - loss: -8.9181e+00 - negative_correlation_loss: -8.9301e+00 - val_loss: -8.8122e+00 - val_negative_correlation_loss: -8.8238e+00 - lr: 0.0012 - 2s/epoch - 8ms/step\n",
      "Epoch 37/1000\n",
      "270/270 - 2s - loss: -8.9183e+00 - negative_correlation_loss: -8.9302e+00 - val_loss: -8.8116e+00 - val_negative_correlation_loss: -8.8231e+00 - lr: 0.0012 - 2s/epoch - 8ms/step\n",
      "Epoch 38/1000\n",
      "270/270 - 2s - loss: -8.9185e+00 - negative_correlation_loss: -8.9304e+00 - val_loss: -8.8118e+00 - val_negative_correlation_loss: -8.8233e+00 - lr: 0.0012 - 2s/epoch - 8ms/step\n",
      "Epoch 39/1000\n",
      "\n",
      "Epoch 39: ReduceLROnPlateau reducing learning rate to 0.0006249999860301614.\n",
      "270/270 - 2s - loss: -8.9186e+00 - negative_correlation_loss: -8.9304e+00 - val_loss: -8.8154e+00 - val_negative_correlation_loss: -8.8269e+00 - lr: 0.0012 - 2s/epoch - 8ms/step\n",
      "Epoch 40/1000\n",
      "270/270 - 2s - loss: -8.9210e+00 - negative_correlation_loss: -8.9326e+00 - val_loss: -8.8173e+00 - val_negative_correlation_loss: -8.8286e+00 - lr: 6.2500e-04 - 2s/epoch - 8ms/step\n",
      "Epoch 41/1000\n",
      "270/270 - 2s - loss: -8.9214e+00 - negative_correlation_loss: -8.9328e+00 - val_loss: -8.8146e+00 - val_negative_correlation_loss: -8.8257e+00 - lr: 6.2500e-04 - 2s/epoch - 8ms/step\n",
      "Epoch 42/1000\n",
      "270/270 - 2s - loss: -8.9215e+00 - negative_correlation_loss: -8.9328e+00 - val_loss: -8.8167e+00 - val_negative_correlation_loss: -8.8277e+00 - lr: 6.2500e-04 - 2s/epoch - 8ms/step\n",
      "Epoch 43/1000\n",
      "270/270 - 2s - loss: -8.9216e+00 - negative_correlation_loss: -8.9329e+00 - val_loss: -8.8134e+00 - val_negative_correlation_loss: -8.8243e+00 - lr: 6.2500e-04 - 2s/epoch - 8ms/step\n",
      "Epoch 44/1000\n",
      "\n",
      "Epoch 44: ReduceLROnPlateau reducing learning rate to 0.0003124999930150807.\n",
      "270/270 - 2s - loss: -8.9218e+00 - negative_correlation_loss: -8.9329e+00 - val_loss: -8.8164e+00 - val_negative_correlation_loss: -8.8272e+00 - lr: 6.2500e-04 - 2s/epoch - 8ms/step\n",
      "Epoch 45/1000\n",
      "270/270 - 2s - loss: -8.9233e+00 - negative_correlation_loss: -8.9343e+00 - val_loss: -8.8171e+00 - val_negative_correlation_loss: -8.8278e+00 - lr: 3.1250e-04 - 2s/epoch - 8ms/step\n",
      "Epoch 46/1000\n",
      "270/270 - 2s - loss: -8.9235e+00 - negative_correlation_loss: -8.9345e+00 - val_loss: -8.8169e+00 - val_negative_correlation_loss: -8.8275e+00 - lr: 3.1250e-04 - 2s/epoch - 8ms/step\n",
      "Epoch 47/1000\n",
      "270/270 - 2s - loss: -8.9237e+00 - negative_correlation_loss: -8.9346e+00 - val_loss: -8.8154e+00 - val_negative_correlation_loss: -8.8259e+00 - lr: 3.1250e-04 - 2s/epoch - 8ms/step\n",
      "Epoch 48/1000\n",
      "\n",
      "Epoch 48: ReduceLROnPlateau reducing learning rate to 0.00015624999650754035.\n",
      "270/270 - 2s - loss: -8.9238e+00 - negative_correlation_loss: -8.9346e+00 - val_loss: -8.8171e+00 - val_negative_correlation_loss: -8.8275e+00 - lr: 3.1250e-04 - 2s/epoch - 8ms/step\n",
      "Epoch 49/1000\n",
      "270/270 - 2s - loss: -8.9247e+00 - negative_correlation_loss: -8.9355e+00 - val_loss: -8.8172e+00 - val_negative_correlation_loss: -8.8276e+00 - lr: 1.5625e-04 - 2s/epoch - 8ms/step\n",
      "Epoch 50/1000\n",
      "270/270 - 2s - loss: -8.9248e+00 - negative_correlation_loss: -8.9355e+00 - val_loss: -8.8177e+00 - val_negative_correlation_loss: -8.8281e+00 - lr: 1.5625e-04 - 2s/epoch - 8ms/step\n",
      "Epoch 51/1000\n",
      "270/270 - 2s - loss: -8.9249e+00 - negative_correlation_loss: -8.9356e+00 - val_loss: -8.8170e+00 - val_negative_correlation_loss: -8.8273e+00 - lr: 1.5625e-04 - 2s/epoch - 8ms/step\n",
      "Epoch 52/1000\n",
      "270/270 - 2s - loss: -8.9250e+00 - negative_correlation_loss: -8.9356e+00 - val_loss: -8.8170e+00 - val_negative_correlation_loss: -8.8273e+00 - lr: 1.5625e-04 - 2s/epoch - 8ms/step\n",
      "Epoch 53/1000\n",
      "270/270 - 2s - loss: -8.9251e+00 - negative_correlation_loss: -8.9356e+00 - val_loss: -8.8173e+00 - val_negative_correlation_loss: -8.8276e+00 - lr: 1.5625e-04 - 2s/epoch - 8ms/step\n",
      "Epoch 54/1000\n",
      "\n",
      "Epoch 54: ReduceLROnPlateau reducing learning rate to 7.812499825377017e-05.\n",
      "270/270 - 2s - loss: -8.9251e+00 - negative_correlation_loss: -8.9357e+00 - val_loss: -8.8171e+00 - val_negative_correlation_loss: -8.8273e+00 - lr: 1.5625e-04 - 2s/epoch - 8ms/step\n",
      "Epoch 55/1000\n",
      "270/270 - 2s - loss: -8.9257e+00 - negative_correlation_loss: -8.9361e+00 - val_loss: -8.8163e+00 - val_negative_correlation_loss: -8.8265e+00 - lr: 7.8125e-05 - 2s/epoch - 8ms/step\n",
      "Epoch 56/1000\n",
      "270/270 - 2s - loss: -8.9257e+00 - negative_correlation_loss: -8.9362e+00 - val_loss: -8.8169e+00 - val_negative_correlation_loss: -8.8271e+00 - lr: 7.8125e-05 - 2s/epoch - 8ms/step\n",
      "Epoch 57/1000\n",
      "270/270 - 2s - loss: -8.9258e+00 - negative_correlation_loss: -8.9362e+00 - val_loss: -8.8177e+00 - val_negative_correlation_loss: -8.8279e+00 - lr: 7.8125e-05 - 2s/epoch - 8ms/step\n",
      "Epoch 58/1000\n",
      "\n",
      "Epoch 58: ReduceLROnPlateau reducing learning rate to 3.9062499126885086e-05.\n",
      "270/270 - 2s - loss: -8.9258e+00 - negative_correlation_loss: -8.9362e+00 - val_loss: -8.8171e+00 - val_negative_correlation_loss: -8.8272e+00 - lr: 7.8125e-05 - 2s/epoch - 8ms/step\n",
      "Epoch 59/1000\n",
      "270/270 - 2s - loss: -8.9261e+00 - negative_correlation_loss: -8.9365e+00 - val_loss: -8.8179e+00 - val_negative_correlation_loss: -8.8281e+00 - lr: 3.9062e-05 - 2s/epoch - 8ms/step\n",
      "Epoch 60/1000\n",
      "270/270 - 2s - loss: -8.9261e+00 - negative_correlation_loss: -8.9365e+00 - val_loss: -8.8175e+00 - val_negative_correlation_loss: -8.8276e+00 - lr: 3.9062e-05 - 2s/epoch - 8ms/step\n",
      "Epoch 61/1000\n",
      "270/270 - 2s - loss: -8.9262e+00 - negative_correlation_loss: -8.9366e+00 - val_loss: -8.8174e+00 - val_negative_correlation_loss: -8.8274e+00 - lr: 3.9062e-05 - 2s/epoch - 8ms/step\n",
      "Epoch 62/1000\n",
      "270/270 - 2s - loss: -8.9262e+00 - negative_correlation_loss: -8.9365e+00 - val_loss: -8.8179e+00 - val_negative_correlation_loss: -8.8280e+00 - lr: 3.9062e-05 - 2s/epoch - 8ms/step\n",
      "Epoch 63/1000\n",
      "\n",
      "Epoch 63: ReduceLROnPlateau reducing learning rate to 1.9531249563442543e-05.\n",
      "270/270 - 2s - loss: -8.9262e+00 - negative_correlation_loss: -8.9365e+00 - val_loss: -8.8177e+00 - val_negative_correlation_loss: -8.8277e+00 - lr: 3.9062e-05 - 2s/epoch - 8ms/step\n",
      "Epoch 64/1000\n",
      "270/270 - 2s - loss: -8.9264e+00 - negative_correlation_loss: -8.9367e+00 - val_loss: -8.8176e+00 - val_negative_correlation_loss: -8.8276e+00 - lr: 1.9531e-05 - 2s/epoch - 8ms/step\n",
      "Epoch 65/1000\n",
      "270/270 - 2s - loss: -8.9264e+00 - negative_correlation_loss: -8.9367e+00 - val_loss: -8.8174e+00 - val_negative_correlation_loss: -8.8275e+00 - lr: 1.9531e-05 - 2s/epoch - 8ms/step\n",
      "Epoch 66/1000\n",
      "270/270 - 2s - loss: -8.9264e+00 - negative_correlation_loss: -8.9367e+00 - val_loss: -8.8174e+00 - val_negative_correlation_loss: -8.8274e+00 - lr: 1.9531e-05 - 2s/epoch - 8ms/step\n",
      "Epoch 67/1000\n",
      "\n",
      "Epoch 67: ReduceLROnPlateau reducing learning rate to 9.765624781721272e-06.\n",
      "270/270 - 2s - loss: -8.9264e+00 - negative_correlation_loss: -8.9367e+00 - val_loss: -8.8176e+00 - val_negative_correlation_loss: -8.8277e+00 - lr: 1.9531e-05 - 2s/epoch - 8ms/step\n",
      "Epoch 68/1000\n",
      "270/270 - 2s - loss: -8.9265e+00 - negative_correlation_loss: -8.9368e+00 - val_loss: -8.8176e+00 - val_negative_correlation_loss: -8.8276e+00 - lr: 9.7656e-06 - 2s/epoch - 8ms/step\n",
      "Epoch 69/1000\n",
      "270/270 - 2s - loss: -8.9265e+00 - negative_correlation_loss: -8.9368e+00 - val_loss: -8.8178e+00 - val_negative_correlation_loss: -8.8278e+00 - lr: 9.7656e-06 - 2s/epoch - 8ms/step\n",
      "Epoch 70/1000\n",
      "270/270 - 2s - loss: -8.9265e+00 - negative_correlation_loss: -8.9368e+00 - val_loss: -8.8176e+00 - val_negative_correlation_loss: -8.8277e+00 - lr: 9.7656e-06 - 2s/epoch - 8ms/step\n",
      "Epoch 71/1000\n",
      "\n",
      "Epoch 71: ReduceLROnPlateau reducing learning rate to 4.882812390860636e-06.\n",
      "270/270 - 2s - loss: -8.9265e+00 - negative_correlation_loss: -8.9368e+00 - val_loss: -8.8177e+00 - val_negative_correlation_loss: -8.8277e+00 - lr: 9.7656e-06 - 2s/epoch - 8ms/step\n",
      "1/1 [==============================] - 0s 102ms/step\n",
      "Fold 0:  70 epochs, corr =  0.97397\n"
     ]
    }
   ],
   "source": [
    "targets = scipy.sparse.load_npz(\"./sparse/train_multi_targets_values.sparse.npz\")\n",
    "targets = scprep.filter.remove_empty_genes(targets)\n",
    "# Normalize the targets row-wise: This doesn't change the correlations,\n",
    "# and negative_correlation_loss depends on it\n",
    "targets -= targets.mean(axis=1).reshape(-1, 1)\n",
    "targets /= targets.std(axis=1).reshape(-1, 1)\n",
    "\n",
    "pca_train = TruncatedSVD(n_components=128, random_state=1)\n",
    "pca_targets = pca_train.fit_transform(targets)\n",
    "\n",
    "model = fit(multi_X_train,pca_targets,meta)"
   ]
  },
  {
   "cell_type": "code",
   "execution_count": 152,
   "id": "d0cf457c-f653-4da2-a95f-c01f8a836682",
   "metadata": {
    "execution": {
     "iopub.execute_input": "2022-10-14T18:53:30.643978Z",
     "iopub.status.busy": "2022-10-14T18:53:30.643588Z",
     "iopub.status.idle": "2022-10-14T18:54:08.738694Z",
     "shell.execute_reply": "2022-10-14T18:54:08.738044Z",
     "shell.execute_reply.started": "2022-10-14T18:53:30.643955Z"
    }
   },
   "outputs": [
    {
     "name": "stdout",
     "output_type": "stream",
     "text": [
      "3311/3311 [==============================] - 7s 2ms/step\n"
     ]
    },
    {
     "data": {
      "text/plain": [
       "0.6632218086473645"
      ]
     },
     "execution_count": 152,
     "metadata": {},
     "output_type": "execute_result"
    }
   ],
   "source": [
    "correlation_score(targets,pca_train.inverse_transform(model.predict(multi_X_train)))"
   ]
  },
  {
   "cell_type": "code",
   "execution_count": 154,
   "id": "9291911f-497e-41d6-acf5-040fabf5b0fc",
   "metadata": {
    "execution": {
     "iopub.execute_input": "2022-10-14T18:55:12.841327Z",
     "iopub.status.busy": "2022-10-14T18:55:12.840925Z",
     "iopub.status.idle": "2022-10-14T19:01:20.024598Z",
     "shell.execute_reply": "2022-10-14T19:01:20.023801Z",
     "shell.execute_reply.started": "2022-10-14T18:55:12.841303Z"
    },
    "tags": []
   },
   "outputs": [
    {
     "name": "stderr",
     "output_type": "stream",
     "text": [
      "/srv/conda/envs/saturn/lib/python3.9/site-packages/sklearn/utils/validation.py:727: FutureWarning: np.matrix usage is deprecated in 1.0 and will raise a TypeError in 1.2. Please convert to a numpy array with np.asarray. For more information see: https://numpy.org/doc/stable/reference/generated/numpy.matrix.html\n",
      "  warnings.warn(\n"
     ]
    },
    {
     "name": "stdout",
     "output_type": "stream",
     "text": [
      "Epoch 1/1000\n",
      "270/270 - 3s - loss: -4.3168e+00 - negative_correlation_loss: -4.3639e+00 - val_loss: -4.3709e+00 - val_negative_correlation_loss: -4.3972e+00 - lr: 0.0100 - 3s/epoch - 13ms/step\n",
      "Epoch 2/1000\n",
      "270/270 - 3s - loss: -4.4328e+00 - negative_correlation_loss: -4.4546e+00 - val_loss: -4.3841e+00 - val_negative_correlation_loss: -4.4032e+00 - lr: 0.0100 - 3s/epoch - 10ms/step\n",
      "Epoch 3/1000\n",
      "270/270 - 3s - loss: -4.4406e+00 - negative_correlation_loss: -4.4588e+00 - val_loss: -4.3882e+00 - val_negative_correlation_loss: -4.4055e+00 - lr: 0.0100 - 3s/epoch - 10ms/step\n",
      "Epoch 4/1000\n",
      "270/270 - 3s - loss: -4.4440e+00 - negative_correlation_loss: -4.4612e+00 - val_loss: -4.3926e+00 - val_negative_correlation_loss: -4.4095e+00 - lr: 0.0100 - 3s/epoch - 10ms/step\n",
      "Epoch 5/1000\n",
      "270/270 - 3s - loss: -4.4459e+00 - negative_correlation_loss: -4.4628e+00 - val_loss: -4.3939e+00 - val_negative_correlation_loss: -4.4104e+00 - lr: 0.0100 - 3s/epoch - 10ms/step\n",
      "Epoch 6/1000\n",
      "270/270 - 3s - loss: -4.4472e+00 - negative_correlation_loss: -4.4638e+00 - val_loss: -4.3963e+00 - val_negative_correlation_loss: -4.4126e+00 - lr: 0.0100 - 3s/epoch - 10ms/step\n",
      "Epoch 7/1000\n",
      "270/270 - 3s - loss: -4.4480e+00 - negative_correlation_loss: -4.4643e+00 - val_loss: -4.3956e+00 - val_negative_correlation_loss: -4.4114e+00 - lr: 0.0100 - 3s/epoch - 10ms/step\n",
      "Epoch 8/1000\n",
      "270/270 - 3s - loss: -4.4489e+00 - negative_correlation_loss: -4.4648e+00 - val_loss: -4.3956e+00 - val_negative_correlation_loss: -4.4109e+00 - lr: 0.0100 - 3s/epoch - 10ms/step\n",
      "Epoch 9/1000\n",
      "270/270 - 3s - loss: -4.4495e+00 - negative_correlation_loss: -4.4649e+00 - val_loss: -4.3963e+00 - val_negative_correlation_loss: -4.4116e+00 - lr: 0.0100 - 3s/epoch - 10ms/step\n",
      "Epoch 10/1000\n",
      "\n",
      "Epoch 10: ReduceLROnPlateau reducing learning rate to 0.004999999888241291.\n",
      "270/270 - 3s - loss: -4.4498e+00 - negative_correlation_loss: -4.4650e+00 - val_loss: -4.3958e+00 - val_negative_correlation_loss: -4.4106e+00 - lr: 0.0100 - 3s/epoch - 10ms/step\n",
      "Epoch 11/1000\n",
      "270/270 - 3s - loss: -4.4561e+00 - negative_correlation_loss: -4.4695e+00 - val_loss: -4.4039e+00 - val_negative_correlation_loss: -4.4166e+00 - lr: 0.0050 - 3s/epoch - 10ms/step\n",
      "Epoch 12/1000\n",
      "270/270 - 3s - loss: -4.4569e+00 - negative_correlation_loss: -4.4696e+00 - val_loss: -4.4030e+00 - val_negative_correlation_loss: -4.4153e+00 - lr: 0.0050 - 3s/epoch - 10ms/step\n",
      "Epoch 13/1000\n",
      "270/270 - 3s - loss: -4.4571e+00 - negative_correlation_loss: -4.4696e+00 - val_loss: -4.4032e+00 - val_negative_correlation_loss: -4.4155e+00 - lr: 0.0050 - 3s/epoch - 10ms/step\n",
      "Epoch 14/1000\n",
      "270/270 - 3s - loss: -4.4574e+00 - negative_correlation_loss: -4.4697e+00 - val_loss: -4.4025e+00 - val_negative_correlation_loss: -4.4145e+00 - lr: 0.0050 - 3s/epoch - 10ms/step\n",
      "Epoch 15/1000\n",
      "270/270 - 3s - loss: -4.4575e+00 - negative_correlation_loss: -4.4697e+00 - val_loss: -4.4050e+00 - val_negative_correlation_loss: -4.4170e+00 - lr: 0.0050 - 3s/epoch - 10ms/step\n",
      "Epoch 16/1000\n",
      "270/270 - 3s - loss: -4.4576e+00 - negative_correlation_loss: -4.4697e+00 - val_loss: -4.4038e+00 - val_negative_correlation_loss: -4.4158e+00 - lr: 0.0050 - 3s/epoch - 10ms/step\n",
      "Epoch 17/1000\n",
      "270/270 - 3s - loss: -4.4578e+00 - negative_correlation_loss: -4.4698e+00 - val_loss: -4.4035e+00 - val_negative_correlation_loss: -4.4153e+00 - lr: 0.0050 - 3s/epoch - 10ms/step\n",
      "Epoch 18/1000\n",
      "270/270 - 3s - loss: -4.4581e+00 - negative_correlation_loss: -4.4699e+00 - val_loss: -4.4069e+00 - val_negative_correlation_loss: -4.4185e+00 - lr: 0.0050 - 3s/epoch - 10ms/step\n",
      "Epoch 19/1000\n",
      "270/270 - 3s - loss: -4.4581e+00 - negative_correlation_loss: -4.4698e+00 - val_loss: -4.4046e+00 - val_negative_correlation_loss: -4.4161e+00 - lr: 0.0050 - 3s/epoch - 10ms/step\n",
      "Epoch 20/1000\n",
      "270/270 - 3s - loss: -4.4584e+00 - negative_correlation_loss: -4.4700e+00 - val_loss: -4.4056e+00 - val_negative_correlation_loss: -4.4171e+00 - lr: 0.0050 - 3s/epoch - 10ms/step\n",
      "Epoch 21/1000\n",
      "270/270 - 3s - loss: -4.4585e+00 - negative_correlation_loss: -4.4701e+00 - val_loss: -4.4045e+00 - val_negative_correlation_loss: -4.4158e+00 - lr: 0.0050 - 3s/epoch - 10ms/step\n",
      "Epoch 22/1000\n",
      "\n",
      "Epoch 22: ReduceLROnPlateau reducing learning rate to 0.0024999999441206455.\n",
      "270/270 - 3s - loss: -4.4586e+00 - negative_correlation_loss: -4.4701e+00 - val_loss: -4.4047e+00 - val_negative_correlation_loss: -4.4160e+00 - lr: 0.0050 - 3s/epoch - 10ms/step\n",
      "Epoch 23/1000\n",
      "270/270 - 3s - loss: -4.4626e+00 - negative_correlation_loss: -4.4733e+00 - val_loss: -4.4091e+00 - val_negative_correlation_loss: -4.4193e+00 - lr: 0.0025 - 3s/epoch - 10ms/step\n",
      "Epoch 24/1000\n",
      "270/270 - 3s - loss: -4.4631e+00 - negative_correlation_loss: -4.4733e+00 - val_loss: -4.4086e+00 - val_negative_correlation_loss: -4.4184e+00 - lr: 0.0025 - 3s/epoch - 10ms/step\n",
      "Epoch 25/1000\n",
      "270/270 - 3s - loss: -4.4633e+00 - negative_correlation_loss: -4.4733e+00 - val_loss: -4.4092e+00 - val_negative_correlation_loss: -4.4188e+00 - lr: 0.0025 - 3s/epoch - 10ms/step\n",
      "Epoch 26/1000\n",
      "270/270 - 3s - loss: -4.4636e+00 - negative_correlation_loss: -4.4734e+00 - val_loss: -4.4094e+00 - val_negative_correlation_loss: -4.4189e+00 - lr: 0.0025 - 3s/epoch - 10ms/step\n",
      "Epoch 27/1000\n",
      "270/270 - 3s - loss: -4.4638e+00 - negative_correlation_loss: -4.4734e+00 - val_loss: -4.4098e+00 - val_negative_correlation_loss: -4.4192e+00 - lr: 0.0025 - 3s/epoch - 10ms/step\n",
      "Epoch 28/1000\n",
      "270/270 - 3s - loss: -4.4640e+00 - negative_correlation_loss: -4.4735e+00 - val_loss: -4.4100e+00 - val_negative_correlation_loss: -4.4194e+00 - lr: 0.0025 - 3s/epoch - 10ms/step\n",
      "Epoch 29/1000\n",
      "270/270 - 3s - loss: -4.4642e+00 - negative_correlation_loss: -4.4736e+00 - val_loss: -4.4092e+00 - val_negative_correlation_loss: -4.4184e+00 - lr: 0.0025 - 3s/epoch - 10ms/step\n",
      "Epoch 30/1000\n",
      "270/270 - 3s - loss: -4.4643e+00 - negative_correlation_loss: -4.4736e+00 - val_loss: -4.4084e+00 - val_negative_correlation_loss: -4.4175e+00 - lr: 0.0025 - 3s/epoch - 10ms/step\n",
      "Epoch 31/1000\n",
      "270/270 - 3s - loss: -4.4645e+00 - negative_correlation_loss: -4.4738e+00 - val_loss: -4.4113e+00 - val_negative_correlation_loss: -4.4204e+00 - lr: 0.0025 - 3s/epoch - 10ms/step\n",
      "Epoch 32/1000\n",
      "270/270 - 3s - loss: -4.4646e+00 - negative_correlation_loss: -4.4738e+00 - val_loss: -4.4114e+00 - val_negative_correlation_loss: -4.4204e+00 - lr: 0.0025 - 3s/epoch - 10ms/step\n",
      "Epoch 33/1000\n",
      "270/270 - 3s - loss: -4.4648e+00 - negative_correlation_loss: -4.4739e+00 - val_loss: -4.4101e+00 - val_negative_correlation_loss: -4.4190e+00 - lr: 0.0025 - 3s/epoch - 10ms/step\n",
      "Epoch 34/1000\n",
      "270/270 - 3s - loss: -4.4648e+00 - negative_correlation_loss: -4.4739e+00 - val_loss: -4.4112e+00 - val_negative_correlation_loss: -4.4201e+00 - lr: 0.0025 - 3s/epoch - 10ms/step\n",
      "Epoch 35/1000\n",
      "270/270 - 3s - loss: -4.4650e+00 - negative_correlation_loss: -4.4740e+00 - val_loss: -4.4116e+00 - val_negative_correlation_loss: -4.4204e+00 - lr: 0.0025 - 3s/epoch - 10ms/step\n",
      "Epoch 36/1000\n",
      "270/270 - 3s - loss: -4.4650e+00 - negative_correlation_loss: -4.4740e+00 - val_loss: -4.4112e+00 - val_negative_correlation_loss: -4.4200e+00 - lr: 0.0025 - 3s/epoch - 10ms/step\n",
      "Epoch 37/1000\n",
      "270/270 - 3s - loss: -4.4651e+00 - negative_correlation_loss: -4.4740e+00 - val_loss: -4.4104e+00 - val_negative_correlation_loss: -4.4191e+00 - lr: 0.0025 - 3s/epoch - 10ms/step\n",
      "Epoch 38/1000\n",
      "270/270 - 3s - loss: -4.4652e+00 - negative_correlation_loss: -4.4740e+00 - val_loss: -4.4110e+00 - val_negative_correlation_loss: -4.4197e+00 - lr: 0.0025 - 3s/epoch - 10ms/step\n",
      "Epoch 39/1000\n",
      "270/270 - 3s - loss: -4.4653e+00 - negative_correlation_loss: -4.4741e+00 - val_loss: -4.4120e+00 - val_negative_correlation_loss: -4.4206e+00 - lr: 0.0025 - 3s/epoch - 10ms/step\n",
      "Epoch 40/1000\n",
      "270/270 - 3s - loss: -4.4653e+00 - negative_correlation_loss: -4.4741e+00 - val_loss: -4.4124e+00 - val_negative_correlation_loss: -4.4210e+00 - lr: 0.0025 - 3s/epoch - 10ms/step\n",
      "Epoch 41/1000\n",
      "270/270 - 3s - loss: -4.4654e+00 - negative_correlation_loss: -4.4742e+00 - val_loss: -4.4117e+00 - val_negative_correlation_loss: -4.4203e+00 - lr: 0.0025 - 3s/epoch - 10ms/step\n",
      "Epoch 42/1000\n",
      "270/270 - 3s - loss: -4.4654e+00 - negative_correlation_loss: -4.4742e+00 - val_loss: -4.4124e+00 - val_negative_correlation_loss: -4.4210e+00 - lr: 0.0025 - 3s/epoch - 10ms/step\n",
      "Epoch 43/1000\n",
      "270/270 - 3s - loss: -4.4654e+00 - negative_correlation_loss: -4.4742e+00 - val_loss: -4.4107e+00 - val_negative_correlation_loss: -4.4193e+00 - lr: 0.0025 - 3s/epoch - 10ms/step\n",
      "Epoch 44/1000\n",
      "\n",
      "Epoch 44: ReduceLROnPlateau reducing learning rate to 0.0012499999720603228.\n",
      "270/270 - 3s - loss: -4.4655e+00 - negative_correlation_loss: -4.4742e+00 - val_loss: -4.4115e+00 - val_negative_correlation_loss: -4.4201e+00 - lr: 0.0025 - 3s/epoch - 10ms/step\n",
      "Epoch 45/1000\n",
      "270/270 - 3s - loss: -4.4680e+00 - negative_correlation_loss: -4.4764e+00 - val_loss: -4.4146e+00 - val_negative_correlation_loss: -4.4226e+00 - lr: 0.0012 - 3s/epoch - 10ms/step\n",
      "Epoch 46/1000\n",
      "270/270 - 3s - loss: -4.4684e+00 - negative_correlation_loss: -4.4765e+00 - val_loss: -4.4137e+00 - val_negative_correlation_loss: -4.4216e+00 - lr: 0.0012 - 3s/epoch - 10ms/step\n",
      "Epoch 47/1000\n",
      "270/270 - 3s - loss: -4.4686e+00 - negative_correlation_loss: -4.4765e+00 - val_loss: -4.4137e+00 - val_negative_correlation_loss: -4.4215e+00 - lr: 0.0012 - 3s/epoch - 10ms/step\n",
      "Epoch 48/1000\n",
      "270/270 - 3s - loss: -4.4686e+00 - negative_correlation_loss: -4.4765e+00 - val_loss: -4.4148e+00 - val_negative_correlation_loss: -4.4225e+00 - lr: 0.0012 - 3s/epoch - 10ms/step\n",
      "Epoch 49/1000\n",
      "270/270 - 3s - loss: -4.4688e+00 - negative_correlation_loss: -4.4766e+00 - val_loss: -4.4145e+00 - val_negative_correlation_loss: -4.4221e+00 - lr: 0.0012 - 3s/epoch - 10ms/step\n",
      "Epoch 50/1000\n",
      "270/270 - 3s - loss: -4.4688e+00 - negative_correlation_loss: -4.4765e+00 - val_loss: -4.4146e+00 - val_negative_correlation_loss: -4.4221e+00 - lr: 0.0012 - 3s/epoch - 10ms/step\n",
      "Epoch 51/1000\n",
      "270/270 - 3s - loss: -4.4690e+00 - negative_correlation_loss: -4.4766e+00 - val_loss: -4.4147e+00 - val_negative_correlation_loss: -4.4221e+00 - lr: 0.0012 - 3s/epoch - 10ms/step\n",
      "Epoch 52/1000\n",
      "\n",
      "Epoch 52: ReduceLROnPlateau reducing learning rate to 0.0006249999860301614.\n",
      "270/270 - 3s - loss: -4.4690e+00 - negative_correlation_loss: -4.4766e+00 - val_loss: -4.4149e+00 - val_negative_correlation_loss: -4.4223e+00 - lr: 0.0012 - 3s/epoch - 10ms/step\n",
      "Epoch 53/1000\n",
      "270/270 - 3s - loss: -4.4707e+00 - negative_correlation_loss: -4.4781e+00 - val_loss: -4.4159e+00 - val_negative_correlation_loss: -4.4231e+00 - lr: 6.2500e-04 - 3s/epoch - 10ms/step\n",
      "Epoch 54/1000\n",
      "270/270 - 3s - loss: -4.4709e+00 - negative_correlation_loss: -4.4783e+00 - val_loss: -4.4160e+00 - val_negative_correlation_loss: -4.4231e+00 - lr: 6.2500e-04 - 3s/epoch - 10ms/step\n",
      "Epoch 55/1000\n",
      "270/270 - 3s - loss: -4.4711e+00 - negative_correlation_loss: -4.4783e+00 - val_loss: -4.4154e+00 - val_negative_correlation_loss: -4.4224e+00 - lr: 6.2500e-04 - 3s/epoch - 10ms/step\n",
      "Epoch 56/1000\n",
      "270/270 - 3s - loss: -4.4711e+00 - negative_correlation_loss: -4.4783e+00 - val_loss: -4.4157e+00 - val_negative_correlation_loss: -4.4227e+00 - lr: 6.2500e-04 - 3s/epoch - 10ms/step\n",
      "Epoch 57/1000\n",
      "270/270 - 3s - loss: -4.4712e+00 - negative_correlation_loss: -4.4783e+00 - val_loss: -4.4166e+00 - val_negative_correlation_loss: -4.4235e+00 - lr: 6.2500e-04 - 3s/epoch - 10ms/step\n",
      "Epoch 58/1000\n",
      "270/270 - 3s - loss: -4.4713e+00 - negative_correlation_loss: -4.4783e+00 - val_loss: -4.4155e+00 - val_negative_correlation_loss: -4.4223e+00 - lr: 6.2500e-04 - 3s/epoch - 10ms/step\n",
      "Epoch 59/1000\n",
      "270/270 - 3s - loss: -4.4714e+00 - negative_correlation_loss: -4.4783e+00 - val_loss: -4.4166e+00 - val_negative_correlation_loss: -4.4233e+00 - lr: 6.2500e-04 - 3s/epoch - 10ms/step\n",
      "Epoch 60/1000\n",
      "270/270 - 3s - loss: -4.4715e+00 - negative_correlation_loss: -4.4784e+00 - val_loss: -4.4163e+00 - val_negative_correlation_loss: -4.4230e+00 - lr: 6.2500e-04 - 3s/epoch - 10ms/step\n",
      "Epoch 61/1000\n",
      "270/270 - 3s - loss: -4.4715e+00 - negative_correlation_loss: -4.4783e+00 - val_loss: -4.4167e+00 - val_negative_correlation_loss: -4.4234e+00 - lr: 6.2500e-04 - 3s/epoch - 10ms/step\n",
      "Epoch 62/1000\n",
      "270/270 - 3s - loss: -4.4716e+00 - negative_correlation_loss: -4.4784e+00 - val_loss: -4.4158e+00 - val_negative_correlation_loss: -4.4224e+00 - lr: 6.2500e-04 - 3s/epoch - 10ms/step\n",
      "Epoch 63/1000\n",
      "270/270 - 3s - loss: -4.4716e+00 - negative_correlation_loss: -4.4784e+00 - val_loss: -4.4151e+00 - val_negative_correlation_loss: -4.4216e+00 - lr: 6.2500e-04 - 3s/epoch - 10ms/step\n",
      "Epoch 64/1000\n",
      "270/270 - 3s - loss: -4.4717e+00 - negative_correlation_loss: -4.4784e+00 - val_loss: -4.4158e+00 - val_negative_correlation_loss: -4.4224e+00 - lr: 6.2500e-04 - 3s/epoch - 10ms/step\n",
      "Epoch 65/1000\n",
      "270/270 - 3s - loss: -4.4717e+00 - negative_correlation_loss: -4.4784e+00 - val_loss: -4.4169e+00 - val_negative_correlation_loss: -4.4234e+00 - lr: 6.2500e-04 - 3s/epoch - 10ms/step\n",
      "Epoch 66/1000\n",
      "270/270 - 3s - loss: -4.4717e+00 - negative_correlation_loss: -4.4784e+00 - val_loss: -4.4160e+00 - val_negative_correlation_loss: -4.4225e+00 - lr: 6.2500e-04 - 3s/epoch - 10ms/step\n",
      "Epoch 67/1000\n",
      "270/270 - 3s - loss: -4.4717e+00 - negative_correlation_loss: -4.4784e+00 - val_loss: -4.4167e+00 - val_negative_correlation_loss: -4.4232e+00 - lr: 6.2500e-04 - 3s/epoch - 10ms/step\n",
      "Epoch 68/1000\n",
      "270/270 - 3s - loss: -4.4718e+00 - negative_correlation_loss: -4.4784e+00 - val_loss: -4.4166e+00 - val_negative_correlation_loss: -4.4231e+00 - lr: 6.2500e-04 - 3s/epoch - 10ms/step\n",
      "Epoch 69/1000\n",
      "\n",
      "Epoch 69: ReduceLROnPlateau reducing learning rate to 0.0003124999930150807.\n",
      "270/270 - 3s - loss: -4.4719e+00 - negative_correlation_loss: -4.4785e+00 - val_loss: -4.4164e+00 - val_negative_correlation_loss: -4.4228e+00 - lr: 6.2500e-04 - 3s/epoch - 10ms/step\n",
      "Epoch 70/1000\n",
      "270/270 - 3s - loss: -4.4730e+00 - negative_correlation_loss: -4.4795e+00 - val_loss: -4.4178e+00 - val_negative_correlation_loss: -4.4242e+00 - lr: 3.1250e-04 - 3s/epoch - 10ms/step\n",
      "Epoch 71/1000\n",
      "270/270 - 3s - loss: -4.4731e+00 - negative_correlation_loss: -4.4796e+00 - val_loss: -4.4180e+00 - val_negative_correlation_loss: -4.4243e+00 - lr: 3.1250e-04 - 3s/epoch - 10ms/step\n",
      "Epoch 72/1000\n",
      "270/270 - 3s - loss: -4.4731e+00 - negative_correlation_loss: -4.4796e+00 - val_loss: -4.4179e+00 - val_negative_correlation_loss: -4.4241e+00 - lr: 3.1250e-04 - 3s/epoch - 10ms/step\n",
      "Epoch 73/1000\n",
      "270/270 - 3s - loss: -4.4732e+00 - negative_correlation_loss: -4.4796e+00 - val_loss: -4.4179e+00 - val_negative_correlation_loss: -4.4242e+00 - lr: 3.1250e-04 - 3s/epoch - 10ms/step\n",
      "Epoch 74/1000\n",
      "270/270 - 3s - loss: -4.4732e+00 - negative_correlation_loss: -4.4796e+00 - val_loss: -4.4178e+00 - val_negative_correlation_loss: -4.4240e+00 - lr: 3.1250e-04 - 3s/epoch - 10ms/step\n",
      "Epoch 75/1000\n",
      "\n",
      "Epoch 75: ReduceLROnPlateau reducing learning rate to 0.00015624999650754035.\n",
      "270/270 - 3s - loss: -4.4733e+00 - negative_correlation_loss: -4.4796e+00 - val_loss: -4.4178e+00 - val_negative_correlation_loss: -4.4239e+00 - lr: 3.1250e-04 - 3s/epoch - 10ms/step\n",
      "Epoch 76/1000\n",
      "270/270 - 3s - loss: -4.4740e+00 - negative_correlation_loss: -4.4802e+00 - val_loss: -4.4182e+00 - val_negative_correlation_loss: -4.4243e+00 - lr: 1.5625e-04 - 3s/epoch - 10ms/step\n",
      "Epoch 77/1000\n",
      "270/270 - 3s - loss: -4.4741e+00 - negative_correlation_loss: -4.4803e+00 - val_loss: -4.4181e+00 - val_negative_correlation_loss: -4.4242e+00 - lr: 1.5625e-04 - 3s/epoch - 10ms/step\n",
      "Epoch 78/1000\n",
      "270/270 - 3s - loss: -4.4741e+00 - negative_correlation_loss: -4.4803e+00 - val_loss: -4.4176e+00 - val_negative_correlation_loss: -4.4237e+00 - lr: 1.5625e-04 - 3s/epoch - 10ms/step\n",
      "Epoch 79/1000\n",
      "270/270 - 3s - loss: -4.4741e+00 - negative_correlation_loss: -4.4803e+00 - val_loss: -4.4182e+00 - val_negative_correlation_loss: -4.4242e+00 - lr: 1.5625e-04 - 3s/epoch - 10ms/step\n",
      "Epoch 80/1000\n",
      "\n",
      "Epoch 80: ReduceLROnPlateau reducing learning rate to 7.812499825377017e-05.\n",
      "270/270 - 3s - loss: -4.4742e+00 - negative_correlation_loss: -4.4803e+00 - val_loss: -4.4180e+00 - val_negative_correlation_loss: -4.4240e+00 - lr: 1.5625e-04 - 3s/epoch - 10ms/step\n",
      "Epoch 81/1000\n",
      "270/270 - 3s - loss: -4.4745e+00 - negative_correlation_loss: -4.4807e+00 - val_loss: -4.4186e+00 - val_negative_correlation_loss: -4.4245e+00 - lr: 7.8125e-05 - 3s/epoch - 10ms/step\n",
      "Epoch 82/1000\n",
      "270/270 - 3s - loss: -4.4746e+00 - negative_correlation_loss: -4.4807e+00 - val_loss: -4.4184e+00 - val_negative_correlation_loss: -4.4244e+00 - lr: 7.8125e-05 - 3s/epoch - 10ms/step\n",
      "Epoch 83/1000\n",
      "270/270 - 3s - loss: -4.4746e+00 - negative_correlation_loss: -4.4807e+00 - val_loss: -4.4186e+00 - val_negative_correlation_loss: -4.4246e+00 - lr: 7.8125e-05 - 3s/epoch - 10ms/step\n",
      "Epoch 84/1000\n",
      "270/270 - 3s - loss: -4.4746e+00 - negative_correlation_loss: -4.4807e+00 - val_loss: -4.4186e+00 - val_negative_correlation_loss: -4.4245e+00 - lr: 7.8125e-05 - 3s/epoch - 10ms/step\n",
      "Epoch 85/1000\n",
      "\n",
      "Epoch 85: ReduceLROnPlateau reducing learning rate to 3.9062499126885086e-05.\n",
      "270/270 - 3s - loss: -4.4747e+00 - negative_correlation_loss: -4.4807e+00 - val_loss: -4.4185e+00 - val_negative_correlation_loss: -4.4244e+00 - lr: 7.8125e-05 - 3s/epoch - 10ms/step\n",
      "Epoch 86/1000\n",
      "270/270 - 3s - loss: -4.4749e+00 - negative_correlation_loss: -4.4809e+00 - val_loss: -4.4189e+00 - val_negative_correlation_loss: -4.4248e+00 - lr: 3.9062e-05 - 3s/epoch - 10ms/step\n",
      "Epoch 87/1000\n",
      "270/270 - 3s - loss: -4.4749e+00 - negative_correlation_loss: -4.4809e+00 - val_loss: -4.4187e+00 - val_negative_correlation_loss: -4.4246e+00 - lr: 3.9062e-05 - 3s/epoch - 10ms/step\n",
      "Epoch 88/1000\n",
      "270/270 - 3s - loss: -4.4749e+00 - negative_correlation_loss: -4.4809e+00 - val_loss: -4.4186e+00 - val_negative_correlation_loss: -4.4245e+00 - lr: 3.9062e-05 - 3s/epoch - 10ms/step\n",
      "Epoch 89/1000\n",
      "270/270 - 3s - loss: -4.4749e+00 - negative_correlation_loss: -4.4809e+00 - val_loss: -4.4188e+00 - val_negative_correlation_loss: -4.4246e+00 - lr: 3.9062e-05 - 3s/epoch - 10ms/step\n",
      "Epoch 90/1000\n",
      "\n",
      "Epoch 90: ReduceLROnPlateau reducing learning rate to 1.9531249563442543e-05.\n",
      "270/270 - 3s - loss: -4.4749e+00 - negative_correlation_loss: -4.4810e+00 - val_loss: -4.4187e+00 - val_negative_correlation_loss: -4.4246e+00 - lr: 3.9062e-05 - 3s/epoch - 10ms/step\n",
      "Epoch 91/1000\n",
      "270/270 - 3s - loss: -4.4751e+00 - negative_correlation_loss: -4.4811e+00 - val_loss: -4.4187e+00 - val_negative_correlation_loss: -4.4246e+00 - lr: 1.9531e-05 - 3s/epoch - 10ms/step\n",
      "Epoch 92/1000\n",
      "270/270 - 3s - loss: -4.4751e+00 - negative_correlation_loss: -4.4811e+00 - val_loss: -4.4187e+00 - val_negative_correlation_loss: -4.4245e+00 - lr: 1.9531e-05 - 3s/epoch - 10ms/step\n",
      "Epoch 93/1000\n",
      "270/270 - 3s - loss: -4.4751e+00 - negative_correlation_loss: -4.4811e+00 - val_loss: -4.4188e+00 - val_negative_correlation_loss: -4.4246e+00 - lr: 1.9531e-05 - 3s/epoch - 10ms/step\n",
      "Epoch 94/1000\n",
      "\n",
      "Epoch 94: ReduceLROnPlateau reducing learning rate to 9.765624781721272e-06.\n",
      "270/270 - 3s - loss: -4.4751e+00 - negative_correlation_loss: -4.4811e+00 - val_loss: -4.4187e+00 - val_negative_correlation_loss: -4.4245e+00 - lr: 1.9531e-05 - 3s/epoch - 10ms/step\n",
      "Epoch 95/1000\n",
      "270/270 - 3s - loss: -4.4751e+00 - negative_correlation_loss: -4.4811e+00 - val_loss: -4.4188e+00 - val_negative_correlation_loss: -4.4246e+00 - lr: 9.7656e-06 - 3s/epoch - 10ms/step\n",
      "Epoch 96/1000\n",
      "270/270 - 3s - loss: -4.4751e+00 - negative_correlation_loss: -4.4811e+00 - val_loss: -4.4188e+00 - val_negative_correlation_loss: -4.4246e+00 - lr: 9.7656e-06 - 3s/epoch - 10ms/step\n",
      "Epoch 97/1000\n",
      "270/270 - 3s - loss: -4.4752e+00 - negative_correlation_loss: -4.4811e+00 - val_loss: -4.4188e+00 - val_negative_correlation_loss: -4.4246e+00 - lr: 9.7656e-06 - 3s/epoch - 10ms/step\n",
      "Epoch 98/1000\n",
      "\n",
      "Epoch 98: ReduceLROnPlateau reducing learning rate to 4.882812390860636e-06.\n",
      "270/270 - 3s - loss: -4.4752e+00 - negative_correlation_loss: -4.4811e+00 - val_loss: -4.4188e+00 - val_negative_correlation_loss: -4.4246e+00 - lr: 9.7656e-06 - 3s/epoch - 10ms/step\n",
      "1/1 [==============================] - 0s 165ms/step\n",
      "Fold 0:  97 epochs, corr =  0.93844\n",
      "3311/3311 [==============================] - 8s 2ms/step\n"
     ]
    },
    {
     "data": {
      "text/plain": [
       "0.6599860343421647"
      ]
     },
     "execution_count": 154,
     "metadata": {},
     "output_type": "execute_result"
    }
   ],
   "source": [
    "targets = scipy.sparse.load_npz(\"./sparse/train_multi_targets_values.sparse.npz\")\n",
    "targets = scprep.filter.remove_empty_genes(targets)\n",
    "# Normalize the targets row-wise: This doesn't change the correlations,\n",
    "# and negative_correlation_loss depends on it\n",
    "targets -= targets.mean(axis=1).reshape(-1, 1)\n",
    "targets /= targets.std(axis=1).reshape(-1, 1)\n",
    "\n",
    "pca_train = TruncatedSVD(n_components=512, random_state=1)\n",
    "pca_targets = pca_train.fit_transform(targets)\n",
    "\n",
    "model = fit(multi_X_train,pca_targets,meta)\n",
    "correlation_score(targets,pca_train.inverse_transform(model.predict(multi_X_train)))"
   ]
  },
  {
   "cell_type": "code",
   "execution_count": 160,
   "id": "f31d2ce1-9ceb-441d-8372-fe699ac3eb66",
   "metadata": {
    "execution": {
     "iopub.execute_input": "2022-10-14T19:26:44.304069Z",
     "iopub.status.busy": "2022-10-14T19:26:44.303678Z",
     "iopub.status.idle": "2022-10-14T19:26:44.333923Z",
     "shell.execute_reply": "2022-10-14T19:26:44.333090Z",
     "shell.execute_reply.started": "2022-10-14T19:26:44.304045Z"
    },
    "tags": []
   },
   "outputs": [],
   "source": [
    "abc = np.zeros(512)\n",
    "abc[0]=1\n",
    "first = pca_train.inverse_transform(abc.reshape(1, -1))"
   ]
  },
  {
   "cell_type": "code",
   "execution_count": 176,
   "id": "7f2c3d10-0c02-489d-90d5-405ff6bcaf5f",
   "metadata": {
    "execution": {
     "iopub.execute_input": "2022-10-14T19:30:58.182986Z",
     "iopub.status.busy": "2022-10-14T19:30:58.182601Z",
     "iopub.status.idle": "2022-10-14T19:30:58.187119Z",
     "shell.execute_reply": "2022-10-14T19:30:58.186599Z",
     "shell.execute_reply.started": "2022-10-14T19:30:58.182963Z"
    },
    "tags": []
   },
   "outputs": [
    {
     "data": {
      "text/plain": [
       "22858"
      ]
     },
     "execution_count": 176,
     "metadata": {},
     "output_type": "execute_result"
    }
   ],
   "source": [
    "len(first[0])"
   ]
  },
  {
   "cell_type": "code",
   "execution_count": 180,
   "id": "f2715e11-90f9-4207-a21f-3b3f830896e9",
   "metadata": {
    "execution": {
     "iopub.execute_input": "2022-10-14T19:31:26.318997Z",
     "iopub.status.busy": "2022-10-14T19:31:26.318609Z",
     "iopub.status.idle": "2022-10-14T19:31:26.325068Z",
     "shell.execute_reply": "2022-10-14T19:31:26.324418Z",
     "shell.execute_reply.started": "2022-10-14T19:31:26.318974Z"
    },
    "tags": []
   },
   "outputs": [
    {
     "data": {
      "text/plain": [
       "array([0.04911358, 0.04724192, 0.04637691, ..., 0.01052904, 0.01052624,\n",
       "       0.01051622])"
      ]
     },
     "execution_count": 180,
     "metadata": {},
     "output_type": "execute_result"
    }
   ],
   "source": [
    "np.sort(first[0])[::-1][0:2000]"
   ]
  },
  {
   "cell_type": "code",
   "execution_count": 215,
   "id": "5cc8a7f7-f269-40c7-b96b-bd3dfd9f6403",
   "metadata": {
    "execution": {
     "iopub.execute_input": "2022-10-14T19:41:46.808691Z",
     "iopub.status.busy": "2022-10-14T19:41:46.808285Z",
     "iopub.status.idle": "2022-10-14T19:41:58.720188Z",
     "shell.execute_reply": "2022-10-14T19:41:58.719340Z",
     "shell.execute_reply.started": "2022-10-14T19:41:46.808651Z"
    },
    "tags": []
   },
   "outputs": [
    {
     "name": "stdout",
     "output_type": "stream",
     "text": [
      "3311/3311 [==============================] - 8s 2ms/step\n"
     ]
    },
    {
     "ename": "ValueError",
     "evalue": "all the input array dimensions for the concatenation axis must match exactly, but along dimension 1, the array at index 0 has size 1 and the array at index 1 has size 105942",
     "output_type": "error",
     "traceback": [
      "\u001b[0;31m---------------------------------------------------------------------------\u001b[0m",
      "\u001b[0;31mValueError\u001b[0m                                Traceback (most recent call last)",
      "Input \u001b[0;32mIn [215]\u001b[0m, in \u001b[0;36m<cell line: 1>\u001b[0;34m()\u001b[0m\n\u001b[0;32m----> 1\u001b[0m \u001b[43mcorrelation_score_cols\u001b[49m\u001b[43m(\u001b[49m\u001b[43mtargets\u001b[49m\u001b[43m,\u001b[49m\u001b[43mpca_train\u001b[49m\u001b[38;5;241;43m.\u001b[39;49m\u001b[43minverse_transform\u001b[49m\u001b[43m(\u001b[49m\u001b[43mmodel\u001b[49m\u001b[38;5;241;43m.\u001b[39;49m\u001b[43mpredict\u001b[49m\u001b[43m(\u001b[49m\u001b[43mmulti_X_train\u001b[49m\u001b[43m)\u001b[49m\u001b[43m)\u001b[49m\u001b[43m)\u001b[49m\n",
      "Input \u001b[0;32mIn [212]\u001b[0m, in \u001b[0;36mcorrelation_score_cols\u001b[0;34m(y_true, y_pred)\u001b[0m\n\u001b[1;32m     66\u001b[0m corrsum \u001b[38;5;241m=\u001b[39m \u001b[38;5;241m0\u001b[39m\n\u001b[1;32m     67\u001b[0m \u001b[38;5;28;01mfor\u001b[39;00m i \u001b[38;5;129;01min\u001b[39;00m \u001b[38;5;28mrange\u001b[39m(y_true\u001b[38;5;241m.\u001b[39mshape[\u001b[38;5;241m1\u001b[39m]):\n\u001b[0;32m---> 68\u001b[0m     \u001b[38;5;28mprint\u001b[39m(\u001b[43mnp\u001b[49m\u001b[38;5;241;43m.\u001b[39;49m\u001b[43mcorrcoef\u001b[49m\u001b[43m(\u001b[49m\u001b[43my_true\u001b[49m\u001b[43m[\u001b[49m\u001b[43m:\u001b[49m\u001b[43m,\u001b[49m\u001b[43mi\u001b[49m\u001b[43m]\u001b[49m\u001b[43m,\u001b[49m\u001b[43m \u001b[49m\u001b[43my_pred\u001b[49m\u001b[43m[\u001b[49m\u001b[43m:\u001b[49m\u001b[43m,\u001b[49m\u001b[43mi\u001b[49m\u001b[43m]\u001b[49m\u001b[43m)\u001b[49m[\u001b[38;5;241m1\u001b[39m, \u001b[38;5;241m0\u001b[39m])\n\u001b[1;32m     69\u001b[0m     corrsum \u001b[38;5;241m+\u001b[39m\u001b[38;5;241m=\u001b[39m np\u001b[38;5;241m.\u001b[39mcorrcoef(y_true[:,i], y_pred[:,i])[\u001b[38;5;241m1\u001b[39m, \u001b[38;5;241m0\u001b[39m]\n\u001b[1;32m     70\u001b[0m \u001b[38;5;28;01mreturn\u001b[39;00m corrsum \u001b[38;5;241m/\u001b[39m y_true\u001b[38;5;241m.\u001b[39mshape[\u001b[38;5;241m1\u001b[39m]\n",
      "File \u001b[0;32m<__array_function__ internals>:5\u001b[0m, in \u001b[0;36mcorrcoef\u001b[0;34m(*args, **kwargs)\u001b[0m\n",
      "File \u001b[0;32m/srv/conda/envs/saturn/lib/python3.9/site-packages/numpy/lib/function_base.py:2683\u001b[0m, in \u001b[0;36mcorrcoef\u001b[0;34m(x, y, rowvar, bias, ddof, dtype)\u001b[0m\n\u001b[1;32m   2679\u001b[0m \u001b[38;5;28;01mif\u001b[39;00m bias \u001b[38;5;129;01mis\u001b[39;00m \u001b[38;5;129;01mnot\u001b[39;00m np\u001b[38;5;241m.\u001b[39m_NoValue \u001b[38;5;129;01mor\u001b[39;00m ddof \u001b[38;5;129;01mis\u001b[39;00m \u001b[38;5;129;01mnot\u001b[39;00m np\u001b[38;5;241m.\u001b[39m_NoValue:\n\u001b[1;32m   2680\u001b[0m     \u001b[38;5;66;03m# 2015-03-15, 1.10\u001b[39;00m\n\u001b[1;32m   2681\u001b[0m     warnings\u001b[38;5;241m.\u001b[39mwarn(\u001b[38;5;124m'\u001b[39m\u001b[38;5;124mbias and ddof have no effect and are deprecated\u001b[39m\u001b[38;5;124m'\u001b[39m,\n\u001b[1;32m   2682\u001b[0m                   \u001b[38;5;167;01mDeprecationWarning\u001b[39;00m, stacklevel\u001b[38;5;241m=\u001b[39m\u001b[38;5;241m3\u001b[39m)\n\u001b[0;32m-> 2683\u001b[0m c \u001b[38;5;241m=\u001b[39m \u001b[43mcov\u001b[49m\u001b[43m(\u001b[49m\u001b[43mx\u001b[49m\u001b[43m,\u001b[49m\u001b[43m \u001b[49m\u001b[43my\u001b[49m\u001b[43m,\u001b[49m\u001b[43m \u001b[49m\u001b[43mrowvar\u001b[49m\u001b[43m,\u001b[49m\u001b[43m \u001b[49m\u001b[43mdtype\u001b[49m\u001b[38;5;241;43m=\u001b[39;49m\u001b[43mdtype\u001b[49m\u001b[43m)\u001b[49m\n\u001b[1;32m   2684\u001b[0m \u001b[38;5;28;01mtry\u001b[39;00m:\n\u001b[1;32m   2685\u001b[0m     d \u001b[38;5;241m=\u001b[39m diag(c)\n",
      "File \u001b[0;32m<__array_function__ internals>:5\u001b[0m, in \u001b[0;36mcov\u001b[0;34m(*args, **kwargs)\u001b[0m\n",
      "File \u001b[0;32m/srv/conda/envs/saturn/lib/python3.9/site-packages/numpy/lib/function_base.py:2477\u001b[0m, in \u001b[0;36mcov\u001b[0;34m(m, y, rowvar, bias, ddof, fweights, aweights, dtype)\u001b[0m\n\u001b[1;32m   2475\u001b[0m     \u001b[38;5;28;01mif\u001b[39;00m \u001b[38;5;129;01mnot\u001b[39;00m rowvar \u001b[38;5;129;01mand\u001b[39;00m y\u001b[38;5;241m.\u001b[39mshape[\u001b[38;5;241m0\u001b[39m] \u001b[38;5;241m!=\u001b[39m \u001b[38;5;241m1\u001b[39m:\n\u001b[1;32m   2476\u001b[0m         y \u001b[38;5;241m=\u001b[39m y\u001b[38;5;241m.\u001b[39mT\n\u001b[0;32m-> 2477\u001b[0m     X \u001b[38;5;241m=\u001b[39m \u001b[43mnp\u001b[49m\u001b[38;5;241;43m.\u001b[39;49m\u001b[43mconcatenate\u001b[49m\u001b[43m(\u001b[49m\u001b[43m(\u001b[49m\u001b[43mX\u001b[49m\u001b[43m,\u001b[49m\u001b[43m \u001b[49m\u001b[43my\u001b[49m\u001b[43m)\u001b[49m\u001b[43m,\u001b[49m\u001b[43m \u001b[49m\u001b[43maxis\u001b[49m\u001b[38;5;241;43m=\u001b[39;49m\u001b[38;5;241;43m0\u001b[39;49m\u001b[43m)\u001b[49m\n\u001b[1;32m   2479\u001b[0m \u001b[38;5;28;01mif\u001b[39;00m ddof \u001b[38;5;129;01mis\u001b[39;00m \u001b[38;5;28;01mNone\u001b[39;00m:\n\u001b[1;32m   2480\u001b[0m     \u001b[38;5;28;01mif\u001b[39;00m bias \u001b[38;5;241m==\u001b[39m \u001b[38;5;241m0\u001b[39m:\n",
      "File \u001b[0;32m<__array_function__ internals>:5\u001b[0m, in \u001b[0;36mconcatenate\u001b[0;34m(*args, **kwargs)\u001b[0m\n",
      "\u001b[0;31mValueError\u001b[0m: all the input array dimensions for the concatenation axis must match exactly, but along dimension 1, the array at index 0 has size 1 and the array at index 1 has size 105942"
     ]
    }
   ],
   "source": [
    "correlation_score_cols(targets,pca_train.inverse_transform(model.predict(multi_X_train)))"
   ]
  },
  {
   "cell_type": "code",
   "execution_count": 196,
   "id": "d3a31c81-5195-493a-9c59-97a29aee87de",
   "metadata": {
    "execution": {
     "iopub.execute_input": "2022-10-14T19:38:38.190488Z",
     "iopub.status.busy": "2022-10-14T19:38:38.190025Z",
     "iopub.status.idle": "2022-10-14T19:38:38.196359Z",
     "shell.execute_reply": "2022-10-14T19:38:38.195827Z",
     "shell.execute_reply.started": "2022-10-14T19:38:38.190460Z"
    },
    "tags": []
   },
   "outputs": [
    {
     "name": "stderr",
     "output_type": "stream",
     "text": [
      "/srv/conda/envs/saturn/lib/python3.9/site-packages/numpy/lib/function_base.py:2683: RuntimeWarning: Degrees of freedom <= 0 for slice\n",
      "  c = cov(x, y, rowvar, dtype=dtype)\n",
      "/srv/conda/envs/saturn/lib/python3.9/site-packages/numpy/lib/function_base.py:2542: RuntimeWarning: divide by zero encountered in true_divide\n",
      "  c *= np.true_divide(1, fact)\n",
      "/srv/conda/envs/saturn/lib/python3.9/site-packages/numpy/lib/function_base.py:2542: RuntimeWarning: invalid value encountered in multiply\n",
      "  c *= np.true_divide(1, fact)\n"
     ]
    },
    {
     "data": {
      "text/plain": [
       "nan"
      ]
     },
     "execution_count": 196,
     "metadata": {},
     "output_type": "execute_result"
    }
   ],
   "source": [
    "correlation_score_cols(np.array([[2,6]]),np.array([[-2,1]]))"
   ]
  },
  {
   "cell_type": "code",
   "execution_count": 214,
   "id": "4ee09a54-a814-498f-8d07-ad31ee29bf12",
   "metadata": {
    "execution": {
     "iopub.execute_input": "2022-10-14T19:41:31.222071Z",
     "iopub.status.busy": "2022-10-14T19:41:31.221663Z",
     "iopub.status.idle": "2022-10-14T19:41:31.228806Z",
     "shell.execute_reply": "2022-10-14T19:41:31.228186Z",
     "shell.execute_reply.started": "2022-10-14T19:41:31.222046Z"
    },
    "tags": []
   },
   "outputs": [
    {
     "name": "stdout",
     "output_type": "stream",
     "text": [
      "0.9999999999999999\n",
      "-1.0\n"
     ]
    },
    {
     "data": {
      "text/plain": [
       "-5.551115123125783e-17"
      ]
     },
     "execution_count": 214,
     "metadata": {},
     "output_type": "execute_result"
    }
   ],
   "source": [
    "correlation_score_cols(np.array([[2,3],[6,5]]),np.array([[-6,5],[2,2]]))"
   ]
  },
  {
   "cell_type": "code",
   "execution_count": 218,
   "id": "313f22e4-f61c-46dd-abeb-3988676e95e9",
   "metadata": {
    "execution": {
     "iopub.execute_input": "2022-10-14T19:43:46.842943Z",
     "iopub.status.busy": "2022-10-14T19:43:46.842569Z",
     "iopub.status.idle": "2022-10-14T19:43:46.850531Z",
     "shell.execute_reply": "2022-10-14T19:43:46.849932Z",
     "shell.execute_reply.started": "2022-10-14T19:43:46.842920Z"
    },
    "tags": []
   },
   "outputs": [
    {
     "name": "stdout",
     "output_type": "stream",
     "text": [
      "-0.04452893479881931\n",
      "0.047176655826038694\n",
      "-0.10181792269436003\n",
      "0.09367030721384695\n",
      "-0.07599827463948759\n",
      "-0.134907914005699\n",
      "0.02202780035087165\n",
      "0.029332824264740986\n",
      "-0.11453669682015295\n",
      "0.10328343503465327\n"
     ]
    },
    {
     "data": {
      "text/plain": [
       "-0.017629872026836736"
      ]
     },
     "execution_count": 218,
     "metadata": {},
     "output_type": "execute_result"
    }
   ],
   "source": [
    "correlation_score_cols(np.random.rand(100,10),np.random.rand(100,10))"
   ]
  },
  {
   "cell_type": "code",
   "execution_count": 219,
   "id": "082a55f1-6e97-437e-8dce-f5b70091c860",
   "metadata": {
    "execution": {
     "iopub.execute_input": "2022-10-14T19:43:53.846329Z",
     "iopub.status.busy": "2022-10-14T19:43:53.845938Z",
     "iopub.status.idle": "2022-10-14T19:43:53.859180Z",
     "shell.execute_reply": "2022-10-14T19:43:53.858659Z",
     "shell.execute_reply.started": "2022-10-14T19:43:53.846305Z"
    },
    "tags": []
   },
   "outputs": [
    {
     "data": {
      "text/plain": [
       "-0.02008743285505159"
      ]
     },
     "execution_count": 219,
     "metadata": {},
     "output_type": "execute_result"
    }
   ],
   "source": [
    "correlation_score(np.random.rand(100,10),np.random.rand(100,10))"
   ]
  },
  {
   "cell_type": "code",
   "execution_count": 220,
   "id": "ca4d9e9b-0183-4ad6-9e0f-ffe2b139485e",
   "metadata": {
    "execution": {
     "iopub.execute_input": "2022-10-14T19:44:10.060460Z",
     "iopub.status.busy": "2022-10-14T19:44:10.060066Z",
     "iopub.status.idle": "2022-10-14T19:44:26.951273Z",
     "shell.execute_reply": "2022-10-14T19:44:26.950526Z",
     "shell.execute_reply.started": "2022-10-14T19:44:10.060437Z"
    }
   },
   "outputs": [
    {
     "name": "stdout",
     "output_type": "stream",
     "text": [
      "3311/3311 [==============================] - 7s 2ms/step\n"
     ]
    }
   ],
   "source": [
    "abc = pca_train.inverse_transform(model.predict(multi_X_train))"
   ]
  },
  {
   "cell_type": "code",
   "execution_count": 3,
   "id": "7d209579-76db-4419-a849-51377de09481",
   "metadata": {
    "execution": {
     "iopub.execute_input": "2022-10-14T19:45:33.290984Z",
     "iopub.status.busy": "2022-10-14T19:45:33.290586Z",
     "iopub.status.idle": "2022-10-14T19:45:33.810520Z",
     "shell.execute_reply": "2022-10-14T19:45:33.809762Z",
     "shell.execute_reply.started": "2022-10-14T19:45:33.290955Z"
    },
    "tags": []
   },
   "outputs": [
    {
     "ename": "NameError",
     "evalue": "name 'targets' is not defined",
     "output_type": "error",
     "traceback": [
      "\u001b[0;31m---------------------------------------------------------------------------\u001b[0m",
      "\u001b[0;31mNameError\u001b[0m                                 Traceback (most recent call last)",
      "Input \u001b[0;32mIn [3]\u001b[0m, in \u001b[0;36m<cell line: 1>\u001b[0;34m()\u001b[0m\n\u001b[0;32m----> 1\u001b[0m correlation_score_cols(\u001b[43mtargets\u001b[49m,targets)\n",
      "\u001b[0;31mNameError\u001b[0m: name 'targets' is not defined"
     ]
    }
   ],
   "source": [
    "correlation_score_cols(targets,targets)"
   ]
  },
  {
   "cell_type": "code",
   "execution_count": 4,
   "id": "2888f517-fc68-4224-afbe-cb80059b194e",
   "metadata": {
    "execution": {
     "iopub.execute_input": "2022-10-14T19:45:57.446984Z",
     "iopub.status.busy": "2022-10-14T19:45:57.446575Z",
     "iopub.status.idle": "2022-10-14T19:46:14.771811Z",
     "shell.execute_reply": "2022-10-14T19:46:14.770961Z",
     "shell.execute_reply.started": "2022-10-14T19:45:57.446959Z"
    }
   },
   "outputs": [
    {
     "ename": "AttributeError",
     "evalue": "'float' object has no attribute 'shape'",
     "output_type": "error",
     "traceback": [
      "\u001b[0;31m---------------------------------------------------------------------------\u001b[0m",
      "\u001b[0;31mAttributeError\u001b[0m                            Traceback (most recent call last)",
      "Input \u001b[0;32mIn [4]\u001b[0m, in \u001b[0;36m<cell line: 3>\u001b[0;34m()\u001b[0m\n\u001b[1;32m      1\u001b[0m targets \u001b[38;5;241m=\u001b[39m scipy\u001b[38;5;241m.\u001b[39msparse\u001b[38;5;241m.\u001b[39mload_npz(\u001b[38;5;124m\"\u001b[39m\u001b[38;5;124m./sparse/train_multi_targets_values.sparse.npz\u001b[39m\u001b[38;5;124m\"\u001b[39m)\n\u001b[1;32m      2\u001b[0m targets \u001b[38;5;241m=\u001b[39m scprep\u001b[38;5;241m.\u001b[39mfilter\u001b[38;5;241m.\u001b[39mremove_empty_genes(targets)\n\u001b[0;32m----> 3\u001b[0m \u001b[43mcorrelation_score_cols\u001b[49m\u001b[43m(\u001b[49m\u001b[43mtargets\u001b[49m\u001b[43m,\u001b[49m\u001b[43mtargets\u001b[49m\u001b[43m)\u001b[49m\n",
      "Input \u001b[0;32mIn [2]\u001b[0m, in \u001b[0;36mcorrelation_score_cols\u001b[0;34m(y_true, y_pred)\u001b[0m\n\u001b[1;32m     66\u001b[0m corrsum \u001b[38;5;241m=\u001b[39m \u001b[38;5;241m0\u001b[39m\n\u001b[1;32m     67\u001b[0m \u001b[38;5;28;01mfor\u001b[39;00m i \u001b[38;5;129;01min\u001b[39;00m \u001b[38;5;28mrange\u001b[39m(y_true\u001b[38;5;241m.\u001b[39mshape[\u001b[38;5;241m1\u001b[39m]):\n\u001b[0;32m---> 68\u001b[0m     corrsum \u001b[38;5;241m+\u001b[39m\u001b[38;5;241m=\u001b[39m \u001b[43mnp\u001b[49m\u001b[38;5;241;43m.\u001b[39;49m\u001b[43mcorrcoef\u001b[49m\u001b[43m(\u001b[49m\u001b[43my_true\u001b[49m\u001b[43m[\u001b[49m\u001b[43m:\u001b[49m\u001b[43m,\u001b[49m\u001b[43mi\u001b[49m\u001b[43m]\u001b[49m\u001b[43m,\u001b[49m\u001b[43m \u001b[49m\u001b[43my_pred\u001b[49m\u001b[43m[\u001b[49m\u001b[43m:\u001b[49m\u001b[43m,\u001b[49m\u001b[43mi\u001b[49m\u001b[43m]\u001b[49m\u001b[43m)\u001b[49m[\u001b[38;5;241m1\u001b[39m, \u001b[38;5;241m0\u001b[39m]\n\u001b[1;32m     69\u001b[0m \u001b[38;5;28;01mreturn\u001b[39;00m corrsum \u001b[38;5;241m/\u001b[39m y_true\u001b[38;5;241m.\u001b[39mshape[\u001b[38;5;241m1\u001b[39m]\n",
      "File \u001b[0;32m<__array_function__ internals>:5\u001b[0m, in \u001b[0;36mcorrcoef\u001b[0;34m(*args, **kwargs)\u001b[0m\n",
      "File \u001b[0;32m/srv/conda/envs/saturn/lib/python3.9/site-packages/numpy/lib/function_base.py:2683\u001b[0m, in \u001b[0;36mcorrcoef\u001b[0;34m(x, y, rowvar, bias, ddof, dtype)\u001b[0m\n\u001b[1;32m   2679\u001b[0m \u001b[38;5;28;01mif\u001b[39;00m bias \u001b[38;5;129;01mis\u001b[39;00m \u001b[38;5;129;01mnot\u001b[39;00m np\u001b[38;5;241m.\u001b[39m_NoValue \u001b[38;5;129;01mor\u001b[39;00m ddof \u001b[38;5;129;01mis\u001b[39;00m \u001b[38;5;129;01mnot\u001b[39;00m np\u001b[38;5;241m.\u001b[39m_NoValue:\n\u001b[1;32m   2680\u001b[0m     \u001b[38;5;66;03m# 2015-03-15, 1.10\u001b[39;00m\n\u001b[1;32m   2681\u001b[0m     warnings\u001b[38;5;241m.\u001b[39mwarn(\u001b[38;5;124m'\u001b[39m\u001b[38;5;124mbias and ddof have no effect and are deprecated\u001b[39m\u001b[38;5;124m'\u001b[39m,\n\u001b[1;32m   2682\u001b[0m                   \u001b[38;5;167;01mDeprecationWarning\u001b[39;00m, stacklevel\u001b[38;5;241m=\u001b[39m\u001b[38;5;241m3\u001b[39m)\n\u001b[0;32m-> 2683\u001b[0m c \u001b[38;5;241m=\u001b[39m \u001b[43mcov\u001b[49m\u001b[43m(\u001b[49m\u001b[43mx\u001b[49m\u001b[43m,\u001b[49m\u001b[43m \u001b[49m\u001b[43my\u001b[49m\u001b[43m,\u001b[49m\u001b[43m \u001b[49m\u001b[43mrowvar\u001b[49m\u001b[43m,\u001b[49m\u001b[43m \u001b[49m\u001b[43mdtype\u001b[49m\u001b[38;5;241;43m=\u001b[39;49m\u001b[43mdtype\u001b[49m\u001b[43m)\u001b[49m\n\u001b[1;32m   2684\u001b[0m \u001b[38;5;28;01mtry\u001b[39;00m:\n\u001b[1;32m   2685\u001b[0m     d \u001b[38;5;241m=\u001b[39m diag(c)\n",
      "File \u001b[0;32m<__array_function__ internals>:5\u001b[0m, in \u001b[0;36mcov\u001b[0;34m(*args, **kwargs)\u001b[0m\n",
      "File \u001b[0;32m/srv/conda/envs/saturn/lib/python3.9/site-packages/numpy/lib/function_base.py:2518\u001b[0m, in \u001b[0;36mcov\u001b[0;34m(m, y, rowvar, bias, ddof, fweights, aweights, dtype)\u001b[0m\n\u001b[1;32m   2515\u001b[0m     \u001b[38;5;28;01melse\u001b[39;00m:\n\u001b[1;32m   2516\u001b[0m         w \u001b[38;5;241m*\u001b[39m\u001b[38;5;241m=\u001b[39m aweights\n\u001b[0;32m-> 2518\u001b[0m avg, w_sum \u001b[38;5;241m=\u001b[39m \u001b[43maverage\u001b[49m\u001b[43m(\u001b[49m\u001b[43mX\u001b[49m\u001b[43m,\u001b[49m\u001b[43m \u001b[49m\u001b[43maxis\u001b[49m\u001b[38;5;241;43m=\u001b[39;49m\u001b[38;5;241;43m1\u001b[39;49m\u001b[43m,\u001b[49m\u001b[43m \u001b[49m\u001b[43mweights\u001b[49m\u001b[38;5;241;43m=\u001b[39;49m\u001b[43mw\u001b[49m\u001b[43m,\u001b[49m\u001b[43m \u001b[49m\u001b[43mreturned\u001b[49m\u001b[38;5;241;43m=\u001b[39;49m\u001b[38;5;28;43;01mTrue\u001b[39;49;00m\u001b[43m)\u001b[49m\n\u001b[1;32m   2519\u001b[0m w_sum \u001b[38;5;241m=\u001b[39m w_sum[\u001b[38;5;241m0\u001b[39m]\n\u001b[1;32m   2521\u001b[0m \u001b[38;5;66;03m# Determine the normalization\u001b[39;00m\n",
      "File \u001b[0;32m<__array_function__ internals>:5\u001b[0m, in \u001b[0;36maverage\u001b[0;34m(*args, **kwargs)\u001b[0m\n",
      "File \u001b[0;32m/srv/conda/envs/saturn/lib/python3.9/site-packages/numpy/lib/function_base.py:415\u001b[0m, in \u001b[0;36maverage\u001b[0;34m(a, axis, weights, returned)\u001b[0m\n\u001b[1;32m    412\u001b[0m     avg \u001b[38;5;241m=\u001b[39m np\u001b[38;5;241m.\u001b[39mmultiply(a, wgt, dtype\u001b[38;5;241m=\u001b[39mresult_dtype)\u001b[38;5;241m.\u001b[39msum(axis)\u001b[38;5;241m/\u001b[39mscl\n\u001b[1;32m    414\u001b[0m \u001b[38;5;28;01mif\u001b[39;00m returned:\n\u001b[0;32m--> 415\u001b[0m     \u001b[38;5;28;01mif\u001b[39;00m \u001b[43mscl\u001b[49m\u001b[38;5;241;43m.\u001b[39;49m\u001b[43mshape\u001b[49m \u001b[38;5;241m!=\u001b[39m avg\u001b[38;5;241m.\u001b[39mshape:\n\u001b[1;32m    416\u001b[0m         scl \u001b[38;5;241m=\u001b[39m np\u001b[38;5;241m.\u001b[39mbroadcast_to(scl, avg\u001b[38;5;241m.\u001b[39mshape)\u001b[38;5;241m.\u001b[39mcopy()\n\u001b[1;32m    417\u001b[0m     \u001b[38;5;28;01mreturn\u001b[39;00m avg, scl\n",
      "\u001b[0;31mAttributeError\u001b[0m: 'float' object has no attribute 'shape'"
     ]
    }
   ],
   "source": [
    "targets = scipy.sparse.load_npz(\"./sparse/train_multi_targets_values.sparse.npz\")\n",
    "targets = scprep.filter.remove_empty_genes(targets)\n"
   ]
  },
  {
   "cell_type": "code",
   "execution_count": 12,
   "id": "efe408e5-c795-42ca-b7c2-c848149a221a",
   "metadata": {
    "execution": {
     "iopub.execute_input": "2022-10-14T19:50:47.562511Z",
     "iopub.status.busy": "2022-10-14T19:50:47.562107Z",
     "iopub.status.idle": "2022-10-14T19:50:55.893464Z",
     "shell.execute_reply": "2022-10-14T19:50:55.892829Z",
     "shell.execute_reply.started": "2022-10-14T19:50:47.562485Z"
    }
   },
   "outputs": [],
   "source": [
    "abc = targets.toarray()"
   ]
  },
  {
   "cell_type": "code",
   "execution_count": 11,
   "id": "a2b8c34c-2430-4691-87b8-ac8788dfc2f5",
   "metadata": {
    "execution": {
     "iopub.execute_input": "2022-10-14T19:50:19.213355Z",
     "iopub.status.busy": "2022-10-14T19:50:19.212957Z",
     "iopub.status.idle": "2022-10-14T19:50:19.639893Z",
     "shell.execute_reply": "2022-10-14T19:50:19.639333Z",
     "shell.execute_reply.started": "2022-10-14T19:50:19.213330Z"
    },
    "tags": []
   },
   "outputs": [
    {
     "data": {
      "text/plain": [
       "()"
      ]
     },
     "execution_count": 11,
     "metadata": {},
     "output_type": "execute_result"
    }
   ],
   "source": [
    "np.array(targets[:,0]).shape"
   ]
  },
  {
   "cell_type": "code",
   "execution_count": 20,
   "id": "c185c262-9678-43a2-8f4b-efdcf04944e4",
   "metadata": {
    "execution": {
     "iopub.execute_input": "2022-10-14T19:56:11.879195Z",
     "iopub.status.busy": "2022-10-14T19:56:11.878804Z",
     "iopub.status.idle": "2022-10-14T19:56:12.292143Z",
     "shell.execute_reply": "2022-10-14T19:56:12.291504Z",
     "shell.execute_reply.started": "2022-10-14T19:56:11.879171Z"
    }
   },
   "outputs": [
    {
     "name": "stdout",
     "output_type": "stream",
     "text": [
      "/home/jovyan/kaggle/working\n"
     ]
    }
   ],
   "source": [
    "%cd ..\n",
    "cite_targets = scipy.sparse.load_npz(\"./sparse/train_cite_targets_values.sparse.npz\")\n",
    "cite_targets = scprep.filter.remove_empty_genes(cite_targets)"
   ]
  },
  {
   "cell_type": "code",
   "execution_count": 21,
   "id": "1c11358a-2881-4552-a53c-44cd42976c94",
   "metadata": {
    "execution": {
     "iopub.execute_input": "2022-10-14T19:56:17.633060Z",
     "iopub.status.busy": "2022-10-14T19:56:17.632679Z",
     "iopub.status.idle": "2022-10-14T19:56:17.730535Z",
     "shell.execute_reply": "2022-10-14T19:56:17.729893Z",
     "shell.execute_reply.started": "2022-10-14T19:56:17.633036Z"
    },
    "tags": []
   },
   "outputs": [],
   "source": [
    "cite_targets -= cite_targets.mean(axis=1).reshape(-1, 1)\n",
    "cite_targets /= cite_targets.std(axis=1).reshape(-1, 1)"
   ]
  },
  {
   "cell_type": "code",
   "execution_count": 17,
   "id": "606db6aa-5862-42f4-90f5-bf6ef9c0e873",
   "metadata": {
    "execution": {
     "iopub.execute_input": "2022-10-14T19:54:16.497998Z",
     "iopub.status.busy": "2022-10-14T19:54:16.497613Z",
     "iopub.status.idle": "2022-10-14T19:54:17.495461Z",
     "shell.execute_reply": "2022-10-14T19:54:17.494657Z",
     "shell.execute_reply.started": "2022-10-14T19:54:16.497974Z"
    },
    "tags": []
   },
   "outputs": [
    {
     "name": "stdout",
     "output_type": "stream",
     "text": [
      "/home/jovyan/kaggle/working/pca64\n",
      "X_test_64.csv  X_train_64.csv\n"
     ]
    }
   ],
   "source": [
    "%cd pca64\n",
    "%ls"
   ]
  },
  {
   "cell_type": "code",
   "execution_count": 271,
   "id": "9e26e017-b411-46f7-bf02-35dab4fca40a",
   "metadata": {
    "execution": {
     "iopub.execute_input": "2022-10-14T23:34:24.073506Z",
     "iopub.status.busy": "2022-10-14T23:34:24.073103Z",
     "iopub.status.idle": "2022-10-14T23:34:43.999847Z",
     "shell.execute_reply": "2022-10-14T23:34:43.999177Z",
     "shell.execute_reply.started": "2022-10-14T23:34:24.073477Z"
    },
    "tags": []
   },
   "outputs": [],
   "source": [
    "X_train_64 = np.genfromtxt(\"./pca64/X_train_64.csv\", delimiter=',')"
   ]
  },
  {
   "cell_type": "code",
   "execution_count": 18,
   "id": "719432f0-5a6c-4ce2-964c-96f36c0da6af",
   "metadata": {
    "execution": {
     "iopub.execute_input": "2022-10-14T19:54:48.669686Z",
     "iopub.status.busy": "2022-10-14T19:54:48.669271Z",
     "iopub.status.idle": "2022-10-14T19:55:10.144352Z",
     "shell.execute_reply": "2022-10-14T19:55:10.143703Z",
     "shell.execute_reply.started": "2022-10-14T19:54:48.669654Z"
    }
   },
   "outputs": [],
   "source": [
    "X_train_64 = np.genfromtxt(\"X_train_64.csv\", delimiter=',')"
   ]
  },
  {
   "cell_type": "code",
   "execution_count": 23,
   "id": "8b86912f-fd9d-4243-9843-f6b12854ad58",
   "metadata": {
    "execution": {
     "iopub.execute_input": "2022-10-14T19:58:52.497249Z",
     "iopub.status.busy": "2022-10-14T19:58:52.496868Z",
     "iopub.status.idle": "2022-10-14T19:58:52.762020Z",
     "shell.execute_reply": "2022-10-14T19:58:52.761391Z",
     "shell.execute_reply.started": "2022-10-14T19:58:52.497225Z"
    },
    "tags": []
   },
   "outputs": [],
   "source": [
    "with np.load('./sparse/train_cite_inputs_idxcol.npz',allow_pickle=True) as data:\n",
    "    cite_index = data['index']\n",
    "\n",
    "metadata_df = pd.read_csv('../input/open-problems-multimodal/metadata.csv', index_col='cell_id')\n",
    "metadata_df = metadata_df[metadata_df.technology==\"citeseq\"]\n",
    "meta = metadata_df.reindex(cite_index)"
   ]
  },
  {
   "cell_type": "code",
   "execution_count": 25,
   "id": "c9597d6d-4247-476e-bea6-29e5f615824c",
   "metadata": {
    "execution": {
     "iopub.execute_input": "2022-10-14T19:59:30.710280Z",
     "iopub.status.busy": "2022-10-14T19:59:30.709895Z",
     "iopub.status.idle": "2022-10-14T20:01:28.176879Z",
     "shell.execute_reply": "2022-10-14T20:01:28.176205Z",
     "shell.execute_reply.started": "2022-10-14T19:59:30.710256Z"
    },
    "tags": []
   },
   "outputs": [
    {
     "name": "stderr",
     "output_type": "stream",
     "text": [
      "2022-10-14 19:59:31.022519: I tensorflow/stream_executor/cuda/cuda_gpu_executor.cc:980] successful NUMA node read from SysFS had negative value (-1), but there must be at least one NUMA node, so returning NUMA node zero\n",
      "2022-10-14 19:59:31.023452: W tensorflow/stream_executor/platform/default/dso_loader.cc:64] Could not load dynamic library 'libcudnn.so.8'; dlerror: libcudnn.so.8: cannot open shared object file: No such file or directory; LD_LIBRARY_PATH: /usr/local/nvidia/lib:/usr/local/nvidia/lib64\n",
      "2022-10-14 19:59:31.023473: W tensorflow/core/common_runtime/gpu/gpu_device.cc:1934] Cannot dlopen some GPU libraries. Please make sure the missing libraries mentioned above are installed properly if you would like to use GPU. Follow the guide at https://www.tensorflow.org/install/gpu for how to download and setup the required libraries for your platform.\n",
      "Skipping registering GPU devices...\n",
      "2022-10-14 19:59:31.024678: I tensorflow/core/platform/cpu_feature_guard.cc:193] This TensorFlow binary is optimized with oneAPI Deep Neural Network Library (oneDNN) to use the following CPU instructions in performance-critical operations:  AVX2 AVX512F AVX512_VNNI FMA\n",
      "To enable them in other operations, rebuild TensorFlow with the appropriate compiler flags.\n"
     ]
    },
    {
     "name": "stdout",
     "output_type": "stream",
     "text": [
      "Epoch 1/1000\n",
      "181/181 - 3s - loss: -8.3367e-01 - negative_correlation_loss: -8.5967e-01 - val_loss: -8.6289e-01 - val_negative_correlation_loss: -8.7795e-01 - lr: 0.0100 - 3s/epoch - 16ms/step\n",
      "Epoch 2/1000\n",
      "181/181 - 2s - loss: -8.8281e-01 - negative_correlation_loss: -8.9465e-01 - val_loss: -8.6907e-01 - val_negative_correlation_loss: -8.7877e-01 - lr: 0.0100 - 2s/epoch - 9ms/step\n",
      "Epoch 3/1000\n",
      "181/181 - 2s - loss: -8.8812e-01 - negative_correlation_loss: -8.9684e-01 - val_loss: -8.7411e-01 - val_negative_correlation_loss: -8.8187e-01 - lr: 0.0100 - 2s/epoch - 9ms/step\n",
      "Epoch 4/1000\n",
      "181/181 - 2s - loss: -8.9020e-01 - negative_correlation_loss: -8.9760e-01 - val_loss: -8.7411e-01 - val_negative_correlation_loss: -8.8111e-01 - lr: 0.0100 - 2s/epoch - 9ms/step\n",
      "Epoch 5/1000\n",
      "181/181 - 2s - loss: -8.9143e-01 - negative_correlation_loss: -8.9807e-01 - val_loss: -8.7591e-01 - val_negative_correlation_loss: -8.8229e-01 - lr: 0.0100 - 2s/epoch - 9ms/step\n",
      "Epoch 6/1000\n",
      "181/181 - 2s - loss: -8.9224e-01 - negative_correlation_loss: -8.9844e-01 - val_loss: -8.7747e-01 - val_negative_correlation_loss: -8.8349e-01 - lr: 0.0100 - 2s/epoch - 9ms/step\n",
      "Epoch 7/1000\n",
      "181/181 - 2s - loss: -8.9254e-01 - negative_correlation_loss: -8.9845e-01 - val_loss: -8.7589e-01 - val_negative_correlation_loss: -8.8163e-01 - lr: 0.0100 - 2s/epoch - 9ms/step\n",
      "Epoch 8/1000\n",
      "181/181 - 2s - loss: -8.9295e-01 - negative_correlation_loss: -8.9866e-01 - val_loss: -8.7881e-01 - val_negative_correlation_loss: -8.8438e-01 - lr: 0.0100 - 2s/epoch - 9ms/step\n",
      "Epoch 9/1000\n",
      "181/181 - 2s - loss: -8.9311e-01 - negative_correlation_loss: -8.9871e-01 - val_loss: -8.7808e-01 - val_negative_correlation_loss: -8.8365e-01 - lr: 0.0100 - 2s/epoch - 9ms/step\n",
      "Epoch 10/1000\n",
      "181/181 - 2s - loss: -8.9313e-01 - negative_correlation_loss: -8.9877e-01 - val_loss: -8.7826e-01 - val_negative_correlation_loss: -8.8370e-01 - lr: 0.0100 - 2s/epoch - 9ms/step\n",
      "Epoch 11/1000\n",
      "181/181 - 2s - loss: -8.9343e-01 - negative_correlation_loss: -8.9892e-01 - val_loss: -8.7717e-01 - val_negative_correlation_loss: -8.8246e-01 - lr: 0.0100 - 2s/epoch - 9ms/step\n",
      "Epoch 12/1000\n",
      "\n",
      "Epoch 12: ReduceLROnPlateau reducing learning rate to 0.004999999888241291.\n",
      "181/181 - 2s - loss: -8.9332e-01 - negative_correlation_loss: -8.9864e-01 - val_loss: -8.7755e-01 - val_negative_correlation_loss: -8.8295e-01 - lr: 0.0100 - 2s/epoch - 9ms/step\n",
      "Epoch 13/1000\n",
      "181/181 - 2s - loss: -8.9618e-01 - negative_correlation_loss: -9.0057e-01 - val_loss: -8.8041e-01 - val_negative_correlation_loss: -8.8446e-01 - lr: 0.0050 - 2s/epoch - 9ms/step\n",
      "Epoch 14/1000\n",
      "181/181 - 2s - loss: -8.9657e-01 - negative_correlation_loss: -9.0061e-01 - val_loss: -8.8009e-01 - val_negative_correlation_loss: -8.8401e-01 - lr: 0.0050 - 2s/epoch - 9ms/step\n",
      "Epoch 15/1000\n",
      "181/181 - 2s - loss: -8.9673e-01 - negative_correlation_loss: -9.0062e-01 - val_loss: -8.8127e-01 - val_negative_correlation_loss: -8.8516e-01 - lr: 0.0050 - 2s/epoch - 9ms/step\n",
      "Epoch 16/1000\n",
      "181/181 - 2s - loss: -8.9673e-01 - negative_correlation_loss: -9.0067e-01 - val_loss: -8.8002e-01 - val_negative_correlation_loss: -8.8383e-01 - lr: 0.0050 - 2s/epoch - 9ms/step\n",
      "Epoch 17/1000\n",
      "181/181 - 2s - loss: -8.9690e-01 - negative_correlation_loss: -9.0075e-01 - val_loss: -8.8052e-01 - val_negative_correlation_loss: -8.8428e-01 - lr: 0.0050 - 2s/epoch - 9ms/step\n",
      "Epoch 18/1000\n",
      "181/181 - 2s - loss: -8.9687e-01 - negative_correlation_loss: -9.0071e-01 - val_loss: -8.8137e-01 - val_negative_correlation_loss: -8.8515e-01 - lr: 0.0050 - 2s/epoch - 9ms/step\n",
      "Epoch 19/1000\n",
      "181/181 - 2s - loss: -8.9702e-01 - negative_correlation_loss: -9.0077e-01 - val_loss: -8.8124e-01 - val_negative_correlation_loss: -8.8498e-01 - lr: 0.0050 - 2s/epoch - 9ms/step\n",
      "Epoch 20/1000\n",
      "181/181 - 2s - loss: -8.9694e-01 - negative_correlation_loss: -9.0078e-01 - val_loss: -8.8183e-01 - val_negative_correlation_loss: -8.8553e-01 - lr: 0.0050 - 2s/epoch - 9ms/step\n",
      "Epoch 21/1000\n",
      "181/181 - 2s - loss: -8.9712e-01 - negative_correlation_loss: -9.0092e-01 - val_loss: -8.8175e-01 - val_negative_correlation_loss: -8.8542e-01 - lr: 0.0050 - 2s/epoch - 9ms/step\n",
      "Epoch 22/1000\n",
      "181/181 - 2s - loss: -8.9711e-01 - negative_correlation_loss: -9.0087e-01 - val_loss: -8.8130e-01 - val_negative_correlation_loss: -8.8507e-01 - lr: 0.0050 - 2s/epoch - 9ms/step\n",
      "Epoch 23/1000\n",
      "181/181 - 2s - loss: -8.9725e-01 - negative_correlation_loss: -9.0098e-01 - val_loss: -8.8159e-01 - val_negative_correlation_loss: -8.8523e-01 - lr: 0.0050 - 2s/epoch - 9ms/step\n",
      "Epoch 24/1000\n",
      "181/181 - 2s - loss: -8.9728e-01 - negative_correlation_loss: -9.0100e-01 - val_loss: -8.8200e-01 - val_negative_correlation_loss: -8.8567e-01 - lr: 0.0050 - 2s/epoch - 9ms/step\n",
      "Epoch 25/1000\n",
      "181/181 - 2s - loss: -8.9714e-01 - negative_correlation_loss: -9.0096e-01 - val_loss: -8.8199e-01 - val_negative_correlation_loss: -8.8565e-01 - lr: 0.0050 - 2s/epoch - 9ms/step\n",
      "Epoch 26/1000\n",
      "181/181 - 2s - loss: -8.9727e-01 - negative_correlation_loss: -9.0098e-01 - val_loss: -8.8144e-01 - val_negative_correlation_loss: -8.8507e-01 - lr: 0.0050 - 2s/epoch - 9ms/step\n",
      "Epoch 27/1000\n",
      "181/181 - 2s - loss: -8.9730e-01 - negative_correlation_loss: -9.0101e-01 - val_loss: -8.8124e-01 - val_negative_correlation_loss: -8.8488e-01 - lr: 0.0050 - 2s/epoch - 9ms/step\n",
      "Epoch 28/1000\n",
      "181/181 - 2s - loss: -8.9735e-01 - negative_correlation_loss: -9.0104e-01 - val_loss: -8.8290e-01 - val_negative_correlation_loss: -8.8651e-01 - lr: 0.0050 - 2s/epoch - 9ms/step\n",
      "Epoch 29/1000\n",
      "181/181 - 2s - loss: -8.9735e-01 - negative_correlation_loss: -9.0105e-01 - val_loss: -8.8218e-01 - val_negative_correlation_loss: -8.8582e-01 - lr: 0.0050 - 2s/epoch - 9ms/step\n",
      "Epoch 30/1000\n",
      "181/181 - 2s - loss: -8.9734e-01 - negative_correlation_loss: -9.0101e-01 - val_loss: -8.8113e-01 - val_negative_correlation_loss: -8.8470e-01 - lr: 0.0050 - 2s/epoch - 9ms/step\n",
      "Epoch 31/1000\n",
      "181/181 - 2s - loss: -8.9734e-01 - negative_correlation_loss: -9.0099e-01 - val_loss: -8.8134e-01 - val_negative_correlation_loss: -8.8498e-01 - lr: 0.0050 - 2s/epoch - 9ms/step\n",
      "Epoch 32/1000\n",
      "\n",
      "Epoch 32: ReduceLROnPlateau reducing learning rate to 0.0024999999441206455.\n",
      "181/181 - 2s - loss: -8.9741e-01 - negative_correlation_loss: -9.0106e-01 - val_loss: -8.8194e-01 - val_negative_correlation_loss: -8.8548e-01 - lr: 0.0050 - 2s/epoch - 9ms/step\n",
      "Epoch 33/1000\n",
      "181/181 - 2s - loss: -8.9924e-01 - negative_correlation_loss: -9.0246e-01 - val_loss: -8.8313e-01 - val_negative_correlation_loss: -8.8610e-01 - lr: 0.0025 - 2s/epoch - 9ms/step\n",
      "Epoch 34/1000\n",
      "181/181 - 2s - loss: -8.9962e-01 - negative_correlation_loss: -9.0254e-01 - val_loss: -8.8376e-01 - val_negative_correlation_loss: -8.8659e-01 - lr: 0.0025 - 2s/epoch - 9ms/step\n",
      "Epoch 35/1000\n",
      "181/181 - 2s - loss: -8.9955e-01 - negative_correlation_loss: -9.0242e-01 - val_loss: -8.8361e-01 - val_negative_correlation_loss: -8.8638e-01 - lr: 0.0025 - 2s/epoch - 9ms/step\n",
      "Epoch 36/1000\n",
      "181/181 - 2s - loss: -8.9966e-01 - negative_correlation_loss: -9.0243e-01 - val_loss: -8.8387e-01 - val_negative_correlation_loss: -8.8662e-01 - lr: 0.0025 - 2s/epoch - 9ms/step\n",
      "Epoch 37/1000\n",
      "181/181 - 2s - loss: -8.9972e-01 - negative_correlation_loss: -9.0252e-01 - val_loss: -8.8346e-01 - val_negative_correlation_loss: -8.8618e-01 - lr: 0.0025 - 2s/epoch - 9ms/step\n",
      "Epoch 38/1000\n",
      "181/181 - 2s - loss: -8.9978e-01 - negative_correlation_loss: -9.0257e-01 - val_loss: -8.8358e-01 - val_negative_correlation_loss: -8.8626e-01 - lr: 0.0025 - 2s/epoch - 9ms/step\n",
      "Epoch 39/1000\n",
      "181/181 - 2s - loss: -8.9986e-01 - negative_correlation_loss: -9.0260e-01 - val_loss: -8.8400e-01 - val_negative_correlation_loss: -8.8664e-01 - lr: 0.0025 - 2s/epoch - 9ms/step\n",
      "Epoch 40/1000\n",
      "181/181 - 2s - loss: -8.9991e-01 - negative_correlation_loss: -9.0261e-01 - val_loss: -8.8444e-01 - val_negative_correlation_loss: -8.8707e-01 - lr: 0.0025 - 2s/epoch - 9ms/step\n",
      "Epoch 41/1000\n",
      "181/181 - 2s - loss: -8.9986e-01 - negative_correlation_loss: -9.0259e-01 - val_loss: -8.8403e-01 - val_negative_correlation_loss: -8.8667e-01 - lr: 0.0025 - 2s/epoch - 9ms/step\n",
      "Epoch 42/1000\n",
      "181/181 - 2s - loss: -8.9995e-01 - negative_correlation_loss: -9.0261e-01 - val_loss: -8.8341e-01 - val_negative_correlation_loss: -8.8600e-01 - lr: 0.0025 - 2s/epoch - 9ms/step\n",
      "Epoch 43/1000\n",
      "181/181 - 2s - loss: -8.9992e-01 - negative_correlation_loss: -9.0260e-01 - val_loss: -8.8404e-01 - val_negative_correlation_loss: -8.8667e-01 - lr: 0.0025 - 2s/epoch - 9ms/step\n",
      "Epoch 44/1000\n",
      "\n",
      "Epoch 44: ReduceLROnPlateau reducing learning rate to 0.0012499999720603228.\n",
      "181/181 - 2s - loss: -8.9993e-01 - negative_correlation_loss: -9.0255e-01 - val_loss: -8.8333e-01 - val_negative_correlation_loss: -8.8592e-01 - lr: 0.0025 - 2s/epoch - 9ms/step\n",
      "Epoch 45/1000\n",
      "181/181 - 2s - loss: -9.0132e-01 - negative_correlation_loss: -9.0377e-01 - val_loss: -8.8493e-01 - val_negative_correlation_loss: -8.8727e-01 - lr: 0.0012 - 2s/epoch - 9ms/step\n",
      "Epoch 46/1000\n",
      "181/181 - 2s - loss: -9.0160e-01 - negative_correlation_loss: -9.0393e-01 - val_loss: -8.8485e-01 - val_negative_correlation_loss: -8.8710e-01 - lr: 0.0012 - 2s/epoch - 9ms/step\n",
      "Epoch 47/1000\n",
      "181/181 - 2s - loss: -9.0161e-01 - negative_correlation_loss: -9.0386e-01 - val_loss: -8.8482e-01 - val_negative_correlation_loss: -8.8702e-01 - lr: 0.0012 - 2s/epoch - 9ms/step\n",
      "Epoch 48/1000\n",
      "181/181 - 2s - loss: -9.0171e-01 - negative_correlation_loss: -9.0388e-01 - val_loss: -8.8452e-01 - val_negative_correlation_loss: -8.8668e-01 - lr: 0.0012 - 2s/epoch - 9ms/step\n",
      "Epoch 49/1000\n",
      "181/181 - 2s - loss: -9.0174e-01 - negative_correlation_loss: -9.0392e-01 - val_loss: -8.8518e-01 - val_negative_correlation_loss: -8.8731e-01 - lr: 0.0012 - 2s/epoch - 9ms/step\n",
      "Epoch 50/1000\n",
      "181/181 - 2s - loss: -9.0178e-01 - negative_correlation_loss: -9.0393e-01 - val_loss: -8.8590e-01 - val_negative_correlation_loss: -8.8800e-01 - lr: 0.0012 - 2s/epoch - 9ms/step\n",
      "Epoch 51/1000\n",
      "181/181 - 2s - loss: -9.0181e-01 - negative_correlation_loss: -9.0391e-01 - val_loss: -8.8517e-01 - val_negative_correlation_loss: -8.8725e-01 - lr: 0.0012 - 2s/epoch - 9ms/step\n",
      "Epoch 52/1000\n",
      "181/181 - 2s - loss: -9.0188e-01 - negative_correlation_loss: -9.0400e-01 - val_loss: -8.8550e-01 - val_negative_correlation_loss: -8.8757e-01 - lr: 0.0012 - 2s/epoch - 9ms/step\n",
      "Epoch 53/1000\n",
      "181/181 - 2s - loss: -9.0191e-01 - negative_correlation_loss: -9.0399e-01 - val_loss: -8.8492e-01 - val_negative_correlation_loss: -8.8699e-01 - lr: 0.0012 - 2s/epoch - 9ms/step\n",
      "Epoch 54/1000\n",
      "\n",
      "Epoch 54: ReduceLROnPlateau reducing learning rate to 0.0006249999860301614.\n",
      "181/181 - 2s - loss: -9.0191e-01 - negative_correlation_loss: -9.0402e-01 - val_loss: -8.8458e-01 - val_negative_correlation_loss: -8.8664e-01 - lr: 0.0012 - 2s/epoch - 9ms/step\n",
      "Epoch 55/1000\n",
      "181/181 - 2s - loss: -9.0283e-01 - negative_correlation_loss: -9.0489e-01 - val_loss: -8.8548e-01 - val_negative_correlation_loss: -8.8745e-01 - lr: 6.2500e-04 - 2s/epoch - 9ms/step\n",
      "Epoch 56/1000\n",
      "181/181 - 2s - loss: -9.0301e-01 - negative_correlation_loss: -9.0499e-01 - val_loss: -8.8531e-01 - val_negative_correlation_loss: -8.8724e-01 - lr: 6.2500e-04 - 2s/epoch - 9ms/step\n",
      "Epoch 57/1000\n",
      "181/181 - 2s - loss: -9.0308e-01 - negative_correlation_loss: -9.0502e-01 - val_loss: -8.8529e-01 - val_negative_correlation_loss: -8.8719e-01 - lr: 6.2500e-04 - 2s/epoch - 9ms/step\n",
      "Epoch 58/1000\n",
      "\n",
      "Epoch 58: ReduceLROnPlateau reducing learning rate to 0.0003124999930150807.\n",
      "181/181 - 2s - loss: -9.0311e-01 - negative_correlation_loss: -9.0501e-01 - val_loss: -8.8494e-01 - val_negative_correlation_loss: -8.8681e-01 - lr: 6.2500e-04 - 2s/epoch - 9ms/step\n",
      "Epoch 59/1000\n",
      "181/181 - 2s - loss: -9.0371e-01 - negative_correlation_loss: -9.0560e-01 - val_loss: -8.8519e-01 - val_negative_correlation_loss: -8.8704e-01 - lr: 3.1250e-04 - 2s/epoch - 9ms/step\n",
      "Epoch 60/1000\n",
      "181/181 - 2s - loss: -9.0379e-01 - negative_correlation_loss: -9.0565e-01 - val_loss: -8.8600e-01 - val_negative_correlation_loss: -8.8782e-01 - lr: 3.1250e-04 - 2s/epoch - 9ms/step\n",
      "Epoch 61/1000\n",
      "181/181 - 2s - loss: -9.0383e-01 - negative_correlation_loss: -9.0567e-01 - val_loss: -8.8547e-01 - val_negative_correlation_loss: -8.8728e-01 - lr: 3.1250e-04 - 2s/epoch - 9ms/step\n",
      "Epoch 62/1000\n",
      "181/181 - 2s - loss: -9.0387e-01 - negative_correlation_loss: -9.0569e-01 - val_loss: -8.8546e-01 - val_negative_correlation_loss: -8.8724e-01 - lr: 3.1250e-04 - 2s/epoch - 9ms/step\n",
      "Epoch 63/1000\n",
      "181/181 - 2s - loss: -9.0391e-01 - negative_correlation_loss: -9.0573e-01 - val_loss: -8.8584e-01 - val_negative_correlation_loss: -8.8760e-01 - lr: 3.1250e-04 - 2s/epoch - 9ms/step\n",
      "Epoch 64/1000\n",
      "\n",
      "Epoch 64: ReduceLROnPlateau reducing learning rate to 0.00015624999650754035.\n",
      "181/181 - 2s - loss: -9.0396e-01 - negative_correlation_loss: -9.0573e-01 - val_loss: -8.8532e-01 - val_negative_correlation_loss: -8.8707e-01 - lr: 3.1250e-04 - 2s/epoch - 9ms/step\n",
      "Epoch 65/1000\n",
      "181/181 - 2s - loss: -9.0431e-01 - negative_correlation_loss: -9.0609e-01 - val_loss: -8.8557e-01 - val_negative_correlation_loss: -8.8731e-01 - lr: 1.5625e-04 - 2s/epoch - 9ms/step\n",
      "Epoch 66/1000\n",
      "181/181 - 2s - loss: -9.0435e-01 - negative_correlation_loss: -9.0611e-01 - val_loss: -8.8574e-01 - val_negative_correlation_loss: -8.8747e-01 - lr: 1.5625e-04 - 2s/epoch - 9ms/step\n",
      "Epoch 67/1000\n",
      "181/181 - 2s - loss: -9.0439e-01 - negative_correlation_loss: -9.0614e-01 - val_loss: -8.8559e-01 - val_negative_correlation_loss: -8.8731e-01 - lr: 1.5625e-04 - 2s/epoch - 9ms/step\n",
      "Epoch 68/1000\n",
      "\n",
      "Epoch 68: ReduceLROnPlateau reducing learning rate to 7.812499825377017e-05.\n",
      "181/181 - 2s - loss: -9.0441e-01 - negative_correlation_loss: -9.0613e-01 - val_loss: -8.8546e-01 - val_negative_correlation_loss: -8.8717e-01 - lr: 1.5625e-04 - 2s/epoch - 9ms/step\n",
      "Epoch 69/1000\n",
      "181/181 - 2s - loss: -9.0462e-01 - negative_correlation_loss: -9.0634e-01 - val_loss: -8.8566e-01 - val_negative_correlation_loss: -8.8736e-01 - lr: 7.8125e-05 - 2s/epoch - 9ms/step\n",
      "Epoch 70/1000\n",
      "181/181 - 2s - loss: -9.0465e-01 - negative_correlation_loss: -9.0635e-01 - val_loss: -8.8576e-01 - val_negative_correlation_loss: -8.8746e-01 - lr: 7.8125e-05 - 2s/epoch - 9ms/step\n",
      "Epoch 71/1000\n",
      "181/181 - 2s - loss: -9.0466e-01 - negative_correlation_loss: -9.0635e-01 - val_loss: -8.8537e-01 - val_negative_correlation_loss: -8.8706e-01 - lr: 7.8125e-05 - 2s/epoch - 9ms/step\n",
      "Epoch 72/1000\n",
      "\n",
      "Epoch 72: ReduceLROnPlateau reducing learning rate to 3.9062499126885086e-05.\n",
      "181/181 - 2s - loss: -9.0468e-01 - negative_correlation_loss: -9.0636e-01 - val_loss: -8.8562e-01 - val_negative_correlation_loss: -8.8731e-01 - lr: 7.8125e-05 - 2s/epoch - 9ms/step\n",
      "1/1 [==============================] - 0s 153ms/step\n",
      "Fold 0:  71 epochs, corr =  0.88784\n"
     ]
    }
   ],
   "source": [
    "LR_START = 0.01\n",
    "BATCH_SIZE = 256\n",
    "reg1 = 8e-5\n",
    "reg2 = 2e-5\n",
    "model_cite = fit(X_train_64,cite_targets,meta)"
   ]
  },
  {
   "cell_type": "code",
   "execution_count": 70,
   "id": "3fac4d77-fb7f-4daf-8776-111eedd33b1b",
   "metadata": {
    "execution": {
     "iopub.execute_input": "2022-10-14T20:30:45.674960Z",
     "iopub.status.busy": "2022-10-14T20:30:45.674559Z",
     "iopub.status.idle": "2022-10-14T20:30:51.402014Z",
     "shell.execute_reply": "2022-10-14T20:30:51.401358Z",
     "shell.execute_reply.started": "2022-10-14T20:30:45.674934Z"
    },
    "tags": []
   },
   "outputs": [
    {
     "name": "stdout",
     "output_type": "stream",
     "text": [
      "2219/2219 [==============================] - 5s 2ms/step\n"
     ]
    }
   ],
   "source": [
    "abc = model_cite.predict(X_train_64)"
   ]
  },
  {
   "cell_type": "code",
   "execution_count": 72,
   "id": "5b75551b-8c79-4ba9-9fb7-94daed40b860",
   "metadata": {
    "execution": {
     "iopub.execute_input": "2022-10-14T20:31:15.388721Z",
     "iopub.status.busy": "2022-10-14T20:31:15.388308Z",
     "iopub.status.idle": "2022-10-14T20:31:15.399866Z",
     "shell.execute_reply": "2022-10-14T20:31:15.399190Z",
     "shell.execute_reply.started": "2022-10-14T20:31:15.388693Z"
    }
   },
   "outputs": [
    {
     "data": {
      "text/plain": [
       "matrix([[-0.43837434, -0.43021062, -0.29833534,  1.1338654 ,  1.0635331 ,\n",
       "          1.6808542 ,  0.5861186 , -0.45797923, -0.36173666, -0.32925007,\n",
       "         -0.5392869 , -0.44224316, -0.41343763, -0.40785432,  1.698253  ,\n",
       "         -0.30666706,  1.3430887 ,  0.10360113,  0.26428685, -0.41626763,\n",
       "         -0.39041537,  0.65044415, -0.50409716, -0.33956006,  2.8327327 ,\n",
       "         -0.47129494, -0.5209527 , -0.5048487 , -0.47144407, -0.43777195,\n",
       "         -0.46311662, -0.39903826, -0.4383445 , -0.44194743, -0.43680227,\n",
       "         -0.48774657, -0.3047757 ,  3.5374074 , -0.33286268, -0.39105356,\n",
       "         -0.4867969 , -0.40290892, -0.46317026,  0.40630922, -0.53387964,\n",
       "         -0.43826064, -0.25131822, -0.38530982,  1.4767705 , -0.48534304,\n",
       "         -0.3739072 , -0.4384068 , -0.23403381, -0.5170458 , -0.02530339,\n",
       "         -0.09405742, -0.43527642,  0.9401281 , -0.48003206, -0.4430905 ,\n",
       "         -0.4793237 , -0.37314054, -0.3362626 , -0.39815608, -0.47443724,\n",
       "         -0.3418427 , -0.20295967, -0.2940301 ,  0.42142442, -0.47773716,\n",
       "         -0.45123827, -0.49584118, -0.4495018 ,  1.7558329 , -0.49938893,\n",
       "          2.620203  , -0.4301192 ,  0.03791196, -0.46611086, -0.46994805,\n",
       "          0.16447182, -0.49951383, -0.2669851 , -0.37529504, -0.50628674,\n",
       "         -0.48662862, -0.38440225, -0.4552512 , -0.06299784,  0.14280398,\n",
       "         -0.27508116, -0.46943223, -0.41040698, -0.30409202,  0.32115278,\n",
       "         -0.41415754, -0.34449533,  2.125082  , -0.44810465,  1.3451531 ,\n",
       "          0.8082746 , -0.5232341 ,  0.41727495, -0.33436197,  0.46024245,\n",
       "         -0.3818775 ,  1.5404236 , -0.37305903,  2.6966195 , -0.06817239,\n",
       "         -0.05207657,  0.5857519 , -0.35095438,  0.41411218, -0.44479436,\n",
       "          0.05615975, -0.01134247, -0.4261999 , -0.45483226,  2.4867527 ,\n",
       "         -0.4009904 ,  0.71562964, -0.46044403, -0.4820144 , -0.34189916,\n",
       "         -0.35533115, -0.45941544, -0.28365263, -0.41621318, -0.4358678 ,\n",
       "         -0.49512473,  1.6553005 , -0.3038611 , -0.5096807 , -0.51174295,\n",
       "         -0.34193444,  1.105324  , -0.3911491 ,  0.5719492 ,  0.4540136 ]],\n",
       "       dtype=float32)"
      ]
     },
     "execution_count": 72,
     "metadata": {},
     "output_type": "execute_result"
    }
   ],
   "source": [
    "cite_targets.mean(axis=0)"
   ]
  },
  {
   "cell_type": "code",
   "execution_count": 71,
   "id": "db459a94-a9d4-47cf-9ff8-ee340c417e57",
   "metadata": {
    "execution": {
     "iopub.execute_input": "2022-10-14T20:30:58.551664Z",
     "iopub.status.busy": "2022-10-14T20:30:58.551259Z",
     "iopub.status.idle": "2022-10-14T20:30:58.562242Z",
     "shell.execute_reply": "2022-10-14T20:30:58.561578Z",
     "shell.execute_reply.started": "2022-10-14T20:30:58.551638Z"
    }
   },
   "outputs": [
    {
     "data": {
      "text/plain": [
       "array([-0.9476678 , -0.92181164, -0.6649792 ,  2.1446197 ,  2.03047   ,\n",
       "        3.4222095 ,  1.3197931 , -1.0004737 , -0.79381233, -0.7329463 ,\n",
       "       -1.1308562 , -0.949798  , -0.8529651 , -0.9006047 ,  3.297998  ,\n",
       "       -0.691149  ,  2.7020054 ,  0.19542207,  0.7029529 , -0.8933938 ,\n",
       "       -0.8832023 ,  1.2094705 , -1.0667897 , -0.7351041 ,  5.5794687 ,\n",
       "       -1.0051723 , -1.1013024 , -1.0571693 , -1.0106857 , -0.94480383,\n",
       "       -0.98906326, -0.8597457 , -0.9345949 , -0.9431606 , -0.9379719 ,\n",
       "       -1.0335352 , -0.65234506,  7.18215   , -0.7579878 , -0.8366694 ,\n",
       "       -1.026308  , -0.8654688 , -0.96377873,  0.8200831 , -1.1100826 ,\n",
       "       -0.93828523, -0.56664515, -0.82666415,  3.059695  , -1.0327083 ,\n",
       "       -0.81892127, -0.9502457 , -0.44706813, -1.0911546 , -0.10604908,\n",
       "       -0.2508806 , -0.9200543 ,  1.8921261 , -1.0059807 , -0.94723076,\n",
       "       -1.0281626 , -0.7956708 , -0.7277675 , -0.85454345, -1.0022562 ,\n",
       "       -0.753068  , -0.48845705, -0.6446871 ,  0.76635545, -1.0082059 ,\n",
       "       -0.9587168 , -1.0460731 , -0.96371925,  3.4933276 , -1.0591805 ,\n",
       "        5.291748  , -0.9243836 , -0.00828634, -0.98721284, -0.9995359 ,\n",
       "        0.34020764, -1.050328  , -0.5852322 , -0.8049115 , -1.0683467 ,\n",
       "       -1.0183749 , -0.8376933 , -0.97932595, -0.20036145,  0.01595867,\n",
       "       -0.6347549 , -1.0007459 , -0.87658554, -0.6679821 ,  0.8465169 ,\n",
       "       -0.8761071 , -0.7534044 ,  4.1470203 , -0.97211623,  2.7273378 ,\n",
       "        1.6443421 , -1.0815947 ,  0.73883617, -0.7135123 ,  0.79653436,\n",
       "       -0.82700944,  3.0849054 , -0.7830536 ,  4.961377  , -0.2380949 ,\n",
       "       -0.18478656,  1.0574522 , -0.7629285 ,  0.7037866 , -0.9622114 ,\n",
       "        0.08595184, -0.07827813, -0.9160261 , -1.0032903 ,  4.7174344 ,\n",
       "       -0.86212105,  1.1151329 , -0.9890561 , -1.0211549 , -0.7325638 ,\n",
       "       -0.747141  , -0.97638017, -0.641335  , -0.893517  , -0.9517094 ,\n",
       "       -1.0638822 ,  3.2393372 , -0.6798462 , -1.0719439 , -1.1010927 ,\n",
       "       -0.7391027 ,  1.9685726 , -0.8177799 ,  0.97550666,  0.84221023],\n",
       "      dtype=float32)"
      ]
     },
     "execution_count": 71,
     "metadata": {},
     "output_type": "execute_result"
    }
   ],
   "source": [
    "abc.mean(axis=0)"
   ]
  },
  {
   "cell_type": "code",
   "execution_count": 100,
   "id": "6c36bf58-052a-44d8-982a-9d0a64994217",
   "metadata": {
    "execution": {
     "iopub.execute_input": "2022-10-14T20:39:22.782510Z",
     "iopub.status.busy": "2022-10-14T20:39:22.782113Z",
     "iopub.status.idle": "2022-10-14T20:39:22.801322Z",
     "shell.execute_reply": "2022-10-14T20:39:22.800721Z",
     "shell.execute_reply.started": "2022-10-14T20:39:22.782484Z"
    }
   },
   "outputs": [
    {
     "data": {
      "text/plain": [
       "matrix([[-0.4962811 , -0.43986705, -0.32911724, ..., -0.3991146 ,\n",
       "          0.09072484,  0.05828905],\n",
       "        [-0.4469169 , -0.39205334, -0.29057032, ..., -0.37345508,\n",
       "          0.25327104, -0.04370385],\n",
       "        [-0.37373018, -0.3195325 , -0.19469908, ..., -0.37192178,\n",
       "          1.7707909 ,  0.25211993],\n",
       "        ...,\n",
       "        [-0.5394694 , -0.42162403, -0.22672693, ..., -0.4636499 ,\n",
       "          2.4642158 ,  0.7324886 ],\n",
       "        [-0.36571398, -0.45295855, -0.27836773, ..., -0.3658736 ,\n",
       "          0.8237045 ,  0.38593206],\n",
       "        [-0.43379724, -0.33250508, -0.22546841, ..., -0.36630312,\n",
       "          1.5782167 ,  0.5842248 ]], dtype=float32)"
      ]
     },
     "execution_count": 100,
     "metadata": {},
     "output_type": "execute_result"
    }
   ],
   "source": [
    "abc / meansabc[0]"
   ]
  },
  {
   "cell_type": "code",
   "execution_count": 99,
   "id": "b32d908c-7456-47a9-95be-6ea14c4f261a",
   "metadata": {
    "execution": {
     "iopub.execute_input": "2022-10-14T20:39:17.786156Z",
     "iopub.status.busy": "2022-10-14T20:39:17.785760Z",
     "iopub.status.idle": "2022-10-14T20:39:17.799325Z",
     "shell.execute_reply": "2022-10-14T20:39:17.798768Z",
     "shell.execute_reply.started": "2022-10-14T20:39:17.786130Z"
    },
    "tags": []
   },
   "outputs": [],
   "source": [
    "meansabc = abc.mean(axis=0)/cite_targets.mean(axis=0)"
   ]
  },
  {
   "cell_type": "code",
   "execution_count": 75,
   "id": "89ee7ecd-fa80-42e5-b03a-532064667058",
   "metadata": {
    "execution": {
     "iopub.execute_input": "2022-10-14T20:32:45.214353Z",
     "iopub.status.busy": "2022-10-14T20:32:45.213967Z",
     "iopub.status.idle": "2022-10-14T20:32:45.229118Z",
     "shell.execute_reply": "2022-10-14T20:32:45.228404Z",
     "shell.execute_reply.started": "2022-10-14T20:32:45.214329Z"
    },
    "tags": []
   },
   "outputs": [
    {
     "data": {
      "text/plain": [
       "2.1477606"
      ]
     },
     "execution_count": 75,
     "metadata": {},
     "output_type": "execute_result"
    }
   ],
   "source": [
    "(abc.mean(axis=0)/cite_targets.mean(axis=0)).mean()"
   ]
  },
  {
   "cell_type": "code",
   "execution_count": 33,
   "id": "648b9a4d-7850-44bd-a9c5-524eb4a50ced",
   "metadata": {
    "execution": {
     "iopub.execute_input": "2022-10-14T20:04:34.306661Z",
     "iopub.status.busy": "2022-10-14T20:04:34.306280Z",
     "iopub.status.idle": "2022-10-14T20:04:34.311331Z",
     "shell.execute_reply": "2022-10-14T20:04:34.310792Z",
     "shell.execute_reply.started": "2022-10-14T20:04:34.306638Z"
    },
    "tags": []
   },
   "outputs": [
    {
     "data": {
      "text/plain": [
       "array([[-1.0728493 , -0.9425025 , -0.73359096, ..., -0.83443344,\n",
       "         0.15473872,  0.10812813],\n",
       "       [-0.9661349 , -0.8400521 , -0.6476712 , ..., -0.78078675,\n",
       "         0.4319747 , -0.08107209],\n",
       "       [-0.8079215 , -0.68466187, -0.43397754, ..., -0.7775811 ,\n",
       "         3.0202305 ,  0.46769086],\n",
       "       ...,\n",
       "       [-1.1662128 , -0.9034132 , -0.5053665 , ..., -0.9693581 ,\n",
       "         4.202924  ,  1.3587906 ],\n",
       "       [-0.79059225, -0.97055364, -0.6204721 , ..., -0.7649361 ,\n",
       "         1.4048961 ,  0.71591675],\n",
       "       [-0.9377731 , -0.71245813, -0.50256133, ..., -0.7658341 ,\n",
       "         2.6917791 ,  1.0837564 ]], dtype=float32)"
      ]
     },
     "execution_count": 33,
     "metadata": {},
     "output_type": "execute_result"
    }
   ],
   "source": [
    "abc"
   ]
  },
  {
   "cell_type": "code",
   "execution_count": 79,
   "id": "24116e28-eaef-4d4c-b478-ba1c1da80845",
   "metadata": {
    "execution": {
     "iopub.execute_input": "2022-10-14T20:33:55.902717Z",
     "iopub.status.busy": "2022-10-14T20:33:55.902317Z",
     "iopub.status.idle": "2022-10-14T20:33:55.924192Z",
     "shell.execute_reply": "2022-10-14T20:33:55.923564Z",
     "shell.execute_reply.started": "2022-10-14T20:33:55.902689Z"
    },
    "tags": []
   },
   "outputs": [
    {
     "data": {
      "text/plain": [
       "array([-0.44123948, -0.42920062, -0.30961725,  0.9985407 ,  0.94539154,\n",
       "        1.593381  ,  0.6144963 , -0.4658228 , -0.36959738, -0.34125805,\n",
       "       -0.52653104, -0.4422284 , -0.39714387, -0.41932556,  1.5355524 ,\n",
       "       -0.32180047,  1.2580388 ,  0.09098835,  0.32729363, -0.4159678 ,\n",
       "       -0.4112222 ,  0.5631243 , -0.49669284, -0.3422681 ,  2.597824  ,\n",
       "       -0.46801582, -0.5127656 , -0.4922174 , -0.47057435, -0.43989697,\n",
       "       -0.46050477, -0.400302  , -0.4351503 , -0.43913975, -0.43672082,\n",
       "       -0.48121607, -0.3037326 ,  3.3440146 , -0.35292205, -0.38955262,\n",
       "       -0.4778545 , -0.4029637 , -0.44873315,  0.38183406, -0.51685476,\n",
       "       -0.43686986, -0.26383075, -0.3848931 ,  1.4246153 , -0.48082826,\n",
       "       -0.38129044, -0.44243598, -0.20815673, -0.5080364 , -0.04937639,\n",
       "       -0.11681044, -0.42837992,  0.88098186, -0.4683849 , -0.44103214,\n",
       "       -0.4787128 , -0.37046725, -0.33884773, -0.39787838, -0.46664837,\n",
       "       -0.35062802, -0.22742411, -0.30016723,  0.35681644, -0.46942842,\n",
       "       -0.44638327, -0.48705322, -0.44871238,  1.6265042 , -0.4931607 ,\n",
       "        2.463865  , -0.43039173, -0.00385818, -0.45964515, -0.46538517,\n",
       "        0.15840195, -0.4890328 , -0.27248484, -0.37477124, -0.49741918,\n",
       "       -0.47415864, -0.39003107, -0.45597532, -0.09328829,  0.00743011,\n",
       "       -0.29554403, -0.46594924, -0.40814078, -0.3110135 ,  0.394137  ,\n",
       "       -0.40791753, -0.350781  ,  1.9308614 , -0.4526189 ,  1.2698473 ,\n",
       "        0.765605  , -0.503595  ,  0.3440011 , -0.33220983,  0.37086645,\n",
       "       -0.38505375,  1.4363388 , -0.36459383,  2.3100405 , -0.11085801,\n",
       "       -0.08603752,  0.49235165, -0.35522032,  0.32768407, -0.44801113,\n",
       "        0.04001935, -0.0364464 , -0.42650104, -0.46712878,  2.1964262 ,\n",
       "       -0.40140128,  0.5192109 , -0.4605062 , -0.4754524 , -0.34108248,\n",
       "       -0.34787208, -0.45460445, -0.2986097 , -0.4160212 , -0.443118  ,\n",
       "       -0.49534974,  1.5082512 , -0.316539  , -0.49909663, -0.51267   ,\n",
       "       -0.34412777,  0.9165684 , -0.38075718,  0.45419416,  0.39213607],\n",
       "      dtype=float32)"
      ]
     },
     "execution_count": 79,
     "metadata": {},
     "output_type": "execute_result"
    }
   ],
   "source": [
    "(abc/2.1477606).mean(axis=0)"
   ]
  },
  {
   "cell_type": "code",
   "execution_count": 32,
   "id": "f005c3c4-0a8f-4fbb-a603-3b4f723cfa17",
   "metadata": {
    "execution": {
     "iopub.execute_input": "2022-10-14T20:04:26.719174Z",
     "iopub.status.busy": "2022-10-14T20:04:26.718777Z",
     "iopub.status.idle": "2022-10-14T20:04:26.723880Z",
     "shell.execute_reply": "2022-10-14T20:04:26.723354Z",
     "shell.execute_reply.started": "2022-10-14T20:04:26.719149Z"
    }
   },
   "outputs": [
    {
     "data": {
      "text/plain": [
       "matrix([[ 0.09460447, -0.16236247, -0.40533194, ..., -0.2604974 ,\n",
       "          0.38325763, -0.19745262],\n",
       "        [-0.25125083, -0.35797054, -0.16268902, ..., -0.19555242,\n",
       "          0.40262994,  0.21424626],\n",
       "        [-0.5045346 , -0.52717906, -0.6661142 , ..., -0.78993785,\n",
       "          0.9858621 ,  0.6095203 ],\n",
       "        ...,\n",
       "        [-0.21439946, -0.42171356, -0.15420535, ..., -0.28104922,\n",
       "          1.3694407 ,  0.39634088],\n",
       "        [-0.59204555, -0.8529565 , -0.36310583, ..., -0.15817975,\n",
       "          0.16098164,  0.7527571 ],\n",
       "        [-0.64900035, -0.6185921 , -0.27466986, ..., -0.3303311 ,\n",
       "          1.6578442 ,  0.4573473 ]], dtype=float32)"
      ]
     },
     "execution_count": 32,
     "metadata": {},
     "output_type": "execute_result"
    }
   ],
   "source": [
    "cite_targets"
   ]
  },
  {
   "cell_type": "code",
   "execution_count": 91,
   "id": "aceb9dbd-b54d-4691-9ff1-34e175e0fd35",
   "metadata": {
    "execution": {
     "iopub.execute_input": "2022-10-14T20:36:51.245985Z",
     "iopub.status.busy": "2022-10-14T20:36:51.245601Z",
     "iopub.status.idle": "2022-10-14T20:36:51.250831Z",
     "shell.execute_reply": "2022-10-14T20:36:51.250300Z",
     "shell.execute_reply.started": "2022-10-14T20:36:51.245961Z"
    }
   },
   "outputs": [
    {
     "data": {
      "text/plain": [
       "array([[-1.0728493 , -0.9425025 , -0.73359096, ..., -0.83443344,\n",
       "         0.15473872,  0.10812813],\n",
       "       [-0.9661349 , -0.8400521 , -0.6476712 , ..., -0.78078675,\n",
       "         0.4319747 , -0.08107209],\n",
       "       [-0.8079215 , -0.68466187, -0.43397754, ..., -0.7775811 ,\n",
       "         3.0202305 ,  0.46769086],\n",
       "       ...,\n",
       "       [-1.1662128 , -0.9034132 , -0.5053665 , ..., -0.9693581 ,\n",
       "         4.202924  ,  1.3587906 ],\n",
       "       [-0.79059225, -0.97055364, -0.6204721 , ..., -0.7649361 ,\n",
       "         1.4048961 ,  0.71591675],\n",
       "       [-0.9377731 , -0.71245813, -0.50256133, ..., -0.7658341 ,\n",
       "         2.6917791 ,  1.0837564 ]], dtype=float32)"
      ]
     },
     "execution_count": 91,
     "metadata": {},
     "output_type": "execute_result"
    }
   ],
   "source": [
    "abc"
   ]
  },
  {
   "cell_type": "code",
   "execution_count": 109,
   "id": "9c68bdb6-6043-456d-a7b8-8bbba4cbdce7",
   "metadata": {
    "execution": {
     "iopub.execute_input": "2022-10-14T20:41:19.690461Z",
     "iopub.status.busy": "2022-10-14T20:41:19.690065Z",
     "iopub.status.idle": "2022-10-14T20:41:19.868223Z",
     "shell.execute_reply": "2022-10-14T20:41:19.867508Z",
     "shell.execute_reply.started": "2022-10-14T20:41:19.690436Z"
    },
    "tags": []
   },
   "outputs": [
    {
     "name": "stdout",
     "output_type": "stream",
     "text": [
      "0.33925155837905796\n"
     ]
    }
   ],
   "source": [
    "temp = correlation_score_cols(abc,np.array(cite_targets))"
   ]
  },
  {
   "cell_type": "code",
   "execution_count": 110,
   "id": "1a129d5d-be00-4a92-b92f-3f699030f308",
   "metadata": {
    "execution": {
     "iopub.execute_input": "2022-10-14T20:41:21.908492Z",
     "iopub.status.busy": "2022-10-14T20:41:21.908085Z",
     "iopub.status.idle": "2022-10-14T20:41:21.912932Z",
     "shell.execute_reply": "2022-10-14T20:41:21.912370Z",
     "shell.execute_reply.started": "2022-10-14T20:41:21.908467Z"
    },
    "tags": []
   },
   "outputs": [
    {
     "data": {
      "text/plain": [
       "0.8854976107755664"
      ]
     },
     "execution_count": 110,
     "metadata": {},
     "output_type": "execute_result"
    }
   ],
   "source": [
    "np.max(temp)"
   ]
  },
  {
   "cell_type": "code",
   "execution_count": 111,
   "id": "cc679c85-003b-49f2-9e25-4d07aaf04778",
   "metadata": {
    "execution": {
     "iopub.execute_input": "2022-10-14T20:41:23.464102Z",
     "iopub.status.busy": "2022-10-14T20:41:23.463699Z",
     "iopub.status.idle": "2022-10-14T20:41:23.468318Z",
     "shell.execute_reply": "2022-10-14T20:41:23.467759Z",
     "shell.execute_reply.started": "2022-10-14T20:41:23.464074Z"
    },
    "tags": []
   },
   "outputs": [
    {
     "data": {
      "text/plain": [
       "0.06820730312521649"
      ]
     },
     "execution_count": 111,
     "metadata": {},
     "output_type": "execute_result"
    }
   ],
   "source": [
    "np.min(temp)"
   ]
  },
  {
   "cell_type": "code",
   "execution_count": 112,
   "id": "52380b08-c7d3-4adb-9f63-c47542b87116",
   "metadata": {
    "execution": {
     "iopub.execute_input": "2022-10-14T20:41:24.758770Z",
     "iopub.status.busy": "2022-10-14T20:41:24.758385Z",
     "iopub.status.idle": "2022-10-14T20:41:24.876033Z",
     "shell.execute_reply": "2022-10-14T20:41:24.875454Z",
     "shell.execute_reply.started": "2022-10-14T20:41:24.758746Z"
    },
    "tags": []
   },
   "outputs": [
    {
     "data": {
      "text/plain": [
       "(array([39., 22., 16., 15.,  9.,  7., 14.,  6.,  6.,  6.]),\n",
       " array([0.0682073 , 0.14993633, 0.23166536, 0.3133944 , 0.39512343,\n",
       "        0.47685246, 0.55858149, 0.64031052, 0.72203955, 0.80376858,\n",
       "        0.88549761]),\n",
       " <BarContainer object of 10 artists>)"
      ]
     },
     "execution_count": 112,
     "metadata": {},
     "output_type": "execute_result"
    },
    {
     "data": {
      "image/png": "[encoded data removed]",
      "text/plain": [
       "<Figure size 432x288 with 1 Axes>"
      ]
     },
     "metadata": {
      "needs_background": "light"
     },
     "output_type": "display_data"
    }
   ],
   "source": [
    "plt.hist(temp)"
   ]
  },
  {
   "cell_type": "code",
   "execution_count": 41,
   "id": "6f0fa223-e2ef-418d-bbba-cdf89397b43d",
   "metadata": {
    "execution": {
     "iopub.execute_input": "2022-10-14T20:08:45.796419Z",
     "iopub.status.busy": "2022-10-14T20:08:45.796029Z",
     "iopub.status.idle": "2022-10-14T20:08:45.815888Z",
     "shell.execute_reply": "2022-10-14T20:08:45.815344Z",
     "shell.execute_reply.started": "2022-10-14T20:08:45.796394Z"
    }
   },
   "outputs": [
    {
     "data": {
      "text/plain": [
       "(70988, 140)"
      ]
     },
     "execution_count": 41,
     "metadata": {},
     "output_type": "execute_result"
    }
   ],
   "source": [
    "np.array(cite_targets).shape"
   ]
  },
  {
   "cell_type": "code",
   "execution_count": 44,
   "id": "a1390ffc-f1aa-438e-82eb-8de8e10c9969",
   "metadata": {
    "execution": {
     "iopub.execute_input": "2022-10-14T20:09:22.553539Z",
     "iopub.status.busy": "2022-10-14T20:09:22.553141Z",
     "iopub.status.idle": "2022-10-14T20:09:28.910892Z",
     "shell.execute_reply": "2022-10-14T20:09:28.910326Z",
     "shell.execute_reply.started": "2022-10-14T20:09:22.553515Z"
    },
    "tags": []
   },
   "outputs": [
    {
     "data": {
      "text/plain": [
       "0.8997113945543967"
      ]
     },
     "execution_count": 44,
     "metadata": {},
     "output_type": "execute_result"
    }
   ],
   "source": [
    "correlation_score(abc,np.array(cite_targets))"
   ]
  },
  {
   "cell_type": "code",
   "execution_count": 67,
   "id": "7ffdb01d-5694-450e-b3f5-9a07bdda1973",
   "metadata": {
    "execution": {
     "iopub.execute_input": "2022-10-14T20:26:11.686787Z",
     "iopub.status.busy": "2022-10-14T20:26:11.686486Z",
     "iopub.status.idle": "2022-10-14T20:26:12.400850Z",
     "shell.execute_reply": "2022-10-14T20:26:12.399983Z",
     "shell.execute_reply.started": "2022-10-14T20:26:11.686763Z"
    },
    "tags": []
   },
   "outputs": [
    {
     "name": "stdout",
     "output_type": "stream",
     "text": [
      "Epoch 1/1000\n"
     ]
    },
    {
     "ename": "TypeError",
     "evalue": "in user code:\n\n    File \"/srv/conda/envs/saturn/lib/python3.9/site-packages/keras/engine/training.py\", line 1160, in train_function  *\n        return step_function(self, iterator)\n    File \"/tmp/ipykernel_27569/3330374890.py\", line 109, in negative_correlation_loss_col  *\n        r_den = tf.sqrt(K.sum(K.square(ym), axis=0) * float(y_true.shape[0]))\n\n    TypeError: float() argument must be a string or a number, not 'NoneType'\n",
     "output_type": "error",
     "traceback": [
      "\u001b[0;31m---------------------------------------------------------------------------\u001b[0m",
      "\u001b[0;31mTypeError\u001b[0m                                 Traceback (most recent call last)",
      "Input \u001b[0;32mIn [67]\u001b[0m, in \u001b[0;36m<cell line: 5>\u001b[0;34m()\u001b[0m\n\u001b[1;32m      3\u001b[0m reg1 \u001b[38;5;241m=\u001b[39m \u001b[38;5;241m8e-5\u001b[39m\n\u001b[1;32m      4\u001b[0m reg2 \u001b[38;5;241m=\u001b[39m \u001b[38;5;241m2e-5\u001b[39m\n\u001b[0;32m----> 5\u001b[0m model_cite_col \u001b[38;5;241m=\u001b[39m \u001b[43mfit\u001b[49m\u001b[43m(\u001b[49m\u001b[43mX_train_64\u001b[49m\u001b[43m,\u001b[49m\u001b[43mcite_targets\u001b[49m\u001b[43m,\u001b[49m\u001b[43mmeta\u001b[49m\u001b[43m,\u001b[49m\u001b[43m \u001b[49m\u001b[43mloss\u001b[49m\u001b[38;5;241;43m=\u001b[39;49m\u001b[43m \u001b[49m\u001b[43mnegative_correlation_loss_col\u001b[49m\u001b[43m)\u001b[49m\n",
      "Input \u001b[0;32mIn [66]\u001b[0m, in \u001b[0;36mfit\u001b[0;34m(X_train, y_train, meta, loss)\u001b[0m\n\u001b[1;32m    195\u001b[0m model \u001b[38;5;241m=\u001b[39m my_model(n_inputs\u001b[38;5;241m=\u001b[39mX_train\u001b[38;5;241m.\u001b[39mshape[\u001b[38;5;241m1\u001b[39m],n_outputs\u001b[38;5;241m=\u001b[39my_train\u001b[38;5;241m.\u001b[39mshape[\u001b[38;5;241m1\u001b[39m],reg1\u001b[38;5;241m=\u001b[39mreg1,reg2\u001b[38;5;241m=\u001b[39mreg2,loss \u001b[38;5;241m=\u001b[39m loss)\n\u001b[1;32m    197\u001b[0m \u001b[38;5;66;03m# Train the model\u001b[39;00m\n\u001b[0;32m--> 198\u001b[0m history \u001b[38;5;241m=\u001b[39m \u001b[43mmodel\u001b[49m\u001b[38;5;241;43m.\u001b[39;49m\u001b[43mfit\u001b[49m\u001b[43m(\u001b[49m\u001b[43mX_tr\u001b[49m\u001b[43m,\u001b[49m\u001b[43m \u001b[49m\u001b[43my_tr\u001b[49m\u001b[43m,\u001b[49m\u001b[43m \u001b[49m\n\u001b[1;32m    199\u001b[0m \u001b[43m                    \u001b[49m\u001b[43mvalidation_data\u001b[49m\u001b[38;5;241;43m=\u001b[39;49m\u001b[43m(\u001b[49m\u001b[43mX_va\u001b[49m\u001b[43m,\u001b[49m\u001b[43m \u001b[49m\u001b[43my_va\u001b[49m\u001b[43m)\u001b[49m\u001b[43m,\u001b[49m\u001b[43m \u001b[49m\n\u001b[1;32m    200\u001b[0m \u001b[43m                    \u001b[49m\u001b[43mepochs\u001b[49m\u001b[38;5;241;43m=\u001b[39;49m\u001b[43mEPOCHS\u001b[49m\u001b[43m,\u001b[49m\n\u001b[1;32m    201\u001b[0m \u001b[43m                    \u001b[49m\u001b[43mverbose\u001b[49m\u001b[38;5;241;43m=\u001b[39;49m\u001b[43mVERBOSE\u001b[49m\u001b[43m,\u001b[49m\n\u001b[1;32m    202\u001b[0m \u001b[43m                    \u001b[49m\u001b[43mbatch_size\u001b[49m\u001b[38;5;241;43m=\u001b[39;49m\u001b[43mBATCH_SIZE\u001b[49m\u001b[43m,\u001b[49m\n\u001b[1;32m    203\u001b[0m \u001b[43m                    \u001b[49m\u001b[43mshuffle\u001b[49m\u001b[38;5;241;43m=\u001b[39;49m\u001b[38;5;28;43;01mTrue\u001b[39;49;00m\u001b[43m,\u001b[49m\n\u001b[1;32m    204\u001b[0m \u001b[43m                    \u001b[49m\u001b[43mcallbacks\u001b[49m\u001b[38;5;241;43m=\u001b[39;49m\u001b[43mcallbacks\u001b[49m\u001b[43m)\u001b[49m\n\u001b[1;32m    205\u001b[0m \u001b[38;5;28;01mdel\u001b[39;00m X_tr, y_tr\n\u001b[1;32m    207\u001b[0m \u001b[38;5;66;03m# We validate the model\u001b[39;00m\n",
      "File \u001b[0;32m/srv/conda/envs/saturn/lib/python3.9/site-packages/keras/utils/traceback_utils.py:70\u001b[0m, in \u001b[0;36mfilter_traceback.<locals>.error_handler\u001b[0;34m(*args, **kwargs)\u001b[0m\n\u001b[1;32m     67\u001b[0m     filtered_tb \u001b[38;5;241m=\u001b[39m _process_traceback_frames(e\u001b[38;5;241m.\u001b[39m__traceback__)\n\u001b[1;32m     68\u001b[0m     \u001b[38;5;66;03m# To get the full stack trace, call:\u001b[39;00m\n\u001b[1;32m     69\u001b[0m     \u001b[38;5;66;03m# `tf.debugging.disable_traceback_filtering()`\u001b[39;00m\n\u001b[0;32m---> 70\u001b[0m     \u001b[38;5;28;01mraise\u001b[39;00m e\u001b[38;5;241m.\u001b[39mwith_traceback(filtered_tb) \u001b[38;5;28;01mfrom\u001b[39;00m \u001b[38;5;28mNone\u001b[39m\n\u001b[1;32m     71\u001b[0m \u001b[38;5;28;01mfinally\u001b[39;00m:\n\u001b[1;32m     72\u001b[0m     \u001b[38;5;28;01mdel\u001b[39;00m filtered_tb\n",
      "File \u001b[0;32m/tmp/__autograph_generated_fileddkgg8a6.py:15\u001b[0m, in \u001b[0;36mouter_factory.<locals>.inner_factory.<locals>.tf__train_function\u001b[0;34m(iterator)\u001b[0m\n\u001b[1;32m     13\u001b[0m \u001b[38;5;28;01mtry\u001b[39;00m:\n\u001b[1;32m     14\u001b[0m     do_return \u001b[38;5;241m=\u001b[39m \u001b[38;5;28;01mTrue\u001b[39;00m\n\u001b[0;32m---> 15\u001b[0m     retval_ \u001b[38;5;241m=\u001b[39m ag__\u001b[38;5;241m.\u001b[39mconverted_call(ag__\u001b[38;5;241m.\u001b[39mld(step_function), (ag__\u001b[38;5;241m.\u001b[39mld(\u001b[38;5;28mself\u001b[39m), ag__\u001b[38;5;241m.\u001b[39mld(iterator)), \u001b[38;5;28;01mNone\u001b[39;00m, fscope)\n\u001b[1;32m     16\u001b[0m \u001b[38;5;28;01mexcept\u001b[39;00m:\n\u001b[1;32m     17\u001b[0m     do_return \u001b[38;5;241m=\u001b[39m \u001b[38;5;28;01mFalse\u001b[39;00m\n",
      "File \u001b[0;32m/tmp/__autograph_generated_file53j90oj_.py:24\u001b[0m, in \u001b[0;36mouter_factory.<locals>.inner_factory.<locals>.tf__negative_correlation_loss_col\u001b[0;34m(y_true, y_pred)\u001b[0m\n\u001b[1;32m     22\u001b[0m ym \u001b[38;5;241m=\u001b[39m ag__\u001b[38;5;241m.\u001b[39mld(y_pred) \u001b[38;5;241m-\u001b[39m ag__\u001b[38;5;241m.\u001b[39mld(my)\n\u001b[1;32m     23\u001b[0m r_num \u001b[38;5;241m=\u001b[39m ag__\u001b[38;5;241m.\u001b[39mconverted_call(ag__\u001b[38;5;241m.\u001b[39mld(K)\u001b[38;5;241m.\u001b[39msum, (ag__\u001b[38;5;241m.\u001b[39mconverted_call(ag__\u001b[38;5;241m.\u001b[39mld(tf)\u001b[38;5;241m.\u001b[39mmultiply, (ag__\u001b[38;5;241m.\u001b[39mld(y_true), ag__\u001b[38;5;241m.\u001b[39mld(ym)), \u001b[38;5;28;01mNone\u001b[39;00m, fscope),), \u001b[38;5;28mdict\u001b[39m(axis\u001b[38;5;241m=\u001b[39m\u001b[38;5;241m0\u001b[39m), fscope)\n\u001b[0;32m---> 24\u001b[0m r_den \u001b[38;5;241m=\u001b[39m ag__\u001b[38;5;241m.\u001b[39mconverted_call(ag__\u001b[38;5;241m.\u001b[39mld(tf)\u001b[38;5;241m.\u001b[39msqrt, (ag__\u001b[38;5;241m.\u001b[39mconverted_call(ag__\u001b[38;5;241m.\u001b[39mld(K)\u001b[38;5;241m.\u001b[39msum, (ag__\u001b[38;5;241m.\u001b[39mconverted_call(ag__\u001b[38;5;241m.\u001b[39mld(K)\u001b[38;5;241m.\u001b[39msquare, (ag__\u001b[38;5;241m.\u001b[39mld(ym),), \u001b[38;5;28;01mNone\u001b[39;00m, fscope),), \u001b[38;5;28mdict\u001b[39m(axis\u001b[38;5;241m=\u001b[39m\u001b[38;5;241m0\u001b[39m), fscope) \u001b[38;5;241m*\u001b[39m ag__\u001b[38;5;241m.\u001b[39mconverted_call(ag__\u001b[38;5;241m.\u001b[39mld(\u001b[38;5;28mfloat\u001b[39m), (ag__\u001b[38;5;241m.\u001b[39mld(y_true)\u001b[38;5;241m.\u001b[39mshape[\u001b[38;5;241m0\u001b[39m],), \u001b[38;5;28;01mNone\u001b[39;00m, fscope),), \u001b[38;5;28;01mNone\u001b[39;00m, fscope)\n\u001b[1;32m     25\u001b[0m r \u001b[38;5;241m=\u001b[39m ag__\u001b[38;5;241m.\u001b[39mconverted_call(ag__\u001b[38;5;241m.\u001b[39mld(tf)\u001b[38;5;241m.\u001b[39mreduce_mean, (ag__\u001b[38;5;241m.\u001b[39mld(r_num) \u001b[38;5;241m/\u001b[39m ag__\u001b[38;5;241m.\u001b[39mld(r_den),), \u001b[38;5;28;01mNone\u001b[39;00m, fscope)\n\u001b[1;32m     26\u001b[0m \u001b[38;5;28;01mtry\u001b[39;00m:\n",
      "\u001b[0;31mTypeError\u001b[0m: in user code:\n\n    File \"/srv/conda/envs/saturn/lib/python3.9/site-packages/keras/engine/training.py\", line 1160, in train_function  *\n        return step_function(self, iterator)\n    File \"/tmp/ipykernel_27569/3330374890.py\", line 109, in negative_correlation_loss_col  *\n        r_den = tf.sqrt(K.sum(K.square(ym), axis=0) * float(y_true.shape[0]))\n\n    TypeError: float() argument must be a string or a number, not 'NoneType'\n"
     ]
    }
   ],
   "source": [
    "LR_START = 0.01\n",
    "BATCH_SIZE = 256\n",
    "reg1 = 8e-5\n",
    "reg2 = 2e-5\n",
    "model_cite_col = fit(X_train_64,cite_targets,meta, loss= negative_correlation_loss_col)"
   ]
  },
  {
   "cell_type": "code",
   "execution_count": 114,
   "id": "ab874de5-9071-43cb-94f8-3202f246e4da",
   "metadata": {
    "execution": {
     "iopub.execute_input": "2022-10-14T20:42:24.783038Z",
     "iopub.status.busy": "2022-10-14T20:42:24.782636Z",
     "iopub.status.idle": "2022-10-14T20:42:24.787724Z",
     "shell.execute_reply": "2022-10-14T20:42:24.787171Z",
     "shell.execute_reply.started": "2022-10-14T20:42:24.783012Z"
    },
    "tags": []
   },
   "outputs": [
    {
     "data": {
      "text/plain": [
       "array([-1.0728493 , -0.9661349 , -0.8079215 , ..., -1.1662128 ,\n",
       "       -0.79059225, -0.9377731 ], dtype=float32)"
      ]
     },
     "execution_count": 114,
     "metadata": {},
     "output_type": "execute_result"
    }
   ],
   "source": [
    "abc[:,0]"
   ]
  },
  {
   "cell_type": "code",
   "execution_count": 115,
   "id": "dc994f99-8b19-4ec4-81e5-e337e658ebd8",
   "metadata": {
    "execution": {
     "iopub.execute_input": "2022-10-14T20:42:37.760857Z",
     "iopub.status.busy": "2022-10-14T20:42:37.760447Z",
     "iopub.status.idle": "2022-10-14T20:42:37.765652Z",
     "shell.execute_reply": "2022-10-14T20:42:37.765123Z",
     "shell.execute_reply.started": "2022-10-14T20:42:37.760832Z"
    }
   },
   "outputs": [
    {
     "data": {
      "text/plain": [
       "matrix([[ 0.09460447],\n",
       "        [-0.25125083],\n",
       "        [-0.5045346 ],\n",
       "        ...,\n",
       "        [-0.21439946],\n",
       "        [-0.59204555],\n",
       "        [-0.64900035]], dtype=float32)"
      ]
     },
     "execution_count": 115,
     "metadata": {},
     "output_type": "execute_result"
    }
   ],
   "source": [
    "cite_targets[:,0]"
   ]
  },
  {
   "cell_type": "code",
   "execution_count": 116,
   "id": "73cf5a99-2630-44f4-8a62-f5e2e73e859e",
   "metadata": {
    "execution": {
     "iopub.execute_input": "2022-10-14T20:42:53.978402Z",
     "iopub.status.busy": "2022-10-14T20:42:53.978018Z",
     "iopub.status.idle": "2022-10-14T20:42:53.983769Z",
     "shell.execute_reply": "2022-10-14T20:42:53.983210Z",
     "shell.execute_reply.started": "2022-10-14T20:42:53.978377Z"
    }
   },
   "outputs": [
    {
     "data": {
      "text/plain": [
       "array([-1.0728493 , -0.9425025 , -0.73359096,  2.0403044 ,  2.6997807 ,\n",
       "        4.469286  ,  1.9709723 , -1.0855398 , -0.85121953, -0.7432416 ,\n",
       "       -1.0990071 , -1.0225997 , -0.7872801 , -1.0525746 ,  1.8934639 ,\n",
       "       -0.9000117 ,  3.3920686 ,  0.8743653 ,  1.7360687 , -0.86792517,\n",
       "       -0.7658537 ,  0.83408344, -1.0618287 , -0.8354715 ,  7.6926937 ,\n",
       "       -0.9864567 , -1.1039817 , -1.0144945 , -1.0746341 , -0.9557871 ,\n",
       "       -1.0214843 , -0.92580837, -0.9350562 , -0.9748629 , -0.95204556,\n",
       "       -1.0073638 , -0.8115264 ,  9.01762   , -0.90699   , -0.7870076 ,\n",
       "       -1.0670189 , -0.9674368 , -1.0029871 , -1.0227884 , -1.0522118 ,\n",
       "       -0.9288676 , -0.8599534 , -0.8463661 ,  6.240193  , -0.98756635,\n",
       "       -0.9016222 , -0.95247877, -0.9094094 , -1.0708177 , -0.3067628 ,\n",
       "       -0.20908771, -0.9932799 ,  2.6763663 , -1.0265197 , -0.979298  ,\n",
       "       -1.1242805 , -0.8063568 , -0.83312106, -0.9007708 , -1.0487636 ,\n",
       "       -0.92716706, -0.8404147 , -0.7792358 ,  0.4712815 , -1.0346606 ,\n",
       "       -0.87872064, -0.97884834, -1.0237324 ,  5.587828  , -0.9962039 ,\n",
       "        5.8035    , -0.9591837 , -0.06743371, -1.0020323 , -1.0256373 ,\n",
       "        0.47590914, -1.083201  , -0.67404485, -0.8962462 , -1.0427018 ,\n",
       "       -0.98052335, -0.8599447 , -0.9738397 , -0.73630726, -1.0091977 ,\n",
       "       -0.7772623 , -0.9519781 , -0.8594457 , -0.7890501 ,  1.2590747 ,\n",
       "       -0.9817996 , -0.85652554,  4.1949406 , -0.9695068 ,  4.4976735 ,\n",
       "        1.7729962 , -1.0260891 ,  1.4169    , -0.8616885 , -0.17156363,\n",
       "       -0.9052129 ,  3.0723898 , -0.63631594,  5.4108596 , -0.783646  ,\n",
       "       -0.680428  ,  1.0075816 , -0.8563863 , -1.0203824 , -1.0149037 ,\n",
       "        0.12067172, -0.34225973, -0.854142  , -1.0818051 ,  4.26738   ,\n",
       "       -0.9088905 ,  0.84473413, -1.015527  , -1.0683782 , -0.82890654,\n",
       "       -0.8437227 , -1.0157242 , -0.8473927 , -0.9577583 , -1.0402422 ,\n",
       "       -1.0285256 ,  2.7992203 , -0.87755954, -0.9810852 , -1.1137044 ,\n",
       "       -0.79149663,  1.573578  , -0.83443344,  0.15473872,  0.10812813],\n",
       "      dtype=float32)"
      ]
     },
     "execution_count": 116,
     "metadata": {},
     "output_type": "execute_result"
    }
   ],
   "source": [
    "abc[0]"
   ]
  },
  {
   "cell_type": "code",
   "execution_count": 117,
   "id": "649e6c6a-9304-4828-9e36-4e22a5fa0b20",
   "metadata": {
    "execution": {
     "iopub.execute_input": "2022-10-14T20:43:01.330783Z",
     "iopub.status.busy": "2022-10-14T20:43:01.330376Z",
     "iopub.status.idle": "2022-10-14T20:43:01.336264Z",
     "shell.execute_reply": "2022-10-14T20:43:01.335730Z",
     "shell.execute_reply.started": "2022-10-14T20:43:01.330757Z"
    }
   },
   "outputs": [
    {
     "data": {
      "text/plain": [
       "matrix([[ 0.09460447, -0.16236247, -0.40533194, -0.30258217,  1.1143553 ,\n",
       "          2.5725956 ,  0.24209179, -0.79900104, -0.6766891 , -0.49027386,\n",
       "         -0.41616368, -0.46010295, -0.83592623, -0.58081967,  1.3126783 ,\n",
       "         -0.38563633,  1.9725535 ,  0.30078298,  0.15214825, -0.47084144,\n",
       "         -0.46137574, -0.08522395, -0.5401505 ,  0.30790612,  3.8155568 ,\n",
       "         -0.6566035 , -0.06219612, -0.33673298, -0.8480253 , -0.6433275 ,\n",
       "         -0.79328525, -0.39329565, -0.47194415, -0.4142395 ,  0.019964  ,\n",
       "         -0.3972386 , -0.3869004 ,  6.4238887 , -0.4234315 , -0.6023517 ,\n",
       "         -0.2807335 , -0.3338139 , -0.34352177, -0.40888563,  0.13996255,\n",
       "         -0.28898895, -0.12864116,  0.19087504,  2.6287313 , -0.649598  ,\n",
       "         -0.83859944,  0.43944177, -0.5918909 , -0.5002184 , -0.3030655 ,\n",
       "          0.2126235 , -0.50036937,  1.2369651 ,  0.01480785, -0.06780977,\n",
       "         -0.55614567, -0.8452714 , -0.37435248, -1.2261416 , -0.49511486,\n",
       "         -0.40094125,  0.0683836 , -0.00954636,  0.19944215, -0.05556763,\n",
       "         -0.4104593 , -0.6846505 , -0.55444103,  2.3568811 , -0.39136505,\n",
       "          2.3645926 , -0.6354111 , -0.22129898, -0.53746784, -0.6118062 ,\n",
       "          0.731096  ,  0.164884  , -0.62043035, -0.55307716, -0.63745177,\n",
       "         -0.25481325,  0.060713  , -0.56904477, -0.34727895,  0.1009092 ,\n",
       "         -0.47046804, -0.89730066, -0.46503466, -0.12642932,  0.17516406,\n",
       "         -0.40493017, -0.18152665,  1.2083887 , -0.28821644,  1.1710312 ,\n",
       "          0.31806567, -0.51487166, -0.43132702, -0.7825295 , -0.08648657,\n",
       "         -0.22662665,  0.77332014, -0.45244095,  3.5212026 ,  0.03795775,\n",
       "         -0.11590297,  0.64063746, -0.33769372, -0.14186253,  0.17855479,\n",
       "         -0.46390167,  0.24631166, -0.6565038 , -0.55050874,  2.8842547 ,\n",
       "         -0.4706436 ,  0.3920927 , -0.5820652 ,  0.20943238, -0.41459188,\n",
       "         -0.22130178, -0.37602574,  0.00740359, -0.454194  , -0.24531145,\n",
       "         -0.66704667,  1.0618097 , -0.70692235, -0.13765602, -0.4586532 ,\n",
       "         -0.13426697,  0.20313697, -0.2604974 ,  0.38325763, -0.19745262]],\n",
       "       dtype=float32)"
      ]
     },
     "execution_count": 117,
     "metadata": {},
     "output_type": "execute_result"
    }
   ],
   "source": [
    "cite_targets[0]"
   ]
  },
  {
   "cell_type": "code",
   "execution_count": 118,
   "id": "3bbe33de-efe8-4506-9406-3d4df119b521",
   "metadata": {
    "execution": {
     "iopub.execute_input": "2022-10-14T20:44:13.264558Z",
     "iopub.status.busy": "2022-10-14T20:44:13.264154Z",
     "iopub.status.idle": "2022-10-14T20:44:13.269815Z",
     "shell.execute_reply": "2022-10-14T20:44:13.269264Z",
     "shell.execute_reply.started": "2022-10-14T20:44:13.264533Z"
    }
   },
   "outputs": [
    {
     "data": {
      "text/plain": [
       "array([[1.        , 0.90748178],\n",
       "       [0.90748178, 1.        ]])"
      ]
     },
     "execution_count": 118,
     "metadata": {},
     "output_type": "execute_result"
    }
   ],
   "source": [
    "np.corrcoef(np.array(cite_targets[0]),abc[0])"
   ]
  },
  {
   "cell_type": "code",
   "execution_count": 119,
   "id": "273cd270-827f-4d1e-a584-d684ec474670",
   "metadata": {
    "execution": {
     "iopub.execute_input": "2022-10-14T20:45:57.627162Z",
     "iopub.status.busy": "2022-10-14T20:45:57.626764Z",
     "iopub.status.idle": "2022-10-14T20:45:57.631625Z",
     "shell.execute_reply": "2022-10-14T20:45:57.631057Z",
     "shell.execute_reply.started": "2022-10-14T20:45:57.627137Z"
    }
   },
   "outputs": [
    {
     "data": {
      "text/plain": [
       "-0.050308023"
      ]
     },
     "execution_count": 119,
     "metadata": {},
     "output_type": "execute_result"
    }
   ],
   "source": [
    "abc[0].mean()"
   ]
  },
  {
   "cell_type": "code",
   "execution_count": 120,
   "id": "72a8fce4-a2aa-49f4-a710-770bbb18cead",
   "metadata": {
    "execution": {
     "iopub.execute_input": "2022-10-14T20:46:04.568867Z",
     "iopub.status.busy": "2022-10-14T20:46:04.568448Z",
     "iopub.status.idle": "2022-10-14T20:46:04.573229Z",
     "shell.execute_reply": "2022-10-14T20:46:04.572696Z",
     "shell.execute_reply.started": "2022-10-14T20:46:04.568843Z"
    }
   },
   "outputs": [
    {
     "data": {
      "text/plain": [
       "-1.6178404e-08"
      ]
     },
     "execution_count": 120,
     "metadata": {},
     "output_type": "execute_result"
    }
   ],
   "source": [
    "cite_targets[0].mean()"
   ]
  },
  {
   "cell_type": "code",
   "execution_count": 127,
   "id": "1d6f9b77-f83a-41b2-9fe8-9af812de9019",
   "metadata": {
    "execution": {
     "iopub.execute_input": "2022-10-14T20:47:55.118172Z",
     "iopub.status.busy": "2022-10-14T20:47:55.117768Z",
     "iopub.status.idle": "2022-10-14T20:47:55.122584Z",
     "shell.execute_reply": "2022-10-14T20:47:55.122031Z",
     "shell.execute_reply.started": "2022-10-14T20:47:55.118145Z"
    },
    "tags": []
   },
   "outputs": [
    {
     "data": {
      "text/plain": [
       "-0.089410014"
      ]
     },
     "execution_count": 127,
     "metadata": {},
     "output_type": "execute_result"
    }
   ],
   "source": [
    "abc[500].mean()"
   ]
  },
  {
   "cell_type": "code",
   "execution_count": 128,
   "id": "2399b86d-9aba-4ff6-ad50-4eeb27134c7f",
   "metadata": {
    "execution": {
     "iopub.execute_input": "2022-10-14T20:47:59.465634Z",
     "iopub.status.busy": "2022-10-14T20:47:59.465241Z",
     "iopub.status.idle": "2022-10-14T20:47:59.469962Z",
     "shell.execute_reply": "2022-10-14T20:47:59.469421Z",
     "shell.execute_reply.started": "2022-10-14T20:47:59.465607Z"
    },
    "tags": []
   },
   "outputs": [
    {
     "data": {
      "text/plain": [
       "6.8119594e-09"
      ]
     },
     "execution_count": 128,
     "metadata": {},
     "output_type": "execute_result"
    }
   ],
   "source": [
    "cite_targets[500].mean()"
   ]
  },
  {
   "cell_type": "code",
   "execution_count": 130,
   "id": "529750ed-96b8-4faf-8fe0-8e53a6dc7a31",
   "metadata": {
    "execution": {
     "iopub.execute_input": "2022-10-14T20:49:11.102450Z",
     "iopub.status.busy": "2022-10-14T20:49:11.102043Z",
     "iopub.status.idle": "2022-10-14T20:49:11.111848Z",
     "shell.execute_reply": "2022-10-14T20:49:11.111302Z",
     "shell.execute_reply.started": "2022-10-14T20:49:11.102425Z"
    }
   },
   "outputs": [
    {
     "data": {
      "text/plain": [
       "array([-0.05030802, -0.06314769, -0.04427298, ..., -0.0016842 ,\n",
       "       -0.06215657, -0.07001297], dtype=float32)"
      ]
     },
     "execution_count": 130,
     "metadata": {},
     "output_type": "execute_result"
    }
   ],
   "source": [
    "abc.mean(axis = 1)"
   ]
  },
  {
   "cell_type": "code",
   "execution_count": 132,
   "id": "6ad1244b-bc98-4b7c-9441-becc3e2de550",
   "metadata": {
    "execution": {
     "iopub.execute_input": "2022-10-14T20:49:48.219029Z",
     "iopub.status.busy": "2022-10-14T20:49:48.218641Z",
     "iopub.status.idle": "2022-10-14T20:49:48.267219Z",
     "shell.execute_reply": "2022-10-14T20:49:48.266563Z",
     "shell.execute_reply.started": "2022-10-14T20:49:48.219006Z"
    }
   },
   "outputs": [],
   "source": [
    "abc -= abc.mean(axis=1).reshape(-1, 1)\n",
    "abc /= abc.std(axis=1).reshape(-1, 1)"
   ]
  },
  {
   "cell_type": "code",
   "execution_count": 133,
   "id": "99d468ee-fa84-4463-95d2-a00f650b8c57",
   "metadata": {
    "execution": {
     "iopub.execute_input": "2022-10-14T20:50:05.444775Z",
     "iopub.status.busy": "2022-10-14T20:50:05.444360Z",
     "iopub.status.idle": "2022-10-14T20:50:05.623722Z",
     "shell.execute_reply": "2022-10-14T20:50:05.622995Z",
     "shell.execute_reply.started": "2022-10-14T20:50:05.444748Z"
    }
   },
   "outputs": [
    {
     "name": "stdout",
     "output_type": "stream",
     "text": [
      "0.3823501642691885\n"
     ]
    }
   ],
   "source": [
    "temp = correlation_score_cols(abc,np.array(cite_targets))"
   ]
  },
  {
   "cell_type": "code",
   "execution_count": 135,
   "id": "6c25683c-6536-4c17-9681-03c849dad24f",
   "metadata": {
    "execution": {
     "iopub.execute_input": "2022-10-14T20:50:42.921932Z",
     "iopub.status.busy": "2022-10-14T20:50:42.921539Z",
     "iopub.status.idle": "2022-10-14T20:50:43.036399Z",
     "shell.execute_reply": "2022-10-14T20:50:43.035833Z",
     "shell.execute_reply.started": "2022-10-14T20:50:42.921907Z"
    },
    "tags": []
   },
   "outputs": [
    {
     "data": {
      "text/plain": [
       "(array([38., 23., 17., 17.,  7.,  4., 14.,  6.,  7.,  7.]),\n",
       " array([0.1190214 , 0.19802707, 0.27703274, 0.35603841, 0.43504409,\n",
       "        0.51404976, 0.59305543, 0.6720611 , 0.75106678, 0.83007245,\n",
       "        0.90907812]),\n",
       " <BarContainer object of 10 artists>)"
      ]
     },
     "execution_count": 135,
     "metadata": {},
     "output_type": "execute_result"
    },
    {
     "data": {
      "image/png": "[encoded data removed]",
      "text/plain": [
       "<Figure size 432x288 with 1 Axes>"
      ]
     },
     "metadata": {
      "needs_background": "light"
     },
     "output_type": "display_data"
    }
   ],
   "source": [
    "plt.hist(temp)"
   ]
  },
  {
   "cell_type": "code",
   "execution_count": 136,
   "id": "050c6fcc-8e9b-4778-a98a-88fe833bbc55",
   "metadata": {
    "execution": {
     "iopub.execute_input": "2022-10-14T20:50:49.050766Z",
     "iopub.status.busy": "2022-10-14T20:50:49.050364Z",
     "iopub.status.idle": "2022-10-14T20:50:49.055069Z",
     "shell.execute_reply": "2022-10-14T20:50:49.054545Z",
     "shell.execute_reply.started": "2022-10-14T20:50:49.050740Z"
    }
   },
   "outputs": [
    {
     "data": {
      "text/plain": [
       "0.11902139601380284"
      ]
     },
     "execution_count": 136,
     "metadata": {},
     "output_type": "execute_result"
    }
   ],
   "source": [
    "np.min(temp)"
   ]
  },
  {
   "cell_type": "code",
   "execution_count": 137,
   "id": "4fc88c36-f2d6-483d-9242-f0badb4ff630",
   "metadata": {
    "execution": {
     "iopub.execute_input": "2022-10-14T20:50:52.811193Z",
     "iopub.status.busy": "2022-10-14T20:50:52.810785Z",
     "iopub.status.idle": "2022-10-14T20:50:52.815448Z",
     "shell.execute_reply": "2022-10-14T20:50:52.814901Z",
     "shell.execute_reply.started": "2022-10-14T20:50:52.811158Z"
    }
   },
   "outputs": [
    {
     "data": {
      "text/plain": [
       "0.9090781231219907"
      ]
     },
     "execution_count": 137,
     "metadata": {},
     "output_type": "execute_result"
    }
   ],
   "source": [
    "np.max(temp)"
   ]
  },
  {
   "cell_type": "code",
   "execution_count": 138,
   "id": "0bc6ecbd-be62-4ead-9883-578bc5116ea1",
   "metadata": {
    "execution": {
     "iopub.execute_input": "2022-10-14T20:51:10.488301Z",
     "iopub.status.busy": "2022-10-14T20:51:10.487897Z",
     "iopub.status.idle": "2022-10-14T20:51:10.493912Z",
     "shell.execute_reply": "2022-10-14T20:51:10.493387Z",
     "shell.execute_reply.started": "2022-10-14T20:51:10.488275Z"
    }
   },
   "outputs": [
    {
     "data": {
      "text/plain": [
       "array([0.90907812, 0.87674004, 0.85677523, 0.8468331 , 0.84514354,\n",
       "       0.83540512, 0.834092  , 0.80151775, 0.79518633, 0.78023991,\n",
       "       0.77869873, 0.77066477, 0.76032564, 0.75186689, 0.72053664,\n",
       "       0.72021451, 0.7077698 , 0.70231088, 0.68367192, 0.6735132 ,\n",
       "       0.66640912, 0.65060906, 0.65053488, 0.64887687, 0.64771438,\n",
       "       0.64506442, 0.63061682, 0.62816246, 0.6254363 , 0.62211454,\n",
       "       0.61424204, 0.60576244, 0.60492658, 0.59405594, 0.52942215,\n",
       "       0.52436242, 0.52163628, 0.51703432, 0.50994949, 0.50768719,\n",
       "       0.50452654, 0.50307413, 0.45886597, 0.44919342, 0.4415431 ,\n",
       "       0.43008516, 0.42919073, 0.41795663, 0.41609959, 0.4156465 ,\n",
       "       0.41382087, 0.41076895, 0.4087401 , 0.40647809, 0.39738827,\n",
       "       0.38874933, 0.3870026 , 0.37329839, 0.37300181, 0.36950014,\n",
       "       0.36641478, 0.35655931, 0.35566646, 0.35520699, 0.35006071,\n",
       "       0.34777627, 0.34055463, 0.33109092, 0.3196428 , 0.31904042,\n",
       "       0.31596628, 0.31523315, 0.3085969 , 0.30824403, 0.30459722,\n",
       "       0.29865876, 0.29835933, 0.29082292, 0.28282634, 0.27464269,\n",
       "       0.26880229, 0.26842799, 0.26782307, 0.26751944, 0.26229347,\n",
       "       0.24519781, 0.24341848, 0.24137401, 0.24011041, 0.23283326,\n",
       "       0.2328214 , 0.22468448, 0.22443173, 0.22402661, 0.21862067,\n",
       "       0.21857611, 0.21678439, 0.21463928, 0.20994576, 0.20857385,\n",
       "       0.20390735, 0.20068535, 0.19682958, 0.1911702 , 0.18837991,\n",
       "       0.18660829, 0.18425826, 0.18415818, 0.18280217, 0.18041928,\n",
       "       0.1801635 , 0.17260423, 0.17190343, 0.17065961, 0.17000894,\n",
       "       0.16794129, 0.16583966, 0.16485905, 0.16242297, 0.16200639,\n",
       "       0.15990964, 0.15421637, 0.1527393 , 0.15271976, 0.15086872,\n",
       "       0.14644971, 0.14565846, 0.14265343, 0.13948454, 0.13887398,\n",
       "       0.13620901, 0.13401505, 0.13318021, 0.1331237 , 0.13249098,\n",
       "       0.13075205, 0.13054355, 0.12819488, 0.11929308, 0.1190214 ])"
      ]
     },
     "execution_count": 138,
     "metadata": {},
     "output_type": "execute_result"
    }
   ],
   "source": [
    "np.sort(temp)[::-1]"
   ]
  },
  {
   "cell_type": "code",
   "execution_count": 140,
   "id": "4ddadf87-f731-4785-a122-9b5da85f8397",
   "metadata": {
    "execution": {
     "iopub.execute_input": "2022-10-14T20:51:50.527963Z",
     "iopub.status.busy": "2022-10-14T20:51:50.527566Z",
     "iopub.status.idle": "2022-10-14T20:51:50.654651Z",
     "shell.execute_reply": "2022-10-14T20:51:50.654090Z",
     "shell.execute_reply.started": "2022-10-14T20:51:50.527938Z"
    },
    "tags": []
   },
   "outputs": [
    {
     "data": {
      "text/plain": [
       "(array([97., 12., 11.,  4.,  5.,  5.,  1.,  3.,  1.,  1.]),\n",
       " array([-0.5392869 , -0.13161749,  0.27605194,  0.68372136,  1.0913908 ,\n",
       "         1.4990603 ,  1.9067297 ,  2.314399  ,  2.7220685 ,  3.1297379 ,\n",
       "         3.5374074 ], dtype=float32),\n",
       " <BarContainer object of 10 artists>)"
      ]
     },
     "execution_count": 140,
     "metadata": {},
     "output_type": "execute_result"
    },
    {
     "data": {
      "image/png": "[encoded data removed]",
      "text/plain": [
       "<Figure size 432x288 with 1 Axes>"
      ]
     },
     "metadata": {
      "needs_background": "light"
     },
     "output_type": "display_data"
    }
   ],
   "source": [
    "plt.hist(np.array(cite_targets).mean(axis=0))"
   ]
  },
  {
   "cell_type": "code",
   "execution_count": 142,
   "id": "82912ad9-27d6-4047-9368-0e158e4799c5",
   "metadata": {
    "execution": {
     "iopub.execute_input": "2022-10-14T20:57:13.529703Z",
     "iopub.status.busy": "2022-10-14T20:57:13.529307Z",
     "iopub.status.idle": "2022-10-14T20:57:13.672055Z",
     "shell.execute_reply": "2022-10-14T20:57:13.671477Z",
     "shell.execute_reply.started": "2022-10-14T20:57:13.529678Z"
    }
   },
   "outputs": [
    {
     "data": {
      "text/plain": [
       "(array([92., 15., 10.,  9.,  3.,  2.,  8.,  0.,  0.,  1.]),\n",
       " array([0.22220087, 0.40490893, 0.587617  , 0.770325  , 0.9530331 ,\n",
       "        1.1357411 , 1.3184491 , 1.5011572 , 1.6838653 , 1.8665733 ,\n",
       "        2.0492814 ], dtype=float32),\n",
       " <BarContainer object of 10 artists>)"
      ]
     },
     "execution_count": 142,
     "metadata": {},
     "output_type": "execute_result"
    },
    {
     "data": {
      "image/png": "[encoded data removed]",
      "text/plain": [
       "<Figure size 432x288 with 1 Axes>"
      ]
     },
     "metadata": {
      "needs_background": "light"
     },
     "output_type": "display_data"
    }
   ],
   "source": [
    "plt.hist(np.array(cite_targets).std(axis=0))"
   ]
  },
  {
   "cell_type": "code",
   "execution_count": 141,
   "id": "16bfaa44-1b7f-47ed-b198-e500f93873b7",
   "metadata": {
    "execution": {
     "iopub.execute_input": "2022-10-14T20:52:55.230297Z",
     "iopub.status.busy": "2022-10-14T20:52:55.229907Z",
     "iopub.status.idle": "2022-10-14T20:52:55.355378Z",
     "shell.execute_reply": "2022-10-14T20:52:55.354809Z",
     "shell.execute_reply.started": "2022-10-14T20:52:55.230271Z"
    }
   },
   "outputs": [
    {
     "data": {
      "text/plain": [
       "(array([9.0000e+00, 1.4200e+02, 1.3270e+03, 8.4270e+03, 2.4758e+04,\n",
       "        2.5428e+04, 9.2900e+03, 1.4580e+03, 1.3900e+02, 1.0000e+01]),\n",
       " array([-1.7540795e-07, -1.4117785e-07, -1.0694776e-07, -7.2717661e-08,\n",
       "        -3.8487567e-08, -4.2574726e-09,  2.9972622e-08,  6.4202716e-08,\n",
       "         9.8432814e-08,  1.3266290e-07,  1.6689300e-07], dtype=float32),\n",
       " <BarContainer object of 10 artists>)"
      ]
     },
     "execution_count": 141,
     "metadata": {},
     "output_type": "execute_result"
    },
    {
     "data": {
      "image/png": "[encoded data removed]",
      "text/plain": [
       "<Figure size 432x288 with 1 Axes>"
      ]
     },
     "metadata": {
      "needs_background": "light"
     },
     "output_type": "display_data"
    }
   ],
   "source": [
    "plt.hist(np.array(cite_targets).mean(axis=1))"
   ]
  },
  {
   "cell_type": "code",
   "execution_count": 143,
   "id": "23d39c9e-5b54-4cb6-9576-d92401bb8aa5",
   "metadata": {
    "execution": {
     "iopub.execute_input": "2022-10-14T21:20:41.531054Z",
     "iopub.status.busy": "2022-10-14T21:20:41.530663Z",
     "iopub.status.idle": "2022-10-14T21:20:41.535366Z",
     "shell.execute_reply": "2022-10-14T21:20:41.534857Z",
     "shell.execute_reply.started": "2022-10-14T21:20:41.531029Z"
    }
   },
   "outputs": [
    {
     "data": {
      "text/plain": [
       "'/home/jovyan/kaggle/working'"
      ]
     },
     "execution_count": 143,
     "metadata": {},
     "output_type": "execute_result"
    }
   ],
   "source": [
    "%pwd"
   ]
  },
  {
   "cell_type": "code",
   "execution_count": 152,
   "id": "3ea78d21-09ae-418c-8452-636cdc83a118",
   "metadata": {
    "execution": {
     "iopub.execute_input": "2022-10-14T21:27:29.755469Z",
     "iopub.status.busy": "2022-10-14T21:27:29.754807Z",
     "iopub.status.idle": "2022-10-14T21:27:29.824902Z",
     "shell.execute_reply": "2022-10-14T21:27:29.824326Z",
     "shell.execute_reply.started": "2022-10-14T21:27:29.755445Z"
    },
    "tags": []
   },
   "outputs": [
    {
     "name": "stdout",
     "output_type": "stream",
     "text": [
      "/home/jovyan/kaggle/working/sparse\n",
      "/home/jovyan/kaggle/working\n"
     ]
    }
   ],
   "source": [
    "important_cols = ['ENSG00000114013_CD86', 'ENSG00000120217_CD274', 'ENSG00000196776_CD47', 'ENSG00000117091_CD48', 'ENSG00000101017_CD40', 'ENSG00000102245_CD40LG', 'ENSG00000169442_CD52', 'ENSG00000117528_ABCD3', 'ENSG00000168014_C2CD3', 'ENSG00000167851_CD300A', 'ENSG00000167850_CD300C', 'ENSG00000186407_CD300E', 'ENSG00000178789_CD300LB', 'ENSG00000186074_CD300LF', 'ENSG00000241399_CD302', 'ENSG00000167775_CD320', 'ENSG00000105383_CD33', 'ENSG00000174059_CD34', 'ENSG00000135218_CD36', 'ENSG00000104894_CD37', 'ENSG00000004468_CD38', 'ENSG00000167286_CD3D', 'ENSG00000198851_CD3E', 'ENSG00000117877_CD3EAP', 'ENSG00000074696_HACD3', 'ENSG00000015676_NUDCD3', 'ENSG00000161714_PLCD3', 'ENSG00000132300_PTCD3', 'ENSG00000082014_SMARCD3', 'ENSG00000121594_CD80', 'ENSG00000110651_CD81', 'ENSG00000238184_CD81-AS1', 'ENSG00000085117_CD82', 'ENSG00000112149_CD83', 'ENSG00000066294_CD84', 'ENSG00000114013_CD86', 'ENSG00000172116_CD8B', 'ENSG00000254126_CD8B2', 'ENSG00000177455_CD19', 'ENSG00000105383_CD33', 'ENSG00000173762_CD7', 'ENSG00000125726_CD70', 'ENSG00000137101_CD72', 'ENSG00000019582_CD74', 'ENSG00000105369_CD79A', 'ENSG00000007312_CD79B', 'ENSG00000090470_PDCD7', 'ENSG00000119688_ABCD4', 'ENSG00000010610_CD4', 'ENSG00000101017_CD40', 'ENSG00000102245_CD40LG', 'ENSG00000026508_CD44', 'ENSG00000117335_CD46', 'ENSG00000196776_CD47', 'ENSG00000117091_CD48', 'ENSG00000188921_HACD4', 'ENSG00000150593_PDCD4', 'ENSG00000203497_PDCD4-AS1', 'ENSG00000115556_PLCD4', 'ENSG00000026508_CD44', 'ENSG00000170458_CD14', 'ENSG00000117281_CD160', 'ENSG00000177575_CD163', 'ENSG00000135535_CD164', 'ENSG00000091972_CD200', 'ENSG00000163606_CD200R1', 'ENSG00000206531_CD200R1L', 'ENSG00000182685_BRICD5', 'ENSG00000111731_C2CD5', 'ENSG00000169442_CD52', 'ENSG00000143119_CD53', 'ENSG00000196352_CD55', 'ENSG00000116815_CD58', 'ENSG00000085063_CD59', 'ENSG00000105185_PDCD5', 'ENSG00000255909_PDCD5P1', 'ENSG00000145284_SCD5', 'ENSG00000167775_CD320', 'ENSG00000110848_CD69', 'ENSG00000139187_KLRG1', 'ENSG00000139193_CD27', 'ENSG00000215039_CD27-AS1', 'ENSG00000120217_CD274', 'ENSG00000103855_CD276', 'ENSG00000204287_HLA-DRA', 'ENSG00000196126_HLA-DRB1', 'ENSG00000198502_HLA-DRB5', 'ENSG00000229391_HLA-DRB6', 'ENSG00000116815_CD58', 'ENSG00000168329_CX3CR1', 'ENSG00000272398_CD24', 'ENSG00000122223_CD244', 'ENSG00000198821_CD247', 'ENSG00000122223_CD244', 'ENSG00000177575_CD163', 'ENSG00000112149_CD83', 'ENSG00000185963_BICD2', 'ENSG00000157617_C2CD2', 'ENSG00000172375_C2CD2L', 'ENSG00000116824_CD2', 'ENSG00000091972_CD200', 'ENSG00000163606_CD200R1', 'ENSG00000206531_CD200R1L', 'ENSG00000012124_CD22', 'ENSG00000150637_CD226', 'ENSG00000272398_CD24', 'ENSG00000122223_CD244', 'ENSG00000198821_CD247', 'ENSG00000139193_CD27', 'ENSG00000215039_CD27-AS1', 'ENSG00000120217_CD274', 'ENSG00000103855_CD276', 'ENSG00000198087_CD2AP', 'ENSG00000169217_CD2BP2', 'ENSG00000144554_FANCD2', 'ENSG00000206527_HACD2', 'ENSG00000170584_NUDCD2', 'ENSG00000071994_PDCD2', 'ENSG00000126249_PDCD2L', 'ENSG00000049883_PTCD2', 'ENSG00000186193_SAPCD2', 'ENSG00000108604_SMARCD2', 'ENSG00000185561_TLCD2', 'ENSG00000075035_WSCD2', 'ENSG00000150637_CD226', 'ENSG00000110651_CD81', 'ENSG00000238184_CD81-AS1', 'ENSG00000134061_CD180', 'ENSG00000004468_CD38', 'ENSG00000012124_CD22', 'ENSG00000150637_CD226', 'ENSG00000135404_CD63', 'ENSG00000135218_CD36', 'ENSG00000137101_CD72', 'ENSG00000125810_CD93', 'ENSG00000010278_CD9', 'ENSG00000125810_CD93', 'ENSG00000153283_CD96', 'ENSG00000002586_CD99', 'ENSG00000102181_CD99L2', 'ENSG00000223773_CD99P1', 'ENSG00000204592_HLA-E', 'ENSG00000085117_CD82', 'ENSG00000134256_CD101']\n",
    "with np.load('./sparse/train_cite_inputs_idxcol.npz',allow_pickle=True) as data:\n",
    "    cell_columns = data['columns']\n",
    "temp = np.array([])\n",
    "for i in important_cols:\n",
    "    temp = np.append(temp,np.where(cell_columns == i))\n",
    "%cd sparse\n",
    "np.savetxt(\"important_cols.csv\",temp,delimiter=\",\")\n",
    "%cd .."
   ]
  },
  {
   "cell_type": "code",
   "execution_count": 260,
   "id": "2327acdb-8aac-4026-8459-cb3a3db6692c",
   "metadata": {
    "execution": {
     "iopub.execute_input": "2022-10-14T23:26:22.259349Z",
     "iopub.status.busy": "2022-10-14T23:26:22.258941Z",
     "iopub.status.idle": "2022-10-14T23:26:34.001215Z",
     "shell.execute_reply": "2022-10-14T23:26:34.000547Z",
     "shell.execute_reply.started": "2022-10-14T23:26:22.259324Z"
    },
    "tags": []
   },
   "outputs": [],
   "source": [
    "X_train = scipy.sparse.load_npz('./sparse/train_cite_inputs_values.sparse.npz')"
   ]
  },
  {
   "cell_type": "code",
   "execution_count": 155,
   "id": "3cdf7372-54c6-4adc-a580-f65590d7f800",
   "metadata": {
    "execution": {
     "iopub.execute_input": "2022-10-14T21:30:07.223534Z",
     "iopub.status.busy": "2022-10-14T21:30:07.223143Z",
     "iopub.status.idle": "2022-10-14T21:30:07.227614Z",
     "shell.execute_reply": "2022-10-14T21:30:07.227059Z",
     "shell.execute_reply.started": "2022-10-14T21:30:07.223510Z"
    }
   },
   "outputs": [
    {
     "data": {
      "text/plain": [
       "(70988, 22050)"
      ]
     },
     "execution_count": 155,
     "metadata": {},
     "output_type": "execute_result"
    }
   ],
   "source": [
    "X_train.shape"
   ]
  },
  {
   "cell_type": "code",
   "execution_count": 162,
   "id": "f8893b79-56d8-4255-a0e2-5894d8b3e721",
   "metadata": {
    "execution": {
     "iopub.execute_input": "2022-10-14T21:33:05.558487Z",
     "iopub.status.busy": "2022-10-14T21:33:05.558092Z",
     "iopub.status.idle": "2022-10-14T21:33:05.562686Z",
     "shell.execute_reply": "2022-10-14T21:33:05.562129Z",
     "shell.execute_reply.started": "2022-10-14T21:33:05.558462Z"
    }
   },
   "outputs": [
    {
     "data": {
      "text/plain": [
       "numpy.ndarray"
      ]
     },
     "execution_count": 162,
     "metadata": {},
     "output_type": "execute_result"
    }
   ],
   "source": [
    "type(X_train_64)"
   ]
  },
  {
   "cell_type": "code",
   "execution_count": 156,
   "id": "1caee275-4c11-43ec-8cfa-3d87cb11db6a",
   "metadata": {
    "execution": {
     "iopub.execute_input": "2022-10-14T21:30:12.626095Z",
     "iopub.status.busy": "2022-10-14T21:30:12.625699Z",
     "iopub.status.idle": "2022-10-14T21:30:12.630256Z",
     "shell.execute_reply": "2022-10-14T21:30:12.629702Z",
     "shell.execute_reply.started": "2022-10-14T21:30:12.626070Z"
    }
   },
   "outputs": [
    {
     "data": {
      "text/plain": [
       "(70988, 256)"
      ]
     },
     "execution_count": 156,
     "metadata": {},
     "output_type": "execute_result"
    }
   ],
   "source": [
    "X_train_64.shape"
   ]
  },
  {
   "cell_type": "code",
   "execution_count": 163,
   "id": "4f38050c-2f46-4432-81c0-7c035424331f",
   "metadata": {
    "execution": {
     "iopub.execute_input": "2022-10-14T21:33:13.252196Z",
     "iopub.status.busy": "2022-10-14T21:33:13.251791Z",
     "iopub.status.idle": "2022-10-14T21:33:13.868054Z",
     "shell.execute_reply": "2022-10-14T21:33:13.867440Z",
     "shell.execute_reply.started": "2022-10-14T21:33:13.252171Z"
    },
    "tags": []
   },
   "outputs": [
    {
     "data": {
      "text/plain": [
       "scipy.sparse._csr.csr_matrix"
      ]
     },
     "execution_count": 163,
     "metadata": {},
     "output_type": "execute_result"
    }
   ],
   "source": [
    "type(X_train[:,temp])"
   ]
  },
  {
   "cell_type": "code",
   "execution_count": 164,
   "id": "6e94fb42-eca3-47be-8e78-a4c886fe0122",
   "metadata": {
    "execution": {
     "iopub.execute_input": "2022-10-14T21:33:21.244629Z",
     "iopub.status.busy": "2022-10-14T21:33:21.244242Z",
     "iopub.status.idle": "2022-10-14T21:33:21.966968Z",
     "shell.execute_reply": "2022-10-14T21:33:21.966283Z",
     "shell.execute_reply.started": "2022-10-14T21:33:21.244603Z"
    },
    "tags": []
   },
   "outputs": [],
   "source": [
    "X_train_cite = np.hstack([X_train_64,X_train[:,temp].toarray()])"
   ]
  },
  {
   "cell_type": "code",
   "execution_count": 165,
   "id": "e049ecf0-90c5-4b6c-96cc-6f521a2f84df",
   "metadata": {
    "execution": {
     "iopub.execute_input": "2022-10-14T21:33:29.455418Z",
     "iopub.status.busy": "2022-10-14T21:33:29.455023Z",
     "iopub.status.idle": "2022-10-14T21:34:51.746976Z",
     "shell.execute_reply": "2022-10-14T21:34:51.746333Z",
     "shell.execute_reply.started": "2022-10-14T21:33:29.455394Z"
    }
   },
   "outputs": [
    {
     "name": "stdout",
     "output_type": "stream",
     "text": [
      "Epoch 1/1000\n",
      "181/181 - 3s - loss: -8.3255e-01 - negative_correlation_loss: -8.6062e-01 - val_loss: -8.6257e-01 - val_negative_correlation_loss: -8.7825e-01 - lr: 0.0100 - 3s/epoch - 14ms/step\n",
      "Epoch 2/1000\n",
      "181/181 - 2s - loss: -8.8325e-01 - negative_correlation_loss: -8.9555e-01 - val_loss: -8.6892e-01 - val_negative_correlation_loss: -8.7883e-01 - lr: 0.0100 - 2s/epoch - 9ms/step\n",
      "Epoch 3/1000\n",
      "181/181 - 2s - loss: -8.8858e-01 - negative_correlation_loss: -8.9753e-01 - val_loss: -8.7483e-01 - val_negative_correlation_loss: -8.8290e-01 - lr: 0.0100 - 2s/epoch - 9ms/step\n",
      "Epoch 4/1000\n",
      "181/181 - 2s - loss: -8.9076e-01 - negative_correlation_loss: -8.9846e-01 - val_loss: -8.7575e-01 - val_negative_correlation_loss: -8.8279e-01 - lr: 0.0100 - 2s/epoch - 9ms/step\n",
      "Epoch 5/1000\n",
      "181/181 - 2s - loss: -8.9199e-01 - negative_correlation_loss: -8.9880e-01 - val_loss: -8.7627e-01 - val_negative_correlation_loss: -8.8279e-01 - lr: 0.0100 - 2s/epoch - 9ms/step\n",
      "Epoch 6/1000\n",
      "181/181 - 2s - loss: -8.9266e-01 - negative_correlation_loss: -8.9911e-01 - val_loss: -8.7854e-01 - val_negative_correlation_loss: -8.8491e-01 - lr: 0.0100 - 2s/epoch - 9ms/step\n",
      "Epoch 7/1000\n",
      "181/181 - 2s - loss: -8.9306e-01 - negative_correlation_loss: -8.9930e-01 - val_loss: -8.7621e-01 - val_negative_correlation_loss: -8.8221e-01 - lr: 0.0100 - 2s/epoch - 9ms/step\n",
      "Epoch 8/1000\n",
      "181/181 - 2s - loss: -8.9361e-01 - negative_correlation_loss: -8.9955e-01 - val_loss: -8.7940e-01 - val_negative_correlation_loss: -8.8515e-01 - lr: 0.0100 - 2s/epoch - 9ms/step\n",
      "Epoch 9/1000\n",
      "181/181 - 2s - loss: -8.9379e-01 - negative_correlation_loss: -8.9957e-01 - val_loss: -8.7997e-01 - val_negative_correlation_loss: -8.8566e-01 - lr: 0.0100 - 2s/epoch - 9ms/step\n",
      "Epoch 10/1000\n",
      "181/181 - 2s - loss: -8.9384e-01 - negative_correlation_loss: -8.9961e-01 - val_loss: -8.7926e-01 - val_negative_correlation_loss: -8.8491e-01 - lr: 0.0100 - 2s/epoch - 9ms/step\n",
      "Epoch 11/1000\n",
      "181/181 - 2s - loss: -8.9419e-01 - negative_correlation_loss: -8.9985e-01 - val_loss: -8.7825e-01 - val_negative_correlation_loss: -8.8381e-01 - lr: 0.0100 - 2s/epoch - 9ms/step\n",
      "Epoch 12/1000\n",
      "181/181 - 2s - loss: -8.9414e-01 - negative_correlation_loss: -8.9953e-01 - val_loss: -8.7951e-01 - val_negative_correlation_loss: -8.8494e-01 - lr: 0.0100 - 2s/epoch - 9ms/step\n",
      "Epoch 13/1000\n",
      "\n",
      "Epoch 13: ReduceLROnPlateau reducing learning rate to 0.004999999888241291.\n",
      "181/181 - 2s - loss: -8.9422e-01 - negative_correlation_loss: -8.9961e-01 - val_loss: -8.7852e-01 - val_negative_correlation_loss: -8.8392e-01 - lr: 0.0100 - 2s/epoch - 9ms/step\n",
      "Epoch 14/1000\n",
      "181/181 - 2s - loss: -8.9702e-01 - negative_correlation_loss: -9.0144e-01 - val_loss: -8.8085e-01 - val_negative_correlation_loss: -8.8498e-01 - lr: 0.0050 - 2s/epoch - 9ms/step\n",
      "Epoch 15/1000\n",
      "181/181 - 2s - loss: -8.9747e-01 - negative_correlation_loss: -9.0153e-01 - val_loss: -8.8344e-01 - val_negative_correlation_loss: -8.8743e-01 - lr: 0.0050 - 2s/epoch - 9ms/step\n",
      "Epoch 16/1000\n",
      "181/181 - 2s - loss: -8.9747e-01 - negative_correlation_loss: -9.0153e-01 - val_loss: -8.8173e-01 - val_negative_correlation_loss: -8.8568e-01 - lr: 0.0050 - 2s/epoch - 9ms/step\n",
      "Epoch 17/1000\n",
      "181/181 - 2s - loss: -8.9762e-01 - negative_correlation_loss: -9.0164e-01 - val_loss: -8.8132e-01 - val_negative_correlation_loss: -8.8526e-01 - lr: 0.0050 - 2s/epoch - 9ms/step\n",
      "Epoch 18/1000\n",
      "181/181 - 2s - loss: -8.9768e-01 - negative_correlation_loss: -9.0168e-01 - val_loss: -8.8225e-01 - val_negative_correlation_loss: -8.8618e-01 - lr: 0.0050 - 2s/epoch - 9ms/step\n",
      "Epoch 19/1000\n",
      "\n",
      "Epoch 19: ReduceLROnPlateau reducing learning rate to 0.0024999999441206455.\n",
      "181/181 - 2s - loss: -8.9786e-01 - negative_correlation_loss: -9.0177e-01 - val_loss: -8.8248e-01 - val_negative_correlation_loss: -8.8636e-01 - lr: 0.0050 - 2s/epoch - 9ms/step\n",
      "Epoch 20/1000\n",
      "181/181 - 2s - loss: -8.9976e-01 - negative_correlation_loss: -9.0325e-01 - val_loss: -8.8507e-01 - val_negative_correlation_loss: -8.8828e-01 - lr: 0.0025 - 2s/epoch - 9ms/step\n",
      "Epoch 21/1000\n",
      "181/181 - 2s - loss: -9.0012e-01 - negative_correlation_loss: -9.0332e-01 - val_loss: -8.8442e-01 - val_negative_correlation_loss: -8.8750e-01 - lr: 0.0025 - 2s/epoch - 9ms/step\n",
      "Epoch 22/1000\n",
      "181/181 - 2s - loss: -9.0018e-01 - negative_correlation_loss: -9.0327e-01 - val_loss: -8.8538e-01 - val_negative_correlation_loss: -8.8838e-01 - lr: 0.0025 - 2s/epoch - 9ms/step\n",
      "Epoch 23/1000\n",
      "181/181 - 2s - loss: -9.0031e-01 - negative_correlation_loss: -9.0332e-01 - val_loss: -8.8457e-01 - val_negative_correlation_loss: -8.8751e-01 - lr: 0.0025 - 2s/epoch - 9ms/step\n",
      "Epoch 24/1000\n",
      "181/181 - 2s - loss: -9.0040e-01 - negative_correlation_loss: -9.0337e-01 - val_loss: -8.8441e-01 - val_negative_correlation_loss: -8.8729e-01 - lr: 0.0025 - 2s/epoch - 9ms/step\n",
      "Epoch 25/1000\n",
      "181/181 - 2s - loss: -9.0042e-01 - negative_correlation_loss: -9.0338e-01 - val_loss: -8.8512e-01 - val_negative_correlation_loss: -8.8799e-01 - lr: 0.0025 - 2s/epoch - 9ms/step\n",
      "Epoch 26/1000\n",
      "\n",
      "Epoch 26: ReduceLROnPlateau reducing learning rate to 0.0012499999720603228.\n",
      "181/181 - 2s - loss: -9.0052e-01 - negative_correlation_loss: -9.0342e-01 - val_loss: -8.8454e-01 - val_negative_correlation_loss: -8.8738e-01 - lr: 0.0025 - 2s/epoch - 9ms/step\n",
      "Epoch 27/1000\n",
      "181/181 - 2s - loss: -9.0184e-01 - negative_correlation_loss: -9.0456e-01 - val_loss: -8.8600e-01 - val_negative_correlation_loss: -8.8857e-01 - lr: 0.0012 - 2s/epoch - 9ms/step\n",
      "Epoch 28/1000\n",
      "181/181 - 2s - loss: -9.0209e-01 - negative_correlation_loss: -9.0465e-01 - val_loss: -8.8644e-01 - val_negative_correlation_loss: -8.8890e-01 - lr: 0.0012 - 2s/epoch - 9ms/step\n",
      "Epoch 29/1000\n",
      "181/181 - 2s - loss: -9.0218e-01 - negative_correlation_loss: -9.0468e-01 - val_loss: -8.8614e-01 - val_negative_correlation_loss: -8.8855e-01 - lr: 0.0012 - 2s/epoch - 9ms/step\n",
      "Epoch 30/1000\n",
      "181/181 - 2s - loss: -9.0219e-01 - negative_correlation_loss: -9.0462e-01 - val_loss: -8.8609e-01 - val_negative_correlation_loss: -8.8846e-01 - lr: 0.0012 - 2s/epoch - 9ms/step\n",
      "Epoch 31/1000\n",
      "181/181 - 2s - loss: -9.0230e-01 - negative_correlation_loss: -9.0468e-01 - val_loss: -8.8595e-01 - val_negative_correlation_loss: -8.8829e-01 - lr: 0.0012 - 2s/epoch - 9ms/step\n",
      "Epoch 32/1000\n",
      "\n",
      "Epoch 32: ReduceLROnPlateau reducing learning rate to 0.0006249999860301614.\n",
      "181/181 - 2s - loss: -9.0237e-01 - negative_correlation_loss: -9.0473e-01 - val_loss: -8.8567e-01 - val_negative_correlation_loss: -8.8797e-01 - lr: 0.0012 - 2s/epoch - 9ms/step\n",
      "Epoch 33/1000\n",
      "181/181 - 2s - loss: -9.0326e-01 - negative_correlation_loss: -9.0555e-01 - val_loss: -8.8632e-01 - val_negative_correlation_loss: -8.8852e-01 - lr: 6.2500e-04 - 2s/epoch - 9ms/step\n",
      "Epoch 34/1000\n",
      "181/181 - 2s - loss: -9.0344e-01 - negative_correlation_loss: -9.0562e-01 - val_loss: -8.8639e-01 - val_negative_correlation_loss: -8.8854e-01 - lr: 6.2500e-04 - 2s/epoch - 9ms/step\n",
      "Epoch 35/1000\n",
      "181/181 - 2s - loss: -9.0348e-01 - negative_correlation_loss: -9.0563e-01 - val_loss: -8.8657e-01 - val_negative_correlation_loss: -8.8868e-01 - lr: 6.2500e-04 - 2s/epoch - 9ms/step\n",
      "Epoch 36/1000\n",
      "181/181 - 2s - loss: -9.0355e-01 - negative_correlation_loss: -9.0563e-01 - val_loss: -8.8706e-01 - val_negative_correlation_loss: -8.8913e-01 - lr: 6.2500e-04 - 2s/epoch - 9ms/step\n",
      "Epoch 37/1000\n",
      "181/181 - 2s - loss: -9.0360e-01 - negative_correlation_loss: -9.0569e-01 - val_loss: -8.8643e-01 - val_negative_correlation_loss: -8.8847e-01 - lr: 6.2500e-04 - 2s/epoch - 9ms/step\n",
      "Epoch 38/1000\n",
      "181/181 - 2s - loss: -9.0365e-01 - negative_correlation_loss: -9.0576e-01 - val_loss: -8.8791e-01 - val_negative_correlation_loss: -8.8992e-01 - lr: 6.2500e-04 - 2s/epoch - 9ms/step\n",
      "Epoch 39/1000\n",
      "181/181 - 2s - loss: -9.0368e-01 - negative_correlation_loss: -9.0573e-01 - val_loss: -8.8704e-01 - val_negative_correlation_loss: -8.8903e-01 - lr: 6.2500e-04 - 2s/epoch - 9ms/step\n",
      "Epoch 40/1000\n",
      "181/181 - 2s - loss: -9.0373e-01 - negative_correlation_loss: -9.0575e-01 - val_loss: -8.8704e-01 - val_negative_correlation_loss: -8.8901e-01 - lr: 6.2500e-04 - 2s/epoch - 9ms/step\n",
      "Epoch 41/1000\n",
      "181/181 - 2s - loss: -9.0374e-01 - negative_correlation_loss: -9.0576e-01 - val_loss: -8.8724e-01 - val_negative_correlation_loss: -8.8920e-01 - lr: 6.2500e-04 - 2s/epoch - 9ms/step\n",
      "Epoch 42/1000\n",
      "\n",
      "Epoch 42: ReduceLROnPlateau reducing learning rate to 0.0003124999930150807.\n",
      "181/181 - 2s - loss: -9.0380e-01 - negative_correlation_loss: -9.0576e-01 - val_loss: -8.8683e-01 - val_negative_correlation_loss: -8.8876e-01 - lr: 6.2500e-04 - 2s/epoch - 9ms/step\n",
      "Epoch 43/1000\n",
      "181/181 - 2s - loss: -9.0439e-01 - negative_correlation_loss: -9.0636e-01 - val_loss: -8.8742e-01 - val_negative_correlation_loss: -8.8932e-01 - lr: 3.1250e-04 - 2s/epoch - 9ms/step\n",
      "Epoch 44/1000\n",
      "181/181 - 2s - loss: -9.0447e-01 - negative_correlation_loss: -9.0636e-01 - val_loss: -8.8678e-01 - val_negative_correlation_loss: -8.8866e-01 - lr: 3.1250e-04 - 2s/epoch - 9ms/step\n",
      "Epoch 45/1000\n",
      "181/181 - 2s - loss: -9.0450e-01 - negative_correlation_loss: -9.0635e-01 - val_loss: -8.8744e-01 - val_negative_correlation_loss: -8.8930e-01 - lr: 3.1250e-04 - 2s/epoch - 9ms/step\n",
      "Epoch 46/1000\n",
      "\n",
      "Epoch 46: ReduceLROnPlateau reducing learning rate to 0.00015624999650754035.\n",
      "181/181 - 2s - loss: -9.0455e-01 - negative_correlation_loss: -9.0642e-01 - val_loss: -8.8777e-01 - val_negative_correlation_loss: -8.8962e-01 - lr: 3.1250e-04 - 2s/epoch - 9ms/step\n",
      "Epoch 47/1000\n",
      "181/181 - 2s - loss: -9.0491e-01 - negative_correlation_loss: -9.0674e-01 - val_loss: -8.8744e-01 - val_negative_correlation_loss: -8.8927e-01 - lr: 1.5625e-04 - 2s/epoch - 9ms/step\n",
      "Epoch 48/1000\n",
      "181/181 - 2s - loss: -9.0494e-01 - negative_correlation_loss: -9.0675e-01 - val_loss: -8.8714e-01 - val_negative_correlation_loss: -8.8895e-01 - lr: 1.5625e-04 - 2s/epoch - 9ms/step\n",
      "Epoch 49/1000\n",
      "181/181 - 2s - loss: -9.0496e-01 - negative_correlation_loss: -9.0679e-01 - val_loss: -8.8718e-01 - val_negative_correlation_loss: -8.8899e-01 - lr: 1.5625e-04 - 2s/epoch - 9ms/step\n",
      "Epoch 50/1000\n",
      "\n",
      "Epoch 50: ReduceLROnPlateau reducing learning rate to 7.812499825377017e-05.\n",
      "181/181 - 2s - loss: -9.0500e-01 - negative_correlation_loss: -9.0682e-01 - val_loss: -8.8758e-01 - val_negative_correlation_loss: -8.8937e-01 - lr: 1.5625e-04 - 2s/epoch - 9ms/step\n",
      "1/1 [==============================] - 0s 103ms/step\n",
      "Fold 0:  49 epochs, corr =  0.88994\n"
     ]
    }
   ],
   "source": [
    "LR_START = 0.01\n",
    "BATCH_SIZE = 256\n",
    "reg1 = 8e-5\n",
    "reg2 = 2e-5\n",
    "model_cite = fit(X_train_cite,cite_targets,meta)"
   ]
  },
  {
   "cell_type": "code",
   "execution_count": 171,
   "id": "e8430618-eddb-4caa-84e1-30bc16f2b654",
   "metadata": {
    "execution": {
     "iopub.execute_input": "2022-10-14T21:56:12.697652Z",
     "iopub.status.busy": "2022-10-14T21:56:12.697265Z",
     "iopub.status.idle": "2022-10-14T21:56:12.700729Z",
     "shell.execute_reply": "2022-10-14T21:56:12.700159Z",
     "shell.execute_reply.started": "2022-10-14T21:56:12.697627Z"
    },
    "tags": []
   },
   "outputs": [],
   "source": [
    "temp.dtype = int"
   ]
  },
  {
   "cell_type": "code",
   "execution_count": 169,
   "id": "da3f54d2-c25b-4bfc-96dd-7f7d3e17a147",
   "metadata": {
    "execution": {
     "iopub.execute_input": "2022-10-14T21:55:48.269400Z",
     "iopub.status.busy": "2022-10-14T21:55:48.268997Z",
     "iopub.status.idle": "2022-10-14T21:55:48.281978Z",
     "shell.execute_reply": "2022-10-14T21:55:48.281274Z",
     "shell.execute_reply.started": "2022-10-14T21:55:48.269374Z"
    },
    "tags": []
   },
   "outputs": [
    {
     "ename": "TypeError",
     "evalue": "only size-1 arrays can be converted to Python scalars",
     "output_type": "error",
     "traceback": [
      "\u001b[0;31m---------------------------------------------------------------------------\u001b[0m",
      "\u001b[0;31mTypeError\u001b[0m                                 Traceback (most recent call last)",
      "Input \u001b[0;32mIn [169]\u001b[0m, in \u001b[0;36m<cell line: 1>\u001b[0;34m()\u001b[0m\n\u001b[0;32m----> 1\u001b[0m delete_columns_csr(X_train,\u001b[38;5;28;43mint\u001b[39;49m\u001b[43m(\u001b[49m\u001b[43mtemp\u001b[49m\u001b[43m)\u001b[49m)\n",
      "\u001b[0;31mTypeError\u001b[0m: only size-1 arrays can be converted to Python scalars"
     ]
    }
   ],
   "source": [
    "delete_columns_csr(X_train,int(temp))"
   ]
  },
  {
   "cell_type": "code",
   "execution_count": 185,
   "id": "125fe08b-8383-49b6-be4c-e3cf1bab89af",
   "metadata": {
    "execution": {
     "iopub.execute_input": "2022-10-14T22:01:55.841999Z",
     "iopub.status.busy": "2022-10-14T22:01:55.841617Z",
     "iopub.status.idle": "2022-10-14T22:01:55.847204Z",
     "shell.execute_reply": "2022-10-14T22:01:55.846674Z",
     "shell.execute_reply.started": "2022-10-14T22:01:55.841974Z"
    },
    "tags": []
   },
   "outputs": [
    {
     "data": {
      "text/plain": [
       "array([ 0.09460447, -0.25125083, -0.5045346 , ..., -0.21439946,\n",
       "       -0.59204555, -0.64900035], dtype=float32)"
      ]
     },
     "execution_count": 185,
     "metadata": {},
     "output_type": "execute_result"
    }
   ],
   "source": [
    "np.array(cite_targets[:,0].ravel())[0]"
   ]
  },
  {
   "cell_type": "code",
   "execution_count": 186,
   "id": "ba2eb819-93dc-4579-b5aa-ab79ae77a73e",
   "metadata": {
    "execution": {
     "iopub.execute_input": "2022-10-14T22:02:03.163251Z",
     "iopub.status.busy": "2022-10-14T22:02:03.162845Z",
     "iopub.status.idle": "2022-10-14T22:02:11.716717Z",
     "shell.execute_reply": "2022-10-14T22:02:11.715915Z",
     "shell.execute_reply.started": "2022-10-14T22:02:03.163225Z"
    },
    "tags": []
   },
   "outputs": [
    {
     "ename": "ValueError",
     "evalue": "Unknown label type: (array([ 0.09460447, -0.25125083, -0.5045346 , ..., -0.21439946,\n       -0.59204555, -0.64900035], dtype=float32),)",
     "output_type": "error",
     "traceback": [
      "\u001b[0;31m---------------------------------------------------------------------------\u001b[0m",
      "\u001b[0;31mValueError\u001b[0m                                Traceback (most recent call last)",
      "Input \u001b[0;32mIn [186]\u001b[0m, in \u001b[0;36m<cell line: 4>\u001b[0;34m()\u001b[0m\n\u001b[1;32m      2\u001b[0m ld \u001b[38;5;241m=\u001b[39m LinearDiscriminantAnalysis()\n\u001b[1;32m      3\u001b[0m important \u001b[38;5;241m=\u001b[39m np\u001b[38;5;241m.\u001b[39mgenfromtxt(\u001b[38;5;124m\"\u001b[39m\u001b[38;5;124m./sparse/important_cols.csv\u001b[39m\u001b[38;5;124m\"\u001b[39m, delimiter\u001b[38;5;241m=\u001b[39m\u001b[38;5;124m'\u001b[39m\u001b[38;5;124m,\u001b[39m\u001b[38;5;124m'\u001b[39m, dtype \u001b[38;5;241m=\u001b[39m \u001b[38;5;28mint\u001b[39m)\n\u001b[0;32m----> 4\u001b[0m \u001b[43mld\u001b[49m\u001b[38;5;241;43m.\u001b[39;49m\u001b[43mfit\u001b[49m\u001b[43m(\u001b[49m\u001b[43mdelete_columns_csr\u001b[49m\u001b[43m(\u001b[49m\u001b[43mX_train\u001b[49m\u001b[43m,\u001b[49m\u001b[43mimportant\u001b[49m\u001b[43m)\u001b[49m\u001b[38;5;241;43m.\u001b[39;49m\u001b[43mtoarray\u001b[49m\u001b[43m(\u001b[49m\u001b[43m)\u001b[49m\u001b[43m,\u001b[49m\u001b[43mnp\u001b[49m\u001b[38;5;241;43m.\u001b[39;49m\u001b[43marray\u001b[49m\u001b[43m(\u001b[49m\u001b[43mcite_targets\u001b[49m\u001b[43m[\u001b[49m\u001b[43m:\u001b[49m\u001b[43m,\u001b[49m\u001b[38;5;241;43m0\u001b[39;49m\u001b[43m]\u001b[49m\u001b[38;5;241;43m.\u001b[39;49m\u001b[43mravel\u001b[49m\u001b[43m(\u001b[49m\u001b[43m)\u001b[49m\u001b[43m)\u001b[49m\u001b[43m[\u001b[49m\u001b[38;5;241;43m0\u001b[39;49m\u001b[43m]\u001b[49m\u001b[43m)\u001b[49m\n",
      "File \u001b[0;32m/srv/conda/envs/saturn/lib/python3.9/site-packages/sklearn/discriminant_analysis.py:553\u001b[0m, in \u001b[0;36mLinearDiscriminantAnalysis.fit\u001b[0;34m(self, X, y)\u001b[0m\n\u001b[1;32m    529\u001b[0m \u001b[38;5;124;03m\"\"\"Fit the Linear Discriminant Analysis model.\u001b[39;00m\n\u001b[1;32m    530\u001b[0m \n\u001b[1;32m    531\u001b[0m \u001b[38;5;124;03m   .. versionchanged:: 0.19\u001b[39;00m\n\u001b[0;32m   (...)\u001b[0m\n\u001b[1;32m    548\u001b[0m \u001b[38;5;124;03m    Fitted estimator.\u001b[39;00m\n\u001b[1;32m    549\u001b[0m \u001b[38;5;124;03m\"\"\"\u001b[39;00m\n\u001b[1;32m    550\u001b[0m X, y \u001b[38;5;241m=\u001b[39m \u001b[38;5;28mself\u001b[39m\u001b[38;5;241m.\u001b[39m_validate_data(\n\u001b[1;32m    551\u001b[0m     X, y, ensure_min_samples\u001b[38;5;241m=\u001b[39m\u001b[38;5;241m2\u001b[39m, dtype\u001b[38;5;241m=\u001b[39m[np\u001b[38;5;241m.\u001b[39mfloat64, np\u001b[38;5;241m.\u001b[39mfloat32]\n\u001b[1;32m    552\u001b[0m )\n\u001b[0;32m--> 553\u001b[0m \u001b[38;5;28mself\u001b[39m\u001b[38;5;241m.\u001b[39mclasses_ \u001b[38;5;241m=\u001b[39m \u001b[43munique_labels\u001b[49m\u001b[43m(\u001b[49m\u001b[43my\u001b[49m\u001b[43m)\u001b[49m\n\u001b[1;32m    554\u001b[0m n_samples, _ \u001b[38;5;241m=\u001b[39m X\u001b[38;5;241m.\u001b[39mshape\n\u001b[1;32m    555\u001b[0m n_classes \u001b[38;5;241m=\u001b[39m \u001b[38;5;28mlen\u001b[39m(\u001b[38;5;28mself\u001b[39m\u001b[38;5;241m.\u001b[39mclasses_)\n",
      "File \u001b[0;32m/srv/conda/envs/saturn/lib/python3.9/site-packages/sklearn/utils/multiclass.py:103\u001b[0m, in \u001b[0;36munique_labels\u001b[0;34m(*ys)\u001b[0m\n\u001b[1;32m    101\u001b[0m _unique_labels \u001b[38;5;241m=\u001b[39m _FN_UNIQUE_LABELS\u001b[38;5;241m.\u001b[39mget(label_type, \u001b[38;5;28;01mNone\u001b[39;00m)\n\u001b[1;32m    102\u001b[0m \u001b[38;5;28;01mif\u001b[39;00m \u001b[38;5;129;01mnot\u001b[39;00m _unique_labels:\n\u001b[0;32m--> 103\u001b[0m     \u001b[38;5;28;01mraise\u001b[39;00m \u001b[38;5;167;01mValueError\u001b[39;00m(\u001b[38;5;124m\"\u001b[39m\u001b[38;5;124mUnknown label type: \u001b[39m\u001b[38;5;132;01m%s\u001b[39;00m\u001b[38;5;124m\"\u001b[39m \u001b[38;5;241m%\u001b[39m \u001b[38;5;28mrepr\u001b[39m(ys))\n\u001b[1;32m    105\u001b[0m ys_labels \u001b[38;5;241m=\u001b[39m \u001b[38;5;28mset\u001b[39m(chain\u001b[38;5;241m.\u001b[39mfrom_iterable(_unique_labels(y) \u001b[38;5;28;01mfor\u001b[39;00m y \u001b[38;5;129;01min\u001b[39;00m ys))\n\u001b[1;32m    107\u001b[0m \u001b[38;5;66;03m# Check that we don't mix string type with number type\u001b[39;00m\n",
      "\u001b[0;31mValueError\u001b[0m: Unknown label type: (array([ 0.09460447, -0.25125083, -0.5045346 , ..., -0.21439946,\n       -0.59204555, -0.64900035], dtype=float32),)"
     ]
    }
   ],
   "source": [
    "from sklearn.discriminant_analysis import LinearDiscriminantAnalysis\n",
    "ld = LinearDiscriminantAnalysis()\n",
    "important = np.genfromtxt(\"./sparse/important_cols.csv\", delimiter=',', dtype = int)\n",
    "ld.fit(delete_columns_csr(X_train,important).toarray(),np.array(cite_targets[:,0].ravel())[0])"
   ]
  },
  {
   "cell_type": "code",
   "execution_count": 195,
   "id": "73360748-44fb-48a8-96bd-22686e9848d4",
   "metadata": {
    "execution": {
     "iopub.execute_input": "2022-10-14T22:10:29.405392Z",
     "iopub.status.busy": "2022-10-14T22:10:29.404996Z",
     "iopub.status.idle": "2022-10-14T22:10:29.409544Z",
     "shell.execute_reply": "2022-10-14T22:10:29.408981Z",
     "shell.execute_reply.started": "2022-10-14T22:10:29.405366Z"
    },
    "tags": []
   },
   "outputs": [],
   "source": [
    "important = np.genfromtxt(\"./sparse/important_cols.csv\", delimiter=',').astype(int)"
   ]
  },
  {
   "cell_type": "code",
   "execution_count": 196,
   "id": "264ddc3f-7d9c-45b2-bb55-c15958d20131",
   "metadata": {
    "execution": {
     "iopub.execute_input": "2022-10-14T22:11:17.560617Z",
     "iopub.status.busy": "2022-10-14T22:11:17.560223Z",
     "iopub.status.idle": "2022-10-14T22:11:20.949763Z",
     "shell.execute_reply": "2022-10-14T22:11:20.949107Z",
     "shell.execute_reply.started": "2022-10-14T22:11:17.560592Z"
    }
   },
   "outputs": [],
   "source": [
    "to_drop = np.genfromtxt(\"./sparse/drop_ids.csv\", delimiter=',', dtype = int)\n",
    "X_train = delete_columns_csr(X_train,to_drop)\n",
    "X_train = delete_columns_csr(X_train,important)"
   ]
  },
  {
   "cell_type": "code",
   "execution_count": 197,
   "id": "dfa1a358-26d8-47d7-b49a-fec88d3dffa7",
   "metadata": {
    "execution": {
     "iopub.execute_input": "2022-10-14T22:11:23.719080Z",
     "iopub.status.busy": "2022-10-14T22:11:23.718688Z",
     "iopub.status.idle": "2022-10-14T22:11:23.723204Z",
     "shell.execute_reply": "2022-10-14T22:11:23.722663Z",
     "shell.execute_reply.started": "2022-10-14T22:11:23.719055Z"
    }
   },
   "outputs": [
    {
     "data": {
      "text/plain": [
       "(70988, 21491)"
      ]
     },
     "execution_count": 197,
     "metadata": {},
     "output_type": "execute_result"
    }
   ],
   "source": [
    "X_train.shape"
   ]
  },
  {
   "cell_type": "code",
   "execution_count": 198,
   "id": "b3546428-ee21-49ce-91d0-d9660383acb4",
   "metadata": {
    "execution": {
     "iopub.execute_input": "2022-10-14T22:15:55.734196Z",
     "iopub.status.busy": "2022-10-14T22:15:55.733783Z",
     "iopub.status.idle": "2022-10-14T22:15:55.738295Z",
     "shell.execute_reply": "2022-10-14T22:15:55.737747Z",
     "shell.execute_reply.started": "2022-10-14T22:15:55.734162Z"
    }
   },
   "outputs": [
    {
     "data": {
      "text/plain": [
       "numpy.matrix"
      ]
     },
     "execution_count": 198,
     "metadata": {},
     "output_type": "execute_result"
    }
   ],
   "source": [
    "type(cite_targets)"
   ]
  },
  {
   "cell_type": "code",
   "execution_count": 199,
   "id": "e60d0ddb-c7b8-4abe-84b6-59a314769ad8",
   "metadata": {
    "execution": {
     "iopub.execute_input": "2022-10-14T22:16:01.330974Z",
     "iopub.status.busy": "2022-10-14T22:16:01.330568Z",
     "iopub.status.idle": "2022-10-14T22:16:01.342638Z",
     "shell.execute_reply": "2022-10-14T22:16:01.342074Z",
     "shell.execute_reply.started": "2022-10-14T22:16:01.330946Z"
    }
   },
   "outputs": [],
   "source": [
    "cite_targets = np.array(cite_targets)"
   ]
  },
  {
   "cell_type": "code",
   "execution_count": 200,
   "id": "db23d2e1-294c-467b-a8f4-4d0ebd0e228f",
   "metadata": {
    "execution": {
     "iopub.execute_input": "2022-10-14T22:16:06.856613Z",
     "iopub.status.busy": "2022-10-14T22:16:06.856221Z",
     "iopub.status.idle": "2022-10-14T22:16:06.861493Z",
     "shell.execute_reply": "2022-10-14T22:16:06.860869Z",
     "shell.execute_reply.started": "2022-10-14T22:16:06.856588Z"
    }
   },
   "outputs": [
    {
     "data": {
      "text/plain": [
       "array([[ 0.09460447, -0.16236247, -0.40533194, ..., -0.2604974 ,\n",
       "         0.38325763, -0.19745262],\n",
       "       [-0.25125083, -0.35797054, -0.16268902, ..., -0.19555242,\n",
       "         0.40262994,  0.21424626],\n",
       "       [-0.5045346 , -0.52717906, -0.6661142 , ..., -0.78993785,\n",
       "         0.9858621 ,  0.6095203 ],\n",
       "       ...,\n",
       "       [-0.21439946, -0.42171356, -0.15420535, ..., -0.28104922,\n",
       "         1.3694407 ,  0.39634088],\n",
       "       [-0.59204555, -0.8529565 , -0.36310583, ..., -0.15817975,\n",
       "         0.16098164,  0.7527571 ],\n",
       "       [-0.64900035, -0.6185921 , -0.27466986, ..., -0.3303311 ,\n",
       "         1.6578442 ,  0.4573473 ]], dtype=float32)"
      ]
     },
     "execution_count": 200,
     "metadata": {},
     "output_type": "execute_result"
    }
   ],
   "source": [
    "cite_targets"
   ]
  },
  {
   "cell_type": "code",
   "execution_count": 208,
   "id": "6bf8eb83-1b52-46d0-8215-ff6b43dae659",
   "metadata": {
    "execution": {
     "iopub.execute_input": "2022-10-14T22:19:14.030682Z",
     "iopub.status.busy": "2022-10-14T22:19:14.030278Z",
     "iopub.status.idle": "2022-10-14T22:19:14.034921Z",
     "shell.execute_reply": "2022-10-14T22:19:14.034367Z",
     "shell.execute_reply.started": "2022-10-14T22:19:14.030657Z"
    },
    "tags": []
   },
   "outputs": [
    {
     "data": {
      "text/plain": [
       "(46185, 140)"
      ]
     },
     "execution_count": 208,
     "metadata": {},
     "output_type": "execute_result"
    }
   ],
   "source": [
    "y_tr.shape"
   ]
  },
  {
   "cell_type": "code",
   "execution_count": 213,
   "id": "19c7cca6-2221-475d-adae-bebecbbe1347",
   "metadata": {
    "execution": {
     "iopub.execute_input": "2022-10-14T22:26:04.477110Z",
     "iopub.status.busy": "2022-10-14T22:26:04.476619Z",
     "iopub.status.idle": "2022-10-14T22:29:56.693751Z",
     "shell.execute_reply": "2022-10-14T22:29:56.693106Z",
     "shell.execute_reply.started": "2022-10-14T22:26:04.477085Z"
    },
    "tags": []
   },
   "outputs": [
    {
     "name": "stdout",
     "output_type": "stream",
     "text": [
      "Epoch 0 Train_Loss 0.7839 Valid_Loss 0.7475 L1 Reg % 1.01 Non-zero/output 21492\n",
      "Epoch 1 Train_Loss 0.7932 Valid_Loss 0.7522 L1 Reg % 1.01 Non-zero/output 21492\n",
      "Epoch 2 Train_Loss 0.7967 Valid_Loss 0.7553 L1 Reg % 1.01 Non-zero/output 21492\n",
      "Epoch 3 Train_Loss 0.7997 Valid_Loss 0.7580 L1 Reg % 1.02 Non-zero/output 21492\n",
      "Epoch 4 Train_Loss 0.8023 Valid_Loss 0.7606 L1 Reg % 1.02 Non-zero/output 21492\n",
      "Epoch 5 Train_Loss 0.8049 Valid_Loss 0.7632 L1 Reg % 1.02 Non-zero/output 21492\n",
      "Epoch 6 Train_Loss 0.8075 Valid_Loss 0.7658 L1 Reg % 1.03 Non-zero/output 21492\n",
      "Epoch 7 Train_Loss 0.8100 Valid_Loss 0.7681 L1 Reg % 1.04 Non-zero/output 21492\n",
      "Epoch 8 Train_Loss 0.8079 Valid_Loss 0.7648 L1 Reg % 1.06 Non-zero/output 21492\n",
      "Epoch 9 Train_Loss 0.7788 Valid_Loss 0.7335 L1 Reg % 1.09 Non-zero/output 21492\n",
      "Epoch 10 Train_Loss 0.7510 Valid_Loss 0.7202 L1 Reg % 1.15 Non-zero/output 21492\n",
      "Epoch 11 Train_Loss 0.7420 Valid_Loss 0.6908 L1 Reg % 1.28 Non-zero/output 21492\n",
      "Epoch 12 Train_Loss 0.7097 Valid_Loss 0.6715 L1 Reg % 1.53 Non-zero/output 21492\n",
      "Epoch 13 Train_Loss 0.7060 Valid_Loss 0.6717 L1 Reg % 1.66 Non-zero/output 21492\n",
      "Epoch 14 Train_Loss 0.6973 Valid_Loss 0.6642 L1 Reg % 1.69 Non-zero/output 21492\n",
      "Epoch 15 Train_Loss 0.7098 Valid_Loss 0.6725 L1 Reg % 1.69 Non-zero/output 21492\n",
      "Epoch 16 Train_Loss 0.7027 Valid_Loss 0.6702 L1 Reg % 1.70 Non-zero/output 21492\n",
      "Epoch 17 Train_Loss 0.7152 Valid_Loss 0.6750 L1 Reg % 1.71 Non-zero/output 21492\n",
      "Epoch 18 Train_Loss 0.7078 Valid_Loss 0.6736 L1 Reg % 1.72 Non-zero/output 21492\n",
      "Epoch 19 Train_Loss 0.7189 Valid_Loss 0.6768 L1 Reg % 1.72 Non-zero/output 21492\n",
      "Epoch 20 Train_Loss 0.7109 Valid_Loss 0.6763 L1 Reg % 1.72 Non-zero/output 21492\n",
      "Epoch 21 Train_Loss 0.7219 Valid_Loss 0.6779 L1 Reg % 1.73 Non-zero/output 21492\n",
      "Epoch 22 Train_Loss 0.7128 Valid_Loss 0.6789 L1 Reg % 1.73 Non-zero/output 21492\n",
      "Epoch 23 Train_Loss 0.7249 Valid_Loss 0.6793 L1 Reg % 1.74 Non-zero/output 21492\n",
      "Epoch 24 Train_Loss 0.7145 Valid_Loss 0.6799 L1 Reg % 1.73 Non-zero/output 21492\n",
      "Epoch 25 Train_Loss 0.7267 Valid_Loss 0.6811 L1 Reg % 1.74 Non-zero/output 21492\n",
      "Epoch 26 Train_Loss 0.7170 Valid_Loss 0.6810 L1 Reg % 1.74 Non-zero/output 21492\n",
      "Epoch 27 Train_Loss 0.7278 Valid_Loss 0.6822 L1 Reg % 1.75 Non-zero/output 21492\n",
      "Epoch 28 Train_Loss 0.7183 Valid_Loss 0.6826 L1 Reg % 1.74 Non-zero/output 21492\n",
      "Epoch 29 Train_Loss 0.7290 Valid_Loss 0.6829 L1 Reg % 1.75 Non-zero/output 21492\n",
      "Epoch 30 Train_Loss 0.7197 Valid_Loss 0.6839 L1 Reg % 1.75 Non-zero/output 21492\n",
      "Epoch 31 Train_Loss 0.7307 Valid_Loss 0.6838 L1 Reg % 1.76 Non-zero/output 21492\n",
      "Epoch 32 Train_Loss 0.7198 Valid_Loss 0.6841 L1 Reg % 1.75 Non-zero/output 21492\n",
      "Epoch 33 Train_Loss 0.7311 Valid_Loss 0.6850 L1 Reg % 1.76 Non-zero/output 21492\n",
      "Epoch 34 Train_Loss 0.7217 Valid_Loss 0.6856 L1 Reg % 1.75 Non-zero/output 21492\n",
      "Epoch 35 Train_Loss 0.7321 Valid_Loss 0.6850 L1 Reg % 1.76 Non-zero/output 21492\n",
      "Epoch 36 Train_Loss 0.7215 Valid_Loss 0.6863 L1 Reg % 1.75 Non-zero/output 21492\n",
      "Epoch 37 Train_Loss 0.7330 Valid_Loss 0.6855 L1 Reg % 1.76 Non-zero/output 21492\n",
      "Epoch 38 Train_Loss 0.7232 Valid_Loss 0.6868 L1 Reg % 1.76 Non-zero/output 21492\n",
      "Epoch 39 Train_Loss 0.7337 Valid_Loss 0.6860 L1 Reg % 1.76 Non-zero/output 21492\n"
     ]
    }
   ],
   "source": [
    "#X_train = torch.from_numpy(X_train)\n",
    "\n",
    "#xx_train, _, xx_valid = torch.tensor_split(X_train, [60988,10000])\n",
    "\n",
    "device = torch.device('cuda' if torch.cuda.is_available() else 'cpu')\n",
    "np.random.seed(1)\n",
    "tf.random.set_seed(1)\n",
    "\n",
    "\n",
    "kf = GroupKFold(n_splits=N_SPLITS)\n",
    "score_list = []\n",
    "for fold, (idx_tr, idx_va) in enumerate(kf.split(X_train, groups=meta.donor)):\n",
    "\n",
    "    X_tr = X_train[idx_tr]\n",
    "    y_tr = cite_targets[idx_tr]\n",
    "    X_va = X_train[idx_va]\n",
    "    y_va = cite_targets[idx_va]\n",
    "    batch_size = 10000\n",
    "    X_tr = torch.from_numpy(X_tr.toarray())\n",
    "    y_tr = torch.from_numpy(y_tr)\n",
    "    X_va = torch.from_numpy(X_va.toarray())\n",
    "    y_va = torch.from_numpy(y_va)\n",
    "    \n",
    "    train_ds = TensorDataset(X_tr,y_tr)\n",
    "    train_dl = DataLoader(train_ds, batch_size, drop_last = False)\n",
    "    valid_ds = TensorDataset(X_va,y_va)\n",
    "    valid_dl = DataLoader(valid_ds, batch_size, drop_last = False)\n",
    "\n",
    "    loss_fn = negative_pearson_loss\n",
    "    input_size = 21491\n",
    "    output_size = 140\n",
    "    learning_rate = 0.01\n",
    "    num_epochs = 40\n",
    "    log_epochs = 1\n",
    "    lambda1 = 0.01\n",
    "    #yy_train = torch.from_numpy(y_train)\n",
    "\n",
    "    #yy_train, _, yy_valid = torch.tensor_split(yy_train, [60988,10000])\n",
    "\n",
    "\n",
    "    # batch_size = 10000\n",
    "    # train_ds = TensorDataset(xx_train,yy_train)\n",
    "    # train_dl = DataLoader(train_ds, batch_size, drop_last = False)\n",
    "    # valid_ds = TensorDataset(xx_valid,yy_valid)\n",
    "    # valid_dl = DataLoader(valid_ds, batch_size, drop_last = False)\n",
    "\n",
    "    # all_layers = []\n",
    "    # temp_size = input_size\n",
    "    # hidden_units = (1000,)\n",
    "    # for hidden_unit in hidden_units:\n",
    "    #   layer = nn.Linear(temp_size,hidden_unit)\n",
    "    #   all_layers.append(layer)\n",
    "    #   all_layers.append(nn.SiLU())\n",
    "    #   temp_size = hidden_unit\n",
    "    # all_layers.append(nn.Linear(hidden_units[-1],output_size))\n",
    "    # model = nn.Sequential(*all_layers)\n",
    "    model = nn.Linear(input_size, output_size)\n",
    "    model.to(device)\n",
    "    optimizer = torch.optim.SGD(model.parameters(), lr = learning_rate)\n",
    "\n",
    "    for epoch in range(num_epochs):\n",
    "        for x_batch, y_batch in train_dl:\n",
    "            x_batch, y_batch = x_batch.to(device), y_batch.to(device)\n",
    "            pred = model(x_batch)\n",
    "            train_pearson = -loss_fn(pred, y_batch)\n",
    "            all_linear1_params = torch.cat([x.view(-1) for x in model.parameters()])\n",
    "            l1_regularization = lambda1 * torch.norm(all_linear1_params, 1)\n",
    "            loss = -train_pearson + l1_regularization\n",
    "            loss.backward()\n",
    "            optimizer.step()\n",
    "            optimizer.zero_grad()\n",
    "        for x_batch, y_batch in valid_dl:\n",
    "            x_batch, y_batch = x_batch.to(device), y_batch.to(device)\n",
    "            pred = model(x_batch)\n",
    "            valid_pearson = -loss_fn(pred, y_batch)\n",
    "        if epoch % log_epochs == 0:\n",
    "            print(f'Epoch {epoch} Train_Loss {train_pearson.item():.4f} Valid_Loss {valid_pearson.item():.4f} L1 Reg % {l1_regularization/loss:.2f} Non-zero/output {int(sum([torch.count_nonzero(p) for p in model.parameters()]))/output_size:.0f}')\n",
    "    break"
   ]
  },
  {
   "cell_type": "code",
   "execution_count": 214,
   "id": "10b12e08-c4ac-4457-961b-11a729ccfecd",
   "metadata": {
    "execution": {
     "iopub.execute_input": "2022-10-14T22:31:08.340826Z",
     "iopub.status.busy": "2022-10-14T22:31:08.340430Z",
     "iopub.status.idle": "2022-10-14T22:31:08.942441Z",
     "shell.execute_reply": "2022-10-14T22:31:08.941822Z",
     "shell.execute_reply.started": "2022-10-14T22:31:08.340802Z"
    }
   },
   "outputs": [
    {
     "name": "stdout",
     "output_type": "stream",
     "text": [
      "2.9208518e-11 0.014571045 5.5295164e-05 5.068843e-05\n"
     ]
    },
    {
     "data": {
      "image/png": "[encoded data removed]",
      "text/plain": [
       "<Figure size 432x288 with 1 Axes>"
      ]
     },
     "metadata": {
      "needs_background": "light"
     },
     "output_type": "display_data"
    }
   ],
   "source": [
    "import numpy as np\n",
    "abc = np.abs(next(model.parameters()).view(-1).cpu().detach().numpy())\n",
    "print(np.min(abc),np.max(abc),np.mean(abc),np.median(abc))\n",
    "import matplotlib.pyplot as plt\n",
    "plt.hist(abc,bins=np.logspace(np.log10(np.min(abc)),np.log10(np.max(abc)), 50))\n",
    "plt.gca().set_xscale(\"log\")"
   ]
  },
  {
   "cell_type": "code",
   "execution_count": 238,
   "id": "a4f24b04-e970-467c-92f0-f8011f2fb838",
   "metadata": {
    "execution": {
     "iopub.execute_input": "2022-10-14T22:43:30.532572Z",
     "iopub.status.busy": "2022-10-14T22:43:30.532185Z",
     "iopub.status.idle": "2022-10-14T22:43:30.537114Z",
     "shell.execute_reply": "2022-10-14T22:43:30.536566Z",
     "shell.execute_reply.started": "2022-10-14T22:43:30.532547Z"
    },
    "tags": []
   },
   "outputs": [
    {
     "data": {
      "text/plain": [
       "torch.Size([140, 21491])"
      ]
     },
     "execution_count": 238,
     "metadata": {},
     "output_type": "execute_result"
    }
   ],
   "source": [
    "next(model.parameters()).view((output_size),(input_size)).shape"
   ]
  },
  {
   "cell_type": "code",
   "execution_count": 236,
   "id": "6ecc171e-a824-4df7-9012-403f665b281e",
   "metadata": {
    "execution": {
     "iopub.execute_input": "2022-10-14T22:42:46.174786Z",
     "iopub.status.busy": "2022-10-14T22:42:46.174402Z",
     "iopub.status.idle": "2022-10-14T22:42:46.179023Z",
     "shell.execute_reply": "2022-10-14T22:42:46.178492Z",
     "shell.execute_reply.started": "2022-10-14T22:42:46.174761Z"
    },
    "tags": []
   },
   "outputs": [
    {
     "data": {
      "text/plain": [
       "torch.Size([140, 21491])"
      ]
     },
     "execution_count": 236,
     "metadata": {},
     "output_type": "execute_result"
    }
   ],
   "source": [
    "next(model.parameters()).shape"
   ]
  },
  {
   "cell_type": "code",
   "execution_count": 218,
   "id": "4e3a7518-e0d4-443b-9778-d6dc54e25ae6",
   "metadata": {
    "execution": {
     "iopub.execute_input": "2022-10-14T22:32:30.583025Z",
     "iopub.status.busy": "2022-10-14T22:32:30.582626Z",
     "iopub.status.idle": "2022-10-14T22:32:30.990895Z",
     "shell.execute_reply": "2022-10-14T22:32:30.990287Z",
     "shell.execute_reply.started": "2022-10-14T22:32:30.582999Z"
    },
    "tags": []
   },
   "outputs": [
    {
     "data": {
      "text/plain": [
       "(array([467., 269., 147.,  70.,  24.,   8.,   9.,   4.,   1.,   1.]),\n",
       " array([0.00313754, 0.00428089, 0.00542424, 0.00656759, 0.00771094,\n",
       "        0.00885429, 0.00999764, 0.01114099, 0.01228434, 0.01342769,\n",
       "        0.01457104], dtype=float32),\n",
       " <BarContainer object of 10 artists>)"
      ]
     },
     "execution_count": 218,
     "metadata": {},
     "output_type": "execute_result"
    },
    {
     "data": {
      "image/png": "[encoded data removed]",
      "text/plain": [
       "<Figure size 432x288 with 1 Axes>"
      ]
     },
     "metadata": {
      "needs_background": "light"
     },
     "output_type": "display_data"
    }
   ],
   "source": [
    "plt.hist(np.sort(abc)[::-1][:1000])"
   ]
  },
  {
   "cell_type": "code",
   "execution_count": 219,
   "id": "7c9bf5ca-d516-4ae9-a627-009df58c6067",
   "metadata": {
    "execution": {
     "iopub.execute_input": "2022-10-14T22:33:19.542826Z",
     "iopub.status.busy": "2022-10-14T22:33:19.542417Z",
     "iopub.status.idle": "2022-10-14T22:33:19.550325Z",
     "shell.execute_reply": "2022-10-14T22:33:19.549773Z",
     "shell.execute_reply.started": "2022-10-14T22:33:19.542800Z"
    }
   },
   "outputs": [
    {
     "data": {
      "text/plain": [
       "808117"
      ]
     },
     "execution_count": 219,
     "metadata": {},
     "output_type": "execute_result"
    }
   ],
   "source": [
    "np.argmax(abc)"
   ]
  },
  {
   "cell_type": "code",
   "execution_count": 225,
   "id": "99e3fabf-f679-4c45-85fb-9a39c647029f",
   "metadata": {
    "execution": {
     "iopub.execute_input": "2022-10-14T22:36:34.120133Z",
     "iopub.status.busy": "2022-10-14T22:36:34.119739Z",
     "iopub.status.idle": "2022-10-14T22:36:34.124270Z",
     "shell.execute_reply": "2022-10-14T22:36:34.123725Z",
     "shell.execute_reply.started": "2022-10-14T22:36:34.120108Z"
    },
    "tags": []
   },
   "outputs": [
    {
     "data": {
      "text/plain": [
       "3008740"
      ]
     },
     "execution_count": 225,
     "metadata": {},
     "output_type": "execute_result"
    }
   ],
   "source": [
    "len(abc)"
   ]
  },
  {
   "cell_type": "code",
   "execution_count": 239,
   "id": "5cd8a018-dbd2-47da-87fc-e8f08e0c7c47",
   "metadata": {
    "execution": {
     "iopub.execute_input": "2022-10-14T22:44:03.989923Z",
     "iopub.status.busy": "2022-10-14T22:44:03.989536Z",
     "iopub.status.idle": "2022-10-14T22:44:04.016692Z",
     "shell.execute_reply": "2022-10-14T22:44:04.016093Z",
     "shell.execute_reply.started": "2022-10-14T22:44:03.989899Z"
    }
   },
   "outputs": [
    {
     "data": {
      "text/plain": [
       "array([16483, 16842, 12938, 10006, 12936, 12940, 12950, 12950, 12939,\n",
       "       12936, 16487, 16574, 16593, 12940, 16617, 12950, 16712, 16744,\n",
       "       16806, 12950])"
      ]
     },
     "execution_count": 239,
     "metadata": {},
     "output_type": "execute_result"
    }
   ],
   "source": [
    "np.argpartition(abc, -20)[-20:] % input_size"
   ]
  },
  {
   "cell_type": "code",
   "execution_count": 263,
   "id": "45063a81-0f65-4e61-a935-9d3f85483f19",
   "metadata": {
    "execution": {
     "iopub.execute_input": "2022-10-14T23:30:06.148519Z",
     "iopub.status.busy": "2022-10-14T23:30:06.148125Z",
     "iopub.status.idle": "2022-10-14T23:30:06.153716Z",
     "shell.execute_reply": "2022-10-14T23:30:06.153153Z",
     "shell.execute_reply.started": "2022-10-14T23:30:06.148491Z"
    }
   },
   "outputs": [
    {
     "data": {
      "text/plain": [
       "'/home/jovyan/kaggle/working'"
      ]
     },
     "execution_count": 263,
     "metadata": {},
     "output_type": "execute_result"
    }
   ],
   "source": [
    "%pwd"
   ]
  },
  {
   "cell_type": "code",
   "execution_count": 264,
   "id": "ac76f265-9ee5-47c9-825b-ad47a08823d6",
   "metadata": {
    "execution": {
     "iopub.execute_input": "2022-10-14T23:30:33.607570Z",
     "iopub.status.busy": "2022-10-14T23:30:33.607164Z",
     "iopub.status.idle": "2022-10-14T23:30:33.614959Z",
     "shell.execute_reply": "2022-10-14T23:30:33.614394Z",
     "shell.execute_reply.started": "2022-10-14T23:30:33.607541Z"
    },
    "tags": []
   },
   "outputs": [
    {
     "name": "stdout",
     "output_type": "stream",
     "text": [
      "/home/jovyan/kaggle/working/sparse\n",
      "/home/jovyan/kaggle/working\n"
     ]
    }
   ],
   "source": [
    "%cd sparse\n",
    "np.savetxt('also_important.csv',also_important, delimiter=\",\")\n",
    "%cd .."
   ]
  },
  {
   "cell_type": "code",
   "execution_count": 261,
   "id": "4a44cc7f-7476-4519-894f-3b3a397dd583",
   "metadata": {
    "execution": {
     "iopub.execute_input": "2022-10-14T23:29:06.154674Z",
     "iopub.status.busy": "2022-10-14T23:29:06.154276Z",
     "iopub.status.idle": "2022-10-14T23:29:06.176210Z",
     "shell.execute_reply": "2022-10-14T23:29:06.175584Z",
     "shell.execute_reply.started": "2022-10-14T23:29:06.154645Z"
    },
    "tags": []
   },
   "outputs": [],
   "source": [
    "also_important = np.argpartition(abc, -20)[-20:] % input_size"
   ]
  },
  {
   "cell_type": "code",
   "execution_count": 245,
   "id": "f382b42f-0437-4e0b-afc8-c63d6b48f8ae",
   "metadata": {
    "execution": {
     "iopub.execute_input": "2022-10-14T22:52:55.078889Z",
     "iopub.status.busy": "2022-10-14T22:52:55.078495Z",
     "iopub.status.idle": "2022-10-14T22:52:55.806550Z",
     "shell.execute_reply": "2022-10-14T22:52:55.805872Z",
     "shell.execute_reply.started": "2022-10-14T22:52:55.078863Z"
    },
    "tags": []
   },
   "outputs": [],
   "source": [
    "X_train_cite = np.hstack([X_train_cite,X_train[:,also_important].toarray()])"
   ]
  },
  {
   "cell_type": "code",
   "execution_count": 246,
   "id": "ddb0e9c2-9344-4bdb-a069-a05ecd25fe6d",
   "metadata": {
    "execution": {
     "iopub.execute_input": "2022-10-14T22:52:57.794098Z",
     "iopub.status.busy": "2022-10-14T22:52:57.793706Z",
     "iopub.status.idle": "2022-10-14T22:55:17.122928Z",
     "shell.execute_reply": "2022-10-14T22:55:17.122289Z",
     "shell.execute_reply.started": "2022-10-14T22:52:57.794074Z"
    },
    "tags": []
   },
   "outputs": [
    {
     "name": "stdout",
     "output_type": "stream",
     "text": [
      "Epoch 1/1000\n",
      "181/181 - 2s - loss: -7.9882e-01 - negative_correlation_loss: -8.2623e-01 - val_loss: -8.4306e-01 - val_negative_correlation_loss: -8.5945e-01 - lr: 0.0100 - 2s/epoch - 14ms/step\n",
      "Epoch 2/1000\n",
      "181/181 - 2s - loss: -8.7758e-01 - negative_correlation_loss: -8.9082e-01 - val_loss: -8.6447e-01 - val_negative_correlation_loss: -8.7549e-01 - lr: 0.0100 - 2s/epoch - 9ms/step\n",
      "Epoch 3/1000\n",
      "181/181 - 2s - loss: -8.8613e-01 - negative_correlation_loss: -8.9561e-01 - val_loss: -8.7339e-01 - val_negative_correlation_loss: -8.8212e-01 - lr: 0.0100 - 2s/epoch - 9ms/step\n",
      "Epoch 4/1000\n",
      "181/181 - 2s - loss: -8.8900e-01 - negative_correlation_loss: -8.9714e-01 - val_loss: -8.7323e-01 - val_negative_correlation_loss: -8.8085e-01 - lr: 0.0100 - 2s/epoch - 9ms/step\n",
      "Epoch 5/1000\n",
      "181/181 - 2s - loss: -8.9029e-01 - negative_correlation_loss: -8.9755e-01 - val_loss: -8.7381e-01 - val_negative_correlation_loss: -8.8048e-01 - lr: 0.0100 - 2s/epoch - 9ms/step\n",
      "Epoch 6/1000\n",
      "181/181 - 2s - loss: -8.9119e-01 - negative_correlation_loss: -8.9778e-01 - val_loss: -8.7491e-01 - val_negative_correlation_loss: -8.8142e-01 - lr: 0.0100 - 2s/epoch - 9ms/step\n",
      "Epoch 7/1000\n",
      "181/181 - 2s - loss: -8.9153e-01 - negative_correlation_loss: -8.9797e-01 - val_loss: -8.7493e-01 - val_negative_correlation_loss: -8.8204e-01 - lr: 0.0100 - 2s/epoch - 9ms/step\n",
      "Epoch 8/1000\n",
      "181/181 - 2s - loss: -8.9087e-01 - negative_correlation_loss: -8.9809e-01 - val_loss: -8.7645e-01 - val_negative_correlation_loss: -8.8296e-01 - lr: 0.0100 - 2s/epoch - 9ms/step\n",
      "Epoch 9/1000\n",
      "181/181 - 2s - loss: -8.9152e-01 - negative_correlation_loss: -8.9824e-01 - val_loss: -8.7815e-01 - val_negative_correlation_loss: -8.8439e-01 - lr: 0.0100 - 2s/epoch - 9ms/step\n",
      "Epoch 10/1000\n",
      "181/181 - 2s - loss: -8.9213e-01 - negative_correlation_loss: -8.9851e-01 - val_loss: -8.7633e-01 - val_negative_correlation_loss: -8.8277e-01 - lr: 0.0100 - 2s/epoch - 9ms/step\n",
      "Epoch 11/1000\n",
      "181/181 - 2s - loss: -8.9257e-01 - negative_correlation_loss: -8.9854e-01 - val_loss: -8.7718e-01 - val_negative_correlation_loss: -8.8275e-01 - lr: 0.0100 - 2s/epoch - 9ms/step\n",
      "Epoch 12/1000\n",
      "181/181 - 2s - loss: -8.9294e-01 - negative_correlation_loss: -8.9846e-01 - val_loss: -8.7923e-01 - val_negative_correlation_loss: -8.8482e-01 - lr: 0.0100 - 2s/epoch - 9ms/step\n",
      "Epoch 13/1000\n",
      "181/181 - 2s - loss: -8.9253e-01 - negative_correlation_loss: -8.9848e-01 - val_loss: -8.7743e-01 - val_negative_correlation_loss: -8.8373e-01 - lr: 0.0100 - 2s/epoch - 9ms/step\n",
      "Epoch 14/1000\n",
      "181/181 - 2s - loss: -8.9262e-01 - negative_correlation_loss: -8.9865e-01 - val_loss: -8.7619e-01 - val_negative_correlation_loss: -8.8173e-01 - lr: 0.0100 - 2s/epoch - 9ms/step\n",
      "Epoch 15/1000\n",
      "181/181 - 2s - loss: -8.9268e-01 - negative_correlation_loss: -8.9854e-01 - val_loss: -8.7554e-01 - val_negative_correlation_loss: -8.8094e-01 - lr: 0.0100 - 2s/epoch - 9ms/step\n",
      "Epoch 16/1000\n",
      "\n",
      "Epoch 16: ReduceLROnPlateau reducing learning rate to 0.004999999888241291.\n",
      "181/181 - 2s - loss: -8.9276e-01 - negative_correlation_loss: -8.9838e-01 - val_loss: -8.7436e-01 - val_negative_correlation_loss: -8.8103e-01 - lr: 0.0100 - 2s/epoch - 9ms/step\n",
      "Epoch 17/1000\n",
      "181/181 - 2s - loss: -8.9550e-01 - negative_correlation_loss: -9.0057e-01 - val_loss: -8.7798e-01 - val_negative_correlation_loss: -8.8232e-01 - lr: 0.0050 - 2s/epoch - 9ms/step\n",
      "Epoch 18/1000\n",
      "181/181 - 2s - loss: -8.9636e-01 - negative_correlation_loss: -9.0062e-01 - val_loss: -8.8183e-01 - val_negative_correlation_loss: -8.8597e-01 - lr: 0.0050 - 2s/epoch - 9ms/step\n",
      "Epoch 19/1000\n",
      "181/181 - 2s - loss: -8.9652e-01 - negative_correlation_loss: -9.0060e-01 - val_loss: -8.7975e-01 - val_negative_correlation_loss: -8.8377e-01 - lr: 0.0050 - 2s/epoch - 9ms/step\n",
      "Epoch 20/1000\n",
      "181/181 - 2s - loss: -8.9663e-01 - negative_correlation_loss: -9.0071e-01 - val_loss: -8.8051e-01 - val_negative_correlation_loss: -8.8447e-01 - lr: 0.0050 - 2s/epoch - 9ms/step\n",
      "Epoch 21/1000\n",
      "181/181 - 2s - loss: -8.9685e-01 - negative_correlation_loss: -9.0085e-01 - val_loss: -8.8167e-01 - val_negative_correlation_loss: -8.8556e-01 - lr: 0.0050 - 2s/epoch - 9ms/step\n",
      "Epoch 22/1000\n",
      "\n",
      "Epoch 22: ReduceLROnPlateau reducing learning rate to 0.0024999999441206455.\n",
      "181/181 - 2s - loss: -8.9669e-01 - negative_correlation_loss: -9.0070e-01 - val_loss: -8.8002e-01 - val_negative_correlation_loss: -8.8398e-01 - lr: 0.0050 - 2s/epoch - 9ms/step\n",
      "Epoch 23/1000\n",
      "181/181 - 2s - loss: -8.9872e-01 - negative_correlation_loss: -9.0232e-01 - val_loss: -8.8215e-01 - val_negative_correlation_loss: -8.8553e-01 - lr: 0.0025 - 2s/epoch - 9ms/step\n",
      "Epoch 24/1000\n",
      "181/181 - 2s - loss: -8.9910e-01 - negative_correlation_loss: -9.0247e-01 - val_loss: -8.8312e-01 - val_negative_correlation_loss: -8.8637e-01 - lr: 0.0025 - 2s/epoch - 9ms/step\n",
      "Epoch 25/1000\n",
      "181/181 - 2s - loss: -8.9918e-01 - negative_correlation_loss: -9.0245e-01 - val_loss: -8.8384e-01 - val_negative_correlation_loss: -8.8702e-01 - lr: 0.0025 - 2s/epoch - 9ms/step\n",
      "Epoch 26/1000\n",
      "181/181 - 2s - loss: -8.9923e-01 - negative_correlation_loss: -9.0243e-01 - val_loss: -8.8284e-01 - val_negative_correlation_loss: -8.8600e-01 - lr: 0.0025 - 2s/epoch - 9ms/step\n",
      "Epoch 27/1000\n",
      "181/181 - 2s - loss: -8.9935e-01 - negative_correlation_loss: -9.0254e-01 - val_loss: -8.8256e-01 - val_negative_correlation_loss: -8.8571e-01 - lr: 0.0025 - 2s/epoch - 9ms/step\n",
      "Epoch 28/1000\n",
      "181/181 - 2s - loss: -8.9941e-01 - negative_correlation_loss: -9.0258e-01 - val_loss: -8.8537e-01 - val_negative_correlation_loss: -8.8847e-01 - lr: 0.0025 - 2s/epoch - 9ms/step\n",
      "Epoch 29/1000\n",
      "181/181 - 2s - loss: -8.9942e-01 - negative_correlation_loss: -9.0258e-01 - val_loss: -8.8413e-01 - val_negative_correlation_loss: -8.8723e-01 - lr: 0.0025 - 2s/epoch - 9ms/step\n",
      "Epoch 30/1000\n",
      "181/181 - 2s - loss: -8.9957e-01 - negative_correlation_loss: -9.0268e-01 - val_loss: -8.8406e-01 - val_negative_correlation_loss: -8.8710e-01 - lr: 0.0025 - 2s/epoch - 9ms/step\n",
      "Epoch 31/1000\n",
      "181/181 - 2s - loss: -8.9960e-01 - negative_correlation_loss: -9.0267e-01 - val_loss: -8.8381e-01 - val_negative_correlation_loss: -8.8687e-01 - lr: 0.0025 - 2s/epoch - 9ms/step\n",
      "Epoch 32/1000\n",
      "\n",
      "Epoch 32: ReduceLROnPlateau reducing learning rate to 0.0012499999720603228.\n",
      "181/181 - 2s - loss: -8.9973e-01 - negative_correlation_loss: -9.0280e-01 - val_loss: -8.8417e-01 - val_negative_correlation_loss: -8.8717e-01 - lr: 0.0025 - 2s/epoch - 9ms/step\n",
      "Epoch 33/1000\n",
      "181/181 - 2s - loss: -9.0100e-01 - negative_correlation_loss: -9.0391e-01 - val_loss: -8.8472e-01 - val_negative_correlation_loss: -8.8750e-01 - lr: 0.0012 - 2s/epoch - 9ms/step\n",
      "Epoch 34/1000\n",
      "181/181 - 2s - loss: -9.0126e-01 - negative_correlation_loss: -9.0401e-01 - val_loss: -8.8524e-01 - val_negative_correlation_loss: -8.8793e-01 - lr: 0.0012 - 2s/epoch - 9ms/step\n",
      "Epoch 35/1000\n",
      "181/181 - 2s - loss: -9.0118e-01 - negative_correlation_loss: -9.0389e-01 - val_loss: -8.8553e-01 - val_negative_correlation_loss: -8.8819e-01 - lr: 0.0012 - 2s/epoch - 9ms/step\n",
      "Epoch 36/1000\n",
      "181/181 - 2s - loss: -9.0128e-01 - negative_correlation_loss: -9.0392e-01 - val_loss: -8.8495e-01 - val_negative_correlation_loss: -8.8757e-01 - lr: 0.0012 - 2s/epoch - 9ms/step\n",
      "Epoch 37/1000\n",
      "181/181 - 2s - loss: -9.0144e-01 - negative_correlation_loss: -9.0409e-01 - val_loss: -8.8433e-01 - val_negative_correlation_loss: -8.8693e-01 - lr: 0.0012 - 2s/epoch - 9ms/step\n",
      "Epoch 38/1000\n",
      "181/181 - 2s - loss: -9.0143e-01 - negative_correlation_loss: -9.0410e-01 - val_loss: -8.8571e-01 - val_negative_correlation_loss: -8.8829e-01 - lr: 0.0012 - 2s/epoch - 9ms/step\n",
      "Epoch 39/1000\n",
      "181/181 - 2s - loss: -9.0153e-01 - negative_correlation_loss: -9.0416e-01 - val_loss: -8.8585e-01 - val_negative_correlation_loss: -8.8841e-01 - lr: 0.0012 - 2s/epoch - 9ms/step\n",
      "Epoch 40/1000\n",
      "181/181 - 2s - loss: -9.0160e-01 - negative_correlation_loss: -9.0419e-01 - val_loss: -8.8590e-01 - val_negative_correlation_loss: -8.8844e-01 - lr: 0.0012 - 2s/epoch - 9ms/step\n",
      "Epoch 41/1000\n",
      "181/181 - 2s - loss: -9.0153e-01 - negative_correlation_loss: -9.0414e-01 - val_loss: -8.8531e-01 - val_negative_correlation_loss: -8.8783e-01 - lr: 0.0012 - 2s/epoch - 9ms/step\n",
      "Epoch 42/1000\n",
      "181/181 - 2s - loss: -9.0166e-01 - negative_correlation_loss: -9.0420e-01 - val_loss: -8.8498e-01 - val_negative_correlation_loss: -8.8749e-01 - lr: 0.0012 - 2s/epoch - 9ms/step\n",
      "Epoch 43/1000\n",
      "\n",
      "Epoch 43: ReduceLROnPlateau reducing learning rate to 0.0006249999860301614.\n",
      "181/181 - 2s - loss: -9.0162e-01 - negative_correlation_loss: -9.0418e-01 - val_loss: -8.8550e-01 - val_negative_correlation_loss: -8.8801e-01 - lr: 0.0012 - 2s/epoch - 9ms/step\n",
      "Epoch 44/1000\n",
      "181/181 - 2s - loss: -9.0255e-01 - negative_correlation_loss: -9.0500e-01 - val_loss: -8.8619e-01 - val_negative_correlation_loss: -8.8862e-01 - lr: 6.2500e-04 - 2s/epoch - 9ms/step\n",
      "Epoch 45/1000\n",
      "181/181 - 2s - loss: -9.0267e-01 - negative_correlation_loss: -9.0505e-01 - val_loss: -8.8674e-01 - val_negative_correlation_loss: -8.8912e-01 - lr: 6.2500e-04 - 2s/epoch - 9ms/step\n",
      "Epoch 46/1000\n",
      "181/181 - 2s - loss: -9.0277e-01 - negative_correlation_loss: -9.0514e-01 - val_loss: -8.8669e-01 - val_negative_correlation_loss: -8.8903e-01 - lr: 6.2500e-04 - 2s/epoch - 9ms/step\n",
      "Epoch 47/1000\n",
      "181/181 - 2s - loss: -9.0280e-01 - negative_correlation_loss: -9.0514e-01 - val_loss: -8.8664e-01 - val_negative_correlation_loss: -8.8896e-01 - lr: 6.2500e-04 - 2s/epoch - 9ms/step\n",
      "Epoch 48/1000\n",
      "181/181 - 2s - loss: -9.0281e-01 - negative_correlation_loss: -9.0511e-01 - val_loss: -8.8611e-01 - val_negative_correlation_loss: -8.8840e-01 - lr: 6.2500e-04 - 2s/epoch - 9ms/step\n",
      "Epoch 49/1000\n",
      "181/181 - 2s - loss: -9.0283e-01 - negative_correlation_loss: -9.0513e-01 - val_loss: -8.8702e-01 - val_negative_correlation_loss: -8.8929e-01 - lr: 6.2500e-04 - 2s/epoch - 9ms/step\n",
      "Epoch 50/1000\n",
      "181/181 - 2s - loss: -9.0292e-01 - negative_correlation_loss: -9.0522e-01 - val_loss: -8.8662e-01 - val_negative_correlation_loss: -8.8889e-01 - lr: 6.2500e-04 - 2s/epoch - 9ms/step\n",
      "Epoch 51/1000\n",
      "181/181 - 2s - loss: -9.0294e-01 - negative_correlation_loss: -9.0517e-01 - val_loss: -8.8697e-01 - val_negative_correlation_loss: -8.8922e-01 - lr: 6.2500e-04 - 2s/epoch - 9ms/step\n",
      "Epoch 52/1000\n",
      "181/181 - 2s - loss: -9.0295e-01 - negative_correlation_loss: -9.0522e-01 - val_loss: -8.8694e-01 - val_negative_correlation_loss: -8.8918e-01 - lr: 6.2500e-04 - 2s/epoch - 9ms/step\n",
      "Epoch 53/1000\n",
      "\n",
      "Epoch 53: ReduceLROnPlateau reducing learning rate to 0.0003124999930150807.\n",
      "181/181 - 2s - loss: -9.0298e-01 - negative_correlation_loss: -9.0522e-01 - val_loss: -8.8707e-01 - val_negative_correlation_loss: -8.8929e-01 - lr: 6.2500e-04 - 2s/epoch - 9ms/step\n",
      "Epoch 54/1000\n",
      "181/181 - 2s - loss: -9.0356e-01 - negative_correlation_loss: -9.0580e-01 - val_loss: -8.8693e-01 - val_negative_correlation_loss: -8.8912e-01 - lr: 3.1250e-04 - 2s/epoch - 9ms/step\n",
      "Epoch 55/1000\n",
      "181/181 - 2s - loss: -9.0363e-01 - negative_correlation_loss: -9.0585e-01 - val_loss: -8.8679e-01 - val_negative_correlation_loss: -8.8897e-01 - lr: 3.1250e-04 - 2s/epoch - 9ms/step\n",
      "Epoch 56/1000\n",
      "181/181 - 2s - loss: -9.0368e-01 - negative_correlation_loss: -9.0587e-01 - val_loss: -8.8740e-01 - val_negative_correlation_loss: -8.8956e-01 - lr: 3.1250e-04 - 2s/epoch - 9ms/step\n",
      "Epoch 57/1000\n",
      "181/181 - 2s - loss: -9.0370e-01 - negative_correlation_loss: -9.0586e-01 - val_loss: -8.8738e-01 - val_negative_correlation_loss: -8.8952e-01 - lr: 3.1250e-04 - 2s/epoch - 9ms/step\n",
      "Epoch 58/1000\n",
      "181/181 - 2s - loss: -9.0372e-01 - negative_correlation_loss: -9.0586e-01 - val_loss: -8.8761e-01 - val_negative_correlation_loss: -8.8973e-01 - lr: 3.1250e-04 - 2s/epoch - 9ms/step\n",
      "Epoch 59/1000\n",
      "181/181 - 2s - loss: -9.0376e-01 - negative_correlation_loss: -9.0591e-01 - val_loss: -8.8750e-01 - val_negative_correlation_loss: -8.8961e-01 - lr: 3.1250e-04 - 2s/epoch - 9ms/step\n",
      "Epoch 60/1000\n",
      "181/181 - 2s - loss: -9.0374e-01 - negative_correlation_loss: -9.0587e-01 - val_loss: -8.8706e-01 - val_negative_correlation_loss: -8.8916e-01 - lr: 3.1250e-04 - 2s/epoch - 9ms/step\n",
      "Epoch 61/1000\n",
      "181/181 - 2s - loss: -9.0381e-01 - negative_correlation_loss: -9.0592e-01 - val_loss: -8.8740e-01 - val_negative_correlation_loss: -8.8949e-01 - lr: 3.1250e-04 - 2s/epoch - 9ms/step\n",
      "Epoch 62/1000\n",
      "\n",
      "Epoch 62: ReduceLROnPlateau reducing learning rate to 0.00015624999650754035.\n",
      "181/181 - 2s - loss: -9.0382e-01 - negative_correlation_loss: -9.0593e-01 - val_loss: -8.8691e-01 - val_negative_correlation_loss: -8.8899e-01 - lr: 3.1250e-04 - 2s/epoch - 9ms/step\n",
      "Epoch 63/1000\n",
      "181/181 - 2s - loss: -9.0417e-01 - negative_correlation_loss: -9.0628e-01 - val_loss: -8.8781e-01 - val_negative_correlation_loss: -8.8988e-01 - lr: 1.5625e-04 - 2s/epoch - 9ms/step\n",
      "Epoch 64/1000\n",
      "181/181 - 2s - loss: -9.0420e-01 - negative_correlation_loss: -9.0628e-01 - val_loss: -8.8755e-01 - val_negative_correlation_loss: -8.8960e-01 - lr: 1.5625e-04 - 2s/epoch - 9ms/step\n",
      "Epoch 65/1000\n",
      "181/181 - 2s - loss: -9.0423e-01 - negative_correlation_loss: -9.0631e-01 - val_loss: -8.8701e-01 - val_negative_correlation_loss: -8.8905e-01 - lr: 1.5625e-04 - 2s/epoch - 9ms/step\n",
      "Epoch 66/1000\n",
      "181/181 - 2s - loss: -9.0422e-01 - negative_correlation_loss: -9.0628e-01 - val_loss: -8.8776e-01 - val_negative_correlation_loss: -8.8980e-01 - lr: 1.5625e-04 - 2s/epoch - 9ms/step\n",
      "Epoch 67/1000\n",
      "\n",
      "Epoch 67: ReduceLROnPlateau reducing learning rate to 7.812499825377017e-05.\n",
      "181/181 - 2s - loss: -9.0426e-01 - negative_correlation_loss: -9.0632e-01 - val_loss: -8.8771e-01 - val_negative_correlation_loss: -8.8974e-01 - lr: 1.5625e-04 - 2s/epoch - 9ms/step\n",
      "Epoch 68/1000\n",
      "181/181 - 2s - loss: -9.0444e-01 - negative_correlation_loss: -9.0647e-01 - val_loss: -8.8760e-01 - val_negative_correlation_loss: -8.8962e-01 - lr: 7.8125e-05 - 2s/epoch - 9ms/step\n",
      "Epoch 69/1000\n",
      "181/181 - 2s - loss: -9.0447e-01 - negative_correlation_loss: -9.0650e-01 - val_loss: -8.8771e-01 - val_negative_correlation_loss: -8.8973e-01 - lr: 7.8125e-05 - 2s/epoch - 9ms/step\n",
      "Epoch 70/1000\n",
      "181/181 - 2s - loss: -9.0449e-01 - negative_correlation_loss: -9.0651e-01 - val_loss: -8.8779e-01 - val_negative_correlation_loss: -8.8980e-01 - lr: 7.8125e-05 - 2s/epoch - 9ms/step\n",
      "Epoch 71/1000\n",
      "\n",
      "Epoch 71: ReduceLROnPlateau reducing learning rate to 3.9062499126885086e-05.\n",
      "181/181 - 2s - loss: -9.0449e-01 - negative_correlation_loss: -9.0649e-01 - val_loss: -8.8755e-01 - val_negative_correlation_loss: -8.8955e-01 - lr: 7.8125e-05 - 2s/epoch - 9ms/step\n",
      "Epoch 72/1000\n",
      "181/181 - 2s - loss: -9.0459e-01 - negative_correlation_loss: -9.0659e-01 - val_loss: -8.8771e-01 - val_negative_correlation_loss: -8.8971e-01 - lr: 3.9062e-05 - 2s/epoch - 9ms/step\n",
      "Epoch 73/1000\n",
      "181/181 - 2s - loss: -9.0461e-01 - negative_correlation_loss: -9.0659e-01 - val_loss: -8.8782e-01 - val_negative_correlation_loss: -8.8982e-01 - lr: 3.9062e-05 - 2s/epoch - 9ms/step\n",
      "Epoch 74/1000\n",
      "181/181 - 2s - loss: -9.0461e-01 - negative_correlation_loss: -9.0665e-01 - val_loss: -8.8762e-01 - val_negative_correlation_loss: -8.8961e-01 - lr: 3.9062e-05 - 2s/epoch - 9ms/step\n",
      "Epoch 75/1000\n",
      "\n",
      "Epoch 75: ReduceLROnPlateau reducing learning rate to 1.9531249563442543e-05.\n",
      "181/181 - 2s - loss: -9.0462e-01 - negative_correlation_loss: -9.0662e-01 - val_loss: -8.8763e-01 - val_negative_correlation_loss: -8.8962e-01 - lr: 3.9062e-05 - 2s/epoch - 9ms/step\n",
      "Epoch 76/1000\n",
      "181/181 - 2s - loss: -9.0468e-01 - negative_correlation_loss: -9.0670e-01 - val_loss: -8.8764e-01 - val_negative_correlation_loss: -8.8963e-01 - lr: 1.9531e-05 - 2s/epoch - 9ms/step\n",
      "Epoch 77/1000\n",
      "181/181 - 2s - loss: -9.0469e-01 - negative_correlation_loss: -9.0670e-01 - val_loss: -8.8777e-01 - val_negative_correlation_loss: -8.8977e-01 - lr: 1.9531e-05 - 2s/epoch - 9ms/step\n",
      "Epoch 78/1000\n",
      "181/181 - 2s - loss: -9.0469e-01 - negative_correlation_loss: -9.0673e-01 - val_loss: -8.8773e-01 - val_negative_correlation_loss: -8.8972e-01 - lr: 1.9531e-05 - 2s/epoch - 9ms/step\n",
      "Epoch 79/1000\n",
      "\n",
      "Epoch 79: ReduceLROnPlateau reducing learning rate to 9.765624781721272e-06.\n",
      "181/181 - 2s - loss: -9.0470e-01 - negative_correlation_loss: -9.0671e-01 - val_loss: -8.8777e-01 - val_negative_correlation_loss: -8.8976e-01 - lr: 1.9531e-05 - 2s/epoch - 9ms/step\n",
      "Epoch 80/1000\n",
      "181/181 - 2s - loss: -9.0473e-01 - negative_correlation_loss: -9.0675e-01 - val_loss: -8.8779e-01 - val_negative_correlation_loss: -8.8978e-01 - lr: 9.7656e-06 - 2s/epoch - 9ms/step\n",
      "Epoch 81/1000\n",
      "181/181 - 2s - loss: -9.0473e-01 - negative_correlation_loss: -9.0673e-01 - val_loss: -8.8772e-01 - val_negative_correlation_loss: -8.8971e-01 - lr: 9.7656e-06 - 2s/epoch - 9ms/step\n",
      "Epoch 82/1000\n",
      "181/181 - 2s - loss: -9.0473e-01 - negative_correlation_loss: -9.0672e-01 - val_loss: -8.8774e-01 - val_negative_correlation_loss: -8.8973e-01 - lr: 9.7656e-06 - 2s/epoch - 9ms/step\n",
      "Epoch 83/1000\n",
      "\n",
      "Epoch 83: ReduceLROnPlateau reducing learning rate to 4.882812390860636e-06.\n",
      "181/181 - 2s - loss: -9.0473e-01 - negative_correlation_loss: -9.0674e-01 - val_loss: -8.8780e-01 - val_negative_correlation_loss: -8.8979e-01 - lr: 9.7656e-06 - 2s/epoch - 9ms/step\n",
      "Epoch 84/1000\n",
      "181/181 - 2s - loss: -9.0475e-01 - negative_correlation_loss: -9.0674e-01 - val_loss: -8.8774e-01 - val_negative_correlation_loss: -8.8973e-01 - lr: 4.8828e-06 - 2s/epoch - 9ms/step\n",
      "Epoch 85/1000\n",
      "181/181 - 2s - loss: -9.0475e-01 - negative_correlation_loss: -9.0672e-01 - val_loss: -8.8772e-01 - val_negative_correlation_loss: -8.8970e-01 - lr: 4.8828e-06 - 2s/epoch - 9ms/step\n",
      "1/1 [==============================] - 0s 105ms/step\n",
      "Fold 0:  84 epochs, corr =  0.88984\n"
     ]
    }
   ],
   "source": [
    "LR_START = 0.01\n",
    "BATCH_SIZE = 256\n",
    "reg1 = 8e-5\n",
    "reg2 = 2e-5\n",
    "model_cite = fit(X_train_cite,cite_targets,meta)"
   ]
  },
  {
   "cell_type": "code",
   "execution_count": 251,
   "id": "df40bccb-23d7-4da0-95b1-01fa6dc2e929",
   "metadata": {
    "execution": {
     "iopub.execute_input": "2022-10-14T23:11:42.927164Z",
     "iopub.status.busy": "2022-10-14T23:11:42.926743Z",
     "iopub.status.idle": "2022-10-14T23:11:42.933179Z",
     "shell.execute_reply": "2022-10-14T23:11:42.932611Z",
     "shell.execute_reply.started": "2022-10-14T23:11:42.927133Z"
    }
   },
   "outputs": [
    {
     "data": {
      "text/plain": [
       "'/home/jovyan/kaggle/working'"
      ]
     },
     "execution_count": 251,
     "metadata": {},
     "output_type": "execute_result"
    }
   ],
   "source": [
    "%pwd"
   ]
  },
  {
   "cell_type": "code",
   "execution_count": 252,
   "id": "7feb4f26-ea77-4bdb-a7e7-ff74c4d0c19a",
   "metadata": {
    "execution": {
     "iopub.execute_input": "2022-10-14T23:11:56.295398Z",
     "iopub.status.busy": "2022-10-14T23:11:56.294995Z",
     "iopub.status.idle": "2022-10-14T23:12:10.699170Z",
     "shell.execute_reply": "2022-10-14T23:12:10.698341Z",
     "shell.execute_reply.started": "2022-10-14T23:11:56.295373Z"
    },
    "tags": []
   },
   "outputs": [
    {
     "name": "stdout",
     "output_type": "stream",
     "text": [
      "/home/jovyan/kaggle/working/dropout\n",
      "Output file downloaded to /home/jovyan/kaggle/working/dropout/model.png\n",
      "Output file downloaded to /home/jovyan/kaggle/working/dropout/submission.csv\n",
      "Kernel log downloaded to /home/jovyan/kaggle/working/dropout/msci-citeseq-keras-quickstart-dropout.log \n",
      "/home/jovyan/kaggle/working\n"
     ]
    }
   ],
   "source": [
    "os.environ['KAGGLE_USERNAME'] = 'alexroberts'\n",
    "os.environ['KAGGLE_KEY'] = 'eef5d3edec2428c7d4f14efcdb3f13ca'\n",
    "%mkdir dropout\n",
    "%cd dropout\n",
    "!kaggle kernels output sskknt/msci-citeseq-keras-quickstart-dropout\n",
    "%cd .."
   ]
  },
  {
   "cell_type": "code",
   "execution_count": 253,
   "id": "a4318641-a777-4e6a-afd8-fa85ecd1aec2",
   "metadata": {
    "execution": {
     "iopub.execute_input": "2022-10-14T23:13:35.601231Z",
     "iopub.status.busy": "2022-10-14T23:13:35.600799Z",
     "iopub.status.idle": "2022-10-14T23:16:14.612181Z",
     "shell.execute_reply": "2022-10-14T23:16:14.611502Z",
     "shell.execute_reply.started": "2022-10-14T23:13:35.601200Z"
    },
    "tags": []
   },
   "outputs": [],
   "source": [
    "submission_dropout = np.genfromtxt(\"./dropout/submission.csv\", delimiter=',')"
   ]
  },
  {
   "cell_type": "code",
   "execution_count": null,
   "id": "e1576115-5094-46ed-9eb9-f2099680296c",
   "metadata": {},
   "outputs": [],
   "source": [
    "submission_dropout"
   ]
  },
  {
   "cell_type": "code",
   "execution_count": 356,
   "id": "62e581e4-2dc3-4f3a-a346-f00ea8764503",
   "metadata": {
    "execution": {
     "iopub.execute_input": "2022-10-15T00:41:16.325461Z",
     "iopub.status.busy": "2022-10-15T00:41:16.324845Z",
     "iopub.status.idle": "2022-10-15T00:41:16.333884Z",
     "shell.execute_reply": "2022-10-15T00:41:16.333325Z",
     "shell.execute_reply.started": "2022-10-15T00:41:16.325436Z"
    },
    "tags": []
   },
   "outputs": [],
   "source": [
    "LR_START = 0.01\n",
    "BATCH_SIZE = 256\n",
    "\n",
    "def my_model(hp,n_inputs,n_outputs, reg1, reg2,loss):\n",
    "    \"\"\"Sequential neural network\n",
    "    \n",
    "    Returns a compiled instance of tensorflow.keras.models.Model.\n",
    "    \"\"\"\n",
    "    activation = 'swish'\n",
    "    reg1 = hp.Float(\"reg1\", min_value=1e-8, max_value=1e-4, sampling=\"log\")\n",
    "    reg2 = hp.Float(\"reg2\", min_value=1e-10, max_value=1e-5, sampling=\"log\")\n",
    "    \n",
    "    inputs = Input(shape=(n_inputs, ))\n",
    "    x0 = Dense(hp.Int('units1', min_value=256, max_value=384, step=64), kernel_regularizer=tf.keras.regularizers.l2(reg1),\n",
    "              activation=activation,\n",
    "             )(inputs)\n",
    "    do1 = Dropout(hp.Choice('do1', [0.1]))(x0)\n",
    "    x1 = Dense(hp.Int('units2', min_value=256, max_value=384, step=64), kernel_regularizer=tf.keras.regularizers.l2(reg1),\n",
    "              activation=activation,\n",
    "             )(do1)\n",
    "    do2 = Dropout(hp.Choice('do2', [0.1]))(x1)\n",
    "    x2 = Dense(hp.Int('units3', min_value=256, max_value=384, step=64), kernel_regularizer=tf.keras.regularizers.l2(reg1),\n",
    "              activation=activation,\n",
    "             )(do2)\n",
    "    do3 = Dropout(hp.Choice('do3', [0.1]))(x2)\n",
    "    x3 = Dense(hp.Int('units4', min_value=64, max_value=320, step=64), kernel_regularizer=tf.keras.regularizers.l2(reg1),\n",
    "              activation=activation,\n",
    "             )(do3)\n",
    "    do4 = Dropout(hp.Choice('do4', [0.1]))(x3)\n",
    "    x = Concatenate()([x0, x1, x2, x3])\n",
    "    do5 = Dropout(hp.Choice('do5', [0.1]))(x)\n",
    "    x = Dense(n_outputs, kernel_regularizer=tf.keras.regularizers.l2(reg2),\n",
    "              #activation=activation,\n",
    "             )(do5)\n",
    "    regressor = Model(inputs, x)\n",
    "    regressor.compile(optimizer=tf.keras.optimizers.Adam(learning_rate=hp.Float('lr', min_value=0.008, max_value=0.012, step=0.001)),\n",
    "                      metrics=[negative_correlation_loss],\n",
    "                      loss=negative_correlation_loss\n",
    "                     )\n",
    "    \n",
    "    return regressor"
   ]
  },
  {
   "cell_type": "code",
   "execution_count": 258,
   "id": "4a4e40d8-d20f-4983-92a1-8c80813f4464",
   "metadata": {
    "execution": {
     "iopub.execute_input": "2022-10-14T23:23:47.529803Z",
     "iopub.status.busy": "2022-10-14T23:23:47.529388Z",
     "iopub.status.idle": "2022-10-14T23:23:50.858729Z",
     "shell.execute_reply": "2022-10-14T23:23:50.857883Z",
     "shell.execute_reply.started": "2022-10-14T23:23:47.529778Z"
    }
   },
   "outputs": [
    {
     "name": "stdout",
     "output_type": "stream",
     "text": [
      "Collecting keras_tuner\n",
      "  Downloading keras_tuner-1.1.3-py3-none-any.whl (135 kB)\n",
      "\u001b[2K     \u001b[90m━━━━━━━━━━━━━━━━━━━━━━━━━━━━━━━━━━━━━━━\u001b[0m \u001b[32m135.7/135.7 kB\u001b[0m \u001b[31m4.2 MB/s\u001b[0m eta \u001b[36m0:00:00\u001b[0m\n",
      "\u001b[?25hRequirement already satisfied: ipython in /opt/saturncloud/envs/saturn/lib/python3.9/site-packages (from keras_tuner) (8.4.0)\n",
      "Requirement already satisfied: requests in /opt/saturncloud/envs/saturn/lib/python3.9/site-packages (from keras_tuner) (2.28.1)\n",
      "Requirement already satisfied: tensorboard in /opt/saturncloud/envs/saturn/lib/python3.9/site-packages (from keras_tuner) (2.10.1)\n",
      "Collecting kt-legacy\n",
      "  Downloading kt_legacy-1.0.4-py3-none-any.whl (9.6 kB)\n",
      "Requirement already satisfied: packaging in /opt/saturncloud/envs/saturn/lib/python3.9/site-packages (from keras_tuner) (21.3)\n",
      "Requirement already satisfied: numpy in /opt/saturncloud/envs/saturn/lib/python3.9/site-packages (from keras_tuner) (1.21.6)\n",
      "Requirement already satisfied: pygments>=2.4.0 in /opt/saturncloud/envs/saturn/lib/python3.9/site-packages (from ipython->keras_tuner) (2.12.0)\n",
      "Requirement already satisfied: pickleshare in /opt/saturncloud/envs/saturn/lib/python3.9/site-packages (from ipython->keras_tuner) (0.7.5)\n",
      "Requirement already satisfied: prompt-toolkit!=3.0.0,!=3.0.1,<3.1.0,>=2.0.0 in /opt/saturncloud/envs/saturn/lib/python3.9/site-packages (from ipython->keras_tuner) (3.0.30)\n",
      "Requirement already satisfied: decorator in /opt/saturncloud/envs/saturn/lib/python3.9/site-packages (from ipython->keras_tuner) (5.1.1)\n",
      "Requirement already satisfied: stack-data in /opt/saturncloud/envs/saturn/lib/python3.9/site-packages (from ipython->keras_tuner) (0.3.0)\n",
      "Requirement already satisfied: setuptools>=18.5 in /opt/saturncloud/envs/saturn/lib/python3.9/site-packages (from ipython->keras_tuner) (59.8.0)\n",
      "Requirement already satisfied: backcall in /opt/saturncloud/envs/saturn/lib/python3.9/site-packages (from ipython->keras_tuner) (0.2.0)\n",
      "Requirement already satisfied: jedi>=0.16 in /opt/saturncloud/envs/saturn/lib/python3.9/site-packages (from ipython->keras_tuner) (0.18.1)\n",
      "Requirement already satisfied: matplotlib-inline in /opt/saturncloud/envs/saturn/lib/python3.9/site-packages (from ipython->keras_tuner) (0.1.3)\n",
      "Requirement already satisfied: pexpect>4.3 in /opt/saturncloud/envs/saturn/lib/python3.9/site-packages (from ipython->keras_tuner) (4.8.0)\n",
      "Requirement already satisfied: traitlets>=5 in /opt/saturncloud/envs/saturn/lib/python3.9/site-packages (from ipython->keras_tuner) (5.3.0)\n",
      "Requirement already satisfied: pyparsing!=3.0.5,>=2.0.2 in /opt/saturncloud/envs/saturn/lib/python3.9/site-packages (from packaging->keras_tuner) (3.0.9)\n",
      "Requirement already satisfied: urllib3<1.27,>=1.21.1 in /opt/saturncloud/envs/saturn/lib/python3.9/site-packages (from requests->keras_tuner) (1.26.11)\n",
      "Requirement already satisfied: idna<4,>=2.5 in /opt/saturncloud/envs/saturn/lib/python3.9/site-packages (from requests->keras_tuner) (3.3)\n",
      "Requirement already satisfied: charset-normalizer<3,>=2 in /opt/saturncloud/envs/saturn/lib/python3.9/site-packages (from requests->keras_tuner) (2.0.12)\n",
      "Requirement already satisfied: certifi>=2017.4.17 in /opt/saturncloud/envs/saturn/lib/python3.9/site-packages (from requests->keras_tuner) (2022.6.15)\n",
      "Requirement already satisfied: tensorboard-data-server<0.7.0,>=0.6.0 in /opt/saturncloud/envs/saturn/lib/python3.9/site-packages (from tensorboard->keras_tuner) (0.6.0)\n",
      "Requirement already satisfied: google-auth-oauthlib<0.5,>=0.4.1 in /opt/saturncloud/envs/saturn/lib/python3.9/site-packages (from tensorboard->keras_tuner) (0.4.6)\n",
      "Requirement already satisfied: markdown>=2.6.8 in /opt/saturncloud/envs/saturn/lib/python3.9/site-packages (from tensorboard->keras_tuner) (3.4.1)\n",
      "Requirement already satisfied: werkzeug>=1.0.1 in /opt/saturncloud/envs/saturn/lib/python3.9/site-packages (from tensorboard->keras_tuner) (2.2.0)\n",
      "Requirement already satisfied: grpcio>=1.24.3 in /opt/saturncloud/envs/saturn/lib/python3.9/site-packages (from tensorboard->keras_tuner) (1.46.3)\n",
      "Requirement already satisfied: google-auth<3,>=1.6.3 in /opt/saturncloud/envs/saturn/lib/python3.9/site-packages (from tensorboard->keras_tuner) (2.9.1)\n",
      "Requirement already satisfied: protobuf<3.20,>=3.9.2 in /opt/saturncloud/envs/saturn/lib/python3.9/site-packages (from tensorboard->keras_tuner) (3.19.6)\n",
      "Requirement already satisfied: wheel>=0.26 in /opt/saturncloud/envs/saturn/lib/python3.9/site-packages (from tensorboard->keras_tuner) (0.37.1)\n",
      "Requirement already satisfied: absl-py>=0.4 in /opt/saturncloud/envs/saturn/lib/python3.9/site-packages (from tensorboard->keras_tuner) (1.2.0)\n",
      "Requirement already satisfied: tensorboard-plugin-wit>=1.6.0 in /opt/saturncloud/envs/saturn/lib/python3.9/site-packages (from tensorboard->keras_tuner) (1.8.1)\n",
      "Requirement already satisfied: six>=1.9.0 in /opt/saturncloud/envs/saturn/lib/python3.9/site-packages (from google-auth<3,>=1.6.3->tensorboard->keras_tuner) (1.16.0)\n",
      "Requirement already satisfied: cachetools<6.0,>=2.0.0 in /opt/saturncloud/envs/saturn/lib/python3.9/site-packages (from google-auth<3,>=1.6.3->tensorboard->keras_tuner) (5.0.0)\n",
      "Requirement already satisfied: rsa<5,>=3.1.4 in /opt/saturncloud/envs/saturn/lib/python3.9/site-packages (from google-auth<3,>=1.6.3->tensorboard->keras_tuner) (4.9)\n",
      "Requirement already satisfied: pyasn1-modules>=0.2.1 in /opt/saturncloud/envs/saturn/lib/python3.9/site-packages (from google-auth<3,>=1.6.3->tensorboard->keras_tuner) (0.2.7)\n",
      "Requirement already satisfied: requests-oauthlib>=0.7.0 in /opt/saturncloud/envs/saturn/lib/python3.9/site-packages (from google-auth-oauthlib<0.5,>=0.4.1->tensorboard->keras_tuner) (1.3.1)\n",
      "Requirement already satisfied: parso<0.9.0,>=0.8.0 in /opt/saturncloud/envs/saturn/lib/python3.9/site-packages (from jedi>=0.16->ipython->keras_tuner) (0.8.3)\n",
      "Requirement already satisfied: importlib-metadata>=4.4 in /opt/saturncloud/envs/saturn/lib/python3.9/site-packages (from markdown>=2.6.8->tensorboard->keras_tuner) (4.11.4)\n",
      "Requirement already satisfied: ptyprocess>=0.5 in /opt/saturncloud/envs/saturn/lib/python3.9/site-packages (from pexpect>4.3->ipython->keras_tuner) (0.7.0)\n",
      "Requirement already satisfied: wcwidth in /opt/saturncloud/envs/saturn/lib/python3.9/site-packages (from prompt-toolkit!=3.0.0,!=3.0.1,<3.1.0,>=2.0.0->ipython->keras_tuner) (0.2.5)\n",
      "Requirement already satisfied: MarkupSafe>=2.1.1 in /opt/saturncloud/envs/saturn/lib/python3.9/site-packages (from werkzeug>=1.0.1->tensorboard->keras_tuner) (2.1.1)\n",
      "Requirement already satisfied: executing in /opt/saturncloud/envs/saturn/lib/python3.9/site-packages (from stack-data->ipython->keras_tuner) (0.9.1)\n",
      "Requirement already satisfied: pure-eval in /opt/saturncloud/envs/saturn/lib/python3.9/site-packages (from stack-data->ipython->keras_tuner) (0.2.2)\n",
      "Requirement already satisfied: asttokens in /opt/saturncloud/envs/saturn/lib/python3.9/site-packages (from stack-data->ipython->keras_tuner) (2.0.5)\n",
      "Requirement already satisfied: zipp>=0.5 in /opt/saturncloud/envs/saturn/lib/python3.9/site-packages (from importlib-metadata>=4.4->markdown>=2.6.8->tensorboard->keras_tuner) (3.8.0)\n",
      "Requirement already satisfied: pyasn1<0.5.0,>=0.4.6 in /opt/saturncloud/envs/saturn/lib/python3.9/site-packages (from pyasn1-modules>=0.2.1->google-auth<3,>=1.6.3->tensorboard->keras_tuner) (0.4.8)\n",
      "Requirement already satisfied: oauthlib>=3.0.0 in /opt/saturncloud/envs/saturn/lib/python3.9/site-packages (from requests-oauthlib>=0.7.0->google-auth-oauthlib<0.5,>=0.4.1->tensorboard->keras_tuner) (3.2.0)\n",
      "Installing collected packages: kt-legacy, keras_tuner\n",
      "Successfully installed keras_tuner-1.1.3 kt-legacy-1.0.4\n"
     ]
    }
   ],
   "source": [
    "!pip install keras_tuner"
   ]
  },
  {
   "cell_type": "code",
   "execution_count": 292,
   "id": "a02e4443-43d0-44d5-a0ec-375ef20e0d8e",
   "metadata": {
    "execution": {
     "iopub.execute_input": "2022-10-14T23:50:44.520697Z",
     "iopub.status.busy": "2022-10-14T23:50:44.520284Z",
     "iopub.status.idle": "2022-10-14T23:50:44.524952Z",
     "shell.execute_reply": "2022-10-14T23:50:44.524281Z",
     "shell.execute_reply.started": "2022-10-14T23:50:44.520671Z"
    },
    "tags": []
   },
   "outputs": [],
   "source": [
    "import keras_tuner \n",
    "best_hp = keras_tuner.HyperParameters()\n",
    "best_hp.values = {'reg1': 0.000034,\n",
    "                  'reg2': 1.000000e-10,\n",
    "                  'units1': 256,\n",
    "                  'units2': 512,\n",
    "                  'units3': 512,\n",
    "                  'units4': 64,\n",
    "                  'do1': 0.1,\n",
    "                  'do2': 0.1,\n",
    "                  'do3': 0.1,\n",
    "                  'do4': 0.1,\n",
    "                  'do5': 0.1,\n",
    "                  'lr': 0.007,\n",
    "                 }"
   ]
  },
  {
   "cell_type": "code",
   "execution_count": 275,
   "id": "f73d4081-3519-4920-a707-8ba8d4b94f32",
   "metadata": {
    "execution": {
     "iopub.execute_input": "2022-10-14T23:39:43.078940Z",
     "iopub.status.busy": "2022-10-14T23:39:43.078548Z",
     "iopub.status.idle": "2022-10-14T23:40:37.948056Z",
     "shell.execute_reply": "2022-10-14T23:40:37.947380Z",
     "shell.execute_reply.started": "2022-10-14T23:39:43.078911Z"
    },
    "tags": []
   },
   "outputs": [],
   "source": [
    "X_train_64 = np.genfromtxt(\"./pca64/X_train_64.csv\", delimiter=',')\n",
    "X_train = scipy.sparse.load_npz('./sparse/train_cite_inputs_values.sparse.npz')\n",
    "important = np.genfromtxt(\"./sparse/important_cols.csv\", delimiter=',').astype(int)\n",
    "also_important = np.genfromtxt(\"./sparse/also_important.csv\", delimiter=',').astype(int)\n",
    "important = np.concatenate([important,also_important])\n",
    "X_train_cite = np.hstack([X_train_64,X_train[:,important].toarray()])\n",
    "\n",
    "X_test_64 = np.genfromtxt(\"./pca64/X_test_64.csv\", delimiter=',')\n",
    "X_test = scipy.sparse.load_npz('./sparse/test_cite_inputs_values.sparse.npz')\n",
    "X_test_cite = np.hstack([X_test_64,X_test[:,important].toarray()])\n",
    "\n",
    "with np.load('./sparse/train_cite_inputs_idxcol.npz',allow_pickle=True) as data:\n",
    "    cell_index = data['index']\n",
    "metadata_df = pd.read_csv('../input/open-problems-multimodal/metadata.csv', index_col='cell_id')\n",
    "metadata_df = metadata_df[metadata_df.technology==\"citeseq\"]\n",
    "meta = metadata_df.reindex(cell_index)\n",
    "\n",
    "with np.load('./sparse/test_cite_inputs_idxcol.npz',allow_pickle=True) as data:\n",
    "    cell_index_t = data['index']\n",
    "meta_t = metadata_df.reindex(cell_index_t)\n",
    "\n",
    "y_train = scipy.sparse.load_npz('./sparse/train_cite_targets_values.sparse.npz')\n",
    "\n",
    "# Normalize the targets row-wise: This doesn't change the correlations,\n",
    "# and negative_correlation_loss depends on it\n",
    "y_train -= y_train.mean(axis=1).reshape(-1, 1)\n",
    "y_train /= y_train.std(axis=1).reshape(-1, 1)"
   ]
  },
  {
   "cell_type": "code",
   "execution_count": 284,
   "id": "58be6993-5ab1-47b5-a639-5e703b692437",
   "metadata": {
    "execution": {
     "iopub.execute_input": "2022-10-14T23:46:50.641370Z",
     "iopub.status.busy": "2022-10-14T23:46:50.640978Z",
     "iopub.status.idle": "2022-10-14T23:46:50.644726Z",
     "shell.execute_reply": "2022-10-14T23:46:50.644127Z",
     "shell.execute_reply.started": "2022-10-14T23:46:50.641342Z"
    }
   },
   "outputs": [],
   "source": [
    "from tensorflow.keras.layers import Dropout"
   ]
  },
  {
   "cell_type": "code",
   "execution_count": 383,
   "id": "b4d2296c-03a6-4a6c-aa27-d9725b4720fc",
   "metadata": {
    "execution": {
     "iopub.execute_input": "2022-10-15T03:53:29.021294Z",
     "iopub.status.busy": "2022-10-15T03:53:29.020685Z",
     "iopub.status.idle": "2022-10-15T03:53:29.029327Z",
     "shell.execute_reply": "2022-10-15T03:53:29.028726Z",
     "shell.execute_reply.started": "2022-10-15T03:53:29.021270Z"
    },
    "tags": []
   },
   "outputs": [],
   "source": [
    "\n",
    "\n",
    "VERBOSE = 0 # set to 2 for more output, set to 0 for less output\n",
    "EPOCHS = 1000\n",
    "N_SPLITS = 6\n",
    "\n",
    "def fit(X_train, y_train,meta,loss=negative_correlation_loss):\n",
    "    np.random.seed(1)\n",
    "    tf.random.set_seed(1)\n",
    "\n",
    "    kf = KFold(n_splits=N_SPLITS)\n",
    "    score_list = []\n",
    "    for fold, (idx_tr, idx_va) in enumerate(kf.split(X_train)):\n",
    "        start_time = datetime.datetime.now()\n",
    "        model = None\n",
    "        gc.collect()\n",
    "        X_tr = X_train[idx_tr]\n",
    "        y_tr = y_train[idx_tr]\n",
    "        X_va = X_train[idx_va]\n",
    "        y_va = y_train[idx_va]\n",
    "\n",
    "        lr = ReduceLROnPlateau(monitor=\"val_loss\", factor=0.5, \n",
    "                              patience=4, verbose=VERBOSE)\n",
    "        es = EarlyStopping(monitor=\"val_loss\",\n",
    "                          patience=12, \n",
    "                          verbose=0,\n",
    "                          mode=\"min\", \n",
    "                          restore_best_weights=True)\n",
    "        callbacks = [lr, es, tf.keras.callbacks.TerminateOnNaN()]\n",
    "\n",
    "        # Construct and compile the model\n",
    "        model = my_model(best_hp, n_inputs=X_train.shape[1],n_outputs=y_train.shape[1],reg1=reg1,reg2=reg2,loss = loss)\n",
    "\n",
    "        # Train the model\n",
    "        history = model.fit(X_tr, y_tr, \n",
    "                            validation_data=(X_va, y_va), \n",
    "                            epochs=EPOCHS,\n",
    "                            verbose=VERBOSE,\n",
    "                            batch_size=BATCH_SIZE,\n",
    "                            shuffle=True,\n",
    "                            callbacks=callbacks)\n",
    "        del X_tr, y_tr\n",
    "        if True:\n",
    "            model.save(f\"./model_multi/model_{fold}\")\n",
    "\n",
    "        history = history.history\n",
    "        callbacks, lr = None, None\n",
    "\n",
    "        # We validate the model\n",
    "        y_va_pred = model.predict(X_va, batch_size=X_va.shape[0])\n",
    "        corrscore = correlation_score(y_va, y_va_pred)\n",
    "\n",
    "        print(f\"Fold {fold}: {es.stopped_epoch:3} epochs, corr =  {corrscore:.5f}\")\n",
    "        del es, X_va#, y_va, y_va_pred\n",
    "        score_list.append(corrscore)\n",
    "    # Show overall score\n",
    "    print(f\"{Fore.GREEN}{Style.BRIGHT}Average  corr = {np.array(score_list).mean():.5f}{Style.RESET_ALL}\")"
   ]
  },
  {
   "cell_type": "code",
   "execution_count": 361,
   "id": "f1f1d62c-3fbc-4925-8ac7-7c31d2836c22",
   "metadata": {
    "execution": {
     "iopub.execute_input": "2022-10-15T00:43:49.717901Z",
     "iopub.status.busy": "2022-10-15T00:43:49.717504Z",
     "iopub.status.idle": "2022-10-15T00:59:39.811649Z",
     "shell.execute_reply": "2022-10-15T00:59:39.810991Z",
     "shell.execute_reply.started": "2022-10-15T00:43:49.717878Z"
    },
    "tags": []
   },
   "outputs": [
    {
     "name": "stdout",
     "output_type": "stream",
     "text": [
      "INFO:tensorflow:Assets written to: ./model/model_0/assets\n",
      "1/1 [==============================] - 0s 97ms/step\n",
      "Fold 0:  58 epochs, corr =  0.90057\n",
      "INFO:tensorflow:Assets written to: ./model/model_1/assets\n",
      "1/1 [==============================] - 0s 96ms/step\n",
      "Fold 1:  52 epochs, corr =  0.90327\n",
      "INFO:tensorflow:Assets written to: ./model/model_2/assets\n",
      "1/1 [==============================] - 0s 96ms/step\n",
      "Fold 2:  64 epochs, corr =  0.90146\n",
      "INFO:tensorflow:Assets written to: ./model/model_3/assets\n",
      "1/1 [==============================] - 0s 95ms/step\n",
      "Fold 3:  49 epochs, corr =  0.90327\n",
      "INFO:tensorflow:Assets written to: ./model/model_4/assets\n",
      "1/1 [==============================] - 0s 102ms/step\n",
      "Fold 4:  58 epochs, corr =  0.90719\n",
      "INFO:tensorflow:Assets written to: ./model/model_5/assets\n",
      "1/1 [==============================] - 0s 104ms/step\n",
      "Fold 5:  68 epochs, corr =  0.88467\n",
      "\u001b[32m\u001b[1mAverage  corr = 0.90007\u001b[0m\n",
      "CPU times: user 1h 34min 10s, sys: 19min 47s, total: 1h 53min 57s\n",
      "Wall time: 15min 50s\n"
     ]
    }
   ],
   "source": [
    "%%time\n",
    "from sklearn.model_selection import KFold\n",
    "fit(X_train_cite,y_train,meta)"
   ]
  },
  {
   "cell_type": "code",
   "execution_count": 301,
   "id": "6fb48ffc-cc4a-460b-9f23-0858ae5a7025",
   "metadata": {
    "execution": {
     "iopub.execute_input": "2022-10-15T00:04:13.869130Z",
     "iopub.status.busy": "2022-10-15T00:04:13.868737Z",
     "iopub.status.idle": "2022-10-15T00:06:16.621213Z",
     "shell.execute_reply": "2022-10-15T00:06:16.620572Z",
     "shell.execute_reply.started": "2022-10-15T00:04:13.869106Z"
    },
    "tags": []
   },
   "outputs": [
    {
     "name": "stdout",
     "output_type": "stream",
     "text": [
      "Epoch 1/1000\n",
      "45/45 - 2s - loss: -7.6535e-01 - negative_correlation_loss: -7.9414e-01 - val_loss: -8.1621e-01 - val_negative_correlation_loss: -8.3852e-01 - lr: 0.0070 - 2s/epoch - 42ms/step\n",
      "Epoch 2/1000\n",
      "45/45 - 1s - loss: -8.4737e-01 - negative_correlation_loss: -8.6687e-01 - val_loss: -8.5308e-01 - val_negative_correlation_loss: -8.6854e-01 - lr: 0.0070 - 952ms/epoch - 21ms/step\n",
      "Epoch 3/1000\n",
      "45/45 - 1s - loss: -8.7593e-01 - negative_correlation_loss: -8.8999e-01 - val_loss: -8.6761e-01 - val_negative_correlation_loss: -8.7898e-01 - lr: 0.0070 - 945ms/epoch - 21ms/step\n",
      "Epoch 4/1000\n",
      "45/45 - 1s - loss: -8.8443e-01 - negative_correlation_loss: -8.9510e-01 - val_loss: -8.7420e-01 - val_negative_correlation_loss: -8.8302e-01 - lr: 0.0070 - 937ms/epoch - 21ms/step\n",
      "Epoch 5/1000\n",
      "45/45 - 1s - loss: -8.8917e-01 - negative_correlation_loss: -8.9765e-01 - val_loss: -8.7445e-01 - val_negative_correlation_loss: -8.8164e-01 - lr: 0.0070 - 940ms/epoch - 21ms/step\n",
      "Epoch 6/1000\n",
      "45/45 - 1s - loss: -8.9115e-01 - negative_correlation_loss: -8.9857e-01 - val_loss: -8.7797e-01 - val_negative_correlation_loss: -8.8415e-01 - lr: 0.0070 - 982ms/epoch - 22ms/step\n",
      "Epoch 7/1000\n",
      "45/45 - 1s - loss: -8.9319e-01 - negative_correlation_loss: -8.9968e-01 - val_loss: -8.7665e-01 - val_negative_correlation_loss: -8.8209e-01 - lr: 0.0070 - 937ms/epoch - 21ms/step\n",
      "Epoch 8/1000\n",
      "45/45 - 1s - loss: -8.9399e-01 - negative_correlation_loss: -9.0010e-01 - val_loss: -8.8052e-01 - val_negative_correlation_loss: -8.8555e-01 - lr: 0.0070 - 943ms/epoch - 21ms/step\n",
      "Epoch 9/1000\n",
      "45/45 - 1s - loss: -8.9536e-01 - negative_correlation_loss: -9.0052e-01 - val_loss: -8.8176e-01 - val_negative_correlation_loss: -8.8631e-01 - lr: 0.0070 - 935ms/epoch - 21ms/step\n",
      "Epoch 10/1000\n",
      "45/45 - 1s - loss: -8.9579e-01 - negative_correlation_loss: -9.0101e-01 - val_loss: -8.8197e-01 - val_negative_correlation_loss: -8.8628e-01 - lr: 0.0070 - 937ms/epoch - 21ms/step\n",
      "Epoch 11/1000\n",
      "45/45 - 1s - loss: -8.9671e-01 - negative_correlation_loss: -9.0160e-01 - val_loss: -8.7973e-01 - val_negative_correlation_loss: -8.8376e-01 - lr: 0.0070 - 967ms/epoch - 21ms/step\n",
      "Epoch 12/1000\n",
      "45/45 - 1s - loss: -8.9688e-01 - negative_correlation_loss: -9.0139e-01 - val_loss: -8.8193e-01 - val_negative_correlation_loss: -8.8589e-01 - lr: 0.0070 - 937ms/epoch - 21ms/step\n",
      "Epoch 13/1000\n",
      "45/45 - 1s - loss: -8.9729e-01 - negative_correlation_loss: -9.0179e-01 - val_loss: -8.7988e-01 - val_negative_correlation_loss: -8.8361e-01 - lr: 0.0070 - 933ms/epoch - 21ms/step\n",
      "Epoch 14/1000\n",
      "45/45 - 1s - loss: -8.9750e-01 - negative_correlation_loss: -9.0169e-01 - val_loss: -8.8308e-01 - val_negative_correlation_loss: -8.8672e-01 - lr: 0.0070 - 930ms/epoch - 21ms/step\n",
      "Epoch 15/1000\n",
      "45/45 - 1s - loss: -8.9753e-01 - negative_correlation_loss: -9.0177e-01 - val_loss: -8.8103e-01 - val_negative_correlation_loss: -8.8462e-01 - lr: 0.0070 - 938ms/epoch - 21ms/step\n",
      "Epoch 16/1000\n",
      "45/45 - 1s - loss: -8.9797e-01 - negative_correlation_loss: -9.0221e-01 - val_loss: -8.8187e-01 - val_negative_correlation_loss: -8.8540e-01 - lr: 0.0070 - 938ms/epoch - 21ms/step\n",
      "Epoch 17/1000\n",
      "45/45 - 1s - loss: -8.9813e-01 - negative_correlation_loss: -9.0227e-01 - val_loss: -8.8051e-01 - val_negative_correlation_loss: -8.8396e-01 - lr: 0.0070 - 936ms/epoch - 21ms/step\n",
      "Epoch 18/1000\n",
      "\n",
      "Epoch 18: ReduceLROnPlateau reducing learning rate to 0.0035000001080334187.\n",
      "45/45 - 1s - loss: -8.9851e-01 - negative_correlation_loss: -9.0245e-01 - val_loss: -8.8146e-01 - val_negative_correlation_loss: -8.8482e-01 - lr: 0.0070 - 936ms/epoch - 21ms/step\n",
      "Epoch 19/1000\n",
      "45/45 - 1s - loss: -9.0044e-01 - negative_correlation_loss: -9.0376e-01 - val_loss: -8.8549e-01 - val_negative_correlation_loss: -8.8831e-01 - lr: 0.0035 - 934ms/epoch - 21ms/step\n",
      "Epoch 20/1000\n",
      "45/45 - 1s - loss: -9.0113e-01 - negative_correlation_loss: -9.0438e-01 - val_loss: -8.8479e-01 - val_negative_correlation_loss: -8.8746e-01 - lr: 0.0035 - 935ms/epoch - 21ms/step\n",
      "Epoch 21/1000\n",
      "45/45 - 1s - loss: -9.0137e-01 - negative_correlation_loss: -9.0447e-01 - val_loss: -8.8349e-01 - val_negative_correlation_loss: -8.8609e-01 - lr: 0.0035 - 932ms/epoch - 21ms/step\n",
      "Epoch 22/1000\n",
      "45/45 - 1s - loss: -9.0131e-01 - negative_correlation_loss: -9.0436e-01 - val_loss: -8.8477e-01 - val_negative_correlation_loss: -8.8740e-01 - lr: 0.0035 - 937ms/epoch - 21ms/step\n",
      "Epoch 23/1000\n",
      "\n",
      "Epoch 23: ReduceLROnPlateau reducing learning rate to 0.0017500000540167093.\n",
      "45/45 - 1s - loss: -9.0148e-01 - negative_correlation_loss: -9.0462e-01 - val_loss: -8.8386e-01 - val_negative_correlation_loss: -8.8648e-01 - lr: 0.0035 - 941ms/epoch - 21ms/step\n",
      "Epoch 24/1000\n",
      "45/45 - 1s - loss: -9.0285e-01 - negative_correlation_loss: -9.0575e-01 - val_loss: -8.8630e-01 - val_negative_correlation_loss: -8.8872e-01 - lr: 0.0018 - 936ms/epoch - 21ms/step\n",
      "Epoch 25/1000\n",
      "45/45 - 1s - loss: -9.0333e-01 - negative_correlation_loss: -9.0609e-01 - val_loss: -8.8693e-01 - val_negative_correlation_loss: -8.8926e-01 - lr: 0.0018 - 946ms/epoch - 21ms/step\n",
      "Epoch 26/1000\n",
      "45/45 - 1s - loss: -9.0332e-01 - negative_correlation_loss: -9.0590e-01 - val_loss: -8.8577e-01 - val_negative_correlation_loss: -8.8808e-01 - lr: 0.0018 - 947ms/epoch - 21ms/step\n",
      "Epoch 27/1000\n",
      "45/45 - 1s - loss: -9.0362e-01 - negative_correlation_loss: -9.0618e-01 - val_loss: -8.8532e-01 - val_negative_correlation_loss: -8.8761e-01 - lr: 0.0018 - 948ms/epoch - 21ms/step\n",
      "Epoch 28/1000\n",
      "45/45 - 1s - loss: -9.0356e-01 - negative_correlation_loss: -9.0619e-01 - val_loss: -8.8632e-01 - val_negative_correlation_loss: -8.8862e-01 - lr: 0.0018 - 946ms/epoch - 21ms/step\n",
      "Epoch 29/1000\n",
      "\n",
      "Epoch 29: ReduceLROnPlateau reducing learning rate to 0.0008750000270083547.\n",
      "45/45 - 1s - loss: -9.0353e-01 - negative_correlation_loss: -9.0632e-01 - val_loss: -8.8634e-01 - val_negative_correlation_loss: -8.8866e-01 - lr: 0.0018 - 949ms/epoch - 21ms/step\n",
      "Epoch 30/1000\n",
      "45/45 - 1s - loss: -9.0461e-01 - negative_correlation_loss: -9.0719e-01 - val_loss: -8.8565e-01 - val_negative_correlation_loss: -8.8789e-01 - lr: 8.7500e-04 - 945ms/epoch - 21ms/step\n",
      "Epoch 31/1000\n",
      "45/45 - 1s - loss: -9.0490e-01 - negative_correlation_loss: -9.0734e-01 - val_loss: -8.8623e-01 - val_negative_correlation_loss: -8.8844e-01 - lr: 8.7500e-04 - 957ms/epoch - 21ms/step\n",
      "Epoch 32/1000\n",
      "45/45 - 1s - loss: -9.0511e-01 - negative_correlation_loss: -9.0751e-01 - val_loss: -8.8644e-01 - val_negative_correlation_loss: -8.8861e-01 - lr: 8.7500e-04 - 951ms/epoch - 21ms/step\n",
      "Epoch 33/1000\n",
      "\n",
      "Epoch 33: ReduceLROnPlateau reducing learning rate to 0.00043750001350417733.\n",
      "45/45 - 1s - loss: -9.0515e-01 - negative_correlation_loss: -9.0776e-01 - val_loss: -8.8574e-01 - val_negative_correlation_loss: -8.8791e-01 - lr: 8.7500e-04 - 949ms/epoch - 21ms/step\n",
      "Epoch 34/1000\n",
      "45/45 - 1s - loss: -9.0575e-01 - negative_correlation_loss: -9.0799e-01 - val_loss: -8.8600e-01 - val_negative_correlation_loss: -8.8814e-01 - lr: 4.3750e-04 - 957ms/epoch - 21ms/step\n",
      "Epoch 35/1000\n",
      "45/45 - 1s - loss: -9.0595e-01 - negative_correlation_loss: -9.0834e-01 - val_loss: -8.8594e-01 - val_negative_correlation_loss: -8.8806e-01 - lr: 4.3750e-04 - 946ms/epoch - 21ms/step\n",
      "Epoch 36/1000\n",
      "45/45 - 1s - loss: -9.0596e-01 - negative_correlation_loss: -9.0816e-01 - val_loss: -8.8510e-01 - val_negative_correlation_loss: -8.8721e-01 - lr: 4.3750e-04 - 953ms/epoch - 21ms/step\n",
      "Epoch 37/1000\n",
      "\n",
      "Epoch 37: ReduceLROnPlateau reducing learning rate to 0.00021875000675208867.\n",
      "45/45 - 1s - loss: -9.0596e-01 - negative_correlation_loss: -9.0837e-01 - val_loss: -8.8553e-01 - val_negative_correlation_loss: -8.8763e-01 - lr: 4.3750e-04 - 963ms/epoch - 21ms/step\n",
      "1/1 [==============================] - 0s 123ms/step\n",
      "Fold 0:  36 epochs, corr =  0.88952\n",
      "Epoch 1/1000\n",
      "45/45 - 2s - loss: -7.7011e-01 - negative_correlation_loss: -7.9651e-01 - val_loss: -8.2773e-01 - val_negative_correlation_loss: -8.4839e-01 - lr: 0.0070 - 2s/epoch - 42ms/step\n",
      "Epoch 2/1000\n",
      "45/45 - 1s - loss: -8.4633e-01 - negative_correlation_loss: -8.6335e-01 - val_loss: -8.6580e-01 - val_negative_correlation_loss: -8.8027e-01 - lr: 0.0070 - 945ms/epoch - 21ms/step\n",
      "Epoch 3/1000\n",
      "45/45 - 1s - loss: -8.7406e-01 - negative_correlation_loss: -8.8666e-01 - val_loss: -8.7566e-01 - val_negative_correlation_loss: -8.8632e-01 - lr: 0.0070 - 940ms/epoch - 21ms/step\n",
      "Epoch 4/1000\n",
      "45/45 - 1s - loss: -8.8226e-01 - negative_correlation_loss: -8.9177e-01 - val_loss: -8.8031e-01 - val_negative_correlation_loss: -8.8869e-01 - lr: 0.0070 - 934ms/epoch - 21ms/step\n",
      "Epoch 5/1000\n",
      "45/45 - 1s - loss: -8.8644e-01 - negative_correlation_loss: -8.9414e-01 - val_loss: -8.8300e-01 - val_negative_correlation_loss: -8.9007e-01 - lr: 0.0070 - 943ms/epoch - 21ms/step\n",
      "Epoch 6/1000\n",
      "45/45 - 1s - loss: -8.8914e-01 - negative_correlation_loss: -8.9577e-01 - val_loss: -8.8546e-01 - val_negative_correlation_loss: -8.9169e-01 - lr: 0.0070 - 937ms/epoch - 21ms/step\n",
      "Epoch 7/1000\n",
      "45/45 - 1s - loss: -8.9071e-01 - negative_correlation_loss: -8.9664e-01 - val_loss: -8.8651e-01 - val_negative_correlation_loss: -8.9215e-01 - lr: 0.0070 - 951ms/epoch - 21ms/step\n",
      "Epoch 8/1000\n",
      "45/45 - 1s - loss: -8.9201e-01 - negative_correlation_loss: -8.9737e-01 - val_loss: -8.8567e-01 - val_negative_correlation_loss: -8.9079e-01 - lr: 0.0070 - 941ms/epoch - 21ms/step\n",
      "Epoch 9/1000\n",
      "45/45 - 1s - loss: -8.9290e-01 - negative_correlation_loss: -8.9790e-01 - val_loss: -8.8780e-01 - val_negative_correlation_loss: -8.9258e-01 - lr: 0.0070 - 940ms/epoch - 21ms/step\n",
      "Epoch 10/1000\n",
      "45/45 - 1s - loss: -8.9368e-01 - negative_correlation_loss: -8.9837e-01 - val_loss: -8.8940e-01 - val_negative_correlation_loss: -8.9387e-01 - lr: 0.0070 - 937ms/epoch - 21ms/step\n",
      "Epoch 11/1000\n",
      "45/45 - 1s - loss: -8.9419e-01 - negative_correlation_loss: -8.9866e-01 - val_loss: -8.8871e-01 - val_negative_correlation_loss: -8.9303e-01 - lr: 0.0070 - 941ms/epoch - 21ms/step\n",
      "Epoch 12/1000\n",
      "45/45 - 1s - loss: -8.9427e-01 - negative_correlation_loss: -8.9863e-01 - val_loss: -8.8890e-01 - val_negative_correlation_loss: -8.9325e-01 - lr: 0.0070 - 981ms/epoch - 22ms/step\n",
      "Epoch 13/1000\n",
      "45/45 - 1s - loss: -8.9496e-01 - negative_correlation_loss: -8.9919e-01 - val_loss: -8.8826e-01 - val_negative_correlation_loss: -8.9232e-01 - lr: 0.0070 - 941ms/epoch - 21ms/step\n",
      "Epoch 14/1000\n",
      "\n",
      "Epoch 14: ReduceLROnPlateau reducing learning rate to 0.0035000001080334187.\n",
      "45/45 - 1s - loss: -8.9533e-01 - negative_correlation_loss: -8.9935e-01 - val_loss: -8.8904e-01 - val_negative_correlation_loss: -8.9307e-01 - lr: 0.0070 - 943ms/epoch - 21ms/step\n",
      "Epoch 15/1000\n",
      "45/45 - 1s - loss: -8.9715e-01 - negative_correlation_loss: -9.0081e-01 - val_loss: -8.9046e-01 - val_negative_correlation_loss: -8.9377e-01 - lr: 0.0035 - 946ms/epoch - 21ms/step\n",
      "Epoch 16/1000\n",
      "45/45 - 1s - loss: -8.9787e-01 - negative_correlation_loss: -9.0115e-01 - val_loss: -8.9086e-01 - val_negative_correlation_loss: -8.9405e-01 - lr: 0.0035 - 940ms/epoch - 21ms/step\n",
      "Epoch 17/1000\n",
      "45/45 - 1s - loss: -8.9808e-01 - negative_correlation_loss: -9.0129e-01 - val_loss: -8.9027e-01 - val_negative_correlation_loss: -8.9344e-01 - lr: 0.0035 - 943ms/epoch - 21ms/step\n",
      "Epoch 18/1000\n",
      "45/45 - 1s - loss: -8.9829e-01 - negative_correlation_loss: -9.0149e-01 - val_loss: -8.9001e-01 - val_negative_correlation_loss: -8.9316e-01 - lr: 0.0035 - 954ms/epoch - 21ms/step\n",
      "Epoch 19/1000\n",
      "45/45 - 1s - loss: -8.9842e-01 - negative_correlation_loss: -9.0160e-01 - val_loss: -8.9048e-01 - val_negative_correlation_loss: -8.9362e-01 - lr: 0.0035 - 939ms/epoch - 21ms/step\n",
      "Epoch 20/1000\n",
      "\n",
      "Epoch 20: ReduceLROnPlateau reducing learning rate to 0.0017500000540167093.\n",
      "45/45 - 1s - loss: -8.9852e-01 - negative_correlation_loss: -9.0170e-01 - val_loss: -8.8983e-01 - val_negative_correlation_loss: -8.9297e-01 - lr: 0.0035 - 939ms/epoch - 21ms/step\n",
      "Epoch 21/1000\n",
      "45/45 - 1s - loss: -9.0008e-01 - negative_correlation_loss: -9.0312e-01 - val_loss: -8.9108e-01 - val_negative_correlation_loss: -8.9400e-01 - lr: 0.0018 - 944ms/epoch - 21ms/step\n",
      "Epoch 22/1000\n",
      "45/45 - 1s - loss: -9.0051e-01 - negative_correlation_loss: -9.0340e-01 - val_loss: -8.9154e-01 - val_negative_correlation_loss: -8.9439e-01 - lr: 0.0018 - 940ms/epoch - 21ms/step\n",
      "Epoch 23/1000\n",
      "45/45 - 1s - loss: -9.0056e-01 - negative_correlation_loss: -9.0341e-01 - val_loss: -8.9072e-01 - val_negative_correlation_loss: -8.9355e-01 - lr: 0.0018 - 946ms/epoch - 21ms/step\n",
      "Epoch 24/1000\n",
      "45/45 - 1s - loss: -9.0074e-01 - negative_correlation_loss: -9.0360e-01 - val_loss: -8.9125e-01 - val_negative_correlation_loss: -8.9409e-01 - lr: 0.0018 - 942ms/epoch - 21ms/step\n",
      "Epoch 25/1000\n",
      "45/45 - 1s - loss: -9.0100e-01 - negative_correlation_loss: -9.0384e-01 - val_loss: -8.9136e-01 - val_negative_correlation_loss: -8.9421e-01 - lr: 0.0018 - 938ms/epoch - 21ms/step\n",
      "Epoch 26/1000\n",
      "\n",
      "Epoch 26: ReduceLROnPlateau reducing learning rate to 0.0008750000270083547.\n",
      "45/45 - 1s - loss: -9.0107e-01 - negative_correlation_loss: -9.0392e-01 - val_loss: -8.9119e-01 - val_negative_correlation_loss: -8.9406e-01 - lr: 0.0018 - 945ms/epoch - 21ms/step\n",
      "Epoch 27/1000\n",
      "45/45 - 1s - loss: -9.0216e-01 - negative_correlation_loss: -9.0499e-01 - val_loss: -8.9076e-01 - val_negative_correlation_loss: -8.9356e-01 - lr: 8.7500e-04 - 941ms/epoch - 21ms/step\n",
      "Epoch 28/1000\n",
      "45/45 - 1s - loss: -9.0251e-01 - negative_correlation_loss: -9.0531e-01 - val_loss: -8.9076e-01 - val_negative_correlation_loss: -8.9352e-01 - lr: 8.7500e-04 - 957ms/epoch - 21ms/step\n",
      "Epoch 29/1000\n",
      "45/45 - 1s - loss: -9.0271e-01 - negative_correlation_loss: -9.0547e-01 - val_loss: -8.9018e-01 - val_negative_correlation_loss: -8.9292e-01 - lr: 8.7500e-04 - 946ms/epoch - 21ms/step\n",
      "Epoch 30/1000\n",
      "\n",
      "Epoch 30: ReduceLROnPlateau reducing learning rate to 0.00043750001350417733.\n",
      "45/45 - 1s - loss: -9.0269e-01 - negative_correlation_loss: -9.0544e-01 - val_loss: -8.9043e-01 - val_negative_correlation_loss: -8.9318e-01 - lr: 8.7500e-04 - 951ms/epoch - 21ms/step\n",
      "Epoch 31/1000\n",
      "45/45 - 1s - loss: -9.0345e-01 - negative_correlation_loss: -9.0620e-01 - val_loss: -8.9089e-01 - val_negative_correlation_loss: -8.9361e-01 - lr: 4.3750e-04 - 946ms/epoch - 21ms/step\n",
      "Epoch 32/1000\n",
      "45/45 - 1s - loss: -9.0362e-01 - negative_correlation_loss: -9.0634e-01 - val_loss: -8.9030e-01 - val_negative_correlation_loss: -8.9300e-01 - lr: 4.3750e-04 - 940ms/epoch - 21ms/step\n",
      "Epoch 33/1000\n",
      "45/45 - 1s - loss: -9.0369e-01 - negative_correlation_loss: -9.0639e-01 - val_loss: -8.9000e-01 - val_negative_correlation_loss: -8.9269e-01 - lr: 4.3750e-04 - 951ms/epoch - 21ms/step\n",
      "Epoch 34/1000\n",
      "\n",
      "Epoch 34: ReduceLROnPlateau reducing learning rate to 0.00021875000675208867.\n",
      "45/45 - 1s - loss: -9.0374e-01 - negative_correlation_loss: -9.0642e-01 - val_loss: -8.9023e-01 - val_negative_correlation_loss: -8.9291e-01 - lr: 4.3750e-04 - 949ms/epoch - 21ms/step\n",
      "1/1 [==============================] - 0s 118ms/step\n",
      "Fold 1:  33 epochs, corr =  0.89438\n",
      "Epoch 1/1000\n",
      "47/47 - 2s - loss: -7.6077e-01 - negative_correlation_loss: -7.8868e-01 - val_loss: -8.1928e-01 - val_negative_correlation_loss: -8.4132e-01 - lr: 0.0070 - 2s/epoch - 41ms/step\n",
      "Epoch 2/1000\n",
      "47/47 - 1s - loss: -8.4134e-01 - negative_correlation_loss: -8.5959e-01 - val_loss: -8.5156e-01 - val_negative_correlation_loss: -8.6653e-01 - lr: 0.0070 - 978ms/epoch - 21ms/step\n",
      "Epoch 3/1000\n",
      "47/47 - 1s - loss: -8.6920e-01 - negative_correlation_loss: -8.8293e-01 - val_loss: -8.7087e-01 - val_negative_correlation_loss: -8.8241e-01 - lr: 0.0070 - 977ms/epoch - 21ms/step\n",
      "Epoch 4/1000\n",
      "47/47 - 1s - loss: -8.8043e-01 - negative_correlation_loss: -8.9084e-01 - val_loss: -8.7669e-01 - val_negative_correlation_loss: -8.8576e-01 - lr: 0.0070 - 974ms/epoch - 21ms/step\n",
      "Epoch 5/1000\n",
      "47/47 - 1s - loss: -8.8568e-01 - negative_correlation_loss: -8.9398e-01 - val_loss: -8.7835e-01 - val_negative_correlation_loss: -8.8560e-01 - lr: 0.0070 - 975ms/epoch - 21ms/step\n",
      "Epoch 6/1000\n",
      "47/47 - 1s - loss: -8.8835e-01 - negative_correlation_loss: -8.9540e-01 - val_loss: -8.8103e-01 - val_negative_correlation_loss: -8.8734e-01 - lr: 0.0070 - 978ms/epoch - 21ms/step\n",
      "Epoch 7/1000\n",
      "47/47 - 1s - loss: -8.9039e-01 - negative_correlation_loss: -8.9651e-01 - val_loss: -8.8213e-01 - val_negative_correlation_loss: -8.8766e-01 - lr: 0.0070 - 978ms/epoch - 21ms/step\n",
      "Epoch 8/1000\n",
      "47/47 - 1s - loss: -8.9167e-01 - negative_correlation_loss: -8.9711e-01 - val_loss: -8.8377e-01 - val_negative_correlation_loss: -8.8883e-01 - lr: 0.0070 - 975ms/epoch - 21ms/step\n",
      "Epoch 9/1000\n",
      "47/47 - 1s - loss: -8.9260e-01 - negative_correlation_loss: -8.9770e-01 - val_loss: -8.8334e-01 - val_negative_correlation_loss: -8.8794e-01 - lr: 0.0070 - 985ms/epoch - 21ms/step\n",
      "Epoch 10/1000\n",
      "47/47 - 1s - loss: -8.9326e-01 - negative_correlation_loss: -8.9796e-01 - val_loss: -8.8196e-01 - val_negative_correlation_loss: -8.8620e-01 - lr: 0.0070 - 980ms/epoch - 21ms/step\n",
      "Epoch 11/1000\n",
      "47/47 - 1s - loss: -8.9369e-01 - negative_correlation_loss: -8.9810e-01 - val_loss: -8.8542e-01 - val_negative_correlation_loss: -8.8961e-01 - lr: 0.0070 - 977ms/epoch - 21ms/step\n",
      "Epoch 12/1000\n",
      "47/47 - 1s - loss: -8.9433e-01 - negative_correlation_loss: -8.9854e-01 - val_loss: -8.8488e-01 - val_negative_correlation_loss: -8.8878e-01 - lr: 0.0070 - 970ms/epoch - 21ms/step\n",
      "Epoch 13/1000\n",
      "47/47 - 1s - loss: -8.9457e-01 - negative_correlation_loss: -8.9867e-01 - val_loss: -8.8543e-01 - val_negative_correlation_loss: -8.8921e-01 - lr: 0.0070 - 970ms/epoch - 21ms/step\n",
      "Epoch 14/1000\n",
      "47/47 - 1s - loss: -8.9511e-01 - negative_correlation_loss: -8.9907e-01 - val_loss: -8.8581e-01 - val_negative_correlation_loss: -8.8946e-01 - lr: 0.0070 - 968ms/epoch - 21ms/step\n",
      "Epoch 15/1000\n",
      "47/47 - 1s - loss: -8.9511e-01 - negative_correlation_loss: -8.9903e-01 - val_loss: -8.8510e-01 - val_negative_correlation_loss: -8.8881e-01 - lr: 0.0070 - 960ms/epoch - 20ms/step\n",
      "Epoch 16/1000\n",
      "47/47 - 1s - loss: -8.9542e-01 - negative_correlation_loss: -8.9929e-01 - val_loss: -8.8655e-01 - val_negative_correlation_loss: -8.9016e-01 - lr: 0.0070 - 967ms/epoch - 21ms/step\n",
      "Epoch 17/1000\n",
      "47/47 - 1s - loss: -8.9575e-01 - negative_correlation_loss: -8.9949e-01 - val_loss: -8.8556e-01 - val_negative_correlation_loss: -8.8911e-01 - lr: 0.0070 - 962ms/epoch - 20ms/step\n",
      "Epoch 18/1000\n",
      "47/47 - 1s - loss: -8.9573e-01 - negative_correlation_loss: -8.9947e-01 - val_loss: -8.8650e-01 - val_negative_correlation_loss: -8.8997e-01 - lr: 0.0070 - 966ms/epoch - 21ms/step\n",
      "Epoch 19/1000\n",
      "47/47 - 1s - loss: -8.9603e-01 - negative_correlation_loss: -8.9967e-01 - val_loss: -8.8560e-01 - val_negative_correlation_loss: -8.8906e-01 - lr: 0.0070 - 961ms/epoch - 20ms/step\n",
      "Epoch 20/1000\n",
      "47/47 - 1s - loss: -8.9609e-01 - negative_correlation_loss: -8.9974e-01 - val_loss: -8.8672e-01 - val_negative_correlation_loss: -8.9011e-01 - lr: 0.0070 - 964ms/epoch - 21ms/step\n",
      "Epoch 21/1000\n",
      "47/47 - 1s - loss: -8.9652e-01 - negative_correlation_loss: -9.0016e-01 - val_loss: -8.8564e-01 - val_negative_correlation_loss: -8.8896e-01 - lr: 0.0070 - 984ms/epoch - 21ms/step\n",
      "Epoch 22/1000\n",
      "47/47 - 1s - loss: -8.9637e-01 - negative_correlation_loss: -8.9999e-01 - val_loss: -8.8617e-01 - val_negative_correlation_loss: -8.8972e-01 - lr: 0.0070 - 970ms/epoch - 21ms/step\n",
      "Epoch 23/1000\n",
      "47/47 - 1s - loss: -8.9652e-01 - negative_correlation_loss: -9.0022e-01 - val_loss: -8.8651e-01 - val_negative_correlation_loss: -8.8991e-01 - lr: 0.0070 - 965ms/epoch - 21ms/step\n",
      "Epoch 24/1000\n",
      "\n",
      "Epoch 24: ReduceLROnPlateau reducing learning rate to 0.0035000001080334187.\n",
      "47/47 - 1s - loss: -8.9666e-01 - negative_correlation_loss: -9.0025e-01 - val_loss: -8.8626e-01 - val_negative_correlation_loss: -8.8960e-01 - lr: 0.0070 - 963ms/epoch - 20ms/step\n",
      "Epoch 25/1000\n",
      "47/47 - 1s - loss: -8.9844e-01 - negative_correlation_loss: -9.0171e-01 - val_loss: -8.8765e-01 - val_negative_correlation_loss: -8.9040e-01 - lr: 0.0035 - 964ms/epoch - 21ms/step\n",
      "Epoch 26/1000\n",
      "47/47 - 1s - loss: -8.9908e-01 - negative_correlation_loss: -9.0196e-01 - val_loss: -8.8875e-01 - val_negative_correlation_loss: -8.9139e-01 - lr: 0.0035 - 976ms/epoch - 21ms/step\n",
      "Epoch 27/1000\n",
      "47/47 - 1s - loss: -8.9905e-01 - negative_correlation_loss: -9.0199e-01 - val_loss: -8.8859e-01 - val_negative_correlation_loss: -8.9124e-01 - lr: 0.0035 - 967ms/epoch - 21ms/step\n",
      "Epoch 28/1000\n",
      "47/47 - 1s - loss: -8.9917e-01 - negative_correlation_loss: -9.0202e-01 - val_loss: -8.8844e-01 - val_negative_correlation_loss: -8.9102e-01 - lr: 0.0035 - 961ms/epoch - 20ms/step\n",
      "Epoch 29/1000\n",
      "47/47 - 1s - loss: -8.9929e-01 - negative_correlation_loss: -9.0222e-01 - val_loss: -8.8884e-01 - val_negative_correlation_loss: -8.9147e-01 - lr: 0.0035 - 969ms/epoch - 21ms/step\n",
      "Epoch 30/1000\n",
      "\n",
      "Epoch 30: ReduceLROnPlateau reducing learning rate to 0.0017500000540167093.\n",
      "47/47 - 1s - loss: -8.9947e-01 - negative_correlation_loss: -9.0240e-01 - val_loss: -8.8819e-01 - val_negative_correlation_loss: -8.9085e-01 - lr: 0.0035 - 971ms/epoch - 21ms/step\n",
      "Epoch 31/1000\n",
      "47/47 - 1s - loss: -9.0078e-01 - negative_correlation_loss: -9.0358e-01 - val_loss: -8.8794e-01 - val_negative_correlation_loss: -8.9040e-01 - lr: 0.0018 - 963ms/epoch - 20ms/step\n",
      "Epoch 32/1000\n",
      "47/47 - 1s - loss: -9.0116e-01 - negative_correlation_loss: -9.0384e-01 - val_loss: -8.8821e-01 - val_negative_correlation_loss: -8.9058e-01 - lr: 0.0018 - 967ms/epoch - 21ms/step\n",
      "Epoch 33/1000\n",
      "47/47 - 1s - loss: -9.0126e-01 - negative_correlation_loss: -9.0388e-01 - val_loss: -8.8918e-01 - val_negative_correlation_loss: -8.9155e-01 - lr: 0.0018 - 960ms/epoch - 20ms/step\n",
      "Epoch 34/1000\n",
      "47/47 - 1s - loss: -9.0133e-01 - negative_correlation_loss: -9.0392e-01 - val_loss: -8.8806e-01 - val_negative_correlation_loss: -8.9043e-01 - lr: 0.0018 - 963ms/epoch - 20ms/step\n",
      "Epoch 35/1000\n",
      "47/47 - 1s - loss: -9.0147e-01 - negative_correlation_loss: -9.0407e-01 - val_loss: -8.8779e-01 - val_negative_correlation_loss: -8.9016e-01 - lr: 0.0018 - 965ms/epoch - 21ms/step\n",
      "Epoch 36/1000\n",
      "47/47 - 1s - loss: -9.0155e-01 - negative_correlation_loss: -9.0421e-01 - val_loss: -8.8881e-01 - val_negative_correlation_loss: -8.9119e-01 - lr: 0.0018 - 962ms/epoch - 20ms/step\n",
      "Epoch 37/1000\n",
      "\n",
      "Epoch 37: ReduceLROnPlateau reducing learning rate to 0.0008750000270083547.\n",
      "47/47 - 1s - loss: -9.0161e-01 - negative_correlation_loss: -9.0426e-01 - val_loss: -8.8798e-01 - val_negative_correlation_loss: -8.9041e-01 - lr: 0.0018 - 968ms/epoch - 21ms/step\n",
      "Epoch 38/1000\n",
      "47/47 - 1s - loss: -9.0264e-01 - negative_correlation_loss: -9.0523e-01 - val_loss: -8.8821e-01 - val_negative_correlation_loss: -8.9057e-01 - lr: 8.7500e-04 - 966ms/epoch - 21ms/step\n",
      "Epoch 39/1000\n",
      "47/47 - 1s - loss: -9.0288e-01 - negative_correlation_loss: -9.0544e-01 - val_loss: -8.8820e-01 - val_negative_correlation_loss: -8.9051e-01 - lr: 8.7500e-04 - 967ms/epoch - 21ms/step\n",
      "Epoch 40/1000\n",
      "47/47 - 1s - loss: -9.0300e-01 - negative_correlation_loss: -9.0549e-01 - val_loss: -8.8785e-01 - val_negative_correlation_loss: -8.9017e-01 - lr: 8.7500e-04 - 965ms/epoch - 21ms/step\n",
      "Epoch 41/1000\n",
      "\n",
      "Epoch 41: ReduceLROnPlateau reducing learning rate to 0.00043750001350417733.\n",
      "47/47 - 1s - loss: -9.0310e-01 - negative_correlation_loss: -9.0560e-01 - val_loss: -8.8807e-01 - val_negative_correlation_loss: -8.9038e-01 - lr: 8.7500e-04 - 958ms/epoch - 20ms/step\n",
      "Epoch 42/1000\n",
      "47/47 - 1s - loss: -9.0375e-01 - negative_correlation_loss: -9.0621e-01 - val_loss: -8.8812e-01 - val_negative_correlation_loss: -8.9038e-01 - lr: 4.3750e-04 - 975ms/epoch - 21ms/step\n",
      "Epoch 43/1000\n",
      "47/47 - 1s - loss: -9.0392e-01 - negative_correlation_loss: -9.0639e-01 - val_loss: -8.8823e-01 - val_negative_correlation_loss: -8.9047e-01 - lr: 4.3750e-04 - 968ms/epoch - 21ms/step\n",
      "Epoch 44/1000\n",
      "47/47 - 1s - loss: -9.0395e-01 - negative_correlation_loss: -9.0639e-01 - val_loss: -8.8804e-01 - val_negative_correlation_loss: -8.9026e-01 - lr: 4.3750e-04 - 958ms/epoch - 20ms/step\n",
      "Epoch 45/1000\n",
      "\n",
      "Epoch 45: ReduceLROnPlateau reducing learning rate to 0.00021875000675208867.\n",
      "47/47 - 1s - loss: -9.0399e-01 - negative_correlation_loss: -9.0646e-01 - val_loss: -8.8782e-01 - val_negative_correlation_loss: -8.9005e-01 - lr: 4.3750e-04 - 971ms/epoch - 21ms/step\n",
      "1/1 [==============================] - 0s 108ms/step\n",
      "Fold 2:  44 epochs, corr =  0.89178\n",
      "\u001b[32m\u001b[1mAverage  corr = 0.89190\u001b[0m\n"
     ]
    }
   ],
   "source": [
    "fit(X_train_cite,y_train,meta)"
   ]
  },
  {
   "cell_type": "code",
   "execution_count": 350,
   "id": "fd72381b-c18f-4fad-a460-4f45237a2520",
   "metadata": {
    "execution": {
     "iopub.execute_input": "2022-10-15T00:37:29.585974Z",
     "iopub.status.busy": "2022-10-15T00:37:29.585367Z",
     "iopub.status.idle": "2022-10-15T00:37:29.596432Z",
     "shell.execute_reply": "2022-10-15T00:37:29.595849Z",
     "shell.execute_reply.started": "2022-10-15T00:37:29.585949Z"
    },
    "tags": []
   },
   "outputs": [],
   "source": [
    "class MyLRSchedule(tf.keras.optimizers.schedules.LearningRateSchedule):\n",
    "\n",
    "    def __init__(self, initial_learning_rate):\n",
    "        self.initial_learning_rate = initial_learning_rate\n",
    "\n",
    "    def __call__(self, step):\n",
    "        abc =  tf.cond(step < 20,\n",
    "            true_fn=lambda: self.initial_learning_rate,\n",
    "            false_fn=lambda: tf.cond(step < 25,\n",
    "                true_fn=lambda: self.initial_learning_rate/2,\n",
    "                false_fn=lambda: tf.cond(step < 31,    \n",
    "                    true_fn=lambda: self.initial_learning_rate/4,\n",
    "                    false_fn=lambda: tf.cond(step < 31,\n",
    "                        true_fn=lambda: self.initial_learning_rate/8,\n",
    "                        false_fn=lambda: self.initial_learning_rate/16))))\n",
    "        return abc\n",
    "        \n",
    "BATCH_SIZE = 256\n",
    "\n",
    "def my_model(hp,n_inputs,n_outputs, reg1, reg2,loss):\n",
    "    \"\"\"Sequential neural network\n",
    "    \n",
    "    Returns a compiled instance of tensorflow.keras.models.Model.\n",
    "    \"\"\"\n",
    "    activation = 'swish'\n",
    "    reg1 = hp.Float(\"reg1\", min_value=1e-8, max_value=1e-4, sampling=\"log\")\n",
    "    reg2 = hp.Float(\"reg2\", min_value=1e-10, max_value=1e-5, sampling=\"log\")\n",
    "    \n",
    "    inputs = Input(shape=(n_inputs, ))\n",
    "    x0 = Dense(hp.Int('units1', min_value=256, max_value=384, step=64), kernel_regularizer=tf.keras.regularizers.l2(reg1),\n",
    "              activation=activation,\n",
    "             )(inputs)\n",
    "    do1 = Dropout(hp.Choice('do1', [0.1]))(x0)\n",
    "    x1 = Dense(hp.Int('units2', min_value=256, max_value=384, step=64), kernel_regularizer=tf.keras.regularizers.l2(reg1),\n",
    "              activation=activation,\n",
    "             )(do1)\n",
    "    do2 = Dropout(hp.Choice('do2', [0.1]))(x1)\n",
    "    x2 = Dense(hp.Int('units3', min_value=256, max_value=384, step=64), kernel_regularizer=tf.keras.regularizers.l2(reg1),\n",
    "              activation=activation,\n",
    "             )(do2)\n",
    "    do3 = Dropout(hp.Choice('do3', [0.1]))(x2)\n",
    "    x3 = Dense(hp.Int('units4', min_value=64, max_value=320, step=64), kernel_regularizer=tf.keras.regularizers.l2(reg1),\n",
    "              activation=activation,\n",
    "             )(do3)\n",
    "    do4 = Dropout(hp.Choice('do4', [0.1]))(x3)\n",
    "    x = Concatenate()([x0, x1, x2, x3])\n",
    "    do5 = Dropout(hp.Choice('do5', [0.1]))(x)\n",
    "    x = Dense(n_outputs, kernel_regularizer=tf.keras.regularizers.l2(reg2),\n",
    "              #activation=activation,\n",
    "             )(do5)\n",
    "    regressor = Model(inputs, x)\n",
    "    regressor.compile(optimizer=tf.keras.optimizers.Adam(learning_rate=MyLRSchedule(0.007)),\n",
    "                      metrics=[negative_correlation_loss],\n",
    "                      loss=negative_correlation_loss\n",
    "                     )\n",
    "    \n",
    "    return regressor"
   ]
  },
  {
   "cell_type": "code",
   "execution_count": 344,
   "id": "ee0801ce-10f7-49ab-8b45-998876778018",
   "metadata": {
    "execution": {
     "iopub.execute_input": "2022-10-15T00:33:54.738112Z",
     "iopub.status.busy": "2022-10-15T00:33:54.737718Z",
     "iopub.status.idle": "2022-10-15T00:33:54.742348Z",
     "shell.execute_reply": "2022-10-15T00:33:54.741755Z",
     "shell.execute_reply.started": "2022-10-15T00:33:54.738088Z"
    },
    "tags": []
   },
   "outputs": [],
   "source": [
    "class LearningRateLogger(tf.keras.callbacks.Callback):\n",
    "    def __init__(self):\n",
    "        super().__init__()\n",
    "        self._supports_tf_logs = True\n",
    "\n",
    "    def on_epoch_end(self, epoch, logs=None):\n",
    "        if logs is None or \"learning_rate\" in logs:\n",
    "            return\n",
    "        logs[\"learning_rate\"] = self.model.optimizer.lr"
   ]
  },
  {
   "cell_type": "code",
   "execution_count": 351,
   "id": "7672e338-d494-49be-ab19-4ad748b13f99",
   "metadata": {
    "execution": {
     "iopub.execute_input": "2022-10-15T00:37:31.609025Z",
     "iopub.status.busy": "2022-10-15T00:37:31.608595Z",
     "iopub.status.idle": "2022-10-15T00:37:40.140266Z",
     "shell.execute_reply": "2022-10-15T00:37:40.139358Z",
     "shell.execute_reply.started": "2022-10-15T00:37:31.608999Z"
    },
    "tags": []
   },
   "outputs": [
    {
     "name": "stdout",
     "output_type": "stream",
     "text": [
      "Epoch 1/1000\n",
      "WARNING:tensorflow:Early stopping conditioned on metric `val_loss` which is not available. Available metrics are: loss,negative_correlation_loss\n",
      "278/278 - 4s - loss: -8.1010e-01 - negative_correlation_loss: -8.3295e-01 - 4s/epoch - 13ms/step\n",
      "Epoch 2/1000\n",
      "WARNING:tensorflow:Early stopping conditioned on metric `val_loss` which is not available. Available metrics are: loss,negative_correlation_loss\n",
      "278/278 - 3s - loss: -8.6256e-01 - negative_correlation_loss: -8.7780e-01 - 3s/epoch - 10ms/step\n",
      "Epoch 3/1000\n"
     ]
    },
    {
     "ename": "KeyboardInterrupt",
     "evalue": "",
     "output_type": "error",
     "traceback": [
      "\u001b[0;31m---------------------------------------------------------------------------\u001b[0m",
      "\u001b[0;31mKeyboardInterrupt\u001b[0m                         Traceback (most recent call last)",
      "Input \u001b[0;32mIn [351]\u001b[0m, in \u001b[0;36m<cell line: 31>\u001b[0;34m()\u001b[0m\n\u001b[1;32m     27\u001b[0m     callbacks, lr \u001b[38;5;241m=\u001b[39m \u001b[38;5;28;01mNone\u001b[39;00m, \u001b[38;5;28;01mNone\u001b[39;00m\n\u001b[1;32m     29\u001b[0m     \u001b[38;5;28;01mreturn\u001b[39;00m model\n\u001b[0;32m---> 31\u001b[0m model \u001b[38;5;241m=\u001b[39m \u001b[43mrefit\u001b[49m\u001b[43m(\u001b[49m\u001b[43mX_train_cite\u001b[49m\u001b[43m,\u001b[49m\u001b[43my_train\u001b[49m\u001b[43m)\u001b[49m\n",
      "Input \u001b[0;32mIn [351]\u001b[0m, in \u001b[0;36mrefit\u001b[0;34m(X_train, y_train, loss)\u001b[0m\n\u001b[1;32m     15\u001b[0m model \u001b[38;5;241m=\u001b[39m my_model(best_hp, n_inputs\u001b[38;5;241m=\u001b[39mX_train\u001b[38;5;241m.\u001b[39mshape[\u001b[38;5;241m1\u001b[39m],n_outputs\u001b[38;5;241m=\u001b[39my_train\u001b[38;5;241m.\u001b[39mshape[\u001b[38;5;241m1\u001b[39m],reg1\u001b[38;5;241m=\u001b[39mreg1,reg2\u001b[38;5;241m=\u001b[39mreg2,loss \u001b[38;5;241m=\u001b[39m loss)\n\u001b[1;32m     17\u001b[0m \u001b[38;5;66;03m# Train the model\u001b[39;00m\n\u001b[0;32m---> 18\u001b[0m history \u001b[38;5;241m=\u001b[39m \u001b[43mmodel\u001b[49m\u001b[38;5;241;43m.\u001b[39;49m\u001b[43mfit\u001b[49m\u001b[43m(\u001b[49m\u001b[43mX_train\u001b[49m\u001b[43m,\u001b[49m\u001b[43m \u001b[49m\u001b[43my_train\u001b[49m\u001b[43m,\u001b[49m\u001b[43m \u001b[49m\n\u001b[1;32m     19\u001b[0m \u001b[43m                    \u001b[49m\u001b[43mepochs\u001b[49m\u001b[38;5;241;43m=\u001b[39;49m\u001b[43mEPOCHS\u001b[49m\u001b[43m,\u001b[49m\n\u001b[1;32m     20\u001b[0m \u001b[43m                    \u001b[49m\u001b[43mverbose\u001b[49m\u001b[38;5;241;43m=\u001b[39;49m\u001b[43mVERBOSE\u001b[49m\u001b[43m,\u001b[49m\n\u001b[1;32m     21\u001b[0m \u001b[43m                    \u001b[49m\u001b[43mbatch_size\u001b[49m\u001b[38;5;241;43m=\u001b[39;49m\u001b[43mBATCH_SIZE\u001b[49m\u001b[43m,\u001b[49m\n\u001b[1;32m     22\u001b[0m \u001b[43m                    \u001b[49m\u001b[43mshuffle\u001b[49m\u001b[38;5;241;43m=\u001b[39;49m\u001b[38;5;28;43;01mTrue\u001b[39;49;00m\u001b[43m,\u001b[49m\n\u001b[1;32m     23\u001b[0m \u001b[43m                    \u001b[49m\u001b[43mcallbacks\u001b[49m\u001b[38;5;241;43m=\u001b[39;49m\u001b[43mcallbacks\u001b[49m\u001b[43m)\u001b[49m\n\u001b[1;32m     24\u001b[0m \u001b[38;5;28;01mdel\u001b[39;00m X_tr, y_tr\n\u001b[1;32m     26\u001b[0m history \u001b[38;5;241m=\u001b[39m history\u001b[38;5;241m.\u001b[39mhistory\n",
      "File \u001b[0;32m/srv/conda/envs/saturn/lib/python3.9/site-packages/keras/utils/traceback_utils.py:65\u001b[0m, in \u001b[0;36mfilter_traceback.<locals>.error_handler\u001b[0;34m(*args, **kwargs)\u001b[0m\n\u001b[1;32m     63\u001b[0m filtered_tb \u001b[38;5;241m=\u001b[39m \u001b[38;5;28;01mNone\u001b[39;00m\n\u001b[1;32m     64\u001b[0m \u001b[38;5;28;01mtry\u001b[39;00m:\n\u001b[0;32m---> 65\u001b[0m     \u001b[38;5;28;01mreturn\u001b[39;00m \u001b[43mfn\u001b[49m\u001b[43m(\u001b[49m\u001b[38;5;241;43m*\u001b[39;49m\u001b[43margs\u001b[49m\u001b[43m,\u001b[49m\u001b[43m \u001b[49m\u001b[38;5;241;43m*\u001b[39;49m\u001b[38;5;241;43m*\u001b[39;49m\u001b[43mkwargs\u001b[49m\u001b[43m)\u001b[49m\n\u001b[1;32m     66\u001b[0m \u001b[38;5;28;01mexcept\u001b[39;00m \u001b[38;5;167;01mException\u001b[39;00m \u001b[38;5;28;01mas\u001b[39;00m e:\n\u001b[1;32m     67\u001b[0m     filtered_tb \u001b[38;5;241m=\u001b[39m _process_traceback_frames(e\u001b[38;5;241m.\u001b[39m__traceback__)\n",
      "File \u001b[0;32m/srv/conda/envs/saturn/lib/python3.9/site-packages/keras/engine/training.py:1564\u001b[0m, in \u001b[0;36mModel.fit\u001b[0;34m(self, x, y, batch_size, epochs, verbose, callbacks, validation_split, validation_data, shuffle, class_weight, sample_weight, initial_epoch, steps_per_epoch, validation_steps, validation_batch_size, validation_freq, max_queue_size, workers, use_multiprocessing)\u001b[0m\n\u001b[1;32m   1556\u001b[0m \u001b[38;5;28;01mwith\u001b[39;00m tf\u001b[38;5;241m.\u001b[39mprofiler\u001b[38;5;241m.\u001b[39mexperimental\u001b[38;5;241m.\u001b[39mTrace(\n\u001b[1;32m   1557\u001b[0m     \u001b[38;5;124m\"\u001b[39m\u001b[38;5;124mtrain\u001b[39m\u001b[38;5;124m\"\u001b[39m,\n\u001b[1;32m   1558\u001b[0m     epoch_num\u001b[38;5;241m=\u001b[39mepoch,\n\u001b[0;32m   (...)\u001b[0m\n\u001b[1;32m   1561\u001b[0m     _r\u001b[38;5;241m=\u001b[39m\u001b[38;5;241m1\u001b[39m,\n\u001b[1;32m   1562\u001b[0m ):\n\u001b[1;32m   1563\u001b[0m     callbacks\u001b[38;5;241m.\u001b[39mon_train_batch_begin(step)\n\u001b[0;32m-> 1564\u001b[0m     tmp_logs \u001b[38;5;241m=\u001b[39m \u001b[38;5;28;43mself\u001b[39;49m\u001b[38;5;241;43m.\u001b[39;49m\u001b[43mtrain_function\u001b[49m\u001b[43m(\u001b[49m\u001b[43miterator\u001b[49m\u001b[43m)\u001b[49m\n\u001b[1;32m   1565\u001b[0m     \u001b[38;5;28;01mif\u001b[39;00m data_handler\u001b[38;5;241m.\u001b[39mshould_sync:\n\u001b[1;32m   1566\u001b[0m         context\u001b[38;5;241m.\u001b[39masync_wait()\n",
      "File \u001b[0;32m/srv/conda/envs/saturn/lib/python3.9/site-packages/tensorflow/python/util/traceback_utils.py:150\u001b[0m, in \u001b[0;36mfilter_traceback.<locals>.error_handler\u001b[0;34m(*args, **kwargs)\u001b[0m\n\u001b[1;32m    148\u001b[0m filtered_tb \u001b[38;5;241m=\u001b[39m \u001b[38;5;28;01mNone\u001b[39;00m\n\u001b[1;32m    149\u001b[0m \u001b[38;5;28;01mtry\u001b[39;00m:\n\u001b[0;32m--> 150\u001b[0m   \u001b[38;5;28;01mreturn\u001b[39;00m \u001b[43mfn\u001b[49m\u001b[43m(\u001b[49m\u001b[38;5;241;43m*\u001b[39;49m\u001b[43margs\u001b[49m\u001b[43m,\u001b[49m\u001b[43m \u001b[49m\u001b[38;5;241;43m*\u001b[39;49m\u001b[38;5;241;43m*\u001b[39;49m\u001b[43mkwargs\u001b[49m\u001b[43m)\u001b[49m\n\u001b[1;32m    151\u001b[0m \u001b[38;5;28;01mexcept\u001b[39;00m \u001b[38;5;167;01mException\u001b[39;00m \u001b[38;5;28;01mas\u001b[39;00m e:\n\u001b[1;32m    152\u001b[0m   filtered_tb \u001b[38;5;241m=\u001b[39m _process_traceback_frames(e\u001b[38;5;241m.\u001b[39m__traceback__)\n",
      "File \u001b[0;32m/srv/conda/envs/saturn/lib/python3.9/site-packages/tensorflow/python/eager/def_function.py:915\u001b[0m, in \u001b[0;36mFunction.__call__\u001b[0;34m(self, *args, **kwds)\u001b[0m\n\u001b[1;32m    912\u001b[0m compiler \u001b[38;5;241m=\u001b[39m \u001b[38;5;124m\"\u001b[39m\u001b[38;5;124mxla\u001b[39m\u001b[38;5;124m\"\u001b[39m \u001b[38;5;28;01mif\u001b[39;00m \u001b[38;5;28mself\u001b[39m\u001b[38;5;241m.\u001b[39m_jit_compile \u001b[38;5;28;01melse\u001b[39;00m \u001b[38;5;124m\"\u001b[39m\u001b[38;5;124mnonXla\u001b[39m\u001b[38;5;124m\"\u001b[39m\n\u001b[1;32m    914\u001b[0m \u001b[38;5;28;01mwith\u001b[39;00m OptionalXlaContext(\u001b[38;5;28mself\u001b[39m\u001b[38;5;241m.\u001b[39m_jit_compile):\n\u001b[0;32m--> 915\u001b[0m   result \u001b[38;5;241m=\u001b[39m \u001b[38;5;28;43mself\u001b[39;49m\u001b[38;5;241;43m.\u001b[39;49m\u001b[43m_call\u001b[49m\u001b[43m(\u001b[49m\u001b[38;5;241;43m*\u001b[39;49m\u001b[43margs\u001b[49m\u001b[43m,\u001b[49m\u001b[43m \u001b[49m\u001b[38;5;241;43m*\u001b[39;49m\u001b[38;5;241;43m*\u001b[39;49m\u001b[43mkwds\u001b[49m\u001b[43m)\u001b[49m\n\u001b[1;32m    917\u001b[0m new_tracing_count \u001b[38;5;241m=\u001b[39m \u001b[38;5;28mself\u001b[39m\u001b[38;5;241m.\u001b[39mexperimental_get_tracing_count()\n\u001b[1;32m    918\u001b[0m without_tracing \u001b[38;5;241m=\u001b[39m (tracing_count \u001b[38;5;241m==\u001b[39m new_tracing_count)\n",
      "File \u001b[0;32m/srv/conda/envs/saturn/lib/python3.9/site-packages/tensorflow/python/eager/def_function.py:947\u001b[0m, in \u001b[0;36mFunction._call\u001b[0;34m(self, *args, **kwds)\u001b[0m\n\u001b[1;32m    944\u001b[0m   \u001b[38;5;28mself\u001b[39m\u001b[38;5;241m.\u001b[39m_lock\u001b[38;5;241m.\u001b[39mrelease()\n\u001b[1;32m    945\u001b[0m   \u001b[38;5;66;03m# In this case we have created variables on the first call, so we run the\u001b[39;00m\n\u001b[1;32m    946\u001b[0m   \u001b[38;5;66;03m# defunned version which is guaranteed to never create variables.\u001b[39;00m\n\u001b[0;32m--> 947\u001b[0m   \u001b[38;5;28;01mreturn\u001b[39;00m \u001b[38;5;28;43mself\u001b[39;49m\u001b[38;5;241;43m.\u001b[39;49m\u001b[43m_stateless_fn\u001b[49m\u001b[43m(\u001b[49m\u001b[38;5;241;43m*\u001b[39;49m\u001b[43margs\u001b[49m\u001b[43m,\u001b[49m\u001b[43m \u001b[49m\u001b[38;5;241;43m*\u001b[39;49m\u001b[38;5;241;43m*\u001b[39;49m\u001b[43mkwds\u001b[49m\u001b[43m)\u001b[49m  \u001b[38;5;66;03m# pylint: disable=not-callable\u001b[39;00m\n\u001b[1;32m    948\u001b[0m \u001b[38;5;28;01melif\u001b[39;00m \u001b[38;5;28mself\u001b[39m\u001b[38;5;241m.\u001b[39m_stateful_fn \u001b[38;5;129;01mis\u001b[39;00m \u001b[38;5;129;01mnot\u001b[39;00m \u001b[38;5;28;01mNone\u001b[39;00m:\n\u001b[1;32m    949\u001b[0m   \u001b[38;5;66;03m# Release the lock early so that multiple threads can perform the call\u001b[39;00m\n\u001b[1;32m    950\u001b[0m   \u001b[38;5;66;03m# in parallel.\u001b[39;00m\n\u001b[1;32m    951\u001b[0m   \u001b[38;5;28mself\u001b[39m\u001b[38;5;241m.\u001b[39m_lock\u001b[38;5;241m.\u001b[39mrelease()\n",
      "File \u001b[0;32m/srv/conda/envs/saturn/lib/python3.9/site-packages/tensorflow/python/eager/function.py:2496\u001b[0m, in \u001b[0;36mFunction.__call__\u001b[0;34m(self, *args, **kwargs)\u001b[0m\n\u001b[1;32m   2493\u001b[0m \u001b[38;5;28;01mwith\u001b[39;00m \u001b[38;5;28mself\u001b[39m\u001b[38;5;241m.\u001b[39m_lock:\n\u001b[1;32m   2494\u001b[0m   (graph_function,\n\u001b[1;32m   2495\u001b[0m    filtered_flat_args) \u001b[38;5;241m=\u001b[39m \u001b[38;5;28mself\u001b[39m\u001b[38;5;241m.\u001b[39m_maybe_define_function(args, kwargs)\n\u001b[0;32m-> 2496\u001b[0m \u001b[38;5;28;01mreturn\u001b[39;00m \u001b[43mgraph_function\u001b[49m\u001b[38;5;241;43m.\u001b[39;49m\u001b[43m_call_flat\u001b[49m\u001b[43m(\u001b[49m\n\u001b[1;32m   2497\u001b[0m \u001b[43m    \u001b[49m\u001b[43mfiltered_flat_args\u001b[49m\u001b[43m,\u001b[49m\u001b[43m \u001b[49m\u001b[43mcaptured_inputs\u001b[49m\u001b[38;5;241;43m=\u001b[39;49m\u001b[43mgraph_function\u001b[49m\u001b[38;5;241;43m.\u001b[39;49m\u001b[43mcaptured_inputs\u001b[49m\u001b[43m)\u001b[49m\n",
      "File \u001b[0;32m/srv/conda/envs/saturn/lib/python3.9/site-packages/tensorflow/python/eager/function.py:1862\u001b[0m, in \u001b[0;36mConcreteFunction._call_flat\u001b[0;34m(self, args, captured_inputs, cancellation_manager)\u001b[0m\n\u001b[1;32m   1858\u001b[0m possible_gradient_type \u001b[38;5;241m=\u001b[39m gradients_util\u001b[38;5;241m.\u001b[39mPossibleTapeGradientTypes(args)\n\u001b[1;32m   1859\u001b[0m \u001b[38;5;28;01mif\u001b[39;00m (possible_gradient_type \u001b[38;5;241m==\u001b[39m gradients_util\u001b[38;5;241m.\u001b[39mPOSSIBLE_GRADIENT_TYPES_NONE\n\u001b[1;32m   1860\u001b[0m     \u001b[38;5;129;01mand\u001b[39;00m executing_eagerly):\n\u001b[1;32m   1861\u001b[0m   \u001b[38;5;66;03m# No tape is watching; skip to running the function.\u001b[39;00m\n\u001b[0;32m-> 1862\u001b[0m   \u001b[38;5;28;01mreturn\u001b[39;00m \u001b[38;5;28mself\u001b[39m\u001b[38;5;241m.\u001b[39m_build_call_outputs(\u001b[38;5;28;43mself\u001b[39;49m\u001b[38;5;241;43m.\u001b[39;49m\u001b[43m_inference_function\u001b[49m\u001b[38;5;241;43m.\u001b[39;49m\u001b[43mcall\u001b[49m\u001b[43m(\u001b[49m\n\u001b[1;32m   1863\u001b[0m \u001b[43m      \u001b[49m\u001b[43mctx\u001b[49m\u001b[43m,\u001b[49m\u001b[43m \u001b[49m\u001b[43margs\u001b[49m\u001b[43m,\u001b[49m\u001b[43m \u001b[49m\u001b[43mcancellation_manager\u001b[49m\u001b[38;5;241;43m=\u001b[39;49m\u001b[43mcancellation_manager\u001b[49m\u001b[43m)\u001b[49m)\n\u001b[1;32m   1864\u001b[0m forward_backward \u001b[38;5;241m=\u001b[39m \u001b[38;5;28mself\u001b[39m\u001b[38;5;241m.\u001b[39m_select_forward_and_backward_functions(\n\u001b[1;32m   1865\u001b[0m     args,\n\u001b[1;32m   1866\u001b[0m     possible_gradient_type,\n\u001b[1;32m   1867\u001b[0m     executing_eagerly)\n\u001b[1;32m   1868\u001b[0m forward_function, args_with_tangents \u001b[38;5;241m=\u001b[39m forward_backward\u001b[38;5;241m.\u001b[39mforward()\n",
      "File \u001b[0;32m/srv/conda/envs/saturn/lib/python3.9/site-packages/tensorflow/python/eager/function.py:499\u001b[0m, in \u001b[0;36m_EagerDefinedFunction.call\u001b[0;34m(self, ctx, args, cancellation_manager)\u001b[0m\n\u001b[1;32m    497\u001b[0m \u001b[38;5;28;01mwith\u001b[39;00m _InterpolateFunctionError(\u001b[38;5;28mself\u001b[39m):\n\u001b[1;32m    498\u001b[0m   \u001b[38;5;28;01mif\u001b[39;00m cancellation_manager \u001b[38;5;129;01mis\u001b[39;00m \u001b[38;5;28;01mNone\u001b[39;00m:\n\u001b[0;32m--> 499\u001b[0m     outputs \u001b[38;5;241m=\u001b[39m \u001b[43mexecute\u001b[49m\u001b[38;5;241;43m.\u001b[39;49m\u001b[43mexecute\u001b[49m\u001b[43m(\u001b[49m\n\u001b[1;32m    500\u001b[0m \u001b[43m        \u001b[49m\u001b[38;5;28;43mstr\u001b[39;49m\u001b[43m(\u001b[49m\u001b[38;5;28;43mself\u001b[39;49m\u001b[38;5;241;43m.\u001b[39;49m\u001b[43msignature\u001b[49m\u001b[38;5;241;43m.\u001b[39;49m\u001b[43mname\u001b[49m\u001b[43m)\u001b[49m\u001b[43m,\u001b[49m\n\u001b[1;32m    501\u001b[0m \u001b[43m        \u001b[49m\u001b[43mnum_outputs\u001b[49m\u001b[38;5;241;43m=\u001b[39;49m\u001b[38;5;28;43mself\u001b[39;49m\u001b[38;5;241;43m.\u001b[39;49m\u001b[43m_num_outputs\u001b[49m\u001b[43m,\u001b[49m\n\u001b[1;32m    502\u001b[0m \u001b[43m        \u001b[49m\u001b[43minputs\u001b[49m\u001b[38;5;241;43m=\u001b[39;49m\u001b[43margs\u001b[49m\u001b[43m,\u001b[49m\n\u001b[1;32m    503\u001b[0m \u001b[43m        \u001b[49m\u001b[43mattrs\u001b[49m\u001b[38;5;241;43m=\u001b[39;49m\u001b[43mattrs\u001b[49m\u001b[43m,\u001b[49m\n\u001b[1;32m    504\u001b[0m \u001b[43m        \u001b[49m\u001b[43mctx\u001b[49m\u001b[38;5;241;43m=\u001b[39;49m\u001b[43mctx\u001b[49m\u001b[43m)\u001b[49m\n\u001b[1;32m    505\u001b[0m   \u001b[38;5;28;01melse\u001b[39;00m:\n\u001b[1;32m    506\u001b[0m     outputs \u001b[38;5;241m=\u001b[39m execute\u001b[38;5;241m.\u001b[39mexecute_with_cancellation(\n\u001b[1;32m    507\u001b[0m         \u001b[38;5;28mstr\u001b[39m(\u001b[38;5;28mself\u001b[39m\u001b[38;5;241m.\u001b[39msignature\u001b[38;5;241m.\u001b[39mname),\n\u001b[1;32m    508\u001b[0m         num_outputs\u001b[38;5;241m=\u001b[39m\u001b[38;5;28mself\u001b[39m\u001b[38;5;241m.\u001b[39m_num_outputs,\n\u001b[0;32m   (...)\u001b[0m\n\u001b[1;32m    511\u001b[0m         ctx\u001b[38;5;241m=\u001b[39mctx,\n\u001b[1;32m    512\u001b[0m         cancellation_manager\u001b[38;5;241m=\u001b[39mcancellation_manager)\n",
      "File \u001b[0;32m/srv/conda/envs/saturn/lib/python3.9/site-packages/tensorflow/python/eager/execute.py:54\u001b[0m, in \u001b[0;36mquick_execute\u001b[0;34m(op_name, num_outputs, inputs, attrs, ctx, name)\u001b[0m\n\u001b[1;32m     52\u001b[0m \u001b[38;5;28;01mtry\u001b[39;00m:\n\u001b[1;32m     53\u001b[0m   ctx\u001b[38;5;241m.\u001b[39mensure_initialized()\n\u001b[0;32m---> 54\u001b[0m   tensors \u001b[38;5;241m=\u001b[39m \u001b[43mpywrap_tfe\u001b[49m\u001b[38;5;241;43m.\u001b[39;49m\u001b[43mTFE_Py_Execute\u001b[49m\u001b[43m(\u001b[49m\u001b[43mctx\u001b[49m\u001b[38;5;241;43m.\u001b[39;49m\u001b[43m_handle\u001b[49m\u001b[43m,\u001b[49m\u001b[43m \u001b[49m\u001b[43mdevice_name\u001b[49m\u001b[43m,\u001b[49m\u001b[43m \u001b[49m\u001b[43mop_name\u001b[49m\u001b[43m,\u001b[49m\n\u001b[1;32m     55\u001b[0m \u001b[43m                                      \u001b[49m\u001b[43minputs\u001b[49m\u001b[43m,\u001b[49m\u001b[43m \u001b[49m\u001b[43mattrs\u001b[49m\u001b[43m,\u001b[49m\u001b[43m \u001b[49m\u001b[43mnum_outputs\u001b[49m\u001b[43m)\u001b[49m\n\u001b[1;32m     56\u001b[0m \u001b[38;5;28;01mexcept\u001b[39;00m core\u001b[38;5;241m.\u001b[39m_NotOkStatusException \u001b[38;5;28;01mas\u001b[39;00m e:\n\u001b[1;32m     57\u001b[0m   \u001b[38;5;28;01mif\u001b[39;00m name \u001b[38;5;129;01mis\u001b[39;00m \u001b[38;5;129;01mnot\u001b[39;00m \u001b[38;5;28;01mNone\u001b[39;00m:\n",
      "\u001b[0;31mKeyboardInterrupt\u001b[0m: "
     ]
    }
   ],
   "source": [
    "def refit(X_train, y_train,loss=negative_correlation_loss):\n",
    "    np.random.seed(1)\n",
    "    tf.random.set_seed(1)\n",
    "    model = None\n",
    "    gc.collect()\n",
    "\n",
    "    es = EarlyStopping(monitor=\"val_loss\",\n",
    "                      patience=12, \n",
    "                      verbose=0,\n",
    "                      mode=\"min\", \n",
    "                      restore_best_weights=True)\n",
    "    callbacks = [es, tf.keras.callbacks.TerminateOnNaN()]\n",
    "\n",
    "    # Construct and compile the model\n",
    "    model = my_model(best_hp, n_inputs=X_train.shape[1],n_outputs=y_train.shape[1],reg1=reg1,reg2=reg2,loss = loss)\n",
    "\n",
    "    # Train the model\n",
    "    history = model.fit(X_train, y_train, \n",
    "                        epochs=EPOCHS,\n",
    "                        verbose=VERBOSE,\n",
    "                        batch_size=BATCH_SIZE,\n",
    "                        shuffle=True,\n",
    "                        callbacks=callbacks)\n",
    "    del X_tr, y_tr\n",
    "\n",
    "    history = history.history\n",
    "    callbacks, lr = None, None\n",
    "\n",
    "    return model\n",
    "\n",
    "model = refit(X_train_cite,y_train)"
   ]
  },
  {
   "cell_type": "code",
   "execution_count": 362,
   "id": "467734af-bd6b-4e72-b603-47e14cb60fd7",
   "metadata": {
    "execution": {
     "iopub.execute_input": "2022-10-15T01:00:47.978699Z",
     "iopub.status.busy": "2022-10-15T01:00:47.978302Z",
     "iopub.status.idle": "2022-10-15T01:00:49.062644Z",
     "shell.execute_reply": "2022-10-15T01:00:49.061823Z",
     "shell.execute_reply.started": "2022-10-15T01:00:47.978675Z"
    }
   },
   "outputs": [
    {
     "name": "stdout",
     "output_type": "stream",
     "text": [
      "\u001b[0m\u001b[01;34mcatboost_info\u001b[0m/                              model02.pkl  pca.pkl\n",
      "lb-t15-msci-multiome-catboostregressor.log  model03.pkl  preds.npy\n",
      "model00.pkl                                 model04.pkl  submission.csv\n",
      "model01.pkl                                 pca2.pkl\n"
     ]
    }
   ],
   "source": [
    "%ls catboost"
   ]
  },
  {
   "cell_type": "code",
   "execution_count": 395,
   "id": "3aff2ae7-73b3-4b8a-991a-1a6ae769c903",
   "metadata": {
    "execution": {
     "iopub.execute_input": "2022-10-15T05:31:22.911654Z",
     "iopub.status.busy": "2022-10-15T05:31:22.911248Z",
     "iopub.status.idle": "2022-10-15T05:31:28.019206Z",
     "shell.execute_reply": "2022-10-15T05:31:28.018546Z",
     "shell.execute_reply.started": "2022-10-15T05:31:22.911625Z"
    }
   },
   "outputs": [
    {
     "name": "stdout",
     "output_type": "stream",
     "text": [
      "1748/1748 [==============================] - 5s 3ms/step\n"
     ]
    }
   ],
   "source": [
    "abc = model.predict(multi_X_test)"
   ]
  },
  {
   "cell_type": "code",
   "execution_count": 396,
   "id": "6944e698-0bed-4e67-ad9d-271f69742005",
   "metadata": {
    "execution": {
     "iopub.execute_input": "2022-10-15T05:31:28.560486Z",
     "iopub.status.busy": "2022-10-15T05:31:28.560099Z",
     "iopub.status.idle": "2022-10-15T05:31:28.564686Z",
     "shell.execute_reply": "2022-10-15T05:31:28.564130Z",
     "shell.execute_reply.started": "2022-10-15T05:31:28.560461Z"
    }
   },
   "outputs": [
    {
     "data": {
      "text/plain": [
       "(55935, 128)"
      ]
     },
     "execution_count": 396,
     "metadata": {},
     "output_type": "execute_result"
    }
   ],
   "source": [
    "abc.shape"
   ]
  },
  {
   "cell_type": "code",
   "execution_count": 420,
   "id": "53515d03-035e-4ffb-a944-f4692889806a",
   "metadata": {
    "execution": {
     "iopub.execute_input": "2022-10-15T05:51:57.834227Z",
     "iopub.status.busy": "2022-10-15T05:51:57.833825Z",
     "iopub.status.idle": "2022-10-15T05:51:57.838495Z",
     "shell.execute_reply": "2022-10-15T05:51:57.837945Z",
     "shell.execute_reply.started": "2022-10-15T05:51:57.834201Z"
    }
   },
   "outputs": [
    {
     "data": {
      "text/plain": [
       "6812820"
      ]
     },
     "execution_count": 420,
     "metadata": {},
     "output_type": "execute_result"
    }
   ],
   "source": [
    "len(test_cite_pred.ravel())"
   ]
  },
  {
   "cell_type": "code",
   "execution_count": 421,
   "id": "ecfb6907-9181-4a88-a6a6-9c0d9ecb9ec1",
   "metadata": {
    "execution": {
     "iopub.execute_input": "2022-10-15T05:52:06.815860Z",
     "iopub.status.busy": "2022-10-15T05:52:06.815467Z",
     "iopub.status.idle": "2022-10-15T05:52:06.820216Z",
     "shell.execute_reply": "2022-10-15T05:52:06.819647Z",
     "shell.execute_reply.started": "2022-10-15T05:52:06.815836Z"
    },
    "tags": []
   },
   "outputs": [
    {
     "data": {
      "text/plain": [
       "58931360"
      ]
     },
     "execution_count": 421,
     "metadata": {},
     "output_type": "execute_result"
    }
   ],
   "source": [
    "len(submission) - len(test_cite_pred.ravel())"
   ]
  },
  {
   "cell_type": "code",
   "execution_count": 423,
   "id": "9171af07-6dc8-4e49-a724-3a75c80cad10",
   "metadata": {
    "execution": {
     "iopub.execute_input": "2022-10-15T05:52:36.461348Z",
     "iopub.status.busy": "2022-10-15T05:52:36.460947Z",
     "iopub.status.idle": "2022-10-15T05:52:36.465593Z",
     "shell.execute_reply": "2022-10-15T05:52:36.465022Z",
     "shell.execute_reply.started": "2022-10-15T05:52:36.461323Z"
    },
    "tags": []
   },
   "outputs": [
    {
     "data": {
      "text/plain": [
       "(55935, 23418)"
      ]
     },
     "execution_count": 423,
     "metadata": {},
     "output_type": "execute_result"
    }
   ],
   "source": [
    "abc.shape"
   ]
  },
  {
   "cell_type": "code",
   "execution_count": 425,
   "id": "ca55d3c5-a1f5-4caf-9c7d-0350bb432ce0",
   "metadata": {
    "execution": {
     "iopub.execute_input": "2022-10-15T05:55:10.831462Z",
     "iopub.status.busy": "2022-10-15T05:55:10.831059Z",
     "iopub.status.idle": "2022-10-15T05:55:17.918294Z",
     "shell.execute_reply": "2022-10-15T05:55:17.917618Z",
     "shell.execute_reply.started": "2022-10-15T05:55:10.831438Z"
    },
    "tags": []
   },
   "outputs": [],
   "source": [
    "temp = pd.read_parquet('./sparse/evaluation.parquet')"
   ]
  },
  {
   "cell_type": "code",
   "execution_count": 430,
   "id": "d6fc12ca-ef43-4c8a-9cfd-d5bdb46e0b0e",
   "metadata": {
    "execution": {
     "iopub.execute_input": "2022-10-15T05:56:31.946251Z",
     "iopub.status.busy": "2022-10-15T05:56:31.945855Z",
     "iopub.status.idle": "2022-10-15T05:56:41.054973Z",
     "shell.execute_reply": "2022-10-15T05:56:41.054127Z",
     "shell.execute_reply.started": "2022-10-15T05:56:31.946225Z"
    },
    "tags": []
   },
   "outputs": [
    {
     "data": {
      "text/plain": [
       "row_id  gene_id\n",
       "140     140        48663\n",
       "3512    3512       16780\n",
       "dtype: int64"
      ]
     },
     "execution_count": 430,
     "metadata": {},
     "output_type": "execute_result"
    }
   ],
   "source": [
    "temp.groupby('cell_id').count().value_counts()"
   ]
  },
  {
   "cell_type": "code",
   "execution_count": 422,
   "id": "e6586e68-2668-451b-8acc-eec87298aab1",
   "metadata": {
    "execution": {
     "iopub.execute_input": "2022-10-15T05:52:26.019826Z",
     "iopub.status.busy": "2022-10-15T05:52:26.019434Z",
     "iopub.status.idle": "2022-10-15T05:52:26.023914Z",
     "shell.execute_reply": "2022-10-15T05:52:26.023377Z",
     "shell.execute_reply.started": "2022-10-15T05:52:26.019802Z"
    }
   },
   "outputs": [
    {
     "data": {
      "text/plain": [
       "55935"
      ]
     },
     "execution_count": 422,
     "metadata": {},
     "output_type": "execute_result"
    }
   ],
   "source": [
    "len(multi_X_test)"
   ]
  },
  {
   "cell_type": "code",
   "execution_count": 431,
   "id": "a9d8b4f1-3109-4ec6-8798-b33564387a8f",
   "metadata": {
    "execution": {
     "iopub.execute_input": "2022-10-15T05:57:19.590629Z",
     "iopub.status.busy": "2022-10-15T05:57:19.590230Z",
     "iopub.status.idle": "2022-10-15T05:57:19.595568Z",
     "shell.execute_reply": "2022-10-15T05:57:19.594801Z",
     "shell.execute_reply.started": "2022-10-15T05:57:19.590604Z"
    }
   },
   "outputs": [
    {
     "data": {
      "text/plain": [
       "48663"
      ]
     },
     "execution_count": 431,
     "metadata": {},
     "output_type": "execute_result"
    }
   ],
   "source": [
    "len(X_test_cite)"
   ]
  },
  {
   "cell_type": "code",
   "execution_count": 432,
   "id": "fd132f0d-8046-4d0d-b972-b776f7fe3097",
   "metadata": {
    "execution": {
     "iopub.execute_input": "2022-10-15T05:59:42.947548Z",
     "iopub.status.busy": "2022-10-15T05:59:42.947159Z",
     "iopub.status.idle": "2022-10-15T06:00:02.573001Z",
     "shell.execute_reply": "2022-10-15T06:00:02.572072Z",
     "shell.execute_reply.started": "2022-10-15T05:59:42.947522Z"
    }
   },
   "outputs": [
    {
     "name": "stdout",
     "output_type": "stream",
     "text": [
      "CPU times: user 19.5 s, sys: 4.23 s, total: 23.8 s\n",
      "Wall time: 19.6 s\n"
     ]
    }
   ],
   "source": [
    "%%time\n",
    "# Read the table of rows and columns required for submission\n",
    "eval_ids = pd.read_parquet(\"./sparse/evaluation.parquet\")\n",
    "# Convert the string columns to more efficient categorical types\n",
    "#eval_ids.cell_id = eval_ids.cell_id.apply(lambda s: int(s, base=16))\n",
    "eval_ids.cell_id = eval_ids.cell_id.astype(pd.CategoricalDtype())\n",
    "eval_ids.gene_id = eval_ids.gene_id.astype(pd.CategoricalDtype())"
   ]
  },
  {
   "cell_type": "code",
   "execution_count": 434,
   "id": "5cf71530-b6be-4101-86c5-64998fa2cb01",
   "metadata": {
    "execution": {
     "iopub.execute_input": "2022-10-15T06:00:53.852715Z",
     "iopub.status.busy": "2022-10-15T06:00:53.852281Z",
     "iopub.status.idle": "2022-10-15T06:01:10.430533Z",
     "shell.execute_reply": "2022-10-15T06:01:10.429938Z",
     "shell.execute_reply.started": "2022-10-15T06:00:53.852687Z"
    },
    "tags": []
   },
   "outputs": [
    {
     "data": {
      "text/plain": [
       "MultiIndex([(       0, 'c2150f55becb',            'CD86'),\n",
       "            (       1, 'c2150f55becb',           'CD274'),\n",
       "            (       2, 'c2150f55becb',           'CD270'),\n",
       "            (       3, 'c2150f55becb',           'CD155'),\n",
       "            (       4, 'c2150f55becb',           'CD112'),\n",
       "            (       5, 'c2150f55becb',            'CD47'),\n",
       "            (       6, 'c2150f55becb',            'CD48'),\n",
       "            (       7, 'c2150f55becb',            'CD40'),\n",
       "            (       8, 'c2150f55becb',           'CD154'),\n",
       "            (       9, 'c2150f55becb',            'CD52'),\n",
       "            ...\n",
       "            (65744170, '2c53aa67933d', 'ENSG00000275549'),\n",
       "            (65744171, '2c53aa67933d', 'ENSG00000233643'),\n",
       "            (65744172, '2c53aa67933d', 'ENSG00000280213'),\n",
       "            (65744173, '2c53aa67933d', 'ENSG00000239467'),\n",
       "            (65744174, '2c53aa67933d', 'ENSG00000224812'),\n",
       "            (65744175, '2c53aa67933d', 'ENSG00000134419'),\n",
       "            (65744176, '2c53aa67933d', 'ENSG00000186862'),\n",
       "            (65744177, '2c53aa67933d', 'ENSG00000170959'),\n",
       "            (65744178, '2c53aa67933d', 'ENSG00000107874'),\n",
       "            (65744179, '2c53aa67933d', 'ENSG00000166012')],\n",
       "           names=['row_id', 'cell_id', 'gene_id'], length=65744180)"
      ]
     },
     "execution_count": 434,
     "metadata": {},
     "output_type": "execute_result"
    }
   ],
   "source": [
    "submission = pd.Series(name='target',\n",
    "                       index=pd.MultiIndex.from_frame(eval_ids), \n",
    "                       dtype=np.float32)\n",
    "submission\n"
   ]
  },
  {
   "cell_type": "code",
   "execution_count": 435,
   "id": "a4915ea1-0635-43d7-8a9d-47b54adab177",
   "metadata": {
    "execution": {
     "iopub.execute_input": "2022-10-15T06:02:16.241428Z",
     "iopub.status.busy": "2022-10-15T06:02:16.241008Z",
     "iopub.status.idle": "2022-10-15T06:02:16.274902Z",
     "shell.execute_reply": "2022-10-15T06:02:16.274307Z",
     "shell.execute_reply.started": "2022-10-15T06:02:16.241402Z"
    }
   },
   "outputs": [],
   "source": [
    "y_columns = np.load(\"./sparse/train_multi_targets_idxcol.npz\",\n",
    "                   allow_pickle=True)[\"columns\"]\n",
    "\n",
    "test_index = np.load(\"./sparse/test_multi_inputs_idxcol.npz\",\n",
    "                    allow_pickle=True)[\"index\"]"
   ]
  },
  {
   "cell_type": "code",
   "execution_count": 438,
   "id": "7b1092c6-3094-4507-8ddc-968a7d383715",
   "metadata": {
    "execution": {
     "iopub.execute_input": "2022-10-15T06:03:17.472800Z",
     "iopub.status.busy": "2022-10-15T06:03:17.472383Z",
     "iopub.status.idle": "2022-10-15T06:03:17.491580Z",
     "shell.execute_reply": "2022-10-15T06:03:17.490992Z",
     "shell.execute_reply.started": "2022-10-15T06:03:17.472774Z"
    },
    "tags": []
   },
   "outputs": [],
   "source": [
    "cell_dict = dict((k,v) for v,k in enumerate(test_index)) \n",
    "assert len(cell_dict)  == len(test_index)\n",
    "\n",
    "gene_dict = dict((k,v) for v,k in enumerate(y_columns))\n",
    "assert len(gene_dict) == len(y_columns)"
   ]
  },
  {
   "cell_type": "code",
   "execution_count": 440,
   "id": "3c1549a7-e82f-4e95-96cc-b7c9994e6357",
   "metadata": {
    "execution": {
     "iopub.execute_input": "2022-10-15T06:05:15.152381Z",
     "iopub.status.busy": "2022-10-15T06:05:15.151992Z",
     "iopub.status.idle": "2022-10-15T06:05:16.470701Z",
     "shell.execute_reply": "2022-10-15T06:05:16.470048Z",
     "shell.execute_reply.started": "2022-10-15T06:05:15.152356Z"
    }
   },
   "outputs": [],
   "source": [
    "eval_ids_cell_num = eval_ids.cell_id.apply(lambda x:cell_dict.get(x, -1))\n",
    "eval_ids_gene_num = eval_ids.gene_id.apply(lambda x:gene_dict.get(x, -1))\n",
    "\n",
    "valid_multi_rows = (eval_ids_gene_num !=-1) & (eval_ids_cell_num!=-1)"
   ]
  },
  {
   "cell_type": "code",
   "execution_count": 444,
   "id": "26f056bb-70f2-4735-8c68-b1195a9ec85e",
   "metadata": {
    "execution": {
     "iopub.execute_input": "2022-10-15T06:07:59.101128Z",
     "iopub.status.busy": "2022-10-15T06:07:59.100716Z",
     "iopub.status.idle": "2022-10-15T06:07:59.105240Z",
     "shell.execute_reply": "2022-10-15T06:07:59.104687Z",
     "shell.execute_reply.started": "2022-10-15T06:07:59.101104Z"
    }
   },
   "outputs": [
    {
     "data": {
      "text/plain": [
       "(55935, 23418)"
      ]
     },
     "execution_count": 444,
     "metadata": {},
     "output_type": "execute_result"
    }
   ],
   "source": [
    "abc.shape"
   ]
  },
  {
   "cell_type": "code",
   "execution_count": 445,
   "id": "7dbc05ca-a6e4-46ee-b3d5-d1651d90881d",
   "metadata": {
    "execution": {
     "iopub.execute_input": "2022-10-15T06:08:08.875153Z",
     "iopub.status.busy": "2022-10-15T06:08:08.874759Z",
     "iopub.status.idle": "2022-10-15T06:08:10.714930Z",
     "shell.execute_reply": "2022-10-15T06:08:10.714282Z",
     "shell.execute_reply.started": "2022-10-15T06:08:08.875128Z"
    }
   },
   "outputs": [],
   "source": [
    "submission.iloc[valid_multi_rows] = abc[eval_ids_cell_num[valid_multi_rows].to_numpy(),\n",
    "eval_ids_gene_num[valid_multi_rows].to_numpy()]"
   ]
  },
  {
   "cell_type": "code",
   "execution_count": 447,
   "id": "7c3a017f-75a9-4007-a27c-c0a4e15386ae",
   "metadata": {
    "execution": {
     "iopub.execute_input": "2022-10-15T06:08:43.276361Z",
     "iopub.status.busy": "2022-10-15T06:08:43.275968Z",
     "iopub.status.idle": "2022-10-15T06:08:43.432668Z",
     "shell.execute_reply": "2022-10-15T06:08:43.432071Z",
     "shell.execute_reply.started": "2022-10-15T06:08:43.276335Z"
    },
    "tags": []
   },
   "outputs": [
    {
     "data": {
      "text/plain": [
       "row_id    cell_id       gene_id        \n",
       "0         c2150f55becb  CD86                    NaN\n",
       "1         c2150f55becb  CD274                   NaN\n",
       "2         c2150f55becb  CD270                   NaN\n",
       "3         c2150f55becb  CD155                   NaN\n",
       "4         c2150f55becb  CD112                   NaN\n",
       "                                             ...   \n",
       "65744175  2c53aa67933d  ENSG00000134419    5.159278\n",
       "65744176  2c53aa67933d  ENSG00000186862   -0.710506\n",
       "65744177  2c53aa67933d  ENSG00000170959   -0.562515\n",
       "65744178  2c53aa67933d  ENSG00000107874    0.522227\n",
       "65744179  2c53aa67933d  ENSG00000166012    5.658827\n",
       "Name: target, Length: 65744180, dtype: float32"
      ]
     },
     "execution_count": 447,
     "metadata": {},
     "output_type": "execute_result"
    }
   ],
   "source": [
    "submission"
   ]
  },
  {
   "cell_type": "code",
   "execution_count": 448,
   "id": "ff762a6d-557a-4e4b-b5dc-699799325d2e",
   "metadata": {
    "execution": {
     "iopub.execute_input": "2022-10-15T06:09:28.113011Z",
     "iopub.status.busy": "2022-10-15T06:09:28.112572Z",
     "iopub.status.idle": "2022-10-15T06:09:28.116466Z",
     "shell.execute_reply": "2022-10-15T06:09:28.115908Z",
     "shell.execute_reply.started": "2022-10-15T06:09:28.112984Z"
    }
   },
   "outputs": [],
   "source": [
    "submission.reset_index(drop=True, inplace=True)\n",
    "submission.index.name = 'row_id'"
   ]
  },
  {
   "cell_type": "code",
   "execution_count": 449,
   "id": "675a6940-4f4f-4b28-a0d4-dc899742aae6",
   "metadata": {
    "execution": {
     "iopub.execute_input": "2022-10-15T06:10:33.343831Z",
     "iopub.status.busy": "2022-10-15T06:10:33.343415Z",
     "iopub.status.idle": "2022-10-15T06:10:33.352526Z",
     "shell.execute_reply": "2022-10-15T06:10:33.351936Z",
     "shell.execute_reply.started": "2022-10-15T06:10:33.343806Z"
    }
   },
   "outputs": [],
   "source": [
    "submission.iloc[:len(test_cite_pred.ravel())] = test_cite_pred.ravel()"
   ]
  },
  {
   "cell_type": "code",
   "execution_count": 450,
   "id": "012b366a-79cf-4038-ad42-1ac1a4c8cca0",
   "metadata": {
    "execution": {
     "iopub.execute_input": "2022-10-15T06:10:41.089049Z",
     "iopub.status.busy": "2022-10-15T06:10:41.088638Z",
     "iopub.status.idle": "2022-10-15T06:10:41.094509Z",
     "shell.execute_reply": "2022-10-15T06:10:41.093965Z",
     "shell.execute_reply.started": "2022-10-15T06:10:41.089025Z"
    }
   },
   "outputs": [
    {
     "data": {
      "text/plain": [
       "row_id\n",
       "0          -14.205769\n",
       "1          -13.714285\n",
       "2          -11.913100\n",
       "3           10.173475\n",
       "4           16.069633\n",
       "              ...    \n",
       "65744175     5.159278\n",
       "65744176    -0.710506\n",
       "65744177    -0.562515\n",
       "65744178     0.522227\n",
       "65744179     5.658827\n",
       "Name: target, Length: 65744180, dtype: float32"
      ]
     },
     "execution_count": 450,
     "metadata": {},
     "output_type": "execute_result"
    }
   ],
   "source": [
    "submission"
   ]
  },
  {
   "cell_type": "code",
   "execution_count": 453,
   "id": "80e93874-c7e5-471d-962d-606595d9ec78",
   "metadata": {
    "execution": {
     "iopub.execute_input": "2022-10-15T06:11:05.519312Z",
     "iopub.status.busy": "2022-10-15T06:11:05.518914Z",
     "iopub.status.idle": "2022-10-15T06:11:05.555143Z",
     "shell.execute_reply": "2022-10-15T06:11:05.554526Z",
     "shell.execute_reply.started": "2022-10-15T06:11:05.519288Z"
    },
    "tags": []
   },
   "outputs": [],
   "source": [
    "assert not submission.isna().any()"
   ]
  },
  {
   "cell_type": "code",
   "execution_count": 415,
   "id": "2748cb62-75ff-4b5d-8887-84e7a6565459",
   "metadata": {
    "execution": {
     "iopub.execute_input": "2022-10-15T05:48:41.441159Z",
     "iopub.status.busy": "2022-10-15T05:48:41.440752Z",
     "iopub.status.idle": "2022-10-15T05:50:00.078366Z",
     "shell.execute_reply": "2022-10-15T05:50:00.077503Z",
     "shell.execute_reply.started": "2022-10-15T05:48:41.441131Z"
    },
    "tags": []
   },
   "outputs": [
    {
     "name": "stdout",
     "output_type": "stream",
     "text": [
      "Predicting with fold 0\n",
      "1748/1748 [==============================] - 5s 3ms/step\n",
      "Predicting with fold 1\n",
      "1748/1748 [==============================] - 5s 3ms/step\n",
      "Predicting with fold 2\n",
      "1748/1748 [==============================] - 5s 3ms/step\n"
     ]
    },
    {
     "ename": "ValueError",
     "evalue": "cannot set using a slice indexer with a different length than the value",
     "output_type": "error",
     "traceback": [
      "\u001b[0;31m---------------------------------------------------------------------------\u001b[0m",
      "\u001b[0;31mValueError\u001b[0m                                Traceback (most recent call last)",
      "Input \u001b[0;32mIn [415]\u001b[0m, in \u001b[0;36m<cell line: 11>\u001b[0;34m()\u001b[0m\n\u001b[1;32m     26\u001b[0m \u001b[38;5;66;03m#with open(\"../input/msci-multiome-quickstart/partial_submission_multi.pickle\", 'rb') as f: submission = pickle.load(f)\u001b[39;00m\n\u001b[1;32m     27\u001b[0m \u001b[38;5;66;03m#submission = pd.read_csv('./catboost/submission.csv',\u001b[39;00m\n\u001b[1;32m     28\u001b[0m \u001b[38;5;66;03m#                         index_col='row_id', squeeze=True)\u001b[39;00m\n\u001b[1;32m     29\u001b[0m submission\u001b[38;5;241m.\u001b[39miloc[:\u001b[38;5;28mlen\u001b[39m(test_cite_pred\u001b[38;5;241m.\u001b[39mravel())] \u001b[38;5;241m=\u001b[39m test_cite_pred\u001b[38;5;241m.\u001b[39mravel()\n\u001b[0;32m---> 30\u001b[0m \u001b[43msubmission\u001b[49m\u001b[38;5;241;43m.\u001b[39;49m\u001b[43miloc\u001b[49m\u001b[43m[\u001b[49m\u001b[38;5;28;43mlen\u001b[39;49m\u001b[43m(\u001b[49m\u001b[43mtest_cite_pred\u001b[49m\u001b[38;5;241;43m.\u001b[39;49m\u001b[43mravel\u001b[49m\u001b[43m(\u001b[49m\u001b[43m)\u001b[49m\u001b[43m)\u001b[49m\u001b[43m:\u001b[49m\u001b[43m]\u001b[49m \u001b[38;5;241m=\u001b[39m abc\u001b[38;5;241m.\u001b[39mravel()\n\u001b[1;32m     31\u001b[0m \u001b[38;5;28;01massert\u001b[39;00m \u001b[38;5;129;01mnot\u001b[39;00m submission\u001b[38;5;241m.\u001b[39misna()\u001b[38;5;241m.\u001b[39many()\n\u001b[1;32m     32\u001b[0m submission\u001b[38;5;241m.\u001b[39mto_csv(\u001b[38;5;124m'\u001b[39m\u001b[38;5;124msubmission.csv\u001b[39m\u001b[38;5;124m'\u001b[39m)\n",
      "File \u001b[0;32m~/.local/lib/python3.9/site-packages/pandas/core/indexing.py:723\u001b[0m, in \u001b[0;36m_LocationIndexer.__setitem__\u001b[0;34m(self, key, value)\u001b[0m\n\u001b[1;32m    720\u001b[0m \u001b[38;5;28mself\u001b[39m\u001b[38;5;241m.\u001b[39m_has_valid_setitem_indexer(key)\n\u001b[1;32m    722\u001b[0m iloc \u001b[38;5;241m=\u001b[39m \u001b[38;5;28mself\u001b[39m \u001b[38;5;28;01mif\u001b[39;00m \u001b[38;5;28mself\u001b[39m\u001b[38;5;241m.\u001b[39mname \u001b[38;5;241m==\u001b[39m \u001b[38;5;124m\"\u001b[39m\u001b[38;5;124miloc\u001b[39m\u001b[38;5;124m\"\u001b[39m \u001b[38;5;28;01melse\u001b[39;00m \u001b[38;5;28mself\u001b[39m\u001b[38;5;241m.\u001b[39mobj\u001b[38;5;241m.\u001b[39miloc\n\u001b[0;32m--> 723\u001b[0m \u001b[43miloc\u001b[49m\u001b[38;5;241;43m.\u001b[39;49m\u001b[43m_setitem_with_indexer\u001b[49m\u001b[43m(\u001b[49m\u001b[43mindexer\u001b[49m\u001b[43m,\u001b[49m\u001b[43m \u001b[49m\u001b[43mvalue\u001b[49m\u001b[43m,\u001b[49m\u001b[43m \u001b[49m\u001b[38;5;28;43mself\u001b[39;49m\u001b[38;5;241;43m.\u001b[39;49m\u001b[43mname\u001b[49m\u001b[43m)\u001b[49m\n",
      "File \u001b[0;32m~/.local/lib/python3.9/site-packages/pandas/core/indexing.py:1732\u001b[0m, in \u001b[0;36m_iLocIndexer._setitem_with_indexer\u001b[0;34m(self, indexer, value, name)\u001b[0m\n\u001b[1;32m   1730\u001b[0m     \u001b[38;5;28mself\u001b[39m\u001b[38;5;241m.\u001b[39m_setitem_with_indexer_split_path(indexer, value, name)\n\u001b[1;32m   1731\u001b[0m \u001b[38;5;28;01melse\u001b[39;00m:\n\u001b[0;32m-> 1732\u001b[0m     \u001b[38;5;28;43mself\u001b[39;49m\u001b[38;5;241;43m.\u001b[39;49m\u001b[43m_setitem_single_block\u001b[49m\u001b[43m(\u001b[49m\u001b[43mindexer\u001b[49m\u001b[43m,\u001b[49m\u001b[43m \u001b[49m\u001b[43mvalue\u001b[49m\u001b[43m,\u001b[49m\u001b[43m \u001b[49m\u001b[43mname\u001b[49m\u001b[43m)\u001b[49m\n",
      "File \u001b[0;32m~/.local/lib/python3.9/site-packages/pandas/core/indexing.py:1968\u001b[0m, in \u001b[0;36m_iLocIndexer._setitem_single_block\u001b[0;34m(self, indexer, value, name)\u001b[0m\n\u001b[1;32m   1965\u001b[0m \u001b[38;5;28mself\u001b[39m\u001b[38;5;241m.\u001b[39mobj\u001b[38;5;241m.\u001b[39m_check_is_chained_assignment_possible()\n\u001b[1;32m   1967\u001b[0m \u001b[38;5;66;03m# actually do the set\u001b[39;00m\n\u001b[0;32m-> 1968\u001b[0m \u001b[38;5;28mself\u001b[39m\u001b[38;5;241m.\u001b[39mobj\u001b[38;5;241m.\u001b[39m_mgr \u001b[38;5;241m=\u001b[39m \u001b[38;5;28;43mself\u001b[39;49m\u001b[38;5;241;43m.\u001b[39;49m\u001b[43mobj\u001b[49m\u001b[38;5;241;43m.\u001b[39;49m\u001b[43m_mgr\u001b[49m\u001b[38;5;241;43m.\u001b[39;49m\u001b[43msetitem\u001b[49m\u001b[43m(\u001b[49m\u001b[43mindexer\u001b[49m\u001b[38;5;241;43m=\u001b[39;49m\u001b[43mindexer\u001b[49m\u001b[43m,\u001b[49m\u001b[43m \u001b[49m\u001b[43mvalue\u001b[49m\u001b[38;5;241;43m=\u001b[39;49m\u001b[43mvalue\u001b[49m\u001b[43m)\u001b[49m\n\u001b[1;32m   1969\u001b[0m \u001b[38;5;28mself\u001b[39m\u001b[38;5;241m.\u001b[39mobj\u001b[38;5;241m.\u001b[39m_maybe_update_cacher(clear\u001b[38;5;241m=\u001b[39m\u001b[38;5;28;01mTrue\u001b[39;00m)\n",
      "File \u001b[0;32m~/.local/lib/python3.9/site-packages/pandas/core/internals/managers.py:355\u001b[0m, in \u001b[0;36mBaseBlockManager.setitem\u001b[0;34m(self, indexer, value)\u001b[0m\n\u001b[1;32m    354\u001b[0m \u001b[38;5;28;01mdef\u001b[39;00m \u001b[38;5;21msetitem\u001b[39m(\u001b[38;5;28mself\u001b[39m: T, indexer, value) \u001b[38;5;241m-\u001b[39m\u001b[38;5;241m>\u001b[39m T:\n\u001b[0;32m--> 355\u001b[0m     \u001b[38;5;28;01mreturn\u001b[39;00m \u001b[38;5;28;43mself\u001b[39;49m\u001b[38;5;241;43m.\u001b[39;49m\u001b[43mapply\u001b[49m\u001b[43m(\u001b[49m\u001b[38;5;124;43m\"\u001b[39;49m\u001b[38;5;124;43msetitem\u001b[39;49m\u001b[38;5;124;43m\"\u001b[39;49m\u001b[43m,\u001b[49m\u001b[43m \u001b[49m\u001b[43mindexer\u001b[49m\u001b[38;5;241;43m=\u001b[39;49m\u001b[43mindexer\u001b[49m\u001b[43m,\u001b[49m\u001b[43m \u001b[49m\u001b[43mvalue\u001b[49m\u001b[38;5;241;43m=\u001b[39;49m\u001b[43mvalue\u001b[49m\u001b[43m)\u001b[49m\n",
      "File \u001b[0;32m~/.local/lib/python3.9/site-packages/pandas/core/internals/managers.py:327\u001b[0m, in \u001b[0;36mBaseBlockManager.apply\u001b[0;34m(self, f, align_keys, ignore_failures, **kwargs)\u001b[0m\n\u001b[1;32m    325\u001b[0m         applied \u001b[38;5;241m=\u001b[39m b\u001b[38;5;241m.\u001b[39mapply(f, \u001b[38;5;241m*\u001b[39m\u001b[38;5;241m*\u001b[39mkwargs)\n\u001b[1;32m    326\u001b[0m     \u001b[38;5;28;01melse\u001b[39;00m:\n\u001b[0;32m--> 327\u001b[0m         applied \u001b[38;5;241m=\u001b[39m \u001b[38;5;28;43mgetattr\u001b[39;49m\u001b[43m(\u001b[49m\u001b[43mb\u001b[49m\u001b[43m,\u001b[49m\u001b[43m \u001b[49m\u001b[43mf\u001b[49m\u001b[43m)\u001b[49m\u001b[43m(\u001b[49m\u001b[38;5;241;43m*\u001b[39;49m\u001b[38;5;241;43m*\u001b[39;49m\u001b[43mkwargs\u001b[49m\u001b[43m)\u001b[49m\n\u001b[1;32m    328\u001b[0m \u001b[38;5;28;01mexcept\u001b[39;00m (\u001b[38;5;167;01mTypeError\u001b[39;00m, \u001b[38;5;167;01mNotImplementedError\u001b[39;00m):\n\u001b[1;32m    329\u001b[0m     \u001b[38;5;28;01mif\u001b[39;00m \u001b[38;5;129;01mnot\u001b[39;00m ignore_failures:\n",
      "File \u001b[0;32m~/.local/lib/python3.9/site-packages/pandas/core/internals/blocks.py:943\u001b[0m, in \u001b[0;36mBlock.setitem\u001b[0;34m(self, indexer, value)\u001b[0m\n\u001b[1;32m    940\u001b[0m     values \u001b[38;5;241m=\u001b[39m values\u001b[38;5;241m.\u001b[39mT\n\u001b[1;32m    942\u001b[0m \u001b[38;5;66;03m# length checking\u001b[39;00m\n\u001b[0;32m--> 943\u001b[0m \u001b[43mcheck_setitem_lengths\u001b[49m\u001b[43m(\u001b[49m\u001b[43mindexer\u001b[49m\u001b[43m,\u001b[49m\u001b[43m \u001b[49m\u001b[43mvalue\u001b[49m\u001b[43m,\u001b[49m\u001b[43m \u001b[49m\u001b[43mvalues\u001b[49m\u001b[43m)\u001b[49m\n\u001b[1;32m    944\u001b[0m exact_match \u001b[38;5;241m=\u001b[39m is_exact_shape_match(values, arr_value)\n\u001b[1;32m    946\u001b[0m \u001b[38;5;28;01mif\u001b[39;00m is_empty_indexer(indexer, arr_value):\n\u001b[1;32m    947\u001b[0m     \u001b[38;5;66;03m# GH#8669 empty indexers\u001b[39;00m\n",
      "File \u001b[0;32m~/.local/lib/python3.9/site-packages/pandas/core/indexers.py:187\u001b[0m, in \u001b[0;36mcheck_setitem_lengths\u001b[0;34m(indexer, value, values)\u001b[0m\n\u001b[1;32m    184\u001b[0m \u001b[38;5;28;01mif\u001b[39;00m is_list_like(value):\n\u001b[1;32m    185\u001b[0m     \u001b[38;5;28;01mif\u001b[39;00m \u001b[38;5;28mlen\u001b[39m(value) \u001b[38;5;241m!=\u001b[39m length_of_indexer(indexer, values) \u001b[38;5;129;01mand\u001b[39;00m values\u001b[38;5;241m.\u001b[39mndim \u001b[38;5;241m==\u001b[39m \u001b[38;5;241m1\u001b[39m:\n\u001b[1;32m    186\u001b[0m         \u001b[38;5;66;03m# In case of two dimensional value is used row-wise and broadcasted\u001b[39;00m\n\u001b[0;32m--> 187\u001b[0m         \u001b[38;5;28;01mraise\u001b[39;00m \u001b[38;5;167;01mValueError\u001b[39;00m(\n\u001b[1;32m    188\u001b[0m             \u001b[38;5;124m\"\u001b[39m\u001b[38;5;124mcannot set using a slice indexer with a \u001b[39m\u001b[38;5;124m\"\u001b[39m\n\u001b[1;32m    189\u001b[0m             \u001b[38;5;124m\"\u001b[39m\u001b[38;5;124mdifferent length than the value\u001b[39m\u001b[38;5;124m\"\u001b[39m\n\u001b[1;32m    190\u001b[0m         )\n\u001b[1;32m    191\u001b[0m     \u001b[38;5;28;01mif\u001b[39;00m \u001b[38;5;129;01mnot\u001b[39;00m \u001b[38;5;28mlen\u001b[39m(value):\n\u001b[1;32m    192\u001b[0m         no_op \u001b[38;5;241m=\u001b[39m \u001b[38;5;28;01mTrue\u001b[39;00m\n",
      "\u001b[0;31mValueError\u001b[0m: cannot set using a slice indexer with a different length than the value"
     ]
    }
   ],
   "source": [
    "if True:\n",
    "    # test_cite_pred = np.zeros((len(X_test_cite), 140), dtype=np.float32)\n",
    "    # for fold in range(6):\n",
    "    #     print(f\"Predicting with fold {fold}\")\n",
    "    #     model = load_model(f\"./model/model_{fold}\",\n",
    "    #                        custom_objects={'negative_correlation_loss': negative_correlation_loss})\n",
    "    #     test_cite_pred += model.predict(X_test_cite)/6\n",
    "    \n",
    "    # Copy the targets for the data leak\n",
    "    #test_pred[:7476] = Y[:7476]\n",
    "    test_multi_pred = np.zeros((len(multi_X_test), 22858), dtype=np.float32)\n",
    "    for fold in range(3):\n",
    "        print(f\"Predicting with fold {fold}\")\n",
    "        model = load_model(f\"./model_multi/model_{fold}\",\n",
    "                           custom_objects={'negative_correlation_loss': negative_correlation_loss})\n",
    "        test_multi_pred += pca_train.inverse_transform(model.predict(multi_X_test))/3\n",
    "    abc = np.zeros((len(multi_X_test), 22858 + len(zero_columns)), dtype=np.float32)\n",
    "    j = 0\n",
    "    for i in range(22858 + len(zero_columns)):\n",
    "        if i in zero_columns:\n",
    "            pass\n",
    "        else:\n",
    "            abc[:,i] = test_multi_pred[:,j]\n",
    "            j += 1\n",
    "\n",
    "    #with open(\"../input/msci-multiome-quickstart/partial_submission_multi.pickle\", 'rb') as f: submission = pickle.load(f)\n",
    "    #submission = pd.read_csv('./catboost/submission.csv',\n",
    "    #                         index_col='row_id', squeeze=True)\n",
    "    submission.iloc[:len(test_cite_pred.ravel())] = test_cite_pred.ravel()\n",
    "    submission.iloc[len(test_cite_pred.ravel()):] = abc.ravel()\n",
    "    assert not submission.isna().any()\n",
    "    submission.to_csv('submission.csv')\n",
    "    display(submission)"
   ]
  },
  {
   "cell_type": "code",
   "execution_count": null,
   "id": "109e3abc-df54-47be-b9a8-3541cca12f7b",
   "metadata": {},
   "outputs": [],
   "source": []
  },
  {
   "cell_type": "code",
   "execution_count": 366,
   "id": "04b0501d-140f-4a21-b90d-876cb7c9be5c",
   "metadata": {
    "execution": {
     "iopub.execute_input": "2022-10-15T01:07:20.670779Z",
     "iopub.status.busy": "2022-10-15T01:07:20.670380Z",
     "iopub.status.idle": "2022-10-15T01:07:27.546739Z",
     "shell.execute_reply": "2022-10-15T01:07:27.546148Z",
     "shell.execute_reply.started": "2022-10-15T01:07:20.670753Z"
    },
    "tags": []
   },
   "outputs": [
    {
     "name": "stdout",
     "output_type": "stream",
     "text": [
      "2219/2219 [==============================] - 6s 3ms/step\n"
     ]
    },
    {
     "data": {
      "text/plain": [
       "array([[-13.601508 , -12.951623 , -11.266804 , ..., -12.711218 ,\n",
       "         -4.7161765,  -5.734308 ],\n",
       "       [-13.768899 , -13.870382 , -12.165372 , ..., -13.139913 ,\n",
       "         -1.6309749,  -6.3214684],\n",
       "       [-11.332975 ,  -9.842586 ,  -8.402178 , ..., -11.158837 ,\n",
       "         18.831457 ,  -2.2068696],\n",
       "       ...,\n",
       "       [-16.312664 , -14.1682005, -10.3791895, ..., -14.877346 ,\n",
       "         25.273022 ,   5.3378005],\n",
       "       [-11.829328 , -10.988879 ,  -8.950435 , ...,  -9.898064 ,\n",
       "          4.602272 ,   2.5388331],\n",
       "       [ -9.037295 ,  -8.111307 ,  -6.421322 , ...,  -8.424071 ,\n",
       "         13.414315 ,   3.318079 ]], dtype=float32)"
      ]
     },
     "execution_count": 366,
     "metadata": {},
     "output_type": "execute_result"
    }
   ],
   "source": [
    "pca_train.inverse_transform(model.predict(multi_X_test))"
   ]
  },
  {
   "cell_type": "code",
   "execution_count": 367,
   "id": "33b996d6-951b-4881-b902-e67f9a1fb12c",
   "metadata": {
    "execution": {
     "iopub.execute_input": "2022-10-15T01:07:36.430727Z",
     "iopub.status.busy": "2022-10-15T01:07:36.430327Z",
     "iopub.status.idle": "2022-10-15T01:07:36.435889Z",
     "shell.execute_reply": "2022-10-15T01:07:36.435352Z",
     "shell.execute_reply.started": "2022-10-15T01:07:36.430701Z"
    }
   },
   "outputs": [
    {
     "data": {
      "text/plain": [
       "matrix([[ 0.09460447, -0.16236247, -0.40533194, ..., -0.2604974 ,\n",
       "          0.38325763, -0.19745262],\n",
       "        [-0.25125083, -0.35797054, -0.16268902, ..., -0.19555242,\n",
       "          0.40262994,  0.21424626],\n",
       "        [-0.5045346 , -0.52717906, -0.6661142 , ..., -0.78993785,\n",
       "          0.9858621 ,  0.6095203 ],\n",
       "        ...,\n",
       "        [-0.21439946, -0.42171356, -0.15420535, ..., -0.28104922,\n",
       "          1.3694407 ,  0.39634088],\n",
       "        [-0.59204555, -0.8529565 , -0.36310583, ..., -0.15817975,\n",
       "          0.16098164,  0.7527571 ],\n",
       "        [-0.64900035, -0.6185921 , -0.27466986, ..., -0.3303311 ,\n",
       "          1.6578442 ,  0.4573473 ]], dtype=float32)"
      ]
     },
     "execution_count": 367,
     "metadata": {},
     "output_type": "execute_result"
    }
   ],
   "source": [
    "y_train"
   ]
  },
  {
   "cell_type": "code",
   "execution_count": 368,
   "id": "c7a65665-f43e-4a38-a47d-17ab91e27cfa",
   "metadata": {
    "execution": {
     "iopub.execute_input": "2022-10-15T01:08:33.634034Z",
     "iopub.status.busy": "2022-10-15T01:08:33.633630Z",
     "iopub.status.idle": "2022-10-15T01:08:47.156423Z",
     "shell.execute_reply": "2022-10-15T01:08:47.155820Z",
     "shell.execute_reply.started": "2022-10-15T01:08:33.634008Z"
    }
   },
   "outputs": [
    {
     "name": "stdout",
     "output_type": "stream",
     "text": [
      "2219/2219 [==============================] - 6s 3ms/step\n"
     ]
    },
    {
     "data": {
      "text/plain": [
       "0.9059421959098458"
      ]
     },
     "execution_count": 368,
     "metadata": {},
     "output_type": "execute_result"
    }
   ],
   "source": [
    "correlation_score(y_train,model.predict(X_train_cite))"
   ]
  },
  {
   "cell_type": "code",
   "execution_count": 369,
   "id": "ac955e4a-c233-4d04-b69b-cf719dfba8ae",
   "metadata": {
    "execution": {
     "iopub.execute_input": "2022-10-15T01:18:22.966930Z",
     "iopub.status.busy": "2022-10-15T01:18:22.966536Z",
     "iopub.status.idle": "2022-10-15T01:18:22.972215Z",
     "shell.execute_reply": "2022-10-15T01:18:22.971662Z",
     "shell.execute_reply.started": "2022-10-15T01:18:22.966906Z"
    }
   },
   "outputs": [
    {
     "data": {
      "text/plain": [
       "'/home/jovyan/kaggle/working'"
      ]
     },
     "execution_count": 369,
     "metadata": {},
     "output_type": "execute_result"
    }
   ],
   "source": [
    "%pwd"
   ]
  },
  {
   "cell_type": "code",
   "execution_count": 455,
   "id": "b905da79-93f0-48dc-b07f-3c4c3a449b43",
   "metadata": {
    "execution": {
     "iopub.execute_input": "2022-10-15T06:11:56.360431Z",
     "iopub.status.busy": "2022-10-15T06:11:56.359993Z",
     "iopub.status.idle": "2022-10-15T06:13:41.509843Z",
     "shell.execute_reply": "2022-10-15T06:13:41.509182Z",
     "shell.execute_reply.started": "2022-10-15T06:11:56.360400Z"
    }
   },
   "outputs": [],
   "source": [
    "submission.to_csv(\"submission.csv\")"
   ]
  },
  {
   "cell_type": "code",
   "execution_count": 456,
   "id": "5ca7e6a4-16ff-432d-9365-a0f6a08a52d0",
   "metadata": {
    "execution": {
     "iopub.execute_input": "2022-10-15T06:14:01.412510Z",
     "iopub.status.busy": "2022-10-15T06:14:01.412105Z",
     "iopub.status.idle": "2022-10-15T06:18:36.985238Z",
     "shell.execute_reply": "2022-10-15T06:18:36.984373Z",
     "shell.execute_reply.started": "2022-10-15T06:14:01.412486Z"
    },
    "tags": []
   },
   "outputs": [
    {
     "name": "stdout",
     "output_type": "stream",
     "text": [
      "100%|██████████████████████████████████████| 1.20G/1.20G [04:32<00:00, 4.74MB/s]\n",
      "Successfully submitted to Open Problems - Multimodal Single-Cell Integration"
     ]
    }
   ],
   "source": [
    "!kaggle competitions submit -c open-problems-multimodal -f submission.csv -m 'third submit'"
   ]
  },
  {
   "cell_type": "code",
   "execution_count": 387,
   "id": "84edb4da-ef13-45b6-8cb9-d31d6547b8c8",
   "metadata": {
    "execution": {
     "iopub.execute_input": "2022-10-15T04:27:12.709129Z",
     "iopub.status.busy": "2022-10-15T04:27:12.708620Z",
     "iopub.status.idle": "2022-10-15T04:37:38.383364Z",
     "shell.execute_reply": "2022-10-15T04:37:38.382408Z",
     "shell.execute_reply.started": "2022-10-15T04:27:12.709098Z"
    },
    "tags": []
   },
   "outputs": [
    {
     "name": "stderr",
     "output_type": "stream",
     "text": [
      "/srv/conda/envs/saturn/lib/python3.9/site-packages/sklearn/utils/validation.py:727: FutureWarning: np.matrix usage is deprecated in 1.0 and will raise a TypeError in 1.2. Please convert to a numpy array with np.asarray. For more information see: https://numpy.org/doc/stable/reference/generated/numpy.matrix.html\n",
      "  warnings.warn(\n"
     ]
    },
    {
     "name": "stdout",
     "output_type": "stream",
     "text": [
      "INFO:tensorflow:Assets written to: ./model_multi/model_0/assets\n",
      "1/1 [==============================] - 0s 105ms/step\n",
      "Fold 0:  47 epochs, corr =  0.87441\n",
      "INFO:tensorflow:Assets written to: ./model_multi/model_1/assets\n",
      "1/1 [==============================] - 0s 98ms/step\n",
      "Fold 1:  70 epochs, corr =  0.87610\n",
      "INFO:tensorflow:Assets written to: ./model_multi/model_2/assets\n",
      "1/1 [==============================] - 0s 97ms/step\n",
      "Fold 2:  57 epochs, corr =  0.87552\n"
     ]
    },
    {
     "ename": "KeyboardInterrupt",
     "evalue": "",
     "output_type": "error",
     "traceback": [
      "\u001b[0;31m---------------------------------------------------------------------------\u001b[0m",
      "\u001b[0;31mKeyboardInterrupt\u001b[0m                         Traceback (most recent call last)",
      "Input \u001b[0;32mIn [387]\u001b[0m, in \u001b[0;36m<cell line: 58>\u001b[0;34m()\u001b[0m\n\u001b[1;32m     56\u001b[0m     \u001b[38;5;66;03m# Show overall score\u001b[39;00m\n\u001b[1;32m     57\u001b[0m     \u001b[38;5;28mprint\u001b[39m(\u001b[38;5;124mf\u001b[39m\u001b[38;5;124m\"\u001b[39m\u001b[38;5;132;01m{\u001b[39;00mFore\u001b[38;5;241m.\u001b[39mGREEN\u001b[38;5;132;01m}\u001b[39;00m\u001b[38;5;132;01m{\u001b[39;00mStyle\u001b[38;5;241m.\u001b[39mBRIGHT\u001b[38;5;132;01m}\u001b[39;00m\u001b[38;5;124mAverage  corr = \u001b[39m\u001b[38;5;132;01m{\u001b[39;00mnp\u001b[38;5;241m.\u001b[39marray(score_list)\u001b[38;5;241m.\u001b[39mmean()\u001b[38;5;132;01m:\u001b[39;00m\u001b[38;5;124m.5f\u001b[39m\u001b[38;5;132;01m}\u001b[39;00m\u001b[38;5;132;01m{\u001b[39;00mStyle\u001b[38;5;241m.\u001b[39mRESET_ALL\u001b[38;5;132;01m}\u001b[39;00m\u001b[38;5;124m\"\u001b[39m)\n\u001b[0;32m---> 58\u001b[0m \u001b[43mfit\u001b[49m\u001b[43m(\u001b[49m\u001b[43mX_train_cite\u001b[49m\u001b[43m,\u001b[49m\u001b[43mpca_cite_targets\u001b[49m\u001b[43m,\u001b[49m\u001b[43mmeta\u001b[49m\u001b[43m)\u001b[49m\n",
      "Input \u001b[0;32mIn [387]\u001b[0m, in \u001b[0;36mfit\u001b[0;34m(X_train, y_train, meta, loss)\u001b[0m\n\u001b[1;32m     32\u001b[0m model \u001b[38;5;241m=\u001b[39m my_model(best_hp, n_inputs\u001b[38;5;241m=\u001b[39mX_train\u001b[38;5;241m.\u001b[39mshape[\u001b[38;5;241m1\u001b[39m],n_outputs\u001b[38;5;241m=\u001b[39my_train\u001b[38;5;241m.\u001b[39mshape[\u001b[38;5;241m1\u001b[39m],reg1\u001b[38;5;241m=\u001b[39mreg1,reg2\u001b[38;5;241m=\u001b[39mreg2,loss \u001b[38;5;241m=\u001b[39m loss)\n\u001b[1;32m     34\u001b[0m \u001b[38;5;66;03m# Train the model\u001b[39;00m\n\u001b[0;32m---> 35\u001b[0m history \u001b[38;5;241m=\u001b[39m \u001b[43mmodel\u001b[49m\u001b[38;5;241;43m.\u001b[39;49m\u001b[43mfit\u001b[49m\u001b[43m(\u001b[49m\u001b[43mX_tr\u001b[49m\u001b[43m,\u001b[49m\u001b[43m \u001b[49m\u001b[43my_tr\u001b[49m\u001b[43m,\u001b[49m\u001b[43m \u001b[49m\n\u001b[1;32m     36\u001b[0m \u001b[43m                    \u001b[49m\u001b[43mvalidation_data\u001b[49m\u001b[38;5;241;43m=\u001b[39;49m\u001b[43m(\u001b[49m\u001b[43mX_va\u001b[49m\u001b[43m,\u001b[49m\u001b[43m \u001b[49m\u001b[43my_va\u001b[49m\u001b[43m)\u001b[49m\u001b[43m,\u001b[49m\u001b[43m \u001b[49m\n\u001b[1;32m     37\u001b[0m \u001b[43m                    \u001b[49m\u001b[43mepochs\u001b[49m\u001b[38;5;241;43m=\u001b[39;49m\u001b[43mEPOCHS\u001b[49m\u001b[43m,\u001b[49m\n\u001b[1;32m     38\u001b[0m \u001b[43m                    \u001b[49m\u001b[43mverbose\u001b[49m\u001b[38;5;241;43m=\u001b[39;49m\u001b[43mVERBOSE\u001b[49m\u001b[43m,\u001b[49m\n\u001b[1;32m     39\u001b[0m \u001b[43m                    \u001b[49m\u001b[43mbatch_size\u001b[49m\u001b[38;5;241;43m=\u001b[39;49m\u001b[43mBATCH_SIZE\u001b[49m\u001b[43m,\u001b[49m\n\u001b[1;32m     40\u001b[0m \u001b[43m                    \u001b[49m\u001b[43mshuffle\u001b[49m\u001b[38;5;241;43m=\u001b[39;49m\u001b[38;5;28;43;01mTrue\u001b[39;49;00m\u001b[43m,\u001b[49m\n\u001b[1;32m     41\u001b[0m \u001b[43m                    \u001b[49m\u001b[43mcallbacks\u001b[49m\u001b[38;5;241;43m=\u001b[39;49m\u001b[43mcallbacks\u001b[49m\u001b[43m)\u001b[49m\n\u001b[1;32m     42\u001b[0m \u001b[38;5;28;01mdel\u001b[39;00m X_tr, y_tr\n\u001b[1;32m     43\u001b[0m \u001b[38;5;28;01mif\u001b[39;00m \u001b[38;5;28;01mTrue\u001b[39;00m:\n",
      "File \u001b[0;32m/srv/conda/envs/saturn/lib/python3.9/site-packages/keras/utils/traceback_utils.py:65\u001b[0m, in \u001b[0;36mfilter_traceback.<locals>.error_handler\u001b[0;34m(*args, **kwargs)\u001b[0m\n\u001b[1;32m     63\u001b[0m filtered_tb \u001b[38;5;241m=\u001b[39m \u001b[38;5;28;01mNone\u001b[39;00m\n\u001b[1;32m     64\u001b[0m \u001b[38;5;28;01mtry\u001b[39;00m:\n\u001b[0;32m---> 65\u001b[0m     \u001b[38;5;28;01mreturn\u001b[39;00m \u001b[43mfn\u001b[49m\u001b[43m(\u001b[49m\u001b[38;5;241;43m*\u001b[39;49m\u001b[43margs\u001b[49m\u001b[43m,\u001b[49m\u001b[43m \u001b[49m\u001b[38;5;241;43m*\u001b[39;49m\u001b[38;5;241;43m*\u001b[39;49m\u001b[43mkwargs\u001b[49m\u001b[43m)\u001b[49m\n\u001b[1;32m     66\u001b[0m \u001b[38;5;28;01mexcept\u001b[39;00m \u001b[38;5;167;01mException\u001b[39;00m \u001b[38;5;28;01mas\u001b[39;00m e:\n\u001b[1;32m     67\u001b[0m     filtered_tb \u001b[38;5;241m=\u001b[39m _process_traceback_frames(e\u001b[38;5;241m.\u001b[39m__traceback__)\n",
      "File \u001b[0;32m/srv/conda/envs/saturn/lib/python3.9/site-packages/keras/engine/training.py:1564\u001b[0m, in \u001b[0;36mModel.fit\u001b[0;34m(self, x, y, batch_size, epochs, verbose, callbacks, validation_split, validation_data, shuffle, class_weight, sample_weight, initial_epoch, steps_per_epoch, validation_steps, validation_batch_size, validation_freq, max_queue_size, workers, use_multiprocessing)\u001b[0m\n\u001b[1;32m   1556\u001b[0m \u001b[38;5;28;01mwith\u001b[39;00m tf\u001b[38;5;241m.\u001b[39mprofiler\u001b[38;5;241m.\u001b[39mexperimental\u001b[38;5;241m.\u001b[39mTrace(\n\u001b[1;32m   1557\u001b[0m     \u001b[38;5;124m\"\u001b[39m\u001b[38;5;124mtrain\u001b[39m\u001b[38;5;124m\"\u001b[39m,\n\u001b[1;32m   1558\u001b[0m     epoch_num\u001b[38;5;241m=\u001b[39mepoch,\n\u001b[0;32m   (...)\u001b[0m\n\u001b[1;32m   1561\u001b[0m     _r\u001b[38;5;241m=\u001b[39m\u001b[38;5;241m1\u001b[39m,\n\u001b[1;32m   1562\u001b[0m ):\n\u001b[1;32m   1563\u001b[0m     callbacks\u001b[38;5;241m.\u001b[39mon_train_batch_begin(step)\n\u001b[0;32m-> 1564\u001b[0m     tmp_logs \u001b[38;5;241m=\u001b[39m \u001b[38;5;28;43mself\u001b[39;49m\u001b[38;5;241;43m.\u001b[39;49m\u001b[43mtrain_function\u001b[49m\u001b[43m(\u001b[49m\u001b[43miterator\u001b[49m\u001b[43m)\u001b[49m\n\u001b[1;32m   1565\u001b[0m     \u001b[38;5;28;01mif\u001b[39;00m data_handler\u001b[38;5;241m.\u001b[39mshould_sync:\n\u001b[1;32m   1566\u001b[0m         context\u001b[38;5;241m.\u001b[39masync_wait()\n",
      "File \u001b[0;32m/srv/conda/envs/saturn/lib/python3.9/site-packages/tensorflow/python/util/traceback_utils.py:150\u001b[0m, in \u001b[0;36mfilter_traceback.<locals>.error_handler\u001b[0;34m(*args, **kwargs)\u001b[0m\n\u001b[1;32m    148\u001b[0m filtered_tb \u001b[38;5;241m=\u001b[39m \u001b[38;5;28;01mNone\u001b[39;00m\n\u001b[1;32m    149\u001b[0m \u001b[38;5;28;01mtry\u001b[39;00m:\n\u001b[0;32m--> 150\u001b[0m   \u001b[38;5;28;01mreturn\u001b[39;00m \u001b[43mfn\u001b[49m\u001b[43m(\u001b[49m\u001b[38;5;241;43m*\u001b[39;49m\u001b[43margs\u001b[49m\u001b[43m,\u001b[49m\u001b[43m \u001b[49m\u001b[38;5;241;43m*\u001b[39;49m\u001b[38;5;241;43m*\u001b[39;49m\u001b[43mkwargs\u001b[49m\u001b[43m)\u001b[49m\n\u001b[1;32m    151\u001b[0m \u001b[38;5;28;01mexcept\u001b[39;00m \u001b[38;5;167;01mException\u001b[39;00m \u001b[38;5;28;01mas\u001b[39;00m e:\n\u001b[1;32m    152\u001b[0m   filtered_tb \u001b[38;5;241m=\u001b[39m _process_traceback_frames(e\u001b[38;5;241m.\u001b[39m__traceback__)\n",
      "File \u001b[0;32m/srv/conda/envs/saturn/lib/python3.9/site-packages/tensorflow/python/eager/def_function.py:915\u001b[0m, in \u001b[0;36mFunction.__call__\u001b[0;34m(self, *args, **kwds)\u001b[0m\n\u001b[1;32m    912\u001b[0m compiler \u001b[38;5;241m=\u001b[39m \u001b[38;5;124m\"\u001b[39m\u001b[38;5;124mxla\u001b[39m\u001b[38;5;124m\"\u001b[39m \u001b[38;5;28;01mif\u001b[39;00m \u001b[38;5;28mself\u001b[39m\u001b[38;5;241m.\u001b[39m_jit_compile \u001b[38;5;28;01melse\u001b[39;00m \u001b[38;5;124m\"\u001b[39m\u001b[38;5;124mnonXla\u001b[39m\u001b[38;5;124m\"\u001b[39m\n\u001b[1;32m    914\u001b[0m \u001b[38;5;28;01mwith\u001b[39;00m OptionalXlaContext(\u001b[38;5;28mself\u001b[39m\u001b[38;5;241m.\u001b[39m_jit_compile):\n\u001b[0;32m--> 915\u001b[0m   result \u001b[38;5;241m=\u001b[39m \u001b[38;5;28;43mself\u001b[39;49m\u001b[38;5;241;43m.\u001b[39;49m\u001b[43m_call\u001b[49m\u001b[43m(\u001b[49m\u001b[38;5;241;43m*\u001b[39;49m\u001b[43margs\u001b[49m\u001b[43m,\u001b[49m\u001b[43m \u001b[49m\u001b[38;5;241;43m*\u001b[39;49m\u001b[38;5;241;43m*\u001b[39;49m\u001b[43mkwds\u001b[49m\u001b[43m)\u001b[49m\n\u001b[1;32m    917\u001b[0m new_tracing_count \u001b[38;5;241m=\u001b[39m \u001b[38;5;28mself\u001b[39m\u001b[38;5;241m.\u001b[39mexperimental_get_tracing_count()\n\u001b[1;32m    918\u001b[0m without_tracing \u001b[38;5;241m=\u001b[39m (tracing_count \u001b[38;5;241m==\u001b[39m new_tracing_count)\n",
      "File \u001b[0;32m/srv/conda/envs/saturn/lib/python3.9/site-packages/tensorflow/python/eager/def_function.py:947\u001b[0m, in \u001b[0;36mFunction._call\u001b[0;34m(self, *args, **kwds)\u001b[0m\n\u001b[1;32m    944\u001b[0m   \u001b[38;5;28mself\u001b[39m\u001b[38;5;241m.\u001b[39m_lock\u001b[38;5;241m.\u001b[39mrelease()\n\u001b[1;32m    945\u001b[0m   \u001b[38;5;66;03m# In this case we have created variables on the first call, so we run the\u001b[39;00m\n\u001b[1;32m    946\u001b[0m   \u001b[38;5;66;03m# defunned version which is guaranteed to never create variables.\u001b[39;00m\n\u001b[0;32m--> 947\u001b[0m   \u001b[38;5;28;01mreturn\u001b[39;00m \u001b[38;5;28;43mself\u001b[39;49m\u001b[38;5;241;43m.\u001b[39;49m\u001b[43m_stateless_fn\u001b[49m\u001b[43m(\u001b[49m\u001b[38;5;241;43m*\u001b[39;49m\u001b[43margs\u001b[49m\u001b[43m,\u001b[49m\u001b[43m \u001b[49m\u001b[38;5;241;43m*\u001b[39;49m\u001b[38;5;241;43m*\u001b[39;49m\u001b[43mkwds\u001b[49m\u001b[43m)\u001b[49m  \u001b[38;5;66;03m# pylint: disable=not-callable\u001b[39;00m\n\u001b[1;32m    948\u001b[0m \u001b[38;5;28;01melif\u001b[39;00m \u001b[38;5;28mself\u001b[39m\u001b[38;5;241m.\u001b[39m_stateful_fn \u001b[38;5;129;01mis\u001b[39;00m \u001b[38;5;129;01mnot\u001b[39;00m \u001b[38;5;28;01mNone\u001b[39;00m:\n\u001b[1;32m    949\u001b[0m   \u001b[38;5;66;03m# Release the lock early so that multiple threads can perform the call\u001b[39;00m\n\u001b[1;32m    950\u001b[0m   \u001b[38;5;66;03m# in parallel.\u001b[39;00m\n\u001b[1;32m    951\u001b[0m   \u001b[38;5;28mself\u001b[39m\u001b[38;5;241m.\u001b[39m_lock\u001b[38;5;241m.\u001b[39mrelease()\n",
      "File \u001b[0;32m/srv/conda/envs/saturn/lib/python3.9/site-packages/tensorflow/python/eager/function.py:2495\u001b[0m, in \u001b[0;36mFunction.__call__\u001b[0;34m(self, *args, **kwargs)\u001b[0m\n\u001b[1;32m   2492\u001b[0m \u001b[38;5;124;03m\"\"\"Calls a graph function specialized to the inputs.\"\"\"\u001b[39;00m\n\u001b[1;32m   2493\u001b[0m \u001b[38;5;28;01mwith\u001b[39;00m \u001b[38;5;28mself\u001b[39m\u001b[38;5;241m.\u001b[39m_lock:\n\u001b[1;32m   2494\u001b[0m   (graph_function,\n\u001b[0;32m-> 2495\u001b[0m    filtered_flat_args) \u001b[38;5;241m=\u001b[39m \u001b[38;5;28;43mself\u001b[39;49m\u001b[38;5;241;43m.\u001b[39;49m\u001b[43m_maybe_define_function\u001b[49m\u001b[43m(\u001b[49m\u001b[43margs\u001b[49m\u001b[43m,\u001b[49m\u001b[43m \u001b[49m\u001b[43mkwargs\u001b[49m\u001b[43m)\u001b[49m\n\u001b[1;32m   2496\u001b[0m \u001b[38;5;28;01mreturn\u001b[39;00m graph_function\u001b[38;5;241m.\u001b[39m_call_flat(\n\u001b[1;32m   2497\u001b[0m     filtered_flat_args, captured_inputs\u001b[38;5;241m=\u001b[39mgraph_function\u001b[38;5;241m.\u001b[39mcaptured_inputs)\n",
      "File \u001b[0;32m/srv/conda/envs/saturn/lib/python3.9/site-packages/tensorflow/python/eager/function.py:2714\u001b[0m, in \u001b[0;36mFunction._maybe_define_function\u001b[0;34m(self, args, kwargs)\u001b[0m\n\u001b[1;32m   2690\u001b[0m \u001b[38;5;124;03m\"\"\"Gets a function for these inputs, defining it if necessary.\u001b[39;00m\n\u001b[1;32m   2691\u001b[0m \n\u001b[1;32m   2692\u001b[0m \u001b[38;5;124;03m`args` and `kwargs` can be None if this `Function` was created with an\u001b[39;00m\n\u001b[0;32m   (...)\u001b[0m\n\u001b[1;32m   2710\u001b[0m \u001b[38;5;124;03m    shape relaxation retracing.\u001b[39;00m\n\u001b[1;32m   2711\u001b[0m \u001b[38;5;124;03m\"\"\"\u001b[39;00m\n\u001b[1;32m   2712\u001b[0m \u001b[38;5;28;01mif\u001b[39;00m \u001b[38;5;28mself\u001b[39m\u001b[38;5;241m.\u001b[39minput_signature \u001b[38;5;129;01mis\u001b[39;00m \u001b[38;5;28;01mNone\u001b[39;00m \u001b[38;5;129;01mor\u001b[39;00m args \u001b[38;5;129;01mis\u001b[39;00m \u001b[38;5;129;01mnot\u001b[39;00m \u001b[38;5;28;01mNone\u001b[39;00m \u001b[38;5;129;01mor\u001b[39;00m kwargs \u001b[38;5;129;01mis\u001b[39;00m \u001b[38;5;129;01mnot\u001b[39;00m \u001b[38;5;28;01mNone\u001b[39;00m:\n\u001b[1;32m   2713\u001b[0m   args, kwargs, filtered_flat_args \u001b[38;5;241m=\u001b[39m (\n\u001b[0;32m-> 2714\u001b[0m       \u001b[38;5;28;43mself\u001b[39;49m\u001b[38;5;241;43m.\u001b[39;49m\u001b[43m_function_spec\u001b[49m\u001b[38;5;241;43m.\u001b[39;49m\u001b[43mcanonicalize_function_inputs\u001b[49m\u001b[43m(\u001b[49m\u001b[38;5;241;43m*\u001b[39;49m\u001b[43margs\u001b[49m\u001b[43m,\u001b[49m\u001b[43m \u001b[49m\u001b[38;5;241;43m*\u001b[39;49m\u001b[38;5;241;43m*\u001b[39;49m\u001b[43mkwargs\u001b[49m\u001b[43m)\u001b[49m)\n\u001b[1;32m   2715\u001b[0m \u001b[38;5;28;01melse\u001b[39;00m:\n\u001b[1;32m   2716\u001b[0m   filtered_flat_args \u001b[38;5;241m=\u001b[39m []\n",
      "File \u001b[0;32m/srv/conda/envs/saturn/lib/python3.9/site-packages/tensorflow/python/eager/function_spec.py:435\u001b[0m, in \u001b[0;36mFunctionSpec.canonicalize_function_inputs\u001b[0;34m(self, *args, **kwargs)\u001b[0m\n\u001b[1;32m    431\u001b[0m \u001b[38;5;28;01melse\u001b[39;00m:\n\u001b[1;32m    432\u001b[0m   inputs, flat_inputs, filtered_flat_inputs \u001b[38;5;241m=\u001b[39m _convert_inputs_to_signature(\n\u001b[1;32m    433\u001b[0m       inputs, \u001b[38;5;28mself\u001b[39m\u001b[38;5;241m.\u001b[39m_input_signature, \u001b[38;5;28mself\u001b[39m\u001b[38;5;241m.\u001b[39m_flat_input_signature)\n\u001b[0;32m--> 435\u001b[0m \u001b[38;5;28;43mself\u001b[39;49m\u001b[38;5;241;43m.\u001b[39;49m\u001b[43m_validate_inputs\u001b[49m\u001b[43m(\u001b[49m\u001b[43mflat_inputs\u001b[49m\u001b[43m)\u001b[49m\n\u001b[1;32m    437\u001b[0m \u001b[38;5;28;01mreturn\u001b[39;00m inputs, kwargs, filtered_flat_inputs\n",
      "File \u001b[0;32m/srv/conda/envs/saturn/lib/python3.9/site-packages/tensorflow/python/eager/function_spec.py:305\u001b[0m, in \u001b[0;36mFunctionSpec._validate_inputs\u001b[0;34m(self, flat_inputs)\u001b[0m\n\u001b[1;32m    302\u001b[0m \u001b[38;5;124;03m\"\"\"Raises an error if inputs contain illegal values.\"\"\"\u001b[39;00m\n\u001b[1;32m    303\u001b[0m \u001b[38;5;28;01mfor\u001b[39;00m inp \u001b[38;5;129;01min\u001b[39;00m flat_inputs:\n\u001b[1;32m    304\u001b[0m   \u001b[38;5;66;03m# TODO(b/183107079): Allow these once they're handled properly.\u001b[39;00m\n\u001b[0;32m--> 305\u001b[0m   \u001b[38;5;28;01mif\u001b[39;00m \u001b[38;5;28;43misinstance\u001b[39;49m\u001b[43m(\u001b[49m\u001b[43minp\u001b[49m\u001b[43m,\u001b[49m\u001b[43m \u001b[49m\u001b[43mweakref\u001b[49m\u001b[38;5;241;43m.\u001b[39;49m\u001b[43mref\u001b[49m\u001b[43m)\u001b[49m:\n\u001b[1;32m    306\u001b[0m     \u001b[38;5;28;01mraise\u001b[39;00m \u001b[38;5;167;01mValueError\u001b[39;00m(\n\u001b[1;32m    307\u001b[0m         \u001b[38;5;124mf\u001b[39m\u001b[38;5;124m\"\u001b[39m\u001b[38;5;124mweakref input \u001b[39m\u001b[38;5;132;01m{\u001b[39;00minp\u001b[38;5;132;01m}\u001b[39;00m\u001b[38;5;124m not supported for function \u001b[39m\u001b[38;5;132;01m{\u001b[39;00m\u001b[38;5;28mself\u001b[39m\u001b[38;5;241m.\u001b[39m_name\u001b[38;5;132;01m}\u001b[39;00m\u001b[38;5;124m\"\u001b[39m)\n",
      "\u001b[0;31mKeyboardInterrupt\u001b[0m: "
     ]
    }
   ],
   "source": [
    "pca_train = TruncatedSVD(n_components=140, random_state=1)\n",
    "pca_cite_targets = pca_train.fit_transform(y_train)\n",
    "VERBOSE = 0 # set to 2 for more output, set to 0 for less output\n",
    "EPOCHS = 1000\n",
    "N_SPLITS = 6\n",
    "\n",
    "def fit(X_train, y_train,meta,loss=negative_correlation_loss):\n",
    "    np.random.seed(1)\n",
    "    tf.random.set_seed(1)\n",
    "\n",
    "    kf = KFold(n_splits=N_SPLITS)\n",
    "    score_list = []\n",
    "    for fold, (idx_tr, idx_va) in enumerate(kf.split(X_train)):\n",
    "        start_time = datetime.datetime.now()\n",
    "        model = None\n",
    "        gc.collect()\n",
    "        X_tr = X_train[idx_tr]\n",
    "        y_tr = y_train[idx_tr]\n",
    "        X_va = X_train[idx_va]\n",
    "        y_va = y_train[idx_va]\n",
    "\n",
    "        lr = ReduceLROnPlateau(monitor=\"val_loss\", factor=0.5, \n",
    "                              patience=4, verbose=VERBOSE)\n",
    "        es = EarlyStopping(monitor=\"val_loss\",\n",
    "                          patience=12, \n",
    "                          verbose=0,\n",
    "                          mode=\"min\", \n",
    "                          restore_best_weights=True)\n",
    "        callbacks = [lr, es, tf.keras.callbacks.TerminateOnNaN()]\n",
    "\n",
    "        # Construct and compile the model\n",
    "        model = my_model(best_hp, n_inputs=X_train.shape[1],n_outputs=y_train.shape[1],reg1=reg1,reg2=reg2,loss = loss)\n",
    "\n",
    "        # Train the model\n",
    "        history = model.fit(X_tr, y_tr, \n",
    "                            validation_data=(X_va, y_va), \n",
    "                            epochs=EPOCHS,\n",
    "                            verbose=VERBOSE,\n",
    "                            batch_size=BATCH_SIZE,\n",
    "                            shuffle=True,\n",
    "                            callbacks=callbacks)\n",
    "        del X_tr, y_tr\n",
    "        if True:\n",
    "            model.save(f\"./model_multi/model_{fold}\")\n",
    "\n",
    "        history = history.history\n",
    "        callbacks, lr = None, None\n",
    "\n",
    "        # We validate the model\n",
    "        y_va_pred = model.predict(X_va, batch_size=X_va.shape[0])\n",
    "        corrscore = correlation_score(pca_train.inverse_transform(y_va), pca_train.inverse_transform(y_va_pred))\n",
    "\n",
    "        print(f\"Fold {fold}: {es.stopped_epoch:3} epochs, corr =  {corrscore:.5f}\")\n",
    "        del es, X_va#, y_va, y_va_pred\n",
    "        score_list.append(corrscore)\n",
    "    # Show overall score\n",
    "    print(f\"{Fore.GREEN}{Style.BRIGHT}Average  corr = {np.array(score_list).mean():.5f}{Style.RESET_ALL}\")\n",
    "fit(X_train_cite,pca_cite_targets,meta)"
   ]
  },
  {
   "cell_type": "code",
   "execution_count": 401,
   "id": "633cf5a0-a909-4b56-874b-e1f623a25bdb",
   "metadata": {
    "execution": {
     "iopub.execute_input": "2022-10-15T05:38:25.921276Z",
     "iopub.status.busy": "2022-10-15T05:38:25.920877Z",
     "iopub.status.idle": "2022-10-15T05:38:39.418072Z",
     "shell.execute_reply": "2022-10-15T05:38:39.417397Z",
     "shell.execute_reply.started": "2022-10-15T05:38:25.921250Z"
    }
   },
   "outputs": [],
   "source": [
    "targets = scipy.sparse.load_npz(\"./sparse/train_multi_targets_values.sparse.npz\")"
   ]
  },
  {
   "cell_type": "code",
   "execution_count": 402,
   "id": "2c22422a-aeda-40b3-9ccc-85d26475a61c",
   "metadata": {
    "execution": {
     "iopub.execute_input": "2022-10-15T05:38:40.783337Z",
     "iopub.status.busy": "2022-10-15T05:38:40.782941Z",
     "iopub.status.idle": "2022-10-15T05:38:40.787649Z",
     "shell.execute_reply": "2022-10-15T05:38:40.787067Z",
     "shell.execute_reply.started": "2022-10-15T05:38:40.783312Z"
    }
   },
   "outputs": [
    {
     "data": {
      "text/plain": [
       "(105942, 23418)"
      ]
     },
     "execution_count": 402,
     "metadata": {},
     "output_type": "execute_result"
    }
   ],
   "source": [
    "targets.shape"
   ]
  },
  {
   "cell_type": "code",
   "execution_count": 407,
   "id": "e8a15bd9-8603-4b36-a954-c5744ca3bc85",
   "metadata": {
    "execution": {
     "iopub.execute_input": "2022-10-15T05:40:38.272083Z",
     "iopub.status.busy": "2022-10-15T05:40:38.271685Z",
     "iopub.status.idle": "2022-10-15T05:40:40.873623Z",
     "shell.execute_reply": "2022-10-15T05:40:40.872926Z",
     "shell.execute_reply.started": "2022-10-15T05:40:38.272058Z"
    },
    "tags": []
   },
   "outputs": [],
   "source": [
    "means = targets.mean(axis=0)"
   ]
  },
  {
   "cell_type": "code",
   "execution_count": 414,
   "id": "94b279dc-a305-4fcb-9b70-70f623120a58",
   "metadata": {
    "execution": {
     "iopub.execute_input": "2022-10-15T05:42:38.244601Z",
     "iopub.status.busy": "2022-10-15T05:42:38.244198Z",
     "iopub.status.idle": "2022-10-15T05:42:38.247988Z",
     "shell.execute_reply": "2022-10-15T05:42:38.247393Z",
     "shell.execute_reply.started": "2022-10-15T05:42:38.244575Z"
    },
    "tags": []
   },
   "outputs": [],
   "source": [
    "zero_columns = (np.where(means == 0.0)[1])"
   ]
  },
  {
   "cell_type": "code",
   "execution_count": 412,
   "id": "a8e7643b-37d1-4229-853b-328bdd5920fd",
   "metadata": {
    "execution": {
     "iopub.execute_input": "2022-10-15T05:42:24.377220Z",
     "iopub.status.busy": "2022-10-15T05:42:24.376744Z",
     "iopub.status.idle": "2022-10-15T05:42:24.381401Z",
     "shell.execute_reply": "2022-10-15T05:42:24.380808Z",
     "shell.execute_reply.started": "2022-10-15T05:42:24.377193Z"
    }
   },
   "outputs": [
    {
     "data": {
      "text/plain": [
       "-560"
      ]
     },
     "execution_count": 412,
     "metadata": {},
     "output_type": "execute_result"
    }
   ],
   "source": [
    "22858 - 23418"
   ]
  },
  {
   "cell_type": "code",
   "execution_count": 403,
   "id": "995abaa6-f1fb-4887-96e3-5ca7b6f76d6a",
   "metadata": {
    "execution": {
     "iopub.execute_input": "2022-10-15T05:38:50.561301Z",
     "iopub.status.busy": "2022-10-15T05:38:50.560913Z",
     "iopub.status.idle": "2022-10-15T05:38:53.009761Z",
     "shell.execute_reply": "2022-10-15T05:38:53.009136Z",
     "shell.execute_reply.started": "2022-10-15T05:38:50.561277Z"
    }
   },
   "outputs": [
    {
     "data": {
      "text/plain": [
       "(105942, 22858)"
      ]
     },
     "execution_count": 403,
     "metadata": {},
     "output_type": "execute_result"
    }
   ],
   "source": [
    "targets2 = scprep.filter.remove_empty_genes(targets)\n",
    "targets2.shape"
   ]
  },
  {
   "cell_type": "code",
   "execution_count": 388,
   "id": "6f20d9a5-6151-403a-bc1b-ed6a25b80f77",
   "metadata": {
    "execution": {
     "iopub.execute_input": "2022-10-15T05:04:55.419995Z",
     "iopub.status.busy": "2022-10-15T05:04:55.419386Z",
     "iopub.status.idle": "2022-10-15T05:16:38.898253Z",
     "shell.execute_reply": "2022-10-15T05:16:38.897512Z",
     "shell.execute_reply.started": "2022-10-15T05:04:55.419969Z"
    },
    "tags": []
   },
   "outputs": [
    {
     "name": "stderr",
     "output_type": "stream",
     "text": [
      "/srv/conda/envs/saturn/lib/python3.9/site-packages/sklearn/utils/validation.py:727: FutureWarning: np.matrix usage is deprecated in 1.0 and will raise a TypeError in 1.2. Please convert to a numpy array with np.asarray. For more information see: https://numpy.org/doc/stable/reference/generated/numpy.matrix.html\n",
      "  warnings.warn(\n"
     ]
    },
    {
     "name": "stdout",
     "output_type": "stream",
     "text": [
      "INFO:tensorflow:Assets written to: ./model_multi/model_0/assets\n",
      "1/1 [==============================] - 0s 124ms/step\n",
      "Fold 0:  61 epochs, corr =  0.74081\n",
      "INFO:tensorflow:Assets written to: ./model_multi/model_1/assets\n",
      "1/1 [==============================] - 0s 121ms/step\n",
      "Fold 1:  70 epochs, corr =  0.80201\n",
      "INFO:tensorflow:Assets written to: ./model_multi/model_2/assets\n",
      "1/1 [==============================] - 0s 125ms/step\n",
      "Fold 2:  51 epochs, corr =  0.73724\n",
      "\u001b[32m\u001b[1mAverage  corr = 0.76002\u001b[0m\n"
     ]
    }
   ],
   "source": [
    "targets = scipy.sparse.load_npz(\"./sparse/train_multi_targets_values.sparse.npz\")\n",
    "targets = scprep.filter.remove_empty_genes(targets)\n",
    "# Normalize the targets row-wise: This doesn't change the correlations,\n",
    "# and negative_correlation_loss depends on it\n",
    "targets -= targets.mean(axis=1).reshape(-1, 1)\n",
    "targets /= targets.std(axis=1).reshape(-1, 1)\n",
    "\n",
    "pca_train = TruncatedSVD(n_components=128, random_state=1)\n",
    "pca_targets = pca_train.fit_transform(targets)\n",
    "\n",
    "VERBOSE = 0 # set to 2 for more output, set to 0 for less output\n",
    "EPOCHS = 1000\n",
    "N_SPLITS = 3\n",
    "\n",
    "def fit(X_train, pca_y_train,y_train, meta,loss=negative_correlation_loss):\n",
    "    np.random.seed(1)\n",
    "    tf.random.set_seed(1)\n",
    "\n",
    "    kf = GroupKFold(n_splits=N_SPLITS)\n",
    "    score_list = []\n",
    "    for fold, (idx_tr, idx_va) in enumerate(kf.split(X_train,groups=meta.donor)):\n",
    "        start_time = datetime.datetime.now()\n",
    "        model = None\n",
    "        gc.collect()\n",
    "        X_tr = X_train[idx_tr]\n",
    "        y_tr = pca_y_train[idx_tr]\n",
    "        X_va = X_train[idx_va]\n",
    "        y_va = pca_y_train[idx_va]\n",
    "\n",
    "        lr = ReduceLROnPlateau(monitor=\"val_loss\", factor=0.5, \n",
    "                              patience=4, verbose=VERBOSE)\n",
    "        es = EarlyStopping(monitor=\"val_loss\",\n",
    "                          patience=12, \n",
    "                          verbose=0,\n",
    "                          mode=\"min\", \n",
    "                          restore_best_weights=True)\n",
    "        callbacks = [lr, es, tf.keras.callbacks.TerminateOnNaN()]\n",
    "\n",
    "        # Construct and compile the model\n",
    "        model = my_model(best_hp, n_inputs=X_train.shape[1],n_outputs=pca_y_train.shape[1],reg1=reg1,reg2=reg2,loss = loss)\n",
    "\n",
    "        # Train the model\n",
    "        history = model.fit(X_tr, y_tr, \n",
    "                            validation_data=(X_va, y_va), \n",
    "                            epochs=EPOCHS,\n",
    "                            verbose=VERBOSE,\n",
    "                            batch_size=BATCH_SIZE,\n",
    "                            shuffle=True,\n",
    "                            callbacks=callbacks)\n",
    "        del X_tr, y_tr\n",
    "        if True:\n",
    "            model.save(f\"./model_multi/model_{fold}\")\n",
    "\n",
    "        history = history.history\n",
    "        callbacks, lr = None, None\n",
    "\n",
    "        # We validate the model\n",
    "        y_va_pred = model.predict(X_va, batch_size=X_va.shape[0])\n",
    "        corrscore = correlation_score(y_train, pca_train.inverse_transform(y_va_pred))\n",
    "\n",
    "        print(f\"Fold {fold}: {es.stopped_epoch:3} epochs, corr =  {corrscore:.5f}\")\n",
    "        del es, X_va#, y_va, y_va_pred\n",
    "        score_list.append(corrscore)\n",
    "    # Show overall score\n",
    "    print(f\"{Fore.GREEN}{Style.BRIGHT}Average  corr = {np.array(score_list).mean():.5f}{Style.RESET_ALL}\")\n",
    "\n",
    "with np.load('./sparse/train_multi_inputs_idxcol.npz',allow_pickle=True) as data:\n",
    "    cell_index = data['index']\n",
    "\n",
    "with np.load('./sparse/test_multi_inputs_idxcol.npz',allow_pickle=True) as data:\n",
    "    cell_index_t = data['index']\n",
    "\n",
    "metadata_df = pd.read_csv('../input/open-problems-multimodal/metadata.csv', index_col='cell_id')\n",
    "metadata_df = metadata_df[metadata_df.technology==\"multiome\"]\n",
    "meta = metadata_df.reindex(cell_index)    \n",
    "    \n",
    "model = fit(multi_X_train,pca_targets,meta)"
   ]
  },
  {
   "cell_type": "code",
   "execution_count": 400,
   "id": "9267b64e-5446-4781-9b08-920b1abd2878",
   "metadata": {
    "execution": {
     "iopub.execute_input": "2022-10-15T05:35:47.943317Z",
     "iopub.status.busy": "2022-10-15T05:35:47.942935Z",
     "iopub.status.idle": "2022-10-15T05:35:54.484172Z",
     "shell.execute_reply": "2022-10-15T05:35:54.483456Z",
     "shell.execute_reply.started": "2022-10-15T05:35:47.943289Z"
    },
    "tags": []
   },
   "outputs": [
    {
     "name": "stdout",
     "output_type": "stream",
     "text": [
      "1748/1748 [==============================] - 5s 3ms/step\n"
     ]
    },
    {
     "data": {
      "text/plain": [
       "array([[-0.6032392 , -0.18927236, -1.8514775 , ..., -0.25472936,\n",
       "        -1.4116759 ,  4.825427  ],\n",
       "       [-0.504821  , -0.13165976, -1.2397938 , ...,  0.06415745,\n",
       "        -0.95780236,  3.5212119 ],\n",
       "       [-0.5903374 , -0.15724015, -1.3592209 , ..., -0.03801346,\n",
       "        -1.5233644 ,  4.589586  ],\n",
       "       ...,\n",
       "       [-0.9454026 , -0.1630902 , -1.1969365 , ...,  0.07594557,\n",
       "        -1.6332266 ,  4.6637654 ],\n",
       "       [-0.95335853, -0.08189125, -1.2614698 , ...,  0.23453274,\n",
       "        -1.4778428 ,  5.4175267 ],\n",
       "       [-0.5581044 ,  0.24563164, -1.9429853 , ...,  0.37694648,\n",
       "         1.8613381 ,  6.9312553 ]], dtype=float32)"
      ]
     },
     "execution_count": 400,
     "metadata": {},
     "output_type": "execute_result"
    }
   ],
   "source": [
    "pca_train.inverse_transform(model.predict(multi_X_test))"
   ]
  },
  {
   "cell_type": "code",
   "execution_count": null,
   "id": "5b8271ce-dcf8-4dda-b8b8-bbaeb614e499",
   "metadata": {},
   "outputs": [],
   "source": [
    "targets"
   ]
  },
  {
   "cell_type": "code",
   "execution_count": null,
   "id": "b3e27c5a-07d7-44ab-bc1f-9802017b9529",
   "metadata": {},
   "outputs": [],
   "source": [
    "targets = scipy.sparse.load_npz(\"./sparse/train_multi_targets_values.sparse.npz\")\n",
    "targets = scprep.filter.remove_empty_genes(targets)\n",
    "# Normalize the targets row-wise: This doesn't change the correlations,\n",
    "# and negative_correlation_loss depends on it\n",
    "targets -= targets.mean(axis=1).reshape(-1, 1)\n",
    "targets /= targets.std(axis=1).reshape(-1, 1)\n",
    "\n",
    "pca_train = TruncatedSVD(n_components=512, random_state=1)\n",
    "pca_targets = pca_train.fit_transform(targets)\n",
    "\n",
    "VERBOSE = 0 # set to 2 for more output, set to 0 for less output\n",
    "EPOCHS = 1000\n",
    "N_SPLITS = 3\n",
    "\n",
    "def fit(X_train, y_train, meta, loss=negative_correlation_loss):\n",
    "    np.random.seed(1)\n",
    "    tf.random.set_seed(1)\n",
    "\n",
    "    kf = GroupKFold(n_splits=N_SPLITS)\n",
    "    score_list = []\n",
    "    for fold, (idx_tr, idx_va) in enumerate(kf.split(X_train,groups=meta.donor)):\n",
    "        start_time = datetime.datetime.now()\n",
    "        model = None\n",
    "        gc.collect()\n",
    "        X_tr = X_train[idx_tr]\n",
    "        y_tr = y_train[idx_tr]\n",
    "        X_va = X_train[idx_va]\n",
    "        y_va = y_train[idx_va]\n",
    "\n",
    "        lr = ReduceLROnPlateau(monitor=\"val_loss\", factor=0.5, \n",
    "                              patience=4, verbose=VERBOSE)\n",
    "        es = EarlyStopping(monitor=\"val_loss\",\n",
    "                          patience=12, \n",
    "                          verbose=0,\n",
    "                          mode=\"min\", \n",
    "                          restore_best_weights=True)\n",
    "        callbacks = [lr, es, tf.keras.callbacks.TerminateOnNaN()]\n",
    "\n",
    "        # Construct and compile the model\n",
    "        model = my_model(best_hp, n_inputs=X_train.shape[1],n_outputs=y_train.shape[1],reg1=reg1,reg2=reg2,loss = loss)\n",
    "\n",
    "        # Train the model\n",
    "        history = model.fit(X_tr, y_tr, \n",
    "                            validation_data=(X_va, y_va), \n",
    "                            epochs=EPOCHS,\n",
    "                            verbose=VERBOSE,\n",
    "                            batch_size=BATCH_SIZE,\n",
    "                            shuffle=True,\n",
    "                            callbacks=callbacks)\n",
    "        del X_tr, y_tr\n",
    "        if True:\n",
    "            model.save(f\"./model_multi/model_{fold}\")\n",
    "\n",
    "        history = history.history\n",
    "        callbacks, lr = None, None\n",
    "\n",
    "        # We validate the model\n",
    "        y_va_pred = model.predict(X_va, batch_size=X_va.shape[0])\n",
    "        corrscore = correlation_score(pca_train.inverse_transform(y_va), pca_train.inverse_transform(y_va_pred))\n",
    "\n",
    "        print(f\"Fold {fold}: {es.stopped_epoch:3} epochs, corr =  {corrscore:.5f}\")\n",
    "        del es, X_va#, y_va, y_va_pred\n",
    "        score_list.append(corrscore)\n",
    "    # Show overall score\n",
    "    print(f\"{Fore.GREEN}{Style.BRIGHT}Average  corr = {np.array(score_list).mean():.5f}{Style.RESET_ALL}\")\n",
    "\n",
    "with np.load('./sparse/train_multi_inputs_idxcol.npz',allow_pickle=True) as data:\n",
    "    cell_index = data['index']\n",
    "\n",
    "with np.load('./sparse/test_multi_inputs_idxcol.npz',allow_pickle=True) as data:\n",
    "    cell_index_t = data['index']\n",
    "\n",
    "metadata_df = pd.read_csv('../input/open-problems-multimodal/metadata.csv', index_col='cell_id')\n",
    "metadata_df = metadata_df[metadata_df.technology==\"multiome\"]\n",
    "meta = metadata_df.reindex(cell_index)    \n",
    "    \n",
    "model = fit(multi_X_train,pca_targets,meta)"
   ]
  }
 ],
 "metadata": {
  "kernelspec": {
   "display_name": "saturn (Python 3)",
   "language": "python",
   "name": "python3"
  },
  "language_info": {
   "codemirror_mode": {
    "name": "ipython",
    "version": 3
   },
   "file_extension": ".py",
   "mimetype": "text/x-python",
   "name": "python",
   "nbconvert_exporter": "python",
   "pygments_lexer": "ipython3",
   "version": "3.9.13"
  }
 },
 "nbformat": 4,
 "nbformat_minor": 5
}
