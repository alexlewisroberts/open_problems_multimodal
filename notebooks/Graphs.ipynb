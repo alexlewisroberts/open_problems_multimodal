{
 "cells": [
  {
   "cell_type": "code",
   "execution_count": 1,
   "id": "66dfdef2-339e-4f6d-9696-a11c6546d648",
   "metadata": {
    "execution": {
     "iopub.execute_input": "2022-10-30T16:42:12.903127Z",
     "iopub.status.busy": "2022-10-30T16:42:12.902735Z",
     "iopub.status.idle": "2022-10-30T16:42:25.233014Z",
     "shell.execute_reply": "2022-10-30T16:42:25.232373Z",
     "shell.execute_reply.started": "2022-10-30T16:42:12.903067Z"
    },
    "tags": []
   },
   "outputs": [
    {
     "name": "stdout",
     "output_type": "stream",
     "text": [
      "Requirement already satisfied: tables in /opt/saturncloud/envs/saturn/lib/python3.9/site-packages (3.7.0)\n",
      "Requirement already satisfied: numexpr>=2.6.2 in /opt/saturncloud/envs/saturn/lib/python3.9/site-packages (from tables) (2.8.4)\n",
      "Requirement already satisfied: numpy>=1.19.0 in /opt/saturncloud/envs/saturn/lib/python3.9/site-packages (from tables) (1.21.6)\n",
      "Requirement already satisfied: packaging in /opt/saturncloud/envs/saturn/lib/python3.9/site-packages (from tables) (21.3)\n",
      "Requirement already satisfied: pyparsing!=3.0.5,>=2.0.2 in /opt/saturncloud/envs/saturn/lib/python3.9/site-packages (from packaging->tables) (3.0.9)\n",
      "Requirement already satisfied: muon in /opt/saturncloud/envs/saturn/lib/python3.9/site-packages (0.1.2)\n",
      "Requirement already satisfied: protobuf in /opt/saturncloud/envs/saturn/lib/python3.9/site-packages (from muon) (3.19.6)\n",
      "Requirement already satisfied: pandas in ./.local/lib/python3.9/site-packages (from muon) (1.3.5)\n",
      "Requirement already satisfied: scanpy in /opt/saturncloud/envs/saturn/lib/python3.9/site-packages (from muon) (1.9.1)\n",
      "Requirement already satisfied: seaborn in /opt/saturncloud/envs/saturn/lib/python3.9/site-packages (from muon) (0.12.1)\n",
      "Requirement already satisfied: numpy in /opt/saturncloud/envs/saturn/lib/python3.9/site-packages (from muon) (1.21.6)\n",
      "Requirement already satisfied: sklearn in /opt/saturncloud/envs/saturn/lib/python3.9/site-packages (from muon) (0.0)\n",
      "Requirement already satisfied: anndata in /opt/saturncloud/envs/saturn/lib/python3.9/site-packages (from muon) (0.8.0)\n",
      "Requirement already satisfied: h5py in /opt/saturncloud/envs/saturn/lib/python3.9/site-packages (from muon) (3.7.0)\n",
      "Requirement already satisfied: mudata in /opt/saturncloud/envs/saturn/lib/python3.9/site-packages (from muon) (0.2.0)\n",
      "Requirement already satisfied: umap-learn in /opt/saturncloud/envs/saturn/lib/python3.9/site-packages (from muon) (0.5.3)\n",
      "Requirement already satisfied: numba in /opt/saturncloud/envs/saturn/lib/python3.9/site-packages (from muon) (0.55.2)\n",
      "Requirement already satisfied: loompy in /opt/saturncloud/envs/saturn/lib/python3.9/site-packages (from muon) (3.0.7)\n",
      "Requirement already satisfied: matplotlib in /opt/saturncloud/envs/saturn/lib/python3.9/site-packages (from muon) (3.5.2)\n",
      "Requirement already satisfied: tqdm in /opt/saturncloud/envs/saturn/lib/python3.9/site-packages (from muon) (4.64.0)\n",
      "Requirement already satisfied: natsort in /opt/saturncloud/envs/saturn/lib/python3.9/site-packages (from anndata->muon) (8.1.0)\n",
      "Requirement already satisfied: packaging>=20 in /opt/saturncloud/envs/saturn/lib/python3.9/site-packages (from anndata->muon) (21.3)\n",
      "Requirement already satisfied: scipy>1.4 in /opt/saturncloud/envs/saturn/lib/python3.9/site-packages (from anndata->muon) (1.8.1)\n",
      "Requirement already satisfied: python-dateutil>=2.7.3 in /opt/saturncloud/envs/saturn/lib/python3.9/site-packages (from pandas->muon) (2.8.2)\n",
      "Requirement already satisfied: pytz>=2017.3 in /opt/saturncloud/envs/saturn/lib/python3.9/site-packages (from pandas->muon) (2022.1)\n",
      "Requirement already satisfied: setuptools in /opt/saturncloud/envs/saturn/lib/python3.9/site-packages (from loompy->muon) (59.8.0)\n",
      "Requirement already satisfied: numpy-groupies in /opt/saturncloud/envs/saturn/lib/python3.9/site-packages (from loompy->muon) (0.9.20)\n",
      "Requirement already satisfied: click in /opt/saturncloud/envs/saturn/lib/python3.9/site-packages (from loompy->muon) (8.0.4)\n",
      "Requirement already satisfied: kiwisolver>=1.0.1 in /opt/saturncloud/envs/saturn/lib/python3.9/site-packages (from matplotlib->muon) (1.4.4)\n",
      "Requirement already satisfied: cycler>=0.10 in /opt/saturncloud/envs/saturn/lib/python3.9/site-packages (from matplotlib->muon) (0.11.0)\n",
      "Requirement already satisfied: pillow>=6.2.0 in /opt/saturncloud/envs/saturn/lib/python3.9/site-packages (from matplotlib->muon) (9.1.1)\n",
      "Requirement already satisfied: pyparsing>=2.2.1 in /opt/saturncloud/envs/saturn/lib/python3.9/site-packages (from matplotlib->muon) (3.0.9)\n",
      "Requirement already satisfied: fonttools>=4.22.0 in /opt/saturncloud/envs/saturn/lib/python3.9/site-packages (from matplotlib->muon) (4.34.4)\n",
      "Requirement already satisfied: llvmlite<0.39,>=0.38.0rc1 in /opt/saturncloud/envs/saturn/lib/python3.9/site-packages (from numba->muon) (0.38.1)\n",
      "Requirement already satisfied: session-info in /opt/saturncloud/envs/saturn/lib/python3.9/site-packages (from scanpy->muon) (1.0.0)\n",
      "Requirement already satisfied: scikit-learn>=0.22 in /opt/saturncloud/envs/saturn/lib/python3.9/site-packages (from scanpy->muon) (1.1.1)\n",
      "Requirement already satisfied: patsy in /opt/saturncloud/envs/saturn/lib/python3.9/site-packages (from scanpy->muon) (0.5.3)\n",
      "Requirement already satisfied: joblib in /opt/saturncloud/envs/saturn/lib/python3.9/site-packages (from scanpy->muon) (1.1.0)\n",
      "Requirement already satisfied: networkx>=2.3 in /opt/saturncloud/envs/saturn/lib/python3.9/site-packages (from scanpy->muon) (2.8.7)\n",
      "Requirement already satisfied: statsmodels>=0.10.0rc2 in /opt/saturncloud/envs/saturn/lib/python3.9/site-packages (from scanpy->muon) (0.13.2)\n",
      "Requirement already satisfied: pynndescent>=0.5 in /opt/saturncloud/envs/saturn/lib/python3.9/site-packages (from umap-learn->muon) (0.5.7)\n",
      "Requirement already satisfied: six>=1.5 in /opt/saturncloud/envs/saturn/lib/python3.9/site-packages (from python-dateutil>=2.7.3->pandas->muon) (1.16.0)\n",
      "Requirement already satisfied: threadpoolctl>=2.0.0 in /opt/saturncloud/envs/saturn/lib/python3.9/site-packages (from scikit-learn>=0.22->scanpy->muon) (3.1.0)\n",
      "Requirement already satisfied: stdlib-list in /opt/saturncloud/envs/saturn/lib/python3.9/site-packages (from session-info->scanpy->muon) (0.8.0)\n"
     ]
    },
    {
     "name": "stderr",
     "output_type": "stream",
     "text": [
      "2022-10-30 16:42:23.664631: I tensorflow/core/platform/cpu_feature_guard.cc:193] This TensorFlow binary is optimized with oneAPI Deep Neural Network Library (oneDNN) to use the following CPU instructions in performance-critical operations:  AVX2 AVX512F AVX512_VNNI FMA\n",
      "To enable them in other operations, rebuild TensorFlow with the appropriate compiler flags.\n",
      "2022-10-30 16:42:23.833011: I tensorflow/core/util/util.cc:169] oneDNN custom operations are on. You may see slightly different numerical results due to floating-point round-off errors from different computation orders. To turn them off, set the environment variable `TF_ENABLE_ONEDNN_OPTS=0`.\n",
      "2022-10-30 16:42:23.869717: E tensorflow/stream_executor/cuda/cuda_blas.cc:2981] Unable to register cuBLAS factory: Attempting to register factory for plugin cuBLAS when one has already been registered\n",
      "2022-10-30 16:42:24.525087: W tensorflow/stream_executor/platform/default/dso_loader.cc:64] Could not load dynamic library 'libnvinfer.so.7'; dlerror: libnvinfer.so.7: cannot open shared object file: No such file or directory; LD_LIBRARY_PATH: /usr/local/nvidia/lib:/usr/local/nvidia/lib64\n",
      "2022-10-30 16:42:24.525191: W tensorflow/stream_executor/platform/default/dso_loader.cc:64] Could not load dynamic library 'libnvinfer_plugin.so.7'; dlerror: libnvinfer_plugin.so.7: cannot open shared object file: No such file or directory; LD_LIBRARY_PATH: /usr/local/nvidia/lib:/usr/local/nvidia/lib64\n",
      "2022-10-30 16:42:24.525201: W tensorflow/compiler/tf2tensorrt/utils/py_utils.cc:38] TF-TRT Warning: Cannot dlopen some TensorRT libraries. If you would like to use Nvidia GPU with TensorRT, please make sure the missing libraries mentioned above are installed properly.\n"
     ]
    }
   ],
   "source": [
    "!pip install tables\n",
    "!pip install muon\n",
    "# !pip install torch_geometric\n",
    "# !pip install torch_sparse\n",
    "\n",
    "import torch\n",
    "\n",
    "from pathlib import Path\n",
    "from scipy.sparse import csr_matrix\n",
    "import mudata\n",
    "from mudata import AnnData, MuData\n",
    "import scanpy as sc\n",
    "import muon as mu"
   ]
  },
  {
   "cell_type": "code",
   "execution_count": 1,
   "id": "f78a9511-bc3c-4c1a-a257-6d8ed0e3243f",
   "metadata": {
    "execution": {
     "iopub.execute_input": "2022-10-30T16:39:28.265444Z",
     "iopub.status.busy": "2022-10-30T16:39:28.265022Z",
     "iopub.status.idle": "2022-10-30T16:39:43.493906Z",
     "shell.execute_reply": "2022-10-30T16:39:43.493095Z",
     "shell.execute_reply.started": "2022-10-30T16:39:28.265379Z"
    },
    "tags": []
   },
   "outputs": [
    {
     "name": "stdout",
     "output_type": "stream",
     "text": [
      "Requirement already satisfied: tables in /opt/saturncloud/envs/saturn/lib/python3.9/site-packages (3.7.0)\n",
      "Requirement already satisfied: numexpr>=2.6.2 in /opt/saturncloud/envs/saturn/lib/python3.9/site-packages (from tables) (2.8.4)\n",
      "Requirement already satisfied: packaging in /opt/saturncloud/envs/saturn/lib/python3.9/site-packages (from tables) (21.3)\n",
      "Requirement already satisfied: numpy>=1.19.0 in /opt/saturncloud/envs/saturn/lib/python3.9/site-packages (from tables) (1.21.6)\n",
      "Requirement already satisfied: pyparsing!=3.0.5,>=2.0.2 in /opt/saturncloud/envs/saturn/lib/python3.9/site-packages (from packaging->tables) (3.0.9)\n",
      "Requirement already satisfied: muon in /opt/saturncloud/envs/saturn/lib/python3.9/site-packages (0.1.2)\n",
      "Requirement already satisfied: seaborn in /opt/saturncloud/envs/saturn/lib/python3.9/site-packages (from muon) (0.12.1)\n",
      "Requirement already satisfied: loompy in /opt/saturncloud/envs/saturn/lib/python3.9/site-packages (from muon) (3.0.7)\n",
      "Requirement already satisfied: tqdm in /opt/saturncloud/envs/saturn/lib/python3.9/site-packages (from muon) (4.64.0)\n",
      "Requirement already satisfied: pandas in ./.local/lib/python3.9/site-packages (from muon) (1.3.5)\n",
      "Requirement already satisfied: anndata in /opt/saturncloud/envs/saturn/lib/python3.9/site-packages (from muon) (0.8.0)\n",
      "Requirement already satisfied: matplotlib in /opt/saturncloud/envs/saturn/lib/python3.9/site-packages (from muon) (3.5.2)\n",
      "Requirement already satisfied: scanpy in /opt/saturncloud/envs/saturn/lib/python3.9/site-packages (from muon) (1.9.1)\n",
      "Requirement already satisfied: numba in /opt/saturncloud/envs/saturn/lib/python3.9/site-packages (from muon) (0.55.2)\n",
      "Requirement already satisfied: sklearn in /opt/saturncloud/envs/saturn/lib/python3.9/site-packages (from muon) (0.0)\n",
      "Requirement already satisfied: protobuf in /opt/saturncloud/envs/saturn/lib/python3.9/site-packages (from muon) (3.19.6)\n",
      "Requirement already satisfied: mudata in /opt/saturncloud/envs/saturn/lib/python3.9/site-packages (from muon) (0.2.0)\n",
      "Requirement already satisfied: umap-learn in /opt/saturncloud/envs/saturn/lib/python3.9/site-packages (from muon) (0.5.3)\n",
      "Requirement already satisfied: h5py in /opt/saturncloud/envs/saturn/lib/python3.9/site-packages (from muon) (3.7.0)\n",
      "Requirement already satisfied: numpy in /opt/saturncloud/envs/saturn/lib/python3.9/site-packages (from muon) (1.21.6)\n",
      "Requirement already satisfied: natsort in /opt/saturncloud/envs/saturn/lib/python3.9/site-packages (from anndata->muon) (8.1.0)\n",
      "Requirement already satisfied: scipy>1.4 in /opt/saturncloud/envs/saturn/lib/python3.9/site-packages (from anndata->muon) (1.8.1)\n",
      "Requirement already satisfied: packaging>=20 in /opt/saturncloud/envs/saturn/lib/python3.9/site-packages (from anndata->muon) (21.3)\n",
      "Requirement already satisfied: python-dateutil>=2.7.3 in /opt/saturncloud/envs/saturn/lib/python3.9/site-packages (from pandas->muon) (2.8.2)\n",
      "Requirement already satisfied: pytz>=2017.3 in /opt/saturncloud/envs/saturn/lib/python3.9/site-packages (from pandas->muon) (2022.1)\n",
      "Requirement already satisfied: numpy-groupies in /opt/saturncloud/envs/saturn/lib/python3.9/site-packages (from loompy->muon) (0.9.20)\n",
      "Requirement already satisfied: setuptools in /opt/saturncloud/envs/saturn/lib/python3.9/site-packages (from loompy->muon) (59.8.0)\n",
      "Requirement already satisfied: click in /opt/saturncloud/envs/saturn/lib/python3.9/site-packages (from loompy->muon) (8.0.4)\n",
      "Requirement already satisfied: kiwisolver>=1.0.1 in /opt/saturncloud/envs/saturn/lib/python3.9/site-packages (from matplotlib->muon) (1.4.4)\n",
      "Requirement already satisfied: pyparsing>=2.2.1 in /opt/saturncloud/envs/saturn/lib/python3.9/site-packages (from matplotlib->muon) (3.0.9)\n",
      "Requirement already satisfied: fonttools>=4.22.0 in /opt/saturncloud/envs/saturn/lib/python3.9/site-packages (from matplotlib->muon) (4.34.4)\n",
      "Requirement already satisfied: cycler>=0.10 in /opt/saturncloud/envs/saturn/lib/python3.9/site-packages (from matplotlib->muon) (0.11.0)\n",
      "Requirement already satisfied: pillow>=6.2.0 in /opt/saturncloud/envs/saturn/lib/python3.9/site-packages (from matplotlib->muon) (9.1.1)\n",
      "Requirement already satisfied: llvmlite<0.39,>=0.38.0rc1 in /opt/saturncloud/envs/saturn/lib/python3.9/site-packages (from numba->muon) (0.38.1)\n",
      "Requirement already satisfied: joblib in /opt/saturncloud/envs/saturn/lib/python3.9/site-packages (from scanpy->muon) (1.1.0)\n",
      "Requirement already satisfied: session-info in /opt/saturncloud/envs/saturn/lib/python3.9/site-packages (from scanpy->muon) (1.0.0)\n",
      "Requirement already satisfied: statsmodels>=0.10.0rc2 in /opt/saturncloud/envs/saturn/lib/python3.9/site-packages (from scanpy->muon) (0.13.2)\n",
      "Requirement already satisfied: networkx>=2.3 in /opt/saturncloud/envs/saturn/lib/python3.9/site-packages (from scanpy->muon) (2.8.7)\n",
      "Requirement already satisfied: scikit-learn>=0.22 in /opt/saturncloud/envs/saturn/lib/python3.9/site-packages (from scanpy->muon) (1.1.1)\n",
      "Requirement already satisfied: patsy in /opt/saturncloud/envs/saturn/lib/python3.9/site-packages (from scanpy->muon) (0.5.3)\n",
      "Requirement already satisfied: pynndescent>=0.5 in /opt/saturncloud/envs/saturn/lib/python3.9/site-packages (from umap-learn->muon) (0.5.7)\n",
      "Requirement already satisfied: six>=1.5 in /opt/saturncloud/envs/saturn/lib/python3.9/site-packages (from python-dateutil>=2.7.3->pandas->muon) (1.16.0)\n",
      "Requirement already satisfied: threadpoolctl>=2.0.0 in /opt/saturncloud/envs/saturn/lib/python3.9/site-packages (from scikit-learn>=0.22->scanpy->muon) (3.1.0)\n",
      "Requirement already satisfied: stdlib-list in /opt/saturncloud/envs/saturn/lib/python3.9/site-packages (from session-info->scanpy->muon) (0.8.0)\n"
     ]
    },
    {
     "name": "stderr",
     "output_type": "stream",
     "text": [
      "2022-10-30 16:39:39.231155: I tensorflow/core/platform/cpu_feature_guard.cc:193] This TensorFlow binary is optimized with oneAPI Deep Neural Network Library (oneDNN) to use the following CPU instructions in performance-critical operations:  AVX2 AVX512F AVX512_VNNI FMA\n",
      "To enable them in other operations, rebuild TensorFlow with the appropriate compiler flags.\n",
      "2022-10-30 16:39:39.398026: I tensorflow/core/util/util.cc:169] oneDNN custom operations are on. You may see slightly different numerical results due to floating-point round-off errors from different computation orders. To turn them off, set the environment variable `TF_ENABLE_ONEDNN_OPTS=0`.\n",
      "2022-10-30 16:39:39.435529: E tensorflow/stream_executor/cuda/cuda_blas.cc:2981] Unable to register cuBLAS factory: Attempting to register factory for plugin cuBLAS when one has already been registered\n",
      "2022-10-30 16:39:40.091093: W tensorflow/stream_executor/platform/default/dso_loader.cc:64] Could not load dynamic library 'libnvinfer.so.7'; dlerror: libnvinfer.so.7: cannot open shared object file: No such file or directory; LD_LIBRARY_PATH: /usr/local/nvidia/lib:/usr/local/nvidia/lib64\n",
      "2022-10-30 16:39:40.091190: W tensorflow/stream_executor/platform/default/dso_loader.cc:64] Could not load dynamic library 'libnvinfer_plugin.so.7'; dlerror: libnvinfer_plugin.so.7: cannot open shared object file: No such file or directory; LD_LIBRARY_PATH: /usr/local/nvidia/lib:/usr/local/nvidia/lib64\n",
      "2022-10-30 16:39:40.091200: W tensorflow/compiler/tf2tensorrt/utils/py_utils.cc:38] TF-TRT Warning: Cannot dlopen some TensorRT libraries. If you would like to use Nvidia GPU with TensorRT, please make sure the missing libraries mentioned above are installed properly.\n"
     ]
    },
    {
     "name": "stdout",
     "output_type": "stream",
     "text": [
      "/home/jovyan/kaggle/working\n",
      "Constant cols: 1194\n",
      "important columns  84\n",
      "Requirement already satisfied: tensorflow in /opt/saturncloud/envs/saturn/lib/python3.9/site-packages (2.10.0)\n",
      "Requirement already satisfied: keras<2.11,>=2.10.0 in /opt/saturncloud/envs/saturn/lib/python3.9/site-packages (from tensorflow) (2.10.0)\n",
      "Requirement already satisfied: astunparse>=1.6.0 in /opt/saturncloud/envs/saturn/lib/python3.9/site-packages (from tensorflow) (1.6.3)\n",
      "Requirement already satisfied: typing-extensions>=3.6.6 in /opt/saturncloud/envs/saturn/lib/python3.9/site-packages (from tensorflow) (4.3.0)\n",
      "Requirement already satisfied: packaging in /opt/saturncloud/envs/saturn/lib/python3.9/site-packages (from tensorflow) (21.3)\n",
      "Requirement already satisfied: numpy>=1.20 in /opt/saturncloud/envs/saturn/lib/python3.9/site-packages (from tensorflow) (1.21.6)\n",
      "Requirement already satisfied: keras-preprocessing>=1.1.1 in /opt/saturncloud/envs/saturn/lib/python3.9/site-packages (from tensorflow) (1.1.2)\n",
      "Requirement already satisfied: flatbuffers>=2.0 in /opt/saturncloud/envs/saturn/lib/python3.9/site-packages (from tensorflow) (22.10.26)\n",
      "Requirement already satisfied: google-pasta>=0.1.1 in /opt/saturncloud/envs/saturn/lib/python3.9/site-packages (from tensorflow) (0.2.0)\n",
      "Requirement already satisfied: setuptools in /opt/saturncloud/envs/saturn/lib/python3.9/site-packages (from tensorflow) (59.8.0)\n",
      "Requirement already satisfied: opt-einsum>=2.3.2 in /opt/saturncloud/envs/saturn/lib/python3.9/site-packages (from tensorflow) (3.3.0)\n",
      "Requirement already satisfied: libclang>=13.0.0 in /opt/saturncloud/envs/saturn/lib/python3.9/site-packages (from tensorflow) (14.0.6)\n",
      "Requirement already satisfied: grpcio<2.0,>=1.24.3 in /opt/saturncloud/envs/saturn/lib/python3.9/site-packages (from tensorflow) (1.46.3)\n",
      "Requirement already satisfied: tensorflow-estimator<2.11,>=2.10.0 in /opt/saturncloud/envs/saturn/lib/python3.9/site-packages (from tensorflow) (2.10.0)\n",
      "Requirement already satisfied: protobuf<3.20,>=3.9.2 in /opt/saturncloud/envs/saturn/lib/python3.9/site-packages (from tensorflow) (3.19.6)\n",
      "Requirement already satisfied: tensorflow-io-gcs-filesystem>=0.23.1 in /opt/saturncloud/envs/saturn/lib/python3.9/site-packages (from tensorflow) (0.27.0)\n",
      "Requirement already satisfied: h5py>=2.9.0 in /opt/saturncloud/envs/saturn/lib/python3.9/site-packages (from tensorflow) (3.7.0)\n",
      "Requirement already satisfied: six>=1.12.0 in /opt/saturncloud/envs/saturn/lib/python3.9/site-packages (from tensorflow) (1.16.0)\n",
      "Requirement already satisfied: termcolor>=1.1.0 in /opt/saturncloud/envs/saturn/lib/python3.9/site-packages (from tensorflow) (2.1.0)\n",
      "Requirement already satisfied: wrapt>=1.11.0 in /opt/saturncloud/envs/saturn/lib/python3.9/site-packages (from tensorflow) (1.14.1)\n",
      "Requirement already satisfied: gast<=0.4.0,>=0.2.1 in /opt/saturncloud/envs/saturn/lib/python3.9/site-packages (from tensorflow) (0.4.0)\n",
      "Requirement already satisfied: tensorboard<2.11,>=2.10 in /opt/saturncloud/envs/saturn/lib/python3.9/site-packages (from tensorflow) (2.10.1)\n",
      "Requirement already satisfied: absl-py>=1.0.0 in /opt/saturncloud/envs/saturn/lib/python3.9/site-packages (from tensorflow) (1.2.0)\n",
      "Requirement already satisfied: wheel<1.0,>=0.23.0 in /opt/saturncloud/envs/saturn/lib/python3.9/site-packages (from astunparse>=1.6.0->tensorflow) (0.37.1)\n",
      "Requirement already satisfied: tensorboard-plugin-wit>=1.6.0 in /opt/saturncloud/envs/saturn/lib/python3.9/site-packages (from tensorboard<2.11,>=2.10->tensorflow) (1.8.1)\n",
      "Requirement already satisfied: requests<3,>=2.21.0 in /opt/saturncloud/envs/saturn/lib/python3.9/site-packages (from tensorboard<2.11,>=2.10->tensorflow) (2.28.1)\n",
      "Requirement already satisfied: tensorboard-data-server<0.7.0,>=0.6.0 in /opt/saturncloud/envs/saturn/lib/python3.9/site-packages (from tensorboard<2.11,>=2.10->tensorflow) (0.6.0)\n",
      "Requirement already satisfied: google-auth<3,>=1.6.3 in /opt/saturncloud/envs/saturn/lib/python3.9/site-packages (from tensorboard<2.11,>=2.10->tensorflow) (2.9.1)\n",
      "Requirement already satisfied: markdown>=2.6.8 in /opt/saturncloud/envs/saturn/lib/python3.9/site-packages (from tensorboard<2.11,>=2.10->tensorflow) (3.4.1)\n",
      "Requirement already satisfied: google-auth-oauthlib<0.5,>=0.4.1 in /opt/saturncloud/envs/saturn/lib/python3.9/site-packages (from tensorboard<2.11,>=2.10->tensorflow) (0.4.6)\n",
      "Requirement already satisfied: werkzeug>=1.0.1 in /opt/saturncloud/envs/saturn/lib/python3.9/site-packages (from tensorboard<2.11,>=2.10->tensorflow) (2.2.0)\n",
      "Requirement already satisfied: pyparsing!=3.0.5,>=2.0.2 in /opt/saturncloud/envs/saturn/lib/python3.9/site-packages (from packaging->tensorflow) (3.0.9)\n",
      "Requirement already satisfied: cachetools<6.0,>=2.0.0 in /opt/saturncloud/envs/saturn/lib/python3.9/site-packages (from google-auth<3,>=1.6.3->tensorboard<2.11,>=2.10->tensorflow) (5.0.0)\n",
      "Requirement already satisfied: rsa<5,>=3.1.4 in /opt/saturncloud/envs/saturn/lib/python3.9/site-packages (from google-auth<3,>=1.6.3->tensorboard<2.11,>=2.10->tensorflow) (4.9)\n",
      "Requirement already satisfied: pyasn1-modules>=0.2.1 in /opt/saturncloud/envs/saturn/lib/python3.9/site-packages (from google-auth<3,>=1.6.3->tensorboard<2.11,>=2.10->tensorflow) (0.2.7)\n",
      "Requirement already satisfied: requests-oauthlib>=0.7.0 in /opt/saturncloud/envs/saturn/lib/python3.9/site-packages (from google-auth-oauthlib<0.5,>=0.4.1->tensorboard<2.11,>=2.10->tensorflow) (1.3.1)\n",
      "Requirement already satisfied: importlib-metadata>=4.4 in /opt/saturncloud/envs/saturn/lib/python3.9/site-packages (from markdown>=2.6.8->tensorboard<2.11,>=2.10->tensorflow) (4.11.4)\n",
      "Requirement already satisfied: certifi>=2017.4.17 in /opt/saturncloud/envs/saturn/lib/python3.9/site-packages (from requests<3,>=2.21.0->tensorboard<2.11,>=2.10->tensorflow) (2022.9.24)\n",
      "Requirement already satisfied: charset-normalizer<3,>=2 in /opt/saturncloud/envs/saturn/lib/python3.9/site-packages (from requests<3,>=2.21.0->tensorboard<2.11,>=2.10->tensorflow) (2.0.12)\n",
      "Requirement already satisfied: idna<4,>=2.5 in /opt/saturncloud/envs/saturn/lib/python3.9/site-packages (from requests<3,>=2.21.0->tensorboard<2.11,>=2.10->tensorflow) (3.3)\n",
      "Requirement already satisfied: urllib3<1.27,>=1.21.1 in /opt/saturncloud/envs/saturn/lib/python3.9/site-packages (from requests<3,>=2.21.0->tensorboard<2.11,>=2.10->tensorflow) (1.26.11)\n",
      "Requirement already satisfied: MarkupSafe>=2.1.1 in /opt/saturncloud/envs/saturn/lib/python3.9/site-packages (from werkzeug>=1.0.1->tensorboard<2.11,>=2.10->tensorflow) (2.1.1)\n",
      "Requirement already satisfied: zipp>=0.5 in /opt/saturncloud/envs/saturn/lib/python3.9/site-packages (from importlib-metadata>=4.4->markdown>=2.6.8->tensorboard<2.11,>=2.10->tensorflow) (3.8.0)\n",
      "Requirement already satisfied: pyasn1<0.5.0,>=0.4.6 in /opt/saturncloud/envs/saturn/lib/python3.9/site-packages (from pyasn1-modules>=0.2.1->google-auth<3,>=1.6.3->tensorboard<2.11,>=2.10->tensorflow) (0.4.8)\n",
      "Requirement already satisfied: oauthlib>=3.0.0 in /opt/saturncloud/envs/saturn/lib/python3.9/site-packages (from requests-oauthlib>=0.7.0->google-auth-oauthlib<0.5,>=0.4.1->tensorboard<2.11,>=2.10->tensorflow) (3.2.0)\n"
     ]
    }
   ],
   "source": [
    "!pip install tables\n",
    "!pip install muon\n",
    "# !pip install torch_geometric\n",
    "# !pip install torch_sparse\n",
    "\n",
    "import torch\n",
    "\n",
    "from pathlib import Path\n",
    "from scipy.sparse import csr_matrix\n",
    "import mudata\n",
    "from mudata import AnnData, MuData\n",
    "import scanpy as sc\n",
    "import muon as mu\n",
    "\n",
    "%cd kaggle/working\n",
    "import os, gc, pickle, datetime, scipy\n",
    "import pandas as pd\n",
    "import matplotlib.pyplot as plt\n",
    "import numpy as np\n",
    "from colorama import Fore, Back, Style\n",
    "\n",
    "from sklearn.model_selection import GroupKFold,KFold\n",
    "from sklearn.preprocessing import StandardScaler\n",
    "from sklearn.decomposition import TruncatedSVD,PCA\n",
    "from sklearn.metrics import mean_squared_error\n",
    "\n",
    "import matplotlib.pyplot as plt\n",
    "from matplotlib.ticker import MaxNLocator\n",
    "import seaborn as sns\n",
    "from cycler import cycler\n",
    "from IPython.display import display\n",
    "\n",
    "DATA_DIR = \"../input/open-problems-multimodal\"\n",
    "FP_CELL_METADATA = os.path.join(DATA_DIR,\"metadata.csv\")\n",
    "\n",
    "FP_CITE_TRAIN_INPUTS = os.path.join(DATA_DIR,\"train_cite_inputs.h5\")\n",
    "FP_CITE_TRAIN_TARGETS = os.path.join(DATA_DIR,\"train_cite_targets.h5\")\n",
    "FP_CITE_TEST_INPUTS = os.path.join(DATA_DIR,\"test_cite_inputs.h5\")\n",
    "\n",
    "FP_SUBMISSION = os.path.join(DATA_DIR,\"sample_submission.csv\")\n",
    "FP_EVALUATION_IDS = os.path.join(DATA_DIR,\"evaluation_ids.csv\")\n",
    "\n",
    "VERBOSE = 0\n",
    "\n",
    "# constant_cols = list(X.columns[(X == 0).all(axis=0).values]) + list(X_test.columns[(X_test == 0).all(axis=0).values])\n",
    "constant_cols = ['ENSG00000003137_CYP26B1', 'ENSG00000004848_ARX', 'ENSG00000006606_CCL26', 'ENSG00000010379_SLC6A13', 'ENSG00000010932_FMO1', 'ENSG00000017427_IGF1', 'ENSG00000022355_GABRA1', 'ENSG00000041982_TNC', 'ENSG00000060709_RIMBP2', 'ENSG00000064886_CHI3L2', 'ENSG00000065717_TLE2', 'ENSG00000067798_NAV3', 'ENSG00000069535_MAOB', 'ENSG00000073598_FNDC8', 'ENSG00000074219_TEAD2', 'ENSG00000074964_ARHGEF10L', 'ENSG00000077264_PAK3', 'ENSG00000078053_AMPH', 'ENSG00000082684_SEMA5B', 'ENSG00000083857_FAT1', 'ENSG00000084628_NKAIN1', 'ENSG00000084734_GCKR', 'ENSG00000086967_MYBPC2', 'ENSG00000087258_GNAO1', 'ENSG00000089505_CMTM1', 'ENSG00000091129_NRCAM', 'ENSG00000091986_CCDC80', 'ENSG00000092377_TBL1Y', 'ENSG00000092969_TGFB2', 'ENSG00000095397_WHRN', 'ENSG00000095970_TREM2', 'ENSG00000099715_PCDH11Y', 'ENSG00000100197_CYP2D6', 'ENSG00000100218_RSPH14', 'ENSG00000100311_PDGFB', 'ENSG00000100362_PVALB', 'ENSG00000100373_UPK3A', 'ENSG00000100625_SIX4', 'ENSG00000100867_DHRS2', 'ENSG00000100985_MMP9', 'ENSG00000101197_BIRC7', 'ENSG00000101298_SNPH', 'ENSG00000102387_TAF7L', 'ENSG00000103034_NDRG4', 'ENSG00000104059_FAM189A1', 'ENSG00000104112_SCG3', 'ENSG00000104313_EYA1', 'ENSG00000104892_KLC3', 'ENSG00000105088_OLFM2', 'ENSG00000105261_OVOL3', 'ENSG00000105290_APLP1', 'ENSG00000105507_CABP5', 'ENSG00000105642_KCNN1', 'ENSG00000105694_ELOCP28', 'ENSG00000105707_HPN', 'ENSG00000105894_PTN', 'ENSG00000106018_VIPR2', 'ENSG00000106541_AGR2', 'ENSG00000107317_PTGDS', 'ENSG00000108688_CCL7', 'ENSG00000108702_CCL1', 'ENSG00000108947_EFNB3', 'ENSG00000109193_SULT1E1', 'ENSG00000109794_FAM149A', 'ENSG00000109832_DDX25', 'ENSG00000110195_FOLR1', 'ENSG00000110375_UPK2', 'ENSG00000110436_SLC1A2', 'ENSG00000111339_ART4', 'ENSG00000111863_ADTRP', 'ENSG00000112761_WISP3', 'ENSG00000112852_PCDHB2', 'ENSG00000114251_WNT5A', 'ENSG00000114279_FGF12', 'ENSG00000114455_HHLA2', 'ENSG00000114757_PEX5L', 'ENSG00000115155_OTOF', 'ENSG00000115266_APC2', 'ENSG00000115297_TLX2', 'ENSG00000115590_IL1R2', 'ENSG00000115844_DLX2', 'ENSG00000116194_ANGPTL1', 'ENSG00000116661_FBXO2', 'ENSG00000116774_OLFML3', 'ENSG00000117322_CR2', 'ENSG00000117971_CHRNB4', 'ENSG00000118322_ATP10B', 'ENSG00000118402_ELOVL4', 'ENSG00000118520_ARG1', 'ENSG00000118946_PCDH17', 'ENSG00000118972_FGF23', 'ENSG00000119771_KLHL29', 'ENSG00000120549_KIAA1217', 'ENSG00000121316_PLBD1', 'ENSG00000121905_HPCA', 'ENSG00000122224_LY9', 'ENSG00000124194_GDAP1L1', 'ENSG00000124440_HIF3A', 'ENSG00000124657_OR2B6', 'ENSG00000125462_C1orf61', 'ENSG00000125895_TMEM74B', 'ENSG00000126838_PZP', 'ENSG00000128422_KRT17', 'ENSG00000128918_ALDH1A2', 'ENSG00000129170_CSRP3', 'ENSG00000129214_SHBG', 'ENSG00000129673_AANAT', 'ENSG00000129910_CDH15', 'ENSG00000130294_KIF1A', 'ENSG00000130307_USHBP1', 'ENSG00000130545_CRB3', 'ENSG00000131019_ULBP3', 'ENSG00000131044_TTLL9', 'ENSG00000131183_SLC34A1', 'ENSG00000131386_GALNT15', 'ENSG00000131400_NAPSA', 'ENSG00000131914_LIN28A', 'ENSG00000131941_RHPN2', 'ENSG00000131951_LRRC9', 'ENSG00000132170_PPARG', 'ENSG00000132681_ATP1A4', 'ENSG00000132958_TPTE2', 'ENSG00000133454_MYO18B', 'ENSG00000134545_KLRC1', 'ENSG00000134853_PDGFRA', 'ENSG00000135083_CCNJL', 'ENSG00000135100_HNF1A', 'ENSG00000135116_HRK', 'ENSG00000135312_HTR1B', 'ENSG00000135324_MRAP2', 'ENSG00000135436_FAM186B', 'ENSG00000135472_FAIM2', 'ENSG00000135898_GPR55', 'ENSG00000135929_CYP27A1', 'ENSG00000136002_ARHGEF4', 'ENSG00000136099_PCDH8', 'ENSG00000136274_NACAD', 'ENSG00000137078_SIT1', 'ENSG00000137142_IGFBPL1', 'ENSG00000137473_TTC29', 'ENSG00000137474_MYO7A', 'ENSG00000137491_SLCO2B1', 'ENSG00000137691_CFAP300', 'ENSG00000137731_FXYD2', 'ENSG00000137747_TMPRSS13', 'ENSG00000137878_GCOM1', 'ENSG00000138411_HECW2', 'ENSG00000138741_TRPC3', 'ENSG00000138769_CDKL2', 'ENSG00000138823_MTTP', 'ENSG00000139908_TSSK4', 'ENSG00000140832_MARVELD3', 'ENSG00000142178_SIK1', 'ENSG00000142538_PTH2', 'ENSG00000142910_TINAGL1', 'ENSG00000143217_NECTIN4', 'ENSG00000143858_SYT2', 'ENSG00000144130_NT5DC4', 'ENSG00000144214_LYG1', 'ENSG00000144290_SLC4A10', 'ENSG00000144366_GULP1', 'ENSG00000144583_MARCH4', 'ENSG00000144771_LRTM1', 'ENSG00000144891_AGTR1', 'ENSG00000145087_STXBP5L', 'ENSG00000145107_TM4SF19', 'ENSG00000146197_SCUBE3', 'ENSG00000146966_DENND2A', 'ENSG00000147082_CCNB3', 'ENSG00000147614_ATP6V0D2', 'ENSG00000147642_SYBU', 'ENSG00000147869_CER1', 'ENSG00000149403_GRIK4', 'ENSG00000149596_JPH2', 'ENSG00000150630_VEGFC', 'ENSG00000150722_PPP1R1C', 'ENSG00000151631_AKR1C6P', 'ENSG00000151704_KCNJ1', 'ENSG00000152154_TMEM178A', 'ENSG00000152292_SH2D6', 'ENSG00000152315_KCNK13', 'ENSG00000152503_TRIM36', 'ENSG00000153253_SCN3A', 'ENSG00000153902_LGI4', 'ENSG00000153930_ANKFN1', 'ENSG00000154040_CABYR', 'ENSG00000154118_JPH3', 'ENSG00000154175_ABI3BP', 'ENSG00000154645_CHODL', 'ENSG00000157060_SHCBP1L', 'ENSG00000157087_ATP2B2', 'ENSG00000157152_SYN2', 'ENSG00000157168_NRG1', 'ENSG00000157680_DGKI', 'ENSG00000158246_TENT5B', 'ENSG00000158477_CD1A', 'ENSG00000158481_CD1C', 'ENSG00000158488_CD1E', 'ENSG00000159189_C1QC', 'ENSG00000159217_IGF2BP1', 'ENSG00000160683_CXCR5', 'ENSG00000160801_PTH1R', 'ENSG00000160973_FOXH1', 'ENSG00000161594_KLHL10', 'ENSG00000162409_PRKAA2', 'ENSG00000162840_MT2P1', 'ENSG00000162873_KLHDC8A', 'ENSG00000162944_RFTN2', 'ENSG00000162949_CAPN13', 'ENSG00000163116_STPG2', 'ENSG00000163288_GABRB1', 'ENSG00000163531_NFASC', 'ENSG00000163618_CADPS', 'ENSG00000163637_PRICKLE2', 'ENSG00000163735_CXCL5', 'ENSG00000163873_GRIK3', 'ENSG00000163898_LIPH', 'ENSG00000164061_BSN', 'ENSG00000164078_MST1R', 'ENSG00000164123_C4orf45', 'ENSG00000164690_SHH', 'ENSG00000164761_TNFRSF11B', 'ENSG00000164821_DEFA4', 'ENSG00000164845_FAM86FP', 'ENSG00000164867_NOS3', 'ENSG00000166073_GPR176', 'ENSG00000166148_AVPR1A', 'ENSG00000166250_CLMP', 'ENSG00000166257_SCN3B', 'ENSG00000166268_MYRFL', 'ENSG00000166523_CLEC4E', 'ENSG00000166535_A2ML1', 'ENSG00000166819_PLIN1', 'ENSG00000166928_MS4A14', 'ENSG00000167210_LOXHD1', 'ENSG00000167306_MYO5B', 'ENSG00000167634_NLRP7', 'ENSG00000167748_KLK1', 'ENSG00000167889_MGAT5B', 'ENSG00000168140_VASN', 'ENSG00000168546_GFRA2', 'ENSG00000168646_AXIN2', 'ENSG00000168955_TM4SF20', 'ENSG00000168993_CPLX1', 'ENSG00000169075_Z99496.1', 'ENSG00000169194_IL13', 'ENSG00000169246_NPIPB3', 'ENSG00000169884_WNT10B', 'ENSG00000169900_PYDC1', 'ENSG00000170074_FAM153A', 'ENSG00000170075_GPR37L1', 'ENSG00000170289_CNGB3', 'ENSG00000170356_OR2A20P', 'ENSG00000170537_TMC7', 'ENSG00000170689_HOXB9', 'ENSG00000170827_CELP', 'ENSG00000171346_KRT15', 'ENSG00000171368_TPPP', 'ENSG00000171501_OR1N2', 'ENSG00000171532_NEUROD2', 'ENSG00000171611_PTCRA', 'ENSG00000171873_ADRA1D', 'ENSG00000171916_LGALS9C', 'ENSG00000172005_MAL', 'ENSG00000172987_HPSE2', 'ENSG00000173068_BNC2', 'ENSG00000173077_DEC1', 'ENSG00000173210_ABLIM3', 'ENSG00000173267_SNCG', 'ENSG00000173369_C1QB', 'ENSG00000173372_C1QA', 'ENSG00000173391_OLR1', 'ENSG00000173626_TRAPPC3L', 'ENSG00000173698_ADGRG2', 'ENSG00000173868_PHOSPHO1', 'ENSG00000174407_MIR1-1HG', 'ENSG00000174807_CD248', 'ENSG00000175206_NPPA', 'ENSG00000175746_C15orf54', 'ENSG00000175985_PLEKHD1', 'ENSG00000176043_AC007160.1', 'ENSG00000176399_DMRTA1', 'ENSG00000176510_OR10AC1', 'ENSG00000176697_BDNF', 'ENSG00000176826_FKBP9P1', 'ENSG00000176988_FMR1NB', 'ENSG00000177324_BEND2', 'ENSG00000177335_C8orf31', 'ENSG00000177535_OR2B11', 'ENSG00000177614_PGBD5', 'ENSG00000177707_NECTIN3', 'ENSG00000178033_CALHM5', 'ENSG00000178175_ZNF366', 'ENSG00000178462_TUBAL3', 'ENSG00000178732_GP5', 'ENSG00000178750_STX19', 'ENSG00000179058_C9orf50', 'ENSG00000179101_AL590139.1', 'ENSG00000179388_EGR3', 'ENSG00000179611_DGKZP1', 'ENSG00000179899_PHC1P1', 'ENSG00000179934_CCR8', 'ENSG00000180537_RNF182', 'ENSG00000180712_LINC02363', 'ENSG00000180988_OR52N2', 'ENSG00000181001_OR52N1', 'ENSG00000181616_OR52H1', 'ENSG00000181634_TNFSF15', 'ENSG00000182021_AL591379.1', 'ENSG00000182230_FAM153B', 'ENSG00000182853_VMO1', 'ENSG00000183090_FREM3', 'ENSG00000183562_AC131971.1', 'ENSG00000183615_FAM167B', 'ENSG00000183625_CCR3', 'ENSG00000183770_FOXL2', 'ENSG00000183779_ZNF703', 'ENSG00000183831_ANKRD45', 'ENSG00000183844_FAM3B', 'ENSG00000183960_KCNH8', 'ENSG00000184106_TREML3P', 'ENSG00000184227_ACOT1', 'ENSG00000184363_PKP3', 'ENSG00000184434_LRRC19', 'ENSG00000184454_NCMAP', 'ENSG00000184571_PIWIL3', 'ENSG00000184702_SEPT5', 'ENSG00000184908_CLCNKB', 'ENSG00000184923_NUTM2A', 'ENSG00000185070_FLRT2', 'ENSG00000185156_MFSD6L', 'ENSG00000185567_AHNAK2', 'ENSG00000185686_PRAME', 'ENSG00000186190_BPIFB3', 'ENSG00000186191_BPIFB4', 'ENSG00000186231_KLHL32', 'ENSG00000186431_FCAR', 'ENSG00000186715_MST1L', 'ENSG00000187116_LILRA5', 'ENSG00000187185_AC092118.1', 'ENSG00000187268_FAM9C', 'ENSG00000187554_TLR5', 'ENSG00000187867_PALM3', 'ENSG00000188153_COL4A5', 'ENSG00000188158_NHS', 'ENSG00000188163_FAM166A', 'ENSG00000188316_ENO4', 'ENSG00000188959_C9orf152', 'ENSG00000189013_KIR2DL4', 'ENSG00000189409_MMP23B', 'ENSG00000196092_PAX5', 'ENSG00000196260_SFTA2', 'ENSG00000197358_BNIP3P1', 'ENSG00000197446_CYP2F1', 'ENSG00000197540_GZMM', 'ENSG00000198049_AVPR1B', 'ENSG00000198134_AC007537.1', 'ENSG00000198156_NPIPB6', 'ENSG00000198221_AFDN-DT', 'ENSG00000198626_RYR2', 'ENSG00000198759_EGFL6', 'ENSG00000198822_GRM3', 'ENSG00000198963_RORB', 'ENSG00000199090_MIR326', 'ENSG00000199753_SNORD104', 'ENSG00000199787_RF00406', 'ENSG00000199872_RNU6-942P', 'ENSG00000200075_RF00402', 'ENSG00000200296_RNU1-83P', 'ENSG00000200683_RNU6-379P', 'ENSG00000201044_RNU6-268P', 'ENSG00000201343_RF00019', 'ENSG00000201564_RN7SKP50', 'ENSG00000201616_RNU1-91P', 'ENSG00000201737_RNU1-133P', 'ENSG00000202048_SNORD114-20', 'ENSG00000202415_RN7SKP269', 'ENSG00000203395_AC015969.1', 'ENSG00000203721_LINC00862', 'ENSG00000203727_SAMD5', 'ENSG00000203737_GPR52', 'ENSG00000203783_PRR9', 'ENSG00000203867_RBM20', 'ENSG00000203907_OOEP', 'ENSG00000203999_LINC01270', 'ENSG00000204010_IFIT1B', 'ENSG00000204044_SLC12A5-AS1', 'ENSG00000204091_TDRG1', 'ENSG00000204121_ECEL1P1', 'ENSG00000204165_CXorf65', 'ENSG00000204173_LRRC37A5P', 'ENSG00000204248_COL11A2', 'ENSG00000204424_LY6G6F', 'ENSG00000204539_CDSN', 'ENSG00000204583_LRCOL1', 'ENSG00000204677_FAM153C', 'ENSG00000204709_LINC01556', 'ENSG00000204711_C9orf135', 'ENSG00000204792_LINC01291', 'ENSG00000204850_AC011484.1', 'ENSG00000204851_PNMA8B', 'ENSG00000204909_SPINK9', 'ENSG00000205037_AC134312.1', 'ENSG00000205038_PKHD1L1', 'ENSG00000205089_CCNI2', 'ENSG00000205106_DKFZp779M0652', 'ENSG00000205364_MT1M', 'ENSG00000205502_C2CD4B', 'ENSG00000205746_AC126755.1', 'ENSG00000205856_C22orf42', 'ENSG00000206052_DOK6', 'ENSG00000206579_XKR4', 'ENSG00000206645_RF00019', 'ENSG00000206786_RNU6-701P', 'ENSG00000206846_RF00019', 'ENSG00000206848_RNU6-890P', 'ENSG00000207088_SNORA7B', 'ENSG00000207181_SNORA14B', 'ENSG00000207234_RNU6-125P', 'ENSG00000207326_RF00019', 'ENSG00000207359_RNU6-925P', 'ENSG00000211677_IGLC2', 'ENSG00000211699_TRGV3', 'ENSG00000211895_IGHA1', 'ENSG00000212385_RNU6-817P', 'ENSG00000212391_RF00554', 'ENSG00000212607_SNORA3B', 'ENSG00000212829_RPS26P3', 'ENSG00000213083_AC010731.1', 'ENSG00000213216_AC007066.1', 'ENSG00000213222_AC093724.1', 'ENSG00000213228_RPL12P38', 'ENSG00000213250_RBMS2P1', 'ENSG00000213272_RPL7AP9', 'ENSG00000213303_AC008481.1', 'ENSG00000213402_PTPRCAP', 'ENSG00000213471_TTLL13P', 'ENSG00000213588_ZBTB9', 'ENSG00000213609_RPL7AP50', 'ENSG00000213757_AC020898.1', 'ENSG00000213931_HBE1', 'ENSG00000213950_RPS10P2', 'ENSG00000213994_AL157395.1', 'ENSG00000214787_MS4A4E', 'ENSG00000214866_DCDC2C', 'ENSG00000214908_AL353678.1', 'ENSG00000214975_PPIAP29', 'ENSG00000215198_AL353795.1', 'ENSG00000215208_KRT18P60', 'ENSG00000215218_UBE2QL1', 'ENSG00000215297_AL354941.1', 'ENSG00000215464_AP000354.1', 'ENSG00000215483_LINC00598', 'ENSG00000215817_ZC3H11B', 'ENSG00000215861_AC245297.1', 'ENSG00000215910_C1orf167', 'ENSG00000216475_AL024474.1', 'ENSG00000217195_AL513475.1', 'ENSG00000217414_DDX18P3', 'ENSG00000217512_AL356776.1', 'ENSG00000218351_RPS3AP23', 'ENSG00000218418_AL591135.1', 'ENSG00000218749_AL033519.1', 'ENSG00000218766_AL450338.1', 'ENSG00000218792_HSPD1P16', 'ENSG00000219249_AMZ2P2', 'ENSG00000219395_HSPA8P15', 'ENSG00000219410_AC125494.1', 'ENSG00000219932_RPL12P8', 'ENSG00000220091_LAP3P1', 'ENSG00000220237_RPS24P12', 'ENSG00000220494_YAP1P1', 'ENSG00000221102_SNORA11B', 'ENSG00000221887_HMSD', 'ENSG00000222276_RNU2-33P', 'ENSG00000222370_SNORA36B', 'ENSG00000222421_RF00019', 'ENSG00000222431_RNU6-141P', 'ENSG00000223342_AL158817.1', 'ENSG00000223379_AL391987.3', 'ENSG00000223403_MEG9', 'ENSG00000223519_KIF28P', 'ENSG00000223576_AL355001.1', 'ENSG00000223668_EEF1A1P24', 'ENSG00000223741_PSMD4P1', 'ENSG00000223779_AC239800.1', 'ENSG00000223783_LINC01983', 'ENSG00000223784_LINP1', 'ENSG00000223855_HRAT92', 'ENSG00000223884_AC068481.1', 'ENSG00000223899_SEC13P1', 'ENSG00000224067_AL354877.1', 'ENSG00000224072_AL139811.1', 'ENSG00000224081_SLC44A3-AS1', 'ENSG00000224099_AC104823.1', 'ENSG00000224116_INHBA-AS1', 'ENSG00000224137_LINC01857', 'ENSG00000224155_AC073136.2', 'ENSG00000224321_RPL12P14', 'ENSG00000224402_OR6D1P', 'ENSG00000224479_AC104162.1', 'ENSG00000224599_BMS1P12', 'ENSG00000224689_ZNF812P', 'ENSG00000224848_AL589843.1', 'ENSG00000224908_TIMM8BP2', 'ENSG00000224957_LINC01266', 'ENSG00000224959_AC017002.1', 'ENSG00000224988_AL158207.1', 'ENSG00000224993_RPL29P12', 'ENSG00000225096_AL445250.1', 'ENSG00000225101_OR52K3P', 'ENSG00000225107_AC092484.1', 'ENSG00000225187_AC073283.1', 'ENSG00000225313_AL513327.1', 'ENSG00000225345_SNX18P3', 'ENSG00000225393_BX571846.1', 'ENSG00000225422_RBMS1P1', 'ENSG00000225423_TNPO1P1', 'ENSG00000225531_AL807761.2', 'ENSG00000225554_AL359764.1', 'ENSG00000225650_EIF2S2P5', 'ENSG00000225674_IPO7P2', 'ENSG00000225807_AC069281.1', 'ENSG00000226010_AL355852.1', 'ENSG00000226084_AC113935.1', 'ENSG00000226251_AL451060.1', 'ENSG00000226383_LINC01876', 'ENSG00000226491_FTOP1', 'ENSG00000226501_USF1P1', 'ENSG00000226545_AL357552.1', 'ENSG00000226564_FTH1P20', 'ENSG00000226617_RPL21P110', 'ENSG00000226647_AL365356.1', 'ENSG00000226800_CACTIN-AS1', 'ENSG00000226913_BSN-DT', 'ENSG00000226948_RPS4XP2', 'ENSG00000226970_AL450063.1', 'ENSG00000227006_AL136988.2', 'ENSG00000227051_C14orf132', 'ENSG00000227072_AL353706.1', 'ENSG00000227110_LMCD1-AS1', 'ENSG00000227192_AL023581.2', 'ENSG00000227198_C6orf47-AS1', 'ENSG00000227207_RPL31P12', 'ENSG00000227477_STK4-AS1', 'ENSG00000227541_SFR1P1', 'ENSG00000227590_ATP5MC1P5', 'ENSG00000227649_MTND6P32', 'ENSG00000227682_ATP5F1AP2', 'ENSG00000227740_AL513329.1', 'ENSG00000227742_CALR4P', 'ENSG00000228097_MTATP6P11', 'ENSG00000228140_AL031283.1', 'ENSG00000228175_GEMIN8P4', 'ENSG00000228212_OFD1P17', 'ENSG00000228232_GAPDHP1', 'ENSG00000228317_AL158070.1', 'ENSG00000228413_AC024937.1', 'ENSG00000228430_AL162726.3', 'ENSG00000228501_RPL15P18', 'ENSG00000228550_AC073583.1', 'ENSG00000228655_AC096558.1', 'ENSG00000228727_SAPCD1', 'ENSG00000228826_AL592494.1', 'ENSG00000228839_PIK3IP1-AS1', 'ENSG00000228863_AL121985.1', 'ENSG00000229066_AC093459.1', 'ENSG00000229150_CRYGEP', 'ENSG00000229154_KCNQ5-AS1', 'ENSG00000229163_NAP1L1P2', 'ENSG00000229236_TTTY10', 'ENSG00000229274_AL662860.1', 'ENSG00000229308_AC010737.1', 'ENSG00000229326_AC069154.1', 'ENSG00000229372_SZT2-AS1', 'ENSG00000229444_AL451062.1', 'ENSG00000229567_AL139421.1', 'ENSG00000229703_CR589904.1', 'ENSG00000229742_AC092809.1', 'ENSG00000229758_DYNLT3P2', 'ENSG00000229839_AC018462.1', 'ENSG00000229847_EMX2OS', 'ENSG00000229853_AL034418.1', 'ENSG00000229918_DOCK9-AS1', 'ENSG00000229953_AL590666.2', 'ENSG00000229992_HMGB3P9', 'ENSG00000230063_AL360091.2', 'ENSG00000230064_AL772161.1', 'ENSG00000230138_AC119428.2', 'ENSG00000230149_AL021707.3', 'ENSG00000230289_AL358781.2', 'ENSG00000230295_GTF2IP23', 'ENSG00000230479_AP000695.1', 'ENSG00000230508_RPL19P21', 'ENSG00000230519_HMGB1P49', 'ENSG00000230534_AL392046.1', 'ENSG00000230563_AL121757.1', 'ENSG00000230721_AL049597.1', 'ENSG00000230772_VN1R108P', 'ENSG00000230777_RPS29P5', 'ENSG00000230799_AC007279.1', 'ENSG00000230813_AL356583.3', 'ENSG00000230815_AL807757.1', 'ENSG00000230872_MFSD13B', 'ENSG00000230910_AL391807.1', 'ENSG00000230912_AL021707.4', 'ENSG00000230968_AC084149.2', 'ENSG00000230993_RPL12P15', 'ENSG00000231265_TRERNA1', 'ENSG00000231307_RPS3P2', 'ENSG00000231407_AL354732.1', 'ENSG00000231449_AC097359.1', 'ENSG00000231507_LINC01353', 'ENSG00000231531_HINT1P1', 'ENSG00000231548_OR55B1P', 'ENSG00000231731_AC010976.1', 'ENSG00000231742_LINC01273', 'ENSG00000231788_RPL31P50', 'ENSG00000231830_AC245140.1', 'ENSG00000231927_AC093734.1', 'ENSG00000231993_EP300-AS1', 'ENSG00000232027_AL671986.1', 'ENSG00000232028_AC007391.1', 'ENSG00000232065_LINC01063', 'ENSG00000232133_IMPDH1P10', 'ENSG00000232139_LINC00867', 'ENSG00000232273_FTH1P1', 'ENSG00000232333_RPS27AP2', 'ENSG00000232466_AL356133.1', 'ENSG00000232500_AP005273.1', 'ENSG00000232530_LIF-AS1', 'ENSG00000232568_RPL23AP35', 'ENSG00000232578_AC093311.1', 'ENSG00000232606_LINC01412', 'ENSG00000232654_FAM136BP', 'ENSG00000232656_IDI2-AS1', 'ENSG00000232719_AC007272.1', 'ENSG00000232803_SLCO4A1-AS1', 'ENSG00000232987_LINC01219', 'ENSG00000233025_CRYZP1', 'ENSG00000233093_LINC00892', 'ENSG00000233099_AC095030.1', 'ENSG00000233401_PRKAR1AP1', 'ENSG00000233427_AL009181.1', 'ENSG00000233540_DNM3-IT1', 'ENSG00000233674_AL451062.2', 'ENSG00000233825_AL391839.2', 'ENSG00000233862_AC016907.2', 'ENSG00000233994_GDI2P2', 'ENSG00000234026_AL157834.2', 'ENSG00000234106_SRP14P2', 'ENSG00000234145_NAP1L4P3', 'ENSG00000234174_AC016683.1', 'ENSG00000234271_Z98752.2', 'ENSG00000234425_AL138930.1', 'ENSG00000234488_AC096664.2', 'ENSG00000234630_AC245060.2', 'ENSG00000234645_YWHAEP5', 'ENSG00000234718_AC007161.1', 'ENSG00000234810_AL603840.1', 'ENSG00000235045_RPL7P8', 'ENSG00000235072_AC012074.1', 'ENSG00000235214_FAM83C-AS1', 'ENSG00000235288_AC099329.1', 'ENSG00000235376_RPEL1', 'ENSG00000235429_AC083875.1', 'ENSG00000235472_EIF4A1P7', 'ENSG00000235478_LINC01664', 'ENSG00000235531_MSC-AS1', 'ENSG00000235640_AC092646.2', 'ENSG00000235677_NPM1P26', 'ENSG00000235683_AC018442.1', 'ENSG00000235701_PCBP2P1', 'ENSG00000235740_PHACTR2-AS1', 'ENSG00000235774_AC023347.1', 'ENSG00000235802_HCFC1-AS1', 'ENSG00000235917_MTCO2P11', 'ENSG00000235958_UBOX5-AS1', 'ENSG00000236032_OR5H14', 'ENSG00000236180_AL445669.2', 'ENSG00000236254_MTND4P14', 'ENSG00000236283_AC019197.1', 'ENSG00000236290_EEF1GP7', 'ENSG00000236317_AC104333.2', 'ENSG00000236364_AL358115.1', 'ENSG00000236457_AC090617.1', 'ENSG00000236564_YWHAQP5', 'ENSG00000236671_PRKG1-AS1', 'ENSG00000236680_AL356000.1', 'ENSG00000236682_AC068282.1', 'ENSG00000236711_SMAD9-IT1', 'ENSG00000236806_RPL7AP15', 'ENSG00000236869_ZKSCAN7-AS1', 'ENSG00000236886_AC007563.2', 'ENSG00000236915_AL356270.1', 'ENSG00000236936_AL031005.1', 'ENSG00000237057_LINC02087', 'ENSG00000237101_AC092809.4', 'ENSG00000237276_ANO7L1', 'ENSG00000237317_AL022400.1', 'ENSG00000237387_AL022329.2', 'ENSG00000237618_BTBD7P2', 'ENSG00000237685_AL139039.3', 'ENSG00000237757_EEF1A1P30', 'ENSG00000237766_GGTA2P', 'ENSG00000237798_AC010894.4', 'ENSG00000238015_AC104837.2', 'ENSG00000238133_MAP3K20-AS1', 'ENSG00000238259_AC067940.1', 'ENSG00000238324_RN7SKP198', 'ENSG00000238358_AC004969.1', 'ENSG00000239219_AC008040.1', 'ENSG00000239316_RN7SL11P', 'ENSG00000239474_KLHL41', 'ENSG00000239527_RPS23P7', 'ENSG00000239642_MEIKIN', 'ENSG00000239650_GUSBP4', 'ENSG00000239686_AL158801.1', 'ENSG00000239701_AC006512.1', 'ENSG00000239705_AL354710.2', 'ENSG00000239797_RPL21P39', 'ENSG00000239830_RPS4XP22', 'ENSG00000239930_AP001625.3', 'ENSG00000240086_AC092969.1', 'ENSG00000240087_RPSAP12', 'ENSG00000240183_RN7SL297P', 'ENSG00000240219_AL512306.2', 'ENSG00000240498_CDKN2B-AS1', 'ENSG00000240809_AC026877.1', 'ENSG00000240993_RN7SL459P', 'ENSG00000241111_PRICKLE2-AS1', 'ENSG00000241135_LINC00881', 'ENSG00000241319_SETP6', 'ENSG00000241570_PAQR9-AS1', 'ENSG00000241631_RN7SL316P', 'ENSG00000241932_AC092324.1', 'ENSG00000241933_DENND6A-DT', 'ENSG00000242060_RPS3AP49', 'ENSG00000242107_LINC01100', 'ENSG00000242175_RN7SL127P', 'ENSG00000242431_AC107398.1', 'ENSG00000242551_POU5F1P6', 'ENSG00000242571_RPL21P11', 'ENSG00000242641_LINC00971', 'ENSG00000242747_AC090515.1', 'ENSG00000242992_FTH1P4', 'ENSG00000243055_GK-AS1', 'ENSG00000243498_UBA52P5', 'ENSG00000243592_RPL17P22', 'ENSG00000243709_LEFTY1', 'ENSG00000243830_AC092865.1', 'ENSG00000243836_WDR86-AS1', 'ENSG00000243961_PARAL1', 'ENSG00000244021_AC093591.1', 'ENSG00000244097_RPS4XP17', 'ENSG00000244151_AC010973.2', 'ENSG00000244183_PPIAP71', 'ENSG00000244242_IFITM10', 'ENSG00000244245_AC133134.1', 'ENSG00000244251_AC013356.1', 'ENSG00000244355_LY6G6D', 'ENSG00000244357_RN7SL145P', 'ENSG00000244476_ERVFRD-1', 'ENSG00000244482_LILRA6', 'ENSG00000244585_RPL12P33', 'ENSG00000244618_RN7SL334P', 'ENSG00000244703_CD46P1', 'ENSG00000245261_AL133375.1', 'ENSG00000245482_AC046130.1', 'ENSG00000246363_LINC02458', 'ENSG00000246863_AC012377.1', 'ENSG00000247199_AC091948.1', 'ENSG00000248121_SMURF2P1', 'ENSG00000248155_CR545473.1', 'ENSG00000248223_AC026785.2', 'ENSG00000248485_PCP4L1', 'ENSG00000248690_HAS2-AS1', 'ENSG00000248884_AC010280.2', 'ENSG00000248936_AC027607.1', 'ENSG00000249140_PRDX2P3', 'ENSG00000249363_AC011411.1', 'ENSG00000249381_LINC00500', 'ENSG00000249456_AL731577.2', 'ENSG00000249492_AC114956.3', 'ENSG00000249574_AC226118.1', 'ENSG00000249614_LINC02503', 'ENSG00000249691_AC026117.1', 'ENSG00000249695_AC026369.1', 'ENSG00000249803_AC112178.1', 'ENSG00000249825_CTD-2201I18.1', 'ENSG00000249848_AC112673.1', 'ENSG00000249850_KRT18P31', 'ENSG00000249884_RNF103-CHMP3', 'ENSG00000249978_TRGV7', 'ENSG00000250130_AC090519.1', 'ENSG00000250148_KRT8P31', 'ENSG00000250332_AC010460.3', 'ENSG00000250334_LINC00989', 'ENSG00000250539_KRT8P33', 'ENSG00000250548_LINC01303', 'ENSG00000250608_AC010210.1', 'ENSG00000250635_CXXC5-AS1', 'ENSG00000250645_AC010442.2', 'ENSG00000250733_C8orf17', 'ENSG00000250853_RNF138P1', 'ENSG00000250902_SMAD1-AS1', 'ENSG00000250950_AC093752.2', 'ENSG00000250982_GAPDHP35', 'ENSG00000251129_LINC02506', 'ENSG00000251152_AC025539.1', 'ENSG00000251250_AC091951.3', 'ENSG00000251288_AC018797.3', 'ENSG00000251468_AC135352.1', 'ENSG00000251537_AC005324.3', 'ENSG00000251538_LINC02201', 'ENSG00000251584_AC096751.2', 'ENSG00000251676_SNHG27', 'ENSG00000251916_RNU1-61P', 'ENSG00000252759_RF00019', 'ENSG00000253256_AC134043.1', 'ENSG00000253305_PCDHGB6', 'ENSG00000253394_LINC00534', 'ENSG00000253490_LINC02099', 'ENSG00000253537_PCDHGA7', 'ENSG00000253629_AP000426.1', 'ENSG00000253651_SOD1P3', 'ENSG00000253730_AC015909.2', 'ENSG00000253734_LINC01289', 'ENSG00000253767_PCDHGA8', 'ENSG00000253853_AC246817.1', 'ENSG00000253873_PCDHGA11', 'ENSG00000254028_AC083843.1', 'ENSG00000254048_AC105150.1', 'ENSG00000254054_AC087273.2', 'ENSG00000254122_PCDHGB7', 'ENSG00000254248_AC068189.1', 'ENSG00000254680_AC079329.1', 'ENSG00000254708_AL139174.1', 'ENSG00000254780_AC023232.1', 'ENSG00000254810_AP001189.3', 'ENSG00000254812_AC067930.3', 'ENSG00000254842_LINC02551', 'ENSG00000254846_AL355075.1', 'ENSG00000254862_AC100771.2', 'ENSG00000254897_AP003035.1', 'ENSG00000255002_LINC02324', 'ENSG00000255074_AC018523.1', 'ENSG00000255102_AP005436.1', 'ENSG00000255156_RNY1P9', 'ENSG00000255158_AC131934.1', 'ENSG00000255222_SETP17', 'ENSG00000255256_AL136146.2', 'ENSG00000255367_AC127526.2', 'ENSG00000255418_AC090092.1', 'ENSG00000255443_CD44-AS1', 'ENSG00000255446_AP003064.2', 'ENSG00000255479_AP001189.6', 'ENSG00000255487_AC087362.2', 'ENSG00000255867_DENND5B-AS1', 'ENSG00000255871_AC007529.1', 'ENSG00000256029_SNHG28', 'ENSG00000256571_AC079866.2', 'ENSG00000256588_AC027544.2', 'ENSG00000256712_AC134349.1', 'ENSG00000256746_AC018410.1', 'ENSG00000256813_AP000777.3', 'ENSG00000256967_AC018653.3', 'ENSG00000256968_SNRPEP2', 'ENSG00000257074_RPL29P33', 'ENSG00000257120_AL356756.1', 'ENSG00000257146_AC079905.2', 'ENSG00000257195_HNRNPA1P50', 'ENSG00000257327_AC012555.1', 'ENSG00000257345_LINC02413', 'ENSG00000257379_AC023509.1', 'ENSG00000257386_AC025257.1', 'ENSG00000257431_AC089998.1', 'ENSG00000257715_AC007298.1', 'ENSG00000257838_OTOAP1', 'ENSG00000257987_TEX49', 'ENSG00000258084_AC128707.1', 'ENSG00000258090_AC093014.1', 'ENSG00000258177_AC008149.1', 'ENSG00000258357_AC023161.2', 'ENSG00000258410_AC087386.1', 'ENSG00000258498_DIO3OS', 'ENSG00000258504_AL157871.1', 'ENSG00000258512_LINC00239', 'ENSG00000258867_LINC01146', 'ENSG00000258886_HIGD1AP17', 'ENSG00000259032_ENSAP2', 'ENSG00000259100_AL157791.1', 'ENSG00000259294_AC005096.1', 'ENSG00000259327_AC023906.3', 'ENSG00000259345_AC013652.1', 'ENSG00000259377_AC026770.1', 'ENSG00000259380_AC087473.1', 'ENSG00000259442_AC105339.3', 'ENSG00000259461_ANP32BP3', 'ENSG00000259556_AC090971.3', 'ENSG00000259569_AC013489.2', 'ENSG00000259617_AC020661.3', 'ENSG00000259684_AC084756.1', 'ENSG00000259719_LINC02284', 'ENSG00000259954_IL21R-AS1', 'ENSG00000259986_AC103876.1', 'ENSG00000260135_MMP2-AS1', 'ENSG00000260206_AC105020.2', 'ENSG00000260235_AC105020.3', 'ENSG00000260269_AC105036.3', 'ENSG00000260394_Z92544.1', 'ENSG00000260425_AL031709.1', 'ENSG00000260447_AC009065.3', 'ENSG00000260615_RPL23AP97', 'ENSG00000260871_AC093510.2', 'ENSG00000260877_AP005233.2', 'ENSG00000260979_AC022167.3', 'ENSG00000261051_AC107021.2', 'ENSG00000261113_AC009034.1', 'ENSG00000261168_AL592424.1', 'ENSG00000261253_AC137932.2', 'ENSG00000261269_AC093278.2', 'ENSG00000261552_AC109460.4', 'ENSG00000261572_AC097639.1', 'ENSG00000261602_AC092115.2', 'ENSG00000261630_AC007496.2', 'ENSG00000261644_AC007728.2', 'ENSG00000261734_AC116096.1', 'ENSG00000261773_AC244090.2', 'ENSG00000261837_AC046158.2', 'ENSG00000261838_AC092718.6', 'ENSG00000261888_AC144831.1', 'ENSG00000262061_AC129507.1', 'ENSG00000262097_LINC02185', 'ENSG00000262372_CR936218.1', 'ENSG00000262406_MMP12', 'ENSG00000262580_AC087741.1', 'ENSG00000262772_LINC01977', 'ENSG00000262833_AC016245.1', 'ENSG00000263006_ROCK1P1', 'ENSG00000263011_AC108134.4', 'ENSG00000263155_MYZAP', 'ENSG00000263393_AC011825.2', 'ENSG00000263426_RN7SL471P', 'ENSG00000263503_MAPK8IP1P2', 'ENSG00000263595_RN7SL823P', 'ENSG00000263878_DLGAP1-AS4', 'ENSG00000263940_RN7SL275P', 'ENSG00000264019_AC018521.2', 'ENSG00000264031_ABHD15-AS1', 'ENSG00000264044_AC005726.2', 'ENSG00000264070_DND1P1', 'ENSG00000264188_AC106037.1', 'ENSG00000264269_AC016866.1', 'ENSG00000264339_AP001020.1', 'ENSG00000264434_AC110603.1', 'ENSG00000264714_KIAA0895LP1', 'ENSG00000265010_AC087301.1', 'ENSG00000265073_AC010761.2', 'ENSG00000265107_GJA5', 'ENSG00000265179_AP000894.2', 'ENSG00000265218_AC103810.2', 'ENSG00000265334_AC130324.2', 'ENSG00000265439_RN7SL811P', 'ENSG00000265531_FCGR1CP', 'ENSG00000265845_AC024267.4', 'ENSG00000265907_AP000919.2', 'ENSG00000265942_RN7SL577P', 'ENSG00000266256_LINC00683', 'ENSG00000266456_AP001178.3', 'ENSG00000266733_TBC1D29', 'ENSG00000266835_GAPLINC', 'ENSG00000266844_AC093330.1', 'ENSG00000266903_AC243964.2', 'ENSG00000266944_AC005262.1', 'ENSG00000266946_MRPL37P1', 'ENSG00000266947_AC022916.1', 'ENSG00000267034_AC010980.2', 'ENSG00000267044_AC005757.1', 'ENSG00000267147_LINC01842', 'ENSG00000267175_AC105094.2', 'ENSG00000267191_AC006213.3', 'ENSG00000267275_AC020911.2', 'ENSG00000267288_AC138150.2', 'ENSG00000267313_KC6', 'ENSG00000267316_AC090409.2', 'ENSG00000267323_SLC25A1P5', 'ENSG00000267345_AC010632.1', 'ENSG00000267387_AC020931.1', 'ENSG00000267395_DM1-AS', 'ENSG00000267429_AC006116.6', 'ENSG00000267452_LINC02073', 'ENSG00000267491_AC100788.1', 'ENSG00000267529_AP005131.4', 'ENSG00000267554_AC015911.8', 'ENSG00000267601_AC022966.1', 'ENSG00000267638_AC023855.1', 'ENSG00000267665_AC021683.3', 'ENSG00000267681_AC135721.1', 'ENSG00000267703_AC020917.2', 'ENSG00000267731_AC005332.2', 'ENSG00000267733_AP005264.5', 'ENSG00000267750_RUNDC3A-AS1', 'ENSG00000267890_AC010624.2', 'ENSG00000267898_AC026803.2', 'ENSG00000267927_AC010320.1', 'ENSG00000268070_AC006539.2', 'ENSG00000268355_AC243960.3', 'ENSG00000268416_AC010329.1', 'ENSG00000268520_AC008750.5', 'ENSG00000268636_AC011495.2', 'ENSG00000268696_ZNF723', 'ENSG00000268777_AC020914.1', 'ENSG00000268849_SIGLEC22P', 'ENSG00000268903_AL627309.6', 'ENSG00000268983_AC005253.2', 'ENSG00000269019_HOMER3-AS1', 'ENSG00000269067_ZNF728', 'ENSG00000269103_RF00017', 'ENSG00000269274_AC078899.4', 'ENSG00000269288_AC092070.3', 'ENSG00000269352_PTOV1-AS2', 'ENSG00000269400_AC008734.2', 'ENSG00000269506_AC110792.2', 'ENSG00000269653_AC011479.3', 'ENSG00000269881_AC004754.1', 'ENSG00000269926_DDIT4-AS1', 'ENSG00000270048_AC068790.4', 'ENSG00000270050_AL035427.1', 'ENSG00000270503_YTHDF2P1', 'ENSG00000270706_PRMT1P1', 'ENSG00000270765_GAS2L2', 'ENSG00000270882_HIST2H4A', 'ENSG00000270906_MTND4P35', 'ENSG00000271013_LRRC37A9P', 'ENSG00000271129_AC009027.1', 'ENSG00000271259_AC010201.1', 'ENSG00000271524_BNIP3P17', 'ENSG00000271543_AC021443.1', 'ENSG00000271743_AF287957.1', 'ENSG00000271792_AC008667.4', 'ENSG00000271868_AC114810.1', 'ENSG00000271973_AC141002.1', 'ENSG00000271984_AL008726.1', 'ENSG00000271996_AC019080.4', 'ENSG00000272070_AC005618.1', 'ENSG00000272138_LINC01607', 'ENSG00000272150_NBPF25P', 'ENSG00000272265_AC034236.3', 'ENSG00000272279_AL512329.2', 'ENSG00000272473_AC006273.1', 'ENSG00000272510_AL121992.3', 'ENSG00000272582_AL031587.3', 'ENSG00000272695_GAS6-DT', 'ENSG00000272732_AC004982.1', 'ENSG00000272770_AC005696.2', 'ENSG00000272788_AP000864.1', 'ENSG00000272824_AC245100.7', 'ENSG00000272825_AL844908.1', 'ENSG00000272848_AL135910.1', 'ENSG00000272916_AC022400.6', 'ENSG00000273133_AC116651.1', 'ENSG00000273177_AC092954.2', 'ENSG00000273212_AC000068.2', 'ENSG00000273218_AC005776.2', 'ENSG00000273245_AC092653.1', 'ENSG00000273274_ZBTB8B', 'ENSG00000273312_AL121749.1', 'ENSG00000273325_AL008723.3', 'ENSG00000273369_AC096586.2', 'ENSG00000273474_AL157392.4', 'ENSG00000273599_AL731571.1', 'ENSG00000273724_AC106782.5', 'ENSG00000273870_AL138721.1', 'ENSG00000273920_AC103858.2', 'ENSG00000274023_AL360169.2', 'ENSG00000274029_AC069209.1', 'ENSG00000274114_ALOX15P1', 'ENSG00000274124_AC074029.3', 'ENSG00000274139_AC090164.2', 'ENSG00000274281_AC022929.2', 'ENSG00000274308_AC244093.1', 'ENSG00000274373_AC148476.1', 'ENSG00000274386_TMEM269', 'ENSG00000274403_AC090510.2', 'ENSG00000274570_SPDYE10P', 'ENSG00000274670_AC137590.2', 'ENSG00000274723_AC079906.1', 'ENSG00000274742_RF00017', 'ENSG00000274798_AC025166.1', 'ENSG00000274911_AL627230.2', 'ENSG00000275106_AC025594.2', 'ENSG00000275197_AC092794.2', 'ENSG00000275302_CCL4', 'ENSG00000275348_AC096861.1', 'ENSG00000275367_AC092111.1', 'ENSG00000275489_C17orf98', 'ENSG00000275527_AC100835.2', 'ENSG00000275995_AC109809.1', 'ENSG00000276070_CCL4L2', 'ENSG00000276255_AL136379.1', 'ENSG00000276282_AC022960.2', 'ENSG00000276547_PCDHGB5', 'ENSG00000276704_AL442067.2', 'ENSG00000276952_AL121772.3', 'ENSG00000276984_AL023881.1', 'ENSG00000276997_AL513314.2', 'ENSG00000277117_FP565260.3', 'ENSG00000277152_AC110048.2', 'ENSG00000277186_AC131212.1', 'ENSG00000277229_AC084781.1', 'ENSG00000277496_AL357033.4', 'ENSG00000277504_AC010536.3', 'ENSG00000277531_PNMA8C', 'ENSG00000278041_AL133325.3', 'ENSG00000278344_AC063943.1', 'ENSG00000278467_AC138393.3', 'ENSG00000278513_AC091046.2', 'ENSG00000278621_AC037198.2', 'ENSG00000278713_AC120114.2', 'ENSG00000278716_AC133540.1', 'ENSG00000278746_RN7SL660P', 'ENSG00000278774_RF00004', 'ENSG00000279091_AC026523.2', 'ENSG00000279130_AC091925.1', 'ENSG00000279141_LINC01451', 'ENSG00000279161_AC093503.3', 'ENSG00000279187_AC027601.5', 'ENSG00000279263_OR2L8', 'ENSG00000279315_AL158212.4', 'ENSG00000279319_AC105074.1', 'ENSG00000279332_AC090772.4', 'ENSG00000279339_AC100788.2', 'ENSG00000279365_AP000695.3', 'ENSG00000279378_AC009159.4', 'ENSG00000279384_AC080188.2', 'ENSG00000279404_AC008739.5', 'ENSG00000279417_AC019322.4', 'ENSG00000279444_AC135584.1', 'ENSG00000279486_OR2AG1', 'ENSG00000279530_AC092881.1', 'ENSG00000279590_AC005786.4', 'ENSG00000279619_AC020907.5', 'ENSG00000279633_AL137918.1', 'ENSG00000279636_LINC00216', 'ENSG00000279672_AP006621.5', 'ENSG00000279690_AP000280.1', 'ENSG00000279727_LINC02033', 'ENSG00000279861_AC073548.1', 'ENSG00000279913_AP001962.1', 'ENSG00000279970_AC023024.2', 'ENSG00000280055_TMEM75', 'ENSG00000280057_AL022069.2', 'ENSG00000280135_AL096816.1', 'ENSG00000280310_AC092437.1', 'ENSG00000280422_AC115284.2', 'ENSG00000280432_AP000962.2', 'ENSG00000280693_SH3PXD2A-AS1', 'ENSG00000281490_CICP14', 'ENSG00000281530_AC004461.2', 'ENSG00000281571_AC241585.2', 'ENSG00000282772_AL358790.1', 'ENSG00000282989_AP001206.1', 'ENSG00000282996_AC022021.1', 'ENSG00000283023_FRG1GP', 'ENSG00000283031_AC009242.1', 'ENSG00000283097_AL159152.1', 'ENSG00000283141_AL157832.3', 'ENSG00000283209_AC106858.1', 'ENSG00000283538_AC005972.3', 'ENSG00000284240_AC099062.1', 'ENSG00000284512_AC092718.8', 'ENSG00000284657_AL031432.5', 'ENSG00000284664_AL161756.3', 'ENSG00000284931_AC104389.5', 'ENSG00000285016_AC017002.6', 'ENSG00000285117_AC068724.4', 'ENSG00000285162_AC004593.3', 'ENSG00000285210_AL136382.1', 'ENSG00000285215_AC241377.4', 'ENSG00000285292_AC021097.2', 'ENSG00000285498_AC104389.6', 'ENSG00000285534_AL163541.1', 'ENSG00000285577_AC019127.1', 'ENSG00000285611_AC007132.1', 'ENSG00000285629_AL031847.2', 'ENSG00000285641_AL358472.6', 'ENSG00000285649_AL357079.2', 'ENSG00000285650_AL157827.2', 'ENSG00000285662_AL731733.1', 'ENSG00000285672_AL160396.2', 'ENSG00000285763_AL358777.1', 'ENSG00000285865_AC010285.3', 'ENSG00000285879_AC018628.2']\n",
    "print('Constant cols:', len(constant_cols))\n",
    "\n",
    "important_cols = ['ENSG00000135218_CD36',\n",
    " 'ENSG00000010278_CD9',\n",
    " 'ENSG00000204287_HLA-DRA',\n",
    " 'ENSG00000117091_CD48',\n",
    " 'ENSG00000004468_CD38',\n",
    " 'ENSG00000173762_CD7',\n",
    " 'ENSG00000137101_CD72',\n",
    " 'ENSG00000019582_CD74',\n",
    " 'ENSG00000169442_CD52',\n",
    " 'ENSG00000170458_CD14',\n",
    " 'ENSG00000272398_CD24',\n",
    " 'ENSG00000026508_CD44',\n",
    " 'ENSG00000114013_CD86',\n",
    " 'ENSG00000174059_CD34',\n",
    " 'ENSG00000139193_CD27',\n",
    " 'ENSG00000105383_CD33',\n",
    " 'ENSG00000085117_CD82',\n",
    " 'ENSG00000177455_CD19',\n",
    " 'ENSG00000002586_CD99',\n",
    " 'ENSG00000196126_HLA-DRB1',\n",
    " 'ENSG00000135404_CD63',\n",
    " 'ENSG00000012124_CD22',\n",
    " 'ENSG00000134061_CD180',\n",
    " 'ENSG00000105369_CD79A',\n",
    " 'ENSG00000116824_CD2',\n",
    " 'ENSG00000010610_CD4',\n",
    " 'ENSG00000139187_KLRG1',\n",
    " 'ENSG00000204592_HLA-E',\n",
    " 'ENSG00000090470_PDCD7',\n",
    " 'ENSG00000206531_CD200R1L',\n",
    "'ENSG00000166710_B2M',\n",
    " 'ENSG00000198034_RPS4X',\n",
    " 'ENSG00000188404_SELL',\n",
    " 'ENSG00000130303_BST2',\n",
    " 'ENSG00000128040_SPINK2',\n",
    " 'ENSG00000206503_HLA-A',\n",
    " 'ENSG00000108107_RPL28',\n",
    " 'ENSG00000143226_FCGR2A',\n",
    " 'ENSG00000133112_TPT1',\n",
    " 'ENSG00000166091_CMTM5',\n",
    " 'ENSG00000026025_VIM',\n",
    " 'ENSG00000205542_TMSB4X',\n",
    " 'ENSG00000109099_PMP22',\n",
    " 'ENSG00000145425_RPS3A',\n",
    " 'ENSG00000172247_C1QTNF4',\n",
    " 'ENSG00000072274_TFRC',\n",
    " 'ENSG00000234745_HLA-B',\n",
    " 'ENSG00000075340_ADD2',\n",
    " 'ENSG00000119865_CNRIP1',\n",
    " 'ENSG00000198938_MT-CO3',\n",
    " 'ENSG00000135046_ANXA1',\n",
    " 'ENSG00000235169_SMIM1',\n",
    " 'ENSG00000101200_AVP',\n",
    " 'ENSG00000167996_FTH1',\n",
    " 'ENSG00000163565_IFI16',\n",
    " 'ENSG00000117450_PRDX1',\n",
    " 'ENSG00000124570_SERPINB6',\n",
    " 'ENSG00000112077_RHAG',\n",
    " 'ENSG00000051523_CYBA',\n",
    " 'ENSG00000107130_NCS1',\n",
    " 'ENSG00000055118_KCNH2',\n",
    " 'ENSG00000029534_ANK1',\n",
    " 'ENSG00000169567_HINT1',\n",
    " 'ENSG00000142089_IFITM3',\n",
    " 'ENSG00000139278_GLIPR1',\n",
    " 'ENSG00000142227_EMP3',\n",
    " 'ENSG00000076662_ICAM3',\n",
    " 'ENSG00000143627_PKLR',\n",
    " 'ENSG00000130755_GMFG',\n",
    " 'ENSG00000160593_JAML',\n",
    " 'ENSG00000095932_SMIM24',\n",
    " 'ENSG00000197956_S100A6',\n",
    " 'ENSG00000171476_HOPX',\n",
    " 'ENSG00000116675_DNAJC6',\n",
    " 'ENSG00000100448_CTSG',\n",
    " 'ENSG00000100368_CSF2RB',\n",
    " 'ENSG00000047648_ARHGAP6',\n",
    " 'ENSG00000198918_RPL39',\n",
    " 'ENSG00000196154_S100A4',\n",
    " 'ENSG00000233968_AL157895.1',\n",
    " 'ENSG00000137642_SORL1',\n",
    " 'ENSG00000133816_MICAL2',\n",
    " 'ENSG00000130208_APOC1',\n",
    " 'ENSG00000105610_KLF1']\n",
    "print('important columns ',len(important_cols))\n",
    "\n",
    "!pip install tensorflow\n",
    "from tensorflow import keras\n",
    "import math\n",
    "\n",
    "import tensorflow as tf\n",
    "import tensorflow.keras.backend as K\n",
    "from tensorflow.keras.models import Model, load_model\n",
    "from tensorflow.keras.callbacks import ReduceLROnPlateau, LearningRateScheduler, EarlyStopping\n",
    "from tensorflow.keras.layers import Dense, Input, Concatenate, Dropout, BatchNormalization, GRU, LSTM\n",
    "\n",
    "def correlation_score(y_true, y_pred):\n",
    "    if type(y_true) == pd.DataFrame: y_true = y_true.values\n",
    "    if type(y_pred) == pd.DataFrame: y_pred = y_pred.values\n",
    "    corrsum = 0\n",
    "    for i in range(len(y_true)):\n",
    "        corrsum += np.corrcoef(y_true[i], y_pred[i])[1, 0]\n",
    "    return corrsum / len(y_true)\n",
    "\n",
    "def negative_correlation_loss(y_true, y_pred):\n",
    "    my = K.mean(tf.convert_to_tensor(y_pred), axis=1)\n",
    "    my = tf.tile(tf.expand_dims(my, axis=1), (1, y_true.shape[1]))\n",
    "    ym = y_pred - my\n",
    "    r_num = K.sum(tf.multiply(y_true, ym), axis=1)\n",
    "    r_den = tf.sqrt(K.sum(K.square(ym), axis=1) * float(y_true.shape[-1]))\n",
    "    r = tf.reduce_mean(r_num / r_den)\n",
    "    return - r\n",
    "\n",
    "def negative_correlation_loss_torch(y_true, y_pred):\n",
    "    \"\"\"Negative correlation loss function for Keras\n",
    "    \n",
    "    Precondition:\n",
    "    y_true.mean(axis=1) == 0\n",
    "    y_true.std(axis=1) == 1\n",
    "    \n",
    "    Returns:\n",
    "    -1 = perfect positive correlation\n",
    "    1 = totally negative correlation\n",
    "    \"\"\"\n",
    "\n",
    "    vx = y_pred - torch.mean(y_pred,1,keepdim=True)\n",
    "    vy = y_true - torch.mean(y_true,1,keepdim=True)\n",
    "\n",
    "    cost = torch.mean(torch.sum(vx * vy,1) / (torch.sqrt(torch.sum(vx ** 2,1)) * torch.sqrt(torch.sum(vy ** 2,1))))\n",
    "\n",
    "    return - cost"
   ]
  },
  {
   "cell_type": "code",
   "execution_count": 10,
   "id": "f052d031-898b-4896-9882-6b1db74eb1d5",
   "metadata": {
    "execution": {
     "iopub.execute_input": "2022-10-27T20:28:08.234940Z",
     "iopub.status.busy": "2022-10-27T20:28:08.234555Z",
     "iopub.status.idle": "2022-10-27T20:28:11.727176Z",
     "shell.execute_reply": "2022-10-27T20:28:11.726553Z",
     "shell.execute_reply.started": "2022-10-27T20:28:08.234917Z"
    },
    "tags": []
   },
   "outputs": [],
   "source": [
    "np.savetxt('./sparse/X0.csv',X0,delimiter=',')"
   ]
  },
  {
   "cell_type": "code",
   "execution_count": 5,
   "id": "3a8255c5-4006-49e1-a829-bc1252f74925",
   "metadata": {
    "execution": {
     "iopub.execute_input": "2022-10-30T15:55:14.418168Z",
     "iopub.status.busy": "2022-10-30T15:55:14.417808Z",
     "iopub.status.idle": "2022-10-30T15:55:51.179967Z",
     "shell.execute_reply": "2022-10-30T15:55:51.179069Z",
     "shell.execute_reply.started": "2022-10-30T15:55:14.418146Z"
    },
    "tags": []
   },
   "outputs": [],
   "source": [
    "N_SPLITS = 3\n",
    "\n",
    "metadata_df = pd.read_csv(FP_CELL_METADATA, index_col = 'cell_id')\n",
    "metadata_df = metadata_df[metadata_df.technology == \"citeseq\"]\n",
    "\n",
    "X = pd.read_hdf(FP_CITE_TRAIN_INPUTS).drop(columns = constant_cols)\n",
    "cell_index = X.index\n",
    "cell_columns = X.columns\n",
    "meta = metadata_df.reindex(cell_index)\n",
    "X0 = X[important_cols].values\n",
    "# st = StandardScaler()\n",
    "# X0 = st.fit_transform(X0)\n",
    "\n",
    "Y = pd.read_hdf(FP_CITE_TRAIN_TARGETS)\n",
    "Y = Y.values\n",
    "Y -= Y.mean(axis=1).reshape(-1, 1)\n",
    "Y /= Y.std(axis=1).reshape(-1, 1)"
   ]
  },
  {
   "cell_type": "code",
   "execution_count": 3,
   "id": "8d32b904-7117-4381-93bd-7585eb6a1b08",
   "metadata": {
    "execution": {
     "iopub.execute_input": "2022-10-30T15:54:47.485621Z",
     "iopub.status.busy": "2022-10-30T15:54:47.484241Z",
     "iopub.status.idle": "2022-10-30T15:54:55.506888Z",
     "shell.execute_reply": "2022-10-30T15:54:55.506091Z",
     "shell.execute_reply.started": "2022-10-30T15:54:47.485590Z"
    }
   },
   "outputs": [],
   "source": [
    "X0 = np.genfromtxt('./sparse/X0.csv',delimiter=',')\n",
    "Y = pd.read_hdf(FP_CITE_TRAIN_TARGETS)\n",
    "Y = Y.values\n",
    "Y -= Y.mean(axis=1).reshape(-1, 1)\n",
    "Y /= Y.std(axis=1).reshape(-1, 1)\n",
    "\n",
    "N_SPLITS = 3\n",
    "\n",
    "metadata_df = pd.read_csv(FP_CELL_METADATA, index_col = 'cell_id')\n",
    "metadata_df = metadata_df[metadata_df.technology == \"citeseq\"]"
   ]
  },
  {
   "cell_type": "code",
   "execution_count": 4,
   "id": "791b9fd9-a9a2-4987-8ed8-50f02bc14a25",
   "metadata": {
    "execution": {
     "iopub.execute_input": "2022-10-27T20:27:26.419530Z",
     "iopub.status.busy": "2022-10-27T20:27:26.419203Z",
     "iopub.status.idle": "2022-10-27T20:27:26.504219Z",
     "shell.execute_reply": "2022-10-27T20:27:26.503675Z",
     "shell.execute_reply.started": "2022-10-27T20:27:26.419508Z"
    },
    "tags": []
   },
   "outputs": [],
   "source": [
    "rna = AnnData(X.values)\n",
    "rna.obs_names = cell_index\n",
    "rna.var_names = cell_columns"
   ]
  },
  {
   "cell_type": "code",
   "execution_count": 4,
   "id": "3053c92a-0b76-4f37-a9b1-b110fad358de",
   "metadata": {
    "execution": {
     "iopub.execute_input": "2022-10-27T17:27:06.728727Z",
     "iopub.status.busy": "2022-10-27T17:27:06.728445Z",
     "iopub.status.idle": "2022-10-27T17:29:36.844622Z",
     "shell.execute_reply": "2022-10-27T17:29:36.843966Z",
     "shell.execute_reply.started": "2022-10-27T17:27:06.728708Z"
    },
    "tags": []
   },
   "outputs": [],
   "source": [
    "from torch_geometric.data import Data\n",
    "graph = sc.Neighbors(rna)\n",
    "graph.compute_neighbors(use_rep='X',n_neighbors=30)\n",
    "#edge_index = graph.connectivities()\n",
    "\n",
    "#data = Data(edge_index=edge_index, train_mask=idx_tr, val_mask=idx_va, x=X, y=Y)"
   ]
  },
  {
   "cell_type": "code",
   "execution_count": 31,
   "id": "1470d191-008c-4265-9abe-b9530066660d",
   "metadata": {
    "execution": {
     "iopub.execute_input": "2022-10-27T17:14:02.909849Z",
     "iopub.status.busy": "2022-10-27T17:14:02.909463Z",
     "iopub.status.idle": "2022-10-27T17:14:03.240081Z",
     "shell.execute_reply": "2022-10-27T17:14:03.239433Z",
     "shell.execute_reply.started": "2022-10-27T17:14:02.909826Z"
    },
    "tags": []
   },
   "outputs": [],
   "source": [
    "rows = graph.connectivities.nonzero()[0]\n",
    "cols = graph.connectivities.nonzero()[1]"
   ]
  },
  {
   "cell_type": "code",
   "execution_count": 5,
   "id": "3b5cf47f-8a00-400b-968f-814f9e16da97",
   "metadata": {
    "execution": {
     "iopub.execute_input": "2022-10-27T17:29:36.845799Z",
     "iopub.status.busy": "2022-10-27T17:29:36.845496Z",
     "iopub.status.idle": "2022-10-27T17:29:39.615713Z",
     "shell.execute_reply": "2022-10-27T17:29:39.615072Z",
     "shell.execute_reply.started": "2022-10-27T17:29:36.845779Z"
    }
   },
   "outputs": [],
   "source": [
    "scipy.sparse.save_npz('./sparse/graph_connectivities.npz', graph.connectivities)"
   ]
  },
  {
   "cell_type": "code",
   "execution_count": 11,
   "id": "8b440370-0929-46fa-846a-f21bd36f6ffb",
   "metadata": {
    "execution": {
     "iopub.execute_input": "2022-10-30T15:57:29.909337Z",
     "iopub.status.busy": "2022-10-30T15:57:29.908941Z",
     "iopub.status.idle": "2022-10-30T15:57:30.197999Z",
     "shell.execute_reply": "2022-10-30T15:57:30.197171Z",
     "shell.execute_reply.started": "2022-10-30T15:57:29.909313Z"
    },
    "tags": []
   },
   "outputs": [],
   "source": [
    "graph_connectivities = scipy.sparse.load_npz('./sparse/graph_connectivities.npz')"
   ]
  },
  {
   "cell_type": "code",
   "execution_count": 32,
   "id": "1333662e-027e-4e60-9a75-74b75d499cc9",
   "metadata": {
    "execution": {
     "iopub.execute_input": "2022-10-27T17:14:12.365302Z",
     "iopub.status.busy": "2022-10-27T17:14:12.364930Z",
     "iopub.status.idle": "2022-10-27T17:15:02.463350Z",
     "shell.execute_reply": "2022-10-27T17:15:02.462762Z",
     "shell.execute_reply.started": "2022-10-27T17:14:12.365280Z"
    }
   },
   "outputs": [
    {
     "data": {
      "text/plain": [
       "0.8691629618823015"
      ]
     },
     "execution_count": 32,
     "metadata": {},
     "output_type": "execute_result"
    }
   ],
   "source": [
    "#100 neighbors is 0.2 better than 30 neighbors\n",
    "Y_pred = np.zeros(Y.shape)\n",
    "for row,col in zip(rows,cols):\n",
    "    if row != col:\n",
    "        Y_pred[row] += Y[col]\n",
    "correlation_score(Y,Y_pred)"
   ]
  },
  {
   "cell_type": "code",
   "execution_count": 33,
   "id": "fb55074b-d2c7-4019-9a87-f3be75aeb91d",
   "metadata": {
    "execution": {
     "iopub.execute_input": "2022-10-27T17:15:33.487922Z",
     "iopub.status.busy": "2022-10-27T17:15:33.487542Z",
     "iopub.status.idle": "2022-10-27T17:22:01.160294Z",
     "shell.execute_reply": "2022-10-27T17:22:01.159702Z",
     "shell.execute_reply.started": "2022-10-27T17:15:33.487899Z"
    }
   },
   "outputs": [
    {
     "data": {
      "text/plain": [
       "0.8678298829991689"
      ]
     },
     "execution_count": 33,
     "metadata": {},
     "output_type": "execute_result"
    }
   ],
   "source": [
    "Y_pred = np.zeros(Y.shape)\n",
    "for row,col in zip(rows,cols):\n",
    "    if row != col:\n",
    "        Y_pred[row] += graph.connectivities[row,col]*Y[col]\n",
    "correlation_score(Y,Y_pred)"
   ]
  },
  {
   "cell_type": "code",
   "execution_count": 19,
   "id": "55b88316-32ec-4185-8e19-ec790c03b5d2",
   "metadata": {
    "execution": {
     "iopub.execute_input": "2022-10-27T05:09:19.437240Z",
     "iopub.status.busy": "2022-10-27T05:09:19.436855Z",
     "iopub.status.idle": "2022-10-27T05:09:39.671291Z",
     "shell.execute_reply": "2022-10-27T05:09:39.670720Z",
     "shell.execute_reply.started": "2022-10-27T05:09:19.437218Z"
    },
    "tags": []
   },
   "outputs": [
    {
     "data": {
      "text/plain": [
       "0.8676931387548524"
      ]
     },
     "execution_count": 19,
     "metadata": {},
     "output_type": "execute_result"
    }
   ],
   "source": [
    "Y_pred = np.zeros(Y.shape)\n",
    "for row,col in zip(rows,cols):\n",
    "    if row != col:\n",
    "        Y_pred[row] += Y[col]\n",
    "correlation_score(Y,Y_pred)"
   ]
  },
  {
   "cell_type": "code",
   "execution_count": 20,
   "id": "788eb6a4-7af5-4733-97d2-10a330979fe5",
   "metadata": {
    "execution": {
     "iopub.execute_input": "2022-10-27T05:10:29.124771Z",
     "iopub.status.busy": "2022-10-27T05:10:29.124378Z",
     "iopub.status.idle": "2022-10-27T05:12:23.987325Z",
     "shell.execute_reply": "2022-10-27T05:12:23.986758Z",
     "shell.execute_reply.started": "2022-10-27T05:10:29.124747Z"
    }
   },
   "outputs": [
    {
     "data": {
      "text/plain": [
       "0.8642668058855867"
      ]
     },
     "execution_count": 20,
     "metadata": {},
     "output_type": "execute_result"
    }
   ],
   "source": [
    "Y_pred = np.zeros(Y.shape)\n",
    "for row,col in zip(rows,cols):\n",
    "    if row != col:\n",
    "        Y_pred[row] += graph.connectivities[row,col]*Y[col]\n",
    "correlation_score(Y,Y_pred)"
   ]
  },
  {
   "cell_type": "code",
   "execution_count": 15,
   "id": "ff8c1538-78e0-420a-b3ed-5c650bf67aff",
   "metadata": {
    "execution": {
     "iopub.execute_input": "2022-10-30T15:59:01.854459Z",
     "iopub.status.busy": "2022-10-30T15:59:01.854088Z",
     "iopub.status.idle": "2022-10-30T15:59:01.972333Z",
     "shell.execute_reply": "2022-10-30T15:59:01.971787Z",
     "shell.execute_reply.started": "2022-10-30T15:59:01.854437Z"
    },
    "tags": []
   },
   "outputs": [
    {
     "data": {
      "text/plain": [
       "(70988, 159)"
      ]
     },
     "execution_count": 15,
     "metadata": {},
     "output_type": "execute_result"
    }
   ],
   "source": [
    "with open('../input/targets-multiome-sparse-scaled/train_Citeseq_truncated_512.pkl','rb') as f: X = pickle.load(f)\n",
    "X = np.hstack((X[:,:75],X0))\n",
    "\n",
    "X.shape"
   ]
  },
  {
   "cell_type": "code",
   "execution_count": null,
   "id": "7ccf6422-52d3-4447-8e4f-25b81d1592a4",
   "metadata": {},
   "outputs": [],
   "source": [
    "import torch.nn.functional as F\n",
    "from torch_geometric.nn import GCNConv,GATConv\n",
    "from torch.nn import Linear\n",
    "\n",
    "class GCN(torch.nn.Module):\n",
    "    def __init__(self):\n",
    "        super().__init__()\n",
    "        self.conv1 = GATConv(data.num_node_features, data.num_node_features)\n",
    "        self.dense1 = Linear(data.num_node_features, 256)\n",
    "        self.dense2 = Linear(data.num_node_features, 512)\n",
    "        self.dense3 = Linear(data.num_node_features, 140)\n",
    "        self.reg1 = 9.613e-06\n",
    "        self.reg2 = 1e-07\n",
    "        self.drop = 0.1\n",
    "\n",
    "    def forward(self, data):\n",
    "        x, edge_index = data.x, data.edge_index\n",
    "\n",
    "        x = self.conv1(x, edge_index)\n",
    "        x = F.selu(x)\n",
    "        x = F.dropout(x, training=self.training, p=self.drop)\n",
    "        x = self.dense1(x).selu(x)\n",
    "        x = F.dropout(x, training=self.training, p=self.drop)\n",
    "        x = self.dense2(x).selu(x)\n",
    "        x = F.dropout(x, training=self.training, p=self.drop)\n",
    "        x = self.dense2(x).selu(x)\n",
    "        x = F.dropout(x, training=self.training, p=self.drop)\n",
    "        x = self.dense3(x)\n",
    "        return x"
   ]
  },
  {
   "cell_type": "code",
   "execution_count": 10,
   "id": "c3819c3b-75ba-4614-b352-d219ed9b2969",
   "metadata": {
    "execution": {
     "iopub.execute_input": "2022-10-30T15:57:09.749329Z",
     "iopub.status.busy": "2022-10-30T15:57:09.748465Z",
     "iopub.status.idle": "2022-10-30T15:57:09.848719Z",
     "shell.execute_reply": "2022-10-30T15:57:09.847921Z",
     "shell.execute_reply.started": "2022-10-30T15:57:09.749263Z"
    },
    "tags": []
   },
   "outputs": [],
   "source": [
    "import torch.nn.functional as F\n",
    "from torch_geometric.nn import GCNConv,GATConv\n",
    "\n",
    "class GCN(torch.nn.Module):\n",
    "    def __init__(self):\n",
    "        super().__init__()\n",
    "        self.conv1 = GATConv(159, 256)\n",
    "        self.conv2 = GATConv(256, 140)\n",
    "\n",
    "    def forward(self, data):\n",
    "        x, edge_index = data.x, data.edge_index\n",
    "\n",
    "        x = self.conv1(x, edge_index)\n",
    "        x = F.selu(x)\n",
    "        x = F.dropout(x, training=self.training)\n",
    "        x = self.conv2(x, edge_index)\n",
    "\n",
    "        return x"
   ]
  },
  {
   "cell_type": "code",
   "execution_count": 12,
   "id": "ac6fb0dc-0f69-48ca-b440-c895130dbda8",
   "metadata": {
    "execution": {
     "iopub.execute_input": "2022-10-26T23:32:05.955467Z",
     "iopub.status.busy": "2022-10-26T23:32:05.955063Z",
     "iopub.status.idle": "2022-10-26T23:32:05.960128Z",
     "shell.execute_reply": "2022-10-26T23:32:05.959634Z",
     "shell.execute_reply.started": "2022-10-26T23:32:05.955443Z"
    },
    "tags": []
   },
   "outputs": [
    {
     "data": {
      "text/plain": [
       "4.906897"
      ]
     },
     "execution_count": 12,
     "metadata": {},
     "output_type": "execute_result"
    }
   ],
   "source": [
    "graph.connectivities[0].toarray().sum()"
   ]
  },
  {
   "cell_type": "code",
   "execution_count": 15,
   "id": "cbff0342-fc68-497a-bfa3-a4178e04c8ee",
   "metadata": {
    "execution": {
     "iopub.execute_input": "2022-10-26T23:32:25.528831Z",
     "iopub.status.busy": "2022-10-26T23:32:25.528456Z",
     "iopub.status.idle": "2022-10-26T23:32:25.533469Z",
     "shell.execute_reply": "2022-10-26T23:32:25.532965Z",
     "shell.execute_reply.started": "2022-10-26T23:32:25.528809Z"
    },
    "tags": []
   },
   "outputs": [
    {
     "data": {
      "text/plain": [
       "6823.961135864258"
      ]
     },
     "execution_count": 15,
     "metadata": {},
     "output_type": "execute_result"
    }
   ],
   "source": [
    "graph.distances[0].toarray().sum()"
   ]
  },
  {
   "cell_type": "code",
   "execution_count": 21,
   "id": "f005b9a4-eb1c-469b-9c75-4406bda728bc",
   "metadata": {
    "execution": {
     "iopub.execute_input": "2022-10-26T23:34:44.085779Z",
     "iopub.status.busy": "2022-10-26T23:34:44.085364Z",
     "iopub.status.idle": "2022-10-26T23:34:44.089767Z",
     "shell.execute_reply": "2022-10-26T23:34:44.089253Z",
     "shell.execute_reply.started": "2022-10-26T23:34:44.085753Z"
    }
   },
   "outputs": [
    {
     "data": {
      "text/plain": [
       "70988"
      ]
     },
     "execution_count": 21,
     "metadata": {},
     "output_type": "execute_result"
    }
   ],
   "source": [
    "len(abc)"
   ]
  },
  {
   "cell_type": "code",
   "execution_count": 24,
   "id": "780ae369-d775-461c-ad9c-6fd62f07c01f",
   "metadata": {
    "execution": {
     "iopub.execute_input": "2022-10-26T23:35:18.184475Z",
     "iopub.status.busy": "2022-10-26T23:35:18.184102Z",
     "iopub.status.idle": "2022-10-26T23:35:18.294917Z",
     "shell.execute_reply": "2022-10-26T23:35:18.294373Z",
     "shell.execute_reply.started": "2022-10-26T23:35:18.184452Z"
    },
    "tags": []
   },
   "outputs": [
    {
     "name": "stdout",
     "output_type": "stream",
     "text": [
      "(0.38187093, 230.93710327148438)\n",
      "(0.01096348, 233.4044647216797)\n",
      "(0.07149382, 232.1014404296875)\n",
      "(0.03344384, 232.62940979003906)\n",
      "(0.010906099, 233.40811157226562)\n",
      "(0.48490638, 230.77110290527344)\n",
      "(0.16703339, 231.51173400878906)\n",
      "(0.13796003, 0.0)\n",
      "(0.073860966, 0.0)\n",
      "(0.1080607, 231.8143768310547)\n",
      "(0.011431042, 233.3754425048828)\n",
      "(0.017421283, 233.08262634277344)\n",
      "(0.014251636, 233.22218322753906)\n",
      "(0.011722076, 233.35797119140625)\n",
      "(0.3016416, 231.1009979248047)\n",
      "(0.11756967, 231.75576782226562)\n",
      "(0.02364681, 232.87030029296875)\n",
      "(0.99071157, 230.27459716796875)\n",
      "(0.036291823, 232.57261657714844)\n",
      "(0.047753792, 232.3818817138672)\n",
      "(0.3253366, 231.04844665527344)\n",
      "(0.072505586, 232.0916748046875)\n",
      "(0.14781767, 231.59666442871094)\n",
      "(0.18842824, 231.427978515625)\n",
      "(0.18590087, 231.43736267089844)\n",
      "(0.07577224, 232.06105041503906)\n",
      "(0.020130528, 232.982177734375)\n",
      "(1.0, 230.2681121826172)\n",
      "(0.010859743, 233.41107177734375)\n",
      "(0.02609804, 232.8017578125)\n",
      "(0.012919584, 233.29037475585938)\n",
      "31\n"
     ]
    }
   ],
   "source": [
    "abc = graph.connectivities[1].toarray()[0]\n",
    "abcc = graph.distances[1].toarray()[0]\n",
    "j = 0\n",
    "for i in range(len(abc)):\n",
    "    if (abc[i] != 0.) or (abcc[i] != 0.):\n",
    "        print((abc[i],abcc[i]))\n",
    "        j += 1\n",
    "print(j)"
   ]
  },
  {
   "cell_type": "code",
   "execution_count": 46,
   "id": "69fc7cb2-efd5-49e3-9295-d73d61d6f9ea",
   "metadata": {
    "execution": {
     "iopub.execute_input": "2022-10-26T23:41:15.630401Z",
     "iopub.status.busy": "2022-10-26T23:41:15.629982Z",
     "iopub.status.idle": "2022-10-26T23:41:15.634465Z",
     "shell.execute_reply": "2022-10-26T23:41:15.633965Z",
     "shell.execute_reply.started": "2022-10-26T23:41:15.630376Z"
    }
   },
   "outputs": [
    {
     "data": {
      "text/plain": [
       "(70988, 20856)"
      ]
     },
     "execution_count": 46,
     "metadata": {},
     "output_type": "execute_result"
    }
   ],
   "source": [
    "X.shape"
   ]
  },
  {
   "cell_type": "code",
   "execution_count": 30,
   "id": "bf38a68b-f6ed-43a6-8da5-5b715cdbb8d2",
   "metadata": {
    "execution": {
     "iopub.execute_input": "2022-10-30T16:11:46.642738Z",
     "iopub.status.busy": "2022-10-30T16:11:46.642365Z",
     "iopub.status.idle": "2022-10-30T16:11:46.646067Z",
     "shell.execute_reply": "2022-10-30T16:11:46.645537Z",
     "shell.execute_reply.started": "2022-10-30T16:11:46.642717Z"
    },
    "tags": []
   },
   "outputs": [],
   "source": [
    "from torch_geometric.data import Data\n",
    "data = Data(edge_index=conns[0], x=X, y=Y,num_classes=140,num_node_features=159)"
   ]
  },
  {
   "cell_type": "code",
   "execution_count": 12,
   "id": "240bf364-7b4a-44d8-ac76-cbe320afaf34",
   "metadata": {
    "execution": {
     "iopub.execute_input": "2022-10-30T15:57:35.472193Z",
     "iopub.status.busy": "2022-10-30T15:57:35.471819Z",
     "iopub.status.idle": "2022-10-30T15:57:35.539091Z",
     "shell.execute_reply": "2022-10-30T15:57:35.537862Z",
     "shell.execute_reply.started": "2022-10-30T15:57:35.472171Z"
    },
    "tags": []
   },
   "outputs": [],
   "source": [
    "from torch_geometric.utils import from_scipy_sparse_matrix\n",
    "conns = from_scipy_sparse_matrix(graph_connectivities)"
   ]
  },
  {
   "cell_type": "code",
   "execution_count": 35,
   "id": "0ba600d5-a627-40fb-8d27-87a8bf677f49",
   "metadata": {
    "execution": {
     "iopub.execute_input": "2022-10-27T20:41:02.780050Z",
     "iopub.status.busy": "2022-10-27T20:41:02.779679Z",
     "iopub.status.idle": "2022-10-27T20:41:02.783997Z",
     "shell.execute_reply": "2022-10-27T20:41:02.783497Z",
     "shell.execute_reply.started": "2022-10-27T20:41:02.780027Z"
    },
    "tags": []
   },
   "outputs": [
    {
     "data": {
      "text/plain": [
       "<70988x70988 sparse matrix of type '<class 'numpy.float32'>'\n",
       "\twith 4098458 stored elements in Compressed Sparse Row format>"
      ]
     },
     "execution_count": 35,
     "metadata": {},
     "output_type": "execute_result"
    }
   ],
   "source": [
    "graph_connectivities"
   ]
  },
  {
   "cell_type": "code",
   "execution_count": 22,
   "id": "1836eb37-0a7c-431a-87ec-93c4940ec8f8",
   "metadata": {
    "execution": {
     "iopub.execute_input": "2022-10-27T20:04:32.820822Z",
     "iopub.status.busy": "2022-10-27T20:04:32.820433Z",
     "iopub.status.idle": "2022-10-27T20:04:32.825509Z",
     "shell.execute_reply": "2022-10-27T20:04:32.825009Z",
     "shell.execute_reply.started": "2022-10-27T20:04:32.820797Z"
    },
    "tags": []
   },
   "outputs": [
    {
     "data": {
      "text/plain": [
       "tensor([0, 0, 0, 0, 0, 0, 0, 0, 0, 0, 0, 0, 0, 0, 0, 0, 0, 0, 0, 0, 0, 0, 0, 0,\n",
       "        0, 0, 0, 0, 0, 1, 1, 1, 1, 1, 1, 1, 1, 1, 1, 1, 1, 1, 1, 1, 1, 1, 1, 1,\n",
       "        1, 1, 1, 1, 1, 1, 1, 1, 1, 1, 1, 1, 2, 2, 2, 2, 2, 2, 2, 2, 2, 2, 2, 2,\n",
       "        2, 2, 2, 2, 2, 2, 2, 2, 2, 2, 2, 2, 2, 2, 2, 2, 2, 3, 3, 3, 3, 3, 3, 3,\n",
       "        3, 3, 3, 3])"
      ]
     },
     "execution_count": 22,
     "metadata": {},
     "output_type": "execute_result"
    }
   ],
   "source": [
    "conns[0][0][:100]"
   ]
  },
  {
   "cell_type": "code",
   "execution_count": 18,
   "id": "a03024d7-c838-45fb-a650-fbc72345011a",
   "metadata": {
    "execution": {
     "iopub.execute_input": "2022-10-27T19:43:34.077946Z",
     "iopub.status.busy": "2022-10-27T19:43:34.077560Z",
     "iopub.status.idle": "2022-10-27T19:43:34.082646Z",
     "shell.execute_reply": "2022-10-27T19:43:34.082073Z",
     "shell.execute_reply.started": "2022-10-27T19:43:34.077921Z"
    },
    "tags": []
   },
   "outputs": [],
   "source": [
    "from torch_geometric.data import InMemoryDataset\n",
    "class CustomDataset(InMemoryDataset):\n",
    "    def __init__(self, root, transform=None, pre_transform=None):\n",
    "        super(CustomDataset, self).__init__(root, transform, pre_transform)\n",
    "        self.data, self.slices = torch.load(self.processed_paths[0])\n",
    "        \n",
    "    @property\n",
    "    def raw_file_names(self):\n",
    "        return ['edge_list.csv', 'x.pt', 'y.pt']\n",
    "\n",
    "    @property\n",
    "    def processed_file_names(self):\n",
    "        return ['graph.pt']"
   ]
  },
  {
   "cell_type": "code",
   "execution_count": 14,
   "id": "57cc02ba-87ec-4a8c-a074-ae5abd9169ec",
   "metadata": {
    "execution": {
     "iopub.execute_input": "2022-10-27T17:38:43.840753Z",
     "iopub.status.busy": "2022-10-27T17:38:43.840378Z",
     "iopub.status.idle": "2022-10-27T17:38:43.844768Z",
     "shell.execute_reply": "2022-10-27T17:38:43.844258Z",
     "shell.execute_reply.started": "2022-10-27T17:38:43.840729Z"
    },
    "tags": []
   },
   "outputs": [
    {
     "data": {
      "text/plain": [
       "(70988, 70988)"
      ]
     },
     "execution_count": 14,
     "metadata": {},
     "output_type": "execute_result"
    }
   ],
   "source": [
    "data.size()"
   ]
  },
  {
   "cell_type": "code",
   "execution_count": 33,
   "id": "8623e544-ab11-4372-abf9-f82e7b9bf943",
   "metadata": {
    "execution": {
     "iopub.execute_input": "2022-10-27T17:59:08.133256Z",
     "iopub.status.busy": "2022-10-27T17:59:08.132880Z",
     "iopub.status.idle": "2022-10-27T17:59:08.137405Z",
     "shell.execute_reply": "2022-10-27T17:59:08.136867Z",
     "shell.execute_reply.started": "2022-10-27T17:59:08.133233Z"
    }
   },
   "outputs": [
    {
     "data": {
      "text/plain": [
       "Data(x=[70988, 159], edge_index=[2, 4098458], y=[70988, 140], train_mask=[46185], val_mask=[24803], num_classes=140, num_node_features=159)"
      ]
     },
     "execution_count": 33,
     "metadata": {},
     "output_type": "execute_result"
    }
   ],
   "source": [
    "data"
   ]
  },
  {
   "cell_type": "code",
   "execution_count": 38,
   "id": "40e206d1-0a00-4f12-8648-de7b2ea3f8a3",
   "metadata": {
    "execution": {
     "iopub.execute_input": "2022-10-27T17:59:40.421359Z",
     "iopub.status.busy": "2022-10-27T17:59:40.420973Z",
     "iopub.status.idle": "2022-10-27T17:59:40.424722Z",
     "shell.execute_reply": "2022-10-27T17:59:40.424182Z",
     "shell.execute_reply.started": "2022-10-27T17:59:40.421335Z"
    },
    "tags": []
   },
   "outputs": [],
   "source": [
    "from torch_geometric.loader import DataLoader\n",
    "loader = DataLoader([data,data], batch_size=2, shuffle=True)"
   ]
  },
  {
   "cell_type": "code",
   "execution_count": 24,
   "id": "462f099f-664d-4d5a-b216-1019e8b0bb18",
   "metadata": {
    "execution": {
     "iopub.execute_input": "2022-10-27T17:46:52.513968Z",
     "iopub.status.busy": "2022-10-27T17:46:52.513601Z",
     "iopub.status.idle": "2022-10-27T17:46:52.517930Z",
     "shell.execute_reply": "2022-10-27T17:46:52.517389Z",
     "shell.execute_reply.started": "2022-10-27T17:46:52.513946Z"
    }
   },
   "outputs": [
    {
     "data": {
      "text/plain": [
       "torch_geometric.datasets.tu_dataset.TUDataset"
      ]
     },
     "execution_count": 24,
     "metadata": {},
     "output_type": "execute_result"
    }
   ],
   "source": [
    "type(dataset)"
   ]
  },
  {
   "cell_type": "code",
   "execution_count": 39,
   "id": "43cc0cea-a313-4d3d-bb86-061dd075c2e4",
   "metadata": {
    "execution": {
     "iopub.execute_input": "2022-10-27T17:59:42.021230Z",
     "iopub.status.busy": "2022-10-27T17:59:42.020851Z",
     "iopub.status.idle": "2022-10-27T17:59:42.031629Z",
     "shell.execute_reply": "2022-10-27T17:59:42.031052Z",
     "shell.execute_reply.started": "2022-10-27T17:59:42.021206Z"
    },
    "tags": []
   },
   "outputs": [
    {
     "name": "stdout",
     "output_type": "stream",
     "text": [
      "<class 'torch_geometric.data.batch.DataBatch'>\n"
     ]
    }
   ],
   "source": [
    "for batch in loader:\n",
    "    print(type(batch))"
   ]
  },
  {
   "cell_type": "code",
   "execution_count": 13,
   "id": "7c1499bf-c21a-4f93-b56a-317da132e6c5",
   "metadata": {
    "execution": {
     "iopub.execute_input": "2022-10-27T20:01:44.584985Z",
     "iopub.status.busy": "2022-10-27T20:01:44.584611Z",
     "iopub.status.idle": "2022-10-27T20:01:44.589385Z",
     "shell.execute_reply": "2022-10-27T20:01:44.588890Z",
     "shell.execute_reply.started": "2022-10-27T20:01:44.584962Z"
    }
   },
   "outputs": [
    {
     "data": {
      "text/plain": [
       "Data(x=[0, 159], edge_index=[0, 0], y=[0, 140], train_mask=[0], val_mask=[0], num_classes=140, num_node_features=159)"
      ]
     },
     "execution_count": 13,
     "metadata": {},
     "output_type": "execute_result"
    }
   ],
   "source": [
    "data"
   ]
  },
  {
   "cell_type": "code",
   "execution_count": 16,
   "id": "8928ffbf-ea6a-4d6d-8d52-9f3dbe6a3531",
   "metadata": {
    "execution": {
     "iopub.execute_input": "2022-10-27T20:02:23.754562Z",
     "iopub.status.busy": "2022-10-27T20:02:23.754171Z",
     "iopub.status.idle": "2022-10-27T20:02:23.758477Z",
     "shell.execute_reply": "2022-10-27T20:02:23.757960Z",
     "shell.execute_reply.started": "2022-10-27T20:02:23.754538Z"
    }
   },
   "outputs": [
    {
     "data": {
      "text/plain": [
       "7098"
      ]
     },
     "execution_count": 16,
     "metadata": {},
     "output_type": "execute_result"
    }
   ],
   "source": [
    "number"
   ]
  },
  {
   "cell_type": "code",
   "execution_count": 15,
   "id": "80f5d015-e3e6-48ab-9b5a-0fd21c5f202a",
   "metadata": {
    "execution": {
     "iopub.execute_input": "2022-10-27T20:02:20.082793Z",
     "iopub.status.busy": "2022-10-27T20:02:20.082389Z",
     "iopub.status.idle": "2022-10-27T20:02:20.086685Z",
     "shell.execute_reply": "2022-10-27T20:02:20.086176Z",
     "shell.execute_reply.started": "2022-10-27T20:02:20.082767Z"
    }
   },
   "outputs": [
    {
     "data": {
      "text/plain": [
       "7098"
      ]
     },
     "execution_count": 15,
     "metadata": {},
     "output_type": "execute_result"
    }
   ],
   "source": [
    "prev_number"
   ]
  },
  {
   "cell_type": "code",
   "execution_count": 14,
   "id": "b84cce77-43f3-4539-a7e4-e2d6e15e3c4b",
   "metadata": {
    "execution": {
     "iopub.execute_input": "2022-10-27T20:02:10.673561Z",
     "iopub.status.busy": "2022-10-27T20:02:10.673182Z",
     "iopub.status.idle": "2022-10-27T20:02:10.677638Z",
     "shell.execute_reply": "2022-10-27T20:02:10.677142Z",
     "shell.execute_reply.started": "2022-10-27T20:02:10.673539Z"
    }
   },
   "outputs": [
    {
     "data": {
      "text/plain": [
       "(0, 159)"
      ]
     },
     "execution_count": 14,
     "metadata": {},
     "output_type": "execute_result"
    }
   ],
   "source": [
    "X[prev_number:number].shape"
   ]
  },
  {
   "cell_type": "code",
   "execution_count": 25,
   "id": "5f4d912c-72d5-4402-858f-a21a0dd55992",
   "metadata": {
    "execution": {
     "iopub.execute_input": "2022-10-27T20:05:46.858372Z",
     "iopub.status.busy": "2022-10-27T20:05:46.857981Z",
     "iopub.status.idle": "2022-10-27T20:05:46.862508Z",
     "shell.execute_reply": "2022-10-27T20:05:46.862011Z",
     "shell.execute_reply.started": "2022-10-27T20:05:46.858347Z"
    }
   },
   "outputs": [
    {
     "data": {
      "text/plain": [
       "(70988, 159)"
      ]
     },
     "execution_count": 25,
     "metadata": {},
     "output_type": "execute_result"
    }
   ],
   "source": [
    "X.shape"
   ]
  },
  {
   "cell_type": "code",
   "execution_count": 26,
   "id": "5b202657-21b3-4d0f-8cc6-532faf5e4b94",
   "metadata": {
    "execution": {
     "iopub.execute_input": "2022-10-27T20:05:57.974999Z",
     "iopub.status.busy": "2022-10-27T20:05:57.974604Z",
     "iopub.status.idle": "2022-10-27T20:05:57.979147Z",
     "shell.execute_reply": "2022-10-27T20:05:57.978649Z",
     "shell.execute_reply.started": "2022-10-27T20:05:57.974975Z"
    },
    "tags": []
   },
   "outputs": [
    {
     "data": {
      "text/plain": [
       "array([46185, 46186, 46187, ..., 70985, 70986, 70987])"
      ]
     },
     "execution_count": 26,
     "metadata": {},
     "output_type": "execute_result"
    }
   ],
   "source": [
    "idx_va"
   ]
  },
  {
   "cell_type": "code",
   "execution_count": 14,
   "id": "9eb670a8-71c5-4d4c-b7a3-8f9375eedeaf",
   "metadata": {
    "execution": {
     "iopub.execute_input": "2022-10-27T20:30:14.514823Z",
     "iopub.status.busy": "2022-10-27T20:30:14.514436Z",
     "iopub.status.idle": "2022-10-27T20:30:14.519160Z",
     "shell.execute_reply": "2022-10-27T20:30:14.518664Z",
     "shell.execute_reply.started": "2022-10-27T20:30:14.514799Z"
    }
   },
   "outputs": [
    {
     "data": {
      "text/plain": [
       "Data(x=[7098, 159], edge_index=[2, 7098], y=[7098, 140], train_mask=[46185], val_mask=[24803], num_classes=140, num_node_features=159)"
      ]
     },
     "execution_count": 14,
     "metadata": {},
     "output_type": "execute_result"
    }
   ],
   "source": [
    "data"
   ]
  },
  {
   "cell_type": "code",
   "execution_count": 22,
   "id": "024ec700-a9ee-4f61-a22c-9ee2ee1346b1",
   "metadata": {
    "execution": {
     "iopub.execute_input": "2022-10-27T20:35:13.040639Z",
     "iopub.status.busy": "2022-10-27T20:35:13.040251Z",
     "iopub.status.idle": "2022-10-27T20:35:13.045710Z",
     "shell.execute_reply": "2022-10-27T20:35:13.045023Z",
     "shell.execute_reply.started": "2022-10-27T20:35:13.040615Z"
    }
   },
   "outputs": [
    {
     "data": {
      "text/plain": [
       "tensor([[    0,     0,     0,  ..., 70987, 70987, 70987],\n",
       "        [  256,  5041,  5707,  ..., 65339, 67645, 69446]])"
      ]
     },
     "execution_count": 22,
     "metadata": {},
     "output_type": "execute_result"
    }
   ],
   "source": [
    "conns[0]"
   ]
  },
  {
   "cell_type": "code",
   "execution_count": 36,
   "id": "1d9f1777-c857-45c0-b6b9-acd58519211c",
   "metadata": {
    "execution": {
     "iopub.execute_input": "2022-10-27T20:41:45.696872Z",
     "iopub.status.busy": "2022-10-27T20:41:45.696496Z",
     "iopub.status.idle": "2022-10-27T20:41:45.827183Z",
     "shell.execute_reply": "2022-10-27T20:41:45.826495Z",
     "shell.execute_reply.started": "2022-10-27T20:41:45.696848Z"
    },
    "tags": []
   },
   "outputs": [
    {
     "ename": "TypeError",
     "evalue": "sparse matrix length is ambiguous; use getnnz() or shape[0]",
     "output_type": "error",
     "traceback": [
      "\u001b[0;31m---------------------------------------------------------------------------\u001b[0m",
      "\u001b[0;31mTypeError\u001b[0m                                 Traceback (most recent call last)",
      "Input \u001b[0;32mIn [36]\u001b[0m, in \u001b[0;36m<cell line: 2>\u001b[0;34m()\u001b[0m\n\u001b[1;32m      1\u001b[0m \u001b[38;5;28;01mimport\u001b[39;00m \u001b[38;5;21;01mbisect\u001b[39;00m\n\u001b[0;32m----> 2\u001b[0m graph_connectivities[\u001b[43mbisect\u001b[49m\u001b[38;5;241;43m.\u001b[39;49m\u001b[43mbisect_left\u001b[49m\u001b[43m(\u001b[49m\u001b[43mgraph_connectivities\u001b[49m\u001b[43m,\u001b[49m\u001b[43m \u001b[49m\u001b[38;5;241;43m1\u001b[39;49m\u001b[43m)\u001b[49m:]\n",
      "File \u001b[0;32m/srv/conda/envs/saturn/lib/python3.9/site-packages/scipy/sparse/_base.py:345\u001b[0m, in \u001b[0;36mspmatrix.__len__\u001b[0;34m(self)\u001b[0m\n\u001b[1;32m    344\u001b[0m \u001b[38;5;28;01mdef\u001b[39;00m \u001b[38;5;21m__len__\u001b[39m(\u001b[38;5;28mself\u001b[39m):\n\u001b[0;32m--> 345\u001b[0m     \u001b[38;5;28;01mraise\u001b[39;00m \u001b[38;5;167;01mTypeError\u001b[39;00m(\u001b[38;5;124m\"\u001b[39m\u001b[38;5;124msparse matrix length is ambiguous; use getnnz()\u001b[39m\u001b[38;5;124m\"\u001b[39m\n\u001b[1;32m    346\u001b[0m                     \u001b[38;5;124m\"\u001b[39m\u001b[38;5;124m or shape[0]\u001b[39m\u001b[38;5;124m\"\u001b[39m)\n",
      "\u001b[0;31mTypeError\u001b[0m: sparse matrix length is ambiguous; use getnnz() or shape[0]"
     ]
    }
   ],
   "source": [
    "import bisect\n",
    "graph_connectivities[bisect.bisect_left(graph_connectivities, 1):]"
   ]
  },
  {
   "cell_type": "code",
   "execution_count": 39,
   "id": "2db4219f-1e3e-41b1-a424-ba2623e3435e",
   "metadata": {
    "execution": {
     "iopub.execute_input": "2022-10-27T20:42:41.897958Z",
     "iopub.status.busy": "2022-10-27T20:42:41.897570Z",
     "iopub.status.idle": "2022-10-27T20:42:41.901812Z",
     "shell.execute_reply": "2022-10-27T20:42:41.901315Z",
     "shell.execute_reply.started": "2022-10-27T20:42:41.897934Z"
    }
   },
   "outputs": [
    {
     "data": {
      "text/plain": [
       "7098"
      ]
     },
     "execution_count": 39,
     "metadata": {},
     "output_type": "execute_result"
    }
   ],
   "source": [
    "number"
   ]
  },
  {
   "cell_type": "code",
   "execution_count": 41,
   "id": "cefc351a-538d-4292-9bd8-90834d471373",
   "metadata": {
    "execution": {
     "iopub.execute_input": "2022-10-27T20:43:12.462719Z",
     "iopub.status.busy": "2022-10-27T20:43:12.462326Z",
     "iopub.status.idle": "2022-10-27T20:43:12.467232Z",
     "shell.execute_reply": "2022-10-27T20:43:12.466721Z",
     "shell.execute_reply.started": "2022-10-27T20:43:12.462696Z"
    }
   },
   "outputs": [
    {
     "data": {
      "text/plain": [
       "tensor([    0,     0,     0,  ..., 70987, 70987, 70987])"
      ]
     },
     "execution_count": 41,
     "metadata": {},
     "output_type": "execute_result"
    }
   ],
   "source": [
    "data.edge_index[0]"
   ]
  },
  {
   "cell_type": "code",
   "execution_count": 42,
   "id": "f7c9602b-a990-4507-9a0b-01c0fa53bb75",
   "metadata": {
    "execution": {
     "iopub.execute_input": "2022-10-27T20:43:24.397021Z",
     "iopub.status.busy": "2022-10-27T20:43:24.396632Z",
     "iopub.status.idle": "2022-10-27T20:43:27.738557Z",
     "shell.execute_reply": "2022-10-27T20:43:27.737966Z",
     "shell.execute_reply.started": "2022-10-27T20:43:24.396997Z"
    },
    "tags": []
   },
   "outputs": [
    {
     "name": "stdout",
     "output_type": "stream",
     "text": [
      "496875\n"
     ]
    }
   ],
   "source": [
    "for i in range(len(data.edge_index[0])):\n",
    "    bool = True\n",
    "    if (data.edge_index[0][i] > prev_number) and bool:\n",
    "        bool = True\n",
    "        prev_number_idx = data.edge_index[0][i]\n",
    "    if data.edge_index[0][i] > number:\n",
    "        number_idx = data.edge_index[0][i]\n",
    "        break"
   ]
  },
  {
   "cell_type": "code",
   "execution_count": 49,
   "id": "70acc8ea-e1a0-434d-b457-1382e9c6e726",
   "metadata": {
    "execution": {
     "iopub.execute_input": "2022-10-27T20:48:31.714614Z",
     "iopub.status.busy": "2022-10-27T20:48:31.714236Z",
     "iopub.status.idle": "2022-10-27T20:48:31.719421Z",
     "shell.execute_reply": "2022-10-27T20:48:31.718917Z",
     "shell.execute_reply.started": "2022-10-27T20:48:31.714590Z"
    },
    "tags": []
   },
   "outputs": [
    {
     "data": {
      "text/plain": [
       "tensor([[   0,    0],\n",
       "        [5041, 5707]])"
      ]
     },
     "execution_count": 49,
     "metadata": {},
     "output_type": "execute_result"
    }
   ],
   "source": [
    "torch.stack((conns[0][0][1:3],conns[0][1][1:3]))"
   ]
  },
  {
   "cell_type": "code",
   "execution_count": 52,
   "id": "34993338-397f-4a05-a06c-db35e203639a",
   "metadata": {
    "execution": {
     "iopub.execute_input": "2022-10-27T20:59:02.732178Z",
     "iopub.status.busy": "2022-10-27T20:59:02.731777Z",
     "iopub.status.idle": "2022-10-27T20:59:02.736234Z",
     "shell.execute_reply": "2022-10-27T20:59:02.735726Z",
     "shell.execute_reply.started": "2022-10-27T20:59:02.732152Z"
    }
   },
   "outputs": [
    {
     "data": {
      "text/plain": [
       "Data(x=[70988, 159], edge_index=[2, 4098458], y=[70988, 140], num_classes=140, num_node_features=159)"
      ]
     },
     "execution_count": 52,
     "metadata": {},
     "output_type": "execute_result"
    }
   ],
   "source": [
    "data"
   ]
  },
  {
   "cell_type": "code",
   "execution_count": 7,
   "id": "404a20aa-5369-4b84-a10e-fa3aa046a256",
   "metadata": {
    "execution": {
     "iopub.execute_input": "2022-10-30T15:56:21.911862Z",
     "iopub.status.busy": "2022-10-30T15:56:21.911331Z",
     "iopub.status.idle": "2022-10-30T15:56:21.915528Z",
     "shell.execute_reply": "2022-10-30T15:56:21.914846Z",
     "shell.execute_reply.started": "2022-10-30T15:56:21.911829Z"
    }
   },
   "outputs": [],
   "source": [
    "X=X.values"
   ]
  },
  {
   "cell_type": "code",
   "execution_count": 18,
   "id": "3f24a695-0ff0-4650-b576-bace6489c125",
   "metadata": {
    "execution": {
     "iopub.execute_input": "2022-10-30T16:01:25.182012Z",
     "iopub.status.busy": "2022-10-30T16:01:25.181634Z",
     "iopub.status.idle": "2022-10-30T16:01:25.186406Z",
     "shell.execute_reply": "2022-10-30T16:01:25.185873Z",
     "shell.execute_reply.started": "2022-10-30T16:01:25.181990Z"
    }
   },
   "outputs": [
    {
     "data": {
      "text/plain": [
       "Data(x=[7098, 159], edge_index=[2, 133445], y=[7098, 140], train_mask=[4732], val_mask=[2366], num_classes=140, num_node_features=159)"
      ]
     },
     "execution_count": 18,
     "metadata": {},
     "output_type": "execute_result"
    }
   ],
   "source": [
    "data"
   ]
  },
  {
   "cell_type": "code",
   "execution_count": 24,
   "id": "c143eb23-9d64-4ed6-b8c9-424e132c94c1",
   "metadata": {
    "execution": {
     "iopub.execute_input": "2022-10-30T16:07:18.040090Z",
     "iopub.status.busy": "2022-10-30T16:07:18.039715Z",
     "iopub.status.idle": "2022-10-30T16:07:18.044123Z",
     "shell.execute_reply": "2022-10-30T16:07:18.043585Z",
     "shell.execute_reply.started": "2022-10-30T16:07:18.040068Z"
    },
    "tags": []
   },
   "outputs": [
    {
     "data": {
      "text/plain": [
       "torch.Size([4098458])"
      ]
     },
     "execution_count": 24,
     "metadata": {},
     "output_type": "execute_result"
    }
   ],
   "source": [
    "conns[0][1].shape"
   ]
  },
  {
   "cell_type": "code",
   "execution_count": 25,
   "id": "0be8ef73-bcc1-4145-ba33-805101dcf382",
   "metadata": {
    "execution": {
     "iopub.execute_input": "2022-10-30T16:07:21.177633Z",
     "iopub.status.busy": "2022-10-30T16:07:21.177251Z",
     "iopub.status.idle": "2022-10-30T16:07:21.181634Z",
     "shell.execute_reply": "2022-10-30T16:07:21.181116Z",
     "shell.execute_reply.started": "2022-10-30T16:07:21.177610Z"
    },
    "tags": []
   },
   "outputs": [
    {
     "data": {
      "text/plain": [
       "torch.Size([4098458])"
      ]
     },
     "execution_count": 25,
     "metadata": {},
     "output_type": "execute_result"
    }
   ],
   "source": [
    "conns[0][0].shape"
   ]
  },
  {
   "cell_type": "code",
   "execution_count": 29,
   "id": "9b5ac51d-b5b8-459f-bb53-21784cbddbff",
   "metadata": {
    "execution": {
     "iopub.execute_input": "2022-10-30T16:10:38.498071Z",
     "iopub.status.busy": "2022-10-30T16:10:38.497413Z",
     "iopub.status.idle": "2022-10-30T16:10:38.501704Z",
     "shell.execute_reply": "2022-10-30T16:10:38.501192Z",
     "shell.execute_reply.started": "2022-10-30T16:10:38.498047Z"
    },
    "tags": []
   },
   "outputs": [
    {
     "data": {
      "text/plain": [
       "torch.Size([2, 133445])"
      ]
     },
     "execution_count": 29,
     "metadata": {},
     "output_type": "execute_result"
    }
   ],
   "source": [
    "abc_conns.shape"
   ]
  },
  {
   "cell_type": "code",
   "execution_count": 17,
   "id": "e7cad259-97f6-4ecb-82e9-1931bfe0695f",
   "metadata": {
    "execution": {
     "iopub.execute_input": "2022-10-30T15:59:12.546706Z",
     "iopub.status.busy": "2022-10-30T15:59:12.546334Z",
     "iopub.status.idle": "2022-10-30T15:59:27.348430Z",
     "shell.execute_reply": "2022-10-30T15:59:27.347606Z",
     "shell.execute_reply.started": "2022-10-30T15:59:12.546683Z"
    },
    "tags": []
   },
   "outputs": [
    {
     "name": "stderr",
     "output_type": "stream",
     "text": [
      "/opt/conda/conda-bld/pytorch_1646756402876/work/aten/src/ATen/native/cuda/Indexing.cu:703: indexSelectLargeIndex: block: [82,0,0], thread: [68,0,0] Assertion `srcIndex < srcSelectDimSize` failed.\n"
     ]
    },
    {
     "ename": "RuntimeError",
     "evalue": "CUDA error: device-side assert triggered\nCUDA kernel errors might be asynchronously reported at some other API call,so the stacktrace below might be incorrect.\nFor debugging consider passing CUDA_LAUNCH_BLOCKING=1.",
     "output_type": "error",
     "traceback": [
      "\u001b[0;31m---------------------------------------------------------------------------\u001b[0m",
      "\u001b[0;31mRuntimeError\u001b[0m                              Traceback (most recent call last)",
      "Input \u001b[0;32mIn [17]\u001b[0m, in \u001b[0;36m<cell line: 15>\u001b[0;34m()\u001b[0m\n\u001b[1;32m     40\u001b[0m \u001b[38;5;28;01mfor\u001b[39;00m epoch \u001b[38;5;129;01min\u001b[39;00m \u001b[38;5;28mrange\u001b[39m(\u001b[38;5;241m1\u001b[39m):\n\u001b[1;32m     41\u001b[0m     optimizer\u001b[38;5;241m.\u001b[39mzero_grad()\n\u001b[0;32m---> 42\u001b[0m     out \u001b[38;5;241m=\u001b[39m \u001b[43mmodel\u001b[49m\u001b[43m(\u001b[49m\u001b[43mdata\u001b[49m\u001b[43m)\u001b[49m\n\u001b[1;32m     43\u001b[0m     loss \u001b[38;5;241m=\u001b[39m negative_correlation_loss_torch(out[data\u001b[38;5;241m.\u001b[39mtrain_mask], data\u001b[38;5;241m.\u001b[39my[data\u001b[38;5;241m.\u001b[39mtrain_mask])\n\u001b[1;32m     44\u001b[0m     loss\u001b[38;5;241m.\u001b[39mbackward()\n",
      "File \u001b[0;32m/srv/conda/envs/saturn/lib/python3.9/site-packages/torch/nn/modules/module.py:1110\u001b[0m, in \u001b[0;36mModule._call_impl\u001b[0;34m(self, *input, **kwargs)\u001b[0m\n\u001b[1;32m   1106\u001b[0m \u001b[38;5;66;03m# If we don't have any hooks, we want to skip the rest of the logic in\u001b[39;00m\n\u001b[1;32m   1107\u001b[0m \u001b[38;5;66;03m# this function, and just call forward.\u001b[39;00m\n\u001b[1;32m   1108\u001b[0m \u001b[38;5;28;01mif\u001b[39;00m \u001b[38;5;129;01mnot\u001b[39;00m (\u001b[38;5;28mself\u001b[39m\u001b[38;5;241m.\u001b[39m_backward_hooks \u001b[38;5;129;01mor\u001b[39;00m \u001b[38;5;28mself\u001b[39m\u001b[38;5;241m.\u001b[39m_forward_hooks \u001b[38;5;129;01mor\u001b[39;00m \u001b[38;5;28mself\u001b[39m\u001b[38;5;241m.\u001b[39m_forward_pre_hooks \u001b[38;5;129;01mor\u001b[39;00m _global_backward_hooks\n\u001b[1;32m   1109\u001b[0m         \u001b[38;5;129;01mor\u001b[39;00m _global_forward_hooks \u001b[38;5;129;01mor\u001b[39;00m _global_forward_pre_hooks):\n\u001b[0;32m-> 1110\u001b[0m     \u001b[38;5;28;01mreturn\u001b[39;00m \u001b[43mforward_call\u001b[49m\u001b[43m(\u001b[49m\u001b[38;5;241;43m*\u001b[39;49m\u001b[38;5;28;43minput\u001b[39;49m\u001b[43m,\u001b[49m\u001b[43m \u001b[49m\u001b[38;5;241;43m*\u001b[39;49m\u001b[38;5;241;43m*\u001b[39;49m\u001b[43mkwargs\u001b[49m\u001b[43m)\u001b[49m\n\u001b[1;32m   1111\u001b[0m \u001b[38;5;66;03m# Do not call functions when jit is used\u001b[39;00m\n\u001b[1;32m   1112\u001b[0m full_backward_hooks, non_full_backward_hooks \u001b[38;5;241m=\u001b[39m [], []\n",
      "Input \u001b[0;32mIn [10]\u001b[0m, in \u001b[0;36mGCN.forward\u001b[0;34m(self, data)\u001b[0m\n\u001b[1;32m     10\u001b[0m \u001b[38;5;28;01mdef\u001b[39;00m \u001b[38;5;21mforward\u001b[39m(\u001b[38;5;28mself\u001b[39m, data):\n\u001b[1;32m     11\u001b[0m     x, edge_index \u001b[38;5;241m=\u001b[39m data\u001b[38;5;241m.\u001b[39mx, data\u001b[38;5;241m.\u001b[39medge_index\n\u001b[0;32m---> 13\u001b[0m     x \u001b[38;5;241m=\u001b[39m \u001b[38;5;28;43mself\u001b[39;49m\u001b[38;5;241;43m.\u001b[39;49m\u001b[43mconv1\u001b[49m\u001b[43m(\u001b[49m\u001b[43mx\u001b[49m\u001b[43m,\u001b[49m\u001b[43m \u001b[49m\u001b[43medge_index\u001b[49m\u001b[43m)\u001b[49m\n\u001b[1;32m     14\u001b[0m     x \u001b[38;5;241m=\u001b[39m F\u001b[38;5;241m.\u001b[39mselu(x)\n\u001b[1;32m     15\u001b[0m     x \u001b[38;5;241m=\u001b[39m F\u001b[38;5;241m.\u001b[39mdropout(x, training\u001b[38;5;241m=\u001b[39m\u001b[38;5;28mself\u001b[39m\u001b[38;5;241m.\u001b[39mtraining)\n",
      "File \u001b[0;32m/srv/conda/envs/saturn/lib/python3.9/site-packages/torch/nn/modules/module.py:1110\u001b[0m, in \u001b[0;36mModule._call_impl\u001b[0;34m(self, *input, **kwargs)\u001b[0m\n\u001b[1;32m   1106\u001b[0m \u001b[38;5;66;03m# If we don't have any hooks, we want to skip the rest of the logic in\u001b[39;00m\n\u001b[1;32m   1107\u001b[0m \u001b[38;5;66;03m# this function, and just call forward.\u001b[39;00m\n\u001b[1;32m   1108\u001b[0m \u001b[38;5;28;01mif\u001b[39;00m \u001b[38;5;129;01mnot\u001b[39;00m (\u001b[38;5;28mself\u001b[39m\u001b[38;5;241m.\u001b[39m_backward_hooks \u001b[38;5;129;01mor\u001b[39;00m \u001b[38;5;28mself\u001b[39m\u001b[38;5;241m.\u001b[39m_forward_hooks \u001b[38;5;129;01mor\u001b[39;00m \u001b[38;5;28mself\u001b[39m\u001b[38;5;241m.\u001b[39m_forward_pre_hooks \u001b[38;5;129;01mor\u001b[39;00m _global_backward_hooks\n\u001b[1;32m   1109\u001b[0m         \u001b[38;5;129;01mor\u001b[39;00m _global_forward_hooks \u001b[38;5;129;01mor\u001b[39;00m _global_forward_pre_hooks):\n\u001b[0;32m-> 1110\u001b[0m     \u001b[38;5;28;01mreturn\u001b[39;00m \u001b[43mforward_call\u001b[49m\u001b[43m(\u001b[49m\u001b[38;5;241;43m*\u001b[39;49m\u001b[38;5;28;43minput\u001b[39;49m\u001b[43m,\u001b[49m\u001b[43m \u001b[49m\u001b[38;5;241;43m*\u001b[39;49m\u001b[38;5;241;43m*\u001b[39;49m\u001b[43mkwargs\u001b[49m\u001b[43m)\u001b[49m\n\u001b[1;32m   1111\u001b[0m \u001b[38;5;66;03m# Do not call functions when jit is used\u001b[39;00m\n\u001b[1;32m   1112\u001b[0m full_backward_hooks, non_full_backward_hooks \u001b[38;5;241m=\u001b[39m [], []\n",
      "File \u001b[0;32m/srv/conda/envs/saturn/lib/python3.9/site-packages/torch_geometric/nn/conv/gat_conv.py:243\u001b[0m, in \u001b[0;36mGATConv.forward\u001b[0;34m(self, x, edge_index, edge_attr, size, return_attention_weights)\u001b[0m\n\u001b[1;32m    237\u001b[0m             \u001b[38;5;28;01mraise\u001b[39;00m \u001b[38;5;167;01mNotImplementedError\u001b[39;00m(\n\u001b[1;32m    238\u001b[0m                 \u001b[38;5;124m\"\u001b[39m\u001b[38;5;124mThe usage of \u001b[39m\u001b[38;5;124m'\u001b[39m\u001b[38;5;124medge_attr\u001b[39m\u001b[38;5;124m'\u001b[39m\u001b[38;5;124m and \u001b[39m\u001b[38;5;124m'\u001b[39m\u001b[38;5;124madd_self_loops\u001b[39m\u001b[38;5;124m'\u001b[39m\u001b[38;5;124m \u001b[39m\u001b[38;5;124m\"\u001b[39m\n\u001b[1;32m    239\u001b[0m                 \u001b[38;5;124m\"\u001b[39m\u001b[38;5;124msimultaneously is currently not yet supported for \u001b[39m\u001b[38;5;124m\"\u001b[39m\n\u001b[1;32m    240\u001b[0m                 \u001b[38;5;124m\"\u001b[39m\u001b[38;5;124m'\u001b[39m\u001b[38;5;124medge_index\u001b[39m\u001b[38;5;124m'\u001b[39m\u001b[38;5;124m in a \u001b[39m\u001b[38;5;124m'\u001b[39m\u001b[38;5;124mSparseTensor\u001b[39m\u001b[38;5;124m'\u001b[39m\u001b[38;5;124m form\u001b[39m\u001b[38;5;124m\"\u001b[39m)\n\u001b[1;32m    242\u001b[0m \u001b[38;5;66;03m# edge_updater_type: (alpha: OptPairTensor, edge_attr: OptTensor)\u001b[39;00m\n\u001b[0;32m--> 243\u001b[0m alpha \u001b[38;5;241m=\u001b[39m \u001b[38;5;28;43mself\u001b[39;49m\u001b[38;5;241;43m.\u001b[39;49m\u001b[43medge_updater\u001b[49m\u001b[43m(\u001b[49m\u001b[43medge_index\u001b[49m\u001b[43m,\u001b[49m\u001b[43m \u001b[49m\u001b[43malpha\u001b[49m\u001b[38;5;241;43m=\u001b[39;49m\u001b[43malpha\u001b[49m\u001b[43m,\u001b[49m\u001b[43m \u001b[49m\u001b[43medge_attr\u001b[49m\u001b[38;5;241;43m=\u001b[39;49m\u001b[43medge_attr\u001b[49m\u001b[43m)\u001b[49m\n\u001b[1;32m    245\u001b[0m \u001b[38;5;66;03m# propagate_type: (x: OptPairTensor, alpha: Tensor)\u001b[39;00m\n\u001b[1;32m    246\u001b[0m out \u001b[38;5;241m=\u001b[39m \u001b[38;5;28mself\u001b[39m\u001b[38;5;241m.\u001b[39mpropagate(edge_index, x\u001b[38;5;241m=\u001b[39mx, alpha\u001b[38;5;241m=\u001b[39malpha, size\u001b[38;5;241m=\u001b[39msize)\n",
      "File \u001b[0;32m/srv/conda/envs/saturn/lib/python3.9/site-packages/torch_geometric/nn/conv/message_passing.py:437\u001b[0m, in \u001b[0;36mMessagePassing.edge_updater\u001b[0;34m(self, edge_index, **kwargs)\u001b[0m\n\u001b[1;32m    433\u001b[0m coll_dict \u001b[38;5;241m=\u001b[39m \u001b[38;5;28mself\u001b[39m\u001b[38;5;241m.\u001b[39m__collect__(\u001b[38;5;28mself\u001b[39m\u001b[38;5;241m.\u001b[39m__edge_user_args__, edge_index, size,\n\u001b[1;32m    434\u001b[0m                              kwargs)\n\u001b[1;32m    436\u001b[0m edge_kwargs \u001b[38;5;241m=\u001b[39m \u001b[38;5;28mself\u001b[39m\u001b[38;5;241m.\u001b[39minspector\u001b[38;5;241m.\u001b[39mdistribute(\u001b[38;5;124m'\u001b[39m\u001b[38;5;124medge_update\u001b[39m\u001b[38;5;124m'\u001b[39m, coll_dict)\n\u001b[0;32m--> 437\u001b[0m out \u001b[38;5;241m=\u001b[39m \u001b[38;5;28;43mself\u001b[39;49m\u001b[38;5;241;43m.\u001b[39;49m\u001b[43medge_update\u001b[49m\u001b[43m(\u001b[49m\u001b[38;5;241;43m*\u001b[39;49m\u001b[38;5;241;43m*\u001b[39;49m\u001b[43medge_kwargs\u001b[49m\u001b[43m)\u001b[49m\n\u001b[1;32m    439\u001b[0m \u001b[38;5;28;01mfor\u001b[39;00m hook \u001b[38;5;129;01min\u001b[39;00m \u001b[38;5;28mself\u001b[39m\u001b[38;5;241m.\u001b[39m_edge_update_forward_hooks\u001b[38;5;241m.\u001b[39mvalues():\n\u001b[1;32m    440\u001b[0m     res \u001b[38;5;241m=\u001b[39m hook(\u001b[38;5;28mself\u001b[39m, (edge_index, kwargs), out)\n",
      "File \u001b[0;32m/srv/conda/envs/saturn/lib/python3.9/site-packages/torch_geometric/nn/conv/gat_conv.py:269\u001b[0m, in \u001b[0;36mGATConv.edge_update\u001b[0;34m(self, alpha_j, alpha_i, edge_attr, index, ptr, size_i)\u001b[0m\n\u001b[1;32m    264\u001b[0m \u001b[38;5;28;01mdef\u001b[39;00m \u001b[38;5;21medge_update\u001b[39m(\u001b[38;5;28mself\u001b[39m, alpha_j: Tensor, alpha_i: OptTensor,\n\u001b[1;32m    265\u001b[0m                 edge_attr: OptTensor, index: Tensor, ptr: OptTensor,\n\u001b[1;32m    266\u001b[0m                 size_i: Optional[\u001b[38;5;28mint\u001b[39m]) \u001b[38;5;241m-\u001b[39m\u001b[38;5;241m>\u001b[39m Tensor:\n\u001b[1;32m    267\u001b[0m     \u001b[38;5;66;03m# Given edge-level attention coefficients for source and target nodes,\u001b[39;00m\n\u001b[1;32m    268\u001b[0m     \u001b[38;5;66;03m# we simply need to sum them up to \"emulate\" concatenation:\u001b[39;00m\n\u001b[0;32m--> 269\u001b[0m     alpha \u001b[38;5;241m=\u001b[39m alpha_j \u001b[38;5;28;01mif\u001b[39;00m alpha_i \u001b[38;5;129;01mis\u001b[39;00m \u001b[38;5;28;01mNone\u001b[39;00m \u001b[38;5;28;01melse\u001b[39;00m \u001b[43malpha_j\u001b[49m\u001b[43m \u001b[49m\u001b[38;5;241;43m+\u001b[39;49m\u001b[43m \u001b[49m\u001b[43malpha_i\u001b[49m\n\u001b[1;32m    271\u001b[0m     \u001b[38;5;28;01mif\u001b[39;00m edge_attr \u001b[38;5;129;01mis\u001b[39;00m \u001b[38;5;129;01mnot\u001b[39;00m \u001b[38;5;28;01mNone\u001b[39;00m \u001b[38;5;129;01mand\u001b[39;00m \u001b[38;5;28mself\u001b[39m\u001b[38;5;241m.\u001b[39mlin_edge \u001b[38;5;129;01mis\u001b[39;00m \u001b[38;5;129;01mnot\u001b[39;00m \u001b[38;5;28;01mNone\u001b[39;00m:\n\u001b[1;32m    272\u001b[0m         \u001b[38;5;28;01mif\u001b[39;00m edge_attr\u001b[38;5;241m.\u001b[39mdim() \u001b[38;5;241m==\u001b[39m \u001b[38;5;241m1\u001b[39m:\n",
      "\u001b[0;31mRuntimeError\u001b[0m: CUDA error: device-side assert triggered\nCUDA kernel errors might be asynchronously reported at some other API call,so the stacktrace below might be incorrect.\nFor debugging consider passing CUDA_LAUNCH_BLOCKING=1."
     ]
    }
   ],
   "source": [
    "from torch_geometric.data import Data\n",
    "import warnings\n",
    "warnings.filterwarnings(\"ignore\")\n",
    "\n",
    "EPOCHS = 300 \n",
    "\n",
    "pred_train = np.zeros((Y.shape[0],Y.shape[1]))\n",
    "\n",
    "np.random.seed(1)\n",
    "tf.random.set_seed(1)\n",
    "score_list = []\n",
    "kf = KFold(n_splits=N_SPLITS)\n",
    "score_list = []\n",
    "\n",
    "for batch in range(10):\n",
    "    number = int((batch+1)*len(X)/10)\n",
    "    prev_number = int((batch)*len(X)/10)\n",
    "    abc_x = torch.Tensor(X[prev_number:number])\n",
    "    abc_y = torch.Tensor(Y[prev_number:number])\n",
    "    abc_idx = []\n",
    "    bool = True\n",
    "    for i in range(len(data.edge_index[0])):\n",
    "        if (data.edge_index[0][i] >= prev_number) and bool:\n",
    "            bool = False\n",
    "        if (not bool) and (data.edge_index[1][i] >= prev_number) and (data.edge_index[1][i] < number):\n",
    "            abc_idx.append(i)\n",
    "        if data.edge_index[0][i] >= number:\n",
    "            break\n",
    "    abc_conns = torch.stack((conns[0][0][abc_idx],conns[0][1][abc_idx]))\n",
    "    for fold, (idx_tr, idx_va) in enumerate(kf.split(abc_x)):\n",
    "        start_time = datetime.datetime.now()\n",
    "        model = None\n",
    "        gc.collect()\n",
    "        device = torch.device('cuda' if torch.cuda.is_available() else 'cpu')\n",
    "        model = GCN().to(device)\n",
    "        abc_data = Data(edge_index=abc_conns, train_mask=idx_tr, val_mask=idx_va, x=abc_x, y=abc_y,num_classes=140, num_node_features = 159)\n",
    "        abc_data = abc_data.to(device)\n",
    "        optimizer = torch.optim.Adam(model.parameters(), lr=0.01, weight_decay=5e-4)\n",
    "        model.train()\n",
    "        for epoch in range(1):\n",
    "            optimizer.zero_grad()\n",
    "            out = model(abc_data)\n",
    "            loss = negative_correlation_loss_torch(out[abc_data.train_mask], abc_data.y[abc_data.train_mask])\n",
    "            loss.backward()\n",
    "            optimizer.step()\n",
    "        model.eval()\n",
    "        pred = model(abc_data)\n",
    "        corr = -negative_correlation_loss_torch(pred[abc_data.val_mask], abc_data.y[abc_data.val_mask])\n",
    "        print(f'Correlation: {corr:.4f}')"
   ]
  },
  {
   "cell_type": "code",
   "execution_count": 18,
   "id": "5442d9de-1430-49c8-a632-8d879536e4ad",
   "metadata": {
    "execution": {
     "iopub.execute_input": "2022-10-27T20:03:09.002779Z",
     "iopub.status.busy": "2022-10-27T20:03:09.002377Z",
     "iopub.status.idle": "2022-10-27T20:03:09.007019Z",
     "shell.execute_reply": "2022-10-27T20:03:09.006505Z",
     "shell.execute_reply.started": "2022-10-27T20:03:09.002756Z"
    }
   },
   "outputs": [
    {
     "data": {
      "text/plain": [
       "Data(x=[7098, 159], edge_index=[2, 7098], y=[7098, 140], train_mask=[7097], val_mask=[0], num_classes=140, num_node_features=159)"
      ]
     },
     "execution_count": 18,
     "metadata": {},
     "output_type": "execute_result"
    }
   ],
   "source": [
    "data"
   ]
  },
  {
   "cell_type": "code",
   "execution_count": 31,
   "id": "1e526326-c28b-4375-a5a5-ec3b3d073a68",
   "metadata": {
    "execution": {
     "iopub.execute_input": "2022-10-30T16:12:04.358051Z",
     "iopub.status.busy": "2022-10-30T16:12:04.357674Z",
     "iopub.status.idle": "2022-10-30T16:12:04.723197Z",
     "shell.execute_reply": "2022-10-30T16:12:04.722408Z",
     "shell.execute_reply.started": "2022-10-30T16:12:04.358028Z"
    },
    "tags": []
   },
   "outputs": [
    {
     "ename": "RuntimeError",
     "evalue": "CUDA error: device-side assert triggered\nCUDA kernel errors might be asynchronously reported at some other API call,so the stacktrace below might be incorrect.\nFor debugging consider passing CUDA_LAUNCH_BLOCKING=1.",
     "output_type": "error",
     "traceback": [
      "\u001b[0;31m---------------------------------------------------------------------------\u001b[0m",
      "\u001b[0;31mRuntimeError\u001b[0m                              Traceback (most recent call last)",
      "Input \u001b[0;32mIn [31]\u001b[0m, in \u001b[0;36m<cell line: 14>\u001b[0;34m()\u001b[0m\n\u001b[1;32m     17\u001b[0m gc\u001b[38;5;241m.\u001b[39mcollect()\n\u001b[1;32m     18\u001b[0m device \u001b[38;5;241m=\u001b[39m torch\u001b[38;5;241m.\u001b[39mdevice(\u001b[38;5;124m'\u001b[39m\u001b[38;5;124mcuda\u001b[39m\u001b[38;5;124m'\u001b[39m \u001b[38;5;28;01mif\u001b[39;00m torch\u001b[38;5;241m.\u001b[39mcuda\u001b[38;5;241m.\u001b[39mis_available() \u001b[38;5;28;01melse\u001b[39;00m \u001b[38;5;124m'\u001b[39m\u001b[38;5;124mcpu\u001b[39m\u001b[38;5;124m'\u001b[39m)\n\u001b[0;32m---> 19\u001b[0m model \u001b[38;5;241m=\u001b[39m \u001b[43mGCN\u001b[49m\u001b[43m(\u001b[49m\u001b[43m)\u001b[49m\u001b[38;5;241;43m.\u001b[39;49m\u001b[43mto\u001b[49m\u001b[43m(\u001b[49m\u001b[43mdevice\u001b[49m\u001b[43m)\u001b[49m\n\u001b[1;32m     20\u001b[0m data \u001b[38;5;241m=\u001b[39m Data(edge_index\u001b[38;5;241m=\u001b[39mconns[\u001b[38;5;241m0\u001b[39m], train_mask\u001b[38;5;241m=\u001b[39midx_tr, val_mask\u001b[38;5;241m=\u001b[39midx_va, x\u001b[38;5;241m=\u001b[39mtorch\u001b[38;5;241m.\u001b[39mTensor(X), y\u001b[38;5;241m=\u001b[39mtorch\u001b[38;5;241m.\u001b[39mTensor(Y),num_classes\u001b[38;5;241m=\u001b[39m\u001b[38;5;241m140\u001b[39m, num_node_features \u001b[38;5;241m=\u001b[39m \u001b[38;5;241m159\u001b[39m)\n\u001b[1;32m     21\u001b[0m data \u001b[38;5;241m=\u001b[39m data\u001b[38;5;241m.\u001b[39mto(device)\n",
      "File \u001b[0;32m/srv/conda/envs/saturn/lib/python3.9/site-packages/torch/nn/modules/module.py:907\u001b[0m, in \u001b[0;36mModule.to\u001b[0;34m(self, *args, **kwargs)\u001b[0m\n\u001b[1;32m    903\u001b[0m         \u001b[38;5;28;01mreturn\u001b[39;00m t\u001b[38;5;241m.\u001b[39mto(device, dtype \u001b[38;5;28;01mif\u001b[39;00m t\u001b[38;5;241m.\u001b[39mis_floating_point() \u001b[38;5;129;01mor\u001b[39;00m t\u001b[38;5;241m.\u001b[39mis_complex() \u001b[38;5;28;01melse\u001b[39;00m \u001b[38;5;28;01mNone\u001b[39;00m,\n\u001b[1;32m    904\u001b[0m                     non_blocking, memory_format\u001b[38;5;241m=\u001b[39mconvert_to_format)\n\u001b[1;32m    905\u001b[0m     \u001b[38;5;28;01mreturn\u001b[39;00m t\u001b[38;5;241m.\u001b[39mto(device, dtype \u001b[38;5;28;01mif\u001b[39;00m t\u001b[38;5;241m.\u001b[39mis_floating_point() \u001b[38;5;129;01mor\u001b[39;00m t\u001b[38;5;241m.\u001b[39mis_complex() \u001b[38;5;28;01melse\u001b[39;00m \u001b[38;5;28;01mNone\u001b[39;00m, non_blocking)\n\u001b[0;32m--> 907\u001b[0m \u001b[38;5;28;01mreturn\u001b[39;00m \u001b[38;5;28;43mself\u001b[39;49m\u001b[38;5;241;43m.\u001b[39;49m\u001b[43m_apply\u001b[49m\u001b[43m(\u001b[49m\u001b[43mconvert\u001b[49m\u001b[43m)\u001b[49m\n",
      "File \u001b[0;32m/srv/conda/envs/saturn/lib/python3.9/site-packages/torch/nn/modules/module.py:578\u001b[0m, in \u001b[0;36mModule._apply\u001b[0;34m(self, fn)\u001b[0m\n\u001b[1;32m    576\u001b[0m \u001b[38;5;28;01mdef\u001b[39;00m \u001b[38;5;21m_apply\u001b[39m(\u001b[38;5;28mself\u001b[39m, fn):\n\u001b[1;32m    577\u001b[0m     \u001b[38;5;28;01mfor\u001b[39;00m module \u001b[38;5;129;01min\u001b[39;00m \u001b[38;5;28mself\u001b[39m\u001b[38;5;241m.\u001b[39mchildren():\n\u001b[0;32m--> 578\u001b[0m         \u001b[43mmodule\u001b[49m\u001b[38;5;241;43m.\u001b[39;49m\u001b[43m_apply\u001b[49m\u001b[43m(\u001b[49m\u001b[43mfn\u001b[49m\u001b[43m)\u001b[49m\n\u001b[1;32m    580\u001b[0m     \u001b[38;5;28;01mdef\u001b[39;00m \u001b[38;5;21mcompute_should_use_set_data\u001b[39m(tensor, tensor_applied):\n\u001b[1;32m    581\u001b[0m         \u001b[38;5;28;01mif\u001b[39;00m torch\u001b[38;5;241m.\u001b[39m_has_compatible_shallow_copy_type(tensor, tensor_applied):\n\u001b[1;32m    582\u001b[0m             \u001b[38;5;66;03m# If the new tensor has compatible tensor type as the existing tensor,\u001b[39;00m\n\u001b[1;32m    583\u001b[0m             \u001b[38;5;66;03m# the current behavior is to change the tensor in-place using `.data =`,\u001b[39;00m\n\u001b[0;32m   (...)\u001b[0m\n\u001b[1;32m    588\u001b[0m             \u001b[38;5;66;03m# global flag to let the user control whether they want the future\u001b[39;00m\n\u001b[1;32m    589\u001b[0m             \u001b[38;5;66;03m# behavior of overwriting the existing tensor or not.\u001b[39;00m\n",
      "File \u001b[0;32m/srv/conda/envs/saturn/lib/python3.9/site-packages/torch/nn/modules/module.py:578\u001b[0m, in \u001b[0;36mModule._apply\u001b[0;34m(self, fn)\u001b[0m\n\u001b[1;32m    576\u001b[0m \u001b[38;5;28;01mdef\u001b[39;00m \u001b[38;5;21m_apply\u001b[39m(\u001b[38;5;28mself\u001b[39m, fn):\n\u001b[1;32m    577\u001b[0m     \u001b[38;5;28;01mfor\u001b[39;00m module \u001b[38;5;129;01min\u001b[39;00m \u001b[38;5;28mself\u001b[39m\u001b[38;5;241m.\u001b[39mchildren():\n\u001b[0;32m--> 578\u001b[0m         \u001b[43mmodule\u001b[49m\u001b[38;5;241;43m.\u001b[39;49m\u001b[43m_apply\u001b[49m\u001b[43m(\u001b[49m\u001b[43mfn\u001b[49m\u001b[43m)\u001b[49m\n\u001b[1;32m    580\u001b[0m     \u001b[38;5;28;01mdef\u001b[39;00m \u001b[38;5;21mcompute_should_use_set_data\u001b[39m(tensor, tensor_applied):\n\u001b[1;32m    581\u001b[0m         \u001b[38;5;28;01mif\u001b[39;00m torch\u001b[38;5;241m.\u001b[39m_has_compatible_shallow_copy_type(tensor, tensor_applied):\n\u001b[1;32m    582\u001b[0m             \u001b[38;5;66;03m# If the new tensor has compatible tensor type as the existing tensor,\u001b[39;00m\n\u001b[1;32m    583\u001b[0m             \u001b[38;5;66;03m# the current behavior is to change the tensor in-place using `.data =`,\u001b[39;00m\n\u001b[0;32m   (...)\u001b[0m\n\u001b[1;32m    588\u001b[0m             \u001b[38;5;66;03m# global flag to let the user control whether they want the future\u001b[39;00m\n\u001b[1;32m    589\u001b[0m             \u001b[38;5;66;03m# behavior of overwriting the existing tensor or not.\u001b[39;00m\n",
      "File \u001b[0;32m/srv/conda/envs/saturn/lib/python3.9/site-packages/torch/nn/modules/module.py:601\u001b[0m, in \u001b[0;36mModule._apply\u001b[0;34m(self, fn)\u001b[0m\n\u001b[1;32m    597\u001b[0m \u001b[38;5;66;03m# Tensors stored in modules are graph leaves, and we don't want to\u001b[39;00m\n\u001b[1;32m    598\u001b[0m \u001b[38;5;66;03m# track autograd history of `param_applied`, so we have to use\u001b[39;00m\n\u001b[1;32m    599\u001b[0m \u001b[38;5;66;03m# `with torch.no_grad():`\u001b[39;00m\n\u001b[1;32m    600\u001b[0m \u001b[38;5;28;01mwith\u001b[39;00m torch\u001b[38;5;241m.\u001b[39mno_grad():\n\u001b[0;32m--> 601\u001b[0m     param_applied \u001b[38;5;241m=\u001b[39m \u001b[43mfn\u001b[49m\u001b[43m(\u001b[49m\u001b[43mparam\u001b[49m\u001b[43m)\u001b[49m\n\u001b[1;32m    602\u001b[0m should_use_set_data \u001b[38;5;241m=\u001b[39m compute_should_use_set_data(param, param_applied)\n\u001b[1;32m    603\u001b[0m \u001b[38;5;28;01mif\u001b[39;00m should_use_set_data:\n",
      "File \u001b[0;32m/srv/conda/envs/saturn/lib/python3.9/site-packages/torch/nn/modules/module.py:905\u001b[0m, in \u001b[0;36mModule.to.<locals>.convert\u001b[0;34m(t)\u001b[0m\n\u001b[1;32m    902\u001b[0m \u001b[38;5;28;01mif\u001b[39;00m convert_to_format \u001b[38;5;129;01mis\u001b[39;00m \u001b[38;5;129;01mnot\u001b[39;00m \u001b[38;5;28;01mNone\u001b[39;00m \u001b[38;5;129;01mand\u001b[39;00m t\u001b[38;5;241m.\u001b[39mdim() \u001b[38;5;129;01min\u001b[39;00m (\u001b[38;5;241m4\u001b[39m, \u001b[38;5;241m5\u001b[39m):\n\u001b[1;32m    903\u001b[0m     \u001b[38;5;28;01mreturn\u001b[39;00m t\u001b[38;5;241m.\u001b[39mto(device, dtype \u001b[38;5;28;01mif\u001b[39;00m t\u001b[38;5;241m.\u001b[39mis_floating_point() \u001b[38;5;129;01mor\u001b[39;00m t\u001b[38;5;241m.\u001b[39mis_complex() \u001b[38;5;28;01melse\u001b[39;00m \u001b[38;5;28;01mNone\u001b[39;00m,\n\u001b[1;32m    904\u001b[0m                 non_blocking, memory_format\u001b[38;5;241m=\u001b[39mconvert_to_format)\n\u001b[0;32m--> 905\u001b[0m \u001b[38;5;28;01mreturn\u001b[39;00m \u001b[43mt\u001b[49m\u001b[38;5;241;43m.\u001b[39;49m\u001b[43mto\u001b[49m\u001b[43m(\u001b[49m\u001b[43mdevice\u001b[49m\u001b[43m,\u001b[49m\u001b[43m \u001b[49m\u001b[43mdtype\u001b[49m\u001b[43m \u001b[49m\u001b[38;5;28;43;01mif\u001b[39;49;00m\u001b[43m \u001b[49m\u001b[43mt\u001b[49m\u001b[38;5;241;43m.\u001b[39;49m\u001b[43mis_floating_point\u001b[49m\u001b[43m(\u001b[49m\u001b[43m)\u001b[49m\u001b[43m \u001b[49m\u001b[38;5;129;43;01mor\u001b[39;49;00m\u001b[43m \u001b[49m\u001b[43mt\u001b[49m\u001b[38;5;241;43m.\u001b[39;49m\u001b[43mis_complex\u001b[49m\u001b[43m(\u001b[49m\u001b[43m)\u001b[49m\u001b[43m \u001b[49m\u001b[38;5;28;43;01melse\u001b[39;49;00m\u001b[43m \u001b[49m\u001b[38;5;28;43;01mNone\u001b[39;49;00m\u001b[43m,\u001b[49m\u001b[43m \u001b[49m\u001b[43mnon_blocking\u001b[49m\u001b[43m)\u001b[49m\n",
      "\u001b[0;31mRuntimeError\u001b[0m: CUDA error: device-side assert triggered\nCUDA kernel errors might be asynchronously reported at some other API call,so the stacktrace below might be incorrect.\nFor debugging consider passing CUDA_LAUNCH_BLOCKING=1."
     ]
    }
   ],
   "source": [
    "import warnings\n",
    "warnings.filterwarnings(\"ignore\")\n",
    "\n",
    "EPOCHS = 300 \n",
    "\n",
    "pred_train = np.zeros((Y.shape[0],Y.shape[1]))\n",
    "\n",
    "np.random.seed(1)\n",
    "tf.random.set_seed(1)\n",
    "score_list = []\n",
    "kf = GroupKFold(n_splits=N_SPLITS)\n",
    "score_list = []\n",
    "\n",
    "for fold, (idx_tr, idx_va) in enumerate(kf.split(X, groups=meta.donor)):\n",
    "    start_time = datetime.datetime.now()\n",
    "    model = None\n",
    "    gc.collect()\n",
    "    device = torch.device('cuda' if torch.cuda.is_available() else 'cpu')\n",
    "    model = GCN().to(device)\n",
    "    data = Data(edge_index=conns[0], train_mask=idx_tr, val_mask=idx_va, x=torch.Tensor(X), y=torch.Tensor(Y),num_classes=140, num_node_features = 159)\n",
    "    data = data.to(device)\n",
    "    \n",
    "    optimizer = torch.optim.Adam(model.parameters(), lr=0.01, weight_decay=5e-4)\n",
    "    model.train()\n",
    "    for epoch in range(100):\n",
    "        optimizer.zero_grad()\n",
    "        out = model(batch)\n",
    "        loss = negative_correlation_loss_torch(out[data.train_mask], data.y[data.train_mask])\n",
    "        loss.backward()\n",
    "        optimizer.step()\n",
    "    model.eval()\n",
    "    pred = model(data)\n",
    "    corr = -negative_correlation_loss_torch(pred[data.val_mask], data.y[data.val_mask])\n",
    "    print(f'Correlation: {corr:.4f}')"
   ]
  },
  {
   "cell_type": "code",
   "execution_count": 61,
   "id": "f786b76c-6b28-45a5-ad29-834448b1b25d",
   "metadata": {
    "execution": {
     "iopub.execute_input": "2022-10-26T23:51:05.447318Z",
     "iopub.status.busy": "2022-10-26T23:51:05.446908Z",
     "iopub.status.idle": "2022-10-26T23:51:05.450245Z",
     "shell.execute_reply": "2022-10-26T23:51:05.449693Z",
     "shell.execute_reply.started": "2022-10-26T23:51:05.447279Z"
    }
   },
   "outputs": [],
   "source": [
    "import torch_sparse"
   ]
  },
  {
   "cell_type": "code",
   "execution_count": 79,
   "id": "93951359-4396-49bf-8e78-13b1a9451d18",
   "metadata": {
    "execution": {
     "iopub.execute_input": "2022-10-26T23:57:24.899830Z",
     "iopub.status.busy": "2022-10-26T23:57:24.899460Z",
     "iopub.status.idle": "2022-10-26T23:57:25.026677Z",
     "shell.execute_reply": "2022-10-26T23:57:25.025984Z",
     "shell.execute_reply.started": "2022-10-26T23:57:24.899808Z"
    },
    "tags": []
   },
   "outputs": [],
   "source": [
    "values = graph.connectivities.tocoo().data\n",
    "indices = np.vstack((graph.connectivities.tocoo().row, graph.connectivities.tocoo().col))\n",
    "\n",
    "i = torch.LongTensor(indices)\n",
    "v = torch.FloatTensor(values)\n",
    "shape = graph.connectivities.tocoo().shape\n",
    "\n",
    "conns = torch.sparse.FloatTensor(i, v, torch.Size(shape))"
   ]
  }
 ],
 "metadata": {
  "kernelspec": {
   "display_name": "saturn (Python 3)",
   "language": "python",
   "name": "python3"
  },
  "language_info": {
   "codemirror_mode": {
    "name": "ipython",
    "version": 3
   },
   "file_extension": ".py",
   "mimetype": "text/x-python",
   "name": "python",
   "nbconvert_exporter": "python",
   "pygments_lexer": "ipython3",
   "version": "3.9.13"
  }
 },
 "nbformat": 4,
 "nbformat_minor": 5
}
