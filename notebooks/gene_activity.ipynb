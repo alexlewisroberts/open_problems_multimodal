{
 "cells": [
  {
   "cell_type": "code",
   "execution_count": 6,
   "id": "2561a9f0-86fc-4266-bbda-26b0a63b493b",
   "metadata": {
    "execution": {
     "iopub.execute_input": "2022-11-04T00:52:33.058300Z",
     "iopub.status.busy": "2022-11-04T00:52:33.057767Z",
     "iopub.status.idle": "2022-11-04T00:52:36.835709Z",
     "shell.execute_reply": "2022-11-04T00:52:36.834569Z",
     "shell.execute_reply.started": "2022-11-04T00:52:33.058268Z"
    },
    "tags": []
   },
   "outputs": [],
   "source": [
    "%%capture\n",
    "import scipy\n",
    "import scanpy as sc\n",
    "import anndata as ad\n",
    "!pip install episcanpy\n",
    "import episcanpy\n",
    "import pandas as pd"
   ]
  },
  {
   "cell_type": "code",
   "execution_count": 3,
   "id": "0a1fc3d5-c6a4-4a5c-b264-c4cf1c4a164d",
   "metadata": {
    "execution": {
     "iopub.execute_input": "2022-11-03T16:53:52.912265Z",
     "iopub.status.busy": "2022-11-03T16:53:52.911874Z",
     "iopub.status.idle": "2022-11-03T16:54:29.804242Z",
     "shell.execute_reply": "2022-11-03T16:54:29.803634Z",
     "shell.execute_reply.started": "2022-11-03T16:53:52.912242Z"
    },
    "tags": []
   },
   "outputs": [],
   "source": [
    "import scipy\n",
    "X = scipy.sparse.load_npz(\"../../working/sparse/train_multi_inputs_values.sparse.npz\")\n",
    "# Xt = scipy.sparse.load_npz(\"../sparse/test_multi_inputs_values.sparse.npz\")\n",
    "# length = len(X)\n",
    "# both = np.hstack([X.toarray(),Xt.toarray()])\n",
    "X = X[:int(X.shape[0]/10)].toarray()"
   ]
  },
  {
   "cell_type": "code",
   "execution_count": 12,
   "id": "0d6948ff-da69-4783-92b2-32ab816f302b",
   "metadata": {
    "execution": {
     "iopub.execute_input": "2022-11-03T17:00:06.833550Z",
     "iopub.status.busy": "2022-11-03T17:00:06.833177Z",
     "iopub.status.idle": "2022-11-03T17:00:06.838055Z",
     "shell.execute_reply": "2022-11-03T17:00:06.837575Z",
     "shell.execute_reply.started": "2022-11-03T17:00:06.833527Z"
    },
    "tags": []
   },
   "outputs": [
    {
     "data": {
      "text/plain": [
       "array([[0., 0., 0., ..., 0., 0., 0.],\n",
       "       [0., 0., 0., ..., 0., 0., 0.],\n",
       "       [0., 0., 0., ..., 0., 0., 0.],\n",
       "       ...,\n",
       "       [0., 0., 0., ..., 0., 0., 0.],\n",
       "       [0., 0., 0., ..., 0., 0., 0.],\n",
       "       [0., 0., 0., ..., 0., 0., 0.]], dtype=float32)"
      ]
     },
     "execution_count": 12,
     "metadata": {},
     "output_type": "execute_result"
    }
   ],
   "source": [
    "X"
   ]
  },
  {
   "cell_type": "code",
   "execution_count": 9,
   "id": "51d479d7-987d-4304-b5eb-f194ec34d439",
   "metadata": {
    "execution": {
     "iopub.execute_input": "2022-11-03T16:56:06.301495Z",
     "iopub.status.busy": "2022-11-03T16:56:06.301128Z",
     "iopub.status.idle": "2022-11-03T16:56:06.418555Z",
     "shell.execute_reply": "2022-11-03T16:56:06.417911Z",
     "shell.execute_reply.started": "2022-11-03T16:56:06.301473Z"
    },
    "tags": []
   },
   "outputs": [],
   "source": [
    "import numpy as np\n",
    "with np.load('../../working/sparse/train_multi_inputs_idxcol.npz',allow_pickle=True) as data:\n",
    "    cell_index = data['index']\n",
    "    cell_columns = data['columns']"
   ]
  },
  {
   "cell_type": "code",
   "execution_count": 13,
   "id": "2451c2a9-942a-4c27-9adf-d3cd0c052585",
   "metadata": {
    "execution": {
     "iopub.execute_input": "2022-11-03T17:00:28.062505Z",
     "iopub.status.busy": "2022-11-03T17:00:28.062093Z",
     "iopub.status.idle": "2022-11-03T17:00:28.066208Z",
     "shell.execute_reply": "2022-11-03T17:00:28.065676Z",
     "shell.execute_reply.started": "2022-11-03T17:00:28.062483Z"
    },
    "tags": []
   },
   "outputs": [],
   "source": [
    "adata_atac = pd.DataFrame(X,index = cell_index[:int(len(cell_index)/10)], columns = cell_columns)"
   ]
  },
  {
   "cell_type": "code",
   "execution_count": 14,
   "id": "fe83b4bf-c4bd-46bd-ad81-b584e43816bd",
   "metadata": {
    "execution": {
     "iopub.execute_input": "2022-11-03T17:00:37.359278Z",
     "iopub.status.busy": "2022-11-03T17:00:37.358897Z",
     "iopub.status.idle": "2022-11-03T17:00:37.433799Z",
     "shell.execute_reply": "2022-11-03T17:00:37.433291Z",
     "shell.execute_reply.started": "2022-11-03T17:00:37.359256Z"
    }
   },
   "outputs": [
    {
     "data": {
      "text/html": [
       "<div>\n",
       "<style scoped>\n",
       "    .dataframe tbody tr th:only-of-type {\n",
       "        vertical-align: middle;\n",
       "    }\n",
       "\n",
       "    .dataframe tbody tr th {\n",
       "        vertical-align: top;\n",
       "    }\n",
       "\n",
       "    .dataframe thead th {\n",
       "        text-align: right;\n",
       "    }\n",
       "</style>\n",
       "<table border=\"1\" class=\"dataframe\">\n",
       "  <thead>\n",
       "    <tr style=\"text-align: right;\">\n",
       "      <th></th>\n",
       "      <th>GL000194.1:114519-115365</th>\n",
       "      <th>GL000194.1:55758-56597</th>\n",
       "      <th>GL000194.1:58217-58957</th>\n",
       "      <th>GL000194.1:59535-60431</th>\n",
       "      <th>GL000195.1:119766-120427</th>\n",
       "      <th>GL000195.1:120736-121603</th>\n",
       "      <th>GL000195.1:137437-138345</th>\n",
       "      <th>GL000195.1:15901-16653</th>\n",
       "      <th>GL000195.1:22357-23209</th>\n",
       "      <th>GL000195.1:23751-24619</th>\n",
       "      <th>...</th>\n",
       "      <th>chrY:7722278-7723128</th>\n",
       "      <th>chrY:7723971-7724880</th>\n",
       "      <th>chrY:7729854-7730772</th>\n",
       "      <th>chrY:7731785-7732664</th>\n",
       "      <th>chrY:7810142-7811040</th>\n",
       "      <th>chrY:7814107-7815018</th>\n",
       "      <th>chrY:7818751-7819626</th>\n",
       "      <th>chrY:7836768-7837671</th>\n",
       "      <th>chrY:7869454-7870371</th>\n",
       "      <th>chrY:7873814-7874709</th>\n",
       "    </tr>\n",
       "  </thead>\n",
       "  <tbody>\n",
       "    <tr>\n",
       "      <th>56390cf1b95e</th>\n",
       "      <td>0.0</td>\n",
       "      <td>0.0</td>\n",
       "      <td>0.0</td>\n",
       "      <td>0.0</td>\n",
       "      <td>0.0</td>\n",
       "      <td>0.0</td>\n",
       "      <td>0.0</td>\n",
       "      <td>0.0</td>\n",
       "      <td>0.0</td>\n",
       "      <td>0.0</td>\n",
       "      <td>...</td>\n",
       "      <td>0.0</td>\n",
       "      <td>0.0</td>\n",
       "      <td>0.0</td>\n",
       "      <td>0.0</td>\n",
       "      <td>0.0</td>\n",
       "      <td>4.428336</td>\n",
       "      <td>0.0</td>\n",
       "      <td>0.0</td>\n",
       "      <td>0.0</td>\n",
       "      <td>0.0</td>\n",
       "    </tr>\n",
       "    <tr>\n",
       "      <th>fc0c60183c33</th>\n",
       "      <td>0.0</td>\n",
       "      <td>0.0</td>\n",
       "      <td>0.0</td>\n",
       "      <td>0.0</td>\n",
       "      <td>0.0</td>\n",
       "      <td>0.0</td>\n",
       "      <td>0.0</td>\n",
       "      <td>0.0</td>\n",
       "      <td>0.0</td>\n",
       "      <td>0.0</td>\n",
       "      <td>...</td>\n",
       "      <td>0.0</td>\n",
       "      <td>0.0</td>\n",
       "      <td>0.0</td>\n",
       "      <td>0.0</td>\n",
       "      <td>0.0</td>\n",
       "      <td>0.000000</td>\n",
       "      <td>0.0</td>\n",
       "      <td>0.0</td>\n",
       "      <td>0.0</td>\n",
       "      <td>0.0</td>\n",
       "    </tr>\n",
       "    <tr>\n",
       "      <th>9b4a87e22ad0</th>\n",
       "      <td>0.0</td>\n",
       "      <td>0.0</td>\n",
       "      <td>0.0</td>\n",
       "      <td>0.0</td>\n",
       "      <td>0.0</td>\n",
       "      <td>0.0</td>\n",
       "      <td>0.0</td>\n",
       "      <td>0.0</td>\n",
       "      <td>0.0</td>\n",
       "      <td>0.0</td>\n",
       "      <td>...</td>\n",
       "      <td>0.0</td>\n",
       "      <td>0.0</td>\n",
       "      <td>0.0</td>\n",
       "      <td>0.0</td>\n",
       "      <td>0.0</td>\n",
       "      <td>0.000000</td>\n",
       "      <td>0.0</td>\n",
       "      <td>0.0</td>\n",
       "      <td>0.0</td>\n",
       "      <td>0.0</td>\n",
       "    </tr>\n",
       "    <tr>\n",
       "      <th>81cccad8cd81</th>\n",
       "      <td>0.0</td>\n",
       "      <td>0.0</td>\n",
       "      <td>0.0</td>\n",
       "      <td>0.0</td>\n",
       "      <td>0.0</td>\n",
       "      <td>0.0</td>\n",
       "      <td>0.0</td>\n",
       "      <td>0.0</td>\n",
       "      <td>0.0</td>\n",
       "      <td>0.0</td>\n",
       "      <td>...</td>\n",
       "      <td>0.0</td>\n",
       "      <td>0.0</td>\n",
       "      <td>0.0</td>\n",
       "      <td>0.0</td>\n",
       "      <td>0.0</td>\n",
       "      <td>0.000000</td>\n",
       "      <td>0.0</td>\n",
       "      <td>0.0</td>\n",
       "      <td>0.0</td>\n",
       "      <td>0.0</td>\n",
       "    </tr>\n",
       "    <tr>\n",
       "      <th>15cb3d85c232</th>\n",
       "      <td>0.0</td>\n",
       "      <td>0.0</td>\n",
       "      <td>0.0</td>\n",
       "      <td>0.0</td>\n",
       "      <td>0.0</td>\n",
       "      <td>0.0</td>\n",
       "      <td>0.0</td>\n",
       "      <td>0.0</td>\n",
       "      <td>0.0</td>\n",
       "      <td>0.0</td>\n",
       "      <td>...</td>\n",
       "      <td>0.0</td>\n",
       "      <td>0.0</td>\n",
       "      <td>0.0</td>\n",
       "      <td>0.0</td>\n",
       "      <td>0.0</td>\n",
       "      <td>0.000000</td>\n",
       "      <td>0.0</td>\n",
       "      <td>0.0</td>\n",
       "      <td>0.0</td>\n",
       "      <td>0.0</td>\n",
       "    </tr>\n",
       "    <tr>\n",
       "      <th>...</th>\n",
       "      <td>...</td>\n",
       "      <td>...</td>\n",
       "      <td>...</td>\n",
       "      <td>...</td>\n",
       "      <td>...</td>\n",
       "      <td>...</td>\n",
       "      <td>...</td>\n",
       "      <td>...</td>\n",
       "      <td>...</td>\n",
       "      <td>...</td>\n",
       "      <td>...</td>\n",
       "      <td>...</td>\n",
       "      <td>...</td>\n",
       "      <td>...</td>\n",
       "      <td>...</td>\n",
       "      <td>...</td>\n",
       "      <td>...</td>\n",
       "      <td>...</td>\n",
       "      <td>...</td>\n",
       "      <td>...</td>\n",
       "      <td>...</td>\n",
       "    </tr>\n",
       "    <tr>\n",
       "      <th>904279888676</th>\n",
       "      <td>0.0</td>\n",
       "      <td>0.0</td>\n",
       "      <td>0.0</td>\n",
       "      <td>0.0</td>\n",
       "      <td>0.0</td>\n",
       "      <td>0.0</td>\n",
       "      <td>0.0</td>\n",
       "      <td>0.0</td>\n",
       "      <td>0.0</td>\n",
       "      <td>0.0</td>\n",
       "      <td>...</td>\n",
       "      <td>0.0</td>\n",
       "      <td>0.0</td>\n",
       "      <td>0.0</td>\n",
       "      <td>0.0</td>\n",
       "      <td>0.0</td>\n",
       "      <td>0.000000</td>\n",
       "      <td>0.0</td>\n",
       "      <td>0.0</td>\n",
       "      <td>0.0</td>\n",
       "      <td>0.0</td>\n",
       "    </tr>\n",
       "    <tr>\n",
       "      <th>e3722232bf73</th>\n",
       "      <td>0.0</td>\n",
       "      <td>0.0</td>\n",
       "      <td>0.0</td>\n",
       "      <td>0.0</td>\n",
       "      <td>0.0</td>\n",
       "      <td>0.0</td>\n",
       "      <td>0.0</td>\n",
       "      <td>0.0</td>\n",
       "      <td>0.0</td>\n",
       "      <td>0.0</td>\n",
       "      <td>...</td>\n",
       "      <td>0.0</td>\n",
       "      <td>0.0</td>\n",
       "      <td>0.0</td>\n",
       "      <td>0.0</td>\n",
       "      <td>0.0</td>\n",
       "      <td>0.000000</td>\n",
       "      <td>0.0</td>\n",
       "      <td>0.0</td>\n",
       "      <td>0.0</td>\n",
       "      <td>0.0</td>\n",
       "    </tr>\n",
       "    <tr>\n",
       "      <th>7d1cd6e9c517</th>\n",
       "      <td>0.0</td>\n",
       "      <td>0.0</td>\n",
       "      <td>0.0</td>\n",
       "      <td>0.0</td>\n",
       "      <td>0.0</td>\n",
       "      <td>0.0</td>\n",
       "      <td>0.0</td>\n",
       "      <td>0.0</td>\n",
       "      <td>0.0</td>\n",
       "      <td>0.0</td>\n",
       "      <td>...</td>\n",
       "      <td>0.0</td>\n",
       "      <td>0.0</td>\n",
       "      <td>0.0</td>\n",
       "      <td>0.0</td>\n",
       "      <td>0.0</td>\n",
       "      <td>0.000000</td>\n",
       "      <td>0.0</td>\n",
       "      <td>0.0</td>\n",
       "      <td>0.0</td>\n",
       "      <td>0.0</td>\n",
       "    </tr>\n",
       "    <tr>\n",
       "      <th>92a9d261f089</th>\n",
       "      <td>0.0</td>\n",
       "      <td>0.0</td>\n",
       "      <td>0.0</td>\n",
       "      <td>0.0</td>\n",
       "      <td>0.0</td>\n",
       "      <td>0.0</td>\n",
       "      <td>0.0</td>\n",
       "      <td>0.0</td>\n",
       "      <td>0.0</td>\n",
       "      <td>0.0</td>\n",
       "      <td>...</td>\n",
       "      <td>0.0</td>\n",
       "      <td>0.0</td>\n",
       "      <td>0.0</td>\n",
       "      <td>0.0</td>\n",
       "      <td>0.0</td>\n",
       "      <td>0.000000</td>\n",
       "      <td>0.0</td>\n",
       "      <td>0.0</td>\n",
       "      <td>0.0</td>\n",
       "      <td>0.0</td>\n",
       "    </tr>\n",
       "    <tr>\n",
       "      <th>c68b21a13fd0</th>\n",
       "      <td>0.0</td>\n",
       "      <td>0.0</td>\n",
       "      <td>0.0</td>\n",
       "      <td>0.0</td>\n",
       "      <td>0.0</td>\n",
       "      <td>0.0</td>\n",
       "      <td>0.0</td>\n",
       "      <td>0.0</td>\n",
       "      <td>0.0</td>\n",
       "      <td>0.0</td>\n",
       "      <td>...</td>\n",
       "      <td>0.0</td>\n",
       "      <td>0.0</td>\n",
       "      <td>0.0</td>\n",
       "      <td>0.0</td>\n",
       "      <td>0.0</td>\n",
       "      <td>0.000000</td>\n",
       "      <td>0.0</td>\n",
       "      <td>0.0</td>\n",
       "      <td>0.0</td>\n",
       "      <td>0.0</td>\n",
       "    </tr>\n",
       "  </tbody>\n",
       "</table>\n",
       "<p>10594 rows × 228942 columns</p>\n",
       "</div>"
      ],
      "text/plain": [
       "              GL000194.1:114519-115365  GL000194.1:55758-56597  \\\n",
       "56390cf1b95e                       0.0                     0.0   \n",
       "fc0c60183c33                       0.0                     0.0   \n",
       "9b4a87e22ad0                       0.0                     0.0   \n",
       "81cccad8cd81                       0.0                     0.0   \n",
       "15cb3d85c232                       0.0                     0.0   \n",
       "...                                ...                     ...   \n",
       "904279888676                       0.0                     0.0   \n",
       "e3722232bf73                       0.0                     0.0   \n",
       "7d1cd6e9c517                       0.0                     0.0   \n",
       "92a9d261f089                       0.0                     0.0   \n",
       "c68b21a13fd0                       0.0                     0.0   \n",
       "\n",
       "              GL000194.1:58217-58957  GL000194.1:59535-60431  \\\n",
       "56390cf1b95e                     0.0                     0.0   \n",
       "fc0c60183c33                     0.0                     0.0   \n",
       "9b4a87e22ad0                     0.0                     0.0   \n",
       "81cccad8cd81                     0.0                     0.0   \n",
       "15cb3d85c232                     0.0                     0.0   \n",
       "...                              ...                     ...   \n",
       "904279888676                     0.0                     0.0   \n",
       "e3722232bf73                     0.0                     0.0   \n",
       "7d1cd6e9c517                     0.0                     0.0   \n",
       "92a9d261f089                     0.0                     0.0   \n",
       "c68b21a13fd0                     0.0                     0.0   \n",
       "\n",
       "              GL000195.1:119766-120427  GL000195.1:120736-121603  \\\n",
       "56390cf1b95e                       0.0                       0.0   \n",
       "fc0c60183c33                       0.0                       0.0   \n",
       "9b4a87e22ad0                       0.0                       0.0   \n",
       "81cccad8cd81                       0.0                       0.0   \n",
       "15cb3d85c232                       0.0                       0.0   \n",
       "...                                ...                       ...   \n",
       "904279888676                       0.0                       0.0   \n",
       "e3722232bf73                       0.0                       0.0   \n",
       "7d1cd6e9c517                       0.0                       0.0   \n",
       "92a9d261f089                       0.0                       0.0   \n",
       "c68b21a13fd0                       0.0                       0.0   \n",
       "\n",
       "              GL000195.1:137437-138345  GL000195.1:15901-16653  \\\n",
       "56390cf1b95e                       0.0                     0.0   \n",
       "fc0c60183c33                       0.0                     0.0   \n",
       "9b4a87e22ad0                       0.0                     0.0   \n",
       "81cccad8cd81                       0.0                     0.0   \n",
       "15cb3d85c232                       0.0                     0.0   \n",
       "...                                ...                     ...   \n",
       "904279888676                       0.0                     0.0   \n",
       "e3722232bf73                       0.0                     0.0   \n",
       "7d1cd6e9c517                       0.0                     0.0   \n",
       "92a9d261f089                       0.0                     0.0   \n",
       "c68b21a13fd0                       0.0                     0.0   \n",
       "\n",
       "              GL000195.1:22357-23209  GL000195.1:23751-24619  ...  \\\n",
       "56390cf1b95e                     0.0                     0.0  ...   \n",
       "fc0c60183c33                     0.0                     0.0  ...   \n",
       "9b4a87e22ad0                     0.0                     0.0  ...   \n",
       "81cccad8cd81                     0.0                     0.0  ...   \n",
       "15cb3d85c232                     0.0                     0.0  ...   \n",
       "...                              ...                     ...  ...   \n",
       "904279888676                     0.0                     0.0  ...   \n",
       "e3722232bf73                     0.0                     0.0  ...   \n",
       "7d1cd6e9c517                     0.0                     0.0  ...   \n",
       "92a9d261f089                     0.0                     0.0  ...   \n",
       "c68b21a13fd0                     0.0                     0.0  ...   \n",
       "\n",
       "              chrY:7722278-7723128  chrY:7723971-7724880  \\\n",
       "56390cf1b95e                   0.0                   0.0   \n",
       "fc0c60183c33                   0.0                   0.0   \n",
       "9b4a87e22ad0                   0.0                   0.0   \n",
       "81cccad8cd81                   0.0                   0.0   \n",
       "15cb3d85c232                   0.0                   0.0   \n",
       "...                            ...                   ...   \n",
       "904279888676                   0.0                   0.0   \n",
       "e3722232bf73                   0.0                   0.0   \n",
       "7d1cd6e9c517                   0.0                   0.0   \n",
       "92a9d261f089                   0.0                   0.0   \n",
       "c68b21a13fd0                   0.0                   0.0   \n",
       "\n",
       "              chrY:7729854-7730772  chrY:7731785-7732664  \\\n",
       "56390cf1b95e                   0.0                   0.0   \n",
       "fc0c60183c33                   0.0                   0.0   \n",
       "9b4a87e22ad0                   0.0                   0.0   \n",
       "81cccad8cd81                   0.0                   0.0   \n",
       "15cb3d85c232                   0.0                   0.0   \n",
       "...                            ...                   ...   \n",
       "904279888676                   0.0                   0.0   \n",
       "e3722232bf73                   0.0                   0.0   \n",
       "7d1cd6e9c517                   0.0                   0.0   \n",
       "92a9d261f089                   0.0                   0.0   \n",
       "c68b21a13fd0                   0.0                   0.0   \n",
       "\n",
       "              chrY:7810142-7811040  chrY:7814107-7815018  \\\n",
       "56390cf1b95e                   0.0              4.428336   \n",
       "fc0c60183c33                   0.0              0.000000   \n",
       "9b4a87e22ad0                   0.0              0.000000   \n",
       "81cccad8cd81                   0.0              0.000000   \n",
       "15cb3d85c232                   0.0              0.000000   \n",
       "...                            ...                   ...   \n",
       "904279888676                   0.0              0.000000   \n",
       "e3722232bf73                   0.0              0.000000   \n",
       "7d1cd6e9c517                   0.0              0.000000   \n",
       "92a9d261f089                   0.0              0.000000   \n",
       "c68b21a13fd0                   0.0              0.000000   \n",
       "\n",
       "              chrY:7818751-7819626  chrY:7836768-7837671  \\\n",
       "56390cf1b95e                   0.0                   0.0   \n",
       "fc0c60183c33                   0.0                   0.0   \n",
       "9b4a87e22ad0                   0.0                   0.0   \n",
       "81cccad8cd81                   0.0                   0.0   \n",
       "15cb3d85c232                   0.0                   0.0   \n",
       "...                            ...                   ...   \n",
       "904279888676                   0.0                   0.0   \n",
       "e3722232bf73                   0.0                   0.0   \n",
       "7d1cd6e9c517                   0.0                   0.0   \n",
       "92a9d261f089                   0.0                   0.0   \n",
       "c68b21a13fd0                   0.0                   0.0   \n",
       "\n",
       "              chrY:7869454-7870371  chrY:7873814-7874709  \n",
       "56390cf1b95e                   0.0                   0.0  \n",
       "fc0c60183c33                   0.0                   0.0  \n",
       "9b4a87e22ad0                   0.0                   0.0  \n",
       "81cccad8cd81                   0.0                   0.0  \n",
       "15cb3d85c232                   0.0                   0.0  \n",
       "...                            ...                   ...  \n",
       "904279888676                   0.0                   0.0  \n",
       "e3722232bf73                   0.0                   0.0  \n",
       "7d1cd6e9c517                   0.0                   0.0  \n",
       "92a9d261f089                   0.0                   0.0  \n",
       "c68b21a13fd0                   0.0                   0.0  \n",
       "\n",
       "[10594 rows x 228942 columns]"
      ]
     },
     "execution_count": 14,
     "metadata": {},
     "output_type": "execute_result"
    }
   ],
   "source": [
    "adata_atac"
   ]
  },
  {
   "cell_type": "code",
   "execution_count": 15,
   "id": "b1f4b8dc-479f-457e-aed8-cd8654f2c3e8",
   "metadata": {
    "execution": {
     "iopub.execute_input": "2022-11-03T17:00:57.579088Z",
     "iopub.status.busy": "2022-11-03T17:00:57.578694Z",
     "iopub.status.idle": "2022-11-03T17:00:57.733792Z",
     "shell.execute_reply": "2022-11-03T17:00:57.733187Z",
     "shell.execute_reply.started": "2022-11-03T17:00:57.579064Z"
    },
    "tags": []
   },
   "outputs": [],
   "source": [
    "adata_atac = sc.AnnData(adata_atac)\n",
    "\n",
    "# sort peaks position, required by episcanpy\n",
    "adata_atac = adata_atac[:,sorted(adata_atac.var_names)]"
   ]
  },
  {
   "cell_type": "code",
   "execution_count": 16,
   "id": "6d7773fc-c6bd-419f-b94b-96dbbb8f11f9",
   "metadata": {
    "execution": {
     "iopub.execute_input": "2022-11-03T17:01:09.944841Z",
     "iopub.status.busy": "2022-11-03T17:01:09.944478Z",
     "iopub.status.idle": "2022-11-03T17:02:39.157148Z",
     "shell.execute_reply": "2022-11-03T17:02:39.156527Z",
     "shell.execute_reply.started": "2022-11-03T17:01:09.944819Z"
    },
    "tags": []
   },
   "outputs": [],
   "source": [
    "adata_atac.var_names_make_unique()\n",
    "\n",
    "var_list = []\n",
    "for i in adata_atac.var_names:\n",
    "    new_i=i.replace('-', '_').replace(':','_')\n",
    "    var_list.append(new_i)"
   ]
  },
  {
   "cell_type": "code",
   "execution_count": 19,
   "id": "aca59b0a-c3e4-48fc-ac4a-9112ebd29e01",
   "metadata": {
    "execution": {
     "iopub.execute_input": "2022-11-03T17:03:18.846239Z",
     "iopub.status.busy": "2022-11-03T17:03:18.845839Z",
     "iopub.status.idle": "2022-11-03T17:28:51.038632Z",
     "shell.execute_reply": "2022-11-03T17:28:51.037849Z",
     "shell.execute_reply.started": "2022-11-03T17:03:18.846215Z"
    },
    "tags": []
   },
   "outputs": [
    {
     "ename": "KeyboardInterrupt",
     "evalue": "",
     "output_type": "error",
     "traceback": [
      "\u001b[0;31m---------------------------------------------------------------------------\u001b[0m",
      "\u001b[0;31mKeyboardInterrupt\u001b[0m                         Traceback (most recent call last)",
      "Input \u001b[0;32mIn [19]\u001b[0m, in \u001b[0;36m<cell line: 3>\u001b[0;34m()\u001b[0m\n\u001b[1;32m      1\u001b[0m adata_atac\u001b[38;5;241m.\u001b[39mvar_names \u001b[38;5;241m=\u001b[39m var_list \n\u001b[0;32m----> 3\u001b[0m adata_new \u001b[38;5;241m=\u001b[39m \u001b[43mepiscanpy\u001b[49m\u001b[38;5;241;43m.\u001b[39;49m\u001b[43mtl\u001b[49m\u001b[38;5;241;43m.\u001b[39;49m\u001b[43mgeneactivity\u001b[49m\u001b[43m(\u001b[49m\u001b[43madata_atac\u001b[49m\u001b[43m,\u001b[49m\u001b[43m \u001b[49m\u001b[43mgtf_file\u001b[49m\u001b[43m \u001b[49m\u001b[38;5;241;43m=\u001b[39;49m\u001b[43m \u001b[49m\u001b[38;5;124;43m\"\u001b[39;49m\u001b[38;5;124;43m../../working/gene_annot/gencode.vM31.annotation.gtf\u001b[39;49m\u001b[38;5;124;43m\"\u001b[39;49m\u001b[43m,\u001b[49m\u001b[43mannotation\u001b[49m\u001b[38;5;241;43m=\u001b[39;49m\u001b[38;5;124;43m'\u001b[39;49m\u001b[38;5;124;43mHAVANA\u001b[39;49m\u001b[38;5;124;43m'\u001b[39;49m\u001b[43m)\u001b[49m\n",
      "File \u001b[0;32m/srv/conda/envs/saturn/lib/python3.9/site-packages/episcanpy/tools/_geneactivity.py:106\u001b[0m, in \u001b[0;36mgeneactivity\u001b[0;34m(adata, gtf_file, key_added, upstream, feature_type, annotation, layer_name, raw, copy)\u001b[0m\n\u001b[1;32m    103\u001b[0m         \u001b[38;5;28;01mbreak\u001b[39;00m\n\u001b[1;32m    104\u001b[0m     \u001b[38;5;28;01melse\u001b[39;00m: \u001b[38;5;66;03m# the window is overlapping the gene. \u001b[39;00m\n\u001b[1;32m    105\u001b[0m         \u001b[38;5;66;03m# what if \u001b[39;00m\n\u001b[0;32m--> 106\u001b[0m         gene_values\u001b[38;5;241m.\u001b[39mappend(\u001b[43mraw_adata\u001b[49m\u001b[38;5;241;43m.\u001b[39;49m\u001b[43mX\u001b[49m\u001b[43m[\u001b[49m\u001b[43m:\u001b[49m\u001b[43m,\u001b[49m\u001b[43mfeature\u001b[49m\u001b[43m[\u001b[49m\u001b[38;5;241;43m2\u001b[39;49m\u001b[43m]\u001b[49m\u001b[43m]\u001b[49m\u001b[38;5;241m.\u001b[39mtodense())\n\u001b[1;32m    107\u001b[0m \u001b[38;5;28;01mif\u001b[39;00m gene_values \u001b[38;5;241m!=\u001b[39m []:\n\u001b[1;32m    108\u001b[0m     gene_activity_X\u001b[38;5;241m.\u001b[39mappend(np\u001b[38;5;241m.\u001b[39msum(gene_values, axis\u001b[38;5;241m=\u001b[39m\u001b[38;5;241m0\u001b[39m))\n",
      "File \u001b[0;32m/srv/conda/envs/saturn/lib/python3.9/site-packages/scipy/sparse/_index.py:65\u001b[0m, in \u001b[0;36mIndexMixin.__getitem__\u001b[0;34m(self, key)\u001b[0m\n\u001b[1;32m     63\u001b[0m \u001b[38;5;28;01mif\u001b[39;00m \u001b[38;5;28misinstance\u001b[39m(col, INT_TYPES):\n\u001b[1;32m     64\u001b[0m     \u001b[38;5;28mself\u001b[39m\u001b[38;5;241m.\u001b[39m_raise_on_1d_array_slice()\n\u001b[0;32m---> 65\u001b[0m     \u001b[38;5;28;01mreturn\u001b[39;00m \u001b[38;5;28;43mself\u001b[39;49m\u001b[38;5;241;43m.\u001b[39;49m\u001b[43m_get_sliceXint\u001b[49m\u001b[43m(\u001b[49m\u001b[43mrow\u001b[49m\u001b[43m,\u001b[49m\u001b[43m \u001b[49m\u001b[43mcol\u001b[49m\u001b[43m)\u001b[49m\n\u001b[1;32m     66\u001b[0m \u001b[38;5;28;01melif\u001b[39;00m \u001b[38;5;28misinstance\u001b[39m(col, \u001b[38;5;28mslice\u001b[39m):\n\u001b[1;32m     67\u001b[0m     \u001b[38;5;28;01mif\u001b[39;00m row \u001b[38;5;241m==\u001b[39m \u001b[38;5;28mslice\u001b[39m(\u001b[38;5;28;01mNone\u001b[39;00m) \u001b[38;5;129;01mand\u001b[39;00m row \u001b[38;5;241m==\u001b[39m col:\n",
      "File \u001b[0;32m/srv/conda/envs/saturn/lib/python3.9/site-packages/scipy/sparse/_csr.py:317\u001b[0m, in \u001b[0;36mcsr_matrix._get_sliceXint\u001b[0;34m(self, row, col)\u001b[0m\n\u001b[1;32m    315\u001b[0m \u001b[38;5;28;01mdef\u001b[39;00m \u001b[38;5;21m_get_sliceXint\u001b[39m(\u001b[38;5;28mself\u001b[39m, row, col):\n\u001b[1;32m    316\u001b[0m     \u001b[38;5;28;01mif\u001b[39;00m row\u001b[38;5;241m.\u001b[39mstep \u001b[38;5;129;01min\u001b[39;00m (\u001b[38;5;241m1\u001b[39m, \u001b[38;5;28;01mNone\u001b[39;00m):\n\u001b[0;32m--> 317\u001b[0m         \u001b[38;5;28;01mreturn\u001b[39;00m \u001b[38;5;28;43mself\u001b[39;49m\u001b[38;5;241;43m.\u001b[39;49m\u001b[43m_get_submatrix\u001b[49m\u001b[43m(\u001b[49m\u001b[43mrow\u001b[49m\u001b[43m,\u001b[49m\u001b[43m \u001b[49m\u001b[43mcol\u001b[49m\u001b[43m,\u001b[49m\u001b[43m \u001b[49m\u001b[43mcopy\u001b[49m\u001b[38;5;241;43m=\u001b[39;49m\u001b[38;5;28;43;01mTrue\u001b[39;49;00m\u001b[43m)\u001b[49m\n\u001b[1;32m    318\u001b[0m     \u001b[38;5;28;01mreturn\u001b[39;00m \u001b[38;5;28mself\u001b[39m\u001b[38;5;241m.\u001b[39m_major_slice(row)\u001b[38;5;241m.\u001b[39m_get_submatrix(minor\u001b[38;5;241m=\u001b[39mcol)\n",
      "File \u001b[0;32m/srv/conda/envs/saturn/lib/python3.9/site-packages/scipy/sparse/_compressed.py:810\u001b[0m, in \u001b[0;36m_cs_matrix._get_submatrix\u001b[0;34m(self, major, minor, copy)\u001b[0m\n\u001b[1;32m    807\u001b[0m \u001b[38;5;28;01mif\u001b[39;00m i0 \u001b[38;5;241m==\u001b[39m \u001b[38;5;241m0\u001b[39m \u001b[38;5;129;01mand\u001b[39;00m j0 \u001b[38;5;241m==\u001b[39m \u001b[38;5;241m0\u001b[39m \u001b[38;5;129;01mand\u001b[39;00m i1 \u001b[38;5;241m==\u001b[39m M \u001b[38;5;129;01mand\u001b[39;00m j1 \u001b[38;5;241m==\u001b[39m N:\n\u001b[1;32m    808\u001b[0m     \u001b[38;5;28;01mreturn\u001b[39;00m \u001b[38;5;28mself\u001b[39m\u001b[38;5;241m.\u001b[39mcopy() \u001b[38;5;28;01mif\u001b[39;00m copy \u001b[38;5;28;01melse\u001b[39;00m \u001b[38;5;28mself\u001b[39m\n\u001b[0;32m--> 810\u001b[0m indptr, indices, data \u001b[38;5;241m=\u001b[39m \u001b[43mget_csr_submatrix\u001b[49m\u001b[43m(\u001b[49m\n\u001b[1;32m    811\u001b[0m \u001b[43m    \u001b[49m\u001b[43mM\u001b[49m\u001b[43m,\u001b[49m\u001b[43m \u001b[49m\u001b[43mN\u001b[49m\u001b[43m,\u001b[49m\u001b[43m \u001b[49m\u001b[38;5;28;43mself\u001b[39;49m\u001b[38;5;241;43m.\u001b[39;49m\u001b[43mindptr\u001b[49m\u001b[43m,\u001b[49m\u001b[43m \u001b[49m\u001b[38;5;28;43mself\u001b[39;49m\u001b[38;5;241;43m.\u001b[39;49m\u001b[43mindices\u001b[49m\u001b[43m,\u001b[49m\u001b[43m \u001b[49m\u001b[38;5;28;43mself\u001b[39;49m\u001b[38;5;241;43m.\u001b[39;49m\u001b[43mdata\u001b[49m\u001b[43m,\u001b[49m\u001b[43m \u001b[49m\u001b[43mi0\u001b[49m\u001b[43m,\u001b[49m\u001b[43m \u001b[49m\u001b[43mi1\u001b[49m\u001b[43m,\u001b[49m\u001b[43m \u001b[49m\u001b[43mj0\u001b[49m\u001b[43m,\u001b[49m\u001b[43m \u001b[49m\u001b[43mj1\u001b[49m\u001b[43m)\u001b[49m\n\u001b[1;32m    813\u001b[0m shape \u001b[38;5;241m=\u001b[39m \u001b[38;5;28mself\u001b[39m\u001b[38;5;241m.\u001b[39m_swap((i1 \u001b[38;5;241m-\u001b[39m i0, j1 \u001b[38;5;241m-\u001b[39m j0))\n\u001b[1;32m    814\u001b[0m \u001b[38;5;28;01mreturn\u001b[39;00m \u001b[38;5;28mself\u001b[39m\u001b[38;5;241m.\u001b[39m\u001b[38;5;18m__class__\u001b[39m((data, indices, indptr), shape\u001b[38;5;241m=\u001b[39mshape,\n\u001b[1;32m    815\u001b[0m                       dtype\u001b[38;5;241m=\u001b[39m\u001b[38;5;28mself\u001b[39m\u001b[38;5;241m.\u001b[39mdtype, copy\u001b[38;5;241m=\u001b[39m\u001b[38;5;28;01mFalse\u001b[39;00m)\n",
      "\u001b[0;31mKeyboardInterrupt\u001b[0m: "
     ]
    }
   ],
   "source": [
    "adata_atac.var_names = var_list \n",
    "\n",
    "adata_new = episcanpy.tl.geneactivity(adata_atac, gtf_file = \"../../working/gene_annot/gencode.vM31.annotation.gtf\",annotation='HAVANA')"
   ]
  },
  {
   "cell_type": "code",
   "execution_count": 20,
   "id": "f57e2399-e1d1-487f-ae2c-beaac9d5fd82",
   "metadata": {
    "execution": {
     "iopub.execute_input": "2022-11-03T17:29:02.981682Z",
     "iopub.status.busy": "2022-11-03T17:29:02.981306Z",
     "iopub.status.idle": "2022-11-03T17:29:02.985980Z",
     "shell.execute_reply": "2022-11-03T17:29:02.985457Z",
     "shell.execute_reply.started": "2022-11-03T17:29:02.981658Z"
    }
   },
   "outputs": [
    {
     "name": "stdout",
     "output_type": "stream",
     "text": [
      "/home/jovyan/kaggle/working/gene_annot\n"
     ]
    }
   ],
   "source": [
    "%cd ../../working/gene_annot/"
   ]
  },
  {
   "cell_type": "code",
   "execution_count": 21,
   "id": "58d37e18-07cd-4013-91f1-b32d618bac71",
   "metadata": {
    "execution": {
     "iopub.execute_input": "2022-11-03T17:29:05.252930Z",
     "iopub.status.busy": "2022-11-03T17:29:05.252554Z",
     "iopub.status.idle": "2022-11-03T17:29:12.583292Z",
     "shell.execute_reply": "2022-11-03T17:29:12.582369Z",
     "shell.execute_reply.started": "2022-11-03T17:29:05.252907Z"
    },
    "tags": []
   },
   "outputs": [],
   "source": [
    "!gzip -d gencode.v42.primary_assembly.annotation.gtf.gz"
   ]
  },
  {
   "cell_type": "code",
   "execution_count": 22,
   "id": "08ec4597-a8d2-4703-853b-f587792c5dc4",
   "metadata": {
    "execution": {
     "iopub.execute_input": "2022-11-03T17:29:17.206518Z",
     "iopub.status.busy": "2022-11-03T17:29:17.206091Z",
     "iopub.status.idle": "2022-11-03T17:29:17.211108Z",
     "shell.execute_reply": "2022-11-03T17:29:17.210554Z",
     "shell.execute_reply.started": "2022-11-03T17:29:17.206491Z"
    }
   },
   "outputs": [
    {
     "name": "stdout",
     "output_type": "stream",
     "text": [
      "/home/jovyan/kaggle/neurips_2022_notebooks/notebooks\n"
     ]
    }
   ],
   "source": [
    "%cd -"
   ]
  },
  {
   "cell_type": "code",
   "execution_count": 28,
   "id": "0c0e7257-75e0-45d8-947d-b8787c8547d8",
   "metadata": {
    "execution": {
     "iopub.execute_input": "2022-11-03T17:48:45.712855Z",
     "iopub.status.busy": "2022-11-03T17:48:45.712478Z",
     "iopub.status.idle": "2022-11-03T17:49:16.516409Z",
     "shell.execute_reply": "2022-11-03T17:49:16.515778Z",
     "shell.execute_reply.started": "2022-11-03T17:48:45.712831Z"
    }
   },
   "outputs": [],
   "source": [
    "X = scipy.sparse.load_npz(\"../../working/sparse/train_multi_inputs_values.sparse.npz\")\n",
    "with np.load('../../working/sparse/train_multi_inputs_idxcol.npz',allow_pickle=True) as data:\n",
    "    cell_index = data['index']\n",
    "    cell_columns = data['columns']\n",
    "X = X[:int(X.shape[0]/1000)].toarray()\n",
    "cell_index = cell_index[:int(len(cell_index)/1000)]\n",
    "#adata_atac = pd.DataFrame(X[start*int(len(X)/4):(start+1)*int(len(X)/4)],index = cell_index[start*int(len(cell_index)/4):(start+1)*int(len(cell_index)/4)], columns = [ch_str(x) for x in cell_columns])    \n"
   ]
  },
  {
   "cell_type": "code",
   "execution_count": 29,
   "id": "e3735d5e-0494-4a1b-afef-98a0506d292c",
   "metadata": {
    "execution": {
     "iopub.execute_input": "2022-11-03T17:50:03.571359Z",
     "iopub.status.busy": "2022-11-03T17:50:03.570974Z",
     "iopub.status.idle": "2022-11-03T17:50:03.576091Z",
     "shell.execute_reply": "2022-11-03T17:50:03.575582Z",
     "shell.execute_reply.started": "2022-11-03T17:50:03.571337Z"
    }
   },
   "outputs": [
    {
     "data": {
      "text/plain": [
       "(26, 228942)"
      ]
     },
     "execution_count": 29,
     "metadata": {},
     "output_type": "execute_result"
    }
   ],
   "source": [
    "start = 0\n",
    "X[start*int(len(X)/4):(start+1)*int(len(X)/4)].shape"
   ]
  },
  {
   "cell_type": "code",
   "execution_count": 33,
   "id": "66d98c11-ef41-4708-b277-4abdb8d80e3c",
   "metadata": {
    "execution": {
     "iopub.execute_input": "2022-11-03T17:51:05.655137Z",
     "iopub.status.busy": "2022-11-03T17:51:05.654732Z",
     "iopub.status.idle": "2022-11-03T17:51:05.774163Z",
     "shell.execute_reply": "2022-11-03T17:51:05.773637Z",
     "shell.execute_reply.started": "2022-11-03T17:51:05.655115Z"
    },
    "tags": []
   },
   "outputs": [
    {
     "data": {
      "text/plain": [
       "array(['56390cf1b95e', 'fc0c60183c33', '9b4a87e22ad0', ...,\n",
       "       '00783f28b463', 'e7abb1a0f251', '193992d571a5'], dtype=object)"
      ]
     },
     "execution_count": 33,
     "metadata": {},
     "output_type": "execute_result"
    }
   ],
   "source": [
    "with np.load('../../working/sparse/train_multi_inputs_idxcol.npz',allow_pickle=True) as data:\n",
    "    cell_index = data['index']\n",
    "    cell_columns = data['columns']\n",
    "cell_index"
   ]
  },
  {
   "cell_type": "code",
   "execution_count": 31,
   "id": "71885279-7634-4660-b9fa-daafc22b8ded",
   "metadata": {
    "execution": {
     "iopub.execute_input": "2022-11-03T17:50:43.439689Z",
     "iopub.status.busy": "2022-11-03T17:50:43.439311Z",
     "iopub.status.idle": "2022-11-03T17:50:43.443703Z",
     "shell.execute_reply": "2022-11-03T17:50:43.443200Z",
     "shell.execute_reply.started": "2022-11-03T17:50:43.439666Z"
    }
   },
   "outputs": [
    {
     "data": {
      "text/plain": [
       "0"
      ]
     },
     "execution_count": 31,
     "metadata": {},
     "output_type": "execute_result"
    }
   ],
   "source": [
    "(start+1)*int(a/4)"
   ]
  },
  {
   "cell_type": "code",
   "execution_count": 30,
   "id": "94b0c4c0-9e46-4349-a166-2292641f232d",
   "metadata": {
    "execution": {
     "iopub.execute_input": "2022-11-03T17:50:31.082763Z",
     "iopub.status.busy": "2022-11-03T17:50:31.082357Z",
     "iopub.status.idle": "2022-11-03T17:50:31.087198Z",
     "shell.execute_reply": "2022-11-03T17:50:31.086658Z",
     "shell.execute_reply.started": "2022-11-03T17:50:31.082739Z"
    }
   },
   "outputs": [
    {
     "data": {
      "text/plain": [
       "(0,)"
      ]
     },
     "execution_count": 30,
     "metadata": {},
     "output_type": "execute_result"
    }
   ],
   "source": [
    "cell_index[start*int(len(cell_index)/4):(start+1)*int(len(cell_index)/4)].shape"
   ]
  },
  {
   "cell_type": "code",
   "execution_count": 37,
   "id": "a2792abe-aa60-41d0-bee5-218813390bc0",
   "metadata": {
    "execution": {
     "iopub.execute_input": "2022-11-03T17:56:51.537798Z",
     "iopub.status.busy": "2022-11-03T17:56:51.537418Z",
     "iopub.status.idle": "2022-11-03T17:56:51.542494Z",
     "shell.execute_reply": "2022-11-03T17:56:51.542004Z",
     "shell.execute_reply.started": "2022-11-03T17:56:51.537776Z"
    }
   },
   "outputs": [
    {
     "data": {
      "text/plain": [
       "'/home/jovyan/kaggle/neurips_2022_notebooks/notebooks'"
      ]
     },
     "execution_count": 37,
     "metadata": {},
     "output_type": "execute_result"
    }
   ],
   "source": [
    "%pwd"
   ]
  },
  {
   "cell_type": "code",
   "execution_count": 53,
   "id": "13d2d392-30c9-47e7-9479-7cf481b5fc7d",
   "metadata": {
    "execution": {
     "iopub.execute_input": "2022-11-03T18:11:11.491697Z",
     "iopub.status.busy": "2022-11-03T18:11:11.491295Z",
     "iopub.status.idle": "2022-11-03T18:11:53.224429Z",
     "shell.execute_reply": "2022-11-03T18:11:53.223589Z",
     "shell.execute_reply.started": "2022-11-03T18:11:11.491675Z"
    },
    "tags": []
   },
   "outputs": [],
   "source": [
    "%%capture\n",
    "!pip install episcanpy\n",
    "!pip install -q tables\n",
    "import os\n",
    "import gc\n",
    "\n",
    "import scanpy as sc\n",
    "import anndata as ad\n",
    "import numpy as np\n",
    "import pandas as pd\n",
    "import episcanpy.api as epi\n",
    "\n",
    "from tqdm.auto import tqdm\n",
    "from multiprocessing import Pool\n",
    "\n",
    "# Train multi data contains 105942 cells\n",
    "def ch_str(x):\n",
    "    x = x.replace(':', '_')\n",
    "    x = x.replace('-', '_')\n",
    "    return x\n",
    "\n",
    "class get_geneactivity():\n",
    "    def __init__(self, state='train'):\n",
    "        self.state = state\n",
    "    def __call__(self,start):\n",
    "        adata_atac = pd.DataFrame(X[start*int(len(X)/4):(start+1)*int(len(X)/4)],index = cell_index[start*int(len(cell_index)/4):(start+1)*int(len(cell_index)/4)], columns = [ch_str(x) for x in cell_columns])    \n",
    "        atac_data = ad.AnnData(adata_atac)\n",
    "        atac_data.var_names_make_unique()\n",
    "        #atac_data = atac_data[:,sorted(atac_data.var_names)]\n",
    "        atac_data_new = epi.tl.geneactivity(atac_data,\n",
    "                              '../../working/gene_annot/gencode.v42.primary_assembly.annotation.gtf',\n",
    "                              upstream=len(atac_data.X)*2)\n",
    "        return atac_data_new\n",
    "\n",
    "X = scipy.sparse.load_npz(\"../../working/sparse/train_multi_inputs_values.sparse.npz\")\n",
    "with np.load('../../working/sparse/train_multi_inputs_idxcol.npz',allow_pickle=True) as data:\n",
    "    cell_index = data['index']\n",
    "    cell_columns = data['columns']\n",
    "X = X[:int(X.shape[0]/10)].toarray()\n",
    "cell_index = cell_index[:int(len(cell_index)/10)]"
   ]
  },
  {
   "cell_type": "code",
   "execution_count": 54,
   "id": "7b5de62e-1914-4de4-8894-826b197de6b1",
   "metadata": {
    "execution": {
     "iopub.execute_input": "2022-11-03T18:13:22.111015Z",
     "iopub.status.busy": "2022-11-03T18:13:22.110608Z",
     "iopub.status.idle": "2022-11-03T18:56:14.379048Z",
     "shell.execute_reply": "2022-11-03T18:56:14.378396Z",
     "shell.execute_reply.started": "2022-11-03T18:13:22.110990Z"
    }
   },
   "outputs": [
    {
     "name": "stderr",
     "output_type": "stream",
     "text": [
      " UserWarning:/srv/conda/envs/saturn/lib/python3.9/site-packages/anndata/_core/anndata.py:1830: Variable names are not unique. To make them unique, call `.var_names_make_unique`.\n",
      " UserWarning:/srv/conda/envs/saturn/lib/python3.9/site-packages/anndata/_core/anndata.py:1830: Variable names are not unique. To make them unique, call `.var_names_make_unique`.\n",
      " UserWarning:/srv/conda/envs/saturn/lib/python3.9/site-packages/anndata/_core/anndata.py:1830: Variable names are not unique. To make them unique, call `.var_names_make_unique`.\n",
      " UserWarning:/srv/conda/envs/saturn/lib/python3.9/site-packages/anndata/_core/anndata.py:1830: Variable names are not unique. To make them unique, call `.var_names_make_unique`.\n"
     ]
    }
   ],
   "source": [
    "n_iter = 4\n",
    "func = get_geneactivity('train')\n",
    "with Pool(processes=4) as pool:\n",
    "    r = pool.map(func, range(n_iter))\n",
    "X = np.concatenate([i.X for i in r],axis=0)"
   ]
  },
  {
   "cell_type": "code",
   "execution_count": 69,
   "id": "b880b950-eb33-46a8-b417-c441779a9dae",
   "metadata": {
    "execution": {
     "iopub.execute_input": "2022-11-03T19:07:58.171585Z",
     "iopub.status.busy": "2022-11-03T19:07:58.171219Z",
     "iopub.status.idle": "2022-11-03T19:07:58.179423Z",
     "shell.execute_reply": "2022-11-03T19:07:58.178899Z",
     "shell.execute_reply.started": "2022-11-03T19:07:58.171561Z"
    },
    "tags": []
   },
   "outputs": [],
   "source": [
    "columns = [x.split('.')[0] for x in r[0].var['gene_id']]"
   ]
  },
  {
   "cell_type": "code",
   "execution_count": 67,
   "id": "fef4ee22-0e02-41d2-b508-17b6d1d00b66",
   "metadata": {
    "execution": {
     "iopub.execute_input": "2022-11-03T19:06:11.626400Z",
     "iopub.status.busy": "2022-11-03T19:06:11.626046Z",
     "iopub.status.idle": "2022-11-03T19:06:11.634499Z",
     "shell.execute_reply": "2022-11-03T19:06:11.634001Z",
     "shell.execute_reply.started": "2022-11-03T19:06:11.626375Z"
    },
    "tags": []
   },
   "outputs": [
    {
     "data": {
      "text/plain": [
       "SLC35A3            ENSG00000117620.15\n",
       "ENSG00000283761     ENSG00000283761.1\n",
       "ENSG00000288826     ENSG00000288826.1\n",
       "MFSD14A            ENSG00000156875.14\n",
       "ENSG00000241073     ENSG00000241073.1\n",
       "                          ...        \n",
       "KDM5DP1             ENSG00000277438.1\n",
       "EIF1AY             ENSG00000198692.10\n",
       "TBL1YP1             ENSG00000225624.1\n",
       "RPS4Y2              ENSG00000280969.2\n",
       "ENSG00000289707     ENSG00000289707.1\n",
       "Name: gene_id, Length: 19609, dtype: object"
      ]
     },
     "execution_count": 67,
     "metadata": {},
     "output_type": "execute_result"
    }
   ],
   "source": [
    "r[0].var['gene_id'].values"
   ]
  },
  {
   "cell_type": "code",
   "execution_count": 116,
   "id": "4ac3b7fa-9dc6-4123-8d6d-df39f91d5f35",
   "metadata": {
    "execution": {
     "iopub.execute_input": "2022-11-03T20:56:25.729138Z",
     "iopub.status.busy": "2022-11-03T20:56:25.728755Z",
     "iopub.status.idle": "2022-11-03T20:56:25.733052Z",
     "shell.execute_reply": "2022-11-03T20:56:25.732554Z",
     "shell.execute_reply.started": "2022-11-03T20:56:25.729114Z"
    }
   },
   "outputs": [
    {
     "data": {
      "text/plain": [
       "'ENSG00000000003'"
      ]
     },
     "execution_count": 116,
     "metadata": {},
     "output_type": "execute_result"
    }
   ],
   "source": [
    "columns[19091]"
   ]
  },
  {
   "cell_type": "code",
   "execution_count": 63,
   "id": "fc9943da-995d-46a9-8c72-cab1c760e954",
   "metadata": {
    "execution": {
     "iopub.execute_input": "2022-11-03T19:03:50.055342Z",
     "iopub.status.busy": "2022-11-03T19:03:50.054939Z",
     "iopub.status.idle": "2022-11-03T19:03:50.061080Z",
     "shell.execute_reply": "2022-11-03T19:03:50.060431Z",
     "shell.execute_reply.started": "2022-11-03T19:03:50.055318Z"
    },
    "tags": []
   },
   "outputs": [
    {
     "data": {
      "text/plain": [
       "(10592, 19609)"
      ]
     },
     "execution_count": 63,
     "metadata": {},
     "output_type": "execute_result"
    }
   ],
   "source": [
    "X.shape"
   ]
  },
  {
   "cell_type": "code",
   "execution_count": 57,
   "id": "0c9dd9d1-4a10-473e-b53d-98b3d7acdc53",
   "metadata": {
    "execution": {
     "iopub.execute_input": "2022-11-03T18:57:47.467217Z",
     "iopub.status.busy": "2022-11-03T18:57:47.465875Z",
     "iopub.status.idle": "2022-11-03T18:57:48.044949Z",
     "shell.execute_reply": "2022-11-03T18:57:48.044219Z",
     "shell.execute_reply.started": "2022-11-03T18:57:47.467156Z"
    }
   },
   "outputs": [],
   "source": [
    "np.save(\"/kaggle/working/gene_annot/train_multi_geneactivity.npy\",X)"
   ]
  },
  {
   "cell_type": "code",
   "execution_count": 58,
   "id": "3128ce1a-5d83-454c-9281-ab2acb3e0286",
   "metadata": {
    "execution": {
     "iopub.execute_input": "2022-11-03T18:58:00.193728Z",
     "iopub.status.busy": "2022-11-03T18:58:00.193263Z",
     "iopub.status.idle": "2022-11-03T18:59:27.141136Z",
     "shell.execute_reply": "2022-11-03T18:59:27.140447Z",
     "shell.execute_reply.started": "2022-11-03T18:58:00.193706Z"
    }
   },
   "outputs": [],
   "source": [
    "np.savetxt(\"/kaggle/working/gene_annot/train_multi_geneactivity.csv\",X)"
   ]
  },
  {
   "cell_type": "code",
   "execution_count": 59,
   "id": "2bf855aa-4a2b-4749-bca4-bf0d7520b9f9",
   "metadata": {
    "execution": {
     "iopub.execute_input": "2022-11-03T19:00:58.849998Z",
     "iopub.status.busy": "2022-11-03T19:00:58.849410Z",
     "iopub.status.idle": "2022-11-03T19:00:58.853798Z",
     "shell.execute_reply": "2022-11-03T19:00:58.853162Z",
     "shell.execute_reply.started": "2022-11-03T19:00:58.849962Z"
    }
   },
   "outputs": [],
   "source": [
    "del X"
   ]
  },
  {
   "cell_type": "code",
   "execution_count": 60,
   "id": "26d8995f-46b5-4b4e-b982-926540500b14",
   "metadata": {
    "execution": {
     "iopub.execute_input": "2022-11-03T19:01:10.840181Z",
     "iopub.status.busy": "2022-11-03T19:01:10.839811Z",
     "iopub.status.idle": "2022-11-03T19:01:11.087543Z",
     "shell.execute_reply": "2022-11-03T19:01:11.086841Z",
     "shell.execute_reply.started": "2022-11-03T19:01:10.840159Z"
    }
   },
   "outputs": [],
   "source": [
    "X = np.load(\"/kaggle/working/gene_annot/train_multi_geneactivity.npy\")"
   ]
  },
  {
   "cell_type": "code",
   "execution_count": 62,
   "id": "7321cd4c-a94f-48c8-9dfe-b76340742b4b",
   "metadata": {
    "execution": {
     "iopub.execute_input": "2022-11-03T19:01:31.419330Z",
     "iopub.status.busy": "2022-11-03T19:01:31.418832Z",
     "iopub.status.idle": "2022-11-03T19:01:31.425341Z",
     "shell.execute_reply": "2022-11-03T19:01:31.424405Z",
     "shell.execute_reply.started": "2022-11-03T19:01:31.419302Z"
    }
   },
   "outputs": [
    {
     "data": {
      "text/plain": [
       "array([[0.       , 0.       , 0.       , ..., 0.       , 0.       ,\n",
       "        2.8540814],\n",
       "       [0.       , 0.       , 0.       , ..., 0.       , 4.730245 ,\n",
       "        0.       ],\n",
       "       [0.       , 0.       , 0.       , ..., 0.       , 0.       ,\n",
       "        0.       ],\n",
       "       ...,\n",
       "       [0.       , 0.       , 0.       , ..., 0.       , 0.       ,\n",
       "        0.       ],\n",
       "       [0.       , 0.       , 0.       , ..., 0.       , 0.       ,\n",
       "        2.2912753],\n",
       "       [0.       , 0.       , 0.       , ..., 0.       , 0.       ,\n",
       "        0.       ]], dtype=float32)"
      ]
     },
     "execution_count": 62,
     "metadata": {},
     "output_type": "execute_result"
    }
   ],
   "source": [
    "X"
   ]
  },
  {
   "cell_type": "code",
   "execution_count": 81,
   "id": "f32e21e8-7360-4326-85e4-fe38fc4f9fb4",
   "metadata": {
    "execution": {
     "iopub.execute_input": "2022-11-03T19:11:19.729770Z",
     "iopub.status.busy": "2022-11-03T19:11:19.729380Z",
     "iopub.status.idle": "2022-11-03T19:11:19.745002Z",
     "shell.execute_reply": "2022-11-03T19:11:19.744464Z",
     "shell.execute_reply.started": "2022-11-03T19:11:19.729747Z"
    },
    "tags": []
   },
   "outputs": [],
   "source": [
    "with np.load('/kaggle/working/sparse/train_multi_targets_idxcol.npz',allow_pickle=True) as data:\n",
    "    cell_columns = data['columns']"
   ]
  },
  {
   "cell_type": "code",
   "execution_count": 76,
   "id": "99ef3403-0160-483d-b557-d1772a35497a",
   "metadata": {
    "execution": {
     "iopub.execute_input": "2022-11-03T19:10:46.585577Z",
     "iopub.status.busy": "2022-11-03T19:10:46.585199Z",
     "iopub.status.idle": "2022-11-03T19:10:51.318496Z",
     "shell.execute_reply": "2022-11-03T19:10:51.317618Z",
     "shell.execute_reply.started": "2022-11-03T19:10:46.585551Z"
    }
   },
   "outputs": [],
   "source": [
    "%%capture\n",
    "!pip install matplotlib_venn"
   ]
  },
  {
   "cell_type": "code",
   "execution_count": 83,
   "id": "c69baa5b-7449-4f0a-b9f7-4a320944501f",
   "metadata": {
    "execution": {
     "iopub.execute_input": "2022-11-03T19:11:24.770435Z",
     "iopub.status.busy": "2022-11-03T19:11:24.770066Z",
     "iopub.status.idle": "2022-11-03T19:11:24.846606Z",
     "shell.execute_reply": "2022-11-03T19:11:24.846031Z",
     "shell.execute_reply.started": "2022-11-03T19:11:24.770414Z"
    },
    "tags": []
   },
   "outputs": [
    {
     "data": {
      "text/plain": [
       "<matplotlib_venn._common.VennDiagram at 0x7fe88f4c1b80>"
      ]
     },
     "execution_count": 83,
     "metadata": {},
     "output_type": "execute_result"
    },
    {
     "data": {
      "image/png": "[encoded data removed]",
      "text/plain": [
       "<Figure size 432x288 with 1 Axes>"
      ]
     },
     "metadata": {},
     "output_type": "display_data"
    }
   ],
   "source": [
    "from matplotlib_venn import venn2\n",
    "# check gene overlaps\n",
    "diff_a = set(columns) - set(cell_columns)\n",
    "diff_b = set(cell_columns) - set(columns)\n",
    "inter = set(cell_columns) & set(columns)\n",
    "venn2(subsets = (len(diff_a), len(diff_b), len(inter)), set_labels = ('Genes in Geneactivity', 'Genes in Targets'))"
   ]
  },
  {
   "cell_type": "code",
   "execution_count": 103,
   "id": "3be9009f-bc09-4a55-a53f-3f00e3da5a01",
   "metadata": {
    "execution": {
     "iopub.execute_input": "2022-11-03T20:37:16.360548Z",
     "iopub.status.busy": "2022-11-03T20:37:16.360164Z",
     "iopub.status.idle": "2022-11-03T20:37:26.623497Z",
     "shell.execute_reply": "2022-11-03T20:37:26.622853Z",
     "shell.execute_reply.started": "2022-11-03T20:37:16.360525Z"
    },
    "tags": []
   },
   "outputs": [],
   "source": [
    "to_keep_y = pd.Series([i for i,x in enumerate(cell_columns) if x in columns],index=[x for i,x in enumerate(cell_columns) if x in columns])"
   ]
  },
  {
   "cell_type": "code",
   "execution_count": 104,
   "id": "9a4480ab-d152-47b3-a2bb-fd9d09df51f5",
   "metadata": {
    "execution": {
     "iopub.execute_input": "2022-11-03T20:37:26.624979Z",
     "iopub.status.busy": "2022-11-03T20:37:26.624702Z",
     "iopub.status.idle": "2022-11-03T20:37:26.628866Z",
     "shell.execute_reply": "2022-11-03T20:37:26.628356Z",
     "shell.execute_reply.started": "2022-11-03T20:37:26.624959Z"
    },
    "tags": []
   },
   "outputs": [],
   "source": [
    "to_keep_y = keep_y.sort_index()"
   ]
  },
  {
   "cell_type": "code",
   "execution_count": 105,
   "id": "6363855b-d147-493b-b0d8-59c761464a93",
   "metadata": {
    "execution": {
     "iopub.execute_input": "2022-11-03T20:37:26.629991Z",
     "iopub.status.busy": "2022-11-03T20:37:26.629681Z",
     "iopub.status.idle": "2022-11-03T20:37:43.838502Z",
     "shell.execute_reply": "2022-11-03T20:37:43.837894Z",
     "shell.execute_reply.started": "2022-11-03T20:37:26.629971Z"
    },
    "tags": []
   },
   "outputs": [],
   "source": [
    "to_keep = pd.Series([i for i,x in enumerate(columns) if x in cell_columns],index=[x for i,x in enumerate(columns) if x in cell_columns])"
   ]
  },
  {
   "cell_type": "code",
   "execution_count": 106,
   "id": "53f7a1f1-2bdc-4766-b3bb-4b638871161b",
   "metadata": {
    "execution": {
     "iopub.execute_input": "2022-11-03T20:37:43.840073Z",
     "iopub.status.busy": "2022-11-03T20:37:43.839785Z",
     "iopub.status.idle": "2022-11-03T20:37:43.850349Z",
     "shell.execute_reply": "2022-11-03T20:37:43.849865Z",
     "shell.execute_reply.started": "2022-11-03T20:37:43.840054Z"
    }
   },
   "outputs": [],
   "source": [
    "to_keep = to_keep.sort_index()"
   ]
  },
  {
   "cell_type": "code",
   "execution_count": 109,
   "id": "ed1a2c4b-4233-4e96-91e0-f23effe3c264",
   "metadata": {
    "execution": {
     "iopub.execute_input": "2022-11-03T20:37:54.077772Z",
     "iopub.status.busy": "2022-11-03T20:37:54.077405Z",
     "iopub.status.idle": "2022-11-03T20:37:54.084073Z",
     "shell.execute_reply": "2022-11-03T20:37:54.083557Z",
     "shell.execute_reply.started": "2022-11-03T20:37:54.077749Z"
    },
    "tags": []
   },
   "outputs": [
    {
     "data": {
      "text/plain": [
       "ENSG00000000003    21664\n",
       "ENSG00000000419     9634\n",
       "ENSG00000000457    18887\n",
       "ENSG00000000460     7297\n",
       "ENSG00000000971     8281\n",
       "                   ...  \n",
       "ENSG00000288107     5703\n",
       "ENSG00000288111     3600\n",
       "ENSG00000288234     7146\n",
       "ENSG00000288253     1056\n",
       "ENSG00000288302     4660\n",
       "Length: 11002, dtype: int64"
      ]
     },
     "execution_count": 109,
     "metadata": {},
     "output_type": "execute_result"
    }
   ],
   "source": [
    "to_keep_y"
   ]
  },
  {
   "cell_type": "code",
   "execution_count": 110,
   "id": "115cc6d9-7126-490d-bb8a-bbbb8627a6b3",
   "metadata": {
    "execution": {
     "iopub.execute_input": "2022-11-03T20:37:58.916156Z",
     "iopub.status.busy": "2022-11-03T20:37:58.915782Z",
     "iopub.status.idle": "2022-11-03T20:37:58.922392Z",
     "shell.execute_reply": "2022-11-03T20:37:58.921876Z",
     "shell.execute_reply.started": "2022-11-03T20:37:58.916133Z"
    }
   },
   "outputs": [
    {
     "data": {
      "text/plain": [
       "ENSG00000000003    19091\n",
       "ENSG00000000419    17428\n",
       "ENSG00000000457     1042\n",
       "ENSG00000000460     1037\n",
       "ENSG00000000971     1286\n",
       "                   ...  \n",
       "ENSG00000288107     9458\n",
       "ENSG00000288111     3972\n",
       "ENSG00000288234     9031\n",
       "ENSG00000288253    16476\n",
       "ENSG00000288302    10740\n",
       "Length: 11002, dtype: int64"
      ]
     },
     "execution_count": 110,
     "metadata": {},
     "output_type": "execute_result"
    }
   ],
   "source": [
    "to_keep"
   ]
  },
  {
   "cell_type": "code",
   "execution_count": 111,
   "id": "93f807df-e092-4173-8bc5-a521d8a33bca",
   "metadata": {
    "execution": {
     "iopub.execute_input": "2022-11-03T20:38:27.651527Z",
     "iopub.status.busy": "2022-11-03T20:38:27.651125Z",
     "iopub.status.idle": "2022-11-03T20:38:27.654555Z",
     "shell.execute_reply": "2022-11-03T20:38:27.654036Z",
     "shell.execute_reply.started": "2022-11-03T20:38:27.651484Z"
    }
   },
   "outputs": [],
   "source": [
    "to_keep = to_keep.values\n",
    "to_keep_y = to_keep_y.values"
   ]
  },
  {
   "cell_type": "code",
   "execution_count": 112,
   "id": "5b7638c7-6bcb-4bf4-8604-35272ec64909",
   "metadata": {
    "execution": {
     "iopub.execute_input": "2022-11-03T20:38:33.186231Z",
     "iopub.status.busy": "2022-11-03T20:38:33.185866Z",
     "iopub.status.idle": "2022-11-03T20:38:33.189583Z",
     "shell.execute_reply": "2022-11-03T20:38:33.189074Z",
     "shell.execute_reply.started": "2022-11-03T20:38:33.186209Z"
    },
    "tags": []
   },
   "outputs": [],
   "source": [
    "np.save('/kaggle/working/gene_annot/to_keep.npy',to_keep)"
   ]
  },
  {
   "cell_type": "code",
   "execution_count": 113,
   "id": "fc980648-8024-47f5-924a-7b89fd484585",
   "metadata": {
    "execution": {
     "iopub.execute_input": "2022-11-03T20:38:34.394536Z",
     "iopub.status.busy": "2022-11-03T20:38:34.394168Z",
     "iopub.status.idle": "2022-11-03T20:38:34.493188Z",
     "shell.execute_reply": "2022-11-03T20:38:34.492602Z",
     "shell.execute_reply.started": "2022-11-03T20:38:34.394513Z"
    },
    "tags": []
   },
   "outputs": [],
   "source": [
    "np.save('/kaggle/working/gene_annot/to_keep_y.npy',to_keep_y)"
   ]
  },
  {
   "cell_type": "code",
   "execution_count": null,
   "id": "e74ce071-25a8-4bba-803a-daa8198c52e8",
   "metadata": {},
   "outputs": [],
   "source": [
    "from scipy.sparse import csr_array\n",
    "csr_array(X)"
   ]
  },
  {
   "cell_type": "code",
   "execution_count": 46,
   "id": "30c93dd3-5055-407b-81e7-a9fc312c9bf7",
   "metadata": {
    "execution": {
     "iopub.execute_input": "2022-11-03T18:08:52.997566Z",
     "iopub.status.busy": "2022-11-03T18:08:52.997195Z",
     "iopub.status.idle": "2022-11-03T18:08:53.001749Z",
     "shell.execute_reply": "2022-11-03T18:08:53.001263Z",
     "shell.execute_reply.started": "2022-11-03T18:08:52.997543Z"
    },
    "tags": []
   },
   "outputs": [
    {
     "data": {
      "text/plain": [
       "(264, 17052)"
      ]
     },
     "execution_count": 46,
     "metadata": {},
     "output_type": "execute_result"
    }
   ],
   "source": [
    "r[0].X.shape"
   ]
  },
  {
   "cell_type": "code",
   "execution_count": 49,
   "id": "8449494a-eacd-454d-8756-55dc85497884",
   "metadata": {
    "execution": {
     "iopub.execute_input": "2022-11-03T18:10:23.308444Z",
     "iopub.status.busy": "2022-11-03T18:10:23.308064Z",
     "iopub.status.idle": "2022-11-03T18:10:23.339973Z",
     "shell.execute_reply": "2022-11-03T18:10:23.339411Z",
     "shell.execute_reply.started": "2022-11-03T18:10:23.308420Z"
    },
    "tags": []
   },
   "outputs": [],
   "source": [
    "abc = [i.X for i in r]\n",
    "abc = np.concatenate(abc,axis=0)"
   ]
  },
  {
   "cell_type": "code",
   "execution_count": 50,
   "id": "b0d551e6-f3cf-4003-ba18-395d4a837389",
   "metadata": {
    "execution": {
     "iopub.execute_input": "2022-11-03T18:10:28.840381Z",
     "iopub.status.busy": "2022-11-03T18:10:28.840004Z",
     "iopub.status.idle": "2022-11-03T18:10:28.844266Z",
     "shell.execute_reply": "2022-11-03T18:10:28.843754Z",
     "shell.execute_reply.started": "2022-11-03T18:10:28.840358Z"
    }
   },
   "outputs": [
    {
     "data": {
      "text/plain": [
       "(1056, 17052)"
      ]
     },
     "execution_count": 50,
     "metadata": {},
     "output_type": "execute_result"
    }
   ],
   "source": [
    "abc.shape"
   ]
  },
  {
   "cell_type": "code",
   "execution_count": 51,
   "id": "0a3d3a14-c4c7-4b63-bdfa-3babf77aaaec",
   "metadata": {
    "execution": {
     "iopub.execute_input": "2022-11-03T18:10:47.152234Z",
     "iopub.status.busy": "2022-11-03T18:10:47.151855Z",
     "iopub.status.idle": "2022-11-03T18:10:47.156306Z",
     "shell.execute_reply": "2022-11-03T18:10:47.155804Z",
     "shell.execute_reply.started": "2022-11-03T18:10:47.152212Z"
    }
   },
   "outputs": [
    {
     "data": {
      "text/plain": [
       "[AnnData object with n_obs × n_vars = 264 × 17052\n",
       "     var: 'gene_id', 'transcript_id', 'gene_type', 'gene_name', 'transcript_type', 'transcript_name', 'protein_id',\n",
       " AnnData object with n_obs × n_vars = 264 × 17052\n",
       "     var: 'gene_id', 'transcript_id', 'gene_type', 'gene_name', 'transcript_type', 'transcript_name', 'protein_id',\n",
       " AnnData object with n_obs × n_vars = 264 × 17052\n",
       "     var: 'gene_id', 'transcript_id', 'gene_type', 'gene_name', 'transcript_type', 'transcript_name', 'protein_id',\n",
       " AnnData object with n_obs × n_vars = 264 × 17052\n",
       "     var: 'gene_id', 'transcript_id', 'gene_type', 'gene_name', 'transcript_type', 'transcript_name', 'protein_id']"
      ]
     },
     "execution_count": 51,
     "metadata": {},
     "output_type": "execute_result"
    }
   ],
   "source": [
    "r"
   ]
  },
  {
   "cell_type": "code",
   "execution_count": 120,
   "id": "7fa41b6f-e181-4c95-9312-0d2978413091",
   "metadata": {
    "execution": {
     "iopub.execute_input": "2022-11-04T00:27:45.826237Z",
     "iopub.status.busy": "2022-11-04T00:27:45.825851Z",
     "iopub.status.idle": "2022-11-04T00:27:45.836872Z",
     "shell.execute_reply": "2022-11-04T00:27:45.836357Z",
     "shell.execute_reply.started": "2022-11-04T00:27:45.826213Z"
    },
    "tags": []
   },
   "outputs": [
    {
     "data": {
      "text/plain": [
       "cell_id\n",
       "bdd29941014f     68379\n",
       "b85bd86783f9     33366\n",
       "2a933a7a42ec     33335\n",
       "21d0e6bca448     31856\n",
       "411283bc928a    104035\n",
       "                 ...  \n",
       "4368aa6716b7     68105\n",
       "405dad6b3d44     61902\n",
       "7b422c4cc169     99653\n",
       "febd83392b96     28528\n",
       "faa9757fd683     67916\n",
       "Name: count, Length: 10000, dtype: int64"
      ]
     },
     "execution_count": 120,
     "metadata": {},
     "output_type": "execute_result"
    }
   ],
   "source": [
    "meta.loc[meta.day == 7].sample(frac=1).iloc[:10000]['count']"
   ]
  },
  {
   "cell_type": "code",
   "execution_count": 7,
   "id": "75079d7d-6667-4a6e-beb1-cadf95e9d97d",
   "metadata": {
    "execution": {
     "iopub.execute_input": "2022-11-04T00:52:50.862762Z",
     "iopub.status.busy": "2022-11-04T00:52:50.862171Z",
     "iopub.status.idle": "2022-11-04T00:53:50.645526Z",
     "shell.execute_reply": "2022-11-04T00:53:50.644624Z",
     "shell.execute_reply.started": "2022-11-04T00:52:50.862698Z"
    },
    "tags": []
   },
   "outputs": [],
   "source": [
    "%%capture\n",
    "!pip install episcanpy\n",
    "!pip install -q tables\n",
    "import os\n",
    "import gc\n",
    "\n",
    "import scanpy as sc\n",
    "import anndata as ad\n",
    "import numpy as np\n",
    "import pandas as pd\n",
    "import episcanpy.api as epi\n",
    "\n",
    "from tqdm.auto import tqdm\n",
    "from multiprocessing import Pool\n",
    "\n",
    "# Train multi data contains 105942 cells\n",
    "def ch_str(x):\n",
    "    x = x.replace(':', '_')\n",
    "    x = x.replace('-', '_')\n",
    "    return x\n",
    "\n",
    "class get_geneactivity():\n",
    "    def __init__(self, state='train'):\n",
    "        self.state = state\n",
    "    def __call__(self,start):\n",
    "        adata_atac = pd.DataFrame(X[start*int(len(X)/4):(start+1)*int(len(X)/4)],index = cell_index[start*int(len(cell_index)/4):(start+1)*int(len(cell_index)/4)], columns = [ch_str(x) for x in cell_columns])    \n",
    "        atac_data = ad.AnnData(adata_atac)\n",
    "        atac_data.var_names_make_unique()\n",
    "        #atac_data = atac_data[:,sorted(atac_data.var_names)]\n",
    "        atac_data_new = epi.tl.geneactivity(atac_data,\n",
    "                              '../../working/gene_annot/gencode.v42.primary_assembly.annotation.gtf',\n",
    "                              upstream=len(atac_data.X)*2)\n",
    "        return atac_data_new\n",
    "\n",
    "X = scipy.sparse.load_npz(\"../../working/sparse/train_multi_inputs_values.sparse.npz\")\n",
    "with np.load('../../working/sparse/train_multi_inputs_idxcol.npz',allow_pickle=True) as data:\n",
    "    cell_index = data['index']\n",
    "    cell_columns = data['columns']\n",
    "metadata_df = pd.read_csv('../../input/open-problems-multimodal/metadata.csv', index_col='cell_id')\n",
    "metadata_df = metadata_df[metadata_df.technology==\"multiome\"]\n",
    "meta = metadata_df.reindex(cell_index)\n",
    "meta['count'] = range(len(meta))\n",
    "indices = meta.loc[meta.day == 7].sample(frac=1).iloc[:10000]['count'].values\n",
    "X = X[indices]\n",
    "X = X.toarray()\n",
    "cell_index = cell_index[indices]"
   ]
  },
  {
   "cell_type": "code",
   "execution_count": 8,
   "id": "02b70b39-7c27-4b61-87f3-79920c66c66c",
   "metadata": {
    "execution": {
     "iopub.execute_input": "2022-11-04T00:53:50.648320Z",
     "iopub.status.busy": "2022-11-04T00:53:50.647352Z",
     "iopub.status.idle": "2022-11-04T01:47:38.417305Z",
     "shell.execute_reply": "2022-11-04T01:47:38.416638Z",
     "shell.execute_reply.started": "2022-11-04T00:53:50.648281Z"
    },
    "tags": []
   },
   "outputs": [
    {
     "name": "stderr",
     "output_type": "stream",
     "text": [
      " UserWarning:/srv/conda/envs/saturn/lib/python3.9/site-packages/anndata/_core/anndata.py:1830: Variable names are not unique. To make them unique, call `.var_names_make_unique`.\n",
      " UserWarning:/srv/conda/envs/saturn/lib/python3.9/site-packages/anndata/_core/anndata.py:1830: Variable names are not unique. To make them unique, call `.var_names_make_unique`.\n",
      " UserWarning:/srv/conda/envs/saturn/lib/python3.9/site-packages/anndata/_core/anndata.py:1830: Variable names are not unique. To make them unique, call `.var_names_make_unique`.\n",
      " UserWarning:/srv/conda/envs/saturn/lib/python3.9/site-packages/anndata/_core/anndata.py:1830: Variable names are not unique. To make them unique, call `.var_names_make_unique`.\n"
     ]
    }
   ],
   "source": [
    "n_iter = 4\n",
    "func = get_geneactivity('train')\n",
    "with Pool(processes=4) as pool:\n",
    "    r = pool.map(func, range(n_iter))\n",
    "X = np.concatenate([i.X for i in r],axis=0)"
   ]
  },
  {
   "cell_type": "code",
   "execution_count": 9,
   "id": "fd63fe4a-9ffc-4826-8818-a701f075c3e8",
   "metadata": {
    "execution": {
     "iopub.execute_input": "2022-11-04T01:47:38.418526Z",
     "iopub.status.busy": "2022-11-04T01:47:38.418222Z",
     "iopub.status.idle": "2022-11-04T01:47:38.848251Z",
     "shell.execute_reply": "2022-11-04T01:47:38.847626Z",
     "shell.execute_reply.started": "2022-11-04T01:47:38.418502Z"
    },
    "tags": []
   },
   "outputs": [],
   "source": [
    "np.save(\"/kaggle/working/gene_annot/train_multi_geneactivity_day_7.npy\",X)"
   ]
  }
 ],
 "metadata": {
  "kernelspec": {
   "display_name": "saturn (Python 3)",
   "language": "python",
   "name": "python3"
  },
  "language_info": {
   "codemirror_mode": {
    "name": "ipython",
    "version": 3
   },
   "file_extension": ".py",
   "mimetype": "text/x-python",
   "name": "python",
   "nbconvert_exporter": "python",
   "pygments_lexer": "ipython3",
   "version": "3.9.13"
  }
 },
 "nbformat": 4,
 "nbformat_minor": 5
}
