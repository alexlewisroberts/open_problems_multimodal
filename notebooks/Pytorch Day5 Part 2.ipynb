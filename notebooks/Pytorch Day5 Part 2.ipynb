{
 "cells": [
  {
   "cell_type": "code",
   "execution_count": null,
   "id": "91a48bc0-910a-41ae-9733-815362535af2",
   "metadata": {},
   "outputs": [],
   "source": [
    "!kaggle datasets download fabiencrom/multimodal-single-cell-as-sparse-matrix"
   ]
  },
  {
   "cell_type": "code",
   "execution_count": 9,
   "id": "dc38c366-73e1-469f-ab53-a3504b62dc3e",
   "metadata": {
    "execution": {
     "iopub.execute_input": "2022-10-12T04:22:48.897810Z",
     "iopub.status.busy": "2022-10-12T04:22:48.897424Z",
     "iopub.status.idle": "2022-10-12T04:24:43.303771Z",
     "shell.execute_reply": "2022-10-12T04:24:43.303056Z",
     "shell.execute_reply.started": "2022-10-12T04:22:48.897783Z"
    },
    "tags": []
   },
   "outputs": [
    {
     "name": "stdout",
     "output_type": "stream",
     "text": [
      "Archive:  multimodal-single-cell-as-sparse-matrix.zip\n",
      "  inflating: ./sparse/evaluation.parquet  \n",
      "  inflating: ./sparse/metadata.parquet  \n",
      "  inflating: ./sparse/sample_submission.parquet  \n",
      "  inflating: ./sparse/test_cite_inputs_idxcol.npz  \n",
      "  inflating: ./sparse/test_cite_inputs_values.sparse.npz  \n",
      "  inflating: ./sparse/test_multi_inputs_idxcol.npz  \n",
      "  inflating: ./sparse/test_multi_inputs_values.sparse.npz  \n",
      "  inflating: ./sparse/train_cite_inputs_idxcol.npz  \n",
      "  inflating: ./sparse/train_cite_inputs_values.sparse.npz  \n",
      "  inflating: ./sparse/train_cite_targets_idxcol.npz  \n",
      "  inflating: ./sparse/train_cite_targets_values.sparse.npz  \n",
      "  inflating: ./sparse/train_multi_inputs_idxcol.npz  \n",
      "  inflating: ./sparse/train_multi_inputs_values.sparse.npz  \n",
      "  inflating: ./sparse/train_multi_targets_idxcol.npz  \n",
      "  inflating: ./sparse/train_multi_targets_values.sparse.npz  \n"
     ]
    }
   ],
   "source": [
    "!unzip multimodal-single-cell-as-sparse-matrix.zip -d ./sparse/"
   ]
  },
  {
   "cell_type": "code",
   "execution_count": 13,
   "id": "282eaa39-e045-4190-8162-e7ad7915bba0",
   "metadata": {
    "execution": {
     "iopub.execute_input": "2022-10-12T04:25:56.792154Z",
     "iopub.status.busy": "2022-10-12T04:25:56.791764Z",
     "iopub.status.idle": "2022-10-12T04:26:30.808930Z",
     "shell.execute_reply": "2022-10-12T04:26:30.808198Z",
     "shell.execute_reply.started": "2022-10-12T04:25:56.792128Z"
    },
    "tags": []
   },
   "outputs": [
    {
     "name": "stdout",
     "output_type": "stream",
     "text": [
      "Output file downloaded to /home/jovyan/kaggle/working/catboost/catboost_info/catboost_training.json\n",
      "Output file downloaded to /home/jovyan/kaggle/working/catboost/catboost_info/learn/events.out.tfevents\n",
      "Output file downloaded to /home/jovyan/kaggle/working/catboost/catboost_info/learn_error.tsv\n",
      "Output file downloaded to /home/jovyan/kaggle/working/catboost/catboost_info/time_left.tsv\n",
      "Output file downloaded to /home/jovyan/kaggle/working/catboost/model00.pkl\n",
      "Output file downloaded to /home/jovyan/kaggle/working/catboost/model01.pkl\n",
      "Output file downloaded to /home/jovyan/kaggle/working/catboost/model02.pkl\n",
      "Output file downloaded to /home/jovyan/kaggle/working/catboost/model03.pkl\n",
      "Output file downloaded to /home/jovyan/kaggle/working/catboost/model04.pkl\n",
      "Output file downloaded to /home/jovyan/kaggle/working/catboost/pca.pkl\n",
      "Output file downloaded to /home/jovyan/kaggle/working/catboost/pca2.pkl\n",
      "Output file downloaded to /home/jovyan/kaggle/working/catboost/preds.npy\n",
      "Output file downloaded to /home/jovyan/kaggle/working/catboost/submission.csv\n",
      "Kernel log downloaded to /home/jovyan/kaggle/working/catboost/lb-t15-msci-multiome-catboostregressor.log \n"
     ]
    }
   ],
   "source": [
    "import os\n",
    "\n",
    "os.environ['KAGGLE_USERNAME'] = 'alexroberts'\n",
    "os.environ['KAGGLE_KEY'] = 'eef5d3edec2428c7d4f14efcdb3f13ca'\n",
    "\n",
    "!kaggle kernels output xiafire/lb-t15-msci-multiome-catboostregressor"
   ]
  },
  {
   "cell_type": "code",
   "execution_count": 1,
   "id": "1e44db73-cef9-4321-8c29-dfb1b3b3690b",
   "metadata": {
    "execution": {
     "iopub.execute_input": "2022-10-12T21:31:08.914682Z",
     "iopub.status.busy": "2022-10-12T21:31:08.913960Z",
     "iopub.status.idle": "2022-10-12T21:31:44.845725Z",
     "shell.execute_reply": "2022-10-12T21:31:44.845070Z",
     "shell.execute_reply.started": "2022-10-12T21:31:08.914621Z"
    },
    "tags": []
   },
   "outputs": [
    {
     "name": "stdout",
     "output_type": "stream",
     "text": [
      "Collecting pytorch_lightning\n",
      "  Using cached pytorch_lightning-1.7.7-py3-none-any.whl (708 kB)\n",
      "Collecting pyDeprecate>=0.3.1\n",
      "  Using cached pyDeprecate-0.3.2-py3-none-any.whl (10 kB)\n",
      "Requirement already satisfied: torch>=1.9.* in /opt/saturncloud/envs/saturn/lib/python3.9/site-packages (from pytorch_lightning) (1.11.0)\n",
      "Requirement already satisfied: packaging>=17.0 in /opt/saturncloud/envs/saturn/lib/python3.9/site-packages (from pytorch_lightning) (21.3)\n",
      "Collecting tensorboard>=2.9.1\n",
      "  Using cached tensorboard-2.10.1-py3-none-any.whl (5.9 MB)\n",
      "Requirement already satisfied: tqdm>=4.57.0 in /opt/saturncloud/envs/saturn/lib/python3.9/site-packages (from pytorch_lightning) (4.64.0)\n",
      "Requirement already satisfied: numpy>=1.17.2 in /opt/saturncloud/envs/saturn/lib/python3.9/site-packages (from pytorch_lightning) (1.21.6)\n",
      "Requirement already satisfied: typing-extensions>=4.0.0 in /opt/saturncloud/envs/saturn/lib/python3.9/site-packages (from pytorch_lightning) (4.3.0)\n",
      "Requirement already satisfied: PyYAML>=5.4 in /opt/saturncloud/envs/saturn/lib/python3.9/site-packages (from pytorch_lightning) (6.0)\n",
      "Collecting torchmetrics>=0.7.0\n",
      "  Using cached torchmetrics-0.10.0-py3-none-any.whl (529 kB)\n",
      "Requirement already satisfied: fsspec[http]!=2021.06.0,>=2021.05.0 in /opt/saturncloud/envs/saturn/lib/python3.9/site-packages (from pytorch_lightning) (2022.3.0)\n",
      "Requirement already satisfied: aiohttp in /opt/saturncloud/envs/saturn/lib/python3.9/site-packages (from fsspec[http]!=2021.06.0,>=2021.05.0->pytorch_lightning) (3.8.1)\n",
      "Requirement already satisfied: requests in /opt/saturncloud/envs/saturn/lib/python3.9/site-packages (from fsspec[http]!=2021.06.0,>=2021.05.0->pytorch_lightning) (2.28.1)\n",
      "Requirement already satisfied: pyparsing!=3.0.5,>=2.0.2 in /opt/saturncloud/envs/saturn/lib/python3.9/site-packages (from packaging>=17.0->pytorch_lightning) (3.0.9)\n",
      "Requirement already satisfied: tensorboard-plugin-wit>=1.6.0 in /opt/saturncloud/envs/saturn/lib/python3.9/site-packages (from tensorboard>=2.9.1->pytorch_lightning) (1.8.1)\n",
      "Requirement already satisfied: werkzeug>=1.0.1 in /opt/saturncloud/envs/saturn/lib/python3.9/site-packages (from tensorboard>=2.9.1->pytorch_lightning) (2.2.0)\n",
      "Requirement already satisfied: markdown>=2.6.8 in /opt/saturncloud/envs/saturn/lib/python3.9/site-packages (from tensorboard>=2.9.1->pytorch_lightning) (3.4.1)\n",
      "Requirement already satisfied: setuptools>=41.0.0 in /opt/saturncloud/envs/saturn/lib/python3.9/site-packages (from tensorboard>=2.9.1->pytorch_lightning) (59.8.0)\n",
      "Requirement already satisfied: grpcio>=1.24.3 in /opt/saturncloud/envs/saturn/lib/python3.9/site-packages (from tensorboard>=2.9.1->pytorch_lightning) (1.46.3)\n",
      "Requirement already satisfied: wheel>=0.26 in /opt/saturncloud/envs/saturn/lib/python3.9/site-packages (from tensorboard>=2.9.1->pytorch_lightning) (0.37.1)\n",
      "Requirement already satisfied: absl-py>=0.4 in /opt/saturncloud/envs/saturn/lib/python3.9/site-packages (from tensorboard>=2.9.1->pytorch_lightning) (1.2.0)\n",
      "Requirement already satisfied: google-auth-oauthlib<0.5,>=0.4.1 in /opt/saturncloud/envs/saturn/lib/python3.9/site-packages (from tensorboard>=2.9.1->pytorch_lightning) (0.4.6)\n",
      "Requirement already satisfied: google-auth<3,>=1.6.3 in /opt/saturncloud/envs/saturn/lib/python3.9/site-packages (from tensorboard>=2.9.1->pytorch_lightning) (2.9.1)\n",
      "Requirement already satisfied: tensorboard-data-server<0.7.0,>=0.6.0 in /opt/saturncloud/envs/saturn/lib/python3.9/site-packages (from tensorboard>=2.9.1->pytorch_lightning) (0.6.0)\n",
      "Collecting protobuf<3.20,>=3.9.2\n",
      "  Using cached protobuf-3.19.6-cp39-cp39-manylinux_2_17_x86_64.manylinux2014_x86_64.whl (1.1 MB)\n",
      "Requirement already satisfied: rsa<5,>=3.1.4 in /opt/saturncloud/envs/saturn/lib/python3.9/site-packages (from google-auth<3,>=1.6.3->tensorboard>=2.9.1->pytorch_lightning) (4.9)\n",
      "Requirement already satisfied: cachetools<6.0,>=2.0.0 in /opt/saturncloud/envs/saturn/lib/python3.9/site-packages (from google-auth<3,>=1.6.3->tensorboard>=2.9.1->pytorch_lightning) (5.0.0)\n",
      "Requirement already satisfied: six>=1.9.0 in /opt/saturncloud/envs/saturn/lib/python3.9/site-packages (from google-auth<3,>=1.6.3->tensorboard>=2.9.1->pytorch_lightning) (1.16.0)\n",
      "Requirement already satisfied: pyasn1-modules>=0.2.1 in /opt/saturncloud/envs/saturn/lib/python3.9/site-packages (from google-auth<3,>=1.6.3->tensorboard>=2.9.1->pytorch_lightning) (0.2.7)\n",
      "Requirement already satisfied: requests-oauthlib>=0.7.0 in /opt/saturncloud/envs/saturn/lib/python3.9/site-packages (from google-auth-oauthlib<0.5,>=0.4.1->tensorboard>=2.9.1->pytorch_lightning) (1.3.1)\n",
      "Requirement already satisfied: importlib-metadata>=4.4 in /opt/saturncloud/envs/saturn/lib/python3.9/site-packages (from markdown>=2.6.8->tensorboard>=2.9.1->pytorch_lightning) (4.11.4)\n",
      "Requirement already satisfied: charset-normalizer<3,>=2 in /opt/saturncloud/envs/saturn/lib/python3.9/site-packages (from requests->fsspec[http]!=2021.06.0,>=2021.05.0->pytorch_lightning) (2.0.12)\n",
      "Requirement already satisfied: urllib3<1.27,>=1.21.1 in /opt/saturncloud/envs/saturn/lib/python3.9/site-packages (from requests->fsspec[http]!=2021.06.0,>=2021.05.0->pytorch_lightning) (1.26.11)\n",
      "Requirement already satisfied: idna<4,>=2.5 in /opt/saturncloud/envs/saturn/lib/python3.9/site-packages (from requests->fsspec[http]!=2021.06.0,>=2021.05.0->pytorch_lightning) (3.3)\n",
      "Requirement already satisfied: certifi>=2017.4.17 in /opt/saturncloud/envs/saturn/lib/python3.9/site-packages (from requests->fsspec[http]!=2021.06.0,>=2021.05.0->pytorch_lightning) (2022.6.15)\n",
      "Requirement already satisfied: MarkupSafe>=2.1.1 in /opt/saturncloud/envs/saturn/lib/python3.9/site-packages (from werkzeug>=1.0.1->tensorboard>=2.9.1->pytorch_lightning) (2.1.1)\n",
      "Requirement already satisfied: attrs>=17.3.0 in /opt/saturncloud/envs/saturn/lib/python3.9/site-packages (from aiohttp->fsspec[http]!=2021.06.0,>=2021.05.0->pytorch_lightning) (21.4.0)\n",
      "Requirement already satisfied: yarl<2.0,>=1.0 in /opt/saturncloud/envs/saturn/lib/python3.9/site-packages (from aiohttp->fsspec[http]!=2021.06.0,>=2021.05.0->pytorch_lightning) (1.7.2)\n",
      "Requirement already satisfied: async-timeout<5.0,>=4.0.0a3 in /opt/saturncloud/envs/saturn/lib/python3.9/site-packages (from aiohttp->fsspec[http]!=2021.06.0,>=2021.05.0->pytorch_lightning) (4.0.2)\n",
      "Requirement already satisfied: frozenlist>=1.1.1 in /opt/saturncloud/envs/saturn/lib/python3.9/site-packages (from aiohttp->fsspec[http]!=2021.06.0,>=2021.05.0->pytorch_lightning) (1.3.0)\n",
      "Requirement already satisfied: multidict<7.0,>=4.5 in /opt/saturncloud/envs/saturn/lib/python3.9/site-packages (from aiohttp->fsspec[http]!=2021.06.0,>=2021.05.0->pytorch_lightning) (6.0.2)\n",
      "Requirement already satisfied: aiosignal>=1.1.2 in /opt/saturncloud/envs/saturn/lib/python3.9/site-packages (from aiohttp->fsspec[http]!=2021.06.0,>=2021.05.0->pytorch_lightning) (1.2.0)\n",
      "Requirement already satisfied: zipp>=0.5 in /opt/saturncloud/envs/saturn/lib/python3.9/site-packages (from importlib-metadata>=4.4->markdown>=2.6.8->tensorboard>=2.9.1->pytorch_lightning) (3.8.0)\n",
      "Requirement already satisfied: pyasn1<0.5.0,>=0.4.6 in /opt/saturncloud/envs/saturn/lib/python3.9/site-packages (from pyasn1-modules>=0.2.1->google-auth<3,>=1.6.3->tensorboard>=2.9.1->pytorch_lightning) (0.4.8)\n",
      "Requirement already satisfied: oauthlib>=3.0.0 in /opt/saturncloud/envs/saturn/lib/python3.9/site-packages (from requests-oauthlib>=0.7.0->google-auth-oauthlib<0.5,>=0.4.1->tensorboard>=2.9.1->pytorch_lightning) (3.2.0)\n",
      "Installing collected packages: pyDeprecate, protobuf, torchmetrics, tensorboard, pytorch_lightning\n",
      "  Attempting uninstall: protobuf\n",
      "    Found existing installation: protobuf 3.20.1\n",
      "    Uninstalling protobuf-3.20.1:\n",
      "      Successfully uninstalled protobuf-3.20.1\n",
      "  Attempting uninstall: tensorboard\n",
      "    Found existing installation: tensorboard 2.9.0\n",
      "    Uninstalling tensorboard-2.9.0:\n",
      "      Successfully uninstalled tensorboard-2.9.0\n",
      "Successfully installed protobuf-3.19.6 pyDeprecate-0.3.2 pytorch_lightning-1.7.7 tensorboard-2.10.1 torchmetrics-0.10.0\n",
      "Requirement already satisfied: colorama in /opt/saturncloud/envs/saturn/lib/python3.9/site-packages (0.4.5)\n",
      "Collecting tensorflow\n",
      "  Using cached tensorflow-2.10.0-cp39-cp39-manylinux_2_17_x86_64.manylinux2014_x86_64.whl (578.1 MB)\n",
      "Collecting astunparse>=1.6.0\n",
      "  Using cached astunparse-1.6.3-py2.py3-none-any.whl (12 kB)\n",
      "Collecting tensorflow-estimator<2.11,>=2.10.0\n",
      "  Using cached tensorflow_estimator-2.10.0-py2.py3-none-any.whl (438 kB)\n",
      "Collecting keras<2.11,>=2.10.0\n",
      "  Using cached keras-2.10.0-py2.py3-none-any.whl (1.7 MB)\n",
      "Requirement already satisfied: protobuf<3.20,>=3.9.2 in /opt/saturncloud/envs/saturn/lib/python3.9/site-packages (from tensorflow) (3.19.6)\n",
      "Requirement already satisfied: h5py>=2.9.0 in /opt/saturncloud/envs/saturn/lib/python3.9/site-packages (from tensorflow) (3.7.0)\n",
      "Requirement already satisfied: six>=1.12.0 in /opt/saturncloud/envs/saturn/lib/python3.9/site-packages (from tensorflow) (1.16.0)\n",
      "Collecting tensorflow-io-gcs-filesystem>=0.23.1\n",
      "  Using cached tensorflow_io_gcs_filesystem-0.27.0-cp39-cp39-manylinux_2_12_x86_64.manylinux2010_x86_64.whl (2.4 MB)\n",
      "Requirement already satisfied: tensorboard<2.11,>=2.10 in /opt/saturncloud/envs/saturn/lib/python3.9/site-packages (from tensorflow) (2.10.1)\n",
      "Requirement already satisfied: typing-extensions>=3.6.6 in /opt/saturncloud/envs/saturn/lib/python3.9/site-packages (from tensorflow) (4.3.0)\n",
      "Collecting gast<=0.4.0,>=0.2.1\n",
      "  Using cached gast-0.4.0-py3-none-any.whl (9.8 kB)\n",
      "Requirement already satisfied: absl-py>=1.0.0 in /opt/saturncloud/envs/saturn/lib/python3.9/site-packages (from tensorflow) (1.2.0)\n",
      "Requirement already satisfied: numpy>=1.20 in /opt/saturncloud/envs/saturn/lib/python3.9/site-packages (from tensorflow) (1.21.6)\n",
      "Collecting libclang>=13.0.0\n",
      "  Using cached libclang-14.0.6-py2.py3-none-manylinux2010_x86_64.whl (14.1 MB)\n",
      "Collecting opt-einsum>=2.3.2\n",
      "  Using cached opt_einsum-3.3.0-py3-none-any.whl (65 kB)\n",
      "Requirement already satisfied: setuptools in /opt/saturncloud/envs/saturn/lib/python3.9/site-packages (from tensorflow) (59.8.0)\n",
      "Collecting flatbuffers>=2.0\n",
      "  Using cached flatbuffers-22.9.24-py2.py3-none-any.whl (26 kB)\n",
      "Collecting termcolor>=1.1.0\n",
      "  Using cached termcolor-2.0.1-py3-none-any.whl (5.4 kB)\n",
      "Collecting keras-preprocessing>=1.1.1\n",
      "  Using cached Keras_Preprocessing-1.1.2-py2.py3-none-any.whl (42 kB)\n",
      "Requirement already satisfied: wrapt>=1.11.0 in /opt/saturncloud/envs/saturn/lib/python3.9/site-packages (from tensorflow) (1.14.1)\n",
      "Requirement already satisfied: grpcio<2.0,>=1.24.3 in /opt/saturncloud/envs/saturn/lib/python3.9/site-packages (from tensorflow) (1.46.3)\n",
      "Collecting google-pasta>=0.1.1\n",
      "  Using cached google_pasta-0.2.0-py3-none-any.whl (57 kB)\n",
      "Requirement already satisfied: packaging in /opt/saturncloud/envs/saturn/lib/python3.9/site-packages (from tensorflow) (21.3)\n",
      "Requirement already satisfied: wheel<1.0,>=0.23.0 in /opt/saturncloud/envs/saturn/lib/python3.9/site-packages (from astunparse>=1.6.0->tensorflow) (0.37.1)\n",
      "Requirement already satisfied: markdown>=2.6.8 in /opt/saturncloud/envs/saturn/lib/python3.9/site-packages (from tensorboard<2.11,>=2.10->tensorflow) (3.4.1)\n",
      "Requirement already satisfied: tensorboard-data-server<0.7.0,>=0.6.0 in /opt/saturncloud/envs/saturn/lib/python3.9/site-packages (from tensorboard<2.11,>=2.10->tensorflow) (0.6.0)\n",
      "Requirement already satisfied: tensorboard-plugin-wit>=1.6.0 in /opt/saturncloud/envs/saturn/lib/python3.9/site-packages (from tensorboard<2.11,>=2.10->tensorflow) (1.8.1)\n",
      "Requirement already satisfied: werkzeug>=1.0.1 in /opt/saturncloud/envs/saturn/lib/python3.9/site-packages (from tensorboard<2.11,>=2.10->tensorflow) (2.2.0)\n",
      "Requirement already satisfied: google-auth-oauthlib<0.5,>=0.4.1 in /opt/saturncloud/envs/saturn/lib/python3.9/site-packages (from tensorboard<2.11,>=2.10->tensorflow) (0.4.6)\n",
      "Requirement already satisfied: google-auth<3,>=1.6.3 in /opt/saturncloud/envs/saturn/lib/python3.9/site-packages (from tensorboard<2.11,>=2.10->tensorflow) (2.9.1)\n",
      "Requirement already satisfied: requests<3,>=2.21.0 in /opt/saturncloud/envs/saturn/lib/python3.9/site-packages (from tensorboard<2.11,>=2.10->tensorflow) (2.28.1)\n",
      "Requirement already satisfied: pyparsing!=3.0.5,>=2.0.2 in /opt/saturncloud/envs/saturn/lib/python3.9/site-packages (from packaging->tensorflow) (3.0.9)\n",
      "Requirement already satisfied: pyasn1-modules>=0.2.1 in /opt/saturncloud/envs/saturn/lib/python3.9/site-packages (from google-auth<3,>=1.6.3->tensorboard<2.11,>=2.10->tensorflow) (0.2.7)\n",
      "Requirement already satisfied: rsa<5,>=3.1.4 in /opt/saturncloud/envs/saturn/lib/python3.9/site-packages (from google-auth<3,>=1.6.3->tensorboard<2.11,>=2.10->tensorflow) (4.9)\n",
      "Requirement already satisfied: cachetools<6.0,>=2.0.0 in /opt/saturncloud/envs/saturn/lib/python3.9/site-packages (from google-auth<3,>=1.6.3->tensorboard<2.11,>=2.10->tensorflow) (5.0.0)\n",
      "Requirement already satisfied: requests-oauthlib>=0.7.0 in /opt/saturncloud/envs/saturn/lib/python3.9/site-packages (from google-auth-oauthlib<0.5,>=0.4.1->tensorboard<2.11,>=2.10->tensorflow) (1.3.1)\n",
      "Requirement already satisfied: importlib-metadata>=4.4 in /opt/saturncloud/envs/saturn/lib/python3.9/site-packages (from markdown>=2.6.8->tensorboard<2.11,>=2.10->tensorflow) (4.11.4)\n",
      "Requirement already satisfied: idna<4,>=2.5 in /opt/saturncloud/envs/saturn/lib/python3.9/site-packages (from requests<3,>=2.21.0->tensorboard<2.11,>=2.10->tensorflow) (3.3)\n",
      "Requirement already satisfied: charset-normalizer<3,>=2 in /opt/saturncloud/envs/saturn/lib/python3.9/site-packages (from requests<3,>=2.21.0->tensorboard<2.11,>=2.10->tensorflow) (2.0.12)\n",
      "Requirement already satisfied: urllib3<1.27,>=1.21.1 in /opt/saturncloud/envs/saturn/lib/python3.9/site-packages (from requests<3,>=2.21.0->tensorboard<2.11,>=2.10->tensorflow) (1.26.11)\n",
      "Requirement already satisfied: certifi>=2017.4.17 in /opt/saturncloud/envs/saturn/lib/python3.9/site-packages (from requests<3,>=2.21.0->tensorboard<2.11,>=2.10->tensorflow) (2022.6.15)\n",
      "Requirement already satisfied: MarkupSafe>=2.1.1 in /opt/saturncloud/envs/saturn/lib/python3.9/site-packages (from werkzeug>=1.0.1->tensorboard<2.11,>=2.10->tensorflow) (2.1.1)\n",
      "Requirement already satisfied: zipp>=0.5 in /opt/saturncloud/envs/saturn/lib/python3.9/site-packages (from importlib-metadata>=4.4->markdown>=2.6.8->tensorboard<2.11,>=2.10->tensorflow) (3.8.0)\n",
      "Requirement already satisfied: pyasn1<0.5.0,>=0.4.6 in /opt/saturncloud/envs/saturn/lib/python3.9/site-packages (from pyasn1-modules>=0.2.1->google-auth<3,>=1.6.3->tensorboard<2.11,>=2.10->tensorflow) (0.4.8)\n",
      "Requirement already satisfied: oauthlib>=3.0.0 in /opt/saturncloud/envs/saturn/lib/python3.9/site-packages (from requests-oauthlib>=0.7.0->google-auth-oauthlib<0.5,>=0.4.1->tensorboard<2.11,>=2.10->tensorflow) (3.2.0)\n",
      "Installing collected packages: libclang, keras, flatbuffers, termcolor, tensorflow-io-gcs-filesystem, tensorflow-estimator, opt-einsum, keras-preprocessing, google-pasta, gast, astunparse, tensorflow\n",
      "Successfully installed astunparse-1.6.3 flatbuffers-22.9.24 gast-0.4.0 google-pasta-0.2.0 keras-2.10.0 keras-preprocessing-1.1.2 libclang-14.0.6 opt-einsum-3.3.0 tensorflow-2.10.0 tensorflow-estimator-2.10.0 tensorflow-io-gcs-filesystem-0.27.0 termcolor-2.0.1\n"
     ]
    },
    {
     "name": "stderr",
     "output_type": "stream",
     "text": [
      "2022-10-12 21:31:43.471583: I tensorflow/core/platform/cpu_feature_guard.cc:193] This TensorFlow binary is optimized with oneAPI Deep Neural Network Library (oneDNN) to use the following CPU instructions in performance-critical operations:  AVX2 AVX512F AVX512_VNNI FMA\n",
      "To enable them in other operations, rebuild TensorFlow with the appropriate compiler flags.\n",
      "2022-10-12 21:31:43.635249: I tensorflow/core/util/util.cc:169] oneDNN custom operations are on. You may see slightly different numerical results due to floating-point round-off errors from different computation orders. To turn them off, set the environment variable `TF_ENABLE_ONEDNN_OPTS=0`.\n",
      "2022-10-12 21:31:43.673402: E tensorflow/stream_executor/cuda/cuda_blas.cc:2981] Unable to register cuBLAS factory: Attempting to register factory for plugin cuBLAS when one has already been registered\n",
      "2022-10-12 21:31:44.278574: W tensorflow/stream_executor/platform/default/dso_loader.cc:64] Could not load dynamic library 'libnvinfer.so.7'; dlerror: libnvinfer.so.7: cannot open shared object file: No such file or directory; LD_LIBRARY_PATH: /usr/local/nvidia/lib:/usr/local/nvidia/lib64\n",
      "2022-10-12 21:31:44.278691: W tensorflow/stream_executor/platform/default/dso_loader.cc:64] Could not load dynamic library 'libnvinfer_plugin.so.7'; dlerror: libnvinfer_plugin.so.7: cannot open shared object file: No such file or directory; LD_LIBRARY_PATH: /usr/local/nvidia/lib:/usr/local/nvidia/lib64\n",
      "2022-10-12 21:31:44.278701: W tensorflow/compiler/tf2tensorrt/utils/py_utils.cc:38] TF-TRT Warning: Cannot dlopen some TensorRT libraries. If you would like to use Nvidia GPU with TensorRT, please make sure the missing libraries mentioned above are installed properly.\n"
     ]
    }
   ],
   "source": [
    "!pip install pytorch_lightning\n",
    "import pytorch_lightning as pl\n",
    "import numpy as np\n",
    "from torch.utils.data import DataLoader, TensorDataset\n",
    "import pandas as pd\n",
    "import torch\n",
    "import torch.nn as nn\n",
    "from torchmetrics import PearsonCorrCoef, MeanSquaredError\n",
    "!pip install colorama\n",
    "import os, gc, pickle, datetime, scipy.sparse\n",
    "import pandas as pd\n",
    "import matplotlib.pyplot as plt\n",
    "import numpy as np\n",
    "from colorama import Fore, Back, Style\n",
    "\n",
    "from sklearn.model_selection import GroupKFold, train_test_split\n",
    "from sklearn.preprocessing import StandardScaler, scale, MinMaxScaler\n",
    "from sklearn.decomposition import TruncatedSVD\n",
    "\n",
    "!pip install tensorflow\n",
    "import tensorflow as tf\n",
    "import tensorflow.keras.backend as K\n",
    "from tensorflow.keras.models import Model, load_model\n",
    "from tensorflow.keras.callbacks import ReduceLROnPlateau, LearningRateScheduler, EarlyStopping\n",
    "from tensorflow.keras.layers import Dense, Input, Concatenate\n",
    "from tensorflow.keras.utils import plot_model"
   ]
  },
  {
   "cell_type": "code",
   "execution_count": 2,
   "id": "3c6156ae-2d5c-42a6-b8f7-229659981d80",
   "metadata": {
    "execution": {
     "iopub.execute_input": "2022-10-12T21:31:44.847611Z",
     "iopub.status.busy": "2022-10-12T21:31:44.847062Z",
     "iopub.status.idle": "2022-10-12T21:31:44.863720Z",
     "shell.execute_reply": "2022-10-12T21:31:44.863209Z",
     "shell.execute_reply.started": "2022-10-12T21:31:44.847588Z"
    },
    "tags": []
   },
   "outputs": [],
   "source": [
    "def delete_columns_csr(mat, indices):\n",
    "    \"\"\"\n",
    "    Remove the rows denoted by ``indices`` form the CSR sparse matrix ``mat``.\n",
    "    \"\"\"\n",
    "    if not isinstance(mat, scipy.sparse.csr_matrix):\n",
    "        raise ValueError(\"works only for CSR format -- use .tocsr() first\")\n",
    "    mask = np.ones(mat.shape[1], dtype=bool)\n",
    "    mask[indices] = False\n",
    "    return mat[:,mask]\n",
    "\n",
    "def correlation_score(y_true, y_pred):\n",
    "    \"\"\"Scores the predictions according to the competition rules. \n",
    "    \n",
    "    It is assumed that the predictions are not constant.\n",
    "    \n",
    "    Returns the average of each sample's Pearson correlation coefficient\"\"\"\n",
    "    if type(y_true) == pd.DataFrame: y_true = y_true.values\n",
    "    if type(y_pred) == pd.DataFrame: y_pred = y_pred.values\n",
    "    corrsum = 0\n",
    "    for i in range(len(y_true)):\n",
    "        corrsum += np.corrcoef(y_true[i], y_pred[i])[1, 0]\n",
    "    return corrsum / len(y_true)\n",
    "\n",
    "def negative_correlation_loss(y_true, y_pred):\n",
    "    \"\"\"Negative correlation loss function for Keras\n",
    "    \n",
    "    Precondition:\n",
    "    y_true.mean(axis=1) == 0\n",
    "    y_true.std(axis=1) == 1\n",
    "    \n",
    "    Returns:\n",
    "    -1 = perfect positive correlation\n",
    "    1 = totally negative correlation\n",
    "    \"\"\"\n",
    "    my = K.mean(tf.convert_to_tensor(y_pred), axis=1)\n",
    "    my = tf.tile(tf.expand_dims(my, axis=1), (1, y_true.shape[1]))\n",
    "    ym = y_pred - my\n",
    "    r_num = K.sum(tf.multiply(y_true, ym), axis=1)\n",
    "    r_den = tf.sqrt(K.sum(K.square(ym), axis=1) * float(y_true.shape[-1]))\n",
    "    r = tf.reduce_mean(r_num / r_den)\n",
    "    return - r\n",
    "\n",
    "def negative_pearson_loss(y_true, y_pred):\n",
    "    \"\"\"Negative correlation loss function for Keras\n",
    "    \n",
    "    Precondition:\n",
    "    y_true.mean(axis=1) == 0\n",
    "    y_true.std(axis=1) == 1\n",
    "    \n",
    "    Returns:\n",
    "    -1 = perfect positive correlation\n",
    "    1 = totally negative correlation\n",
    "    \"\"\"\n",
    "\n",
    "    vx = y_pred - torch.mean(y_pred,1,keepdim=True)\n",
    "    vy = y_true - torch.mean(y_true,1,keepdim=True)\n",
    "\n",
    "    cost = torch.mean(torch.sum(vx * vy,1) / (torch.sqrt(torch.sum(vx ** 2,1)) * torch.sqrt(torch.sum(vy ** 2,1))))\n",
    "\n",
    "    return - cost\n",
    "\n",
    "def my_model(n_inputs,n_outputs, reg1, reg2):\n",
    "    \"\"\"Sequential neural network\n",
    "    \n",
    "    Returns a compiled instance of tensorflow.keras.models.Model.\n",
    "    \"\"\"\n",
    "    activation = 'swish'\n",
    "\n",
    "    \n",
    "    inputs = Input(shape=(n_inputs, ))\n",
    "    x0 = Dense(256, kernel_regularizer=tf.keras.regularizers.l2(reg1),\n",
    "              activation=activation,\n",
    "             )(inputs)\n",
    "    x1 = Dense(256, kernel_regularizer=tf.keras.regularizers.l2(reg1),\n",
    "              activation=activation,\n",
    "             )(x0)\n",
    "    x2 = Dense(256, kernel_regularizer=tf.keras.regularizers.l2(reg1),\n",
    "              activation=activation,\n",
    "             )(x1)\n",
    "    x3 = Dense(128, kernel_regularizer=tf.keras.regularizers.l2(reg1),\n",
    "              activation=activation,\n",
    "             )(x2)\n",
    "    x = Concatenate()([x0, x1, x2, x3])\n",
    "    x = Dense(n_outputs, kernel_regularizer=tf.keras.regularizers.l2(reg2),\n",
    "              #activation=activation,\n",
    "             )(x)\n",
    "    regressor = Model(inputs, x)\n",
    "    regressor.compile(optimizer=tf.keras.optimizers.Adam(learning_rate=LR_START),\n",
    "                      metrics=[negative_correlation_loss],\n",
    "                      loss=negative_correlation_loss\n",
    "                     )\n",
    "    \n",
    "    return regressor\n",
    "\n",
    "# Cross-validation\n",
    "VERBOSE = 2 # set to 2 for more output, set to 0 for less output\n",
    "EPOCHS = 1000\n",
    "N_SPLITS = 3\n",
    "\n",
    "def fit(X_train, y_train):\n",
    "  try:\n",
    "    np.random.seed(1)\n",
    "    tf.random.set_seed(1)\n",
    "\n",
    "    kf = GroupKFold(n_splits=N_SPLITS)\n",
    "    score_list = []\n",
    "    for fold, (idx_tr, idx_va) in enumerate(kf.split(X_train, groups=meta.donor)):\n",
    "        start_time = datetime.datetime.now()\n",
    "        model = None\n",
    "        gc.collect()\n",
    "        X_tr = X_train[idx_tr]\n",
    "        y_tr = y_train[idx_tr]\n",
    "        X_va = X_train[idx_va]\n",
    "        y_va = y_train[idx_va]\n",
    "\n",
    "        lr = ReduceLROnPlateau(monitor=\"val_loss\", factor=0.5, \n",
    "                              patience=4, verbose=VERBOSE)\n",
    "        es = EarlyStopping(monitor=\"val_loss\",\n",
    "                          patience=12, \n",
    "                          verbose=0,\n",
    "                          mode=\"min\", \n",
    "                          restore_best_weights=True)\n",
    "        callbacks = [lr, es, tf.keras.callbacks.TerminateOnNaN()]\n",
    "\n",
    "        # Construct and compile the model\n",
    "        model = my_model(n_inputs=X_train.shape[1],n_outputs=y_train.shape[1],reg1=reg1,reg2=reg2)\n",
    "\n",
    "        # Train the model\n",
    "        history = model.fit(X_tr, y_tr, \n",
    "                            validation_data=(X_va, y_va), \n",
    "                            epochs=EPOCHS,\n",
    "                            verbose=VERBOSE,\n",
    "                            batch_size=BATCH_SIZE,\n",
    "                            shuffle=True,\n",
    "                            callbacks=callbacks)\n",
    "        del X_tr, y_tr\n",
    "\n",
    "        # We validate the model\n",
    "        y_pred = model.predict(X_va, batch_size=X_va.shape[0])\n",
    "        corrscore = correlation_score(y_va, y_pred)\n",
    "\n",
    "        print(f\"Fold {fold}: {es.stopped_epoch:3} epochs, corr =  {corrscore:.5f}\")\n",
    "        del es, X_va#, y_va, y_va_pred\n",
    "        score_list.append(corrscore)\n",
    "\n",
    "        return model\n",
    "\n",
    "    # Show overall score\n",
    "    print(f\"{Fore.GREEN}{Style.BRIGHT}Average  corr = {np.array(score_list).mean():.5f}{Style.RESET_ALL}\")\n",
    "  finally:\n",
    "    return model"
   ]
  },
  {
   "cell_type": "code",
   "execution_count": 8,
   "id": "07acde5b-b2f8-44bb-ae90-e745e87cdfb7",
   "metadata": {
    "execution": {
     "iopub.execute_input": "2022-10-12T16:18:25.347864Z",
     "iopub.status.busy": "2022-10-12T16:18:25.347195Z",
     "iopub.status.idle": "2022-10-12T16:59:24.455771Z",
     "shell.execute_reply": "2022-10-12T16:59:24.455109Z",
     "shell.execute_reply.started": "2022-10-12T16:18:25.347833Z"
    },
    "tags": []
   },
   "outputs": [
    {
     "name": "stdout",
     "output_type": "stream",
     "text": [
      "Requirement already satisfied: umap-learn in /opt/saturncloud/envs/saturn/lib/python3.9/site-packages (0.5.3)\n",
      "Requirement already satisfied: numpy>=1.17 in /opt/saturncloud/envs/saturn/lib/python3.9/site-packages (from umap-learn) (1.21.6)\n",
      "Requirement already satisfied: pynndescent>=0.5 in /opt/saturncloud/envs/saturn/lib/python3.9/site-packages (from umap-learn) (0.5.7)\n",
      "Requirement already satisfied: scipy>=1.0 in /opt/saturncloud/envs/saturn/lib/python3.9/site-packages (from umap-learn) (1.8.1)\n",
      "Requirement already satisfied: scikit-learn>=0.22 in /opt/saturncloud/envs/saturn/lib/python3.9/site-packages (from umap-learn) (1.1.1)\n",
      "Requirement already satisfied: tqdm in /opt/saturncloud/envs/saturn/lib/python3.9/site-packages (from umap-learn) (4.64.0)\n",
      "Requirement already satisfied: numba>=0.49 in /opt/saturncloud/envs/saturn/lib/python3.9/site-packages (from umap-learn) (0.55.2)\n",
      "Requirement already satisfied: llvmlite<0.39,>=0.38.0rc1 in /opt/saturncloud/envs/saturn/lib/python3.9/site-packages (from numba>=0.49->umap-learn) (0.38.1)\n",
      "Requirement already satisfied: setuptools in /opt/saturncloud/envs/saturn/lib/python3.9/site-packages (from numba>=0.49->umap-learn) (59.8.0)\n",
      "Requirement already satisfied: joblib>=0.11 in /opt/saturncloud/envs/saturn/lib/python3.9/site-packages (from pynndescent>=0.5->umap-learn) (1.1.0)\n",
      "Requirement already satisfied: threadpoolctl>=2.0.0 in /opt/saturncloud/envs/saturn/lib/python3.9/site-packages (from scikit-learn>=0.22->umap-learn) (3.1.0)\n",
      "X shape: (70988, 21601) 1.283 GByte\n",
      "Shape of both before UMAP: (119651, 21601)\n",
      "Shape of both after UMAP:  (119651, 64)\n",
      "Reduced X shape:  (70988, 64)    0.017 GByte\n",
      "Reduced Xt shape: (48663, 64)    0.012 GByte\n",
      "Y shape: (70988, 140)   0.037 GByte\n",
      "CPU times: user 9h 59min 40s, sys: 2min 41s, total: 10h 2min 22s\n",
      "Wall time: 40min 59s\n"
     ]
    }
   ],
   "source": [
    "%%time\n",
    "\n",
    "X_train = scipy.sparse.load_npz('./sparse/train_cite_inputs_values.sparse.npz')\n",
    "#X_train = X_train.astype('float16',copy = False)\n",
    "\n",
    "to_drop = np.genfromtxt(\"./sparse/drop_ids.csv\", delimiter=',', dtype = int)\n",
    "X_train = delete_columns_csr(X_train,to_drop)\n",
    "\n",
    "print(f\"X shape: {str(X_train.shape):14} {X_train.size*4/1024/1024/1024:2.3f} GByte\")\n",
    "\n",
    "with np.load('./sparse/train_cite_inputs_idxcol.npz',allow_pickle=True) as data:\n",
    "    cell_index = data['index']\n",
    "\n",
    "metadata_df = pd.read_csv('../input/open-problems-multimodal/metadata.csv', index_col='cell_id')\n",
    "metadata_df = metadata_df[metadata_df.technology==\"citeseq\"]\n",
    "meta = metadata_df.reindex(cell_index)\n",
    "\n",
    "X_test = scipy.sparse.load_npz('./sparse/test_cite_inputs_values.sparse.npz')\n",
    "#X_test = X_test.astype('float16',copy = False)\n",
    "\n",
    "X_test = delete_columns_csr(X_test,to_drop)\n",
    "\n",
    "with np.load('./sparse/test_cite_inputs_idxcol.npz',allow_pickle=True) as data:\n",
    "    cell_index_t = data['index']\n",
    "\n",
    "meta_t = metadata_df.reindex(cell_index_t)\n",
    "\n",
    "# Apply the singular value decomposition\n",
    "both = scipy.sparse.vstack([X_train, X_test])\n",
    "assert both.shape[0] == 119651\n",
    "print(f\"Shape of both before UMAP: {both.shape}\")\n",
    "reducer = umap.UMAP(n_components = 64, random_state=1)\n",
    "both = reducer.fit_transform(both)\n",
    "print(f\"Shape of both after UMAP:  {both.shape}\")\n",
    "    \n",
    "# Hstack the svd output with the important features\n",
    "X_train_svd = both[:70988]\n",
    "X_test_svd = both[70988:]\n",
    "del both\n",
    "#X = np.hstack([X, X0])\n",
    "#Xt = np.hstack([Xt, X0t])\n",
    "print(f\"Reduced X shape:  {str(X_train_svd.shape):14} {X_train_svd.size*4/1024/1024/1024:2.3f} GByte\")\n",
    "print(f\"Reduced Xt shape: {str(X_test_svd.shape):14} {X_test_svd.size*4/1024/1024/1024:2.3f} GByte\")\n",
    "\n",
    "y_train = scipy.sparse.load_npz('./sparse/train_cite_targets_values.sparse.npz')\n",
    "#y_train = y_train.astype('float16',copy = False)\n",
    "\n",
    "# Normalize the targets row-wise: This doesn't change the correlations,\n",
    "# and negative_correlation_loss depends on it\n",
    "y_train -= y_train.mean(axis=1).reshape(-1, 1)\n",
    "y_train /= y_train.std(axis=1).reshape(-1, 1)\n",
    "    \n",
    "print(f\"Y shape: {str(y_train.shape):14} {y_train.size*4/1024/1024/1024:2.3f} GByte\")"
   ]
  },
  {
   "cell_type": "code",
   "execution_count": 5,
   "id": "00a8a868-06b2-4a4d-a850-25569010e996",
   "metadata": {
    "execution": {
     "iopub.execute_input": "2022-10-12T16:16:36.748661Z",
     "iopub.status.busy": "2022-10-12T16:16:36.748246Z",
     "iopub.status.idle": "2022-10-12T16:16:36.757136Z",
     "shell.execute_reply": "2022-10-12T16:16:36.756607Z",
     "shell.execute_reply.started": "2022-10-12T16:16:36.748636Z"
    }
   },
   "outputs": [
    {
     "data": {
      "text/plain": [
       "'/home/jovyan/kaggle/neurips_2022_notebooks/notebooks'"
      ]
     },
     "execution_count": 5,
     "metadata": {},
     "output_type": "execute_result"
    }
   ],
   "source": [
    "%pwd"
   ]
  },
  {
   "cell_type": "code",
   "execution_count": 6,
   "id": "82102134-67b0-4dd5-a374-a31a7a265108",
   "metadata": {
    "execution": {
     "iopub.execute_input": "2022-10-12T16:17:03.356140Z",
     "iopub.status.busy": "2022-10-12T16:17:03.355725Z",
     "iopub.status.idle": "2022-10-12T16:17:03.360571Z",
     "shell.execute_reply": "2022-10-12T16:17:03.360009Z",
     "shell.execute_reply.started": "2022-10-12T16:17:03.356115Z"
    }
   },
   "outputs": [
    {
     "name": "stdout",
     "output_type": "stream",
     "text": [
      "/home/jovyan/kaggle/working\n"
     ]
    }
   ],
   "source": [
    "%cd /home/jovyan/kaggle/working"
   ]
  },
  {
   "cell_type": "code",
   "execution_count": 9,
   "id": "66a56ebf-0150-4965-9322-36917c33c770",
   "metadata": {
    "execution": {
     "iopub.execute_input": "2022-10-12T16:59:24.471813Z",
     "iopub.status.busy": "2022-10-12T16:59:24.471553Z",
     "iopub.status.idle": "2022-10-12T16:59:24.474712Z",
     "shell.execute_reply": "2022-10-12T16:59:24.474210Z",
     "shell.execute_reply.started": "2022-10-12T16:59:24.471794Z"
    }
   },
   "outputs": [],
   "source": [
    "abb = 123"
   ]
  },
  {
   "cell_type": "code",
   "execution_count": 10,
   "id": "6b48db3c-a756-4696-aae7-b48917fb7efd",
   "metadata": {
    "execution": {
     "iopub.execute_input": "2022-10-12T17:03:31.153097Z",
     "iopub.status.busy": "2022-10-12T17:03:31.152705Z",
     "iopub.status.idle": "2022-10-12T17:03:31.157419Z",
     "shell.execute_reply": "2022-10-12T17:03:31.156912Z",
     "shell.execute_reply.started": "2022-10-12T17:03:31.153074Z"
    }
   },
   "outputs": [
    {
     "data": {
      "text/plain": [
       "'/home/jovyan/kaggle/working'"
      ]
     },
     "execution_count": 10,
     "metadata": {},
     "output_type": "execute_result"
    }
   ],
   "source": [
    "%pwd"
   ]
  },
  {
   "cell_type": "code",
   "execution_count": 11,
   "id": "0db1dc19-952d-43d4-b7b4-6682d488041e",
   "metadata": {
    "execution": {
     "iopub.execute_input": "2022-10-12T17:03:34.587849Z",
     "iopub.status.busy": "2022-10-12T17:03:34.587472Z",
     "iopub.status.idle": "2022-10-12T17:03:36.448232Z",
     "shell.execute_reply": "2022-10-12T17:03:36.447341Z",
     "shell.execute_reply.started": "2022-10-12T17:03:34.587826Z"
    }
   },
   "outputs": [],
   "source": [
    "%mkdir UMAP"
   ]
  },
  {
   "cell_type": "code",
   "execution_count": 12,
   "id": "fe2659d8-a63e-4cb9-b212-26a63a66a6ca",
   "metadata": {
    "execution": {
     "iopub.execute_input": "2022-10-12T17:03:43.088030Z",
     "iopub.status.busy": "2022-10-12T17:03:43.087610Z",
     "iopub.status.idle": "2022-10-12T17:03:43.095359Z",
     "shell.execute_reply": "2022-10-12T17:03:43.094823Z",
     "shell.execute_reply.started": "2022-10-12T17:03:43.088003Z"
    }
   },
   "outputs": [
    {
     "name": "stdout",
     "output_type": "stream",
     "text": [
      "/home/jovyan/kaggle/working/UMAP\n"
     ]
    }
   ],
   "source": [
    "%cd UMAP"
   ]
  },
  {
   "cell_type": "code",
   "execution_count": 13,
   "id": "7d5c3387-c103-44de-ad1e-59edfed7929b",
   "metadata": {
    "execution": {
     "iopub.execute_input": "2022-10-12T17:03:47.191981Z",
     "iopub.status.busy": "2022-10-12T17:03:47.191580Z",
     "iopub.status.idle": "2022-10-12T17:03:52.869704Z",
     "shell.execute_reply": "2022-10-12T17:03:52.869080Z",
     "shell.execute_reply.started": "2022-10-12T17:03:47.191955Z"
    }
   },
   "outputs": [],
   "source": [
    "np.savetxt(\"X_train_UMAP.csv\", X_train_svd, delimiter=\",\")\n",
    "np.savetxt(\"X_test_UMAP.csv\", X_test_svd, delimiter=\",\")"
   ]
  },
  {
   "cell_type": "code",
   "execution_count": 14,
   "id": "d3ba28a3-b568-4e27-b38c-c794530160c6",
   "metadata": {
    "execution": {
     "iopub.execute_input": "2022-10-12T17:04:54.896558Z",
     "iopub.status.busy": "2022-10-12T17:04:54.895936Z",
     "iopub.status.idle": "2022-10-12T17:06:26.205176Z",
     "shell.execute_reply": "2022-10-12T17:06:26.204529Z",
     "shell.execute_reply.started": "2022-10-12T17:04:54.896532Z"
    },
    "tags": []
   },
   "outputs": [
    {
     "name": "stdout",
     "output_type": "stream",
     "text": [
      "Epoch 1/1000\n"
     ]
    },
    {
     "name": "stderr",
     "output_type": "stream",
     "text": [
      "2022-10-12 17:04:55.361602: I tensorflow/stream_executor/cuda/cuda_gpu_executor.cc:980] successful NUMA node read from SysFS had negative value (-1), but there must be at least one NUMA node, so returning NUMA node zero\n",
      "2022-10-12 17:04:55.362525: W tensorflow/stream_executor/platform/default/dso_loader.cc:64] Could not load dynamic library 'libcudnn.so.8'; dlerror: libcudnn.so.8: cannot open shared object file: No such file or directory; LD_LIBRARY_PATH: /usr/local/nvidia/lib:/usr/local/nvidia/lib64\n",
      "2022-10-12 17:04:55.362543: W tensorflow/core/common_runtime/gpu/gpu_device.cc:1934] Cannot dlopen some GPU libraries. Please make sure the missing libraries mentioned above are installed properly if you would like to use GPU. Follow the guide at https://www.tensorflow.org/install/gpu for how to download and setup the required libraries for your platform.\n",
      "Skipping registering GPU devices...\n",
      "2022-10-12 17:04:55.362849: I tensorflow/core/platform/cpu_feature_guard.cc:193] This TensorFlow binary is optimized with oneAPI Deep Neural Network Library (oneDNN) to use the following CPU instructions in performance-critical operations:  AVX2 AVX512F AVX512_VNNI FMA\n",
      "To enable them in other operations, rebuild TensorFlow with the appropriate compiler flags.\n"
     ]
    },
    {
     "name": "stdout",
     "output_type": "stream",
     "text": [
      "181/181 - 3s - loss: -7.7470e-01 - negative_correlation_loss: -8.0343e-01 - val_loss: -7.8149e-01 - val_negative_correlation_loss: -7.9821e-01 - lr: 0.0100 - 3s/epoch - 14ms/step\n",
      "Epoch 2/1000\n",
      "181/181 - 1s - loss: -8.3183e-01 - negative_correlation_loss: -8.4308e-01 - val_loss: -8.2012e-01 - val_negative_correlation_loss: -8.2731e-01 - lr: 0.0100 - 1s/epoch - 8ms/step\n",
      "Epoch 3/1000\n",
      "181/181 - 1s - loss: -8.4442e-01 - negative_correlation_loss: -8.5057e-01 - val_loss: -8.3219e-01 - val_negative_correlation_loss: -8.3817e-01 - lr: 0.0100 - 1s/epoch - 8ms/step\n",
      "Epoch 4/1000\n",
      "181/181 - 1s - loss: -8.4925e-01 - negative_correlation_loss: -8.5461e-01 - val_loss: -8.2750e-01 - val_negative_correlation_loss: -8.3279e-01 - lr: 0.0100 - 1s/epoch - 8ms/step\n",
      "Epoch 5/1000\n",
      "181/181 - 1s - loss: -8.5017e-01 - negative_correlation_loss: -8.5544e-01 - val_loss: -8.3453e-01 - val_negative_correlation_loss: -8.3978e-01 - lr: 0.0100 - 1s/epoch - 8ms/step\n",
      "Epoch 6/1000\n",
      "181/181 - 1s - loss: -8.5290e-01 - negative_correlation_loss: -8.5798e-01 - val_loss: -8.3274e-01 - val_negative_correlation_loss: -8.3766e-01 - lr: 0.0100 - 1s/epoch - 8ms/step\n",
      "Epoch 7/1000\n",
      "181/181 - 1s - loss: -8.5405e-01 - negative_correlation_loss: -8.5913e-01 - val_loss: -8.3296e-01 - val_negative_correlation_loss: -8.3808e-01 - lr: 0.0100 - 1s/epoch - 8ms/step\n",
      "Epoch 8/1000\n",
      "181/181 - 1s - loss: -8.5478e-01 - negative_correlation_loss: -8.6012e-01 - val_loss: -8.3663e-01 - val_negative_correlation_loss: -8.4218e-01 - lr: 0.0100 - 1s/epoch - 8ms/step\n",
      "Epoch 9/1000\n",
      "181/181 - 1s - loss: -8.5509e-01 - negative_correlation_loss: -8.6042e-01 - val_loss: -8.3536e-01 - val_negative_correlation_loss: -8.4053e-01 - lr: 0.0100 - 1s/epoch - 8ms/step\n",
      "Epoch 10/1000\n",
      "181/181 - 1s - loss: -8.5554e-01 - negative_correlation_loss: -8.6089e-01 - val_loss: -8.3640e-01 - val_negative_correlation_loss: -8.4208e-01 - lr: 0.0100 - 1s/epoch - 8ms/step\n",
      "Epoch 11/1000\n",
      "181/181 - 1s - loss: -8.5601e-01 - negative_correlation_loss: -8.6136e-01 - val_loss: -8.2944e-01 - val_negative_correlation_loss: -8.3450e-01 - lr: 0.0100 - 1s/epoch - 8ms/step\n",
      "Epoch 12/1000\n",
      "\n",
      "Epoch 12: ReduceLROnPlateau reducing learning rate to 0.004999999888241291.\n",
      "181/181 - 1s - loss: -8.5616e-01 - negative_correlation_loss: -8.6164e-01 - val_loss: -8.3120e-01 - val_negative_correlation_loss: -8.3673e-01 - lr: 0.0100 - 1s/epoch - 8ms/step\n",
      "Epoch 13/1000\n",
      "181/181 - 1s - loss: -8.5852e-01 - negative_correlation_loss: -8.6349e-01 - val_loss: -8.3759e-01 - val_negative_correlation_loss: -8.4231e-01 - lr: 0.0050 - 1s/epoch - 8ms/step\n",
      "Epoch 14/1000\n",
      "181/181 - 1s - loss: -8.5935e-01 - negative_correlation_loss: -8.6400e-01 - val_loss: -8.3882e-01 - val_negative_correlation_loss: -8.4337e-01 - lr: 0.0050 - 1s/epoch - 8ms/step\n",
      "Epoch 15/1000\n",
      "181/181 - 1s - loss: -8.5935e-01 - negative_correlation_loss: -8.6388e-01 - val_loss: -8.3792e-01 - val_negative_correlation_loss: -8.4243e-01 - lr: 0.0050 - 1s/epoch - 8ms/step\n",
      "Epoch 16/1000\n",
      "181/181 - 1s - loss: -8.5997e-01 - negative_correlation_loss: -8.6448e-01 - val_loss: -8.3804e-01 - val_negative_correlation_loss: -8.4254e-01 - lr: 0.0050 - 1s/epoch - 8ms/step\n",
      "Epoch 17/1000\n",
      "181/181 - 1s - loss: -8.5970e-01 - negative_correlation_loss: -8.6424e-01 - val_loss: -8.3872e-01 - val_negative_correlation_loss: -8.4325e-01 - lr: 0.0050 - 1s/epoch - 8ms/step\n",
      "Epoch 18/1000\n",
      "\n",
      "Epoch 18: ReduceLROnPlateau reducing learning rate to 0.0024999999441206455.\n",
      "181/181 - 1s - loss: -8.6003e-01 - negative_correlation_loss: -8.6456e-01 - val_loss: -8.3637e-01 - val_negative_correlation_loss: -8.4088e-01 - lr: 0.0050 - 1s/epoch - 8ms/step\n",
      "Epoch 19/1000\n",
      "181/181 - 1s - loss: -8.6150e-01 - negative_correlation_loss: -8.6584e-01 - val_loss: -8.4168e-01 - val_negative_correlation_loss: -8.4601e-01 - lr: 0.0025 - 1s/epoch - 8ms/step\n",
      "Epoch 20/1000\n",
      "181/181 - 1s - loss: -8.6168e-01 - negative_correlation_loss: -8.6603e-01 - val_loss: -8.4010e-01 - val_negative_correlation_loss: -8.4439e-01 - lr: 0.0025 - 1s/epoch - 8ms/step\n",
      "Epoch 21/1000\n",
      "181/181 - 1s - loss: -8.6192e-01 - negative_correlation_loss: -8.6627e-01 - val_loss: -8.3644e-01 - val_negative_correlation_loss: -8.4072e-01 - lr: 0.0025 - 1s/epoch - 8ms/step\n",
      "Epoch 22/1000\n",
      "181/181 - 1s - loss: -8.6214e-01 - negative_correlation_loss: -8.6646e-01 - val_loss: -8.4114e-01 - val_negative_correlation_loss: -8.4541e-01 - lr: 0.0025 - 1s/epoch - 8ms/step\n",
      "Epoch 23/1000\n",
      "\n",
      "Epoch 23: ReduceLROnPlateau reducing learning rate to 0.0012499999720603228.\n",
      "181/181 - 1s - loss: -8.6236e-01 - negative_correlation_loss: -8.6663e-01 - val_loss: -8.4105e-01 - val_negative_correlation_loss: -8.4531e-01 - lr: 0.0025 - 1s/epoch - 8ms/step\n",
      "Epoch 24/1000\n",
      "181/181 - 1s - loss: -8.6329e-01 - negative_correlation_loss: -8.6750e-01 - val_loss: -8.4015e-01 - val_negative_correlation_loss: -8.4429e-01 - lr: 0.0012 - 1s/epoch - 8ms/step\n",
      "Epoch 25/1000\n",
      "181/181 - 1s - loss: -8.6346e-01 - negative_correlation_loss: -8.6761e-01 - val_loss: -8.3971e-01 - val_negative_correlation_loss: -8.4381e-01 - lr: 0.0012 - 1s/epoch - 8ms/step\n",
      "Epoch 26/1000\n",
      "181/181 - 1s - loss: -8.6348e-01 - negative_correlation_loss: -8.6760e-01 - val_loss: -8.4113e-01 - val_negative_correlation_loss: -8.4521e-01 - lr: 0.0012 - 1s/epoch - 8ms/step\n",
      "Epoch 27/1000\n",
      "\n",
      "Epoch 27: ReduceLROnPlateau reducing learning rate to 0.0006249999860301614.\n",
      "181/181 - 1s - loss: -8.6360e-01 - negative_correlation_loss: -8.6768e-01 - val_loss: -8.3936e-01 - val_negative_correlation_loss: -8.4342e-01 - lr: 0.0012 - 1s/epoch - 8ms/step\n",
      "Epoch 28/1000\n",
      "181/181 - 1s - loss: -8.6412e-01 - negative_correlation_loss: -8.6818e-01 - val_loss: -8.4224e-01 - val_negative_correlation_loss: -8.4624e-01 - lr: 6.2500e-04 - 1s/epoch - 8ms/step\n",
      "Epoch 29/1000\n",
      "181/181 - 1s - loss: -8.6420e-01 - negative_correlation_loss: -8.6825e-01 - val_loss: -8.4093e-01 - val_negative_correlation_loss: -8.4492e-01 - lr: 6.2500e-04 - 1s/epoch - 8ms/step\n",
      "Epoch 30/1000\n",
      "181/181 - 1s - loss: -8.6433e-01 - negative_correlation_loss: -8.6831e-01 - val_loss: -8.4131e-01 - val_negative_correlation_loss: -8.4527e-01 - lr: 6.2500e-04 - 1s/epoch - 8ms/step\n",
      "Epoch 31/1000\n",
      "181/181 - 1s - loss: -8.6433e-01 - negative_correlation_loss: -8.6831e-01 - val_loss: -8.4226e-01 - val_negative_correlation_loss: -8.4621e-01 - lr: 6.2500e-04 - 1s/epoch - 8ms/step\n",
      "Epoch 32/1000\n",
      "\n",
      "Epoch 32: ReduceLROnPlateau reducing learning rate to 0.0003124999930150807.\n",
      "181/181 - 1s - loss: -8.6453e-01 - negative_correlation_loss: -8.6848e-01 - val_loss: -8.4226e-01 - val_negative_correlation_loss: -8.4618e-01 - lr: 6.2500e-04 - 1s/epoch - 8ms/step\n",
      "Epoch 33/1000\n",
      "181/181 - 1s - loss: -8.6481e-01 - negative_correlation_loss: -8.6875e-01 - val_loss: -8.4271e-01 - val_negative_correlation_loss: -8.4661e-01 - lr: 3.1250e-04 - 1s/epoch - 8ms/step\n",
      "Epoch 34/1000\n",
      "181/181 - 1s - loss: -8.6492e-01 - negative_correlation_loss: -8.6883e-01 - val_loss: -8.4238e-01 - val_negative_correlation_loss: -8.4625e-01 - lr: 3.1250e-04 - 1s/epoch - 8ms/step\n",
      "Epoch 35/1000\n",
      "181/181 - 1s - loss: -8.6493e-01 - negative_correlation_loss: -8.6881e-01 - val_loss: -8.4307e-01 - val_negative_correlation_loss: -8.4693e-01 - lr: 3.1250e-04 - 1s/epoch - 8ms/step\n",
      "Epoch 36/1000\n",
      "181/181 - 1s - loss: -8.6503e-01 - negative_correlation_loss: -8.6886e-01 - val_loss: -8.4297e-01 - val_negative_correlation_loss: -8.4681e-01 - lr: 3.1250e-04 - 1s/epoch - 8ms/step\n",
      "Epoch 37/1000\n",
      "181/181 - 1s - loss: -8.6505e-01 - negative_correlation_loss: -8.6893e-01 - val_loss: -8.4214e-01 - val_negative_correlation_loss: -8.4597e-01 - lr: 3.1250e-04 - 1s/epoch - 8ms/step\n",
      "Epoch 38/1000\n",
      "181/181 - 1s - loss: -8.6509e-01 - negative_correlation_loss: -8.6898e-01 - val_loss: -8.4260e-01 - val_negative_correlation_loss: -8.4642e-01 - lr: 3.1250e-04 - 1s/epoch - 8ms/step\n",
      "Epoch 39/1000\n",
      "\n",
      "Epoch 39: ReduceLROnPlateau reducing learning rate to 0.00015624999650754035.\n",
      "181/181 - 1s - loss: -8.6509e-01 - negative_correlation_loss: -8.6896e-01 - val_loss: -8.4203e-01 - val_negative_correlation_loss: -8.4585e-01 - lr: 3.1250e-04 - 1s/epoch - 8ms/step\n",
      "Epoch 40/1000\n",
      "181/181 - 1s - loss: -8.6532e-01 - negative_correlation_loss: -8.6915e-01 - val_loss: -8.4310e-01 - val_negative_correlation_loss: -8.4689e-01 - lr: 1.5625e-04 - 1s/epoch - 8ms/step\n",
      "Epoch 41/1000\n",
      "181/181 - 1s - loss: -8.6533e-01 - negative_correlation_loss: -8.6918e-01 - val_loss: -8.4214e-01 - val_negative_correlation_loss: -8.4592e-01 - lr: 1.5625e-04 - 1s/epoch - 8ms/step\n",
      "Epoch 42/1000\n",
      "181/181 - 1s - loss: -8.6536e-01 - negative_correlation_loss: -8.6914e-01 - val_loss: -8.4296e-01 - val_negative_correlation_loss: -8.4673e-01 - lr: 1.5625e-04 - 1s/epoch - 8ms/step\n",
      "Epoch 43/1000\n",
      "\n",
      "Epoch 43: ReduceLROnPlateau reducing learning rate to 7.812499825377017e-05.\n",
      "181/181 - 1s - loss: -8.6539e-01 - negative_correlation_loss: -8.6919e-01 - val_loss: -8.4275e-01 - val_negative_correlation_loss: -8.4650e-01 - lr: 1.5625e-04 - 1s/epoch - 8ms/step\n",
      "Epoch 44/1000\n",
      "181/181 - 1s - loss: -8.6551e-01 - negative_correlation_loss: -8.6924e-01 - val_loss: -8.4311e-01 - val_negative_correlation_loss: -8.4685e-01 - lr: 7.8125e-05 - 1s/epoch - 8ms/step\n",
      "Epoch 45/1000\n",
      "181/181 - 1s - loss: -8.6555e-01 - negative_correlation_loss: -8.6928e-01 - val_loss: -8.4318e-01 - val_negative_correlation_loss: -8.4692e-01 - lr: 7.8125e-05 - 1s/epoch - 8ms/step\n",
      "Epoch 46/1000\n",
      "181/181 - 1s - loss: -8.6555e-01 - negative_correlation_loss: -8.6929e-01 - val_loss: -8.4287e-01 - val_negative_correlation_loss: -8.4660e-01 - lr: 7.8125e-05 - 1s/epoch - 8ms/step\n",
      "Epoch 47/1000\n",
      "181/181 - 1s - loss: -8.6558e-01 - negative_correlation_loss: -8.6930e-01 - val_loss: -8.4275e-01 - val_negative_correlation_loss: -8.4647e-01 - lr: 7.8125e-05 - 1s/epoch - 8ms/step\n",
      "Epoch 48/1000\n",
      "181/181 - 1s - loss: -8.6557e-01 - negative_correlation_loss: -8.6927e-01 - val_loss: -8.4343e-01 - val_negative_correlation_loss: -8.4714e-01 - lr: 7.8125e-05 - 1s/epoch - 8ms/step\n",
      "Epoch 49/1000\n",
      "181/181 - 1s - loss: -8.6559e-01 - negative_correlation_loss: -8.6930e-01 - val_loss: -8.4321e-01 - val_negative_correlation_loss: -8.4692e-01 - lr: 7.8125e-05 - 1s/epoch - 8ms/step\n",
      "Epoch 50/1000\n",
      "181/181 - 1s - loss: -8.6560e-01 - negative_correlation_loss: -8.6932e-01 - val_loss: -8.4310e-01 - val_negative_correlation_loss: -8.4680e-01 - lr: 7.8125e-05 - 1s/epoch - 8ms/step\n",
      "Epoch 51/1000\n",
      "181/181 - 1s - loss: -8.6561e-01 - negative_correlation_loss: -8.6930e-01 - val_loss: -8.4327e-01 - val_negative_correlation_loss: -8.4696e-01 - lr: 7.8125e-05 - 1s/epoch - 8ms/step\n",
      "Epoch 52/1000\n",
      "\n",
      "Epoch 52: ReduceLROnPlateau reducing learning rate to 3.9062499126885086e-05.\n",
      "181/181 - 1s - loss: -8.6562e-01 - negative_correlation_loss: -8.6934e-01 - val_loss: -8.4257e-01 - val_negative_correlation_loss: -8.4626e-01 - lr: 7.8125e-05 - 1s/epoch - 8ms/step\n",
      "Epoch 53/1000\n",
      "181/181 - 1s - loss: -8.6569e-01 - negative_correlation_loss: -8.6940e-01 - val_loss: -8.4268e-01 - val_negative_correlation_loss: -8.4637e-01 - lr: 3.9062e-05 - 1s/epoch - 8ms/step\n",
      "Epoch 54/1000\n",
      "181/181 - 1s - loss: -8.6571e-01 - negative_correlation_loss: -8.6943e-01 - val_loss: -8.4308e-01 - val_negative_correlation_loss: -8.4676e-01 - lr: 3.9062e-05 - 1s/epoch - 8ms/step\n",
      "Epoch 55/1000\n",
      "181/181 - 1s - loss: -8.6572e-01 - negative_correlation_loss: -8.6944e-01 - val_loss: -8.4282e-01 - val_negative_correlation_loss: -8.4649e-01 - lr: 3.9062e-05 - 1s/epoch - 8ms/step\n",
      "Epoch 56/1000\n",
      "\n",
      "Epoch 56: ReduceLROnPlateau reducing learning rate to 1.9531249563442543e-05.\n",
      "181/181 - 1s - loss: -8.6572e-01 - negative_correlation_loss: -8.6940e-01 - val_loss: -8.4272e-01 - val_negative_correlation_loss: -8.4639e-01 - lr: 3.9062e-05 - 1s/epoch - 8ms/step\n",
      "Epoch 57/1000\n",
      "181/181 - 1s - loss: -8.6576e-01 - negative_correlation_loss: -8.6943e-01 - val_loss: -8.4326e-01 - val_negative_correlation_loss: -8.4694e-01 - lr: 1.9531e-05 - 1s/epoch - 8ms/step\n",
      "Epoch 58/1000\n",
      "181/181 - 1s - loss: -8.6577e-01 - negative_correlation_loss: -8.6946e-01 - val_loss: -8.4310e-01 - val_negative_correlation_loss: -8.4677e-01 - lr: 1.9531e-05 - 1s/epoch - 8ms/step\n",
      "Epoch 59/1000\n",
      "181/181 - 1s - loss: -8.6577e-01 - negative_correlation_loss: -8.6946e-01 - val_loss: -8.4292e-01 - val_negative_correlation_loss: -8.4658e-01 - lr: 1.9531e-05 - 1s/epoch - 8ms/step\n",
      "Epoch 60/1000\n",
      "\n",
      "Epoch 60: ReduceLROnPlateau reducing learning rate to 9.765624781721272e-06.\n",
      "181/181 - 1s - loss: -8.6577e-01 - negative_correlation_loss: -8.6945e-01 - val_loss: -8.4327e-01 - val_negative_correlation_loss: -8.4694e-01 - lr: 1.9531e-05 - 1s/epoch - 8ms/step\n",
      "1/1 [==============================] - 0s 131ms/step\n",
      "Fold 0:  59 epochs, corr =  0.84717\n"
     ]
    }
   ],
   "source": [
    "def fit(X_train, y_train):\n",
    "  try:\n",
    "    np.random.seed(1)\n",
    "    tf.random.set_seed(1)\n",
    "\n",
    "    kf = GroupKFold(n_splits=N_SPLITS)\n",
    "    score_list = []\n",
    "    for fold, (idx_tr, idx_va) in enumerate(kf.split(X_train, groups=meta.donor)):\n",
    "        start_time = datetime.datetime.now()\n",
    "        model = None\n",
    "        gc.collect()\n",
    "        X_tr = X_train[idx_tr]\n",
    "        y_tr = y_train[idx_tr]\n",
    "        X_va = X_train[idx_va]\n",
    "        y_va = y_train[idx_va]\n",
    "\n",
    "        lr = ReduceLROnPlateau(monitor=\"val_loss\", factor=0.5, \n",
    "                              patience=4, verbose=VERBOSE)\n",
    "        es = EarlyStopping(monitor=\"val_loss\",\n",
    "                          patience=12, \n",
    "                          verbose=0,\n",
    "                          mode=\"min\", \n",
    "                          restore_best_weights=True)\n",
    "        callbacks = [lr, es, tf.keras.callbacks.TerminateOnNaN()]\n",
    "\n",
    "        # Construct and compile the model\n",
    "        model = my_model(n_inputs=X_train.shape[1],n_outputs=y_train.shape[1],reg1=reg1,reg2=reg2)\n",
    "\n",
    "        # Train the model\n",
    "        history = model.fit(X_tr, y_tr, \n",
    "                            validation_data=(X_va, y_va), \n",
    "                            epochs=EPOCHS,\n",
    "                            verbose=VERBOSE,\n",
    "                            batch_size=BATCH_SIZE,\n",
    "                            shuffle=True,\n",
    "                            callbacks=callbacks)\n",
    "        del X_tr, y_tr\n",
    "\n",
    "        # We validate the model\n",
    "        y_pred = model.predict(X_va, batch_size=X_va.shape[0])\n",
    "        corrscore = correlation_score(y_va, y_pred)\n",
    "\n",
    "        print(f\"Fold {fold}: {es.stopped_epoch:3} epochs, corr =  {corrscore:.5f}\")\n",
    "        del es, X_va#, y_va, y_va_pred\n",
    "        score_list.append(corrscore)\n",
    "\n",
    "        return model\n",
    "\n",
    "    # Show overall score\n",
    "    print(f\"{Fore.GREEN}{Style.BRIGHT}Average  corr = {np.array(score_list).mean():.5f}{Style.RESET_ALL}\")\n",
    "  finally:\n",
    "    return model\n",
    "LR_START = 0.01\n",
    "BATCH_SIZE = 256\n",
    "reg1 = 8e-5\n",
    "reg2 = 2e-5\n",
    "model = fit(X_train_svd,y_train)"
   ]
  },
  {
   "cell_type": "code",
   "execution_count": 16,
   "id": "efeb10f9-70da-4c2a-9aa9-57429738b786",
   "metadata": {
    "execution": {
     "iopub.execute_input": "2022-10-12T17:10:08.840835Z",
     "iopub.status.busy": "2022-10-12T17:10:08.840387Z",
     "iopub.status.idle": "2022-10-12T17:10:08.845516Z",
     "shell.execute_reply": "2022-10-12T17:10:08.844966Z",
     "shell.execute_reply.started": "2022-10-12T17:10:08.840804Z"
    }
   },
   "outputs": [
    {
     "name": "stdout",
     "output_type": "stream",
     "text": [
      "/home/jovyan/kaggle/working\n"
     ]
    }
   ],
   "source": [
    "%cd .."
   ]
  },
  {
   "cell_type": "code",
   "execution_count": 3,
   "id": "067f677d-6eed-4295-9f9b-9328c2b43f8a",
   "metadata": {
    "execution": {
     "iopub.execute_input": "2022-10-12T18:01:38.094948Z",
     "iopub.status.busy": "2022-10-12T18:01:38.094405Z",
     "iopub.status.idle": "2022-10-12T18:21:36.336927Z",
     "shell.execute_reply": "2022-10-12T18:21:36.336243Z",
     "shell.execute_reply.started": "2022-10-12T18:01:38.094907Z"
    },
    "tags": []
   },
   "outputs": [
    {
     "name": "stdout",
     "output_type": "stream",
     "text": [
      "/home/jovyan/kaggle/working\n",
      "X shape: (70988, 21601) 1.283 GByte\n",
      "Shape of both before SVD: (119651, 21601)\n",
      "Shape of both after SVD:  (119651, 512)\n",
      "Reduced X shape:  (70988, 512)   0.135 GByte\n",
      "Reduced Xt shape: (48663, 512)   0.093 GByte\n",
      "Y shape: (70988, 140)   0.037 GByte\n",
      "CPU times: user 20min 36s, sys: 8.62 s, total: 20min 45s\n",
      "Wall time: 19min 58s\n"
     ]
    }
   ],
   "source": [
    "%%time\n",
    "\n",
    "%cd /home/jovyan/kaggle/working\n",
    "\n",
    "X_train = scipy.sparse.load_npz('./sparse/train_cite_inputs_values.sparse.npz')\n",
    "\n",
    "to_drop = np.genfromtxt(\"./sparse/drop_ids.csv\", delimiter=',', dtype = int)\n",
    "X_train = delete_columns_csr(X_train,to_drop)\n",
    "\n",
    "print(f\"X shape: {str(X_train.shape):14} {X_train.size*4/1024/1024/1024:2.3f} GByte\")\n",
    "\n",
    "with np.load('./sparse/train_cite_inputs_idxcol.npz',allow_pickle=True) as data:\n",
    "    cell_index = data['index']\n",
    "\n",
    "metadata_df = pd.read_csv('../input/open-problems-multimodal/metadata.csv', index_col='cell_id')\n",
    "metadata_df = metadata_df[metadata_df.technology==\"citeseq\"]\n",
    "meta = metadata_df.reindex(cell_index)\n",
    "\n",
    "X_test = scipy.sparse.load_npz('./sparse/test_cite_inputs_values.sparse.npz')\n",
    "\n",
    "X_test = delete_columns_csr(X_test,to_drop)\n",
    "\n",
    "with np.load('./sparse/test_cite_inputs_idxcol.npz',allow_pickle=True) as data:\n",
    "    cell_index_t = data['index']\n",
    "\n",
    "meta_t = metadata_df.reindex(cell_index_t)\n",
    "\n",
    "# Apply the singular value decomposition\n",
    "both = scipy.sparse.vstack([X_train, X_test])\n",
    "assert both.shape[0] == 119651\n",
    "print(f\"Shape of both before SVD: {both.shape}\")\n",
    "svd = TruncatedSVD(n_components=512, random_state=1) # 512 is possible\n",
    "both = svd.fit_transform(both)\n",
    "print(f\"Shape of both after SVD:  {both.shape}\")\n",
    "    \n",
    "# Hstack the svd output with the important features\n",
    "X_train_svd = both[:70988]\n",
    "X_test_svd = both[70988:]\n",
    "del both\n",
    "#X = np.hstack([X, X0])\n",
    "#Xt = np.hstack([Xt, X0t])\n",
    "print(f\"Reduced X shape:  {str(X_train_svd.shape):14} {X_train_svd.size*4/1024/1024/1024:2.3f} GByte\")\n",
    "print(f\"Reduced Xt shape: {str(X_test_svd.shape):14} {X_test_svd.size*4/1024/1024/1024:2.3f} GByte\")\n",
    "\n",
    "y_train = scipy.sparse.load_npz('./sparse/train_cite_targets_values.sparse.npz')\n",
    "\n",
    "# Normalize the targets row-wise: This doesn't change the correlations,\n",
    "# and negative_correlation_loss depends on it\n",
    "y_train -= y_train.mean(axis=1).reshape(-1, 1)\n",
    "y_train /= y_train.std(axis=1).reshape(-1, 1)\n",
    "    \n",
    "print(f\"Y shape: {str(y_train.shape):14} {y_train.size*4/1024/1024/1024:2.3f} GByte\")"
   ]
  },
  {
   "cell_type": "code",
   "execution_count": 4,
   "id": "188d5db0-5caa-4ee2-996d-0a91748104b0",
   "metadata": {
    "execution": {
     "iopub.execute_input": "2022-10-12T18:21:36.338287Z",
     "iopub.status.busy": "2022-10-12T18:21:36.337977Z",
     "iopub.status.idle": "2022-10-12T18:21:36.341564Z",
     "shell.execute_reply": "2022-10-12T18:21:36.341033Z",
     "shell.execute_reply.started": "2022-10-12T18:21:36.338259Z"
    }
   },
   "outputs": [
    {
     "name": "stdout",
     "output_type": "stream",
     "text": [
      "1\n"
     ]
    }
   ],
   "source": [
    "print(1)"
   ]
  },
  {
   "cell_type": "code",
   "execution_count": 5,
   "id": "77d1759e-f16a-4113-9e3a-7689a06732be",
   "metadata": {
    "execution": {
     "iopub.execute_input": "2022-10-12T18:29:01.302004Z",
     "iopub.status.busy": "2022-10-12T18:29:01.301615Z",
     "iopub.status.idle": "2022-10-12T18:29:51.788272Z",
     "shell.execute_reply": "2022-10-12T18:29:51.787576Z",
     "shell.execute_reply.started": "2022-10-12T18:29:01.301981Z"
    }
   },
   "outputs": [
    {
     "name": "stdout",
     "output_type": "stream",
     "text": [
      "/home/jovyan/kaggle/working/pca512\n",
      "/home/jovyan/kaggle/working\n"
     ]
    }
   ],
   "source": [
    "%mkdir pca512\n",
    "%cd pca512\n",
    "np.savetxt(\"X_train_pca.csv\", X_train_svd, delimiter=\",\")\n",
    "np.savetxt(\"X_test_pca.csv\", X_test_svd, delimiter=\",\")\n",
    "%cd .."
   ]
  },
  {
   "cell_type": "code",
   "execution_count": 6,
   "id": "64931f4e-6a98-46dc-8f93-accb981c7d7e",
   "metadata": {
    "execution": {
     "iopub.execute_input": "2022-10-12T18:29:58.330608Z",
     "iopub.status.busy": "2022-10-12T18:29:58.329961Z",
     "iopub.status.idle": "2022-10-12T18:31:21.434589Z",
     "shell.execute_reply": "2022-10-12T18:31:21.433971Z",
     "shell.execute_reply.started": "2022-10-12T18:29:58.330577Z"
    }
   },
   "outputs": [
    {
     "name": "stderr",
     "output_type": "stream",
     "text": [
      "2022-10-12 18:29:58.613893: I tensorflow/stream_executor/cuda/cuda_gpu_executor.cc:980] successful NUMA node read from SysFS had negative value (-1), but there must be at least one NUMA node, so returning NUMA node zero\n",
      "2022-10-12 18:29:58.614997: W tensorflow/stream_executor/platform/default/dso_loader.cc:64] Could not load dynamic library 'libcudnn.so.8'; dlerror: libcudnn.so.8: cannot open shared object file: No such file or directory; LD_LIBRARY_PATH: /usr/local/nvidia/lib:/usr/local/nvidia/lib64\n",
      "2022-10-12 18:29:58.615017: W tensorflow/core/common_runtime/gpu/gpu_device.cc:1934] Cannot dlopen some GPU libraries. Please make sure the missing libraries mentioned above are installed properly if you would like to use GPU. Follow the guide at https://www.tensorflow.org/install/gpu for how to download and setup the required libraries for your platform.\n",
      "Skipping registering GPU devices...\n",
      "2022-10-12 18:29:58.615309: I tensorflow/core/platform/cpu_feature_guard.cc:193] This TensorFlow binary is optimized with oneAPI Deep Neural Network Library (oneDNN) to use the following CPU instructions in performance-critical operations:  AVX2 AVX512F AVX512_VNNI FMA\n",
      "To enable them in other operations, rebuild TensorFlow with the appropriate compiler flags.\n"
     ]
    },
    {
     "name": "stdout",
     "output_type": "stream",
     "text": [
      "Epoch 1/1000\n",
      "181/181 - 3s - loss: -8.3043e-01 - negative_correlation_loss: -8.5801e-01 - val_loss: -8.6222e-01 - val_negative_correlation_loss: -8.7874e-01 - lr: 0.0100 - 3s/epoch - 15ms/step\n",
      "Epoch 2/1000\n",
      "181/181 - 2s - loss: -8.8098e-01 - negative_correlation_loss: -8.9455e-01 - val_loss: -8.6830e-01 - val_negative_correlation_loss: -8.7986e-01 - lr: 0.0100 - 2s/epoch - 9ms/step\n",
      "Epoch 3/1000\n",
      "181/181 - 2s - loss: -8.8608e-01 - negative_correlation_loss: -8.9651e-01 - val_loss: -8.7144e-01 - val_negative_correlation_loss: -8.8092e-01 - lr: 0.0100 - 2s/epoch - 9ms/step\n",
      "Epoch 4/1000\n",
      "181/181 - 2s - loss: -8.8826e-01 - negative_correlation_loss: -8.9740e-01 - val_loss: -8.7255e-01 - val_negative_correlation_loss: -8.8113e-01 - lr: 0.0100 - 2s/epoch - 9ms/step\n",
      "Epoch 5/1000\n",
      "181/181 - 2s - loss: -8.8960e-01 - negative_correlation_loss: -8.9789e-01 - val_loss: -8.7464e-01 - val_negative_correlation_loss: -8.8265e-01 - lr: 0.0100 - 2s/epoch - 9ms/step\n",
      "Epoch 6/1000\n",
      "181/181 - 2s - loss: -8.9038e-01 - negative_correlation_loss: -8.9823e-01 - val_loss: -8.7646e-01 - val_negative_correlation_loss: -8.8413e-01 - lr: 0.0100 - 2s/epoch - 9ms/step\n",
      "Epoch 7/1000\n",
      "181/181 - 2s - loss: -8.9068e-01 - negative_correlation_loss: -8.9835e-01 - val_loss: -8.7514e-01 - val_negative_correlation_loss: -8.8248e-01 - lr: 0.0100 - 2s/epoch - 9ms/step\n",
      "Epoch 8/1000\n",
      "181/181 - 2s - loss: -8.9115e-01 - negative_correlation_loss: -8.9844e-01 - val_loss: -8.7641e-01 - val_negative_correlation_loss: -8.8389e-01 - lr: 0.0100 - 2s/epoch - 9ms/step\n",
      "Epoch 9/1000\n",
      "181/181 - 2s - loss: -8.9150e-01 - negative_correlation_loss: -8.9853e-01 - val_loss: -8.7683e-01 - val_negative_correlation_loss: -8.8370e-01 - lr: 0.0100 - 2s/epoch - 9ms/step\n",
      "Epoch 10/1000\n",
      "181/181 - 2s - loss: -8.9153e-01 - negative_correlation_loss: -8.9850e-01 - val_loss: -8.7657e-01 - val_negative_correlation_loss: -8.8329e-01 - lr: 0.0100 - 2s/epoch - 9ms/step\n",
      "Epoch 11/1000\n",
      "181/181 - 2s - loss: -8.9191e-01 - negative_correlation_loss: -8.9871e-01 - val_loss: -8.7542e-01 - val_negative_correlation_loss: -8.8200e-01 - lr: 0.0100 - 2s/epoch - 9ms/step\n",
      "Epoch 12/1000\n",
      "181/181 - 2s - loss: -8.9197e-01 - negative_correlation_loss: -8.9860e-01 - val_loss: -8.7605e-01 - val_negative_correlation_loss: -8.8272e-01 - lr: 0.0100 - 2s/epoch - 9ms/step\n",
      "Epoch 13/1000\n",
      "\n",
      "Epoch 13: ReduceLROnPlateau reducing learning rate to 0.004999999888241291.\n",
      "181/181 - 2s - loss: -8.9205e-01 - negative_correlation_loss: -8.9870e-01 - val_loss: -8.7629e-01 - val_negative_correlation_loss: -8.8273e-01 - lr: 0.0100 - 2s/epoch - 9ms/step\n",
      "Epoch 14/1000\n",
      "181/181 - 2s - loss: -8.9527e-01 - negative_correlation_loss: -9.0050e-01 - val_loss: -8.7935e-01 - val_negative_correlation_loss: -8.8425e-01 - lr: 0.0050 - 2s/epoch - 9ms/step\n",
      "Epoch 15/1000\n",
      "181/181 - 2s - loss: -8.9567e-01 - negative_correlation_loss: -9.0053e-01 - val_loss: -8.8023e-01 - val_negative_correlation_loss: -8.8502e-01 - lr: 0.0050 - 2s/epoch - 9ms/step\n",
      "Epoch 16/1000\n",
      "181/181 - 2s - loss: -8.9573e-01 - negative_correlation_loss: -9.0056e-01 - val_loss: -8.7945e-01 - val_negative_correlation_loss: -8.8413e-01 - lr: 0.0050 - 2s/epoch - 9ms/step\n",
      "Epoch 17/1000\n",
      "181/181 - 2s - loss: -8.9589e-01 - negative_correlation_loss: -9.0062e-01 - val_loss: -8.8022e-01 - val_negative_correlation_loss: -8.8485e-01 - lr: 0.0050 - 2s/epoch - 9ms/step\n",
      "Epoch 18/1000\n",
      "181/181 - 2s - loss: -8.9589e-01 - negative_correlation_loss: -9.0060e-01 - val_loss: -8.8011e-01 - val_negative_correlation_loss: -8.8473e-01 - lr: 0.0050 - 2s/epoch - 9ms/step\n",
      "Epoch 19/1000\n",
      "181/181 - 2s - loss: -8.9607e-01 - negative_correlation_loss: -9.0069e-01 - val_loss: -8.8096e-01 - val_negative_correlation_loss: -8.8551e-01 - lr: 0.0050 - 2s/epoch - 9ms/step\n",
      "Epoch 20/1000\n",
      "181/181 - 2s - loss: -8.9604e-01 - negative_correlation_loss: -9.0070e-01 - val_loss: -8.8085e-01 - val_negative_correlation_loss: -8.8537e-01 - lr: 0.0050 - 2s/epoch - 9ms/step\n",
      "Epoch 21/1000\n",
      "181/181 - 2s - loss: -8.9615e-01 - negative_correlation_loss: -9.0079e-01 - val_loss: -8.8092e-01 - val_negative_correlation_loss: -8.8548e-01 - lr: 0.0050 - 2s/epoch - 9ms/step\n",
      "Epoch 22/1000\n",
      "181/181 - 2s - loss: -8.9614e-01 - negative_correlation_loss: -9.0073e-01 - val_loss: -8.8099e-01 - val_negative_correlation_loss: -8.8552e-01 - lr: 0.0050 - 2s/epoch - 9ms/step\n",
      "Epoch 23/1000\n",
      "\n",
      "Epoch 23: ReduceLROnPlateau reducing learning rate to 0.0024999999441206455.\n",
      "181/181 - 2s - loss: -8.9624e-01 - negative_correlation_loss: -9.0080e-01 - val_loss: -8.8061e-01 - val_negative_correlation_loss: -8.8504e-01 - lr: 0.0050 - 2s/epoch - 9ms/step\n",
      "Epoch 24/1000\n",
      "181/181 - 2s - loss: -8.9851e-01 - negative_correlation_loss: -9.0240e-01 - val_loss: -8.8280e-01 - val_negative_correlation_loss: -8.8637e-01 - lr: 0.0025 - 2s/epoch - 9ms/step\n",
      "Epoch 25/1000\n",
      "181/181 - 2s - loss: -8.9883e-01 - negative_correlation_loss: -9.0245e-01 - val_loss: -8.8281e-01 - val_negative_correlation_loss: -8.8627e-01 - lr: 0.0025 - 2s/epoch - 9ms/step\n",
      "Epoch 26/1000\n",
      "181/181 - 2s - loss: -8.9890e-01 - negative_correlation_loss: -9.0243e-01 - val_loss: -8.8251e-01 - val_negative_correlation_loss: -8.8592e-01 - lr: 0.0025 - 2s/epoch - 9ms/step\n",
      "Epoch 27/1000\n",
      "181/181 - 2s - loss: -8.9904e-01 - negative_correlation_loss: -9.0253e-01 - val_loss: -8.8301e-01 - val_negative_correlation_loss: -8.8637e-01 - lr: 0.0025 - 2s/epoch - 9ms/step\n",
      "Epoch 28/1000\n",
      "181/181 - 2s - loss: -8.9914e-01 - negative_correlation_loss: -9.0256e-01 - val_loss: -8.8271e-01 - val_negative_correlation_loss: -8.8603e-01 - lr: 0.0025 - 2s/epoch - 9ms/step\n",
      "Epoch 29/1000\n",
      "181/181 - 2s - loss: -8.9920e-01 - negative_correlation_loss: -9.0263e-01 - val_loss: -8.8331e-01 - val_negative_correlation_loss: -8.8663e-01 - lr: 0.0025 - 2s/epoch - 9ms/step\n",
      "Epoch 30/1000\n",
      "181/181 - 2s - loss: -8.9922e-01 - negative_correlation_loss: -9.0260e-01 - val_loss: -8.8274e-01 - val_negative_correlation_loss: -8.8606e-01 - lr: 0.0025 - 2s/epoch - 9ms/step\n",
      "Epoch 31/1000\n",
      "181/181 - 2s - loss: -8.9931e-01 - negative_correlation_loss: -9.0267e-01 - val_loss: -8.8345e-01 - val_negative_correlation_loss: -8.8672e-01 - lr: 0.0025 - 2s/epoch - 9ms/step\n",
      "Epoch 32/1000\n",
      "181/181 - 2s - loss: -8.9938e-01 - negative_correlation_loss: -9.0271e-01 - val_loss: -8.8305e-01 - val_negative_correlation_loss: -8.8626e-01 - lr: 0.0025 - 2s/epoch - 9ms/step\n",
      "Epoch 33/1000\n",
      "181/181 - 2s - loss: -8.9940e-01 - negative_correlation_loss: -9.0273e-01 - val_loss: -8.8277e-01 - val_negative_correlation_loss: -8.8603e-01 - lr: 0.0025 - 2s/epoch - 9ms/step\n",
      "Epoch 34/1000\n",
      "181/181 - 2s - loss: -8.9953e-01 - negative_correlation_loss: -9.0281e-01 - val_loss: -8.8288e-01 - val_negative_correlation_loss: -8.8610e-01 - lr: 0.0025 - 2s/epoch - 9ms/step\n",
      "Epoch 35/1000\n",
      "\n",
      "Epoch 35: ReduceLROnPlateau reducing learning rate to 0.0012499999720603228.\n",
      "181/181 - 2s - loss: -8.9941e-01 - negative_correlation_loss: -9.0273e-01 - val_loss: -8.8281e-01 - val_negative_correlation_loss: -8.8606e-01 - lr: 0.0025 - 2s/epoch - 9ms/step\n",
      "Epoch 36/1000\n",
      "181/181 - 2s - loss: -9.0116e-01 - negative_correlation_loss: -9.0416e-01 - val_loss: -8.8436e-01 - val_negative_correlation_loss: -8.8722e-01 - lr: 0.0012 - 2s/epoch - 9ms/step\n",
      "Epoch 37/1000\n",
      "181/181 - 2s - loss: -9.0150e-01 - negative_correlation_loss: -9.0437e-01 - val_loss: -8.8432e-01 - val_negative_correlation_loss: -8.8708e-01 - lr: 0.0012 - 2s/epoch - 9ms/step\n",
      "Epoch 38/1000\n",
      "181/181 - 2s - loss: -9.0154e-01 - negative_correlation_loss: -9.0439e-01 - val_loss: -8.8518e-01 - val_negative_correlation_loss: -8.8790e-01 - lr: 0.0012 - 2s/epoch - 9ms/step\n",
      "Epoch 39/1000\n",
      "181/181 - 2s - loss: -9.0164e-01 - negative_correlation_loss: -9.0441e-01 - val_loss: -8.8432e-01 - val_negative_correlation_loss: -8.8701e-01 - lr: 0.0012 - 2s/epoch - 9ms/step\n",
      "Epoch 40/1000\n",
      "181/181 - 2s - loss: -9.0170e-01 - negative_correlation_loss: -9.0444e-01 - val_loss: -8.8399e-01 - val_negative_correlation_loss: -8.8665e-01 - lr: 0.0012 - 2s/epoch - 9ms/step\n",
      "Epoch 41/1000\n",
      "181/181 - 2s - loss: -9.0177e-01 - negative_correlation_loss: -9.0451e-01 - val_loss: -8.8467e-01 - val_negative_correlation_loss: -8.8731e-01 - lr: 0.0012 - 2s/epoch - 9ms/step\n",
      "Epoch 42/1000\n",
      "\n",
      "Epoch 42: ReduceLROnPlateau reducing learning rate to 0.0006249999860301614.\n",
      "181/181 - 2s - loss: -9.0185e-01 - negative_correlation_loss: -9.0454e-01 - val_loss: -8.8375e-01 - val_negative_correlation_loss: -8.8639e-01 - lr: 0.0012 - 2s/epoch - 9ms/step\n",
      "Epoch 43/1000\n",
      "181/181 - 2s - loss: -9.0311e-01 - negative_correlation_loss: -9.0574e-01 - val_loss: -8.8495e-01 - val_negative_correlation_loss: -8.8747e-01 - lr: 6.2500e-04 - 2s/epoch - 9ms/step\n",
      "Epoch 44/1000\n",
      "181/181 - 2s - loss: -9.0335e-01 - negative_correlation_loss: -9.0585e-01 - val_loss: -8.8420e-01 - val_negative_correlation_loss: -8.8667e-01 - lr: 6.2500e-04 - 2s/epoch - 9ms/step\n",
      "Epoch 45/1000\n",
      "181/181 - 2s - loss: -9.0345e-01 - negative_correlation_loss: -9.0590e-01 - val_loss: -8.8443e-01 - val_negative_correlation_loss: -8.8686e-01 - lr: 6.2500e-04 - 2s/epoch - 9ms/step\n",
      "Epoch 46/1000\n",
      "\n",
      "Epoch 46: ReduceLROnPlateau reducing learning rate to 0.0003124999930150807.\n",
      "181/181 - 2s - loss: -9.0354e-01 - negative_correlation_loss: -9.0598e-01 - val_loss: -8.8454e-01 - val_negative_correlation_loss: -8.8693e-01 - lr: 6.2500e-04 - 2s/epoch - 9ms/step\n",
      "Epoch 47/1000\n",
      "181/181 - 2s - loss: -9.0442e-01 - negative_correlation_loss: -9.0680e-01 - val_loss: -8.8483e-01 - val_negative_correlation_loss: -8.8719e-01 - lr: 3.1250e-04 - 2s/epoch - 9ms/step\n",
      "Epoch 48/1000\n",
      "181/181 - 2s - loss: -9.0457e-01 - negative_correlation_loss: -9.0689e-01 - val_loss: -8.8409e-01 - val_negative_correlation_loss: -8.8641e-01 - lr: 3.1250e-04 - 2s/epoch - 9ms/step\n",
      "Epoch 49/1000\n",
      "181/181 - 2s - loss: -9.0464e-01 - negative_correlation_loss: -9.0696e-01 - val_loss: -8.8420e-01 - val_negative_correlation_loss: -8.8650e-01 - lr: 3.1250e-04 - 2s/epoch - 9ms/step\n",
      "Epoch 50/1000\n",
      "\n",
      "Epoch 50: ReduceLROnPlateau reducing learning rate to 0.00015624999650754035.\n",
      "181/181 - 2s - loss: -9.0472e-01 - negative_correlation_loss: -9.0703e-01 - val_loss: -8.8463e-01 - val_negative_correlation_loss: -8.8690e-01 - lr: 3.1250e-04 - 2s/epoch - 9ms/step\n",
      "1/1 [==============================] - 0s 150ms/step\n",
      "Fold 0:  49 epochs, corr =  0.88792\n"
     ]
    }
   ],
   "source": [
    "def fit(X_train, y_train):\n",
    "  try:\n",
    "    np.random.seed(1)\n",
    "    tf.random.set_seed(1)\n",
    "\n",
    "    kf = GroupKFold(n_splits=N_SPLITS)\n",
    "    score_list = []\n",
    "    for fold, (idx_tr, idx_va) in enumerate(kf.split(X_train, groups=meta.donor)):\n",
    "        start_time = datetime.datetime.now()\n",
    "        model = None\n",
    "        gc.collect()\n",
    "        X_tr = X_train[idx_tr]\n",
    "        y_tr = y_train[idx_tr]\n",
    "        X_va = X_train[idx_va]\n",
    "        y_va = y_train[idx_va]\n",
    "\n",
    "        lr = ReduceLROnPlateau(monitor=\"val_loss\", factor=0.5, \n",
    "                              patience=4, verbose=VERBOSE)\n",
    "        es = EarlyStopping(monitor=\"val_loss\",\n",
    "                          patience=12, \n",
    "                          verbose=0,\n",
    "                          mode=\"min\", \n",
    "                          restore_best_weights=True)\n",
    "        callbacks = [lr, es, tf.keras.callbacks.TerminateOnNaN()]\n",
    "\n",
    "        # Construct and compile the model\n",
    "        model = my_model(n_inputs=X_train.shape[1],n_outputs=y_train.shape[1],reg1=reg1,reg2=reg2)\n",
    "\n",
    "        # Train the model\n",
    "        history = model.fit(X_tr, y_tr, \n",
    "                            validation_data=(X_va, y_va), \n",
    "                            epochs=EPOCHS,\n",
    "                            verbose=VERBOSE,\n",
    "                            batch_size=BATCH_SIZE,\n",
    "                            shuffle=True,\n",
    "                            callbacks=callbacks)\n",
    "        del X_tr, y_tr\n",
    "\n",
    "        # We validate the model\n",
    "        y_pred = model.predict(X_va, batch_size=X_va.shape[0])\n",
    "        corrscore = correlation_score(y_va, y_pred)\n",
    "\n",
    "        print(f\"Fold {fold}: {es.stopped_epoch:3} epochs, corr =  {corrscore:.5f}\")\n",
    "        del es, X_va#, y_va, y_va_pred\n",
    "        score_list.append(corrscore)\n",
    "\n",
    "        return model\n",
    "\n",
    "    # Show overall score\n",
    "    print(f\"{Fore.GREEN}{Style.BRIGHT}Average  corr = {np.array(score_list).mean():.5f}{Style.RESET_ALL}\")\n",
    "  finally:\n",
    "    return model\n",
    "LR_START = 0.01\n",
    "BATCH_SIZE = 256\n",
    "reg1 = 8e-5\n",
    "reg2 = 2e-5\n",
    "model = fit(X_train_svd,y_train)"
   ]
  },
  {
   "cell_type": "code",
   "execution_count": 3,
   "id": "e9f74c39-6d84-40ee-83f1-89236face882",
   "metadata": {
    "execution": {
     "iopub.execute_input": "2022-10-12T19:27:55.874478Z",
     "iopub.status.busy": "2022-10-12T19:27:55.873891Z",
     "iopub.status.idle": "2022-10-12T19:29:46.223332Z",
     "shell.execute_reply": "2022-10-12T19:29:46.222694Z",
     "shell.execute_reply.started": "2022-10-12T19:27:55.874454Z"
    }
   },
   "outputs": [
    {
     "name": "stdout",
     "output_type": "stream",
     "text": [
      "/home/jovyan/kaggle/working\n",
      "X shape: (70988, 21601) 1.283 GByte\n",
      "Shape of both before SVD: (119651, 21601)\n",
      "Shape of both after SVD:  (119651, 16)\n",
      "Reduced X shape:  (70988, 16)    0.004 GByte\n",
      "Reduced Xt shape: (48663, 16)    0.003 GByte\n",
      "Y shape: (70988, 140)   0.037 GByte\n",
      "CPU times: user 2min 8s, sys: 4.26 s, total: 2min 13s\n",
      "Wall time: 1min 50s\n"
     ]
    }
   ],
   "source": [
    "%%time\n",
    "\n",
    "%cd /home/jovyan/kaggle/working\n",
    "\n",
    "X_train = scipy.sparse.load_npz('./sparse/train_cite_inputs_values.sparse.npz')\n",
    "\n",
    "to_drop = np.genfromtxt(\"./sparse/drop_ids.csv\", delimiter=',', dtype = int)\n",
    "X_train = delete_columns_csr(X_train,to_drop)\n",
    "\n",
    "print(f\"X shape: {str(X_train.shape):14} {X_train.size*4/1024/1024/1024:2.3f} GByte\")\n",
    "\n",
    "with np.load('./sparse/train_cite_inputs_idxcol.npz',allow_pickle=True) as data:\n",
    "    cell_index = data['index']\n",
    "\n",
    "metadata_df = pd.read_csv('../input/open-problems-multimodal/metadata.csv', index_col='cell_id')\n",
    "metadata_df = metadata_df[metadata_df.technology==\"citeseq\"]\n",
    "meta = metadata_df.reindex(cell_index)\n",
    "\n",
    "X_test = scipy.sparse.load_npz('./sparse/test_cite_inputs_values.sparse.npz')\n",
    "\n",
    "X_test = delete_columns_csr(X_test,to_drop)\n",
    "\n",
    "with np.load('./sparse/test_cite_inputs_idxcol.npz',allow_pickle=True) as data:\n",
    "    cell_index_t = data['index']\n",
    "\n",
    "meta_t = metadata_df.reindex(cell_index_t)\n",
    "\n",
    "# Apply the singular value decomposition\n",
    "both = scipy.sparse.vstack([X_train, X_test])\n",
    "assert both.shape[0] == 119651\n",
    "print(f\"Shape of both before SVD: {both.shape}\")\n",
    "svd = TruncatedSVD(n_components=16, random_state=1) # 512 is possible\n",
    "both = svd.fit_transform(both)\n",
    "print(f\"Shape of both after SVD:  {both.shape}\")\n",
    "    \n",
    "# Hstack the svd output with the important features\n",
    "X_train_svd = both[:70988]\n",
    "X_test_svd = both[70988:]\n",
    "del both\n",
    "#X = np.hstack([X, X0])\n",
    "#Xt = np.hstack([Xt, X0t])\n",
    "print(f\"Reduced X shape:  {str(X_train_svd.shape):14} {X_train_svd.size*4/1024/1024/1024:2.3f} GByte\")\n",
    "print(f\"Reduced Xt shape: {str(X_test_svd.shape):14} {X_test_svd.size*4/1024/1024/1024:2.3f} GByte\")\n",
    "\n",
    "y_train = scipy.sparse.load_npz('./sparse/train_cite_targets_values.sparse.npz')\n",
    "\n",
    "# Normalize the targets row-wise: This doesn't change the correlations,\n",
    "# and negative_correlation_loss depends on it\n",
    "y_train -= y_train.mean(axis=1).reshape(-1, 1)\n",
    "y_train /= y_train.std(axis=1).reshape(-1, 1)\n",
    "    \n",
    "print(f\"Y shape: {str(y_train.shape):14} {y_train.size*4/1024/1024/1024:2.3f} GByte\")"
   ]
  },
  {
   "cell_type": "code",
   "execution_count": 4,
   "id": "d0b2fda4-5a3c-470a-a8f3-a56fc9413732",
   "metadata": {
    "execution": {
     "iopub.execute_input": "2022-10-12T19:31:07.222488Z",
     "iopub.status.busy": "2022-10-12T19:31:07.222042Z",
     "iopub.status.idle": "2022-10-12T19:33:06.033193Z",
     "shell.execute_reply": "2022-10-12T19:33:06.032574Z",
     "shell.execute_reply.started": "2022-10-12T19:31:07.222465Z"
    }
   },
   "outputs": [
    {
     "name": "stdout",
     "output_type": "stream",
     "text": [
      "Epoch 1/1000\n"
     ]
    },
    {
     "name": "stderr",
     "output_type": "stream",
     "text": [
      "2022-10-12 19:31:07.411724: I tensorflow/stream_executor/cuda/cuda_gpu_executor.cc:980] successful NUMA node read from SysFS had negative value (-1), but there must be at least one NUMA node, so returning NUMA node zero\n",
      "2022-10-12 19:31:07.412578: W tensorflow/stream_executor/platform/default/dso_loader.cc:64] Could not load dynamic library 'libcudnn.so.8'; dlerror: libcudnn.so.8: cannot open shared object file: No such file or directory; LD_LIBRARY_PATH: /usr/local/nvidia/lib:/usr/local/nvidia/lib64\n",
      "2022-10-12 19:31:07.412595: W tensorflow/core/common_runtime/gpu/gpu_device.cc:1934] Cannot dlopen some GPU libraries. Please make sure the missing libraries mentioned above are installed properly if you would like to use GPU. Follow the guide at https://www.tensorflow.org/install/gpu for how to download and setup the required libraries for your platform.\n",
      "Skipping registering GPU devices...\n",
      "2022-10-12 19:31:07.412848: I tensorflow/core/platform/cpu_feature_guard.cc:193] This TensorFlow binary is optimized with oneAPI Deep Neural Network Library (oneDNN) to use the following CPU instructions in performance-critical operations:  AVX2 AVX512F AVX512_VNNI FMA\n",
      "To enable them in other operations, rebuild TensorFlow with the appropriate compiler flags.\n"
     ]
    },
    {
     "name": "stdout",
     "output_type": "stream",
     "text": [
      "181/181 - 2s - loss: -8.3001e-01 - negative_correlation_loss: -8.5491e-01 - val_loss: -8.5740e-01 - val_negative_correlation_loss: -8.7269e-01 - lr: 0.0100 - 2s/epoch - 14ms/step\n",
      "Epoch 2/1000\n",
      "181/181 - 1s - loss: -8.7924e-01 - negative_correlation_loss: -8.9005e-01 - val_loss: -8.6673e-01 - val_negative_correlation_loss: -8.7454e-01 - lr: 0.0100 - 1s/epoch - 8ms/step\n",
      "Epoch 3/1000\n",
      "181/181 - 1s - loss: -8.8583e-01 - negative_correlation_loss: -8.9248e-01 - val_loss: -8.7063e-01 - val_negative_correlation_loss: -8.7648e-01 - lr: 0.0100 - 1s/epoch - 8ms/step\n",
      "Epoch 4/1000\n",
      "181/181 - 1s - loss: -8.8816e-01 - negative_correlation_loss: -8.9350e-01 - val_loss: -8.7311e-01 - val_negative_correlation_loss: -8.7791e-01 - lr: 0.0100 - 1s/epoch - 8ms/step\n",
      "Epoch 5/1000\n",
      "181/181 - 1s - loss: -8.8914e-01 - negative_correlation_loss: -8.9380e-01 - val_loss: -8.7127e-01 - val_negative_correlation_loss: -8.7561e-01 - lr: 0.0100 - 1s/epoch - 8ms/step\n",
      "Epoch 6/1000\n",
      "181/181 - 1s - loss: -8.9002e-01 - negative_correlation_loss: -8.9424e-01 - val_loss: -8.7391e-01 - val_negative_correlation_loss: -8.7795e-01 - lr: 0.0100 - 1s/epoch - 8ms/step\n",
      "Epoch 7/1000\n",
      "181/181 - 1s - loss: -8.9045e-01 - negative_correlation_loss: -8.9438e-01 - val_loss: -8.7234e-01 - val_negative_correlation_loss: -8.7622e-01 - lr: 0.0100 - 1s/epoch - 8ms/step\n",
      "Epoch 8/1000\n",
      "181/181 - 1s - loss: -8.9064e-01 - negative_correlation_loss: -8.9450e-01 - val_loss: -8.7425e-01 - val_negative_correlation_loss: -8.7788e-01 - lr: 0.0100 - 1s/epoch - 8ms/step\n",
      "Epoch 9/1000\n",
      "181/181 - 1s - loss: -8.9094e-01 - negative_correlation_loss: -8.9458e-01 - val_loss: -8.7589e-01 - val_negative_correlation_loss: -8.7950e-01 - lr: 0.0100 - 1s/epoch - 8ms/step\n",
      "Epoch 10/1000\n",
      "181/181 - 1s - loss: -8.9120e-01 - negative_correlation_loss: -8.9478e-01 - val_loss: -8.7396e-01 - val_negative_correlation_loss: -8.7737e-01 - lr: 0.0100 - 1s/epoch - 8ms/step\n",
      "Epoch 11/1000\n",
      "181/181 - 1s - loss: -8.9147e-01 - negative_correlation_loss: -8.9493e-01 - val_loss: -8.7491e-01 - val_negative_correlation_loss: -8.7820e-01 - lr: 0.0100 - 1s/epoch - 8ms/step\n",
      "Epoch 12/1000\n",
      "181/181 - 1s - loss: -8.9141e-01 - negative_correlation_loss: -8.9478e-01 - val_loss: -8.7595e-01 - val_negative_correlation_loss: -8.7933e-01 - lr: 0.0100 - 1s/epoch - 8ms/step\n",
      "Epoch 13/1000\n",
      "\n",
      "Epoch 13: ReduceLROnPlateau reducing learning rate to 0.004999999888241291.\n",
      "181/181 - 1s - loss: -8.9161e-01 - negative_correlation_loss: -8.9501e-01 - val_loss: -8.7430e-01 - val_negative_correlation_loss: -8.7767e-01 - lr: 0.0100 - 1s/epoch - 8ms/step\n",
      "Epoch 14/1000\n",
      "181/181 - 1s - loss: -8.9339e-01 - negative_correlation_loss: -8.9644e-01 - val_loss: -8.7599e-01 - val_negative_correlation_loss: -8.7883e-01 - lr: 0.0050 - 1s/epoch - 8ms/step\n",
      "Epoch 15/1000\n",
      "181/181 - 1s - loss: -8.9368e-01 - negative_correlation_loss: -8.9644e-01 - val_loss: -8.7688e-01 - val_negative_correlation_loss: -8.7958e-01 - lr: 0.0050 - 1s/epoch - 8ms/step\n",
      "Epoch 16/1000\n",
      "181/181 - 1s - loss: -8.9367e-01 - negative_correlation_loss: -8.9638e-01 - val_loss: -8.7508e-01 - val_negative_correlation_loss: -8.7772e-01 - lr: 0.0050 - 1s/epoch - 8ms/step\n",
      "Epoch 17/1000\n",
      "181/181 - 1s - loss: -8.9380e-01 - negative_correlation_loss: -8.9645e-01 - val_loss: -8.7583e-01 - val_negative_correlation_loss: -8.7840e-01 - lr: 0.0050 - 1s/epoch - 8ms/step\n",
      "Epoch 18/1000\n",
      "181/181 - 1s - loss: -8.9374e-01 - negative_correlation_loss: -8.9635e-01 - val_loss: -8.7522e-01 - val_negative_correlation_loss: -8.7782e-01 - lr: 0.0050 - 1s/epoch - 8ms/step\n",
      "Epoch 19/1000\n",
      "181/181 - 1s - loss: -8.9401e-01 - negative_correlation_loss: -8.9656e-01 - val_loss: -8.7749e-01 - val_negative_correlation_loss: -8.8005e-01 - lr: 0.0050 - 1s/epoch - 8ms/step\n",
      "Epoch 20/1000\n",
      "181/181 - 1s - loss: -8.9386e-01 - negative_correlation_loss: -8.9650e-01 - val_loss: -8.7620e-01 - val_negative_correlation_loss: -8.7878e-01 - lr: 0.0050 - 1s/epoch - 8ms/step\n",
      "Epoch 21/1000\n",
      "181/181 - 1s - loss: -8.9395e-01 - negative_correlation_loss: -8.9657e-01 - val_loss: -8.7562e-01 - val_negative_correlation_loss: -8.7816e-01 - lr: 0.0050 - 1s/epoch - 8ms/step\n",
      "Epoch 22/1000\n",
      "181/181 - 1s - loss: -8.9398e-01 - negative_correlation_loss: -8.9657e-01 - val_loss: -8.7570e-01 - val_negative_correlation_loss: -8.7825e-01 - lr: 0.0050 - 1s/epoch - 8ms/step\n",
      "Epoch 23/1000\n",
      "\n",
      "Epoch 23: ReduceLROnPlateau reducing learning rate to 0.0024999999441206455.\n",
      "181/181 - 1s - loss: -8.9405e-01 - negative_correlation_loss: -8.9657e-01 - val_loss: -8.7665e-01 - val_negative_correlation_loss: -8.7913e-01 - lr: 0.0050 - 1s/epoch - 8ms/step\n",
      "Epoch 24/1000\n",
      "181/181 - 1s - loss: -8.9524e-01 - negative_correlation_loss: -8.9762e-01 - val_loss: -8.7777e-01 - val_negative_correlation_loss: -8.8004e-01 - lr: 0.0025 - 1s/epoch - 8ms/step\n",
      "Epoch 25/1000\n",
      "181/181 - 1s - loss: -8.9538e-01 - negative_correlation_loss: -8.9763e-01 - val_loss: -8.7805e-01 - val_negative_correlation_loss: -8.8023e-01 - lr: 0.0025 - 1s/epoch - 8ms/step\n",
      "Epoch 26/1000\n",
      "181/181 - 1s - loss: -8.9553e-01 - negative_correlation_loss: -8.9770e-01 - val_loss: -8.7800e-01 - val_negative_correlation_loss: -8.8010e-01 - lr: 0.0025 - 1s/epoch - 8ms/step\n",
      "Epoch 27/1000\n",
      "181/181 - 1s - loss: -8.9554e-01 - negative_correlation_loss: -8.9764e-01 - val_loss: -8.7800e-01 - val_negative_correlation_loss: -8.8007e-01 - lr: 0.0025 - 1s/epoch - 8ms/step\n",
      "Epoch 28/1000\n",
      "181/181 - 1s - loss: -8.9563e-01 - negative_correlation_loss: -8.9771e-01 - val_loss: -8.7796e-01 - val_negative_correlation_loss: -8.7998e-01 - lr: 0.0025 - 1s/epoch - 8ms/step\n",
      "Epoch 29/1000\n",
      "181/181 - 1s - loss: -8.9563e-01 - negative_correlation_loss: -8.9769e-01 - val_loss: -8.7829e-01 - val_negative_correlation_loss: -8.8030e-01 - lr: 0.0025 - 1s/epoch - 8ms/step\n",
      "Epoch 30/1000\n",
      "181/181 - 1s - loss: -8.9572e-01 - negative_correlation_loss: -8.9772e-01 - val_loss: -8.7734e-01 - val_negative_correlation_loss: -8.7932e-01 - lr: 0.0025 - 1s/epoch - 8ms/step\n",
      "Epoch 31/1000\n",
      "181/181 - 1s - loss: -8.9569e-01 - negative_correlation_loss: -8.9769e-01 - val_loss: -8.7810e-01 - val_negative_correlation_loss: -8.8008e-01 - lr: 0.0025 - 1s/epoch - 8ms/step\n",
      "Epoch 32/1000\n",
      "181/181 - 1s - loss: -8.9577e-01 - negative_correlation_loss: -8.9776e-01 - val_loss: -8.7776e-01 - val_negative_correlation_loss: -8.7970e-01 - lr: 0.0025 - 1s/epoch - 8ms/step\n",
      "Epoch 33/1000\n",
      "181/181 - 1s - loss: -8.9577e-01 - negative_correlation_loss: -8.9777e-01 - val_loss: -8.7851e-01 - val_negative_correlation_loss: -8.8048e-01 - lr: 0.0025 - 1s/epoch - 8ms/step\n",
      "Epoch 34/1000\n",
      "181/181 - 1s - loss: -8.9587e-01 - negative_correlation_loss: -8.9784e-01 - val_loss: -8.7728e-01 - val_negative_correlation_loss: -8.7920e-01 - lr: 0.0025 - 1s/epoch - 8ms/step\n",
      "Epoch 35/1000\n",
      "181/181 - 1s - loss: -8.9569e-01 - negative_correlation_loss: -8.9768e-01 - val_loss: -8.7841e-01 - val_negative_correlation_loss: -8.8039e-01 - lr: 0.0025 - 1s/epoch - 8ms/step\n",
      "Epoch 36/1000\n",
      "181/181 - 1s - loss: -8.9584e-01 - negative_correlation_loss: -8.9777e-01 - val_loss: -8.7871e-01 - val_negative_correlation_loss: -8.8063e-01 - lr: 0.0025 - 1s/epoch - 8ms/step\n",
      "Epoch 37/1000\n",
      "181/181 - 1s - loss: -8.9585e-01 - negative_correlation_loss: -8.9781e-01 - val_loss: -8.7734e-01 - val_negative_correlation_loss: -8.7925e-01 - lr: 0.0025 - 1s/epoch - 8ms/step\n",
      "Epoch 38/1000\n",
      "181/181 - 1s - loss: -8.9585e-01 - negative_correlation_loss: -8.9786e-01 - val_loss: -8.7926e-01 - val_negative_correlation_loss: -8.8120e-01 - lr: 0.0025 - 1s/epoch - 8ms/step\n",
      "Epoch 39/1000\n",
      "181/181 - 1s - loss: -8.9584e-01 - negative_correlation_loss: -8.9782e-01 - val_loss: -8.7847e-01 - val_negative_correlation_loss: -8.8040e-01 - lr: 0.0025 - 1s/epoch - 8ms/step\n",
      "Epoch 40/1000\n",
      "181/181 - 1s - loss: -8.9590e-01 - negative_correlation_loss: -8.9785e-01 - val_loss: -8.7802e-01 - val_negative_correlation_loss: -8.7993e-01 - lr: 0.0025 - 1s/epoch - 8ms/step\n",
      "Epoch 41/1000\n",
      "181/181 - 1s - loss: -8.9591e-01 - negative_correlation_loss: -8.9789e-01 - val_loss: -8.7732e-01 - val_negative_correlation_loss: -8.7923e-01 - lr: 0.0025 - 1s/epoch - 8ms/step\n",
      "Epoch 42/1000\n",
      "\n",
      "Epoch 42: ReduceLROnPlateau reducing learning rate to 0.0012499999720603228.\n",
      "181/181 - 1s - loss: -8.9591e-01 - negative_correlation_loss: -8.9781e-01 - val_loss: -8.7823e-01 - val_negative_correlation_loss: -8.8011e-01 - lr: 0.0025 - 1s/epoch - 8ms/step\n",
      "Epoch 43/1000\n",
      "181/181 - 1s - loss: -8.9673e-01 - negative_correlation_loss: -8.9860e-01 - val_loss: -8.7850e-01 - val_negative_correlation_loss: -8.8029e-01 - lr: 0.0012 - 1s/epoch - 8ms/step\n",
      "Epoch 44/1000\n",
      "181/181 - 1s - loss: -8.9682e-01 - negative_correlation_loss: -8.9859e-01 - val_loss: -8.7827e-01 - val_negative_correlation_loss: -8.8002e-01 - lr: 0.0012 - 1s/epoch - 8ms/step\n",
      "Epoch 45/1000\n",
      "181/181 - 1s - loss: -8.9687e-01 - negative_correlation_loss: -8.9859e-01 - val_loss: -8.7902e-01 - val_negative_correlation_loss: -8.8074e-01 - lr: 0.0012 - 1s/epoch - 8ms/step\n",
      "Epoch 46/1000\n",
      "\n",
      "Epoch 46: ReduceLROnPlateau reducing learning rate to 0.0006249999860301614.\n",
      "181/181 - 1s - loss: -8.9695e-01 - negative_correlation_loss: -8.9867e-01 - val_loss: -8.7912e-01 - val_negative_correlation_loss: -8.8082e-01 - lr: 0.0012 - 1s/epoch - 8ms/step\n",
      "Epoch 47/1000\n",
      "181/181 - 1s - loss: -8.9740e-01 - negative_correlation_loss: -8.9909e-01 - val_loss: -8.7924e-01 - val_negative_correlation_loss: -8.8091e-01 - lr: 6.2500e-04 - 1s/epoch - 8ms/step\n",
      "Epoch 48/1000\n",
      "181/181 - 1s - loss: -8.9750e-01 - negative_correlation_loss: -8.9913e-01 - val_loss: -8.7902e-01 - val_negative_correlation_loss: -8.8066e-01 - lr: 6.2500e-04 - 1s/epoch - 8ms/step\n",
      "Epoch 49/1000\n",
      "181/181 - 1s - loss: -8.9754e-01 - negative_correlation_loss: -8.9919e-01 - val_loss: -8.7956e-01 - val_negative_correlation_loss: -8.8118e-01 - lr: 6.2500e-04 - 1s/epoch - 8ms/step\n",
      "Epoch 50/1000\n",
      "181/181 - 1s - loss: -8.9756e-01 - negative_correlation_loss: -8.9919e-01 - val_loss: -8.7980e-01 - val_negative_correlation_loss: -8.8140e-01 - lr: 6.2500e-04 - 1s/epoch - 8ms/step\n",
      "Epoch 51/1000\n",
      "181/181 - 1s - loss: -8.9757e-01 - negative_correlation_loss: -8.9913e-01 - val_loss: -8.7936e-01 - val_negative_correlation_loss: -8.8094e-01 - lr: 6.2500e-04 - 1s/epoch - 8ms/step\n",
      "Epoch 52/1000\n",
      "181/181 - 1s - loss: -8.9762e-01 - negative_correlation_loss: -8.9922e-01 - val_loss: -8.7960e-01 - val_negative_correlation_loss: -8.8116e-01 - lr: 6.2500e-04 - 1s/epoch - 8ms/step\n",
      "Epoch 53/1000\n",
      "181/181 - 1s - loss: -8.9765e-01 - negative_correlation_loss: -8.9920e-01 - val_loss: -8.7914e-01 - val_negative_correlation_loss: -8.8069e-01 - lr: 6.2500e-04 - 1s/epoch - 8ms/step\n",
      "Epoch 54/1000\n",
      "\n",
      "Epoch 54: ReduceLROnPlateau reducing learning rate to 0.0003124999930150807.\n",
      "181/181 - 1s - loss: -8.9766e-01 - negative_correlation_loss: -8.9923e-01 - val_loss: -8.7981e-01 - val_negative_correlation_loss: -8.8134e-01 - lr: 6.2500e-04 - 1s/epoch - 8ms/step\n",
      "Epoch 55/1000\n",
      "181/181 - 1s - loss: -8.9794e-01 - negative_correlation_loss: -8.9949e-01 - val_loss: -8.7984e-01 - val_negative_correlation_loss: -8.8136e-01 - lr: 3.1250e-04 - 1s/epoch - 8ms/step\n",
      "Epoch 56/1000\n",
      "181/181 - 1s - loss: -8.9801e-01 - negative_correlation_loss: -8.9954e-01 - val_loss: -8.7958e-01 - val_negative_correlation_loss: -8.8108e-01 - lr: 3.1250e-04 - 1s/epoch - 8ms/step\n",
      "Epoch 57/1000\n",
      "181/181 - 1s - loss: -8.9801e-01 - negative_correlation_loss: -8.9952e-01 - val_loss: -8.7982e-01 - val_negative_correlation_loss: -8.8132e-01 - lr: 3.1250e-04 - 1s/epoch - 8ms/step\n",
      "Epoch 58/1000\n",
      "\n",
      "Epoch 58: ReduceLROnPlateau reducing learning rate to 0.00015624999650754035.\n",
      "181/181 - 1s - loss: -8.9803e-01 - negative_correlation_loss: -8.9954e-01 - val_loss: -8.7930e-01 - val_negative_correlation_loss: -8.8078e-01 - lr: 3.1250e-04 - 1s/epoch - 8ms/step\n",
      "Epoch 59/1000\n",
      "181/181 - 1s - loss: -8.9820e-01 - negative_correlation_loss: -8.9970e-01 - val_loss: -8.7968e-01 - val_negative_correlation_loss: -8.8115e-01 - lr: 1.5625e-04 - 1s/epoch - 8ms/step\n",
      "Epoch 60/1000\n",
      "181/181 - 1s - loss: -8.9823e-01 - negative_correlation_loss: -8.9973e-01 - val_loss: -8.7991e-01 - val_negative_correlation_loss: -8.8138e-01 - lr: 1.5625e-04 - 1s/epoch - 8ms/step\n",
      "Epoch 61/1000\n",
      "181/181 - 1s - loss: -8.9823e-01 - negative_correlation_loss: -8.9972e-01 - val_loss: -8.7954e-01 - val_negative_correlation_loss: -8.8100e-01 - lr: 1.5625e-04 - 1s/epoch - 8ms/step\n",
      "Epoch 62/1000\n",
      "181/181 - 1s - loss: -8.9825e-01 - negative_correlation_loss: -8.9974e-01 - val_loss: -8.7968e-01 - val_negative_correlation_loss: -8.8114e-01 - lr: 1.5625e-04 - 1s/epoch - 8ms/step\n",
      "Epoch 63/1000\n",
      "181/181 - 1s - loss: -8.9825e-01 - negative_correlation_loss: -8.9975e-01 - val_loss: -8.7949e-01 - val_negative_correlation_loss: -8.8094e-01 - lr: 1.5625e-04 - 1s/epoch - 8ms/step\n",
      "Epoch 64/1000\n",
      "\n",
      "Epoch 64: ReduceLROnPlateau reducing learning rate to 7.812499825377017e-05.\n",
      "181/181 - 1s - loss: -8.9828e-01 - negative_correlation_loss: -8.9973e-01 - val_loss: -8.7984e-01 - val_negative_correlation_loss: -8.8129e-01 - lr: 1.5625e-04 - 1s/epoch - 8ms/step\n",
      "Epoch 65/1000\n",
      "181/181 - 1s - loss: -8.9836e-01 - negative_correlation_loss: -8.9984e-01 - val_loss: -8.7987e-01 - val_negative_correlation_loss: -8.8132e-01 - lr: 7.8125e-05 - 1s/epoch - 8ms/step\n",
      "Epoch 66/1000\n",
      "181/181 - 1s - loss: -8.9837e-01 - negative_correlation_loss: -8.9983e-01 - val_loss: -8.7971e-01 - val_negative_correlation_loss: -8.8115e-01 - lr: 7.8125e-05 - 1s/epoch - 8ms/step\n",
      "Epoch 67/1000\n",
      "181/181 - 1s - loss: -8.9838e-01 - negative_correlation_loss: -8.9985e-01 - val_loss: -8.7984e-01 - val_negative_correlation_loss: -8.8128e-01 - lr: 7.8125e-05 - 1s/epoch - 8ms/step\n",
      "Epoch 68/1000\n",
      "181/181 - 1s - loss: -8.9839e-01 - negative_correlation_loss: -8.9983e-01 - val_loss: -8.8002e-01 - val_negative_correlation_loss: -8.8145e-01 - lr: 7.8125e-05 - 1s/epoch - 8ms/step\n",
      "Epoch 69/1000\n",
      "181/181 - 1s - loss: -8.9840e-01 - negative_correlation_loss: -8.9984e-01 - val_loss: -8.8003e-01 - val_negative_correlation_loss: -8.8146e-01 - lr: 7.8125e-05 - 1s/epoch - 8ms/step\n",
      "Epoch 70/1000\n",
      "181/181 - 1s - loss: -8.9840e-01 - negative_correlation_loss: -8.9982e-01 - val_loss: -8.7987e-01 - val_negative_correlation_loss: -8.8129e-01 - lr: 7.8125e-05 - 1s/epoch - 8ms/step\n",
      "Epoch 71/1000\n",
      "181/181 - 1s - loss: -8.9841e-01 - negative_correlation_loss: -8.9982e-01 - val_loss: -8.7977e-01 - val_negative_correlation_loss: -8.8119e-01 - lr: 7.8125e-05 - 1s/epoch - 8ms/step\n",
      "Epoch 72/1000\n",
      "\n",
      "Epoch 72: ReduceLROnPlateau reducing learning rate to 3.9062499126885086e-05.\n",
      "181/181 - 1s - loss: -8.9841e-01 - negative_correlation_loss: -8.9983e-01 - val_loss: -8.7982e-01 - val_negative_correlation_loss: -8.8124e-01 - lr: 7.8125e-05 - 1s/epoch - 8ms/step\n",
      "Epoch 73/1000\n",
      "181/181 - 1s - loss: -8.9847e-01 - negative_correlation_loss: -8.9987e-01 - val_loss: -8.7997e-01 - val_negative_correlation_loss: -8.8138e-01 - lr: 3.9062e-05 - 1s/epoch - 8ms/step\n",
      "Epoch 74/1000\n",
      "181/181 - 1s - loss: -8.9847e-01 - negative_correlation_loss: -8.9992e-01 - val_loss: -8.7983e-01 - val_negative_correlation_loss: -8.8124e-01 - lr: 3.9062e-05 - 1s/epoch - 8ms/step\n",
      "Epoch 75/1000\n",
      "181/181 - 1s - loss: -8.9848e-01 - negative_correlation_loss: -8.9990e-01 - val_loss: -8.7983e-01 - val_negative_correlation_loss: -8.8124e-01 - lr: 3.9062e-05 - 1s/epoch - 8ms/step\n",
      "Epoch 76/1000\n",
      "\n",
      "Epoch 76: ReduceLROnPlateau reducing learning rate to 1.9531249563442543e-05.\n",
      "181/181 - 1s - loss: -8.9848e-01 - negative_correlation_loss: -8.9991e-01 - val_loss: -8.7996e-01 - val_negative_correlation_loss: -8.8137e-01 - lr: 3.9062e-05 - 1s/epoch - 8ms/step\n",
      "Epoch 77/1000\n",
      "181/181 - 1s - loss: -8.9851e-01 - negative_correlation_loss: -8.9993e-01 - val_loss: -8.7989e-01 - val_negative_correlation_loss: -8.8130e-01 - lr: 1.9531e-05 - 1s/epoch - 8ms/step\n",
      "Epoch 78/1000\n",
      "181/181 - 1s - loss: -8.9852e-01 - negative_correlation_loss: -8.9998e-01 - val_loss: -8.7981e-01 - val_negative_correlation_loss: -8.8122e-01 - lr: 1.9531e-05 - 1s/epoch - 8ms/step\n",
      "Epoch 79/1000\n",
      "181/181 - 1s - loss: -8.9852e-01 - negative_correlation_loss: -8.9994e-01 - val_loss: -8.7983e-01 - val_negative_correlation_loss: -8.8124e-01 - lr: 1.9531e-05 - 1s/epoch - 8ms/step\n",
      "Epoch 80/1000\n",
      "\n",
      "Epoch 80: ReduceLROnPlateau reducing learning rate to 9.765624781721272e-06.\n",
      "181/181 - 1s - loss: -8.9852e-01 - negative_correlation_loss: -8.9997e-01 - val_loss: -8.7986e-01 - val_negative_correlation_loss: -8.8127e-01 - lr: 1.9531e-05 - 1s/epoch - 8ms/step\n",
      "Epoch 81/1000\n",
      "181/181 - 1s - loss: -8.9854e-01 - negative_correlation_loss: -8.9996e-01 - val_loss: -8.7987e-01 - val_negative_correlation_loss: -8.8127e-01 - lr: 9.7656e-06 - 1s/epoch - 8ms/step\n",
      "1/1 [==============================] - 0s 131ms/step\n",
      "Fold 0:  80 epochs, corr =  0.88147\n"
     ]
    }
   ],
   "source": [
    "def fit(X_train, y_train):\n",
    "  try:\n",
    "    np.random.seed(1)\n",
    "    tf.random.set_seed(1)\n",
    "\n",
    "    kf = GroupKFold(n_splits=N_SPLITS)\n",
    "    score_list = []\n",
    "    for fold, (idx_tr, idx_va) in enumerate(kf.split(X_train, groups=meta.donor)):\n",
    "        start_time = datetime.datetime.now()\n",
    "        model = None\n",
    "        gc.collect()\n",
    "        X_tr = X_train[idx_tr]\n",
    "        y_tr = y_train[idx_tr]\n",
    "        X_va = X_train[idx_va]\n",
    "        y_va = y_train[idx_va]\n",
    "\n",
    "        lr = ReduceLROnPlateau(monitor=\"val_loss\", factor=0.5, \n",
    "                              patience=4, verbose=VERBOSE)\n",
    "        es = EarlyStopping(monitor=\"val_loss\",\n",
    "                          patience=12, \n",
    "                          verbose=0,\n",
    "                          mode=\"min\", \n",
    "                          restore_best_weights=True)\n",
    "        callbacks = [lr, es, tf.keras.callbacks.TerminateOnNaN()]\n",
    "\n",
    "        # Construct and compile the model\n",
    "        model = my_model(n_inputs=X_train.shape[1],n_outputs=y_train.shape[1],reg1=reg1,reg2=reg2)\n",
    "\n",
    "        # Train the model\n",
    "        history = model.fit(X_tr, y_tr, \n",
    "                            validation_data=(X_va, y_va), \n",
    "                            epochs=EPOCHS,\n",
    "                            verbose=VERBOSE,\n",
    "                            batch_size=BATCH_SIZE,\n",
    "                            shuffle=True,\n",
    "                            callbacks=callbacks)\n",
    "        del X_tr, y_tr\n",
    "\n",
    "        # We validate the model\n",
    "        y_pred = model.predict(X_va, batch_size=X_va.shape[0])\n",
    "        corrscore = correlation_score(y_va, y_pred)\n",
    "\n",
    "        print(f\"Fold {fold}: {es.stopped_epoch:3} epochs, corr =  {corrscore:.5f}\")\n",
    "        del es, X_va#, y_va, y_va_pred\n",
    "        score_list.append(corrscore)\n",
    "\n",
    "        return model\n",
    "\n",
    "    # Show overall score\n",
    "    print(f\"{Fore.GREEN}{Style.BRIGHT}Average  corr = {np.array(score_list).mean():.5f}{Style.RESET_ALL}\")\n",
    "  finally:\n",
    "    return model\n",
    "LR_START = 0.01\n",
    "BATCH_SIZE = 256\n",
    "reg1 = 8e-5\n",
    "reg2 = 2e-5\n",
    "model = fit(X_train_svd,y_train)"
   ]
  },
  {
   "cell_type": "code",
   "execution_count": 5,
   "id": "f53daefc-79e2-4d61-8633-dfd6a4fdd966",
   "metadata": {
    "execution": {
     "iopub.execute_input": "2022-10-12T19:33:23.694067Z",
     "iopub.status.busy": "2022-10-12T19:33:23.693600Z",
     "iopub.status.idle": "2022-10-12T19:35:55.664015Z",
     "shell.execute_reply": "2022-10-12T19:35:55.663410Z",
     "shell.execute_reply.started": "2022-10-12T19:33:23.694042Z"
    }
   },
   "outputs": [
    {
     "name": "stdout",
     "output_type": "stream",
     "text": [
      "/home/jovyan/kaggle/working\n",
      "X shape: (70988, 21601) 1.283 GByte\n",
      "Shape of both before SVD: (119651, 21601)\n",
      "Shape of both after SVD:  (119651, 32)\n",
      "Reduced X shape:  (70988, 32)    0.008 GByte\n",
      "Reduced Xt shape: (48663, 32)    0.006 GByte\n",
      "Y shape: (70988, 140)   0.037 GByte\n",
      "CPU times: user 2min 52s, sys: 2.46 s, total: 2min 55s\n",
      "Wall time: 2min 31s\n"
     ]
    }
   ],
   "source": [
    "%%time\n",
    "\n",
    "%cd /home/jovyan/kaggle/working\n",
    "\n",
    "X_train = scipy.sparse.load_npz('./sparse/train_cite_inputs_values.sparse.npz')\n",
    "\n",
    "to_drop = np.genfromtxt(\"./sparse/drop_ids.csv\", delimiter=',', dtype = int)\n",
    "X_train = delete_columns_csr(X_train,to_drop)\n",
    "\n",
    "print(f\"X shape: {str(X_train.shape):14} {X_train.size*4/1024/1024/1024:2.3f} GByte\")\n",
    "\n",
    "with np.load('./sparse/train_cite_inputs_idxcol.npz',allow_pickle=True) as data:\n",
    "    cell_index = data['index']\n",
    "\n",
    "metadata_df = pd.read_csv('../input/open-problems-multimodal/metadata.csv', index_col='cell_id')\n",
    "metadata_df = metadata_df[metadata_df.technology==\"citeseq\"]\n",
    "meta = metadata_df.reindex(cell_index)\n",
    "\n",
    "X_test = scipy.sparse.load_npz('./sparse/test_cite_inputs_values.sparse.npz')\n",
    "\n",
    "X_test = delete_columns_csr(X_test,to_drop)\n",
    "\n",
    "with np.load('./sparse/test_cite_inputs_idxcol.npz',allow_pickle=True) as data:\n",
    "    cell_index_t = data['index']\n",
    "\n",
    "meta_t = metadata_df.reindex(cell_index_t)\n",
    "\n",
    "# Apply the singular value decomposition\n",
    "both = scipy.sparse.vstack([X_train, X_test])\n",
    "assert both.shape[0] == 119651\n",
    "print(f\"Shape of both before SVD: {both.shape}\")\n",
    "svd = TruncatedSVD(n_components=32, random_state=1) # 512 is possible\n",
    "both = svd.fit_transform(both)\n",
    "print(f\"Shape of both after SVD:  {both.shape}\")\n",
    "    \n",
    "# Hstack the svd output with the important features\n",
    "X_train_svd = both[:70988]\n",
    "X_test_svd = both[70988:]\n",
    "del both\n",
    "#X = np.hstack([X, X0])\n",
    "#Xt = np.hstack([Xt, X0t])\n",
    "print(f\"Reduced X shape:  {str(X_train_svd.shape):14} {X_train_svd.size*4/1024/1024/1024:2.3f} GByte\")\n",
    "print(f\"Reduced Xt shape: {str(X_test_svd.shape):14} {X_test_svd.size*4/1024/1024/1024:2.3f} GByte\")\n",
    "\n",
    "y_train = scipy.sparse.load_npz('./sparse/train_cite_targets_values.sparse.npz')\n",
    "\n",
    "# Normalize the targets row-wise: This doesn't change the correlations,\n",
    "# and negative_correlation_loss depends on it\n",
    "y_train -= y_train.mean(axis=1).reshape(-1, 1)\n",
    "y_train /= y_train.std(axis=1).reshape(-1, 1)\n",
    "    \n",
    "print(f\"Y shape: {str(y_train.shape):14} {y_train.size*4/1024/1024/1024:2.3f} GByte\")"
   ]
  },
  {
   "cell_type": "code",
   "execution_count": 6,
   "id": "7e2aeb1e-8be4-4171-bb3e-ea4bcd70eb8a",
   "metadata": {
    "execution": {
     "iopub.execute_input": "2022-10-12T19:36:02.072467Z",
     "iopub.status.busy": "2022-10-12T19:36:02.072006Z",
     "iopub.status.idle": "2022-10-12T19:37:34.672734Z",
     "shell.execute_reply": "2022-10-12T19:37:34.672097Z",
     "shell.execute_reply.started": "2022-10-12T19:36:02.072443Z"
    }
   },
   "outputs": [
    {
     "name": "stdout",
     "output_type": "stream",
     "text": [
      "Epoch 1/1000\n",
      "181/181 - 2s - loss: -8.3351e-01 - negative_correlation_loss: -8.5759e-01 - val_loss: -8.6109e-01 - val_negative_correlation_loss: -8.7528e-01 - lr: 0.0100 - 2s/epoch - 13ms/step\n",
      "Epoch 2/1000\n",
      "181/181 - 1s - loss: -8.8339e-01 - negative_correlation_loss: -8.9359e-01 - val_loss: -8.7108e-01 - val_negative_correlation_loss: -8.7864e-01 - lr: 0.0100 - 1s/epoch - 8ms/step\n",
      "Epoch 3/1000\n",
      "181/181 - 1s - loss: -8.8912e-01 - negative_correlation_loss: -8.9567e-01 - val_loss: -8.7570e-01 - val_negative_correlation_loss: -8.8127e-01 - lr: 0.0100 - 1s/epoch - 8ms/step\n",
      "Epoch 4/1000\n",
      "181/181 - 1s - loss: -8.9113e-01 - negative_correlation_loss: -8.9636e-01 - val_loss: -8.7542e-01 - val_negative_correlation_loss: -8.8024e-01 - lr: 0.0100 - 1s/epoch - 8ms/step\n",
      "Epoch 5/1000\n",
      "181/181 - 1s - loss: -8.9196e-01 - negative_correlation_loss: -8.9659e-01 - val_loss: -8.7675e-01 - val_negative_correlation_loss: -8.8109e-01 - lr: 0.0100 - 1s/epoch - 8ms/step\n",
      "Epoch 6/1000\n",
      "181/181 - 1s - loss: -8.9286e-01 - negative_correlation_loss: -8.9704e-01 - val_loss: -8.7787e-01 - val_negative_correlation_loss: -8.8200e-01 - lr: 0.0100 - 1s/epoch - 8ms/step\n",
      "Epoch 7/1000\n",
      "181/181 - 1s - loss: -8.9313e-01 - negative_correlation_loss: -8.9715e-01 - val_loss: -8.7811e-01 - val_negative_correlation_loss: -8.8208e-01 - lr: 0.0100 - 1s/epoch - 8ms/step\n",
      "Epoch 8/1000\n",
      "181/181 - 1s - loss: -8.9351e-01 - negative_correlation_loss: -8.9737e-01 - val_loss: -8.7884e-01 - val_negative_correlation_loss: -8.8256e-01 - lr: 0.0100 - 1s/epoch - 8ms/step\n",
      "Epoch 9/1000\n",
      "181/181 - 1s - loss: -8.9358e-01 - negative_correlation_loss: -8.9734e-01 - val_loss: -8.7875e-01 - val_negative_correlation_loss: -8.8274e-01 - lr: 0.0100 - 1s/epoch - 8ms/step\n",
      "Epoch 10/1000\n",
      "181/181 - 1s - loss: -8.9373e-01 - negative_correlation_loss: -8.9751e-01 - val_loss: -8.7798e-01 - val_negative_correlation_loss: -8.8166e-01 - lr: 0.0100 - 1s/epoch - 8ms/step\n",
      "Epoch 11/1000\n",
      "181/181 - 1s - loss: -8.9398e-01 - negative_correlation_loss: -8.9765e-01 - val_loss: -8.7647e-01 - val_negative_correlation_loss: -8.7991e-01 - lr: 0.0100 - 1s/epoch - 8ms/step\n",
      "Epoch 12/1000\n",
      "\n",
      "Epoch 12: ReduceLROnPlateau reducing learning rate to 0.004999999888241291.\n",
      "181/181 - 1s - loss: -8.9394e-01 - negative_correlation_loss: -8.9744e-01 - val_loss: -8.7860e-01 - val_negative_correlation_loss: -8.8217e-01 - lr: 0.0100 - 1s/epoch - 8ms/step\n",
      "Epoch 13/1000\n",
      "181/181 - 1s - loss: -8.9590e-01 - negative_correlation_loss: -8.9901e-01 - val_loss: -8.8045e-01 - val_negative_correlation_loss: -8.8328e-01 - lr: 0.0050 - 1s/epoch - 8ms/step\n",
      "Epoch 14/1000\n",
      "181/181 - 1s - loss: -8.9612e-01 - negative_correlation_loss: -8.9893e-01 - val_loss: -8.7924e-01 - val_negative_correlation_loss: -8.8197e-01 - lr: 0.0050 - 1s/epoch - 8ms/step\n",
      "Epoch 15/1000\n",
      "181/181 - 1s - loss: -8.9630e-01 - negative_correlation_loss: -8.9897e-01 - val_loss: -8.8014e-01 - val_negative_correlation_loss: -8.8277e-01 - lr: 0.0050 - 1s/epoch - 8ms/step\n",
      "Epoch 16/1000\n",
      "181/181 - 1s - loss: -8.9623e-01 - negative_correlation_loss: -8.9895e-01 - val_loss: -8.7991e-01 - val_negative_correlation_loss: -8.8254e-01 - lr: 0.0050 - 1s/epoch - 8ms/step\n",
      "Epoch 17/1000\n",
      "\n",
      "Epoch 17: ReduceLROnPlateau reducing learning rate to 0.0024999999441206455.\n",
      "181/181 - 1s - loss: -8.9640e-01 - negative_correlation_loss: -8.9906e-01 - val_loss: -8.7945e-01 - val_negative_correlation_loss: -8.8206e-01 - lr: 0.0050 - 1s/epoch - 8ms/step\n",
      "Epoch 18/1000\n",
      "181/181 - 1s - loss: -8.9773e-01 - negative_correlation_loss: -9.0019e-01 - val_loss: -8.8191e-01 - val_negative_correlation_loss: -8.8423e-01 - lr: 0.0025 - 1s/epoch - 8ms/step\n",
      "Epoch 19/1000\n",
      "181/181 - 1s - loss: -8.9801e-01 - negative_correlation_loss: -9.0023e-01 - val_loss: -8.8184e-01 - val_negative_correlation_loss: -8.8402e-01 - lr: 0.0025 - 1s/epoch - 8ms/step\n",
      "Epoch 20/1000\n",
      "181/181 - 1s - loss: -8.9799e-01 - negative_correlation_loss: -9.0018e-01 - val_loss: -8.8165e-01 - val_negative_correlation_loss: -8.8378e-01 - lr: 0.0025 - 1s/epoch - 8ms/step\n",
      "Epoch 21/1000\n",
      "181/181 - 1s - loss: -8.9812e-01 - negative_correlation_loss: -9.0027e-01 - val_loss: -8.8219e-01 - val_negative_correlation_loss: -8.8427e-01 - lr: 0.0025 - 1s/epoch - 8ms/step\n",
      "Epoch 22/1000\n",
      "181/181 - 1s - loss: -8.9811e-01 - negative_correlation_loss: -9.0021e-01 - val_loss: -8.8258e-01 - val_negative_correlation_loss: -8.8462e-01 - lr: 0.0025 - 1s/epoch - 8ms/step\n",
      "Epoch 23/1000\n",
      "181/181 - 1s - loss: -8.9822e-01 - negative_correlation_loss: -9.0025e-01 - val_loss: -8.8167e-01 - val_negative_correlation_loss: -8.8368e-01 - lr: 0.0025 - 1s/epoch - 8ms/step\n",
      "Epoch 24/1000\n",
      "181/181 - 1s - loss: -8.9830e-01 - negative_correlation_loss: -9.0033e-01 - val_loss: -8.8242e-01 - val_negative_correlation_loss: -8.8442e-01 - lr: 0.0025 - 1s/epoch - 8ms/step\n",
      "Epoch 25/1000\n",
      "181/181 - 1s - loss: -8.9818e-01 - negative_correlation_loss: -9.0024e-01 - val_loss: -8.8196e-01 - val_negative_correlation_loss: -8.8397e-01 - lr: 0.0025 - 1s/epoch - 8ms/step\n",
      "Epoch 26/1000\n",
      "\n",
      "Epoch 26: ReduceLROnPlateau reducing learning rate to 0.0012499999720603228.\n",
      "181/181 - 1s - loss: -8.9830e-01 - negative_correlation_loss: -9.0030e-01 - val_loss: -8.8168e-01 - val_negative_correlation_loss: -8.8363e-01 - lr: 0.0025 - 1s/epoch - 8ms/step\n",
      "Epoch 27/1000\n",
      "181/181 - 1s - loss: -8.9921e-01 - negative_correlation_loss: -9.0112e-01 - val_loss: -8.8334e-01 - val_negative_correlation_loss: -8.8518e-01 - lr: 0.0012 - 1s/epoch - 8ms/step\n",
      "Epoch 28/1000\n",
      "181/181 - 1s - loss: -8.9938e-01 - negative_correlation_loss: -9.0122e-01 - val_loss: -8.8262e-01 - val_negative_correlation_loss: -8.8439e-01 - lr: 0.0012 - 1s/epoch - 8ms/step\n",
      "Epoch 29/1000\n",
      "181/181 - 1s - loss: -8.9941e-01 - negative_correlation_loss: -9.0121e-01 - val_loss: -8.8325e-01 - val_negative_correlation_loss: -8.8497e-01 - lr: 0.0012 - 1s/epoch - 8ms/step\n",
      "Epoch 30/1000\n",
      "181/181 - 1s - loss: -8.9946e-01 - negative_correlation_loss: -9.0119e-01 - val_loss: -8.8277e-01 - val_negative_correlation_loss: -8.8446e-01 - lr: 0.0012 - 1s/epoch - 8ms/step\n",
      "Epoch 31/1000\n",
      "181/181 - 1s - loss: -8.9952e-01 - negative_correlation_loss: -9.0121e-01 - val_loss: -8.8348e-01 - val_negative_correlation_loss: -8.8514e-01 - lr: 0.0012 - 1s/epoch - 8ms/step\n",
      "Epoch 32/1000\n",
      "181/181 - 1s - loss: -8.9952e-01 - negative_correlation_loss: -9.0119e-01 - val_loss: -8.8219e-01 - val_negative_correlation_loss: -8.8381e-01 - lr: 0.0012 - 1s/epoch - 8ms/step\n",
      "Epoch 33/1000\n",
      "181/181 - 1s - loss: -8.9955e-01 - negative_correlation_loss: -9.0120e-01 - val_loss: -8.8280e-01 - val_negative_correlation_loss: -8.8441e-01 - lr: 0.0012 - 1s/epoch - 8ms/step\n",
      "Epoch 34/1000\n",
      "181/181 - 1s - loss: -8.9964e-01 - negative_correlation_loss: -9.0125e-01 - val_loss: -8.8299e-01 - val_negative_correlation_loss: -8.8458e-01 - lr: 0.0012 - 1s/epoch - 8ms/step\n",
      "Epoch 35/1000\n",
      "\n",
      "Epoch 35: ReduceLROnPlateau reducing learning rate to 0.0006249999860301614.\n",
      "181/181 - 1s - loss: -8.9959e-01 - negative_correlation_loss: -9.0120e-01 - val_loss: -8.8333e-01 - val_negative_correlation_loss: -8.8491e-01 - lr: 0.0012 - 1s/epoch - 8ms/step\n",
      "Epoch 36/1000\n",
      "181/181 - 1s - loss: -9.0020e-01 - negative_correlation_loss: -9.0174e-01 - val_loss: -8.8392e-01 - val_negative_correlation_loss: -8.8546e-01 - lr: 6.2500e-04 - 1s/epoch - 8ms/step\n",
      "Epoch 37/1000\n",
      "181/181 - 1s - loss: -9.0028e-01 - negative_correlation_loss: -9.0183e-01 - val_loss: -8.8337e-01 - val_negative_correlation_loss: -8.8488e-01 - lr: 6.2500e-04 - 1s/epoch - 8ms/step\n",
      "Epoch 38/1000\n",
      "181/181 - 1s - loss: -9.0029e-01 - negative_correlation_loss: -9.0185e-01 - val_loss: -8.8432e-01 - val_negative_correlation_loss: -8.8579e-01 - lr: 6.2500e-04 - 1s/epoch - 8ms/step\n",
      "Epoch 39/1000\n",
      "181/181 - 1s - loss: -9.0034e-01 - negative_correlation_loss: -9.0185e-01 - val_loss: -8.8391e-01 - val_negative_correlation_loss: -8.8536e-01 - lr: 6.2500e-04 - 1s/epoch - 8ms/step\n",
      "Epoch 40/1000\n",
      "181/181 - 1s - loss: -9.0038e-01 - negative_correlation_loss: -9.0186e-01 - val_loss: -8.8370e-01 - val_negative_correlation_loss: -8.8513e-01 - lr: 6.2500e-04 - 1s/epoch - 8ms/step\n",
      "Epoch 41/1000\n",
      "181/181 - 1s - loss: -9.0038e-01 - negative_correlation_loss: -9.0186e-01 - val_loss: -8.8428e-01 - val_negative_correlation_loss: -8.8570e-01 - lr: 6.2500e-04 - 1s/epoch - 8ms/step\n",
      "Epoch 42/1000\n",
      "\n",
      "Epoch 42: ReduceLROnPlateau reducing learning rate to 0.0003124999930150807.\n",
      "181/181 - 1s - loss: -9.0042e-01 - negative_correlation_loss: -9.0184e-01 - val_loss: -8.8368e-01 - val_negative_correlation_loss: -8.8509e-01 - lr: 6.2500e-04 - 1s/epoch - 8ms/step\n",
      "Epoch 43/1000\n",
      "181/181 - 1s - loss: -9.0075e-01 - negative_correlation_loss: -9.0219e-01 - val_loss: -8.8439e-01 - val_negative_correlation_loss: -8.8578e-01 - lr: 3.1250e-04 - 1s/epoch - 8ms/step\n",
      "Epoch 44/1000\n",
      "181/181 - 1s - loss: -9.0078e-01 - negative_correlation_loss: -9.0215e-01 - val_loss: -8.8362e-01 - val_negative_correlation_loss: -8.8499e-01 - lr: 3.1250e-04 - 1s/epoch - 8ms/step\n",
      "Epoch 45/1000\n",
      "181/181 - 1s - loss: -9.0081e-01 - negative_correlation_loss: -9.0215e-01 - val_loss: -8.8404e-01 - val_negative_correlation_loss: -8.8540e-01 - lr: 3.1250e-04 - 1s/epoch - 8ms/step\n",
      "Epoch 46/1000\n",
      "181/181 - 1s - loss: -9.0084e-01 - negative_correlation_loss: -9.0220e-01 - val_loss: -8.8464e-01 - val_negative_correlation_loss: -8.8599e-01 - lr: 3.1250e-04 - 1s/epoch - 8ms/step\n",
      "Epoch 47/1000\n",
      "181/181 - 1s - loss: -9.0084e-01 - negative_correlation_loss: -9.0219e-01 - val_loss: -8.8445e-01 - val_negative_correlation_loss: -8.8579e-01 - lr: 3.1250e-04 - 1s/epoch - 8ms/step\n",
      "Epoch 48/1000\n",
      "181/181 - 1s - loss: -9.0088e-01 - negative_correlation_loss: -9.0220e-01 - val_loss: -8.8399e-01 - val_negative_correlation_loss: -8.8532e-01 - lr: 3.1250e-04 - 1s/epoch - 8ms/step\n",
      "Epoch 49/1000\n",
      "181/181 - 1s - loss: -9.0089e-01 - negative_correlation_loss: -9.0223e-01 - val_loss: -8.8406e-01 - val_negative_correlation_loss: -8.8538e-01 - lr: 3.1250e-04 - 1s/epoch - 8ms/step\n",
      "Epoch 50/1000\n",
      "181/181 - 1s - loss: -9.0091e-01 - negative_correlation_loss: -9.0224e-01 - val_loss: -8.8486e-01 - val_negative_correlation_loss: -8.8617e-01 - lr: 3.1250e-04 - 1s/epoch - 8ms/step\n",
      "Epoch 51/1000\n",
      "181/181 - 1s - loss: -9.0094e-01 - negative_correlation_loss: -9.0222e-01 - val_loss: -8.8439e-01 - val_negative_correlation_loss: -8.8569e-01 - lr: 3.1250e-04 - 1s/epoch - 8ms/step\n",
      "Epoch 52/1000\n",
      "181/181 - 1s - loss: -9.0094e-01 - negative_correlation_loss: -9.0226e-01 - val_loss: -8.8435e-01 - val_negative_correlation_loss: -8.8564e-01 - lr: 3.1250e-04 - 1s/epoch - 8ms/step\n",
      "Epoch 53/1000\n",
      "181/181 - 1s - loss: -9.0096e-01 - negative_correlation_loss: -9.0225e-01 - val_loss: -8.8417e-01 - val_negative_correlation_loss: -8.8545e-01 - lr: 3.1250e-04 - 1s/epoch - 8ms/step\n",
      "Epoch 54/1000\n",
      "\n",
      "Epoch 54: ReduceLROnPlateau reducing learning rate to 0.00015624999650754035.\n",
      "181/181 - 1s - loss: -9.0096e-01 - negative_correlation_loss: -9.0227e-01 - val_loss: -8.8465e-01 - val_negative_correlation_loss: -8.8592e-01 - lr: 3.1250e-04 - 1s/epoch - 8ms/step\n",
      "Epoch 55/1000\n",
      "181/181 - 1s - loss: -9.0116e-01 - negative_correlation_loss: -9.0247e-01 - val_loss: -8.8454e-01 - val_negative_correlation_loss: -8.8581e-01 - lr: 1.5625e-04 - 1s/epoch - 8ms/step\n",
      "Epoch 56/1000\n",
      "181/181 - 1s - loss: -9.0120e-01 - negative_correlation_loss: -9.0249e-01 - val_loss: -8.8392e-01 - val_negative_correlation_loss: -8.8518e-01 - lr: 1.5625e-04 - 1s/epoch - 8ms/step\n",
      "Epoch 57/1000\n",
      "181/181 - 1s - loss: -9.0120e-01 - negative_correlation_loss: -9.0246e-01 - val_loss: -8.8464e-01 - val_negative_correlation_loss: -8.8589e-01 - lr: 1.5625e-04 - 1s/epoch - 8ms/step\n",
      "Epoch 58/1000\n",
      "\n",
      "Epoch 58: ReduceLROnPlateau reducing learning rate to 7.812499825377017e-05.\n",
      "181/181 - 1s - loss: -9.0122e-01 - negative_correlation_loss: -9.0248e-01 - val_loss: -8.8416e-01 - val_negative_correlation_loss: -8.8541e-01 - lr: 1.5625e-04 - 1s/epoch - 8ms/step\n",
      "Epoch 59/1000\n",
      "181/181 - 1s - loss: -9.0133e-01 - negative_correlation_loss: -9.0260e-01 - val_loss: -8.8443e-01 - val_negative_correlation_loss: -8.8567e-01 - lr: 7.8125e-05 - 1s/epoch - 8ms/step\n",
      "Epoch 60/1000\n",
      "181/181 - 1s - loss: -9.0134e-01 - negative_correlation_loss: -9.0261e-01 - val_loss: -8.8478e-01 - val_negative_correlation_loss: -8.8602e-01 - lr: 7.8125e-05 - 1s/epoch - 8ms/step\n",
      "Epoch 61/1000\n",
      "181/181 - 1s - loss: -9.0134e-01 - negative_correlation_loss: -9.0261e-01 - val_loss: -8.8448e-01 - val_negative_correlation_loss: -8.8571e-01 - lr: 7.8125e-05 - 1s/epoch - 8ms/step\n",
      "Epoch 62/1000\n",
      "\n",
      "Epoch 62: ReduceLROnPlateau reducing learning rate to 3.9062499126885086e-05.\n",
      "181/181 - 1s - loss: -9.0135e-01 - negative_correlation_loss: -9.0261e-01 - val_loss: -8.8458e-01 - val_negative_correlation_loss: -8.8581e-01 - lr: 7.8125e-05 - 1s/epoch - 8ms/step\n",
      "1/1 [==============================] - 0s 91ms/step\n",
      "Fold 0:  61 epochs, corr =  0.88619\n"
     ]
    }
   ],
   "source": [
    "def fit(X_train, y_train):\n",
    "  try:\n",
    "    np.random.seed(1)\n",
    "    tf.random.set_seed(1)\n",
    "\n",
    "    kf = GroupKFold(n_splits=N_SPLITS)\n",
    "    score_list = []\n",
    "    for fold, (idx_tr, idx_va) in enumerate(kf.split(X_train, groups=meta.donor)):\n",
    "        start_time = datetime.datetime.now()\n",
    "        model = None\n",
    "        gc.collect()\n",
    "        X_tr = X_train[idx_tr]\n",
    "        y_tr = y_train[idx_tr]\n",
    "        X_va = X_train[idx_va]\n",
    "        y_va = y_train[idx_va]\n",
    "\n",
    "        lr = ReduceLROnPlateau(monitor=\"val_loss\", factor=0.5, \n",
    "                              patience=4, verbose=VERBOSE)\n",
    "        es = EarlyStopping(monitor=\"val_loss\",\n",
    "                          patience=12, \n",
    "                          verbose=0,\n",
    "                          mode=\"min\", \n",
    "                          restore_best_weights=True)\n",
    "        callbacks = [lr, es, tf.keras.callbacks.TerminateOnNaN()]\n",
    "\n",
    "        # Construct and compile the model\n",
    "        model = my_model(n_inputs=X_train.shape[1],n_outputs=y_train.shape[1],reg1=reg1,reg2=reg2)\n",
    "\n",
    "        # Train the model\n",
    "        history = model.fit(X_tr, y_tr, \n",
    "                            validation_data=(X_va, y_va), \n",
    "                            epochs=EPOCHS,\n",
    "                            verbose=VERBOSE,\n",
    "                            batch_size=BATCH_SIZE,\n",
    "                            shuffle=True,\n",
    "                            callbacks=callbacks)\n",
    "        del X_tr, y_tr\n",
    "\n",
    "        # We validate the model\n",
    "        y_pred = model.predict(X_va, batch_size=X_va.shape[0])\n",
    "        corrscore = correlation_score(y_va, y_pred)\n",
    "\n",
    "        print(f\"Fold {fold}: {es.stopped_epoch:3} epochs, corr =  {corrscore:.5f}\")\n",
    "        del es, X_va#, y_va, y_va_pred\n",
    "        score_list.append(corrscore)\n",
    "\n",
    "        return model\n",
    "\n",
    "    # Show overall score\n",
    "    print(f\"{Fore.GREEN}{Style.BRIGHT}Average  corr = {np.array(score_list).mean():.5f}{Style.RESET_ALL}\")\n",
    "  finally:\n",
    "    return model\n",
    "LR_START = 0.01\n",
    "BATCH_SIZE = 256\n",
    "reg1 = 8e-5\n",
    "reg2 = 2e-5\n",
    "model = fit(X_train_svd,y_train)"
   ]
  },
  {
   "cell_type": "code",
   "execution_count": 7,
   "id": "1d50e13e-acd5-4601-8729-c1ba9f329637",
   "metadata": {
    "execution": {
     "iopub.execute_input": "2022-10-12T19:38:36.241153Z",
     "iopub.status.busy": "2022-10-12T19:38:36.240779Z",
     "iopub.status.idle": "2022-10-12T19:40:04.427043Z",
     "shell.execute_reply": "2022-10-12T19:40:04.426433Z",
     "shell.execute_reply.started": "2022-10-12T19:38:36.241128Z"
    }
   },
   "outputs": [
    {
     "name": "stdout",
     "output_type": "stream",
     "text": [
      "/home/jovyan/kaggle/working\n",
      "X shape: (70988, 21601) 1.283 GByte\n",
      "Shape of both before SVD: (119651, 21601)\n",
      "Shape of both after SVD:  (119651, 8)\n",
      "Reduced X shape:  (70988, 8)     0.002 GByte\n",
      "Reduced Xt shape: (48663, 8)     0.001 GByte\n",
      "Y shape: (70988, 140)   0.037 GByte\n",
      "CPU times: user 1min 47s, sys: 3.02 s, total: 1min 50s\n",
      "Wall time: 1min 28s\n"
     ]
    }
   ],
   "source": [
    "%%time\n",
    "\n",
    "%cd /home/jovyan/kaggle/working\n",
    "\n",
    "X_train = scipy.sparse.load_npz('./sparse/train_cite_inputs_values.sparse.npz')\n",
    "\n",
    "to_drop = np.genfromtxt(\"./sparse/drop_ids.csv\", delimiter=',', dtype = int)\n",
    "X_train = delete_columns_csr(X_train,to_drop)\n",
    "\n",
    "print(f\"X shape: {str(X_train.shape):14} {X_train.size*4/1024/1024/1024:2.3f} GByte\")\n",
    "\n",
    "with np.load('./sparse/train_cite_inputs_idxcol.npz',allow_pickle=True) as data:\n",
    "    cell_index = data['index']\n",
    "\n",
    "metadata_df = pd.read_csv('../input/open-problems-multimodal/metadata.csv', index_col='cell_id')\n",
    "metadata_df = metadata_df[metadata_df.technology==\"citeseq\"]\n",
    "meta = metadata_df.reindex(cell_index)\n",
    "\n",
    "X_test = scipy.sparse.load_npz('./sparse/test_cite_inputs_values.sparse.npz')\n",
    "\n",
    "X_test = delete_columns_csr(X_test,to_drop)\n",
    "\n",
    "with np.load('./sparse/test_cite_inputs_idxcol.npz',allow_pickle=True) as data:\n",
    "    cell_index_t = data['index']\n",
    "\n",
    "meta_t = metadata_df.reindex(cell_index_t)\n",
    "\n",
    "# Apply the singular value decomposition\n",
    "both = scipy.sparse.vstack([X_train, X_test])\n",
    "assert both.shape[0] == 119651\n",
    "print(f\"Shape of both before SVD: {both.shape}\")\n",
    "svd = TruncatedSVD(n_components=8, random_state=1) # 512 is possible\n",
    "both = svd.fit_transform(both)\n",
    "print(f\"Shape of both after SVD:  {both.shape}\")\n",
    "    \n",
    "# Hstack the svd output with the important features\n",
    "X_train_svd = both[:70988]\n",
    "X_test_svd = both[70988:]\n",
    "del both\n",
    "#X = np.hstack([X, X0])\n",
    "#Xt = np.hstack([Xt, X0t])\n",
    "print(f\"Reduced X shape:  {str(X_train_svd.shape):14} {X_train_svd.size*4/1024/1024/1024:2.3f} GByte\")\n",
    "print(f\"Reduced Xt shape: {str(X_test_svd.shape):14} {X_test_svd.size*4/1024/1024/1024:2.3f} GByte\")\n",
    "\n",
    "y_train = scipy.sparse.load_npz('./sparse/train_cite_targets_values.sparse.npz')\n",
    "\n",
    "# Normalize the targets row-wise: This doesn't change the correlations,\n",
    "# and negative_correlation_loss depends on it\n",
    "y_train -= y_train.mean(axis=1).reshape(-1, 1)\n",
    "y_train /= y_train.std(axis=1).reshape(-1, 1)\n",
    "    \n",
    "print(f\"Y shape: {str(y_train.shape):14} {y_train.size*4/1024/1024/1024:2.3f} GByte\")"
   ]
  },
  {
   "cell_type": "code",
   "execution_count": 8,
   "id": "ac34a275-9244-4969-aa57-41f112f681d7",
   "metadata": {
    "execution": {
     "iopub.execute_input": "2022-10-12T19:40:34.105957Z",
     "iopub.status.busy": "2022-10-12T19:40:34.105372Z",
     "iopub.status.idle": "2022-10-12T19:42:15.455012Z",
     "shell.execute_reply": "2022-10-12T19:42:15.454380Z",
     "shell.execute_reply.started": "2022-10-12T19:40:34.105933Z"
    }
   },
   "outputs": [
    {
     "name": "stdout",
     "output_type": "stream",
     "text": [
      "Epoch 1/1000\n",
      "181/181 - 2s - loss: -8.1462e-01 - negative_correlation_loss: -8.3726e-01 - val_loss: -8.5059e-01 - val_negative_correlation_loss: -8.6431e-01 - lr: 0.0100 - 2s/epoch - 12ms/step\n",
      "Epoch 2/1000\n",
      "181/181 - 1s - loss: -8.7034e-01 - negative_correlation_loss: -8.8060e-01 - val_loss: -8.5387e-01 - val_negative_correlation_loss: -8.6145e-01 - lr: 0.0100 - 1s/epoch - 8ms/step\n",
      "Epoch 3/1000\n",
      "181/181 - 1s - loss: -8.7625e-01 - negative_correlation_loss: -8.8284e-01 - val_loss: -8.6583e-01 - val_negative_correlation_loss: -8.7134e-01 - lr: 0.0100 - 1s/epoch - 8ms/step\n",
      "Epoch 4/1000\n",
      "181/181 - 1s - loss: -8.7876e-01 - negative_correlation_loss: -8.8388e-01 - val_loss: -8.6576e-01 - val_negative_correlation_loss: -8.7035e-01 - lr: 0.0100 - 1s/epoch - 8ms/step\n",
      "Epoch 5/1000\n",
      "181/181 - 1s - loss: -8.7993e-01 - negative_correlation_loss: -8.8441e-01 - val_loss: -8.6750e-01 - val_negative_correlation_loss: -8.7168e-01 - lr: 0.0100 - 1s/epoch - 8ms/step\n",
      "Epoch 6/1000\n",
      "181/181 - 1s - loss: -8.8055e-01 - negative_correlation_loss: -8.8466e-01 - val_loss: -8.6824e-01 - val_negative_correlation_loss: -8.7219e-01 - lr: 0.0100 - 1s/epoch - 8ms/step\n",
      "Epoch 7/1000\n",
      "181/181 - 1s - loss: -8.8117e-01 - negative_correlation_loss: -8.8503e-01 - val_loss: -8.6759e-01 - val_negative_correlation_loss: -8.7133e-01 - lr: 0.0100 - 1s/epoch - 8ms/step\n",
      "Epoch 8/1000\n",
      "181/181 - 1s - loss: -8.8152e-01 - negative_correlation_loss: -8.8518e-01 - val_loss: -8.6994e-01 - val_negative_correlation_loss: -8.7344e-01 - lr: 0.0100 - 1s/epoch - 8ms/step\n",
      "Epoch 9/1000\n",
      "181/181 - 1s - loss: -8.8182e-01 - negative_correlation_loss: -8.8532e-01 - val_loss: -8.6989e-01 - val_negative_correlation_loss: -8.7327e-01 - lr: 0.0100 - 1s/epoch - 8ms/step\n",
      "Epoch 10/1000\n",
      "181/181 - 1s - loss: -8.8215e-01 - negative_correlation_loss: -8.8555e-01 - val_loss: -8.6935e-01 - val_negative_correlation_loss: -8.7261e-01 - lr: 0.0100 - 1s/epoch - 8ms/step\n",
      "Epoch 11/1000\n",
      "181/181 - 1s - loss: -8.8238e-01 - negative_correlation_loss: -8.8565e-01 - val_loss: -8.6846e-01 - val_negative_correlation_loss: -8.7163e-01 - lr: 0.0100 - 1s/epoch - 8ms/step\n",
      "Epoch 12/1000\n",
      "181/181 - 1s - loss: -8.8250e-01 - negative_correlation_loss: -8.8564e-01 - val_loss: -8.7120e-01 - val_negative_correlation_loss: -8.7436e-01 - lr: 0.0100 - 1s/epoch - 8ms/step\n",
      "Epoch 13/1000\n",
      "181/181 - 1s - loss: -8.8269e-01 - negative_correlation_loss: -8.8581e-01 - val_loss: -8.6863e-01 - val_negative_correlation_loss: -8.7164e-01 - lr: 0.0100 - 1s/epoch - 8ms/step\n",
      "Epoch 14/1000\n",
      "181/181 - 1s - loss: -8.8264e-01 - negative_correlation_loss: -8.8573e-01 - val_loss: -8.6969e-01 - val_negative_correlation_loss: -8.7272e-01 - lr: 0.0100 - 1s/epoch - 8ms/step\n",
      "Epoch 15/1000\n",
      "181/181 - 1s - loss: -8.8273e-01 - negative_correlation_loss: -8.8575e-01 - val_loss: -8.7099e-01 - val_negative_correlation_loss: -8.7392e-01 - lr: 0.0100 - 1s/epoch - 8ms/step\n",
      "Epoch 16/1000\n",
      "\n",
      "Epoch 16: ReduceLROnPlateau reducing learning rate to 0.004999999888241291.\n",
      "181/181 - 1s - loss: -8.8276e-01 - negative_correlation_loss: -8.8575e-01 - val_loss: -8.6824e-01 - val_negative_correlation_loss: -8.7119e-01 - lr: 0.0100 - 1s/epoch - 8ms/step\n",
      "Epoch 17/1000\n",
      "181/181 - 1s - loss: -8.8439e-01 - negative_correlation_loss: -8.8713e-01 - val_loss: -8.7050e-01 - val_negative_correlation_loss: -8.7305e-01 - lr: 0.0050 - 1s/epoch - 8ms/step\n",
      "Epoch 18/1000\n",
      "181/181 - 1s - loss: -8.8461e-01 - negative_correlation_loss: -8.8711e-01 - val_loss: -8.7177e-01 - val_negative_correlation_loss: -8.7417e-01 - lr: 0.0050 - 1s/epoch - 8ms/step\n",
      "Epoch 19/1000\n",
      "181/181 - 1s - loss: -8.8466e-01 - negative_correlation_loss: -8.8701e-01 - val_loss: -8.7210e-01 - val_negative_correlation_loss: -8.7443e-01 - lr: 0.0050 - 1s/epoch - 8ms/step\n",
      "Epoch 20/1000\n",
      "181/181 - 1s - loss: -8.8474e-01 - negative_correlation_loss: -8.8708e-01 - val_loss: -8.7126e-01 - val_negative_correlation_loss: -8.7354e-01 - lr: 0.0050 - 1s/epoch - 8ms/step\n",
      "Epoch 21/1000\n",
      "181/181 - 1s - loss: -8.8477e-01 - negative_correlation_loss: -8.8709e-01 - val_loss: -8.7144e-01 - val_negative_correlation_loss: -8.7369e-01 - lr: 0.0050 - 1s/epoch - 8ms/step\n",
      "Epoch 22/1000\n",
      "181/181 - 1s - loss: -8.8486e-01 - negative_correlation_loss: -8.8714e-01 - val_loss: -8.7180e-01 - val_negative_correlation_loss: -8.7405e-01 - lr: 0.0050 - 1s/epoch - 8ms/step\n",
      "Epoch 23/1000\n",
      "\n",
      "Epoch 23: ReduceLROnPlateau reducing learning rate to 0.0024999999441206455.\n",
      "181/181 - 1s - loss: -8.8481e-01 - negative_correlation_loss: -8.8706e-01 - val_loss: -8.7200e-01 - val_negative_correlation_loss: -8.7423e-01 - lr: 0.0050 - 1s/epoch - 8ms/step\n",
      "Epoch 24/1000\n",
      "181/181 - 1s - loss: -8.8581e-01 - negative_correlation_loss: -8.8798e-01 - val_loss: -8.7320e-01 - val_negative_correlation_loss: -8.7527e-01 - lr: 0.0025 - 1s/epoch - 8ms/step\n",
      "Epoch 25/1000\n",
      "181/181 - 1s - loss: -8.8591e-01 - negative_correlation_loss: -8.8798e-01 - val_loss: -8.7303e-01 - val_negative_correlation_loss: -8.7503e-01 - lr: 0.0025 - 1s/epoch - 8ms/step\n",
      "Epoch 26/1000\n",
      "181/181 - 1s - loss: -8.8610e-01 - negative_correlation_loss: -8.8809e-01 - val_loss: -8.7275e-01 - val_negative_correlation_loss: -8.7468e-01 - lr: 0.0025 - 1s/epoch - 8ms/step\n",
      "Epoch 27/1000\n",
      "181/181 - 1s - loss: -8.8609e-01 - negative_correlation_loss: -8.8802e-01 - val_loss: -8.7259e-01 - val_negative_correlation_loss: -8.7447e-01 - lr: 0.0025 - 1s/epoch - 8ms/step\n",
      "Epoch 28/1000\n",
      "181/181 - 1s - loss: -8.8612e-01 - negative_correlation_loss: -8.8802e-01 - val_loss: -8.7336e-01 - val_negative_correlation_loss: -8.7521e-01 - lr: 0.0025 - 1s/epoch - 8ms/step\n",
      "Epoch 29/1000\n",
      "181/181 - 1s - loss: -8.8612e-01 - negative_correlation_loss: -8.8802e-01 - val_loss: -8.7394e-01 - val_negative_correlation_loss: -8.7577e-01 - lr: 0.0025 - 1s/epoch - 8ms/step\n",
      "Epoch 30/1000\n",
      "181/181 - 1s - loss: -8.8623e-01 - negative_correlation_loss: -8.8805e-01 - val_loss: -8.7343e-01 - val_negative_correlation_loss: -8.7525e-01 - lr: 0.0025 - 1s/epoch - 8ms/step\n",
      "Epoch 31/1000\n",
      "181/181 - 1s - loss: -8.8623e-01 - negative_correlation_loss: -8.8807e-01 - val_loss: -8.7327e-01 - val_negative_correlation_loss: -8.7508e-01 - lr: 0.0025 - 1s/epoch - 8ms/step\n",
      "Epoch 32/1000\n",
      "181/181 - 1s - loss: -8.8628e-01 - negative_correlation_loss: -8.8811e-01 - val_loss: -8.7226e-01 - val_negative_correlation_loss: -8.7406e-01 - lr: 0.0025 - 1s/epoch - 8ms/step\n",
      "Epoch 33/1000\n",
      "\n",
      "Epoch 33: ReduceLROnPlateau reducing learning rate to 0.0012499999720603228.\n",
      "181/181 - 1s - loss: -8.8630e-01 - negative_correlation_loss: -8.8813e-01 - val_loss: -8.7241e-01 - val_negative_correlation_loss: -8.7419e-01 - lr: 0.0025 - 1s/epoch - 8ms/step\n",
      "Epoch 34/1000\n",
      "181/181 - 1s - loss: -8.8702e-01 - negative_correlation_loss: -8.8878e-01 - val_loss: -8.7375e-01 - val_negative_correlation_loss: -8.7547e-01 - lr: 0.0012 - 1s/epoch - 8ms/step\n",
      "Epoch 35/1000\n",
      "181/181 - 1s - loss: -8.8709e-01 - negative_correlation_loss: -8.8881e-01 - val_loss: -8.7418e-01 - val_negative_correlation_loss: -8.7586e-01 - lr: 0.0012 - 1s/epoch - 8ms/step\n",
      "Epoch 36/1000\n",
      "181/181 - 1s - loss: -8.8715e-01 - negative_correlation_loss: -8.8880e-01 - val_loss: -8.7410e-01 - val_negative_correlation_loss: -8.7575e-01 - lr: 0.0012 - 1s/epoch - 8ms/step\n",
      "Epoch 37/1000\n",
      "181/181 - 1s - loss: -8.8718e-01 - negative_correlation_loss: -8.8886e-01 - val_loss: -8.7342e-01 - val_negative_correlation_loss: -8.7504e-01 - lr: 0.0012 - 1s/epoch - 8ms/step\n",
      "Epoch 38/1000\n",
      "181/181 - 1s - loss: -8.8718e-01 - negative_correlation_loss: -8.8886e-01 - val_loss: -8.7494e-01 - val_negative_correlation_loss: -8.7654e-01 - lr: 0.0012 - 1s/epoch - 8ms/step\n",
      "Epoch 39/1000\n",
      "181/181 - 1s - loss: -8.8727e-01 - negative_correlation_loss: -8.8891e-01 - val_loss: -8.7442e-01 - val_negative_correlation_loss: -8.7601e-01 - lr: 0.0012 - 1s/epoch - 8ms/step\n",
      "Epoch 40/1000\n",
      "181/181 - 1s - loss: -8.8726e-01 - negative_correlation_loss: -8.8886e-01 - val_loss: -8.7377e-01 - val_negative_correlation_loss: -8.7534e-01 - lr: 0.0012 - 1s/epoch - 8ms/step\n",
      "Epoch 41/1000\n",
      "181/181 - 1s - loss: -8.8728e-01 - negative_correlation_loss: -8.8889e-01 - val_loss: -8.7488e-01 - val_negative_correlation_loss: -8.7643e-01 - lr: 0.0012 - 1s/epoch - 8ms/step\n",
      "Epoch 42/1000\n",
      "\n",
      "Epoch 42: ReduceLROnPlateau reducing learning rate to 0.0006249999860301614.\n",
      "181/181 - 1s - loss: -8.8731e-01 - negative_correlation_loss: -8.8887e-01 - val_loss: -8.7348e-01 - val_negative_correlation_loss: -8.7502e-01 - lr: 0.0012 - 1s/epoch - 8ms/step\n",
      "Epoch 43/1000\n",
      "181/181 - 1s - loss: -8.8772e-01 - negative_correlation_loss: -8.8929e-01 - val_loss: -8.7471e-01 - val_negative_correlation_loss: -8.7621e-01 - lr: 6.2500e-04 - 1s/epoch - 8ms/step\n",
      "Epoch 44/1000\n",
      "181/181 - 1s - loss: -8.8778e-01 - negative_correlation_loss: -8.8928e-01 - val_loss: -8.7368e-01 - val_negative_correlation_loss: -8.7517e-01 - lr: 6.2500e-04 - 1s/epoch - 8ms/step\n",
      "Epoch 45/1000\n",
      "181/181 - 1s - loss: -8.8781e-01 - negative_correlation_loss: -8.8926e-01 - val_loss: -8.7419e-01 - val_negative_correlation_loss: -8.7566e-01 - lr: 6.2500e-04 - 1s/epoch - 8ms/step\n",
      "Epoch 46/1000\n",
      "181/181 - 1s - loss: -8.8785e-01 - negative_correlation_loss: -8.8932e-01 - val_loss: -8.7509e-01 - val_negative_correlation_loss: -8.7655e-01 - lr: 6.2500e-04 - 1s/epoch - 8ms/step\n",
      "Epoch 47/1000\n",
      "181/181 - 1s - loss: -8.8785e-01 - negative_correlation_loss: -8.8931e-01 - val_loss: -8.7439e-01 - val_negative_correlation_loss: -8.7584e-01 - lr: 6.2500e-04 - 1s/epoch - 8ms/step\n",
      "Epoch 48/1000\n",
      "181/181 - 1s - loss: -8.8790e-01 - negative_correlation_loss: -8.8932e-01 - val_loss: -8.7427e-01 - val_negative_correlation_loss: -8.7570e-01 - lr: 6.2500e-04 - 1s/epoch - 8ms/step\n",
      "Epoch 49/1000\n",
      "181/181 - 1s - loss: -8.8791e-01 - negative_correlation_loss: -8.8935e-01 - val_loss: -8.7437e-01 - val_negative_correlation_loss: -8.7578e-01 - lr: 6.2500e-04 - 1s/epoch - 8ms/step\n",
      "Epoch 50/1000\n",
      "181/181 - 1s - loss: -8.8793e-01 - negative_correlation_loss: -8.8937e-01 - val_loss: -8.7540e-01 - val_negative_correlation_loss: -8.7681e-01 - lr: 6.2500e-04 - 1s/epoch - 8ms/step\n",
      "Epoch 51/1000\n",
      "181/181 - 1s - loss: -8.8794e-01 - negative_correlation_loss: -8.8932e-01 - val_loss: -8.7473e-01 - val_negative_correlation_loss: -8.7612e-01 - lr: 6.2500e-04 - 1s/epoch - 8ms/step\n",
      "Epoch 52/1000\n",
      "181/181 - 1s - loss: -8.8799e-01 - negative_correlation_loss: -8.8941e-01 - val_loss: -8.7451e-01 - val_negative_correlation_loss: -8.7589e-01 - lr: 6.2500e-04 - 1s/epoch - 8ms/step\n",
      "Epoch 53/1000\n",
      "181/181 - 1s - loss: -8.8799e-01 - negative_correlation_loss: -8.8938e-01 - val_loss: -8.7467e-01 - val_negative_correlation_loss: -8.7604e-01 - lr: 6.2500e-04 - 1s/epoch - 8ms/step\n",
      "Epoch 54/1000\n",
      "\n",
      "Epoch 54: ReduceLROnPlateau reducing learning rate to 0.0003124999930150807.\n",
      "181/181 - 1s - loss: -8.8801e-01 - negative_correlation_loss: -8.8941e-01 - val_loss: -8.7539e-01 - val_negative_correlation_loss: -8.7676e-01 - lr: 6.2500e-04 - 1s/epoch - 8ms/step\n",
      "Epoch 55/1000\n",
      "181/181 - 1s - loss: -8.8825e-01 - negative_correlation_loss: -8.8965e-01 - val_loss: -8.7503e-01 - val_negative_correlation_loss: -8.7638e-01 - lr: 3.1250e-04 - 1s/epoch - 8ms/step\n",
      "Epoch 56/1000\n",
      "181/181 - 1s - loss: -8.8829e-01 - negative_correlation_loss: -8.8967e-01 - val_loss: -8.7468e-01 - val_negative_correlation_loss: -8.7603e-01 - lr: 3.1250e-04 - 1s/epoch - 8ms/step\n",
      "Epoch 57/1000\n",
      "181/181 - 1s - loss: -8.8829e-01 - negative_correlation_loss: -8.8963e-01 - val_loss: -8.7541e-01 - val_negative_correlation_loss: -8.7675e-01 - lr: 3.1250e-04 - 1s/epoch - 8ms/step\n",
      "Epoch 58/1000\n",
      "\n",
      "Epoch 58: ReduceLROnPlateau reducing learning rate to 0.00015624999650754035.\n",
      "181/181 - 1s - loss: -8.8832e-01 - negative_correlation_loss: -8.8967e-01 - val_loss: -8.7474e-01 - val_negative_correlation_loss: -8.7607e-01 - lr: 3.1250e-04 - 1s/epoch - 8ms/step\n",
      "Epoch 59/1000\n",
      "181/181 - 1s - loss: -8.8846e-01 - negative_correlation_loss: -8.8982e-01 - val_loss: -8.7517e-01 - val_negative_correlation_loss: -8.7649e-01 - lr: 1.5625e-04 - 1s/epoch - 8ms/step\n",
      "Epoch 60/1000\n",
      "181/181 - 1s - loss: -8.8849e-01 - negative_correlation_loss: -8.8985e-01 - val_loss: -8.7532e-01 - val_negative_correlation_loss: -8.7664e-01 - lr: 1.5625e-04 - 1s/epoch - 8ms/step\n",
      "Epoch 61/1000\n",
      "181/181 - 1s - loss: -8.8848e-01 - negative_correlation_loss: -8.8981e-01 - val_loss: -8.7508e-01 - val_negative_correlation_loss: -8.7640e-01 - lr: 1.5625e-04 - 1s/epoch - 8ms/step\n",
      "Epoch 62/1000\n",
      "\n",
      "Epoch 62: ReduceLROnPlateau reducing learning rate to 7.812499825377017e-05.\n",
      "181/181 - 1s - loss: -8.8850e-01 - negative_correlation_loss: -8.8985e-01 - val_loss: -8.7501e-01 - val_negative_correlation_loss: -8.7632e-01 - lr: 1.5625e-04 - 1s/epoch - 8ms/step\n",
      "Epoch 63/1000\n",
      "181/181 - 1s - loss: -8.8858e-01 - negative_correlation_loss: -8.8994e-01 - val_loss: -8.7508e-01 - val_negative_correlation_loss: -8.7639e-01 - lr: 7.8125e-05 - 1s/epoch - 8ms/step\n",
      "Epoch 64/1000\n",
      "181/181 - 1s - loss: -8.8860e-01 - negative_correlation_loss: -8.8991e-01 - val_loss: -8.7518e-01 - val_negative_correlation_loss: -8.7648e-01 - lr: 7.8125e-05 - 1s/epoch - 8ms/step\n",
      "Epoch 65/1000\n",
      "181/181 - 1s - loss: -8.8860e-01 - negative_correlation_loss: -8.8995e-01 - val_loss: -8.7503e-01 - val_negative_correlation_loss: -8.7634e-01 - lr: 7.8125e-05 - 1s/epoch - 8ms/step\n",
      "Epoch 66/1000\n",
      "\n",
      "Epoch 66: ReduceLROnPlateau reducing learning rate to 3.9062499126885086e-05.\n",
      "181/181 - 1s - loss: -8.8861e-01 - negative_correlation_loss: -8.8994e-01 - val_loss: -8.7502e-01 - val_negative_correlation_loss: -8.7632e-01 - lr: 7.8125e-05 - 1s/epoch - 8ms/step\n",
      "Epoch 67/1000\n",
      "181/181 - 1s - loss: -8.8866e-01 - negative_correlation_loss: -8.8999e-01 - val_loss: -8.7521e-01 - val_negative_correlation_loss: -8.7651e-01 - lr: 3.9062e-05 - 1s/epoch - 8ms/step\n",
      "Epoch 68/1000\n",
      "181/181 - 1s - loss: -8.8866e-01 - negative_correlation_loss: -8.8997e-01 - val_loss: -8.7521e-01 - val_negative_correlation_loss: -8.7651e-01 - lr: 3.9062e-05 - 1s/epoch - 8ms/step\n",
      "Epoch 69/1000\n",
      "181/181 - 1s - loss: -8.8867e-01 - negative_correlation_loss: -8.8999e-01 - val_loss: -8.7518e-01 - val_negative_correlation_loss: -8.7648e-01 - lr: 3.9062e-05 - 1s/epoch - 8ms/step\n",
      "1/1 [==============================] - 0s 92ms/step\n",
      "Fold 0:  68 epochs, corr =  0.87677\n"
     ]
    }
   ],
   "source": [
    "def fit(X_train, y_train):\n",
    "  try:\n",
    "    np.random.seed(1)\n",
    "    tf.random.set_seed(1)\n",
    "\n",
    "    kf = GroupKFold(n_splits=N_SPLITS)\n",
    "    score_list = []\n",
    "    for fold, (idx_tr, idx_va) in enumerate(kf.split(X_train, groups=meta.donor)):\n",
    "        start_time = datetime.datetime.now()\n",
    "        model = None\n",
    "        gc.collect()\n",
    "        X_tr = X_train[idx_tr]\n",
    "        y_tr = y_train[idx_tr]\n",
    "        X_va = X_train[idx_va]\n",
    "        y_va = y_train[idx_va]\n",
    "\n",
    "        lr = ReduceLROnPlateau(monitor=\"val_loss\", factor=0.5, \n",
    "                              patience=4, verbose=VERBOSE)\n",
    "        es = EarlyStopping(monitor=\"val_loss\",\n",
    "                          patience=12, \n",
    "                          verbose=0,\n",
    "                          mode=\"min\", \n",
    "                          restore_best_weights=True)\n",
    "        callbacks = [lr, es, tf.keras.callbacks.TerminateOnNaN()]\n",
    "\n",
    "        # Construct and compile the model\n",
    "        model = my_model(n_inputs=X_train.shape[1],n_outputs=y_train.shape[1],reg1=reg1,reg2=reg2)\n",
    "\n",
    "        # Train the model\n",
    "        history = model.fit(X_tr, y_tr, \n",
    "                            validation_data=(X_va, y_va), \n",
    "                            epochs=EPOCHS,\n",
    "                            verbose=VERBOSE,\n",
    "                            batch_size=BATCH_SIZE,\n",
    "                            shuffle=True,\n",
    "                            callbacks=callbacks)\n",
    "        del X_tr, y_tr\n",
    "\n",
    "        # We validate the model\n",
    "        y_pred = model.predict(X_va, batch_size=X_va.shape[0])\n",
    "        corrscore = correlation_score(y_va, y_pred)\n",
    "\n",
    "        print(f\"Fold {fold}: {es.stopped_epoch:3} epochs, corr =  {corrscore:.5f}\")\n",
    "        del es, X_va#, y_va, y_va_pred\n",
    "        score_list.append(corrscore)\n",
    "\n",
    "        return model\n",
    "\n",
    "    # Show overall score\n",
    "    print(f\"{Fore.GREEN}{Style.BRIGHT}Average  corr = {np.array(score_list).mean():.5f}{Style.RESET_ALL}\")\n",
    "  finally:\n",
    "    return model\n",
    "LR_START = 0.01\n",
    "BATCH_SIZE = 256\n",
    "reg1 = 8e-5\n",
    "reg2 = 2e-5\n",
    "model = fit(X_train_svd,y_train)"
   ]
  },
  {
   "cell_type": "code",
   "execution_count": 9,
   "id": "c753ad48-f05f-4488-888c-a345813091ef",
   "metadata": {
    "execution": {
     "iopub.execute_input": "2022-10-12T19:42:47.584330Z",
     "iopub.status.busy": "2022-10-12T19:42:47.583867Z",
     "iopub.status.idle": "2022-10-12T19:44:07.513709Z",
     "shell.execute_reply": "2022-10-12T19:44:07.513074Z",
     "shell.execute_reply.started": "2022-10-12T19:42:47.584305Z"
    }
   },
   "outputs": [
    {
     "name": "stdout",
     "output_type": "stream",
     "text": [
      "/home/jovyan/kaggle/working\n",
      "X shape: (70988, 21601) 1.283 GByte\n",
      "Shape of both before SVD: (119651, 21601)\n",
      "Shape of both after SVD:  (119651, 4)\n",
      "Reduced X shape:  (70988, 4)     0.001 GByte\n",
      "Reduced Xt shape: (48663, 4)     0.001 GByte\n",
      "Y shape: (70988, 140)   0.037 GByte\n",
      "CPU times: user 1min 39s, sys: 3 s, total: 1min 42s\n",
      "Wall time: 1min 19s\n"
     ]
    }
   ],
   "source": [
    "%%time\n",
    "\n",
    "%cd /home/jovyan/kaggle/working\n",
    "\n",
    "X_train = scipy.sparse.load_npz('./sparse/train_cite_inputs_values.sparse.npz')\n",
    "\n",
    "to_drop = np.genfromtxt(\"./sparse/drop_ids.csv\", delimiter=',', dtype = int)\n",
    "X_train = delete_columns_csr(X_train,to_drop)\n",
    "\n",
    "print(f\"X shape: {str(X_train.shape):14} {X_train.size*4/1024/1024/1024:2.3f} GByte\")\n",
    "\n",
    "with np.load('./sparse/train_cite_inputs_idxcol.npz',allow_pickle=True) as data:\n",
    "    cell_index = data['index']\n",
    "\n",
    "metadata_df = pd.read_csv('../input/open-problems-multimodal/metadata.csv', index_col='cell_id')\n",
    "metadata_df = metadata_df[metadata_df.technology==\"citeseq\"]\n",
    "meta = metadata_df.reindex(cell_index)\n",
    "\n",
    "X_test = scipy.sparse.load_npz('./sparse/test_cite_inputs_values.sparse.npz')\n",
    "\n",
    "X_test = delete_columns_csr(X_test,to_drop)\n",
    "\n",
    "with np.load('./sparse/test_cite_inputs_idxcol.npz',allow_pickle=True) as data:\n",
    "    cell_index_t = data['index']\n",
    "\n",
    "meta_t = metadata_df.reindex(cell_index_t)\n",
    "\n",
    "# Apply the singular value decomposition\n",
    "both = scipy.sparse.vstack([X_train, X_test])\n",
    "assert both.shape[0] == 119651\n",
    "print(f\"Shape of both before SVD: {both.shape}\")\n",
    "svd = TruncatedSVD(n_components=4, random_state=1) # 512 is possible\n",
    "both = svd.fit_transform(both)\n",
    "print(f\"Shape of both after SVD:  {both.shape}\")\n",
    "    \n",
    "# Hstack the svd output with the important features\n",
    "X_train_svd = both[:70988]\n",
    "X_test_svd = both[70988:]\n",
    "del both\n",
    "#X = np.hstack([X, X0])\n",
    "#Xt = np.hstack([Xt, X0t])\n",
    "print(f\"Reduced X shape:  {str(X_train_svd.shape):14} {X_train_svd.size*4/1024/1024/1024:2.3f} GByte\")\n",
    "print(f\"Reduced Xt shape: {str(X_test_svd.shape):14} {X_test_svd.size*4/1024/1024/1024:2.3f} GByte\")\n",
    "\n",
    "y_train = scipy.sparse.load_npz('./sparse/train_cite_targets_values.sparse.npz')\n",
    "\n",
    "# Normalize the targets row-wise: This doesn't change the correlations,\n",
    "# and negative_correlation_loss depends on it\n",
    "y_train -= y_train.mean(axis=1).reshape(-1, 1)\n",
    "y_train /= y_train.std(axis=1).reshape(-1, 1)\n",
    "    \n",
    "print(f\"Y shape: {str(y_train.shape):14} {y_train.size*4/1024/1024/1024:2.3f} GByte\")"
   ]
  },
  {
   "cell_type": "code",
   "execution_count": 10,
   "id": "4f25408a-2167-46f4-8891-710686cf5892",
   "metadata": {
    "execution": {
     "iopub.execute_input": "2022-10-12T19:44:48.726342Z",
     "iopub.status.busy": "2022-10-12T19:44:48.725873Z",
     "iopub.status.idle": "2022-10-12T19:46:39.089853Z",
     "shell.execute_reply": "2022-10-12T19:46:39.089239Z",
     "shell.execute_reply.started": "2022-10-12T19:44:48.726318Z"
    }
   },
   "outputs": [
    {
     "name": "stdout",
     "output_type": "stream",
     "text": [
      "Epoch 1/1000\n",
      "181/181 - 2s - loss: -8.1010e-01 - negative_correlation_loss: -8.3203e-01 - val_loss: -8.3462e-01 - val_negative_correlation_loss: -8.4679e-01 - lr: 0.0100 - 2s/epoch - 12ms/step\n",
      "Epoch 2/1000\n",
      "181/181 - 1s - loss: -8.5443e-01 - negative_correlation_loss: -8.6348e-01 - val_loss: -8.4016e-01 - val_negative_correlation_loss: -8.4726e-01 - lr: 0.0100 - 1s/epoch - 8ms/step\n",
      "Epoch 3/1000\n",
      "181/181 - 1s - loss: -8.5926e-01 - negative_correlation_loss: -8.6489e-01 - val_loss: -8.4731e-01 - val_negative_correlation_loss: -8.5188e-01 - lr: 0.0100 - 1s/epoch - 8ms/step\n",
      "Epoch 4/1000\n",
      "181/181 - 1s - loss: -8.6105e-01 - negative_correlation_loss: -8.6541e-01 - val_loss: -8.4876e-01 - val_negative_correlation_loss: -8.5250e-01 - lr: 0.0100 - 1s/epoch - 8ms/step\n",
      "Epoch 5/1000\n",
      "181/181 - 1s - loss: -8.6228e-01 - negative_correlation_loss: -8.6593e-01 - val_loss: -8.5058e-01 - val_negative_correlation_loss: -8.5420e-01 - lr: 0.0100 - 1s/epoch - 8ms/step\n",
      "Epoch 6/1000\n",
      "181/181 - 1s - loss: -8.6284e-01 - negative_correlation_loss: -8.6615e-01 - val_loss: -8.4859e-01 - val_negative_correlation_loss: -8.5163e-01 - lr: 0.0100 - 1s/epoch - 8ms/step\n",
      "Epoch 7/1000\n",
      "181/181 - 1s - loss: -8.6324e-01 - negative_correlation_loss: -8.6630e-01 - val_loss: -8.4935e-01 - val_negative_correlation_loss: -8.5224e-01 - lr: 0.0100 - 1s/epoch - 8ms/step\n",
      "Epoch 8/1000\n",
      "181/181 - 1s - loss: -8.6355e-01 - negative_correlation_loss: -8.6641e-01 - val_loss: -8.5239e-01 - val_negative_correlation_loss: -8.5512e-01 - lr: 0.0100 - 1s/epoch - 8ms/step\n",
      "Epoch 9/1000\n",
      "181/181 - 1s - loss: -8.6388e-01 - negative_correlation_loss: -8.6660e-01 - val_loss: -8.5163e-01 - val_negative_correlation_loss: -8.5430e-01 - lr: 0.0100 - 1s/epoch - 8ms/step\n",
      "Epoch 10/1000\n",
      "181/181 - 1s - loss: -8.6398e-01 - negative_correlation_loss: -8.6675e-01 - val_loss: -8.5041e-01 - val_negative_correlation_loss: -8.5305e-01 - lr: 0.0100 - 1s/epoch - 8ms/step\n",
      "Epoch 11/1000\n",
      "181/181 - 1s - loss: -8.6420e-01 - negative_correlation_loss: -8.6683e-01 - val_loss: -8.5176e-01 - val_negative_correlation_loss: -8.5427e-01 - lr: 0.0100 - 1s/epoch - 8ms/step\n",
      "Epoch 12/1000\n",
      "181/181 - 1s - loss: -8.6427e-01 - negative_correlation_loss: -8.6678e-01 - val_loss: -8.5377e-01 - val_negative_correlation_loss: -8.5626e-01 - lr: 0.0100 - 1s/epoch - 8ms/step\n",
      "Epoch 13/1000\n",
      "181/181 - 1s - loss: -8.6453e-01 - negative_correlation_loss: -8.6701e-01 - val_loss: -8.5151e-01 - val_negative_correlation_loss: -8.5398e-01 - lr: 0.0100 - 1s/epoch - 8ms/step\n",
      "Epoch 14/1000\n",
      "181/181 - 1s - loss: -8.6452e-01 - negative_correlation_loss: -8.6690e-01 - val_loss: -8.5198e-01 - val_negative_correlation_loss: -8.5433e-01 - lr: 0.0100 - 1s/epoch - 8ms/step\n",
      "Epoch 15/1000\n",
      "181/181 - 1s - loss: -8.6466e-01 - negative_correlation_loss: -8.6701e-01 - val_loss: -8.5315e-01 - val_negative_correlation_loss: -8.5540e-01 - lr: 0.0100 - 1s/epoch - 8ms/step\n",
      "Epoch 16/1000\n",
      "\n",
      "Epoch 16: ReduceLROnPlateau reducing learning rate to 0.004999999888241291.\n",
      "181/181 - 1s - loss: -8.6479e-01 - negative_correlation_loss: -8.6715e-01 - val_loss: -8.5014e-01 - val_negative_correlation_loss: -8.5240e-01 - lr: 0.0100 - 1s/epoch - 8ms/step\n",
      "Epoch 17/1000\n",
      "181/181 - 1s - loss: -8.6591e-01 - negative_correlation_loss: -8.6799e-01 - val_loss: -8.5274e-01 - val_negative_correlation_loss: -8.5468e-01 - lr: 0.0050 - 1s/epoch - 8ms/step\n",
      "Epoch 18/1000\n",
      "181/181 - 1s - loss: -8.6613e-01 - negative_correlation_loss: -8.6807e-01 - val_loss: -8.5421e-01 - val_negative_correlation_loss: -8.5608e-01 - lr: 0.0050 - 1s/epoch - 8ms/step\n",
      "Epoch 19/1000\n",
      "181/181 - 1s - loss: -8.6612e-01 - negative_correlation_loss: -8.6794e-01 - val_loss: -8.5389e-01 - val_negative_correlation_loss: -8.5571e-01 - lr: 0.0050 - 1s/epoch - 8ms/step\n",
      "Epoch 20/1000\n",
      "181/181 - 1s - loss: -8.6627e-01 - negative_correlation_loss: -8.6813e-01 - val_loss: -8.5280e-01 - val_negative_correlation_loss: -8.5458e-01 - lr: 0.0050 - 1s/epoch - 8ms/step\n",
      "Epoch 21/1000\n",
      "181/181 - 1s - loss: -8.6617e-01 - negative_correlation_loss: -8.6801e-01 - val_loss: -8.5380e-01 - val_negative_correlation_loss: -8.5557e-01 - lr: 0.0050 - 1s/epoch - 8ms/step\n",
      "Epoch 22/1000\n",
      "181/181 - 1s - loss: -8.6628e-01 - negative_correlation_loss: -8.6809e-01 - val_loss: -8.5451e-01 - val_negative_correlation_loss: -8.5628e-01 - lr: 0.0050 - 1s/epoch - 8ms/step\n",
      "Epoch 23/1000\n",
      "181/181 - 1s - loss: -8.6626e-01 - negative_correlation_loss: -8.6804e-01 - val_loss: -8.5322e-01 - val_negative_correlation_loss: -8.5501e-01 - lr: 0.0050 - 1s/epoch - 8ms/step\n",
      "Epoch 24/1000\n",
      "181/181 - 1s - loss: -8.6642e-01 - negative_correlation_loss: -8.6824e-01 - val_loss: -8.5447e-01 - val_negative_correlation_loss: -8.5620e-01 - lr: 0.0050 - 1s/epoch - 8ms/step\n",
      "Epoch 25/1000\n",
      "181/181 - 1s - loss: -8.6637e-01 - negative_correlation_loss: -8.6816e-01 - val_loss: -8.5389e-01 - val_negative_correlation_loss: -8.5561e-01 - lr: 0.0050 - 1s/epoch - 8ms/step\n",
      "Epoch 26/1000\n",
      "\n",
      "Epoch 26: ReduceLROnPlateau reducing learning rate to 0.0024999999441206455.\n",
      "181/181 - 1s - loss: -8.6646e-01 - negative_correlation_loss: -8.6821e-01 - val_loss: -8.5387e-01 - val_negative_correlation_loss: -8.5561e-01 - lr: 0.0050 - 1s/epoch - 8ms/step\n",
      "Epoch 27/1000\n",
      "181/181 - 1s - loss: -8.6718e-01 - negative_correlation_loss: -8.6882e-01 - val_loss: -8.5504e-01 - val_negative_correlation_loss: -8.5660e-01 - lr: 0.0025 - 1s/epoch - 8ms/step\n",
      "Epoch 28/1000\n",
      "181/181 - 1s - loss: -8.6733e-01 - negative_correlation_loss: -8.6890e-01 - val_loss: -8.5449e-01 - val_negative_correlation_loss: -8.5603e-01 - lr: 0.0025 - 1s/epoch - 8ms/step\n",
      "Epoch 29/1000\n",
      "181/181 - 1s - loss: -8.6732e-01 - negative_correlation_loss: -8.6891e-01 - val_loss: -8.5530e-01 - val_negative_correlation_loss: -8.5680e-01 - lr: 0.0025 - 1s/epoch - 8ms/step\n",
      "Epoch 30/1000\n",
      "181/181 - 1s - loss: -8.6742e-01 - negative_correlation_loss: -8.6891e-01 - val_loss: -8.5480e-01 - val_negative_correlation_loss: -8.5628e-01 - lr: 0.0025 - 1s/epoch - 8ms/step\n",
      "Epoch 31/1000\n",
      "181/181 - 1s - loss: -8.6747e-01 - negative_correlation_loss: -8.6898e-01 - val_loss: -8.5451e-01 - val_negative_correlation_loss: -8.5598e-01 - lr: 0.0025 - 1s/epoch - 8ms/step\n",
      "Epoch 32/1000\n",
      "181/181 - 1s - loss: -8.6758e-01 - negative_correlation_loss: -8.6908e-01 - val_loss: -8.5381e-01 - val_negative_correlation_loss: -8.5528e-01 - lr: 0.0025 - 1s/epoch - 8ms/step\n",
      "Epoch 33/1000\n",
      "\n",
      "Epoch 33: ReduceLROnPlateau reducing learning rate to 0.0012499999720603228.\n",
      "181/181 - 1s - loss: -8.6752e-01 - negative_correlation_loss: -8.6899e-01 - val_loss: -8.5479e-01 - val_negative_correlation_loss: -8.5625e-01 - lr: 0.0025 - 1s/epoch - 8ms/step\n",
      "Epoch 34/1000\n",
      "181/181 - 1s - loss: -8.6816e-01 - negative_correlation_loss: -8.6961e-01 - val_loss: -8.5526e-01 - val_negative_correlation_loss: -8.5666e-01 - lr: 0.0012 - 1s/epoch - 8ms/step\n",
      "Epoch 35/1000\n",
      "181/181 - 1s - loss: -8.6826e-01 - negative_correlation_loss: -8.6966e-01 - val_loss: -8.5605e-01 - val_negative_correlation_loss: -8.5743e-01 - lr: 0.0012 - 1s/epoch - 8ms/step\n",
      "Epoch 36/1000\n",
      "181/181 - 1s - loss: -8.6838e-01 - negative_correlation_loss: -8.6976e-01 - val_loss: -8.5599e-01 - val_negative_correlation_loss: -8.5735e-01 - lr: 0.0012 - 1s/epoch - 8ms/step\n",
      "Epoch 37/1000\n",
      "181/181 - 1s - loss: -8.6837e-01 - negative_correlation_loss: -8.6977e-01 - val_loss: -8.5493e-01 - val_negative_correlation_loss: -8.5628e-01 - lr: 0.0012 - 1s/epoch - 8ms/step\n",
      "Epoch 38/1000\n",
      "181/181 - 1s - loss: -8.6845e-01 - negative_correlation_loss: -8.6984e-01 - val_loss: -8.5670e-01 - val_negative_correlation_loss: -8.5802e-01 - lr: 0.0012 - 1s/epoch - 8ms/step\n",
      "Epoch 39/1000\n",
      "181/181 - 1s - loss: -8.6857e-01 - negative_correlation_loss: -8.6995e-01 - val_loss: -8.5661e-01 - val_negative_correlation_loss: -8.5795e-01 - lr: 0.0012 - 1s/epoch - 8ms/step\n",
      "Epoch 40/1000\n",
      "181/181 - 1s - loss: -8.6860e-01 - negative_correlation_loss: -8.6996e-01 - val_loss: -8.5594e-01 - val_negative_correlation_loss: -8.5727e-01 - lr: 0.0012 - 1s/epoch - 8ms/step\n",
      "Epoch 41/1000\n",
      "181/181 - 1s - loss: -8.6862e-01 - negative_correlation_loss: -8.7001e-01 - val_loss: -8.5668e-01 - val_negative_correlation_loss: -8.5799e-01 - lr: 0.0012 - 1s/epoch - 8ms/step\n",
      "Epoch 42/1000\n",
      "\n",
      "Epoch 42: ReduceLROnPlateau reducing learning rate to 0.0006249999860301614.\n",
      "181/181 - 1s - loss: -8.6866e-01 - negative_correlation_loss: -8.6998e-01 - val_loss: -8.5545e-01 - val_negative_correlation_loss: -8.5675e-01 - lr: 0.0012 - 1s/epoch - 8ms/step\n",
      "Epoch 43/1000\n",
      "181/181 - 1s - loss: -8.6913e-01 - negative_correlation_loss: -8.7046e-01 - val_loss: -8.5609e-01 - val_negative_correlation_loss: -8.5737e-01 - lr: 6.2500e-04 - 1s/epoch - 8ms/step\n",
      "Epoch 44/1000\n",
      "181/181 - 1s - loss: -8.6919e-01 - negative_correlation_loss: -8.7047e-01 - val_loss: -8.5633e-01 - val_negative_correlation_loss: -8.5760e-01 - lr: 6.2500e-04 - 1s/epoch - 8ms/step\n",
      "Epoch 45/1000\n",
      "181/181 - 1s - loss: -8.6922e-01 - negative_correlation_loss: -8.7047e-01 - val_loss: -8.5608e-01 - val_negative_correlation_loss: -8.5734e-01 - lr: 6.2500e-04 - 1s/epoch - 8ms/step\n",
      "Epoch 46/1000\n",
      "\n",
      "Epoch 46: ReduceLROnPlateau reducing learning rate to 0.0003124999930150807.\n",
      "181/181 - 1s - loss: -8.6933e-01 - negative_correlation_loss: -8.7061e-01 - val_loss: -8.5663e-01 - val_negative_correlation_loss: -8.5789e-01 - lr: 6.2500e-04 - 1s/epoch - 8ms/step\n",
      "Epoch 47/1000\n",
      "181/181 - 1s - loss: -8.6955e-01 - negative_correlation_loss: -8.7080e-01 - val_loss: -8.5651e-01 - val_negative_correlation_loss: -8.5776e-01 - lr: 3.1250e-04 - 1s/epoch - 8ms/step\n",
      "Epoch 48/1000\n",
      "181/181 - 1s - loss: -8.6957e-01 - negative_correlation_loss: -8.7081e-01 - val_loss: -8.5659e-01 - val_negative_correlation_loss: -8.5783e-01 - lr: 3.1250e-04 - 1s/epoch - 8ms/step\n",
      "Epoch 49/1000\n",
      "181/181 - 1s - loss: -8.6961e-01 - negative_correlation_loss: -8.7087e-01 - val_loss: -8.5691e-01 - val_negative_correlation_loss: -8.5814e-01 - lr: 3.1250e-04 - 1s/epoch - 8ms/step\n",
      "Epoch 50/1000\n",
      "181/181 - 1s - loss: -8.6962e-01 - negative_correlation_loss: -8.7087e-01 - val_loss: -8.5697e-01 - val_negative_correlation_loss: -8.5820e-01 - lr: 3.1250e-04 - 1s/epoch - 8ms/step\n",
      "Epoch 51/1000\n",
      "181/181 - 1s - loss: -8.6967e-01 - negative_correlation_loss: -8.7088e-01 - val_loss: -8.5670e-01 - val_negative_correlation_loss: -8.5792e-01 - lr: 3.1250e-04 - 1s/epoch - 8ms/step\n",
      "Epoch 52/1000\n",
      "181/181 - 1s - loss: -8.6973e-01 - negative_correlation_loss: -8.7098e-01 - val_loss: -8.5683e-01 - val_negative_correlation_loss: -8.5805e-01 - lr: 3.1250e-04 - 1s/epoch - 8ms/step\n",
      "Epoch 53/1000\n",
      "\n",
      "Epoch 53: ReduceLROnPlateau reducing learning rate to 0.00015624999650754035.\n",
      "181/181 - 1s - loss: -8.6977e-01 - negative_correlation_loss: -8.7099e-01 - val_loss: -8.5688e-01 - val_negative_correlation_loss: -8.5810e-01 - lr: 3.1250e-04 - 1s/epoch - 8ms/step\n",
      "Epoch 54/1000\n",
      "181/181 - 1s - loss: -8.6992e-01 - negative_correlation_loss: -8.7116e-01 - val_loss: -8.5687e-01 - val_negative_correlation_loss: -8.5808e-01 - lr: 1.5625e-04 - 1s/epoch - 8ms/step\n",
      "Epoch 55/1000\n",
      "181/181 - 1s - loss: -8.6994e-01 - negative_correlation_loss: -8.7122e-01 - val_loss: -8.5701e-01 - val_negative_correlation_loss: -8.5822e-01 - lr: 1.5625e-04 - 1s/epoch - 8ms/step\n",
      "Epoch 56/1000\n",
      "181/181 - 1s - loss: -8.6997e-01 - negative_correlation_loss: -8.7121e-01 - val_loss: -8.5665e-01 - val_negative_correlation_loss: -8.5786e-01 - lr: 1.5625e-04 - 1s/epoch - 8ms/step\n",
      "Epoch 57/1000\n",
      "181/181 - 1s - loss: -8.6996e-01 - negative_correlation_loss: -8.7117e-01 - val_loss: -8.5697e-01 - val_negative_correlation_loss: -8.5818e-01 - lr: 1.5625e-04 - 1s/epoch - 8ms/step\n",
      "Epoch 58/1000\n",
      "181/181 - 1s - loss: -8.6997e-01 - negative_correlation_loss: -8.7118e-01 - val_loss: -8.5687e-01 - val_negative_correlation_loss: -8.5807e-01 - lr: 1.5625e-04 - 1s/epoch - 8ms/step\n",
      "Epoch 59/1000\n",
      "\n",
      "Epoch 59: ReduceLROnPlateau reducing learning rate to 7.812499825377017e-05.\n",
      "181/181 - 1s - loss: -8.7002e-01 - negative_correlation_loss: -8.7123e-01 - val_loss: -8.5671e-01 - val_negative_correlation_loss: -8.5791e-01 - lr: 1.5625e-04 - 1s/epoch - 8ms/step\n",
      "Epoch 60/1000\n",
      "181/181 - 1s - loss: -8.7011e-01 - negative_correlation_loss: -8.7133e-01 - val_loss: -8.5711e-01 - val_negative_correlation_loss: -8.5831e-01 - lr: 7.8125e-05 - 1s/epoch - 8ms/step\n",
      "Epoch 61/1000\n",
      "181/181 - 1s - loss: -8.7011e-01 - negative_correlation_loss: -8.7134e-01 - val_loss: -8.5689e-01 - val_negative_correlation_loss: -8.5808e-01 - lr: 7.8125e-05 - 1s/epoch - 8ms/step\n",
      "Epoch 62/1000\n",
      "181/181 - 1s - loss: -8.7012e-01 - negative_correlation_loss: -8.7135e-01 - val_loss: -8.5685e-01 - val_negative_correlation_loss: -8.5805e-01 - lr: 7.8125e-05 - 1s/epoch - 8ms/step\n",
      "Epoch 63/1000\n",
      "\n",
      "Epoch 63: ReduceLROnPlateau reducing learning rate to 3.9062499126885086e-05.\n",
      "181/181 - 1s - loss: -8.7013e-01 - negative_correlation_loss: -8.7139e-01 - val_loss: -8.5666e-01 - val_negative_correlation_loss: -8.5785e-01 - lr: 7.8125e-05 - 1s/epoch - 8ms/step\n",
      "Epoch 64/1000\n",
      "181/181 - 1s - loss: -8.7019e-01 - negative_correlation_loss: -8.7138e-01 - val_loss: -8.5716e-01 - val_negative_correlation_loss: -8.5836e-01 - lr: 3.9062e-05 - 1s/epoch - 8ms/step\n",
      "Epoch 65/1000\n",
      "181/181 - 1s - loss: -8.7019e-01 - negative_correlation_loss: -8.7144e-01 - val_loss: -8.5697e-01 - val_negative_correlation_loss: -8.5817e-01 - lr: 3.9062e-05 - 1s/epoch - 8ms/step\n",
      "Epoch 66/1000\n",
      "181/181 - 1s - loss: -8.7020e-01 - negative_correlation_loss: -8.7142e-01 - val_loss: -8.5690e-01 - val_negative_correlation_loss: -8.5809e-01 - lr: 3.9062e-05 - 1s/epoch - 8ms/step\n",
      "Epoch 67/1000\n",
      "181/181 - 1s - loss: -8.7020e-01 - negative_correlation_loss: -8.7141e-01 - val_loss: -8.5685e-01 - val_negative_correlation_loss: -8.5804e-01 - lr: 3.9062e-05 - 1s/epoch - 8ms/step\n",
      "Epoch 68/1000\n",
      "\n",
      "Epoch 68: ReduceLROnPlateau reducing learning rate to 1.9531249563442543e-05.\n",
      "181/181 - 1s - loss: -8.7021e-01 - negative_correlation_loss: -8.7140e-01 - val_loss: -8.5697e-01 - val_negative_correlation_loss: -8.5816e-01 - lr: 3.9062e-05 - 1s/epoch - 8ms/step\n",
      "Epoch 69/1000\n",
      "181/181 - 1s - loss: -8.7023e-01 - negative_correlation_loss: -8.7147e-01 - val_loss: -8.5707e-01 - val_negative_correlation_loss: -8.5826e-01 - lr: 1.9531e-05 - 1s/epoch - 8ms/step\n",
      "Epoch 70/1000\n",
      "181/181 - 1s - loss: -8.7024e-01 - negative_correlation_loss: -8.7143e-01 - val_loss: -8.5694e-01 - val_negative_correlation_loss: -8.5813e-01 - lr: 1.9531e-05 - 1s/epoch - 8ms/step\n",
      "Epoch 71/1000\n",
      "181/181 - 1s - loss: -8.7024e-01 - negative_correlation_loss: -8.7142e-01 - val_loss: -8.5688e-01 - val_negative_correlation_loss: -8.5807e-01 - lr: 1.9531e-05 - 1s/epoch - 8ms/step\n",
      "Epoch 72/1000\n",
      "\n",
      "Epoch 72: ReduceLROnPlateau reducing learning rate to 9.765624781721272e-06.\n",
      "181/181 - 1s - loss: -8.7024e-01 - negative_correlation_loss: -8.7146e-01 - val_loss: -8.5681e-01 - val_negative_correlation_loss: -8.5800e-01 - lr: 1.9531e-05 - 1s/epoch - 8ms/step\n",
      "Epoch 73/1000\n",
      "181/181 - 1s - loss: -8.7026e-01 - negative_correlation_loss: -8.7143e-01 - val_loss: -8.5689e-01 - val_negative_correlation_loss: -8.5808e-01 - lr: 9.7656e-06 - 1s/epoch - 8ms/step\n",
      "Epoch 74/1000\n",
      "181/181 - 1s - loss: -8.7026e-01 - negative_correlation_loss: -8.7150e-01 - val_loss: -8.5693e-01 - val_negative_correlation_loss: -8.5811e-01 - lr: 9.7656e-06 - 1s/epoch - 8ms/step\n",
      "Epoch 75/1000\n",
      "181/181 - 1s - loss: -8.7026e-01 - negative_correlation_loss: -8.7146e-01 - val_loss: -8.5694e-01 - val_negative_correlation_loss: -8.5813e-01 - lr: 9.7656e-06 - 1s/epoch - 8ms/step\n",
      "Epoch 76/1000\n",
      "\n",
      "Epoch 76: ReduceLROnPlateau reducing learning rate to 4.882812390860636e-06.\n",
      "181/181 - 1s - loss: -8.7026e-01 - negative_correlation_loss: -8.7148e-01 - val_loss: -8.5699e-01 - val_negative_correlation_loss: -8.5818e-01 - lr: 9.7656e-06 - 1s/epoch - 8ms/step\n",
      "1/1 [==============================] - 0s 95ms/step\n",
      "Fold 0:  75 epochs, corr =  0.85838\n"
     ]
    }
   ],
   "source": [
    "def fit(X_train, y_train):\n",
    "  try:\n",
    "    np.random.seed(1)\n",
    "    tf.random.set_seed(1)\n",
    "\n",
    "    kf = GroupKFold(n_splits=N_SPLITS)\n",
    "    score_list = []\n",
    "    for fold, (idx_tr, idx_va) in enumerate(kf.split(X_train, groups=meta.donor)):\n",
    "        start_time = datetime.datetime.now()\n",
    "        model = None\n",
    "        gc.collect()\n",
    "        X_tr = X_train[idx_tr]\n",
    "        y_tr = y_train[idx_tr]\n",
    "        X_va = X_train[idx_va]\n",
    "        y_va = y_train[idx_va]\n",
    "\n",
    "        lr = ReduceLROnPlateau(monitor=\"val_loss\", factor=0.5, \n",
    "                              patience=4, verbose=VERBOSE)\n",
    "        es = EarlyStopping(monitor=\"val_loss\",\n",
    "                          patience=12, \n",
    "                          verbose=0,\n",
    "                          mode=\"min\", \n",
    "                          restore_best_weights=True)\n",
    "        callbacks = [lr, es, tf.keras.callbacks.TerminateOnNaN()]\n",
    "\n",
    "        # Construct and compile the model\n",
    "        model = my_model(n_inputs=X_train.shape[1],n_outputs=y_train.shape[1],reg1=reg1,reg2=reg2)\n",
    "\n",
    "        # Train the model\n",
    "        history = model.fit(X_tr, y_tr, \n",
    "                            validation_data=(X_va, y_va), \n",
    "                            epochs=EPOCHS,\n",
    "                            verbose=VERBOSE,\n",
    "                            batch_size=BATCH_SIZE,\n",
    "                            shuffle=True,\n",
    "                            callbacks=callbacks)\n",
    "        del X_tr, y_tr\n",
    "\n",
    "        # We validate the model\n",
    "        y_pred = model.predict(X_va, batch_size=X_va.shape[0])\n",
    "        corrscore = correlation_score(y_va, y_pred)\n",
    "\n",
    "        print(f\"Fold {fold}: {es.stopped_epoch:3} epochs, corr =  {corrscore:.5f}\")\n",
    "        del es, X_va#, y_va, y_va_pred\n",
    "        score_list.append(corrscore)\n",
    "\n",
    "        return model\n",
    "\n",
    "    # Show overall score\n",
    "    print(f\"{Fore.GREEN}{Style.BRIGHT}Average  corr = {np.array(score_list).mean():.5f}{Style.RESET_ALL}\")\n",
    "  finally:\n",
    "    return model\n",
    "LR_START = 0.01\n",
    "BATCH_SIZE = 256\n",
    "reg1 = 8e-5\n",
    "reg2 = 2e-5\n",
    "model = fit(X_train_svd,y_train)"
   ]
  },
  {
   "cell_type": "code",
   "execution_count": 3,
   "id": "ca0a7c2a-3a37-49ab-b213-a84c1f9fadd5",
   "metadata": {
    "execution": {
     "iopub.execute_input": "2022-10-12T21:32:15.339804Z",
     "iopub.status.busy": "2022-10-12T21:32:15.339409Z",
     "iopub.status.idle": "2022-10-12T21:32:29.659284Z",
     "shell.execute_reply": "2022-10-12T21:32:29.658642Z",
     "shell.execute_reply.started": "2022-10-12T21:32:15.339781Z"
    }
   },
   "outputs": [
    {
     "name": "stdout",
     "output_type": "stream",
     "text": [
      "/home/jovyan/kaggle/working\n",
      "X shape: (70988, 21601) 1.283 GByte\n",
      "CPU times: user 12.9 s, sys: 1.31 s, total: 14.2 s\n",
      "Wall time: 14.3 s\n"
     ]
    }
   ],
   "source": [
    "%%time\n",
    "\n",
    "%cd /home/jovyan/kaggle/working\n",
    "\n",
    "X_train = scipy.sparse.load_npz('./sparse/train_cite_inputs_values.sparse.npz')\n",
    "\n",
    "to_drop = np.genfromtxt(\"./sparse/drop_ids.csv\", delimiter=',', dtype = int)\n",
    "X_train = delete_columns_csr(X_train,to_drop)\n",
    "\n",
    "print(f\"X shape: {str(X_train.shape):14} {X_train.size*4/1024/1024/1024:2.3f} GByte\")\n",
    "\n",
    "with np.load('./sparse/train_cite_inputs_idxcol.npz',allow_pickle=True) as data:\n",
    "    cell_index = data['index']\n",
    "\n",
    "metadata_df = pd.read_csv('../input/open-problems-multimodal/metadata.csv', index_col='cell_id')\n",
    "metadata_df = metadata_df[metadata_df.technology==\"citeseq\"]\n",
    "meta = metadata_df.reindex(cell_index)\n",
    "\n",
    "y_train = scipy.sparse.load_npz('./sparse/train_cite_targets_values.sparse.npz')\n",
    "\n",
    "# Normalize the targets row-wise: This doesn't change the correlations,\n",
    "# and negative_correlation_loss depends on it\n",
    "y_train -= y_train.mean(axis=1).reshape(-1, 1)\n",
    "y_train /= y_train.std(axis=1).reshape(-1, 1)\n",
    "    "
   ]
  },
  {
   "cell_type": "code",
   "execution_count": 33,
   "id": "be01f877-7e39-4939-beaa-b768a75b1699",
   "metadata": {
    "execution": {
     "iopub.execute_input": "2022-10-12T21:56:43.246894Z",
     "iopub.status.busy": "2022-10-12T21:56:43.246519Z",
     "iopub.status.idle": "2022-10-12T21:56:43.254744Z",
     "shell.execute_reply": "2022-10-12T21:56:43.254230Z",
     "shell.execute_reply.started": "2022-10-12T21:56:43.246872Z"
    },
    "tags": []
   },
   "outputs": [
    {
     "data": {
      "text/plain": [
       "HSC     29879\n",
       "EryP    14241\n",
       "NeuP    12493\n",
       "MasP     8242\n",
       "MkP      5382\n",
       "MoP       591\n",
       "BP        160\n",
       "Name: cell_type, dtype: int64"
      ]
     },
     "execution_count": 33,
     "metadata": {},
     "output_type": "execute_result"
    }
   ],
   "source": [
    "meta.cell_type.value_counts()"
   ]
  },
  {
   "cell_type": "markdown",
   "id": "c330e651-3d9e-4388-8f65-c6630cac0486",
   "metadata": {
    "execution": {
     "iopub.execute_input": "2022-10-12T21:32:42.450633Z",
     "iopub.status.busy": "2022-10-12T21:32:42.450240Z",
     "iopub.status.idle": "2022-10-12T21:32:42.456276Z",
     "shell.execute_reply": "2022-10-12T21:32:42.455761Z",
     "shell.execute_reply.started": "2022-10-12T21:32:42.450608Z"
    },
    "tags": []
   },
   "source": [
    "meta.donor.value_counts()"
   ]
  },
  {
   "cell_type": "code",
   "execution_count": 93,
   "id": "72d950c3-86f4-44de-9252-54607dd623ec",
   "metadata": {
    "execution": {
     "iopub.execute_input": "2022-10-12T22:51:23.752448Z",
     "iopub.status.busy": "2022-10-12T22:51:23.752066Z",
     "iopub.status.idle": "2022-10-12T22:51:23.904663Z",
     "shell.execute_reply": "2022-10-12T22:51:23.904044Z",
     "shell.execute_reply.started": "2022-10-12T22:51:23.752423Z"
    },
    "tags": []
   },
   "outputs": [],
   "source": [
    "abc = meta.reset_index()\n",
    "X_train_1 = X_train[abc.loc[((abc.cell_type == \"MkP\"))].index].copy()"
   ]
  },
  {
   "cell_type": "code",
   "execution_count": 90,
   "id": "38dbcbe7-f840-4313-a01c-6896159f3851",
   "metadata": {
    "execution": {
     "iopub.execute_input": "2022-10-12T22:47:55.669424Z",
     "iopub.status.busy": "2022-10-12T22:47:55.669036Z",
     "iopub.status.idle": "2022-10-12T22:48:05.231491Z",
     "shell.execute_reply": "2022-10-12T22:48:05.230859Z",
     "shell.execute_reply.started": "2022-10-12T22:47:55.669392Z"
    },
    "tags": []
   },
   "outputs": [],
   "source": [
    "svd = TruncatedSVD(n_components=64, random_state=1) # 512 is possible\n",
    "X_train_1 = svd.fit_transform(X_train_1)"
   ]
  },
  {
   "cell_type": "code",
   "execution_count": 42,
   "id": "1aff689e-f378-467d-b11c-614027c3ad04",
   "metadata": {
    "execution": {
     "iopub.execute_input": "2022-10-12T22:00:32.307172Z",
     "iopub.status.busy": "2022-10-12T22:00:32.306716Z",
     "iopub.status.idle": "2022-10-12T22:01:05.692840Z",
     "shell.execute_reply": "2022-10-12T22:01:05.692244Z",
     "shell.execute_reply.started": "2022-10-12T22:00:32.307149Z"
    },
    "tags": []
   },
   "outputs": [
    {
     "name": "stdout",
     "output_type": "stream",
     "text": [
      "Epoch 1/1000\n",
      "103/103 - 2s - loss: -7.7131e-01 - negative_correlation_loss: -7.9782e-01 - val_loss: -7.9643e-01 - val_negative_correlation_loss: -8.1017e-01 - lr: 0.0100 - 2s/epoch - 15ms/step\n",
      "Epoch 2/1000\n",
      "103/103 - 1s - loss: -7.9875e-01 - negative_correlation_loss: -8.0815e-01 - val_loss: -8.0429e-01 - val_negative_correlation_loss: -8.1105e-01 - lr: 0.0100 - 698ms/epoch - 7ms/step\n",
      "Epoch 3/1000\n",
      "103/103 - 1s - loss: -8.0300e-01 - negative_correlation_loss: -8.0813e-01 - val_loss: -8.0341e-01 - val_negative_correlation_loss: -8.0779e-01 - lr: 0.0100 - 688ms/epoch - 7ms/step\n",
      "Epoch 4/1000\n",
      "103/103 - 1s - loss: -8.0575e-01 - negative_correlation_loss: -8.1074e-01 - val_loss: -8.0985e-01 - val_negative_correlation_loss: -8.1450e-01 - lr: 0.0100 - 686ms/epoch - 7ms/step\n",
      "Epoch 5/1000\n",
      "103/103 - 1s - loss: -8.0787e-01 - negative_correlation_loss: -8.1208e-01 - val_loss: -8.0961e-01 - val_negative_correlation_loss: -8.1325e-01 - lr: 0.0100 - 684ms/epoch - 7ms/step\n",
      "Epoch 6/1000\n",
      "103/103 - 1s - loss: -8.0903e-01 - negative_correlation_loss: -8.1208e-01 - val_loss: -8.1010e-01 - val_negative_correlation_loss: -8.1331e-01 - lr: 0.0100 - 700ms/epoch - 7ms/step\n",
      "Epoch 7/1000\n",
      "103/103 - 1s - loss: -8.0971e-01 - negative_correlation_loss: -8.1244e-01 - val_loss: -8.1431e-01 - val_negative_correlation_loss: -8.1690e-01 - lr: 0.0100 - 690ms/epoch - 7ms/step\n",
      "Epoch 8/1000\n",
      "103/103 - 1s - loss: -8.1008e-01 - negative_correlation_loss: -8.1218e-01 - val_loss: -8.1227e-01 - val_negative_correlation_loss: -8.1457e-01 - lr: 0.0100 - 685ms/epoch - 7ms/step\n",
      "Epoch 9/1000\n",
      "103/103 - 1s - loss: -8.1050e-01 - negative_correlation_loss: -8.1250e-01 - val_loss: -8.1536e-01 - val_negative_correlation_loss: -8.1745e-01 - lr: 0.0100 - 688ms/epoch - 7ms/step\n",
      "Epoch 10/1000\n",
      "103/103 - 1s - loss: -8.1057e-01 - negative_correlation_loss: -8.1247e-01 - val_loss: -8.1547e-01 - val_negative_correlation_loss: -8.1720e-01 - lr: 0.0100 - 690ms/epoch - 7ms/step\n",
      "Epoch 11/1000\n",
      "103/103 - 1s - loss: -8.1069e-01 - negative_correlation_loss: -8.1232e-01 - val_loss: -8.1627e-01 - val_negative_correlation_loss: -8.1807e-01 - lr: 0.0100 - 682ms/epoch - 7ms/step\n",
      "Epoch 12/1000\n",
      "103/103 - 1s - loss: -8.1067e-01 - negative_correlation_loss: -8.1231e-01 - val_loss: -8.1738e-01 - val_negative_correlation_loss: -8.1918e-01 - lr: 0.0100 - 686ms/epoch - 7ms/step\n",
      "Epoch 13/1000\n",
      "103/103 - 1s - loss: -8.1094e-01 - negative_correlation_loss: -8.1248e-01 - val_loss: -8.1691e-01 - val_negative_correlation_loss: -8.1856e-01 - lr: 0.0100 - 685ms/epoch - 7ms/step\n",
      "Epoch 14/1000\n",
      "103/103 - 1s - loss: -8.1095e-01 - negative_correlation_loss: -8.1253e-01 - val_loss: -8.1646e-01 - val_negative_correlation_loss: -8.1835e-01 - lr: 0.0100 - 690ms/epoch - 7ms/step\n",
      "Epoch 15/1000\n",
      "103/103 - 1s - loss: -8.1097e-01 - negative_correlation_loss: -8.1233e-01 - val_loss: -8.1777e-01 - val_negative_correlation_loss: -8.1949e-01 - lr: 0.0100 - 685ms/epoch - 7ms/step\n",
      "Epoch 16/1000\n",
      "103/103 - 1s - loss: -8.1119e-01 - negative_correlation_loss: -8.1275e-01 - val_loss: -8.1767e-01 - val_negative_correlation_loss: -8.1921e-01 - lr: 0.0100 - 684ms/epoch - 7ms/step\n",
      "Epoch 17/1000\n",
      "103/103 - 1s - loss: -8.1120e-01 - negative_correlation_loss: -8.1262e-01 - val_loss: -8.1731e-01 - val_negative_correlation_loss: -8.1906e-01 - lr: 0.0100 - 684ms/epoch - 7ms/step\n",
      "Epoch 18/1000\n",
      "103/103 - 1s - loss: -8.1144e-01 - negative_correlation_loss: -8.1288e-01 - val_loss: -8.1852e-01 - val_negative_correlation_loss: -8.1985e-01 - lr: 0.0100 - 686ms/epoch - 7ms/step\n",
      "Epoch 19/1000\n",
      "103/103 - 1s - loss: -8.1157e-01 - negative_correlation_loss: -8.1266e-01 - val_loss: -8.1365e-01 - val_negative_correlation_loss: -8.1504e-01 - lr: 0.0100 - 693ms/epoch - 7ms/step\n",
      "Epoch 20/1000\n",
      "103/103 - 1s - loss: -8.1158e-01 - negative_correlation_loss: -8.1271e-01 - val_loss: -8.1777e-01 - val_negative_correlation_loss: -8.1919e-01 - lr: 0.0100 - 686ms/epoch - 7ms/step\n",
      "Epoch 21/1000\n",
      "103/103 - 1s - loss: -8.1175e-01 - negative_correlation_loss: -8.1281e-01 - val_loss: -8.1803e-01 - val_negative_correlation_loss: -8.1927e-01 - lr: 0.0100 - 684ms/epoch - 7ms/step\n",
      "Epoch 22/1000\n",
      "\n",
      "Epoch 22: ReduceLROnPlateau reducing learning rate to 0.004999999888241291.\n",
      "103/103 - 1s - loss: -8.1187e-01 - negative_correlation_loss: -8.1258e-01 - val_loss: -8.1810e-01 - val_negative_correlation_loss: -8.1929e-01 - lr: 0.0100 - 686ms/epoch - 7ms/step\n",
      "Epoch 23/1000\n",
      "103/103 - 1s - loss: -8.1241e-01 - negative_correlation_loss: -8.1358e-01 - val_loss: -8.1903e-01 - val_negative_correlation_loss: -8.2007e-01 - lr: 0.0050 - 690ms/epoch - 7ms/step\n",
      "Epoch 24/1000\n",
      "103/103 - 1s - loss: -8.1235e-01 - negative_correlation_loss: -8.1340e-01 - val_loss: -8.1809e-01 - val_negative_correlation_loss: -8.1913e-01 - lr: 0.0050 - 690ms/epoch - 7ms/step\n",
      "Epoch 25/1000\n",
      "103/103 - 1s - loss: -8.1257e-01 - negative_correlation_loss: -8.1352e-01 - val_loss: -8.1873e-01 - val_negative_correlation_loss: -8.1971e-01 - lr: 0.0050 - 685ms/epoch - 7ms/step\n",
      "Epoch 26/1000\n",
      "103/103 - 1s - loss: -8.1253e-01 - negative_correlation_loss: -8.1341e-01 - val_loss: -8.1892e-01 - val_negative_correlation_loss: -8.1989e-01 - lr: 0.0050 - 683ms/epoch - 7ms/step\n",
      "Epoch 27/1000\n",
      "\n",
      "Epoch 27: ReduceLROnPlateau reducing learning rate to 0.0024999999441206455.\n",
      "103/103 - 1s - loss: -8.1257e-01 - negative_correlation_loss: -8.1329e-01 - val_loss: -8.1896e-01 - val_negative_correlation_loss: -8.1995e-01 - lr: 0.0050 - 683ms/epoch - 7ms/step\n",
      "Epoch 28/1000\n",
      "103/103 - 1s - loss: -8.1289e-01 - negative_correlation_loss: -8.1332e-01 - val_loss: -8.1889e-01 - val_negative_correlation_loss: -8.1981e-01 - lr: 0.0025 - 703ms/epoch - 7ms/step\n",
      "Epoch 29/1000\n",
      "103/103 - 1s - loss: -8.1292e-01 - negative_correlation_loss: -8.1376e-01 - val_loss: -8.1899e-01 - val_negative_correlation_loss: -8.1990e-01 - lr: 0.0025 - 686ms/epoch - 7ms/step\n",
      "Epoch 30/1000\n",
      "103/103 - 1s - loss: -8.1296e-01 - negative_correlation_loss: -8.1341e-01 - val_loss: -8.1904e-01 - val_negative_correlation_loss: -8.1993e-01 - lr: 0.0025 - 685ms/epoch - 7ms/step\n",
      "Epoch 31/1000\n",
      "\n",
      "Epoch 31: ReduceLROnPlateau reducing learning rate to 0.0012499999720603228.\n",
      "103/103 - 1s - loss: -8.1303e-01 - negative_correlation_loss: -8.1383e-01 - val_loss: -8.1876e-01 - val_negative_correlation_loss: -8.1964e-01 - lr: 0.0025 - 692ms/epoch - 7ms/step\n",
      "Epoch 32/1000\n",
      "103/103 - 1s - loss: -8.1319e-01 - negative_correlation_loss: -8.1407e-01 - val_loss: -8.1917e-01 - val_negative_correlation_loss: -8.2002e-01 - lr: 0.0012 - 685ms/epoch - 7ms/step\n",
      "Epoch 33/1000\n",
      "103/103 - 1s - loss: -8.1326e-01 - negative_correlation_loss: -8.1381e-01 - val_loss: -8.1931e-01 - val_negative_correlation_loss: -8.2015e-01 - lr: 0.0012 - 685ms/epoch - 7ms/step\n",
      "Epoch 34/1000\n",
      "103/103 - 1s - loss: -8.1326e-01 - negative_correlation_loss: -8.1389e-01 - val_loss: -8.1937e-01 - val_negative_correlation_loss: -8.2018e-01 - lr: 0.0012 - 694ms/epoch - 7ms/step\n",
      "Epoch 35/1000\n",
      "103/103 - 1s - loss: -8.1330e-01 - negative_correlation_loss: -8.1388e-01 - val_loss: -8.1857e-01 - val_negative_correlation_loss: -8.1940e-01 - lr: 0.0012 - 694ms/epoch - 7ms/step\n",
      "Epoch 36/1000\n",
      "103/103 - 1s - loss: -8.1329e-01 - negative_correlation_loss: -8.1392e-01 - val_loss: -8.1915e-01 - val_negative_correlation_loss: -8.1996e-01 - lr: 0.0012 - 690ms/epoch - 7ms/step\n",
      "Epoch 37/1000\n",
      "\n",
      "Epoch 37: ReduceLROnPlateau reducing learning rate to 0.0006249999860301614.\n",
      "103/103 - 1s - loss: -8.1334e-01 - negative_correlation_loss: -8.1377e-01 - val_loss: -8.1894e-01 - val_negative_correlation_loss: -8.1974e-01 - lr: 0.0012 - 691ms/epoch - 7ms/step\n",
      "Epoch 38/1000\n",
      "103/103 - 1s - loss: -8.1347e-01 - negative_correlation_loss: -8.1396e-01 - val_loss: -8.1902e-01 - val_negative_correlation_loss: -8.1980e-01 - lr: 6.2500e-04 - 695ms/epoch - 7ms/step\n",
      "Epoch 39/1000\n",
      "103/103 - 1s - loss: -8.1350e-01 - negative_correlation_loss: -8.1427e-01 - val_loss: -8.1912e-01 - val_negative_correlation_loss: -8.1989e-01 - lr: 6.2500e-04 - 694ms/epoch - 7ms/step\n",
      "Epoch 40/1000\n",
      "103/103 - 1s - loss: -8.1351e-01 - negative_correlation_loss: -8.1387e-01 - val_loss: -8.1879e-01 - val_negative_correlation_loss: -8.1957e-01 - lr: 6.2500e-04 - 692ms/epoch - 7ms/step\n",
      "Epoch 41/1000\n",
      "\n",
      "Epoch 41: ReduceLROnPlateau reducing learning rate to 0.0003124999930150807.\n",
      "103/103 - 1s - loss: -8.1350e-01 - negative_correlation_loss: -8.1391e-01 - val_loss: -8.1889e-01 - val_negative_correlation_loss: -8.1966e-01 - lr: 6.2500e-04 - 698ms/epoch - 7ms/step\n",
      "Epoch 42/1000\n",
      "103/103 - 1s - loss: -8.1360e-01 - negative_correlation_loss: -8.1416e-01 - val_loss: -8.1899e-01 - val_negative_correlation_loss: -8.1975e-01 - lr: 3.1250e-04 - 690ms/epoch - 7ms/step\n",
      "Epoch 43/1000\n",
      "103/103 - 1s - loss: -8.1362e-01 - negative_correlation_loss: -8.1418e-01 - val_loss: -8.1918e-01 - val_negative_correlation_loss: -8.1993e-01 - lr: 3.1250e-04 - 694ms/epoch - 7ms/step\n",
      "Epoch 44/1000\n",
      "103/103 - 1s - loss: -8.1361e-01 - negative_correlation_loss: -8.1447e-01 - val_loss: -8.1915e-01 - val_negative_correlation_loss: -8.1989e-01 - lr: 3.1250e-04 - 690ms/epoch - 7ms/step\n",
      "Epoch 45/1000\n",
      "\n",
      "Epoch 45: ReduceLROnPlateau reducing learning rate to 0.00015624999650754035.\n",
      "103/103 - 1s - loss: -8.1362e-01 - negative_correlation_loss: -8.1396e-01 - val_loss: -8.1897e-01 - val_negative_correlation_loss: -8.1971e-01 - lr: 3.1250e-04 - 696ms/epoch - 7ms/step\n",
      "Epoch 46/1000\n",
      "103/103 - 1s - loss: -8.1368e-01 - negative_correlation_loss: -8.1434e-01 - val_loss: -8.1892e-01 - val_negative_correlation_loss: -8.1966e-01 - lr: 1.5625e-04 - 705ms/epoch - 7ms/step\n",
      "1/1 [==============================] - 0s 75ms/step\n",
      "Fold 0:  45 epochs, corr =  0.82004\n"
     ]
    }
   ],
   "source": [
    "N_SPLITS = 8\n",
    "from sklearn.model_selection import KFold\n",
    "def fit(X_train, y_train):\n",
    "    np.random.seed(1)\n",
    "    tf.random.set_seed(1)\n",
    "\n",
    "    kf = KFold(n_splits=N_SPLITS)\n",
    "    score_list = []\n",
    "    for fold, (idx_tr, idx_va) in enumerate(kf.split(X_train)):\n",
    "        start_time = datetime.datetime.now()\n",
    "        model = None\n",
    "        gc.collect()\n",
    "        X_tr = X_train[idx_tr]\n",
    "        y_tr = y_train[idx_tr]\n",
    "        X_va = X_train[idx_va]\n",
    "        y_va = y_train[idx_va]\n",
    "\n",
    "        lr = ReduceLROnPlateau(monitor=\"val_loss\", factor=0.5, \n",
    "                              patience=4, verbose=VERBOSE)\n",
    "        es = EarlyStopping(monitor=\"val_loss\",\n",
    "                          patience=12, \n",
    "                          verbose=0,\n",
    "                          mode=\"min\", \n",
    "                          restore_best_weights=True)\n",
    "        callbacks = [lr, es, tf.keras.callbacks.TerminateOnNaN()]\n",
    "\n",
    "        # Construct and compile the model\n",
    "        model = my_model(n_inputs=X_train.shape[1],n_outputs=y_train.shape[1],reg1=reg1,reg2=reg2)\n",
    "\n",
    "        # Train the model\n",
    "        history = model.fit(X_tr, y_tr, \n",
    "                            validation_data=(X_va, y_va), \n",
    "                            epochs=EPOCHS,\n",
    "                            verbose=VERBOSE,\n",
    "                            batch_size=BATCH_SIZE,\n",
    "                            shuffle=True,\n",
    "                            callbacks=callbacks)\n",
    "        del X_tr, y_tr\n",
    "\n",
    "        # We validate the model\n",
    "        y_pred = model.predict(X_va, batch_size=X_va.shape[0])\n",
    "        corrscore = correlation_score(y_va, y_pred)\n",
    "\n",
    "        print(f\"Fold {fold}: {es.stopped_epoch:3} epochs, corr =  {corrscore:.5f}\")\n",
    "        del es, X_va#, y_va, y_va_pred\n",
    "        score_list.append(corrscore)\n",
    "\n",
    "        return model\n",
    "\n",
    "    # Show overall score\n",
    "    print(f\"{Fore.GREEN}{Style.BRIGHT}Average  corr = {np.array(score_list).mean():.5f}{Style.RESET_ALL}\")\n",
    "    \n",
    "LR_START = 0.01\n",
    "BATCH_SIZE = 256\n",
    "reg1 = 8e-5\n",
    "reg2 = 2e-5\n",
    "model = fit(X_train_1,y_train)"
   ]
  },
  {
   "cell_type": "code",
   "execution_count": 47,
   "id": "c1163b4e-1a6a-4eed-9cf6-cb7babe3d4c1",
   "metadata": {
    "execution": {
     "iopub.execute_input": "2022-10-12T22:19:23.011371Z",
     "iopub.status.busy": "2022-10-12T22:19:23.010971Z",
     "iopub.status.idle": "2022-10-12T22:19:24.014880Z",
     "shell.execute_reply": "2022-10-12T22:19:24.014145Z",
     "shell.execute_reply.started": "2022-10-12T22:19:23.011344Z"
    },
    "tags": []
   },
   "outputs": [
    {
     "name": "stdout",
     "output_type": "stream",
     "text": [
      "Cloning into 'robust-pca'...\n",
      "remote: Enumerating objects: 50, done.\u001b[K\n",
      "remote: Counting objects: 100% (5/5), done.\u001b[K\n",
      "remote: Compressing objects: 100% (5/5), done.\u001b[K\n",
      "remote: Total 50 (delta 1), reused 0 (delta 0), pack-reused 45\u001b[K\n",
      "Unpacking objects: 100% (50/50), 11.30 KiB | 1.41 MiB/s, done.\n"
     ]
    }
   ],
   "source": [
    "!git clone https://github.com/dganguli/robust-pca"
   ]
  },
  {
   "cell_type": "code",
   "execution_count": 51,
   "id": "b54ca00b-1e45-4bca-b5ea-223e29fa254b",
   "metadata": {
    "execution": {
     "iopub.execute_input": "2022-10-12T22:21:04.922887Z",
     "iopub.status.busy": "2022-10-12T22:21:04.922502Z",
     "iopub.status.idle": "2022-10-12T22:21:04.930852Z",
     "shell.execute_reply": "2022-10-12T22:21:04.930295Z",
     "shell.execute_reply.started": "2022-10-12T22:21:04.922864Z"
    },
    "tags": []
   },
   "outputs": [
    {
     "name": "stdout",
     "output_type": "stream",
     "text": [
      "/home/jovyan/kaggle/working/robust-pca\n"
     ]
    }
   ],
   "source": [
    "%cd robust-pca\n",
    "import r_pca"
   ]
  },
  {
   "cell_type": "code",
   "execution_count": 66,
   "id": "2905bb8e-da6f-499c-88ba-36ac167ae1c9",
   "metadata": {
    "execution": {
     "iopub.execute_input": "2022-10-12T22:27:58.839421Z",
     "iopub.status.busy": "2022-10-12T22:27:58.839036Z",
     "iopub.status.idle": "2022-10-12T22:27:58.843346Z",
     "shell.execute_reply": "2022-10-12T22:27:58.842855Z",
     "shell.execute_reply.started": "2022-10-12T22:27:58.839397Z"
    },
    "tags": []
   },
   "outputs": [
    {
     "data": {
      "text/plain": [
       "(5382, 21601)"
      ]
     },
     "execution_count": 66,
     "metadata": {},
     "output_type": "execute_result"
    }
   ],
   "source": [
    "X_train_1.shape"
   ]
  },
  {
   "cell_type": "code",
   "execution_count": null,
   "id": "89f4d8a1-7494-4131-8803-8091a130682c",
   "metadata": {},
   "outputs": [],
   "source": [
    "import rpca\n",
    "from rpca import data\n",
    "\n",
    "# Load \"Sleep in Mammals\" database\n",
    "X = rpca.data.load_sleep()\n",
    "\n",
    "# Transform it using Robust PCA\n",
    "huber_loss = rpca.loss.HuberLoss(delta=1)\n",
    "rpca_transformer = rpca.MRobustPCA(2, huber_loss)\n",
    "X_rpca = rpca_transformer.fit_transform(X)"
   ]
  },
  {
   "cell_type": "code",
   "execution_count": 136,
   "id": "ae77c16e-a7f4-4ee6-a784-9136641a2961",
   "metadata": {
    "execution": {
     "iopub.execute_input": "2022-10-12T23:09:41.542464Z",
     "iopub.status.busy": "2022-10-12T23:09:41.542064Z",
     "iopub.status.idle": "2022-10-12T23:12:20.140871Z",
     "shell.execute_reply": "2022-10-12T23:12:20.140086Z",
     "shell.execute_reply.started": "2022-10-12T23:09:41.542438Z"
    },
    "tags": []
   },
   "outputs": [
    {
     "name": "stdout",
     "output_type": "stream",
     "text": [
      "iteration: 1, error: 0.07589927903767184\n",
      "iteration: 2, error: 4.0265773190696975e-07\n"
     ]
    }
   ],
   "source": [
    "rpca = r_pca.R_pca(np.array(X_train_1.todense()))\n",
    "L, S = rpca.fit(max_iter=10000, iter_print=100)"
   ]
  },
  {
   "cell_type": "code",
   "execution_count": 144,
   "id": "5c771d7c-3d68-4909-9ef3-7725f0f315e2",
   "metadata": {
    "execution": {
     "iopub.execute_input": "2022-10-12T23:14:52.143074Z",
     "iopub.status.busy": "2022-10-12T23:14:52.142686Z",
     "iopub.status.idle": "2022-10-12T23:14:53.293758Z",
     "shell.execute_reply": "2022-10-12T23:14:53.293124Z",
     "shell.execute_reply.started": "2022-10-12T23:14:52.143050Z"
    }
   },
   "outputs": [],
   "source": [
    "svd = TruncatedSVD(n_components=64, random_state=1) # 512 is possible\n",
    "L_1 = svd.fit_transform(L)"
   ]
  },
  {
   "cell_type": "code",
   "execution_count": 143,
   "id": "c2b509e9-793e-486c-afe4-f2288487546e",
   "metadata": {
    "execution": {
     "iopub.execute_input": "2022-10-12T23:14:00.101440Z",
     "iopub.status.busy": "2022-10-12T23:14:00.101045Z",
     "iopub.status.idle": "2022-10-12T23:14:00.179002Z",
     "shell.execute_reply": "2022-10-12T23:14:00.178483Z",
     "shell.execute_reply.started": "2022-10-12T23:14:00.101415Z"
    },
    "tags": []
   },
   "outputs": [
    {
     "data": {
      "text/plain": [
       "-0.00017877044413502213"
      ]
     },
     "execution_count": 143,
     "metadata": {},
     "output_type": "execute_result"
    }
   ],
   "source": [
    "np.min(S)"
   ]
  },
  {
   "cell_type": "code",
   "execution_count": 114,
   "id": "549bd2dc-552d-40ce-b9e0-1c96cef3cf89",
   "metadata": {
    "execution": {
     "iopub.execute_input": "2022-10-12T23:03:42.669266Z",
     "iopub.status.busy": "2022-10-12T23:03:42.668881Z",
     "iopub.status.idle": "2022-10-12T23:03:42.673289Z",
     "shell.execute_reply": "2022-10-12T23:03:42.672779Z",
     "shell.execute_reply.started": "2022-10-12T23:03:42.669240Z"
    }
   },
   "outputs": [
    {
     "data": {
      "text/plain": [
       "<5382x21601 sparse matrix of type '<class 'numpy.float32'>'\n",
       "\twith 26739602 stored elements in Compressed Sparse Row format>"
      ]
     },
     "execution_count": 114,
     "metadata": {},
     "output_type": "execute_result"
    }
   ],
   "source": [
    "X_train_1"
   ]
  },
  {
   "cell_type": "code",
   "execution_count": 119,
   "id": "86251a1f-20d9-49c4-88b9-601b8769ad8d",
   "metadata": {
    "execution": {
     "iopub.execute_input": "2022-10-12T23:04:48.469562Z",
     "iopub.status.busy": "2022-10-12T23:04:48.469179Z",
     "iopub.status.idle": "2022-10-12T23:04:48.473649Z",
     "shell.execute_reply": "2022-10-12T23:04:48.473131Z",
     "shell.execute_reply.started": "2022-10-12T23:04:48.469537Z"
    }
   },
   "outputs": [
    {
     "data": {
      "text/plain": [
       "(5382, 21601)"
      ]
     },
     "execution_count": 119,
     "metadata": {},
     "output_type": "execute_result"
    }
   ],
   "source": [
    "M.shape"
   ]
  },
  {
   "cell_type": "code",
   "execution_count": 133,
   "id": "e40c973f-b001-471a-b4fb-7ada25dfb616",
   "metadata": {
    "execution": {
     "iopub.execute_input": "2022-10-12T23:08:07.228079Z",
     "iopub.status.busy": "2022-10-12T23:08:07.227690Z",
     "iopub.status.idle": "2022-10-12T23:08:07.671329Z",
     "shell.execute_reply": "2022-10-12T23:08:07.670767Z",
     "shell.execute_reply.started": "2022-10-12T23:08:07.228053Z"
    },
    "tags": []
   },
   "outputs": [
    {
     "data": {
      "text/plain": [
       "numpy.matrix"
      ]
     },
     "execution_count": 133,
     "metadata": {},
     "output_type": "execute_result"
    }
   ],
   "source": [
    "type(X_train_1.todense()[0:2,0:3])"
   ]
  },
  {
   "cell_type": "code",
   "execution_count": 135,
   "id": "8f1dac87-666d-4ef7-95b2-8e3bbaa3c8ab",
   "metadata": {
    "execution": {
     "iopub.execute_input": "2022-10-12T23:09:26.660020Z",
     "iopub.status.busy": "2022-10-12T23:09:26.659616Z",
     "iopub.status.idle": "2022-10-12T23:09:27.102250Z",
     "shell.execute_reply": "2022-10-12T23:09:27.101467Z",
     "shell.execute_reply.started": "2022-10-12T23:09:26.659994Z"
    }
   },
   "outputs": [
    {
     "data": {
      "text/plain": [
       "array([[0., 0., 0.],\n",
       "       [0., 0., 0.]], dtype=float32)"
      ]
     },
     "execution_count": 135,
     "metadata": {},
     "output_type": "execute_result"
    }
   ],
   "source": [
    "np.array(X_train_1.todense()[0:2,0:3])"
   ]
  },
  {
   "cell_type": "code",
   "execution_count": 126,
   "id": "c7d7903f-02d1-440a-ae38-653981f0b240",
   "metadata": {
    "execution": {
     "iopub.execute_input": "2022-10-12T23:06:23.511556Z",
     "iopub.status.busy": "2022-10-12T23:06:23.511178Z",
     "iopub.status.idle": "2022-10-12T23:06:23.949847Z",
     "shell.execute_reply": "2022-10-12T23:06:23.949124Z",
     "shell.execute_reply.started": "2022-10-12T23:06:23.511532Z"
    },
    "tags": []
   },
   "outputs": [
    {
     "ename": "ValueError",
     "evalue": "shapes (2,3) and (2,3) not aligned: 3 (dim 1) != 2 (dim 0)",
     "output_type": "error",
     "traceback": [
      "\u001b[0;31m---------------------------------------------------------------------------\u001b[0m",
      "\u001b[0;31mValueError\u001b[0m                                Traceback (most recent call last)",
      "Input \u001b[0;32mIn [126]\u001b[0m, in \u001b[0;36m<cell line: 2>\u001b[0;34m()\u001b[0m\n\u001b[1;32m      1\u001b[0m M \u001b[38;5;241m=\u001b[39m X_train_1\u001b[38;5;241m.\u001b[39mtodense()[\u001b[38;5;241m0\u001b[39m:\u001b[38;5;241m2\u001b[39m,\u001b[38;5;241m0\u001b[39m:\u001b[38;5;241m3\u001b[39m]\n\u001b[0;32m----> 2\u001b[0m \u001b[43mnp\u001b[49m\u001b[38;5;241;43m.\u001b[39;49m\u001b[43msign\u001b[49m\u001b[43m(\u001b[49m\u001b[43mM\u001b[49m\u001b[43m)\u001b[49m\u001b[43m \u001b[49m\u001b[38;5;241;43m*\u001b[39;49m\u001b[43m \u001b[49m\u001b[43mnp\u001b[49m\u001b[38;5;241;43m.\u001b[39;49m\u001b[43mzeros\u001b[49m\u001b[43m(\u001b[49m\u001b[43mM\u001b[49m\u001b[38;5;241;43m.\u001b[39;49m\u001b[43mshape\u001b[49m\u001b[43m)\u001b[49m\n",
      "File \u001b[0;32m/srv/conda/envs/saturn/lib/python3.9/site-packages/numpy/matrixlib/defmatrix.py:218\u001b[0m, in \u001b[0;36mmatrix.__mul__\u001b[0;34m(self, other)\u001b[0m\n\u001b[1;32m    215\u001b[0m \u001b[38;5;28;01mdef\u001b[39;00m \u001b[38;5;21m__mul__\u001b[39m(\u001b[38;5;28mself\u001b[39m, other):\n\u001b[1;32m    216\u001b[0m     \u001b[38;5;28;01mif\u001b[39;00m \u001b[38;5;28misinstance\u001b[39m(other, (N\u001b[38;5;241m.\u001b[39mndarray, \u001b[38;5;28mlist\u001b[39m, \u001b[38;5;28mtuple\u001b[39m)) :\n\u001b[1;32m    217\u001b[0m         \u001b[38;5;66;03m# This promotes 1-D vectors to row vectors\u001b[39;00m\n\u001b[0;32m--> 218\u001b[0m         \u001b[38;5;28;01mreturn\u001b[39;00m \u001b[43mN\u001b[49m\u001b[38;5;241;43m.\u001b[39;49m\u001b[43mdot\u001b[49m\u001b[43m(\u001b[49m\u001b[38;5;28;43mself\u001b[39;49m\u001b[43m,\u001b[49m\u001b[43m \u001b[49m\u001b[43masmatrix\u001b[49m\u001b[43m(\u001b[49m\u001b[43mother\u001b[49m\u001b[43m)\u001b[49m\u001b[43m)\u001b[49m\n\u001b[1;32m    219\u001b[0m     \u001b[38;5;28;01mif\u001b[39;00m isscalar(other) \u001b[38;5;129;01mor\u001b[39;00m \u001b[38;5;129;01mnot\u001b[39;00m \u001b[38;5;28mhasattr\u001b[39m(other, \u001b[38;5;124m'\u001b[39m\u001b[38;5;124m__rmul__\u001b[39m\u001b[38;5;124m'\u001b[39m) :\n\u001b[1;32m    220\u001b[0m         \u001b[38;5;28;01mreturn\u001b[39;00m N\u001b[38;5;241m.\u001b[39mdot(\u001b[38;5;28mself\u001b[39m, other)\n",
      "File \u001b[0;32m<__array_function__ internals>:5\u001b[0m, in \u001b[0;36mdot\u001b[0;34m(*args, **kwargs)\u001b[0m\n",
      "\u001b[0;31mValueError\u001b[0m: shapes (2,3) and (2,3) not aligned: 3 (dim 1) != 2 (dim 0)"
     ]
    }
   ],
   "source": [
    "M = X_train_1.todense()[0:2,0:3]\n",
    "np.sign(M) * np.zeros(M.shape)"
   ]
  },
  {
   "cell_type": "code",
   "execution_count": 112,
   "id": "98a6c98b-29dd-4320-8fd3-ce83528a046d",
   "metadata": {
    "execution": {
     "iopub.execute_input": "2022-10-12T23:03:16.522617Z",
     "iopub.status.busy": "2022-10-12T23:03:16.522246Z",
     "iopub.status.idle": "2022-10-12T23:03:16.527475Z",
     "shell.execute_reply": "2022-10-12T23:03:16.526953Z",
     "shell.execute_reply.started": "2022-10-12T23:03:16.522592Z"
    }
   },
   "outputs": [
    {
     "data": {
      "text/plain": [
       "array([[-0. ,  0. ],\n",
       "       [ 0.5, -0.5],\n",
       "       [ 4.5,  4.5]])"
      ]
     },
     "execution_count": 112,
     "metadata": {},
     "output_type": "execute_result"
    }
   ],
   "source": [
    "np.sign(M) * np.maximum((np.abs(M) - tau), np.zeros(M.shape))"
   ]
  },
  {
   "cell_type": "code",
   "execution_count": 111,
   "id": "4494efe5-b057-4fa9-991c-3b0de8bf6754",
   "metadata": {
    "execution": {
     "iopub.execute_input": "2022-10-12T23:03:02.556374Z",
     "iopub.status.busy": "2022-10-12T23:03:02.555990Z",
     "iopub.status.idle": "2022-10-12T23:03:02.560759Z",
     "shell.execute_reply": "2022-10-12T23:03:02.560243Z",
     "shell.execute_reply.started": "2022-10-12T23:03:02.556350Z"
    },
    "tags": []
   },
   "outputs": [
    {
     "data": {
      "text/plain": [
       "array([[0.1, 0.1],\n",
       "       [1. , 1. ],\n",
       "       [5. , 5. ]])"
      ]
     },
     "execution_count": 111,
     "metadata": {},
     "output_type": "execute_result"
    }
   ],
   "source": [
    "np.abs(M)"
   ]
  },
  {
   "cell_type": "code",
   "execution_count": 109,
   "id": "a7c67936-b15f-48b6-a9cb-613375ea9382",
   "metadata": {
    "execution": {
     "iopub.execute_input": "2022-10-12T23:02:08.463138Z",
     "iopub.status.busy": "2022-10-12T23:02:08.462749Z",
     "iopub.status.idle": "2022-10-12T23:02:08.467625Z",
     "shell.execute_reply": "2022-10-12T23:02:08.467100Z",
     "shell.execute_reply.started": "2022-10-12T23:02:08.463111Z"
    },
    "tags": []
   },
   "outputs": [
    {
     "data": {
      "text/plain": [
       "array([[1.0e-02, 1.0e-02],\n",
       "       [1.0e+00, 1.0e+00],\n",
       "       [2.5e+01, 2.5e+01]])"
      ]
     },
     "execution_count": 109,
     "metadata": {},
     "output_type": "execute_result"
    }
   ],
   "source": [
    "M * M"
   ]
  },
  {
   "cell_type": "code",
   "execution_count": 108,
   "id": "a9050267-8d49-4b6b-bfab-59ba5509bf5e",
   "metadata": {
    "execution": {
     "iopub.execute_input": "2022-10-12T23:01:28.514540Z",
     "iopub.status.busy": "2022-10-12T23:01:28.513799Z",
     "iopub.status.idle": "2022-10-12T23:01:28.518631Z",
     "shell.execute_reply": "2022-10-12T23:01:28.518105Z",
     "shell.execute_reply.started": "2022-10-12T23:01:28.514515Z"
    },
    "tags": []
   },
   "outputs": [
    {
     "data": {
      "text/plain": [
       "array([[-0.,  0.],\n",
       "       [ 0., -0.],\n",
       "       [ 0.,  0.]])"
      ]
     },
     "execution_count": 108,
     "metadata": {},
     "output_type": "execute_result"
    }
   ],
   "source": [
    "np.zeros(M.shape)*np.sign(M)"
   ]
  },
  {
   "cell_type": "code",
   "execution_count": 134,
   "id": "fa3e5d85-3c49-4b47-8d8b-9a219815d15a",
   "metadata": {
    "execution": {
     "iopub.execute_input": "2022-10-12T23:08:28.489199Z",
     "iopub.status.busy": "2022-10-12T23:08:28.488814Z",
     "iopub.status.idle": "2022-10-12T23:08:28.494045Z",
     "shell.execute_reply": "2022-10-12T23:08:28.493326Z",
     "shell.execute_reply.started": "2022-10-12T23:08:28.489176Z"
    }
   },
   "outputs": [
    {
     "data": {
      "text/plain": [
       "numpy.ndarray"
      ]
     },
     "execution_count": 134,
     "metadata": {},
     "output_type": "execute_result"
    }
   ],
   "source": [
    "type(np.array([[0.,0.,0.],[0.,0.,0.]],dtype='float32'))"
   ]
  },
  {
   "cell_type": "code",
   "execution_count": 132,
   "id": "43bba852-9ac0-4b25-8a3f-7562ca1d833f",
   "metadata": {
    "execution": {
     "iopub.execute_input": "2022-10-12T23:07:51.358695Z",
     "iopub.status.busy": "2022-10-12T23:07:51.358315Z",
     "iopub.status.idle": "2022-10-12T23:07:51.363920Z",
     "shell.execute_reply": "2022-10-12T23:07:51.363408Z",
     "shell.execute_reply.started": "2022-10-12T23:07:51.358670Z"
    },
    "tags": []
   },
   "outputs": [
    {
     "data": {
      "text/plain": [
       "array([[0., 0., 0.],\n",
       "       [0., 0., 0.]])"
      ]
     },
     "execution_count": 132,
     "metadata": {},
     "output_type": "execute_result"
    }
   ],
   "source": [
    "M = np.array([[0.,0.,0.],[0.,0.,0.]],dtype='float32')\n",
    "tau = 0.5\n",
    "np.sign(M) * np.maximum((np.abs(M) - tau), np.zeros(M.shape))"
   ]
  },
  {
   "cell_type": "code",
   "execution_count": 128,
   "id": "794033a0-000d-4eb3-aae2-59cba0e0d911",
   "metadata": {
    "execution": {
     "iopub.execute_input": "2022-10-12T23:07:01.857963Z",
     "iopub.status.busy": "2022-10-12T23:07:01.857559Z",
     "iopub.status.idle": "2022-10-12T23:07:01.877677Z",
     "shell.execute_reply": "2022-10-12T23:07:01.876966Z",
     "shell.execute_reply.started": "2022-10-12T23:07:01.857921Z"
    },
    "tags": []
   },
   "outputs": [
    {
     "data": {
      "text/plain": [
       "array([[-0. ,  0. ,  0.5],\n",
       "       [-0.5,  4.5,  4.5]])"
      ]
     },
     "execution_count": 128,
     "metadata": {},
     "output_type": "execute_result"
    }
   ],
   "source": [
    "M = np.array([[-.1,.1,1],[-1,5,5]])\n",
    "tau = 0.5\n",
    "np.sign(M) * np.maximum((np.abs(M) - tau), np.zeros(M.shape))"
   ]
  },
  {
   "cell_type": "code",
   "execution_count": 68,
   "id": "da80865b-b7e5-4e7c-85a0-f1a1a0db520b",
   "metadata": {
    "execution": {
     "iopub.execute_input": "2022-10-12T22:31:11.289854Z",
     "iopub.status.busy": "2022-10-12T22:31:11.289475Z",
     "iopub.status.idle": "2022-10-12T22:31:11.294391Z",
     "shell.execute_reply": "2022-10-12T22:31:11.293834Z",
     "shell.execute_reply.started": "2022-10-12T22:31:11.289831Z"
    },
    "tags": []
   },
   "outputs": [
    {
     "name": "stdout",
     "output_type": "stream",
     "text": [
      "/home/jovyan/kaggle/working\n"
     ]
    }
   ],
   "source": [
    "%cd .."
   ]
  },
  {
   "cell_type": "code",
   "execution_count": 69,
   "id": "9fcc63eb-fe62-4802-87e8-96773aaacb39",
   "metadata": {
    "execution": {
     "iopub.execute_input": "2022-10-12T22:31:22.032282Z",
     "iopub.status.busy": "2022-10-12T22:31:22.031898Z",
     "iopub.status.idle": "2022-10-12T22:31:24.432886Z",
     "shell.execute_reply": "2022-10-12T22:31:24.432086Z",
     "shell.execute_reply.started": "2022-10-12T22:31:22.032259Z"
    }
   },
   "outputs": [
    {
     "name": "stdout",
     "output_type": "stream",
     "text": [
      "Cloning into 'RobustPCA'...\n",
      "remote: Enumerating objects: 184, done.\u001b[K\n",
      "remote: Total 184 (delta 0), reused 0 (delta 0), pack-reused 184\u001b[K\n",
      "Receiving objects: 100% (184/184), 240.01 KiB | 4.71 MiB/s, done.\n",
      "Resolving deltas: 100% (73/73), done.\n",
      "/home/jovyan/kaggle/working/RobustPCA\n",
      "running install\n",
      "/srv/conda/envs/saturn/lib/python3.9/site-packages/setuptools/command/install.py:34: SetuptoolsDeprecationWarning: setup.py install is deprecated. Use build and pip and other standards-based tools.\n",
      "  warnings.warn(\n",
      "/srv/conda/envs/saturn/lib/python3.9/site-packages/setuptools/command/easy_install.py:156: EasyInstallDeprecationWarning: easy_install command is deprecated. Use build and pip and other standards-based tools.\n",
      "  warnings.warn(\n",
      "running bdist_egg\n",
      "running egg_info\n",
      "creating MRobustPCA.egg-info\n",
      "writing MRobustPCA.egg-info/PKG-INFO\n",
      "writing dependency_links to MRobustPCA.egg-info/dependency_links.txt\n",
      "writing requirements to MRobustPCA.egg-info/requires.txt\n",
      "writing top-level names to MRobustPCA.egg-info/top_level.txt\n",
      "writing manifest file 'MRobustPCA.egg-info/SOURCES.txt'\n",
      "reading manifest file 'MRobustPCA.egg-info/SOURCES.txt'\n",
      "writing manifest file 'MRobustPCA.egg-info/SOURCES.txt'\n",
      "installing library code to build/bdist.linux-x86_64/egg\n",
      "running install_lib\n",
      "running build_py\n",
      "creating build\n",
      "creating build/lib\n",
      "creating build/lib/rpca\n",
      "copying rpca/loss.py -> build/lib/rpca\n",
      "copying rpca/__init__.py -> build/lib/rpca\n",
      "copying rpca/m_est_rpca.py -> build/lib/rpca\n",
      "creating build/lib/rpca/data\n",
      "copying rpca/data/__init__.py -> build/lib/rpca/data\n",
      "creating build/lib/rpca/baselines\n",
      "copying rpca/baselines/outlier_detector_rpca.py -> build/lib/rpca/baselines\n",
      "copying rpca/baselines/__init__.py -> build/lib/rpca/baselines\n",
      "copying rpca/data/sleep.txt -> build/lib/rpca/data\n",
      "creating build/bdist.linux-x86_64\n",
      "creating build/bdist.linux-x86_64/egg\n",
      "creating build/bdist.linux-x86_64/egg/rpca\n",
      "copying build/lib/rpca/loss.py -> build/bdist.linux-x86_64/egg/rpca\n",
      "copying build/lib/rpca/__init__.py -> build/bdist.linux-x86_64/egg/rpca\n",
      "creating build/bdist.linux-x86_64/egg/rpca/data\n",
      "copying build/lib/rpca/data/sleep.txt -> build/bdist.linux-x86_64/egg/rpca/data\n",
      "copying build/lib/rpca/data/__init__.py -> build/bdist.linux-x86_64/egg/rpca/data\n",
      "copying build/lib/rpca/m_est_rpca.py -> build/bdist.linux-x86_64/egg/rpca\n",
      "creating build/bdist.linux-x86_64/egg/rpca/baselines\n",
      "copying build/lib/rpca/baselines/outlier_detector_rpca.py -> build/bdist.linux-x86_64/egg/rpca/baselines\n",
      "copying build/lib/rpca/baselines/__init__.py -> build/bdist.linux-x86_64/egg/rpca/baselines\n",
      "byte-compiling build/bdist.linux-x86_64/egg/rpca/loss.py to loss.cpython-39.pyc\n",
      "byte-compiling build/bdist.linux-x86_64/egg/rpca/__init__.py to __init__.cpython-39.pyc\n",
      "byte-compiling build/bdist.linux-x86_64/egg/rpca/data/__init__.py to __init__.cpython-39.pyc\n",
      "byte-compiling build/bdist.linux-x86_64/egg/rpca/m_est_rpca.py to m_est_rpca.cpython-39.pyc\n",
      "byte-compiling build/bdist.linux-x86_64/egg/rpca/baselines/outlier_detector_rpca.py to outlier_detector_rpca.cpython-39.pyc\n",
      "byte-compiling build/bdist.linux-x86_64/egg/rpca/baselines/__init__.py to __init__.cpython-39.pyc\n",
      "creating build/bdist.linux-x86_64/egg/EGG-INFO\n",
      "copying MRobustPCA.egg-info/PKG-INFO -> build/bdist.linux-x86_64/egg/EGG-INFO\n",
      "copying MRobustPCA.egg-info/SOURCES.txt -> build/bdist.linux-x86_64/egg/EGG-INFO\n",
      "copying MRobustPCA.egg-info/dependency_links.txt -> build/bdist.linux-x86_64/egg/EGG-INFO\n",
      "copying MRobustPCA.egg-info/requires.txt -> build/bdist.linux-x86_64/egg/EGG-INFO\n",
      "copying MRobustPCA.egg-info/top_level.txt -> build/bdist.linux-x86_64/egg/EGG-INFO\n",
      "zip_safe flag not set; analyzing archive contents...\n",
      "rpca.data.__pycache__.__init__.cpython-39: module references __file__\n",
      "creating dist\n",
      "creating 'dist/MRobustPCA-0.1-py3.9.egg' and adding 'build/bdist.linux-x86_64/egg' to it\n",
      "removing 'build/bdist.linux-x86_64/egg' (and everything under it)\n",
      "Processing MRobustPCA-0.1-py3.9.egg\n",
      "creating /opt/saturncloud/envs/saturn/lib/python3.9/site-packages/MRobustPCA-0.1-py3.9.egg\n",
      "Extracting MRobustPCA-0.1-py3.9.egg to /opt/saturncloud/envs/saturn/lib/python3.9/site-packages\n",
      "Adding MRobustPCA 0.1 to easy-install.pth file\n",
      "\n",
      "Installed /opt/saturncloud/envs/saturn/lib/python3.9/site-packages/MRobustPCA-0.1-py3.9.egg\n",
      "Processing dependencies for MRobustPCA==0.1\n",
      "Searching for pandas==1.4.2\n",
      "Best match: pandas 1.4.2\n",
      "Adding pandas 1.4.2 to easy-install.pth file\n",
      "\n",
      "Using /opt/saturncloud/envs/saturn/lib/python3.9/site-packages\n",
      "Searching for scikit-learn==1.1.1\n",
      "Best match: scikit-learn 1.1.1\n",
      "Adding scikit-learn 1.1.1 to easy-install.pth file\n",
      "\n",
      "Using /opt/saturncloud/envs/saturn/lib/python3.9/site-packages\n",
      "Searching for scipy==1.8.1\n",
      "Best match: scipy 1.8.1\n",
      "Adding scipy 1.8.1 to easy-install.pth file\n",
      "\n",
      "Using /opt/saturncloud/envs/saturn/lib/python3.9/site-packages\n",
      "Searching for numpy==1.21.6\n",
      "Best match: numpy 1.21.6\n",
      "Adding numpy 1.21.6 to easy-install.pth file\n",
      "Installing f2py script to /srv/conda/envs/saturn/bin\n",
      "Installing f2py3 script to /srv/conda/envs/saturn/bin\n",
      "Installing f2py3.9 script to /srv/conda/envs/saturn/bin\n",
      "\n",
      "Using /opt/saturncloud/envs/saturn/lib/python3.9/site-packages\n",
      "Searching for pytz==2022.1\n",
      "Best match: pytz 2022.1\n",
      "Adding pytz 2022.1 to easy-install.pth file\n",
      "\n",
      "Using /opt/saturncloud/envs/saturn/lib/python3.9/site-packages\n",
      "Searching for python-dateutil==2.8.2\n",
      "Best match: python-dateutil 2.8.2\n",
      "Adding python-dateutil 2.8.2 to easy-install.pth file\n",
      "\n",
      "Using /opt/saturncloud/envs/saturn/lib/python3.9/site-packages\n",
      "Searching for joblib==1.1.0\n",
      "Best match: joblib 1.1.0\n",
      "Adding joblib 1.1.0 to easy-install.pth file\n",
      "\n",
      "Using /opt/saturncloud/envs/saturn/lib/python3.9/site-packages\n",
      "Searching for threadpoolctl==3.1.0\n",
      "Best match: threadpoolctl 3.1.0\n",
      "Adding threadpoolctl 3.1.0 to easy-install.pth file\n",
      "\n",
      "Using /opt/saturncloud/envs/saturn/lib/python3.9/site-packages\n",
      "Searching for six==1.16.0\n",
      "Best match: six 1.16.0\n",
      "Adding six 1.16.0 to easy-install.pth file\n",
      "\n",
      "Using /opt/saturncloud/envs/saturn/lib/python3.9/site-packages\n",
      "Finished processing dependencies for MRobustPCA==0.1\n",
      "writing list of installed files to 'files.txt'\n"
     ]
    }
   ],
   "source": [
    "!git clone https://github.com/bsharchilev/RobustPCA\n",
    "\n",
    "%cd RobustPCA\n",
    "\n",
    "!python setup.py install --record files.txt"
   ]
  },
  {
   "cell_type": "code",
   "execution_count": 71,
   "id": "608bedf2-3d35-4f95-9d48-3c55ddd6a467",
   "metadata": {
    "execution": {
     "iopub.execute_input": "2022-10-12T22:31:56.462900Z",
     "iopub.status.busy": "2022-10-12T22:31:56.462522Z",
     "iopub.status.idle": "2022-10-12T22:31:56.466890Z",
     "shell.execute_reply": "2022-10-12T22:31:56.466346Z",
     "shell.execute_reply.started": "2022-10-12T22:31:56.462877Z"
    },
    "tags": []
   },
   "outputs": [
    {
     "name": "stdout",
     "output_type": "stream",
     "text": [
      "/home/jovyan/kaggle/working/RobustPCA\n"
     ]
    }
   ],
   "source": [
    "%cd RobustPCA"
   ]
  },
  {
   "cell_type": "code",
   "execution_count": 79,
   "id": "cb993763-74d5-4c08-ba26-2466b102ed29",
   "metadata": {
    "execution": {
     "iopub.execute_input": "2022-10-12T22:39:47.234956Z",
     "iopub.status.busy": "2022-10-12T22:39:47.234302Z",
     "iopub.status.idle": "2022-10-12T22:39:49.896875Z",
     "shell.execute_reply": "2022-10-12T22:39:49.896124Z",
     "shell.execute_reply.started": "2022-10-12T22:39:47.234931Z"
    },
    "tags": []
   },
   "outputs": [
    {
     "name": "stdout",
     "output_type": "stream",
     "text": [
      "Requirement already satisfied: six in /opt/saturncloud/envs/saturn/lib/python3.9/site-packages (1.16.0)\n"
     ]
    }
   ],
   "source": [
    "\"\"\"Principal Component Analysis Base Classes\"\"\"\n",
    "\n",
    "# Author: Alexandre Gramfort <alexandre.gramfort@inria.fr>\n",
    "#         Olivier Grisel <olivier.grisel@ensta.org>\n",
    "#         Mathieu Blondel <mathieu@mblondel.org>\n",
    "#         Denis A. Engemann <denis-alexander.engemann@inria.fr>\n",
    "#         Kyle Kastner <kastnerkyle@gmail.com>\n",
    "#\n",
    "# License: BSD 3 clause\n",
    "\n"
   ]
  },
  {
   "cell_type": "code",
   "execution_count": 83,
   "id": "c9039c2d-0847-4566-9872-86be2624eda8",
   "metadata": {
    "execution": {
     "iopub.execute_input": "2022-10-12T22:43:04.559483Z",
     "iopub.status.busy": "2022-10-12T22:43:04.559114Z",
     "iopub.status.idle": "2022-10-12T22:43:04.579301Z",
     "shell.execute_reply": "2022-10-12T22:43:04.578761Z",
     "shell.execute_reply.started": "2022-10-12T22:43:04.559458Z"
    },
    "tags": []
   },
   "outputs": [
    {
     "name": "stdout",
     "output_type": "stream",
     "text": [
      "[RPCA] Iteraton 1: error 433.088587, relative error inf\n",
      "[RPCA] Iteraton 2: error 407.667139, relative error 0.062358\n",
      "[RPCA] Iteraton 3: error 398.040898, relative error 0.024184\n",
      "[RPCA] Iteraton 4: error 385.338315, relative error 0.032965\n",
      "[RPCA] Iteraton 5: error 338.966250, relative error 0.136804\n",
      "[RPCA] Iteraton 6: error 278.488347, relative error 0.217165\n",
      "[RPCA] Iteraton 7: error 270.495974, relative error 0.029547\n",
      "[RPCA] Iteraton 8: error 267.039948, relative error 0.012942\n",
      "[RPCA] Iteraton 9: error 264.705590, relative error 0.008819\n",
      "[RPCA] Iteraton 10: error 263.316343, relative error 0.005276\n",
      "[RPCA] Iteraton 11: error 262.834320, relative error 0.001834\n",
      "[RPCA] Iteraton 12: error 262.704512, relative error 0.000494\n",
      "[RPCA] Iteraton 13: error 262.671634, relative error 0.000125\n",
      "[RPCA] Iteraton 14: error 262.663055, relative error 0.000033\n",
      "[RPCA] Iteraton 15: error 262.660775, relative error 0.000009\n",
      "[RPCA] Iteraton 16: error 262.660161, relative error 0.000002\n",
      "[RPCA] Iteraton 17: error 262.659995, relative error 0.000001\n"
     ]
    }
   ],
   "source": [
    "import scipy\n",
    "import numpy as np\n",
    "import sklearn\n",
    "import pandas as pd\n",
    "import rpca\n",
    "from rpca import data\n",
    "\n",
    "# Load \"Sleep in Mammals\" database\n",
    "X = rpca.data.load_sleep()\n",
    "\n",
    "# Transform it using Robust PCA\n",
    "huber_loss = rpca.loss.HuberLoss(delta=1)\n",
    "rpca_transformer = rpca.MRobustPCA(2, huber_loss)\n",
    "X_rpca = rpca_transformer.fit_transform(X)"
   ]
  },
  {
   "cell_type": "code",
   "execution_count": 94,
   "id": "4f2de1df-48ec-4464-8a11-cb8dcde0b890",
   "metadata": {
    "execution": {
     "iopub.execute_input": "2022-10-12T22:51:34.275748Z",
     "iopub.status.busy": "2022-10-12T22:51:34.275373Z",
     "iopub.status.idle": "2022-10-12T22:53:43.366019Z",
     "shell.execute_reply": "2022-10-12T22:53:43.365184Z",
     "shell.execute_reply.started": "2022-10-12T22:51:34.275724Z"
    },
    "tags": []
   },
   "outputs": [
    {
     "name": "stderr",
     "output_type": "stream",
     "text": [
      "/srv/conda/envs/saturn/lib/python3.9/site-packages/sklearn/utils/validation.py:727: FutureWarning: np.matrix usage is deprecated in 1.0 and will raise a TypeError in 1.2. Please convert to a numpy array with np.asarray. For more information see: https://numpy.org/doc/stable/reference/generated/numpy.matrix.html\n",
      "  warnings.warn(\n"
     ]
    },
    {
     "name": "stdout",
     "output_type": "stream",
     "text": [
      "[RPCA] Iteraton 1: error 91248.007432, relative error inf\n",
      "[RPCA] Iteraton 2: error 91245.065445, relative error 0.000032\n",
      "[RPCA] Iteraton 3: error 91245.058994, relative error 0.000000\n"
     ]
    },
    {
     "name": "stderr",
     "output_type": "stream",
     "text": [
      "/srv/conda/envs/saturn/lib/python3.9/site-packages/sklearn/utils/validation.py:727: FutureWarning: np.matrix usage is deprecated in 1.0 and will raise a TypeError in 1.2. Please convert to a numpy array with np.asarray. For more information see: https://numpy.org/doc/stable/reference/generated/numpy.matrix.html\n",
      "  warnings.warn(\n"
     ]
    }
   ],
   "source": [
    "huber_loss = rpca.loss.HuberLoss(delta=0.1)\n",
    "rpca_transformer = rpca.MRobustPCA(64, huber_loss)\n",
    "X_rpca = rpca_transformer.fit_transform(X_train_1.todense())"
   ]
  },
  {
   "cell_type": "code",
   "execution_count": 88,
   "id": "2481af7a-948b-4527-be93-39cb4b6cd918",
   "metadata": {
    "execution": {
     "iopub.execute_input": "2022-10-12T22:46:56.337090Z",
     "iopub.status.busy": "2022-10-12T22:46:56.336694Z",
     "iopub.status.idle": "2022-10-12T22:46:56.341218Z",
     "shell.execute_reply": "2022-10-12T22:46:56.340691Z",
     "shell.execute_reply.started": "2022-10-12T22:46:56.337064Z"
    },
    "tags": []
   },
   "outputs": [
    {
     "data": {
      "text/plain": [
       "(5382, 64)"
      ]
     },
     "execution_count": 88,
     "metadata": {},
     "output_type": "execute_result"
    }
   ],
   "source": [
    "X_rpca.shape"
   ]
  },
  {
   "cell_type": "code",
   "execution_count": 87,
   "id": "e3015914-e436-4780-b9bc-b8cc0be19c1f",
   "metadata": {
    "execution": {
     "iopub.execute_input": "2022-10-12T22:46:51.810302Z",
     "iopub.status.busy": "2022-10-12T22:46:51.809891Z",
     "iopub.status.idle": "2022-10-12T22:46:51.814501Z",
     "shell.execute_reply": "2022-10-12T22:46:51.813977Z",
     "shell.execute_reply.started": "2022-10-12T22:46:51.810277Z"
    }
   },
   "outputs": [
    {
     "data": {
      "text/plain": [
       "<5382x21601 sparse matrix of type '<class 'numpy.float32'>'\n",
       "\twith 26739602 stored elements in Compressed Sparse Row format>"
      ]
     },
     "execution_count": 87,
     "metadata": {},
     "output_type": "execute_result"
    }
   ],
   "source": [
    "X_train_1"
   ]
  },
  {
   "cell_type": "code",
   "execution_count": 89,
   "id": "b3ebde03-0b14-4a15-b9a6-3a6340a782a1",
   "metadata": {
    "execution": {
     "iopub.execute_input": "2022-10-12T22:47:23.972823Z",
     "iopub.status.busy": "2022-10-12T22:47:23.972210Z",
     "iopub.status.idle": "2022-10-12T22:47:28.637840Z",
     "shell.execute_reply": "2022-10-12T22:47:28.637257Z",
     "shell.execute_reply.started": "2022-10-12T22:47:23.972799Z"
    }
   },
   "outputs": [
    {
     "name": "stdout",
     "output_type": "stream",
     "text": [
      "Epoch 1/1000\n",
      "19/19 - 1s - loss: -6.9670e-01 - negative_correlation_loss: -7.6694e-01 - val_loss: -7.4861e-01 - val_negative_correlation_loss: -8.0912e-01 - lr: 0.0100 - 977ms/epoch - 51ms/step\n",
      "Epoch 2/1000\n",
      "19/19 - 0s - loss: -7.6816e-01 - negative_correlation_loss: -8.2160e-01 - val_loss: -7.6962e-01 - val_negative_correlation_loss: -8.1038e-01 - lr: 0.0100 - 151ms/epoch - 8ms/step\n",
      "Epoch 3/1000\n",
      "19/19 - 0s - loss: -7.8624e-01 - negative_correlation_loss: -8.2275e-01 - val_loss: -7.8331e-01 - val_negative_correlation_loss: -8.1008e-01 - lr: 0.0100 - 148ms/epoch - 8ms/step\n",
      "Epoch 4/1000\n",
      "19/19 - 0s - loss: -7.9743e-01 - negative_correlation_loss: -8.2296e-01 - val_loss: -7.9193e-01 - val_negative_correlation_loss: -8.1027e-01 - lr: 0.0100 - 149ms/epoch - 8ms/step\n",
      "Epoch 5/1000\n",
      "19/19 - 0s - loss: -8.0402e-01 - negative_correlation_loss: -8.2288e-01 - val_loss: -7.9668e-01 - val_negative_correlation_loss: -8.0991e-01 - lr: 0.0100 - 149ms/epoch - 8ms/step\n",
      "Epoch 6/1000\n",
      "19/19 - 0s - loss: -8.0859e-01 - negative_correlation_loss: -8.2329e-01 - val_loss: -8.0026e-01 - val_negative_correlation_loss: -8.1015e-01 - lr: 0.0100 - 146ms/epoch - 8ms/step\n",
      "Epoch 7/1000\n",
      "19/19 - 0s - loss: -8.1153e-01 - negative_correlation_loss: -8.2271e-01 - val_loss: -8.0228e-01 - val_negative_correlation_loss: -8.1003e-01 - lr: 0.0100 - 146ms/epoch - 8ms/step\n",
      "Epoch 8/1000\n",
      "19/19 - 0s - loss: -8.1312e-01 - negative_correlation_loss: -8.2330e-01 - val_loss: -8.0187e-01 - val_negative_correlation_loss: -8.0957e-01 - lr: 0.0100 - 146ms/epoch - 8ms/step\n",
      "Epoch 9/1000\n",
      "19/19 - 0s - loss: -8.1290e-01 - negative_correlation_loss: -8.2305e-01 - val_loss: -8.0243e-01 - val_negative_correlation_loss: -8.0942e-01 - lr: 0.0100 - 149ms/epoch - 8ms/step\n",
      "Epoch 10/1000\n",
      "19/19 - 0s - loss: -8.1478e-01 - negative_correlation_loss: -8.2360e-01 - val_loss: -8.0436e-01 - val_negative_correlation_loss: -8.1006e-01 - lr: 0.0100 - 148ms/epoch - 8ms/step\n",
      "Epoch 11/1000\n",
      "19/19 - 0s - loss: -8.1572e-01 - negative_correlation_loss: -8.2389e-01 - val_loss: -8.0319e-01 - val_negative_correlation_loss: -8.0885e-01 - lr: 0.0100 - 144ms/epoch - 8ms/step\n",
      "Epoch 12/1000\n",
      "19/19 - 0s - loss: -8.1641e-01 - negative_correlation_loss: -8.2424e-01 - val_loss: -8.0349e-01 - val_negative_correlation_loss: -8.0835e-01 - lr: 0.0100 - 146ms/epoch - 8ms/step\n",
      "Epoch 13/1000\n",
      "19/19 - 0s - loss: -8.1768e-01 - negative_correlation_loss: -8.2489e-01 - val_loss: -8.0414e-01 - val_negative_correlation_loss: -8.0861e-01 - lr: 0.0100 - 143ms/epoch - 8ms/step\n",
      "Epoch 14/1000\n",
      "\n",
      "Epoch 14: ReduceLROnPlateau reducing learning rate to 0.004999999888241291.\n",
      "19/19 - 0s - loss: -8.1765e-01 - negative_correlation_loss: -8.2500e-01 - val_loss: -8.0431e-01 - val_negative_correlation_loss: -8.0981e-01 - lr: 0.0100 - 148ms/epoch - 8ms/step\n",
      "Epoch 15/1000\n",
      "19/19 - 0s - loss: -8.1927e-01 - negative_correlation_loss: -8.2657e-01 - val_loss: -8.0334e-01 - val_negative_correlation_loss: -8.0761e-01 - lr: 0.0050 - 146ms/epoch - 8ms/step\n",
      "Epoch 16/1000\n",
      "19/19 - 0s - loss: -8.2255e-01 - negative_correlation_loss: -8.2838e-01 - val_loss: -8.0287e-01 - val_negative_correlation_loss: -8.0681e-01 - lr: 0.0050 - 144ms/epoch - 8ms/step\n",
      "Epoch 17/1000\n",
      "19/19 - 0s - loss: -8.2368e-01 - negative_correlation_loss: -8.3076e-01 - val_loss: -8.0334e-01 - val_negative_correlation_loss: -8.0760e-01 - lr: 0.0050 - 144ms/epoch - 8ms/step\n",
      "Epoch 18/1000\n",
      "\n",
      "Epoch 18: ReduceLROnPlateau reducing learning rate to 0.0024999999441206455.\n",
      "19/19 - 0s - loss: -8.2513e-01 - negative_correlation_loss: -8.3198e-01 - val_loss: -8.0118e-01 - val_negative_correlation_loss: -8.0564e-01 - lr: 0.0050 - 149ms/epoch - 8ms/step\n",
      "Epoch 19/1000\n",
      "19/19 - 0s - loss: -8.2965e-01 - negative_correlation_loss: -8.3691e-01 - val_loss: -8.0052e-01 - val_negative_correlation_loss: -8.0501e-01 - lr: 0.0025 - 146ms/epoch - 8ms/step\n",
      "Epoch 20/1000\n",
      "19/19 - 0s - loss: -8.3315e-01 - negative_correlation_loss: -8.4025e-01 - val_loss: -7.9940e-01 - val_negative_correlation_loss: -8.0388e-01 - lr: 0.0025 - 143ms/epoch - 8ms/step\n",
      "Epoch 21/1000\n",
      "19/19 - 0s - loss: -8.3564e-01 - negative_correlation_loss: -8.4341e-01 - val_loss: -7.9975e-01 - val_negative_correlation_loss: -8.0430e-01 - lr: 0.0025 - 144ms/epoch - 8ms/step\n",
      "Epoch 22/1000\n",
      "\n",
      "Epoch 22: ReduceLROnPlateau reducing learning rate to 0.0012499999720603228.\n",
      "19/19 - 0s - loss: -8.3795e-01 - negative_correlation_loss: -8.4558e-01 - val_loss: -7.9799e-01 - val_negative_correlation_loss: -8.0287e-01 - lr: 0.0025 - 153ms/epoch - 8ms/step\n",
      "1/1 [==============================] - 0s 71ms/step\n",
      "Fold 0:  21 epochs, corr =  0.81260\n"
     ]
    }
   ],
   "source": [
    "N_SPLITS = 8\n",
    "from sklearn.model_selection import KFold\n",
    "def fit(X_train, y_train):\n",
    "    np.random.seed(1)\n",
    "    tf.random.set_seed(1)\n",
    "\n",
    "    kf = KFold(n_splits=N_SPLITS)\n",
    "    score_list = []\n",
    "    for fold, (idx_tr, idx_va) in enumerate(kf.split(X_train)):\n",
    "        start_time = datetime.datetime.now()\n",
    "        model = None\n",
    "        gc.collect()\n",
    "        X_tr = X_train[idx_tr]\n",
    "        y_tr = y_train[idx_tr]\n",
    "        X_va = X_train[idx_va]\n",
    "        y_va = y_train[idx_va]\n",
    "\n",
    "        lr = ReduceLROnPlateau(monitor=\"val_loss\", factor=0.5, \n",
    "                              patience=4, verbose=VERBOSE)\n",
    "        es = EarlyStopping(monitor=\"val_loss\",\n",
    "                          patience=12, \n",
    "                          verbose=0,\n",
    "                          mode=\"min\", \n",
    "                          restore_best_weights=True)\n",
    "        callbacks = [lr, es, tf.keras.callbacks.TerminateOnNaN()]\n",
    "\n",
    "        # Construct and compile the model\n",
    "        model = my_model(n_inputs=X_train.shape[1],n_outputs=y_train.shape[1],reg1=reg1,reg2=reg2)\n",
    "\n",
    "        # Train the model\n",
    "        history = model.fit(X_tr, y_tr, \n",
    "                            validation_data=(X_va, y_va), \n",
    "                            epochs=EPOCHS,\n",
    "                            verbose=VERBOSE,\n",
    "                            batch_size=BATCH_SIZE,\n",
    "                            shuffle=True,\n",
    "                            callbacks=callbacks)\n",
    "        del X_tr, y_tr\n",
    "\n",
    "        # We validate the model\n",
    "        y_pred = model.predict(X_va, batch_size=X_va.shape[0])\n",
    "        corrscore = correlation_score(y_va, y_pred)\n",
    "\n",
    "        print(f\"Fold {fold}: {es.stopped_epoch:3} epochs, corr =  {corrscore:.5f}\")\n",
    "        del es, X_va#, y_va, y_va_pred\n",
    "        score_list.append(corrscore)\n",
    "\n",
    "        return model\n",
    "\n",
    "    # Show overall score\n",
    "    print(f\"{Fore.GREEN}{Style.BRIGHT}Average  corr = {np.array(score_list).mean():.5f}{Style.RESET_ALL}\")\n",
    "    \n",
    "LR_START = 0.01\n",
    "BATCH_SIZE = 256\n",
    "reg1 = 8e-5\n",
    "reg2 = 2e-5\n",
    "model = fit(X_rpca,y_train)"
   ]
  },
  {
   "cell_type": "code",
   "execution_count": 91,
   "id": "04b0294c-60fa-4614-80c3-a6044224180d",
   "metadata": {
    "execution": {
     "iopub.execute_input": "2022-10-12T22:48:15.595329Z",
     "iopub.status.busy": "2022-10-12T22:48:15.594943Z",
     "iopub.status.idle": "2022-10-12T22:48:24.263364Z",
     "shell.execute_reply": "2022-10-12T22:48:24.262773Z",
     "shell.execute_reply.started": "2022-10-12T22:48:15.595304Z"
    }
   },
   "outputs": [
    {
     "name": "stdout",
     "output_type": "stream",
     "text": [
      "Epoch 1/1000\n",
      "19/19 - 1s - loss: -7.1098e-01 - negative_correlation_loss: -7.5548e-01 - val_loss: -7.7845e-01 - val_negative_correlation_loss: -8.1031e-01 - lr: 0.0100 - 974ms/epoch - 51ms/step\n",
      "Epoch 2/1000\n",
      "19/19 - 0s - loss: -7.9200e-01 - negative_correlation_loss: -8.2193e-01 - val_loss: -7.8708e-01 - val_negative_correlation_loss: -8.1047e-01 - lr: 0.0100 - 147ms/epoch - 8ms/step\n",
      "Epoch 3/1000\n",
      "19/19 - 0s - loss: -7.9964e-01 - negative_correlation_loss: -8.2279e-01 - val_loss: -7.9294e-01 - val_negative_correlation_loss: -8.1019e-01 - lr: 0.0100 - 146ms/epoch - 8ms/step\n",
      "Epoch 4/1000\n",
      "19/19 - 0s - loss: -8.0472e-01 - negative_correlation_loss: -8.2295e-01 - val_loss: -7.9737e-01 - val_negative_correlation_loss: -8.1054e-01 - lr: 0.0100 - 146ms/epoch - 8ms/step\n",
      "Epoch 5/1000\n",
      "19/19 - 0s - loss: -8.0797e-01 - negative_correlation_loss: -8.2293e-01 - val_loss: -7.9910e-01 - val_negative_correlation_loss: -8.0966e-01 - lr: 0.0100 - 145ms/epoch - 8ms/step\n",
      "Epoch 6/1000\n",
      "19/19 - 0s - loss: -8.1041e-01 - negative_correlation_loss: -8.2309e-01 - val_loss: -8.0211e-01 - val_negative_correlation_loss: -8.1055e-01 - lr: 0.0100 - 145ms/epoch - 8ms/step\n",
      "Epoch 7/1000\n",
      "19/19 - 0s - loss: -8.1232e-01 - negative_correlation_loss: -8.2232e-01 - val_loss: -8.0378e-01 - val_negative_correlation_loss: -8.1056e-01 - lr: 0.0100 - 145ms/epoch - 8ms/step\n",
      "Epoch 8/1000\n",
      "19/19 - 0s - loss: -8.1376e-01 - negative_correlation_loss: -8.2278e-01 - val_loss: -8.0491e-01 - val_negative_correlation_loss: -8.1047e-01 - lr: 0.0100 - 145ms/epoch - 8ms/step\n",
      "Epoch 9/1000\n",
      "19/19 - 0s - loss: -8.1482e-01 - negative_correlation_loss: -8.2233e-01 - val_loss: -8.0561e-01 - val_negative_correlation_loss: -8.1022e-01 - lr: 0.0100 - 148ms/epoch - 8ms/step\n",
      "Epoch 10/1000\n",
      "19/19 - 0s - loss: -8.1556e-01 - negative_correlation_loss: -8.2262e-01 - val_loss: -8.0669e-01 - val_negative_correlation_loss: -8.1064e-01 - lr: 0.0100 - 145ms/epoch - 8ms/step\n",
      "Epoch 11/1000\n",
      "19/19 - 0s - loss: -8.1638e-01 - negative_correlation_loss: -8.2253e-01 - val_loss: -8.0623e-01 - val_negative_correlation_loss: -8.0943e-01 - lr: 0.0100 - 144ms/epoch - 8ms/step\n",
      "Epoch 12/1000\n",
      "19/19 - 0s - loss: -8.1679e-01 - negative_correlation_loss: -8.2247e-01 - val_loss: -8.0708e-01 - val_negative_correlation_loss: -8.0987e-01 - lr: 0.0100 - 149ms/epoch - 8ms/step\n",
      "Epoch 13/1000\n",
      "19/19 - 0s - loss: -8.1713e-01 - negative_correlation_loss: -8.2248e-01 - val_loss: -8.0794e-01 - val_negative_correlation_loss: -8.1034e-01 - lr: 0.0100 - 145ms/epoch - 8ms/step\n",
      "Epoch 14/1000\n",
      "19/19 - 0s - loss: -8.1760e-01 - negative_correlation_loss: -8.2246e-01 - val_loss: -8.0829e-01 - val_negative_correlation_loss: -8.1024e-01 - lr: 0.0100 - 146ms/epoch - 8ms/step\n",
      "Epoch 15/1000\n",
      "19/19 - 0s - loss: -8.1820e-01 - negative_correlation_loss: -8.2234e-01 - val_loss: -8.0863e-01 - val_negative_correlation_loss: -8.1006e-01 - lr: 0.0100 - 145ms/epoch - 8ms/step\n",
      "Epoch 16/1000\n",
      "19/19 - 0s - loss: -8.1871e-01 - negative_correlation_loss: -8.2181e-01 - val_loss: -8.0875e-01 - val_negative_correlation_loss: -8.0982e-01 - lr: 0.0100 - 149ms/epoch - 8ms/step\n",
      "Epoch 17/1000\n",
      "19/19 - 0s - loss: -8.1884e-01 - negative_correlation_loss: -8.2291e-01 - val_loss: -8.0955e-01 - val_negative_correlation_loss: -8.1036e-01 - lr: 0.0100 - 147ms/epoch - 8ms/step\n",
      "Epoch 18/1000\n",
      "19/19 - 0s - loss: -8.1913e-01 - negative_correlation_loss: -8.2224e-01 - val_loss: -8.0942e-01 - val_negative_correlation_loss: -8.1009e-01 - lr: 0.0100 - 144ms/epoch - 8ms/step\n",
      "Epoch 19/1000\n",
      "19/19 - 0s - loss: -8.1935e-01 - negative_correlation_loss: -8.2237e-01 - val_loss: -8.0980e-01 - val_negative_correlation_loss: -8.1019e-01 - lr: 0.0100 - 145ms/epoch - 8ms/step\n",
      "Epoch 20/1000\n",
      "19/19 - 0s - loss: -8.1962e-01 - negative_correlation_loss: -8.2239e-01 - val_loss: -8.0991e-01 - val_negative_correlation_loss: -8.1007e-01 - lr: 0.0100 - 147ms/epoch - 8ms/step\n",
      "Epoch 21/1000\n",
      "19/19 - 0s - loss: -8.1976e-01 - negative_correlation_loss: -8.2299e-01 - val_loss: -8.0991e-01 - val_negative_correlation_loss: -8.1007e-01 - lr: 0.0100 - 145ms/epoch - 8ms/step\n",
      "Epoch 22/1000\n",
      "19/19 - 0s - loss: -8.1977e-01 - negative_correlation_loss: -8.2288e-01 - val_loss: -8.1044e-01 - val_negative_correlation_loss: -8.1034e-01 - lr: 0.0100 - 144ms/epoch - 8ms/step\n",
      "Epoch 23/1000\n",
      "19/19 - 0s - loss: -8.2009e-01 - negative_correlation_loss: -8.2268e-01 - val_loss: -8.1018e-01 - val_negative_correlation_loss: -8.0997e-01 - lr: 0.0100 - 144ms/epoch - 8ms/step\n",
      "Epoch 24/1000\n",
      "19/19 - 0s - loss: -8.2000e-01 - negative_correlation_loss: -8.2193e-01 - val_loss: -8.1014e-01 - val_negative_correlation_loss: -8.0993e-01 - lr: 0.0100 - 145ms/epoch - 8ms/step\n",
      "Epoch 25/1000\n",
      "19/19 - 0s - loss: -8.2001e-01 - negative_correlation_loss: -8.2284e-01 - val_loss: -8.0991e-01 - val_negative_correlation_loss: -8.0976e-01 - lr: 0.0100 - 143ms/epoch - 8ms/step\n",
      "Epoch 26/1000\n",
      "\n",
      "Epoch 26: ReduceLROnPlateau reducing learning rate to 0.004999999888241291.\n",
      "19/19 - 0s - loss: -8.1997e-01 - negative_correlation_loss: -8.2226e-01 - val_loss: -8.1022e-01 - val_negative_correlation_loss: -8.1002e-01 - lr: 0.0100 - 145ms/epoch - 8ms/step\n",
      "Epoch 27/1000\n",
      "19/19 - 0s - loss: -8.2049e-01 - negative_correlation_loss: -8.2312e-01 - val_loss: -8.0999e-01 - val_negative_correlation_loss: -8.0940e-01 - lr: 0.0050 - 143ms/epoch - 8ms/step\n",
      "Epoch 28/1000\n",
      "19/19 - 0s - loss: -8.2065e-01 - negative_correlation_loss: -8.2243e-01 - val_loss: -8.1083e-01 - val_negative_correlation_loss: -8.1002e-01 - lr: 0.0050 - 145ms/epoch - 8ms/step\n",
      "Epoch 29/1000\n",
      "19/19 - 0s - loss: -8.2102e-01 - negative_correlation_loss: -8.2299e-01 - val_loss: -8.1129e-01 - val_negative_correlation_loss: -8.1039e-01 - lr: 0.0050 - 144ms/epoch - 8ms/step\n",
      "Epoch 30/1000\n",
      "19/19 - 0s - loss: -8.2105e-01 - negative_correlation_loss: -8.2224e-01 - val_loss: -8.1123e-01 - val_negative_correlation_loss: -8.1033e-01 - lr: 0.0050 - 145ms/epoch - 8ms/step\n",
      "Epoch 31/1000\n",
      "19/19 - 0s - loss: -8.2114e-01 - negative_correlation_loss: -8.2308e-01 - val_loss: -8.1131e-01 - val_negative_correlation_loss: -8.1032e-01 - lr: 0.0050 - 146ms/epoch - 8ms/step\n",
      "Epoch 32/1000\n",
      "19/19 - 0s - loss: -8.2126e-01 - negative_correlation_loss: -8.2281e-01 - val_loss: -8.1080e-01 - val_negative_correlation_loss: -8.0978e-01 - lr: 0.0050 - 145ms/epoch - 8ms/step\n",
      "Epoch 33/1000\n",
      "\n",
      "Epoch 33: ReduceLROnPlateau reducing learning rate to 0.0024999999441206455.\n",
      "19/19 - 0s - loss: -8.2129e-01 - negative_correlation_loss: -8.2313e-01 - val_loss: -8.1120e-01 - val_negative_correlation_loss: -8.1009e-01 - lr: 0.0050 - 145ms/epoch - 8ms/step\n",
      "Epoch 34/1000\n",
      "19/19 - 0s - loss: -8.2151e-01 - negative_correlation_loss: -8.2301e-01 - val_loss: -8.1129e-01 - val_negative_correlation_loss: -8.1012e-01 - lr: 0.0025 - 144ms/epoch - 8ms/step\n",
      "Epoch 35/1000\n",
      "19/19 - 0s - loss: -8.2159e-01 - negative_correlation_loss: -8.2285e-01 - val_loss: -8.1110e-01 - val_negative_correlation_loss: -8.0992e-01 - lr: 0.0025 - 144ms/epoch - 8ms/step\n",
      "Epoch 36/1000\n",
      "19/19 - 0s - loss: -8.2166e-01 - negative_correlation_loss: -8.2315e-01 - val_loss: -8.1116e-01 - val_negative_correlation_loss: -8.0995e-01 - lr: 0.0025 - 144ms/epoch - 8ms/step\n",
      "Epoch 37/1000\n",
      "\n",
      "Epoch 37: ReduceLROnPlateau reducing learning rate to 0.0012499999720603228.\n",
      "19/19 - 0s - loss: -8.2166e-01 - negative_correlation_loss: -8.2283e-01 - val_loss: -8.1067e-01 - val_negative_correlation_loss: -8.0946e-01 - lr: 0.0025 - 145ms/epoch - 8ms/step\n",
      "Epoch 38/1000\n",
      "19/19 - 0s - loss: -8.2179e-01 - negative_correlation_loss: -8.2289e-01 - val_loss: -8.1137e-01 - val_negative_correlation_loss: -8.1012e-01 - lr: 0.0012 - 145ms/epoch - 8ms/step\n",
      "Epoch 39/1000\n",
      "19/19 - 0s - loss: -8.2200e-01 - negative_correlation_loss: -8.2387e-01 - val_loss: -8.1133e-01 - val_negative_correlation_loss: -8.1008e-01 - lr: 0.0012 - 144ms/epoch - 8ms/step\n",
      "Epoch 40/1000\n",
      "19/19 - 0s - loss: -8.2204e-01 - negative_correlation_loss: -8.2302e-01 - val_loss: -8.1123e-01 - val_negative_correlation_loss: -8.0998e-01 - lr: 0.0012 - 145ms/epoch - 8ms/step\n",
      "Epoch 41/1000\n",
      "\n",
      "Epoch 41: ReduceLROnPlateau reducing learning rate to 0.0006249999860301614.\n",
      "19/19 - 0s - loss: -8.2200e-01 - negative_correlation_loss: -8.2277e-01 - val_loss: -8.1075e-01 - val_negative_correlation_loss: -8.0947e-01 - lr: 0.0012 - 147ms/epoch - 8ms/step\n",
      "Epoch 42/1000\n",
      "19/19 - 0s - loss: -8.2210e-01 - negative_correlation_loss: -8.2319e-01 - val_loss: -8.1126e-01 - val_negative_correlation_loss: -8.0999e-01 - lr: 6.2500e-04 - 145ms/epoch - 8ms/step\n",
      "Epoch 43/1000\n",
      "19/19 - 0s - loss: -8.2224e-01 - negative_correlation_loss: -8.2352e-01 - val_loss: -8.1132e-01 - val_negative_correlation_loss: -8.1004e-01 - lr: 6.2500e-04 - 145ms/epoch - 8ms/step\n",
      "Epoch 44/1000\n",
      "19/19 - 0s - loss: -8.2231e-01 - negative_correlation_loss: -8.2390e-01 - val_loss: -8.1127e-01 - val_negative_correlation_loss: -8.1000e-01 - lr: 6.2500e-04 - 145ms/epoch - 8ms/step\n",
      "Epoch 45/1000\n",
      "\n",
      "Epoch 45: ReduceLROnPlateau reducing learning rate to 0.0003124999930150807.\n",
      "19/19 - 0s - loss: -8.2233e-01 - negative_correlation_loss: -8.2334e-01 - val_loss: -8.1104e-01 - val_negative_correlation_loss: -8.0977e-01 - lr: 6.2500e-04 - 144ms/epoch - 8ms/step\n",
      "Epoch 46/1000\n",
      "19/19 - 0s - loss: -8.2239e-01 - negative_correlation_loss: -8.2362e-01 - val_loss: -8.1125e-01 - val_negative_correlation_loss: -8.0998e-01 - lr: 3.1250e-04 - 143ms/epoch - 8ms/step\n",
      "Epoch 47/1000\n",
      "19/19 - 0s - loss: -8.2243e-01 - negative_correlation_loss: -8.2331e-01 - val_loss: -8.1115e-01 - val_negative_correlation_loss: -8.0987e-01 - lr: 3.1250e-04 - 144ms/epoch - 8ms/step\n",
      "Epoch 48/1000\n",
      "19/19 - 0s - loss: -8.2246e-01 - negative_correlation_loss: -8.2387e-01 - val_loss: -8.1123e-01 - val_negative_correlation_loss: -8.0995e-01 - lr: 3.1250e-04 - 144ms/epoch - 8ms/step\n",
      "Epoch 49/1000\n",
      "\n",
      "Epoch 49: ReduceLROnPlateau reducing learning rate to 0.00015624999650754035.\n",
      "19/19 - 0s - loss: -8.2247e-01 - negative_correlation_loss: -8.2356e-01 - val_loss: -8.1121e-01 - val_negative_correlation_loss: -8.0993e-01 - lr: 3.1250e-04 - 144ms/epoch - 8ms/step\n",
      "Epoch 50/1000\n",
      "19/19 - 0s - loss: -8.2252e-01 - negative_correlation_loss: -8.2358e-01 - val_loss: -8.1113e-01 - val_negative_correlation_loss: -8.0985e-01 - lr: 1.5625e-04 - 152ms/epoch - 8ms/step\n",
      "1/1 [==============================] - 0s 71ms/step\n",
      "Fold 0:  49 epochs, corr =  0.81261\n"
     ]
    }
   ],
   "source": [
    "model = fit(X_train_1,y_train)"
   ]
  },
  {
   "cell_type": "code",
   "execution_count": 145,
   "id": "d674cae7-a403-44ba-9983-e26be1b9162e",
   "metadata": {
    "execution": {
     "iopub.execute_input": "2022-10-12T23:16:41.115702Z",
     "iopub.status.busy": "2022-10-12T23:16:41.115241Z",
     "iopub.status.idle": "2022-10-12T23:16:50.659945Z",
     "shell.execute_reply": "2022-10-12T23:16:50.659374Z",
     "shell.execute_reply.started": "2022-10-12T23:16:41.115679Z"
    }
   },
   "outputs": [
    {
     "name": "stdout",
     "output_type": "stream",
     "text": [
      "Epoch 1/1000\n",
      "19/19 - 1s - loss: -7.1936e-01 - negative_correlation_loss: -7.6524e-01 - val_loss: -7.7477e-01 - val_negative_correlation_loss: -8.0976e-01 - lr: 0.0100 - 959ms/epoch - 50ms/step\n",
      "Epoch 2/1000\n",
      "19/19 - 0s - loss: -7.8874e-01 - negative_correlation_loss: -8.2193e-01 - val_loss: -7.8376e-01 - val_negative_correlation_loss: -8.1042e-01 - lr: 0.0100 - 147ms/epoch - 8ms/step\n",
      "Epoch 3/1000\n",
      "19/19 - 0s - loss: -7.9652e-01 - negative_correlation_loss: -8.2277e-01 - val_loss: -7.8991e-01 - val_negative_correlation_loss: -8.1006e-01 - lr: 0.0100 - 173ms/epoch - 9ms/step\n",
      "Epoch 4/1000\n",
      "19/19 - 0s - loss: -8.0203e-01 - negative_correlation_loss: -8.2296e-01 - val_loss: -7.9474e-01 - val_negative_correlation_loss: -8.1042e-01 - lr: 0.0100 - 149ms/epoch - 8ms/step\n",
      "Epoch 5/1000\n",
      "19/19 - 0s - loss: -8.0561e-01 - negative_correlation_loss: -8.2287e-01 - val_loss: -7.9740e-01 - val_negative_correlation_loss: -8.1001e-01 - lr: 0.0100 - 146ms/epoch - 8ms/step\n",
      "Epoch 6/1000\n",
      "19/19 - 0s - loss: -8.0848e-01 - negative_correlation_loss: -8.2308e-01 - val_loss: -8.0031e-01 - val_negative_correlation_loss: -8.1053e-01 - lr: 0.0100 - 147ms/epoch - 8ms/step\n",
      "Epoch 7/1000\n",
      "19/19 - 0s - loss: -8.1059e-01 - negative_correlation_loss: -8.2228e-01 - val_loss: -8.0226e-01 - val_negative_correlation_loss: -8.1060e-01 - lr: 0.0100 - 147ms/epoch - 8ms/step\n",
      "Epoch 8/1000\n",
      "19/19 - 0s - loss: -8.1221e-01 - negative_correlation_loss: -8.2273e-01 - val_loss: -8.0352e-01 - val_negative_correlation_loss: -8.1046e-01 - lr: 0.0100 - 146ms/epoch - 8ms/step\n",
      "Epoch 9/1000\n",
      "19/19 - 0s - loss: -8.1359e-01 - negative_correlation_loss: -8.2234e-01 - val_loss: -8.0430e-01 - val_negative_correlation_loss: -8.1007e-01 - lr: 0.0100 - 145ms/epoch - 8ms/step\n",
      "Epoch 10/1000\n",
      "19/19 - 0s - loss: -8.1450e-01 - negative_correlation_loss: -8.2259e-01 - val_loss: -8.0570e-01 - val_negative_correlation_loss: -8.1069e-01 - lr: 0.0100 - 145ms/epoch - 8ms/step\n",
      "Epoch 11/1000\n",
      "19/19 - 0s - loss: -8.1536e-01 - negative_correlation_loss: -8.2252e-01 - val_loss: -8.0536e-01 - val_negative_correlation_loss: -8.0953e-01 - lr: 0.0100 - 144ms/epoch - 8ms/step\n",
      "Epoch 12/1000\n",
      "19/19 - 0s - loss: -8.1583e-01 - negative_correlation_loss: -8.2250e-01 - val_loss: -8.0613e-01 - val_negative_correlation_loss: -8.0980e-01 - lr: 0.0100 - 145ms/epoch - 8ms/step\n",
      "Epoch 13/1000\n",
      "19/19 - 0s - loss: -8.1624e-01 - negative_correlation_loss: -8.2244e-01 - val_loss: -8.0711e-01 - val_negative_correlation_loss: -8.1030e-01 - lr: 0.0100 - 146ms/epoch - 8ms/step\n",
      "Epoch 14/1000\n",
      "19/19 - 0s - loss: -8.1686e-01 - negative_correlation_loss: -8.2244e-01 - val_loss: -8.0775e-01 - val_negative_correlation_loss: -8.1033e-01 - lr: 0.0100 - 148ms/epoch - 8ms/step\n",
      "Epoch 15/1000\n",
      "19/19 - 0s - loss: -8.1763e-01 - negative_correlation_loss: -8.2235e-01 - val_loss: -8.0807e-01 - val_negative_correlation_loss: -8.1007e-01 - lr: 0.0100 - 145ms/epoch - 8ms/step\n",
      "Epoch 16/1000\n",
      "19/19 - 0s - loss: -8.1811e-01 - negative_correlation_loss: -8.2178e-01 - val_loss: -8.0852e-01 - val_negative_correlation_loss: -8.1006e-01 - lr: 0.0100 - 145ms/epoch - 8ms/step\n",
      "Epoch 17/1000\n",
      "19/19 - 0s - loss: -8.1839e-01 - negative_correlation_loss: -8.2293e-01 - val_loss: -8.0902e-01 - val_negative_correlation_loss: -8.1036e-01 - lr: 0.0100 - 144ms/epoch - 8ms/step\n",
      "Epoch 18/1000\n",
      "19/19 - 0s - loss: -8.1865e-01 - negative_correlation_loss: -8.2224e-01 - val_loss: -8.0912e-01 - val_negative_correlation_loss: -8.1014e-01 - lr: 0.0100 - 148ms/epoch - 8ms/step\n",
      "Epoch 19/1000\n",
      "19/19 - 0s - loss: -8.1888e-01 - negative_correlation_loss: -8.2235e-01 - val_loss: -8.0927e-01 - val_negative_correlation_loss: -8.1019e-01 - lr: 0.0100 - 144ms/epoch - 8ms/step\n",
      "Epoch 20/1000\n",
      "19/19 - 0s - loss: -8.1913e-01 - negative_correlation_loss: -8.2236e-01 - val_loss: -8.0959e-01 - val_negative_correlation_loss: -8.1009e-01 - lr: 0.0100 - 146ms/epoch - 8ms/step\n",
      "Epoch 21/1000\n",
      "19/19 - 0s - loss: -8.1934e-01 - negative_correlation_loss: -8.2292e-01 - val_loss: -8.0954e-01 - val_negative_correlation_loss: -8.1000e-01 - lr: 0.0100 - 143ms/epoch - 8ms/step\n",
      "Epoch 22/1000\n",
      "19/19 - 0s - loss: -8.1940e-01 - negative_correlation_loss: -8.2290e-01 - val_loss: -8.1023e-01 - val_negative_correlation_loss: -8.1049e-01 - lr: 0.0100 - 147ms/epoch - 8ms/step\n",
      "Epoch 23/1000\n",
      "19/19 - 0s - loss: -8.1972e-01 - negative_correlation_loss: -8.2258e-01 - val_loss: -8.0994e-01 - val_negative_correlation_loss: -8.1008e-01 - lr: 0.0100 - 142ms/epoch - 7ms/step\n",
      "Epoch 24/1000\n",
      "19/19 - 0s - loss: -8.1959e-01 - negative_correlation_loss: -8.2191e-01 - val_loss: -8.0972e-01 - val_negative_correlation_loss: -8.0981e-01 - lr: 0.0100 - 143ms/epoch - 8ms/step\n",
      "Epoch 25/1000\n",
      "19/19 - 0s - loss: -8.1965e-01 - negative_correlation_loss: -8.2278e-01 - val_loss: -8.1003e-01 - val_negative_correlation_loss: -8.1007e-01 - lr: 0.0100 - 142ms/epoch - 7ms/step\n",
      "Epoch 26/1000\n",
      "\n",
      "Epoch 26: ReduceLROnPlateau reducing learning rate to 0.004999999888241291.\n",
      "19/19 - 0s - loss: -8.1980e-01 - negative_correlation_loss: -8.2217e-01 - val_loss: -8.1023e-01 - val_negative_correlation_loss: -8.1017e-01 - lr: 0.0100 - 144ms/epoch - 8ms/step\n",
      "Epoch 27/1000\n",
      "19/19 - 0s - loss: -8.2022e-01 - negative_correlation_loss: -8.2300e-01 - val_loss: -8.1015e-01 - val_negative_correlation_loss: -8.0967e-01 - lr: 0.0050 - 144ms/epoch - 8ms/step\n",
      "Epoch 28/1000\n",
      "19/19 - 0s - loss: -8.2041e-01 - negative_correlation_loss: -8.2236e-01 - val_loss: -8.1082e-01 - val_negative_correlation_loss: -8.1024e-01 - lr: 0.0050 - 144ms/epoch - 8ms/step\n",
      "Epoch 29/1000\n",
      "19/19 - 0s - loss: -8.2074e-01 - negative_correlation_loss: -8.2290e-01 - val_loss: -8.1120e-01 - val_negative_correlation_loss: -8.1039e-01 - lr: 0.0050 - 148ms/epoch - 8ms/step\n",
      "Epoch 30/1000\n",
      "19/19 - 0s - loss: -8.2081e-01 - negative_correlation_loss: -8.2213e-01 - val_loss: -8.1129e-01 - val_negative_correlation_loss: -8.1050e-01 - lr: 0.0050 - 145ms/epoch - 8ms/step\n",
      "Epoch 31/1000\n",
      "19/19 - 0s - loss: -8.2089e-01 - negative_correlation_loss: -8.2297e-01 - val_loss: -8.1134e-01 - val_negative_correlation_loss: -8.1048e-01 - lr: 0.0050 - 144ms/epoch - 8ms/step\n",
      "Epoch 32/1000\n",
      "19/19 - 0s - loss: -8.2102e-01 - negative_correlation_loss: -8.2271e-01 - val_loss: -8.1088e-01 - val_negative_correlation_loss: -8.0994e-01 - lr: 0.0050 - 141ms/epoch - 7ms/step\n",
      "Epoch 33/1000\n",
      "19/19 - 0s - loss: -8.2102e-01 - negative_correlation_loss: -8.2297e-01 - val_loss: -8.1136e-01 - val_negative_correlation_loss: -8.1036e-01 - lr: 0.0050 - 145ms/epoch - 8ms/step\n",
      "Epoch 34/1000\n",
      "19/19 - 0s - loss: -8.2102e-01 - negative_correlation_loss: -8.2267e-01 - val_loss: -8.1132e-01 - val_negative_correlation_loss: -8.1036e-01 - lr: 0.0050 - 145ms/epoch - 8ms/step\n",
      "Epoch 35/1000\n",
      "\n",
      "Epoch 35: ReduceLROnPlateau reducing learning rate to 0.0024999999441206455.\n",
      "19/19 - 0s - loss: -8.2097e-01 - negative_correlation_loss: -8.2246e-01 - val_loss: -8.1104e-01 - val_negative_correlation_loss: -8.1004e-01 - lr: 0.0050 - 146ms/epoch - 8ms/step\n",
      "Epoch 36/1000\n",
      "19/19 - 0s - loss: -8.2125e-01 - negative_correlation_loss: -8.2295e-01 - val_loss: -8.1130e-01 - val_negative_correlation_loss: -8.1023e-01 - lr: 0.0025 - 145ms/epoch - 8ms/step\n",
      "Epoch 37/1000\n",
      "19/19 - 0s - loss: -8.2137e-01 - negative_correlation_loss: -8.2265e-01 - val_loss: -8.1104e-01 - val_negative_correlation_loss: -8.0990e-01 - lr: 0.0025 - 144ms/epoch - 8ms/step\n",
      "Epoch 38/1000\n",
      "19/19 - 0s - loss: -8.2143e-01 - negative_correlation_loss: -8.2260e-01 - val_loss: -8.1144e-01 - val_negative_correlation_loss: -8.1027e-01 - lr: 0.0025 - 144ms/epoch - 8ms/step\n",
      "Epoch 39/1000\n",
      "19/19 - 0s - loss: -8.2147e-01 - negative_correlation_loss: -8.2346e-01 - val_loss: -8.1145e-01 - val_negative_correlation_loss: -8.1028e-01 - lr: 0.0025 - 145ms/epoch - 8ms/step\n",
      "Epoch 40/1000\n",
      "19/19 - 0s - loss: -8.2154e-01 - negative_correlation_loss: -8.2260e-01 - val_loss: -8.1126e-01 - val_negative_correlation_loss: -8.1007e-01 - lr: 0.0025 - 146ms/epoch - 8ms/step\n",
      "Epoch 41/1000\n",
      "19/19 - 0s - loss: -8.2150e-01 - negative_correlation_loss: -8.2235e-01 - val_loss: -8.1069e-01 - val_negative_correlation_loss: -8.0948e-01 - lr: 0.0025 - 144ms/epoch - 8ms/step\n",
      "Epoch 42/1000\n",
      "19/19 - 0s - loss: -8.2152e-01 - negative_correlation_loss: -8.2270e-01 - val_loss: -8.1125e-01 - val_negative_correlation_loss: -8.1005e-01 - lr: 0.0025 - 143ms/epoch - 8ms/step\n",
      "Epoch 43/1000\n",
      "\n",
      "Epoch 43: ReduceLROnPlateau reducing learning rate to 0.0012499999720603228.\n",
      "19/19 - 0s - loss: -8.2164e-01 - negative_correlation_loss: -8.2299e-01 - val_loss: -8.1151e-01 - val_negative_correlation_loss: -8.1027e-01 - lr: 0.0025 - 147ms/epoch - 8ms/step\n",
      "Epoch 44/1000\n",
      "19/19 - 0s - loss: -8.2180e-01 - negative_correlation_loss: -8.2342e-01 - val_loss: -8.1153e-01 - val_negative_correlation_loss: -8.1027e-01 - lr: 0.0012 - 144ms/epoch - 8ms/step\n",
      "Epoch 45/1000\n",
      "19/19 - 0s - loss: -8.2191e-01 - negative_correlation_loss: -8.2292e-01 - val_loss: -8.1126e-01 - val_negative_correlation_loss: -8.0999e-01 - lr: 0.0012 - 142ms/epoch - 7ms/step\n",
      "Epoch 46/1000\n",
      "19/19 - 0s - loss: -8.2193e-01 - negative_correlation_loss: -8.2316e-01 - val_loss: -8.1138e-01 - val_negative_correlation_loss: -8.1011e-01 - lr: 0.0012 - 143ms/epoch - 8ms/step\n",
      "Epoch 47/1000\n",
      "\n",
      "Epoch 47: ReduceLROnPlateau reducing learning rate to 0.0006249999860301614.\n",
      "19/19 - 0s - loss: -8.2198e-01 - negative_correlation_loss: -8.2282e-01 - val_loss: -8.1147e-01 - val_negative_correlation_loss: -8.1016e-01 - lr: 0.0012 - 144ms/epoch - 8ms/step\n",
      "Epoch 48/1000\n",
      "19/19 - 0s - loss: -8.2210e-01 - negative_correlation_loss: -8.2348e-01 - val_loss: -8.1151e-01 - val_negative_correlation_loss: -8.1020e-01 - lr: 6.2500e-04 - 144ms/epoch - 8ms/step\n",
      "Epoch 49/1000\n",
      "19/19 - 0s - loss: -8.2216e-01 - negative_correlation_loss: -8.2322e-01 - val_loss: -8.1149e-01 - val_negative_correlation_loss: -8.1018e-01 - lr: 6.2500e-04 - 145ms/epoch - 8ms/step\n",
      "Epoch 50/1000\n",
      "19/19 - 0s - loss: -8.2218e-01 - negative_correlation_loss: -8.2318e-01 - val_loss: -8.1142e-01 - val_negative_correlation_loss: -8.1011e-01 - lr: 6.2500e-04 - 144ms/epoch - 8ms/step\n",
      "Epoch 51/1000\n",
      "\n",
      "Epoch 51: ReduceLROnPlateau reducing learning rate to 0.0003124999930150807.\n",
      "19/19 - 0s - loss: -8.2224e-01 - negative_correlation_loss: -8.2342e-01 - val_loss: -8.1138e-01 - val_negative_correlation_loss: -8.1006e-01 - lr: 6.2500e-04 - 144ms/epoch - 8ms/step\n",
      "Epoch 52/1000\n",
      "19/19 - 0s - loss: -8.2229e-01 - negative_correlation_loss: -8.2298e-01 - val_loss: -8.1131e-01 - val_negative_correlation_loss: -8.1000e-01 - lr: 3.1250e-04 - 144ms/epoch - 8ms/step\n",
      "Epoch 53/1000\n",
      "19/19 - 0s - loss: -8.2229e-01 - negative_correlation_loss: -8.2322e-01 - val_loss: -8.1134e-01 - val_negative_correlation_loss: -8.1003e-01 - lr: 3.1250e-04 - 143ms/epoch - 8ms/step\n",
      "Epoch 54/1000\n",
      "19/19 - 0s - loss: -8.2235e-01 - negative_correlation_loss: -8.2342e-01 - val_loss: -8.1126e-01 - val_negative_correlation_loss: -8.0996e-01 - lr: 3.1250e-04 - 143ms/epoch - 8ms/step\n",
      "Epoch 55/1000\n",
      "\n",
      "Epoch 55: ReduceLROnPlateau reducing learning rate to 0.00015624999650754035.\n",
      "19/19 - 0s - loss: -8.2235e-01 - negative_correlation_loss: -8.2330e-01 - val_loss: -8.1119e-01 - val_negative_correlation_loss: -8.0989e-01 - lr: 3.1250e-04 - 144ms/epoch - 8ms/step\n",
      "Epoch 56/1000\n",
      "19/19 - 0s - loss: -8.2243e-01 - negative_correlation_loss: -8.2348e-01 - val_loss: -8.1118e-01 - val_negative_correlation_loss: -8.0988e-01 - lr: 1.5625e-04 - 153ms/epoch - 8ms/step\n",
      "1/1 [==============================] - 0s 72ms/step\n",
      "Fold 0:  55 epochs, corr =  0.81275\n"
     ]
    }
   ],
   "source": [
    "N_SPLITS = 8\n",
    "from sklearn.model_selection import KFold\n",
    "def fit(X_train, y_train):\n",
    "    np.random.seed(1)\n",
    "    tf.random.set_seed(1)\n",
    "\n",
    "    kf = KFold(n_splits=N_SPLITS)\n",
    "    score_list = []\n",
    "    for fold, (idx_tr, idx_va) in enumerate(kf.split(X_train)):\n",
    "        start_time = datetime.datetime.now()\n",
    "        model = None\n",
    "        gc.collect()\n",
    "        X_tr = X_train[idx_tr]\n",
    "        y_tr = y_train[idx_tr]\n",
    "        X_va = X_train[idx_va]\n",
    "        y_va = y_train[idx_va]\n",
    "\n",
    "        lr = ReduceLROnPlateau(monitor=\"val_loss\", factor=0.5, \n",
    "                              patience=4, verbose=VERBOSE)\n",
    "        es = EarlyStopping(monitor=\"val_loss\",\n",
    "                          patience=12, \n",
    "                          verbose=0,\n",
    "                          mode=\"min\", \n",
    "                          restore_best_weights=True)\n",
    "        callbacks = [lr, es, tf.keras.callbacks.TerminateOnNaN()]\n",
    "\n",
    "        # Construct and compile the model\n",
    "        model = my_model(n_inputs=X_train.shape[1],n_outputs=y_train.shape[1],reg1=reg1,reg2=reg2)\n",
    "\n",
    "        # Train the model\n",
    "        history = model.fit(X_tr, y_tr, \n",
    "                            validation_data=(X_va, y_va), \n",
    "                            epochs=EPOCHS,\n",
    "                            verbose=VERBOSE,\n",
    "                            batch_size=BATCH_SIZE,\n",
    "                            shuffle=True,\n",
    "                            callbacks=callbacks)\n",
    "        del X_tr, y_tr\n",
    "\n",
    "        # We validate the model\n",
    "        y_pred = model.predict(X_va, batch_size=X_va.shape[0])\n",
    "        corrscore = correlation_score(y_va, y_pred)\n",
    "\n",
    "        print(f\"Fold {fold}: {es.stopped_epoch:3} epochs, corr =  {corrscore:.5f}\")\n",
    "        del es, X_va#, y_va, y_va_pred\n",
    "        score_list.append(corrscore)\n",
    "\n",
    "        return model\n",
    "\n",
    "    # Show overall score\n",
    "    print(f\"{Fore.GREEN}{Style.BRIGHT}Average  corr = {np.array(score_list).mean():.5f}{Style.RESET_ALL}\")\n",
    "    \n",
    "LR_START = 0.01\n",
    "BATCH_SIZE = 256\n",
    "reg1 = 8e-5\n",
    "reg2 = 2e-5\n",
    "model = fit(L_1,y_train)"
   ]
  },
  {
   "cell_type": "code",
   "execution_count": null,
   "id": "a160241e-83a8-4013-80b0-a039b95a1b33",
   "metadata": {},
   "outputs": [],
   "source": [
    "%%time\n",
    "X_train = scipy.sparse.load_npz(\".sparse/train_multi_inputs_values.sparse.npz\")\n",
    "\n",
    "to_drop = np.genfromtxt(\"./sparse/drop_ids.csv\", delimiter=',', dtype = int)\n",
    "X_train = delete_columns_csr(X_train,to_drop)\n",
    "\n",
    "X_train = X_train.astype('float16',copy = False)\n",
    "\n",
    "rpca = r_pca.R_pca(np.array(X_train.todense()))\n",
    "L, S = rpca.fit(max_iter=10000, iter_print=100)\n"
   ]
  },
  {
   "cell_type": "code",
   "execution_count": null,
   "id": "8efb21a3-15c5-4b79-88c3-2f1752f14a81",
   "metadata": {
    "execution": {
     "iopub.execute_input": "2022-10-12T23:37:49.366998Z",
     "iopub.status.busy": "2022-10-12T23:37:49.366537Z"
    }
   },
   "outputs": [
    {
     "name": "stdout",
     "output_type": "stream",
     "text": [
      "/home/jovyan/kaggle/working\n",
      "X shape: (70988, 21601) 1.283 GByte\n",
      "Shape of both before SVD: (119651, 21601)\n"
     ]
    }
   ],
   "source": [
    "%%time\n",
    "\n",
    "%cd /home/jovyan/kaggle/working\n",
    "\n",
    "X_train = scipy.sparse.load_npz('./sparse/train_cite_inputs_values.sparse.npz')\n",
    "\n",
    "to_drop = np.genfromtxt(\"./sparse/drop_ids.csv\", delimiter=',', dtype = int)\n",
    "X_train = delete_columns_csr(X_train,to_drop)\n",
    "\n",
    "print(f\"X shape: {str(X_train.shape):14} {X_train.size*4/1024/1024/1024:2.3f} GByte\")\n",
    "\n",
    "with np.load('./sparse/train_cite_inputs_idxcol.npz',allow_pickle=True) as data:\n",
    "    cell_index = data['index']\n",
    "\n",
    "metadata_df = pd.read_csv('../input/open-problems-multimodal/metadata.csv', index_col='cell_id')\n",
    "metadata_df = metadata_df[metadata_df.technology==\"citeseq\"]\n",
    "meta = metadata_df.reindex(cell_index)\n",
    "\n",
    "X_test = scipy.sparse.load_npz('./sparse/test_cite_inputs_values.sparse.npz')\n",
    "\n",
    "X_test = delete_columns_csr(X_test,to_drop)\n",
    "\n",
    "with np.load('./sparse/test_cite_inputs_idxcol.npz',allow_pickle=True) as data:\n",
    "    cell_index_t = data['index']\n",
    "\n",
    "meta_t = metadata_df.reindex(cell_index_t)\n",
    "\n",
    "# Apply the singular value decomposition\n",
    "both = scipy.sparse.vstack([X_train, X_test])\n",
    "assert both.shape[0] == 119651\n",
    "print(f\"Shape of both before SVD: {both.shape}\")\n",
    "\n",
    "rpca = r_pca.R_pca(np.array(both.todense()))\n",
    "both, _ = rpca.fit(max_iter=10000, iter_print=100)\n",
    "\n",
    "svd = TruncatedSVD(n_components=128, random_state=1) # 512 is possible\n",
    "both = svd.fit_transform(both)\n",
    "print(f\"Shape of both after SVD:  {both.shape}\")\n",
    "    \n",
    "# Hstack the svd output with the important features\n",
    "X_train_svd = both[:70988]\n",
    "X_test_svd = both[70988:]\n",
    "del both\n",
    "#X = np.hstack([X, X0])\n",
    "#Xt = np.hstack([Xt, X0t])\n",
    "print(f\"Reduced X shape:  {str(X_train_svd.shape):14} {X_train_svd.size*4/1024/1024/1024:2.3f} GByte\")\n",
    "print(f\"Reduced Xt shape: {str(X_test_svd.shape):14} {X_test_svd.size*4/1024/1024/1024:2.3f} GByte\")\n",
    "\n",
    "%mkdir RPCA_data\n",
    "%cd RPCA_data\n",
    "np.savetxt(\"cite_train_RPCA.csv\", X_train_svd, delimiter=\",\")\n",
    "np.savetxt(\"cite_test_RPCA.csv\", X_test_svd, delimiter=\",\")"
   ]
  },
  {
   "cell_type": "code",
   "execution_count": 1,
   "id": "4d1c96f5-65fa-44b8-b5ab-28fd4d2fb3bd",
   "metadata": {
    "execution": {
     "iopub.execute_input": "2022-10-13T02:43:11.864055Z",
     "iopub.status.busy": "2022-10-13T02:43:11.863817Z",
     "iopub.status.idle": "2022-10-13T02:43:23.212113Z",
     "shell.execute_reply": "2022-10-13T02:43:23.211496Z",
     "shell.execute_reply.started": "2022-10-13T02:43:11.863996Z"
    },
    "tags": []
   },
   "outputs": [
    {
     "name": "stdout",
     "output_type": "stream",
     "text": [
      "Requirement already satisfied: pytorch_lightning in /opt/saturncloud/envs/saturn/lib/python3.9/site-packages (1.7.7)\n",
      "Requirement already satisfied: typing-extensions>=4.0.0 in /opt/saturncloud/envs/saturn/lib/python3.9/site-packages (from pytorch_lightning) (4.3.0)\n",
      "Requirement already satisfied: torch>=1.9.* in /opt/saturncloud/envs/saturn/lib/python3.9/site-packages (from pytorch_lightning) (1.11.0)\n",
      "Requirement already satisfied: fsspec[http]!=2021.06.0,>=2021.05.0 in /opt/saturncloud/envs/saturn/lib/python3.9/site-packages (from pytorch_lightning) (2022.3.0)\n",
      "Requirement already satisfied: pyDeprecate>=0.3.1 in /opt/saturncloud/envs/saturn/lib/python3.9/site-packages (from pytorch_lightning) (0.3.2)\n",
      "Requirement already satisfied: packaging>=17.0 in /opt/saturncloud/envs/saturn/lib/python3.9/site-packages (from pytorch_lightning) (21.3)\n",
      "Requirement already satisfied: torchmetrics>=0.7.0 in /opt/saturncloud/envs/saturn/lib/python3.9/site-packages (from pytorch_lightning) (0.10.0)\n",
      "Requirement already satisfied: tensorboard>=2.9.1 in /opt/saturncloud/envs/saturn/lib/python3.9/site-packages (from pytorch_lightning) (2.10.1)\n",
      "Requirement already satisfied: numpy>=1.17.2 in /opt/saturncloud/envs/saturn/lib/python3.9/site-packages (from pytorch_lightning) (1.21.6)\n",
      "Requirement already satisfied: tqdm>=4.57.0 in /opt/saturncloud/envs/saturn/lib/python3.9/site-packages (from pytorch_lightning) (4.64.0)\n",
      "Requirement already satisfied: PyYAML>=5.4 in /opt/saturncloud/envs/saturn/lib/python3.9/site-packages (from pytorch_lightning) (6.0)\n",
      "Requirement already satisfied: requests in /opt/saturncloud/envs/saturn/lib/python3.9/site-packages (from fsspec[http]!=2021.06.0,>=2021.05.0->pytorch_lightning) (2.28.1)\n",
      "Requirement already satisfied: aiohttp in /opt/saturncloud/envs/saturn/lib/python3.9/site-packages (from fsspec[http]!=2021.06.0,>=2021.05.0->pytorch_lightning) (3.8.1)\n",
      "Requirement already satisfied: pyparsing!=3.0.5,>=2.0.2 in /opt/saturncloud/envs/saturn/lib/python3.9/site-packages (from packaging>=17.0->pytorch_lightning) (3.0.9)\n",
      "Requirement already satisfied: grpcio>=1.24.3 in /opt/saturncloud/envs/saturn/lib/python3.9/site-packages (from tensorboard>=2.9.1->pytorch_lightning) (1.46.3)\n",
      "Requirement already satisfied: google-auth<3,>=1.6.3 in /opt/saturncloud/envs/saturn/lib/python3.9/site-packages (from tensorboard>=2.9.1->pytorch_lightning) (2.9.1)\n",
      "Requirement already satisfied: absl-py>=0.4 in /opt/saturncloud/envs/saturn/lib/python3.9/site-packages (from tensorboard>=2.9.1->pytorch_lightning) (1.2.0)\n",
      "Requirement already satisfied: tensorboard-plugin-wit>=1.6.0 in /opt/saturncloud/envs/saturn/lib/python3.9/site-packages (from tensorboard>=2.9.1->pytorch_lightning) (1.8.1)\n",
      "Requirement already satisfied: werkzeug>=1.0.1 in /opt/saturncloud/envs/saturn/lib/python3.9/site-packages (from tensorboard>=2.9.1->pytorch_lightning) (2.2.0)\n",
      "Requirement already satisfied: google-auth-oauthlib<0.5,>=0.4.1 in /opt/saturncloud/envs/saturn/lib/python3.9/site-packages (from tensorboard>=2.9.1->pytorch_lightning) (0.4.6)\n",
      "Requirement already satisfied: markdown>=2.6.8 in /opt/saturncloud/envs/saturn/lib/python3.9/site-packages (from tensorboard>=2.9.1->pytorch_lightning) (3.4.1)\n",
      "Requirement already satisfied: protobuf<3.20,>=3.9.2 in /opt/saturncloud/envs/saturn/lib/python3.9/site-packages (from tensorboard>=2.9.1->pytorch_lightning) (3.19.6)\n",
      "Requirement already satisfied: wheel>=0.26 in /opt/saturncloud/envs/saturn/lib/python3.9/site-packages (from tensorboard>=2.9.1->pytorch_lightning) (0.37.1)\n",
      "Requirement already satisfied: setuptools>=41.0.0 in /opt/saturncloud/envs/saturn/lib/python3.9/site-packages (from tensorboard>=2.9.1->pytorch_lightning) (59.8.0)\n",
      "Requirement already satisfied: tensorboard-data-server<0.7.0,>=0.6.0 in /opt/saturncloud/envs/saturn/lib/python3.9/site-packages (from tensorboard>=2.9.1->pytorch_lightning) (0.6.0)\n",
      "Requirement already satisfied: cachetools<6.0,>=2.0.0 in /opt/saturncloud/envs/saturn/lib/python3.9/site-packages (from google-auth<3,>=1.6.3->tensorboard>=2.9.1->pytorch_lightning) (5.0.0)\n",
      "Requirement already satisfied: pyasn1-modules>=0.2.1 in /opt/saturncloud/envs/saturn/lib/python3.9/site-packages (from google-auth<3,>=1.6.3->tensorboard>=2.9.1->pytorch_lightning) (0.2.7)\n",
      "Requirement already satisfied: six>=1.9.0 in /opt/saturncloud/envs/saturn/lib/python3.9/site-packages (from google-auth<3,>=1.6.3->tensorboard>=2.9.1->pytorch_lightning) (1.16.0)\n",
      "Requirement already satisfied: rsa<5,>=3.1.4 in /opt/saturncloud/envs/saturn/lib/python3.9/site-packages (from google-auth<3,>=1.6.3->tensorboard>=2.9.1->pytorch_lightning) (4.9)\n",
      "Requirement already satisfied: requests-oauthlib>=0.7.0 in /opt/saturncloud/envs/saturn/lib/python3.9/site-packages (from google-auth-oauthlib<0.5,>=0.4.1->tensorboard>=2.9.1->pytorch_lightning) (1.3.1)\n",
      "Requirement already satisfied: importlib-metadata>=4.4 in /opt/saturncloud/envs/saturn/lib/python3.9/site-packages (from markdown>=2.6.8->tensorboard>=2.9.1->pytorch_lightning) (4.11.4)\n",
      "Requirement already satisfied: urllib3<1.27,>=1.21.1 in /opt/saturncloud/envs/saturn/lib/python3.9/site-packages (from requests->fsspec[http]!=2021.06.0,>=2021.05.0->pytorch_lightning) (1.26.11)\n",
      "Requirement already satisfied: certifi>=2017.4.17 in /opt/saturncloud/envs/saturn/lib/python3.9/site-packages (from requests->fsspec[http]!=2021.06.0,>=2021.05.0->pytorch_lightning) (2022.6.15)\n",
      "Requirement already satisfied: idna<4,>=2.5 in /opt/saturncloud/envs/saturn/lib/python3.9/site-packages (from requests->fsspec[http]!=2021.06.0,>=2021.05.0->pytorch_lightning) (3.3)\n",
      "Requirement already satisfied: charset-normalizer<3,>=2 in /opt/saturncloud/envs/saturn/lib/python3.9/site-packages (from requests->fsspec[http]!=2021.06.0,>=2021.05.0->pytorch_lightning) (2.0.12)\n",
      "Requirement already satisfied: MarkupSafe>=2.1.1 in /opt/saturncloud/envs/saturn/lib/python3.9/site-packages (from werkzeug>=1.0.1->tensorboard>=2.9.1->pytorch_lightning) (2.1.1)\n",
      "Requirement already satisfied: aiosignal>=1.1.2 in /opt/saturncloud/envs/saturn/lib/python3.9/site-packages (from aiohttp->fsspec[http]!=2021.06.0,>=2021.05.0->pytorch_lightning) (1.2.0)\n",
      "Requirement already satisfied: frozenlist>=1.1.1 in /opt/saturncloud/envs/saturn/lib/python3.9/site-packages (from aiohttp->fsspec[http]!=2021.06.0,>=2021.05.0->pytorch_lightning) (1.3.0)\n",
      "Requirement already satisfied: async-timeout<5.0,>=4.0.0a3 in /opt/saturncloud/envs/saturn/lib/python3.9/site-packages (from aiohttp->fsspec[http]!=2021.06.0,>=2021.05.0->pytorch_lightning) (4.0.2)\n",
      "Requirement already satisfied: yarl<2.0,>=1.0 in /opt/saturncloud/envs/saturn/lib/python3.9/site-packages (from aiohttp->fsspec[http]!=2021.06.0,>=2021.05.0->pytorch_lightning) (1.7.2)\n",
      "Requirement already satisfied: multidict<7.0,>=4.5 in /opt/saturncloud/envs/saturn/lib/python3.9/site-packages (from aiohttp->fsspec[http]!=2021.06.0,>=2021.05.0->pytorch_lightning) (6.0.2)\n",
      "Requirement already satisfied: attrs>=17.3.0 in /opt/saturncloud/envs/saturn/lib/python3.9/site-packages (from aiohttp->fsspec[http]!=2021.06.0,>=2021.05.0->pytorch_lightning) (21.4.0)\n",
      "Requirement already satisfied: zipp>=0.5 in /opt/saturncloud/envs/saturn/lib/python3.9/site-packages (from importlib-metadata>=4.4->markdown>=2.6.8->tensorboard>=2.9.1->pytorch_lightning) (3.8.0)\n",
      "Requirement already satisfied: pyasn1<0.5.0,>=0.4.6 in /opt/saturncloud/envs/saturn/lib/python3.9/site-packages (from pyasn1-modules>=0.2.1->google-auth<3,>=1.6.3->tensorboard>=2.9.1->pytorch_lightning) (0.4.8)\n",
      "Requirement already satisfied: oauthlib>=3.0.0 in /opt/saturncloud/envs/saturn/lib/python3.9/site-packages (from requests-oauthlib>=0.7.0->google-auth-oauthlib<0.5,>=0.4.1->tensorboard>=2.9.1->pytorch_lightning) (3.2.0)\n",
      "Requirement already satisfied: colorama in /opt/saturncloud/envs/saturn/lib/python3.9/site-packages (0.4.5)\n",
      "Requirement already satisfied: tensorflow in /opt/saturncloud/envs/saturn/lib/python3.9/site-packages (2.10.0)\n",
      "Requirement already satisfied: packaging in /opt/saturncloud/envs/saturn/lib/python3.9/site-packages (from tensorflow) (21.3)\n",
      "Requirement already satisfied: keras<2.11,>=2.10.0 in /opt/saturncloud/envs/saturn/lib/python3.9/site-packages (from tensorflow) (2.10.0)\n",
      "Requirement already satisfied: numpy>=1.20 in /opt/saturncloud/envs/saturn/lib/python3.9/site-packages (from tensorflow) (1.21.6)\n",
      "Requirement already satisfied: grpcio<2.0,>=1.24.3 in /opt/saturncloud/envs/saturn/lib/python3.9/site-packages (from tensorflow) (1.46.3)\n",
      "Requirement already satisfied: protobuf<3.20,>=3.9.2 in /opt/saturncloud/envs/saturn/lib/python3.9/site-packages (from tensorflow) (3.19.6)\n",
      "Requirement already satisfied: wrapt>=1.11.0 in /opt/saturncloud/envs/saturn/lib/python3.9/site-packages (from tensorflow) (1.14.1)\n",
      "Requirement already satisfied: libclang>=13.0.0 in /opt/saturncloud/envs/saturn/lib/python3.9/site-packages (from tensorflow) (14.0.6)\n",
      "Requirement already satisfied: flatbuffers>=2.0 in /opt/saturncloud/envs/saturn/lib/python3.9/site-packages (from tensorflow) (22.9.24)\n",
      "Requirement already satisfied: google-pasta>=0.1.1 in /opt/saturncloud/envs/saturn/lib/python3.9/site-packages (from tensorflow) (0.2.0)\n",
      "Requirement already satisfied: astunparse>=1.6.0 in /opt/saturncloud/envs/saturn/lib/python3.9/site-packages (from tensorflow) (1.6.3)\n",
      "Requirement already satisfied: keras-preprocessing>=1.1.1 in /opt/saturncloud/envs/saturn/lib/python3.9/site-packages (from tensorflow) (1.1.2)\n",
      "Requirement already satisfied: gast<=0.4.0,>=0.2.1 in /opt/saturncloud/envs/saturn/lib/python3.9/site-packages (from tensorflow) (0.4.0)\n",
      "Requirement already satisfied: h5py>=2.9.0 in /opt/saturncloud/envs/saturn/lib/python3.9/site-packages (from tensorflow) (3.7.0)\n",
      "Requirement already satisfied: opt-einsum>=2.3.2 in /opt/saturncloud/envs/saturn/lib/python3.9/site-packages (from tensorflow) (3.3.0)\n",
      "Requirement already satisfied: tensorflow-estimator<2.11,>=2.10.0 in /opt/saturncloud/envs/saturn/lib/python3.9/site-packages (from tensorflow) (2.10.0)\n",
      "Requirement already satisfied: absl-py>=1.0.0 in /opt/saturncloud/envs/saturn/lib/python3.9/site-packages (from tensorflow) (1.2.0)\n",
      "Requirement already satisfied: termcolor>=1.1.0 in /opt/saturncloud/envs/saturn/lib/python3.9/site-packages (from tensorflow) (2.0.1)\n",
      "Requirement already satisfied: tensorflow-io-gcs-filesystem>=0.23.1 in /opt/saturncloud/envs/saturn/lib/python3.9/site-packages (from tensorflow) (0.27.0)\n",
      "Requirement already satisfied: typing-extensions>=3.6.6 in /opt/saturncloud/envs/saturn/lib/python3.9/site-packages (from tensorflow) (4.3.0)\n",
      "Requirement already satisfied: setuptools in /opt/saturncloud/envs/saturn/lib/python3.9/site-packages (from tensorflow) (59.8.0)\n",
      "Requirement already satisfied: six>=1.12.0 in /opt/saturncloud/envs/saturn/lib/python3.9/site-packages (from tensorflow) (1.16.0)\n",
      "Requirement already satisfied: tensorboard<2.11,>=2.10 in /opt/saturncloud/envs/saturn/lib/python3.9/site-packages (from tensorflow) (2.10.1)\n",
      "Requirement already satisfied: wheel<1.0,>=0.23.0 in /opt/saturncloud/envs/saturn/lib/python3.9/site-packages (from astunparse>=1.6.0->tensorflow) (0.37.1)\n",
      "Requirement already satisfied: google-auth-oauthlib<0.5,>=0.4.1 in /opt/saturncloud/envs/saturn/lib/python3.9/site-packages (from tensorboard<2.11,>=2.10->tensorflow) (0.4.6)\n",
      "Requirement already satisfied: requests<3,>=2.21.0 in /opt/saturncloud/envs/saturn/lib/python3.9/site-packages (from tensorboard<2.11,>=2.10->tensorflow) (2.28.1)\n",
      "Requirement already satisfied: tensorboard-data-server<0.7.0,>=0.6.0 in /opt/saturncloud/envs/saturn/lib/python3.9/site-packages (from tensorboard<2.11,>=2.10->tensorflow) (0.6.0)\n",
      "Requirement already satisfied: werkzeug>=1.0.1 in /opt/saturncloud/envs/saturn/lib/python3.9/site-packages (from tensorboard<2.11,>=2.10->tensorflow) (2.2.0)\n",
      "Requirement already satisfied: markdown>=2.6.8 in /opt/saturncloud/envs/saturn/lib/python3.9/site-packages (from tensorboard<2.11,>=2.10->tensorflow) (3.4.1)\n",
      "Requirement already satisfied: tensorboard-plugin-wit>=1.6.0 in /opt/saturncloud/envs/saturn/lib/python3.9/site-packages (from tensorboard<2.11,>=2.10->tensorflow) (1.8.1)\n",
      "Requirement already satisfied: google-auth<3,>=1.6.3 in /opt/saturncloud/envs/saturn/lib/python3.9/site-packages (from tensorboard<2.11,>=2.10->tensorflow) (2.9.1)\n",
      "Requirement already satisfied: pyparsing!=3.0.5,>=2.0.2 in /opt/saturncloud/envs/saturn/lib/python3.9/site-packages (from packaging->tensorflow) (3.0.9)\n",
      "Requirement already satisfied: rsa<5,>=3.1.4 in /opt/saturncloud/envs/saturn/lib/python3.9/site-packages (from google-auth<3,>=1.6.3->tensorboard<2.11,>=2.10->tensorflow) (4.9)\n",
      "Requirement already satisfied: cachetools<6.0,>=2.0.0 in /opt/saturncloud/envs/saturn/lib/python3.9/site-packages (from google-auth<3,>=1.6.3->tensorboard<2.11,>=2.10->tensorflow) (5.0.0)\n",
      "Requirement already satisfied: pyasn1-modules>=0.2.1 in /opt/saturncloud/envs/saturn/lib/python3.9/site-packages (from google-auth<3,>=1.6.3->tensorboard<2.11,>=2.10->tensorflow) (0.2.7)\n",
      "Requirement already satisfied: requests-oauthlib>=0.7.0 in /opt/saturncloud/envs/saturn/lib/python3.9/site-packages (from google-auth-oauthlib<0.5,>=0.4.1->tensorboard<2.11,>=2.10->tensorflow) (1.3.1)\n",
      "Requirement already satisfied: importlib-metadata>=4.4 in /opt/saturncloud/envs/saturn/lib/python3.9/site-packages (from markdown>=2.6.8->tensorboard<2.11,>=2.10->tensorflow) (4.11.4)\n",
      "Requirement already satisfied: urllib3<1.27,>=1.21.1 in /opt/saturncloud/envs/saturn/lib/python3.9/site-packages (from requests<3,>=2.21.0->tensorboard<2.11,>=2.10->tensorflow) (1.26.11)\n",
      "Requirement already satisfied: charset-normalizer<3,>=2 in /opt/saturncloud/envs/saturn/lib/python3.9/site-packages (from requests<3,>=2.21.0->tensorboard<2.11,>=2.10->tensorflow) (2.0.12)\n",
      "Requirement already satisfied: certifi>=2017.4.17 in /opt/saturncloud/envs/saturn/lib/python3.9/site-packages (from requests<3,>=2.21.0->tensorboard<2.11,>=2.10->tensorflow) (2022.6.15)\n",
      "Requirement already satisfied: idna<4,>=2.5 in /opt/saturncloud/envs/saturn/lib/python3.9/site-packages (from requests<3,>=2.21.0->tensorboard<2.11,>=2.10->tensorflow) (3.3)\n",
      "Requirement already satisfied: MarkupSafe>=2.1.1 in /opt/saturncloud/envs/saturn/lib/python3.9/site-packages (from werkzeug>=1.0.1->tensorboard<2.11,>=2.10->tensorflow) (2.1.1)\n",
      "Requirement already satisfied: zipp>=0.5 in /opt/saturncloud/envs/saturn/lib/python3.9/site-packages (from importlib-metadata>=4.4->markdown>=2.6.8->tensorboard<2.11,>=2.10->tensorflow) (3.8.0)\n",
      "Requirement already satisfied: pyasn1<0.5.0,>=0.4.6 in /opt/saturncloud/envs/saturn/lib/python3.9/site-packages (from pyasn1-modules>=0.2.1->google-auth<3,>=1.6.3->tensorboard<2.11,>=2.10->tensorflow) (0.4.8)\n",
      "Requirement already satisfied: oauthlib>=3.0.0 in /opt/saturncloud/envs/saturn/lib/python3.9/site-packages (from requests-oauthlib>=0.7.0->google-auth-oauthlib<0.5,>=0.4.1->tensorboard<2.11,>=2.10->tensorflow) (3.2.0)\n"
     ]
    },
    {
     "name": "stderr",
     "output_type": "stream",
     "text": [
      "2022-10-13 02:43:21.861520: I tensorflow/core/platform/cpu_feature_guard.cc:193] This TensorFlow binary is optimized with oneAPI Deep Neural Network Library (oneDNN) to use the following CPU instructions in performance-critical operations:  AVX2 AVX512F AVX512_VNNI FMA\n",
      "To enable them in other operations, rebuild TensorFlow with the appropriate compiler flags.\n",
      "2022-10-13 02:43:22.027039: I tensorflow/core/util/util.cc:169] oneDNN custom operations are on. You may see slightly different numerical results due to floating-point round-off errors from different computation orders. To turn them off, set the environment variable `TF_ENABLE_ONEDNN_OPTS=0`.\n",
      "2022-10-13 02:43:22.065894: E tensorflow/stream_executor/cuda/cuda_blas.cc:2981] Unable to register cuBLAS factory: Attempting to register factory for plugin cuBLAS when one has already been registered\n",
      "2022-10-13 02:43:22.654010: W tensorflow/stream_executor/platform/default/dso_loader.cc:64] Could not load dynamic library 'libnvinfer.so.7'; dlerror: libnvinfer.so.7: cannot open shared object file: No such file or directory; LD_LIBRARY_PATH: /usr/local/nvidia/lib:/usr/local/nvidia/lib64\n",
      "2022-10-13 02:43:22.654110: W tensorflow/stream_executor/platform/default/dso_loader.cc:64] Could not load dynamic library 'libnvinfer_plugin.so.7'; dlerror: libnvinfer_plugin.so.7: cannot open shared object file: No such file or directory; LD_LIBRARY_PATH: /usr/local/nvidia/lib:/usr/local/nvidia/lib64\n",
      "2022-10-13 02:43:22.654120: W tensorflow/compiler/tf2tensorrt/utils/py_utils.cc:38] TF-TRT Warning: Cannot dlopen some TensorRT libraries. If you would like to use Nvidia GPU with TensorRT, please make sure the missing libraries mentioned above are installed properly.\n"
     ]
    },
    {
     "name": "stdout",
     "output_type": "stream",
     "text": [
      "/home/jovyan/kaggle/working\n",
      "/home/jovyan/kaggle/working/robust-pca\n",
      "/home/jovyan/kaggle/working\n"
     ]
    }
   ],
   "source": [
    "!pip install pytorch_lightning\n",
    "import pytorch_lightning as pl\n",
    "import numpy as np\n",
    "from torch.utils.data import DataLoader, TensorDataset\n",
    "import pandas as pd\n",
    "import torch\n",
    "import torch.nn as nn\n",
    "from torchmetrics import PearsonCorrCoef, MeanSquaredError\n",
    "!pip install colorama\n",
    "import os, gc, pickle, datetime, scipy.sparse\n",
    "import pandas as pd\n",
    "import matplotlib.pyplot as plt\n",
    "import numpy as np\n",
    "from colorama import Fore, Back, Style\n",
    "\n",
    "from sklearn.model_selection import GroupKFold, train_test_split\n",
    "from sklearn.preprocessing import StandardScaler, scale, MinMaxScaler\n",
    "from sklearn.decomposition import TruncatedSVD\n",
    "\n",
    "!pip install tensorflow\n",
    "import tensorflow as tf\n",
    "import tensorflow.keras.backend as K\n",
    "from tensorflow.keras.models import Model, load_model\n",
    "from tensorflow.keras.callbacks import ReduceLROnPlateau, LearningRateScheduler, EarlyStopping\n",
    "from tensorflow.keras.layers import Dense, Input, Concatenate\n",
    "from tensorflow.keras.utils import plot_model\n",
    "\n",
    "%cd /home/jovyan/kaggle/working\n",
    "\n",
    "%cd robust-pca\n",
    "import r_pca\n",
    "%cd ..\n",
    "\n",
    "def delete_columns_csr(mat, indices):\n",
    "    \"\"\"\n",
    "    Remove the rows denoted by ``indices`` form the CSR sparse matrix ``mat``.\n",
    "    \"\"\"\n",
    "    if not isinstance(mat, scipy.sparse.csr_matrix):\n",
    "        raise ValueError(\"works only for CSR format -- use .tocsr() first\")\n",
    "    mask = np.ones(mat.shape[1], dtype=bool)\n",
    "    mask[indices] = False\n",
    "    return mat[:,mask]\n",
    "\n",
    "def correlation_score(y_true, y_pred):\n",
    "    \"\"\"Scores the predictions according to the competition rules. \n",
    "    \n",
    "    It is assumed that the predictions are not constant.\n",
    "    \n",
    "    Returns the average of each sample's Pearson correlation coefficient\"\"\"\n",
    "    if type(y_true) == pd.DataFrame: y_true = y_true.values\n",
    "    if type(y_pred) == pd.DataFrame: y_pred = y_pred.values\n",
    "    corrsum = 0\n",
    "    for i in range(len(y_true)):\n",
    "        corrsum += np.corrcoef(y_true[i], y_pred[i])[1, 0]\n",
    "    return corrsum / len(y_true)\n",
    "\n",
    "def negative_correlation_loss(y_true, y_pred):\n",
    "    \"\"\"Negative correlation loss function for Keras\n",
    "    \n",
    "    Precondition:\n",
    "    y_true.mean(axis=1) == 0\n",
    "    y_true.std(axis=1) == 1\n",
    "    \n",
    "    Returns:\n",
    "    -1 = perfect positive correlation\n",
    "    1 = totally negative correlation\n",
    "    \"\"\"\n",
    "    my = K.mean(tf.convert_to_tensor(y_pred), axis=1)\n",
    "    my = tf.tile(tf.expand_dims(my, axis=1), (1, y_true.shape[1]))\n",
    "    ym = y_pred - my\n",
    "    r_num = K.sum(tf.multiply(y_true, ym), axis=1)\n",
    "    r_den = tf.sqrt(K.sum(K.square(ym), axis=1) * float(y_true.shape[-1]))\n",
    "    r = tf.reduce_mean(r_num / r_den)\n",
    "    return - r\n",
    "\n",
    "def negative_pearson_loss(y_true, y_pred):\n",
    "    \"\"\"Negative correlation loss function for Keras\n",
    "    \n",
    "    Precondition:\n",
    "    y_true.mean(axis=1) == 0\n",
    "    y_true.std(axis=1) == 1\n",
    "    \n",
    "    Returns:\n",
    "    -1 = perfect positive correlation\n",
    "    1 = totally negative correlation\n",
    "    \"\"\"\n",
    "\n",
    "    vx = y_pred - torch.mean(y_pred,1,keepdim=True)\n",
    "    vy = y_true - torch.mean(y_true,1,keepdim=True)\n",
    "\n",
    "    cost = torch.mean(torch.sum(vx * vy,1) / (torch.sqrt(torch.sum(vx ** 2,1)) * torch.sqrt(torch.sum(vy ** 2,1))))\n",
    "\n",
    "    return - cost\n",
    "\n",
    "def my_model(n_inputs,n_outputs, reg1, reg2):\n",
    "    \"\"\"Sequential neural network\n",
    "    \n",
    "    Returns a compiled instance of tensorflow.keras.models.Model.\n",
    "    \"\"\"\n",
    "    activation = 'swish'\n",
    "\n",
    "    \n",
    "    inputs = Input(shape=(n_inputs, ))\n",
    "    x0 = Dense(256, kernel_regularizer=tf.keras.regularizers.l2(reg1),\n",
    "              activation=activation,\n",
    "             )(inputs)\n",
    "    x1 = Dense(256, kernel_regularizer=tf.keras.regularizers.l2(reg1),\n",
    "              activation=activation,\n",
    "             )(x0)\n",
    "    x2 = Dense(256, kernel_regularizer=tf.keras.regularizers.l2(reg1),\n",
    "              activation=activation,\n",
    "             )(x1)\n",
    "    x3 = Dense(128, kernel_regularizer=tf.keras.regularizers.l2(reg1),\n",
    "              activation=activation,\n",
    "             )(x2)\n",
    "    x = Concatenate()([x0, x1, x2, x3])\n",
    "    x = Dense(n_outputs, kernel_regularizer=tf.keras.regularizers.l2(reg2),\n",
    "              #activation=activation,\n",
    "             )(x)\n",
    "    regressor = Model(inputs, x)\n",
    "    regressor.compile(optimizer=tf.keras.optimizers.Adam(learning_rate=LR_START),\n",
    "                      metrics=[negative_correlation_loss],\n",
    "                      loss=negative_correlation_loss\n",
    "                     )\n",
    "    \n",
    "    return regressor\n",
    "\n",
    "# Cross-validation\n",
    "VERBOSE = 2 # set to 2 for more output, set to 0 for less output\n",
    "EPOCHS = 1000\n",
    "N_SPLITS = 3\n",
    "\n",
    "def fit(X_train, y_train):\n",
    "    np.random.seed(1)\n",
    "    tf.random.set_seed(1)\n",
    "\n",
    "    kf = GroupKFold(n_splits=N_SPLITS)\n",
    "    score_list = []\n",
    "    for fold, (idx_tr, idx_va) in enumerate(kf.split(X_train, groups=meta.donor)):\n",
    "        start_time = datetime.datetime.now()\n",
    "        model = None\n",
    "        gc.collect()\n",
    "        X_tr = X_train[idx_tr]\n",
    "        y_tr = y_train[idx_tr]\n",
    "        X_va = X_train[idx_va]\n",
    "        y_va = y_train[idx_va]\n",
    "\n",
    "        lr = ReduceLROnPlateau(monitor=\"val_loss\", factor=0.5, \n",
    "                              patience=4, verbose=VERBOSE)\n",
    "        es = EarlyStopping(monitor=\"val_loss\",\n",
    "                          patience=12, \n",
    "                          verbose=0,\n",
    "                          mode=\"min\", \n",
    "                          restore_best_weights=True)\n",
    "        callbacks = [lr, es, tf.keras.callbacks.TerminateOnNaN()]\n",
    "\n",
    "        # Construct and compile the model\n",
    "        model = my_model(n_inputs=X_train.shape[1],n_outputs=y_train.shape[1],reg1=reg1,reg2=reg2)\n",
    "\n",
    "        # Train the model\n",
    "        history = model.fit(X_tr, y_tr, \n",
    "                            validation_data=(X_va, y_va), \n",
    "                            epochs=EPOCHS,\n",
    "                            verbose=VERBOSE,\n",
    "                            batch_size=BATCH_SIZE,\n",
    "                            shuffle=True,\n",
    "                            callbacks=callbacks)\n",
    "        del X_tr, y_tr\n",
    "\n",
    "        # We validate the model\n",
    "        y_pred = model.predict(X_va, batch_size=X_va.shape[0])\n",
    "        corrscore = correlation_score(y_va, y_pred)\n",
    "\n",
    "        print(f\"Fold {fold}: {es.stopped_epoch:3} epochs, corr =  {corrscore:.5f}\")\n",
    "        del es, X_va#, y_va, y_va_pred\n",
    "        score_list.append(corrscore)\n",
    "\n",
    "        return model\n",
    "\n",
    "    # Show overall score\n",
    "    print(f\"{Fore.GREEN}{Style.BRIGHT}Average  corr = {np.array(score_list).mean():.5f}{Style.RESET_ALL}\")"
   ]
  },
  {
   "cell_type": "code",
   "execution_count": null,
   "id": "ff98246b-a986-4891-bb51-1f6e828d56d8",
   "metadata": {
    "execution": {
     "iopub.execute_input": "2022-10-13T01:22:19.683600Z",
     "iopub.status.busy": "2022-10-13T01:22:19.683012Z"
    },
    "tags": []
   },
   "outputs": [
    {
     "name": "stdout",
     "output_type": "stream",
     "text": [
      "/home/jovyan/kaggle/working\n",
      "X shape: (70988, 21601) 1.283 GByte\n",
      "Shape of both before SVD: (119651, 21601)\n"
     ]
    }
   ],
   "source": [
    "%%time\n",
    "\n",
    "%cd /home/jovyan/kaggle/working\n",
    "\n",
    "X_train = scipy.sparse.load_npz('./sparse/train_cite_inputs_values.sparse.npz')\n",
    "\n",
    "to_drop = np.genfromtxt(\"./sparse/drop_ids.csv\", delimiter=',', dtype = int)\n",
    "X_train = delete_columns_csr(X_train,to_drop)\n",
    "\n",
    "print(f\"X shape: {str(X_train.shape):14} {X_train.size*4/1024/1024/1024:2.3f} GByte\")\n",
    "\n",
    "with np.load('./sparse/train_cite_inputs_idxcol.npz',allow_pickle=True) as data:\n",
    "    cell_index = data['index']\n",
    "\n",
    "metadata_df = pd.read_csv('../input/open-problems-multimodal/metadata.csv', index_col='cell_id')\n",
    "metadata_df = metadata_df[metadata_df.technology==\"citeseq\"]\n",
    "meta = metadata_df.reindex(cell_index)\n",
    "\n",
    "X_test = scipy.sparse.load_npz('./sparse/test_cite_inputs_values.sparse.npz')\n",
    "\n",
    "X_test = delete_columns_csr(X_test,to_drop)\n",
    "\n",
    "with np.load('./sparse/test_cite_inputs_idxcol.npz',allow_pickle=True) as data:\n",
    "    cell_index_t = data['index']\n",
    "\n",
    "meta_t = metadata_df.reindex(cell_index_t)\n",
    "\n",
    "# Apply the singular value decomposition\n",
    "both = scipy.sparse.vstack([X_train, X_test])\n",
    "assert both.shape[0] == 119651\n",
    "print(f\"Shape of both before SVD: {both.shape}\")\n",
    "\n",
    "rpca = r_pca.R_pca(both)\n",
    "both, _ = rpca.fit(max_iter=10000, iter_print=100)\n",
    "\n",
    "print(f\"Saving checkpoint\")\n",
    "\n",
    "np.savetxt(\"both.csv\", both, delimiter=\",\")\n",
    "\n",
    "print(f\"Starting SVD\")\n",
    "\n",
    "svd = TruncatedSVD(n_components=128, random_state=1) # 512 is possible\n",
    "both = svd.fit_transform(both)\n",
    "print(f\"Shape of both after SVD:  {both.shape}\")\n",
    "    \n",
    "# Hstack the svd output with the important features\n",
    "X_train_svd = both[:70988]\n",
    "X_test_svd = both[70988:]\n",
    "del both\n",
    "#X = np.hstack([X, X0])\n",
    "#Xt = np.hstack([Xt, X0t])\n",
    "print(f\"Reduced X shape:  {str(X_train_svd.shape):14} {X_train_svd.size*4/1024/1024/1024:2.3f} GByte\")\n",
    "print(f\"Reduced Xt shape: {str(X_test_svd.shape):14} {X_test_svd.size*4/1024/1024/1024:2.3f} GByte\")\n",
    "\n",
    "%mkdir RPCA_data\n",
    "%cd RPCA_data\n",
    "np.savetxt(\"cite_train_RPCA.csv\", X_train_svd, delimiter=\",\")\n",
    "np.savetxt(\"cite_test_RPCA.csv\", X_test_svd, delimiter=\",\")"
   ]
  },
  {
   "cell_type": "code",
   "execution_count": 3,
   "id": "a51ac549-8ef5-422f-a96e-d1c347e48098",
   "metadata": {
    "execution": {
     "iopub.execute_input": "2022-10-13T02:06:16.973616Z",
     "iopub.status.busy": "2022-10-13T02:06:16.973228Z",
     "iopub.status.idle": "2022-10-13T02:06:16.981872Z",
     "shell.execute_reply": "2022-10-13T02:06:16.981370Z",
     "shell.execute_reply.started": "2022-10-13T02:06:16.973593Z"
    }
   },
   "outputs": [
    {
     "data": {
      "text/plain": [
       "True"
      ]
     },
     "execution_count": 3,
     "metadata": {},
     "output_type": "execute_result"
    }
   ],
   "source": [
    "isinstance(a, scipy.sparse.csr_matrix)"
   ]
  },
  {
   "cell_type": "code",
   "execution_count": 2,
   "id": "0cabb86e-dc3d-46a5-ade7-0e0000a0b999",
   "metadata": {
    "execution": {
     "iopub.execute_input": "2022-10-13T02:40:48.437163Z",
     "iopub.status.busy": "2022-10-13T02:40:48.436753Z",
     "iopub.status.idle": "2022-10-13T02:40:48.447631Z",
     "shell.execute_reply": "2022-10-13T02:40:48.447150Z",
     "shell.execute_reply.started": "2022-10-13T02:40:48.437141Z"
    },
    "tags": []
   },
   "outputs": [
    {
     "data": {
      "text/plain": [
       "matrix([[ 1,  2],\n",
       "        [-3, -4],\n",
       "        [ 5, -6]])"
      ]
     },
     "execution_count": 2,
     "metadata": {},
     "output_type": "execute_result"
    }
   ],
   "source": [
    "a = scipy.sparse.csr_matrix(np.array([[1,2],[3,4],[5,6]]))\n",
    "b = scipy.sparse.csr_matrix(np.array([[1,1],[-1,-1],[1,-1]]))\n",
    "\n",
    "scipy.sparse.csr_matrix.multiply(a,b).todense()"
   ]
  },
  {
   "cell_type": "code",
   "execution_count": 2,
   "id": "8b1ff2e1-4b43-4bcc-b170-188edc484f78",
   "metadata": {
    "execution": {
     "iopub.execute_input": "2022-10-13T02:43:23.213606Z",
     "iopub.status.busy": "2022-10-13T02:43:23.213195Z",
     "iopub.status.idle": "2022-10-13T02:43:23.773641Z",
     "shell.execute_reply": "2022-10-13T02:43:23.772821Z",
     "shell.execute_reply.started": "2022-10-13T02:43:23.213585Z"
    },
    "tags": []
   },
   "outputs": [
    {
     "name": "stdout",
     "output_type": "stream",
     "text": [
      "<class 'scipy.sparse._csr.csr_matrix'>\n",
      "<class 'numpy.ndarray'>\n",
      "<class 'numpy.ndarray'>\n",
      "<class 'numpy.ndarray'>\n",
      "<class 'numpy.matrix'>\n",
      "<class 'numpy.matrix'>\n"
     ]
    },
    {
     "ename": "TypeError",
     "evalue": "input is not sparse. use numpy.linalg.norm",
     "output_type": "error",
     "traceback": [
      "\u001b[0;31m---------------------------------------------------------------------------\u001b[0m",
      "\u001b[0;31mTypeError\u001b[0m                                 Traceback (most recent call last)",
      "Input \u001b[0;32mIn [2]\u001b[0m, in \u001b[0;36m<cell line: 3>\u001b[0;34m()\u001b[0m\n\u001b[1;32m      1\u001b[0m a \u001b[38;5;241m=\u001b[39m scipy\u001b[38;5;241m.\u001b[39msparse\u001b[38;5;241m.\u001b[39mcsr_matrix(np\u001b[38;5;241m.\u001b[39marray([[\u001b[38;5;241m1\u001b[39m,\u001b[38;5;241m2\u001b[39m],[\u001b[38;5;241m3\u001b[39m,\u001b[38;5;241m4\u001b[39m],[\u001b[38;5;241m5\u001b[39m,\u001b[38;5;241m6\u001b[39m]]))\n\u001b[1;32m      2\u001b[0m rpca \u001b[38;5;241m=\u001b[39m r_pca\u001b[38;5;241m.\u001b[39mR_pca(a)\n\u001b[0;32m----> 3\u001b[0m a, b \u001b[38;5;241m=\u001b[39m \u001b[43mrpca\u001b[49m\u001b[38;5;241;43m.\u001b[39;49m\u001b[43mfit\u001b[49m\u001b[43m(\u001b[49m\u001b[43mmax_iter\u001b[49m\u001b[38;5;241;43m=\u001b[39;49m\u001b[38;5;241;43m10000\u001b[39;49m\u001b[43m,\u001b[49m\u001b[43m \u001b[49m\u001b[43miter_print\u001b[49m\u001b[38;5;241;43m=\u001b[39;49m\u001b[38;5;241;43m100\u001b[39;49m\u001b[43m)\u001b[49m\n",
      "File \u001b[0;32m~/kaggle/working/robust-pca/r_pca.py:79\u001b[0m, in \u001b[0;36mR_pca.fit\u001b[0;34m(self, tol, max_iter, iter_print)\u001b[0m\n\u001b[1;32m     77\u001b[0m Yk \u001b[38;5;241m=\u001b[39m Yk \u001b[38;5;241m+\u001b[39m \u001b[38;5;28mself\u001b[39m\u001b[38;5;241m.\u001b[39mmu \u001b[38;5;241m*\u001b[39m (\u001b[38;5;28mself\u001b[39m\u001b[38;5;241m.\u001b[39mD \u001b[38;5;241m-\u001b[39m Lk \u001b[38;5;241m-\u001b[39m Sk)                                      \u001b[38;5;66;03m#this line implements step 5\u001b[39;00m\n\u001b[1;32m     78\u001b[0m \u001b[38;5;28mprint\u001b[39m(\u001b[38;5;28mtype\u001b[39m(Yk))\n\u001b[0;32m---> 79\u001b[0m err \u001b[38;5;241m=\u001b[39m \u001b[38;5;28;43mself\u001b[39;49m\u001b[38;5;241;43m.\u001b[39;49m\u001b[43mfrobenius_norm\u001b[49m\u001b[43m(\u001b[49m\u001b[38;5;28;43mself\u001b[39;49m\u001b[38;5;241;43m.\u001b[39;49m\u001b[43mD\u001b[49m\u001b[43m \u001b[49m\u001b[38;5;241;43m-\u001b[39;49m\u001b[43m \u001b[49m\u001b[43mLk\u001b[49m\u001b[43m \u001b[49m\u001b[38;5;241;43m-\u001b[39;49m\u001b[43m \u001b[49m\u001b[43mSk\u001b[49m\u001b[43m)\u001b[49m\n\u001b[1;32m     80\u001b[0m \u001b[38;5;28miter\u001b[39m \u001b[38;5;241m+\u001b[39m\u001b[38;5;241m=\u001b[39m \u001b[38;5;241m1\u001b[39m\n\u001b[1;32m     81\u001b[0m \u001b[38;5;28;01mif\u001b[39;00m (\u001b[38;5;28miter\u001b[39m \u001b[38;5;241m%\u001b[39m iter_print) \u001b[38;5;241m==\u001b[39m \u001b[38;5;241m0\u001b[39m \u001b[38;5;129;01mor\u001b[39;00m \u001b[38;5;28miter\u001b[39m \u001b[38;5;241m==\u001b[39m \u001b[38;5;241m1\u001b[39m \u001b[38;5;129;01mor\u001b[39;00m \u001b[38;5;28miter\u001b[39m \u001b[38;5;241m>\u001b[39m max_iter \u001b[38;5;129;01mor\u001b[39;00m err \u001b[38;5;241m<\u001b[39m\u001b[38;5;241m=\u001b[39m _tol:\n",
      "File \u001b[0;32m~/kaggle/working/robust-pca/r_pca.py:40\u001b[0m, in \u001b[0;36mR_pca.frobenius_norm\u001b[0;34m(M)\u001b[0m\n\u001b[1;32m     38\u001b[0m \u001b[38;5;129m@staticmethod\u001b[39m\n\u001b[1;32m     39\u001b[0m \u001b[38;5;28;01mdef\u001b[39;00m \u001b[38;5;21mfrobenius_norm\u001b[39m(M):\n\u001b[0;32m---> 40\u001b[0m     \u001b[38;5;28;01mreturn\u001b[39;00m \u001b[43mlinalg\u001b[49m\u001b[38;5;241;43m.\u001b[39;49m\u001b[43mnorm\u001b[49m\u001b[43m(\u001b[49m\u001b[43mM\u001b[49m\u001b[43m,\u001b[49m\u001b[43m \u001b[49m\u001b[38;5;28;43mord\u001b[39;49m\u001b[38;5;241;43m=\u001b[39;49m\u001b[38;5;124;43m'\u001b[39;49m\u001b[38;5;124;43mfro\u001b[39;49m\u001b[38;5;124;43m'\u001b[39;49m\u001b[43m)\u001b[49m\n",
      "File \u001b[0;32m/srv/conda/envs/saturn/lib/python3.9/site-packages/scipy/sparse/linalg/_norm.py:109\u001b[0m, in \u001b[0;36mnorm\u001b[0;34m(x, ord, axis)\u001b[0m\n\u001b[1;32m     21\u001b[0m \u001b[38;5;124;03m\"\"\"\u001b[39;00m\n\u001b[1;32m     22\u001b[0m \u001b[38;5;124;03mNorm of a sparse matrix\u001b[39;00m\n\u001b[1;32m     23\u001b[0m \n\u001b[0;32m   (...)\u001b[0m\n\u001b[1;32m    106\u001b[0m \n\u001b[1;32m    107\u001b[0m \u001b[38;5;124;03m\"\"\"\u001b[39;00m\n\u001b[1;32m    108\u001b[0m \u001b[38;5;28;01mif\u001b[39;00m \u001b[38;5;129;01mnot\u001b[39;00m issparse(x):\n\u001b[0;32m--> 109\u001b[0m     \u001b[38;5;28;01mraise\u001b[39;00m \u001b[38;5;167;01mTypeError\u001b[39;00m(\u001b[38;5;124m\"\u001b[39m\u001b[38;5;124minput is not sparse. use numpy.linalg.norm\u001b[39m\u001b[38;5;124m\"\u001b[39m)\n\u001b[1;32m    111\u001b[0m \u001b[38;5;66;03m# Check the default case first and handle it immediately.\u001b[39;00m\n\u001b[1;32m    112\u001b[0m \u001b[38;5;28;01mif\u001b[39;00m axis \u001b[38;5;129;01mis\u001b[39;00m \u001b[38;5;28;01mNone\u001b[39;00m \u001b[38;5;129;01mand\u001b[39;00m \u001b[38;5;28mord\u001b[39m \u001b[38;5;129;01min\u001b[39;00m (\u001b[38;5;28;01mNone\u001b[39;00m, \u001b[38;5;124m'\u001b[39m\u001b[38;5;124mfro\u001b[39m\u001b[38;5;124m'\u001b[39m, \u001b[38;5;124m'\u001b[39m\u001b[38;5;124mf\u001b[39m\u001b[38;5;124m'\u001b[39m):\n",
      "\u001b[0;31mTypeError\u001b[0m: input is not sparse. use numpy.linalg.norm"
     ]
    }
   ],
   "source": [
    "a = scipy.sparse.csr_matrix(np.array([[1,2],[3,4],[5,6]]))\n",
    "rpca = r_pca.R_pca(a)\n",
    "a, b = rpca.fit(max_iter=10000, iter_print=100)"
   ]
  },
  {
   "cell_type": "code",
   "execution_count": 9,
   "id": "0fa65a88-8756-4fee-9057-5e757fbc7c34",
   "metadata": {
    "execution": {
     "iopub.execute_input": "2022-10-13T02:10:19.281384Z",
     "iopub.status.busy": "2022-10-13T02:10:19.280993Z",
     "iopub.status.idle": "2022-10-13T02:10:19.285813Z",
     "shell.execute_reply": "2022-10-13T02:10:19.285314Z",
     "shell.execute_reply.started": "2022-10-13T02:10:19.281359Z"
    },
    "tags": []
   },
   "outputs": [
    {
     "data": {
      "text/plain": [
       "array([[ 1,  1],\n",
       "       [-1, -1]])"
      ]
     },
     "execution_count": 9,
     "metadata": {},
     "output_type": "execute_result"
    }
   ],
   "source": [
    "np.sign(np.array([[1,2],[-1,-1]]))"
   ]
  },
  {
   "cell_type": "code",
   "execution_count": 10,
   "id": "a62e6d80-fee0-4ec0-b6bd-1c0668b9a3cc",
   "metadata": {
    "execution": {
     "iopub.execute_input": "2022-10-13T02:10:28.277026Z",
     "iopub.status.busy": "2022-10-13T02:10:28.276640Z",
     "iopub.status.idle": "2022-10-13T02:10:28.293514Z",
     "shell.execute_reply": "2022-10-13T02:10:28.292825Z",
     "shell.execute_reply.started": "2022-10-13T02:10:28.277003Z"
    }
   },
   "outputs": [
    {
     "ename": "ValueError",
     "evalue": "The truth value of an array with more than one element is ambiguous. Use a.any() or a.all().",
     "output_type": "error",
     "traceback": [
      "\u001b[0;31m---------------------------------------------------------------------------\u001b[0m",
      "\u001b[0;31mValueError\u001b[0m                                Traceback (most recent call last)",
      "Input \u001b[0;32mIn [10]\u001b[0m, in \u001b[0;36m<cell line: 1>\u001b[0;34m()\u001b[0m\n\u001b[0;32m----> 1\u001b[0m \u001b[43mnp\u001b[49m\u001b[38;5;241;43m.\u001b[39;49m\u001b[43msign\u001b[49m\u001b[43m(\u001b[49m\u001b[43ma\u001b[49m\u001b[43m)\u001b[49m\n",
      "File \u001b[0;32m/srv/conda/envs/saturn/lib/python3.9/site-packages/scipy/sparse/_base.py:337\u001b[0m, in \u001b[0;36mspmatrix.__bool__\u001b[0;34m(self)\u001b[0m\n\u001b[1;32m    335\u001b[0m     \u001b[38;5;28;01mreturn\u001b[39;00m \u001b[38;5;28mself\u001b[39m\u001b[38;5;241m.\u001b[39mnnz \u001b[38;5;241m!=\u001b[39m \u001b[38;5;241m0\u001b[39m\n\u001b[1;32m    336\u001b[0m \u001b[38;5;28;01melse\u001b[39;00m:\n\u001b[0;32m--> 337\u001b[0m     \u001b[38;5;28;01mraise\u001b[39;00m \u001b[38;5;167;01mValueError\u001b[39;00m(\u001b[38;5;124m\"\u001b[39m\u001b[38;5;124mThe truth value of an array with more than one \u001b[39m\u001b[38;5;124m\"\u001b[39m\n\u001b[1;32m    338\u001b[0m                      \u001b[38;5;124m\"\u001b[39m\u001b[38;5;124melement is ambiguous. Use a.any() or a.all().\u001b[39m\u001b[38;5;124m\"\u001b[39m)\n",
      "\u001b[0;31mValueError\u001b[0m: The truth value of an array with more than one element is ambiguous. Use a.any() or a.all()."
     ]
    }
   ],
   "source": [
    "np.sign(a)"
   ]
  },
  {
   "cell_type": "code",
   "execution_count": 29,
   "id": "13e4f11d-28a4-43fe-a33f-d62fe6c697ab",
   "metadata": {
    "execution": {
     "iopub.execute_input": "2022-10-13T02:25:53.226787Z",
     "iopub.status.busy": "2022-10-13T02:25:53.226405Z",
     "iopub.status.idle": "2022-10-13T02:25:53.230958Z",
     "shell.execute_reply": "2022-10-13T02:25:53.230449Z",
     "shell.execute_reply.started": "2022-10-13T02:25:53.226763Z"
    },
    "tags": []
   },
   "outputs": [
    {
     "data": {
      "text/plain": [
       "matrix([[0, 0],\n",
       "        [2, 3],\n",
       "        [4, 5]])"
      ]
     },
     "execution_count": 29,
     "metadata": {},
     "output_type": "execute_result"
    }
   ],
   "source": [
    "abc.todense()"
   ]
  },
  {
   "cell_type": "code",
   "execution_count": 27,
   "id": "1ab39b03-9f0a-4964-aaa8-b6d0c834b60a",
   "metadata": {
    "execution": {
     "iopub.execute_input": "2022-10-13T02:25:37.947848Z",
     "iopub.status.busy": "2022-10-13T02:25:37.947448Z",
     "iopub.status.idle": "2022-10-13T02:25:37.951111Z",
     "shell.execute_reply": "2022-10-13T02:25:37.950568Z",
     "shell.execute_reply.started": "2022-10-13T02:25:37.947825Z"
    },
    "tags": []
   },
   "outputs": [],
   "source": [
    "abc.data = abc.data - 1"
   ]
  },
  {
   "cell_type": "code",
   "execution_count": 23,
   "id": "a9870d38-d929-4014-96e1-d224aabb4249",
   "metadata": {
    "execution": {
     "iopub.execute_input": "2022-10-13T02:24:09.774159Z",
     "iopub.status.busy": "2022-10-13T02:24:09.773754Z",
     "iopub.status.idle": "2022-10-13T02:24:09.778551Z",
     "shell.execute_reply": "2022-10-13T02:24:09.778048Z",
     "shell.execute_reply.started": "2022-10-13T02:24:09.774137Z"
    },
    "tags": []
   },
   "outputs": [
    {
     "data": {
      "text/plain": [
       "(array([0, 0, 1, 1, 2, 2], dtype=int32),\n",
       " array([0, 1, 0, 1, 0, 1], dtype=int32))"
      ]
     },
     "execution_count": 23,
     "metadata": {},
     "output_type": "execute_result"
    }
   ],
   "source": [
    "abd.nonzero()"
   ]
  },
  {
   "cell_type": "code",
   "execution_count": 25,
   "id": "55d789a1-ff5c-4c4f-9323-90afb940cdd8",
   "metadata": {
    "execution": {
     "iopub.execute_input": "2022-10-13T02:25:19.692370Z",
     "iopub.status.busy": "2022-10-13T02:25:19.691978Z",
     "iopub.status.idle": "2022-10-13T02:25:19.698855Z",
     "shell.execute_reply": "2022-10-13T02:25:19.698347Z",
     "shell.execute_reply.started": "2022-10-13T02:25:19.692347Z"
    },
    "tags": []
   },
   "outputs": [
    {
     "data": {
      "text/plain": [
       "matrix([[1, 5],\n",
       "        [3, 4],\n",
       "        [5, 6]])"
      ]
     },
     "execution_count": 25,
     "metadata": {},
     "output_type": "execute_result"
    }
   ],
   "source": [
    "abc = scipy.sparse.csr_matrix(np.matrix([[1,0],[3,4],[5,6]]))\n",
    "abd = scipy.sparse.csr_matrix(np.matrix([[1,5],[3,-4],[5,6]]))\n",
    "\n",
    "np.maximum(np.matrix([[1,2],[3,4],[5,6]]),np.matrix([[1,5],[3,-4],[5,6]]))"
   ]
  },
  {
   "cell_type": "code",
   "execution_count": 17,
   "id": "6f5d0ee9-06a7-405b-9685-13f443c1da8b",
   "metadata": {
    "execution": {
     "iopub.execute_input": "2022-10-13T02:12:52.084255Z",
     "iopub.status.busy": "2022-10-13T02:12:52.083874Z",
     "iopub.status.idle": "2022-10-13T02:12:52.088379Z",
     "shell.execute_reply": "2022-10-13T02:12:52.087884Z",
     "shell.execute_reply.started": "2022-10-13T02:12:52.084232Z"
    },
    "tags": []
   },
   "outputs": [
    {
     "data": {
      "text/plain": [
       "6"
      ]
     },
     "execution_count": 17,
     "metadata": {},
     "output_type": "execute_result"
    }
   ],
   "source": [
    "np.max(abc)"
   ]
  },
  {
   "cell_type": "code",
   "execution_count": 21,
   "id": "7dd2f7aa-10af-4000-8117-d9f9e36288e8",
   "metadata": {
    "execution": {
     "iopub.execute_input": "2022-10-13T02:17:22.576670Z",
     "iopub.status.busy": "2022-10-13T02:17:22.576275Z",
     "iopub.status.idle": "2022-10-13T02:17:22.594604Z",
     "shell.execute_reply": "2022-10-13T02:17:22.593912Z",
     "shell.execute_reply.started": "2022-10-13T02:17:22.576645Z"
    }
   },
   "outputs": [
    {
     "ename": "NotImplementedError",
     "evalue": "subtracting a nonzero scalar from a sparse matrix is not supported",
     "output_type": "error",
     "traceback": [
      "\u001b[0;31m---------------------------------------------------------------------------\u001b[0m",
      "\u001b[0;31mNotImplementedError\u001b[0m                       Traceback (most recent call last)",
      "Input \u001b[0;32mIn [21]\u001b[0m, in \u001b[0;36m<cell line: 1>\u001b[0;34m()\u001b[0m\n\u001b[0;32m----> 1\u001b[0m \u001b[43mnp\u001b[49m\u001b[38;5;241;43m.\u001b[39;49m\u001b[43mabs\u001b[49m\u001b[43m(\u001b[49m\u001b[43mabd\u001b[49m\u001b[43m)\u001b[49m\u001b[43m \u001b[49m\u001b[38;5;241;43m-\u001b[39;49m\u001b[43m \u001b[49m\u001b[38;5;241;43m1.2\u001b[39;49m\n",
      "File \u001b[0;32m/srv/conda/envs/saturn/lib/python3.9/site-packages/scipy/sparse/_base.py:486\u001b[0m, in \u001b[0;36mspmatrix.__sub__\u001b[0;34m(self, other)\u001b[0m\n\u001b[1;32m    484\u001b[0m     \u001b[38;5;28;01mif\u001b[39;00m other \u001b[38;5;241m==\u001b[39m \u001b[38;5;241m0\u001b[39m:\n\u001b[1;32m    485\u001b[0m         \u001b[38;5;28;01mreturn\u001b[39;00m \u001b[38;5;28mself\u001b[39m\u001b[38;5;241m.\u001b[39mcopy()\n\u001b[0;32m--> 486\u001b[0m     \u001b[38;5;28;01mraise\u001b[39;00m \u001b[38;5;167;01mNotImplementedError\u001b[39;00m(\u001b[38;5;124m'\u001b[39m\u001b[38;5;124msubtracting a nonzero scalar from a \u001b[39m\u001b[38;5;124m'\u001b[39m\n\u001b[1;32m    487\u001b[0m                               \u001b[38;5;124m'\u001b[39m\u001b[38;5;124msparse matrix is not supported\u001b[39m\u001b[38;5;124m'\u001b[39m)\n\u001b[1;32m    488\u001b[0m \u001b[38;5;28;01melif\u001b[39;00m isspmatrix(other):\n\u001b[1;32m    489\u001b[0m     \u001b[38;5;28;01mif\u001b[39;00m other\u001b[38;5;241m.\u001b[39mshape \u001b[38;5;241m!=\u001b[39m \u001b[38;5;28mself\u001b[39m\u001b[38;5;241m.\u001b[39mshape:\n",
      "\u001b[0;31mNotImplementedError\u001b[0m: subtracting a nonzero scalar from a sparse matrix is not supported"
     ]
    }
   ],
   "source": [
    "np.abs(abd) - 1.2"
   ]
  },
  {
   "cell_type": "code",
   "execution_count": null,
   "id": "188adaa7-55b4-44bc-9787-6cfc109d153b",
   "metadata": {},
   "outputs": [],
   "source": []
  }
 ],
 "metadata": {
  "kernelspec": {
   "display_name": "saturn (Python 3)",
   "language": "python",
   "name": "python3"
  },
  "language_info": {
   "codemirror_mode": {
    "name": "ipython",
    "version": 3
   },
   "file_extension": ".py",
   "mimetype": "text/x-python",
   "name": "python",
   "nbconvert_exporter": "python",
   "pygments_lexer": "ipython3",
   "version": "3.9.13"
  }
 },
 "nbformat": 4,
 "nbformat_minor": 5
}
