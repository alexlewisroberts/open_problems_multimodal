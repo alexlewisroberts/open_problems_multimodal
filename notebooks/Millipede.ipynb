{
 "cells": [
  {
   "cell_type": "code",
   "execution_count": 1,
   "id": "3c8b42af-a561-4d22-ac24-13b7ba494539",
   "metadata": {
    "execution": {
     "iopub.execute_input": "2022-10-20T20:41:22.399082Z",
     "iopub.status.busy": "2022-10-20T20:41:22.398690Z",
     "iopub.status.idle": "2022-10-20T20:41:59.558940Z",
     "shell.execute_reply": "2022-10-20T20:41:59.558326Z",
     "shell.execute_reply.started": "2022-10-20T20:41:22.399018Z"
    },
    "tags": []
   },
   "outputs": [
    {
     "name": "stdout",
     "output_type": "stream",
     "text": [
      "Collecting pytorch_lightning\n",
      "  Using cached pytorch_lightning-1.7.7-py3-none-any.whl (708 kB)\n",
      "Requirement already satisfied: torch>=1.9.* in /opt/saturncloud/envs/saturn/lib/python3.9/site-packages (from pytorch_lightning) (1.11.0)\n",
      "Requirement already satisfied: PyYAML>=5.4 in /opt/saturncloud/envs/saturn/lib/python3.9/site-packages (from pytorch_lightning) (6.0)\n",
      "Requirement already satisfied: fsspec[http]!=2021.06.0,>=2021.05.0 in /opt/saturncloud/envs/saturn/lib/python3.9/site-packages (from pytorch_lightning) (2022.3.0)\n",
      "Requirement already satisfied: numpy>=1.17.2 in /opt/saturncloud/envs/saturn/lib/python3.9/site-packages (from pytorch_lightning) (1.21.6)\n",
      "Collecting torchmetrics>=0.7.0\n",
      "  Using cached torchmetrics-0.10.0-py3-none-any.whl (529 kB)\n",
      "Requirement already satisfied: tqdm>=4.57.0 in /opt/saturncloud/envs/saturn/lib/python3.9/site-packages (from pytorch_lightning) (4.64.0)\n",
      "Requirement already satisfied: typing-extensions>=4.0.0 in /opt/saturncloud/envs/saturn/lib/python3.9/site-packages (from pytorch_lightning) (4.3.0)\n",
      "Collecting pyDeprecate>=0.3.1\n",
      "  Using cached pyDeprecate-0.3.2-py3-none-any.whl (10 kB)\n",
      "Requirement already satisfied: packaging>=17.0 in /opt/saturncloud/envs/saturn/lib/python3.9/site-packages (from pytorch_lightning) (21.3)\n",
      "Collecting tensorboard>=2.9.1\n",
      "  Using cached tensorboard-2.10.1-py3-none-any.whl (5.9 MB)\n",
      "Requirement already satisfied: requests in /opt/saturncloud/envs/saturn/lib/python3.9/site-packages (from fsspec[http]!=2021.06.0,>=2021.05.0->pytorch_lightning) (2.28.1)\n",
      "Requirement already satisfied: aiohttp in /opt/saturncloud/envs/saturn/lib/python3.9/site-packages (from fsspec[http]!=2021.06.0,>=2021.05.0->pytorch_lightning) (3.8.1)\n",
      "Requirement already satisfied: pyparsing!=3.0.5,>=2.0.2 in /opt/saturncloud/envs/saturn/lib/python3.9/site-packages (from packaging>=17.0->pytorch_lightning) (3.0.9)\n",
      "Requirement already satisfied: markdown>=2.6.8 in /opt/saturncloud/envs/saturn/lib/python3.9/site-packages (from tensorboard>=2.9.1->pytorch_lightning) (3.4.1)\n",
      "Requirement already satisfied: google-auth<3,>=1.6.3 in /opt/saturncloud/envs/saturn/lib/python3.9/site-packages (from tensorboard>=2.9.1->pytorch_lightning) (2.9.1)\n",
      "Collecting protobuf<3.20,>=3.9.2\n",
      "  Using cached protobuf-3.19.6-cp39-cp39-manylinux_2_17_x86_64.manylinux2014_x86_64.whl (1.1 MB)\n",
      "Requirement already satisfied: tensorboard-plugin-wit>=1.6.0 in /opt/saturncloud/envs/saturn/lib/python3.9/site-packages (from tensorboard>=2.9.1->pytorch_lightning) (1.8.1)\n",
      "Requirement already satisfied: tensorboard-data-server<0.7.0,>=0.6.0 in /opt/saturncloud/envs/saturn/lib/python3.9/site-packages (from tensorboard>=2.9.1->pytorch_lightning) (0.6.0)\n",
      "Requirement already satisfied: setuptools>=41.0.0 in /opt/saturncloud/envs/saturn/lib/python3.9/site-packages (from tensorboard>=2.9.1->pytorch_lightning) (59.8.0)\n",
      "Requirement already satisfied: grpcio>=1.24.3 in /opt/saturncloud/envs/saturn/lib/python3.9/site-packages (from tensorboard>=2.9.1->pytorch_lightning) (1.46.3)\n",
      "Requirement already satisfied: wheel>=0.26 in /opt/saturncloud/envs/saturn/lib/python3.9/site-packages (from tensorboard>=2.9.1->pytorch_lightning) (0.37.1)\n",
      "Requirement already satisfied: google-auth-oauthlib<0.5,>=0.4.1 in /opt/saturncloud/envs/saturn/lib/python3.9/site-packages (from tensorboard>=2.9.1->pytorch_lightning) (0.4.6)\n",
      "Requirement already satisfied: werkzeug>=1.0.1 in /opt/saturncloud/envs/saturn/lib/python3.9/site-packages (from tensorboard>=2.9.1->pytorch_lightning) (2.2.0)\n",
      "Requirement already satisfied: absl-py>=0.4 in /opt/saturncloud/envs/saturn/lib/python3.9/site-packages (from tensorboard>=2.9.1->pytorch_lightning) (1.2.0)\n",
      "Requirement already satisfied: cachetools<6.0,>=2.0.0 in /opt/saturncloud/envs/saturn/lib/python3.9/site-packages (from google-auth<3,>=1.6.3->tensorboard>=2.9.1->pytorch_lightning) (5.0.0)\n",
      "Requirement already satisfied: rsa<5,>=3.1.4 in /opt/saturncloud/envs/saturn/lib/python3.9/site-packages (from google-auth<3,>=1.6.3->tensorboard>=2.9.1->pytorch_lightning) (4.9)\n",
      "Requirement already satisfied: pyasn1-modules>=0.2.1 in /opt/saturncloud/envs/saturn/lib/python3.9/site-packages (from google-auth<3,>=1.6.3->tensorboard>=2.9.1->pytorch_lightning) (0.2.7)\n",
      "Requirement already satisfied: six>=1.9.0 in /opt/saturncloud/envs/saturn/lib/python3.9/site-packages (from google-auth<3,>=1.6.3->tensorboard>=2.9.1->pytorch_lightning) (1.16.0)\n",
      "Requirement already satisfied: requests-oauthlib>=0.7.0 in /opt/saturncloud/envs/saturn/lib/python3.9/site-packages (from google-auth-oauthlib<0.5,>=0.4.1->tensorboard>=2.9.1->pytorch_lightning) (1.3.1)\n",
      "Requirement already satisfied: importlib-metadata>=4.4 in /opt/saturncloud/envs/saturn/lib/python3.9/site-packages (from markdown>=2.6.8->tensorboard>=2.9.1->pytorch_lightning) (4.11.4)\n",
      "Requirement already satisfied: idna<4,>=2.5 in /opt/saturncloud/envs/saturn/lib/python3.9/site-packages (from requests->fsspec[http]!=2021.06.0,>=2021.05.0->pytorch_lightning) (3.3)\n",
      "Requirement already satisfied: urllib3<1.27,>=1.21.1 in /opt/saturncloud/envs/saturn/lib/python3.9/site-packages (from requests->fsspec[http]!=2021.06.0,>=2021.05.0->pytorch_lightning) (1.26.11)\n",
      "Requirement already satisfied: certifi>=2017.4.17 in /opt/saturncloud/envs/saturn/lib/python3.9/site-packages (from requests->fsspec[http]!=2021.06.0,>=2021.05.0->pytorch_lightning) (2022.6.15)\n",
      "Requirement already satisfied: charset-normalizer<3,>=2 in /opt/saturncloud/envs/saturn/lib/python3.9/site-packages (from requests->fsspec[http]!=2021.06.0,>=2021.05.0->pytorch_lightning) (2.0.12)\n",
      "Requirement already satisfied: MarkupSafe>=2.1.1 in /opt/saturncloud/envs/saturn/lib/python3.9/site-packages (from werkzeug>=1.0.1->tensorboard>=2.9.1->pytorch_lightning) (2.1.1)\n",
      "Requirement already satisfied: async-timeout<5.0,>=4.0.0a3 in /opt/saturncloud/envs/saturn/lib/python3.9/site-packages (from aiohttp->fsspec[http]!=2021.06.0,>=2021.05.0->pytorch_lightning) (4.0.2)\n",
      "Requirement already satisfied: yarl<2.0,>=1.0 in /opt/saturncloud/envs/saturn/lib/python3.9/site-packages (from aiohttp->fsspec[http]!=2021.06.0,>=2021.05.0->pytorch_lightning) (1.7.2)\n",
      "Requirement already satisfied: attrs>=17.3.0 in /opt/saturncloud/envs/saturn/lib/python3.9/site-packages (from aiohttp->fsspec[http]!=2021.06.0,>=2021.05.0->pytorch_lightning) (21.4.0)\n",
      "Requirement already satisfied: aiosignal>=1.1.2 in /opt/saturncloud/envs/saturn/lib/python3.9/site-packages (from aiohttp->fsspec[http]!=2021.06.0,>=2021.05.0->pytorch_lightning) (1.2.0)\n",
      "Requirement already satisfied: frozenlist>=1.1.1 in /opt/saturncloud/envs/saturn/lib/python3.9/site-packages (from aiohttp->fsspec[http]!=2021.06.0,>=2021.05.0->pytorch_lightning) (1.3.0)\n",
      "Requirement already satisfied: multidict<7.0,>=4.5 in /opt/saturncloud/envs/saturn/lib/python3.9/site-packages (from aiohttp->fsspec[http]!=2021.06.0,>=2021.05.0->pytorch_lightning) (6.0.2)\n",
      "Requirement already satisfied: zipp>=0.5 in /opt/saturncloud/envs/saturn/lib/python3.9/site-packages (from importlib-metadata>=4.4->markdown>=2.6.8->tensorboard>=2.9.1->pytorch_lightning) (3.8.0)\n",
      "Requirement already satisfied: pyasn1<0.5.0,>=0.4.6 in /opt/saturncloud/envs/saturn/lib/python3.9/site-packages (from pyasn1-modules>=0.2.1->google-auth<3,>=1.6.3->tensorboard>=2.9.1->pytorch_lightning) (0.4.8)\n",
      "Requirement already satisfied: oauthlib>=3.0.0 in /opt/saturncloud/envs/saturn/lib/python3.9/site-packages (from requests-oauthlib>=0.7.0->google-auth-oauthlib<0.5,>=0.4.1->tensorboard>=2.9.1->pytorch_lightning) (3.2.0)\n",
      "Installing collected packages: pyDeprecate, protobuf, torchmetrics, tensorboard, pytorch_lightning\n",
      "  Attempting uninstall: protobuf\n",
      "    Found existing installation: protobuf 3.20.1\n",
      "    Uninstalling protobuf-3.20.1:\n",
      "      Successfully uninstalled protobuf-3.20.1\n",
      "  Attempting uninstall: tensorboard\n",
      "    Found existing installation: tensorboard 2.9.0\n",
      "    Uninstalling tensorboard-2.9.0:\n",
      "      Successfully uninstalled tensorboard-2.9.0\n",
      "Successfully installed protobuf-3.19.6 pyDeprecate-0.3.2 pytorch_lightning-1.7.7 tensorboard-2.10.1 torchmetrics-0.10.0\n",
      "Collecting keras_tuner\n",
      "  Using cached keras_tuner-1.1.3-py3-none-any.whl (135 kB)\n",
      "Requirement already satisfied: ipython in /opt/saturncloud/envs/saturn/lib/python3.9/site-packages (from keras_tuner) (8.4.0)\n",
      "Collecting kt-legacy\n",
      "  Using cached kt_legacy-1.0.4-py3-none-any.whl (9.6 kB)\n",
      "Requirement already satisfied: numpy in /opt/saturncloud/envs/saturn/lib/python3.9/site-packages (from keras_tuner) (1.21.6)\n",
      "Requirement already satisfied: tensorboard in /opt/saturncloud/envs/saturn/lib/python3.9/site-packages (from keras_tuner) (2.10.1)\n",
      "Requirement already satisfied: packaging in /opt/saturncloud/envs/saturn/lib/python3.9/site-packages (from keras_tuner) (21.3)\n",
      "Requirement already satisfied: requests in /opt/saturncloud/envs/saturn/lib/python3.9/site-packages (from keras_tuner) (2.28.1)\n",
      "Requirement already satisfied: pexpect>4.3 in /opt/saturncloud/envs/saturn/lib/python3.9/site-packages (from ipython->keras_tuner) (4.8.0)\n",
      "Requirement already satisfied: decorator in /opt/saturncloud/envs/saturn/lib/python3.9/site-packages (from ipython->keras_tuner) (5.1.1)\n",
      "Requirement already satisfied: prompt-toolkit!=3.0.0,!=3.0.1,<3.1.0,>=2.0.0 in /opt/saturncloud/envs/saturn/lib/python3.9/site-packages (from ipython->keras_tuner) (3.0.30)\n",
      "Requirement already satisfied: traitlets>=5 in /opt/saturncloud/envs/saturn/lib/python3.9/site-packages (from ipython->keras_tuner) (5.3.0)\n",
      "Requirement already satisfied: jedi>=0.16 in /opt/saturncloud/envs/saturn/lib/python3.9/site-packages (from ipython->keras_tuner) (0.18.1)\n",
      "Requirement already satisfied: matplotlib-inline in /opt/saturncloud/envs/saturn/lib/python3.9/site-packages (from ipython->keras_tuner) (0.1.3)\n",
      "Requirement already satisfied: stack-data in /opt/saturncloud/envs/saturn/lib/python3.9/site-packages (from ipython->keras_tuner) (0.3.0)\n",
      "Requirement already satisfied: backcall in /opt/saturncloud/envs/saturn/lib/python3.9/site-packages (from ipython->keras_tuner) (0.2.0)\n",
      "Requirement already satisfied: pickleshare in /opt/saturncloud/envs/saturn/lib/python3.9/site-packages (from ipython->keras_tuner) (0.7.5)\n",
      "Requirement already satisfied: setuptools>=18.5 in /opt/saturncloud/envs/saturn/lib/python3.9/site-packages (from ipython->keras_tuner) (59.8.0)\n",
      "Requirement already satisfied: pygments>=2.4.0 in /opt/saturncloud/envs/saturn/lib/python3.9/site-packages (from ipython->keras_tuner) (2.12.0)\n",
      "Requirement already satisfied: pyparsing!=3.0.5,>=2.0.2 in /opt/saturncloud/envs/saturn/lib/python3.9/site-packages (from packaging->keras_tuner) (3.0.9)\n",
      "Requirement already satisfied: idna<4,>=2.5 in /opt/saturncloud/envs/saturn/lib/python3.9/site-packages (from requests->keras_tuner) (3.3)\n",
      "Requirement already satisfied: certifi>=2017.4.17 in /opt/saturncloud/envs/saturn/lib/python3.9/site-packages (from requests->keras_tuner) (2022.6.15)\n",
      "Requirement already satisfied: urllib3<1.27,>=1.21.1 in /opt/saturncloud/envs/saturn/lib/python3.9/site-packages (from requests->keras_tuner) (1.26.11)\n",
      "Requirement already satisfied: charset-normalizer<3,>=2 in /opt/saturncloud/envs/saturn/lib/python3.9/site-packages (from requests->keras_tuner) (2.0.12)\n",
      "Requirement already satisfied: tensorboard-plugin-wit>=1.6.0 in /opt/saturncloud/envs/saturn/lib/python3.9/site-packages (from tensorboard->keras_tuner) (1.8.1)\n",
      "Requirement already satisfied: google-auth-oauthlib<0.5,>=0.4.1 in /opt/saturncloud/envs/saturn/lib/python3.9/site-packages (from tensorboard->keras_tuner) (0.4.6)\n",
      "Requirement already satisfied: markdown>=2.6.8 in /opt/saturncloud/envs/saturn/lib/python3.9/site-packages (from tensorboard->keras_tuner) (3.4.1)\n",
      "Requirement already satisfied: grpcio>=1.24.3 in /opt/saturncloud/envs/saturn/lib/python3.9/site-packages (from tensorboard->keras_tuner) (1.46.3)\n",
      "Requirement already satisfied: absl-py>=0.4 in /opt/saturncloud/envs/saturn/lib/python3.9/site-packages (from tensorboard->keras_tuner) (1.2.0)\n",
      "Requirement already satisfied: wheel>=0.26 in /opt/saturncloud/envs/saturn/lib/python3.9/site-packages (from tensorboard->keras_tuner) (0.37.1)\n",
      "Requirement already satisfied: werkzeug>=1.0.1 in /opt/saturncloud/envs/saturn/lib/python3.9/site-packages (from tensorboard->keras_tuner) (2.2.0)\n",
      "Requirement already satisfied: protobuf<3.20,>=3.9.2 in /opt/saturncloud/envs/saturn/lib/python3.9/site-packages (from tensorboard->keras_tuner) (3.19.6)\n",
      "Requirement already satisfied: tensorboard-data-server<0.7.0,>=0.6.0 in /opt/saturncloud/envs/saturn/lib/python3.9/site-packages (from tensorboard->keras_tuner) (0.6.0)\n",
      "Requirement already satisfied: google-auth<3,>=1.6.3 in /opt/saturncloud/envs/saturn/lib/python3.9/site-packages (from tensorboard->keras_tuner) (2.9.1)\n",
      "Requirement already satisfied: six>=1.9.0 in /opt/saturncloud/envs/saturn/lib/python3.9/site-packages (from google-auth<3,>=1.6.3->tensorboard->keras_tuner) (1.16.0)\n",
      "Requirement already satisfied: rsa<5,>=3.1.4 in /opt/saturncloud/envs/saturn/lib/python3.9/site-packages (from google-auth<3,>=1.6.3->tensorboard->keras_tuner) (4.9)\n",
      "Requirement already satisfied: pyasn1-modules>=0.2.1 in /opt/saturncloud/envs/saturn/lib/python3.9/site-packages (from google-auth<3,>=1.6.3->tensorboard->keras_tuner) (0.2.7)\n",
      "Requirement already satisfied: cachetools<6.0,>=2.0.0 in /opt/saturncloud/envs/saturn/lib/python3.9/site-packages (from google-auth<3,>=1.6.3->tensorboard->keras_tuner) (5.0.0)\n",
      "Requirement already satisfied: requests-oauthlib>=0.7.0 in /opt/saturncloud/envs/saturn/lib/python3.9/site-packages (from google-auth-oauthlib<0.5,>=0.4.1->tensorboard->keras_tuner) (1.3.1)\n",
      "Requirement already satisfied: parso<0.9.0,>=0.8.0 in /opt/saturncloud/envs/saturn/lib/python3.9/site-packages (from jedi>=0.16->ipython->keras_tuner) (0.8.3)\n",
      "Requirement already satisfied: importlib-metadata>=4.4 in /opt/saturncloud/envs/saturn/lib/python3.9/site-packages (from markdown>=2.6.8->tensorboard->keras_tuner) (4.11.4)\n",
      "Requirement already satisfied: ptyprocess>=0.5 in /opt/saturncloud/envs/saturn/lib/python3.9/site-packages (from pexpect>4.3->ipython->keras_tuner) (0.7.0)\n",
      "Requirement already satisfied: wcwidth in /opt/saturncloud/envs/saturn/lib/python3.9/site-packages (from prompt-toolkit!=3.0.0,!=3.0.1,<3.1.0,>=2.0.0->ipython->keras_tuner) (0.2.5)\n",
      "Requirement already satisfied: MarkupSafe>=2.1.1 in /opt/saturncloud/envs/saturn/lib/python3.9/site-packages (from werkzeug>=1.0.1->tensorboard->keras_tuner) (2.1.1)\n",
      "Requirement already satisfied: asttokens in /opt/saturncloud/envs/saturn/lib/python3.9/site-packages (from stack-data->ipython->keras_tuner) (2.0.5)\n",
      "Requirement already satisfied: executing in /opt/saturncloud/envs/saturn/lib/python3.9/site-packages (from stack-data->ipython->keras_tuner) (0.9.1)\n",
      "Requirement already satisfied: pure-eval in /opt/saturncloud/envs/saturn/lib/python3.9/site-packages (from stack-data->ipython->keras_tuner) (0.2.2)\n",
      "Requirement already satisfied: zipp>=0.5 in /opt/saturncloud/envs/saturn/lib/python3.9/site-packages (from importlib-metadata>=4.4->markdown>=2.6.8->tensorboard->keras_tuner) (3.8.0)\n",
      "Requirement already satisfied: pyasn1<0.5.0,>=0.4.6 in /opt/saturncloud/envs/saturn/lib/python3.9/site-packages (from pyasn1-modules>=0.2.1->google-auth<3,>=1.6.3->tensorboard->keras_tuner) (0.4.8)\n",
      "Requirement already satisfied: oauthlib>=3.0.0 in /opt/saturncloud/envs/saturn/lib/python3.9/site-packages (from requests-oauthlib>=0.7.0->google-auth-oauthlib<0.5,>=0.4.1->tensorboard->keras_tuner) (3.2.0)\n",
      "Installing collected packages: kt-legacy, keras_tuner\n",
      "Successfully installed keras_tuner-1.1.3 kt-legacy-1.0.4\n",
      "Requirement already satisfied: colorama in /opt/saturncloud/envs/saturn/lib/python3.9/site-packages (0.4.5)\n",
      "Collecting tensorflow\n",
      "  Using cached tensorflow-2.10.0-cp39-cp39-manylinux_2_17_x86_64.manylinux2014_x86_64.whl (578.1 MB)\n",
      "Requirement already satisfied: h5py>=2.9.0 in /opt/saturncloud/envs/saturn/lib/python3.9/site-packages (from tensorflow) (3.7.0)\n",
      "Collecting gast<=0.4.0,>=0.2.1\n",
      "  Using cached gast-0.4.0-py3-none-any.whl (9.8 kB)\n",
      "Collecting opt-einsum>=2.3.2\n",
      "  Using cached opt_einsum-3.3.0-py3-none-any.whl (65 kB)\n",
      "Collecting astunparse>=1.6.0\n",
      "  Using cached astunparse-1.6.3-py2.py3-none-any.whl (12 kB)\n",
      "Collecting keras-preprocessing>=1.1.1\n",
      "  Using cached Keras_Preprocessing-1.1.2-py2.py3-none-any.whl (42 kB)\n",
      "Requirement already satisfied: absl-py>=1.0.0 in /opt/saturncloud/envs/saturn/lib/python3.9/site-packages (from tensorflow) (1.2.0)\n",
      "Collecting termcolor>=1.1.0\n",
      "  Using cached termcolor-2.0.1-py3-none-any.whl (5.4 kB)\n",
      "Requirement already satisfied: typing-extensions>=3.6.6 in /opt/saturncloud/envs/saturn/lib/python3.9/site-packages (from tensorflow) (4.3.0)\n",
      "Collecting google-pasta>=0.1.1\n",
      "  Using cached google_pasta-0.2.0-py3-none-any.whl (57 kB)\n",
      "Requirement already satisfied: wrapt>=1.11.0 in /opt/saturncloud/envs/saturn/lib/python3.9/site-packages (from tensorflow) (1.14.1)\n",
      "Collecting tensorflow-estimator<2.11,>=2.10.0\n",
      "  Using cached tensorflow_estimator-2.10.0-py2.py3-none-any.whl (438 kB)\n",
      "Requirement already satisfied: packaging in /opt/saturncloud/envs/saturn/lib/python3.9/site-packages (from tensorflow) (21.3)\n",
      "Collecting libclang>=13.0.0\n",
      "  Using cached libclang-14.0.6-py2.py3-none-manylinux2010_x86_64.whl (14.1 MB)\n",
      "Requirement already satisfied: protobuf<3.20,>=3.9.2 in /opt/saturncloud/envs/saturn/lib/python3.9/site-packages (from tensorflow) (3.19.6)\n",
      "Requirement already satisfied: numpy>=1.20 in /opt/saturncloud/envs/saturn/lib/python3.9/site-packages (from tensorflow) (1.21.6)\n",
      "Collecting flatbuffers>=2.0\n",
      "  Using cached flatbuffers-22.9.24-py2.py3-none-any.whl (26 kB)\n",
      "Requirement already satisfied: grpcio<2.0,>=1.24.3 in /opt/saturncloud/envs/saturn/lib/python3.9/site-packages (from tensorflow) (1.46.3)\n",
      "Collecting tensorflow-io-gcs-filesystem>=0.23.1\n",
      "  Using cached tensorflow_io_gcs_filesystem-0.27.0-cp39-cp39-manylinux_2_12_x86_64.manylinux2010_x86_64.whl (2.4 MB)\n",
      "Collecting keras<2.11,>=2.10.0\n",
      "  Using cached keras-2.10.0-py2.py3-none-any.whl (1.7 MB)\n",
      "Requirement already satisfied: six>=1.12.0 in /opt/saturncloud/envs/saturn/lib/python3.9/site-packages (from tensorflow) (1.16.0)\n",
      "Requirement already satisfied: tensorboard<2.11,>=2.10 in /opt/saturncloud/envs/saturn/lib/python3.9/site-packages (from tensorflow) (2.10.1)\n",
      "Requirement already satisfied: setuptools in /opt/saturncloud/envs/saturn/lib/python3.9/site-packages (from tensorflow) (59.8.0)\n",
      "Requirement already satisfied: wheel<1.0,>=0.23.0 in /opt/saturncloud/envs/saturn/lib/python3.9/site-packages (from astunparse>=1.6.0->tensorflow) (0.37.1)\n",
      "Requirement already satisfied: google-auth-oauthlib<0.5,>=0.4.1 in /opt/saturncloud/envs/saturn/lib/python3.9/site-packages (from tensorboard<2.11,>=2.10->tensorflow) (0.4.6)\n",
      "Requirement already satisfied: markdown>=2.6.8 in /opt/saturncloud/envs/saturn/lib/python3.9/site-packages (from tensorboard<2.11,>=2.10->tensorflow) (3.4.1)\n",
      "Requirement already satisfied: google-auth<3,>=1.6.3 in /opt/saturncloud/envs/saturn/lib/python3.9/site-packages (from tensorboard<2.11,>=2.10->tensorflow) (2.9.1)\n",
      "Requirement already satisfied: tensorboard-data-server<0.7.0,>=0.6.0 in /opt/saturncloud/envs/saturn/lib/python3.9/site-packages (from tensorboard<2.11,>=2.10->tensorflow) (0.6.0)\n",
      "Requirement already satisfied: tensorboard-plugin-wit>=1.6.0 in /opt/saturncloud/envs/saturn/lib/python3.9/site-packages (from tensorboard<2.11,>=2.10->tensorflow) (1.8.1)\n",
      "Requirement already satisfied: werkzeug>=1.0.1 in /opt/saturncloud/envs/saturn/lib/python3.9/site-packages (from tensorboard<2.11,>=2.10->tensorflow) (2.2.0)\n",
      "Requirement already satisfied: requests<3,>=2.21.0 in /opt/saturncloud/envs/saturn/lib/python3.9/site-packages (from tensorboard<2.11,>=2.10->tensorflow) (2.28.1)\n",
      "Requirement already satisfied: pyparsing!=3.0.5,>=2.0.2 in /opt/saturncloud/envs/saturn/lib/python3.9/site-packages (from packaging->tensorflow) (3.0.9)\n",
      "Requirement already satisfied: cachetools<6.0,>=2.0.0 in /opt/saturncloud/envs/saturn/lib/python3.9/site-packages (from google-auth<3,>=1.6.3->tensorboard<2.11,>=2.10->tensorflow) (5.0.0)\n",
      "Requirement already satisfied: rsa<5,>=3.1.4 in /opt/saturncloud/envs/saturn/lib/python3.9/site-packages (from google-auth<3,>=1.6.3->tensorboard<2.11,>=2.10->tensorflow) (4.9)\n",
      "Requirement already satisfied: pyasn1-modules>=0.2.1 in /opt/saturncloud/envs/saturn/lib/python3.9/site-packages (from google-auth<3,>=1.6.3->tensorboard<2.11,>=2.10->tensorflow) (0.2.7)\n",
      "Requirement already satisfied: requests-oauthlib>=0.7.0 in /opt/saturncloud/envs/saturn/lib/python3.9/site-packages (from google-auth-oauthlib<0.5,>=0.4.1->tensorboard<2.11,>=2.10->tensorflow) (1.3.1)\n",
      "Requirement already satisfied: importlib-metadata>=4.4 in /opt/saturncloud/envs/saturn/lib/python3.9/site-packages (from markdown>=2.6.8->tensorboard<2.11,>=2.10->tensorflow) (4.11.4)\n",
      "Requirement already satisfied: urllib3<1.27,>=1.21.1 in /opt/saturncloud/envs/saturn/lib/python3.9/site-packages (from requests<3,>=2.21.0->tensorboard<2.11,>=2.10->tensorflow) (1.26.11)\n",
      "Requirement already satisfied: certifi>=2017.4.17 in /opt/saturncloud/envs/saturn/lib/python3.9/site-packages (from requests<3,>=2.21.0->tensorboard<2.11,>=2.10->tensorflow) (2022.6.15)\n",
      "Requirement already satisfied: charset-normalizer<3,>=2 in /opt/saturncloud/envs/saturn/lib/python3.9/site-packages (from requests<3,>=2.21.0->tensorboard<2.11,>=2.10->tensorflow) (2.0.12)\n",
      "Requirement already satisfied: idna<4,>=2.5 in /opt/saturncloud/envs/saturn/lib/python3.9/site-packages (from requests<3,>=2.21.0->tensorboard<2.11,>=2.10->tensorflow) (3.3)\n",
      "Requirement already satisfied: MarkupSafe>=2.1.1 in /opt/saturncloud/envs/saturn/lib/python3.9/site-packages (from werkzeug>=1.0.1->tensorboard<2.11,>=2.10->tensorflow) (2.1.1)\n",
      "Requirement already satisfied: zipp>=0.5 in /opt/saturncloud/envs/saturn/lib/python3.9/site-packages (from importlib-metadata>=4.4->markdown>=2.6.8->tensorboard<2.11,>=2.10->tensorflow) (3.8.0)\n",
      "Requirement already satisfied: pyasn1<0.5.0,>=0.4.6 in /opt/saturncloud/envs/saturn/lib/python3.9/site-packages (from pyasn1-modules>=0.2.1->google-auth<3,>=1.6.3->tensorboard<2.11,>=2.10->tensorflow) (0.4.8)\n",
      "Requirement already satisfied: oauthlib>=3.0.0 in /opt/saturncloud/envs/saturn/lib/python3.9/site-packages (from requests-oauthlib>=0.7.0->google-auth-oauthlib<0.5,>=0.4.1->tensorboard<2.11,>=2.10->tensorflow) (3.2.0)\n",
      "Installing collected packages: libclang, keras, flatbuffers, termcolor, tensorflow-io-gcs-filesystem, tensorflow-estimator, opt-einsum, keras-preprocessing, google-pasta, gast, astunparse, tensorflow\n",
      "Successfully installed astunparse-1.6.3 flatbuffers-22.9.24 gast-0.4.0 google-pasta-0.2.0 keras-2.10.0 keras-preprocessing-1.1.2 libclang-14.0.6 opt-einsum-3.3.0 tensorflow-2.10.0 tensorflow-estimator-2.10.0 tensorflow-io-gcs-filesystem-0.27.0 termcolor-2.0.1\n"
     ]
    },
    {
     "name": "stderr",
     "output_type": "stream",
     "text": [
      "2022-10-20 20:41:58.184993: I tensorflow/core/platform/cpu_feature_guard.cc:193] This TensorFlow binary is optimized with oneAPI Deep Neural Network Library (oneDNN) to use the following CPU instructions in performance-critical operations:  AVX2 AVX512F AVX512_VNNI FMA\n",
      "To enable them in other operations, rebuild TensorFlow with the appropriate compiler flags.\n",
      "2022-10-20 20:41:58.343188: I tensorflow/core/util/util.cc:169] oneDNN custom operations are on. You may see slightly different numerical results due to floating-point round-off errors from different computation orders. To turn them off, set the environment variable `TF_ENABLE_ONEDNN_OPTS=0`.\n",
      "2022-10-20 20:41:58.381399: E tensorflow/stream_executor/cuda/cuda_blas.cc:2981] Unable to register cuBLAS factory: Attempting to register factory for plugin cuBLAS when one has already been registered\n",
      "2022-10-20 20:41:59.067720: W tensorflow/stream_executor/platform/default/dso_loader.cc:64] Could not load dynamic library 'libnvinfer.so.7'; dlerror: libnvinfer.so.7: cannot open shared object file: No such file or directory; LD_LIBRARY_PATH: /usr/local/nvidia/lib:/usr/local/nvidia/lib64\n",
      "2022-10-20 20:41:59.067835: W tensorflow/stream_executor/platform/default/dso_loader.cc:64] Could not load dynamic library 'libnvinfer_plugin.so.7'; dlerror: libnvinfer_plugin.so.7: cannot open shared object file: No such file or directory; LD_LIBRARY_PATH: /usr/local/nvidia/lib:/usr/local/nvidia/lib64\n",
      "2022-10-20 20:41:59.067846: W tensorflow/compiler/tf2tensorrt/utils/py_utils.cc:38] TF-TRT Warning: Cannot dlopen some TensorRT libraries. If you would like to use Nvidia GPU with TensorRT, please make sure the missing libraries mentioned above are installed properly.\n"
     ]
    },
    {
     "name": "stdout",
     "output_type": "stream",
     "text": [
      "/home/jovyan/kaggle/working\n",
      "/home/jovyan/kaggle/working/robust-pca\n",
      "/home/jovyan/kaggle/working\n"
     ]
    }
   ],
   "source": [
    "!pip install pytorch_lightning\n",
    "!pip install keras_tuner\n",
    "import pytorch_lightning as pl\n",
    "import numpy as np\n",
    "from torch.utils.data import DataLoader, TensorDataset\n",
    "import pandas as pd\n",
    "import torch\n",
    "import torch.nn as nn\n",
    "from torchmetrics import PearsonCorrCoef, MeanSquaredError\n",
    "!pip install colorama\n",
    "import os, gc, pickle, datetime, scipy.sparse\n",
    "import pandas as pd\n",
    "import matplotlib.pyplot as plt\n",
    "import numpy as np\n",
    "from colorama import Fore, Back, Style\n",
    "import scprep\n",
    "\n",
    "from sklearn.model_selection import GroupKFold, train_test_split\n",
    "from sklearn.preprocessing import StandardScaler, scale, MinMaxScaler\n",
    "from sklearn.decomposition import TruncatedSVD\n",
    "\n",
    "!pip install tensorflow\n",
    "import tensorflow as tf\n",
    "import tensorflow.keras.backend as K\n",
    "from tensorflow.keras.models import Model, load_model\n",
    "from tensorflow.keras.callbacks import ReduceLROnPlateau, LearningRateScheduler, EarlyStopping\n",
    "from tensorflow.keras.layers import Dense, Input, Concatenate, Dropout\n",
    "from tensorflow.keras.utils import plot_model\n",
    "import keras_tuner\n",
    "\n",
    "%cd /home/jovyan/kaggle/working\n",
    "\n",
    "%cd robust-pca\n",
    "import r_pca\n",
    "%cd ..\n",
    "\n",
    "def delete_columns_csr(mat, indices):\n",
    "    \"\"\"\n",
    "    Remove the rows denoted by ``indices`` form the CSR sparse matrix ``mat``.\n",
    "    \"\"\"\n",
    "    if not isinstance(mat, scipy.sparse.csr_matrix):\n",
    "        raise ValueError(\"works only for CSR format -- use .tocsr() first\")\n",
    "    mask = np.ones(mat.shape[1], dtype=bool)\n",
    "    mask[indices] = False\n",
    "    return mat[:,mask]\n",
    "\n",
    "def correlation_score(y_true, y_pred):\n",
    "    \"\"\"Scores the predictions according to the competition rules. \n",
    "    \n",
    "    It is assumed that the predictions are not constant.\n",
    "    \n",
    "    Returns the average of each sample's Pearson correlation coefficient\"\"\"\n",
    "    if type(y_true) == pd.DataFrame: y_true = y_true.values\n",
    "    if type(y_pred) == pd.DataFrame: y_pred = y_pred.values\n",
    "    corrsum = 0\n",
    "    for i in range(len(y_true)):\n",
    "        corrsum += np.corrcoef(y_true[i], y_pred[i])[1, 0]\n",
    "    return corrsum / len(y_true)\n",
    "\n",
    "def correlation_score_cols(y_true, y_pred):\n",
    "    \"\"\"Scores the predictions according to the competition rules. \n",
    "    \n",
    "    It is assumed that the predictions are not constant.\n",
    "    \n",
    "    Returns the average of each sample's Pearson correlation coefficient\"\"\"\n",
    "    if type(y_true) == pd.DataFrame: y_true = y_true.values\n",
    "    if type(y_pred) == pd.DataFrame: y_pred = y_pred.values\n",
    "    corrsum = 0\n",
    "    abc = []\n",
    "    for i in range(y_true.shape[1]):\n",
    "        temp = np.corrcoef(y_true[:,i], y_pred[:,i])[1, 0]\n",
    "        abc.append(temp)\n",
    "        corrsum += temp\n",
    "    print(corrsum / y_true.shape[1])\n",
    "    return abc\n",
    "\n",
    "def negative_correlation_loss(y_true, y_pred):\n",
    "    \"\"\"Negative correlation loss function for Keras\n",
    "    \n",
    "    Precondition:\n",
    "    y_true.mean(axis=1) == 0\n",
    "    y_true.std(axis=1) == 1\n",
    "    \n",
    "    Returns:\n",
    "    -1 = perfect positive correlation\n",
    "    1 = totally negative correlation\n",
    "    \"\"\"\n",
    "    my = K.mean(tf.convert_to_tensor(y_pred), axis=1)\n",
    "    my = tf.tile(tf.expand_dims(my, axis=1), (1, y_true.shape[1]))\n",
    "    ym = y_pred - my\n",
    "    r_num = K.sum(tf.multiply(y_true, ym), axis=1)\n",
    "    r_den = tf.sqrt(K.sum(K.square(ym), axis=1) * float(y_true.shape[-1]))\n",
    "    r = tf.reduce_mean(r_num / r_den)\n",
    "    return - r\n",
    "\n",
    "def negative_pearson_loss(y_true, y_pred):\n",
    "    \"\"\"Negative correlation loss function for Keras\n",
    "    \n",
    "    Precondition:\n",
    "    y_true.mean(axis=1) == 0\n",
    "    y_true.std(axis=1) == 1\n",
    "    \n",
    "    Returns:\n",
    "    -1 = perfect positive correlation\n",
    "    1 = totally negative correlation\n",
    "    \"\"\"\n",
    "\n",
    "    vx = y_pred - torch.mean(y_pred,1,keepdim=True)\n",
    "    vy = y_true - torch.mean(y_true,1,keepdim=True)\n",
    "\n",
    "    cost = torch.mean(torch.sum(vx * vy,1) / (torch.sqrt(torch.sum(vx ** 2,1)) * torch.sqrt(torch.sum(vy ** 2,1))))\n",
    "\n",
    "    return - cost\n",
    "\n",
    "def my_model(n_inputs,n_outputs, reg1, reg2,loss):\n",
    "    \"\"\"Sequential neural network\n",
    "    \n",
    "    Returns a compiled instance of tensorflow.keras.models.Model.\n",
    "    \"\"\"\n",
    "    activation = 'swish'\n",
    "\n",
    "    \n",
    "    inputs = Input(shape=(n_inputs, ))\n",
    "    x0 = Dense(256, kernel_regularizer=tf.keras.regularizers.l2(reg1),\n",
    "              activation=activation,\n",
    "             )(inputs)\n",
    "    x1 = Dense(256, kernel_regularizer=tf.keras.regularizers.l2(reg1),\n",
    "              activation=activation,\n",
    "             )(x0)\n",
    "    x2 = Dense(256, kernel_regularizer=tf.keras.regularizers.l2(reg1),\n",
    "              activation=activation,\n",
    "             )(x1)\n",
    "    x3 = Dense(128, kernel_regularizer=tf.keras.regularizers.l2(reg1),\n",
    "              activation=activation,\n",
    "             )(x2)\n",
    "    x = Concatenate()([x0, x1, x2, x3])\n",
    "    x = Dense(n_outputs, kernel_regularizer=tf.keras.regularizers.l2(reg2),\n",
    "              #activation=activation,\n",
    "             )(x)\n",
    "    regressor = Model(inputs, x)\n",
    "    regressor.compile(optimizer=tf.keras.optimizers.Adam(learning_rate=LR_START),\n",
    "                      metrics=[loss],\n",
    "                      loss=loss\n",
    "                     )\n",
    "    \n",
    "    return regressor\n",
    "\n",
    "# Cross-validation\n",
    "VERBOSE = 2 # set to 2 for more output, set to 0 for less output\n",
    "EPOCHS = 1000\n",
    "N_SPLITS = 3\n",
    "\n",
    "def fit(X_train, y_train,meta,loss=negative_correlation_loss):\n",
    "    np.random.seed(1)\n",
    "    tf.random.set_seed(1)\n",
    "\n",
    "    kf = GroupKFold(n_splits=N_SPLITS)\n",
    "    score_list = []\n",
    "    for fold, (idx_tr, idx_va) in enumerate(kf.split(X_train, groups=meta.donor)):\n",
    "        start_time = datetime.datetime.now()\n",
    "        model = None\n",
    "        gc.collect()\n",
    "        X_tr = X_train[idx_tr]\n",
    "        y_tr = y_train[idx_tr]\n",
    "        X_va = X_train[idx_va]\n",
    "        y_va = y_train[idx_va]\n",
    "\n",
    "        lr = ReduceLROnPlateau(monitor=\"val_loss\", factor=0.5, \n",
    "                              patience=4, verbose=VERBOSE)\n",
    "        es = EarlyStopping(monitor=\"val_loss\",\n",
    "                          patience=12, \n",
    "                          verbose=0,\n",
    "                          mode=\"min\", \n",
    "                          restore_best_weights=True)\n",
    "        callbacks = [lr, es, tf.keras.callbacks.TerminateOnNaN()]\n",
    "\n",
    "        # Construct and compile the model\n",
    "        model = my_model(n_inputs=X_train.shape[1],n_outputs=y_train.shape[1],reg1=reg1,reg2=reg2,loss = loss)\n",
    "\n",
    "        # Train the model\n",
    "        history = model.fit(X_tr, y_tr, \n",
    "                            validation_data=(X_va, y_va), \n",
    "                            epochs=EPOCHS,\n",
    "                            verbose=VERBOSE,\n",
    "                            batch_size=BATCH_SIZE,\n",
    "                            shuffle=True,\n",
    "                            callbacks=callbacks)\n",
    "        del X_tr, y_tr\n",
    "\n",
    "        # We validate the model\n",
    "        y_pred = model.predict(X_va, batch_size=X_va.shape[0])\n",
    "        corrscore = correlation_score(y_va, y_pred)\n",
    "\n",
    "        print(f\"Fold {fold}: {es.stopped_epoch:3} epochs, corr =  {corrscore:.5f}\")\n",
    "        del es, X_va#, y_va, y_va_pred\n",
    "        score_list.append(corrscore)\n",
    "\n",
    "        return model\n",
    "\n",
    "    # Show overall score\n",
    "    print(f\"{Fore.GREEN}{Style.BRIGHT}Average  corr = {np.array(score_list).mean():.5f}{Style.RESET_ALL}\")"
   ]
  },
  {
   "cell_type": "code",
   "execution_count": 106,
   "id": "a305fdb6-ee65-4927-94ee-3816c16603cc",
   "metadata": {
    "execution": {
     "iopub.execute_input": "2022-10-19T17:18:56.919884Z",
     "iopub.status.busy": "2022-10-19T17:18:56.919488Z",
     "iopub.status.idle": "2022-10-19T17:18:56.942789Z",
     "shell.execute_reply": "2022-10-19T17:18:56.942067Z",
     "shell.execute_reply.started": "2022-10-19T17:18:56.919859Z"
    }
   },
   "outputs": [
    {
     "ename": "ValueError",
     "evalue": "all the input array dimensions for the concatenation axis must match exactly, but along dimension 1, the array at index 0 has size 21601 and the array at index 1 has size 1",
     "output_type": "error",
     "traceback": [
      "\u001b[0;31m---------------------------------------------------------------------------\u001b[0m",
      "\u001b[0;31mValueError\u001b[0m                                Traceback (most recent call last)",
      "Input \u001b[0;32mIn [106]\u001b[0m, in \u001b[0;36m<cell line: 1>\u001b[0;34m()\u001b[0m\n\u001b[0;32m----> 1\u001b[0m scprep\u001b[38;5;241m.\u001b[39mfilter\u001b[38;5;241m.\u001b[39mremove_empty_genes(\u001b[43mnp\u001b[49m\u001b[38;5;241;43m.\u001b[39;49m\u001b[43mvstack\u001b[49m\u001b[43m(\u001b[49m\u001b[43m[\u001b[49m\u001b[43mX_train\u001b[49m\u001b[43m,\u001b[49m\u001b[43mX_test\u001b[49m\u001b[43m]\u001b[49m\u001b[43m)\u001b[49m)\u001b[38;5;241m.\u001b[39mshape\n",
      "File \u001b[0;32m<__array_function__ internals>:5\u001b[0m, in \u001b[0;36mvstack\u001b[0;34m(*args, **kwargs)\u001b[0m\n",
      "File \u001b[0;32m/srv/conda/envs/saturn/lib/python3.9/site-packages/numpy/core/shape_base.py:282\u001b[0m, in \u001b[0;36mvstack\u001b[0;34m(tup)\u001b[0m\n\u001b[1;32m    280\u001b[0m \u001b[38;5;28;01mif\u001b[39;00m \u001b[38;5;129;01mnot\u001b[39;00m \u001b[38;5;28misinstance\u001b[39m(arrs, \u001b[38;5;28mlist\u001b[39m):\n\u001b[1;32m    281\u001b[0m     arrs \u001b[38;5;241m=\u001b[39m [arrs]\n\u001b[0;32m--> 282\u001b[0m \u001b[38;5;28;01mreturn\u001b[39;00m \u001b[43m_nx\u001b[49m\u001b[38;5;241;43m.\u001b[39;49m\u001b[43mconcatenate\u001b[49m\u001b[43m(\u001b[49m\u001b[43marrs\u001b[49m\u001b[43m,\u001b[49m\u001b[43m \u001b[49m\u001b[38;5;241;43m0\u001b[39;49m\u001b[43m)\u001b[49m\n",
      "File \u001b[0;32m<__array_function__ internals>:5\u001b[0m, in \u001b[0;36mconcatenate\u001b[0;34m(*args, **kwargs)\u001b[0m\n",
      "\u001b[0;31mValueError\u001b[0m: all the input array dimensions for the concatenation axis must match exactly, but along dimension 1, the array at index 0 has size 21601 and the array at index 1 has size 1"
     ]
    }
   ],
   "source": [
    "scprep.filter.remove_empty_genes(np.vstack([X_train,X_test])).shape"
   ]
  },
  {
   "cell_type": "code",
   "execution_count": 115,
   "id": "7226639b-2c60-4c61-8f96-dbe875ad6e86",
   "metadata": {
    "execution": {
     "iopub.execute_input": "2022-10-19T17:21:46.629741Z",
     "iopub.status.busy": "2022-10-19T17:21:46.629353Z",
     "iopub.status.idle": "2022-10-19T17:21:55.767300Z",
     "shell.execute_reply": "2022-10-19T17:21:55.766705Z",
     "shell.execute_reply.started": "2022-10-19T17:21:46.629714Z"
    },
    "tags": []
   },
   "outputs": [
    {
     "data": {
      "text/plain": [
       "(48663, 21601)"
      ]
     },
     "execution_count": 115,
     "metadata": {},
     "output_type": "execute_result"
    }
   ],
   "source": [
    "X_test = scipy.sparse.load_npz('./sparse/test_cite_inputs_values.sparse.npz')\n",
    "X_test = delete_columns_csr(X_test,to_drop)\n",
    "X_test.shape"
   ]
  },
  {
   "cell_type": "code",
   "execution_count": 116,
   "id": "c520902e-af19-47cb-b30e-3f1b35a6ff4b",
   "metadata": {
    "execution": {
     "iopub.execute_input": "2022-10-19T17:21:55.768614Z",
     "iopub.status.busy": "2022-10-19T17:21:55.768323Z",
     "iopub.status.idle": "2022-10-19T17:22:09.140022Z",
     "shell.execute_reply": "2022-10-19T17:22:09.139387Z",
     "shell.execute_reply.started": "2022-10-19T17:21:55.768592Z"
    },
    "tags": []
   },
   "outputs": [],
   "source": [
    "X_train = scipy.sparse.load_npz('./sparse/train_cite_inputs_values.sparse.npz')\n",
    "to_drop = np.genfromtxt(\"./sparse/drop_ids.csv\", delimiter=',', dtype = int)\n",
    "X_train = delete_columns_csr(X_train,to_drop)"
   ]
  },
  {
   "cell_type": "code",
   "execution_count": 112,
   "id": "f5038fac-39f3-492e-bf81-4ad97460b673",
   "metadata": {
    "execution": {
     "iopub.execute_input": "2022-10-19T17:21:17.069875Z",
     "iopub.status.busy": "2022-10-19T17:21:17.069493Z",
     "iopub.status.idle": "2022-10-19T17:21:18.747265Z",
     "shell.execute_reply": "2022-10-19T17:21:18.746628Z",
     "shell.execute_reply.started": "2022-10-19T17:21:17.069848Z"
    }
   },
   "outputs": [],
   "source": [
    "X_train = delete_columns_csr(X_train,to_drop)"
   ]
  },
  {
   "cell_type": "code",
   "execution_count": null,
   "id": "3f63f937-e208-4787-9e1b-00107e987157",
   "metadata": {},
   "outputs": [],
   "source": [
    "X_train = scprep.filter.remove_empty_genes(X_train)"
   ]
  },
  {
   "cell_type": "code",
   "execution_count": 113,
   "id": "200ecf99-6e4d-4948-95b1-d2c56f1f310c",
   "metadata": {
    "execution": {
     "iopub.execute_input": "2022-10-19T17:21:21.500255Z",
     "iopub.status.busy": "2022-10-19T17:21:21.499872Z",
     "iopub.status.idle": "2022-10-19T17:21:21.504297Z",
     "shell.execute_reply": "2022-10-19T17:21:21.503799Z",
     "shell.execute_reply.started": "2022-10-19T17:21:21.500226Z"
    },
    "tags": []
   },
   "outputs": [
    {
     "data": {
      "text/plain": [
       "(70988, 21601)"
      ]
     },
     "execution_count": 113,
     "metadata": {},
     "output_type": "execute_result"
    }
   ],
   "source": [
    "X_train.shape"
   ]
  },
  {
   "cell_type": "code",
   "execution_count": 89,
   "id": "ad9ddd8e-8836-474c-bb5d-ff0544b31eb0",
   "metadata": {
    "execution": {
     "iopub.execute_input": "2022-10-19T15:58:14.003007Z",
     "iopub.status.busy": "2022-10-19T15:58:14.002639Z",
     "iopub.status.idle": "2022-10-19T15:58:14.407481Z",
     "shell.execute_reply": "2022-10-19T15:58:14.406838Z",
     "shell.execute_reply.started": "2022-10-19T15:58:14.002985Z"
    },
    "tags": []
   },
   "outputs": [],
   "source": [
    "y_train = scipy.sparse.load_npz('./sparse/train_cite_targets_values.sparse.npz')\n",
    "# Normalize the targets row-wise: This doesn't change the correlations,\n",
    "# and negative_correlation_loss depends on it\n",
    "y_train -= y_train.mean(axis=1).reshape(-1, 1)\n",
    "y_train /= y_train.std(axis=1).reshape(-1, 1)"
   ]
  },
  {
   "cell_type": "code",
   "execution_count": 95,
   "id": "110422cb-424b-483e-ae3b-d3e964eff09f",
   "metadata": {
    "execution": {
     "iopub.execute_input": "2022-10-19T15:59:36.407952Z",
     "iopub.status.busy": "2022-10-19T15:59:36.407571Z",
     "iopub.status.idle": "2022-10-19T15:59:41.848525Z",
     "shell.execute_reply": "2022-10-19T15:59:41.847891Z",
     "shell.execute_reply.started": "2022-10-19T15:59:36.407930Z"
    },
    "tags": []
   },
   "outputs": [],
   "source": [
    "X_train = X_train.toarray()"
   ]
  },
  {
   "cell_type": "code",
   "execution_count": 66,
   "id": "1d45e217-1d3e-4042-8308-17b8735e04a9",
   "metadata": {
    "execution": {
     "iopub.execute_input": "2022-10-19T15:45:34.275374Z",
     "iopub.status.busy": "2022-10-19T15:45:34.274973Z",
     "iopub.status.idle": "2022-10-19T15:45:36.421650Z",
     "shell.execute_reply": "2022-10-19T15:45:36.421018Z",
     "shell.execute_reply.started": "2022-10-19T15:45:34.275345Z"
    },
    "tags": []
   },
   "outputs": [],
   "source": [
    "data_loader_0 = np.hstack([y_train[:,1],X_train])"
   ]
  },
  {
   "cell_type": "code",
   "execution_count": 67,
   "id": "60dd4a7b-6b74-49f6-a146-0d99138f9690",
   "metadata": {
    "execution": {
     "iopub.execute_input": "2022-10-19T15:45:38.650219Z",
     "iopub.status.busy": "2022-10-19T15:45:38.649825Z",
     "iopub.status.idle": "2022-10-19T15:45:38.653516Z",
     "shell.execute_reply": "2022-10-19T15:45:38.652994Z",
     "shell.execute_reply.started": "2022-10-19T15:45:38.650192Z"
    },
    "tags": []
   },
   "outputs": [],
   "source": [
    "data_frame = pd.DataFrame(data_loader_0)"
   ]
  },
  {
   "cell_type": "code",
   "execution_count": 8,
   "id": "2a2dbe8d-48a6-461a-b2df-3f385c88136c",
   "metadata": {
    "execution": {
     "iopub.execute_input": "2022-10-19T15:16:00.217098Z",
     "iopub.status.busy": "2022-10-19T15:16:00.216814Z",
     "iopub.status.idle": "2022-10-19T15:16:04.577187Z",
     "shell.execute_reply": "2022-10-19T15:16:04.576405Z",
     "shell.execute_reply.started": "2022-10-19T15:16:00.217080Z"
    },
    "tags": []
   },
   "outputs": [
    {
     "name": "stdout",
     "output_type": "stream",
     "text": [
      "Collecting git+https://github.com/BasisResearch/millipede.git\n",
      "  Cloning https://github.com/BasisResearch/millipede.git to /tmp/pip-req-build-st8bwfmm\n",
      "  Running command git clone --filter=blob:none --quiet https://github.com/BasisResearch/millipede.git /tmp/pip-req-build-st8bwfmm\n",
      "  Resolved https://github.com/BasisResearch/millipede.git to commit ecafe4194e216846600ff4f87dc02f65ce4428e2\n",
      "  Preparing metadata (setup.py) ... \u001b[?25ldone\n",
      "\u001b[?25hRequirement already satisfied: torch>=1.11 in /opt/saturncloud/envs/saturn/lib/python3.9/site-packages (from millipede==0.1.0) (1.11.0)\n",
      "Requirement already satisfied: pandas in /home/jovyan/.local/lib/python3.9/site-packages (from millipede==0.1.0) (1.3.5)\n",
      "Collecting polyagamma==1.3.2\n",
      "  Using cached polyagamma-1.3.2-cp39-cp39-manylinux_2_12_x86_64.manylinux_2_5_x86_64.manylinux1_x86_64.manylinux2010_x86_64.whl (523 kB)\n",
      "Requirement already satisfied: tqdm in /opt/saturncloud/envs/saturn/lib/python3.9/site-packages (from millipede==0.1.0) (4.64.0)\n",
      "Requirement already satisfied: numpy<2.0.0,>=1.19.0 in /opt/saturncloud/envs/saturn/lib/python3.9/site-packages (from polyagamma==1.3.2->millipede==0.1.0) (1.21.6)\n",
      "Requirement already satisfied: typing_extensions in /opt/saturncloud/envs/saturn/lib/python3.9/site-packages (from torch>=1.11->millipede==0.1.0) (4.3.0)\n",
      "Requirement already satisfied: pytz>=2017.3 in /opt/saturncloud/envs/saturn/lib/python3.9/site-packages (from pandas->millipede==0.1.0) (2022.1)\n",
      "Requirement already satisfied: python-dateutil>=2.7.3 in /opt/saturncloud/envs/saturn/lib/python3.9/site-packages (from pandas->millipede==0.1.0) (2.8.2)\n",
      "Requirement already satisfied: six>=1.5 in /opt/saturncloud/envs/saturn/lib/python3.9/site-packages (from python-dateutil>=2.7.3->pandas->millipede==0.1.0) (1.16.0)\n",
      "Building wheels for collected packages: millipede\n",
      "  Building wheel for millipede (setup.py) ... \u001b[?25ldone\n",
      "\u001b[?25h  Created wheel for millipede: filename=millipede-0.1.0-py3-none-any.whl size=33845 sha256=3b87a0c52293a8c0783509d96f60fdc47da982c657ee35218e9f944c18ceba2b\n",
      "  Stored in directory: /tmp/pip-ephem-wheel-cache-bi8rjx0n/wheels/0a/6b/57/40b20d03468593c7819cb14105caeb501b22dc304ff2f9193c\n",
      "Successfully built millipede\n",
      "Installing collected packages: polyagamma, millipede\n",
      "Successfully installed millipede-0.1.0 polyagamma-1.3.2\n"
     ]
    }
   ],
   "source": [
    "!pip install git+https://github.com/BasisResearch/millipede.git"
   ]
  },
  {
   "cell_type": "code",
   "execution_count": 69,
   "id": "ab286954-a2b3-4e2e-81fc-bf5330560c9e",
   "metadata": {
    "execution": {
     "iopub.execute_input": "2022-10-19T15:45:48.035287Z",
     "iopub.status.busy": "2022-10-19T15:45:48.034905Z",
     "iopub.status.idle": "2022-10-19T15:46:07.321227Z",
     "shell.execute_reply": "2022-10-19T15:46:07.320570Z",
     "shell.execute_reply.started": "2022-10-19T15:45:48.035259Z"
    },
    "tags": []
   },
   "outputs": [],
   "source": [
    "X_train_pca = np.genfromtxt('./pca64/X_train_64.csv',delimiter = ',')"
   ]
  },
  {
   "cell_type": "code",
   "execution_count": 70,
   "id": "f3ef6a35-0f7f-4149-8232-74e3140f997c",
   "metadata": {
    "execution": {
     "iopub.execute_input": "2022-10-19T15:46:08.672167Z",
     "iopub.status.busy": "2022-10-19T15:46:08.671790Z",
     "iopub.status.idle": "2022-10-19T15:46:11.827856Z",
     "shell.execute_reply": "2022-10-19T15:46:11.827216Z",
     "shell.execute_reply.started": "2022-10-19T15:46:08.672144Z"
    },
    "tags": []
   },
   "outputs": [],
   "source": [
    "data_loader_0 = np.hstack([data_loader_0,X_train_pca])"
   ]
  },
  {
   "cell_type": "code",
   "execution_count": 71,
   "id": "7339f1bf-8eeb-48d2-bb05-836793c95739",
   "metadata": {
    "execution": {
     "iopub.execute_input": "2022-10-19T15:46:12.804669Z",
     "iopub.status.busy": "2022-10-19T15:46:12.804262Z",
     "iopub.status.idle": "2022-10-19T15:46:12.820341Z",
     "shell.execute_reply": "2022-10-19T15:46:12.819794Z",
     "shell.execute_reply.started": "2022-10-19T15:46:12.804621Z"
    },
    "tags": []
   },
   "outputs": [],
   "source": [
    "data_frame = pd.DataFrame(data_loader_0)"
   ]
  },
  {
   "cell_type": "code",
   "execution_count": 72,
   "id": "6320049f-9637-4d57-bde2-a8a68137b94b",
   "metadata": {
    "execution": {
     "iopub.execute_input": "2022-10-19T15:46:14.700347Z",
     "iopub.status.busy": "2022-10-19T15:46:14.699990Z",
     "iopub.status.idle": "2022-10-19T15:46:14.704326Z",
     "shell.execute_reply": "2022-10-19T15:46:14.703828Z",
     "shell.execute_reply.started": "2022-10-19T15:46:14.700324Z"
    },
    "tags": []
   },
   "outputs": [
    {
     "data": {
      "text/plain": [
       "(70988, 21858)"
      ]
     },
     "execution_count": 72,
     "metadata": {},
     "output_type": "execute_result"
    }
   ],
   "source": [
    "data_frame.shape"
   ]
  },
  {
   "cell_type": "code",
   "execution_count": 73,
   "id": "af6f907b-3d64-4a8a-bdda-097b03182982",
   "metadata": {
    "execution": {
     "iopub.execute_input": "2022-10-19T15:46:27.533870Z",
     "iopub.status.busy": "2022-10-19T15:46:27.533460Z",
     "iopub.status.idle": "2022-10-19T15:46:27.714083Z",
     "shell.execute_reply": "2022-10-19T15:46:27.713490Z",
     "shell.execute_reply.started": "2022-10-19T15:46:27.533844Z"
    },
    "tags": []
   },
   "outputs": [],
   "source": [
    "del data_loader_0, X_train,y_train"
   ]
  },
  {
   "cell_type": "code",
   "execution_count": 74,
   "id": "9b64d401-fe4a-4dcb-a2b3-6852980d131d",
   "metadata": {
    "execution": {
     "iopub.execute_input": "2022-10-19T15:46:29.318423Z",
     "iopub.status.busy": "2022-10-19T15:46:29.318053Z",
     "iopub.status.idle": "2022-10-19T15:46:29.322564Z",
     "shell.execute_reply": "2022-10-19T15:46:29.322044Z",
     "shell.execute_reply.started": "2022-10-19T15:46:29.318399Z"
    },
    "tags": []
   },
   "outputs": [
    {
     "data": {
      "text/plain": [
       "5.780367940664291"
      ]
     },
     "execution_count": 74,
     "metadata": {},
     "output_type": "execute_result"
    }
   ],
   "source": [
    "data_frame.size*4/1024/1024/1024\n"
   ]
  },
  {
   "cell_type": "code",
   "execution_count": 75,
   "id": "fc7eede1-5248-49ca-ac37-5be73fe4daec",
   "metadata": {
    "execution": {
     "iopub.execute_input": "2022-10-19T15:46:38.795142Z",
     "iopub.status.busy": "2022-10-19T15:46:38.794764Z",
     "iopub.status.idle": "2022-10-19T15:46:39.753767Z",
     "shell.execute_reply": "2022-10-19T15:46:39.753136Z",
     "shell.execute_reply.started": "2022-10-19T15:46:38.795117Z"
    },
    "tags": []
   },
   "outputs": [],
   "source": [
    "from millipede import NormalLikelihoodVariableSelector\n",
    "selector = NormalLikelihoodVariableSelector(data_frame.loc[:10000],  # pass in the data\n",
    "                                            0, # indicate the column of responses\n",
    "                                            S=1000,        # specify the expected number of covariates to include a priori\n",
    "                                           device='gpu',\n",
    "                                           subset_size=1000)"
   ]
  },
  {
   "cell_type": "code",
   "execution_count": 76,
   "id": "4e0c6c67-c361-49c1-b6da-d82e0a14a05a",
   "metadata": {
    "execution": {
     "iopub.execute_input": "2022-10-19T15:46:43.829028Z",
     "iopub.status.busy": "2022-10-19T15:46:43.828613Z",
     "iopub.status.idle": "2022-10-19T15:47:44.669292Z",
     "shell.execute_reply": "2022-10-19T15:47:44.668651Z",
     "shell.execute_reply.started": "2022-10-19T15:46:43.829005Z"
    },
    "tags": []
   },
   "outputs": [
    {
     "data": {
      "application/vnd.jupyter.widget-view+json": {
       "model_id": "a260557656f74803ae200e6c07b10631",
       "version_major": 2,
       "version_minor": 0
      },
      "text/plain": [
       "  0%|          | 0/3000 [00:00<?, ?it/s]"
      ]
     },
     "metadata": {},
     "output_type": "display_data"
    }
   ],
   "source": [
    "selector.run(T=2000, T_burnin=1000, verbosity='bar', report_frequency=1, streaming=True, seed=None)"
   ]
  },
  {
   "cell_type": "code",
   "execution_count": 77,
   "id": "a6e3135e-b0b4-4ea1-91d6-c7c452a00825",
   "metadata": {
    "execution": {
     "iopub.execute_input": "2022-10-19T15:47:47.124064Z",
     "iopub.status.busy": "2022-10-19T15:47:47.123668Z",
     "iopub.status.idle": "2022-10-19T15:47:47.147555Z",
     "shell.execute_reply": "2022-10-19T15:47:47.147053Z",
     "shell.execute_reply.started": "2022-10-19T15:47:47.124039Z"
    },
    "tags": []
   },
   "outputs": [
    {
     "data": {
      "text/html": [
       "<div>\n",
       "<style scoped>\n",
       "    .dataframe tbody tr th:only-of-type {\n",
       "        vertical-align: middle;\n",
       "    }\n",
       "\n",
       "    .dataframe tbody tr th {\n",
       "        vertical-align: top;\n",
       "    }\n",
       "\n",
       "    .dataframe thead th {\n",
       "        text-align: right;\n",
       "    }\n",
       "</style>\n",
       "<table border=\"1\" class=\"dataframe\">\n",
       "  <thead>\n",
       "    <tr style=\"text-align: right;\">\n",
       "      <th></th>\n",
       "      <th>PIP</th>\n",
       "      <th>Coefficient</th>\n",
       "      <th>Coefficient StdDev</th>\n",
       "      <th>Conditional Coefficient</th>\n",
       "      <th>Conditional Coefficient StdDev</th>\n",
       "    </tr>\n",
       "  </thead>\n",
       "  <tbody>\n",
       "    <tr>\n",
       "      <th>21605</th>\n",
       "      <td>1.000000</td>\n",
       "      <td>0.001723</td>\n",
       "      <td>0.000804</td>\n",
       "      <td>0.001723</td>\n",
       "      <td>0.000804</td>\n",
       "    </tr>\n",
       "    <tr>\n",
       "      <th>16095</th>\n",
       "      <td>0.869618</td>\n",
       "      <td>-0.005794</td>\n",
       "      <td>0.003584</td>\n",
       "      <td>-0.007685</td>\n",
       "      <td>0.001584</td>\n",
       "    </tr>\n",
       "    <tr>\n",
       "      <th>11107</th>\n",
       "      <td>0.655650</td>\n",
       "      <td>-0.014475</td>\n",
       "      <td>2.061484</td>\n",
       "      <td>-0.021789</td>\n",
       "      <td>2.529205</td>\n",
       "    </tr>\n",
       "    <tr>\n",
       "      <th>17278</th>\n",
       "      <td>0.615665</td>\n",
       "      <td>-0.014055</td>\n",
       "      <td>2.008753</td>\n",
       "      <td>-0.022465</td>\n",
       "      <td>2.539616</td>\n",
       "    </tr>\n",
       "    <tr>\n",
       "      <th>21607</th>\n",
       "      <td>0.583251</td>\n",
       "      <td>-0.000673</td>\n",
       "      <td>0.000938</td>\n",
       "      <td>-0.001151</td>\n",
       "      <td>0.000977</td>\n",
       "    </tr>\n",
       "    <tr>\n",
       "      <th>9695</th>\n",
       "      <td>0.513235</td>\n",
       "      <td>-0.034276</td>\n",
       "      <td>1.912190</td>\n",
       "      <td>-0.065931</td>\n",
       "      <td>2.651675</td>\n",
       "    </tr>\n",
       "    <tr>\n",
       "      <th>7885</th>\n",
       "      <td>0.497594</td>\n",
       "      <td>0.028206</td>\n",
       "      <td>1.840328</td>\n",
       "      <td>0.055871</td>\n",
       "      <td>2.589795</td>\n",
       "    </tr>\n",
       "    <tr>\n",
       "      <th>2773</th>\n",
       "      <td>0.440364</td>\n",
       "      <td>0.012374</td>\n",
       "      <td>1.702930</td>\n",
       "      <td>0.027522</td>\n",
       "      <td>2.539579</td>\n",
       "    </tr>\n",
       "    <tr>\n",
       "      <th>6003</th>\n",
       "      <td>0.418774</td>\n",
       "      <td>-0.041943</td>\n",
       "      <td>1.665641</td>\n",
       "      <td>-0.099085</td>\n",
       "      <td>2.558968</td>\n",
       "    </tr>\n",
       "    <tr>\n",
       "      <th>9356</th>\n",
       "      <td>0.397690</td>\n",
       "      <td>0.019387</td>\n",
       "      <td>1.761053</td>\n",
       "      <td>0.048207</td>\n",
       "      <td>2.776706</td>\n",
       "    </tr>\n",
       "    <tr>\n",
       "      <th>1787</th>\n",
       "      <td>0.387349</td>\n",
       "      <td>0.000068</td>\n",
       "      <td>0.007348</td>\n",
       "      <td>0.000174</td>\n",
       "      <td>0.011742</td>\n",
       "    </tr>\n",
       "    <tr>\n",
       "      <th>2768</th>\n",
       "      <td>0.380296</td>\n",
       "      <td>0.004470</td>\n",
       "      <td>1.630972</td>\n",
       "      <td>0.011598</td>\n",
       "      <td>2.627055</td>\n",
       "    </tr>\n",
       "    <tr>\n",
       "      <th>3203</th>\n",
       "      <td>0.378734</td>\n",
       "      <td>-0.034821</td>\n",
       "      <td>1.695018</td>\n",
       "      <td>-0.090568</td>\n",
       "      <td>2.732712</td>\n",
       "    </tr>\n",
       "    <tr>\n",
       "      <th>16688</th>\n",
       "      <td>0.374254</td>\n",
       "      <td>0.026581</td>\n",
       "      <td>1.669692</td>\n",
       "      <td>0.070549</td>\n",
       "      <td>2.719615</td>\n",
       "    </tr>\n",
       "    <tr>\n",
       "      <th>8995</th>\n",
       "      <td>0.373369</td>\n",
       "      <td>-0.011875</td>\n",
       "      <td>1.575328</td>\n",
       "      <td>-0.031247</td>\n",
       "      <td>2.555309</td>\n",
       "    </tr>\n",
       "    <tr>\n",
       "      <th>19712</th>\n",
       "      <td>0.364229</td>\n",
       "      <td>-0.009265</td>\n",
       "      <td>1.632519</td>\n",
       "      <td>-0.025024</td>\n",
       "      <td>2.682831</td>\n",
       "    </tr>\n",
       "    <tr>\n",
       "      <th>11342</th>\n",
       "      <td>0.359821</td>\n",
       "      <td>0.033423</td>\n",
       "      <td>1.529605</td>\n",
       "      <td>0.091596</td>\n",
       "      <td>2.531139</td>\n",
       "    </tr>\n",
       "    <tr>\n",
       "      <th>14242</th>\n",
       "      <td>0.355215</td>\n",
       "      <td>-0.031027</td>\n",
       "      <td>1.488252</td>\n",
       "      <td>-0.086519</td>\n",
       "      <td>2.484235</td>\n",
       "    </tr>\n",
       "    <tr>\n",
       "      <th>16852</th>\n",
       "      <td>0.351490</td>\n",
       "      <td>0.003986</td>\n",
       "      <td>1.518444</td>\n",
       "      <td>0.011180</td>\n",
       "      <td>2.543183</td>\n",
       "    </tr>\n",
       "    <tr>\n",
       "      <th>4464</th>\n",
       "      <td>0.346733</td>\n",
       "      <td>0.014104</td>\n",
       "      <td>1.507565</td>\n",
       "      <td>0.039827</td>\n",
       "      <td>2.533161</td>\n",
       "    </tr>\n",
       "    <tr>\n",
       "      <th>6986</th>\n",
       "      <td>0.337646</td>\n",
       "      <td>0.043100</td>\n",
       "      <td>1.526393</td>\n",
       "      <td>0.126090</td>\n",
       "      <td>2.608763</td>\n",
       "    </tr>\n",
       "    <tr>\n",
       "      <th>8269</th>\n",
       "      <td>0.326042</td>\n",
       "      <td>0.002363</td>\n",
       "      <td>1.464305</td>\n",
       "      <td>0.007165</td>\n",
       "      <td>2.549627</td>\n",
       "    </tr>\n",
       "    <tr>\n",
       "      <th>18959</th>\n",
       "      <td>0.317950</td>\n",
       "      <td>-0.021579</td>\n",
       "      <td>1.421154</td>\n",
       "      <td>-0.066716</td>\n",
       "      <td>2.498260</td>\n",
       "    </tr>\n",
       "    <tr>\n",
       "      <th>5007</th>\n",
       "      <td>0.285091</td>\n",
       "      <td>-0.000964</td>\n",
       "      <td>1.348231</td>\n",
       "      <td>-0.003346</td>\n",
       "      <td>2.511907</td>\n",
       "    </tr>\n",
       "    <tr>\n",
       "      <th>12832</th>\n",
       "      <td>0.281314</td>\n",
       "      <td>-0.015457</td>\n",
       "      <td>1.418720</td>\n",
       "      <td>-0.054455</td>\n",
       "      <td>2.662467</td>\n",
       "    </tr>\n",
       "    <tr>\n",
       "      <th>7147</th>\n",
       "      <td>0.281085</td>\n",
       "      <td>-0.035988</td>\n",
       "      <td>1.393544</td>\n",
       "      <td>-0.125938</td>\n",
       "      <td>2.604701</td>\n",
       "    </tr>\n",
       "    <tr>\n",
       "      <th>16679</th>\n",
       "      <td>0.280283</td>\n",
       "      <td>-0.016577</td>\n",
       "      <td>0.024183</td>\n",
       "      <td>-0.051148</td>\n",
       "      <td>0.006013</td>\n",
       "    </tr>\n",
       "    <tr>\n",
       "      <th>2992</th>\n",
       "      <td>0.278170</td>\n",
       "      <td>0.038155</td>\n",
       "      <td>1.352566</td>\n",
       "      <td>0.135245</td>\n",
       "      <td>2.543908</td>\n",
       "    </tr>\n",
       "    <tr>\n",
       "      <th>690</th>\n",
       "      <td>0.273721</td>\n",
       "      <td>-0.026372</td>\n",
       "      <td>1.351494</td>\n",
       "      <td>-0.094488</td>\n",
       "      <td>2.556934</td>\n",
       "    </tr>\n",
       "    <tr>\n",
       "      <th>540</th>\n",
       "      <td>0.268647</td>\n",
       "      <td>-0.007153</td>\n",
       "      <td>0.012520</td>\n",
       "      <td>-0.026417</td>\n",
       "      <td>0.008365</td>\n",
       "    </tr>\n",
       "    <tr>\n",
       "      <th>14713</th>\n",
       "      <td>0.267602</td>\n",
       "      <td>0.000073</td>\n",
       "      <td>1.276302</td>\n",
       "      <td>0.000270</td>\n",
       "      <td>2.452445</td>\n",
       "    </tr>\n",
       "    <tr>\n",
       "      <th>8074</th>\n",
       "      <td>0.265839</td>\n",
       "      <td>-0.013850</td>\n",
       "      <td>0.026687</td>\n",
       "      <td>-0.051123</td>\n",
       "      <td>0.026894</td>\n",
       "    </tr>\n",
       "    <tr>\n",
       "      <th>5209</th>\n",
       "      <td>0.255223</td>\n",
       "      <td>0.052284</td>\n",
       "      <td>1.252354</td>\n",
       "      <td>0.201443</td>\n",
       "      <td>2.452091</td>\n",
       "    </tr>\n",
       "    <tr>\n",
       "      <th>4302</th>\n",
       "      <td>0.254611</td>\n",
       "      <td>0.010827</td>\n",
       "      <td>1.384167</td>\n",
       "      <td>0.042186</td>\n",
       "      <td>2.732038</td>\n",
       "    </tr>\n",
       "    <tr>\n",
       "      <th>10323</th>\n",
       "      <td>0.249892</td>\n",
       "      <td>0.010769</td>\n",
       "      <td>1.363822</td>\n",
       "      <td>0.042314</td>\n",
       "      <td>2.703199</td>\n",
       "    </tr>\n",
       "    <tr>\n",
       "      <th>4459</th>\n",
       "      <td>0.248040</td>\n",
       "      <td>-0.019999</td>\n",
       "      <td>1.296125</td>\n",
       "      <td>-0.079652</td>\n",
       "      <td>2.585724</td>\n",
       "    </tr>\n",
       "    <tr>\n",
       "      <th>16307</th>\n",
       "      <td>0.245492</td>\n",
       "      <td>0.032877</td>\n",
       "      <td>1.287526</td>\n",
       "      <td>0.132459</td>\n",
       "      <td>2.581791</td>\n",
       "    </tr>\n",
       "    <tr>\n",
       "      <th>18539</th>\n",
       "      <td>0.245017</td>\n",
       "      <td>0.032627</td>\n",
       "      <td>1.264142</td>\n",
       "      <td>0.131047</td>\n",
       "      <td>2.530960</td>\n",
       "    </tr>\n",
       "    <tr>\n",
       "      <th>19376</th>\n",
       "      <td>0.243003</td>\n",
       "      <td>0.022516</td>\n",
       "      <td>1.324519</td>\n",
       "      <td>0.091984</td>\n",
       "      <td>2.675964</td>\n",
       "    </tr>\n",
       "    <tr>\n",
       "      <th>5546</th>\n",
       "      <td>0.237882</td>\n",
       "      <td>0.010171</td>\n",
       "      <td>1.203685</td>\n",
       "      <td>0.042369</td>\n",
       "      <td>2.456394</td>\n",
       "    </tr>\n",
       "    <tr>\n",
       "      <th>1359</th>\n",
       "      <td>0.237447</td>\n",
       "      <td>-0.036297</td>\n",
       "      <td>1.331063</td>\n",
       "      <td>-0.150893</td>\n",
       "      <td>2.710745</td>\n",
       "    </tr>\n",
       "    <tr>\n",
       "      <th>4170</th>\n",
       "      <td>0.232062</td>\n",
       "      <td>0.037548</td>\n",
       "      <td>1.303902</td>\n",
       "      <td>0.159775</td>\n",
       "      <td>2.686080</td>\n",
       "    </tr>\n",
       "    <tr>\n",
       "      <th>4204</th>\n",
       "      <td>0.227551</td>\n",
       "      <td>0.035010</td>\n",
       "      <td>1.304718</td>\n",
       "      <td>0.152142</td>\n",
       "      <td>2.716585</td>\n",
       "    </tr>\n",
       "    <tr>\n",
       "      <th>21127</th>\n",
       "      <td>0.226657</td>\n",
       "      <td>0.022916</td>\n",
       "      <td>1.252452</td>\n",
       "      <td>0.099930</td>\n",
       "      <td>2.613940</td>\n",
       "    </tr>\n",
       "    <tr>\n",
       "      <th>390</th>\n",
       "      <td>0.222389</td>\n",
       "      <td>-0.039705</td>\n",
       "      <td>1.158227</td>\n",
       "      <td>-0.176011</td>\n",
       "      <td>2.433692</td>\n",
       "    </tr>\n",
       "    <tr>\n",
       "      <th>14171</th>\n",
       "      <td>0.222271</td>\n",
       "      <td>0.005165</td>\n",
       "      <td>0.010079</td>\n",
       "      <td>0.022827</td>\n",
       "      <td>0.006763</td>\n",
       "    </tr>\n",
       "    <tr>\n",
       "      <th>4072</th>\n",
       "      <td>0.220749</td>\n",
       "      <td>-0.000484</td>\n",
       "      <td>0.006696</td>\n",
       "      <td>-0.002162</td>\n",
       "      <td>0.014020</td>\n",
       "    </tr>\n",
       "    <tr>\n",
       "      <th>516</th>\n",
       "      <td>0.217651</td>\n",
       "      <td>0.088948</td>\n",
       "      <td>1.280152</td>\n",
       "      <td>0.403969</td>\n",
       "      <td>2.704725</td>\n",
       "    </tr>\n",
       "    <tr>\n",
       "      <th>10111</th>\n",
       "      <td>0.215908</td>\n",
       "      <td>0.015079</td>\n",
       "      <td>1.206370</td>\n",
       "      <td>0.068753</td>\n",
       "      <td>2.575267</td>\n",
       "    </tr>\n",
       "    <tr>\n",
       "      <th>17211</th>\n",
       "      <td>0.214805</td>\n",
       "      <td>-0.034423</td>\n",
       "      <td>1.288646</td>\n",
       "      <td>-0.158293</td>\n",
       "      <td>2.759815</td>\n",
       "    </tr>\n",
       "    <tr>\n",
       "      <th>8807</th>\n",
       "      <td>0.207607</td>\n",
       "      <td>0.012272</td>\n",
       "      <td>1.213921</td>\n",
       "      <td>0.058364</td>\n",
       "      <td>2.646859</td>\n",
       "    </tr>\n",
       "    <tr>\n",
       "      <th>11414</th>\n",
       "      <td>0.207196</td>\n",
       "      <td>0.018878</td>\n",
       "      <td>1.197438</td>\n",
       "      <td>0.089862</td>\n",
       "      <td>2.611331</td>\n",
       "    </tr>\n",
       "    <tr>\n",
       "      <th>16478</th>\n",
       "      <td>0.205566</td>\n",
       "      <td>-0.008327</td>\n",
       "      <td>1.095857</td>\n",
       "      <td>-0.039896</td>\n",
       "      <td>2.398345</td>\n",
       "    </tr>\n",
       "    <tr>\n",
       "      <th>4826</th>\n",
       "      <td>0.202800</td>\n",
       "      <td>-0.015080</td>\n",
       "      <td>1.147108</td>\n",
       "      <td>-0.073792</td>\n",
       "      <td>2.536670</td>\n",
       "    </tr>\n",
       "    <tr>\n",
       "      <th>10758</th>\n",
       "      <td>0.200401</td>\n",
       "      <td>-0.009041</td>\n",
       "      <td>1.139938</td>\n",
       "      <td>-0.044375</td>\n",
       "      <td>2.525184</td>\n",
       "    </tr>\n",
       "    <tr>\n",
       "      <th>11825</th>\n",
       "      <td>0.199215</td>\n",
       "      <td>0.002696</td>\n",
       "      <td>0.006564</td>\n",
       "      <td>0.013318</td>\n",
       "      <td>0.008452</td>\n",
       "    </tr>\n",
       "    <tr>\n",
       "      <th>4721</th>\n",
       "      <td>0.198415</td>\n",
       "      <td>-0.038930</td>\n",
       "      <td>1.111872</td>\n",
       "      <td>-0.194009</td>\n",
       "      <td>2.476056</td>\n",
       "    </tr>\n",
       "    <tr>\n",
       "      <th>14318</th>\n",
       "      <td>0.196948</td>\n",
       "      <td>0.022038</td>\n",
       "      <td>1.077263</td>\n",
       "      <td>0.110108</td>\n",
       "      <td>2.405907</td>\n",
       "    </tr>\n",
       "    <tr>\n",
       "      <th>14629</th>\n",
       "      <td>0.190947</td>\n",
       "      <td>-0.009728</td>\n",
       "      <td>1.199430</td>\n",
       "      <td>-0.049511</td>\n",
       "      <td>2.705590</td>\n",
       "    </tr>\n",
       "    <tr>\n",
       "      <th>9189</th>\n",
       "      <td>0.190547</td>\n",
       "      <td>-0.018372</td>\n",
       "      <td>1.112283</td>\n",
       "      <td>-0.095412</td>\n",
       "      <td>2.533300</td>\n",
       "    </tr>\n",
       "    <tr>\n",
       "      <th>4961</th>\n",
       "      <td>0.187862</td>\n",
       "      <td>-0.021812</td>\n",
       "      <td>1.104918</td>\n",
       "      <td>-0.114557</td>\n",
       "      <td>2.530065</td>\n",
       "    </tr>\n",
       "    <tr>\n",
       "      <th>2177</th>\n",
       "      <td>0.187137</td>\n",
       "      <td>-0.007532</td>\n",
       "      <td>1.115510</td>\n",
       "      <td>-0.039672</td>\n",
       "      <td>2.559796</td>\n",
       "    </tr>\n",
       "    <tr>\n",
       "      <th>2168</th>\n",
       "      <td>0.180763</td>\n",
       "      <td>0.007535</td>\n",
       "      <td>1.019901</td>\n",
       "      <td>0.041436</td>\n",
       "      <td>2.391391</td>\n",
       "    </tr>\n",
       "    <tr>\n",
       "      <th>3762</th>\n",
       "      <td>0.179714</td>\n",
       "      <td>-0.042102</td>\n",
       "      <td>1.133405</td>\n",
       "      <td>-0.231052</td>\n",
       "      <td>2.646918</td>\n",
       "    </tr>\n",
       "    <tr>\n",
       "      <th>2089</th>\n",
       "      <td>0.177748</td>\n",
       "      <td>-0.012362</td>\n",
       "      <td>1.114011</td>\n",
       "      <td>-0.068323</td>\n",
       "      <td>2.618193</td>\n",
       "    </tr>\n",
       "    <tr>\n",
       "      <th>9353</th>\n",
       "      <td>0.173787</td>\n",
       "      <td>-0.002721</td>\n",
       "      <td>0.005942</td>\n",
       "      <td>-0.015297</td>\n",
       "      <td>0.002467</td>\n",
       "    </tr>\n",
       "    <tr>\n",
       "      <th>15860</th>\n",
       "      <td>0.173236</td>\n",
       "      <td>0.010044</td>\n",
       "      <td>1.104936</td>\n",
       "      <td>0.056974</td>\n",
       "      <td>2.631128</td>\n",
       "    </tr>\n",
       "    <tr>\n",
       "      <th>17797</th>\n",
       "      <td>0.172959</td>\n",
       "      <td>-0.001046</td>\n",
       "      <td>1.109589</td>\n",
       "      <td>-0.006000</td>\n",
       "      <td>2.656967</td>\n",
       "    </tr>\n",
       "    <tr>\n",
       "      <th>18232</th>\n",
       "      <td>0.172365</td>\n",
       "      <td>0.018428</td>\n",
       "      <td>1.108770</td>\n",
       "      <td>0.105697</td>\n",
       "      <td>2.653653</td>\n",
       "    </tr>\n",
       "    <tr>\n",
       "      <th>10206</th>\n",
       "      <td>0.171340</td>\n",
       "      <td>0.024010</td>\n",
       "      <td>1.106197</td>\n",
       "      <td>0.137071</td>\n",
       "      <td>2.640130</td>\n",
       "    </tr>\n",
       "    <tr>\n",
       "      <th>1075</th>\n",
       "      <td>0.170826</td>\n",
       "      <td>-0.030522</td>\n",
       "      <td>1.069221</td>\n",
       "      <td>-0.175315</td>\n",
       "      <td>2.557562</td>\n",
       "    </tr>\n",
       "    <tr>\n",
       "      <th>14038</th>\n",
       "      <td>0.169197</td>\n",
       "      <td>0.025473</td>\n",
       "      <td>1.089682</td>\n",
       "      <td>0.148494</td>\n",
       "      <td>2.627466</td>\n",
       "    </tr>\n",
       "    <tr>\n",
       "      <th>14063</th>\n",
       "      <td>0.167507</td>\n",
       "      <td>0.008985</td>\n",
       "      <td>1.017074</td>\n",
       "      <td>0.052820</td>\n",
       "      <td>2.465528</td>\n",
       "    </tr>\n",
       "    <tr>\n",
       "      <th>364</th>\n",
       "      <td>0.166492</td>\n",
       "      <td>0.002050</td>\n",
       "      <td>1.029684</td>\n",
       "      <td>0.012097</td>\n",
       "      <td>2.501493</td>\n",
       "    </tr>\n",
       "    <tr>\n",
       "      <th>18859</th>\n",
       "      <td>0.165698</td>\n",
       "      <td>-0.020286</td>\n",
       "      <td>1.107909</td>\n",
       "      <td>-0.120299</td>\n",
       "      <td>2.695761</td>\n",
       "    </tr>\n",
       "    <tr>\n",
       "      <th>424</th>\n",
       "      <td>0.161088</td>\n",
       "      <td>0.030396</td>\n",
       "      <td>1.025839</td>\n",
       "      <td>0.185051</td>\n",
       "      <td>2.525490</td>\n",
       "    </tr>\n",
       "    <tr>\n",
       "      <th>4352</th>\n",
       "      <td>0.157114</td>\n",
       "      <td>0.030717</td>\n",
       "      <td>1.070844</td>\n",
       "      <td>0.194370</td>\n",
       "      <td>2.687819</td>\n",
       "    </tr>\n",
       "    <tr>\n",
       "      <th>18610</th>\n",
       "      <td>0.155475</td>\n",
       "      <td>0.010805</td>\n",
       "      <td>0.940213</td>\n",
       "      <td>0.069020</td>\n",
       "      <td>2.375447</td>\n",
       "    </tr>\n",
       "    <tr>\n",
       "      <th>248</th>\n",
       "      <td>0.151548</td>\n",
       "      <td>0.002364</td>\n",
       "      <td>1.000854</td>\n",
       "      <td>0.015463</td>\n",
       "      <td>2.559882</td>\n",
       "    </tr>\n",
       "    <tr>\n",
       "      <th>16554</th>\n",
       "      <td>0.150690</td>\n",
       "      <td>-0.007867</td>\n",
       "      <td>1.054057</td>\n",
       "      <td>-0.050967</td>\n",
       "      <td>2.682429</td>\n",
       "    </tr>\n",
       "    <tr>\n",
       "      <th>3889</th>\n",
       "      <td>0.150530</td>\n",
       "      <td>0.038544</td>\n",
       "      <td>1.077154</td>\n",
       "      <td>0.250751</td>\n",
       "      <td>2.737705</td>\n",
       "    </tr>\n",
       "    <tr>\n",
       "      <th>7789</th>\n",
       "      <td>0.147962</td>\n",
       "      <td>-0.002052</td>\n",
       "      <td>0.969997</td>\n",
       "      <td>-0.013752</td>\n",
       "      <td>2.511096</td>\n",
       "    </tr>\n",
       "    <tr>\n",
       "      <th>19517</th>\n",
       "      <td>0.147328</td>\n",
       "      <td>-0.014846</td>\n",
       "      <td>0.992953</td>\n",
       "      <td>-0.098777</td>\n",
       "      <td>2.559595</td>\n",
       "    </tr>\n",
       "    <tr>\n",
       "      <th>10418</th>\n",
       "      <td>0.146695</td>\n",
       "      <td>-0.019325</td>\n",
       "      <td>1.048456</td>\n",
       "      <td>-0.128798</td>\n",
       "      <td>2.704143</td>\n",
       "    </tr>\n",
       "    <tr>\n",
       "      <th>19635</th>\n",
       "      <td>0.145958</td>\n",
       "      <td>-0.005897</td>\n",
       "      <td>0.015033</td>\n",
       "      <td>-0.044004</td>\n",
       "      <td>0.003072</td>\n",
       "    </tr>\n",
       "    <tr>\n",
       "      <th>7313</th>\n",
       "      <td>0.145788</td>\n",
       "      <td>-0.005611</td>\n",
       "      <td>1.008297</td>\n",
       "      <td>-0.037907</td>\n",
       "      <td>2.620662</td>\n",
       "    </tr>\n",
       "    <tr>\n",
       "      <th>20661</th>\n",
       "      <td>0.144609</td>\n",
       "      <td>-0.034058</td>\n",
       "      <td>1.019503</td>\n",
       "      <td>-0.234127</td>\n",
       "      <td>2.664273</td>\n",
       "    </tr>\n",
       "    <tr>\n",
       "      <th>15157</th>\n",
       "      <td>0.144254</td>\n",
       "      <td>-0.034601</td>\n",
       "      <td>0.996545</td>\n",
       "      <td>-0.237906</td>\n",
       "      <td>2.603816</td>\n",
       "    </tr>\n",
       "    <tr>\n",
       "      <th>16907</th>\n",
       "      <td>0.143412</td>\n",
       "      <td>-0.007299</td>\n",
       "      <td>0.965245</td>\n",
       "      <td>-0.049971</td>\n",
       "      <td>2.525249</td>\n",
       "    </tr>\n",
       "    <tr>\n",
       "      <th>16558</th>\n",
       "      <td>0.141304</td>\n",
       "      <td>0.013543</td>\n",
       "      <td>0.986539</td>\n",
       "      <td>0.094401</td>\n",
       "      <td>2.603156</td>\n",
       "    </tr>\n",
       "    <tr>\n",
       "      <th>7947</th>\n",
       "      <td>0.140732</td>\n",
       "      <td>0.006161</td>\n",
       "      <td>0.015998</td>\n",
       "      <td>0.042471</td>\n",
       "      <td>0.014905</td>\n",
       "    </tr>\n",
       "    <tr>\n",
       "      <th>284</th>\n",
       "      <td>0.139653</td>\n",
       "      <td>-0.025715</td>\n",
       "      <td>0.913650</td>\n",
       "      <td>-0.183160</td>\n",
       "      <td>2.432453</td>\n",
       "    </tr>\n",
       "    <tr>\n",
       "      <th>9384</th>\n",
       "      <td>0.139256</td>\n",
       "      <td>-0.023802</td>\n",
       "      <td>0.940109</td>\n",
       "      <td>-0.169494</td>\n",
       "      <td>2.503781</td>\n",
       "    </tr>\n",
       "    <tr>\n",
       "      <th>16200</th>\n",
       "      <td>0.138489</td>\n",
       "      <td>-0.041275</td>\n",
       "      <td>0.974535</td>\n",
       "      <td>-0.294621</td>\n",
       "      <td>2.589311</td>\n",
       "    </tr>\n",
       "    <tr>\n",
       "      <th>67</th>\n",
       "      <td>0.137986</td>\n",
       "      <td>-0.021774</td>\n",
       "      <td>0.953807</td>\n",
       "      <td>-0.156768</td>\n",
       "      <td>2.555126</td>\n",
       "    </tr>\n",
       "    <tr>\n",
       "      <th>1219</th>\n",
       "      <td>0.135945</td>\n",
       "      <td>0.043263</td>\n",
       "      <td>0.946451</td>\n",
       "      <td>0.313255</td>\n",
       "      <td>2.530117</td>\n",
       "    </tr>\n",
       "    <tr>\n",
       "      <th>9745</th>\n",
       "      <td>0.135941</td>\n",
       "      <td>-0.022198</td>\n",
       "      <td>1.001801</td>\n",
       "      <td>-0.162552</td>\n",
       "      <td>2.706756</td>\n",
       "    </tr>\n",
       "    <tr>\n",
       "      <th>20277</th>\n",
       "      <td>0.134327</td>\n",
       "      <td>0.000240</td>\n",
       "      <td>1.011615</td>\n",
       "      <td>0.001758</td>\n",
       "      <td>2.737801</td>\n",
       "    </tr>\n",
       "    <tr>\n",
       "      <th>4112</th>\n",
       "      <td>0.134089</td>\n",
       "      <td>-0.002358</td>\n",
       "      <td>0.959524</td>\n",
       "      <td>-0.017255</td>\n",
       "      <td>2.595762</td>\n",
       "    </tr>\n",
       "    <tr>\n",
       "      <th>4336</th>\n",
       "      <td>0.132696</td>\n",
       "      <td>0.026177</td>\n",
       "      <td>0.942730</td>\n",
       "      <td>0.196447</td>\n",
       "      <td>2.576068</td>\n",
       "    </tr>\n",
       "  </tbody>\n",
       "</table>\n",
       "</div>"
      ],
      "text/plain": [
       "            PIP  Coefficient  Coefficient StdDev  Conditional Coefficient  \\\n",
       "21605  1.000000     0.001723            0.000804                 0.001723   \n",
       "16095  0.869618    -0.005794            0.003584                -0.007685   \n",
       "11107  0.655650    -0.014475            2.061484                -0.021789   \n",
       "17278  0.615665    -0.014055            2.008753                -0.022465   \n",
       "21607  0.583251    -0.000673            0.000938                -0.001151   \n",
       "9695   0.513235    -0.034276            1.912190                -0.065931   \n",
       "7885   0.497594     0.028206            1.840328                 0.055871   \n",
       "2773   0.440364     0.012374            1.702930                 0.027522   \n",
       "6003   0.418774    -0.041943            1.665641                -0.099085   \n",
       "9356   0.397690     0.019387            1.761053                 0.048207   \n",
       "1787   0.387349     0.000068            0.007348                 0.000174   \n",
       "2768   0.380296     0.004470            1.630972                 0.011598   \n",
       "3203   0.378734    -0.034821            1.695018                -0.090568   \n",
       "16688  0.374254     0.026581            1.669692                 0.070549   \n",
       "8995   0.373369    -0.011875            1.575328                -0.031247   \n",
       "19712  0.364229    -0.009265            1.632519                -0.025024   \n",
       "11342  0.359821     0.033423            1.529605                 0.091596   \n",
       "14242  0.355215    -0.031027            1.488252                -0.086519   \n",
       "16852  0.351490     0.003986            1.518444                 0.011180   \n",
       "4464   0.346733     0.014104            1.507565                 0.039827   \n",
       "6986   0.337646     0.043100            1.526393                 0.126090   \n",
       "8269   0.326042     0.002363            1.464305                 0.007165   \n",
       "18959  0.317950    -0.021579            1.421154                -0.066716   \n",
       "5007   0.285091    -0.000964            1.348231                -0.003346   \n",
       "12832  0.281314    -0.015457            1.418720                -0.054455   \n",
       "7147   0.281085    -0.035988            1.393544                -0.125938   \n",
       "16679  0.280283    -0.016577            0.024183                -0.051148   \n",
       "2992   0.278170     0.038155            1.352566                 0.135245   \n",
       "690    0.273721    -0.026372            1.351494                -0.094488   \n",
       "540    0.268647    -0.007153            0.012520                -0.026417   \n",
       "14713  0.267602     0.000073            1.276302                 0.000270   \n",
       "8074   0.265839    -0.013850            0.026687                -0.051123   \n",
       "5209   0.255223     0.052284            1.252354                 0.201443   \n",
       "4302   0.254611     0.010827            1.384167                 0.042186   \n",
       "10323  0.249892     0.010769            1.363822                 0.042314   \n",
       "4459   0.248040    -0.019999            1.296125                -0.079652   \n",
       "16307  0.245492     0.032877            1.287526                 0.132459   \n",
       "18539  0.245017     0.032627            1.264142                 0.131047   \n",
       "19376  0.243003     0.022516            1.324519                 0.091984   \n",
       "5546   0.237882     0.010171            1.203685                 0.042369   \n",
       "1359   0.237447    -0.036297            1.331063                -0.150893   \n",
       "4170   0.232062     0.037548            1.303902                 0.159775   \n",
       "4204   0.227551     0.035010            1.304718                 0.152142   \n",
       "21127  0.226657     0.022916            1.252452                 0.099930   \n",
       "390    0.222389    -0.039705            1.158227                -0.176011   \n",
       "14171  0.222271     0.005165            0.010079                 0.022827   \n",
       "4072   0.220749    -0.000484            0.006696                -0.002162   \n",
       "516    0.217651     0.088948            1.280152                 0.403969   \n",
       "10111  0.215908     0.015079            1.206370                 0.068753   \n",
       "17211  0.214805    -0.034423            1.288646                -0.158293   \n",
       "8807   0.207607     0.012272            1.213921                 0.058364   \n",
       "11414  0.207196     0.018878            1.197438                 0.089862   \n",
       "16478  0.205566    -0.008327            1.095857                -0.039896   \n",
       "4826   0.202800    -0.015080            1.147108                -0.073792   \n",
       "10758  0.200401    -0.009041            1.139938                -0.044375   \n",
       "11825  0.199215     0.002696            0.006564                 0.013318   \n",
       "4721   0.198415    -0.038930            1.111872                -0.194009   \n",
       "14318  0.196948     0.022038            1.077263                 0.110108   \n",
       "14629  0.190947    -0.009728            1.199430                -0.049511   \n",
       "9189   0.190547    -0.018372            1.112283                -0.095412   \n",
       "4961   0.187862    -0.021812            1.104918                -0.114557   \n",
       "2177   0.187137    -0.007532            1.115510                -0.039672   \n",
       "2168   0.180763     0.007535            1.019901                 0.041436   \n",
       "3762   0.179714    -0.042102            1.133405                -0.231052   \n",
       "2089   0.177748    -0.012362            1.114011                -0.068323   \n",
       "9353   0.173787    -0.002721            0.005942                -0.015297   \n",
       "15860  0.173236     0.010044            1.104936                 0.056974   \n",
       "17797  0.172959    -0.001046            1.109589                -0.006000   \n",
       "18232  0.172365     0.018428            1.108770                 0.105697   \n",
       "10206  0.171340     0.024010            1.106197                 0.137071   \n",
       "1075   0.170826    -0.030522            1.069221                -0.175315   \n",
       "14038  0.169197     0.025473            1.089682                 0.148494   \n",
       "14063  0.167507     0.008985            1.017074                 0.052820   \n",
       "364    0.166492     0.002050            1.029684                 0.012097   \n",
       "18859  0.165698    -0.020286            1.107909                -0.120299   \n",
       "424    0.161088     0.030396            1.025839                 0.185051   \n",
       "4352   0.157114     0.030717            1.070844                 0.194370   \n",
       "18610  0.155475     0.010805            0.940213                 0.069020   \n",
       "248    0.151548     0.002364            1.000854                 0.015463   \n",
       "16554  0.150690    -0.007867            1.054057                -0.050967   \n",
       "3889   0.150530     0.038544            1.077154                 0.250751   \n",
       "7789   0.147962    -0.002052            0.969997                -0.013752   \n",
       "19517  0.147328    -0.014846            0.992953                -0.098777   \n",
       "10418  0.146695    -0.019325            1.048456                -0.128798   \n",
       "19635  0.145958    -0.005897            0.015033                -0.044004   \n",
       "7313   0.145788    -0.005611            1.008297                -0.037907   \n",
       "20661  0.144609    -0.034058            1.019503                -0.234127   \n",
       "15157  0.144254    -0.034601            0.996545                -0.237906   \n",
       "16907  0.143412    -0.007299            0.965245                -0.049971   \n",
       "16558  0.141304     0.013543            0.986539                 0.094401   \n",
       "7947   0.140732     0.006161            0.015998                 0.042471   \n",
       "284    0.139653    -0.025715            0.913650                -0.183160   \n",
       "9384   0.139256    -0.023802            0.940109                -0.169494   \n",
       "16200  0.138489    -0.041275            0.974535                -0.294621   \n",
       "67     0.137986    -0.021774            0.953807                -0.156768   \n",
       "1219   0.135945     0.043263            0.946451                 0.313255   \n",
       "9745   0.135941    -0.022198            1.001801                -0.162552   \n",
       "20277  0.134327     0.000240            1.011615                 0.001758   \n",
       "4112   0.134089    -0.002358            0.959524                -0.017255   \n",
       "4336   0.132696     0.026177            0.942730                 0.196447   \n",
       "\n",
       "       Conditional Coefficient StdDev  \n",
       "21605                        0.000804  \n",
       "16095                        0.001584  \n",
       "11107                        2.529205  \n",
       "17278                        2.539616  \n",
       "21607                        0.000977  \n",
       "9695                         2.651675  \n",
       "7885                         2.589795  \n",
       "2773                         2.539579  \n",
       "6003                         2.558968  \n",
       "9356                         2.776706  \n",
       "1787                         0.011742  \n",
       "2768                         2.627055  \n",
       "3203                         2.732712  \n",
       "16688                        2.719615  \n",
       "8995                         2.555309  \n",
       "19712                        2.682831  \n",
       "11342                        2.531139  \n",
       "14242                        2.484235  \n",
       "16852                        2.543183  \n",
       "4464                         2.533161  \n",
       "6986                         2.608763  \n",
       "8269                         2.549627  \n",
       "18959                        2.498260  \n",
       "5007                         2.511907  \n",
       "12832                        2.662467  \n",
       "7147                         2.604701  \n",
       "16679                        0.006013  \n",
       "2992                         2.543908  \n",
       "690                          2.556934  \n",
       "540                          0.008365  \n",
       "14713                        2.452445  \n",
       "8074                         0.026894  \n",
       "5209                         2.452091  \n",
       "4302                         2.732038  \n",
       "10323                        2.703199  \n",
       "4459                         2.585724  \n",
       "16307                        2.581791  \n",
       "18539                        2.530960  \n",
       "19376                        2.675964  \n",
       "5546                         2.456394  \n",
       "1359                         2.710745  \n",
       "4170                         2.686080  \n",
       "4204                         2.716585  \n",
       "21127                        2.613940  \n",
       "390                          2.433692  \n",
       "14171                        0.006763  \n",
       "4072                         0.014020  \n",
       "516                          2.704725  \n",
       "10111                        2.575267  \n",
       "17211                        2.759815  \n",
       "8807                         2.646859  \n",
       "11414                        2.611331  \n",
       "16478                        2.398345  \n",
       "4826                         2.536670  \n",
       "10758                        2.525184  \n",
       "11825                        0.008452  \n",
       "4721                         2.476056  \n",
       "14318                        2.405907  \n",
       "14629                        2.705590  \n",
       "9189                         2.533300  \n",
       "4961                         2.530065  \n",
       "2177                         2.559796  \n",
       "2168                         2.391391  \n",
       "3762                         2.646918  \n",
       "2089                         2.618193  \n",
       "9353                         0.002467  \n",
       "15860                        2.631128  \n",
       "17797                        2.656967  \n",
       "18232                        2.653653  \n",
       "10206                        2.640130  \n",
       "1075                         2.557562  \n",
       "14038                        2.627466  \n",
       "14063                        2.465528  \n",
       "364                          2.501493  \n",
       "18859                        2.695761  \n",
       "424                          2.525490  \n",
       "4352                         2.687819  \n",
       "18610                        2.375447  \n",
       "248                          2.559882  \n",
       "16554                        2.682429  \n",
       "3889                         2.737705  \n",
       "7789                         2.511096  \n",
       "19517                        2.559595  \n",
       "10418                        2.704143  \n",
       "19635                        0.003072  \n",
       "7313                         2.620662  \n",
       "20661                        2.664273  \n",
       "15157                        2.603816  \n",
       "16907                        2.525249  \n",
       "16558                        2.603156  \n",
       "7947                         0.014905  \n",
       "284                          2.432453  \n",
       "9384                         2.503781  \n",
       "16200                        2.589311  \n",
       "67                           2.555126  \n",
       "1219                         2.530117  \n",
       "9745                         2.706756  \n",
       "20277                        2.737801  \n",
       "4112                         2.595762  \n",
       "4336                         2.576068  "
      ]
     },
     "execution_count": 77,
     "metadata": {},
     "output_type": "execute_result"
    }
   ],
   "source": [
    "pd.set_option('display.max_rows', 100)\n",
    "selector.summary.sort_values(by=['PIP'],ascending=False).iloc[:100]"
   ]
  },
  {
   "cell_type": "code",
   "execution_count": 18,
   "id": "366acb3a-7a69-406d-aa19-ec861a30fdce",
   "metadata": {
    "execution": {
     "iopub.execute_input": "2022-10-19T15:17:43.236465Z",
     "iopub.status.busy": "2022-10-19T15:17:43.236212Z",
     "iopub.status.idle": "2022-10-19T15:17:43.240245Z",
     "shell.execute_reply": "2022-10-19T15:17:43.239710Z",
     "shell.execute_reply.started": "2022-10-19T15:17:43.236447Z"
    }
   },
   "outputs": [
    {
     "data": {
      "text/plain": [
       "(70988, 21858)"
      ]
     },
     "execution_count": 18,
     "metadata": {},
     "output_type": "execute_result"
    }
   ],
   "source": [
    "data_frame.shape"
   ]
  },
  {
   "cell_type": "code",
   "execution_count": 19,
   "id": "df8d7e52-a3fb-42e7-9058-e24373e4a23e",
   "metadata": {
    "execution": {
     "iopub.execute_input": "2022-10-19T15:17:43.241225Z",
     "iopub.status.busy": "2022-10-19T15:17:43.240981Z",
     "iopub.status.idle": "2022-10-19T15:17:43.244768Z",
     "shell.execute_reply": "2022-10-19T15:17:43.244204Z",
     "shell.execute_reply.started": "2022-10-19T15:17:43.241207Z"
    },
    "tags": []
   },
   "outputs": [],
   "source": [
    "indices = selector.summary.loc[selector.summary.PIP > 0.5].index"
   ]
  },
  {
   "cell_type": "code",
   "execution_count": 20,
   "id": "c1eeabe5-b4d7-4da9-8a5b-405aad5f915d",
   "metadata": {
    "execution": {
     "iopub.execute_input": "2022-10-19T15:17:43.245718Z",
     "iopub.status.busy": "2022-10-19T15:17:43.245474Z",
     "iopub.status.idle": "2022-10-19T15:17:43.249700Z",
     "shell.execute_reply": "2022-10-19T15:17:43.249160Z",
     "shell.execute_reply.started": "2022-10-19T15:17:43.245700Z"
    }
   },
   "outputs": [
    {
     "data": {
      "text/plain": [
       "Index([1484, 4484, 6469, 10774, 10919, 11737, 12196, 13042, 16746, 18625,\n",
       "       19149, 20488],\n",
       "      dtype='object')"
      ]
     },
     "execution_count": 20,
     "metadata": {},
     "output_type": "execute_result"
    }
   ],
   "source": [
    "indices"
   ]
  },
  {
   "cell_type": "code",
   "execution_count": 21,
   "id": "28fdc9d4-fd50-4812-a30e-44903eadc126",
   "metadata": {
    "execution": {
     "iopub.execute_input": "2022-10-19T15:17:43.250674Z",
     "iopub.status.busy": "2022-10-19T15:17:43.250433Z",
     "iopub.status.idle": "2022-10-19T15:17:43.254946Z",
     "shell.execute_reply": "2022-10-19T15:17:43.254389Z",
     "shell.execute_reply.started": "2022-10-19T15:17:43.250656Z"
    }
   },
   "outputs": [
    {
     "data": {
      "text/plain": [
       "Int64Index([1485, 4485, 6470, 10775, 10920, 11738, 12197, 13043, 16747, 18626,\n",
       "            19150, 20489],\n",
       "           dtype='int64')"
      ]
     },
     "execution_count": 21,
     "metadata": {},
     "output_type": "execute_result"
    }
   ],
   "source": [
    "indices + 1"
   ]
  },
  {
   "cell_type": "code",
   "execution_count": 22,
   "id": "05c60376-7499-4771-b0a8-feb86e3a7d5b",
   "metadata": {
    "execution": {
     "iopub.execute_input": "2022-10-19T15:17:43.256030Z",
     "iopub.status.busy": "2022-10-19T15:17:43.255663Z",
     "iopub.status.idle": "2022-10-19T15:17:43.536311Z",
     "shell.execute_reply": "2022-10-19T15:17:43.535593Z",
     "shell.execute_reply.started": "2022-10-19T15:17:43.256012Z"
    }
   },
   "outputs": [],
   "source": [
    "with np.load('./sparse/train_cite_inputs_idxcol.npz',allow_pickle=True) as data:\n",
    "    cell_index = data['index']\n",
    "metadata_df = pd.read_csv('../input/open-problems-multimodal/metadata.csv', index_col='cell_id')\n",
    "metadata_df = metadata_df[metadata_df.technology==\"citeseq\"]\n",
    "meta = metadata_df.reindex(cell_index)"
   ]
  },
  {
   "cell_type": "code",
   "execution_count": 96,
   "id": "7c624351-cc38-499b-8b12-f6906060f4ca",
   "metadata": {
    "execution": {
     "iopub.execute_input": "2022-10-19T15:59:47.089985Z",
     "iopub.status.busy": "2022-10-19T15:59:47.089398Z",
     "iopub.status.idle": "2022-10-19T16:19:13.948913Z",
     "shell.execute_reply": "2022-10-19T16:19:13.948248Z",
     "shell.execute_reply.started": "2022-10-19T15:59:47.089959Z"
    },
    "tags": []
   },
   "outputs": [
    {
     "name": "stdout",
     "output_type": "stream",
     "text": [
      "2\n"
     ]
    },
    {
     "data": {
      "application/vnd.jupyter.widget-view+json": {
       "model_id": "67b3a82fd7c0468c95bd1b62fd51464d",
       "version_major": 2,
       "version_minor": 0
      },
      "text/plain": [
       "  0%|          | 0/3000 [00:00<?, ?it/s]"
      ]
     },
     "metadata": {},
     "output_type": "display_data"
    },
    {
     "name": "stdout",
     "output_type": "stream",
     "text": [
      "1/1 [==============================] - 0s 76ms/step\n",
      "Fold 0:  42 epochs, mse =  0.06772\n",
      "1/1 [==============================] - 0s 76ms/step\n",
      "Fold 0:  13 epochs, mse =  0.06809\n",
      "1/1 [==============================] - 0s 93ms/step\n",
      "Fold 0:  12 epochs, mse =  0.06840\n",
      "1/1 [==============================] - 0s 80ms/step\n",
      "Fold 0:  35 epochs, mse =  0.06979\n",
      "3\n"
     ]
    },
    {
     "data": {
      "application/vnd.jupyter.widget-view+json": {
       "model_id": "4214c28263cc40c6b971947f348e872d",
       "version_major": 2,
       "version_minor": 0
      },
      "text/plain": [
       "  0%|          | 0/3000 [00:00<?, ?it/s]"
      ]
     },
     "metadata": {},
     "output_type": "display_data"
    },
    {
     "name": "stdout",
     "output_type": "stream",
     "text": [
      "1/1 [==============================] - 0s 75ms/step\n",
      "Fold 0:  35 epochs, mse =  0.29303\n",
      "1/1 [==============================] - 0s 77ms/step\n",
      "Fold 0:  12 epochs, mse =  0.29216\n",
      "1/1 [==============================] - 0s 93ms/step\n",
      "Fold 0:  13 epochs, mse =  0.28476\n",
      "1/1 [==============================] - 0s 79ms/step\n",
      "Fold 0:  21 epochs, mse =  0.27842\n",
      "4\n"
     ]
    },
    {
     "data": {
      "application/vnd.jupyter.widget-view+json": {
       "model_id": "19797d48e97548819ba8482507f61fc9",
       "version_major": 2,
       "version_minor": 0
      },
      "text/plain": [
       "  0%|          | 0/3000 [00:00<?, ?it/s]"
      ]
     },
     "metadata": {},
     "output_type": "display_data"
    },
    {
     "name": "stdout",
     "output_type": "stream",
     "text": [
      "1/1 [==============================] - 0s 75ms/step\n",
      "Fold 0:  26 epochs, mse =  0.16899\n",
      "1/1 [==============================] - 0s 78ms/step\n",
      "Fold 0:  24 epochs, mse =  0.16871\n",
      "1/1 [==============================] - 0s 91ms/step\n",
      "Fold 0:  15 epochs, mse =  0.16813\n",
      "1/1 [==============================] - 0s 80ms/step\n",
      "Fold 0:  28 epochs, mse =  0.16770\n",
      "5\n"
     ]
    },
    {
     "data": {
      "application/vnd.jupyter.widget-view+json": {
       "model_id": "34fdecffe47c4f35ad8762c9740dcd33",
       "version_major": 2,
       "version_minor": 0
      },
      "text/plain": [
       "  0%|          | 0/3000 [00:00<?, ?it/s]"
      ]
     },
     "metadata": {},
     "output_type": "display_data"
    },
    {
     "name": "stdout",
     "output_type": "stream",
     "text": [
      "1/1 [==============================] - 0s 75ms/step\n",
      "Fold 0:  31 epochs, mse =  0.54235\n",
      "1/1 [==============================] - 0s 79ms/step\n",
      "Fold 0:  18 epochs, mse =  0.54244\n",
      "1/1 [==============================] - 0s 93ms/step\n",
      "Fold 0:  13 epochs, mse =  0.55474\n",
      "1/1 [==============================] - 0s 81ms/step\n",
      "Fold 0:  27 epochs, mse =  0.54440\n",
      "6\n"
     ]
    },
    {
     "data": {
      "application/vnd.jupyter.widget-view+json": {
       "model_id": "c49201563aed4f9b97f925a3cc91a856",
       "version_major": 2,
       "version_minor": 0
      },
      "text/plain": [
       "  0%|          | 0/3000 [00:00<?, ?it/s]"
      ]
     },
     "metadata": {},
     "output_type": "display_data"
    },
    {
     "name": "stdout",
     "output_type": "stream",
     "text": [
      "1/1 [==============================] - 0s 77ms/step\n",
      "Fold 0:  17 epochs, mse =  0.62653\n",
      "1/1 [==============================] - 0s 80ms/step\n",
      "Fold 0:  13 epochs, mse =  0.61729\n",
      "1/1 [==============================] - 0s 94ms/step\n",
      "Fold 0:  13 epochs, mse =  0.63788\n",
      "1/1 [==============================] - 0s 83ms/step\n",
      "Fold 0:  14 epochs, mse =  0.65025\n",
      "7\n"
     ]
    },
    {
     "data": {
      "application/vnd.jupyter.widget-view+json": {
       "model_id": "5c42c0aaa4f7495584a76e77371085d6",
       "version_major": 2,
       "version_minor": 0
      },
      "text/plain": [
       "  0%|          | 0/3000 [00:00<?, ?it/s]"
      ]
     },
     "metadata": {},
     "output_type": "display_data"
    },
    {
     "name": "stdout",
     "output_type": "stream",
     "text": [
      "1/1 [==============================] - 0s 76ms/step\n",
      "Fold 0:  18 epochs, mse =  0.10116\n",
      "1/1 [==============================] - 0s 79ms/step\n",
      "Fold 0:  19 epochs, mse =  0.10262\n",
      "1/1 [==============================] - 0s 97ms/step\n",
      "Fold 0:  13 epochs, mse =  0.10258\n",
      "1/1 [==============================] - 0s 82ms/step\n",
      "Fold 0:  23 epochs, mse =  0.10255\n",
      "8\n"
     ]
    },
    {
     "data": {
      "application/vnd.jupyter.widget-view+json": {
       "model_id": "b13bc69386a94f76b61ee8f01926e38e",
       "version_major": 2,
       "version_minor": 0
      },
      "text/plain": [
       "  0%|          | 0/3000 [00:00<?, ?it/s]"
      ]
     },
     "metadata": {},
     "output_type": "display_data"
    },
    {
     "name": "stdout",
     "output_type": "stream",
     "text": [
      "1/1 [==============================] - 0s 76ms/step\n",
      "Fold 0:  25 epochs, mse =  0.06221\n",
      "1/1 [==============================] - 0s 79ms/step\n",
      "Fold 0:  21 epochs, mse =  0.06229\n",
      "1/1 [==============================] - 0s 96ms/step\n",
      "Fold 0:  13 epochs, mse =  0.06193\n",
      "1/1 [==============================] - 0s 82ms/step\n",
      "Fold 0:  22 epochs, mse =  0.07043\n",
      "9\n"
     ]
    },
    {
     "data": {
      "application/vnd.jupyter.widget-view+json": {
       "model_id": "e4a4ac8b9414430883f45842d9b81186",
       "version_major": 2,
       "version_minor": 0
      },
      "text/plain": [
       "  0%|          | 0/3000 [00:00<?, ?it/s]"
      ]
     },
     "metadata": {},
     "output_type": "display_data"
    },
    {
     "name": "stdout",
     "output_type": "stream",
     "text": [
      "1/1 [==============================] - 0s 77ms/step\n",
      "Fold 0:  43 epochs, mse =  0.10609\n",
      "1/1 [==============================] - 0s 79ms/step\n",
      "Fold 0:  17 epochs, mse =  0.10650\n",
      "1/1 [==============================] - 0s 95ms/step\n",
      "Fold 0:  12 epochs, mse =  0.10703\n",
      "1/1 [==============================] - 0s 81ms/step\n",
      "Fold 0:  17 epochs, mse =  0.10719\n"
     ]
    }
   ],
   "source": [
    "def my_model(n_inputs,n_outputs, reg1, reg2,loss):\n",
    "    \"\"\"Sequential neural network\n",
    "    \n",
    "    Returns a compiled instance of tensorflow.keras.models.Model.\n",
    "    \"\"\"\n",
    "    activation = 'swish'\n",
    "\n",
    "    \n",
    "    inputs = Input(shape=(n_inputs, ))\n",
    "    x0 = Dense(16,\n",
    "              activation=activation,\n",
    "             )(inputs)\n",
    "    x1 = Dense(16,\n",
    "              activation=activation,\n",
    "             )(x0)\n",
    "    x2 = Dense(16,\n",
    "              activation=activation,\n",
    "             )(x1)\n",
    "    x3 = Dense(16,\n",
    "              activation=activation,\n",
    "             )(x2)\n",
    "    x = Concatenate()([x0, x1, x2, x3])\n",
    "    x = Dense(n_outputs,\n",
    "              #activation=activation,\n",
    "             )(x)\n",
    "    regressor = Model(inputs, x)\n",
    "    regressor.compile(optimizer=tf.keras.optimizers.Adam(learning_rate=LR_START),\n",
    "                      metrics=[loss],\n",
    "                      loss=loss\n",
    "                     )\n",
    "    \n",
    "    return regressor\n",
    "\n",
    "# Cross-validation\n",
    "VERBOSE = 0 # set to 2 for more output, set to 0 for less output\n",
    "EPOCHS = 1000\n",
    "N_SPLITS = 3\n",
    "\n",
    "def fit(X_train, y_train,meta,loss=tf.keras.losses.MeanSquaredError()):\n",
    "    np.random.seed(1)\n",
    "    tf.random.set_seed(1)\n",
    "\n",
    "    kf = GroupKFold(n_splits=N_SPLITS)\n",
    "    score_list = []\n",
    "    for fold, (idx_tr, idx_va) in enumerate(kf.split(X_train, groups=meta.donor)):\n",
    "        start_time = datetime.datetime.now()\n",
    "        model = None\n",
    "        gc.collect()\n",
    "        X_tr = X_train[idx_tr]\n",
    "        y_tr = y_train[idx_tr]\n",
    "        X_va = X_train[idx_va]\n",
    "        y_va = y_train[idx_va]\n",
    "\n",
    "        lr = ReduceLROnPlateau(monitor=\"val_loss\", factor=0.5, \n",
    "                              patience=4, verbose=VERBOSE)\n",
    "        es = EarlyStopping(monitor=\"val_loss\",\n",
    "                          patience=12, \n",
    "                          verbose=0,\n",
    "                          mode=\"min\", \n",
    "                          restore_best_weights=True)\n",
    "        callbacks = [lr, es, tf.keras.callbacks.TerminateOnNaN()]\n",
    "\n",
    "        # Construct and compile the model\n",
    "        model = my_model(n_inputs=X_train.shape[1],n_outputs=y_train.shape[1],reg1 = reg1,reg2 = reg2,loss = loss)\n",
    "\n",
    "        # Train the model\n",
    "        history = model.fit(X_tr, y_tr, \n",
    "                            validation_data=(X_va, y_va), \n",
    "                            epochs=EPOCHS,\n",
    "                            verbose=VERBOSE,\n",
    "                            batch_size=BATCH_SIZE,\n",
    "                            shuffle=True,\n",
    "                            callbacks=callbacks)\n",
    "        del X_tr, y_tr\n",
    "\n",
    "        # We validate the model\n",
    "        y_pred = model.predict(X_va, batch_size=X_va.shape[0])\n",
    "        mse = tf.keras.losses.MeanSquaredError()(y_va, y_pred)\n",
    "        #corrscore = correlation_score(y_va, y_pred)\n",
    "\n",
    "        print(f\"Fold {fold}: {es.stopped_epoch:3} epochs, mse =  {mse:.5f}\")\n",
    "        del es, X_va#, y_va, y_va_pred\n",
    "        score_list.append(mse)\n",
    "\n",
    "        return model\n",
    "\n",
    "    # Show overall score\n",
    "    print(f\"{Fore.GREEN}{Style.BRIGHT}Average  mse = {np.array(score_list).mean():.5f}{Style.RESET_ALL}\")\n",
    "    \n",
    "LR_START = 0.01\n",
    "BATCH_SIZE = 256\n",
    "\n",
    "best_var = []\n",
    "for i in np.arange(2,10,1):\n",
    "    print(i)\n",
    "    data_loader_0 = np.hstack([y_train[:,i],X_train,X_train_pca])\n",
    "    data_frame = pd.DataFrame(data_loader_0)\n",
    "\n",
    "    del data_loader_0\n",
    "\n",
    "    from millipede import NormalLikelihoodVariableSelector\n",
    "    selector = NormalLikelihoodVariableSelector(data_frame.loc[:10000],  # pass in the data\n",
    "                                                0, # indicate the column of responses\n",
    "                                                S=1000,        # specify the expected number of covariates to include a priori\n",
    "                                               device='gpu',\n",
    "                                               subset_size=1000)\n",
    "\n",
    "    selector.run(T=2000, T_burnin=1000, verbosity='bar', report_frequency=1, streaming=True, seed=None)\n",
    "\n",
    "    indices = list(selector.summary.loc[selector.summary.PIP > 0.5].index)    \n",
    "    option_a = fit(data_frame.to_numpy()[:,indices],data_frame.to_numpy()[:,0].reshape(-1,1),meta)\n",
    "    indices = list(selector.summary.loc[selector.summary.PIP > 0.1].index)    \n",
    "    option_b = fit(data_frame.to_numpy()[:,indices],data_frame.to_numpy()[:,0].reshape(-1,1),meta)\n",
    "    indices = list(selector.summary.loc[selector.summary.PIP > 0.01].index)    \n",
    "    option_c = fit(data_frame.to_numpy()[:,indices],data_frame.to_numpy()[:,0].reshape(-1,1),meta)\n",
    "    indices = list(selector.summary.loc[selector.summary.PIP > 0.01].index)    \n",
    "    option_d = fit(data_frame.to_numpy()[:,indices],data_frame.to_numpy()[:,0].reshape(-1,1),meta)\n",
    "    option_e = fit(data_frame.to_numpy()[:,-256:],data_frame.to_numpy()[:,0].reshape(-1,1),meta)\n",
    "    options = [option_a,option_b,option_c,option_d,option_e]\n",
    "    match np.argmax(options):\n",
    "        case 0:\n",
    "             best_var.append(0.5)\n",
    "        case 1:\n",
    "             best_var.append(0.1)\n",
    "        case 2:\n",
    "             best_var.append(0.01)\n",
    "        case 3:\n",
    "             best_var.append(0.001)\n",
    "        case 4:\n",
    "             best_var.append(0)\n",
    "        "
   ]
  },
  {
   "cell_type": "markdown",
   "id": "247fc541-6799-4c9d-9a7c-1acb2eab476e",
   "metadata": {},
   "source": [
    "0th column\n",
    "indices: mse = 0.12761, len = 12\n",
    "256 pca: mse = 0.12938\n",
    "0.1 indices: mse = 0.12721, len = 184\n",
    "0.01 indices: mse = 0.12669, len = 834\n",
    "0.001 indices: mse = 0.12839, len = 1165"
   ]
  },
  {
   "cell_type": "code",
   "execution_count": null,
   "id": "ecd72119-5e6d-4e22-935f-467be57abd6c",
   "metadata": {},
   "outputs": [],
   "source": [
    "1st column\n",
    "indices: mse = 0.06724, len = 6\n",
    "256 pca: mse = 0.06854\n",
    "0.1 indices: mse = 0.06735, len = 142\n",
    "0.01 indices: mse = 0.06687, len = 836\n",
    "0.001 indices: mse = 0.06681, len = 1146"
   ]
  },
  {
   "cell_type": "code",
   "execution_count": 86,
   "id": "ae1d09f8-095c-4a4d-b7c1-f5bb8bd99241",
   "metadata": {
    "execution": {
     "iopub.execute_input": "2022-10-19T15:51:46.635316Z",
     "iopub.status.busy": "2022-10-19T15:51:46.634918Z",
     "iopub.status.idle": "2022-10-19T15:51:46.640864Z",
     "shell.execute_reply": "2022-10-19T15:51:46.640330Z",
     "shell.execute_reply.started": "2022-10-19T15:51:46.635291Z"
    },
    "tags": []
   },
   "outputs": [
    {
     "data": {
      "text/plain": [
       "1146"
      ]
     },
     "execution_count": 86,
     "metadata": {},
     "output_type": "execute_result"
    }
   ],
   "source": [
    "indices = list(selector.summary.loc[selector.summary.PIP > 0.001].index)    \n",
    "len(indices)"
   ]
  },
  {
   "cell_type": "code",
   "execution_count": 11,
   "id": "0f1f4eba-d642-46ea-81ae-86a2db577f86",
   "metadata": {
    "execution": {
     "iopub.execute_input": "2022-10-19T20:36:58.071734Z",
     "iopub.status.busy": "2022-10-19T20:36:58.071342Z",
     "iopub.status.idle": "2022-10-19T20:36:58.080374Z",
     "shell.execute_reply": "2022-10-19T20:36:58.079832Z",
     "shell.execute_reply.started": "2022-10-19T20:36:58.071710Z"
    }
   },
   "outputs": [
    {
     "data": {
      "text/plain": [
       "array([[-0.3777119, -0.3777119],\n",
       "       [-0.3709885, -0.3709885],\n",
       "       [-0.2560002, -0.2560002]])"
      ]
     },
     "execution_count": 11,
     "metadata": {},
     "output_type": "execute_result"
    }
   ],
   "source": [
    "abc = [[-0.3777119 ],[-0.3709885 ],[-0.2560002 ]]\n",
    "np.hstack([abc,abc])"
   ]
  },
  {
   "cell_type": "code",
   "execution_count": 15,
   "id": "1ba13f36-c769-4a67-8611-f1378848e38e",
   "metadata": {
    "execution": {
     "iopub.execute_input": "2022-10-19T20:42:06.223873Z",
     "iopub.status.busy": "2022-10-19T20:42:06.223487Z",
     "iopub.status.idle": "2022-10-19T20:42:06.227059Z",
     "shell.execute_reply": "2022-10-19T20:42:06.226510Z",
     "shell.execute_reply.started": "2022-10-19T20:42:06.223851Z"
    },
    "tags": []
   },
   "outputs": [],
   "source": [
    "abc = {0: [],1: [1,2,3], 2: [4,5]}"
   ]
  },
  {
   "cell_type": "code",
   "execution_count": 26,
   "id": "e4e06f80-e11b-4afe-8f88-f0fa064fb52e",
   "metadata": {
    "execution": {
     "iopub.execute_input": "2022-10-19T20:43:43.818594Z",
     "iopub.status.busy": "2022-10-19T20:43:43.818201Z",
     "iopub.status.idle": "2022-10-19T20:43:43.822084Z",
     "shell.execute_reply": "2022-10-19T20:43:43.821560Z",
     "shell.execute_reply.started": "2022-10-19T20:43:43.818571Z"
    },
    "tags": []
   },
   "outputs": [],
   "source": [
    "np.save('./temp/temp.csv',abc,allow_pickle=True)"
   ]
  },
  {
   "cell_type": "code",
   "execution_count": 46,
   "id": "82a3f36d-b10d-4d59-94c7-dbc2874c2751",
   "metadata": {
    "execution": {
     "iopub.execute_input": "2022-10-19T20:50:30.672872Z",
     "iopub.status.busy": "2022-10-19T20:50:30.672488Z",
     "iopub.status.idle": "2022-10-19T20:50:30.678058Z",
     "shell.execute_reply": "2022-10-19T20:50:30.677524Z",
     "shell.execute_reply.started": "2022-10-19T20:50:30.672848Z"
    },
    "tags": []
   },
   "outputs": [
    {
     "data": {
      "text/plain": [
       "array([list([]), list([1, 2]), list([1, 2, 3])], dtype=object)"
      ]
     },
     "execution_count": 46,
     "metadata": {},
     "output_type": "execute_result"
    }
   ],
   "source": [
    "np.save('./temp/temp.npy', [[],[1,2],[1,2,3]])\n",
    "np.load('./temp/temp.npy',allow_pickle=True)"
   ]
  },
  {
   "cell_type": "code",
   "execution_count": 29,
   "id": "e51bc6b6-4856-47e8-8bdc-08a6fbcd55fc",
   "metadata": {
    "execution": {
     "iopub.execute_input": "2022-10-19T20:44:39.463251Z",
     "iopub.status.busy": "2022-10-19T20:44:39.462846Z",
     "iopub.status.idle": "2022-10-19T20:44:39.467209Z",
     "shell.execute_reply": "2022-10-19T20:44:39.466656Z",
     "shell.execute_reply.started": "2022-10-19T20:44:39.463227Z"
    },
    "tags": []
   },
   "outputs": [],
   "source": [
    "np.savetxt('./temp/temp.csv',[[],[1,2],[1,2,3]],fmt='%s')"
   ]
  },
  {
   "cell_type": "code",
   "execution_count": 31,
   "id": "eea99093-22fd-4de6-8658-8c94321ff639",
   "metadata": {
    "execution": {
     "iopub.execute_input": "2022-10-19T20:45:10.965335Z",
     "iopub.status.busy": "2022-10-19T20:45:10.964946Z",
     "iopub.status.idle": "2022-10-19T20:45:10.977897Z",
     "shell.execute_reply": "2022-10-19T20:45:10.977207Z",
     "shell.execute_reply.started": "2022-10-19T20:45:10.965312Z"
    },
    "tags": []
   },
   "outputs": [
    {
     "ename": "TypeError",
     "evalue": "genfromtxt() got an unexpected keyword argument 'fmt'",
     "output_type": "error",
     "traceback": [
      "\u001b[0;31m---------------------------------------------------------------------------\u001b[0m",
      "\u001b[0;31mTypeError\u001b[0m                                 Traceback (most recent call last)",
      "Input \u001b[0;32mIn [31]\u001b[0m, in \u001b[0;36m<cell line: 1>\u001b[0;34m()\u001b[0m\n\u001b[0;32m----> 1\u001b[0m aab \u001b[38;5;241m=\u001b[39m \u001b[43mnp\u001b[49m\u001b[38;5;241;43m.\u001b[39;49m\u001b[43mgenfromtxt\u001b[49m\u001b[43m(\u001b[49m\u001b[38;5;124;43m'\u001b[39;49m\u001b[38;5;124;43m./temp/temp.csv\u001b[39;49m\u001b[38;5;124;43m'\u001b[39;49m\u001b[43m,\u001b[49m\u001b[43mfmt\u001b[49m\u001b[38;5;241;43m=\u001b[39;49m\u001b[38;5;124;43m'\u001b[39;49m\u001b[38;5;132;43;01m%s\u001b[39;49;00m\u001b[38;5;124;43m'\u001b[39;49m\u001b[43m)\u001b[49m\n\u001b[1;32m      2\u001b[0m aab\n",
      "\u001b[0;31mTypeError\u001b[0m: genfromtxt() got an unexpected keyword argument 'fmt'"
     ]
    }
   ],
   "source": [
    "aab = np.genfromtxt('./temp/temp.csv',fmt='%s')\n",
    "aab"
   ]
  },
  {
   "cell_type": "code",
   "execution_count": 27,
   "id": "4f53fc7f-0d9b-4d2a-8c41-88b5b6144a3a",
   "metadata": {
    "execution": {
     "iopub.execute_input": "2022-10-19T20:43:45.323838Z",
     "iopub.status.busy": "2022-10-19T20:43:45.323494Z",
     "iopub.status.idle": "2022-10-19T20:43:45.356502Z",
     "shell.execute_reply": "2022-10-19T20:43:45.355808Z",
     "shell.execute_reply.started": "2022-10-19T20:43:45.323816Z"
    },
    "tags": []
   },
   "outputs": [
    {
     "ename": "OSError",
     "evalue": "Failed to interpret file './temp/temp.csv' as a pickle",
     "output_type": "error",
     "traceback": [
      "\u001b[0;31m---------------------------------------------------------------------------\u001b[0m",
      "\u001b[0;31mEOFError\u001b[0m                                  Traceback (most recent call last)",
      "File \u001b[0;32m/srv/conda/envs/saturn/lib/python3.9/site-packages/numpy/lib/npyio.py:448\u001b[0m, in \u001b[0;36mload\u001b[0;34m(file, mmap_mode, allow_pickle, fix_imports, encoding)\u001b[0m\n\u001b[1;32m    447\u001b[0m \u001b[38;5;28;01mtry\u001b[39;00m:\n\u001b[0;32m--> 448\u001b[0m     \u001b[38;5;28;01mreturn\u001b[39;00m \u001b[43mpickle\u001b[49m\u001b[38;5;241;43m.\u001b[39;49m\u001b[43mload\u001b[49m\u001b[43m(\u001b[49m\u001b[43mfid\u001b[49m\u001b[43m,\u001b[49m\u001b[43m \u001b[49m\u001b[38;5;241;43m*\u001b[39;49m\u001b[38;5;241;43m*\u001b[39;49m\u001b[43mpickle_kwargs\u001b[49m\u001b[43m)\u001b[49m\n\u001b[1;32m    449\u001b[0m \u001b[38;5;28;01mexcept\u001b[39;00m \u001b[38;5;167;01mException\u001b[39;00m \u001b[38;5;28;01mas\u001b[39;00m e:\n",
      "\u001b[0;31mEOFError\u001b[0m: Ran out of input",
      "\nThe above exception was the direct cause of the following exception:\n",
      "\u001b[0;31mOSError\u001b[0m                                   Traceback (most recent call last)",
      "Input \u001b[0;32mIn [27]\u001b[0m, in \u001b[0;36m<cell line: 1>\u001b[0;34m()\u001b[0m\n\u001b[0;32m----> 1\u001b[0m aab \u001b[38;5;241m=\u001b[39m \u001b[43mnp\u001b[49m\u001b[38;5;241;43m.\u001b[39;49m\u001b[43mload\u001b[49m\u001b[43m(\u001b[49m\u001b[38;5;124;43m'\u001b[39;49m\u001b[38;5;124;43m./temp/temp.csv\u001b[39;49m\u001b[38;5;124;43m'\u001b[39;49m\u001b[43m,\u001b[49m\u001b[43mallow_pickle\u001b[49m\u001b[38;5;241;43m=\u001b[39;49m\u001b[38;5;28;43;01mTrue\u001b[39;49;00m\u001b[43m)\u001b[49m\n\u001b[1;32m      2\u001b[0m aab\n",
      "File \u001b[0;32m/srv/conda/envs/saturn/lib/python3.9/site-packages/numpy/lib/npyio.py:450\u001b[0m, in \u001b[0;36mload\u001b[0;34m(file, mmap_mode, allow_pickle, fix_imports, encoding)\u001b[0m\n\u001b[1;32m    448\u001b[0m     \u001b[38;5;28;01mreturn\u001b[39;00m pickle\u001b[38;5;241m.\u001b[39mload(fid, \u001b[38;5;241m*\u001b[39m\u001b[38;5;241m*\u001b[39mpickle_kwargs)\n\u001b[1;32m    449\u001b[0m \u001b[38;5;28;01mexcept\u001b[39;00m \u001b[38;5;167;01mException\u001b[39;00m \u001b[38;5;28;01mas\u001b[39;00m e:\n\u001b[0;32m--> 450\u001b[0m     \u001b[38;5;28;01mraise\u001b[39;00m \u001b[38;5;167;01mIOError\u001b[39;00m(\n\u001b[1;32m    451\u001b[0m         \u001b[38;5;124m\"\u001b[39m\u001b[38;5;124mFailed to interpret file \u001b[39m\u001b[38;5;132;01m%s\u001b[39;00m\u001b[38;5;124m as a pickle\u001b[39m\u001b[38;5;124m\"\u001b[39m \u001b[38;5;241m%\u001b[39m \u001b[38;5;28mrepr\u001b[39m(file)) \u001b[38;5;28;01mfrom\u001b[39;00m \u001b[38;5;21;01me\u001b[39;00m\n",
      "\u001b[0;31mOSError\u001b[0m: Failed to interpret file './temp/temp.csv' as a pickle"
     ]
    }
   ],
   "source": [
    "aab = np.load('./temp/temp.csv',allow_pickle=True)\n",
    "aab"
   ]
  },
  {
   "cell_type": "code",
   "execution_count": null,
   "id": "4143e647-ab3a-421a-b7fa-746ddaf39426",
   "metadata": {},
   "outputs": [],
   "source": []
  },
  {
   "cell_type": "code",
   "execution_count": 17,
   "id": "f533c76c-7870-4fca-9885-4f3260630673",
   "metadata": {
    "execution": {
     "iopub.execute_input": "2022-10-20T00:05:58.433384Z",
     "iopub.status.busy": "2022-10-20T00:05:58.432969Z",
     "iopub.status.idle": "2022-10-20T05:05:47.766556Z",
     "shell.execute_reply": "2022-10-20T05:05:47.765913Z",
     "shell.execute_reply.started": "2022-10-20T00:05:58.433356Z"
    },
    "tags": []
   },
   "outputs": [
    {
     "name": "stdout",
     "output_type": "stream",
     "text": [
      "0\n"
     ]
    },
    {
     "data": {
      "application/vnd.jupyter.widget-view+json": {
       "model_id": "84916ec458fe47198b26059815a5cf30",
       "version_major": 2,
       "version_minor": 0
      },
      "text/plain": [
       "  0%|          | 0/1500 [00:00<?, ?it/s]"
      ]
     },
     "metadata": {},
     "output_type": "display_data"
    },
    {
     "name": "stdout",
     "output_type": "stream",
     "text": [
      "1/1 [==============================] - 0s 78ms/step\n",
      " 25 epochs, mse =  0.13179\n",
      "1/1 [==============================] - 0s 78ms/step\n",
      " 16 epochs, mse =  0.13225\n",
      "1/1 [==============================] - 0s 92ms/step\n",
      " 16 epochs, mse =  0.12963\n",
      "1/1 [==============================] - 0s 99ms/step\n",
      " 12 epochs, mse =  0.13145\n",
      "1/1 [==============================] - 0s 80ms/step\n",
      " 23 epochs, mse =  0.13472\n",
      "[0.01]\n",
      "1521/1521 [==============================] - 3s 2ms/step\n",
      "776/776 [==============================] - 1s 2ms/step\n",
      "1\n"
     ]
    },
    {
     "data": {
      "application/vnd.jupyter.widget-view+json": {
       "model_id": "a41b3d575a804e1aa7e2e01f8da3a41d",
       "version_major": 2,
       "version_minor": 0
      },
      "text/plain": [
       "  0%|          | 0/1500 [00:00<?, ?it/s]"
      ]
     },
     "metadata": {},
     "output_type": "display_data"
    },
    {
     "name": "stdout",
     "output_type": "stream",
     "text": [
      "1/1 [==============================] - 0s 73ms/step\n",
      " 54 epochs, mse =  0.06756\n",
      "1/1 [==============================] - 0s 74ms/step\n",
      " 19 epochs, mse =  0.06757\n",
      "1/1 [==============================] - 0s 86ms/step\n",
      " 15 epochs, mse =  0.06675\n",
      "1/1 [==============================] - 0s 95ms/step\n",
      " 15 epochs, mse =  0.06720\n",
      "1/1 [==============================] - 0s 77ms/step\n",
      " 23 epochs, mse =  0.06800\n",
      "[0.01, 0.01]\n",
      "1521/1521 [==============================] - 3s 2ms/step\n",
      "776/776 [==============================] - 1s 2ms/step\n",
      "2\n"
     ]
    },
    {
     "data": {
      "application/vnd.jupyter.widget-view+json": {
       "model_id": "d879afa86a6b4cc489857a9554a73461",
       "version_major": 2,
       "version_minor": 0
      },
      "text/plain": [
       "  0%|          | 0/1500 [00:00<?, ?it/s]"
      ]
     },
     "metadata": {},
     "output_type": "display_data"
    },
    {
     "name": "stdout",
     "output_type": "stream",
     "text": [
      "1/1 [==============================] - 0s 71ms/step\n",
      " 31 epochs, mse =  0.06962\n",
      "1/1 [==============================] - 0s 72ms/step\n",
      " 19 epochs, mse =  0.06945\n",
      "1/1 [==============================] - 0s 85ms/step\n",
      " 24 epochs, mse =  0.06859\n",
      "1/1 [==============================] - 0s 96ms/step\n",
      " 26 epochs, mse =  0.06866\n",
      "1/1 [==============================] - 0s 87ms/step\n",
      " 19 epochs, mse =  0.07117\n",
      "[0.01, 0.01, 0.01]\n",
      "1521/1521 [==============================] - 3s 2ms/step\n",
      "776/776 [==============================] - 2s 2ms/step\n",
      "3\n"
     ]
    },
    {
     "data": {
      "application/vnd.jupyter.widget-view+json": {
       "model_id": "1974a5267c29431c86eeddec07ede193",
       "version_major": 2,
       "version_minor": 0
      },
      "text/plain": [
       "  0%|          | 0/1500 [00:00<?, ?it/s]"
      ]
     },
     "metadata": {},
     "output_type": "display_data"
    },
    {
     "name": "stdout",
     "output_type": "stream",
     "text": [
      "1/1 [==============================] - 0s 93ms/step\n",
      " 21 epochs, mse =  0.30657\n",
      "1/1 [==============================] - 0s 81ms/step\n",
      " 17 epochs, mse =  0.30396\n",
      "1/1 [==============================] - 0s 88ms/step\n",
      " 14 epochs, mse =  0.29795\n",
      "1/1 [==============================] - 0s 98ms/step\n",
      " 16 epochs, mse =  0.29701\n",
      "1/1 [==============================] - 0s 77ms/step\n",
      " 19 epochs, mse =  0.28318\n",
      "[0.01, 0.01, 0.01, 0]\n",
      "1521/1521 [==============================] - 3s 2ms/step\n",
      "776/776 [==============================] - 1s 2ms/step\n",
      "4\n"
     ]
    },
    {
     "data": {
      "application/vnd.jupyter.widget-view+json": {
       "model_id": "3ff8f93404754fe0b5c3db4a012e77c9",
       "version_major": 2,
       "version_minor": 0
      },
      "text/plain": [
       "  0%|          | 0/1500 [00:00<?, ?it/s]"
      ]
     },
     "metadata": {},
     "output_type": "display_data"
    },
    {
     "name": "stdout",
     "output_type": "stream",
     "text": [
      "1/1 [==============================] - 0s 75ms/step\n",
      " 17 epochs, mse =  0.24523\n",
      "1/1 [==============================] - 0s 75ms/step\n",
      " 22 epochs, mse =  0.21974\n",
      "1/1 [==============================] - 0s 87ms/step\n",
      " 22 epochs, mse =  0.19758\n",
      "1/1 [==============================] - 0s 95ms/step\n",
      " 22 epochs, mse =  0.19366\n",
      "1/1 [==============================] - 0s 77ms/step\n",
      " 21 epochs, mse =  0.16846\n",
      "[0.01, 0.01, 0.01, 0, 0]\n",
      "1521/1521 [==============================] - 3s 2ms/step\n",
      "776/776 [==============================] - 1s 2ms/step\n",
      "5\n"
     ]
    },
    {
     "data": {
      "application/vnd.jupyter.widget-view+json": {
       "model_id": "2c1dce0387ab421bbd17b03e84ef83bf",
       "version_major": 2,
       "version_minor": 0
      },
      "text/plain": [
       "  0%|          | 0/1500 [00:00<?, ?it/s]"
      ]
     },
     "metadata": {},
     "output_type": "display_data"
    },
    {
     "name": "stdout",
     "output_type": "stream",
     "text": [
      "1/1 [==============================] - 0s 71ms/step\n",
      " 20 epochs, mse =  0.64481\n",
      "1/1 [==============================] - 0s 72ms/step\n",
      " 18 epochs, mse =  0.63224\n",
      "1/1 [==============================] - 0s 87ms/step\n",
      " 21 epochs, mse =  0.58299\n",
      "1/1 [==============================] - 0s 172ms/step\n",
      " 17 epochs, mse =  0.57611\n",
      "1/1 [==============================] - 0s 78ms/step\n",
      " 23 epochs, mse =  0.54516\n",
      "[0.01, 0.01, 0.01, 0, 0, 0]\n",
      "1521/1521 [==============================] - 3s 2ms/step\n",
      "776/776 [==============================] - 1s 2ms/step\n",
      "6\n"
     ]
    },
    {
     "data": {
      "application/vnd.jupyter.widget-view+json": {
       "model_id": "3548458f8fe04d628a75139b8b9bb8b3",
       "version_major": 2,
       "version_minor": 0
      },
      "text/plain": [
       "  0%|          | 0/1500 [00:00<?, ?it/s]"
      ]
     },
     "metadata": {},
     "output_type": "display_data"
    },
    {
     "name": "stdout",
     "output_type": "stream",
     "text": [
      "1/1 [==============================] - 0s 85ms/step\n",
      " 29 epochs, mse =  0.78029\n",
      "1/1 [==============================] - 0s 86ms/step\n",
      " 17 epochs, mse =  0.76662\n",
      "1/1 [==============================] - 0s 94ms/step\n",
      " 16 epochs, mse =  0.71425\n",
      "1/1 [==============================] - 0s 100ms/step\n",
      " 14 epochs, mse =  0.70703\n",
      "1/1 [==============================] - 0s 78ms/step\n",
      " 17 epochs, mse =  0.65760\n",
      "[0.01, 0.01, 0.01, 0, 0, 0, 0]\n",
      "1521/1521 [==============================] - 3s 2ms/step\n",
      "776/776 [==============================] - 1s 2ms/step\n",
      "7\n"
     ]
    },
    {
     "data": {
      "application/vnd.jupyter.widget-view+json": {
       "model_id": "ad4501dc43f644868bb8fb9ae71c3700",
       "version_major": 2,
       "version_minor": 0
      },
      "text/plain": [
       "  0%|          | 0/1500 [00:00<?, ?it/s]"
      ]
     },
     "metadata": {},
     "output_type": "display_data"
    },
    {
     "name": "stdout",
     "output_type": "stream",
     "text": [
      "1/1 [==============================] - 0s 76ms/step\n",
      " 13 epochs, mse =  0.10970\n",
      "1/1 [==============================] - 0s 79ms/step\n",
      " 23 epochs, mse =  0.10925\n",
      "1/1 [==============================] - 0s 88ms/step\n",
      " 18 epochs, mse =  0.10503\n",
      "1/1 [==============================] - 0s 96ms/step\n",
      " 13 epochs, mse =  0.11082\n",
      "1/1 [==============================] - 0s 75ms/step\n",
      " 18 epochs, mse =  0.10738\n",
      "[0.01, 0.01, 0.01, 0, 0, 0, 0, 0.01]\n",
      "1521/1521 [==============================] - 3s 2ms/step\n",
      "776/776 [==============================] - 1s 2ms/step\n",
      "8\n"
     ]
    },
    {
     "data": {
      "application/vnd.jupyter.widget-view+json": {
       "model_id": "c9170bfc4dd7459a83f71d8b2f708749",
       "version_major": 2,
       "version_minor": 0
      },
      "text/plain": [
       "  0%|          | 0/1500 [00:00<?, ?it/s]"
      ]
     },
     "metadata": {},
     "output_type": "display_data"
    },
    {
     "name": "stdout",
     "output_type": "stream",
     "text": [
      "1/1 [==============================] - 0s 72ms/step\n",
      " 33 epochs, mse =  0.06477\n",
      "1/1 [==============================] - 0s 75ms/step\n",
      " 28 epochs, mse =  0.06283\n",
      "1/1 [==============================] - 0s 92ms/step\n",
      " 39 epochs, mse =  0.06497\n",
      "1/1 [==============================] - 0s 97ms/step\n",
      " 26 epochs, mse =  0.06606\n",
      "1/1 [==============================] - 0s 78ms/step\n",
      "  0 epochs, mse =  0.06171\n",
      "[0.01, 0.01, 0.01, 0, 0, 0, 0, 0.01, 0]\n",
      "1521/1521 [==============================] - 3s 2ms/step\n",
      "776/776 [==============================] - 1s 2ms/step\n",
      "9\n"
     ]
    },
    {
     "data": {
      "application/vnd.jupyter.widget-view+json": {
       "model_id": "347a39e7c4e244dab437f45f0e220a31",
       "version_major": 2,
       "version_minor": 0
      },
      "text/plain": [
       "  0%|          | 0/1500 [00:00<?, ?it/s]"
      ]
     },
     "metadata": {},
     "output_type": "display_data"
    },
    {
     "name": "stdout",
     "output_type": "stream",
     "text": [
      "1/1 [==============================] - 0s 72ms/step\n",
      " 16 epochs, mse =  0.11462\n",
      "1/1 [==============================] - 0s 73ms/step\n",
      " 18 epochs, mse =  0.11097\n",
      "1/1 [==============================] - 0s 99ms/step\n",
      " 15 epochs, mse =  0.10664\n",
      "1/1 [==============================] - 0s 137ms/step\n",
      " 21 epochs, mse =  0.10687\n",
      "1/1 [==============================] - 0s 76ms/step\n",
      "  0 epochs, mse =  0.10869\n",
      "[0.01, 0.01, 0.01, 0, 0, 0, 0, 0.01, 0, 0.01]\n",
      "1521/1521 [==============================] - 3s 2ms/step\n",
      "776/776 [==============================] - 1s 2ms/step\n"
     ]
    },
    {
     "name": "stderr",
     "output_type": "stream",
     "text": [
      "/srv/conda/envs/saturn/lib/python3.9/site-packages/numpy/lib/npyio.py:528: VisibleDeprecationWarning: Creating an ndarray from ragged nested sequences (which is a list-or-tuple of lists-or-tuples-or ndarrays with different lengths or shapes) is deprecated. If you meant to do this, you must specify 'dtype=object' when creating the ndarray.\n",
      "  arr = np.asanyarray(arr)\n"
     ]
    },
    {
     "name": "stdout",
     "output_type": "stream",
     "text": [
      "10\n"
     ]
    },
    {
     "data": {
      "application/vnd.jupyter.widget-view+json": {
       "model_id": "ebd23bc1a7fe47869902e5d18fdb0464",
       "version_major": 2,
       "version_minor": 0
      },
      "text/plain": [
       "  0%|          | 0/1500 [00:00<?, ?it/s]"
      ]
     },
     "metadata": {},
     "output_type": "display_data"
    },
    {
     "name": "stdout",
     "output_type": "stream",
     "text": [
      "1/1 [==============================] - 0s 86ms/step\n",
      " 18 epochs, mse =  0.07531\n",
      "1/1 [==============================] - 0s 86ms/step\n",
      " 14 epochs, mse =  0.07496\n",
      "1/1 [==============================] - 0s 94ms/step\n",
      " 20 epochs, mse =  0.07485\n",
      "1/1 [==============================] - 0s 98ms/step\n",
      " 14 epochs, mse =  0.07494\n",
      "1/1 [==============================] - 0s 79ms/step\n",
      " 28 epochs, mse =  0.07734\n",
      "[0.01, 0.01, 0.01, 0, 0, 0, 0, 0.01, 0, 0.01, 0.01]\n",
      "1521/1521 [==============================] - 3s 2ms/step\n",
      "776/776 [==============================] - 1s 2ms/step\n",
      "11\n"
     ]
    },
    {
     "data": {
      "application/vnd.jupyter.widget-view+json": {
       "model_id": "bea740b80d464207bf0aa78346879d5e",
       "version_major": 2,
       "version_minor": 0
      },
      "text/plain": [
       "  0%|          | 0/1500 [00:00<?, ?it/s]"
      ]
     },
     "metadata": {},
     "output_type": "display_data"
    },
    {
     "name": "stdout",
     "output_type": "stream",
     "text": [
      "1/1 [==============================] - 0s 75ms/step\n",
      " 22 epochs, mse =  0.12438\n",
      "1/1 [==============================] - 0s 77ms/step\n",
      " 12 epochs, mse =  0.12498\n",
      "1/1 [==============================] - 0s 87ms/step\n",
      " 13 epochs, mse =  0.12414\n",
      "1/1 [==============================] - 0s 96ms/step\n",
      " 15 epochs, mse =  0.12519\n",
      "1/1 [==============================] - 0s 78ms/step\n",
      " 24 epochs, mse =  0.12741\n",
      "[0.01, 0.01, 0.01, 0, 0, 0, 0, 0.01, 0, 0.01, 0.01, 0.01]\n",
      "1521/1521 [==============================] - 3s 2ms/step\n",
      "776/776 [==============================] - 1s 2ms/step\n",
      "12\n"
     ]
    },
    {
     "data": {
      "application/vnd.jupyter.widget-view+json": {
       "model_id": "4e30d77035d74d78833152dadef33a27",
       "version_major": 2,
       "version_minor": 0
      },
      "text/plain": [
       "  0%|          | 0/1500 [00:00<?, ?it/s]"
      ]
     },
     "metadata": {},
     "output_type": "display_data"
    },
    {
     "name": "stdout",
     "output_type": "stream",
     "text": [
      "1/1 [==============================] - 0s 71ms/step\n",
      " 28 epochs, mse =  0.07417\n",
      "1/1 [==============================] - 0s 73ms/step\n",
      " 20 epochs, mse =  0.07451\n",
      "1/1 [==============================] - 0s 88ms/step\n",
      " 20 epochs, mse =  0.07465\n",
      "1/1 [==============================] - 0s 97ms/step\n",
      " 16 epochs, mse =  0.07611\n",
      "1/1 [==============================] - 0s 94ms/step\n",
      " 22 epochs, mse =  0.07769\n",
      "[0.01, 0.01, 0.01, 0, 0, 0, 0, 0.01, 0, 0.01, 0.01, 0.01, 0.5]\n",
      "1521/1521 [==============================] - 3s 2ms/step\n",
      "776/776 [==============================] - 1s 2ms/step\n",
      "13\n"
     ]
    },
    {
     "data": {
      "application/vnd.jupyter.widget-view+json": {
       "model_id": "21b079ed8db24efdb75e23a4e716143c",
       "version_major": 2,
       "version_minor": 0
      },
      "text/plain": [
       "  0%|          | 0/1500 [00:00<?, ?it/s]"
      ]
     },
     "metadata": {},
     "output_type": "display_data"
    },
    {
     "name": "stdout",
     "output_type": "stream",
     "text": [
      "1/1 [==============================] - 0s 73ms/step\n",
      " 20 epochs, mse =  0.11275\n",
      "1/1 [==============================] - 0s 73ms/step\n",
      " 12 epochs, mse =  0.11247\n",
      "1/1 [==============================] - 0s 89ms/step\n",
      " 17 epochs, mse =  0.11208\n",
      "1/1 [==============================] - 0s 139ms/step\n",
      " 18 epochs, mse =  0.10918\n",
      "1/1 [==============================] - 0s 90ms/step\n",
      " 29 epochs, mse =  0.10951\n",
      "[0.01, 0.01, 0.01, 0, 0, 0, 0, 0.01, 0, 0.01, 0.01, 0.01, 0.5, 0.001]\n",
      "1521/1521 [==============================] - 3s 2ms/step\n",
      "776/776 [==============================] - 1s 2ms/step\n",
      "14\n"
     ]
    },
    {
     "data": {
      "application/vnd.jupyter.widget-view+json": {
       "model_id": "b05aae35a7564f46bb18a7370e72247a",
       "version_major": 2,
       "version_minor": 0
      },
      "text/plain": [
       "  0%|          | 0/1500 [00:00<?, ?it/s]"
      ]
     },
     "metadata": {},
     "output_type": "display_data"
    },
    {
     "name": "stdout",
     "output_type": "stream",
     "text": [
      "1/1 [==============================] - 0s 84ms/step\n",
      " 35 epochs, mse =  1.29811\n",
      "1/1 [==============================] - 0s 78ms/step\n",
      " 22 epochs, mse =  0.35255\n",
      "1/1 [==============================] - 0s 75ms/step\n",
      " 20 epochs, mse =  0.33804\n",
      "1/1 [==============================] - 0s 88ms/step\n",
      " 13 epochs, mse =  0.32943\n",
      "1/1 [==============================] - 0s 96ms/step\n",
      " 14 epochs, mse =  0.33430\n",
      "1/1 [==============================] - 0s 78ms/step\n",
      " 15 epochs, mse =  0.32325\n",
      "[0.01, 0.01, 0.01, 0, 0, 0, 0, 0.01, 0, 0.01, 0.01, 0.01, 0.5, 0.001, 0, 0]\n",
      "1521/1521 [==============================] - 3s 2ms/step\n",
      "776/776 [==============================] - 1s 2ms/step\n",
      "16\n"
     ]
    },
    {
     "data": {
      "application/vnd.jupyter.widget-view+json": {
       "model_id": "890087bb5c064e6aa2bd06a316ed7f9c",
       "version_major": 2,
       "version_minor": 0
      },
      "text/plain": [
       "  0%|          | 0/1500 [00:00<?, ?it/s]"
      ]
     },
     "metadata": {},
     "output_type": "display_data"
    },
    {
     "name": "stdout",
     "output_type": "stream",
     "text": [
      "1/1 [==============================] - 0s 73ms/step\n",
      " 31 epochs, mse =  0.47807\n",
      "1/1 [==============================] - 0s 74ms/step\n",
      " 31 epochs, mse =  0.45117\n",
      "1/1 [==============================] - 0s 86ms/step\n",
      " 29 epochs, mse =  0.45585\n",
      "1/1 [==============================] - 0s 97ms/step\n",
      " 47 epochs, mse =  0.43494\n",
      "1/1 [==============================] - 0s 77ms/step\n",
      " 13 epochs, mse =  0.42477\n",
      "[0.01, 0.01, 0.01, 0, 0, 0, 0, 0.01, 0, 0.01, 0.01, 0.01, 0.5, 0.001, 0, 0, 0]\n",
      "1521/1521 [==============================] - 3s 2ms/step\n",
      "776/776 [==============================] - 1s 2ms/step\n",
      "17\n"
     ]
    },
    {
     "data": {
      "application/vnd.jupyter.widget-view+json": {
       "model_id": "caf0d8a382454bdda708dd7150f8660e",
       "version_major": 2,
       "version_minor": 0
      },
      "text/plain": [
       "  0%|          | 0/1500 [00:00<?, ?it/s]"
      ]
     },
     "metadata": {},
     "output_type": "display_data"
    },
    {
     "name": "stdout",
     "output_type": "stream",
     "text": [
      "1/1 [==============================] - 0s 72ms/step\n",
      " 22 epochs, mse =  0.36423\n",
      "1/1 [==============================] - 0s 76ms/step\n",
      " 16 epochs, mse =  0.33033\n",
      "1/1 [==============================] - 0s 87ms/step\n",
      " 16 epochs, mse =  0.29971\n",
      "1/1 [==============================] - 0s 96ms/step\n",
      " 12 epochs, mse =  0.62584\n",
      "1/1 [==============================] - 0s 102ms/step\n",
      " 34 epochs, mse =  0.22511\n",
      "[0.01, 0.01, 0.01, 0, 0, 0, 0, 0.01, 0, 0.01, 0.01, 0.01, 0.5, 0.001, 0, 0, 0, 0]\n",
      "1521/1521 [==============================] - 3s 2ms/step\n",
      "776/776 [==============================] - 1s 2ms/step\n",
      "18\n"
     ]
    },
    {
     "data": {
      "application/vnd.jupyter.widget-view+json": {
       "model_id": "4416030f742f4058bbae0f2c72498983",
       "version_major": 2,
       "version_minor": 0
      },
      "text/plain": [
       "  0%|          | 0/1500 [00:00<?, ?it/s]"
      ]
     },
     "metadata": {},
     "output_type": "display_data"
    },
    {
     "name": "stdout",
     "output_type": "stream",
     "text": [
      "1/1 [==============================] - 0s 84ms/step\n",
      " 23 epochs, mse =  0.44188\n",
      "1/1 [==============================] - 0s 83ms/step\n",
      " 23 epochs, mse =  0.40143\n",
      "1/1 [==============================] - 0s 93ms/step\n",
      " 15 epochs, mse =  0.36777\n",
      "1/1 [==============================] - 0s 101ms/step\n",
      " 15 epochs, mse =  0.33989\n",
      "1/1 [==============================] - 0s 80ms/step\n",
      " 19 epochs, mse =  0.37916\n",
      "[0.01, 0.01, 0.01, 0, 0, 0, 0, 0.01, 0, 0.01, 0.01, 0.01, 0.5, 0.001, 0, 0, 0, 0, 0.001]\n",
      "1521/1521 [==============================] - 3s 2ms/step\n",
      "776/776 [==============================] - 1s 2ms/step\n",
      "19\n"
     ]
    },
    {
     "data": {
      "application/vnd.jupyter.widget-view+json": {
       "model_id": "f8e1860723a145118e40cdaccf6019ba",
       "version_major": 2,
       "version_minor": 0
      },
      "text/plain": [
       "  0%|          | 0/1500 [00:00<?, ?it/s]"
      ]
     },
     "metadata": {},
     "output_type": "display_data"
    },
    {
     "name": "stderr",
     "output_type": "stream",
     "text": [
      "IOPub message rate exceeded.\n",
      "The Jupyter server will temporarily stop sending output\n",
      "to the client in order to avoid crashing it.\n",
      "To change this limit, set the config variable\n",
      "`--ServerApp.iopub_msg_rate_limit`.\n",
      "\n",
      "Current values:\n",
      "ServerApp.iopub_msg_rate_limit=1000.0 (msgs/sec)\n",
      "ServerApp.rate_limit_window=3.0 (secs)\n",
      "\n"
     ]
    },
    {
     "name": "stdout",
     "output_type": "stream",
     "text": [
      "1/1 [==============================] - 0s 72ms/step\n",
      " 27 epochs, mse =  0.05674\n",
      "1/1 [==============================] - 0s 73ms/step\n",
      " 15 epochs, mse =  0.05671\n",
      "1/1 [==============================] - 0s 87ms/step\n",
      " 20 epochs, mse =  0.05702\n",
      "1/1 [==============================] - 0s 92ms/step\n",
      " 14 epochs, mse =  0.05664\n",
      "1/1 [==============================] - 0s 75ms/step\n",
      " 22 epochs, mse =  0.05751\n",
      "[0.01, 0.01, 0.01, 0, 0, 0, 0, 0.01, 0, 0.01, 0.01, 0.01, 0.5, 0.001, 0, 0, 0, 0, 0.001, 0.01, 0, 0, 0.001, 0.01, 0, 0.01, 0.01, 0.01, 0, 0.001]\n",
      "1521/1521 [==============================] - 3s 2ms/step\n",
      "776/776 [==============================] - 1s 2ms/step\n",
      "30\n"
     ]
    },
    {
     "data": {
      "application/vnd.jupyter.widget-view+json": {
       "model_id": "22b3a6588a084a699f7cdee5175d0cee",
       "version_major": 2,
       "version_minor": 0
      },
      "text/plain": [
       "  0%|          | 0/1500 [00:00<?, ?it/s]"
      ]
     },
     "metadata": {},
     "output_type": "display_data"
    },
    {
     "name": "stdout",
     "output_type": "stream",
     "text": [
      "1/1 [==============================] - 0s 70ms/step\n",
      " 34 epochs, mse =  0.05987\n",
      "1/1 [==============================] - 0s 72ms/step\n",
      " 19 epochs, mse =  0.05994\n",
      "1/1 [==============================] - 0s 88ms/step\n",
      " 13 epochs, mse =  0.06013\n",
      "1/1 [==============================] - 0s 137ms/step\n",
      " 19 epochs, mse =  0.06031\n",
      "1/1 [==============================] - 0s 90ms/step\n",
      " 27 epochs, mse =  0.06959\n",
      "[0.01, 0.01, 0.01, 0, 0, 0, 0, 0.01, 0, 0.01, 0.01, 0.01, 0.5, 0.001, 0, 0, 0, 0, 0.001, 0.01, 0, 0, 0.001, 0.01, 0, 0.01, 0.01, 0.01, 0, 0.001, 0.5]\n",
      "1521/1521 [==============================] - 3s 2ms/step\n",
      "776/776 [==============================] - 1s 2ms/step\n",
      "31\n"
     ]
    },
    {
     "data": {
      "application/vnd.jupyter.widget-view+json": {
       "model_id": "7934007a956749609d69514cd672b924",
       "version_major": 2,
       "version_minor": 0
      },
      "text/plain": [
       "  0%|          | 0/1500 [00:00<?, ?it/s]"
      ]
     },
     "metadata": {},
     "output_type": "display_data"
    },
    {
     "name": "stdout",
     "output_type": "stream",
     "text": [
      "1/1 [==============================] - 0s 87ms/step\n",
      " 38 epochs, mse =  0.09295\n",
      "1/1 [==============================] - 0s 84ms/step\n",
      " 18 epochs, mse =  0.09335\n",
      "1/1 [==============================] - 0s 96ms/step\n",
      " 16 epochs, mse =  0.09217\n",
      "1/1 [==============================] - 0s 104ms/step\n",
      " 26 epochs, mse =  0.09233\n",
      "1/1 [==============================] - 0s 83ms/step\n",
      " 26 epochs, mse =  0.09293\n",
      "[0.01, 0.01, 0.01, 0, 0, 0, 0, 0.01, 0, 0.01, 0.01, 0.01, 0.5, 0.001, 0, 0, 0, 0, 0.001, 0.01, 0, 0, 0.001, 0.01, 0, 0.01, 0.01, 0.01, 0, 0.001, 0.5, 0.01]\n",
      "1521/1521 [==============================] - 3s 2ms/step\n",
      "776/776 [==============================] - 1s 2ms/step\n",
      "32\n"
     ]
    },
    {
     "data": {
      "application/vnd.jupyter.widget-view+json": {
       "model_id": "326ab006ce0c49d4ae61aeee1b684986",
       "version_major": 2,
       "version_minor": 0
      },
      "text/plain": [
       "  0%|          | 0/1500 [00:00<?, ?it/s]"
      ]
     },
     "metadata": {},
     "output_type": "display_data"
    },
    {
     "name": "stdout",
     "output_type": "stream",
     "text": [
      "1/1 [==============================] - 0s 74ms/step\n",
      " 22 epochs, mse =  0.07483\n",
      "1/1 [==============================] - 0s 90ms/step\n",
      " 16 epochs, mse =  0.07542\n",
      "1/1 [==============================] - 0s 92ms/step\n",
      " 15 epochs, mse =  0.07468\n",
      "1/1 [==============================] - 0s 99ms/step\n",
      " 18 epochs, mse =  0.07560\n",
      "1/1 [==============================] - 0s 80ms/step\n",
      " 16 epochs, mse =  0.07681\n",
      "[0.01, 0.01, 0.01, 0, 0, 0, 0, 0.01, 0, 0.01, 0.01, 0.01, 0.5, 0.001, 0, 0, 0, 0, 0.001, 0.01, 0, 0, 0.001, 0.01, 0, 0.01, 0.01, 0.01, 0, 0.001, 0.5, 0.01, 0.01]\n",
      "1521/1521 [==============================] - 3s 2ms/step\n",
      "776/776 [==============================] - 1s 2ms/step\n",
      "33\n"
     ]
    },
    {
     "data": {
      "application/vnd.jupyter.widget-view+json": {
       "model_id": "1b1ec7fea83140f492963e84efe837b8",
       "version_major": 2,
       "version_minor": 0
      },
      "text/plain": [
       "  0%|          | 0/1500 [00:00<?, ?it/s]"
      ]
     },
     "metadata": {},
     "output_type": "display_data"
    },
    {
     "name": "stderr",
     "output_type": "stream",
     "text": [
      "IOPub message rate exceeded.\n",
      "The Jupyter server will temporarily stop sending output\n",
      "to the client in order to avoid crashing it.\n",
      "To change this limit, set the config variable\n",
      "`--ServerApp.iopub_msg_rate_limit`.\n",
      "\n",
      "Current values:\n",
      "ServerApp.iopub_msg_rate_limit=1000.0 (msgs/sec)\n",
      "ServerApp.rate_limit_window=3.0 (secs)\n",
      "\n"
     ]
    },
    {
     "name": "stdout",
     "output_type": "stream",
     "text": [
      "1/1 [==============================] - 0s 76ms/step\n",
      " 26 epochs, mse =  0.90710\n",
      "1/1 [==============================] - 0s 74ms/step\n",
      " 30 epochs, mse =  0.76425\n",
      "1/1 [==============================] - 0s 86ms/step\n",
      " 20 epochs, mse =  0.79487\n",
      "1/1 [==============================] - 0s 97ms/step\n",
      " 19 epochs, mse =  0.69436\n",
      "1/1 [==============================] - 0s 77ms/step\n",
      " 29 epochs, mse =  0.82639\n",
      "[0.01, 0.01, 0.01, 0, 0, 0, 0, 0.01, 0, 0.01, 0.01, 0.01, 0.5, 0.001, 0, 0, 0, 0, 0.001, 0.01, 0, 0, 0.001, 0.01, 0, 0.01, 0.01, 0.01, 0, 0.001, 0.5, 0.01, 0.01, 0.01, 0.01, 0.001, 0.01, 0, 0.5, 0.5, 0.01, 0.01, 0.001, 0.001]\n",
      "1521/1521 [==============================] - 3s 2ms/step\n",
      "776/776 [==============================] - 1s 2ms/step\n",
      "44\n"
     ]
    },
    {
     "data": {
      "application/vnd.jupyter.widget-view+json": {
       "model_id": "1494c5e80d4b4101819fd1a9fb38887b",
       "version_major": 2,
       "version_minor": 0
      },
      "text/plain": [
       "  0%|          | 0/1500 [00:00<?, ?it/s]"
      ]
     },
     "metadata": {},
     "output_type": "display_data"
    },
    {
     "name": "stdout",
     "output_type": "stream",
     "text": [
      "1/1 [==============================] - 0s 70ms/step\n",
      " 30 epochs, mse =  0.07450\n",
      "1/1 [==============================] - 0s 72ms/step\n",
      " 21 epochs, mse =  0.07411\n",
      "1/1 [==============================] - 0s 87ms/step\n",
      " 16 epochs, mse =  0.07284\n",
      "1/1 [==============================] - 0s 114ms/step\n",
      " 23 epochs, mse =  0.07285\n",
      "1/1 [==============================] - 0s 92ms/step\n",
      " 24 epochs, mse =  0.07487\n",
      "[0.01, 0.01, 0.01, 0, 0, 0, 0, 0.01, 0, 0.01, 0.01, 0.01, 0.5, 0.001, 0, 0, 0, 0, 0.001, 0.01, 0, 0, 0.001, 0.01, 0, 0.01, 0.01, 0.01, 0, 0.001, 0.5, 0.01, 0.01, 0.01, 0.01, 0.001, 0.01, 0, 0.5, 0.5, 0.01, 0.01, 0.001, 0.001, 0.01]\n",
      "1521/1521 [==============================] - 3s 2ms/step\n",
      "776/776 [==============================] - 1s 2ms/step\n",
      "45\n"
     ]
    },
    {
     "data": {
      "application/vnd.jupyter.widget-view+json": {
       "model_id": "7add552e91dc4cbb8d6b64afc93aa31b",
       "version_major": 2,
       "version_minor": 0
      },
      "text/plain": [
       "  0%|          | 0/1500 [00:00<?, ?it/s]"
      ]
     },
     "metadata": {},
     "output_type": "display_data"
    },
    {
     "name": "stdout",
     "output_type": "stream",
     "text": [
      "1/1 [==============================] - 0s 83ms/step\n",
      " 53 epochs, mse =  0.06472\n",
      "1/1 [==============================] - 0s 84ms/step\n",
      " 18 epochs, mse =  0.06485\n",
      "1/1 [==============================] - 0s 96ms/step\n",
      " 16 epochs, mse =  0.06470\n",
      "1/1 [==============================] - 0s 101ms/step\n",
      " 20 epochs, mse =  0.06449\n",
      "1/1 [==============================] - 0s 84ms/step\n",
      " 17 epochs, mse =  0.06600\n",
      "[0.01, 0.01, 0.01, 0, 0, 0, 0, 0.01, 0, 0.01, 0.01, 0.01, 0.5, 0.001, 0, 0, 0, 0, 0.001, 0.01, 0, 0, 0.001, 0.01, 0, 0.01, 0.01, 0.01, 0, 0.001, 0.5, 0.01, 0.01, 0.01, 0.01, 0.001, 0.01, 0, 0.5, 0.5, 0.01, 0.01, 0.001, 0.001, 0.01, 0.001]\n",
      "1521/1521 [==============================] - 3s 2ms/step\n",
      "776/776 [==============================] - 1s 2ms/step\n",
      "46\n"
     ]
    },
    {
     "data": {
      "application/vnd.jupyter.widget-view+json": {
       "model_id": "a8a97b1f264249779188e286b9ba841e",
       "version_major": 2,
       "version_minor": 0
      },
      "text/plain": [
       "  0%|          | 0/1500 [00:00<?, ?it/s]"
      ]
     },
     "metadata": {},
     "output_type": "display_data"
    },
    {
     "name": "stdout",
     "output_type": "stream",
     "text": [
      "1/1 [==============================] - 0s 77ms/step\n",
      " 23 epochs, mse =  0.17246\n",
      "1/1 [==============================] - 0s 80ms/step\n",
      " 15 epochs, mse =  0.16925\n",
      "1/1 [==============================] - 0s 89ms/step\n",
      " 17 epochs, mse =  0.15760\n",
      "1/1 [==============================] - 0s 97ms/step\n",
      " 18 epochs, mse =  0.15730\n",
      "1/1 [==============================] - 0s 78ms/step\n",
      " 17 epochs, mse =  0.15314\n",
      "[0.01, 0.01, 0.01, 0, 0, 0, 0, 0.01, 0, 0.01, 0.01, 0.01, 0.5, 0.001, 0, 0, 0, 0, 0.001, 0.01, 0, 0, 0.001, 0.01, 0, 0.01, 0.01, 0.01, 0, 0.001, 0.5, 0.01, 0.01, 0.01, 0.01, 0.001, 0.01, 0, 0.5, 0.5, 0.01, 0.01, 0.001, 0.001, 0.01, 0.001, 0]\n",
      "1521/1521 [==============================] - 3s 2ms/step\n",
      "776/776 [==============================] - 1s 2ms/step\n",
      "47\n"
     ]
    },
    {
     "data": {
      "application/vnd.jupyter.widget-view+json": {
       "model_id": "665d165bfdba45d69db227330de4f0d7",
       "version_major": 2,
       "version_minor": 0
      },
      "text/plain": [
       "  0%|          | 0/1500 [00:00<?, ?it/s]"
      ]
     },
     "metadata": {},
     "output_type": "display_data"
    },
    {
     "name": "stderr",
     "output_type": "stream",
     "text": [
      "IOPub message rate exceeded.\n",
      "The Jupyter server will temporarily stop sending output\n",
      "to the client in order to avoid crashing it.\n",
      "To change this limit, set the config variable\n",
      "`--ServerApp.iopub_msg_rate_limit`.\n",
      "\n",
      "Current values:\n",
      "ServerApp.iopub_msg_rate_limit=1000.0 (msgs/sec)\n",
      "ServerApp.rate_limit_window=3.0 (secs)\n",
      "\n"
     ]
    },
    {
     "name": "stdout",
     "output_type": "stream",
     "text": [
      "1/1 [==============================] - 0s 78ms/step\n",
      " 16 epochs, mse =  0.07744\n",
      "1/1 [==============================] - 0s 91ms/step\n",
      " 21 epochs, mse =  0.07737\n",
      "1/1 [==============================] - 0s 98ms/step\n",
      " 21 epochs, mse =  0.07736\n",
      "1/1 [==============================] - 0s 80ms/step\n",
      " 15 epochs, mse =  0.07756\n",
      "[0.01, 0.01, 0.01, 0, 0, 0, 0, 0.01, 0, 0.01, 0.01, 0.01, 0.5, 0.001, 0, 0, 0, 0, 0.001, 0.01, 0, 0, 0.001, 0.01, 0, 0.01, 0.01, 0.01, 0, 0.001, 0.5, 0.01, 0.01, 0.01, 0.01, 0.001, 0.01, 0, 0.5, 0.5, 0.01, 0.01, 0.001, 0.001, 0.01, 0.001, 0, 0.001, 0, 0.001, 0.01, 0.001]\n",
      "1521/1521 [==============================] - 3s 2ms/step\n",
      "776/776 [==============================] - 1s 2ms/step\n",
      "52\n"
     ]
    },
    {
     "data": {
      "application/vnd.jupyter.widget-view+json": {
       "model_id": "76bcfbb4751d4fd1a6fc1c2f67112e21",
       "version_major": 2,
       "version_minor": 0
      },
      "text/plain": [
       "  0%|          | 0/1500 [00:00<?, ?it/s]"
      ]
     },
     "metadata": {},
     "output_type": "display_data"
    },
    {
     "name": "stdout",
     "output_type": "stream",
     "text": [
      "1/1 [==============================] - 0s 74ms/step\n",
      " 16 epochs, mse =  0.16700\n",
      "1/1 [==============================] - 0s 79ms/step\n",
      " 19 epochs, mse =  0.15244\n",
      "1/1 [==============================] - 0s 87ms/step\n",
      " 19 epochs, mse =  0.16354\n",
      "1/1 [==============================] - 0s 94ms/step\n",
      " 25 epochs, mse =  0.16654\n",
      "1/1 [==============================] - 0s 91ms/step\n",
      " 30 epochs, mse =  0.14564\n",
      "[0.01, 0.01, 0.01, 0, 0, 0, 0, 0.01, 0, 0.01, 0.01, 0.01, 0.5, 0.001, 0, 0, 0, 0, 0.001, 0.01, 0, 0, 0.001, 0.01, 0, 0.01, 0.01, 0.01, 0, 0.001, 0.5, 0.01, 0.01, 0.01, 0.01, 0.001, 0.01, 0, 0.5, 0.5, 0.01, 0.01, 0.001, 0.001, 0.01, 0.001, 0, 0.001, 0, 0.001, 0.01, 0.001, 0]\n",
      "1521/1521 [==============================] - 3s 2ms/step\n",
      "776/776 [==============================] - 1s 2ms/step\n",
      "53\n"
     ]
    },
    {
     "data": {
      "application/vnd.jupyter.widget-view+json": {
       "model_id": "4dbf8dcb15ae4a82b2e8259c5fb46771",
       "version_major": 2,
       "version_minor": 0
      },
      "text/plain": [
       "  0%|          | 0/1500 [00:00<?, ?it/s]"
      ]
     },
     "metadata": {},
     "output_type": "display_data"
    },
    {
     "name": "stdout",
     "output_type": "stream",
     "text": [
      "1/1 [==============================] - 0s 72ms/step\n",
      " 18 epochs, mse =  0.10179\n",
      "1/1 [==============================] - 0s 74ms/step\n",
      " 15 epochs, mse =  0.10232\n",
      "1/1 [==============================] - 0s 85ms/step\n",
      " 14 epochs, mse =  0.10298\n",
      "1/1 [==============================] - 0s 95ms/step\n",
      " 12 epochs, mse =  0.10181\n",
      "1/1 [==============================] - 0s 75ms/step\n",
      " 31 epochs, mse =  0.10832\n",
      "[0.01, 0.01, 0.01, 0, 0, 0, 0, 0.01, 0, 0.01, 0.01, 0.01, 0.5, 0.001, 0, 0, 0, 0, 0.001, 0.01, 0, 0, 0.001, 0.01, 0, 0.01, 0.01, 0.01, 0, 0.001, 0.5, 0.01, 0.01, 0.01, 0.01, 0.001, 0.01, 0, 0.5, 0.5, 0.01, 0.01, 0.001, 0.001, 0.01, 0.001, 0, 0.001, 0, 0.001, 0.01, 0.001, 0, 0.5]\n",
      "1521/1521 [==============================] - 3s 2ms/step\n",
      "776/776 [==============================] - 1s 2ms/step\n",
      "54\n"
     ]
    },
    {
     "data": {
      "application/vnd.jupyter.widget-view+json": {
       "model_id": "6a3d42a6c44c4d488202d3f99a309181",
       "version_major": 2,
       "version_minor": 0
      },
      "text/plain": [
       "  0%|          | 0/1500 [00:00<?, ?it/s]"
      ]
     },
     "metadata": {},
     "output_type": "display_data"
    },
    {
     "name": "stdout",
     "output_type": "stream",
     "text": [
      "1/1 [==============================] - 0s 70ms/step\n",
      " 12 epochs, mse =  0.13508\n",
      "1/1 [==============================] - 0s 73ms/step\n",
      " 13 epochs, mse =  0.13230\n",
      "1/1 [==============================] - 0s 86ms/step\n",
      " 14 epochs, mse =  0.12520\n",
      "1/1 [==============================] - 0s 111ms/step\n",
      " 16 epochs, mse =  0.12348\n",
      "1/1 [==============================] - 0s 92ms/step\n",
      " 14 epochs, mse =  0.12025\n",
      "[0.01, 0.01, 0.01, 0, 0, 0, 0, 0.01, 0, 0.01, 0.01, 0.01, 0.5, 0.001, 0, 0, 0, 0, 0.001, 0.01, 0, 0, 0.001, 0.01, 0, 0.01, 0.01, 0.01, 0, 0.001, 0.5, 0.01, 0.01, 0.01, 0.01, 0.001, 0.01, 0, 0.5, 0.5, 0.01, 0.01, 0.001, 0.001, 0.01, 0.001, 0, 0.001, 0, 0.001, 0.01, 0.001, 0, 0.5, 0]\n",
      "1521/1521 [==============================] - 3s 2ms/step\n",
      "776/776 [==============================] - 1s 2ms/step\n",
      "55\n"
     ]
    },
    {
     "data": {
      "application/vnd.jupyter.widget-view+json": {
       "model_id": "8abbe599bd7b474cad7a8cd1c4d4bc4a",
       "version_major": 2,
       "version_minor": 0
      },
      "text/plain": [
       "  0%|          | 0/1500 [00:00<?, ?it/s]"
      ]
     },
     "metadata": {},
     "output_type": "display_data"
    },
    {
     "name": "stdout",
     "output_type": "stream",
     "text": [
      "1/1 [==============================] - 0s 84ms/step\n",
      " 20 epochs, mse =  0.10321\n",
      "1/1 [==============================] - 0s 90ms/step\n",
      " 19 epochs, mse =  0.10107\n",
      "1/1 [==============================] - 0s 94ms/step\n",
      " 19 epochs, mse =  0.10924\n",
      "1/1 [==============================] - 0s 102ms/step\n",
      " 15 epochs, mse =  0.09549\n",
      "1/1 [==============================] - 0s 85ms/step\n",
      " 27 epochs, mse =  0.09517\n",
      "[0.01, 0.01, 0.01, 0, 0, 0, 0, 0.01, 0, 0.01, 0.01, 0.01, 0.5, 0.001, 0, 0, 0, 0, 0.001, 0.01, 0, 0, 0.001, 0.01, 0, 0.01, 0.01, 0.01, 0, 0.001, 0.5, 0.01, 0.01, 0.01, 0.01, 0.001, 0.01, 0, 0.5, 0.5, 0.01, 0.01, 0.001, 0.001, 0.01, 0.001, 0, 0.001, 0, 0.001, 0.01, 0.001, 0, 0.5, 0, 0]\n",
      "1521/1521 [==============================] - 3s 2ms/step\n",
      "776/776 [==============================] - 1s 2ms/step\n",
      "56\n"
     ]
    },
    {
     "data": {
      "application/vnd.jupyter.widget-view+json": {
       "model_id": "2583944c81b1430196dc22b54f800754",
       "version_major": 2,
       "version_minor": 0
      },
      "text/plain": [
       "  0%|          | 0/1500 [00:00<?, ?it/s]"
      ]
     },
     "metadata": {},
     "output_type": "display_data"
    },
    {
     "name": "stdout",
     "output_type": "stream",
     "text": [
      "1/1 [==============================] - 0s 80ms/step\n",
      " 33 epochs, mse =  0.06857\n",
      "1/1 [==============================] - 0s 76ms/step\n",
      " 17 epochs, mse =  0.06853\n",
      "1/1 [==============================] - 0s 89ms/step\n",
      " 17 epochs, mse =  0.06790\n",
      "1/1 [==============================] - 0s 94ms/step\n",
      " 17 epochs, mse =  0.06854\n",
      "1/1 [==============================] - 0s 80ms/step\n",
      " 32 epochs, mse =  0.07068\n",
      "[0.01, 0.01, 0.01, 0, 0, 0, 0, 0.01, 0, 0.01, 0.01, 0.01, 0.5, 0.001, 0, 0, 0, 0, 0.001, 0.01, 0, 0, 0.001, 0.01, 0, 0.01, 0.01, 0.01, 0, 0.001, 0.5, 0.01, 0.01, 0.01, 0.01, 0.001, 0.01, 0, 0.5, 0.5, 0.01, 0.01, 0.001, 0.001, 0.01, 0.001, 0, 0.001, 0, 0.001, 0.01, 0.001, 0, 0.5, 0, 0, 0.01]\n",
      "1521/1521 [==============================] - 3s 2ms/step\n",
      "776/776 [==============================] - 1s 2ms/step\n",
      "57\n"
     ]
    },
    {
     "data": {
      "application/vnd.jupyter.widget-view+json": {
       "model_id": "e7a96d8ccb534b669748a82131247970",
       "version_major": 2,
       "version_minor": 0
      },
      "text/plain": [
       "  0%|          | 0/1500 [00:00<?, ?it/s]"
      ]
     },
     "metadata": {},
     "output_type": "display_data"
    },
    {
     "name": "stdout",
     "output_type": "stream",
     "text": [
      "1/1 [==============================] - 0s 76ms/step\n",
      " 29 epochs, mse =  0.30424\n",
      "1/1 [==============================] - 0s 77ms/step\n",
      " 29 epochs, mse =  0.30460\n",
      "1/1 [==============================] - 0s 88ms/step\n",
      " 19 epochs, mse =  0.28926\n",
      "1/1 [==============================] - 0s 99ms/step\n",
      " 12 epochs, mse =  0.41314\n",
      "1/1 [==============================] - 0s 78ms/step\n",
      " 18 epochs, mse =  0.25937\n",
      "[0.01, 0.01, 0.01, 0, 0, 0, 0, 0.01, 0, 0.01, 0.01, 0.01, 0.5, 0.001, 0, 0, 0, 0, 0.001, 0.01, 0, 0, 0.001, 0.01, 0, 0.01, 0.01, 0.01, 0, 0.001, 0.5, 0.01, 0.01, 0.01, 0.01, 0.001, 0.01, 0, 0.5, 0.5, 0.01, 0.01, 0.001, 0.001, 0.01, 0.001, 0, 0.001, 0, 0.001, 0.01, 0.001, 0, 0.5, 0, 0, 0.01, 0]\n",
      "1521/1521 [==============================] - 3s 2ms/step\n",
      "776/776 [==============================] - 1s 2ms/step\n",
      "58\n"
     ]
    },
    {
     "data": {
      "application/vnd.jupyter.widget-view+json": {
       "model_id": "12b5bc834b8c4249b0f3e4a33206ee15",
       "version_major": 2,
       "version_minor": 0
      },
      "text/plain": [
       "  0%|          | 0/1500 [00:00<?, ?it/s]"
      ]
     },
     "metadata": {},
     "output_type": "display_data"
    },
    {
     "name": "stdout",
     "output_type": "stream",
     "text": [
      "1/1 [==============================] - 0s 73ms/step\n",
      " 21 epochs, mse =  0.10403\n",
      "1/1 [==============================] - 0s 73ms/step\n",
      " 12 epochs, mse =  0.10410\n",
      "1/1 [==============================] - 0s 87ms/step\n",
      " 19 epochs, mse =  0.10367\n",
      "1/1 [==============================] - 0s 93ms/step\n",
      " 12 epochs, mse =  0.10368\n",
      "1/1 [==============================] - 0s 78ms/step\n",
      " 36 epochs, mse =  0.11397\n",
      "[0.01, 0.01, 0.01, 0, 0, 0, 0, 0.01, 0, 0.01, 0.01, 0.01, 0.5, 0.001, 0, 0, 0, 0, 0.001, 0.01, 0, 0, 0.001, 0.01, 0, 0.01, 0.01, 0.01, 0, 0.001, 0.5, 0.01, 0.01, 0.01, 0.01, 0.001, 0.01, 0, 0.5, 0.5, 0.01, 0.01, 0.001, 0.001, 0.01, 0.001, 0, 0.001, 0, 0.001, 0.01, 0.001, 0, 0.5, 0, 0, 0.01, 0, 0.01]\n",
      "1521/1521 [==============================] - 3s 2ms/step\n",
      "776/776 [==============================] - 1s 2ms/step\n",
      "59\n"
     ]
    },
    {
     "data": {
      "application/vnd.jupyter.widget-view+json": {
       "model_id": "bdb3e82927b44cab807ec832b3380c85",
       "version_major": 2,
       "version_minor": 0
      },
      "text/plain": [
       "  0%|          | 0/1500 [00:00<?, ?it/s]"
      ]
     },
     "metadata": {},
     "output_type": "display_data"
    },
    {
     "name": "stdout",
     "output_type": "stream",
     "text": [
      "1/1 [==============================] - 0s 71ms/step\n",
      " 32 epochs, mse =  0.10668\n",
      "1/1 [==============================] - 0s 73ms/step\n",
      " 17 epochs, mse =  0.10675\n",
      "1/1 [==============================] - 0s 87ms/step\n",
      " 14 epochs, mse =  0.10660\n",
      "1/1 [==============================] - 0s 94ms/step\n",
      " 14 epochs, mse =  0.10607\n",
      "1/1 [==============================] - 0s 92ms/step\n",
      " 19 epochs, mse =  0.11568\n",
      "[0.01, 0.01, 0.01, 0, 0, 0, 0, 0.01, 0, 0.01, 0.01, 0.01, 0.5, 0.001, 0, 0, 0, 0, 0.001, 0.01, 0, 0, 0.001, 0.01, 0, 0.01, 0.01, 0.01, 0, 0.001, 0.5, 0.01, 0.01, 0.01, 0.01, 0.001, 0.01, 0, 0.5, 0.5, 0.01, 0.01, 0.001, 0.001, 0.01, 0.001, 0, 0.001, 0, 0.001, 0.01, 0.001, 0, 0.5, 0, 0, 0.01, 0, 0.01, 0.001]\n",
      "1521/1521 [==============================] - 3s 2ms/step\n",
      "776/776 [==============================] - 1s 2ms/step\n",
      "60\n"
     ]
    },
    {
     "data": {
      "application/vnd.jupyter.widget-view+json": {
       "model_id": "977581f524d74c2caff72b266cd313f3",
       "version_major": 2,
       "version_minor": 0
      },
      "text/plain": [
       "  0%|          | 0/1500 [00:00<?, ?it/s]"
      ]
     },
     "metadata": {},
     "output_type": "display_data"
    },
    {
     "name": "stdout",
     "output_type": "stream",
     "text": [
      "1/1 [==============================] - 0s 86ms/step\n",
      " 31 epochs, mse =  0.12536\n",
      "1/1 [==============================] - 0s 86ms/step\n",
      " 14 epochs, mse =  0.12327\n",
      "1/1 [==============================] - 0s 97ms/step\n",
      " 15 epochs, mse =  0.11872\n",
      "1/1 [==============================] - 0s 105ms/step\n",
      " 15 epochs, mse =  0.11510\n",
      "1/1 [==============================] - 0s 84ms/step\n",
      " 26 epochs, mse =  0.12292\n",
      "[0.01, 0.01, 0.01, 0, 0, 0, 0, 0.01, 0, 0.01, 0.01, 0.01, 0.5, 0.001, 0, 0, 0, 0, 0.001, 0.01, 0, 0, 0.001, 0.01, 0, 0.01, 0.01, 0.01, 0, 0.001, 0.5, 0.01, 0.01, 0.01, 0.01, 0.001, 0.01, 0, 0.5, 0.5, 0.01, 0.01, 0.001, 0.001, 0.01, 0.001, 0, 0.001, 0, 0.001, 0.01, 0.001, 0, 0.5, 0, 0, 0.01, 0, 0.01, 0.001, 0.001]\n",
      "1521/1521 [==============================] - 3s 2ms/step\n",
      "776/776 [==============================] - 1s 2ms/step\n",
      "61\n"
     ]
    },
    {
     "data": {
      "application/vnd.jupyter.widget-view+json": {
       "model_id": "25c864609e7146c1acc32b561d1a57d4",
       "version_major": 2,
       "version_minor": 0
      },
      "text/plain": [
       "  0%|          | 0/1500 [00:00<?, ?it/s]"
      ]
     },
     "metadata": {},
     "output_type": "display_data"
    },
    {
     "name": "stdout",
     "output_type": "stream",
     "text": [
      "1/1 [==============================] - 0s 81ms/step\n",
      " 45 epochs, mse =  0.05696\n",
      "1/1 [==============================] - 0s 84ms/step\n",
      " 27 epochs, mse =  0.05617\n",
      "1/1 [==============================] - 0s 91ms/step\n",
      " 29 epochs, mse =  0.05582\n",
      "1/1 [==============================] - 0s 98ms/step\n",
      " 14 epochs, mse =  0.05501\n",
      "1/1 [==============================] - 0s 79ms/step\n",
      " 23 epochs, mse =  0.05376\n",
      "[0.01, 0.01, 0.01, 0, 0, 0, 0, 0.01, 0, 0.01, 0.01, 0.01, 0.5, 0.001, 0, 0, 0, 0, 0.001, 0.01, 0, 0, 0.001, 0.01, 0, 0.01, 0.01, 0.01, 0, 0.001, 0.5, 0.01, 0.01, 0.01, 0.01, 0.001, 0.01, 0, 0.5, 0.5, 0.01, 0.01, 0.001, 0.001, 0.01, 0.001, 0, 0.001, 0, 0.001, 0.01, 0.001, 0, 0.5, 0, 0, 0.01, 0, 0.01, 0.001, 0.001, 0]\n",
      "1521/1521 [==============================] - 3s 2ms/step\n",
      "776/776 [==============================] - 1s 2ms/step\n",
      "62\n"
     ]
    },
    {
     "data": {
      "application/vnd.jupyter.widget-view+json": {
       "model_id": "504a53b435a748b8999334dabb2bb195",
       "version_major": 2,
       "version_minor": 0
      },
      "text/plain": [
       "  0%|          | 0/1500 [00:00<?, ?it/s]"
      ]
     },
     "metadata": {},
     "output_type": "display_data"
    },
    {
     "name": "stdout",
     "output_type": "stream",
     "text": [
      "1/1 [==============================] - 0s 77ms/step\n",
      " 25 epochs, mse =  0.06601\n",
      "1/1 [==============================] - 0s 77ms/step\n",
      " 18 epochs, mse =  0.06410\n",
      "1/1 [==============================] - 0s 89ms/step\n",
      " 19 epochs, mse =  0.06257\n",
      "1/1 [==============================] - 0s 96ms/step\n",
      " 19 epochs, mse =  0.06207\n",
      "1/1 [==============================] - 0s 78ms/step\n",
      " 25 epochs, mse =  0.06237\n",
      "[0.01, 0.01, 0.01, 0, 0, 0, 0, 0.01, 0, 0.01, 0.01, 0.01, 0.5, 0.001, 0, 0, 0, 0, 0.001, 0.01, 0, 0, 0.001, 0.01, 0, 0.01, 0.01, 0.01, 0, 0.001, 0.5, 0.01, 0.01, 0.01, 0.01, 0.001, 0.01, 0, 0.5, 0.5, 0.01, 0.01, 0.001, 0.001, 0.01, 0.001, 0, 0.001, 0, 0.001, 0.01, 0.001, 0, 0.5, 0, 0, 0.01, 0, 0.01, 0.001, 0.001, 0, 0.001]\n",
      "1521/1521 [==============================] - 3s 2ms/step\n",
      "776/776 [==============================] - 1s 2ms/step\n",
      "63\n"
     ]
    },
    {
     "data": {
      "application/vnd.jupyter.widget-view+json": {
       "model_id": "d41430b788d841958aecb15ff7c6932e",
       "version_major": 2,
       "version_minor": 0
      },
      "text/plain": [
       "  0%|          | 0/1500 [00:00<?, ?it/s]"
      ]
     },
     "metadata": {},
     "output_type": "display_data"
    },
    {
     "name": "stdout",
     "output_type": "stream",
     "text": [
      "1/1 [==============================] - 0s 72ms/step\n",
      " 59 epochs, mse =  0.05787\n",
      "1/1 [==============================] - 0s 75ms/step\n",
      " 22 epochs, mse =  0.05790\n",
      "1/1 [==============================] - 0s 88ms/step\n",
      " 19 epochs, mse =  0.05695\n",
      "1/1 [==============================] - 0s 100ms/step\n",
      " 19 epochs, mse =  0.05759\n",
      "1/1 [==============================] - 0s 80ms/step\n",
      " 28 epochs, mse =  0.05876\n",
      "[0.01, 0.01, 0.01, 0, 0, 0, 0, 0.01, 0, 0.01, 0.01, 0.01, 0.5, 0.001, 0, 0, 0, 0, 0.001, 0.01, 0, 0, 0.001, 0.01, 0, 0.01, 0.01, 0.01, 0, 0.001, 0.5, 0.01, 0.01, 0.01, 0.01, 0.001, 0.01, 0, 0.5, 0.5, 0.01, 0.01, 0.001, 0.001, 0.01, 0.001, 0, 0.001, 0, 0.001, 0.01, 0.001, 0, 0.5, 0, 0, 0.01, 0, 0.01, 0.001, 0.001, 0, 0.001, 0.01]\n",
      "1521/1521 [==============================] - 3s 2ms/step\n",
      "776/776 [==============================] - 1s 2ms/step\n",
      "64\n"
     ]
    },
    {
     "data": {
      "application/vnd.jupyter.widget-view+json": {
       "model_id": "707debe308e643fb9d8e123787e04ab6",
       "version_major": 2,
       "version_minor": 0
      },
      "text/plain": [
       "  0%|          | 0/1500 [00:00<?, ?it/s]"
      ]
     },
     "metadata": {},
     "output_type": "display_data"
    },
    {
     "name": "stdout",
     "output_type": "stream",
     "text": [
      "1/1 [==============================] - 0s 73ms/step\n",
      " 30 epochs, mse =  0.14381\n",
      "1/1 [==============================] - 0s 72ms/step\n",
      " 16 epochs, mse =  0.14077\n",
      "1/1 [==============================] - 0s 85ms/step\n",
      " 14 epochs, mse =  0.13343\n",
      "1/1 [==============================] - 0s 95ms/step\n",
      " 14 epochs, mse =  0.13022\n",
      "1/1 [==============================] - 0s 75ms/step\n",
      " 16 epochs, mse =  0.13894\n",
      "[0.01, 0.01, 0.01, 0, 0, 0, 0, 0.01, 0, 0.01, 0.01, 0.01, 0.5, 0.001, 0, 0, 0, 0, 0.001, 0.01, 0, 0, 0.001, 0.01, 0, 0.01, 0.01, 0.01, 0, 0.001, 0.5, 0.01, 0.01, 0.01, 0.01, 0.001, 0.01, 0, 0.5, 0.5, 0.01, 0.01, 0.001, 0.001, 0.01, 0.001, 0, 0.001, 0, 0.001, 0.01, 0.001, 0, 0.5, 0, 0, 0.01, 0, 0.01, 0.001, 0.001, 0, 0.001, 0.01, 0.001]\n",
      "1521/1521 [==============================] - 3s 2ms/step\n",
      "776/776 [==============================] - 1s 2ms/step\n",
      "65\n"
     ]
    },
    {
     "data": {
      "application/vnd.jupyter.widget-view+json": {
       "model_id": "91b1a9f37eca46e3993cebc9a86250e6",
       "version_major": 2,
       "version_minor": 0
      },
      "text/plain": [
       "  0%|          | 0/1500 [00:00<?, ?it/s]"
      ]
     },
     "metadata": {},
     "output_type": "display_data"
    },
    {
     "name": "stdout",
     "output_type": "stream",
     "text": [
      "1/1 [==============================] - 0s 70ms/step\n",
      " 33 epochs, mse =  0.11074\n",
      "1/1 [==============================] - 0s 92ms/step\n",
      " 24 epochs, mse =  0.10827\n",
      "1/1 [==============================] - 0s 102ms/step\n",
      " 13 epochs, mse =  0.10545\n",
      "1/1 [==============================] - 0s 109ms/step\n",
      " 13 epochs, mse =  0.10496\n",
      "1/1 [==============================] - 0s 88ms/step\n",
      " 13 epochs, mse =  0.10951\n",
      "[0.01, 0.01, 0.01, 0, 0, 0, 0, 0.01, 0, 0.01, 0.01, 0.01, 0.5, 0.001, 0, 0, 0, 0, 0.001, 0.01, 0, 0, 0.001, 0.01, 0, 0.01, 0.01, 0.01, 0, 0.001, 0.5, 0.01, 0.01, 0.01, 0.01, 0.001, 0.01, 0, 0.5, 0.5, 0.01, 0.01, 0.001, 0.001, 0.01, 0.001, 0, 0.001, 0, 0.001, 0.01, 0.001, 0, 0.5, 0, 0, 0.01, 0, 0.01, 0.001, 0.001, 0, 0.001, 0.01, 0.001, 0.001]\n",
      "1521/1521 [==============================] - 3s 2ms/step\n",
      "776/776 [==============================] - 1s 2ms/step\n",
      "66\n"
     ]
    },
    {
     "data": {
      "application/vnd.jupyter.widget-view+json": {
       "model_id": "46c8c580f5c9464ebac85dc4d68ce10b",
       "version_major": 2,
       "version_minor": 0
      },
      "text/plain": [
       "  0%|          | 0/1500 [00:00<?, ?it/s]"
      ]
     },
     "metadata": {},
     "output_type": "display_data"
    },
    {
     "name": "stdout",
     "output_type": "stream",
     "text": [
      "1/1 [==============================] - 0s 79ms/step\n",
      " 16 epochs, mse =  0.17553\n",
      "1/1 [==============================] - 0s 82ms/step\n",
      " 17 epochs, mse =  0.15851\n",
      "1/1 [==============================] - 0s 94ms/step\n",
      " 22 epochs, mse =  0.14927\n",
      "1/1 [==============================] - 0s 103ms/step\n",
      " 44 epochs, mse =  0.14776\n",
      "1/1 [==============================] - 0s 82ms/step\n",
      " 19 epochs, mse =  0.14604\n",
      "[0.01, 0.01, 0.01, 0, 0, 0, 0, 0.01, 0, 0.01, 0.01, 0.01, 0.5, 0.001, 0, 0, 0, 0, 0.001, 0.01, 0, 0, 0.001, 0.01, 0, 0.01, 0.01, 0.01, 0, 0.001, 0.5, 0.01, 0.01, 0.01, 0.01, 0.001, 0.01, 0, 0.5, 0.5, 0.01, 0.01, 0.001, 0.001, 0.01, 0.001, 0, 0.001, 0, 0.001, 0.01, 0.001, 0, 0.5, 0, 0, 0.01, 0, 0.01, 0.001, 0.001, 0, 0.001, 0.01, 0.001, 0.001, 0]\n",
      "1521/1521 [==============================] - 3s 2ms/step\n",
      "776/776 [==============================] - 1s 2ms/step\n",
      "67\n"
     ]
    },
    {
     "data": {
      "application/vnd.jupyter.widget-view+json": {
       "model_id": "d4a4b9bf58c64ecebef9fc9dadc5af1a",
       "version_major": 2,
       "version_minor": 0
      },
      "text/plain": [
       "  0%|          | 0/1500 [00:00<?, ?it/s]"
      ]
     },
     "metadata": {},
     "output_type": "display_data"
    },
    {
     "name": "stdout",
     "output_type": "stream",
     "text": [
      "1/1 [==============================] - 0s 75ms/step\n",
      " 21 epochs, mse =  0.09086\n",
      "1/1 [==============================] - 0s 77ms/step\n",
      " 19 epochs, mse =  0.08940\n",
      "1/1 [==============================] - 0s 89ms/step\n",
      " 19 epochs, mse =  0.08665\n",
      "1/1 [==============================] - 0s 97ms/step\n",
      " 15 epochs, mse =  0.08722\n",
      "1/1 [==============================] - 0s 79ms/step\n",
      " 21 epochs, mse =  0.08687\n",
      "[0.01, 0.01, 0.01, 0, 0, 0, 0, 0.01, 0, 0.01, 0.01, 0.01, 0.5, 0.001, 0, 0, 0, 0, 0.001, 0.01, 0, 0, 0.001, 0.01, 0, 0.01, 0.01, 0.01, 0, 0.001, 0.5, 0.01, 0.01, 0.01, 0.01, 0.001, 0.01, 0, 0.5, 0.5, 0.01, 0.01, 0.001, 0.001, 0.01, 0.001, 0, 0.001, 0, 0.001, 0.01, 0.001, 0, 0.5, 0, 0, 0.01, 0, 0.01, 0.001, 0.001, 0, 0.001, 0.01, 0.001, 0.001, 0, 0.01]\n",
      "1521/1521 [==============================] - 3s 2ms/step\n",
      "776/776 [==============================] - 1s 2ms/step\n",
      "68\n"
     ]
    },
    {
     "data": {
      "application/vnd.jupyter.widget-view+json": {
       "model_id": "e0b47157bfb54081a97fbdedf2c1c072",
       "version_major": 2,
       "version_minor": 0
      },
      "text/plain": [
       "  0%|          | 0/1500 [00:00<?, ?it/s]"
      ]
     },
     "metadata": {},
     "output_type": "display_data"
    },
    {
     "name": "stdout",
     "output_type": "stream",
     "text": [
      "1/1 [==============================] - 0s 73ms/step\n",
      " 20 epochs, mse =  0.14877\n",
      "1/1 [==============================] - 0s 75ms/step\n",
      " 23 epochs, mse =  0.13760\n",
      "1/1 [==============================] - 0s 88ms/step\n",
      " 17 epochs, mse =  0.13254\n",
      "1/1 [==============================] - 0s 97ms/step\n",
      " 20 epochs, mse =  0.13292\n",
      "1/1 [==============================] - 0s 78ms/step\n",
      " 16 epochs, mse =  0.12402\n",
      "[0.01, 0.01, 0.01, 0, 0, 0, 0, 0.01, 0, 0.01, 0.01, 0.01, 0.5, 0.001, 0, 0, 0, 0, 0.001, 0.01, 0, 0, 0.001, 0.01, 0, 0.01, 0.01, 0.01, 0, 0.001, 0.5, 0.01, 0.01, 0.01, 0.01, 0.001, 0.01, 0, 0.5, 0.5, 0.01, 0.01, 0.001, 0.001, 0.01, 0.001, 0, 0.001, 0, 0.001, 0.01, 0.001, 0, 0.5, 0, 0, 0.01, 0, 0.01, 0.001, 0.001, 0, 0.001, 0.01, 0.001, 0.001, 0, 0.01, 0]\n",
      "1521/1521 [==============================] - 3s 2ms/step\n",
      "776/776 [==============================] - 1s 2ms/step\n",
      "69\n"
     ]
    },
    {
     "data": {
      "application/vnd.jupyter.widget-view+json": {
       "model_id": "4e4def617b304728b73581e59ecef4ec",
       "version_major": 2,
       "version_minor": 0
      },
      "text/plain": [
       "  0%|          | 0/1500 [00:00<?, ?it/s]"
      ]
     },
     "metadata": {},
     "output_type": "display_data"
    },
    {
     "name": "stdout",
     "output_type": "stream",
     "text": [
      "1/1 [==============================] - 0s 76ms/step\n",
      " 45 epochs, mse =  0.09317\n",
      "1/1 [==============================] - 0s 74ms/step\n",
      " 18 epochs, mse =  0.09253\n",
      "1/1 [==============================] - 0s 86ms/step\n",
      " 15 epochs, mse =  0.09168\n",
      "1/1 [==============================] - 0s 97ms/step\n",
      " 15 epochs, mse =  0.09508\n",
      "1/1 [==============================] - 0s 75ms/step\n",
      " 22 epochs, mse =  0.09442\n",
      "[0.01, 0.01, 0.01, 0, 0, 0, 0, 0.01, 0, 0.01, 0.01, 0.01, 0.5, 0.001, 0, 0, 0, 0, 0.001, 0.01, 0, 0, 0.001, 0.01, 0, 0.01, 0.01, 0.01, 0, 0.001, 0.5, 0.01, 0.01, 0.01, 0.01, 0.001, 0.01, 0, 0.5, 0.5, 0.01, 0.01, 0.001, 0.001, 0.01, 0.001, 0, 0.001, 0, 0.001, 0.01, 0.001, 0, 0.5, 0, 0, 0.01, 0, 0.01, 0.001, 0.001, 0, 0.001, 0.01, 0.001, 0.001, 0, 0.01, 0, 0.01]\n",
      "1521/1521 [==============================] - 3s 2ms/step\n",
      "776/776 [==============================] - 1s 2ms/step\n",
      "70\n"
     ]
    },
    {
     "data": {
      "application/vnd.jupyter.widget-view+json": {
       "model_id": "ecd704d4fd8d4c44bec59ec184acdf76",
       "version_major": 2,
       "version_minor": 0
      },
      "text/plain": [
       "  0%|          | 0/1500 [00:00<?, ?it/s]"
      ]
     },
     "metadata": {},
     "output_type": "display_data"
    },
    {
     "name": "stdout",
     "output_type": "stream",
     "text": [
      "1/1 [==============================] - 0s 71ms/step\n",
      " 22 epochs, mse =  0.05431\n",
      "1/1 [==============================] - 0s 75ms/step\n",
      " 12 epochs, mse =  0.05425\n",
      "1/1 [==============================] - 0s 87ms/step\n",
      " 23 epochs, mse =  0.05404\n",
      "1/1 [==============================] - 0s 95ms/step\n",
      " 22 epochs, mse =  0.05416\n",
      "1/1 [==============================] - 0s 93ms/step\n",
      " 19 epochs, mse =  0.05396\n",
      "[0.01, 0.01, 0.01, 0, 0, 0, 0, 0.01, 0, 0.01, 0.01, 0.01, 0.5, 0.001, 0, 0, 0, 0, 0.001, 0.01, 0, 0, 0.001, 0.01, 0, 0.01, 0.01, 0.01, 0, 0.001, 0.5, 0.01, 0.01, 0.01, 0.01, 0.001, 0.01, 0, 0.5, 0.5, 0.01, 0.01, 0.001, 0.001, 0.01, 0.001, 0, 0.001, 0, 0.001, 0.01, 0.001, 0, 0.5, 0, 0, 0.01, 0, 0.01, 0.001, 0.001, 0, 0.001, 0.01, 0.001, 0.001, 0, 0.01, 0, 0.01, 0]\n",
      "1521/1521 [==============================] - 3s 2ms/step\n",
      "776/776 [==============================] - 1s 2ms/step\n",
      "71\n"
     ]
    },
    {
     "data": {
      "application/vnd.jupyter.widget-view+json": {
       "model_id": "34bda302a1dd49efa72eed0edd8ae95c",
       "version_major": 2,
       "version_minor": 0
      },
      "text/plain": [
       "  0%|          | 0/1500 [00:00<?, ?it/s]"
      ]
     },
     "metadata": {},
     "output_type": "display_data"
    },
    {
     "name": "stdout",
     "output_type": "stream",
     "text": [
      "1/1 [==============================] - 0s 90ms/step\n",
      " 23 epochs, mse =  0.05393\n",
      "1/1 [==============================] - 0s 91ms/step\n",
      " 15 epochs, mse =  0.05360\n",
      "1/1 [==============================] - 0s 102ms/step\n",
      " 14 epochs, mse =  0.05363\n",
      "1/1 [==============================] - 0s 107ms/step\n",
      " 16 epochs, mse =  0.05316\n",
      "1/1 [==============================] - 0s 87ms/step\n",
      " 17 epochs, mse =  0.05381\n",
      "[0.01, 0.01, 0.01, 0, 0, 0, 0, 0.01, 0, 0.01, 0.01, 0.01, 0.5, 0.001, 0, 0, 0, 0, 0.001, 0.01, 0, 0, 0.001, 0.01, 0, 0.01, 0.01, 0.01, 0, 0.001, 0.5, 0.01, 0.01, 0.01, 0.01, 0.001, 0.01, 0, 0.5, 0.5, 0.01, 0.01, 0.001, 0.001, 0.01, 0.001, 0, 0.001, 0, 0.001, 0.01, 0.001, 0, 0.5, 0, 0, 0.01, 0, 0.01, 0.001, 0.001, 0, 0.001, 0.01, 0.001, 0.001, 0, 0.01, 0, 0.01, 0, 0.001]\n",
      "1521/1521 [==============================] - 3s 2ms/step\n",
      "776/776 [==============================] - 1s 2ms/step\n",
      "72\n"
     ]
    },
    {
     "data": {
      "application/vnd.jupyter.widget-view+json": {
       "model_id": "9eea4cec51f24aadb0e3b004a0f80831",
       "version_major": 2,
       "version_minor": 0
      },
      "text/plain": [
       "  0%|          | 0/1500 [00:00<?, ?it/s]"
      ]
     },
     "metadata": {},
     "output_type": "display_data"
    },
    {
     "name": "stdout",
     "output_type": "stream",
     "text": [
      "1/1 [==============================] - 0s 78ms/step\n",
      " 35 epochs, mse =  0.10480\n",
      "1/1 [==============================] - 0s 81ms/step\n",
      " 15 epochs, mse =  0.10523\n",
      "1/1 [==============================] - 0s 92ms/step\n",
      " 17 epochs, mse =  0.10499\n",
      "1/1 [==============================] - 0s 102ms/step\n",
      " 13 epochs, mse =  0.10499\n",
      "1/1 [==============================] - 0s 80ms/step\n",
      " 27 epochs, mse =  0.10712\n",
      "[0.01, 0.01, 0.01, 0, 0, 0, 0, 0.01, 0, 0.01, 0.01, 0.01, 0.5, 0.001, 0, 0, 0, 0, 0.001, 0.01, 0, 0, 0.001, 0.01, 0, 0.01, 0.01, 0.01, 0, 0.001, 0.5, 0.01, 0.01, 0.01, 0.01, 0.001, 0.01, 0, 0.5, 0.5, 0.01, 0.01, 0.001, 0.001, 0.01, 0.001, 0, 0.001, 0, 0.001, 0.01, 0.001, 0, 0.5, 0, 0, 0.01, 0, 0.01, 0.001, 0.001, 0, 0.001, 0.01, 0.001, 0.001, 0, 0.01, 0, 0.01, 0, 0.001, 0.5]\n",
      "1521/1521 [==============================] - 3s 2ms/step\n",
      "776/776 [==============================] - 1s 2ms/step\n",
      "73\n"
     ]
    },
    {
     "data": {
      "application/vnd.jupyter.widget-view+json": {
       "model_id": "57bda6e8c4b246e5971e2a1f1a50f253",
       "version_major": 2,
       "version_minor": 0
      },
      "text/plain": [
       "  0%|          | 0/1500 [00:00<?, ?it/s]"
      ]
     },
     "metadata": {},
     "output_type": "display_data"
    },
    {
     "name": "stdout",
     "output_type": "stream",
     "text": [
      "1/1 [==============================] - 0s 73ms/step\n",
      " 29 epochs, mse =  1.56446\n",
      "1/1 [==============================] - 0s 77ms/step\n",
      " 15 epochs, mse =  1.34403\n",
      "1/1 [==============================] - 0s 89ms/step\n",
      " 15 epochs, mse =  1.09951\n",
      "1/1 [==============================] - 0s 96ms/step\n",
      " 14 epochs, mse =  1.09697\n",
      "1/1 [==============================] - 0s 79ms/step\n",
      " 21 epochs, mse =  0.89654\n",
      "[0.01, 0.01, 0.01, 0, 0, 0, 0, 0.01, 0, 0.01, 0.01, 0.01, 0.5, 0.001, 0, 0, 0, 0, 0.001, 0.01, 0, 0, 0.001, 0.01, 0, 0.01, 0.01, 0.01, 0, 0.001, 0.5, 0.01, 0.01, 0.01, 0.01, 0.001, 0.01, 0, 0.5, 0.5, 0.01, 0.01, 0.001, 0.001, 0.01, 0.001, 0, 0.001, 0, 0.001, 0.01, 0.001, 0, 0.5, 0, 0, 0.01, 0, 0.01, 0.001, 0.001, 0, 0.001, 0.01, 0.001, 0.001, 0, 0.01, 0, 0.01, 0, 0.001, 0.5, 0]\n",
      "1521/1521 [==============================] - 3s 2ms/step\n",
      "776/776 [==============================] - 1s 2ms/step\n",
      "74\n"
     ]
    },
    {
     "data": {
      "application/vnd.jupyter.widget-view+json": {
       "model_id": "4f6789ddd233441ba7a646c196349714",
       "version_major": 2,
       "version_minor": 0
      },
      "text/plain": [
       "  0%|          | 0/1500 [00:00<?, ?it/s]"
      ]
     },
     "metadata": {},
     "output_type": "display_data"
    },
    {
     "name": "stdout",
     "output_type": "stream",
     "text": [
      "1/1 [==============================] - 0s 72ms/step\n",
      " 30 epochs, mse =  0.07026\n",
      "1/1 [==============================] - 0s 78ms/step\n",
      " 15 epochs, mse =  0.06989\n",
      "1/1 [==============================] - 0s 88ms/step\n",
      " 19 epochs, mse =  0.07115\n",
      "1/1 [==============================] - 0s 94ms/step\n",
      " 18 epochs, mse =  0.06983\n",
      "1/1 [==============================] - 0s 76ms/step\n",
      " 19 epochs, mse =  0.07144\n",
      "[0.01, 0.01, 0.01, 0, 0, 0, 0, 0.01, 0, 0.01, 0.01, 0.01, 0.5, 0.001, 0, 0, 0, 0, 0.001, 0.01, 0, 0, 0.001, 0.01, 0, 0.01, 0.01, 0.01, 0, 0.001, 0.5, 0.01, 0.01, 0.01, 0.01, 0.001, 0.01, 0, 0.5, 0.5, 0.01, 0.01, 0.001, 0.001, 0.01, 0.001, 0, 0.001, 0, 0.001, 0.01, 0.001, 0, 0.5, 0, 0, 0.01, 0, 0.01, 0.001, 0.001, 0, 0.001, 0.01, 0.001, 0.001, 0, 0.01, 0, 0.01, 0, 0.001, 0.5, 0, 0.001]\n",
      "1521/1521 [==============================] - 3s 2ms/step\n",
      "776/776 [==============================] - 1s 2ms/step\n",
      "75\n"
     ]
    },
    {
     "data": {
      "application/vnd.jupyter.widget-view+json": {
       "model_id": "038f859198384549be0d531ec8df3a59",
       "version_major": 2,
       "version_minor": 0
      },
      "text/plain": [
       "  0%|          | 0/1500 [00:00<?, ?it/s]"
      ]
     },
     "metadata": {},
     "output_type": "display_data"
    },
    {
     "name": "stdout",
     "output_type": "stream",
     "text": [
      "1/1 [==============================] - 0s 72ms/step\n",
      " 20 epochs, mse =  0.78971\n",
      "1/1 [==============================] - 0s 73ms/step\n",
      " 18 epochs, mse =  0.78274\n",
      "1/1 [==============================] - 0s 86ms/step\n",
      " 29 epochs, mse =  0.72327\n",
      "1/1 [==============================] - 0s 95ms/step\n",
      " 17 epochs, mse =  0.74261\n",
      "1/1 [==============================] - 0s 78ms/step\n",
      " 22 epochs, mse =  0.66524\n",
      "[0.01, 0.01, 0.01, 0, 0, 0, 0, 0.01, 0, 0.01, 0.01, 0.01, 0.5, 0.001, 0, 0, 0, 0, 0.001, 0.01, 0, 0, 0.001, 0.01, 0, 0.01, 0.01, 0.01, 0, 0.001, 0.5, 0.01, 0.01, 0.01, 0.01, 0.001, 0.01, 0, 0.5, 0.5, 0.01, 0.01, 0.001, 0.001, 0.01, 0.001, 0, 0.001, 0, 0.001, 0.01, 0.001, 0, 0.5, 0, 0, 0.01, 0, 0.01, 0.001, 0.001, 0, 0.001, 0.01, 0.001, 0.001, 0, 0.01, 0, 0.01, 0, 0.001, 0.5, 0, 0.001, 0]\n",
      "1521/1521 [==============================] - 3s 2ms/step\n",
      "776/776 [==============================] - 1s 2ms/step\n",
      "76\n"
     ]
    },
    {
     "data": {
      "application/vnd.jupyter.widget-view+json": {
       "model_id": "25fe5991d6c34dca9897ba92e7a5c879",
       "version_major": 2,
       "version_minor": 0
      },
      "text/plain": [
       "  0%|          | 0/1500 [00:00<?, ?it/s]"
      ]
     },
     "metadata": {},
     "output_type": "display_data"
    },
    {
     "name": "stdout",
     "output_type": "stream",
     "text": [
      "1/1 [==============================] - 0s 71ms/step\n",
      " 26 epochs, mse =  0.09220\n",
      "1/1 [==============================] - 0s 74ms/step\n",
      " 16 epochs, mse =  0.09205\n",
      "1/1 [==============================] - 0s 105ms/step\n",
      " 20 epochs, mse =  0.09158\n",
      "1/1 [==============================] - 0s 109ms/step\n",
      " 20 epochs, mse =  0.09170\n",
      "1/1 [==============================] - 0s 91ms/step\n",
      " 32 epochs, mse =  0.10004\n",
      "[0.01, 0.01, 0.01, 0, 0, 0, 0, 0.01, 0, 0.01, 0.01, 0.01, 0.5, 0.001, 0, 0, 0, 0, 0.001, 0.01, 0, 0, 0.001, 0.01, 0, 0.01, 0.01, 0.01, 0, 0.001, 0.5, 0.01, 0.01, 0.01, 0.01, 0.001, 0.01, 0, 0.5, 0.5, 0.01, 0.01, 0.001, 0.001, 0.01, 0.001, 0, 0.001, 0, 0.001, 0.01, 0.001, 0, 0.5, 0, 0, 0.01, 0, 0.01, 0.001, 0.001, 0, 0.001, 0.01, 0.001, 0.001, 0, 0.01, 0, 0.01, 0, 0.001, 0.5, 0, 0.001, 0, 0.01]\n",
      "1521/1521 [==============================] - 3s 2ms/step\n",
      "776/776 [==============================] - 1s 2ms/step\n",
      "77\n"
     ]
    },
    {
     "data": {
      "application/vnd.jupyter.widget-view+json": {
       "model_id": "3768e8d9f0b6467fa7986a36e9da7556",
       "version_major": 2,
       "version_minor": 0
      },
      "text/plain": [
       "  0%|          | 0/1500 [00:00<?, ?it/s]"
      ]
     },
     "metadata": {},
     "output_type": "display_data"
    },
    {
     "name": "stdout",
     "output_type": "stream",
     "text": [
      "1/1 [==============================] - 0s 83ms/step\n",
      " 16 epochs, mse =  0.37277\n",
      "1/1 [==============================] - 0s 87ms/step\n",
      " 14 epochs, mse =  0.36042\n",
      "1/1 [==============================] - 0s 100ms/step\n",
      " 19 epochs, mse =  0.37220\n",
      "1/1 [==============================] - 0s 103ms/step\n",
      " 16 epochs, mse =  0.36595\n",
      "1/1 [==============================] - 0s 86ms/step\n",
      " 28 epochs, mse =  0.34227\n",
      "[0.01, 0.01, 0.01, 0, 0, 0, 0, 0.01, 0, 0.01, 0.01, 0.01, 0.5, 0.001, 0, 0, 0, 0, 0.001, 0.01, 0, 0, 0.001, 0.01, 0, 0.01, 0.01, 0.01, 0, 0.001, 0.5, 0.01, 0.01, 0.01, 0.01, 0.001, 0.01, 0, 0.5, 0.5, 0.01, 0.01, 0.001, 0.001, 0.01, 0.001, 0, 0.001, 0, 0.001, 0.01, 0.001, 0, 0.5, 0, 0, 0.01, 0, 0.01, 0.001, 0.001, 0, 0.001, 0.01, 0.001, 0.001, 0, 0.01, 0, 0.01, 0, 0.001, 0.5, 0, 0.001, 0, 0.01, 0]\n",
      "1521/1521 [==============================] - 3s 2ms/step\n",
      "776/776 [==============================] - 1s 2ms/step\n",
      "78\n"
     ]
    },
    {
     "data": {
      "application/vnd.jupyter.widget-view+json": {
       "model_id": "af68ef64d2104b7b8853e9f71930d0a7",
       "version_major": 2,
       "version_minor": 0
      },
      "text/plain": [
       "  0%|          | 0/1500 [00:00<?, ?it/s]"
      ]
     },
     "metadata": {},
     "output_type": "display_data"
    },
    {
     "name": "stdout",
     "output_type": "stream",
     "text": [
      "1/1 [==============================] - 0s 80ms/step\n",
      " 21 epochs, mse =  0.11223\n",
      "1/1 [==============================] - 0s 79ms/step\n",
      " 13 epochs, mse =  0.11257\n",
      "1/1 [==============================] - 0s 91ms/step\n",
      " 21 epochs, mse =  0.11234\n",
      "1/1 [==============================] - 0s 98ms/step\n",
      " 21 epochs, mse =  0.11229\n",
      "1/1 [==============================] - 0s 79ms/step\n",
      " 25 epochs, mse =  0.12691\n",
      "[0.01, 0.01, 0.01, 0, 0, 0, 0, 0.01, 0, 0.01, 0.01, 0.01, 0.5, 0.001, 0, 0, 0, 0, 0.001, 0.01, 0, 0, 0.001, 0.01, 0, 0.01, 0.01, 0.01, 0, 0.001, 0.5, 0.01, 0.01, 0.01, 0.01, 0.001, 0.01, 0, 0.5, 0.5, 0.01, 0.01, 0.001, 0.001, 0.01, 0.001, 0, 0.001, 0, 0.001, 0.01, 0.001, 0, 0.5, 0, 0, 0.01, 0, 0.01, 0.001, 0.001, 0, 0.001, 0.01, 0.001, 0.001, 0, 0.01, 0, 0.01, 0, 0.001, 0.5, 0, 0.001, 0, 0.01, 0, 0.5]\n",
      "1521/1521 [==============================] - 3s 2ms/step\n",
      "776/776 [==============================] - 1s 2ms/step\n",
      "79\n"
     ]
    },
    {
     "data": {
      "application/vnd.jupyter.widget-view+json": {
       "model_id": "8aaa3bc09bdc46eca89879004372164f",
       "version_major": 2,
       "version_minor": 0
      },
      "text/plain": [
       "  0%|          | 0/1500 [00:00<?, ?it/s]"
      ]
     },
     "metadata": {},
     "output_type": "display_data"
    },
    {
     "name": "stdout",
     "output_type": "stream",
     "text": [
      "1/1 [==============================] - 0s 72ms/step\n",
      " 34 epochs, mse =  0.10657\n",
      "1/1 [==============================] - 0s 76ms/step\n",
      " 18 epochs, mse =  0.10478\n",
      "1/1 [==============================] - 0s 88ms/step\n",
      " 19 epochs, mse =  0.10212\n",
      "1/1 [==============================] - 0s 96ms/step\n",
      " 16 epochs, mse =  0.10655\n",
      "1/1 [==============================] - 0s 79ms/step\n",
      " 17 epochs, mse =  0.10072\n",
      "[0.01, 0.01, 0.01, 0, 0, 0, 0, 0.01, 0, 0.01, 0.01, 0.01, 0.5, 0.001, 0, 0, 0, 0, 0.001, 0.01, 0, 0, 0.001, 0.01, 0, 0.01, 0.01, 0.01, 0, 0.001, 0.5, 0.01, 0.01, 0.01, 0.01, 0.001, 0.01, 0, 0.5, 0.5, 0.01, 0.01, 0.001, 0.001, 0.01, 0.001, 0, 0.001, 0, 0.001, 0.01, 0.001, 0, 0.5, 0, 0, 0.01, 0, 0.01, 0.001, 0.001, 0, 0.001, 0.01, 0.001, 0.001, 0, 0.01, 0, 0.01, 0, 0.001, 0.5, 0, 0.001, 0, 0.01, 0, 0.5, 0]\n",
      "1521/1521 [==============================] - 3s 2ms/step\n",
      "776/776 [==============================] - 1s 2ms/step\n",
      "80\n"
     ]
    },
    {
     "data": {
      "application/vnd.jupyter.widget-view+json": {
       "model_id": "e521d28e5355471684dc8d04d16bb753",
       "version_major": 2,
       "version_minor": 0
      },
      "text/plain": [
       "  0%|          | 0/1500 [00:00<?, ?it/s]"
      ]
     },
     "metadata": {},
     "output_type": "display_data"
    },
    {
     "name": "stdout",
     "output_type": "stream",
     "text": [
      "1/1 [==============================] - 0s 73ms/step\n",
      " 22 epochs, mse =  0.62434\n",
      "1/1 [==============================] - 0s 74ms/step\n",
      " 13 epochs, mse =  0.58409\n",
      "1/1 [==============================] - 0s 87ms/step\n",
      " 52 epochs, mse =  0.53822\n",
      "1/1 [==============================] - 0s 95ms/step\n",
      " 27 epochs, mse =  0.53289\n",
      "1/1 [==============================] - 0s 77ms/step\n",
      " 22 epochs, mse =  0.48993\n",
      "[0.01, 0.01, 0.01, 0, 0, 0, 0, 0.01, 0, 0.01, 0.01, 0.01, 0.5, 0.001, 0, 0, 0, 0, 0.001, 0.01, 0, 0, 0.001, 0.01, 0, 0.01, 0.01, 0.01, 0, 0.001, 0.5, 0.01, 0.01, 0.01, 0.01, 0.001, 0.01, 0, 0.5, 0.5, 0.01, 0.01, 0.001, 0.001, 0.01, 0.001, 0, 0.001, 0, 0.001, 0.01, 0.001, 0, 0.5, 0, 0, 0.01, 0, 0.01, 0.001, 0.001, 0, 0.001, 0.01, 0.001, 0.001, 0, 0.01, 0, 0.01, 0, 0.001, 0.5, 0, 0.001, 0, 0.01, 0, 0.5, 0, 0]\n",
      "1521/1521 [==============================] - 3s 2ms/step\n",
      "776/776 [==============================] - 1s 2ms/step\n",
      "81\n"
     ]
    },
    {
     "data": {
      "application/vnd.jupyter.widget-view+json": {
       "model_id": "8a3f0be7b05640a0ac852a788b8a6f10",
       "version_major": 2,
       "version_minor": 0
      },
      "text/plain": [
       "  0%|          | 0/1500 [00:00<?, ?it/s]"
      ]
     },
     "metadata": {},
     "output_type": "display_data"
    },
    {
     "name": "stdout",
     "output_type": "stream",
     "text": [
      "1/1 [==============================] - 0s 77ms/step\n",
      " 20 epochs, mse =  0.10102\n",
      "1/1 [==============================] - 0s 75ms/step\n",
      " 20 epochs, mse =  0.09875\n",
      "1/1 [==============================] - 0s 88ms/step\n",
      " 17 epochs, mse =  0.09406\n",
      "1/1 [==============================] - 0s 96ms/step\n",
      " 18 epochs, mse =  0.09275\n",
      "1/1 [==============================] - 0s 76ms/step\n",
      " 24 epochs, mse =  0.09345\n",
      "[0.01, 0.01, 0.01, 0, 0, 0, 0, 0.01, 0, 0.01, 0.01, 0.01, 0.5, 0.001, 0, 0, 0, 0, 0.001, 0.01, 0, 0, 0.001, 0.01, 0, 0.01, 0.01, 0.01, 0, 0.001, 0.5, 0.01, 0.01, 0.01, 0.01, 0.001, 0.01, 0, 0.5, 0.5, 0.01, 0.01, 0.001, 0.001, 0.01, 0.001, 0, 0.001, 0, 0.001, 0.01, 0.001, 0, 0.5, 0, 0, 0.01, 0, 0.01, 0.001, 0.001, 0, 0.001, 0.01, 0.001, 0.001, 0, 0.01, 0, 0.01, 0, 0.001, 0.5, 0, 0.001, 0, 0.01, 0, 0.5, 0, 0, 0.001]\n",
      "1521/1521 [==============================] - 3s 2ms/step\n",
      "776/776 [==============================] - 1s 2ms/step\n",
      "82\n"
     ]
    },
    {
     "data": {
      "application/vnd.jupyter.widget-view+json": {
       "model_id": "4791bb3fcd4a4c9c8a9a7484d887d163",
       "version_major": 2,
       "version_minor": 0
      },
      "text/plain": [
       "  0%|          | 0/1500 [00:00<?, ?it/s]"
      ]
     },
     "metadata": {},
     "output_type": "display_data"
    },
    {
     "name": "stdout",
     "output_type": "stream",
     "text": [
      "1/1 [==============================] - 0s 75ms/step\n",
      " 25 epochs, mse =  0.06443\n",
      "1/1 [==============================] - 0s 74ms/step\n",
      " 16 epochs, mse =  0.06454\n",
      "1/1 [==============================] - 0s 101ms/step\n",
      " 14 epochs, mse =  0.06425\n",
      "1/1 [==============================] - 0s 110ms/step\n",
      " 15 epochs, mse =  0.06427\n",
      "1/1 [==============================] - 0s 90ms/step\n",
      " 22 epochs, mse =  0.06671\n",
      "[0.01, 0.01, 0.01, 0, 0, 0, 0, 0.01, 0, 0.01, 0.01, 0.01, 0.5, 0.001, 0, 0, 0, 0, 0.001, 0.01, 0, 0, 0.001, 0.01, 0, 0.01, 0.01, 0.01, 0, 0.001, 0.5, 0.01, 0.01, 0.01, 0.01, 0.001, 0.01, 0, 0.5, 0.5, 0.01, 0.01, 0.001, 0.001, 0.01, 0.001, 0, 0.001, 0, 0.001, 0.01, 0.001, 0, 0.5, 0, 0, 0.01, 0, 0.01, 0.001, 0.001, 0, 0.001, 0.01, 0.001, 0.001, 0, 0.01, 0, 0.01, 0, 0.001, 0.5, 0, 0.001, 0, 0.01, 0, 0.5, 0, 0, 0.001, 0.01]\n",
      "1521/1521 [==============================] - 3s 2ms/step\n",
      "776/776 [==============================] - 1s 2ms/step\n",
      "83\n"
     ]
    },
    {
     "data": {
      "application/vnd.jupyter.widget-view+json": {
       "model_id": "72326da033bc48c19f590eb374e4b497",
       "version_major": 2,
       "version_minor": 0
      },
      "text/plain": [
       "  0%|          | 0/1500 [00:00<?, ?it/s]"
      ]
     },
     "metadata": {},
     "output_type": "display_data"
    },
    {
     "name": "stdout",
     "output_type": "stream",
     "text": [
      "1/1 [==============================] - 0s 84ms/step\n",
      " 35 epochs, mse =  0.08299\n",
      "1/1 [==============================] - 0s 87ms/step\n",
      " 16 epochs, mse =  0.08226\n",
      "1/1 [==============================] - 0s 96ms/step\n",
      " 16 epochs, mse =  0.08170\n",
      "1/1 [==============================] - 0s 103ms/step\n",
      " 22 epochs, mse =  0.08164\n",
      "1/1 [==============================] - 0s 86ms/step\n",
      " 27 epochs, mse =  0.08512\n",
      "[0.01, 0.01, 0.01, 0, 0, 0, 0, 0.01, 0, 0.01, 0.01, 0.01, 0.5, 0.001, 0, 0, 0, 0, 0.001, 0.01, 0, 0, 0.001, 0.01, 0, 0.01, 0.01, 0.01, 0, 0.001, 0.5, 0.01, 0.01, 0.01, 0.01, 0.001, 0.01, 0, 0.5, 0.5, 0.01, 0.01, 0.001, 0.001, 0.01, 0.001, 0, 0.001, 0, 0.001, 0.01, 0.001, 0, 0.5, 0, 0, 0.01, 0, 0.01, 0.001, 0.001, 0, 0.001, 0.01, 0.001, 0.001, 0, 0.01, 0, 0.01, 0, 0.001, 0.5, 0, 0.001, 0, 0.01, 0, 0.5, 0, 0, 0.001, 0.01, 0.001]\n",
      "1521/1521 [==============================] - 3s 2ms/step\n",
      "776/776 [==============================] - 1s 2ms/step\n",
      "84\n"
     ]
    },
    {
     "data": {
      "application/vnd.jupyter.widget-view+json": {
       "model_id": "639d7e693be5492e9495138aced45e81",
       "version_major": 2,
       "version_minor": 0
      },
      "text/plain": [
       "  0%|          | 0/1500 [00:00<?, ?it/s]"
      ]
     },
     "metadata": {},
     "output_type": "display_data"
    },
    {
     "name": "stdout",
     "output_type": "stream",
     "text": [
      "1/1 [==============================] - 0s 77ms/step\n",
      " 30 epochs, mse =  0.08253\n",
      "1/1 [==============================] - 0s 81ms/step\n",
      " 14 epochs, mse =  0.08170\n",
      "1/1 [==============================] - 0s 93ms/step\n",
      " 19 epochs, mse =  0.08159\n",
      "1/1 [==============================] - 0s 99ms/step\n",
      " 17 epochs, mse =  0.08163\n",
      "1/1 [==============================] - 0s 80ms/step\n",
      " 22 epochs, mse =  0.08739\n",
      "[0.01, 0.01, 0.01, 0, 0, 0, 0, 0.01, 0, 0.01, 0.01, 0.01, 0.5, 0.001, 0, 0, 0, 0, 0.001, 0.01, 0, 0, 0.001, 0.01, 0, 0.01, 0.01, 0.01, 0, 0.001, 0.5, 0.01, 0.01, 0.01, 0.01, 0.001, 0.01, 0, 0.5, 0.5, 0.01, 0.01, 0.001, 0.001, 0.01, 0.001, 0, 0.001, 0, 0.001, 0.01, 0.001, 0, 0.5, 0, 0, 0.01, 0, 0.01, 0.001, 0.001, 0, 0.001, 0.01, 0.001, 0.001, 0, 0.01, 0, 0.01, 0, 0.001, 0.5, 0, 0.001, 0, 0.01, 0, 0.5, 0, 0, 0.001, 0.01, 0.001, 0.01]\n",
      "1521/1521 [==============================] - 3s 2ms/step\n",
      "776/776 [==============================] - 1s 2ms/step\n",
      "85\n"
     ]
    },
    {
     "data": {
      "application/vnd.jupyter.widget-view+json": {
       "model_id": "59b71cbf912248e2b2d7239355222c33",
       "version_major": 2,
       "version_minor": 0
      },
      "text/plain": [
       "  0%|          | 0/1500 [00:00<?, ?it/s]"
      ]
     },
     "metadata": {},
     "output_type": "display_data"
    },
    {
     "name": "stdout",
     "output_type": "stream",
     "text": [
      "1/1 [==============================] - 0s 72ms/step\n",
      " 31 epochs, mse =  0.07939\n",
      "1/1 [==============================] - 0s 76ms/step\n",
      " 16 epochs, mse =  0.07913\n",
      "1/1 [==============================] - 0s 90ms/step\n",
      " 20 epochs, mse =  0.07955\n",
      "1/1 [==============================] - 0s 99ms/step\n",
      " 20 epochs, mse =  0.07957\n",
      "1/1 [==============================] - 0s 78ms/step\n",
      " 22 epochs, mse =  0.07809\n",
      "[0.01, 0.01, 0.01, 0, 0, 0, 0, 0.01, 0, 0.01, 0.01, 0.01, 0.5, 0.001, 0, 0, 0, 0, 0.001, 0.01, 0, 0, 0.001, 0.01, 0, 0.01, 0.01, 0.01, 0, 0.001, 0.5, 0.01, 0.01, 0.01, 0.01, 0.001, 0.01, 0, 0.5, 0.5, 0.01, 0.01, 0.001, 0.001, 0.01, 0.001, 0, 0.001, 0, 0.001, 0.01, 0.001, 0, 0.5, 0, 0, 0.01, 0, 0.01, 0.001, 0.001, 0, 0.001, 0.01, 0.001, 0.001, 0, 0.01, 0, 0.01, 0, 0.001, 0.5, 0, 0.001, 0, 0.01, 0, 0.5, 0, 0, 0.001, 0.01, 0.001, 0.01, 0]\n",
      "1521/1521 [==============================] - 3s 2ms/step\n",
      "776/776 [==============================] - 1s 2ms/step\n",
      "86\n"
     ]
    },
    {
     "data": {
      "application/vnd.jupyter.widget-view+json": {
       "model_id": "0dc880abc04e474a93611975cf1aeb4e",
       "version_major": 2,
       "version_minor": 0
      },
      "text/plain": [
       "  0%|          | 0/1500 [00:00<?, ?it/s]"
      ]
     },
     "metadata": {},
     "output_type": "display_data"
    },
    {
     "name": "stdout",
     "output_type": "stream",
     "text": [
      "1/1 [==============================] - 0s 72ms/step\n",
      " 46 epochs, mse =  0.06465\n",
      "1/1 [==============================] - 0s 74ms/step\n",
      " 18 epochs, mse =  0.06451\n",
      "1/1 [==============================] - 0s 86ms/step\n",
      " 13 epochs, mse =  0.06411\n",
      "1/1 [==============================] - 0s 97ms/step\n",
      " 15 epochs, mse =  0.06384\n",
      "1/1 [==============================] - 0s 78ms/step\n",
      " 18 epochs, mse =  0.06457\n",
      "[0.01, 0.01, 0.01, 0, 0, 0, 0, 0.01, 0, 0.01, 0.01, 0.01, 0.5, 0.001, 0, 0, 0, 0, 0.001, 0.01, 0, 0, 0.001, 0.01, 0, 0.01, 0.01, 0.01, 0, 0.001, 0.5, 0.01, 0.01, 0.01, 0.01, 0.001, 0.01, 0, 0.5, 0.5, 0.01, 0.01, 0.001, 0.001, 0.01, 0.001, 0, 0.001, 0, 0.001, 0.01, 0.001, 0, 0.5, 0, 0, 0.01, 0, 0.01, 0.001, 0.001, 0, 0.001, 0.01, 0.001, 0.001, 0, 0.01, 0, 0.01, 0, 0.001, 0.5, 0, 0.001, 0, 0.01, 0, 0.5, 0, 0, 0.001, 0.01, 0.001, 0.01, 0, 0.001]\n",
      "1521/1521 [==============================] - 3s 2ms/step\n",
      "776/776 [==============================] - 1s 2ms/step\n",
      "87\n"
     ]
    },
    {
     "data": {
      "application/vnd.jupyter.widget-view+json": {
       "model_id": "9e749aff01c248d18aedf3f680df284f",
       "version_major": 2,
       "version_minor": 0
      },
      "text/plain": [
       "  0%|          | 0/1500 [00:00<?, ?it/s]"
      ]
     },
     "metadata": {},
     "output_type": "display_data"
    },
    {
     "name": "stdout",
     "output_type": "stream",
     "text": [
      "1/1 [==============================] - 0s 73ms/step\n",
      " 20 epochs, mse =  0.07059\n",
      "1/1 [==============================] - 0s 73ms/step\n",
      " 19 epochs, mse =  0.07069\n",
      "1/1 [==============================] - 0s 87ms/step\n",
      " 13 epochs, mse =  0.07061\n",
      "1/1 [==============================] - 0s 95ms/step\n",
      " 24 epochs, mse =  0.07087\n",
      "1/1 [==============================] - 0s 77ms/step\n",
      " 19 epochs, mse =  0.07421\n",
      "[0.01, 0.01, 0.01, 0, 0, 0, 0, 0.01, 0, 0.01, 0.01, 0.01, 0.5, 0.001, 0, 0, 0, 0, 0.001, 0.01, 0, 0, 0.001, 0.01, 0, 0.01, 0.01, 0.01, 0, 0.001, 0.5, 0.01, 0.01, 0.01, 0.01, 0.001, 0.01, 0, 0.5, 0.5, 0.01, 0.01, 0.001, 0.001, 0.01, 0.001, 0, 0.001, 0, 0.001, 0.01, 0.001, 0, 0.5, 0, 0, 0.01, 0, 0.01, 0.001, 0.001, 0, 0.001, 0.01, 0.001, 0.001, 0, 0.01, 0, 0.01, 0, 0.001, 0.5, 0, 0.001, 0, 0.01, 0, 0.5, 0, 0, 0.001, 0.01, 0.001, 0.01, 0, 0.001, 0.5]\n",
      "1521/1521 [==============================] - 3s 2ms/step\n",
      "776/776 [==============================] - 1s 2ms/step\n",
      "88\n"
     ]
    },
    {
     "data": {
      "application/vnd.jupyter.widget-view+json": {
       "model_id": "a018f3ea4acc47e8bd2469b329d8e61f",
       "version_major": 2,
       "version_minor": 0
      },
      "text/plain": [
       "  0%|          | 0/1500 [00:00<?, ?it/s]"
      ]
     },
     "metadata": {},
     "output_type": "display_data"
    },
    {
     "name": "stdout",
     "output_type": "stream",
     "text": [
      "1/1 [==============================] - 0s 71ms/step\n",
      " 38 epochs, mse =  0.19245\n",
      "1/1 [==============================] - 0s 74ms/step\n",
      " 25 epochs, mse =  0.15953\n",
      "1/1 [==============================] - 0s 101ms/step\n",
      " 28 epochs, mse =  0.14004\n",
      "1/1 [==============================] - 0s 112ms/step\n",
      " 17 epochs, mse =  0.12797\n",
      "1/1 [==============================] - 0s 91ms/step\n",
      " 32 epochs, mse =  0.12182\n",
      "[0.01, 0.01, 0.01, 0, 0, 0, 0, 0.01, 0, 0.01, 0.01, 0.01, 0.5, 0.001, 0, 0, 0, 0, 0.001, 0.01, 0, 0, 0.001, 0.01, 0, 0.01, 0.01, 0.01, 0, 0.001, 0.5, 0.01, 0.01, 0.01, 0.01, 0.001, 0.01, 0, 0.5, 0.5, 0.01, 0.01, 0.001, 0.001, 0.01, 0.001, 0, 0.001, 0, 0.001, 0.01, 0.001, 0, 0.5, 0, 0, 0.01, 0, 0.01, 0.001, 0.001, 0, 0.001, 0.01, 0.001, 0.001, 0, 0.01, 0, 0.01, 0, 0.001, 0.5, 0, 0.001, 0, 0.01, 0, 0.5, 0, 0, 0.001, 0.01, 0.001, 0.01, 0, 0.001, 0.5, 0]\n",
      "1521/1521 [==============================] - 3s 2ms/step\n",
      "776/776 [==============================] - 1s 2ms/step\n",
      "89\n"
     ]
    },
    {
     "data": {
      "application/vnd.jupyter.widget-view+json": {
       "model_id": "e2d448641c12455594bb859edf1d7995",
       "version_major": 2,
       "version_minor": 0
      },
      "text/plain": [
       "  0%|          | 0/1500 [00:00<?, ?it/s]"
      ]
     },
     "metadata": {},
     "output_type": "display_data"
    },
    {
     "name": "stdout",
     "output_type": "stream",
     "text": [
      "1/1 [==============================] - 0s 89ms/step\n",
      " 27 epochs, mse =  0.94250\n",
      "1/1 [==============================] - 0s 91ms/step\n",
      " 19 epochs, mse =  0.80481\n",
      "1/1 [==============================] - 0s 95ms/step\n",
      " 24 epochs, mse =  0.73713\n",
      "1/1 [==============================] - 0s 106ms/step\n",
      " 14 epochs, mse =  0.71664\n",
      "1/1 [==============================] - 0s 84ms/step\n",
      " 21 epochs, mse =  0.47297\n",
      "[0.01, 0.01, 0.01, 0, 0, 0, 0, 0.01, 0, 0.01, 0.01, 0.01, 0.5, 0.001, 0, 0, 0, 0, 0.001, 0.01, 0, 0, 0.001, 0.01, 0, 0.01, 0.01, 0.01, 0, 0.001, 0.5, 0.01, 0.01, 0.01, 0.01, 0.001, 0.01, 0, 0.5, 0.5, 0.01, 0.01, 0.001, 0.001, 0.01, 0.001, 0, 0.001, 0, 0.001, 0.01, 0.001, 0, 0.5, 0, 0, 0.01, 0, 0.01, 0.001, 0.001, 0, 0.001, 0.01, 0.001, 0.001, 0, 0.01, 0, 0.01, 0, 0.001, 0.5, 0, 0.001, 0, 0.01, 0, 0.5, 0, 0, 0.001, 0.01, 0.001, 0.01, 0, 0.001, 0.5, 0, 0]\n",
      "1521/1521 [==============================] - 3s 2ms/step\n",
      "776/776 [==============================] - 1s 2ms/step\n",
      "90\n"
     ]
    },
    {
     "data": {
      "application/vnd.jupyter.widget-view+json": {
       "model_id": "52cdc310f9ac4227826e7425096a1731",
       "version_major": 2,
       "version_minor": 0
      },
      "text/plain": [
       "  0%|          | 0/1500 [00:00<?, ?it/s]"
      ]
     },
     "metadata": {},
     "output_type": "display_data"
    },
    {
     "name": "stdout",
     "output_type": "stream",
     "text": [
      "1/1 [==============================] - 0s 78ms/step\n",
      " 25 epochs, mse =  0.08851\n",
      "1/1 [==============================] - 0s 81ms/step\n",
      " 16 epochs, mse =  0.08491\n",
      "1/1 [==============================] - 0s 94ms/step\n",
      " 43 epochs, mse =  0.08519\n",
      "1/1 [==============================] - 0s 99ms/step\n",
      " 13 epochs, mse =  0.09057\n",
      "1/1 [==============================] - 0s 78ms/step\n",
      " 21 epochs, mse =  0.07957\n",
      "[0.01, 0.01, 0.01, 0, 0, 0, 0, 0.01, 0, 0.01, 0.01, 0.01, 0.5, 0.001, 0, 0, 0, 0, 0.001, 0.01, 0, 0, 0.001, 0.01, 0, 0.01, 0.01, 0.01, 0, 0.001, 0.5, 0.01, 0.01, 0.01, 0.01, 0.001, 0.01, 0, 0.5, 0.5, 0.01, 0.01, 0.001, 0.001, 0.01, 0.001, 0, 0.001, 0, 0.001, 0.01, 0.001, 0, 0.5, 0, 0, 0.01, 0, 0.01, 0.001, 0.001, 0, 0.001, 0.01, 0.001, 0.001, 0, 0.01, 0, 0.01, 0, 0.001, 0.5, 0, 0.001, 0, 0.01, 0, 0.5, 0, 0, 0.001, 0.01, 0.001, 0.01, 0, 0.001, 0.5, 0, 0, 0]\n",
      "1521/1521 [==============================] - 3s 2ms/step\n",
      "776/776 [==============================] - 1s 2ms/step\n",
      "91\n"
     ]
    },
    {
     "data": {
      "application/vnd.jupyter.widget-view+json": {
       "model_id": "a5a40ae5e6734e0fb72477f40a78c608",
       "version_major": 2,
       "version_minor": 0
      },
      "text/plain": [
       "  0%|          | 0/1500 [00:00<?, ?it/s]"
      ]
     },
     "metadata": {},
     "output_type": "display_data"
    },
    {
     "name": "stdout",
     "output_type": "stream",
     "text": [
      "1/1 [==============================] - 0s 74ms/step\n",
      " 38 epochs, mse =  0.05454\n",
      "1/1 [==============================] - 0s 76ms/step\n",
      " 18 epochs, mse =  0.05477\n",
      "1/1 [==============================] - 0s 89ms/step\n",
      " 17 epochs, mse =  0.05447\n",
      "1/1 [==============================] - 0s 97ms/step\n",
      " 16 epochs, mse =  0.05479\n",
      "1/1 [==============================] - 0s 83ms/step\n",
      " 20 epochs, mse =  0.05435\n",
      "[0.01, 0.01, 0.01, 0, 0, 0, 0, 0.01, 0, 0.01, 0.01, 0.01, 0.5, 0.001, 0, 0, 0, 0, 0.001, 0.01, 0, 0, 0.001, 0.01, 0, 0.01, 0.01, 0.01, 0, 0.001, 0.5, 0.01, 0.01, 0.01, 0.01, 0.001, 0.01, 0, 0.5, 0.5, 0.01, 0.01, 0.001, 0.001, 0.01, 0.001, 0, 0.001, 0, 0.001, 0.01, 0.001, 0, 0.5, 0, 0, 0.01, 0, 0.01, 0.001, 0.001, 0, 0.001, 0.01, 0.001, 0.001, 0, 0.01, 0, 0.01, 0, 0.001, 0.5, 0, 0.001, 0, 0.01, 0, 0.5, 0, 0, 0.001, 0.01, 0.001, 0.01, 0, 0.001, 0.5, 0, 0, 0, 0]\n",
      "1521/1521 [==============================] - 3s 2ms/step\n",
      "776/776 [==============================] - 1s 2ms/step\n",
      "92\n"
     ]
    },
    {
     "data": {
      "application/vnd.jupyter.widget-view+json": {
       "model_id": "4422a0830fef4825b53955bf37ca073c",
       "version_major": 2,
       "version_minor": 0
      },
      "text/plain": [
       "  0%|          | 0/1500 [00:00<?, ?it/s]"
      ]
     },
     "metadata": {},
     "output_type": "display_data"
    },
    {
     "name": "stdout",
     "output_type": "stream",
     "text": [
      "1/1 [==============================] - 0s 74ms/step\n",
      " 20 epochs, mse =  0.05504\n",
      "1/1 [==============================] - 0s 75ms/step\n",
      " 22 epochs, mse =  0.05478\n",
      "1/1 [==============================] - 0s 85ms/step\n",
      " 27 epochs, mse =  0.05504\n",
      "1/1 [==============================] - 0s 99ms/step\n",
      " 12 epochs, mse =  0.05518\n",
      "1/1 [==============================] - 0s 77ms/step\n",
      " 16 epochs, mse =  0.11829\n",
      "[0.01, 0.01, 0.01, 0, 0, 0, 0, 0.01, 0, 0.01, 0.01, 0.01, 0.5, 0.001, 0, 0, 0, 0, 0.001, 0.01, 0, 0, 0.001, 0.01, 0, 0.01, 0.01, 0.01, 0, 0.001, 0.5, 0.01, 0.01, 0.01, 0.01, 0.001, 0.01, 0, 0.5, 0.5, 0.01, 0.01, 0.001, 0.001, 0.01, 0.001, 0, 0.001, 0, 0.001, 0.01, 0.001, 0, 0.5, 0, 0, 0.01, 0, 0.01, 0.001, 0.001, 0, 0.001, 0.01, 0.001, 0.001, 0, 0.01, 0, 0.01, 0, 0.001, 0.5, 0, 0.001, 0, 0.01, 0, 0.5, 0, 0, 0.001, 0.01, 0.001, 0.01, 0, 0.001, 0.5, 0, 0, 0, 0, 0.1]\n",
      "1521/1521 [==============================] - 3s 2ms/step\n",
      "776/776 [==============================] - 1s 2ms/step\n",
      "93\n"
     ]
    },
    {
     "data": {
      "application/vnd.jupyter.widget-view+json": {
       "model_id": "b9121f92989c4738b0f933937f53796f",
       "version_major": 2,
       "version_minor": 0
      },
      "text/plain": [
       "  0%|          | 0/1500 [00:00<?, ?it/s]"
      ]
     },
     "metadata": {},
     "output_type": "display_data"
    },
    {
     "name": "stdout",
     "output_type": "stream",
     "text": [
      "1/1 [==============================] - 0s 73ms/step\n",
      " 33 epochs, mse =  0.08274\n",
      "1/1 [==============================] - 0s 73ms/step\n",
      " 23 epochs, mse =  0.07965\n",
      "1/1 [==============================] - 0s 87ms/step\n",
      " 21 epochs, mse =  0.07726\n",
      "1/1 [==============================] - 0s 93ms/step\n",
      " 16 epochs, mse =  0.07801\n",
      "1/1 [==============================] - 0s 77ms/step\n",
      " 20 epochs, mse =  0.07768\n",
      "[0.01, 0.01, 0.01, 0, 0, 0, 0, 0.01, 0, 0.01, 0.01, 0.01, 0.5, 0.001, 0, 0, 0, 0, 0.001, 0.01, 0, 0, 0.001, 0.01, 0, 0.01, 0.01, 0.01, 0, 0.001, 0.5, 0.01, 0.01, 0.01, 0.01, 0.001, 0.01, 0, 0.5, 0.5, 0.01, 0.01, 0.001, 0.001, 0.01, 0.001, 0, 0.001, 0, 0.001, 0.01, 0.001, 0, 0.5, 0, 0, 0.01, 0, 0.01, 0.001, 0.001, 0, 0.001, 0.01, 0.001, 0.001, 0, 0.01, 0, 0.01, 0, 0.001, 0.5, 0, 0.001, 0, 0.01, 0, 0.5, 0, 0, 0.001, 0.01, 0.001, 0.01, 0, 0.001, 0.5, 0, 0, 0, 0, 0.1, 0.01]\n",
      "1521/1521 [==============================] - 3s 2ms/step\n",
      "776/776 [==============================] - 1s 2ms/step\n",
      "94\n"
     ]
    },
    {
     "data": {
      "application/vnd.jupyter.widget-view+json": {
       "model_id": "2697715f22514aa4958ab3a9fa9b6ae9",
       "version_major": 2,
       "version_minor": 0
      },
      "text/plain": [
       "  0%|          | 0/1500 [00:00<?, ?it/s]"
      ]
     },
     "metadata": {},
     "output_type": "display_data"
    },
    {
     "name": "stdout",
     "output_type": "stream",
     "text": [
      "1/1 [==============================] - 0s 73ms/step\n",
      " 16 epochs, mse =  0.22970\n",
      "1/1 [==============================] - 0s 75ms/step\n",
      " 12 epochs, mse =  0.23926\n",
      "1/1 [==============================] - 0s 87ms/step\n",
      " 16 epochs, mse =  0.23153\n",
      "1/1 [==============================] - 0s 109ms/step\n",
      " 15 epochs, mse =  0.21046\n",
      "1/1 [==============================] - 0s 92ms/step\n",
      " 16 epochs, mse =  0.19671\n",
      "[0.01, 0.01, 0.01, 0, 0, 0, 0, 0.01, 0, 0.01, 0.01, 0.01, 0.5, 0.001, 0, 0, 0, 0, 0.001, 0.01, 0, 0, 0.001, 0.01, 0, 0.01, 0.01, 0.01, 0, 0.001, 0.5, 0.01, 0.01, 0.01, 0.01, 0.001, 0.01, 0, 0.5, 0.5, 0.01, 0.01, 0.001, 0.001, 0.01, 0.001, 0, 0.001, 0, 0.001, 0.01, 0.001, 0, 0.5, 0, 0, 0.01, 0, 0.01, 0.001, 0.001, 0, 0.001, 0.01, 0.001, 0.001, 0, 0.01, 0, 0.01, 0, 0.001, 0.5, 0, 0.001, 0, 0.01, 0, 0.5, 0, 0, 0.001, 0.01, 0.001, 0.01, 0, 0.001, 0.5, 0, 0, 0, 0, 0.1, 0.01, 0]\n",
      "1521/1521 [==============================] - 3s 2ms/step\n",
      "776/776 [==============================] - 1s 2ms/step\n",
      "95\n"
     ]
    },
    {
     "data": {
      "application/vnd.jupyter.widget-view+json": {
       "model_id": "0086195234a347c0a9c51929d734e377",
       "version_major": 2,
       "version_minor": 0
      },
      "text/plain": [
       "  0%|          | 0/1500 [00:00<?, ?it/s]"
      ]
     },
     "metadata": {},
     "output_type": "display_data"
    },
    {
     "name": "stdout",
     "output_type": "stream",
     "text": [
      "1/1 [==============================] - 0s 87ms/step\n",
      " 16 epochs, mse =  0.21837\n",
      "1/1 [==============================] - 0s 88ms/step\n",
      " 14 epochs, mse =  0.21985\n",
      "1/1 [==============================] - 0s 98ms/step\n",
      " 12 epochs, mse =  0.22027\n",
      "1/1 [==============================] - 0s 107ms/step\n",
      " 25 epochs, mse =  0.21763\n",
      "1/1 [==============================] - 0s 85ms/step\n",
      " 17 epochs, mse =  0.26020\n",
      "[0.01, 0.01, 0.01, 0, 0, 0, 0, 0.01, 0, 0.01, 0.01, 0.01, 0.5, 0.001, 0, 0, 0, 0, 0.001, 0.01, 0, 0, 0.001, 0.01, 0, 0.01, 0.01, 0.01, 0, 0.001, 0.5, 0.01, 0.01, 0.01, 0.01, 0.001, 0.01, 0, 0.5, 0.5, 0.01, 0.01, 0.001, 0.001, 0.01, 0.001, 0, 0.001, 0, 0.001, 0.01, 0.001, 0, 0.5, 0, 0, 0.01, 0, 0.01, 0.001, 0.001, 0, 0.001, 0.01, 0.001, 0.001, 0, 0.01, 0, 0.01, 0, 0.001, 0.5, 0, 0.001, 0, 0.01, 0, 0.5, 0, 0, 0.001, 0.01, 0.001, 0.01, 0, 0.001, 0.5, 0, 0, 0, 0, 0.1, 0.01, 0, 0.001]\n",
      "1521/1521 [==============================] - 3s 2ms/step\n",
      "776/776 [==============================] - 1s 2ms/step\n",
      "96\n"
     ]
    },
    {
     "data": {
      "application/vnd.jupyter.widget-view+json": {
       "model_id": "db35fc555671412881a596fe8b01d2d5",
       "version_major": 2,
       "version_minor": 0
      },
      "text/plain": [
       "  0%|          | 0/1500 [00:00<?, ?it/s]"
      ]
     },
     "metadata": {},
     "output_type": "display_data"
    },
    {
     "name": "stdout",
     "output_type": "stream",
     "text": [
      "1/1 [==============================] - 0s 79ms/step\n",
      " 44 epochs, mse =  0.09179\n",
      "1/1 [==============================] - 0s 82ms/step\n",
      " 16 epochs, mse =  0.08891\n",
      "1/1 [==============================] - 0s 92ms/step\n",
      " 17 epochs, mse =  0.08732\n",
      "1/1 [==============================] - 0s 105ms/step\n",
      " 14 epochs, mse =  0.08708\n",
      "1/1 [==============================] - 0s 80ms/step\n",
      " 21 epochs, mse =  0.09187\n",
      "[0.01, 0.01, 0.01, 0, 0, 0, 0, 0.01, 0, 0.01, 0.01, 0.01, 0.5, 0.001, 0, 0, 0, 0, 0.001, 0.01, 0, 0, 0.001, 0.01, 0, 0.01, 0.01, 0.01, 0, 0.001, 0.5, 0.01, 0.01, 0.01, 0.01, 0.001, 0.01, 0, 0.5, 0.5, 0.01, 0.01, 0.001, 0.001, 0.01, 0.001, 0, 0.001, 0, 0.001, 0.01, 0.001, 0, 0.5, 0, 0, 0.01, 0, 0.01, 0.001, 0.001, 0, 0.001, 0.01, 0.001, 0.001, 0, 0.01, 0, 0.01, 0, 0.001, 0.5, 0, 0.001, 0, 0.01, 0, 0.5, 0, 0, 0.001, 0.01, 0.001, 0.01, 0, 0.001, 0.5, 0, 0, 0, 0, 0.1, 0.01, 0, 0.001, 0.001]\n",
      "1521/1521 [==============================] - 3s 2ms/step\n",
      "776/776 [==============================] - 1s 2ms/step\n",
      "97\n"
     ]
    },
    {
     "data": {
      "application/vnd.jupyter.widget-view+json": {
       "model_id": "d0ae0c83227648629a04ac60467de849",
       "version_major": 2,
       "version_minor": 0
      },
      "text/plain": [
       "  0%|          | 0/1500 [00:00<?, ?it/s]"
      ]
     },
     "metadata": {},
     "output_type": "display_data"
    },
    {
     "name": "stdout",
     "output_type": "stream",
     "text": [
      "1/1 [==============================] - 0s 75ms/step\n",
      " 22 epochs, mse =  0.23116\n",
      "1/1 [==============================] - 0s 79ms/step\n",
      " 20 epochs, mse =  0.22584\n",
      "1/1 [==============================] - 0s 89ms/step\n",
      " 20 epochs, mse =  0.22853\n",
      "1/1 [==============================] - 0s 98ms/step\n",
      " 16 epochs, mse =  0.22182\n",
      "1/1 [==============================] - 0s 79ms/step\n",
      " 26 epochs, mse =  0.20819\n",
      "[0.01, 0.01, 0.01, 0, 0, 0, 0, 0.01, 0, 0.01, 0.01, 0.01, 0.5, 0.001, 0, 0, 0, 0, 0.001, 0.01, 0, 0, 0.001, 0.01, 0, 0.01, 0.01, 0.01, 0, 0.001, 0.5, 0.01, 0.01, 0.01, 0.01, 0.001, 0.01, 0, 0.5, 0.5, 0.01, 0.01, 0.001, 0.001, 0.01, 0.001, 0, 0.001, 0, 0.001, 0.01, 0.001, 0, 0.5, 0, 0, 0.01, 0, 0.01, 0.001, 0.001, 0, 0.001, 0.01, 0.001, 0.001, 0, 0.01, 0, 0.01, 0, 0.001, 0.5, 0, 0.001, 0, 0.01, 0, 0.5, 0, 0, 0.001, 0.01, 0.001, 0.01, 0, 0.001, 0.5, 0, 0, 0, 0, 0.1, 0.01, 0, 0.001, 0.001, 0]\n",
      "1521/1521 [==============================] - 3s 2ms/step\n",
      "776/776 [==============================] - 1s 2ms/step\n",
      "98\n"
     ]
    },
    {
     "data": {
      "application/vnd.jupyter.widget-view+json": {
       "model_id": "7fdcb5702aca47da8c6ecbc15f051a5d",
       "version_major": 2,
       "version_minor": 0
      },
      "text/plain": [
       "  0%|          | 0/1500 [00:00<?, ?it/s]"
      ]
     },
     "metadata": {},
     "output_type": "display_data"
    },
    {
     "name": "stdout",
     "output_type": "stream",
     "text": [
      "1/1 [==============================] - 0s 74ms/step\n",
      " 16 epochs, mse =  0.06506\n",
      "1/1 [==============================] - 0s 78ms/step\n",
      " 13 epochs, mse =  0.06505\n",
      "1/1 [==============================] - 0s 89ms/step\n",
      " 17 epochs, mse =  0.06516\n",
      "1/1 [==============================] - 0s 99ms/step\n",
      " 19 epochs, mse =  0.06507\n",
      "1/1 [==============================] - 0s 76ms/step\n",
      " 29 epochs, mse =  0.06562\n",
      "[0.01, 0.01, 0.01, 0, 0, 0, 0, 0.01, 0, 0.01, 0.01, 0.01, 0.5, 0.001, 0, 0, 0, 0, 0.001, 0.01, 0, 0, 0.001, 0.01, 0, 0.01, 0.01, 0.01, 0, 0.001, 0.5, 0.01, 0.01, 0.01, 0.01, 0.001, 0.01, 0, 0.5, 0.5, 0.01, 0.01, 0.001, 0.001, 0.01, 0.001, 0, 0.001, 0, 0.001, 0.01, 0.001, 0, 0.5, 0, 0, 0.01, 0, 0.01, 0.001, 0.001, 0, 0.001, 0.01, 0.001, 0.001, 0, 0.01, 0, 0.01, 0, 0.001, 0.5, 0, 0.001, 0, 0.01, 0, 0.5, 0, 0, 0.001, 0.01, 0.001, 0.01, 0, 0.001, 0.5, 0, 0, 0, 0, 0.1, 0.01, 0, 0.001, 0.001, 0, 0.1]\n",
      "1521/1521 [==============================] - 3s 2ms/step\n",
      "776/776 [==============================] - 1s 2ms/step\n",
      "99\n"
     ]
    },
    {
     "data": {
      "application/vnd.jupyter.widget-view+json": {
       "model_id": "59192007366b450c9bc46a06cca6ed8a",
       "version_major": 2,
       "version_minor": 0
      },
      "text/plain": [
       "  0%|          | 0/1500 [00:00<?, ?it/s]"
      ]
     },
     "metadata": {},
     "output_type": "display_data"
    },
    {
     "name": "stdout",
     "output_type": "stream",
     "text": [
      "1/1 [==============================] - 0s 72ms/step\n",
      " 31 epochs, mse =  0.55751\n",
      "1/1 [==============================] - 0s 74ms/step\n",
      " 16 epochs, mse =  0.54750\n",
      "1/1 [==============================] - 0s 87ms/step\n",
      " 19 epochs, mse =  0.54056\n",
      "1/1 [==============================] - 0s 93ms/step\n",
      " 15 epochs, mse =  0.54849\n",
      "1/1 [==============================] - 0s 75ms/step\n",
      " 26 epochs, mse =  0.52422\n",
      "[0.01, 0.01, 0.01, 0, 0, 0, 0, 0.01, 0, 0.01, 0.01, 0.01, 0.5, 0.001, 0, 0, 0, 0, 0.001, 0.01, 0, 0, 0.001, 0.01, 0, 0.01, 0.01, 0.01, 0, 0.001, 0.5, 0.01, 0.01, 0.01, 0.01, 0.001, 0.01, 0, 0.5, 0.5, 0.01, 0.01, 0.001, 0.001, 0.01, 0.001, 0, 0.001, 0, 0.001, 0.01, 0.001, 0, 0.5, 0, 0, 0.01, 0, 0.01, 0.001, 0.001, 0, 0.001, 0.01, 0.001, 0.001, 0, 0.01, 0, 0.01, 0, 0.001, 0.5, 0, 0.001, 0, 0.01, 0, 0.5, 0, 0, 0.001, 0.01, 0.001, 0.01, 0, 0.001, 0.5, 0, 0, 0, 0, 0.1, 0.01, 0, 0.001, 0.001, 0, 0.1, 0]\n",
      "1521/1521 [==============================] - 3s 2ms/step\n",
      "776/776 [==============================] - 1s 2ms/step\n",
      "100\n"
     ]
    },
    {
     "data": {
      "application/vnd.jupyter.widget-view+json": {
       "model_id": "53a4ac1f37f34a19b3dd5eebde34f38a",
       "version_major": 2,
       "version_minor": 0
      },
      "text/plain": [
       "  0%|          | 0/1500 [00:00<?, ?it/s]"
      ]
     },
     "metadata": {},
     "output_type": "display_data"
    },
    {
     "name": "stdout",
     "output_type": "stream",
     "text": [
      "1/1 [==============================] - 0s 76ms/step\n",
      " 27 epochs, mse =  0.20810\n",
      "1/1 [==============================] - 0s 74ms/step\n",
      " 19 epochs, mse =  0.20772\n",
      "1/1 [==============================] - 0s 85ms/step\n",
      " 16 epochs, mse =  0.20389\n",
      "1/1 [==============================] - 0s 94ms/step\n",
      " 19 epochs, mse =  0.20308\n",
      "1/1 [==============================] - 0s 78ms/step\n",
      " 29 epochs, mse =  0.18780\n",
      "[0.01, 0.01, 0.01, 0, 0, 0, 0, 0.01, 0, 0.01, 0.01, 0.01, 0.5, 0.001, 0, 0, 0, 0, 0.001, 0.01, 0, 0, 0.001, 0.01, 0, 0.01, 0.01, 0.01, 0, 0.001, 0.5, 0.01, 0.01, 0.01, 0.01, 0.001, 0.01, 0, 0.5, 0.5, 0.01, 0.01, 0.001, 0.001, 0.01, 0.001, 0, 0.001, 0, 0.001, 0.01, 0.001, 0, 0.5, 0, 0, 0.01, 0, 0.01, 0.001, 0.001, 0, 0.001, 0.01, 0.001, 0.001, 0, 0.01, 0, 0.01, 0, 0.001, 0.5, 0, 0.001, 0, 0.01, 0, 0.5, 0, 0, 0.001, 0.01, 0.001, 0.01, 0, 0.001, 0.5, 0, 0, 0, 0, 0.1, 0.01, 0, 0.001, 0.001, 0, 0.1, 0, 0]\n",
      "1521/1521 [==============================] - 3s 2ms/step\n",
      "776/776 [==============================] - 1s 2ms/step\n",
      "101\n"
     ]
    },
    {
     "data": {
      "application/vnd.jupyter.widget-view+json": {
       "model_id": "566fd469a12442e5be73b9d82a29f1e9",
       "version_major": 2,
       "version_minor": 0
      },
      "text/plain": [
       "  0%|          | 0/1500 [00:00<?, ?it/s]"
      ]
     },
     "metadata": {},
     "output_type": "display_data"
    },
    {
     "name": "stdout",
     "output_type": "stream",
     "text": [
      "1/1 [==============================] - 0s 88ms/step\n",
      " 18 epochs, mse =  0.11423\n",
      "1/1 [==============================] - 0s 89ms/step\n",
      " 16 epochs, mse =  0.11456\n",
      "1/1 [==============================] - 0s 101ms/step\n",
      " 12 epochs, mse =  0.11437\n",
      "1/1 [==============================] - 0s 111ms/step\n",
      " 12 epochs, mse =  0.11535\n",
      "1/1 [==============================] - 0s 89ms/step\n",
      " 19 epochs, mse =  0.11809\n",
      "[0.01, 0.01, 0.01, 0, 0, 0, 0, 0.01, 0, 0.01, 0.01, 0.01, 0.5, 0.001, 0, 0, 0, 0, 0.001, 0.01, 0, 0, 0.001, 0.01, 0, 0.01, 0.01, 0.01, 0, 0.001, 0.5, 0.01, 0.01, 0.01, 0.01, 0.001, 0.01, 0, 0.5, 0.5, 0.01, 0.01, 0.001, 0.001, 0.01, 0.001, 0, 0.001, 0, 0.001, 0.01, 0.001, 0, 0.5, 0, 0, 0.01, 0, 0.01, 0.001, 0.001, 0, 0.001, 0.01, 0.001, 0.001, 0, 0.01, 0, 0.01, 0, 0.001, 0.5, 0, 0.001, 0, 0.01, 0, 0.5, 0, 0, 0.001, 0.01, 0.001, 0.01, 0, 0.001, 0.5, 0, 0, 0, 0, 0.1, 0.01, 0, 0.001, 0.001, 0, 0.1, 0, 0, 0.5]\n",
      "1521/1521 [==============================] - 3s 2ms/step\n",
      "776/776 [==============================] - 1s 2ms/step\n",
      "102\n"
     ]
    },
    {
     "data": {
      "application/vnd.jupyter.widget-view+json": {
       "model_id": "f663bb2942874829933b236342e652af",
       "version_major": 2,
       "version_minor": 0
      },
      "text/plain": [
       "  0%|          | 0/1500 [00:00<?, ?it/s]"
      ]
     },
     "metadata": {},
     "output_type": "display_data"
    },
    {
     "name": "stdout",
     "output_type": "stream",
     "text": [
      "1/1 [==============================] - 0s 86ms/step\n",
      " 25 epochs, mse =  0.99207\n",
      "1/1 [==============================] - 0s 86ms/step\n",
      " 20 epochs, mse =  0.97807\n",
      "1/1 [==============================] - 0s 97ms/step\n",
      " 22 epochs, mse =  0.93061\n",
      "1/1 [==============================] - 0s 104ms/step\n",
      " 16 epochs, mse =  0.92917\n",
      "1/1 [==============================] - 0s 83ms/step\n",
      " 15 epochs, mse =  0.87444\n",
      "[0.01, 0.01, 0.01, 0, 0, 0, 0, 0.01, 0, 0.01, 0.01, 0.01, 0.5, 0.001, 0, 0, 0, 0, 0.001, 0.01, 0, 0, 0.001, 0.01, 0, 0.01, 0.01, 0.01, 0, 0.001, 0.5, 0.01, 0.01, 0.01, 0.01, 0.001, 0.01, 0, 0.5, 0.5, 0.01, 0.01, 0.001, 0.001, 0.01, 0.001, 0, 0.001, 0, 0.001, 0.01, 0.001, 0, 0.5, 0, 0, 0.01, 0, 0.01, 0.001, 0.001, 0, 0.001, 0.01, 0.001, 0.001, 0, 0.01, 0, 0.01, 0, 0.001, 0.5, 0, 0.001, 0, 0.01, 0, 0.5, 0, 0, 0.001, 0.01, 0.001, 0.01, 0, 0.001, 0.5, 0, 0, 0, 0, 0.1, 0.01, 0, 0.001, 0.001, 0, 0.1, 0, 0, 0.5, 0]\n",
      "1521/1521 [==============================] - 3s 2ms/step\n",
      "776/776 [==============================] - 1s 2ms/step\n",
      "103\n"
     ]
    },
    {
     "data": {
      "application/vnd.jupyter.widget-view+json": {
       "model_id": "291e1f2f6a0d4a33a9dabcef22801870",
       "version_major": 2,
       "version_minor": 0
      },
      "text/plain": [
       "  0%|          | 0/1500 [00:00<?, ?it/s]"
      ]
     },
     "metadata": {},
     "output_type": "display_data"
    },
    {
     "name": "stdout",
     "output_type": "stream",
     "text": [
      "1/1 [==============================] - 0s 80ms/step\n",
      " 48 epochs, mse =  0.10122\n",
      "1/1 [==============================] - 0s 81ms/step\n",
      " 16 epochs, mse =  0.09779\n",
      "1/1 [==============================] - 0s 90ms/step\n",
      " 21 epochs, mse =  0.09659\n",
      "1/1 [==============================] - 0s 103ms/step\n",
      " 15 epochs, mse =  0.09694\n",
      "1/1 [==============================] - 0s 80ms/step\n",
      " 33 epochs, mse =  0.09717\n",
      "[0.01, 0.01, 0.01, 0, 0, 0, 0, 0.01, 0, 0.01, 0.01, 0.01, 0.5, 0.001, 0, 0, 0, 0, 0.001, 0.01, 0, 0, 0.001, 0.01, 0, 0.01, 0.01, 0.01, 0, 0.001, 0.5, 0.01, 0.01, 0.01, 0.01, 0.001, 0.01, 0, 0.5, 0.5, 0.01, 0.01, 0.001, 0.001, 0.01, 0.001, 0, 0.001, 0, 0.001, 0.01, 0.001, 0, 0.5, 0, 0, 0.01, 0, 0.01, 0.001, 0.001, 0, 0.001, 0.01, 0.001, 0.001, 0, 0.01, 0, 0.01, 0, 0.001, 0.5, 0, 0.001, 0, 0.01, 0, 0.5, 0, 0, 0.001, 0.01, 0.001, 0.01, 0, 0.001, 0.5, 0, 0, 0, 0, 0.1, 0.01, 0, 0.001, 0.001, 0, 0.1, 0, 0, 0.5, 0, 0.01]\n",
      "1521/1521 [==============================] - 3s 2ms/step\n",
      "776/776 [==============================] - 1s 2ms/step\n",
      "104\n"
     ]
    },
    {
     "data": {
      "application/vnd.jupyter.widget-view+json": {
       "model_id": "6ec2ef91d02a4482a591aebcb74b1f64",
       "version_major": 2,
       "version_minor": 0
      },
      "text/plain": [
       "  0%|          | 0/1500 [00:00<?, ?it/s]"
      ]
     },
     "metadata": {},
     "output_type": "display_data"
    },
    {
     "name": "stdout",
     "output_type": "stream",
     "text": [
      "1/1 [==============================] - 0s 74ms/step\n",
      " 31 epochs, mse =  0.53739\n",
      "1/1 [==============================] - 0s 76ms/step\n",
      " 16 epochs, mse =  0.54664\n",
      "1/1 [==============================] - 0s 89ms/step\n",
      " 25 epochs, mse =  0.51128\n",
      "1/1 [==============================] - 0s 97ms/step\n",
      " 25 epochs, mse =  0.46932\n",
      "1/1 [==============================] - 0s 79ms/step\n",
      " 27 epochs, mse =  0.41172\n",
      "[0.01, 0.01, 0.01, 0, 0, 0, 0, 0.01, 0, 0.01, 0.01, 0.01, 0.5, 0.001, 0, 0, 0, 0, 0.001, 0.01, 0, 0, 0.001, 0.01, 0, 0.01, 0.01, 0.01, 0, 0.001, 0.5, 0.01, 0.01, 0.01, 0.01, 0.001, 0.01, 0, 0.5, 0.5, 0.01, 0.01, 0.001, 0.001, 0.01, 0.001, 0, 0.001, 0, 0.001, 0.01, 0.001, 0, 0.5, 0, 0, 0.01, 0, 0.01, 0.001, 0.001, 0, 0.001, 0.01, 0.001, 0.001, 0, 0.01, 0, 0.01, 0, 0.001, 0.5, 0, 0.001, 0, 0.01, 0, 0.5, 0, 0, 0.001, 0.01, 0.001, 0.01, 0, 0.001, 0.5, 0, 0, 0, 0, 0.1, 0.01, 0, 0.001, 0.001, 0, 0.1, 0, 0, 0.5, 0, 0.01, 0]\n",
      "1521/1521 [==============================] - 3s 2ms/step\n",
      "776/776 [==============================] - 1s 2ms/step\n",
      "105\n"
     ]
    },
    {
     "data": {
      "application/vnd.jupyter.widget-view+json": {
       "model_id": "fdfe8a3375974ac48b479be8183a55c3",
       "version_major": 2,
       "version_minor": 0
      },
      "text/plain": [
       "  0%|          | 0/1500 [00:00<?, ?it/s]"
      ]
     },
     "metadata": {},
     "output_type": "display_data"
    },
    {
     "name": "stdout",
     "output_type": "stream",
     "text": [
      "1/1 [==============================] - 0s 74ms/step\n",
      " 32 epochs, mse =  0.10854\n",
      "1/1 [==============================] - 0s 75ms/step\n",
      " 15 epochs, mse =  0.10839\n",
      "1/1 [==============================] - 0s 89ms/step\n",
      " 19 epochs, mse =  0.10764\n",
      "1/1 [==============================] - 0s 98ms/step\n",
      " 14 epochs, mse =  0.10899\n",
      "1/1 [==============================] - 0s 79ms/step\n",
      " 16 epochs, mse =  0.11448\n",
      "[0.01, 0.01, 0.01, 0, 0, 0, 0, 0.01, 0, 0.01, 0.01, 0.01, 0.5, 0.001, 0, 0, 0, 0, 0.001, 0.01, 0, 0, 0.001, 0.01, 0, 0.01, 0.01, 0.01, 0, 0.001, 0.5, 0.01, 0.01, 0.01, 0.01, 0.001, 0.01, 0, 0.5, 0.5, 0.01, 0.01, 0.001, 0.001, 0.01, 0.001, 0, 0.001, 0, 0.001, 0.01, 0.001, 0, 0.5, 0, 0, 0.01, 0, 0.01, 0.001, 0.001, 0, 0.001, 0.01, 0.001, 0.001, 0, 0.01, 0, 0.01, 0, 0.001, 0.5, 0, 0.001, 0, 0.01, 0, 0.5, 0, 0, 0.001, 0.01, 0.001, 0.01, 0, 0.001, 0.5, 0, 0, 0, 0, 0.1, 0.01, 0, 0.001, 0.001, 0, 0.1, 0, 0, 0.5, 0, 0.01, 0, 0.01]\n",
      "1521/1521 [==============================] - 3s 2ms/step\n",
      "776/776 [==============================] - 1s 2ms/step\n",
      "106\n"
     ]
    },
    {
     "data": {
      "application/vnd.jupyter.widget-view+json": {
       "model_id": "acaec0a5ffef4532a13c992c7161b431",
       "version_major": 2,
       "version_minor": 0
      },
      "text/plain": [
       "  0%|          | 0/1500 [00:00<?, ?it/s]"
      ]
     },
     "metadata": {},
     "output_type": "display_data"
    },
    {
     "name": "stdout",
     "output_type": "stream",
     "text": [
      "1/1 [==============================] - 0s 72ms/step\n",
      " 13 epochs, mse =  0.54891\n",
      "1/1 [==============================] - 0s 74ms/step\n",
      " 13 epochs, mse =  0.50762\n",
      "1/1 [==============================] - 0s 89ms/step\n",
      " 30 epochs, mse =  0.45705\n",
      "1/1 [==============================] - 0s 95ms/step\n",
      " 18 epochs, mse =  0.44072\n",
      "1/1 [==============================] - 0s 76ms/step\n",
      " 15 epochs, mse =  0.41823\n",
      "[0.01, 0.01, 0.01, 0, 0, 0, 0, 0.01, 0, 0.01, 0.01, 0.01, 0.5, 0.001, 0, 0, 0, 0, 0.001, 0.01, 0, 0, 0.001, 0.01, 0, 0.01, 0.01, 0.01, 0, 0.001, 0.5, 0.01, 0.01, 0.01, 0.01, 0.001, 0.01, 0, 0.5, 0.5, 0.01, 0.01, 0.001, 0.001, 0.01, 0.001, 0, 0.001, 0, 0.001, 0.01, 0.001, 0, 0.5, 0, 0, 0.01, 0, 0.01, 0.001, 0.001, 0, 0.001, 0.01, 0.001, 0.001, 0, 0.01, 0, 0.01, 0, 0.001, 0.5, 0, 0.001, 0, 0.01, 0, 0.5, 0, 0, 0.001, 0.01, 0.001, 0.01, 0, 0.001, 0.5, 0, 0, 0, 0, 0.1, 0.01, 0, 0.001, 0.001, 0, 0.1, 0, 0, 0.5, 0, 0.01, 0, 0.01, 0]\n",
      "1521/1521 [==============================] - 3s 2ms/step\n",
      "776/776 [==============================] - 1s 2ms/step\n",
      "107\n"
     ]
    },
    {
     "data": {
      "application/vnd.jupyter.widget-view+json": {
       "model_id": "fc84e6a36af74694b40824e2923eaa9d",
       "version_major": 2,
       "version_minor": 0
      },
      "text/plain": [
       "  0%|          | 0/1500 [00:00<?, ?it/s]"
      ]
     },
     "metadata": {},
     "output_type": "display_data"
    },
    {
     "name": "stdout",
     "output_type": "stream",
     "text": [
      "1/1 [==============================] - 0s 71ms/step\n",
      " 15 epochs, mse =  0.16910\n",
      "1/1 [==============================] - 0s 73ms/step\n",
      " 15 epochs, mse =  0.16711\n",
      "1/1 [==============================] - 0s 87ms/step\n",
      " 16 epochs, mse =  0.16935\n",
      "1/1 [==============================] - 0s 95ms/step\n",
      " 15 epochs, mse =  0.16650\n",
      "1/1 [==============================] - 0s 92ms/step\n",
      " 25 epochs, mse =  0.17231\n",
      "[0.01, 0.01, 0.01, 0, 0, 0, 0, 0.01, 0, 0.01, 0.01, 0.01, 0.5, 0.001, 0, 0, 0, 0, 0.001, 0.01, 0, 0, 0.001, 0.01, 0, 0.01, 0.01, 0.01, 0, 0.001, 0.5, 0.01, 0.01, 0.01, 0.01, 0.001, 0.01, 0, 0.5, 0.5, 0.01, 0.01, 0.001, 0.001, 0.01, 0.001, 0, 0.001, 0, 0.001, 0.01, 0.001, 0, 0.5, 0, 0, 0.01, 0, 0.01, 0.001, 0.001, 0, 0.001, 0.01, 0.001, 0.001, 0, 0.01, 0, 0.01, 0, 0.001, 0.5, 0, 0.001, 0, 0.01, 0, 0.5, 0, 0, 0.001, 0.01, 0.001, 0.01, 0, 0.001, 0.5, 0, 0, 0, 0, 0.1, 0.01, 0, 0.001, 0.001, 0, 0.1, 0, 0, 0.5, 0, 0.01, 0, 0.01, 0, 0.001]\n",
      "1521/1521 [==============================] - 3s 2ms/step\n",
      "776/776 [==============================] - 1s 2ms/step\n",
      "108\n"
     ]
    },
    {
     "data": {
      "application/vnd.jupyter.widget-view+json": {
       "model_id": "914f10488d9b475db1ff89238cc061aa",
       "version_major": 2,
       "version_minor": 0
      },
      "text/plain": [
       "  0%|          | 0/1500 [00:00<?, ?it/s]"
      ]
     },
     "metadata": {},
     "output_type": "display_data"
    },
    {
     "name": "stdout",
     "output_type": "stream",
     "text": [
      "1/1 [==============================] - 0s 87ms/step\n",
      " 38 epochs, mse =  0.80858\n",
      "1/1 [==============================] - 0s 89ms/step\n",
      " 17 epochs, mse =  0.77841\n",
      "1/1 [==============================] - 0s 109ms/step\n",
      " 17 epochs, mse =  0.77631\n",
      "1/1 [==============================] - 0s 109ms/step\n",
      " 15 epochs, mse =  0.91263\n",
      "1/1 [==============================] - 0s 88ms/step\n",
      " 34 epochs, mse =  0.61259\n",
      "[0.01, 0.01, 0.01, 0, 0, 0, 0, 0.01, 0, 0.01, 0.01, 0.01, 0.5, 0.001, 0, 0, 0, 0, 0.001, 0.01, 0, 0, 0.001, 0.01, 0, 0.01, 0.01, 0.01, 0, 0.001, 0.5, 0.01, 0.01, 0.01, 0.01, 0.001, 0.01, 0, 0.5, 0.5, 0.01, 0.01, 0.001, 0.001, 0.01, 0.001, 0, 0.001, 0, 0.001, 0.01, 0.001, 0, 0.5, 0, 0, 0.01, 0, 0.01, 0.001, 0.001, 0, 0.001, 0.01, 0.001, 0.001, 0, 0.01, 0, 0.01, 0, 0.001, 0.5, 0, 0.001, 0, 0.01, 0, 0.5, 0, 0, 0.001, 0.01, 0.001, 0.01, 0, 0.001, 0.5, 0, 0, 0, 0, 0.1, 0.01, 0, 0.001, 0.001, 0, 0.1, 0, 0, 0.5, 0, 0.01, 0, 0.01, 0, 0.001, 0]\n",
      "1521/1521 [==============================] - 3s 2ms/step\n",
      "776/776 [==============================] - 1s 2ms/step\n",
      "109\n"
     ]
    },
    {
     "data": {
      "application/vnd.jupyter.widget-view+json": {
       "model_id": "d40b6e0ac5c64f2ba383461d03235359",
       "version_major": 2,
       "version_minor": 0
      },
      "text/plain": [
       "  0%|          | 0/1500 [00:00<?, ?it/s]"
      ]
     },
     "metadata": {},
     "output_type": "display_data"
    },
    {
     "name": "stdout",
     "output_type": "stream",
     "text": [
      "1/1 [==============================] - 0s 81ms/step\n",
      " 16 epochs, mse =  0.31626\n",
      "1/1 [==============================] - 0s 85ms/step\n",
      " 14 epochs, mse =  0.30668\n",
      "1/1 [==============================] - 0s 93ms/step\n",
      " 14 epochs, mse =  0.26964\n",
      "1/1 [==============================] - 0s 101ms/step\n",
      " 14 epochs, mse =  0.26792\n",
      "1/1 [==============================] - 0s 83ms/step\n",
      " 24 epochs, mse =  0.26502\n",
      "[0.01, 0.01, 0.01, 0, 0, 0, 0, 0.01, 0, 0.01, 0.01, 0.01, 0.5, 0.001, 0, 0, 0, 0, 0.001, 0.01, 0, 0, 0.001, 0.01, 0, 0.01, 0.01, 0.01, 0, 0.001, 0.5, 0.01, 0.01, 0.01, 0.01, 0.001, 0.01, 0, 0.5, 0.5, 0.01, 0.01, 0.001, 0.001, 0.01, 0.001, 0, 0.001, 0, 0.001, 0.01, 0.001, 0, 0.5, 0, 0, 0.01, 0, 0.01, 0.001, 0.001, 0, 0.001, 0.01, 0.001, 0.001, 0, 0.01, 0, 0.01, 0, 0.001, 0.5, 0, 0.001, 0, 0.01, 0, 0.5, 0, 0, 0.001, 0.01, 0.001, 0.01, 0, 0.001, 0.5, 0, 0, 0, 0, 0.1, 0.01, 0, 0.001, 0.001, 0, 0.1, 0, 0, 0.5, 0, 0.01, 0, 0.01, 0, 0.001, 0, 0]\n",
      "1521/1521 [==============================] - 3s 2ms/step\n",
      "776/776 [==============================] - 2s 2ms/step\n",
      "110\n"
     ]
    },
    {
     "data": {
      "application/vnd.jupyter.widget-view+json": {
       "model_id": "46adacf8b0ec4f8a80ed381f0cb16e03",
       "version_major": 2,
       "version_minor": 0
      },
      "text/plain": [
       "  0%|          | 0/1500 [00:00<?, ?it/s]"
      ]
     },
     "metadata": {},
     "output_type": "display_data"
    },
    {
     "name": "stdout",
     "output_type": "stream",
     "text": [
      "1/1 [==============================] - 0s 77ms/step\n",
      " 26 epochs, mse =  0.12931\n",
      "1/1 [==============================] - 0s 79ms/step\n",
      " 31 epochs, mse =  0.12784\n",
      "1/1 [==============================] - 0s 91ms/step\n",
      " 27 epochs, mse =  0.12466\n",
      "1/1 [==============================] - 0s 101ms/step\n",
      " 27 epochs, mse =  0.12308\n",
      "1/1 [==============================] - 0s 83ms/step\n",
      " 33 epochs, mse =  0.11325\n",
      "[0.01, 0.01, 0.01, 0, 0, 0, 0, 0.01, 0, 0.01, 0.01, 0.01, 0.5, 0.001, 0, 0, 0, 0, 0.001, 0.01, 0, 0, 0.001, 0.01, 0, 0.01, 0.01, 0.01, 0, 0.001, 0.5, 0.01, 0.01, 0.01, 0.01, 0.001, 0.01, 0, 0.5, 0.5, 0.01, 0.01, 0.001, 0.001, 0.01, 0.001, 0, 0.001, 0, 0.001, 0.01, 0.001, 0, 0.5, 0, 0, 0.01, 0, 0.01, 0.001, 0.001, 0, 0.001, 0.01, 0.001, 0.001, 0, 0.01, 0, 0.01, 0, 0.001, 0.5, 0, 0.001, 0, 0.01, 0, 0.5, 0, 0, 0.001, 0.01, 0.001, 0.01, 0, 0.001, 0.5, 0, 0, 0, 0, 0.1, 0.01, 0, 0.001, 0.001, 0, 0.1, 0, 0, 0.5, 0, 0.01, 0, 0.01, 0, 0.001, 0, 0, 0]\n",
      "1521/1521 [==============================] - 3s 2ms/step\n",
      "776/776 [==============================] - 1s 2ms/step\n",
      "111\n"
     ]
    },
    {
     "data": {
      "application/vnd.jupyter.widget-view+json": {
       "model_id": "26f09ef8740d4934bb2d8a06f153c05d",
       "version_major": 2,
       "version_minor": 0
      },
      "text/plain": [
       "  0%|          | 0/1500 [00:00<?, ?it/s]"
      ]
     },
     "metadata": {},
     "output_type": "display_data"
    },
    {
     "name": "stdout",
     "output_type": "stream",
     "text": [
      "1/1 [==============================] - 0s 74ms/step\n",
      " 18 epochs, mse =  0.29549\n",
      "1/1 [==============================] - 0s 77ms/step\n",
      " 25 epochs, mse =  0.29465\n",
      "1/1 [==============================] - 0s 88ms/step\n",
      " 21 epochs, mse =  0.28363\n",
      "1/1 [==============================] - 0s 98ms/step\n",
      " 13 epochs, mse =  0.28203\n",
      "1/1 [==============================] - 0s 93ms/step\n",
      " 40 epochs, mse =  0.24379\n",
      "[0.01, 0.01, 0.01, 0, 0, 0, 0, 0.01, 0, 0.01, 0.01, 0.01, 0.5, 0.001, 0, 0, 0, 0, 0.001, 0.01, 0, 0, 0.001, 0.01, 0, 0.01, 0.01, 0.01, 0, 0.001, 0.5, 0.01, 0.01, 0.01, 0.01, 0.001, 0.01, 0, 0.5, 0.5, 0.01, 0.01, 0.001, 0.001, 0.01, 0.001, 0, 0.001, 0, 0.001, 0.01, 0.001, 0, 0.5, 0, 0, 0.01, 0, 0.01, 0.001, 0.001, 0, 0.001, 0.01, 0.001, 0.001, 0, 0.01, 0, 0.01, 0, 0.001, 0.5, 0, 0.001, 0, 0.01, 0, 0.5, 0, 0, 0.001, 0.01, 0.001, 0.01, 0, 0.001, 0.5, 0, 0, 0, 0, 0.1, 0.01, 0, 0.001, 0.001, 0, 0.1, 0, 0, 0.5, 0, 0.01, 0, 0.01, 0, 0.001, 0, 0, 0, 0]\n",
      "1521/1521 [==============================] - 3s 2ms/step\n",
      "776/776 [==============================] - 1s 2ms/step\n",
      "112\n"
     ]
    },
    {
     "data": {
      "application/vnd.jupyter.widget-view+json": {
       "model_id": "b68b2f2359d54ee1a859d09ef5fa1479",
       "version_major": 2,
       "version_minor": 0
      },
      "text/plain": [
       "  0%|          | 0/1500 [00:00<?, ?it/s]"
      ]
     },
     "metadata": {},
     "output_type": "display_data"
    },
    {
     "name": "stdout",
     "output_type": "stream",
     "text": [
      "1/1 [==============================] - 0s 73ms/step\n",
      " 20 epochs, mse =  0.09049\n",
      "1/1 [==============================] - 0s 75ms/step\n",
      " 24 epochs, mse =  0.09035\n",
      "1/1 [==============================] - 0s 87ms/step\n",
      " 15 epochs, mse =  0.08654\n",
      "1/1 [==============================] - 0s 98ms/step\n",
      " 14 epochs, mse =  0.08554\n",
      "1/1 [==============================] - 0s 76ms/step\n",
      " 21 epochs, mse =  0.08569\n",
      "[0.01, 0.01, 0.01, 0, 0, 0, 0, 0.01, 0, 0.01, 0.01, 0.01, 0.5, 0.001, 0, 0, 0, 0, 0.001, 0.01, 0, 0, 0.001, 0.01, 0, 0.01, 0.01, 0.01, 0, 0.001, 0.5, 0.01, 0.01, 0.01, 0.01, 0.001, 0.01, 0, 0.5, 0.5, 0.01, 0.01, 0.001, 0.001, 0.01, 0.001, 0, 0.001, 0, 0.001, 0.01, 0.001, 0, 0.5, 0, 0, 0.01, 0, 0.01, 0.001, 0.001, 0, 0.001, 0.01, 0.001, 0.001, 0, 0.01, 0, 0.01, 0, 0.001, 0.5, 0, 0.001, 0, 0.01, 0, 0.5, 0, 0, 0.001, 0.01, 0.001, 0.01, 0, 0.001, 0.5, 0, 0, 0, 0, 0.1, 0.01, 0, 0.001, 0.001, 0, 0.1, 0, 0, 0.5, 0, 0.01, 0, 0.01, 0, 0.001, 0, 0, 0, 0, 0.001]\n",
      "1521/1521 [==============================] - 3s 2ms/step\n",
      "776/776 [==============================] - 1s 2ms/step\n",
      "113\n"
     ]
    },
    {
     "data": {
      "application/vnd.jupyter.widget-view+json": {
       "model_id": "a60e08488ab7470c81eab5818d1c88ae",
       "version_major": 2,
       "version_minor": 0
      },
      "text/plain": [
       "  0%|          | 0/1500 [00:00<?, ?it/s]"
      ]
     },
     "metadata": {},
     "output_type": "display_data"
    },
    {
     "name": "stdout",
     "output_type": "stream",
     "text": [
      "1/1 [==============================] - 0s 73ms/step\n",
      " 14 epochs, mse =  2.48830\n",
      "1/1 [==============================] - 0s 73ms/step\n",
      " 16 epochs, mse =  1.73485\n",
      "1/1 [==============================] - 0s 88ms/step\n",
      " 19 epochs, mse =  1.77872\n",
      "1/1 [==============================] - 0s 97ms/step\n",
      " 16 epochs, mse =  1.75847\n",
      "1/1 [==============================] - 0s 76ms/step\n",
      " 16 epochs, mse =  1.44230\n",
      "[0.01, 0.01, 0.01, 0, 0, 0, 0, 0.01, 0, 0.01, 0.01, 0.01, 0.5, 0.001, 0, 0, 0, 0, 0.001, 0.01, 0, 0, 0.001, 0.01, 0, 0.01, 0.01, 0.01, 0, 0.001, 0.5, 0.01, 0.01, 0.01, 0.01, 0.001, 0.01, 0, 0.5, 0.5, 0.01, 0.01, 0.001, 0.001, 0.01, 0.001, 0, 0.001, 0, 0.001, 0.01, 0.001, 0, 0.5, 0, 0, 0.01, 0, 0.01, 0.001, 0.001, 0, 0.001, 0.01, 0.001, 0.001, 0, 0.01, 0, 0.01, 0, 0.001, 0.5, 0, 0.001, 0, 0.01, 0, 0.5, 0, 0, 0.001, 0.01, 0.001, 0.01, 0, 0.001, 0.5, 0, 0, 0, 0, 0.1, 0.01, 0, 0.001, 0.001, 0, 0.1, 0, 0, 0.5, 0, 0.01, 0, 0.01, 0, 0.001, 0, 0, 0, 0, 0.001, 0]\n",
      "1521/1521 [==============================] - 3s 2ms/step\n",
      "776/776 [==============================] - 1s 2ms/step\n",
      "114\n"
     ]
    },
    {
     "data": {
      "application/vnd.jupyter.widget-view+json": {
       "model_id": "b43cb6edb4004a88a3b261820532c68f",
       "version_major": 2,
       "version_minor": 0
      },
      "text/plain": [
       "  0%|          | 0/1500 [00:00<?, ?it/s]"
      ]
     },
     "metadata": {},
     "output_type": "display_data"
    },
    {
     "name": "stdout",
     "output_type": "stream",
     "text": [
      "1/1 [==============================] - 0s 75ms/step\n",
      " 55 epochs, mse =  0.09264\n",
      "1/1 [==============================] - 0s 73ms/step\n",
      " 18 epochs, mse =  0.09223\n",
      "1/1 [==============================] - 0s 104ms/step\n",
      " 17 epochs, mse =  0.09204\n",
      "1/1 [==============================] - 0s 112ms/step\n",
      " 12 epochs, mse =  0.09250\n",
      "1/1 [==============================] - 0s 93ms/step\n",
      " 26 epochs, mse =  0.09536\n",
      "[0.01, 0.01, 0.01, 0, 0, 0, 0, 0.01, 0, 0.01, 0.01, 0.01, 0.5, 0.001, 0, 0, 0, 0, 0.001, 0.01, 0, 0, 0.001, 0.01, 0, 0.01, 0.01, 0.01, 0, 0.001, 0.5, 0.01, 0.01, 0.01, 0.01, 0.001, 0.01, 0, 0.5, 0.5, 0.01, 0.01, 0.001, 0.001, 0.01, 0.001, 0, 0.001, 0, 0.001, 0.01, 0.001, 0, 0.5, 0, 0, 0.01, 0, 0.01, 0.001, 0.001, 0, 0.001, 0.01, 0.001, 0.001, 0, 0.01, 0, 0.01, 0, 0.001, 0.5, 0, 0.001, 0, 0.01, 0, 0.5, 0, 0, 0.001, 0.01, 0.001, 0.01, 0, 0.001, 0.5, 0, 0, 0, 0, 0.1, 0.01, 0, 0.001, 0.001, 0, 0.1, 0, 0, 0.5, 0, 0.01, 0, 0.01, 0, 0.001, 0, 0, 0, 0, 0.001, 0, 0.01]\n",
      "1521/1521 [==============================] - 3s 2ms/step\n",
      "776/776 [==============================] - 1s 2ms/step\n",
      "115\n"
     ]
    },
    {
     "data": {
      "application/vnd.jupyter.widget-view+json": {
       "model_id": "4fc6d0126d65416da6ee1acc90a1ad1d",
       "version_major": 2,
       "version_minor": 0
      },
      "text/plain": [
       "  0%|          | 0/1500 [00:00<?, ?it/s]"
      ]
     },
     "metadata": {},
     "output_type": "display_data"
    },
    {
     "name": "stdout",
     "output_type": "stream",
     "text": [
      "1/1 [==============================] - 0s 86ms/step\n",
      " 31 epochs, mse =  0.66582\n",
      "1/1 [==============================] - 0s 88ms/step\n",
      " 14 epochs, mse =  0.65439\n",
      "1/1 [==============================] - 0s 102ms/step\n",
      " 14 epochs, mse =  0.63978\n",
      "1/1 [==============================] - 0s 107ms/step\n",
      " 33 epochs, mse =  0.72916\n",
      "1/1 [==============================] - 0s 85ms/step\n",
      " 15 epochs, mse =  0.60610\n",
      "[0.01, 0.01, 0.01, 0, 0, 0, 0, 0.01, 0, 0.01, 0.01, 0.01, 0.5, 0.001, 0, 0, 0, 0, 0.001, 0.01, 0, 0, 0.001, 0.01, 0, 0.01, 0.01, 0.01, 0, 0.001, 0.5, 0.01, 0.01, 0.01, 0.01, 0.001, 0.01, 0, 0.5, 0.5, 0.01, 0.01, 0.001, 0.001, 0.01, 0.001, 0, 0.001, 0, 0.001, 0.01, 0.001, 0, 0.5, 0, 0, 0.01, 0, 0.01, 0.001, 0.001, 0, 0.001, 0.01, 0.001, 0.001, 0, 0.01, 0, 0.01, 0, 0.001, 0.5, 0, 0.001, 0, 0.01, 0, 0.5, 0, 0, 0.001, 0.01, 0.001, 0.01, 0, 0.001, 0.5, 0, 0, 0, 0, 0.1, 0.01, 0, 0.001, 0.001, 0, 0.1, 0, 0, 0.5, 0, 0.01, 0, 0.01, 0, 0.001, 0, 0, 0, 0, 0.001, 0, 0.01, 0]\n",
      "1521/1521 [==============================] - 3s 2ms/step\n",
      "776/776 [==============================] - 1s 2ms/step\n",
      "116\n"
     ]
    },
    {
     "data": {
      "application/vnd.jupyter.widget-view+json": {
       "model_id": "0ee42a9c96dc4de6bdf0a1c11109fac4",
       "version_major": 2,
       "version_minor": 0
      },
      "text/plain": [
       "  0%|          | 0/1500 [00:00<?, ?it/s]"
      ]
     },
     "metadata": {},
     "output_type": "display_data"
    },
    {
     "name": "stdout",
     "output_type": "stream",
     "text": [
      "1/1 [==============================] - 0s 79ms/step\n",
      " 28 epochs, mse =  0.20239\n",
      "1/1 [==============================] - 0s 84ms/step\n",
      " 21 epochs, mse =  0.20548\n",
      "1/1 [==============================] - 0s 99ms/step\n",
      " 28 epochs, mse =  0.21473\n",
      "1/1 [==============================] - 0s 99ms/step\n",
      " 15 epochs, mse =  0.20320\n",
      "1/1 [==============================] - 0s 82ms/step\n",
      " 18 epochs, mse =  0.20691\n",
      "[0.01, 0.01, 0.01, 0, 0, 0, 0, 0.01, 0, 0.01, 0.01, 0.01, 0.5, 0.001, 0, 0, 0, 0, 0.001, 0.01, 0, 0, 0.001, 0.01, 0, 0.01, 0.01, 0.01, 0, 0.001, 0.5, 0.01, 0.01, 0.01, 0.01, 0.001, 0.01, 0, 0.5, 0.5, 0.01, 0.01, 0.001, 0.001, 0.01, 0.001, 0, 0.001, 0, 0.001, 0.01, 0.001, 0, 0.5, 0, 0, 0.01, 0, 0.01, 0.001, 0.001, 0, 0.001, 0.01, 0.001, 0.001, 0, 0.01, 0, 0.01, 0, 0.001, 0.5, 0, 0.001, 0, 0.01, 0, 0.5, 0, 0, 0.001, 0.01, 0.001, 0.01, 0, 0.001, 0.5, 0, 0, 0, 0, 0.1, 0.01, 0, 0.001, 0.001, 0, 0.1, 0, 0, 0.5, 0, 0.01, 0, 0.01, 0, 0.001, 0, 0, 0, 0, 0.001, 0, 0.01, 0, 0.5]\n",
      "1521/1521 [==============================] - 3s 2ms/step\n",
      "776/776 [==============================] - 1s 2ms/step\n",
      "117\n"
     ]
    },
    {
     "data": {
      "application/vnd.jupyter.widget-view+json": {
       "model_id": "2c40d2e2e07f42eb97dba22e990957d4",
       "version_major": 2,
       "version_minor": 0
      },
      "text/plain": [
       "  0%|          | 0/1500 [00:00<?, ?it/s]"
      ]
     },
     "metadata": {},
     "output_type": "display_data"
    },
    {
     "name": "stdout",
     "output_type": "stream",
     "text": [
      "1/1 [==============================] - 0s 74ms/step\n",
      " 19 epochs, mse =  0.09835\n",
      "1/1 [==============================] - 0s 76ms/step\n",
      " 16 epochs, mse =  0.09818\n",
      "1/1 [==============================] - 0s 91ms/step\n",
      " 14 epochs, mse =  0.09825\n",
      "1/1 [==============================] - 0s 98ms/step\n",
      " 15 epochs, mse =  0.09832\n",
      "1/1 [==============================] - 0s 78ms/step\n",
      " 38 epochs, mse =  0.10452\n",
      "[0.01, 0.01, 0.01, 0, 0, 0, 0, 0.01, 0, 0.01, 0.01, 0.01, 0.5, 0.001, 0, 0, 0, 0, 0.001, 0.01, 0, 0, 0.001, 0.01, 0, 0.01, 0.01, 0.01, 0, 0.001, 0.5, 0.01, 0.01, 0.01, 0.01, 0.001, 0.01, 0, 0.5, 0.5, 0.01, 0.01, 0.001, 0.001, 0.01, 0.001, 0, 0.001, 0, 0.001, 0.01, 0.001, 0, 0.5, 0, 0, 0.01, 0, 0.01, 0.001, 0.001, 0, 0.001, 0.01, 0.001, 0.001, 0, 0.01, 0, 0.01, 0, 0.001, 0.5, 0, 0.001, 0, 0.01, 0, 0.5, 0, 0, 0.001, 0.01, 0.001, 0.01, 0, 0.001, 0.5, 0, 0, 0, 0, 0.1, 0.01, 0, 0.001, 0.001, 0, 0.1, 0, 0, 0.5, 0, 0.01, 0, 0.01, 0, 0.001, 0, 0, 0, 0, 0.001, 0, 0.01, 0, 0.5, 0.1]\n",
      "1521/1521 [==============================] - 3s 2ms/step\n",
      "776/776 [==============================] - 1s 2ms/step\n",
      "118\n"
     ]
    },
    {
     "data": {
      "application/vnd.jupyter.widget-view+json": {
       "model_id": "7a42a6461dd547a4ad4ddf57462270c9",
       "version_major": 2,
       "version_minor": 0
      },
      "text/plain": [
       "  0%|          | 0/1500 [00:00<?, ?it/s]"
      ]
     },
     "metadata": {},
     "output_type": "display_data"
    },
    {
     "name": "stdout",
     "output_type": "stream",
     "text": [
      "1/1 [==============================] - 0s 73ms/step\n",
      " 18 epochs, mse =  0.14756\n",
      "1/1 [==============================] - 0s 75ms/step\n",
      " 14 epochs, mse =  0.14568\n",
      "1/1 [==============================] - 0s 88ms/step\n",
      " 13 epochs, mse =  0.14428\n",
      "1/1 [==============================] - 0s 98ms/step\n",
      " 16 epochs, mse =  0.14328\n",
      "1/1 [==============================] - 0s 77ms/step\n",
      " 19 epochs, mse =  0.14834\n",
      "[0.01, 0.01, 0.01, 0, 0, 0, 0, 0.01, 0, 0.01, 0.01, 0.01, 0.5, 0.001, 0, 0, 0, 0, 0.001, 0.01, 0, 0, 0.001, 0.01, 0, 0.01, 0.01, 0.01, 0, 0.001, 0.5, 0.01, 0.01, 0.01, 0.01, 0.001, 0.01, 0, 0.5, 0.5, 0.01, 0.01, 0.001, 0.001, 0.01, 0.001, 0, 0.001, 0, 0.001, 0.01, 0.001, 0, 0.5, 0, 0, 0.01, 0, 0.01, 0.001, 0.001, 0, 0.001, 0.01, 0.001, 0.001, 0, 0.01, 0, 0.01, 0, 0.001, 0.5, 0, 0.001, 0, 0.01, 0, 0.5, 0, 0, 0.001, 0.01, 0.001, 0.01, 0, 0.001, 0.5, 0, 0, 0, 0, 0.1, 0.01, 0, 0.001, 0.001, 0, 0.1, 0, 0, 0.5, 0, 0.01, 0, 0.01, 0, 0.001, 0, 0, 0, 0, 0.001, 0, 0.01, 0, 0.5, 0.1, 0.001]\n",
      "1521/1521 [==============================] - 3s 2ms/step\n",
      "776/776 [==============================] - 1s 2ms/step\n",
      "119\n"
     ]
    },
    {
     "data": {
      "application/vnd.jupyter.widget-view+json": {
       "model_id": "c0a7ab63bc054d0294eae344d00ccc9d",
       "version_major": 2,
       "version_minor": 0
      },
      "text/plain": [
       "  0%|          | 0/1500 [00:00<?, ?it/s]"
      ]
     },
     "metadata": {},
     "output_type": "display_data"
    },
    {
     "name": "stdout",
     "output_type": "stream",
     "text": [
      "1/1 [==============================] - 0s 72ms/step\n",
      " 28 epochs, mse =  0.61852\n",
      "1/1 [==============================] - 0s 76ms/step\n",
      " 23 epochs, mse =  0.61068\n",
      "1/1 [==============================] - 0s 85ms/step\n",
      " 22 epochs, mse =  0.59017\n",
      "1/1 [==============================] - 0s 94ms/step\n",
      " 24 epochs, mse =  0.60398\n",
      "1/1 [==============================] - 0s 77ms/step\n",
      " 15 epochs, mse =  0.52705\n",
      "[0.01, 0.01, 0.01, 0, 0, 0, 0, 0.01, 0, 0.01, 0.01, 0.01, 0.5, 0.001, 0, 0, 0, 0, 0.001, 0.01, 0, 0, 0.001, 0.01, 0, 0.01, 0.01, 0.01, 0, 0.001, 0.5, 0.01, 0.01, 0.01, 0.01, 0.001, 0.01, 0, 0.5, 0.5, 0.01, 0.01, 0.001, 0.001, 0.01, 0.001, 0, 0.001, 0, 0.001, 0.01, 0.001, 0, 0.5, 0, 0, 0.01, 0, 0.01, 0.001, 0.001, 0, 0.001, 0.01, 0.001, 0.001, 0, 0.01, 0, 0.01, 0, 0.001, 0.5, 0, 0.001, 0, 0.01, 0, 0.5, 0, 0, 0.001, 0.01, 0.001, 0.01, 0, 0.001, 0.5, 0, 0, 0, 0, 0.1, 0.01, 0, 0.001, 0.001, 0, 0.1, 0, 0, 0.5, 0, 0.01, 0, 0.01, 0, 0.001, 0, 0, 0, 0, 0.001, 0, 0.01, 0, 0.5, 0.1, 0.001, 0]\n",
      "1521/1521 [==============================] - 3s 2ms/step\n",
      "776/776 [==============================] - 1s 2ms/step\n",
      "120\n"
     ]
    },
    {
     "data": {
      "application/vnd.jupyter.widget-view+json": {
       "model_id": "391464e012ac434b980dcab619189653",
       "version_major": 2,
       "version_minor": 0
      },
      "text/plain": [
       "  0%|          | 0/1500 [00:00<?, ?it/s]"
      ]
     },
     "metadata": {},
     "output_type": "display_data"
    },
    {
     "name": "stdout",
     "output_type": "stream",
     "text": [
      "1/1 [==============================] - 0s 72ms/step\n",
      " 37 epochs, mse =  0.07924\n",
      "1/1 [==============================] - 0s 72ms/step\n",
      " 16 epochs, mse =  0.07919\n",
      "1/1 [==============================] - 0s 85ms/step\n",
      " 18 epochs, mse =  0.07909\n",
      "1/1 [==============================] - 0s 95ms/step\n",
      " 23 epochs, mse =  0.07915\n",
      "1/1 [==============================] - 0s 77ms/step\n",
      " 18 epochs, mse =  0.08011\n",
      "[0.01, 0.01, 0.01, 0, 0, 0, 0, 0.01, 0, 0.01, 0.01, 0.01, 0.5, 0.001, 0, 0, 0, 0, 0.001, 0.01, 0, 0, 0.001, 0.01, 0, 0.01, 0.01, 0.01, 0, 0.001, 0.5, 0.01, 0.01, 0.01, 0.01, 0.001, 0.01, 0, 0.5, 0.5, 0.01, 0.01, 0.001, 0.001, 0.01, 0.001, 0, 0.001, 0, 0.001, 0.01, 0.001, 0, 0.5, 0, 0, 0.01, 0, 0.01, 0.001, 0.001, 0, 0.001, 0.01, 0.001, 0.001, 0, 0.01, 0, 0.01, 0, 0.001, 0.5, 0, 0.001, 0, 0.01, 0, 0.5, 0, 0, 0.001, 0.01, 0.001, 0.01, 0, 0.001, 0.5, 0, 0, 0, 0, 0.1, 0.01, 0, 0.001, 0.001, 0, 0.1, 0, 0, 0.5, 0, 0.01, 0, 0.01, 0, 0.001, 0, 0, 0, 0, 0.001, 0, 0.01, 0, 0.5, 0.1, 0.001, 0, 0.01]\n",
      "1521/1521 [==============================] - 3s 2ms/step\n",
      "776/776 [==============================] - 1s 2ms/step\n",
      "121\n"
     ]
    },
    {
     "data": {
      "application/vnd.jupyter.widget-view+json": {
       "model_id": "448fdf062e9f433c82256dc4de50f7fd",
       "version_major": 2,
       "version_minor": 0
      },
      "text/plain": [
       "  0%|          | 0/1500 [00:00<?, ?it/s]"
      ]
     },
     "metadata": {},
     "output_type": "display_data"
    },
    {
     "name": "stdout",
     "output_type": "stream",
     "text": [
      "1/1 [==============================] - 0s 72ms/step\n",
      " 13 epochs, mse =  1.49007\n",
      "1/1 [==============================] - 0s 75ms/step\n",
      " 13 epochs, mse =  1.42117\n",
      "1/1 [==============================] - 0s 103ms/step\n",
      " 12 epochs, mse =  1.42484\n",
      "1/1 [==============================] - 0s 114ms/step\n",
      " 30 epochs, mse =  1.35752\n",
      "1/1 [==============================] - 0s 91ms/step\n",
      " 19 epochs, mse =  1.15758\n",
      "[0.01, 0.01, 0.01, 0, 0, 0, 0, 0.01, 0, 0.01, 0.01, 0.01, 0.5, 0.001, 0, 0, 0, 0, 0.001, 0.01, 0, 0, 0.001, 0.01, 0, 0.01, 0.01, 0.01, 0, 0.001, 0.5, 0.01, 0.01, 0.01, 0.01, 0.001, 0.01, 0, 0.5, 0.5, 0.01, 0.01, 0.001, 0.001, 0.01, 0.001, 0, 0.001, 0, 0.001, 0.01, 0.001, 0, 0.5, 0, 0, 0.01, 0, 0.01, 0.001, 0.001, 0, 0.001, 0.01, 0.001, 0.001, 0, 0.01, 0, 0.01, 0, 0.001, 0.5, 0, 0.001, 0, 0.01, 0, 0.5, 0, 0, 0.001, 0.01, 0.001, 0.01, 0, 0.001, 0.5, 0, 0, 0, 0, 0.1, 0.01, 0, 0.001, 0.001, 0, 0.1, 0, 0, 0.5, 0, 0.01, 0, 0.01, 0, 0.001, 0, 0, 0, 0, 0.001, 0, 0.01, 0, 0.5, 0.1, 0.001, 0, 0.01, 0]\n",
      "1521/1521 [==============================] - 3s 2ms/step\n",
      "776/776 [==============================] - 1s 2ms/step\n",
      "122\n"
     ]
    },
    {
     "data": {
      "application/vnd.jupyter.widget-view+json": {
       "model_id": "7370fdb952204e7da9a69b49a8c3e78c",
       "version_major": 2,
       "version_minor": 0
      },
      "text/plain": [
       "  0%|          | 0/1500 [00:00<?, ?it/s]"
      ]
     },
     "metadata": {},
     "output_type": "display_data"
    },
    {
     "name": "stdout",
     "output_type": "stream",
     "text": [
      "1/1 [==============================] - 0s 86ms/step\n",
      " 26 epochs, mse =  0.09548\n",
      "1/1 [==============================] - 0s 86ms/step\n",
      " 16 epochs, mse =  0.09627\n",
      "1/1 [==============================] - 0s 102ms/step\n",
      " 12 epochs, mse =  0.09567\n",
      "1/1 [==============================] - 0s 106ms/step\n",
      " 15 epochs, mse =  0.09740\n",
      "1/1 [==============================] - 0s 85ms/step\n",
      " 20 epochs, mse =  0.10006\n",
      "[0.01, 0.01, 0.01, 0, 0, 0, 0, 0.01, 0, 0.01, 0.01, 0.01, 0.5, 0.001, 0, 0, 0, 0, 0.001, 0.01, 0, 0, 0.001, 0.01, 0, 0.01, 0.01, 0.01, 0, 0.001, 0.5, 0.01, 0.01, 0.01, 0.01, 0.001, 0.01, 0, 0.5, 0.5, 0.01, 0.01, 0.001, 0.001, 0.01, 0.001, 0, 0.001, 0, 0.001, 0.01, 0.001, 0, 0.5, 0, 0, 0.01, 0, 0.01, 0.001, 0.001, 0, 0.001, 0.01, 0.001, 0.001, 0, 0.01, 0, 0.01, 0, 0.001, 0.5, 0, 0.001, 0, 0.01, 0, 0.5, 0, 0, 0.001, 0.01, 0.001, 0.01, 0, 0.001, 0.5, 0, 0, 0, 0, 0.1, 0.01, 0, 0.001, 0.001, 0, 0.1, 0, 0, 0.5, 0, 0.01, 0, 0.01, 0, 0.001, 0, 0, 0, 0, 0.001, 0, 0.01, 0, 0.5, 0.1, 0.001, 0, 0.01, 0, 0.5]\n",
      "1521/1521 [==============================] - 3s 2ms/step\n",
      "776/776 [==============================] - 1s 2ms/step\n",
      "123\n"
     ]
    },
    {
     "data": {
      "application/vnd.jupyter.widget-view+json": {
       "model_id": "f296ef6aba4b4a8b9c488a87a296e804",
       "version_major": 2,
       "version_minor": 0
      },
      "text/plain": [
       "  0%|          | 0/1500 [00:00<?, ?it/s]"
      ]
     },
     "metadata": {},
     "output_type": "display_data"
    },
    {
     "name": "stdout",
     "output_type": "stream",
     "text": [
      "1/1 [==============================] - 0s 81ms/step\n",
      " 21 epochs, mse =  0.11724\n",
      "1/1 [==============================] - 0s 81ms/step\n",
      " 14 epochs, mse =  0.11727\n",
      "1/1 [==============================] - 0s 93ms/step\n",
      " 14 epochs, mse =  0.11744\n",
      "1/1 [==============================] - 0s 104ms/step\n",
      " 14 epochs, mse =  0.11795\n",
      "1/1 [==============================] - 0s 83ms/step\n",
      " 17 epochs, mse =  0.11849\n",
      "[0.01, 0.01, 0.01, 0, 0, 0, 0, 0.01, 0, 0.01, 0.01, 0.01, 0.5, 0.001, 0, 0, 0, 0, 0.001, 0.01, 0, 0, 0.001, 0.01, 0, 0.01, 0.01, 0.01, 0, 0.001, 0.5, 0.01, 0.01, 0.01, 0.01, 0.001, 0.01, 0, 0.5, 0.5, 0.01, 0.01, 0.001, 0.001, 0.01, 0.001, 0, 0.001, 0, 0.001, 0.01, 0.001, 0, 0.5, 0, 0, 0.01, 0, 0.01, 0.001, 0.001, 0, 0.001, 0.01, 0.001, 0.001, 0, 0.01, 0, 0.01, 0, 0.001, 0.5, 0, 0.001, 0, 0.01, 0, 0.5, 0, 0, 0.001, 0.01, 0.001, 0.01, 0, 0.001, 0.5, 0, 0, 0, 0, 0.1, 0.01, 0, 0.001, 0.001, 0, 0.1, 0, 0, 0.5, 0, 0.01, 0, 0.01, 0, 0.001, 0, 0, 0, 0, 0.001, 0, 0.01, 0, 0.5, 0.1, 0.001, 0, 0.01, 0, 0.5, 0.5]\n",
      "1521/1521 [==============================] - 3s 2ms/step\n",
      "776/776 [==============================] - 1s 2ms/step\n",
      "124\n"
     ]
    },
    {
     "data": {
      "application/vnd.jupyter.widget-view+json": {
       "model_id": "3458a0ff1a114b3db39ce928399db09c",
       "version_major": 2,
       "version_minor": 0
      },
      "text/plain": [
       "  0%|          | 0/1500 [00:00<?, ?it/s]"
      ]
     },
     "metadata": {},
     "output_type": "display_data"
    },
    {
     "name": "stdout",
     "output_type": "stream",
     "text": [
      "1/1 [==============================] - 0s 76ms/step\n",
      " 37 epochs, mse =  0.09089\n",
      "1/1 [==============================] - 0s 78ms/step\n",
      " 14 epochs, mse =  0.08874\n",
      "1/1 [==============================] - 0s 90ms/step\n",
      " 17 epochs, mse =  0.08742\n",
      "1/1 [==============================] - 0s 98ms/step\n",
      " 26 epochs, mse =  0.08959\n",
      "1/1 [==============================] - 0s 79ms/step\n",
      " 22 epochs, mse =  0.09053\n",
      "[0.01, 0.01, 0.01, 0, 0, 0, 0, 0.01, 0, 0.01, 0.01, 0.01, 0.5, 0.001, 0, 0, 0, 0, 0.001, 0.01, 0, 0, 0.001, 0.01, 0, 0.01, 0.01, 0.01, 0, 0.001, 0.5, 0.01, 0.01, 0.01, 0.01, 0.001, 0.01, 0, 0.5, 0.5, 0.01, 0.01, 0.001, 0.001, 0.01, 0.001, 0, 0.001, 0, 0.001, 0.01, 0.001, 0, 0.5, 0, 0, 0.01, 0, 0.01, 0.001, 0.001, 0, 0.001, 0.01, 0.001, 0.001, 0, 0.01, 0, 0.01, 0, 0.001, 0.5, 0, 0.001, 0, 0.01, 0, 0.5, 0, 0, 0.001, 0.01, 0.001, 0.01, 0, 0.001, 0.5, 0, 0, 0, 0, 0.1, 0.01, 0, 0.001, 0.001, 0, 0.1, 0, 0, 0.5, 0, 0.01, 0, 0.01, 0, 0.001, 0, 0, 0, 0, 0.001, 0, 0.01, 0, 0.5, 0.1, 0.001, 0, 0.01, 0, 0.5, 0.5, 0.01]\n",
      "1521/1521 [==============================] - 3s 2ms/step\n",
      "776/776 [==============================] - 1s 2ms/step\n",
      "125\n"
     ]
    },
    {
     "data": {
      "application/vnd.jupyter.widget-view+json": {
       "model_id": "e60c25d6c8f9470ea04f411526017215",
       "version_major": 2,
       "version_minor": 0
      },
      "text/plain": [
       "  0%|          | 0/1500 [00:00<?, ?it/s]"
      ]
     },
     "metadata": {},
     "output_type": "display_data"
    },
    {
     "name": "stdout",
     "output_type": "stream",
     "text": [
      "1/1 [==============================] - 0s 73ms/step\n",
      " 40 epochs, mse =  0.08405\n",
      "1/1 [==============================] - 0s 78ms/step\n",
      " 18 epochs, mse =  0.08363\n",
      "1/1 [==============================] - 0s 89ms/step\n",
      " 18 epochs, mse =  0.08217\n",
      "1/1 [==============================] - 0s 97ms/step\n",
      " 14 epochs, mse =  0.08258\n",
      "1/1 [==============================] - 0s 78ms/step\n",
      " 17 epochs, mse =  0.08309\n",
      "[0.01, 0.01, 0.01, 0, 0, 0, 0, 0.01, 0, 0.01, 0.01, 0.01, 0.5, 0.001, 0, 0, 0, 0, 0.001, 0.01, 0, 0, 0.001, 0.01, 0, 0.01, 0.01, 0.01, 0, 0.001, 0.5, 0.01, 0.01, 0.01, 0.01, 0.001, 0.01, 0, 0.5, 0.5, 0.01, 0.01, 0.001, 0.001, 0.01, 0.001, 0, 0.001, 0, 0.001, 0.01, 0.001, 0, 0.5, 0, 0, 0.01, 0, 0.01, 0.001, 0.001, 0, 0.001, 0.01, 0.001, 0.001, 0, 0.01, 0, 0.01, 0, 0.001, 0.5, 0, 0.001, 0, 0.01, 0, 0.5, 0, 0, 0.001, 0.01, 0.001, 0.01, 0, 0.001, 0.5, 0, 0, 0, 0, 0.1, 0.01, 0, 0.001, 0.001, 0, 0.1, 0, 0, 0.5, 0, 0.01, 0, 0.01, 0, 0.001, 0, 0, 0, 0, 0.001, 0, 0.01, 0, 0.5, 0.1, 0.001, 0, 0.01, 0, 0.5, 0.5, 0.01, 0.01]\n",
      "1521/1521 [==============================] - 3s 2ms/step\n",
      "776/776 [==============================] - 1s 2ms/step\n",
      "126\n"
     ]
    },
    {
     "data": {
      "application/vnd.jupyter.widget-view+json": {
       "model_id": "75c1f544858d4235a1e2c7b7122d064e",
       "version_major": 2,
       "version_minor": 0
      },
      "text/plain": [
       "  0%|          | 0/1500 [00:00<?, ?it/s]"
      ]
     },
     "metadata": {},
     "output_type": "display_data"
    },
    {
     "name": "stdout",
     "output_type": "stream",
     "text": [
      "1/1 [==============================] - 0s 74ms/step\n",
      " 30 epochs, mse =  0.07610\n",
      "1/1 [==============================] - 0s 75ms/step\n",
      " 13 epochs, mse =  0.07652\n",
      "1/1 [==============================] - 0s 88ms/step\n",
      " 12 epochs, mse =  0.07617\n",
      "1/1 [==============================] - 0s 94ms/step\n",
      " 15 epochs, mse =  0.07612\n",
      "1/1 [==============================] - 0s 76ms/step\n",
      " 34 epochs, mse =  0.07693\n",
      "[0.01, 0.01, 0.01, 0, 0, 0, 0, 0.01, 0, 0.01, 0.01, 0.01, 0.5, 0.001, 0, 0, 0, 0, 0.001, 0.01, 0, 0, 0.001, 0.01, 0, 0.01, 0.01, 0.01, 0, 0.001, 0.5, 0.01, 0.01, 0.01, 0.01, 0.001, 0.01, 0, 0.5, 0.5, 0.01, 0.01, 0.001, 0.001, 0.01, 0.001, 0, 0.001, 0, 0.001, 0.01, 0.001, 0, 0.5, 0, 0, 0.01, 0, 0.01, 0.001, 0.001, 0, 0.001, 0.01, 0.001, 0.001, 0, 0.01, 0, 0.01, 0, 0.001, 0.5, 0, 0.001, 0, 0.01, 0, 0.5, 0, 0, 0.001, 0.01, 0.001, 0.01, 0, 0.001, 0.5, 0, 0, 0, 0, 0.1, 0.01, 0, 0.001, 0.001, 0, 0.1, 0, 0, 0.5, 0, 0.01, 0, 0.01, 0, 0.001, 0, 0, 0, 0, 0.001, 0, 0.01, 0, 0.5, 0.1, 0.001, 0, 0.01, 0, 0.5, 0.5, 0.01, 0.01, 0.5]\n",
      "1521/1521 [==============================] - 3s 2ms/step\n",
      "776/776 [==============================] - 1s 2ms/step\n",
      "127\n"
     ]
    },
    {
     "data": {
      "application/vnd.jupyter.widget-view+json": {
       "model_id": "92f56d0aa28a475f96b1c130d078638a",
       "version_major": 2,
       "version_minor": 0
      },
      "text/plain": [
       "  0%|          | 0/1500 [00:00<?, ?it/s]"
      ]
     },
     "metadata": {},
     "output_type": "display_data"
    },
    {
     "name": "stdout",
     "output_type": "stream",
     "text": [
      "1/1 [==============================] - 0s 70ms/step\n",
      " 16 epochs, mse =  0.11294\n",
      "1/1 [==============================] - 0s 73ms/step\n",
      " 17 epochs, mse =  0.10731\n",
      "1/1 [==============================] - 0s 86ms/step\n",
      " 15 epochs, mse =  0.10377\n",
      "1/1 [==============================] - 0s 96ms/step\n",
      " 17 epochs, mse =  0.10545\n",
      "1/1 [==============================] - 0s 77ms/step\n",
      " 17 epochs, mse =  0.09733\n",
      "[0.01, 0.01, 0.01, 0, 0, 0, 0, 0.01, 0, 0.01, 0.01, 0.01, 0.5, 0.001, 0, 0, 0, 0, 0.001, 0.01, 0, 0, 0.001, 0.01, 0, 0.01, 0.01, 0.01, 0, 0.001, 0.5, 0.01, 0.01, 0.01, 0.01, 0.001, 0.01, 0, 0.5, 0.5, 0.01, 0.01, 0.001, 0.001, 0.01, 0.001, 0, 0.001, 0, 0.001, 0.01, 0.001, 0, 0.5, 0, 0, 0.01, 0, 0.01, 0.001, 0.001, 0, 0.001, 0.01, 0.001, 0.001, 0, 0.01, 0, 0.01, 0, 0.001, 0.5, 0, 0.001, 0, 0.01, 0, 0.5, 0, 0, 0.001, 0.01, 0.001, 0.01, 0, 0.001, 0.5, 0, 0, 0, 0, 0.1, 0.01, 0, 0.001, 0.001, 0, 0.1, 0, 0, 0.5, 0, 0.01, 0, 0.01, 0, 0.001, 0, 0, 0, 0, 0.001, 0, 0.01, 0, 0.5, 0.1, 0.001, 0, 0.01, 0, 0.5, 0.5, 0.01, 0.01, 0.5, 0]\n",
      "1521/1521 [==============================] - 3s 2ms/step\n",
      "776/776 [==============================] - 1s 2ms/step\n",
      "128\n"
     ]
    },
    {
     "data": {
      "application/vnd.jupyter.widget-view+json": {
       "model_id": "153ea97d8781442293fd47ed858a1367",
       "version_major": 2,
       "version_minor": 0
      },
      "text/plain": [
       "  0%|          | 0/1500 [00:00<?, ?it/s]"
      ]
     },
     "metadata": {},
     "output_type": "display_data"
    },
    {
     "name": "stdout",
     "output_type": "stream",
     "text": [
      "1/1 [==============================] - 0s 72ms/step\n",
      " 35 epochs, mse =  0.07078\n",
      "1/1 [==============================] - 0s 73ms/step\n",
      " 17 epochs, mse =  0.07110\n",
      "1/1 [==============================] - 0s 84ms/step\n",
      " 19 epochs, mse =  0.07049\n",
      "1/1 [==============================] - 0s 111ms/step\n",
      " 22 epochs, mse =  0.07070\n",
      "1/1 [==============================] - 0s 93ms/step\n",
      " 22 epochs, mse =  0.07455\n",
      "[0.01, 0.01, 0.01, 0, 0, 0, 0, 0.01, 0, 0.01, 0.01, 0.01, 0.5, 0.001, 0, 0, 0, 0, 0.001, 0.01, 0, 0, 0.001, 0.01, 0, 0.01, 0.01, 0.01, 0, 0.001, 0.5, 0.01, 0.01, 0.01, 0.01, 0.001, 0.01, 0, 0.5, 0.5, 0.01, 0.01, 0.001, 0.001, 0.01, 0.001, 0, 0.001, 0, 0.001, 0.01, 0.001, 0, 0.5, 0, 0, 0.01, 0, 0.01, 0.001, 0.001, 0, 0.001, 0.01, 0.001, 0.001, 0, 0.01, 0, 0.01, 0, 0.001, 0.5, 0, 0.001, 0, 0.01, 0, 0.5, 0, 0, 0.001, 0.01, 0.001, 0.01, 0, 0.001, 0.5, 0, 0, 0, 0, 0.1, 0.01, 0, 0.001, 0.001, 0, 0.1, 0, 0, 0.5, 0, 0.01, 0, 0.01, 0, 0.001, 0, 0, 0, 0, 0.001, 0, 0.01, 0, 0.5, 0.1, 0.001, 0, 0.01, 0, 0.5, 0.5, 0.01, 0.01, 0.5, 0, 0.01]\n",
      "1521/1521 [==============================] - 3s 2ms/step\n",
      "776/776 [==============================] - 1s 2ms/step\n",
      "129\n"
     ]
    },
    {
     "data": {
      "application/vnd.jupyter.widget-view+json": {
       "model_id": "ab73e6edb94e4461abe7f2a714631497",
       "version_major": 2,
       "version_minor": 0
      },
      "text/plain": [
       "  0%|          | 0/1500 [00:00<?, ?it/s]"
      ]
     },
     "metadata": {},
     "output_type": "display_data"
    },
    {
     "name": "stdout",
     "output_type": "stream",
     "text": [
      "1/1 [==============================] - 0s 86ms/step\n",
      " 20 epochs, mse =  0.08134\n",
      "1/1 [==============================] - 0s 90ms/step\n",
      " 16 epochs, mse =  0.08124\n",
      "1/1 [==============================] - 0s 100ms/step\n",
      " 18 epochs, mse =  0.08059\n",
      "1/1 [==============================] - 0s 139ms/step\n",
      " 13 epochs, mse =  0.08128\n",
      "1/1 [==============================] - 0s 89ms/step\n",
      " 22 epochs, mse =  0.08180\n",
      "[0.01, 0.01, 0.01, 0, 0, 0, 0, 0.01, 0, 0.01, 0.01, 0.01, 0.5, 0.001, 0, 0, 0, 0, 0.001, 0.01, 0, 0, 0.001, 0.01, 0, 0.01, 0.01, 0.01, 0, 0.001, 0.5, 0.01, 0.01, 0.01, 0.01, 0.001, 0.01, 0, 0.5, 0.5, 0.01, 0.01, 0.001, 0.001, 0.01, 0.001, 0, 0.001, 0, 0.001, 0.01, 0.001, 0, 0.5, 0, 0, 0.01, 0, 0.01, 0.001, 0.001, 0, 0.001, 0.01, 0.001, 0.001, 0, 0.01, 0, 0.01, 0, 0.001, 0.5, 0, 0.001, 0, 0.01, 0, 0.5, 0, 0, 0.001, 0.01, 0.001, 0.01, 0, 0.001, 0.5, 0, 0, 0, 0, 0.1, 0.01, 0, 0.001, 0.001, 0, 0.1, 0, 0, 0.5, 0, 0.01, 0, 0.01, 0, 0.001, 0, 0, 0, 0, 0.001, 0, 0.01, 0, 0.5, 0.1, 0.001, 0, 0.01, 0, 0.5, 0.5, 0.01, 0.01, 0.5, 0, 0.01, 0.01]\n",
      "1521/1521 [==============================] - 3s 2ms/step\n",
      "776/776 [==============================] - 1s 2ms/step\n",
      "130\n"
     ]
    },
    {
     "data": {
      "application/vnd.jupyter.widget-view+json": {
       "model_id": "0ad009e1e7254a29a0eddd5a24ee22e5",
       "version_major": 2,
       "version_minor": 0
      },
      "text/plain": [
       "  0%|          | 0/1500 [00:00<?, ?it/s]"
      ]
     },
     "metadata": {},
     "output_type": "display_data"
    },
    {
     "name": "stdout",
     "output_type": "stream",
     "text": [
      "1/1 [==============================] - 0s 82ms/step\n",
      " 23 epochs, mse =  0.07128\n",
      "1/1 [==============================] - 0s 84ms/step\n",
      " 14 epochs, mse =  0.07123\n",
      "1/1 [==============================] - 0s 93ms/step\n",
      " 12 epochs, mse =  0.07125\n",
      "1/1 [==============================] - 0s 102ms/step\n",
      " 14 epochs, mse =  0.07117\n",
      "1/1 [==============================] - 0s 97ms/step\n",
      " 59 epochs, mse =  0.07079\n",
      "[0.01, 0.01, 0.01, 0, 0, 0, 0, 0.01, 0, 0.01, 0.01, 0.01, 0.5, 0.001, 0, 0, 0, 0, 0.001, 0.01, 0, 0, 0.001, 0.01, 0, 0.01, 0.01, 0.01, 0, 0.001, 0.5, 0.01, 0.01, 0.01, 0.01, 0.001, 0.01, 0, 0.5, 0.5, 0.01, 0.01, 0.001, 0.001, 0.01, 0.001, 0, 0.001, 0, 0.001, 0.01, 0.001, 0, 0.5, 0, 0, 0.01, 0, 0.01, 0.001, 0.001, 0, 0.001, 0.01, 0.001, 0.001, 0, 0.01, 0, 0.01, 0, 0.001, 0.5, 0, 0.001, 0, 0.01, 0, 0.5, 0, 0, 0.001, 0.01, 0.001, 0.01, 0, 0.001, 0.5, 0, 0, 0, 0, 0.1, 0.01, 0, 0.001, 0.001, 0, 0.1, 0, 0, 0.5, 0, 0.01, 0, 0.01, 0, 0.001, 0, 0, 0, 0, 0.001, 0, 0.01, 0, 0.5, 0.1, 0.001, 0, 0.01, 0, 0.5, 0.5, 0.01, 0.01, 0.5, 0, 0.01, 0.01, 0]\n",
      "1521/1521 [==============================] - 3s 2ms/step\n",
      "776/776 [==============================] - 1s 2ms/step\n",
      "131\n"
     ]
    },
    {
     "data": {
      "application/vnd.jupyter.widget-view+json": {
       "model_id": "ab3f87c357404bc2a26ef9028d65b810",
       "version_major": 2,
       "version_minor": 0
      },
      "text/plain": [
       "  0%|          | 0/1500 [00:00<?, ?it/s]"
      ]
     },
     "metadata": {},
     "output_type": "display_data"
    },
    {
     "name": "stdout",
     "output_type": "stream",
     "text": [
      "1/1 [==============================] - 0s 78ms/step\n",
      " 22 epochs, mse =  0.61850\n",
      "1/1 [==============================] - 0s 78ms/step\n",
      " 16 epochs, mse =  0.61199\n",
      "1/1 [==============================] - 0s 90ms/step\n",
      " 16 epochs, mse =  0.61983\n",
      "1/1 [==============================] - 0s 97ms/step\n",
      " 22 epochs, mse =  0.82999\n",
      "1/1 [==============================] - 0s 80ms/step\n",
      " 26 epochs, mse =  0.59054\n",
      "[0.01, 0.01, 0.01, 0, 0, 0, 0, 0.01, 0, 0.01, 0.01, 0.01, 0.5, 0.001, 0, 0, 0, 0, 0.001, 0.01, 0, 0, 0.001, 0.01, 0, 0.01, 0.01, 0.01, 0, 0.001, 0.5, 0.01, 0.01, 0.01, 0.01, 0.001, 0.01, 0, 0.5, 0.5, 0.01, 0.01, 0.001, 0.001, 0.01, 0.001, 0, 0.001, 0, 0.001, 0.01, 0.001, 0, 0.5, 0, 0, 0.01, 0, 0.01, 0.001, 0.001, 0, 0.001, 0.01, 0.001, 0.001, 0, 0.01, 0, 0.01, 0, 0.001, 0.5, 0, 0.001, 0, 0.01, 0, 0.5, 0, 0, 0.001, 0.01, 0.001, 0.01, 0, 0.001, 0.5, 0, 0, 0, 0, 0.1, 0.01, 0, 0.001, 0.001, 0, 0.1, 0, 0, 0.5, 0, 0.01, 0, 0.01, 0, 0.001, 0, 0, 0, 0, 0.001, 0, 0.01, 0, 0.5, 0.1, 0.001, 0, 0.01, 0, 0.5, 0.5, 0.01, 0.01, 0.5, 0, 0.01, 0.01, 0, 0]\n",
      "1521/1521 [==============================] - 3s 2ms/step\n",
      "776/776 [==============================] - 1s 2ms/step\n",
      "132\n"
     ]
    },
    {
     "data": {
      "application/vnd.jupyter.widget-view+json": {
       "model_id": "11d8cc24622e4a55a5f5d795d13075c1",
       "version_major": 2,
       "version_minor": 0
      },
      "text/plain": [
       "  0%|          | 0/1500 [00:00<?, ?it/s]"
      ]
     },
     "metadata": {},
     "output_type": "display_data"
    },
    {
     "name": "stdout",
     "output_type": "stream",
     "text": [
      "1/1 [==============================] - 0s 72ms/step\n",
      " 25 epochs, mse =  0.10613\n",
      "1/1 [==============================] - 0s 77ms/step\n",
      " 17 epochs, mse =  0.10553\n",
      "1/1 [==============================] - 0s 90ms/step\n",
      " 15 epochs, mse =  0.09978\n",
      "1/1 [==============================] - 0s 99ms/step\n",
      " 12 epochs, mse =  0.09814\n",
      "1/1 [==============================] - 0s 77ms/step\n",
      " 40 epochs, mse =  0.09927\n",
      "[0.01, 0.01, 0.01, 0, 0, 0, 0, 0.01, 0, 0.01, 0.01, 0.01, 0.5, 0.001, 0, 0, 0, 0, 0.001, 0.01, 0, 0, 0.001, 0.01, 0, 0.01, 0.01, 0.01, 0, 0.001, 0.5, 0.01, 0.01, 0.01, 0.01, 0.001, 0.01, 0, 0.5, 0.5, 0.01, 0.01, 0.001, 0.001, 0.01, 0.001, 0, 0.001, 0, 0.001, 0.01, 0.001, 0, 0.5, 0, 0, 0.01, 0, 0.01, 0.001, 0.001, 0, 0.001, 0.01, 0.001, 0.001, 0, 0.01, 0, 0.01, 0, 0.001, 0.5, 0, 0.001, 0, 0.01, 0, 0.5, 0, 0, 0.001, 0.01, 0.001, 0.01, 0, 0.001, 0.5, 0, 0, 0, 0, 0.1, 0.01, 0, 0.001, 0.001, 0, 0.1, 0, 0, 0.5, 0, 0.01, 0, 0.01, 0, 0.001, 0, 0, 0, 0, 0.001, 0, 0.01, 0, 0.5, 0.1, 0.001, 0, 0.01, 0, 0.5, 0.5, 0.01, 0.01, 0.5, 0, 0.01, 0.01, 0, 0, 0.001]\n",
      "1521/1521 [==============================] - 3s 2ms/step\n",
      "776/776 [==============================] - 1s 2ms/step\n",
      "133\n"
     ]
    },
    {
     "data": {
      "application/vnd.jupyter.widget-view+json": {
       "model_id": "78e39995852a42c2aef16f5e30e9fc32",
       "version_major": 2,
       "version_minor": 0
      },
      "text/plain": [
       "  0%|          | 0/1500 [00:00<?, ?it/s]"
      ]
     },
     "metadata": {},
     "output_type": "display_data"
    },
    {
     "name": "stdout",
     "output_type": "stream",
     "text": [
      "1/1 [==============================] - 0s 74ms/step\n",
      " 20 epochs, mse =  0.05728\n",
      "1/1 [==============================] - 0s 75ms/step\n",
      " 20 epochs, mse =  0.05720\n",
      "1/1 [==============================] - 0s 87ms/step\n",
      " 18 epochs, mse =  0.05720\n",
      "1/1 [==============================] - 0s 95ms/step\n",
      " 31 epochs, mse =  0.05754\n",
      "1/1 [==============================] - 0s 78ms/step\n",
      " 23 epochs, mse =  0.05888\n",
      "[0.01, 0.01, 0.01, 0, 0, 0, 0, 0.01, 0, 0.01, 0.01, 0.01, 0.5, 0.001, 0, 0, 0, 0, 0.001, 0.01, 0, 0, 0.001, 0.01, 0, 0.01, 0.01, 0.01, 0, 0.001, 0.5, 0.01, 0.01, 0.01, 0.01, 0.001, 0.01, 0, 0.5, 0.5, 0.01, 0.01, 0.001, 0.001, 0.01, 0.001, 0, 0.001, 0, 0.001, 0.01, 0.001, 0, 0.5, 0, 0, 0.01, 0, 0.01, 0.001, 0.001, 0, 0.001, 0.01, 0.001, 0.001, 0, 0.01, 0, 0.01, 0, 0.001, 0.5, 0, 0.001, 0, 0.01, 0, 0.5, 0, 0, 0.001, 0.01, 0.001, 0.01, 0, 0.001, 0.5, 0, 0, 0, 0, 0.1, 0.01, 0, 0.001, 0.001, 0, 0.1, 0, 0, 0.5, 0, 0.01, 0, 0.01, 0, 0.001, 0, 0, 0, 0, 0.001, 0, 0.01, 0, 0.5, 0.1, 0.001, 0, 0.01, 0, 0.5, 0.5, 0.01, 0.01, 0.5, 0, 0.01, 0.01, 0, 0, 0.001, 0.1]\n",
      "1521/1521 [==============================] - 3s 2ms/step\n",
      "776/776 [==============================] - 1s 2ms/step\n",
      "134\n"
     ]
    },
    {
     "data": {
      "application/vnd.jupyter.widget-view+json": {
       "model_id": "e478291503034e5d987529486b9f643d",
       "version_major": 2,
       "version_minor": 0
      },
      "text/plain": [
       "  0%|          | 0/1500 [00:00<?, ?it/s]"
      ]
     },
     "metadata": {},
     "output_type": "display_data"
    },
    {
     "name": "stdout",
     "output_type": "stream",
     "text": [
      "1/1 [==============================] - 0s 73ms/step\n",
      " 31 epochs, mse =  0.15748\n",
      "1/1 [==============================] - 0s 73ms/step\n",
      " 16 epochs, mse =  0.15521\n",
      "1/1 [==============================] - 0s 88ms/step\n",
      " 23 epochs, mse =  0.15305\n",
      "1/1 [==============================] - 0s 93ms/step\n",
      " 14 epochs, mse =  0.15546\n",
      "1/1 [==============================] - 0s 76ms/step\n",
      " 19 epochs, mse =  0.15051\n",
      "[0.01, 0.01, 0.01, 0, 0, 0, 0, 0.01, 0, 0.01, 0.01, 0.01, 0.5, 0.001, 0, 0, 0, 0, 0.001, 0.01, 0, 0, 0.001, 0.01, 0, 0.01, 0.01, 0.01, 0, 0.001, 0.5, 0.01, 0.01, 0.01, 0.01, 0.001, 0.01, 0, 0.5, 0.5, 0.01, 0.01, 0.001, 0.001, 0.01, 0.001, 0, 0.001, 0, 0.001, 0.01, 0.001, 0, 0.5, 0, 0, 0.01, 0, 0.01, 0.001, 0.001, 0, 0.001, 0.01, 0.001, 0.001, 0, 0.01, 0, 0.01, 0, 0.001, 0.5, 0, 0.001, 0, 0.01, 0, 0.5, 0, 0, 0.001, 0.01, 0.001, 0.01, 0, 0.001, 0.5, 0, 0, 0, 0, 0.1, 0.01, 0, 0.001, 0.001, 0, 0.1, 0, 0, 0.5, 0, 0.01, 0, 0.01, 0, 0.001, 0, 0, 0, 0, 0.001, 0, 0.01, 0, 0.5, 0.1, 0.001, 0, 0.01, 0, 0.5, 0.5, 0.01, 0.01, 0.5, 0, 0.01, 0.01, 0, 0, 0.001, 0.1, 0]\n",
      "1521/1521 [==============================] - 3s 2ms/step\n",
      "776/776 [==============================] - 1s 2ms/step\n",
      "135\n"
     ]
    },
    {
     "data": {
      "application/vnd.jupyter.widget-view+json": {
       "model_id": "2566b6c6f7cd4f1b8fd5327734d8fdae",
       "version_major": 2,
       "version_minor": 0
      },
      "text/plain": [
       "  0%|          | 0/1500 [00:00<?, ?it/s]"
      ]
     },
     "metadata": {},
     "output_type": "display_data"
    },
    {
     "name": "stdout",
     "output_type": "stream",
     "text": [
      "1/1 [==============================] - 0s 72ms/step\n",
      " 46 epochs, mse =  0.07660\n",
      "1/1 [==============================] - 0s 72ms/step\n",
      " 14 epochs, mse =  0.07687\n",
      "1/1 [==============================] - 0s 84ms/step\n",
      " 16 epochs, mse =  0.07601\n",
      "1/1 [==============================] - 0s 93ms/step\n",
      " 17 epochs, mse =  0.07572\n",
      "1/1 [==============================] - 0s 77ms/step\n",
      " 30 epochs, mse =  0.07679\n",
      "[0.01, 0.01, 0.01, 0, 0, 0, 0, 0.01, 0, 0.01, 0.01, 0.01, 0.5, 0.001, 0, 0, 0, 0, 0.001, 0.01, 0, 0, 0.001, 0.01, 0, 0.01, 0.01, 0.01, 0, 0.001, 0.5, 0.01, 0.01, 0.01, 0.01, 0.001, 0.01, 0, 0.5, 0.5, 0.01, 0.01, 0.001, 0.001, 0.01, 0.001, 0, 0.001, 0, 0.001, 0.01, 0.001, 0, 0.5, 0, 0, 0.01, 0, 0.01, 0.001, 0.001, 0, 0.001, 0.01, 0.001, 0.001, 0, 0.01, 0, 0.01, 0, 0.001, 0.5, 0, 0.001, 0, 0.01, 0, 0.5, 0, 0, 0.001, 0.01, 0.001, 0.01, 0, 0.001, 0.5, 0, 0, 0, 0, 0.1, 0.01, 0, 0.001, 0.001, 0, 0.1, 0, 0, 0.5, 0, 0.01, 0, 0.01, 0, 0.001, 0, 0, 0, 0, 0.001, 0, 0.01, 0, 0.5, 0.1, 0.001, 0, 0.01, 0, 0.5, 0.5, 0.01, 0.01, 0.5, 0, 0.01, 0.01, 0, 0, 0.001, 0.1, 0, 0.001]\n",
      "1521/1521 [==============================] - 5s 2ms/step\n",
      "776/776 [==============================] - 2s 2ms/step\n",
      "136\n"
     ]
    },
    {
     "data": {
      "application/vnd.jupyter.widget-view+json": {
       "model_id": "1387ee5d147a4ef59f1f8b44c8240dac",
       "version_major": 2,
       "version_minor": 0
      },
      "text/plain": [
       "  0%|          | 0/1500 [00:00<?, ?it/s]"
      ]
     },
     "metadata": {},
     "output_type": "display_data"
    },
    {
     "name": "stdout",
     "output_type": "stream",
     "text": [
      "1/1 [==============================] - 0s 90ms/step\n",
      " 18 epochs, mse =  0.42976\n",
      "1/1 [==============================] - 0s 93ms/step\n",
      " 18 epochs, mse =  0.39561\n",
      "1/1 [==============================] - 0s 101ms/step\n",
      " 21 epochs, mse =  0.39598\n",
      "1/1 [==============================] - 0s 109ms/step\n",
      " 21 epochs, mse =  0.39393\n",
      "1/1 [==============================] - 0s 89ms/step\n",
      " 29 epochs, mse =  0.35113\n",
      "[0.01, 0.01, 0.01, 0, 0, 0, 0, 0.01, 0, 0.01, 0.01, 0.01, 0.5, 0.001, 0, 0, 0, 0, 0.001, 0.01, 0, 0, 0.001, 0.01, 0, 0.01, 0.01, 0.01, 0, 0.001, 0.5, 0.01, 0.01, 0.01, 0.01, 0.001, 0.01, 0, 0.5, 0.5, 0.01, 0.01, 0.001, 0.001, 0.01, 0.001, 0, 0.001, 0, 0.001, 0.01, 0.001, 0, 0.5, 0, 0, 0.01, 0, 0.01, 0.001, 0.001, 0, 0.001, 0.01, 0.001, 0.001, 0, 0.01, 0, 0.01, 0, 0.001, 0.5, 0, 0.001, 0, 0.01, 0, 0.5, 0, 0, 0.001, 0.01, 0.001, 0.01, 0, 0.001, 0.5, 0, 0, 0, 0, 0.1, 0.01, 0, 0.001, 0.001, 0, 0.1, 0, 0, 0.5, 0, 0.01, 0, 0.01, 0, 0.001, 0, 0, 0, 0, 0.001, 0, 0.01, 0, 0.5, 0.1, 0.001, 0, 0.01, 0, 0.5, 0.5, 0.01, 0.01, 0.5, 0, 0.01, 0.01, 0, 0, 0.001, 0.1, 0, 0.001, 0]\n",
      "1521/1521 [==============================] - 3s 2ms/step\n",
      "776/776 [==============================] - 2s 2ms/step\n",
      "137\n"
     ]
    },
    {
     "data": {
      "application/vnd.jupyter.widget-view+json": {
       "model_id": "5d696f9aa96b48faa3cbc7df2dbcde5c",
       "version_major": 2,
       "version_minor": 0
      },
      "text/plain": [
       "  0%|          | 0/1500 [00:00<?, ?it/s]"
      ]
     },
     "metadata": {},
     "output_type": "display_data"
    },
    {
     "name": "stdout",
     "output_type": "stream",
     "text": [
      "1/1 [==============================] - 0s 86ms/step\n",
      " 22 epochs, mse =  0.10336\n",
      "1/1 [==============================] - 0s 87ms/step\n",
      " 16 epochs, mse =  0.09538\n",
      "1/1 [==============================] - 0s 97ms/step\n",
      " 20 epochs, mse =  0.09535\n",
      "1/1 [==============================] - 0s 104ms/step\n",
      " 15 epochs, mse =  0.09385\n",
      "1/1 [==============================] - 0s 89ms/step\n",
      " 29 epochs, mse =  0.09478\n",
      "[0.01, 0.01, 0.01, 0, 0, 0, 0, 0.01, 0, 0.01, 0.01, 0.01, 0.5, 0.001, 0, 0, 0, 0, 0.001, 0.01, 0, 0, 0.001, 0.01, 0, 0.01, 0.01, 0.01, 0, 0.001, 0.5, 0.01, 0.01, 0.01, 0.01, 0.001, 0.01, 0, 0.5, 0.5, 0.01, 0.01, 0.001, 0.001, 0.01, 0.001, 0, 0.001, 0, 0.001, 0.01, 0.001, 0, 0.5, 0, 0, 0.01, 0, 0.01, 0.001, 0.001, 0, 0.001, 0.01, 0.001, 0.001, 0, 0.01, 0, 0.01, 0, 0.001, 0.5, 0, 0.001, 0, 0.01, 0, 0.5, 0, 0, 0.001, 0.01, 0.001, 0.01, 0, 0.001, 0.5, 0, 0, 0, 0, 0.1, 0.01, 0, 0.001, 0.001, 0, 0.1, 0, 0, 0.5, 0, 0.01, 0, 0.01, 0, 0.001, 0, 0, 0, 0, 0.001, 0, 0.01, 0, 0.5, 0.1, 0.001, 0, 0.01, 0, 0.5, 0.5, 0.01, 0.01, 0.5, 0, 0.01, 0.01, 0, 0, 0.001, 0.1, 0, 0.001, 0, 0.001]\n",
      "1521/1521 [==============================] - 3s 2ms/step\n",
      "776/776 [==============================] - 1s 2ms/step\n",
      "138\n"
     ]
    },
    {
     "data": {
      "application/vnd.jupyter.widget-view+json": {
       "model_id": "c24255f9399c4a43819dfd6dc4a65504",
       "version_major": 2,
       "version_minor": 0
      },
      "text/plain": [
       "  0%|          | 0/1500 [00:00<?, ?it/s]"
      ]
     },
     "metadata": {},
     "output_type": "display_data"
    },
    {
     "name": "stdout",
     "output_type": "stream",
     "text": [
      "1/1 [==============================] - 0s 79ms/step\n",
      " 33 epochs, mse =  0.25440\n",
      "1/1 [==============================] - 0s 83ms/step\n",
      " 26 epochs, mse =  0.25802\n",
      "1/1 [==============================] - 0s 94ms/step\n",
      " 16 epochs, mse =  0.25350\n",
      "1/1 [==============================] - 0s 101ms/step\n",
      " 22 epochs, mse =  0.26660\n",
      "1/1 [==============================] - 0s 81ms/step\n",
      " 32 epochs, mse =  0.23359\n",
      "[0.01, 0.01, 0.01, 0, 0, 0, 0, 0.01, 0, 0.01, 0.01, 0.01, 0.5, 0.001, 0, 0, 0, 0, 0.001, 0.01, 0, 0, 0.001, 0.01, 0, 0.01, 0.01, 0.01, 0, 0.001, 0.5, 0.01, 0.01, 0.01, 0.01, 0.001, 0.01, 0, 0.5, 0.5, 0.01, 0.01, 0.001, 0.001, 0.01, 0.001, 0, 0.001, 0, 0.001, 0.01, 0.001, 0, 0.5, 0, 0, 0.01, 0, 0.01, 0.001, 0.001, 0, 0.001, 0.01, 0.001, 0.001, 0, 0.01, 0, 0.01, 0, 0.001, 0.5, 0, 0.001, 0, 0.01, 0, 0.5, 0, 0, 0.001, 0.01, 0.001, 0.01, 0, 0.001, 0.5, 0, 0, 0, 0, 0.1, 0.01, 0, 0.001, 0.001, 0, 0.1, 0, 0, 0.5, 0, 0.01, 0, 0.01, 0, 0.001, 0, 0, 0, 0, 0.001, 0, 0.01, 0, 0.5, 0.1, 0.001, 0, 0.01, 0, 0.5, 0.5, 0.01, 0.01, 0.5, 0, 0.01, 0.01, 0, 0, 0.001, 0.1, 0, 0.001, 0, 0.001, 0]\n",
      "1521/1521 [==============================] - 3s 2ms/step\n",
      "776/776 [==============================] - 1s 2ms/step\n",
      "139\n"
     ]
    },
    {
     "data": {
      "application/vnd.jupyter.widget-view+json": {
       "model_id": "4898c8fd00ca42738148023bfcc8f305",
       "version_major": 2,
       "version_minor": 0
      },
      "text/plain": [
       "  0%|          | 0/1500 [00:00<?, ?it/s]"
      ]
     },
     "metadata": {},
     "output_type": "display_data"
    },
    {
     "name": "stdout",
     "output_type": "stream",
     "text": [
      "1/1 [==============================] - 0s 74ms/step\n",
      " 14 epochs, mse =  0.34412\n",
      "1/1 [==============================] - 0s 77ms/step\n",
      " 13 epochs, mse =  0.34522\n",
      "1/1 [==============================] - 0s 87ms/step\n",
      " 13 epochs, mse =  0.34028\n",
      "1/1 [==============================] - 0s 100ms/step\n",
      " 12 epochs, mse =  0.34762\n",
      "1/1 [==============================] - 0s 80ms/step\n",
      " 15 epochs, mse =  0.32802\n",
      "[0.01, 0.01, 0.01, 0, 0, 0, 0, 0.01, 0, 0.01, 0.01, 0.01, 0.5, 0.001, 0, 0, 0, 0, 0.001, 0.01, 0, 0, 0.001, 0.01, 0, 0.01, 0.01, 0.01, 0, 0.001, 0.5, 0.01, 0.01, 0.01, 0.01, 0.001, 0.01, 0, 0.5, 0.5, 0.01, 0.01, 0.001, 0.001, 0.01, 0.001, 0, 0.001, 0, 0.001, 0.01, 0.001, 0, 0.5, 0, 0, 0.01, 0, 0.01, 0.001, 0.001, 0, 0.001, 0.01, 0.001, 0.001, 0, 0.01, 0, 0.01, 0, 0.001, 0.5, 0, 0.001, 0, 0.01, 0, 0.5, 0, 0, 0.001, 0.01, 0.001, 0.01, 0, 0.001, 0.5, 0, 0, 0, 0, 0.1, 0.01, 0, 0.001, 0.001, 0, 0.1, 0, 0, 0.5, 0, 0.01, 0, 0.01, 0, 0.001, 0, 0, 0, 0, 0.001, 0, 0.01, 0, 0.5, 0.1, 0.001, 0, 0.01, 0, 0.5, 0.5, 0.01, 0.01, 0.5, 0, 0.01, 0.01, 0, 0, 0.001, 0.1, 0, 0.001, 0, 0.001, 0, 0]\n",
      "1521/1521 [==============================] - 3s 2ms/step\n",
      "776/776 [==============================] - 1s 2ms/step\n",
      "Correlation =  0.88676\n"
     ]
    }
   ],
   "source": [
    "def my_model(n_inputs,n_outputs,loss):\n",
    "    \"\"\"Sequential neural network\n",
    "    \n",
    "    Returns a compiled instance of tensorflow.keras.models.Model.\n",
    "    \"\"\"\n",
    "    activation = 'swish'\n",
    "\n",
    "    \n",
    "    inputs = Input(shape=(n_inputs, ))\n",
    "    x0 = Dense(16,\n",
    "              activation=activation,\n",
    "             )(inputs)\n",
    "    x1 = Dense(16,\n",
    "              activation=activation,\n",
    "             )(x0)\n",
    "    x2 = Dense(16,\n",
    "              activation=activation,\n",
    "             )(x1)\n",
    "    x3 = Dense(16,\n",
    "              activation=activation,\n",
    "             )(x2)\n",
    "    x = Concatenate()([x0, x1, x2, x3])\n",
    "    x = Dense(n_outputs,\n",
    "              #activation=activation,\n",
    "             )(x)\n",
    "    regressor = Model(inputs, x)\n",
    "    regressor.compile(optimizer=tf.keras.optimizers.Adam(learning_rate=LR_START),\n",
    "                      metrics=[loss],\n",
    "                      loss=loss\n",
    "                     )\n",
    "    \n",
    "    return regressor\n",
    "\n",
    "# best_hp = keras_tuner.HyperParameters()\n",
    "# best_hp.values = {'reg1': 1e-06,\n",
    "#                   'reg2': 1.3528e-07,\n",
    "#                   'units1': 256,\n",
    "#                   'units2': 320,\n",
    "#                   'units3': 256,\n",
    "#                   'units4': 320,\n",
    "#                   'do1': 0.1,\n",
    "#                   'do2': 0.2,\n",
    "#                   'do3': 0.2,\n",
    "#                   'do4': 0.1,\n",
    "#                   'do5': 0.1,\n",
    "#                   'lr': 0.01,\n",
    "#                  }\n",
    "\n",
    "# def my_model(hp,n_inputs,n_outputs, loss):\n",
    "#     \"\"\"Sequential neural network\n",
    "    \n",
    "#     Returns a compiled instance of tensorflow.keras.models.Model.\n",
    "#     \"\"\"\n",
    "#     activation = hp.Choice('act',['swish','selu'])\n",
    "#     reg1 = hp.Float(\"reg1\", min_value=1e-10, max_value=1e-6, sampling=\"log\")\n",
    "#     reg2 = hp.Float(\"reg2\", min_value=1e-10, max_value=1e-6, sampling=\"log\")\n",
    "    \n",
    "#     inputs = Input(shape=(n_inputs, ))\n",
    "#     x0 = Dense(hp.Choice('units1', [0.1]), kernel_regularizer=tf.keras.regularizers.l2(reg1),\n",
    "#               activation=activation,\n",
    "#              )(inputs)\n",
    "#     do1 = Dropout(hp.Choice('do1', [0.1]))(x0)\n",
    "#     x1 = Dense(hp.Choice('units2', [0.1]), kernel_regularizer=tf.keras.regularizers.l2(reg1),\n",
    "#               activation=activation,\n",
    "#              )(do1)\n",
    "#     do2 = Dropout(hp.Choice('do2', [0.2]))(x1)\n",
    "#     x2 = Dense(hp.Choice('units3', [0.1]), kernel_regularizer=tf.keras.regularizers.l2(reg1),\n",
    "#               activation=activation,\n",
    "#              )(do2)\n",
    "#     do3 = Dropout(hp.Choice('do3', [0.2]))(x2)\n",
    "#     x3 = Dense(hp.Choice('units4', [0.1]), kernel_regularizer=tf.keras.regularizers.l2(reg1),\n",
    "#               activation=activation,\n",
    "#              )(do3)\n",
    "#     do4 = Dropout(hp.Choice('do4', [0.1]))(x3)\n",
    "#     x = Concatenate()([x0, x1, x2, x3])\n",
    "#     do5 = Dropout(hp.Choice('do5', [0.1]))(x)\n",
    "#     x = Dense(n_outputs, kernel_regularizer=tf.keras.regularizers.l2(reg2),\n",
    "#               #activation=activation,\n",
    "#              )(do5)\n",
    "#     regressor = Model(inputs, x)\n",
    "#     regressor.compile(optimizer=tf.keras.optimizers.Adam(learning_rate=hp.Choice('lr', [0.1])),\n",
    "#                       metrics=[loss],\n",
    "#                       loss=loss\n",
    "#                      )\n",
    "    \n",
    "#     return regressor\n",
    "\n",
    "def eval_model(X_tr,y_tr,X_va,y_va,loss=tf.keras.losses.MeanSquaredError()):\n",
    "        \n",
    "    lr = ReduceLROnPlateau(monitor=\"val_loss\", factor=0.5, \n",
    "                          patience=4, verbose=VERBOSE)\n",
    "    es = EarlyStopping(monitor=\"val_loss\",\n",
    "                      patience=12, \n",
    "                      verbose=0,\n",
    "                      mode=\"min\", \n",
    "                      restore_best_weights=True)\n",
    "    callbacks = [lr, es, tf.keras.callbacks.TerminateOnNaN()]\n",
    "\n",
    "    # Construct and compile the model\n",
    "    model = my_model(n_inputs=X_tr.shape[1],n_outputs=1,loss = loss)\n",
    "\n",
    "    # Train the model\n",
    "    history = model.fit(X_tr, y_tr, \n",
    "                        validation_data=(X_va, y_va), \n",
    "                        epochs=EPOCHS,\n",
    "                        verbose=VERBOSE,\n",
    "                        batch_size=BATCH_SIZE,\n",
    "                        shuffle=True,\n",
    "                        callbacks=callbacks)\n",
    "    \n",
    "    # We validate the model\n",
    "    y_pred = model.predict(X_va, batch_size=X_va.shape[0])\n",
    "    mse = tf.keras.losses.MeanSquaredError()(y_va, y_pred)\n",
    "    #corrscore = correlation_score(y_va, y_pred)\n",
    "\n",
    "    print(f\"{es.stopped_epoch:3} epochs, mse =  {mse:.5f}\")\n",
    "\n",
    "    return mse, model\n",
    "\n",
    "# Cross-validation\n",
    "VERBOSE = 0 # set to 2 for more output, set to 0 for less output\n",
    "EPOCHS = 60\n",
    "N_SPLITS = 3\n",
    "LR_START = 0.01\n",
    "BATCH_SIZE = 256\n",
    "\n",
    "def fit(X_train, y_train, X_test, meta):\n",
    "    np.random.seed(1)\n",
    "    tf.random.set_seed(1)\n",
    "\n",
    "    kf = GroupKFold(n_splits=N_SPLITS)\n",
    "    score_list = []\n",
    "    for fold, (idx_tr, idx_va) in enumerate(kf.split(X_train, groups=meta.donor)):\n",
    "        start_time = datetime.datetime.now()\n",
    "        model = None\n",
    "        gc.collect()\n",
    "        X_tr = X_train[idx_tr]\n",
    "        y_tr = y_train[idx_tr]\n",
    "        X_va = X_train[idx_va]\n",
    "        y_va = y_train[idx_va]\n",
    "        \n",
    "        best_var = []\n",
    "        indices_list = []\n",
    "        i_start = 0\n",
    "        i_stop = 140\n",
    "        for i in np.arange(i_start,i_stop,1):\n",
    "            print(i)\n",
    "            data_loader_0 = np.hstack([y_tr[:,i],X_tr])\n",
    "            data_frame = pd.DataFrame(data_loader_0)\n",
    "            del data_loader_0\n",
    "            \n",
    "            from millipede import NormalLikelihoodVariableSelector\n",
    "            selector = NormalLikelihoodVariableSelector(data_frame.loc[:10000],  # pass in the data\n",
    "                                                        0, # indicate the column of responses\n",
    "                                                        S=1000,        # specify the expected number of covariates to include a priori\n",
    "                                                       device='gpu',\n",
    "                                                       subset_size=1000)\n",
    "            selector.run(T=1000, T_burnin=500, verbosity='bar', report_frequency=1, streaming=True, seed=None)\n",
    "            selector.summary.to_csv('./temp/selector_' + str(i),index=False)\n",
    "            indices = list(selector.summary.loc[selector.summary.PIP > 0.5].index)    \n",
    "            option_a, model_a = eval_model(X_tr[:,indices],y_tr[:,i],X_va[:,indices],y_va[:,i])\n",
    "            indices = list(selector.summary.loc[selector.summary.PIP > 0.1].index)    \n",
    "            option_b, model_b = eval_model(X_tr[:,indices],y_tr[:,i],X_va[:,indices],y_va[:,i])\n",
    "            indices = list(selector.summary.loc[selector.summary.PIP > 0.01].index)    \n",
    "            option_c, model_c = eval_model(X_tr[:,indices],y_tr[:,i],X_va[:,indices],y_va[:,i])\n",
    "            indices = list(selector.summary.loc[selector.summary.PIP > 0.001].index)    \n",
    "            option_d, model_d = eval_model(X_tr[:,indices],y_tr[:,i],X_va[:,indices],y_va[:,i])\n",
    "            option_e, model_e = eval_model(X_tr[:,-256:],y_tr[:,i],X_va[:,-256:],y_va[:,i])\n",
    "            options = [option_a,option_b,option_c,option_d,option_e]\n",
    "            if np.argmin(options) == 0:\n",
    "                best_var.append(0.5)\n",
    "                model = model_a\n",
    "            elif np.argmin(options) == 1:\n",
    "                best_var.append(0.1)\n",
    "                model = model_b\n",
    "            elif np.argmin(options) == 2:\n",
    "                best_var.append(0.01)\n",
    "                model = model_c\n",
    "            elif np.argmin(options) == 3:\n",
    "                best_var.append(0.001)\n",
    "                model = model_d\n",
    "            elif np.argmin(options) == 4:\n",
    "                best_var.append(0)\n",
    "                model = model_e    \n",
    "            else:\n",
    "                raise\n",
    "            print(best_var)\n",
    "            if best_var[-1] != 0:\n",
    "                indices = list(selector.summary.loc[selector.summary.PIP > best_var[-1]].index)    \n",
    "                indices_list.append(indices)\n",
    "                if 'y_pred' in locals():\n",
    "                    y_pred = np.hstack([y_pred,model.predict(X_test[:,indices])])\n",
    "                    y_va_pred = np.hstack([y_va_pred,model.predict(X_va[:,indices])])\n",
    "                else:\n",
    "                    y_pred = model.predict(X_test[:,indices])\n",
    "                    y_va_pred = model.predict(X_va[:,indices])\n",
    "            else:\n",
    "                indices_list.append([])\n",
    "                if 'y_pred' in locals():\n",
    "                    y_pred = np.hstack([y_pred,model.predict(X_test[:,-256:])])\n",
    "                    y_va_pred = np.hstack([y_va_pred,model.predict(X_va[:,-256:])])\n",
    "                else:\n",
    "                    y_pred = model.predict(X_test[:,-256:])\n",
    "                    y_va_pred = model.predict(X_va[:,-256:])\n",
    "\n",
    "            if i % 10 == 9:\n",
    "                np.savetxt('./temp/y_pred_save_'+str(i)+'.csv',y_pred,delimiter=',')\n",
    "                np.savetxt('./temp/indices_save_'+str(i)+'.csv',best_var,delimiter=',')\n",
    "                np.save('./temp/best_var_save_'+str(i)+'.npy', indices_list)\n",
    "\n",
    "        corrscore = correlation_score(y_va[:,i_start:i_stop], y_va_pred)\n",
    "        print(f\"Correlation =  {corrscore:.5f}\")\n",
    "        return indices_list, best_var, y_pred\n",
    "    # Show overall score\n",
    "#    print(f\"{Fore.GREEN}{Style.BRIGHT}Average  mse = {np.array(score_list).mean():.5f}{Style.RESET_ALL}\")\n",
    "\n",
    "gc.collect()\n",
    "indices_list, best_var, y_pred = fit(X_train_mod, y_train, X_test_mod, meta)\n",
    "\n",
    "np.savetxt('./temp/y_pred_save_'+str(140)+'.csv',y_pred,delimiter=',')\n",
    "np.savetxt('./temp/indices_save_'+str(140)+'.csv',best_var,delimiter=',')\n",
    "np.save('./temp/best_var_save_'+str(140)+'.npy', indices_list)"
   ]
  },
  {
   "cell_type": "code",
   "execution_count": 40,
   "id": "a63edb71-632d-42c2-aeea-08e3d433133a",
   "metadata": {
    "execution": {
     "iopub.execute_input": "2022-10-20T05:20:07.909690Z",
     "iopub.status.busy": "2022-10-20T05:20:07.909293Z",
     "iopub.status.idle": "2022-10-20T05:20:08.007603Z",
     "shell.execute_reply": "2022-10-20T05:20:08.006954Z",
     "shell.execute_reply.started": "2022-10-20T05:20:07.909666Z"
    },
    "tags": []
   },
   "outputs": [
    {
     "data": {
      "text/plain": [
       "(array([56.,  0.,  0.,  0., 13.,  4.,  0.,  2., 36., 29.]),\n",
       " array([-1000. ,  -791.7,  -583.4,  -375.1,  -166.8,    41.5,   249.8,\n",
       "          458.1,   666.4,   874.7,  1083. ]),\n",
       " <BarContainer object of 10 artists>)"
      ]
     },
     "execution_count": 40,
     "metadata": {},
     "output_type": "execute_result"
    },
    {
     "data": {
      "image/png": "[encoded data removed]",
      "text/plain": [
       "<Figure size 432x288 with 1 Axes>"
      ]
     },
     "metadata": {
      "needs_background": "light"
     },
     "output_type": "display_data"
    }
   ],
   "source": [
    "plt.hist([-1000 if item == 0 else item for item in [len(x) for x in indices_list]])\n",
    "#plt.xscale('log')"
   ]
  },
  {
   "cell_type": "code",
   "execution_count": 27,
   "id": "32e84df9-aca4-412d-b764-8bbb725e792a",
   "metadata": {
    "execution": {
     "iopub.execute_input": "2022-10-20T05:14:50.288830Z",
     "iopub.status.busy": "2022-10-20T05:14:50.288421Z",
     "iopub.status.idle": "2022-10-20T05:14:50.292126Z",
     "shell.execute_reply": "2022-10-20T05:14:50.291576Z",
     "shell.execute_reply.started": "2022-10-20T05:14:50.288807Z"
    },
    "tags": []
   },
   "outputs": [],
   "source": [
    "abc = [len(x) for x in indices_list]"
   ]
  },
  {
   "cell_type": "code",
   "execution_count": 28,
   "id": "264d72f2-dc0b-42b4-8888-2c35b943caf1",
   "metadata": {
    "execution": {
     "iopub.execute_input": "2022-10-20T05:15:00.216382Z",
     "iopub.status.busy": "2022-10-20T05:15:00.215986Z",
     "iopub.status.idle": "2022-10-20T05:15:00.234423Z",
     "shell.execute_reply": "2022-10-20T05:15:00.233696Z",
     "shell.execute_reply.started": "2022-10-20T05:15:00.216358Z"
    },
    "tags": []
   },
   "outputs": [
    {
     "ename": "AttributeError",
     "evalue": "'int' object has no attribute 'replace'",
     "output_type": "error",
     "traceback": [
      "\u001b[0;31m---------------------------------------------------------------------------\u001b[0m",
      "\u001b[0;31mAttributeError\u001b[0m                            Traceback (most recent call last)",
      "Input \u001b[0;32mIn [28]\u001b[0m, in \u001b[0;36m<cell line: 1>\u001b[0;34m()\u001b[0m\n\u001b[0;32m----> 1\u001b[0m \u001b[38;5;28;43mlist\u001b[39;49m\u001b[43m(\u001b[49m\u001b[38;5;28;43mmap\u001b[39;49m\u001b[43m(\u001b[49m\u001b[38;5;28;43;01mlambda\u001b[39;49;00m\u001b[43m \u001b[49m\u001b[43mx\u001b[49m\u001b[43m:\u001b[49m\u001b[43m \u001b[49m\u001b[43mx\u001b[49m\u001b[38;5;241;43m.\u001b[39;49m\u001b[43mreplace\u001b[49m\u001b[43m(\u001b[49m\u001b[38;5;241;43m0\u001b[39;49m\u001b[43m,\u001b[49m\u001b[43m \u001b[49m\u001b[38;5;241;43m256\u001b[39;49m\u001b[43m)\u001b[49m\u001b[43m,\u001b[49m\u001b[43m \u001b[49m\u001b[43mabc\u001b[49m\u001b[43m)\u001b[49m\u001b[43m)\u001b[49m\n",
      "Input \u001b[0;32mIn [28]\u001b[0m, in \u001b[0;36m<lambda>\u001b[0;34m(x)\u001b[0m\n\u001b[0;32m----> 1\u001b[0m \u001b[38;5;28mlist\u001b[39m(\u001b[38;5;28mmap\u001b[39m(\u001b[38;5;28;01mlambda\u001b[39;00m x: \u001b[43mx\u001b[49m\u001b[38;5;241;43m.\u001b[39;49m\u001b[43mreplace\u001b[49m(\u001b[38;5;241m0\u001b[39m, \u001b[38;5;241m256\u001b[39m), abc))\n",
      "\u001b[0;31mAttributeError\u001b[0m: 'int' object has no attribute 'replace'"
     ]
    }
   ],
   "source": [
    "list(map(lambda x: x.replace(0, 256), abc))"
   ]
  },
  {
   "cell_type": "code",
   "execution_count": 20,
   "id": "8db117e2-2da5-477a-bfe8-6d99eecb6ec2",
   "metadata": {
    "execution": {
     "iopub.execute_input": "2022-10-20T05:10:04.488140Z",
     "iopub.status.busy": "2022-10-20T05:10:04.487750Z",
     "iopub.status.idle": "2022-10-20T05:10:04.496016Z",
     "shell.execute_reply": "2022-10-20T05:10:04.495493Z",
     "shell.execute_reply.started": "2022-10-20T05:10:04.488116Z"
    },
    "tags": []
   },
   "outputs": [
    {
     "data": {
      "text/plain": [
       "0.000    56\n",
       "0.010    38\n",
       "0.001    29\n",
       "0.500    13\n",
       "0.100     4\n",
       "dtype: int64"
      ]
     },
     "execution_count": 20,
     "metadata": {},
     "output_type": "execute_result"
    }
   ],
   "source": [
    "pd.Series(best_var).value_counts()"
   ]
  },
  {
   "cell_type": "markdown",
   "id": "b9ee24ca-73e0-40a5-a6c2-dd7b04ac7b44",
   "metadata": {},
   "source": [
    "To beat (for 8,9): Correlation =  0.28751\n",
    "Using drop-out NN: Correlation =  0.28178\n",
    "Using 20000 points for millipede: Correlation = 0.284.."
   ]
  },
  {
   "cell_type": "code",
   "execution_count": 56,
   "id": "6d7be342-5f22-4e91-bee9-bbc45e551e15",
   "metadata": {
    "execution": {
     "iopub.execute_input": "2022-10-19T21:13:27.498680Z",
     "iopub.status.busy": "2022-10-19T21:13:27.498280Z",
     "iopub.status.idle": "2022-10-19T21:13:27.503430Z",
     "shell.execute_reply": "2022-10-19T21:13:27.502894Z",
     "shell.execute_reply.started": "2022-10-19T21:13:27.498656Z"
    },
    "tags": []
   },
   "outputs": [
    {
     "data": {
      "text/plain": [
       "matrix([[-0.6766891 , -0.49027386],\n",
       "        [-0.41674453, -0.6901382 ],\n",
       "        [-0.33195946, -0.7168782 ],\n",
       "        ...,\n",
       "        [-0.01302799, -0.5808464 ],\n",
       "        [-0.1509006 , -0.56269693],\n",
       "        [-0.48259225, -0.6310826 ]], dtype=float32)"
      ]
     },
     "execution_count": 56,
     "metadata": {},
     "output_type": "execute_result"
    }
   ],
   "source": [
    "y_train[:,8:10]"
   ]
  },
  {
   "cell_type": "code",
   "execution_count": 2,
   "id": "b0adbc0d-748c-4298-96fc-3c5cf543ff69",
   "metadata": {
    "execution": {
     "iopub.execute_input": "2022-10-20T20:41:59.560469Z",
     "iopub.status.busy": "2022-10-20T20:41:59.560018Z",
     "iopub.status.idle": "2022-10-20T20:43:30.562319Z",
     "shell.execute_reply": "2022-10-20T20:43:30.561610Z",
     "shell.execute_reply.started": "2022-10-20T20:41:59.560440Z"
    },
    "tags": []
   },
   "outputs": [
    {
     "name": "stdout",
     "output_type": "stream",
     "text": [
      "Collecting git+https://github.com/BasisResearch/millipede.git\n",
      "  Cloning https://github.com/BasisResearch/millipede.git to /tmp/pip-req-build-eqc5uo66\n",
      "  Running command git clone --filter=blob:none --quiet https://github.com/BasisResearch/millipede.git /tmp/pip-req-build-eqc5uo66\n",
      "  Resolved https://github.com/BasisResearch/millipede.git to commit ecafe4194e216846600ff4f87dc02f65ce4428e2\n",
      "  Preparing metadata (setup.py) ... \u001b[?25ldone\n",
      "\u001b[?25hRequirement already satisfied: torch>=1.11 in /opt/saturncloud/envs/saturn/lib/python3.9/site-packages (from millipede==0.1.0) (1.11.0)\n",
      "Requirement already satisfied: pandas in /home/jovyan/.local/lib/python3.9/site-packages (from millipede==0.1.0) (1.3.5)\n",
      "Collecting polyagamma==1.3.2\n",
      "  Using cached polyagamma-1.3.2-cp39-cp39-manylinux_2_12_x86_64.manylinux_2_5_x86_64.manylinux1_x86_64.manylinux2010_x86_64.whl (523 kB)\n",
      "Requirement already satisfied: tqdm in /opt/saturncloud/envs/saturn/lib/python3.9/site-packages (from millipede==0.1.0) (4.64.0)\n",
      "Requirement already satisfied: numpy<2.0.0,>=1.19.0 in /opt/saturncloud/envs/saturn/lib/python3.9/site-packages (from polyagamma==1.3.2->millipede==0.1.0) (1.21.6)\n",
      "Requirement already satisfied: typing_extensions in /opt/saturncloud/envs/saturn/lib/python3.9/site-packages (from torch>=1.11->millipede==0.1.0) (4.3.0)\n",
      "Requirement already satisfied: pytz>=2017.3 in /opt/saturncloud/envs/saturn/lib/python3.9/site-packages (from pandas->millipede==0.1.0) (2022.1)\n",
      "Requirement already satisfied: python-dateutil>=2.7.3 in /opt/saturncloud/envs/saturn/lib/python3.9/site-packages (from pandas->millipede==0.1.0) (2.8.2)\n",
      "Requirement already satisfied: six>=1.5 in /opt/saturncloud/envs/saturn/lib/python3.9/site-packages (from python-dateutil>=2.7.3->pandas->millipede==0.1.0) (1.16.0)\n",
      "Building wheels for collected packages: millipede\n",
      "  Building wheel for millipede (setup.py) ... \u001b[?25ldone\n",
      "\u001b[?25h  Created wheel for millipede: filename=millipede-0.1.0-py3-none-any.whl size=33845 sha256=b291064f12ded2d659c6f24ce942f2bb411102173306fdb2a8baf28de520dbaf\n",
      "  Stored in directory: /tmp/pip-ephem-wheel-cache-c5i10hnv/wheels/0a/6b/57/40b20d03468593c7819cb14105caeb501b22dc304ff2f9193c\n",
      "Successfully built millipede\n",
      "Installing collected packages: polyagamma, millipede\n",
      "Successfully installed millipede-0.1.0 polyagamma-1.3.2\n"
     ]
    }
   ],
   "source": [
    "X_train = scipy.sparse.load_npz('./sparse/train_cite_inputs_values.sparse.npz')\n",
    "to_drop = np.genfromtxt(\"./sparse/drop_ids.csv\", delimiter=',', dtype = int)\n",
    "X_train = delete_columns_csr(X_train,to_drop)\n",
    "X_train = X_train.toarray()\n",
    "X_test = scipy.sparse.load_npz('./sparse/test_cite_inputs_values.sparse.npz')\n",
    "X_test = delete_columns_csr(X_test,to_drop)\n",
    "X_test = X_test.toarray()\n",
    "y_train = scipy.sparse.load_npz('./sparse/train_cite_targets_values.sparse.npz')\n",
    "# Normalize the targets row-wise: This doesn't change the correlations,\n",
    "# and negative_correlation_loss depends on it\n",
    "y_train -= y_train.mean(axis=1).reshape(-1, 1)\n",
    "y_train /= y_train.std(axis=1).reshape(-1, 1)\n",
    "!pip install git+https://github.com/BasisResearch/millipede.git\n",
    "from millipede import NormalLikelihoodVariableSelector\n",
    "X_train_pca = np.genfromtxt('./pca64/X_train_64.csv',delimiter = ',')\n",
    "X_train_mod = np.hstack([X_train,X_train_pca])   \n",
    "X_train_mod -= X_train_mod.mean(axis=1).reshape(-1, 1)\n",
    "X_train_mod /= X_train_mod.std(axis=1).reshape(-1, 1)\n",
    "X_test_pca = np.genfromtxt('./pca64/X_test_64.csv',delimiter = ',')\n",
    "X_test_mod = np.hstack([X_test,X_test_pca])   \n",
    "X_test_mod -= X_test_mod.mean(axis=1).reshape(-1, 1)\n",
    "X_test_mod /= X_test_mod.std(axis=1).reshape(-1, 1)\n",
    "with np.load('./sparse/train_cite_inputs_idxcol.npz',allow_pickle=True) as data:\n",
    "    cell_index = data['index']\n",
    "metadata_df = pd.read_csv('../input/open-problems-multimodal/metadata.csv', index_col='cell_id')\n",
    "metadata_df = metadata_df[metadata_df.technology==\"citeseq\"]\n",
    "meta = metadata_df.reindex(cell_index)"
   ]
  },
  {
   "cell_type": "code",
   "execution_count": 4,
   "id": "6530c4e8-abde-4fd1-a3b8-c711ac4c0931",
   "metadata": {
    "execution": {
     "iopub.execute_input": "2022-10-20T15:55:05.187263Z",
     "iopub.status.busy": "2022-10-20T15:55:05.186864Z",
     "iopub.status.idle": "2022-10-20T15:55:14.275671Z",
     "shell.execute_reply": "2022-10-20T15:55:14.274989Z",
     "shell.execute_reply.started": "2022-10-20T15:55:05.187236Z"
    }
   },
   "outputs": [],
   "source": [
    "y_pred = np.genfromtxt('./temp/y_pred_save_140.csv')\n",
    "# catboost = pd.read_csv('./catboost/submission.csv',index_col='row_id', squeeze=True)\n",
    "# catboost.iloc[:6812820] = test_cite_pred.ravel()\n",
    "cell_ids = pd.read_parquet('./sparse/evaluation.parquet').cell_id"
   ]
  },
  {
   "cell_type": "code",
   "execution_count": 5,
   "id": "40fbf699-7ad6-49eb-b8b6-3f44e2401669",
   "metadata": {
    "execution": {
     "iopub.execute_input": "2022-10-20T15:55:15.940036Z",
     "iopub.status.busy": "2022-10-20T15:55:15.939648Z",
     "iopub.status.idle": "2022-10-20T15:55:15.950099Z",
     "shell.execute_reply": "2022-10-20T15:55:15.949610Z",
     "shell.execute_reply.started": "2022-10-20T15:55:15.940013Z"
    }
   },
   "outputs": [
    {
     "data": {
      "text/plain": [
       "0           c2150f55becb\n",
       "1           c2150f55becb\n",
       "2           c2150f55becb\n",
       "3           c2150f55becb\n",
       "4           c2150f55becb\n",
       "                ...     \n",
       "65744175    2c53aa67933d\n",
       "65744176    2c53aa67933d\n",
       "65744177    2c53aa67933d\n",
       "65744178    2c53aa67933d\n",
       "65744179    2c53aa67933d\n",
       "Name: cell_id, Length: 65744180, dtype: object"
      ]
     },
     "execution_count": 5,
     "metadata": {},
     "output_type": "execute_result"
    }
   ],
   "source": [
    "cell_ids"
   ]
  },
  {
   "cell_type": "code",
   "execution_count": 11,
   "id": "842c80a8-f235-4899-97cb-2eae919065f8",
   "metadata": {
    "execution": {
     "iopub.execute_input": "2022-10-20T15:58:15.071032Z",
     "iopub.status.busy": "2022-10-20T15:58:15.070642Z",
     "iopub.status.idle": "2022-10-20T15:58:15.239324Z",
     "shell.execute_reply": "2022-10-20T15:58:15.238786Z",
     "shell.execute_reply.started": "2022-10-20T15:58:15.071006Z"
    },
    "tags": []
   },
   "outputs": [
    {
     "data": {
      "text/plain": [
       "0       NaN\n",
       "1       NaN\n",
       "2       NaN\n",
       "3       NaN\n",
       "4       NaN\n",
       "         ..\n",
       "48658   NaN\n",
       "48659   NaN\n",
       "48660   NaN\n",
       "48661   NaN\n",
       "48662   NaN\n",
       "Length: 48663, dtype: float64"
      ]
     },
     "execution_count": 11,
     "metadata": {},
     "output_type": "execute_result"
    }
   ],
   "source": [
    "y_pred = np.genfromtxt('./temp/y_pred_save_9.csv')\n",
    "pd.Series(y_pred)"
   ]
  },
  {
   "cell_type": "code",
   "execution_count": null,
   "id": "696cf34b-7b4a-4d4a-9b6d-dc941628abfb",
   "metadata": {},
   "outputs": [],
   "source": [
    "import os\n",
    "!pip install kaggle\n",
    "os.environ['KAGGLE_USERNAME'] = 'alexroberts'\n",
    "os.environ['KAGGLE_KEY'] = 'eef5d3edec2428c7d4f14efcdb3f13ca'\n",
    "\n",
    "!kaggle competitions submit -c open-problems-multimodal -f submit.zip -m 'multiome_ensemble_notebook_plus_own_cite_model'"
   ]
  },
  {
   "cell_type": "code",
   "execution_count": 29,
   "id": "5ed675e1-d09c-4797-85e2-b263bc4c6b74",
   "metadata": {
    "execution": {
     "iopub.execute_input": "2022-10-20T16:29:53.892225Z",
     "iopub.status.busy": "2022-10-20T16:29:53.891774Z",
     "iopub.status.idle": "2022-10-20T17:27:00.836980Z",
     "shell.execute_reply": "2022-10-20T17:27:00.836357Z",
     "shell.execute_reply.started": "2022-10-20T16:29:53.892201Z"
    },
    "tags": []
   },
   "outputs": [
    {
     "name": "stdout",
     "output_type": "stream",
     "text": [
      "0\n",
      "1/1 [==============================] - 0s 95ms/step\n",
      " 18 epochs, mse =  0.12985\n",
      "1521/1521 [==============================] - 3s 2ms/step\n",
      "776/776 [==============================] - 1s 2ms/step\n",
      "1\n",
      "1/1 [==============================] - 0s 89ms/step\n",
      " 15 epochs, mse =  0.06687\n",
      "1521/1521 [==============================] - 3s 2ms/step\n",
      "776/776 [==============================] - 1s 2ms/step\n",
      "2\n",
      "1/1 [==============================] - 0s 88ms/step\n",
      " 14 epochs, mse =  0.06805\n",
      "1521/1521 [==============================] - 3s 2ms/step\n",
      "776/776 [==============================] - 1s 2ms/step\n",
      "3\n",
      "1/1 [==============================] - 0s 77ms/step\n",
      " 13 epochs, mse =  0.27684\n",
      "1521/1521 [==============================] - 3s 2ms/step\n",
      "776/776 [==============================] - 1s 2ms/step\n",
      "4\n",
      "1/1 [==============================] - 0s 76ms/step\n",
      " 21 epochs, mse =  0.16228\n",
      "1521/1521 [==============================] - 3s 2ms/step\n",
      "776/776 [==============================] - 1s 2ms/step\n",
      "5\n",
      "1/1 [==============================] - 0s 79ms/step\n",
      " 21 epochs, mse =  0.53813\n",
      "1521/1521 [==============================] - 3s 2ms/step\n",
      "776/776 [==============================] - 1s 2ms/step\n",
      "6\n",
      "1/1 [==============================] - 0s 76ms/step\n",
      " 16 epochs, mse =  0.63024\n",
      "1521/1521 [==============================] - 3s 2ms/step\n",
      "776/776 [==============================] - 1s 2ms/step\n",
      "7\n",
      "1/1 [==============================] - 0s 87ms/step\n",
      " 41 epochs, mse =  0.10804\n",
      "1521/1521 [==============================] - 3s 2ms/step\n",
      "776/776 [==============================] - 1s 2ms/step\n",
      "8\n",
      "1/1 [==============================] - 0s 77ms/step\n",
      " 32 epochs, mse =  0.06121\n",
      "1521/1521 [==============================] - 3s 2ms/step\n",
      "776/776 [==============================] - 1s 2ms/step\n",
      "9\n",
      "1/1 [==============================] - 0s 112ms/step\n",
      " 25 epochs, mse =  0.11795\n",
      "1521/1521 [==============================] - 3s 2ms/step\n",
      "776/776 [==============================] - 1s 2ms/step\n",
      "10\n",
      "1/1 [==============================] - 0s 86ms/step\n",
      " 15 epochs, mse =  0.07453\n",
      "1521/1521 [==============================] - 3s 2ms/step\n",
      "776/776 [==============================] - 1s 2ms/step\n",
      "11\n",
      "1/1 [==============================] - 0s 119ms/step\n",
      " 13 epochs, mse =  0.12428\n",
      "1521/1521 [==============================] - 3s 2ms/step\n",
      "776/776 [==============================] - 1s 2ms/step\n",
      "12\n",
      "1/1 [==============================] - 0s 72ms/step\n",
      " 20 epochs, mse =  0.07368\n",
      "1521/1521 [==============================] - 3s 2ms/step\n",
      "776/776 [==============================] - 1s 2ms/step\n",
      "13\n",
      "1/1 [==============================] - 0s 99ms/step\n",
      " 17 epochs, mse =  0.11127\n",
      "1521/1521 [==============================] - 3s 2ms/step\n",
      "776/776 [==============================] - 1s 2ms/step\n",
      "14\n",
      "1/1 [==============================] - 0s 78ms/step\n",
      " 15 epochs, mse =  1.16248\n",
      "1521/1521 [==============================] - 3s 2ms/step\n",
      "776/776 [==============================] - 1s 2ms/step\n",
      "15\n",
      "1/1 [==============================] - 0s 79ms/step\n",
      " 17 epochs, mse =  0.31966\n",
      "1521/1521 [==============================] - 3s 2ms/step\n",
      "776/776 [==============================] - 1s 2ms/step\n",
      "16\n",
      "1/1 [==============================] - 0s 77ms/step\n",
      " 17 epochs, mse =  0.40332\n",
      "1521/1521 [==============================] - 3s 2ms/step\n",
      "776/776 [==============================] - 1s 2ms/step\n",
      "17\n",
      "1/1 [==============================] - 0s 79ms/step\n",
      " 15 epochs, mse =  0.22015\n",
      "1521/1521 [==============================] - 3s 2ms/step\n",
      "776/776 [==============================] - 1s 2ms/step\n",
      "18\n",
      "1/1 [==============================] - 0s 104ms/step\n",
      " 23 epochs, mse =  0.35143\n",
      "1521/1521 [==============================] - 3s 2ms/step\n",
      "776/776 [==============================] - 1s 2ms/step\n",
      "19\n",
      "1/1 [==============================] - 0s 92ms/step\n",
      " 12 epochs, mse =  0.34132\n",
      "1521/1521 [==============================] - 3s 2ms/step\n",
      "776/776 [==============================] - 1s 2ms/step\n",
      "20\n",
      "1/1 [==============================] - 0s 76ms/step\n",
      " 19 epochs, mse =  0.08259\n",
      "1521/1521 [==============================] - 3s 2ms/step\n",
      "776/776 [==============================] - 1s 2ms/step\n",
      "21\n",
      "1/1 [==============================] - 0s 78ms/step\n",
      " 20 epochs, mse =  0.17319\n",
      "1521/1521 [==============================] - 3s 2ms/step\n",
      "776/776 [==============================] - 1s 2ms/step\n",
      "22\n",
      "1/1 [==============================] - 0s 95ms/step\n",
      " 17 epochs, mse =  0.10868\n",
      "1521/1521 [==============================] - 3s 2ms/step\n",
      "776/776 [==============================] - 1s 2ms/step\n",
      "23\n",
      "1/1 [==============================] - 0s 107ms/step\n",
      " 21 epochs, mse =  0.11340\n",
      "1521/1521 [==============================] - 3s 2ms/step\n",
      "776/776 [==============================] - 1s 2ms/step\n",
      "24\n",
      "1/1 [==============================] - 0s 78ms/step\n",
      " 23 epochs, mse =  0.82941\n",
      "1521/1521 [==============================] - 3s 2ms/step\n",
      "776/776 [==============================] - 1s 2ms/step\n",
      "25\n",
      "1/1 [==============================] - 0s 112ms/step\n",
      " 18 epochs, mse =  0.08926\n",
      "1521/1521 [==============================] - 3s 2ms/step\n",
      "776/776 [==============================] - 1s 2ms/step\n",
      "26\n",
      "1/1 [==============================] - 0s 113ms/step\n",
      " 15 epochs, mse =  0.08262\n",
      "1521/1521 [==============================] - 3s 2ms/step\n",
      "776/776 [==============================] - 1s 2ms/step\n",
      "27\n",
      "1/1 [==============================] - 0s 88ms/step\n",
      " 12 epochs, mse =  0.07749\n",
      "1521/1521 [==============================] - 3s 2ms/step\n",
      "776/776 [==============================] - 1s 2ms/step\n",
      "28\n",
      "1/1 [==============================] - 0s 77ms/step\n",
      " 22 epochs, mse =  0.05870\n",
      "1521/1521 [==============================] - 3s 2ms/step\n",
      "776/776 [==============================] - 1s 2ms/step\n",
      "29\n",
      "1/1 [==============================] - 0s 100ms/step\n",
      " 15 epochs, mse =  0.05654\n",
      "1521/1521 [==============================] - 3s 2ms/step\n",
      "776/776 [==============================] - 1s 2ms/step\n",
      "30\n",
      "1/1 [==============================] - 0s 77ms/step\n",
      " 43 epochs, mse =  0.05961\n",
      "1521/1521 [==============================] - 3s 2ms/step\n",
      "776/776 [==============================] - 1s 2ms/step\n",
      "31\n",
      "1/1 [==============================] - 0s 90ms/step\n",
      " 16 epochs, mse =  0.09213\n",
      "1521/1521 [==============================] - 3s 2ms/step\n",
      "776/776 [==============================] - 1s 2ms/step\n",
      "32\n",
      "1/1 [==============================] - 0s 113ms/step\n",
      " 12 epochs, mse =  0.07480\n",
      "1521/1521 [==============================] - 3s 2ms/step\n",
      "776/776 [==============================] - 1s 2ms/step\n",
      "33\n",
      "1/1 [==============================] - 0s 113ms/step\n",
      " 13 epochs, mse =  0.07675\n",
      "1521/1521 [==============================] - 3s 2ms/step\n",
      "776/776 [==============================] - 1s 2ms/step\n",
      "34\n",
      "1/1 [==============================] - 0s 118ms/step\n",
      " 12 epochs, mse =  0.11030\n",
      "1521/1521 [==============================] - 3s 2ms/step\n",
      "776/776 [==============================] - 1s 2ms/step\n",
      "35\n",
      "1/1 [==============================] - 0s 96ms/step\n",
      " 19 epochs, mse =  0.07232\n",
      "1521/1521 [==============================] - 3s 2ms/step\n",
      "776/776 [==============================] - 2s 2ms/step\n",
      "36\n",
      "1/1 [==============================] - 0s 88ms/step\n",
      " 20 epochs, mse =  0.08542\n",
      "1521/1521 [==============================] - 3s 2ms/step\n",
      "776/776 [==============================] - 1s 2ms/step\n",
      "37\n",
      "1/1 [==============================] - 0s 77ms/step\n",
      " 21 epochs, mse =  1.21164\n",
      "1521/1521 [==============================] - 3s 2ms/step\n",
      "776/776 [==============================] - 1s 2ms/step\n",
      "38\n",
      "1/1 [==============================] - 0s 71ms/step\n",
      " 30 epochs, mse =  0.06642\n",
      "1521/1521 [==============================] - 3s 2ms/step\n",
      "776/776 [==============================] - 1s 2ms/step\n",
      "39\n",
      "1/1 [==============================] - 0s 72ms/step\n",
      " 18 epochs, mse =  0.14175\n",
      "1521/1521 [==============================] - 3s 2ms/step\n",
      "776/776 [==============================] - 1s 2ms/step\n",
      "40\n",
      "1/1 [==============================] - 0s 88ms/step\n",
      " 24 epochs, mse =  0.09025\n",
      "1521/1521 [==============================] - 3s 2ms/step\n",
      "776/776 [==============================] - 1s 2ms/step\n",
      "41\n",
      "1/1 [==============================] - 0s 88ms/step\n",
      " 21 epochs, mse =  0.09450\n",
      "1521/1521 [==============================] - 3s 2ms/step\n",
      "776/776 [==============================] - 1s 2ms/step\n",
      "42\n",
      "1/1 [==============================] - 0s 96ms/step\n",
      " 13 epochs, mse =  0.08154\n",
      "1521/1521 [==============================] - 3s 2ms/step\n",
      "776/776 [==============================] - 1s 2ms/step\n",
      "43\n",
      "1/1 [==============================] - 0s 96ms/step\n",
      " 19 epochs, mse =  0.77963\n",
      "1521/1521 [==============================] - 3s 2ms/step\n",
      "776/776 [==============================] - 1s 2ms/step\n",
      "44\n",
      "1/1 [==============================] - 0s 87ms/step\n",
      " 16 epochs, mse =  0.07238\n",
      "1521/1521 [==============================] - 3s 2ms/step\n",
      "776/776 [==============================] - 1s 2ms/step\n",
      "45\n",
      "1/1 [==============================] - 0s 106ms/step\n",
      " 13 epochs, mse =  0.06453\n",
      "1521/1521 [==============================] - 3s 2ms/step\n",
      "776/776 [==============================] - 1s 2ms/step\n",
      "46\n",
      "1/1 [==============================] - 0s 83ms/step\n",
      " 19 epochs, mse =  0.15056\n",
      "1521/1521 [==============================] - 3s 2ms/step\n",
      "776/776 [==============================] - 1s 2ms/step\n",
      "47\n",
      "1/1 [==============================] - 0s 99ms/step\n",
      " 18 epochs, mse =  0.09907\n",
      "1521/1521 [==============================] - 3s 2ms/step\n",
      "776/776 [==============================] - 1s 2ms/step\n",
      "48\n",
      "1/1 [==============================] - 0s 79ms/step\n",
      " 20 epochs, mse =  0.73852\n",
      "1521/1521 [==============================] - 3s 2ms/step\n",
      "776/776 [==============================] - 1s 2ms/step\n",
      "49\n",
      "1/1 [==============================] - 0s 95ms/step\n",
      " 12 epochs, mse =  0.06848\n",
      "1521/1521 [==============================] - 3s 2ms/step\n",
      "776/776 [==============================] - 1s 2ms/step\n",
      "50\n",
      "1/1 [==============================] - 0s 88ms/step\n",
      " 20 epochs, mse =  0.06292\n",
      "1521/1521 [==============================] - 3s 2ms/step\n",
      "776/776 [==============================] - 1s 2ms/step\n",
      "51\n",
      "1/1 [==============================] - 0s 99ms/step\n",
      " 14 epochs, mse =  0.07660\n",
      "1521/1521 [==============================] - 3s 2ms/step\n",
      "776/776 [==============================] - 1s 2ms/step\n",
      "52\n",
      "1/1 [==============================] - 0s 77ms/step\n",
      " 20 epochs, mse =  0.14195\n",
      "1521/1521 [==============================] - 3s 2ms/step\n",
      "776/776 [==============================] - 1s 2ms/step\n",
      "53\n",
      "1/1 [==============================] - 0s 71ms/step\n",
      " 18 epochs, mse =  0.10183\n",
      "1521/1521 [==============================] - 3s 2ms/step\n",
      "776/776 [==============================] - 1s 2ms/step\n",
      "54\n",
      "1/1 [==============================] - 0s 79ms/step\n",
      " 21 epochs, mse =  0.11600\n",
      "1521/1521 [==============================] - 3s 2ms/step\n",
      "776/776 [==============================] - 1s 2ms/step\n",
      "55\n",
      "1/1 [==============================] - 0s 80ms/step\n",
      " 15 epochs, mse =  0.08863\n",
      "1521/1521 [==============================] - 3s 2ms/step\n",
      "776/776 [==============================] - 1s 2ms/step\n",
      "56\n",
      "1/1 [==============================] - 0s 87ms/step\n",
      " 15 epochs, mse =  0.06775\n",
      "1521/1521 [==============================] - 3s 2ms/step\n",
      "776/776 [==============================] - 1s 2ms/step\n",
      "57\n",
      "1/1 [==============================] - 0s 78ms/step\n",
      " 19 epochs, mse =  0.26312\n",
      "1521/1521 [==============================] - 3s 2ms/step\n",
      "776/776 [==============================] - 1s 2ms/step\n",
      "58\n",
      "1/1 [==============================] - 0s 89ms/step\n",
      " 14 epochs, mse =  0.10360\n",
      "1521/1521 [==============================] - 3s 2ms/step\n",
      "776/776 [==============================] - 1s 2ms/step\n",
      "59\n",
      "1/1 [==============================] - 0s 96ms/step\n",
      " 15 epochs, mse =  0.10570\n",
      "1521/1521 [==============================] - 3s 2ms/step\n",
      "776/776 [==============================] - 1s 2ms/step\n",
      "60\n",
      "1/1 [==============================] - 0s 98ms/step\n",
      " 16 epochs, mse =  0.11533\n",
      "1521/1521 [==============================] - 3s 2ms/step\n",
      "776/776 [==============================] - 1s 2ms/step\n",
      "61\n",
      "1/1 [==============================] - 0s 76ms/step\n",
      " 28 epochs, mse =  0.05191\n",
      "1521/1521 [==============================] - 3s 2ms/step\n",
      "776/776 [==============================] - 1s 2ms/step\n",
      "62\n",
      "1/1 [==============================] - 0s 110ms/step\n",
      " 12 epochs, mse =  0.06178\n",
      "1521/1521 [==============================] - 3s 2ms/step\n",
      "776/776 [==============================] - 1s 2ms/step\n",
      "63\n",
      "1/1 [==============================] - 0s 97ms/step\n",
      " 28 epochs, mse =  0.05673\n",
      "1521/1521 [==============================] - 3s 2ms/step\n",
      "776/776 [==============================] - 1s 2ms/step\n",
      "64\n",
      "1/1 [==============================] - 0s 102ms/step\n",
      " 14 epochs, mse =  0.12951\n",
      "1521/1521 [==============================] - 3s 2ms/step\n",
      "776/776 [==============================] - 1s 2ms/step\n",
      "65\n",
      "1/1 [==============================] - 0s 98ms/step\n",
      " 14 epochs, mse =  0.10504\n",
      "1521/1521 [==============================] - 3s 2ms/step\n",
      "776/776 [==============================] - 1s 2ms/step\n",
      "66\n",
      "1/1 [==============================] - 0s 78ms/step\n",
      " 20 epochs, mse =  0.14056\n",
      "1521/1521 [==============================] - 3s 2ms/step\n",
      "776/776 [==============================] - 1s 2ms/step\n",
      "67\n",
      "1/1 [==============================] - 0s 93ms/step\n",
      " 16 epochs, mse =  0.08626\n",
      "1521/1521 [==============================] - 3s 2ms/step\n",
      "776/776 [==============================] - 1s 2ms/step\n",
      "68\n",
      "1/1 [==============================] - 0s 78ms/step\n",
      " 19 epochs, mse =  0.12232\n",
      "1521/1521 [==============================] - 3s 2ms/step\n",
      "776/776 [==============================] - 1s 2ms/step\n",
      "69\n",
      "1/1 [==============================] - 0s 88ms/step\n",
      " 14 epochs, mse =  0.09145\n",
      "1521/1521 [==============================] - 3s 2ms/step\n",
      "776/776 [==============================] - 1s 2ms/step\n",
      "70\n",
      "1/1 [==============================] - 0s 79ms/step\n",
      " 36 epochs, mse =  0.05192\n",
      "1521/1521 [==============================] - 3s 2ms/step\n",
      "776/776 [==============================] - 1s 2ms/step\n",
      "71\n",
      "1/1 [==============================] - 0s 95ms/step\n",
      " 18 epochs, mse =  0.05325\n",
      "1521/1521 [==============================] - 3s 2ms/step\n",
      "776/776 [==============================] - 1s 2ms/step\n",
      "72\n",
      "1/1 [==============================] - 0s 72ms/step\n",
      " 17 epochs, mse =  0.10494\n",
      "1521/1521 [==============================] - 3s 2ms/step\n",
      "776/776 [==============================] - 1s 2ms/step\n",
      "73\n",
      "1/1 [==============================] - 0s 77ms/step\n",
      " 20 epochs, mse =  0.89389\n",
      "1521/1521 [==============================] - 3s 2ms/step\n",
      "776/776 [==============================] - 1s 2ms/step\n",
      "74\n",
      "1/1 [==============================] - 0s 97ms/step\n",
      " 19 epochs, mse =  0.07115\n",
      "1521/1521 [==============================] - 3s 2ms/step\n",
      "776/776 [==============================] - 1s 2ms/step\n",
      "75\n",
      "1/1 [==============================] - 0s 76ms/step\n",
      " 18 epochs, mse =  0.64882\n",
      "1521/1521 [==============================] - 3s 2ms/step\n",
      "776/776 [==============================] - 1s 2ms/step\n",
      "76\n",
      "1/1 [==============================] - 0s 88ms/step\n",
      " 13 epochs, mse =  0.09132\n",
      "1521/1521 [==============================] - 3s 2ms/step\n",
      "776/776 [==============================] - 1s 2ms/step\n",
      "77\n",
      "1/1 [==============================] - 0s 75ms/step\n",
      " 17 epochs, mse =  0.33124\n",
      "1521/1521 [==============================] - 3s 2ms/step\n",
      "776/776 [==============================] - 1s 2ms/step\n",
      "78\n",
      "1/1 [==============================] - 0s 72ms/step\n",
      " 21 epochs, mse =  0.11226\n",
      "1521/1521 [==============================] - 3s 2ms/step\n",
      "776/776 [==============================] - 1s 2ms/step\n",
      "79\n",
      "1/1 [==============================] - 1s 768ms/step\n",
      " 18 epochs, mse =  0.09827\n",
      "1521/1521 [==============================] - 3s 2ms/step\n",
      "776/776 [==============================] - 1s 2ms/step\n",
      "80\n",
      "1/1 [==============================] - 0s 86ms/step\n",
      " 18 epochs, mse =  0.47770\n",
      "1521/1521 [==============================] - 3s 2ms/step\n",
      "776/776 [==============================] - 1s 2ms/step\n",
      "81\n",
      "1/1 [==============================] - 0s 102ms/step\n",
      " 16 epochs, mse =  0.09029\n",
      "1521/1521 [==============================] - 3s 2ms/step\n",
      "776/776 [==============================] - 1s 2ms/step\n",
      "82\n",
      "1/1 [==============================] - 0s 98ms/step\n",
      " 14 epochs, mse =  0.06421\n",
      "1521/1521 [==============================] - 3s 2ms/step\n",
      "776/776 [==============================] - 1s 2ms/step\n",
      "83\n",
      "1/1 [==============================] - 0s 96ms/step\n",
      " 16 epochs, mse =  0.08134\n",
      "1521/1521 [==============================] - 3s 2ms/step\n",
      "776/776 [==============================] - 1s 2ms/step\n",
      "84\n",
      "1/1 [==============================] - 0s 91ms/step\n",
      " 25 epochs, mse =  0.08116\n",
      "1521/1521 [==============================] - 3s 2ms/step\n",
      "776/776 [==============================] - 1s 2ms/step\n",
      "85\n",
      "1/1 [==============================] - 0s 77ms/step\n",
      " 16 epochs, mse =  0.07717\n",
      "1521/1521 [==============================] - 3s 2ms/step\n",
      "776/776 [==============================] - 1s 2ms/step\n",
      "86\n",
      "1/1 [==============================] - 0s 100ms/step\n",
      " 21 epochs, mse =  0.06396\n",
      "1521/1521 [==============================] - 3s 2ms/step\n",
      "776/776 [==============================] - 1s 2ms/step\n",
      "87\n",
      "1/1 [==============================] - 0s 80ms/step\n",
      " 20 epochs, mse =  0.07024\n",
      "1521/1521 [==============================] - 3s 2ms/step\n",
      "776/776 [==============================] - 1s 2ms/step\n",
      "88\n",
      "1/1 [==============================] - 0s 89ms/step\n",
      " 22 epochs, mse =  0.12150\n",
      "1521/1521 [==============================] - 3s 2ms/step\n",
      "776/776 [==============================] - 1s 2ms/step\n",
      "89\n",
      "1/1 [==============================] - 0s 76ms/step\n",
      " 18 epochs, mse =  0.44423\n",
      "1521/1521 [==============================] - 3s 2ms/step\n",
      "776/776 [==============================] - 1s 2ms/step\n",
      "90\n",
      "1/1 [==============================] - 0s 76ms/step\n",
      " 16 epochs, mse =  0.07850\n",
      "1521/1521 [==============================] - 3s 2ms/step\n",
      "776/776 [==============================] - 1s 2ms/step\n",
      "91\n",
      "1/1 [==============================] - 0s 75ms/step\n",
      " 14 epochs, mse =  0.05483\n",
      "1521/1521 [==============================] - 3s 2ms/step\n",
      "776/776 [==============================] - 1s 2ms/step\n",
      "92\n",
      "1/1 [==============================] - 0s 81ms/step\n",
      " 15 epochs, mse =  0.05438\n",
      "1521/1521 [==============================] - 3s 2ms/step\n",
      "776/776 [==============================] - 1s 2ms/step\n",
      "93\n",
      "1/1 [==============================] - 0s 86ms/step\n",
      " 20 epochs, mse =  0.07686\n",
      "1521/1521 [==============================] - 3s 2ms/step\n",
      "776/776 [==============================] - 1s 2ms/step\n",
      "94\n",
      "1/1 [==============================] - 0s 76ms/step\n",
      " 12 epochs, mse =  0.19979\n",
      "1521/1521 [==============================] - 3s 2ms/step\n",
      "776/776 [==============================] - 1s 2ms/step\n",
      "95\n",
      "1/1 [==============================] - 0s 96ms/step\n",
      " 14 epochs, mse =  0.21975\n",
      "1521/1521 [==============================] - 3s 2ms/step\n",
      "776/776 [==============================] - 1s 2ms/step\n",
      "96\n",
      "1/1 [==============================] - 0s 96ms/step\n",
      " 17 epochs, mse =  0.08718\n",
      "1521/1521 [==============================] - 3s 2ms/step\n",
      "776/776 [==============================] - 1s 2ms/step\n",
      "97\n",
      "1/1 [==============================] - 0s 91ms/step\n",
      " 24 epochs, mse =  0.19945\n",
      "1521/1521 [==============================] - 3s 2ms/step\n",
      "776/776 [==============================] - 1s 2ms/step\n",
      "98\n",
      "1/1 [==============================] - 0s 87ms/step\n",
      " 13 epochs, mse =  0.06510\n",
      "1521/1521 [==============================] - 3s 2ms/step\n",
      "776/776 [==============================] - 1s 2ms/step\n",
      "99\n",
      "1/1 [==============================] - 0s 84ms/step\n",
      " 18 epochs, mse =  0.49356\n",
      "1521/1521 [==============================] - 3s 2ms/step\n",
      "776/776 [==============================] - 1s 2ms/step\n",
      "100\n",
      "1/1 [==============================] - 0s 82ms/step\n",
      " 22 epochs, mse =  0.18632\n",
      "1521/1521 [==============================] - 3s 2ms/step\n",
      "776/776 [==============================] - 1s 2ms/step\n",
      "101\n",
      "1/1 [==============================] - 0s 74ms/step\n",
      " 16 epochs, mse =  0.11404\n",
      "1521/1521 [==============================] - 3s 2ms/step\n",
      "776/776 [==============================] - 1s 2ms/step\n",
      "102\n",
      "1/1 [==============================] - 0s 78ms/step\n",
      " 12 epochs, mse =  0.86755\n",
      "1521/1521 [==============================] - 3s 2ms/step\n",
      "776/776 [==============================] - 1s 2ms/step\n",
      "103\n",
      "1/1 [==============================] - 0s 96ms/step\n",
      " 14 epochs, mse =  0.09621\n",
      "1521/1521 [==============================] - 3s 2ms/step\n",
      "776/776 [==============================] - 1s 2ms/step\n",
      "104\n",
      "1/1 [==============================] - 0s 78ms/step\n",
      " 31 epochs, mse =  0.39896\n",
      "1521/1521 [==============================] - 3s 2ms/step\n",
      "776/776 [==============================] - 1s 2ms/step\n",
      "105\n",
      "1/1 [==============================] - 0s 88ms/step\n",
      " 13 epochs, mse =  0.10720\n",
      "1521/1521 [==============================] - 3s 2ms/step\n",
      "776/776 [==============================] - 1s 2ms/step\n",
      "106\n",
      "1/1 [==============================] - 0s 78ms/step\n",
      " 17 epochs, mse =  0.39509\n",
      "1521/1521 [==============================] - 3s 2ms/step\n",
      "776/776 [==============================] - 1s 2ms/step\n",
      "107\n",
      "1/1 [==============================] - 0s 97ms/step\n",
      " 13 epochs, mse =  0.16447\n",
      "1521/1521 [==============================] - 3s 2ms/step\n",
      "776/776 [==============================] - 1s 2ms/step\n",
      "108\n",
      "1/1 [==============================] - 0s 77ms/step\n",
      " 36 epochs, mse =  0.59233\n",
      "1521/1521 [==============================] - 3s 2ms/step\n",
      "776/776 [==============================] - 1s 2ms/step\n",
      "109\n",
      "1/1 [==============================] - 0s 77ms/step\n",
      " 15 epochs, mse =  0.24563\n",
      "1521/1521 [==============================] - 3s 2ms/step\n",
      "776/776 [==============================] - 1s 2ms/step\n",
      "110\n",
      "1/1 [==============================] - 0s 76ms/step\n",
      " 30 epochs, mse =  0.11295\n",
      "1521/1521 [==============================] - 3s 2ms/step\n",
      "776/776 [==============================] - 1s 2ms/step\n",
      "111\n",
      "1/1 [==============================] - 0s 78ms/step\n",
      " 35 epochs, mse =  0.23770\n",
      "1521/1521 [==============================] - 3s 2ms/step\n",
      "776/776 [==============================] - 1s 2ms/step\n",
      "112\n",
      "1/1 [==============================] - 0s 97ms/step\n",
      " 21 epochs, mse =  0.08521\n",
      "1521/1521 [==============================] - 3s 2ms/step\n",
      "776/776 [==============================] - 1s 2ms/step\n",
      "113\n",
      "1/1 [==============================] - 0s 76ms/step\n",
      " 16 epochs, mse =  1.45200\n",
      "1521/1521 [==============================] - 3s 2ms/step\n",
      "776/776 [==============================] - 1s 2ms/step\n",
      "114\n",
      "1/1 [==============================] - 0s 87ms/step\n",
      " 19 epochs, mse =  0.09191\n",
      "1521/1521 [==============================] - 3s 2ms/step\n",
      "776/776 [==============================] - 1s 2ms/step\n",
      "115\n",
      "1/1 [==============================] - 0s 77ms/step\n",
      " 14 epochs, mse =  0.59371\n",
      "1521/1521 [==============================] - 3s 2ms/step\n",
      "776/776 [==============================] - 1s 2ms/step\n",
      "116\n",
      "1/1 [==============================] - 0s 87ms/step\n",
      " 30 epochs, mse =  0.20022\n",
      "1521/1521 [==============================] - 3s 2ms/step\n",
      "776/776 [==============================] - 1s 2ms/step\n",
      "117\n",
      "1/1 [==============================] - 0s 84ms/step\n",
      " 15 epochs, mse =  0.09823\n",
      "1521/1521 [==============================] - 3s 2ms/step\n",
      "776/776 [==============================] - 1s 2ms/step\n",
      "118\n",
      "1/1 [==============================] - 0s 105ms/step\n",
      " 17 epochs, mse =  0.14244\n",
      "1521/1521 [==============================] - 3s 2ms/step\n",
      "776/776 [==============================] - 1s 2ms/step\n",
      "119\n",
      "1/1 [==============================] - 0s 82ms/step\n",
      " 21 epochs, mse =  0.52064\n",
      "1521/1521 [==============================] - 3s 2ms/step\n",
      "776/776 [==============================] - 1s 2ms/step\n",
      "120\n",
      "1/1 [==============================] - 0s 91ms/step\n",
      " 31 epochs, mse =  0.07891\n",
      "1521/1521 [==============================] - 3s 2ms/step\n",
      "776/776 [==============================] - 1s 2ms/step\n",
      "121\n",
      "1/1 [==============================] - 0s 79ms/step\n",
      " 23 epochs, mse =  1.11975\n",
      "1521/1521 [==============================] - 3s 2ms/step\n",
      "776/776 [==============================] - 1s 2ms/step\n",
      "122\n",
      "1/1 [==============================] - 0s 76ms/step\n",
      " 26 epochs, mse =  0.09525\n",
      "1521/1521 [==============================] - 3s 2ms/step\n",
      "776/776 [==============================] - 1s 2ms/step\n",
      "123\n",
      "1/1 [==============================] - 0s 74ms/step\n",
      " 16 epochs, mse =  0.11713\n",
      "1521/1521 [==============================] - 3s 2ms/step\n",
      "776/776 [==============================] - 1s 2ms/step\n",
      "124\n",
      "1/1 [==============================] - 0s 88ms/step\n",
      " 19 epochs, mse =  0.08679\n",
      "1521/1521 [==============================] - 3s 2ms/step\n",
      "776/776 [==============================] - 1s 2ms/step\n",
      "125\n",
      "1/1 [==============================] - 0s 86ms/step\n",
      " 19 epochs, mse =  0.08180\n",
      "1521/1521 [==============================] - 3s 2ms/step\n",
      "776/776 [==============================] - 1s 2ms/step\n",
      "126\n",
      "1/1 [==============================] - 0s 72ms/step\n",
      " 28 epochs, mse =  0.07599\n",
      "1521/1521 [==============================] - 3s 2ms/step\n",
      "776/776 [==============================] - 1s 2ms/step\n",
      "127\n",
      "1/1 [==============================] - 0s 76ms/step\n",
      " 17 epochs, mse =  0.09574\n",
      "1521/1521 [==============================] - 3s 2ms/step\n",
      "776/776 [==============================] - 1s 2ms/step\n",
      "128\n",
      "1/1 [==============================] - 0s 87ms/step\n",
      " 18 epochs, mse =  0.07080\n",
      "1521/1521 [==============================] - 3s 2ms/step\n",
      "776/776 [==============================] - 1s 2ms/step\n",
      "129\n",
      "1/1 [==============================] - 0s 87ms/step\n",
      " 17 epochs, mse =  0.08025\n",
      "1521/1521 [==============================] - 3s 2ms/step\n",
      "776/776 [==============================] - 1s 2ms/step\n",
      "130\n",
      "1/1 [==============================] - 0s 76ms/step\n",
      " 22 epochs, mse =  0.07171\n",
      "1521/1521 [==============================] - 3s 2ms/step\n",
      "776/776 [==============================] - 1s 2ms/step\n",
      "131\n",
      "1/1 [==============================] - 0s 85ms/step\n",
      " 18 epochs, mse =  0.56248\n",
      "1521/1521 [==============================] - 3s 2ms/step\n",
      "776/776 [==============================] - 1s 2ms/step\n",
      "132\n",
      "1/1 [==============================] - 0s 96ms/step\n",
      " 32 epochs, mse =  0.09739\n",
      "1521/1521 [==============================] - 3s 2ms/step\n",
      "776/776 [==============================] - 1s 2ms/step\n",
      "133\n",
      "1/1 [==============================] - 0s 77ms/step\n",
      " 22 epochs, mse =  0.05654\n",
      "1521/1521 [==============================] - 3s 2ms/step\n",
      "776/776 [==============================] - 1s 2ms/step\n",
      "134\n",
      "1/1 [==============================] - 0s 77ms/step\n",
      " 16 epochs, mse =  0.14810\n",
      "1521/1521 [==============================] - 3s 2ms/step\n",
      "776/776 [==============================] - 1s 2ms/step\n",
      "135\n",
      "1/1 [==============================] - 0s 109ms/step\n",
      " 13 epochs, mse =  0.07659\n",
      "1521/1521 [==============================] - 3s 2ms/step\n",
      "776/776 [==============================] - 1s 2ms/step\n",
      "136\n",
      "1/1 [==============================] - 0s 86ms/step\n",
      " 26 epochs, mse =  0.33668\n",
      "1521/1521 [==============================] - 3s 2ms/step\n",
      "776/776 [==============================] - 1s 2ms/step\n",
      "137\n",
      "1/1 [==============================] - 0s 104ms/step\n",
      " 17 epochs, mse =  0.09184\n",
      "1521/1521 [==============================] - 3s 2ms/step\n",
      "776/776 [==============================] - 1s 2ms/step\n",
      "138\n",
      "1/1 [==============================] - 0s 83ms/step\n",
      " 19 epochs, mse =  0.22568\n",
      "1521/1521 [==============================] - 3s 2ms/step\n",
      "776/776 [==============================] - 1s 2ms/step\n",
      "139\n",
      "1/1 [==============================] - 0s 82ms/step\n",
      " 15 epochs, mse =  0.31739\n",
      "1521/1521 [==============================] - 3s 2ms/step\n",
      "776/776 [==============================] - 1s 2ms/step\n",
      "Correlation =  0.88835\n"
     ]
    }
   ],
   "source": [
    "def my_model(n_inputs,n_outputs,loss):\n",
    "    \"\"\"Sequential neural network\n",
    "    \n",
    "    Returns a compiled instance of tensorflow.keras.models.Model.\n",
    "    \"\"\"\n",
    "    activation = 'swish'\n",
    "\n",
    "    \n",
    "    inputs = Input(shape=(n_inputs, ))\n",
    "    x0 = Dense(16,\n",
    "              activation=activation,\n",
    "             )(inputs)\n",
    "    x1 = Dense(16,\n",
    "              activation=activation,\n",
    "             )(x0)\n",
    "    x2 = Dense(16,\n",
    "              activation=activation,\n",
    "             )(x1)\n",
    "    x3 = Dense(16,\n",
    "              activation=activation,\n",
    "             )(x2)\n",
    "    x = Concatenate()([x0, x1, x2, x3])\n",
    "    x = Dense(n_outputs,\n",
    "              #activation=activation,\n",
    "             )(x)\n",
    "    regressor = Model(inputs, x)\n",
    "    regressor.compile(optimizer=tf.keras.optimizers.Adam(learning_rate=LR_START),\n",
    "                      metrics=[loss],\n",
    "                      loss=loss\n",
    "                     )\n",
    "    \n",
    "    return regressor\n",
    "\n",
    "# best_hp = keras_tuner.HyperParameters()\n",
    "# best_hp.values = {'reg1': 1e-06,\n",
    "#                   'reg2': 1.3528e-07,\n",
    "#                   'units1': 256,\n",
    "#                   'units2': 320,\n",
    "#                   'units3': 256,\n",
    "#                   'units4': 320,\n",
    "#                   'do1': 0.1,\n",
    "#                   'do2': 0.2,\n",
    "#                   'do3': 0.2,\n",
    "#                   'do4': 0.1,\n",
    "#                   'do5': 0.1,\n",
    "#                   'lr': 0.01,\n",
    "#                  }\n",
    "\n",
    "# def my_model(hp,n_inputs,n_outputs, loss):\n",
    "#     \"\"\"Sequential neural network\n",
    "    \n",
    "#     Returns a compiled instance of tensorflow.keras.models.Model.\n",
    "#     \"\"\"\n",
    "#     activation = hp.Choice('act',['swish','selu'])\n",
    "#     reg1 = hp.Float(\"reg1\", min_value=1e-10, max_value=1e-6, sampling=\"log\")\n",
    "#     reg2 = hp.Float(\"reg2\", min_value=1e-10, max_value=1e-6, sampling=\"log\")\n",
    "    \n",
    "#     inputs = Input(shape=(n_inputs, ))\n",
    "#     x0 = Dense(hp.Choice('units1', [0.1]), kernel_regularizer=tf.keras.regularizers.l2(reg1),\n",
    "#               activation=activation,\n",
    "#              )(inputs)\n",
    "#     do1 = Dropout(hp.Choice('do1', [0.1]))(x0)\n",
    "#     x1 = Dense(hp.Choice('units2', [0.1]), kernel_regularizer=tf.keras.regularizers.l2(reg1),\n",
    "#               activation=activation,\n",
    "#              )(do1)\n",
    "#     do2 = Dropout(hp.Choice('do2', [0.2]))(x1)\n",
    "#     x2 = Dense(hp.Choice('units3', [0.1]), kernel_regularizer=tf.keras.regularizers.l2(reg1),\n",
    "#               activation=activation,\n",
    "#              )(do2)\n",
    "#     do3 = Dropout(hp.Choice('do3', [0.2]))(x2)\n",
    "#     x3 = Dense(hp.Choice('units4', [0.1]), kernel_regularizer=tf.keras.regularizers.l2(reg1),\n",
    "#               activation=activation,\n",
    "#              )(do3)\n",
    "#     do4 = Dropout(hp.Choice('do4', [0.1]))(x3)\n",
    "#     x = Concatenate()([x0, x1, x2, x3])\n",
    "#     do5 = Dropout(hp.Choice('do5', [0.1]))(x)\n",
    "#     x = Dense(n_outputs, kernel_regularizer=tf.keras.regularizers.l2(reg2),\n",
    "#               #activation=activation,\n",
    "#              )(do5)\n",
    "#     regressor = Model(inputs, x)\n",
    "#     regressor.compile(optimizer=tf.keras.optimizers.Adam(learning_rate=hp.Choice('lr', [0.1])),\n",
    "#                       metrics=[loss],\n",
    "#                       loss=loss\n",
    "#                      )\n",
    "    \n",
    "#     return regressor\n",
    "\n",
    "def eval_model(X_tr,y_tr,X_va,y_va,loss=tf.keras.losses.MeanSquaredError()):\n",
    "        \n",
    "    lr = ReduceLROnPlateau(monitor=\"val_loss\", factor=0.5, \n",
    "                          patience=4, verbose=VERBOSE)\n",
    "    es = EarlyStopping(monitor=\"val_loss\",\n",
    "                      patience=12, \n",
    "                      verbose=0,\n",
    "                      mode=\"min\", \n",
    "                      restore_best_weights=True)\n",
    "    callbacks = [lr, es, tf.keras.callbacks.TerminateOnNaN()]\n",
    "\n",
    "    # Construct and compile the model\n",
    "    model = my_model(n_inputs=X_tr.shape[1],n_outputs=1,loss = loss)\n",
    "\n",
    "    # Train the model\n",
    "    history = model.fit(X_tr, y_tr, \n",
    "                        validation_data=(X_va, y_va), \n",
    "                        epochs=EPOCHS,\n",
    "                        verbose=VERBOSE,\n",
    "                        batch_size=BATCH_SIZE,\n",
    "                        shuffle=True,\n",
    "                        callbacks=callbacks)\n",
    "    \n",
    "    # We validate the model\n",
    "    y_pred = model.predict(X_va, batch_size=X_va.shape[0])\n",
    "    mse = tf.keras.losses.MeanSquaredError()(y_va, y_pred)\n",
    "    #corrscore = correlation_score(y_va, y_pred)\n",
    "\n",
    "    print(f\"{es.stopped_epoch:3} epochs, mse =  {mse:.5f}\")\n",
    "\n",
    "    return model\n",
    "\n",
    "# Cross-validation\n",
    "VERBOSE = 0 # set to 2 for more output, set to 0 for less output\n",
    "EPOCHS = 60\n",
    "N_SPLITS = 3\n",
    "LR_START = 0.01\n",
    "BATCH_SIZE = 256\n",
    "\n",
    "def fit(X_train, y_train, X_test, meta):\n",
    "    np.random.seed(1)\n",
    "    tf.random.set_seed(1)\n",
    "\n",
    "    kf = GroupKFold(n_splits=N_SPLITS)\n",
    "    score_list = []\n",
    "    for fold, (idx_tr, idx_va) in enumerate(kf.split(X_train, groups=meta.donor)):\n",
    "        start_time = datetime.datetime.now()\n",
    "        model = None\n",
    "        gc.collect()\n",
    "        X_tr = X_train[idx_tr]\n",
    "        y_tr = y_train[idx_tr]\n",
    "        X_va = X_train[idx_va]\n",
    "        y_va = y_train[idx_va]\n",
    "        \n",
    "        i_start = 0\n",
    "        i_stop = 140\n",
    "        indices = np.load('./temp/best_var_save_140.npy',allow_pickle=True)\n",
    "        for i in np.arange(i_start,i_stop,1):\n",
    "            print(i)\n",
    "            indices_i = indices[i]\n",
    "            if len(indices_i) == 0:\n",
    "                model = eval_model(X_tr[:,-256:],y_tr[:,i],X_va[:,-256:],y_va[:,i])\n",
    "                if 'y_pred' in locals():\n",
    "                    y_pred = np.hstack([y_pred,model.predict(X_test[:,-256:])])\n",
    "                    y_va_pred = np.hstack([y_va_pred,model.predict(X_va[:,-256:])])\n",
    "                else:\n",
    "                    y_pred = model.predict(X_test[:,-256:])\n",
    "                    y_va_pred = model.predict(X_va[:,-256:])\n",
    "            else:\n",
    "                model = eval_model(X_tr[:,indices_i],y_tr[:,i],X_va[:,indices_i],y_va[:,i])\n",
    "                if 'y_pred' in locals():\n",
    "                    y_pred = np.hstack([y_pred,model.predict(X_test[:,indices_i])])\n",
    "                    y_va_pred = np.hstack([y_va_pred,model.predict(X_va[:,indices_i])])\n",
    "                else:\n",
    "                    y_pred = model.predict(X_test[:,indices_i])\n",
    "                    y_va_pred = model.predict(X_va[:,indices_i])\n",
    "            np.savetxt('./temp/new_y_pred_save.csv',y_pred,delimiter=',')\n",
    "            np.savetxt('./temp/new_y_va_pred_save.csv',y_va_pred,delimiter=',')\n",
    "        corrscore = correlation_score(y_va[:,i_start:i_stop], y_va_pred)\n",
    "        print(f\"Correlation =  {corrscore:.5f}\")\n",
    "        return y_va_pred, y_pred\n",
    "    # Show overall score\n",
    "#    print(f\"{Fore.GREEN}{Style.BRIGHT}Average  mse = {np.array(score_list).mean():.5f}{Style.RESET_ALL}\")\n",
    "\n",
    "gc.collect()\n",
    "y_va_pred, y_pred = fit(X_train_mod, y_train, X_test_mod, meta)"
   ]
  },
  {
   "cell_type": "code",
   "execution_count": null,
   "id": "afb647c6-40df-4b81-bb05-daa15e2562cd",
   "metadata": {
    "execution": {
     "iopub.execute_input": "2022-10-20T20:43:44.259227Z",
     "iopub.status.busy": "2022-10-20T20:43:44.258624Z"
    }
   },
   "outputs": [
    {
     "name": "stdout",
     "output_type": "stream",
     "text": [
      "0\n"
     ]
    },
    {
     "name": "stderr",
     "output_type": "stream",
     "text": [
      "2022-10-20 20:43:48.029267: I tensorflow/stream_executor/cuda/cuda_gpu_executor.cc:980] successful NUMA node read from SysFS had negative value (-1), but there must be at least one NUMA node, so returning NUMA node zero\n",
      "2022-10-20 20:43:48.030201: W tensorflow/stream_executor/platform/default/dso_loader.cc:64] Could not load dynamic library 'libcudnn.so.8'; dlerror: libcudnn.so.8: cannot open shared object file: No such file or directory; LD_LIBRARY_PATH: /usr/local/nvidia/lib:/usr/local/nvidia/lib64\n",
      "2022-10-20 20:43:48.030222: W tensorflow/core/common_runtime/gpu/gpu_device.cc:1934] Cannot dlopen some GPU libraries. Please make sure the missing libraries mentioned above are installed properly if you would like to use GPU. Follow the guide at https://www.tensorflow.org/install/gpu for how to download and setup the required libraries for your platform.\n",
      "Skipping registering GPU devices...\n",
      "2022-10-20 20:43:48.030491: I tensorflow/core/platform/cpu_feature_guard.cc:193] This TensorFlow binary is optimized with oneAPI Deep Neural Network Library (oneDNN) to use the following CPU instructions in performance-critical operations:  AVX2 AVX512F AVX512_VNNI FMA\n",
      "To enable them in other operations, rebuild TensorFlow with the appropriate compiler flags.\n"
     ]
    },
    {
     "name": "stdout",
     "output_type": "stream",
     "text": [
      "1/1 [==============================] - 0s 113ms/step\n",
      " 21 epochs, mse =  0.12506\n",
      "1521/1521 [==============================] - 3s 2ms/step\n",
      "776/776 [==============================] - 1s 2ms/step\n",
      "1\n",
      "1/1 [==============================] - 0s 86ms/step\n",
      " 16 epochs, mse =  0.06740\n",
      "1521/1521 [==============================] - 3s 2ms/step\n",
      "776/776 [==============================] - 1s 2ms/step\n",
      "2\n",
      "1/1 [==============================] - 0s 86ms/step\n",
      " 19 epochs, mse =  0.06852\n",
      "1521/1521 [==============================] - 3s 2ms/step\n",
      "776/776 [==============================] - 1s 2ms/step\n",
      "3\n",
      "1/1 [==============================] - 0s 77ms/step\n",
      " 14 epochs, mse =  0.27833\n",
      "1521/1521 [==============================] - 3s 2ms/step\n",
      "776/776 [==============================] - 1s 2ms/step\n",
      "4\n",
      "1/1 [==============================] - 0s 86ms/step\n",
      " 24 epochs, mse =  0.16621\n",
      "1521/1521 [==============================] - 3s 2ms/step\n",
      "776/776 [==============================] - 1s 2ms/step\n",
      "5\n",
      "1/1 [==============================] - 0s 87ms/step\n",
      " 22 epochs, mse =  0.53212\n",
      "1521/1521 [==============================] - 3s 2ms/step\n",
      "776/776 [==============================] - 1s 2ms/step\n",
      "6\n",
      "1/1 [==============================] - 0s 79ms/step\n",
      " 16 epochs, mse =  0.63213\n",
      "1521/1521 [==============================] - 3s 2ms/step\n",
      "776/776 [==============================] - 1s 2ms/step\n",
      "7\n",
      "1/1 [==============================] - 0s 78ms/step\n",
      " 23 epochs, mse =  0.10153\n",
      "1521/1521 [==============================] - 3s 2ms/step\n",
      "776/776 [==============================] - 1s 2ms/step\n",
      "8\n",
      "1/1 [==============================] - 0s 78ms/step\n",
      " 22 epochs, mse =  0.06122\n",
      "1521/1521 [==============================] - 3s 2ms/step\n",
      "776/776 [==============================] - 1s 2ms/step\n",
      "9\n",
      "1/1 [==============================] - 0s 77ms/step\n",
      " 24 epochs, mse =  0.10276\n",
      "1521/1521 [==============================] - 3s 2ms/step\n",
      "776/776 [==============================] - 1s 2ms/step\n",
      "10\n",
      "1/1 [==============================] - 0s 79ms/step\n",
      " 20 epochs, mse =  0.07414\n",
      "1521/1521 [==============================] - 3s 2ms/step\n",
      "776/776 [==============================] - 1s 2ms/step\n",
      "11\n",
      "1/1 [==============================] - 0s 86ms/step\n",
      " 19 epochs, mse =  0.12424\n",
      "1521/1521 [==============================] - 3s 2ms/step\n",
      "776/776 [==============================] - 1s 2ms/step\n",
      "12\n",
      "1/1 [==============================] - 0s 77ms/step\n",
      " 13 epochs, mse =  0.07637\n",
      "1521/1521 [==============================] - 3s 2ms/step\n",
      "776/776 [==============================] - 1s 2ms/step\n",
      "13\n",
      "1/1 [==============================] - 0s 84ms/step\n",
      " 24 epochs, mse =  0.10817\n",
      "1521/1521 [==============================] - 3s 2ms/step\n",
      "776/776 [==============================] - 1s 2ms/step\n",
      "14\n",
      "1/1 [==============================] - 0s 83ms/step\n",
      " 16 epochs, mse =  1.16131\n",
      "1521/1521 [==============================] - 3s 2ms/step\n",
      "776/776 [==============================] - 1s 2ms/step\n",
      "15\n",
      "1/1 [==============================] - 0s 79ms/step\n",
      " 18 epochs, mse =  0.32156\n",
      "1521/1521 [==============================] - 3s 2ms/step\n",
      "776/776 [==============================] - 1s 2ms/step\n",
      "16\n",
      "1/1 [==============================] - 0s 76ms/step\n",
      " 17 epochs, mse =  0.39921\n",
      "1521/1521 [==============================] - 3s 2ms/step\n",
      "776/776 [==============================] - 1s 2ms/step\n",
      "17\n",
      "1/1 [==============================] - 0s 90ms/step\n",
      " 30 epochs, mse =  0.22083\n",
      "1521/1521 [==============================] - 3s 2ms/step\n",
      "776/776 [==============================] - 1s 2ms/step\n",
      "18\n",
      "1/1 [==============================] - 0s 76ms/step\n",
      " 19 epochs, mse =  0.34849\n",
      "1521/1521 [==============================] - 3s 2ms/step\n",
      "776/776 [==============================] - 1s 2ms/step\n",
      "19\n",
      "1/1 [==============================] - 0s 77ms/step\n",
      " 19 epochs, mse =  0.34291\n",
      "1521/1521 [==============================] - 3s 2ms/step\n",
      "776/776 [==============================] - 1s 2ms/step\n",
      "20\n",
      "1/1 [==============================] - 0s 76ms/step\n",
      " 26 epochs, mse =  0.08387\n",
      "1521/1521 [==============================] - 3s 2ms/step\n",
      "776/776 [==============================] - 1s 2ms/step\n",
      "21\n",
      "1/1 [==============================] - 0s 77ms/step\n",
      " 22 epochs, mse =  0.17957\n",
      "1521/1521 [==============================] - 3s 2ms/step\n",
      "776/776 [==============================] - 1s 2ms/step\n",
      "22\n",
      "1/1 [==============================] - 0s 75ms/step\n",
      " 21 epochs, mse =  0.10794\n",
      "1521/1521 [==============================] - 3s 2ms/step\n",
      "776/776 [==============================] - 1s 2ms/step\n",
      "23\n",
      "1/1 [==============================] - 0s 79ms/step\n",
      " 25 epochs, mse =  0.11081\n",
      "1521/1521 [==============================] - 3s 2ms/step\n",
      "776/776 [==============================] - 1s 2ms/step\n",
      "24\n",
      "1/1 [==============================] - 0s 82ms/step\n",
      " 23 epochs, mse =  0.84938\n",
      "1521/1521 [==============================] - 3s 2ms/step\n",
      "776/776 [==============================] - 1s 2ms/step\n",
      "25\n",
      "1/1 [==============================] - 0s 78ms/step\n",
      " 16 epochs, mse =  0.08923\n",
      "1521/1521 [==============================] - 3s 2ms/step\n",
      "776/776 [==============================] - 1s 2ms/step\n",
      "26\n",
      "1/1 [==============================] - 0s 77ms/step\n",
      " 18 epochs, mse =  0.08218\n",
      "1521/1521 [==============================] - 3s 2ms/step\n",
      "776/776 [==============================] - 1s 2ms/step\n",
      "27\n",
      "1/1 [==============================] - 0s 76ms/step\n",
      " 17 epochs, mse =  0.07666\n",
      "1521/1521 [==============================] - 3s 2ms/step\n",
      "776/776 [==============================] - 1s 2ms/step\n",
      "28\n",
      "1/1 [==============================] - 0s 78ms/step\n",
      " 23 epochs, mse =  0.05852\n",
      "1521/1521 [==============================] - 3s 2ms/step\n",
      "776/776 [==============================] - 1s 2ms/step\n",
      "29\n",
      "1/1 [==============================] - 0s 76ms/step\n",
      " 20 epochs, mse =  0.05700\n",
      "1521/1521 [==============================] - 3s 2ms/step\n",
      "776/776 [==============================] - 1s 2ms/step\n",
      "30\n",
      "1/1 [==============================] - 0s 75ms/step\n",
      " 15 epochs, mse =  0.05936\n",
      "1521/1521 [==============================] - 3s 2ms/step\n",
      "776/776 [==============================] - 1s 2ms/step\n",
      "31\n",
      "1/1 [==============================] - 0s 78ms/step\n",
      " 26 epochs, mse =  0.09147\n",
      "1521/1521 [==============================] - 3s 2ms/step\n",
      "776/776 [==============================] - 1s 2ms/step\n",
      "32\n",
      "1/1 [==============================] - 0s 75ms/step\n",
      " 22 epochs, mse =  0.07516\n",
      "1521/1521 [==============================] - 3s 2ms/step\n",
      "776/776 [==============================] - 1s 2ms/step\n",
      "33\n",
      "1/1 [==============================] - 0s 479ms/step\n",
      " 26 epochs, mse =  0.07650\n",
      "1521/1521 [==============================] - 3s 2ms/step\n",
      "776/776 [==============================] - 1s 2ms/step\n",
      "34\n",
      "1/1 [==============================] - 0s 82ms/step\n",
      " 20 epochs, mse =  0.10975\n",
      "1521/1521 [==============================] - 3s 2ms/step\n",
      "776/776 [==============================] - 1s 2ms/step\n",
      "35\n",
      "1/1 [==============================] - 0s 79ms/step\n",
      " 28 epochs, mse =  0.07157\n",
      "1521/1521 [==============================] - 3s 2ms/step\n",
      "776/776 [==============================] - 1s 2ms/step\n",
      "36\n",
      "1/1 [==============================] - 0s 78ms/step\n",
      " 20 epochs, mse =  0.08370\n",
      "1521/1521 [==============================] - 3s 2ms/step\n",
      "776/776 [==============================] - 1s 2ms/step\n",
      "37\n",
      "1/1 [==============================] - 0s 76ms/step\n",
      " 15 epochs, mse =  1.21158\n",
      "1521/1521 [==============================] - 3s 2ms/step\n",
      "776/776 [==============================] - 1s 2ms/step\n",
      "38\n",
      "1/1 [==============================] - 0s 76ms/step\n",
      " 17 epochs, mse =  0.06567\n",
      "1521/1521 [==============================] - 3s 2ms/step\n",
      "776/776 [==============================] - 1s 2ms/step\n",
      "39\n",
      "1/1 [==============================] - 0s 76ms/step\n",
      " 14 epochs, mse =  0.14165\n",
      "1521/1521 [==============================] - 3s 2ms/step\n",
      "776/776 [==============================] - 1s 2ms/step\n",
      "40\n",
      "1/1 [==============================] - 0s 75ms/step\n",
      " 16 epochs, mse =  0.09104\n",
      "1521/1521 [==============================] - 3s 2ms/step\n",
      "776/776 [==============================] - 1s 2ms/step\n",
      "41\n",
      "1/1 [==============================] - 0s 78ms/step\n",
      " 22 epochs, mse =  0.09353\n",
      "1521/1521 [==============================] - 3s 2ms/step\n",
      "776/776 [==============================] - 1s 2ms/step\n",
      "42\n",
      "1/1 [==============================] - 0s 75ms/step\n",
      " 20 epochs, mse =  0.08189\n",
      "1521/1521 [==============================] - 3s 2ms/step\n",
      "776/776 [==============================] - 1s 2ms/step\n",
      "43\n",
      "1/1 [==============================] - 0s 90ms/step\n",
      " 19 epochs, mse =  0.73453\n",
      "1521/1521 [==============================] - 3s 2ms/step\n",
      "776/776 [==============================] - 1s 2ms/step\n",
      "44\n",
      "1/1 [==============================] - 0s 83ms/step\n",
      " 22 epochs, mse =  0.07103\n",
      "1521/1521 [==============================] - 3s 2ms/step\n",
      "776/776 [==============================] - 1s 2ms/step\n",
      "45\n",
      "1/1 [==============================] - 0s 80ms/step\n",
      " 22 epochs, mse =  0.06503\n",
      "1521/1521 [==============================] - 3s 2ms/step\n",
      "776/776 [==============================] - 1s 2ms/step\n",
      "46\n",
      "1/1 [==============================] - 0s 78ms/step\n",
      " 18 epochs, mse =  0.15070\n",
      "1521/1521 [==============================] - 3s 2ms/step\n",
      "776/776 [==============================] - 1s 2ms/step\n",
      "47\n",
      "1/1 [==============================] - 0s 77ms/step\n",
      " 21 epochs, mse =  0.09735\n",
      "1521/1521 [==============================] - 3s 2ms/step\n",
      "776/776 [==============================] - 1s 2ms/step\n",
      "48\n",
      "1/1 [==============================] - 0s 76ms/step\n",
      " 15 epochs, mse =  0.75284\n",
      "1521/1521 [==============================] - 3s 2ms/step\n",
      "776/776 [==============================] - 1s 2ms/step\n",
      "49\n",
      "1/1 [==============================] - 0s 75ms/step\n",
      " 14 epochs, mse =  0.06888\n",
      "1521/1521 [==============================] - 3s 2ms/step\n",
      "776/776 [==============================] - 1s 2ms/step\n",
      "50\n",
      "1/1 [==============================] - 0s 77ms/step\n",
      " 30 epochs, mse =  0.06198\n",
      "1521/1521 [==============================] - 3s 2ms/step\n",
      "776/776 [==============================] - 1s 2ms/step\n",
      "51\n",
      "1/1 [==============================] - 0s 78ms/step\n",
      " 22 epochs, mse =  0.07688\n",
      "1521/1521 [==============================] - 3s 2ms/step\n",
      "776/776 [==============================] - 1s 2ms/step\n",
      "52\n",
      "1/1 [==============================] - 0s 78ms/step\n",
      " 16 epochs, mse =  0.13663\n",
      "1521/1521 [==============================] - 3s 2ms/step\n",
      "776/776 [==============================] - 1s 2ms/step\n",
      "53\n",
      "1/1 [==============================] - 0s 85ms/step\n",
      " 18 epochs, mse =  0.10193\n",
      "1521/1521 [==============================] - 3s 2ms/step\n",
      "776/776 [==============================] - 1s 2ms/step\n",
      "54\n",
      "1/1 [==============================] - 0s 86ms/step\n",
      " 18 epochs, mse =  0.11695\n",
      "1521/1521 [==============================] - 3s 2ms/step\n",
      "776/776 [==============================] - 1s 2ms/step\n",
      "55\n",
      "1/1 [==============================] - 0s 82ms/step\n",
      " 15 epochs, mse =  0.08933\n",
      "1521/1521 [==============================] - 3s 2ms/step\n",
      "776/776 [==============================] - 1s 2ms/step\n",
      "56\n",
      "1/1 [==============================] - 0s 82ms/step\n",
      " 18 epochs, mse =  0.06783\n",
      "1521/1521 [==============================] - 3s 2ms/step\n",
      "776/776 [==============================] - 1s 2ms/step\n",
      "57\n",
      "1/1 [==============================] - 0s 80ms/step\n",
      " 17 epochs, mse =  0.25997\n",
      "1521/1521 [==============================] - 3s 2ms/step\n",
      "776/776 [==============================] - 1s 2ms/step\n",
      "58\n",
      "1/1 [==============================] - 0s 78ms/step\n",
      " 21 epochs, mse =  0.10660\n",
      "1521/1521 [==============================] - 3s 2ms/step\n",
      "776/776 [==============================] - 1s 2ms/step\n",
      "59\n",
      "1/1 [==============================] - 0s 77ms/step\n",
      " 16 epochs, mse =  0.10561\n",
      "1521/1521 [==============================] - 3s 2ms/step\n",
      "776/776 [==============================] - 1s 2ms/step\n",
      "60\n",
      "1/1 [==============================] - 0s 77ms/step\n",
      " 15 epochs, mse =  0.11248\n",
      "1521/1521 [==============================] - 3s 2ms/step\n",
      "776/776 [==============================] - 1s 2ms/step\n",
      "61\n",
      "1/1 [==============================] - 0s 76ms/step\n",
      " 27 epochs, mse =  0.05242\n",
      "1521/1521 [==============================] - 3s 2ms/step\n",
      "776/776 [==============================] - 1s 2ms/step\n",
      "62\n",
      "1/1 [==============================] - 0s 78ms/step\n",
      " 16 epochs, mse =  0.06045\n",
      "1521/1521 [==============================] - 3s 2ms/step\n",
      "776/776 [==============================] - 1s 2ms/step\n",
      "63\n",
      "1/1 [==============================] - 0s 76ms/step\n",
      " 22 epochs, mse =  0.05688\n",
      "1521/1521 [==============================] - 3s 2ms/step\n",
      "776/776 [==============================] - 1s 2ms/step\n",
      "64\n",
      "1/1 [==============================] - 0s 87ms/step\n",
      " 20 epochs, mse =  0.12504\n",
      "1521/1521 [==============================] - 3s 2ms/step\n",
      "776/776 [==============================] - 1s 2ms/step\n",
      "65\n",
      "1/1 [==============================] - 0s 86ms/step\n",
      " 17 epochs, mse =  0.10395\n",
      "1521/1521 [==============================] - 3s 2ms/step\n",
      "776/776 [==============================] - 1s 2ms/step\n",
      "66\n",
      "1/1 [==============================] - 0s 80ms/step\n",
      " 21 epochs, mse =  0.14081\n",
      "1521/1521 [==============================] - 3s 2ms/step\n",
      "776/776 [==============================] - 1s 2ms/step\n",
      "67\n",
      "1/1 [==============================] - 0s 81ms/step\n",
      " 27 epochs, mse =  0.08456\n",
      "1521/1521 [==============================] - 3s 2ms/step\n",
      "776/776 [==============================] - 1s 2ms/step\n",
      "68\n",
      "1/1 [==============================] - 0s 83ms/step\n",
      " 16 epochs, mse =  0.12177\n",
      "1521/1521 [==============================] - 3s 2ms/step\n",
      "776/776 [==============================] - 1s 2ms/step\n",
      "69\n",
      "1/1 [==============================] - 0s 77ms/step\n",
      " 24 epochs, mse =  0.08963\n",
      "1521/1521 [==============================] - 3s 2ms/step\n",
      "776/776 [==============================] - 1s 2ms/step\n",
      "70\n",
      "1/1 [==============================] - 0s 77ms/step\n",
      " 18 epochs, mse =  0.05303\n",
      "1521/1521 [==============================] - 3s 2ms/step\n",
      "776/776 [==============================] - 1s 2ms/step\n",
      "71\n",
      "1/1 [==============================] - 0s 77ms/step\n",
      " 19 epochs, mse =  0.05252\n",
      "1521/1521 [==============================] - 3s 2ms/step\n",
      "776/776 [==============================] - 1s 2ms/step\n",
      "72\n",
      "1/1 [==============================] - 0s 75ms/step\n",
      " 19 epochs, mse =  0.10552\n",
      "1521/1521 [==============================] - 3s 2ms/step\n",
      "776/776 [==============================] - 1s 2ms/step\n",
      "73\n",
      "1/1 [==============================] - 0s 79ms/step\n",
      " 31 epochs, mse =  0.88983\n",
      "1521/1521 [==============================] - 3s 2ms/step\n",
      "776/776 [==============================] - 1s 2ms/step\n",
      "74\n",
      "1/1 [==============================] - 0s 77ms/step\n",
      " 25 epochs, mse =  0.06944\n",
      "1521/1521 [==============================] - 3s 2ms/step\n",
      "776/776 [==============================] - 1s 2ms/step\n",
      "75\n",
      "1/1 [==============================] - 0s 86ms/step\n",
      " 26 epochs, mse =  0.65393\n",
      "1521/1521 [==============================] - 3s 2ms/step\n",
      "776/776 [==============================] - 1s 2ms/step\n",
      "76\n",
      "1/1 [==============================] - 0s 84ms/step\n",
      " 17 epochs, mse =  0.09153\n",
      "1521/1521 [==============================] - 3s 2ms/step\n",
      "776/776 [==============================] - 1s 2ms/step\n",
      "77\n",
      "1/1 [==============================] - 0s 82ms/step\n",
      " 19 epochs, mse =  0.33100\n",
      "1521/1521 [==============================] - 3s 2ms/step\n",
      "776/776 [==============================] - 1s 2ms/step\n",
      "78\n",
      "1/1 [==============================] - 0s 80ms/step\n",
      " 17 epochs, mse =  0.11292\n",
      "1521/1521 [==============================] - 3s 2ms/step\n",
      "776/776 [==============================] - 1s 2ms/step\n",
      "79\n",
      "1/1 [==============================] - 0s 85ms/step\n",
      " 15 epochs, mse =  0.09732\n",
      "1521/1521 [==============================] - 3s 2ms/step\n",
      "776/776 [==============================] - 1s 2ms/step\n",
      "80\n",
      "1/1 [==============================] - 0s 79ms/step\n",
      " 19 epochs, mse =  0.47606\n",
      "1521/1521 [==============================] - 3s 2ms/step\n",
      "776/776 [==============================] - 1s 2ms/step\n",
      "81\n",
      "1/1 [==============================] - 0s 77ms/step\n",
      " 17 epochs, mse =  0.08429\n",
      "1521/1521 [==============================] - 3s 2ms/step\n",
      "776/776 [==============================] - 1s 2ms/step\n",
      "82\n",
      "1/1 [==============================] - 0s 77ms/step\n",
      " 20 epochs, mse =  0.06387\n",
      "1521/1521 [==============================] - 3s 2ms/step\n",
      "776/776 [==============================] - 1s 2ms/step\n",
      "83\n",
      "1/1 [==============================] - 0s 83ms/step\n",
      " 15 epochs, mse =  0.08249\n",
      "1521/1521 [==============================] - 3s 2ms/step\n",
      "776/776 [==============================] - 1s 2ms/step\n",
      "84\n",
      "1/1 [==============================] - 0s 78ms/step\n",
      " 20 epochs, mse =  0.08099\n",
      "1521/1521 [==============================] - 3s 2ms/step\n",
      "776/776 [==============================] - 1s 2ms/step\n",
      "85\n",
      "1/1 [==============================] - 0s 76ms/step\n",
      " 15 epochs, mse =  0.07714\n",
      "1521/1521 [==============================] - 3s 2ms/step\n",
      "776/776 [==============================] - 2s 2ms/step\n",
      "86\n",
      "1/1 [==============================] - 0s 87ms/step\n",
      " 20 epochs, mse =  0.06363\n",
      "1521/1521 [==============================] - 3s 2ms/step\n",
      "776/776 [==============================] - 1s 2ms/step\n",
      "87\n",
      "1/1 [==============================] - 0s 82ms/step\n",
      " 18 epochs, mse =  0.07015\n",
      "1521/1521 [==============================] - 3s 2ms/step\n",
      "776/776 [==============================] - 1s 2ms/step\n",
      "88\n",
      "1/1 [==============================] - 0s 80ms/step\n",
      " 44 epochs, mse =  0.11959\n",
      "1521/1521 [==============================] - 3s 2ms/step\n",
      "776/776 [==============================] - 1s 2ms/step\n",
      "89\n",
      "1/1 [==============================] - 0s 79ms/step\n",
      " 25 epochs, mse =  0.43767\n",
      "1521/1521 [==============================] - 3s 2ms/step\n",
      "776/776 [==============================] - 1s 2ms/step\n",
      "90\n",
      "1/1 [==============================] - 0s 80ms/step\n",
      " 19 epochs, mse =  0.08043\n",
      "1521/1521 [==============================] - 3s 2ms/step\n",
      "776/776 [==============================] - 1s 2ms/step\n",
      "91\n",
      "1/1 [==============================] - 0s 78ms/step\n",
      " 19 epochs, mse =  0.05429\n",
      "1521/1521 [==============================] - 3s 2ms/step\n",
      "776/776 [==============================] - 1s 2ms/step\n",
      "92\n",
      "1/1 [==============================] - 0s 77ms/step\n",
      " 25 epochs, mse =  0.05268\n",
      "1521/1521 [==============================] - 3s 2ms/step\n",
      "776/776 [==============================] - 1s 2ms/step\n",
      "93\n",
      "1/1 [==============================] - 0s 82ms/step\n",
      " 16 epochs, mse =  0.07582\n",
      "1521/1521 [==============================] - 3s 2ms/step\n",
      "776/776 [==============================] - 1s 2ms/step\n",
      "94\n",
      "1/1 [==============================] - 0s 76ms/step\n",
      " 16 epochs, mse =  0.19800\n",
      "1521/1521 [==============================] - 3s 2ms/step\n",
      "776/776 [==============================] - 1s 2ms/step\n",
      "95\n",
      "1/1 [==============================] - 0s 75ms/step\n",
      " 15 epochs, mse =  0.22071\n",
      "1521/1521 [==============================] - 3s 2ms/step\n",
      "776/776 [==============================] - 1s 2ms/step\n",
      "96\n",
      "1/1 [==============================] - 0s 89ms/step\n",
      " 24 epochs, mse =  0.08604\n",
      "1521/1521 [==============================] - 3s 2ms/step\n",
      "776/776 [==============================] - 1s 2ms/step\n",
      "97\n",
      "1/1 [==============================] - 0s 86ms/step\n",
      " 22 epochs, mse =  0.19890\n",
      "1521/1521 [==============================] - 3s 2ms/step\n",
      "776/776 [==============================] - 1s 2ms/step\n",
      "98\n",
      "1/1 [==============================] - 0s 87ms/step\n",
      " 25 epochs, mse =  0.06489\n",
      "1521/1521 [==============================] - 3s 2ms/step\n",
      "776/776 [==============================] - 1s 2ms/step\n",
      "99\n",
      "1/1 [==============================] - 0s 81ms/step\n",
      " 14 epochs, mse =  0.49423\n",
      "1521/1521 [==============================] - 3s 2ms/step\n",
      "776/776 [==============================] - 1s 2ms/step\n",
      "100\n",
      "1/1 [==============================] - 0s 80ms/step\n",
      " 16 epochs, mse =  0.18355\n",
      "1521/1521 [==============================] - 3s 2ms/step\n",
      "776/776 [==============================] - 1s 2ms/step\n",
      "101\n",
      "1/1 [==============================] - 0s 81ms/step\n",
      " 18 epochs, mse =  0.11483\n",
      "1521/1521 [==============================] - 3s 2ms/step\n",
      "776/776 [==============================] - 1s 2ms/step\n",
      "102\n",
      "1/1 [==============================] - 0s 79ms/step\n",
      " 12 epochs, mse =  0.86793\n",
      "1521/1521 [==============================] - 3s 2ms/step\n",
      "776/776 [==============================] - 1s 2ms/step\n",
      "103\n",
      "1/1 [==============================] - 0s 77ms/step\n",
      " 20 epochs, mse =  0.09599\n",
      "1521/1521 [==============================] - 3s 2ms/step\n",
      "776/776 [==============================] - 1s 2ms/step\n",
      "104\n",
      "1/1 [==============================] - 0s 78ms/step\n",
      " 24 epochs, mse =  0.39568\n",
      "1521/1521 [==============================] - 3s 2ms/step\n",
      "776/776 [==============================] - 1s 2ms/step\n",
      "105\n",
      "1/1 [==============================] - 0s 75ms/step\n",
      " 20 epochs, mse =  0.10704\n",
      "1521/1521 [==============================] - 3s 2ms/step\n",
      "776/776 [==============================] - 1s 2ms/step\n",
      "106\n",
      "1/1 [==============================] - 0s 79ms/step\n",
      " 22 epochs, mse =  0.39541\n",
      "1521/1521 [==============================] - 3s 2ms/step\n",
      "776/776 [==============================] - 1s 2ms/step\n",
      "107\n",
      "1/1 [==============================] - 0s 76ms/step\n",
      " 13 epochs, mse =  0.16392\n",
      "1521/1521 [==============================] - 3s 2ms/step\n",
      "776/776 [==============================] - 1s 2ms/step\n",
      "108\n",
      "1/1 [==============================] - 0s 86ms/step\n",
      " 18 epochs, mse =  0.61070\n",
      "1521/1521 [==============================] - 3s 2ms/step\n",
      "776/776 [==============================] - 1s 2ms/step\n",
      "109\n",
      "1/1 [==============================] - 0s 83ms/step\n",
      " 21 epochs, mse =  0.24340\n",
      "1521/1521 [==============================] - 3s 2ms/step\n",
      "776/776 [==============================] - 1s 2ms/step\n",
      "110\n",
      "1/1 [==============================] - 0s 80ms/step\n",
      " 32 epochs, mse =  0.10977\n",
      "1521/1521 [==============================] - 3s 2ms/step\n",
      "776/776 [==============================] - 1s 2ms/step\n",
      "111\n",
      "1/1 [==============================] - 0s 80ms/step\n",
      " 32 epochs, mse =  0.24021\n",
      "1521/1521 [==============================] - 3s 2ms/step\n",
      "776/776 [==============================] - 1s 2ms/step\n",
      "112\n",
      "1/1 [==============================] - 0s 83ms/step\n",
      " 21 epochs, mse =  0.08295\n",
      "1521/1521 [==============================] - 3s 2ms/step\n",
      "776/776 [==============================] - 1s 2ms/step\n",
      "113\n",
      "1/1 [==============================] - 0s 77ms/step\n",
      " 19 epochs, mse =  1.45329\n",
      "1521/1521 [==============================] - 3s 2ms/step\n",
      "776/776 [==============================] - 1s 2ms/step\n",
      "114\n",
      "1/1 [==============================] - 0s 79ms/step\n",
      " 13 epochs, mse =  0.09251\n",
      "1521/1521 [==============================] - 3s 2ms/step\n",
      "776/776 [==============================] - 1s 2ms/step\n",
      "115\n",
      "1/1 [==============================] - 0s 76ms/step\n",
      " 19 epochs, mse =  0.59720\n",
      "1521/1521 [==============================] - 3s 2ms/step\n",
      "776/776 [==============================] - 1s 2ms/step\n",
      "116\n",
      "1/1 [==============================] - 0s 76ms/step\n",
      " 30 epochs, mse =  0.19639\n",
      "1521/1521 [==============================] - 3s 2ms/step\n",
      "776/776 [==============================] - 1s 2ms/step\n",
      "117\n"
     ]
    }
   ],
   "source": [
    "def my_model(n_inputs,n_outputs,loss):\n",
    "    \"\"\"Sequential neural network\n",
    "    \n",
    "    Returns a compiled instance of tensorflow.keras.models.Model.\n",
    "    \"\"\"\n",
    "    activation = 'swish'\n",
    "\n",
    "    \n",
    "    inputs = Input(shape=(n_inputs, ))\n",
    "    x0 = Dense(16,\n",
    "              activation=activation,\n",
    "             )(inputs)\n",
    "    x1 = Dense(16,\n",
    "              activation=activation,\n",
    "             )(x0)\n",
    "    x2 = Dense(16,\n",
    "              activation=activation,\n",
    "             )(x1)\n",
    "    x3 = Dense(16,\n",
    "              activation=activation,\n",
    "             )(x2)\n",
    "    x = Concatenate()([x0, x1, x2, x3])\n",
    "    x = Dense(n_outputs,\n",
    "              #activation=activation,\n",
    "             )(x)\n",
    "    regressor = Model(inputs, x)\n",
    "    regressor.compile(optimizer=tf.keras.optimizers.Adam(learning_rate=LR_START),\n",
    "                      metrics=[loss],\n",
    "                      loss=loss\n",
    "                     )\n",
    "    \n",
    "    return regressor\n",
    "\n",
    "# best_hp = keras_tuner.HyperParameters()\n",
    "# best_hp.values = {'reg1': 1e-06,\n",
    "#                   'reg2': 1.3528e-07,\n",
    "#                   'units1': 256,\n",
    "#                   'units2': 320,\n",
    "#                   'units3': 256,\n",
    "#                   'units4': 320,\n",
    "#                   'do1': 0.1,\n",
    "#                   'do2': 0.2,\n",
    "#                   'do3': 0.2,\n",
    "#                   'do4': 0.1,\n",
    "#                   'do5': 0.1,\n",
    "#                   'lr': 0.01,\n",
    "#                  }\n",
    "\n",
    "# def my_model(hp,n_inputs,n_outputs, loss):\n",
    "#     \"\"\"Sequential neural network\n",
    "    \n",
    "#     Returns a compiled instance of tensorflow.keras.models.Model.\n",
    "#     \"\"\"\n",
    "#     activation = hp.Choice('act',['swish','selu'])\n",
    "#     reg1 = hp.Float(\"reg1\", min_value=1e-10, max_value=1e-6, sampling=\"log\")\n",
    "#     reg2 = hp.Float(\"reg2\", min_value=1e-10, max_value=1e-6, sampling=\"log\")\n",
    "    \n",
    "#     inputs = Input(shape=(n_inputs, ))\n",
    "#     x0 = Dense(hp.Choice('units1', [0.1]), kernel_regularizer=tf.keras.regularizers.l2(reg1),\n",
    "#               activation=activation,\n",
    "#              )(inputs)\n",
    "#     do1 = Dropout(hp.Choice('do1', [0.1]))(x0)\n",
    "#     x1 = Dense(hp.Choice('units2', [0.1]), kernel_regularizer=tf.keras.regularizers.l2(reg1),\n",
    "#               activation=activation,\n",
    "#              )(do1)\n",
    "#     do2 = Dropout(hp.Choice('do2', [0.2]))(x1)\n",
    "#     x2 = Dense(hp.Choice('units3', [0.1]), kernel_regularizer=tf.keras.regularizers.l2(reg1),\n",
    "#               activation=activation,\n",
    "#              )(do2)\n",
    "#     do3 = Dropout(hp.Choice('do3', [0.2]))(x2)\n",
    "#     x3 = Dense(hp.Choice('units4', [0.1]), kernel_regularizer=tf.keras.regularizers.l2(reg1),\n",
    "#               activation=activation,\n",
    "#              )(do3)\n",
    "#     do4 = Dropout(hp.Choice('do4', [0.1]))(x3)\n",
    "#     x = Concatenate()([x0, x1, x2, x3])\n",
    "#     do5 = Dropout(hp.Choice('do5', [0.1]))(x)\n",
    "#     x = Dense(n_outputs, kernel_regularizer=tf.keras.regularizers.l2(reg2),\n",
    "#               #activation=activation,\n",
    "#              )(do5)\n",
    "#     regressor = Model(inputs, x)\n",
    "#     regressor.compile(optimizer=tf.keras.optimizers.Adam(learning_rate=hp.Choice('lr', [0.1])),\n",
    "#                       metrics=[loss],\n",
    "#                       loss=loss\n",
    "#                      )\n",
    "    \n",
    "#     return regressor\n",
    "\n",
    "def eval_model(X_tr,y_tr,X_va,y_va,loss=tf.keras.losses.MeanSquaredError()):\n",
    "        \n",
    "    lr = ReduceLROnPlateau(monitor=\"val_loss\", factor=0.5, \n",
    "                          patience=4, verbose=VERBOSE)\n",
    "    es = EarlyStopping(monitor=\"val_loss\",\n",
    "                      patience=12, \n",
    "                      verbose=0,\n",
    "                      mode=\"min\", \n",
    "                      restore_best_weights=True)\n",
    "    callbacks = [lr, es, tf.keras.callbacks.TerminateOnNaN()]\n",
    "\n",
    "    # Construct and compile the model\n",
    "    model = my_model(n_inputs=X_tr.shape[1],n_outputs=1,loss = loss)\n",
    "\n",
    "    # Train the model\n",
    "    history = model.fit(X_tr, y_tr, \n",
    "                        validation_data=(X_va, y_va), \n",
    "                        epochs=EPOCHS,\n",
    "                        verbose=VERBOSE,\n",
    "                        batch_size=BATCH_SIZE,\n",
    "                        shuffle=True,\n",
    "                        callbacks=callbacks)\n",
    "    \n",
    "    # We validate the model\n",
    "    y_pred = model.predict(X_va, batch_size=X_va.shape[0])\n",
    "    mse = tf.keras.losses.MeanSquaredError()(y_va, y_pred)\n",
    "    #corrscore = correlation_score(y_va, y_pred)\n",
    "\n",
    "    print(f\"{es.stopped_epoch:3} epochs, mse =  {mse:.5f}\")\n",
    "\n",
    "    return model\n",
    "\n",
    "# Cross-validation\n",
    "VERBOSE = 0 # set to 2 for more output, set to 0 for less output\n",
    "EPOCHS = 60\n",
    "N_SPLITS = 3\n",
    "LR_START = 0.01\n",
    "BATCH_SIZE = 256\n",
    "\n",
    "def fit(X_train, y_train, X_test, meta):\n",
    "    np.random.seed(1)\n",
    "    tf.random.set_seed(1)\n",
    "\n",
    "    kf = GroupKFold(n_splits=N_SPLITS)\n",
    "    score_list = []\n",
    "    for fold, (idx_tr, idx_va) in enumerate(kf.split(X_train, groups=meta.donor)):\n",
    "        start_time = datetime.datetime.now()\n",
    "        model = None\n",
    "        gc.collect()\n",
    "        X_tr = X_train[idx_tr]\n",
    "        y_tr = y_train[idx_tr]\n",
    "        X_va = X_train[idx_va]\n",
    "        y_va = y_train[idx_va]\n",
    "        \n",
    "        i_start = 0\n",
    "        i_stop = 140\n",
    "        for i in np.arange(i_start,i_stop,1):\n",
    "            print(i)\n",
    "            model = eval_model(X_tr[:,-256:],y_tr[:,i],X_va[:,-256:],y_va[:,i])\n",
    "            if 'y_pred' in locals():\n",
    "                y_pred = np.hstack([y_pred,model.predict(X_test[:,-256:])])\n",
    "                y_va_pred = np.hstack([y_va_pred,model.predict(X_va[:,-256:])])\n",
    "            else:\n",
    "                y_pred = model.predict(X_test[:,-256:])\n",
    "                y_va_pred = model.predict(X_va[:,-256:])\n",
    "            np.savetxt('./temp/only_pca_y_pred_save.csv',y_pred,delimiter=',')\n",
    "        corrscore = correlation_score(y_va[:,i_start:i_stop], y_va_pred)\n",
    "        print(f\"Correlation =  {corrscore:.5f}\")\n",
    "        return y_va_pred, y_pred\n",
    "    # Show overall score\n",
    "#    print(f\"{Fore.GREEN}{Style.BRIGHT}Average  mse = {np.array(score_list).mean():.5f}{Style.RESET_ALL}\")\n",
    "\n",
    "gc.collect()\n",
    "y_va_pred, y_pred = fit(X_train_mod, y_train, X_test_mod, meta)"
   ]
  },
  {
   "cell_type": "code",
   "execution_count": null,
   "id": "9d0a372a-dc72-488f-989e-9cd09316f4c5",
   "metadata": {},
   "outputs": [],
   "source": [
    "np.savetxt('./temp/only_pca_y_va_pred_save.csv',y_va_pred,delimiter=',')\n"
   ]
  },
  {
   "cell_type": "code",
   "execution_count": 5,
   "id": "065cafda-10fd-48fa-92e5-f73279ba461f",
   "metadata": {
    "execution": {
     "iopub.execute_input": "2022-10-20T21:43:57.556142Z",
     "iopub.status.busy": "2022-10-20T21:43:57.555745Z",
     "iopub.status.idle": "2022-10-20T21:43:57.560078Z",
     "shell.execute_reply": "2022-10-20T21:43:57.559271Z",
     "shell.execute_reply.started": "2022-10-20T21:43:57.556119Z"
    }
   },
   "outputs": [
    {
     "name": "stdout",
     "output_type": "stream",
     "text": [
      "1\n"
     ]
    }
   ],
   "source": [
    "print(1)"
   ]
  },
  {
   "cell_type": "code",
   "execution_count": 6,
   "id": "eb59ff19-49a7-44bc-b117-11b43c1c38ed",
   "metadata": {
    "execution": {
     "iopub.execute_input": "2022-10-20T21:44:06.394598Z",
     "iopub.status.busy": "2022-10-20T21:44:06.394237Z",
     "iopub.status.idle": "2022-10-20T21:44:08.880931Z",
     "shell.execute_reply": "2022-10-20T21:44:08.880322Z",
     "shell.execute_reply.started": "2022-10-20T21:44:06.394573Z"
    }
   },
   "outputs": [],
   "source": [
    "np.savetxt('./temp/only_pca_y_va_pred_save.csv',y_va_pred,delimiter=',')\n"
   ]
  },
  {
   "cell_type": "code",
   "execution_count": 8,
   "id": "a8d7cbd9-3223-451a-bb1b-fa2f26b834a5",
   "metadata": {
    "execution": {
     "iopub.execute_input": "2022-10-20T21:44:20.850920Z",
     "iopub.status.busy": "2022-10-20T21:44:20.850551Z",
     "iopub.status.idle": "2022-10-20T21:44:20.855361Z",
     "shell.execute_reply": "2022-10-20T21:44:20.854664Z",
     "shell.execute_reply.started": "2022-10-20T21:44:20.850894Z"
    },
    "tags": []
   },
   "outputs": [
    {
     "data": {
      "text/plain": [
       "(24803, 140)"
      ]
     },
     "execution_count": 8,
     "metadata": {},
     "output_type": "execute_result"
    }
   ],
   "source": [
    "y_va_pred.shape"
   ]
  },
  {
   "cell_type": "code",
   "execution_count": 9,
   "id": "393f65c4-6158-4b1d-a038-68033dba69e4",
   "metadata": {
    "execution": {
     "iopub.execute_input": "2022-10-20T21:45:46.605261Z",
     "iopub.status.busy": "2022-10-20T21:45:46.604891Z",
     "iopub.status.idle": "2022-10-20T21:45:49.119158Z",
     "shell.execute_reply": "2022-10-20T21:45:49.118562Z",
     "shell.execute_reply.started": "2022-10-20T21:45:46.605236Z"
    }
   },
   "outputs": [
    {
     "name": "stdout",
     "output_type": "stream",
     "text": [
      "Correlation =  0.88877\n"
     ]
    }
   ],
   "source": [
    "np.random.seed(1)\n",
    "tf.random.set_seed(1)\n",
    "\n",
    "kf = GroupKFold(n_splits=N_SPLITS)\n",
    "for fold, (idx_tr, idx_va) in enumerate(kf.split(X_train, groups=meta.donor)):\n",
    "    \n",
    "    y_va = y_train[idx_va]\n",
    "\n",
    "    corrscore = correlation_score(y_va, y_va_pred)\n",
    "    print(f\"Correlation =  {corrscore:.5f}\")\n",
    "    break"
   ]
  }
 ],
 "metadata": {
  "kernelspec": {
   "display_name": "saturn (Python 3)",
   "language": "python",
   "name": "python3"
  },
  "language_info": {
   "codemirror_mode": {
    "name": "ipython",
    "version": 3
   },
   "file_extension": ".py",
   "mimetype": "text/x-python",
   "name": "python",
   "nbconvert_exporter": "python",
   "pygments_lexer": "ipython3",
   "version": "3.9.13"
  }
 },
 "nbformat": 4,
 "nbformat_minor": 5
}
