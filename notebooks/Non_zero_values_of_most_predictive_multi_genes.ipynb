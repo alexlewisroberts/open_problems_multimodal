{
  "nbformat": 4,
  "nbformat_minor": 0,
  "metadata": {
    "colab": {
      "provenance": []
    },
    "kernelspec": {
      "name": "python3",
      "display_name": "Python 3"
    },
    "language_info": {
      "name": "python"
    }
  },
  "cells": [
    {
      "cell_type": "code",
      "source": [
        "from google.colab import drive\n",
        "drive.mount('/content/drive')\n",
        "%cd drive/MyDrive/bio/"
      ],
      "metadata": {
        "colab": {
          "base_uri": "https://localhost:8080/"
        },
        "id": "o72lhjxOPOj3",
        "outputId": "b924bf4e-f920-4132-8ade-d5b5c625229e"
      },
      "execution_count": null,
      "outputs": [
        {
          "output_type": "stream",
          "name": "stdout",
          "text": [
            "Mounted at /content/drive\n",
            "/content/drive/MyDrive/bio\n"
          ]
        }
      ]
    },
    {
      "cell_type": "code",
      "source": [
        "import scipy.sparse\n",
        "multi_train_x = scipy.sparse.load_npz(\"./sparse/train_multi_inputs_values.sparse.npz\")"
      ],
      "metadata": {
        "id": "XZmlF1zdPEht"
      },
      "execution_count": null,
      "outputs": []
    },
    {
      "cell_type": "code",
      "source": [
        "import numpy as np\n",
        "with np.load('./sparse/train_multi_inputs_idxcol.npz',allow_pickle=True) as data:\n",
        "    cell_columns = data['columns']"
      ],
      "metadata": {
        "id": "RwO0tjciPqhZ"
      },
      "execution_count": null,
      "outputs": []
    },
    {
      "cell_type": "code",
      "source": [
        "my_list = ['chr14:105817718-105818626','chr22:27611910-27612834','chr1:47180897-47181792','chr3:128415902-128416493','chr20:44543967-44544901']\n",
        "for i in my_list:\n",
        "  abc = multi_train_x[:,np.where(cell_columns == i)[0][0]].toarray()\n",
        "  print(np.count_nonzero(abc)/len(abc))\n"
      ],
      "metadata": {
        "colab": {
          "base_uri": "https://localhost:8080/"
        },
        "id": "SSukmMNUP3Cc",
        "outputId": "d507a88c-2d5b-48e4-93b1-72a741b1b6ec"
      },
      "execution_count": null,
      "outputs": [
        {
          "output_type": "stream",
          "name": "stdout",
          "text": [
            "0.12361480810254667\n",
            "0.1170546147892243\n",
            "0.09949783843990108\n",
            "0.035566630797983806\n",
            "0.07034981404919673\n"
          ]
        }
      ]
    }
  ]
}